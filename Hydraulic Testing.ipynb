{
 "cells": [
  {
   "cell_type": "markdown",
   "metadata": {
    "hideCode": false,
    "hidePrompt": false,
    "hide_input": false
   },
   "source": [
    "\n",
    "<font size = 6px, style=\"color:blue\">**Hydraulic Testing:  Pumping Test Evaluation**</font>\n",
    "\n",
    "\n",
    "Prof. habil. Dr.-Ing. Dipl.-Math. Ekkehard Holzbecher\n",
    "\n",
    "*Demo Oude Korendijk \n",
    "(partially adopted and modified from Olsthoorn)* \n",
    "https://notebook.community/Olsthoorn/TransientGroundwaterFlow/excercises_notebooks/Korendijk-ptest-theis\n"
   ]
  },
  {
   "cell_type": "markdown",
   "metadata": {
    "hideCode": false,
    "hidePrompt": false
   },
   "source": [
    "**Brief instruction for non-Pythonists:** The notebook is build of cells that can be read and viewed, but also edited and run. There are different types of cells (see dropdown list at the top ribbon). It is recommended not to edit if you don't know what you are doing! Only those cells indicated as code have to be run (use button at top ribbon). It is convenient to run all cells at start (button: *restart the kernel and re-run the whole notebook*) and to *toggle everything* (button). To re-run a single cell use the *Run* button or press *Shift-Return* keys together. "
   ]
  },
  {
   "cell_type": "markdown",
   "metadata": {
    "hideCode": false,
    "hidePrompt": false,
    "toc": true
   },
   "source": [
    "<h1>Table of Contents<span class=\"tocSkip\"></span></h1>\n",
    "<div class=\"toc\"><ul class=\"toc-item\"><li><span><a href=\"#Introduction\" data-toc-modified-id=\"Introduction-1\"><span class=\"toc-item-num\">1&nbsp;&nbsp;</span>Introduction</a></span></li><li><span><a href=\"#The-Oude-Korendijk-Pumping-Test\" data-toc-modified-id=\"The-Oude-Korendijk-Pumping-Test-2\"><span class=\"toc-item-num\">2&nbsp;&nbsp;</span>The Oude Korendijk Pumping Test</a></span></li><li><span><a href=\"#Interpretation-using-Data-for-Steady-State-Drawdown\" data-toc-modified-id=\"Interpretation-using-Data-for-Steady-State-Drawdown-3\"><span class=\"toc-item-num\">3&nbsp;&nbsp;</span>Interpretation using Data for Steady State Drawdown</a></span><ul class=\"toc-item\"><li><span><a href=\"#Confined-Aquifer\" data-toc-modified-id=\"Confined-Aquifer-3.1\"><span class=\"toc-item-num\">3.1&nbsp;&nbsp;</span>Confined Aquifer</a></span></li><li><span><a href=\"#Unconfined-Aquifer\" data-toc-modified-id=\"Unconfined-Aquifer-3.2\"><span class=\"toc-item-num\">3.2&nbsp;&nbsp;</span>Unconfined Aquifer</a></span></li><li><span><a href=\"#Leaky-Aquifer\" data-toc-modified-id=\"Leaky-Aquifer-3.3\"><span class=\"toc-item-num\">3.3&nbsp;&nbsp;</span>Leaky Aquifer</a></span></li></ul></li><li><span><a href=\"#Unsteady-Data-Input-and-Visualization\" data-toc-modified-id=\"Unsteady-Data-Input-and-Visualization-4\"><span class=\"toc-item-num\">4&nbsp;&nbsp;</span>Unsteady Data Input and Visualization</a></span></li><li><span><a href=\"#Interpretation-based-on-the-Theis-Solution-(Cooper-Jacob)\" data-toc-modified-id=\"Interpretation-based-on-the-Theis-Solution-(Cooper-Jacob)-5\"><span class=\"toc-item-num\">5&nbsp;&nbsp;</span>Interpretation based on the Theis Solution (Cooper-Jacob)</a></span></li><li><span><a href=\"#Classical-Interpretation-using-the-Match-on-Double-Log-Scales\" data-toc-modified-id=\"Classical-Interpretation-using-the-Match-on-Double-Log-Scales-6\"><span class=\"toc-item-num\">6&nbsp;&nbsp;</span>Classical Interpretation using the Match on Double Log Scales</a></span><ul class=\"toc-item\"><li><span><a href=\"#Manual-Fitting\" data-toc-modified-id=\"Manual-Fitting-6.1\"><span class=\"toc-item-num\">6.1&nbsp;&nbsp;</span>Manual Fitting</a></span></li><li><span><a href=\"#Using-the-Interface\" data-toc-modified-id=\"Using-the-Interface-6.2\"><span class=\"toc-item-num\">6.2&nbsp;&nbsp;</span>Using the Interface</a></span><ul class=\"toc-item\"><li><span><a href=\"#Multi-Graph\" data-toc-modified-id=\"Multi-Graph-6.2.1\"><span class=\"toc-item-num\">6.2.1&nbsp;&nbsp;</span>Multi-Graph</a></span></li><li><span><a href=\"#Single-Graph\" data-toc-modified-id=\"Single-Graph-6.2.2\"><span class=\"toc-item-num\">6.2.2&nbsp;&nbsp;</span>Single Graph</a></span></li><li><span><a href=\"#Fit-Measures\" data-toc-modified-id=\"Fit-Measures-6.2.3\"><span class=\"toc-item-num\">6.2.3&nbsp;&nbsp;</span>Fit Measures</a></span></li></ul></li></ul></li><li><span><a href=\"#Parameter-Estimation\" data-toc-modified-id=\"Parameter-Estimation-7\"><span class=\"toc-item-num\">7&nbsp;&nbsp;</span>Parameter Estimation</a></span><ul class=\"toc-item\"><li><span><a href=\"#Confined-Aquifer\" data-toc-modified-id=\"Confined-Aquifer-7.1\"><span class=\"toc-item-num\">7.1&nbsp;&nbsp;</span>Confined Aquifer</a></span></li><li><span><a href=\"#Leaky-Aquifer\" data-toc-modified-id=\"Leaky-Aquifer-7.2\"><span class=\"toc-item-num\">7.2&nbsp;&nbsp;</span>Leaky Aquifer</a></span></li></ul></li><li><span><a href=\"#Conclusion\" data-toc-modified-id=\"Conclusion-8\"><span class=\"toc-item-num\">8&nbsp;&nbsp;</span>Conclusion</a></span></li><li><span><a href=\"#Bibliography\" data-toc-modified-id=\"Bibliography-9\"><span class=\"toc-item-num\">9&nbsp;&nbsp;</span>Bibliography</a></span></li></ul></div>"
   ]
  },
  {
   "cell_type": "markdown",
   "metadata": {
    "hideCode": false,
    "hidePrompt": false
   },
   "source": [
    "## Introduction\n",
    "\n",
    "In a pumping test the drawdown of the water table in a piezometer is recorded, as response to pumping from a nearby well. Pumping tests belong into the common toolbox of hydro-geologists, used to obtain basic parameters for aquifer characterization. It is common practice to determine transmissivity (T) and storativity (S) from fitting 1D-analytical solutions to the observed drawdown. The application of this classical evaluation method is related to various idealized assumptions.\n",
    "\n",
    "The most important ones are listed in the sequel. The aquifer is homogeneous and isotropic, has a constant thickness and has infinite extend. The well is assumed to be ideal, i.e. it is screened over the entire thickness of the aquifer. The well diameter is small. Pumping is performed at constant rate.\n",
    "\n",
    "In 1970 Kruseman & de Ridder published the probably most used and referenced textbook on pumping test evaluations. A translation in German came out in 1973, in French 1974. The book was revised several times. The 1994 version is free available on the internet. The book covers evaluation methods for various types of aquifers and conditions on groundwater wells, including examples with data. In the book the most common method, introduced by Theis (1937), is outlined using a pumping test, performed at a location called the Oude Korendijk in the Netherlands.  "
   ]
  },
  {
   "cell_type": "markdown",
   "metadata": {
    "hideCode": false,
    "hidePrompt": false
   },
   "source": [
    "## The Oude Korendijk Pumping Test"
   ]
  },
  {
   "cell_type": "markdown",
   "metadata": {
    "hideCode": false,
    "hidePrompt": false
   },
   "source": [
    "In a report Wit (1963) describes and evaluates several pumping tests, performed in the Oude Korendijk polder areas. The one most cited test is identified as H2 in the original paper, which was performed on July 10$^{th}$1962. The figure below gives an impression on the type of landscape in polder areas in the Netherlands.    "
   ]
  },
  {
   "cell_type": "markdown",
   "metadata": {
    "hideCode": false,
    "hidePrompt": false
   },
   "source": [
    "<div><img src=\"OKfoto.png\" align=\"center\"/></div>"
   ]
  },
  {
   "cell_type": "markdown",
   "metadata": {
    "hideCode": false,
    "hidePrompt": false
   },
   "source": [
    "The locality south of Rotterdam is shown in the figures below, as depicted by Googlemaps and in the original report (Wit 1963). In the south, at the bottom of the figure, the Rhine river can be identified. The area is criss-crossed by various trenches for drainage.  "
   ]
  },
  {
   "cell_type": "markdown",
   "metadata": {
    "hideCode": false,
    "hidePrompt": false,
    "hide_input": false
   },
   "source": [
    " <tr>\n",
    "    <td> <img src=\"OK1a.png\" width=\"400\" height=\"270\"/> </td>\n",
    "    <td> <img src=\"OK1.png\" width=\"360\" height=\"240\"/> </td>\n",
    " </tr>"
   ]
  },
  {
   "cell_type": "markdown",
   "metadata": {
    "hideCode": false,
    "hidePrompt": false
   },
   "source": [
    "The Oude Korendijk pumping test is a test in a confined, leaky or unconfined setting, which yield a value for the aquifers' transmissivity and its storage coefficient. The following figure depicts a cross sectional view of the geological situation at the site (Wit 1963). The figure text is in Dutch; here some translations: pompput = pumping well, zand = sand, veen = peat, grint = gravel, peilfilter = filter. "
   ]
  },
  {
   "cell_type": "markdown",
   "metadata": {
    "hideCode": false,
    "hidePrompt": false,
    "hide_input": true
   },
   "source": [
    "<div><img src=\"OK2.png\" width=\"720\" align=\"center\"/></div>"
   ]
  },
  {
   "cell_type": "markdown",
   "metadata": {
    "hideCode": false,
    "hidePrompt": false
   },
   "source": [
    "The well was pumped with a constant rate of 768 m$^3$/d. There are four piezometers in the vicinity of the pumping well, which can be taken as observation points. The nearest is only 80 cm away from the well. The other three observation points are located in distances of 30 m, 90 m and 215 m. The following figure shows the locations and final drawdown in the Oude Korendijk pumping test measured after almost 14 hours past pump start."
   ]
  },
  {
   "cell_type": "markdown",
   "metadata": {
    "hideCode": false,
    "hidePrompt": false
   },
   "source": [
    "<div><img src=\"OK3.png\" width=\"720\" align=\"center\"/></div>"
   ]
  },
  {
   "cell_type": "markdown",
   "metadata": {
    "hideCode": false,
    "hidePrompt": false
   },
   "source": [
    "## Interpretation using Data for Steady State Drawdown"
   ]
  },
  {
   "cell_type": "markdown",
   "metadata": {
    "hideCode": false,
    "hidePrompt": false
   },
   "source": [
    "For all evaluations we need the pumping rate, here in physical units m$^3$/d: "
   ]
  },
  {
   "cell_type": "code",
   "execution_count": 1,
   "metadata": {
    "hideCode": false,
    "hidePrompt": false,
    "hide_input": false,
    "scrolled": false
   },
   "outputs": [
    {
     "data": {
      "application/vnd.jupyter.widget-view+json": {
       "model_id": "ab58cfbaebc44b579bb06e8be803a53b",
       "version_major": 2,
       "version_minor": 0
      },
      "text/plain": [
       "BoundedFloatText(value=788.0, description='Pump rate:', disabled=True, max=1000.0, step=1.0)"
      ]
     },
     "metadata": {},
     "output_type": "display_data"
    }
   ],
   "source": [
    "from scipy.special import exp1\n",
    "import numpy as np\n",
    "import matplotlib.pyplot as plt\n",
    "import pandas as pd\n",
    "import ipywidgets as widgets\n",
    "#from IPython.display import display\n",
    "#from IPython.display import HTML\n",
    "#import IPython.core.display as di # Example: di.display_html('<h3>%s:</h3>' % str, raw=True)\n",
    "# This line will hide code by default when the notebook is exported as HTML\n",
    "#di.display_html('<script>jQuery(function() {if (jQuery(\"body.notebook_app\").length == 0) { jQuery(\".input_area\").toggle(); jQuery(\".prompt\").toggle();}});</script>', raw=True)\n",
    "#%matplotlib inline\n",
    "Q = 788.0\n",
    "wQ = widgets.BoundedFloatText(value=788, min=0, max=1000.0, step=1, description='Pump rate:', disabled=True)\n",
    "wQ"
   ]
  },
  {
   "cell_type": "markdown",
   "metadata": {
    "hideCode": false,
    "hidePrompt": false,
    "hide_input": true
   },
   "source": [
    "The input box is disabled as we deal here with the same one pumping test. For the following we need different combinations of two observation locations and the drawdowns measured there. In the boxes below enter distances and final drawdowns from the figure above (in meter)! Defaults are the inputs for the combination of boreholes H30 and H90."
   ]
  },
  {
   "cell_type": "code",
   "execution_count": 2,
   "metadata": {
    "hideCode": false,
    "hidePrompt": false,
    "hide_input": true,
    "scrolled": false
   },
   "outputs": [
    {
     "data": {
      "application/vnd.jupyter.widget-view+json": {
       "model_id": "d4b00d74b7d7464bb5a7c47b380523ea",
       "version_major": 2,
       "version_minor": 0
      },
      "text/plain": [
       "HBox(children=(BoundedFloatText(value=30.0, description='$r_1$:', max=215.0), BoundedFloatText(value=90.0, des…"
      ]
     },
     "metadata": {},
     "output_type": "display_data"
    }
   ],
   "source": [
    "wr1 = widgets.BoundedFloatText(value=30.0, min=0.0, max=215.0, description='$r_1$:', disabled=False)\n",
    "wr2 = widgets.BoundedFloatText(value=90.0, min=0.0, max=215.0, description='$r_2$:', disabled=False)\n",
    "ws1 = widgets.BoundedFloatText(value=1.088, min=0.0, max=3.0, description='$s_1$:', disabled=False)\n",
    "ws2 = widgets.BoundedFloatText(value=0.716, min=0.0, max=3.0, description='$s_2$:', disabled=False)\n",
    "widgets.HBox([wr1,wr2,ws1,ws2]) "
   ]
  },
  {
   "cell_type": "markdown",
   "metadata": {
    "hideCode": false,
    "hidePrompt": false
   },
   "source": [
    "### Confined Aquifer\n",
    "The solution for the steady state drawdown $s$ in a distance $r$ from the pumping well after a long time of pumping was given by Thiem (1906)"
   ]
  },
  {
   "cell_type": "markdown",
   "metadata": {
    "hideCode": false,
    "hidePrompt": false
   },
   "source": [
    "$$ s(r) = -\\frac {Q} {2 \\pi T} \\ln (r)+C $$"
   ]
  },
  {
   "cell_type": "markdown",
   "metadata": {
    "hideCode": false,
    "hidePrompt": false
   },
   "source": [
    "The transmissivity $T$ is a property of the aquifer, characterizing its ability to conduct water. $Q$ denotes the pumping rate. $C$ is an integration constant that emerges due to the solution of a differential equation. If the final drawdown measures $s_1$ and $s_2$ are given at two observation points at different distances $r_1$ and $r_2$, the integration constant can be eliminated and a formula for the transmissivity results: "
   ]
  },
  {
   "cell_type": "markdown",
   "metadata": {
    "hideCode": false,
    "hidePrompt": false,
    "hide_input": false
   },
   "source": [
    "$$ T = \\frac {Q} {2 \\pi (s_1-s_2)} \\ln (r_2/r_1) $$"
   ]
  },
  {
   "cell_type": "markdown",
   "metadata": {
    "hideCode": false,
    "hidePrompt": false
   },
   "source": [
    "In the Oude Korendijk pump test a steady state was not reached. However, the difference between the drawdown values in the two major observation wells remains almost constant. We call this a quasi-steady state, assuming that the difference will be the same, when a stationary situation is reached. Click the button to see the result for transmissivity."
   ]
  },
  {
   "cell_type": "code",
   "execution_count": 3,
   "metadata": {
    "hideCode": false,
    "hidePrompt": false,
    "hide_input": false,
    "scrolled": false
   },
   "outputs": [
    {
     "data": {
      "application/vnd.jupyter.widget-view+json": {
       "model_id": "d50aa6b6ef1a4f97b6b69fa7b8c04a53",
       "version_major": 2,
       "version_minor": 0
      },
      "text/plain": [
       "Button(description='Compute T', style=ButtonStyle())"
      ]
     },
     "metadata": {},
     "output_type": "display_data"
    }
   ],
   "source": [
    "btn = widgets.Button(description='Compute T')\n",
    "display(btn)\n",
    "\n",
    "def btn_eventhandler(obj):\n",
    "    global T1\n",
    "    Q = wQ.value         \n",
    "    r1 = wr1.value; s1 = ws1.value; r2 =wr2.value; s2 = ws2.value  # distances and drawdown \n",
    "    T1 = Q * np.log(r1/r2) / (2*np.pi*(s2-s1))\n",
    "    print('T = {:.0f} m\\u00b2/d'.format(T1))\n",
    "    \n",
    "btn.on_click(btn_eventhandler)     "
   ]
  },
  {
   "cell_type": "markdown",
   "metadata": {
    "hideCode": false,
    "hidePrompt": false
   },
   "source": [
    "In that way for $T$ six different values can be obtained using the different combinations of the observation values. In order to get only one value one may take some average of these. \n",
    "\n",
    "It is much better to find the Thiem curve that fits best with the data values. That can be done by using an optimization algorithm. Here we use linear regression in the semi-logarithmical coordinate system. The results difffer only slighly from results in real world coordinates. Get graphical and numerical results by using the buttons below.      "
   ]
  },
  {
   "cell_type": "code",
   "execution_count": 4,
   "metadata": {
    "hideCode": false,
    "hidePrompt": false,
    "hide_input": false
   },
   "outputs": [
    {
     "data": {
      "application/vnd.jupyter.widget-view+json": {
       "model_id": "ff077d1a48b240debd32f9ddc9316987",
       "version_major": 2,
       "version_minor": 0
      },
      "text/plain": [
       "HBox(children=(Button(description='Confined aquifer fit', style=ButtonStyle()), Checkbox(value=False, descript…"
      ]
     },
     "metadata": {},
     "output_type": "display_data"
    }
   ],
   "source": [
    "%matplotlib inline\n",
    "plt.rcParams[\"figure.figsize\"] = (10,5) \n",
    "\n",
    "rfit = [0.8, 30, 90, 215]\n",
    "srfit = [2.235, 1.088, 0.716, 0.25] \n",
    "\n",
    "def on_wth_clicked(self):\n",
    "    global T1\n",
    "    n = len(rfit); lr = np.log(rfit)        # linear regression\n",
    "    p1 = (n*np.sum(lr*srfit)-np.sum(lr)*np.sum(srfit))/(n*np.sum(lr*lr)-np.sum(lr)**2)\n",
    "    p0 = (sum(srfit)-p1*sum(lr))/n\n",
    "    T = -Q/2/np.pi/p1                       # transmissivity \n",
    "    R = np.exp(-p0/p1)                      # reach\n",
    "    sfit = -Q*(np.log(rfit)-np.log(R))/2/np.pi/T\n",
    "    norms = np.linalg.norm(srfit-sfit)\n",
    "    stdev = np.sqrt(np.mean((srfit-sfit)**2))\n",
    "    rmax = max(rfit); smax = max(srfit)\n",
    "    r = np.arange(.9*min(rfit), rmax, step = rmax/50)\n",
    "    s = -Q*(np.log(r)-np.log(R))/2/np.pi/T\n",
    "    fig = plt.figure(facecolor='w'); ax = fig.add_subplot()\n",
    "    if wca.value: \n",
    "        ax.set_xscale('log'); xtext = 1\n",
    "    else:\n",
    "        xtext = 130\n",
    "    plt.plot (rfit,srfit, 'o', label = 'observation' )\n",
    "    plt.plot (r,s, '.-', label = 'modelled' )\n",
    "    plt.xlabel('distance [m]',fontsize=12)\n",
    "    plt.ylabel('drawdown [m]',fontsize=12)\n",
    "    ax.grid(b=True, c='w', lw=2, ls='-')\n",
    "    plt.legend(loc = 'upper right',fontsize=12)\n",
    "    ax.text (xtext,.7*smax,'$T = %.1f m^2/d$' % (T, ),fontsize=12)\n",
    "    ax.text (xtext,.6*smax,'2-norm = $%.3e $' % (norms, ),fontsize=12)\n",
    "    ax.text (xtext,.5*smax,'stdev = $%.3e $' % (stdev, ),fontsize=12)\n",
    "    plt.title('Pump test: Oude Korendijk, Curve Fitting: Thiem', fontsize=14)\n",
    "    T1 = T\n",
    "\n",
    "wth = widgets.Button(description='Confined aquifer fit')        \n",
    "wth.on_click(on_wth_clicked)   \n",
    "wca = widgets.Checkbox(value=False, description='log', disabled=False, indent=False)\n",
    "widgets.HBox([wth,wca]) "
   ]
  },
  {
   "cell_type": "markdown",
   "metadata": {
    "hideCode": false,
    "hidePrompt": false,
    "hide_input": false
   },
   "source": [
    "The transmissivity is related to the conductivity $K$ of the porous medium in the aquifer by: $T=K \\cdot D$, where $D$ denotes the aquifer thickness. \n",
    "\n",
    "For the computation of the conductivity the aquifer thickness $D$ of the aquifer has to be given. "
   ]
  },
  {
   "cell_type": "code",
   "execution_count": 5,
   "metadata": {
    "hideCode": false,
    "hidePrompt": false,
    "hide_input": true,
    "scrolled": false
   },
   "outputs": [
    {
     "data": {
      "application/vnd.jupyter.widget-view+json": {
       "model_id": "61d5bcc0de0a4ce3b6931822ddcef860",
       "version_major": 2,
       "version_minor": 0
      },
      "text/plain": [
       "BoundedFloatText(value=7.0, description='Thickness:', max=15.0, min=1.0, step=1.5)"
      ]
     },
     "metadata": {},
     "output_type": "display_data"
    }
   ],
   "source": [
    "wD = widgets.BoundedFloatText(value=7, min=1, max=15.0, step=1.5, description='Thickness:', disabled=False)\n",
    "wD"
   ]
  },
  {
   "cell_type": "markdown",
   "metadata": {
    "hideCode": false,
    "hidePrompt": false,
    "hide_input": true
   },
   "source": [
    " Obtain the result for the hydraulic conductivity of the porous medium by clicking the button. "
   ]
  },
  {
   "cell_type": "code",
   "execution_count": 6,
   "metadata": {
    "hideCode": false,
    "hidePrompt": false,
    "hide_input": true,
    "scrolled": true
   },
   "outputs": [
    {
     "data": {
      "application/vnd.jupyter.widget-view+json": {
       "model_id": "af5a5a6f7d9f411cabe5ce3cfcfc797f",
       "version_major": 2,
       "version_minor": 0
      },
      "text/plain": [
       "Button(description='Compute K', style=ButtonStyle())"
      ]
     },
     "metadata": {},
     "output_type": "display_data"
    }
   ],
   "source": [
    "btn = widgets.Button(description='Compute K')\n",
    "display(btn)\n",
    "\n",
    "def btn_eventhandler(obj):\n",
    "    global T1\n",
    "    print('K = {:.0f} m/d'.format(T1/wD.value))\n",
    "    \n",
    "btn.on_click(btn_eventhandler)      "
   ]
  },
  {
   "cell_type": "markdown",
   "metadata": {
    "hideCode": false,
    "hidePrompt": false,
    "hide_input": true
   },
   "source": [
    "### Unconfined Aquifer \n",
    "The Thiem formula shown above holds for a confined aquifer. An analogous derivation derivation can be performed for an unconfined aquifer. The formula for the hydraulic head is:"
   ]
  },
  {
   "cell_type": "markdown",
   "metadata": {
    "hideCode": false,
    "hidePrompt": false
   },
   "source": [
    "$$ h^2(r) = \\frac {Q} {\\pi K} \\ln (r)+C $$"
   ]
  },
  {
   "cell_type": "markdown",
   "metadata": {
    "hideCode": false,
    "hidePrompt": false
   },
   "source": [
    "where $h$ denotes the piezometric head, measured from the aquifer base. From this one obtains: "
   ]
  },
  {
   "cell_type": "markdown",
   "metadata": {
    "hideCode": false,
    "hidePrompt": false,
    "hide_input": false
   },
   "source": [
    "$$ K = \\frac {Q} {\\pi (h_2^2-h_1^2)} \\ln (r_2/r_1) $$"
   ]
  },
  {
   "cell_type": "markdown",
   "metadata": {
    "hideCode": false,
    "hidePrompt": false
   },
   "source": [
    "For the calculation the constant initial head is required. Enter it here: "
   ]
  },
  {
   "cell_type": "code",
   "execution_count": 7,
   "metadata": {
    "hideCode": false,
    "hidePrompt": false,
    "hide_input": true,
    "scrolled": false
   },
   "outputs": [
    {
     "data": {
      "application/vnd.jupyter.widget-view+json": {
       "model_id": "222d382a4e6c44a6bf7ba84c79e3a84d",
       "version_major": 2,
       "version_minor": 0
      },
      "text/plain": [
       "BoundedFloatText(value=7.0, description='Initial head:', max=15.0, min=1.0, step=1.5)"
      ]
     },
     "metadata": {},
     "output_type": "display_data"
    }
   ],
   "source": [
    "wH = widgets.BoundedFloatText(value=7, min=1, max=15.0, step=1.5, description='Initial head:', disabled=False)\n",
    "wH"
   ]
  },
  {
   "cell_type": "markdown",
   "metadata": {
    "hideCode": false,
    "hidePrompt": false
   },
   "source": [
    " and obtain the result by clicking the button. "
   ]
  },
  {
   "cell_type": "code",
   "execution_count": 8,
   "metadata": {
    "hideCode": false,
    "hidePrompt": false,
    "hide_input": false,
    "scrolled": false
   },
   "outputs": [
    {
     "data": {
      "application/vnd.jupyter.widget-view+json": {
       "model_id": "89d75d973f9d4736b01cdbac398095b1",
       "version_major": 2,
       "version_minor": 0
      },
      "text/plain": [
       "Button(description='Compute K', style=ButtonStyle())"
      ]
     },
     "metadata": {},
     "output_type": "display_data"
    }
   ],
   "source": [
    "btn = widgets.Button(description='Compute K')\n",
    "display(btn)\n",
    "\n",
    "def btn_eventhandler(obj):\n",
    "    r1 = wr1.value; s1 = ws1.value; r2 =wr2.value; s2 = ws2.value  # distances and drawdown \n",
    "    h1 = wH.value-s1; h2 = wH.value-s2\n",
    "    K1 = Q * np.log(r2/r1) / np.pi / (h2**2-h1**2)\n",
    "    print('K = {:.0f} m/d'.format(K1))\n",
    "    \n",
    "btn.on_click(btn_eventhandler)     "
   ]
  },
  {
   "cell_type": "markdown",
   "metadata": {
    "hideCode": false,
    "hidePrompt": false
   },
   "source": [
    "Also for this pumping we don't know the exact value of the initial head. Change its value and see the effect on the resulting conductivity! \n",
    "Compare the result with the conductivities that results from the Thiem evaluation for the confined aquifer, identifying the aquifer thickness with the initial head."
   ]
  },
  {
   "cell_type": "markdown",
   "metadata": {
    "hideCode": false,
    "hidePrompt": false
   },
   "source": [
    "**Task**: Use the Thiem evaluation for the steady state taking the measurements at the near and far observation points also into consideration. Examine results for different pairs of observations!  \n",
    "\n",
    "Lets calculate the hydraulic conductivity from a best fit using all four measured drawdown values. Again we use linear regression in semi-logarithmic coordinates. Click the button!"
   ]
  },
  {
   "cell_type": "code",
   "execution_count": 9,
   "metadata": {
    "hideCode": false,
    "hidePrompt": false,
    "hide_input": true
   },
   "outputs": [
    {
     "data": {
      "application/vnd.jupyter.widget-view+json": {
       "model_id": "fd1f2fd72f664196940a6778f4a8dc20",
       "version_major": 2,
       "version_minor": 0
      },
      "text/plain": [
       "HBox(children=(Button(description='Unconfined aquifer fit', style=ButtonStyle()), Checkbox(value=False, descri…"
      ]
     },
     "metadata": {},
     "output_type": "display_data"
    }
   ],
   "source": [
    "%matplotlib inline\n",
    "plt.rcParams[\"figure.figsize\"] = (10,5) \n",
    "\n",
    "rfit = np.array([0.8, 30, 90, 215])\n",
    "srfit = np.array([2.235, 1.088, 0.716, 0.25]) \n",
    "\n",
    "def on_wth2_clicked(self):\n",
    "    h0 = wH.value                       \n",
    "    if h0 < 8.5:                # from  MATLAB lsqcurvefit using real world coordinates\n",
    "        K = 64.0; R = 854.4                 # h0 = 7\n",
    "    else:\n",
    "        if h0 > 8.5:\n",
    "            K = 41.6; R = 749.8             # h0 = 10\n",
    "        else:\n",
    "            K = 50.4; R = 789.1             # h0 = 8.5\n",
    "    \n",
    "    srfit = np.array([2.235, 1.088, 0.716, 0.25]) \n",
    "    h2fit = (h0-srfit)**2                   # linear regression\n",
    "    n = len(rfit); lr = np.log(rfit)        \n",
    "    p1 = (n*np.sum(lr*h2fit)-np.sum(lr)*np.sum(h2fit))/(n*np.sum(lr*lr)-np.sum(lr)**2)\n",
    "    p0 = (sum(h2fit)-p1*sum(lr))/n\n",
    "    K = Q/np.pi/p1                          # conductivity \n",
    "    R = np.exp((h0*h0-p0)/p1)                      # reach\n",
    "    hrfit = h0 - srfit \n",
    "    hfit = np.sqrt(h0*h0+Q*(np.log(rfit)-np.log(R))/np.pi/K)\n",
    "    norms = np.linalg.norm(hrfit-hfit)\n",
    "    stdev = np.sqrt(np.mean((hrfit-hfit)**2))\n",
    "    rmax = max(rfit); smax = max(srfit)\n",
    "    r = np.arange(.9*min(rfit), rmax, step = rmax/50)\n",
    "    h = np.sqrt(h0*h0+Q*(np.log(r)-np.log(R))/np.pi/K)\n",
    "    fig = plt.figure(facecolor='w'); ax = fig.add_subplot()\n",
    "    if wca2.value: \n",
    "        ax.set_xscale('log'); xtext = 1; ytext = h0-smax;\n",
    "    else:\n",
    "        xtext = 130; ytext = h0-1.3*smax \n",
    "    plt.plot (rfit,hrfit, 'o', label = 'observation' )\n",
    "    plt.plot (r,h, '.-', label = 'modelled' )\n",
    "    plt.xlabel('distance [m]',fontsize=12)\n",
    "    plt.ylabel('groundwater table [m]',fontsize=12)\n",
    "    ax.grid(b=True, c='w', lw=2, ls='-')\n",
    "    plt.legend(loc = 'lower right',fontsize=12)\n",
    "    \n",
    "    ax.text (xtext,ytext+.7*smax,'$K = %.1f m/d$' % (K, ),fontsize=12)\n",
    "    ax.text (xtext,ytext+.6*smax,'2-norm = $%.3e $' % (norms, ),fontsize=12)\n",
    "    ax.text (xtext,ytext+.5*smax,'stdev = $%.3e $' % (stdev, ),fontsize=12)\n",
    "    plt.title('Pump test: Oude Korendijk, Curve Fitting: Thiem', fontsize=14)\n",
    "\n",
    "wth2 = widgets.Button(description='Unconfined aquifer fit')        \n",
    "wth2.on_click(on_wth2_clicked)   \n",
    "wca2 = widgets.Checkbox(value=False, description='log', disabled=False, indent=False)\n",
    "widgets.HBox([wth2,wca2]) "
   ]
  },
  {
   "cell_type": "markdown",
   "metadata": {
    "hideCode": false,
    "hidePrompt": false,
    "hide_input": false
   },
   "source": [
    "### Leaky Aquifer\n",
    "Kooper (1914) and de Glee (1930) developed an expression for the steady drawdown in a leaky aquifer. The overlying semi-permeable layer is characterized by its vertical flow resistance $c$, which has the unit of time. The formula is:  "
   ]
  },
  {
   "cell_type": "markdown",
   "metadata": {
    "hideCode": false,
    "hidePrompt": false
   },
   "source": [
    "$$ s(r) = \\frac{Q}{2 \\pi T} K_0(\\frac{r}{\\sqrt{Tc}}) $$"
   ]
  },
  {
   "cell_type": "markdown",
   "metadata": {
    "hideCode": false,
    "hidePrompt": false
   },
   "source": [
    "where $K_0$ denotes the modified Bessel function 2. type 0. order. We can obtain values for the two parameters $T$ and $c$ by fitting to the measurements at all four locations using the method of least squares. This is done running the following cell."
   ]
  },
  {
   "cell_type": "code",
   "execution_count": 10,
   "metadata": {
    "hideCode": false,
    "hidePrompt": false,
    "hide_input": false,
    "scrolled": false
   },
   "outputs": [
    {
     "data": {
      "application/vnd.jupyter.widget-view+json": {
       "model_id": "e0135be27b9e4367a3817d686e3d0730",
       "version_major": 2,
       "version_minor": 0
      },
      "text/plain": [
       "HBox(children=(Button(description='Leaky aquifer fit', style=ButtonStyle()), Checkbox(value=False, description…"
      ]
     },
     "metadata": {},
     "output_type": "display_data"
    }
   ],
   "source": [
    "from scipy.optimize import fmin\n",
    "from scipy.special import kn as besselk\n",
    "%matplotlib inline\n",
    "plt.rcParams[\"figure.figsize\"] = (10,5) \n",
    "\n",
    "rfit = [0.8, 30, 90, 215]\n",
    "srfit = [2.235, 1.088, 0.716, 0.25] \n",
    "T2 = 500\n",
    "\n",
    "def deGlee (x):\n",
    "    T = x[0]; c = x[1]\n",
    "    u = rfit/np.sqrt(T*c)\n",
    "    s = Q*besselk(0,u)/2/np.pi/T\n",
    "    res = (s-srfit)\n",
    "    return sum(res*res)\n",
    "\n",
    "def on_wdg_clicked(self):\n",
    "    global T2\n",
    "    c = 500\n",
    "    n = len(rfit); lr = np.log(rfit)  \n",
    "    T = (n*np.sum(lr*srfit)-np.sum(lr)*np.sum(srfit))/(n*np.sum(lr*lr)-np.sum(lr)**2)\n",
    "    T = -Q/2/np.pi/T                       # transmissivity initial guess [L^2/T]\n",
    "    [Tfit,cfit] = fmin(deGlee, [T,c]) \n",
    "\n",
    "    sfit = Q*besselk(0,rfit/np.sqrt(Tfit*cfit))/2/np.pi/Tfit\n",
    "    norms = np.linalg.norm(srfit-sfit)\n",
    "    stdev = np.sqrt(np.mean((srfit-sfit)**2))\n",
    "    rmax = max(rfit); smax = max(srfit)\n",
    "    r = np.arange(.9*min(rfit), rmax, step = rmax/50)\n",
    "    s = Q/2/np.pi/T*besselk(0,r/np.sqrt(Tfit*cfit))\n",
    "    fig = plt.figure(facecolor='w'); ax = fig.add_subplot()\n",
    "    if wcb.value: \n",
    "        ax.set_xscale('log'); xtext = 1\n",
    "    else:\n",
    "        xtext = 130\n",
    "    plt.plot (rfit,srfit, 'o', label = 'observation' )\n",
    "    plt.plot (r,s, '.-', label = 'modelled' )\n",
    "    plt.xlabel('distance [m]',fontsize=12)\n",
    "    plt.ylabel('drawdown [m]',fontsize=12)\n",
    "    ax.grid(b=True, c='w', lw=2, ls='-')\n",
    "    plt.legend(loc = 'upper right',fontsize=12)\n",
    "    ax.text (xtext,.7*smax,'$T = %.1f m^2/d$' % (Tfit, ),fontsize=12)\n",
    "    ax.text (xtext,.6*smax,'$c =%.0f d$' % (cfit, ),fontsize=12)\n",
    "    ax.text (xtext,.5*smax,'2-norm = $%.3e $' % (norms, ),fontsize=12)\n",
    "    ax.text (xtext,.4*smax,'stdev = $%.3e $' % (stdev, ),fontsize=12)\n",
    "    plt.title('Pump test: Oude Korendijk, Curve Fitting: de Glee', fontsize = 14)\n",
    "    T2 = Tfit\n",
    "\n",
    "wdg = widgets.Button(description='Leaky aquifer fit')        \n",
    "wdg.on_click(on_wdg_clicked)   \n",
    "wcb = widgets.Checkbox(value=False, description='log', disabled=False, indent=False)\n",
    "widgets.HBox([wdg,wcb]) "
   ]
  },
  {
   "cell_type": "markdown",
   "metadata": {
    "hideCode": false,
    "hidePrompt": false,
    "hide_input": false
   },
   "source": [
    "Again we can obtain the hydraulic conductivity $K$ if the aquifer thickness is known:  "
   ]
  },
  {
   "cell_type": "code",
   "execution_count": 11,
   "metadata": {
    "hideCode": false,
    "hidePrompt": false,
    "hide_input": false,
    "scrolled": true
   },
   "outputs": [
    {
     "data": {
      "application/vnd.jupyter.widget-view+json": {
       "model_id": "cfc1faaf9c8745f7b6a7b5d86a88f448",
       "version_major": 2,
       "version_minor": 0
      },
      "text/plain": [
       "BoundedFloatText(value=7.0, description='Thickness:', max=15.0, min=1.0, step=1.5)"
      ]
     },
     "metadata": {},
     "output_type": "display_data"
    }
   ],
   "source": [
    "wD2 = widgets.BoundedFloatText(value=7, min=1, max=15.0, step=1.5, description='Thickness:', disabled=False)\n",
    "wD2"
   ]
  },
  {
   "cell_type": "markdown",
   "metadata": {
    "hideCode": false,
    "hidePrompt": false
   },
   "source": [
    " Obtain the result by clicking the button. "
   ]
  },
  {
   "cell_type": "code",
   "execution_count": 12,
   "metadata": {
    "hideCode": false,
    "hidePrompt": false,
    "hide_input": true,
    "scrolled": true
   },
   "outputs": [
    {
     "data": {
      "application/vnd.jupyter.widget-view+json": {
       "model_id": "51d843a4b10c46dcb64a45c61b16c035",
       "version_major": 2,
       "version_minor": 0
      },
      "text/plain": [
       "Button(description='Compute K', style=ButtonStyle())"
      ]
     },
     "metadata": {},
     "output_type": "display_data"
    }
   ],
   "source": [
    "btn = widgets.Button(description='Compute K')\n",
    "display(btn)\n",
    "\n",
    "def btn_eventhandler(obj):    \n",
    "    print('K = {:.0f} m/d'.format(T2/wD2.value))\n",
    "\n",
    "btn.on_click(btn_eventhandler) "
   ]
  },
  {
   "cell_type": "markdown",
   "metadata": {
    "hideCode": false,
    "hidePrompt": false
   },
   "source": [
    "## Unsteady Data Input and Visualization"
   ]
  },
  {
   "cell_type": "markdown",
   "metadata": {
    "hideCode": false,
    "hidePrompt": false
   },
   "source": [
    "Our focus will be on the two observation points at intermediate distances, i.e 30 and 90 m away from the pumping well. The one in direct vicinity may be influenced by local conditions around the well, which may be disturbed due to the drilling and installation of the well and the so called skin effect. The most distant observation point may be influenced by boundary conditions. The polders in the Netherlands are surrounded by surface water bodies, the Rhine river and trenches filled by drainage water.  "
   ]
  },
  {
   "cell_type": "markdown",
   "metadata": {
    "hideCode": false,
    "hidePrompt": false,
    "hide_input": false
   },
   "source": [
    "The following figures show the drawdown measurements at the two intermediate observation points: observation H30 for the one in 30 m distance, observation H90 for the one in 90 m distance. The data for the pumping test are read into this notebook.  "
   ]
  },
  {
   "cell_type": "code",
   "execution_count": 13,
   "metadata": {
    "hideCode": false,
    "hidePrompt": false,
    "hide_input": true,
    "jupyter": {
     "outputs_hidden": false
    },
    "scrolled": false
   },
   "outputs": [
    {
     "name": "stdout",
     "output_type": "stream",
     "text": [
      "Data ready\n"
     ]
    }
   ],
   "source": [
    "df = pd.DataFrame(columns=['t1','s1','t2','s2'])\n",
    "\n",
    "#def on_wini_clicked(self):\n",
    "#      y = pd.read_excel('ok.xlsx',header=None)               \n",
    "#      df['t1'] = y[0].dropna()/60; df['s1'] = y[1].dropna() \n",
    "#      df['t2'] = y[2].dropna()/60; df['s2'] = y[3].dropna()\n",
    "df['t1'] =[6,15,30,42,60,84,114,139.8,168,201.6,240,321,408,498,522,600,786, \n",
    "           1080,1620,1980,2460,2880,3540,4800,5700,8340,10860,14700,18000,21600,\n",
    "           28800,36000,43680,49800,50000]                # time in seconds!\n",
    "df['s1'] =[0.04,0.08,0.13,0.18,0.23,0.28,0.33,0.36,0.39,0.42,0.45,0.5,0.54,0.57,\n",
    "           0.58,0.6,0.64,0.68,0.742,0.753,0.779,0.793,0.819,0.855,0.873,0.915,\n",
    "           0.935,0.966,0.99,1.007,1.05,1.053,1.072,1.088,1.088]\n",
    "df['t2'] =[90,120,129.6,159.6,180,210,240,259.8,330,360,450,540,780,900,1080,\n",
    "           1500,1800,2400,3180,3600,4500,5400,6300,7200,9000,10800,14880,18060,\n",
    "           21780,25320,32520,36120,40800,47100,50700]\n",
    "df['s2'] =[0.015,0.021,0.023,0.044,0.054,.075,.09,.104,.133,.153,.178,.206,.25,\n",
    "           .275,.305,.348,.364,.404,.429,.444,.467,.494,.507,.528,.55,.569,.593,\n",
    "           .614,.636,.657,.679,.688,.701,.718,.716]\n",
    "df['t1'] = df['t1']/60\n",
    "df['t2'] = df['t2']/60\n",
    "print ('Data ready')\n",
    "global kD, Sc\n",
    "    \n",
    "#wini = widgets.Button(description='Input data')        \n",
    "#wini.on_click(on_wini_clicked) \n",
    "#wini   "
   ]
  },
  {
   "cell_type": "markdown",
   "metadata": {
    "hideCode": false,
    "hidePrompt": false,
    "hide_input": false
   },
   "source": [
    "Let's see how the data look like. "
   ]
  },
  {
   "cell_type": "code",
   "execution_count": 14,
   "metadata": {
    "hideCode": false,
    "hidePrompt": false,
    "hide_input": true,
    "jupyter": {
     "outputs_hidden": false
    },
    "scrolled": false
   },
   "outputs": [
    {
     "data": {
      "application/vnd.jupyter.widget-view+json": {
       "model_id": "2419cd60251847ffb4df7c1e5a2c5423",
       "version_major": 2,
       "version_minor": 0
      },
      "text/plain": [
       "VBox(children=(Button(description='Plot data', style=ButtonStyle()),))"
      ]
     },
     "metadata": {},
     "output_type": "display_data"
    }
   ],
   "source": [
    "def on_wp0_clicked(self):\n",
    "    plt.rcParams[\"figure.figsize\"] = (10,5) \n",
    "    fig = plt.figure(facecolor='w'); ax = fig.add_subplot()\n",
    "    plt.plot (df['t1'],df['s1'], '.-', label = 'observation H30' )\n",
    "    plt.plot (df['t2'],df['s2'], '.-', label = 'observation H90' )\n",
    "    plt.title('Oude Korendijk pumping test measured drawdowns',fontsize=14)\n",
    "    plt.xlabel('time [min]',fontsize=12)\n",
    "    plt.ylabel('drawdown [m]',fontsize=12)\n",
    "    plt.grid()\n",
    "    plt.legend(loc = 'lower right',fontsize=12);\n",
    "    \n",
    "wp0 = widgets.Button(description='Plot data')        \n",
    "wp0.on_click(on_wp0_clicked)   \n",
    "widgets.VBox([wp0])    "
   ]
  },
  {
   "cell_type": "markdown",
   "metadata": {
    "hideCode": false,
    "hidePrompt": false
   },
   "source": [
    "Obviously a steady state has not been reached at the end of the pump test. The visual inspection of the plot indicates that there is a constant difference between the drawdowns in the two observation wells. This would justify the application of the Thiem evaluation, as there only the difference counts. We call this situation either quasi steady-state or steady slope. Lets check the difference in a graph. "
   ]
  },
  {
   "cell_type": "code",
   "execution_count": 15,
   "metadata": {
    "hideCode": false,
    "hidePrompt": false,
    "hide_input": false,
    "jupyter": {
     "outputs_hidden": false
    },
    "scrolled": false
   },
   "outputs": [
    {
     "data": {
      "application/vnd.jupyter.widget-view+json": {
       "model_id": "2a6c58d74bbb4b44b66268bf40952b04",
       "version_major": 2,
       "version_minor": 0
      },
      "text/plain": [
       "VBox(children=(Button(description='Drawdown difference', style=ButtonStyle()),))"
      ]
     },
     "metadata": {},
     "output_type": "display_data"
    }
   ],
   "source": [
    "from scipy.interpolate import interp1d\n",
    "\n",
    "def on_wp1_clicked(self):\n",
    "    plt.rcParams[\"figure.figsize\"] = (10,5) \n",
    "    fig = plt.figure(facecolor='w'); ax = fig.add_subplot()\n",
    "    f30 = interp1d(df['t1'],df['s1']); f90 = interp1d(df['t2'],df['s2'])\n",
    "    t = np.arange(6,780.0,step=1)\n",
    "    plt.plot (t, f30(t)-f90(t), 'g', label = 'H30-H90' )\n",
    "    plt.title('Drawdown difference',fontsize=14)\n",
    "    plt.xlabel('time [min]',fontsize=12)\n",
    "    plt.ylabel('drawdown difference [m]',fontsize=12)\n",
    "    plt.ylim ([0., 0.6])\n",
    "    plt.grid()\n",
    "    plt.legend(loc = 'lower right',fontsize=12);\n",
    "    \n",
    "wp1 = widgets.Button(description='Drawdown difference')        \n",
    "wp1.on_click(on_wp1_clicked)   \n",
    "widgets.VBox([wp1])    "
   ]
  },
  {
   "cell_type": "markdown",
   "metadata": {
    "hideCode": false,
    "hidePrompt": false,
    "hide_input": true
   },
   "source": [
    "One can visualize the same data using log scale for time: "
   ]
  },
  {
   "cell_type": "code",
   "execution_count": 16,
   "metadata": {
    "hideCode": false,
    "hidePrompt": false,
    "hide_input": false,
    "scrolled": false
   },
   "outputs": [
    {
     "data": {
      "application/vnd.jupyter.widget-view+json": {
       "model_id": "71cb33024539452787af047080eca67f",
       "version_major": 2,
       "version_minor": 0
      },
      "text/plain": [
       "VBox(children=(Button(description='Plot log scale', style=ButtonStyle()),))"
      ]
     },
     "metadata": {},
     "output_type": "display_data"
    }
   ],
   "source": [
    "def on_wp2_clicked(self):\n",
    "    plt.rcParams[\"figure.figsize\"] = (10,5) \n",
    "    fig = plt.figure(facecolor='w'); ax = fig.add_subplot()\n",
    "    ax.set_xscale('log')\n",
    "    plt.plot (df['t1'],df['s1'], '.-', label = 'observation H30' )\n",
    "    plt.plot (df['t2'],df['s2'], '.-', label = 'observation H90' )\n",
    "    plt.title('Oude Korendijk pumping test measured drawdowns',fontsize=14)\n",
    "    plt.xlabel('time [min]',fontsize=12)\n",
    "    plt.ylabel('drawdown [m]',fontsize=12)\n",
    "    plt.grid()\n",
    "    plt.legend(loc = 'lower right',fontsize=12);\n",
    "\n",
    "wp2 = widgets.Button(description='Plot log scale')        \n",
    "wp2.on_click(on_wp2_clicked)   \n",
    "widgets.VBox([wp2]) "
   ]
  },
  {
   "cell_type": "markdown",
   "metadata": {
    "hideCode": false,
    "hidePrompt": false,
    "hide_input": true
   },
   "source": [
    "The same in the loglog system, with logarithmic scale on both axes:"
   ]
  },
  {
   "cell_type": "code",
   "execution_count": 17,
   "metadata": {
    "hideCode": false,
    "hidePrompt": false,
    "hide_input": true,
    "scrolled": false
   },
   "outputs": [
    {
     "data": {
      "application/vnd.jupyter.widget-view+json": {
       "model_id": "5ef451e880e84997a23275b39510f77d",
       "version_major": 2,
       "version_minor": 0
      },
      "text/plain": [
       "VBox(children=(Button(description='Plot loglog scale', style=ButtonStyle()),))"
      ]
     },
     "metadata": {},
     "output_type": "display_data"
    }
   ],
   "source": [
    "def on_wp3_clicked(self):\n",
    "    plt.rcParams[\"figure.figsize\"] = (10,5) \n",
    "    fig = plt.figure(facecolor='w'); ax = fig.add_subplot()\n",
    "    ax.set_xscale('log'); ax.set_yscale('log')\n",
    "    plt.plot (df['t1'],df['s1'], '.-', label = 'observation H30' )\n",
    "    plt.plot (df['t2'],df['s2'], '.-', label = 'observation H90' )\n",
    "    plt.title('Oude Korendijk pumping test measured drawdowns',fontsize=14)\n",
    "    plt.xlabel('time [min]',fontsize=12)\n",
    "    plt.ylabel('drawdown [m]',fontsize=12)\n",
    "    plt.grid()\n",
    "    plt.legend(loc = 'lower right',fontsize=12);\n",
    "    \n",
    "wp3 = widgets.Button(description='Plot loglog scale')        \n",
    "wp3.on_click(on_wp3_clicked)   \n",
    "widgets.VBox([wp3])     "
   ]
  },
  {
   "cell_type": "markdown",
   "metadata": {
    "hideCode": false,
    "hidePrompt": false
   },
   "source": [
    "For a comparison of the two curves it is convenient to visualize in double log scale using $t/r^2$ on $x$-axis. "
   ]
  },
  {
   "cell_type": "code",
   "execution_count": 18,
   "metadata": {
    "hideCode": false,
    "hidePrompt": false,
    "hide_input": true,
    "scrolled": false
   },
   "outputs": [
    {
     "data": {
      "application/vnd.jupyter.widget-view+json": {
       "model_id": "cfdc9b68f56648f18fe8bcc3e38faad7",
       "version_major": 2,
       "version_minor": 0
      },
      "text/plain": [
       "VBox(children=(Button(description='Plot t/r/r scale', style=ButtonStyle()),))"
      ]
     },
     "metadata": {},
     "output_type": "display_data"
    }
   ],
   "source": [
    "def on_wp4_clicked(self):\n",
    "    plt.rcParams[\"figure.figsize\"] = (10,5) \n",
    "    fig = plt.figure(facecolor='w'); ax = fig.add_subplot()\n",
    "    ax.set_xscale('log')\n",
    "    plt.plot (df['t1']/30/30,df['s1'], '.-', label = 'observation H30' )\n",
    "    plt.plot (df['t2']/90/90,df['s2'], '.-', label = 'observation H90' )\n",
    "    plt.title('Oude Korendijk pumping test measured drawdowns',fontsize=14)\n",
    "    plt.xlabel('$t/r^2$ [min/m$^2$]',fontsize=12)\n",
    "    plt.ylabel('drawdown [m]',fontsize=12)\n",
    "    plt.grid()\n",
    "    plt.legend(loc = 'lower right',fontsize=12);\n",
    "\n",
    "wp4 = widgets.Button(description='Plot t/r/r scale')        \n",
    "wp4.on_click(on_wp4_clicked)   \n",
    "widgets.VBox([wp4]) "
   ]
  },
  {
   "cell_type": "markdown",
   "metadata": {
    "hideCode": false,
    "hidePrompt": false
   },
   "source": [
    "## Interpretation based on the Theis Solution (Cooper-Jacob)"
   ]
  },
  {
   "cell_type": "markdown",
   "metadata": {
    "hideCode": false,
    "hidePrompt": false
   },
   "source": [
    "The solution for the unsteady drawdown due to a single well with fully penetrating screen in a uniform aquifer of infinite extent was first published by Theis (1935), using a mathematical derivation by Lubin, transfered in private communication. The solution revolutioned the science of hydrology (White & Clebsch 1994). The solution for drawdown $s$ as function of distance from the pumping well $r$ and time $t$ is given by:"
   ]
  },
  {
   "cell_type": "markdown",
   "metadata": {
    "hideCode": false,
    "hidePrompt": false
   },
   "source": [
    "$$ s(r, t) = \\frac Q {4 \\pi T} W(u),\\,\\,\\,\\, u = \\frac {r^2 S} {4 T t}$$"
   ]
  },
  {
   "cell_type": "markdown",
   "metadata": {
    "hideCode": false,
    "hidePrompt": false
   },
   "source": [
    "where $T$ denotes the transmissivity, $S$ the storage coefficient, and $Q$ the pumping rate. $W$ is the well function, in mathematical literature known as exponential integral. For evaluations before computers became generally available, is was handy to utilize simpler approximations for the well function. Cooper & Jacob (1946) proposed:    "
   ]
  },
  {
   "cell_type": "markdown",
   "metadata": {
    "hideCode": false,
    "hidePrompt": false
   },
   "source": [
    "$$ W(u) \\approx -0.2557 - \\ln(u) $$"
   ]
  },
  {
   "cell_type": "markdown",
   "metadata": {
    "hideCode": false,
    "hidePrompt": false
   },
   "source": [
    "which is a good approximation for $u \\le 0.01$ that is valid for long enough times and/or small enough distances from the well:"
   ]
  },
  {
   "cell_type": "markdown",
   "metadata": {
    "hideCode": false,
    "hidePrompt": false
   },
   "source": [
    "$$ s(r, t) \\approx \\frac {Q} {4 \\pi T} \\ln \\left( \\frac {2.25 T t} {r^2 S} \\right) $$ "
   ]
  },
  {
   "cell_type": "markdown",
   "metadata": {
    "hideCode": false,
    "hidePrompt": false
   },
   "source": [
    "$\\ln$ denotes the natural logarithm. The formula can be modified for the decadic logarithm: "
   ]
  },
  {
   "cell_type": "markdown",
   "metadata": {
    "hideCode": false,
    "hidePrompt": false
   },
   "source": [
    "$$ s(r,t) = \\frac {2.3 Q} {4 \\pi T} \\log \\left( \\frac {2.25 T t} {r^2 S} \\right) $$"
   ]
  },
  {
   "cell_type": "markdown",
   "metadata": {
    "hideCode": false,
    "hidePrompt": false
   },
   "source": [
    "For the observation point H30 determine the drawdown per log cycle from the double-log graph with $t/r^2$ axis $\\approx (1.1 - 0.21) / 3 \\approx 0.30 $"
   ]
  },
  {
   "cell_type": "markdown",
   "metadata": {
    "hideCode": false,
    "hidePrompt": false
   },
   "source": [
    "$$ \\Delta s = s_{10t} - s_t = \\frac {2.3 Q} {4 \\pi T} $$"
   ]
  },
  {
   "cell_type": "markdown",
   "metadata": {
    "hideCode": false,
    "hidePrompt": false
   },
   "source": [
    "or, resolved for $T$:"
   ]
  },
  {
   "cell_type": "markdown",
   "metadata": {
    "hideCode": false,
    "hidePrompt": false
   },
   "source": [
    "$$ T = \\frac {2.3 Q} {4 \\pi \\Delta s} $$"
   ]
  },
  {
   "cell_type": "markdown",
   "metadata": {
    "hideCode": false,
    "hidePrompt": false
   },
   "source": [
    "Notice that it doesn't matter in what dimension time is, at it drops out of the drawdown at $10t$ is compared with that at $t$. Therefore, with $Q$ = 788 m$^3$/d, one gets"
   ]
  },
  {
   "cell_type": "code",
   "execution_count": 19,
   "metadata": {
    "hideCode": false,
    "hidePrompt": false,
    "hide_input": true,
    "jupyter": {
     "outputs_hidden": false
    },
    "scrolled": true
   },
   "outputs": [
    {
     "name": "stdout",
     "output_type": "stream",
     "text": [
      "T = 486 m²/d\n"
     ]
    }
   ],
   "source": [
    "ds = (1.1 - 0.21) / 3 # drawdown increase per log cycle of time\n",
    "kD = 2.3 * Q / (4 * np.pi * ds)\n",
    "print('T = {:.0f}'.format(kD) + ' m' + chr(0x00b2) + '/d')"
   ]
  },
  {
   "cell_type": "markdown",
   "metadata": {
    "hideCode": false,
    "hidePrompt": false
   },
   "source": [
    "For the storage coefficient determine the intersection with the straight line with the line of zero drawdown. This is $t/r^2 = 2 \\times 10 ^{-4}$ min. \n",
    "Setting the argument of the solution equal to 1 so that the computed drawdown is 0 and using the already obtained transmissivity yields the storage coefficient:"
   ]
  },
  {
   "cell_type": "markdown",
   "metadata": {
    "hideCode": false,
    "hidePrompt": false
   },
   "source": [
    "$$ S = 2.25T\\cdot(\\frac{t}{r^2})_0 $$"
   ]
  },
  {
   "cell_type": "markdown",
   "metadata": {
    "hideCode": false,
    "hidePrompt": false
   },
   "source": [
    "We have to convert to days to get the answer consistent with the transmissivity."
   ]
  },
  {
   "cell_type": "code",
   "execution_count": 20,
   "metadata": {
    "hideCode": false,
    "hidePrompt": false,
    "hide_input": true,
    "jupyter": {
     "outputs_hidden": false
    },
    "scrolled": true
   },
   "outputs": [
    {
     "name": "stdout",
     "output_type": "stream",
     "text": [
      "S = 1.52e-04\n"
     ]
    }
   ],
   "source": [
    "tr2 = 2e-4 / (24 * 60) # d/m2\n",
    "Sc = 2.25 * kD * tr2\n",
    "print('S = {:.2e}'.format(Sc))"
   ]
  },
  {
   "cell_type": "markdown",
   "metadata": {
    "hideCode": false,
    "hidePrompt": false
   },
   "source": [
    "Clearly, the result depends somewhat on the exact straigt line drawn through the bundel of curves for the observation wells. In the ideal situation, these curves fall onto each other. In this real-world case this is not true, which is a result of the non-uniformity of the aquifer and inaccuracies in the measurements. The real world is less homogeneous than the analytic solution presumes.\n",
    "\n",
    "**Task**: Perform the Cooper-Jacob method of evaluation for the observations in borehole H90. Enter the values obtained from the plot and use the button for the evaluation."
   ]
  },
  {
   "cell_type": "code",
   "execution_count": 21,
   "metadata": {
    "hideCode": false,
    "hidePrompt": false,
    "hide_input": true,
    "scrolled": false
   },
   "outputs": [
    {
     "data": {
      "application/vnd.jupyter.widget-view+json": {
       "model_id": "61937c5851604a56918bb9bb8c8987f5",
       "version_major": 2,
       "version_minor": 0
      },
      "text/plain": [
       "HBox(children=(BoundedFloatText(value=0.3, description='$\\\\Delta S$:', max=10.0), BoundedFloatText(value=0.000…"
      ]
     },
     "metadata": {},
     "output_type": "display_data"
    }
   ],
   "source": [
    "wds = widgets.BoundedFloatText(value=0.3, min=0.0, max=10.0, description='$\\Delta S$:', disabled=False)\n",
    "w0 = widgets.BoundedFloatText(value=2e-4, min=0.0, max=1.e-1, description='$(t/r^2)_0$:', disabled=False)\n",
    "widgets.HBox([wds,w0]) "
   ]
  },
  {
   "cell_type": "code",
   "execution_count": 22,
   "metadata": {
    "hideCode": false,
    "hidePrompt": false,
    "hide_input": true
   },
   "outputs": [
    {
     "data": {
      "application/vnd.jupyter.widget-view+json": {
       "model_id": "de38aeb642d94ad2abe1d09369476286",
       "version_major": 2,
       "version_minor": 0
      },
      "text/plain": [
       "Button(description='Compute T,S', style=ButtonStyle())"
      ]
     },
     "metadata": {},
     "output_type": "display_data"
    }
   ],
   "source": [
    "btn = widgets.Button(description='Compute T,S')\n",
    "display(btn)\n",
    "\n",
    "def btn_eventhandler(obj):\n",
    "    global kD,Sc\n",
    "    kD = 2.3 * Q / (4 * np.pi * wds.value)\n",
    "    print('T = {:.0f}'.format(kD) + ' m' + chr(0x00b2) + '/d')\n",
    "    Sc = 2.25 * kD * w0.value/(24*60)\n",
    "    print('S = {:.2e}'.format(Sc))\n",
    "    \n",
    "btn.on_click(btn_eventhandler)    "
   ]
  },
  {
   "cell_type": "markdown",
   "metadata": {
    "hideCode": false,
    "hidePrompt": false,
    "hide_input": true
   },
   "source": [
    "## Classical Interpretation using the Match on Double Log Scales\n",
    "\n",
    "The classical interpretation plots the measured drawdowns (drawdown $s$ versus $t/r^2$ ) and compares them with the Theis type curve $W(u)$ versus $1/u$ also drawn on double log paper. Because $1/u = (4 T t) / (r^2 S)$ it follows that on logarithmic scales $1/u$ and $t/r^2$ differ only by a constant factor, which represents a horizontal shift on the log scale. The drawdown $s$ only differs the constant $Q/(4 \\pi T)$ from the well function $W(u)$, and so this implies a vertical shift on logarithmic scale. Hence the measured drawdown versus $t/r^2$ on double log scale looks exactly the same as the Theis type curve, but it is only shifted by a given distance along the horizontal axis and by a given distance along the vertical axis. These two shifts yield the sought transmissivity and storativity.\n",
    "\n",
    "### Manual Fitting\n",
    "\n",
    "The plot below depicts the Theis type curve and the drawdown $s$ multiplied by a factor $A$ plotted with $t/r^2$ multiplied by a factor $B$. $A$ and $B$ were changed until the measured and the type curve match best. In this worked out example, the values of $A$ and $B$ were obtained manually. The classical method was originally performed by shifting of the measurements drawn on double log paper over the Theis type curve also drawn on double log paper.  "
   ]
  },
  {
   "cell_type": "code",
   "execution_count": 23,
   "metadata": {
    "hideCode": false,
    "hidePrompt": false,
    "hide_input": false,
    "scrolled": false
   },
   "outputs": [
    {
     "data": {
      "application/vnd.jupyter.widget-view+json": {
       "model_id": "30e08a2deb3644a3bd2f71cd5a24f727",
       "version_major": 2,
       "version_minor": 0
      },
      "text/plain": [
       "Button(description='Show', style=ButtonStyle())"
      ]
     },
     "metadata": {},
     "output_type": "display_data"
    }
   ],
   "source": [
    "%matplotlib inline\n",
    "plt.rcParams[\"figure.figsize\"] = (10,5) \n",
    "\n",
    "btn = widgets.Button(description='Show')\n",
    "display(btn)\n",
    "\n",
    "def btn_eventhandler(obj):\n",
    "    plt.rcParams[\"figure.figsize\"] = (10,5)           \n",
    "    A = 7.0; B = 1.0e7\n",
    "    u = np.logspace(-4, 0.25, 41)\n",
    "    fig = plt.figure(facecolor='w'); ax = fig.add_subplot()\n",
    "\n",
    "    # the Theis type curve\n",
    "    plt.plot(1/u, exp1(u), label='Theis')\n",
    "\n",
    "    # The measurements\n",
    "    plt.plot (B*df['t1']/24/60/30/30,A*df['s1'], '.', label = 'observation H30' )\n",
    "    plt.plot (B*df['t2']/24/60/90/90,A*df['s2'], '.', label = 'observation H90' ) \n",
    "    ax.set_xscale('log'); ax.set_yscale('log')\n",
    "    plt.title('Type curve and $A \\cdot s$ vs $B \\cdot t/r^2$, with $A$={}, $B$={}'.format(A, B),fontsize=14)\n",
    "    plt.xlabel('$1/u$ and $B \\, t/r^2$',fontsize=12); plt.ylabel('W(u) and $A \\, s$',fontsize=12)\n",
    "    plt.xscale('log'); plt.yscale('log')\n",
    "    plt.grid()\n",
    "    plt.legend(loc='lower right',fontsize=12);\n",
    "    \n",
    "btn.on_click(btn_eventhandler)     "
   ]
  },
  {
   "cell_type": "markdown",
   "metadata": {
    "hideCode": false,
    "hidePrompt": false,
    "hide_input": false
   },
   "source": [
    "So $A \\cdot s = W(u)$ and $s = \\frac Q {2 \\pi T} W(u)$ and, therefore $A = \\frac {4 \\pi T} {Q}$ and $ T = \\frac {A Q} {4 \\pi}$. The result is calculated in the next cell."
   ]
  },
  {
   "cell_type": "code",
   "execution_count": 24,
   "metadata": {
    "hideCode": false,
    "hidePrompt": false,
    "hide_input": true,
    "scrolled": true
   },
   "outputs": [
    {
     "name": "stdout",
     "output_type": "stream",
     "text": [
      "T = 439 [m^2/d]\n"
     ]
    }
   ],
   "source": [
    "A = 7.0\n",
    "kD = A * Q /4 /np.pi\n",
    "print('T = {:.0f} [m^2/d]'.format(kD))"
   ]
  },
  {
   "cell_type": "markdown",
   "metadata": {
    "hideCode": false,
    "hidePrompt": false
   },
   "source": [
    "The storage coefficient then follows from $\\frac 1 u = B \\frac t {r^2}$, that is, $\\frac {4 T t} {r^2 S} = B \\frac t {r^2}$ so that $S = \\frac {4 T} B$. The result is computed in the next cell."
   ]
  },
  {
   "cell_type": "code",
   "execution_count": 25,
   "metadata": {
    "hideCode": false,
    "hidePrompt": false,
    "hide_input": true,
    "scrolled": false
   },
   "outputs": [
    {
     "name": "stdout",
     "output_type": "stream",
     "text": [
      "S = 1.76e-04 [-]\n"
     ]
    }
   ],
   "source": [
    "B = 1.0e7\n",
    "Sc = 4 * kD / B\n",
    "print('S = {:.2e} [-]'.format(Sc))"
   ]
  },
  {
   "cell_type": "markdown",
   "metadata": {
    "hideCode": false,
    "hidePrompt": false
   },
   "source": [
    "As one sees, the results obtained this way are consistent with those obtained by the previous method."
   ]
  },
  {
   "cell_type": "markdown",
   "metadata": {
    "hideCode": false,
    "hidePrompt": false,
    "hide_input": true
   },
   "source": [
    "The previous method was inspired by the shifting of the measurements drawn on double log paper over the Theis type curve also drawn on double log paper. However, we could just as well directly optimize $T$ and $S$ (instead of $A$ and $B$) by trial and error to find the best match between type curve and measurements. It may then be more convenient to let the type curve as it is and plot $ \\frac s {Q/(4 \\pi T)}$ vs $\\frac {4 T t} {r^2 S}$. This has been done and for the obtained values of $S$ and $T$ the result is shown by clicking the next button.   "
   ]
  },
  {
   "cell_type": "code",
   "execution_count": 26,
   "metadata": {
    "hideCode": false,
    "hidePrompt": false,
    "hide_input": true,
    "scrolled": false
   },
   "outputs": [
    {
     "data": {
      "application/vnd.jupyter.widget-view+json": {
       "model_id": "f10c7b3f5ee44a7a9fedac1261d3a917",
       "version_major": 2,
       "version_minor": 0
      },
      "text/plain": [
       "Button(description='Show', style=ButtonStyle())"
      ]
     },
     "metadata": {},
     "output_type": "display_data"
    }
   ],
   "source": [
    "%matplotlib inline\n",
    "\n",
    "btn = widgets.Button(description='Show')\n",
    "display(btn)\n",
    "\n",
    "def btn_eventhandler(obj):\n",
    "    global kD,Sc\n",
    "    kD = 450\n",
    "    Sc = 0.0002\n",
    "    u = np.logspace(-4, 0.25, 41)\n",
    "    fig = plt.figure(facecolor='w', figsize=(10,5)); ax = fig.add_subplot()\n",
    "\n",
    "    # the Theis type curve\n",
    "    plt.plot(1/u, exp1(u), label='Theis')\n",
    "\n",
    "    # The measurements\n",
    "    r = 30\n",
    "    plt.plot (4*kD*df['t1']/24/60/(Sc*r**2),df['s1']/(Q/(4*np.pi*kD)), '.', label = 'observation H30' )\n",
    "    r = 90\n",
    "    plt.plot (4*kD*df['t2']/24/60/(Sc*r**2),df['s2']/(Q/(4*np.pi*kD)), '.', label = 'observation H90' )\n",
    "    plt.title('Direct comparison between computed and measured drawdown, $T$={:.0f} m$^2$/d, $S$={:.3e} [-]'.format(kD,Sc),fontsize=12)\n",
    "    plt.xlabel('$1/u$',fontsize=12); plt.ylabel('$W[u]$',fontsize=12)\n",
    "    plt.xscale('log'); plt.yscale('log')\n",
    "    plt.grid()\n",
    "    plt.legend(loc='lower right',fontsize=12);\n",
    "    \n",
    "btn.on_click(btn_eventhandler)    "
   ]
  },
  {
   "cell_type": "markdown",
   "metadata": {
    "hideCode": false,
    "hidePrompt": false,
    "hide_input": true
   },
   "source": [
    "### Using the Interface\n",
    "\n",
    "As we now have a computer, we could just as well directly optimize $T$ and $S$ by trial and error to find the best match between type curve and measurements. For the following evaluations set the distance from the pumping well at which the data were measured:"
   ]
  },
  {
   "cell_type": "code",
   "execution_count": 27,
   "metadata": {
    "hideCode": false,
    "hidePrompt": false,
    "hide_input": true,
    "scrolled": false
   },
   "outputs": [
    {
     "data": {
      "application/vnd.jupyter.widget-view+json": {
       "model_id": "c9833ee7ff3945c8a41d77cfe6221909",
       "version_major": 2,
       "version_minor": 0
      },
      "text/plain": [
       "BoundedFloatText(value=30.0, description='Distance:', max=90.0, min=30.0, step=60.0)"
      ]
     },
     "metadata": {},
     "output_type": "display_data"
    }
   ],
   "source": [
    "wr = widgets.BoundedFloatText(value=30.0, min=30.0, max=90.0, step = 60.0, description='Distance:', disabled=False)\n",
    "wr"
   ]
  },
  {
   "cell_type": "markdown",
   "metadata": {
    "hideCode": false,
    "hidePrompt": false,
    "hide_input": false
   },
   "source": [
    "#### Multi-Graph\n",
    "Use the sliders to select values for $A$ and log10($B$)"
   ]
  },
  {
   "cell_type": "code",
   "execution_count": 28,
   "metadata": {
    "hideCode": false,
    "hidePrompt": false,
    "hide_input": true,
    "scrolled": false
   },
   "outputs": [
    {
     "data": {
      "application/vnd.jupyter.widget-view+json": {
       "model_id": "8a1cd98474344274935862488b738821",
       "version_major": 2,
       "version_minor": 0
      },
      "text/plain": [
       "HBox(children=(FloatSlider(value=1.0, description='$A$', max=10.0, min=0.1), FloatSlider(value=1.0, descriptio…"
      ]
     },
     "metadata": {},
     "output_type": "display_data"
    }
   ],
   "source": [
    "slider1 = widgets.FloatSlider(1, description = '$A$', min=0.1, max=10, step=0.1)\n",
    "slider2 = widgets.FloatSlider(1, description = 'log10($B$)', min=0.1, max=10, step=0.1)\n",
    "widgets.HBox([slider1,slider2])"
   ]
  },
  {
   "cell_type": "markdown",
   "metadata": {
    "hideCode": false,
    "hidePrompt": false,
    "hide_input": true
   },
   "source": [
    "Run the next cell and press the check button, whenever you have changed the slider values. Make sure that you enable toggle scrolling (see: Cell-Current outputs). In order to restart checking re-run the cell."
   ]
  },
  {
   "cell_type": "code",
   "execution_count": 29,
   "metadata": {
    "hideCode": false,
    "hidePrompt": false,
    "hide_input": false,
    "scrolled": false
   },
   "outputs": [
    {
     "data": {
      "application/vnd.jupyter.widget-view+json": {
       "model_id": "3d15cc18e8ef4ec3a2859e9422bb3cf3",
       "version_major": 2,
       "version_minor": 0
      },
      "text/plain": [
       "Button(description='Check', style=ButtonStyle())"
      ]
     },
     "metadata": {},
     "output_type": "display_data"
    }
   ],
   "source": [
    "%matplotlib notebook\n",
    "%matplotlib notebook\n",
    "plt.rcParams[\"figure.figsize\"] = (10,5) \n",
    "\n",
    "btn = widgets.Button(description='Check')\n",
    "display(btn)\n",
    "\n",
    "def btn_eventhandler(obj):\n",
    "    global kD,Sc,count\n",
    "    A = slider1.value\n",
    "    B = 10**(slider2.value)\n",
    "\n",
    "    u = np.logspace(-4, 0.25, 41)\n",
    "    fig = plt.figure(facecolor='w'); ax = fig.add_subplot()\n",
    "\n",
    "    # the Theis type curve\n",
    "    plt.plot(1/u, exp1(u), label='Theis')\n",
    "\n",
    "    # the measurements\n",
    "    r = wr.value; Q = wQ.value\n",
    "    if r <= 50:\n",
    "        plt.plot (B*df['t1']/24/60/r/r,A*df['s1'], '.', label = 'observation' )\n",
    "    else:\n",
    "        plt.plot (B*df['t2']/24/60/r/r,A*df['s2'], '.', label = 'observation' ) \n",
    "        \n",
    "    ax.set_xscale('log'); ax.set_yscale('log');\n",
    "    plt.xlabel('$1/u$ and $B \\, t/r^2$',fontsize=16); plt.ylabel('W(u) and $A \\cdot s$',fontsize=16)\n",
    "    plt.xscale('log'); plt.yscale('log');\n",
    "    plt.grid();\n",
    "    plt.legend(loc='upper left',fontsize=12);\n",
    "    T = A * Q /4 /np.pi   # print('T = {:.0f} m2/d'.format(kD))\n",
    "    S = 4 * T / B         #print('S = {:.2e} [-]'.format(S))\n",
    "    ax.text (380,0.23,'$T =%.1f m^2/d$' % (T, ),fontsize=12)\n",
    "    ax.text (380,0.15,'$S =%.2e $' % (S, ),fontsize=12)\n",
    "    ax.set_title('Pump test: Oude Korendijk, Curve Matching: Theis ', size=14); count = count+1\n",
    "    Sc = S; kD = T\n",
    "\n",
    "count = 1    \n",
    "btn.on_click(btn_eventhandler)"
   ]
  },
  {
   "cell_type": "markdown",
   "metadata": {
    "hideCode": false,
    "hidePrompt": false,
    "hide_input": true
   },
   "source": [
    "#### Single Graph\n",
    "In the following cell see the effect of the sliders updated in a single figure."
   ]
  },
  {
   "cell_type": "code",
   "execution_count": 30,
   "metadata": {
    "hideCode": false,
    "hidePrompt": false,
    "hide_input": false,
    "scrolled": false
   },
   "outputs": [
    {
     "data": {
      "application/vnd.jupyter.widget-view+json": {
       "model_id": "7d565b55c82e442f82ae04b4cd4345f9",
       "version_major": 2,
       "version_minor": 0
      },
      "text/plain": [
       "Button(description='Sliders', style=ButtonStyle())"
      ]
     },
     "metadata": {},
     "output_type": "display_data"
    }
   ],
   "source": [
    "from IPython.display import display\n",
    "%matplotlib notebook\n",
    "%matplotlib notebook \n",
    "global shiftx_slider, shifty_slider, shiftx_label, shifty_label\n",
    "\n",
    "def update_plot(shifty = 10, shiftx = 10):\n",
    "    plt.figure('S')\n",
    "    r = wr.value\n",
    "    if r <= 50:\n",
    "        plt.plot (10**(shiftx/10)*df['t1']/24/60/r/r,shifty/10*df['s1'],'.C1')\n",
    "    else:\n",
    "        plt.plot (10**(shiftx/10)*df['t2']/24/60/r/r,shifty/10*df['s2'],'.C1')\n",
    "        \n",
    "    plt.grid()\n",
    "    #fig.canvas.draw_idle('S')\n",
    "\n",
    "# handle shifty update\n",
    "def update_shifty(value):\n",
    "    global shiftx_slider, shifty_slider, shiftx_label, shifty_label\n",
    "    plt.figure('S')\n",
    "    r = wr.value\n",
    "    plt.plot (10**(shiftx_slider.value/10)*df['t1']/24/60/r/r,value['old']/10*df['s1'], '.', color='0.7')\n",
    "    update_plot(shifty = value['new'],shiftx = shiftx_slider.value)\n",
    "    shifty_label.value = 'A value is: ' + str(value.new/10)\n",
    "\n",
    "# handle shiftx update\n",
    "def update_shiftx(value):\n",
    "    global shiftx_slider, shifty_slider, shiftx_label, shifty_label\n",
    "    plt.figure('S')\n",
    "    r = wr.value\n",
    "    plt.plot (10**(value['old']/10)*df['t1']/24/60/r/r,shifty_slider.value/10*df['s1'], '.', color='0.7')\n",
    "    update_plot(shifty = shifty_slider.value,shiftx = value['new'])\n",
    "    shiftx_label.value = 'log10(B) value is: ' + str(value.new/10)\n",
    "\n",
    "def btn_eventhandler(obj): \n",
    "    global shiftx_slider, shifty_slider, shiftx_label, shifty_label\n",
    "    u = np.logspace(-4, 0.25, 41)\n",
    "    if plt.fignum_exists('S'):\n",
    "        #plt.figure('S')\n",
    "        plt.subplots(num='S')\n",
    "    else:\n",
    "        fig = plt.figure(num='S',figsize=(10,5)) \n",
    "        \n",
    "    ax = fig.add_subplot()\n",
    "    plt.plot(1/u, exp1(u), label='Theis')\n",
    "    ax.set_xscale('log'); ax.set_yscale('log')\n",
    "    plt.show();\n",
    "\n",
    "    # prepare widgets\n",
    "    shifty_slider = widgets.IntSlider(10, min = 1, max = 100)\n",
    "    shifty_label = widgets.Label(value = 'A value is: ' + str(shifty_slider.value/10))\n",
    "    display(shifty_slider, shifty_label)\n",
    "    shiftx_slider = widgets.IntSlider(10, min = 1, max = 100)\n",
    "    shiftx_label = widgets.Label(value = 'log10(B) value is: ' + str(shiftx_slider.value/10))\n",
    "    display(shiftx_slider, shiftx_label)    \n",
    "\n",
    "    shiftx_slider.observe(update_shiftx, names = 'value')\n",
    "    shifty_slider.observe(update_shifty, names = 'value') \n",
    "    fig.canvas.draw_idle()\n",
    "    \n",
    "btn = widgets.Button(description='Sliders')\n",
    "display(btn)   \n",
    "btn.on_click(btn_eventhandler)"
   ]
  },
  {
   "cell_type": "markdown",
   "metadata": {
    "hideCode": false,
    "hidePrompt": false
   },
   "source": [
    "Check the result for transmissivity and storativity! Run the cell to erase former results."
   ]
  },
  {
   "cell_type": "code",
   "execution_count": 31,
   "metadata": {
    "hideCode": false,
    "hidePrompt": false,
    "hide_input": true,
    "scrolled": false
   },
   "outputs": [
    {
     "data": {
      "application/vnd.jupyter.widget-view+json": {
       "model_id": "39f70e2525094096a5125c66fb5ddfda",
       "version_major": 2,
       "version_minor": 0
      },
      "text/plain": [
       "Button(description='Check', style=ButtonStyle())"
      ]
     },
     "metadata": {},
     "output_type": "display_data"
    }
   ],
   "source": [
    "#%matplotlib inline\n",
    "%matplotlib notebook\n",
    "%matplotlib notebook\n",
    "plt.rcParams[\"figure.figsize\"] = (10,5) \n",
    "\n",
    "btn = widgets.Button(description='Check')\n",
    "display(btn)\n",
    "\n",
    "def btn_eventhandler(obj):\n",
    "    global kD,Sc,count\n",
    "    r = wr.value; Q = wQ.value\n",
    "    u = np.logspace(-4, 0.25, 41)\n",
    "    fig = plt.figure(facecolor='w'); ax = fig.add_subplot(1,1,1)\n",
    "    plt.title('Pump test: Oude Korendijk, Curve Matching: Theis ', fontsize = 14)\n",
    "    plt.plot(1/u, exp1(u), label='Theis')\n",
    "    shifty = shifty_slider.value; shiftx = shiftx_slider.value\n",
    "    if r <= 50:\n",
    "        plt.plot(10**(shiftx/10)*df['t1']/24/60/r/r,shifty/10*df['s1'],'.C1')\n",
    "    else:\n",
    "        plt.plot(10**(shiftx/10)*df['t2']/24/60/r/r,shifty/10*df['s2'],'.C1')\n",
    "        \n",
    "    plt.grid()\n",
    "    ax.set_xscale('log'); ax.set_yscale('log'); \n",
    "    plt.xlabel('$1/u$ and $B \\, t/r^2$', fontsize=12)\n",
    "    plt.ylabel('W(u) and $A \\cdot s$',fontsize=12)\n",
    "    kD = shifty_slider.value/10 * Q /4 /np.pi   # print('T = {:.0f} m2/d'.format(kD))\n",
    "    Sc = 4 * kD / 10**(shiftx_slider.value/10)         #print('S = {:.2e} [-]'.format(S))\n",
    "    ax.text (380,0.23,'$T =%.1f m^2/d$' % (kD, ),fontsize=12)\n",
    "    ax.text (380,0.15,'$S =%.2e $' % (Sc, ),fontsize=12)\n",
    "    plt.show(block=True)\n",
    "        \n",
    "btn.on_click(btn_eventhandler)    "
   ]
  },
  {
   "cell_type": "markdown",
   "metadata": {},
   "source": [
    "*Note: If you re-run this cell, you have to re-run the previous one also.*"
   ]
  },
  {
   "cell_type": "markdown",
   "metadata": {
    "hideCode": false,
    "hidePrompt": false,
    "hide_input": false
   },
   "source": [
    "#### Fit Measures\n",
    "The residual is a quantitative measure for the goodness of the fit. It is defined by: "
   ]
  },
  {
   "cell_type": "markdown",
   "metadata": {
    "hideCode": false,
    "hidePrompt": false,
    "hide_input": false
   },
   "source": [
    "$$ 2-norm = \\sqrt{\\sum{(s_{obs}-s_{calc})^2}} $$"
   ]
  },
  {
   "cell_type": "markdown",
   "metadata": {
    "hideCode": false,
    "hidePrompt": false
   },
   "source": [
    "where the sum adds up the quadratic deviations over all values of the time series. $s_{obs}$ is the observed drawdown, while $s_{calc}$ denotes the drawdown calculated by the Theis formula for the optimized $T$ and $S$ values. The rssidual is thus a good measure to compare results for the same drawdown series. However, if depends on the number of observations and thus is not feasable for comparison of results from different obtained from different observation points or different pumping tests. Alternatively one may take the standard deviation, which is defined as the squareroot of the mean quadratic deviation:"
   ]
  },
  {
   "cell_type": "markdown",
   "metadata": {
    "hideCode": false,
    "hidePrompt": false,
    "hide_input": true
   },
   "source": [
    "$$ stdev = \\sqrt{mean((s_{obs}-s_{calc})^2)} $$"
   ]
  },
  {
   "cell_type": "markdown",
   "metadata": {
    "hideCode": false,
    "hidePrompt": false
   },
   "source": [
    "The standard deviation makes results from different observation points and pumping tests, at the same or different boreholes, comparable. Click the following buttons to get the measures of the fit. "
   ]
  },
  {
   "cell_type": "code",
   "execution_count": 32,
   "metadata": {
    "hideCode": false,
    "hidePrompt": false,
    "hide_input": true,
    "scrolled": false
   },
   "outputs": [
    {
     "data": {
      "application/vnd.jupyter.widget-view+json": {
       "model_id": "d0f885aee4594b64a92041ca0484da63",
       "version_major": 2,
       "version_minor": 0
      },
      "text/plain": [
       "HBox(children=(Button(description='2-norm', style=ButtonStyle()), Button(description='Standard deviation', sty…"
      ]
     },
     "metadata": {},
     "output_type": "display_data"
    }
   ],
   "source": [
    "def rescalc():\n",
    "    global kD,Sc\n",
    "    D = kD/Sc; r = wr.value; Q = wQ.value\n",
    "    if r <= 50: \n",
    "        tfit = df['t1']/24/60; sfit = df['s1']\n",
    "        tfit = tfit[:-1]; sfit = sfit[:-1]  # one entry less in time series                  \n",
    "    else:\n",
    "        tfit = df['t2']/24/60; sfit = df['s2']\n",
    "\n",
    "    u = (((r*r)/4)/D)/pd.to_numeric(tfit)\n",
    "    s = Q*exp1(u)/4/np.pi/kD\n",
    "    dev = pd.to_numeric(sfit)-s; dev2 = dev*dev\n",
    "    norms = np.sqrt(sum(dev2)) \n",
    "    stde = np.sqrt(dev2.mean())\n",
    "    return [norms,stde]\n",
    "\n",
    "def on_wres_clicked(self):   \n",
    "    [norms,stde] = rescalc()\n",
    "    display ('2-norm = %.3e for r = %.0f, T = %.1f and S = %.2e' % (norms,r,kD,Sc))\n",
    "    \n",
    "def on_wstd_clicked(self): \n",
    "    [norms,stde] = rescalc()\n",
    "    display ('stdev = %.3e for r = %.0f, T = %.1f and S = %.2e'% (stde,r,kD,Sc));\n",
    "\n",
    "wres = widgets.Button(description='2-norm')        \n",
    "wres.on_click(on_wres_clicked) \n",
    "wstd = widgets.Button(description='Standard deviation')        \n",
    "wstd.on_click(on_wstd_clicked)\n",
    "widgets.HBox([wres,wstd])   "
   ]
  },
  {
   "cell_type": "markdown",
   "metadata": {
    "hideCode": false,
    "hidePrompt": false
   },
   "source": [
    "Note that the data from the distance given the input field above are used for the computation. "
   ]
  },
  {
   "cell_type": "markdown",
   "metadata": {
    "hideCode": false,
    "hidePrompt": false
   },
   "source": [
    "## Parameter Estimation\n",
    "\n",
    "The mathematical methods that are demonstrated here deliver a unique solution for a given aquifer type. For the confined aquifer the method is based on the analytical Theis solution given above. For the leaky aquifer the parameter estimation is implemented on the analytical solution of Hantush. 2-norm and standard deviation provide means to compare the fits and make a decision if leakage is an important feature for the aquifer.     "
   ]
  },
  {
   "cell_type": "markdown",
   "metadata": {
    "hideCode": false,
    "hidePrompt": false
   },
   "source": [
    "### Confined Aquifer\n",
    "\n",
    "The following implementation is a mathematical procedure of obtaining the best match with the Theis solution that was shown before. Above the two parameters $A$ and $B$ were obtained by manual fitting. While the classical evaluation required printouts on double-logarithmical paper, in the notebook that is performed by moving the sliders. However finding the best parameter combination by trial and error is not unique, as people interpret the matching differently. This subjective component is eliminated if one lets the computer find the optimal combination of parameters that minimizes the difference between the type curve and the measurements."
   ]
  },
  {
   "cell_type": "code",
   "execution_count": 33,
   "metadata": {
    "hideCode": false,
    "hidePrompt": false,
    "hide_input": true,
    "scrolled": false
   },
   "outputs": [
    {
     "data": {
      "application/vnd.jupyter.widget-view+json": {
       "model_id": "bd907bec2fb34d7b9f0a2c1945956889",
       "version_major": 2,
       "version_minor": 0
      },
      "text/plain": [
       "BoundedFloatText(value=30.0, description='Distance:', max=90.0, min=30.0, step=60.0)"
      ]
     },
     "metadata": {},
     "output_type": "display_data"
    }
   ],
   "source": [
    "w2r = widgets.BoundedFloatText(value=30, min=30, max=90.0, step = 60.0, description='Distance:', disabled=False)\n",
    "w2r"
   ]
  },
  {
   "cell_type": "markdown",
   "metadata": {
    "hideCode": false,
    "hidePrompt": false,
    "hide_input": false
   },
   "source": [
    "Enter initial guesses for $T$ and $S$! The unit of transmissivity is derived from the length and time settings above. "
   ]
  },
  {
   "cell_type": "code",
   "execution_count": 34,
   "metadata": {
    "hideCode": false,
    "hidePrompt": false,
    "hide_input": true,
    "scrolled": false
   },
   "outputs": [
    {
     "data": {
      "application/vnd.jupyter.widget-view+json": {
       "model_id": "43d23eeddbfa49309cb2341808ba9e96",
       "version_major": 2,
       "version_minor": 0
      },
      "text/plain": [
       "HBox(children=(FloatText(value=500.0, description='T:'), FloatText(value=0.0001, description='S:')))"
      ]
     },
     "metadata": {},
     "output_type": "display_data"
    }
   ],
   "source": [
    "wT = widgets.FloatText(value=500, description='T:', min=1, disabled=False)\n",
    "wS = widgets.FloatText(value=1e-4, description='S:', min=1.e-10, disabled=False)\n",
    "widgets.HBox([wT, wS])"
   ]
  },
  {
   "cell_type": "markdown",
   "metadata": {
    "hideCode": false,
    "hidePrompt": false
   },
   "source": [
    "Do the parameter estimation by running the next cell."
   ]
  },
  {
   "cell_type": "code",
   "execution_count": 35,
   "metadata": {
    "hideCode": false,
    "hidePrompt": false,
    "hide_input": true
   },
   "outputs": [
    {
     "data": {
      "application/vnd.jupyter.widget-view+json": {
       "model_id": "35c9fcd7ab43416f88a04344c514d784",
       "version_major": 2,
       "version_minor": 0
      },
      "text/plain": [
       "VBox(children=(Button(description='Evaluate Theis', style=ButtonStyle()),))"
      ]
     },
     "metadata": {},
     "output_type": "display_data"
    }
   ],
   "source": [
    "from scipy.optimize import fmin\n",
    "Q = wQ.value; r = 30\n",
    "tfit = df['t1'].dropna()/60/24; sfit = df['s1'].dropna()\n",
    "\n",
    "def teval (t,r,T,S,Q):\n",
    "    D = T/S                             # calculate Theis solution\n",
    "    u = (((r*r)/4)/D)/t\n",
    "    s = Q*exp1(u)/4/np.pi/T\n",
    "    return s                            # drawdown \n",
    "    \n",
    "def toptim (x):  \n",
    "    global r,tfit,sfit\n",
    "    T = x[0]; S = x[1] \n",
    "    s = teval (tfit,r,T,S,Q)\n",
    "    res = (s-sfit)\n",
    "    return sum(res*res)                 # function to be minimized\n",
    "\n",
    "def on_weval1_clicked(self):            # convert input data\n",
    "    global r,df,tfit,sfit\n",
    "    print ('Oude Korendijk pumping test') \n",
    "    r = w2r.value; print ('Distance to pumping well: '+str(r))\n",
    "    T = wT.value; print ('Initial transmissivity: '+str(T)) \n",
    "    S = wS.value; print ('Initial storativity: '+str(S))\n",
    "    if r <= 50:   \n",
    "        tfit = df['t1'].dropna()/60/24; sfit = df['s1'].dropna()\n",
    "    else:\n",
    "        tfit = df['t2'].dropna()/60/24; sfit = df['s2'].dropna()                             \n",
    "\n",
    "    # parameter estimation---------------------------------------------------------\n",
    "    [Tfit,Sfit] = fmin (toptim, [T,S])\n",
    "\n",
    "    # post-processing\n",
    "    D = T/S;               #print ('D='+str(D))\n",
    "    s = teval (tfit,r,Tfit,Sfit,Q)\n",
    "    dev = sfit-s                  \n",
    "    dev2 = dev*dev; norms = np.sqrt(sum(dev2)) \n",
    "    stde = np.sqrt(dev2.mean())\n",
    "    sr=2*dev.std()                            # to compare with hytool !\n",
    "    t = np.logspace(np.log10(tfit.min()),np.log10(tfit.max()),100)\n",
    "    fig = plt.figure(facecolor='w',figsize=(10,5)); ax = fig.add_subplot()\n",
    "    ax.set_xscale('log')\n",
    "    plt.plot(tfit,sfit,'o',label = 'measured') \n",
    "    plt.plot(t,teval(t,r,Tfit,Sfit,Q),'-', label = 'calculated', lw = 2)\n",
    "    plt.xlabel('time [d]',fontsize=12); plt.ylabel('drawdown [m]',fontsize=12)\n",
    "    plt.title ('Pump test: Oude Korendijk, Parameter estimation: Theis',fontsize=14)\n",
    "    plt.grid ()\n",
    "    plt.legend (loc='upper left',fontsize=12)\n",
    "    ax.text (0.04,0.5*sfit.max(),'$T =%.1f m^2/d $' % (Tfit, ),fontsize=12)\n",
    "    ax.text (0.04,0.4*sfit.max(),'$S =%.2e $' % (Sfit, ),fontsize=12)\n",
    "    ax.text (0.04,0.3*sfit.max(),'2-norm = $%.2e $' % (norms, ),fontsize=12)\n",
    "    ax.text (0.04,0.2*sfit.max(),'$stdev = %.2e $' % (stde, ),fontsize=12)\n",
    "    ax.text (0.04,0.1*sfit.max(),'$2stdev =%.2e $' % (sr, ),fontsize=12);\n",
    "\n",
    "weval1 = widgets.Button(description='Evaluate Theis')        \n",
    "weval1.on_click(on_weval1_clicked)   \n",
    "widgets.VBox([weval1]) "
   ]
  },
  {
   "cell_type": "markdown",
   "metadata": {
    "hideCode": false,
    "hidePrompt": false
   },
   "source": [
    "Explore the sensitivity of the results when changing initial values. Check the residual and number of iterations for comparison. Do this for both observation data-sets."
   ]
  },
  {
   "cell_type": "markdown",
   "metadata": {
    "hideCode": false,
    "hidePrompt": false
   },
   "source": [
    "### Leaky Aquifer"
   ]
  },
  {
   "cell_type": "markdown",
   "metadata": {
    "hideCode": false,
    "hidePrompt": false
   },
   "source": [
    "For leaky aquifers the drawdown is given by the Hantush well function $W$, which has two arguments:"
   ]
  },
  {
   "cell_type": "markdown",
   "metadata": {
    "hideCode": false,
    "hidePrompt": false
   },
   "source": [
    "$$ s(r, t) = \\frac Q {4 \\pi T} W(u,r/\\lambda),\\,\\,\\,\\, u = \\frac {r^2 S} {4 T t}$$"
   ]
  },
  {
   "cell_type": "markdown",
   "metadata": {
    "hideCode": false,
    "hidePrompt": false
   },
   "source": [
    "with $\\lambda=\\sqrt{T\\cdot c}$, where $c$ denotes the resistance of the over-lying semipermeable layer. The physcial unit of resistance is time. The equation was derived assuming a constant source along the radial axis (Hantush & Jacob 1955). Using the more realistic boundary condition at the top of a 2D cross-section Hantush (1967) showed that the formula is a valid approximation if $D/\\lambda \\leq 0.1$.  "
   ]
  },
  {
   "cell_type": "code",
   "execution_count": 36,
   "metadata": {
    "hideCode": false,
    "hidePrompt": false,
    "hide_input": true,
    "scrolled": false
   },
   "outputs": [
    {
     "data": {
      "application/vnd.jupyter.widget-view+json": {
       "model_id": "67384150af404633b475482d32ea2f23",
       "version_major": 2,
       "version_minor": 0
      },
      "text/plain": [
       "BoundedFloatText(value=30.0, description='Distance:', max=90.0, min=30.0, step=60.0)"
      ]
     },
     "metadata": {},
     "output_type": "display_data"
    }
   ],
   "source": [
    "w3r = widgets.BoundedFloatText(value=30, min=30, max=90.0, step = 60.0, description='Distance:', disabled=False)\n",
    "w3r"
   ]
  },
  {
   "cell_type": "markdown",
   "metadata": {
    "hideCode": false,
    "hidePrompt": false,
    "hide_input": true
   },
   "source": [
    "Enter initial guesses for $T$, $S$ and $c$! The physical units of transmissivity and resistance derived from the length and time settings above. "
   ]
  },
  {
   "cell_type": "code",
   "execution_count": 37,
   "metadata": {
    "hideCode": false,
    "hidePrompt": false,
    "hide_input": true,
    "scrolled": false
   },
   "outputs": [
    {
     "data": {
      "application/vnd.jupyter.widget-view+json": {
       "model_id": "7064afd61f9149e5a20e9cc98bd3afd6",
       "version_major": 2,
       "version_minor": 0
      },
      "text/plain": [
       "HBox(children=(FloatText(value=500.0, description='T:'), FloatText(value=0.0001, description='S:'), FloatText(…"
      ]
     },
     "metadata": {},
     "output_type": "display_data"
    }
   ],
   "source": [
    "w2T = widgets.FloatText(value=500, description='T:', min=1.e-10, disabled=False)\n",
    "w2S = widgets.FloatText(value=1e-4, description='S:', min=1.e-10, disabled=False)\n",
    "wc = widgets.FloatText(value=1e4, description='c:', min=1.e-10, disabled=False)\n",
    "widgets.HBox([w2T, w2S, wc])"
   ]
  },
  {
   "cell_type": "code",
   "execution_count": 38,
   "metadata": {
    "hideCode": false,
    "hidePrompt": false,
    "hide_input": false,
    "scrolled": false
   },
   "outputs": [
    {
     "data": {
      "application/vnd.jupyter.widget-view+json": {
       "model_id": "e81a546a3e214c3e8bdc1c7d4ef5c842",
       "version_major": 2,
       "version_minor": 0
      },
      "text/plain": [
       "VBox(children=(Button(description='Evaluate Hantush', style=ButtonStyle()),))"
      ]
     },
     "metadata": {},
     "output_type": "display_data"
    }
   ],
   "source": [
    "from scipy.special import exp1\n",
    "from scipy.optimize import fmin\n",
    "from scipy.special import kn as BesselK\n",
    "\n",
    "Q = wQ.value; r = 30\n",
    "tfit = df['t1'].dropna()/60/24; sfit = df['s1'].dropna()\n",
    "\n",
    "def heval (t,r,T,S,c,Q):                 # calculate Hantush solution\n",
    "    T0  = np.where(T>1.e-10,T,1.e-10) \n",
    "    S0  = np.where(S>1.e-10,S,1.e-10)\n",
    "    c0  = np.where(c>1.e-10,c,1.e-10)\n",
    "    lamda = np.sqrt(T0*c0)                \n",
    "    rho = r/lamda\n",
    "    tau = np.log(2*lamda/r*t/(c0*S0))\n",
    "    s = Q/(4*np.pi*T0)*func_F(rho,tau)\n",
    "    return s                             # drawdown \n",
    "\n",
    "def ExpInt(n,u):\n",
    "    # Fast approximation for Wu according to equation 7a and 7b from Srivastava(1998)\n",
    "    gamma = 0.5772 # Euler-Macheroni constant\n",
    "    u0  = np.where(u<1.0,u,1) \n",
    "    Wu0 = np.log(np.exp(-gamma)/u0) + 0.9653*u - 0.1690*u0**2\n",
    "    u1 = np.where(u>=1.0,u,1) \n",
    "    Wu1 = 1/(u1*np.exp(u1))*(u1+0.3575)/(u1+1.280)\n",
    "    Wu = np.where(u<1.0,Wu0,Wu1)\n",
    "    return Wu\n",
    "\n",
    "def func_F(rho,tau):\n",
    "    e = exp1(rho)\n",
    "    e0 = np.where(e>0,e,1.e-10)\n",
    "    w = (e0-BesselK(0,rho))/(e0-exp1(rho/2))\n",
    "    F0 = w*exp1(rho/2*np.exp(-tau))-(w-1)*exp1(rho*np.cosh(tau))  \n",
    "    F1 = 2*BesselK(0,rho) - w*exp1(rho/2*np.exp(tau)) + (w-1)*exp1(rho*np.cosh(tau)) \n",
    "    #w = (ExpInt(1,rho)-BesselK(0,rho))/(ExpInt(1,rho)-ExpInt(1,rho/2))\n",
    "    #F0 = w*ExpInt(1,rho/2*np.exp(-tau))-(w-1)*ExpInt(1,rho*np.cosh(tau))\n",
    "    #F1 = 2*BesselK(0,rho) - w*ExpInt(1,rho/2*np.exp(tau)) + (w-1)*ExpInt(1,rho*np.cosh(tau))    \n",
    "    return (tau<=0)*F0+(tau>0)*F1   \n",
    "\n",
    "def hoptim (x):     \n",
    "    global r,tfit,sfit\n",
    "    T = x[0]; S = x[1]; c = x[2] \n",
    "    s = heval (tfit,r,T,S,c,Q)\n",
    "    res = (s-sfit)\n",
    "    return sum(res*res)                 # function to be minimized\n",
    "\n",
    "def on_weval2_clicked(self):   \n",
    "    global r,df,tfit,sfit    \n",
    "    print ('Oude Korendijk pumping test') \n",
    "    r = w3r.value; print ('Distance to pumping well: '+str(r))\n",
    "    T = w2T.value; print ('Initial transmissivity: '+str(T)) \n",
    "    S = w2S.value; print ('Initial storativity: '+str(S))\n",
    "    c = wc.value; print ('Initial resistance: '+str(c))\n",
    "\n",
    "    if r <= 50:   \n",
    "        tfit = df['t1'].dropna()/60/24; sfit = df['s1'].dropna()\n",
    "    else:\n",
    "        tfit = df['t2'].dropna()/60/24; sfit =df['s2'].dropna()  \n",
    "        \n",
    "    # parameter estimation---------------------------------------------------------\n",
    "    [Tfit,Sfit,cfit] = fmin(hoptim, [T,S,c])\n",
    "\n",
    "    # post-processing--------------------------------------------------------------   \n",
    "    D = T/S;  #print ('D='+str(D))\n",
    "    s = heval (tfit,r,Tfit,Sfit,cfit,Q)\n",
    "    dev = sfit-s \n",
    "    dev2 = dev*dev; norms = np.sqrt(sum(dev2))  \n",
    "    stde = np.sqrt(dev2.mean())\n",
    "    sr=2*dev.std()                            # to compare with hytool !\n",
    "    t = np.logspace(np.log10(tfit.min()),np.log10(tfit.max()),100)\n",
    "    fig = plt.figure(facecolor='w',figsize=(10,5)); ax = fig.add_subplot()\n",
    "    ax.set_xscale('log')\n",
    "    plt.plot(tfit,sfit,'o',label = 'measured') \n",
    "    plt.plot(t,heval(t,r,Tfit,Sfit,cfit,Q),'-', label = 'calculated', lw = 2)\n",
    "    plt.xlabel('time [d]'); plt.ylabel('drawdown [m]')\n",
    "    plt.title ('Pump test: Oude Korendijk, Parameter estimation: Hantush',fontsize=14)\n",
    "    plt.grid ()\n",
    "    plt.legend (loc='upper left',fontsize=12)\n",
    "    ax.text (0.04,0.5*sfit.max(),'$T =%.1f m^2/d $' % (Tfit, ),fontsize=12)\n",
    "    ax.text (0.04,0.4*sfit.max(),'$S =%.2e $' % (Sfit, ),fontsize=12)\n",
    "    ax.text (0.04,0.3*sfit.max(),'$c =%.0f d$' % (cfit, ),fontsize=12)\n",
    "    ax.text (0.04,0.2*sfit.max(),'$2-norm = %.2e $' % (norms, ),fontsize=12)\n",
    "    ax.text (0.04,0.1*sfit.max(),'$stdev = %.2e $' % (stde, ),fontsize=12)\n",
    "    ax.text (0.04,0,'$2stdev =%.2e $' % (sr, ),fontsize=12);\n",
    "\n",
    "weval2 = widgets.Button(description='Evaluate Hantush')        \n",
    "weval2.on_click(on_weval2_clicked)   \n",
    "widgets.VBox([weval2])"
   ]
  },
  {
   "cell_type": "markdown",
   "metadata": {
    "hideCode": false,
    "hidePrompt": false,
    "hide_input": true
   },
   "source": [
    "The test can be interpreted from the Theis or the Hantush point of view, i.e. without or with leakage from a layer with fixed head. Effects other than leakage may be relevant in a pumping test, like partial penetration of the screen in the aquifer, storage inside the well and delayed yield and, notably, any effects caused by non-linearity, such as non-constant aquifer thickness under the influence of the drawdown in water table aquifers. All such effects may play their role under various circumstances, but may initially be ignored, to be included only when the data show that it is necessary."
   ]
  },
  {
   "cell_type": "markdown",
   "metadata": {
    "hideCode": false,
    "hidePrompt": false
   },
   "source": [
    "## Conclusion\n",
    "  \n",
    "For this notebook the pumping test performed at Oude Korendijk in the Netherlands was selected to demonstrate different basic evaluation methods. Some methods require few measured and observed data, others more. The introduced graphical methods include a subjective component, as people may interpret curve matchimg differently.   Parameter estimation methods deliver a unique solution, which is locally optimal. Results from graphical methods can be used as initial guesses for the optimization. In that way the combination of graphical and mathematical methods ensures that the found solution delivers the best result for the characterization of the aquifer.         \n",
    "\n",
    "The evaluation methods based on the steady state or steady shape drawdown require few data only. More information from the aquifer is utilized, if the transient drawdown is taken into account. The input time series data are hard-wired in this notebook. In order to use the methods as implemented here in Jupyter for other pumping tests one may modify the data input. A notebook in which in user is enabled to enter data from other pumping tests can be found on the site https://github.com/eholzbe/PumpTest-evaluation. Python programmers may take exerpts from the notebook and use them in a programming environment.        "
   ]
  },
  {
   "cell_type": "markdown",
   "metadata": {
    "hideCode": false,
    "hidePrompt": false
   },
   "source": [
    "## Bibliography\n",
    "\n",
    "* Cooper H.H., Jacob C.E., A generalized graphical method for evaluating formation constants and summarizing well‐field history, Vol. 27(4), 526-534, 1946\n",
    "* de Glee G.J., Over grondwaterstromingen bij wateronttrekking door middel van putten, J. Waltman, Delft,  1930 (in Dutch)\n",
    "* Hantush M.S., Analysis of data from pumping tests in leaky aquifers, EOS, Vol. 37(6), 702-714, 1956\n",
    "* Hantush M.S., Flow of groundwater in relatively thick leaky aquifers, Water Res. Res., Vol. 3(2), 583-590, 1967\n",
    "* Hantush M.S., Jacob C.E., Non-steady radial flow in an infinite leaky aquifer, Trans. Am. Geophys. Union, Vol. 36, 95-100, 1955 \n",
    "* Kooper J., Beweging van het water in den bodem bij onttrekking door bronnen, De Ingenieur, Vol. 29(38), 697–706 and 29(39), 710–716, 1914 (in Dutch)\n",
    "* Krusemann G.P., de Ridder N.A., Untersuchung und Anwendung von Pumpversuchen, Verlagsges. R. Müller, Köln, 1973 (in German)\n",
    "* Kruseman G.P., de Ridder N.A., Interpretation et Discussion des Pompages d’Essai (translation from 2. ed. of 1973), Wageningen, 1974 (in French)\n",
    "* Krusemann G.P., de Ridder N.A., Analysis and evaluation of pumping test data, 2.Edition, Intern. Inst. for Land Reclamation and Improvement (ILRI), Publication 47, Wageningen, 1994, https://www.hydrology.nl/images/docs/dutch/key/Kruseman_and_De_Ridder_2000.pdf\n",
    "* Olsthoorn T., The Korendijk pumping test, https://notebook.community/Olsthoorn/TransientGroundwaterFlow/excercises_notebooks/Korendijk-ptest-theis, 2019\n",
    "* Thiem G., Hydrologische Methoden, J.M.Gebhardt, Leipzig, 1906 (in German)\n",
    "* Theis C.V., The relation between the lowering of the piezometric surface and the rate and duration of discharge of a well using ground-water storage, Transactions of the AGU, Vol. 16(2), 519-524, 1935\n",
    "* White R.W., Clebsch A., C.V. Theis - and a review of his life and work, in: Selected Contributions to Ground-Water Hydrology, US Geol. Survey Water-Supply Paper 2415, 1994, http://ponce.sdsu.edu/theis_biography.html \n",
    "* Wit K.E., De hydrologische bodemconstanten in de polder 'De Oude Korendijk' berekend uit pompproeven en laboratoriummetingen in ongeroerde monsters (The hydraulic characteristics of the Oude Korendijk polder, calculated from pumping test data and laboratory measurements of core samples), ICW Notas 190, 24p, 1963 (in Dutch)"
   ]
  }
 ],
 "metadata": {
  "hide_code_all_hidden": false,
  "hide_input": true,
  "kernelspec": {
   "display_name": "Python 3",
   "language": "python",
   "name": "python3"
  },
  "language_info": {
   "codemirror_mode": {
    "name": "ipython",
    "version": 3
   },
   "file_extension": ".py",
   "mimetype": "text/x-python",
   "name": "python",
   "nbconvert_exporter": "python",
   "pygments_lexer": "ipython3",
   "version": "3.7.6"
  },
  "toc": {
   "base_numbering": 1,
   "nav_menu": {},
   "number_sections": true,
   "sideBar": true,
   "skip_h1_title": true,
   "title_cell": "Table of Contents",
   "title_sidebar": "Contents",
   "toc_cell": true,
   "toc_position": {},
   "toc_section_display": true,
   "toc_window_display": true
  },
  "varInspector": {
   "cols": {
    "lenName": 16,
    "lenType": 16,
    "lenVar": 40
   },
   "kernels_config": {
    "python": {
     "delete_cmd_postfix": "",
     "delete_cmd_prefix": "del ",
     "library": "var_list.py",
     "varRefreshCmd": "print(var_dic_list())"
    },
    "r": {
     "delete_cmd_postfix": ") ",
     "delete_cmd_prefix": "rm(",
     "library": "var_list.r",
     "varRefreshCmd": "cat(var_dic_list()) "
    }
   },
   "position": {
    "height": "768.85px",
    "left": "838px",
    "right": "20px",
    "top": "154px",
    "width": "469px"
   },
   "types_to_exclude": [
    "module",
    "function",
    "builtin_function_or_method",
    "instance",
    "_Feature"
   ],
   "window_display": false
  }
 },
 "nbformat": 4,
 "nbformat_minor": 4
}
