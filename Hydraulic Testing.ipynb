{
 "cells": [
  {
   "cell_type": "markdown",
   "metadata": {
    "hide_input": false
   },
   "source": [
    "\n",
    "<font size = 6px, style=\"color:blue\">**Hydraulic Testing:  Pumping Test Evaluation**</font>\n",
    "\n",
    "\n",
    "Prof. habil. Dr.-Ing. Dipl.-Math. Ekkehard Holzbecher\n",
    "\n",
    "*Demo Oude Korendijk \n",
    "(partially adopted and modified from Olsthoorn)* \n",
    "https://notebook.community/Olsthoorn/TransientGroundwaterFlow/excercises_notebooks/Korendijk-ptest-theis\n"
   ]
  },
  {
   "cell_type": "markdown",
   "metadata": {
    "toc": true
   },
   "source": [
    "<h1>Table of Contents<span class=\"tocSkip\"></span></h1>\n",
    "<div class=\"toc\"><ul class=\"toc-item\"><li><span><a href=\"#Introduction\" data-toc-modified-id=\"Introduction-1\"><span class=\"toc-item-num\">1&nbsp;&nbsp;</span>Introduction</a></span></li><li><span><a href=\"#The-Oude-Korendijk-Pumping-Test\" data-toc-modified-id=\"The-Oude-Korendijk-Pumping-Test-2\"><span class=\"toc-item-num\">2&nbsp;&nbsp;</span>The Oude Korendijk Pumping Test</a></span></li><li><span><a href=\"#Interpretation-using-Data-for-Steady-State-Drawdown\" data-toc-modified-id=\"Interpretation-using-Data-for-Steady-State-Drawdown-3\"><span class=\"toc-item-num\">3&nbsp;&nbsp;</span>Interpretation using Data for Steady State Drawdown</a></span><ul class=\"toc-item\"><li><span><a href=\"#Confined-Aquifer\" data-toc-modified-id=\"Confined-Aquifer-3.1\"><span class=\"toc-item-num\">3.1&nbsp;&nbsp;</span>Confined Aquifer</a></span></li><li><span><a href=\"#Unconfined-Aquifer\" data-toc-modified-id=\"Unconfined-Aquifer-3.2\"><span class=\"toc-item-num\">3.2&nbsp;&nbsp;</span>Unconfined Aquifer</a></span></li><li><span><a href=\"#Leaky-Aquifer\" data-toc-modified-id=\"Leaky-Aquifer-3.3\"><span class=\"toc-item-num\">3.3&nbsp;&nbsp;</span>Leaky Aquifer</a></span></li></ul></li><li><span><a href=\"#Unsteady-Data-Input-and-Visualization\" data-toc-modified-id=\"Unsteady-Data-Input-and-Visualization-4\"><span class=\"toc-item-num\">4&nbsp;&nbsp;</span>Unsteady Data Input and Visualization</a></span></li><li><span><a href=\"#Basic-Interpretation-based-on-the-Theis-Solution\" data-toc-modified-id=\"Basic-Interpretation-based-on-the-Theis-Solution-5\"><span class=\"toc-item-num\">5&nbsp;&nbsp;</span>Basic Interpretation based on the Theis Solution</a></span></li><li><span><a href=\"#Classical-Interpretation-using-the-Match-on-Double-Log-Scales\" data-toc-modified-id=\"Classical-Interpretation-using-the-Match-on-Double-Log-Scales-6\"><span class=\"toc-item-num\">6&nbsp;&nbsp;</span>Classical Interpretation using the Match on Double Log Scales</a></span></li><li><span><a href=\"#Graphical-Interpretation-for-Transmissivity-and-Storativity\" data-toc-modified-id=\"Graphical-Interpretation-for-Transmissivity-and-Storativity-7\"><span class=\"toc-item-num\">7&nbsp;&nbsp;</span>Graphical Interpretation for Transmissivity and Storativity</a></span><ul class=\"toc-item\"><li><span><a href=\"#Multi-Graph\" data-toc-modified-id=\"Multi-Graph-7.1\"><span class=\"toc-item-num\">7.1&nbsp;&nbsp;</span>Multi-Graph</a></span></li><li><span><a href=\"#Single-Graph\" data-toc-modified-id=\"Single-Graph-7.2\"><span class=\"toc-item-num\">7.2&nbsp;&nbsp;</span>Single Graph</a></span></li></ul></li><li><span><a href=\"#Error-Measures\" data-toc-modified-id=\"Error-Measures-8\"><span class=\"toc-item-num\">8&nbsp;&nbsp;</span>Error Measures</a></span></li><li><span><a href=\"#Direct-Optimization-of-Transmissivity-and-Storativity\" data-toc-modified-id=\"Direct-Optimization-of-Transmissivity-and-Storativity-9\"><span class=\"toc-item-num\">9&nbsp;&nbsp;</span>Direct Optimization of Transmissivity and Storativity</a></span></li><li><span><a href=\"#Parameter-Estimation\" data-toc-modified-id=\"Parameter-Estimation-10\"><span class=\"toc-item-num\">10&nbsp;&nbsp;</span>Parameter Estimation</a></span><ul class=\"toc-item\"><li><span><a href=\"#Confined-Aquifer\" data-toc-modified-id=\"Confined-Aquifer-10.1\"><span class=\"toc-item-num\">10.1&nbsp;&nbsp;</span>Confined Aquifer</a></span></li><li><span><a href=\"#Leaky-Aquifer\" data-toc-modified-id=\"Leaky-Aquifer-10.2\"><span class=\"toc-item-num\">10.2&nbsp;&nbsp;</span>Leaky Aquifer</a></span></li></ul></li><li><span><a href=\"#Conclusion\" data-toc-modified-id=\"Conclusion-11\"><span class=\"toc-item-num\">11&nbsp;&nbsp;</span>Conclusion</a></span></li><li><span><a href=\"#Bibliography\" data-toc-modified-id=\"Bibliography-12\"><span class=\"toc-item-num\">12&nbsp;&nbsp;</span>Bibliography</a></span></li></ul></div>"
   ]
  },
  {
   "cell_type": "markdown",
   "metadata": {},
   "source": [
    "## Introduction\n",
    "\n",
    "In a pumping test the drawdown of the water table in a piezometer is recorded, as response to pumping from a nearby well. Pumping tests belong into the common toolbox of hydro-geologists, used to obtain basic parameters for aquifer characterization. It is common practice to determine transmissivity (T) and storativity (S) from fitting 1D-analytical solutions to the observed drawdown. The application of this classical evaluation method is related to various idealistic assumptions.\n",
    "\n",
    "The most important ones are listed in the sequel. The aquifer is homogeneous and isotropic, has a constant thickness and has infinite extend. The well is assumed to be ideal, i.e. it is sreened over the entire thickness of the aquifer. The well diameter is small. Pumping is performed at constant rate.\n",
    "\n",
    "In 1970 Kruseman & de Ridder published the probably most used and referenced textbook on pumping test evaluations. A translation in German came out already in 1993. The book was revised several times. The 1994 version is free available on the internet. The book covers evaluation methods for various types of aquifers and conditions on groundwater wells, including examples with data. In the book the most common method, introduced by Theis (1937) is outlined, using a pumping test, performed at a location, called the Oude Korendijk, in the Netherlands.  "
   ]
  },
  {
   "cell_type": "markdown",
   "metadata": {},
   "source": [
    "## The Oude Korendijk Pumping Test"
   ]
  },
  {
   "cell_type": "markdown",
   "metadata": {},
   "source": [
    "In a report Wit (1963) describes and evaluates several pumping tests, performed in the Oude Korendijk polder areas. The one most cited test is identified as H2 in the original paper, which was performed on July 10th 1962. The figure below gives an impression on the type of landscape in polder areas in the Netherlands.    "
   ]
  },
  {
   "cell_type": "markdown",
   "metadata": {},
   "source": [
    "<div><img src=\"OKfoto.png\" align=\"center\"/></div>"
   ]
  },
  {
   "cell_type": "markdown",
   "metadata": {},
   "source": [
    "The locality south of Rotterdam is depicted in the figure below (Wit 1963). In the south, at the bottom of the figure, the Rhine river can be identified. The area is criss-crossed by various trenches for drainage.  "
   ]
  },
  {
   "cell_type": "markdown",
   "metadata": {},
   "source": [
    "<div><img src=\"OK1.png\" width=\"480\" height=\"320\" align=\"center\"/></div>"
   ]
  },
  {
   "cell_type": "markdown",
   "metadata": {},
   "source": [
    "The Oude Korendijk pumping test is a test in a confined, leaky or unconfined setting, which should yield a value for the aquifers' transmissivity and its storage coefficient. The following figure depicts a cross sectional view of the geological situation at the site (Wit 1963). The figure text is in Dutch; here some translations: pompput = pumping well, zand = sand, veen = peat, grint = gravel, peilfilter = filter. "
   ]
  },
  {
   "cell_type": "markdown",
   "metadata": {
    "hide_input": true
   },
   "source": [
    "<div><img src=\"OK2.png\" width=\"720\" align=\"center\"/></div>"
   ]
  },
  {
   "cell_type": "markdown",
   "metadata": {},
   "source": [
    "The well was pumped with a constant rate of 768 m$^3$/d. There are four piezometers in the vicinity of the pumping well, which can be taken as observation points. The nearest is only 80 cm away from the well. The other three observation points are located in a distance of 30 m, 90 m and 215 m . The following figure shows the locations and final drawdown in the Oude Korendijk pumping test measured after almost 14 hours."
   ]
  },
  {
   "cell_type": "markdown",
   "metadata": {},
   "source": [
    "<div><img src=\"OK3.png\" width=\"720\" align=\"center\"/></div>"
   ]
  },
  {
   "cell_type": "markdown",
   "metadata": {},
   "source": [
    "Our focus will be on the two observation points at intermediate distances, i.e 30 and 90 m away from the pumping well. The one in direct vicinity may be influenced by local conditions around the well. These conditions may be disturbed due to the drilling and installation of the well and the so called skin effect. The most distant observation point may be influenced by boundary conditions. The polder in the Netherlands are surrounded by surface water bodies, the Rhine river and trenches filled by drainage water. The following figures show the drawdown measurements at the two intermediate observation points: observation 1 for the one in 30 m distance, observation 2 for the one in 90 m distance. "
   ]
  },
  {
   "cell_type": "markdown",
   "metadata": {},
   "source": [
    "## Interpretation using Data for Steady State Drawdown"
   ]
  },
  {
   "cell_type": "markdown",
   "metadata": {},
   "source": [
    "### Confined Aquifer\n",
    "The solution for the steady state drawdown $s$ in a distance $r$ from the pumping well after a long time of pumping was given by Thiem (1906)"
   ]
  },
  {
   "cell_type": "markdown",
   "metadata": {},
   "source": [
    "$$ s(r) = -\\frac {Q} {2 \\pi T} \\ln (r)+C $$"
   ]
  },
  {
   "cell_type": "markdown",
   "metadata": {},
   "source": [
    "The transmissivity $T$ is a property of the aquifer, characterizing its ability to conduct water. $Q$ denotes the pumping rate. $C$ is an integration constant that emerges due to the solution of a differential equation. If the final drawdown measures $s_1$ and $s_2$ are given at two observation points at different distances $r_1$ and $r_2$, the integration constant can be eliminated and a formula for the transmissivity results: "
   ]
  },
  {
   "cell_type": "markdown",
   "metadata": {
    "hide_input": false
   },
   "source": [
    "$$ T = \\frac {Q} {2 \\pi (s_1-s_2)} \\ln (r_2/r_1) $$"
   ]
  },
  {
   "cell_type": "markdown",
   "metadata": {},
   "source": [
    "In the Oude Korendijk pump test a steady state was not reached. However, the difference between the drawdown values in the two major observation wells remains almost constant. We call this a quasi-steady state, assuming that the difference will be the same, when a stationary situation is reached. For the evaluation using the Thiem formula we need the pumping rate, here in physical units m$^3$/d: "
   ]
  },
  {
   "cell_type": "code",
   "execution_count": 1,
   "metadata": {
    "hide_input": false,
    "scrolled": false
   },
   "outputs": [
    {
     "data": {
      "application/vnd.jupyter.widget-view+json": {
       "model_id": "ac6c12e6270942acb372c934f96b5467",
       "version_major": 2,
       "version_minor": 0
      },
      "text/plain": [
       "BoundedFloatText(value=768.0, description='Pump rate:', disabled=True, max=1000.0, step=1.0)"
      ]
     },
     "metadata": {},
     "output_type": "display_data"
    }
   ],
   "source": [
    "from hide_code import hide_code\n",
    "from scipy.special import exp1\n",
    "import numpy as np\n",
    "import matplotlib.pyplot as plt\n",
    "import pandas as pd\n",
    "import ipywidgets as widgets\n",
    "#from IPython.display import display\n",
    "#from IPython.display import HTML\n",
    "#import IPython.core.display as di # Example: di.display_html('<h3>%s:</h3>' % str, raw=True)\n",
    "# This line will hide code by default when the notebook is exported as HTML\n",
    "#di.display_html('<script>jQuery(function() {if (jQuery(\"body.notebook_app\").length == 0) { jQuery(\".input_area\").toggle(); jQuery(\".prompt\").toggle();}});</script>', raw=True)\n",
    "%matplotlib inline\n",
    "\n",
    "wQ = widgets.BoundedFloatText(value=768, min=0, max=1000.0, step=1, description='Pump rate:', disabled=True)\n",
    "wQ"
   ]
  },
  {
   "cell_type": "markdown",
   "metadata": {
    "hide_input": true
   },
   "source": [
    "Enter distances and final drawdowns in meter!"
   ]
  },
  {
   "cell_type": "code",
   "execution_count": 2,
   "metadata": {
    "hide_input": true,
    "scrolled": false
   },
   "outputs": [
    {
     "data": {
      "application/vnd.jupyter.widget-view+json": {
       "model_id": "39bfadb7499b401aae566c6107400b2e",
       "version_major": 2,
       "version_minor": 0
      },
      "text/plain": [
       "HBox(children=(BoundedFloatText(value=30.0, description='$r_1$:', max=215.0), BoundedFloatText(value=90.0, des…"
      ]
     },
     "metadata": {},
     "output_type": "display_data"
    }
   ],
   "source": [
    "wr1 = widgets.BoundedFloatText(value=30.0, min=0.0, max=215.0, description='$r_1$:', disabled=False)\n",
    "wr2 = widgets.BoundedFloatText(value=90.0, min=0.0, max=215.0, description='$r_2$:', disabled=False)\n",
    "ws1 = widgets.BoundedFloatText(value=1.088, min=0.0, max=3.0, description='$s_1$:', disabled=False)\n",
    "ws2 = widgets.BoundedFloatText(value=0.716, min=0.0, max=3.0, description='$s_2$:', disabled=False)\n",
    "widgets.HBox([wr1,wr2,ws1,ws2]) "
   ]
  },
  {
   "cell_type": "markdown",
   "metadata": {
    "hide_input": true
   },
   "source": [
    "Run the next cell to see the result for transmissivity."
   ]
  },
  {
   "cell_type": "code",
   "execution_count": 3,
   "metadata": {
    "hide_input": true
   },
   "outputs": [
    {
     "name": "stdout",
     "output_type": "stream",
     "text": [
      "T = 361 m²/d\n"
     ]
    }
   ],
   "source": [
    "Q = wQ.value         \n",
    "r1 = wr1.value; s1 = ws1.value; r2 =wr2.value; s2 = ws2.value  # distances and drawdown \n",
    "T1 = Q * np.log(r1/r2) / (2*np.pi*(s2-s1))\n",
    "print('T = {:.0f} m\\u00b2/d'.format(T1))\n",
    "hide_code()"
   ]
  },
  {
   "cell_type": "markdown",
   "metadata": {},
   "source": [
    "The transmissivity is related to the conductivity $K$ of the porous medium in the aquifer by: $T=K \\cdot D$. \n",
    "\n",
    "For the computation of the conductivity the aquifer thickness $D$ of the aquifer has to be given. "
   ]
  },
  {
   "cell_type": "code",
   "execution_count": 4,
   "metadata": {
    "hide_input": true,
    "scrolled": true
   },
   "outputs": [
    {
     "data": {
      "application/vnd.jupyter.widget-view+json": {
       "model_id": "34c374132ff743d590b375c254943908",
       "version_major": 2,
       "version_minor": 0
      },
      "text/plain": [
       "BoundedFloatText(value=7.0, description='Thickness:', max=15.0, step=1.0)"
      ]
     },
     "metadata": {},
     "output_type": "display_data"
    }
   ],
   "source": [
    "wD = widgets.BoundedFloatText(value=7, min=0, max=15.0, step=1, description='Thickness:', disabled=False)\n",
    "wD\n",
    "hide_code()"
   ]
  },
  {
   "cell_type": "markdown",
   "metadata": {},
   "source": [
    " Obtain the result for the hydraulic conductivity of the porous medium by running the next cell: "
   ]
  },
  {
   "cell_type": "code",
   "execution_count": 5,
   "metadata": {
    "hide_input": true,
    "scrolled": true
   },
   "outputs": [
    {
     "name": "stdout",
     "output_type": "stream",
     "text": [
      "K = 52 m/d\n"
     ]
    }
   ],
   "source": [
    "print('K = {:.0f} m/d'.format(T1/wD.value))"
   ]
  },
  {
   "cell_type": "markdown",
   "metadata": {},
   "source": [
    "### Unconfined Aquifer \n",
    "The Thiem formula shown above holds for a confined aquifer. An analogous derivation derivation can be performed for an unconfined aquifer. The formula for the hydraulic head is:"
   ]
  },
  {
   "cell_type": "markdown",
   "metadata": {},
   "source": [
    "$$ h^2(r) = \\frac {Q} {\\pi K} \\ln (r)+C $$"
   ]
  },
  {
   "cell_type": "markdown",
   "metadata": {},
   "source": [
    "where $h$ denotes the piezometric head, measured from the aquifer base. From this one obtains: "
   ]
  },
  {
   "cell_type": "markdown",
   "metadata": {
    "hide_input": false
   },
   "source": [
    "$$ K = \\frac {Q} {\\pi (h_2^2-h_1^2)} \\ln (r_2/r_1) $$"
   ]
  },
  {
   "cell_type": "markdown",
   "metadata": {},
   "source": [
    "For the calculation the constant initial head is required. We enter it here: "
   ]
  },
  {
   "cell_type": "code",
   "execution_count": 6,
   "metadata": {
    "hide_input": true,
    "scrolled": false
   },
   "outputs": [
    {
     "data": {
      "application/vnd.jupyter.widget-view+json": {
       "model_id": "f317da6c736b4735a0bd4115f284cb8c",
       "version_major": 2,
       "version_minor": 0
      },
      "text/plain": [
       "BoundedFloatText(value=7.0, description='Initial head:', max=15.0, step=1.0)"
      ]
     },
     "metadata": {},
     "output_type": "display_data"
    }
   ],
   "source": [
    "wH = widgets.BoundedFloatText(value=7, min=0, max=15.0, step=1, description='Initial head:', disabled=False)\n",
    "wH"
   ]
  },
  {
   "cell_type": "markdown",
   "metadata": {},
   "source": [
    " and obtain the result by running the next cell: "
   ]
  },
  {
   "cell_type": "code",
   "execution_count": 7,
   "metadata": {
    "hide_input": true,
    "scrolled": false
   },
   "outputs": [
    {
     "name": "stdout",
     "output_type": "stream",
     "text": [
      "K = 59 m/d\n"
     ]
    }
   ],
   "source": [
    "h1 = wH.value-s1; h2 = wH.value-s2\n",
    "K1 = Q * np.log(r2/r1) / np.pi / (h2**2-h1**2)\n",
    "print('K = {:.0f} m/d'.format(K1))"
   ]
  },
  {
   "cell_type": "markdown",
   "metadata": {},
   "source": [
    "Also for this pumping we don't know the exact value of the initial head. Change its value and see the effect on the resulting conductivity! \n",
    "Compare the result with the conductivities that results from the output of the Thiem evaluation for the confined aquifer, identifying the aquifer thickness with the initial head."
   ]
  },
  {
   "cell_type": "markdown",
   "metadata": {},
   "source": [
    "Use the Thiem evaluation for the steady state taking the measurements at the near and far observtion points into consideration. Examine results for different pairs of observations.  "
   ]
  },
  {
   "cell_type": "markdown",
   "metadata": {},
   "source": [
    "### Leaky Aquifer\n",
    "Kooper (1914) and de Glee (1930) developed an expression for the steady drawdown in a leaky aquifer. The overlying semi-permeable layer is characterized by its vertical flow resistance $c$, which has the unit of time. The formula is:  "
   ]
  },
  {
   "cell_type": "markdown",
   "metadata": {},
   "source": [
    "$$ s(r) = \\frac{Q}{2 \\pi T} K_0(\\frac{r}{\\sqrt{Tc}}) $$"
   ]
  },
  {
   "cell_type": "markdown",
   "metadata": {},
   "source": [
    "where $K_0$ denotes the modified Bessel function 2. type 0. order. We can obtain values for the two parameters $T$ and $c$ by fitting using the method of least squares. This is done in the following cell."
   ]
  },
  {
   "cell_type": "code",
   "execution_count": 8,
   "metadata": {
    "hide_input": true
   },
   "outputs": [
    {
     "data": {
      "application/vnd.jupyter.widget-view+json": {
       "model_id": "9bb2982317c0494bb423da98a99b4b20",
       "version_major": 2,
       "version_minor": 0
      },
      "text/plain": [
       "HBox(children=(Button(description='Leaky aquifer fit', style=ButtonStyle()), Checkbox(value=False, description…"
      ]
     },
     "metadata": {},
     "output_type": "display_data"
    }
   ],
   "source": [
    "from scipy.optimize import fmin\n",
    "from scipy.special import kn as besselk\n",
    "rfit = [0.8, 30, 60, 215]\n",
    "srfit = [2.235, 1.088, 0.716, 0.25] \n",
    "T2 = 500\n",
    "\n",
    "def deGlee (x):\n",
    "    T = x[0]; c = x[1]\n",
    "    u = rfit/np.sqrt(T*c)\n",
    "    s = Q*besselk(0,u)/2/np.pi/T\n",
    "    res = (s-srfit)\n",
    "    return sum(res*res)\n",
    "\n",
    "def on_wdg_clicked(self):\n",
    "    global T2\n",
    "    c = 500\n",
    "    n = len(rfit); lr = np.log(rfit)  \n",
    "    T = (n*np.sum(lr*srfit)-np.sum(lr)*np.sum(srfit))/(n*np.sum(lr*lr)-np.sum(lr)**2)\n",
    "    T = -Q/2/np.pi/T                       # transmissivity initial guess [L^2/T]\n",
    "    [Tfit,cfit] = fmin(deGlee, [T,c]) \n",
    "\n",
    "    s = Q*besselk(0,rfit/np.sqrt(Tfit*cfit))/2/np.pi/Tfit\n",
    "    norms = np.linalg.norm(srfit-s)\n",
    "    rmax = max(rfit); smax = max(srfit)\n",
    "    r = np.arange(.9*min(rfit), rmax, step = rmax/50)\n",
    "    s = Q/2/np.pi/T*besselk(0,r/np.sqrt(Tfit*cfit))\n",
    "    fig = plt.figure(facecolor='w'); ax = fig.add_subplot()\n",
    "    if wcb.value: \n",
    "        ax.set_xscale('log'); xtext = 1\n",
    "    else:\n",
    "        xtext = 130\n",
    "    plt.plot (rfit,srfit, 'o', label = 'observation' )\n",
    "    plt.plot (r,s, '.-', label = 'modelled' )\n",
    "    plt.xlabel('distance [m]',fontsize=12)\n",
    "    plt.ylabel('drawdown [m]',fontsize=12)\n",
    "    ax.grid(b=True, c='w', lw=2, ls='-')\n",
    "    plt.legend(loc = 'upper right',fontsize=12)\n",
    "    ax.text (xtext,.7*smax,'$T = %.3e $' % (Tfit, ),fontsize=12)\n",
    "    ax.text (xtext,.6*smax,'$c =%.3e $' % (cfit, ),fontsize=12)\n",
    "    ax.text (xtext,.5*smax,'$norm =%.3e $' % (norms, ),fontsize=12)\n",
    "    plt.title ('deGlee fit',fontsize=14);\n",
    "    T2 = Tfit\n",
    "\n",
    "wdg = widgets.Button(description='Leaky aquifer fit')        \n",
    "wdg.on_click(on_wdg_clicked)   \n",
    "wcb = widgets.Checkbox(value=False, description='log', disabled=False, indent=False)\n",
    "widgets.HBox([wdg,wcb]) "
   ]
  },
  {
   "cell_type": "markdown",
   "metadata": {},
   "source": [
    "Again we can obtain the hydraulic conductivity $K$ if the aquifer thickness is known:  "
   ]
  },
  {
   "cell_type": "code",
   "execution_count": 9,
   "metadata": {
    "hide_input": true,
    "scrolled": true
   },
   "outputs": [
    {
     "data": {
      "application/vnd.jupyter.widget-view+json": {
       "model_id": "888fe9f963b84f6b969405de32b7bebd",
       "version_major": 2,
       "version_minor": 0
      },
      "text/plain": [
       "BoundedFloatText(value=7.0, description='Thickness:', max=15.0, step=1.0)"
      ]
     },
     "metadata": {},
     "output_type": "display_data"
    }
   ],
   "source": [
    "wD2 = widgets.BoundedFloatText(value=7, min=0, max=15.0, step=1, description='Thickness:', disabled=False)\n",
    "wD2"
   ]
  },
  {
   "cell_type": "markdown",
   "metadata": {},
   "source": [
    " Obtain the result by running the next cell: "
   ]
  },
  {
   "cell_type": "code",
   "execution_count": 10,
   "metadata": {
    "hide_input": true,
    "scrolled": true
   },
   "outputs": [
    {
     "name": "stdout",
     "output_type": "stream",
     "text": [
      "K = 71 m/d\n"
     ]
    }
   ],
   "source": [
    "print('K = {:.0f} m/d'.format(T2/wD2.value))"
   ]
  },
  {
   "cell_type": "markdown",
   "metadata": {},
   "source": [
    "## Unsteady Data Input and Visualization"
   ]
  },
  {
   "cell_type": "markdown",
   "metadata": {},
   "source": [
    "The data for the pumping test are in the EXCEL file \"OK.xlsx\", which we'll open and read into this notebook.  "
   ]
  },
  {
   "cell_type": "code",
   "execution_count": 11,
   "metadata": {
    "hide_input": false,
    "jupyter": {
     "outputs_hidden": false
    },
    "scrolled": true
   },
   "outputs": [],
   "source": [
    "df = pd.DataFrame(columns=['t1','s1','t2','s2'])\n",
    "\n",
    "#def on_wini_clicked(self):\n",
    "#y = pd.read_excel('ok.xlsx',header=None)                     # time in seconds!\n",
    "#df['t1'] = y[0].dropna()/60; df['s1'] = y[1].dropna() \n",
    "#df['t2'] = y[2].dropna()/60; df['s2'] = y[3].dropna()\n",
    "df['t1'] =[6,15,30,42,60,84,114,139.8,168,201.6,240,321,408,498,522,600,786, \n",
    "           1080,1620,1980,2460,2880,3540,4800,5700,8340,10860,14700,18000,21600,\n",
    "           28800,36000,43680,49800,50000]\n",
    "df['s1'] =[0.04,0.08,0.13,0.18,0.23,0.28,0.33,0.36,0.39,0.42,0.45,0.5,0.54,0.57,\n",
    "           0.58,0.6,0.64,0.68,0.742,0.753,0.779,0.793,0.819,0.855,0.873,0.915,\n",
    "           0.935,0.966,0.99,1.007,1.05,1.053,1.072,1.088,1.088]\n",
    "df['t2'] =[90,120,129.6,159.6,180,210,240,259.8,330,360,450,540,780,900,1080,\n",
    "           1500,1800,2400,3180,3600,4500,5400,6300,7200,9000,10800,14880,18060,\n",
    "           21780,25320,32520,36120,40800,47100,50700]\n",
    "df['s2'] =[0.015,0.021,0.023,0.044,0.054,.075,.09,.104,.133,.153,.178,.206,.25,\n",
    "           .275,.305,.348,.364,.404,.429,.444,.467,.494,.507,.528,.55,.569,.593,\n",
    "           .614,.636,.657,.679,.688,.701,.718,.716]\n",
    "df['t1'] = df['t1']/60\n",
    "df['t2'] = df['t2']/60\n",
    "\n",
    "global kD, Sc\n",
    "    \n",
    "#wini = widgets.Button(description='Input data')        \n",
    "#wini.on_click(on_wini_clicked) \n",
    "#wini   "
   ]
  },
  {
   "cell_type": "markdown",
   "metadata": {
    "hide_input": true
   },
   "source": [
    "Let's see how the data look like. "
   ]
  },
  {
   "cell_type": "code",
   "execution_count": 12,
   "metadata": {
    "hide_input": true,
    "jupyter": {
     "outputs_hidden": false
    },
    "scrolled": false
   },
   "outputs": [
    {
     "data": {
      "application/vnd.jupyter.widget-view+json": {
       "model_id": "979d2a51d45f4705bee6195118f64c8e",
       "version_major": 2,
       "version_minor": 0
      },
      "text/plain": [
       "VBox(children=(Button(description='Plot data', style=ButtonStyle()),))"
      ]
     },
     "metadata": {},
     "output_type": "display_data"
    }
   ],
   "source": [
    "def on_wp0_clicked(self):\n",
    "    plt.rcParams[\"figure.figsize\"] = (10,5) \n",
    "    fig = plt.figure(facecolor='w'); ax = fig.add_subplot()\n",
    "    plt.plot (df['t1'],df['s1'], '.-', label = 'observation H30' )\n",
    "    plt.plot (df['t2'],df['s2'], '.-', label = 'observation H90' )\n",
    "    plt.title('Oude Korendijk pumping test measured drawdowns',fontsize=14)\n",
    "    plt.xlabel('time [min]',fontsize=12)\n",
    "    plt.ylabel('drawdown [m]',fontsize=12)\n",
    "    plt.grid()\n",
    "    plt.legend(loc = 'lower right',fontsize=12);\n",
    "    \n",
    "wp0 = widgets.Button(description='Plot data')        \n",
    "wp0.on_click(on_wp0_clicked)   \n",
    "widgets.VBox([wp0])    "
   ]
  },
  {
   "cell_type": "markdown",
   "metadata": {},
   "source": [
    "Obviously a steady state has not been reached at the end of the pump test. The visual inspection of the plot indicates that there is a constant difference between the drawdowns in the two observation wells. This would justify the application of the Thiem evaluation, as there only the difference counts. We call this situation either quasi stead-state or steady slope. Lets check the difference in a graph. "
   ]
  },
  {
   "cell_type": "code",
   "execution_count": 13,
   "metadata": {
    "hide_input": true,
    "jupyter": {
     "outputs_hidden": false
    },
    "scrolled": false
   },
   "outputs": [
    {
     "data": {
      "application/vnd.jupyter.widget-view+json": {
       "model_id": "25cea311d198458f931066f52f609917",
       "version_major": 2,
       "version_minor": 0
      },
      "text/plain": [
       "VBox(children=(Button(description='Drawdown difference', style=ButtonStyle()),))"
      ]
     },
     "metadata": {},
     "output_type": "display_data"
    }
   ],
   "source": [
    "from scipy.interpolate import interp1d\n",
    "\n",
    "def on_wp1_clicked(self):\n",
    "    plt.rcParams[\"figure.figsize\"] = (10,5) \n",
    "    fig = plt.figure(facecolor='w'); ax = fig.add_subplot()\n",
    "    f30 = interp1d(df['t1'],df['s1']); f90 = interp1d(df['t2'],df['s2'])\n",
    "    t = np.arange(6,780.0,step=1)\n",
    "    plt.plot (t, f30(t)-f90(t), 'g', label = 'H30-H90' )\n",
    "    plt.title('Drawdown difference',fontsize=14)\n",
    "    plt.xlabel('time [min]',fontsize=12)\n",
    "    plt.ylabel('drawdown difference [m]',fontsize=12)\n",
    "    plt.ylim ([0., 0.6])\n",
    "    plt.grid()\n",
    "    plt.legend(loc = 'lower right',fontsize=12);\n",
    "    \n",
    "wp1 = widgets.Button(description='Drawdown difference')        \n",
    "wp1.on_click(on_wp1_clicked)   \n",
    "widgets.VBox([wp1])    "
   ]
  },
  {
   "cell_type": "markdown",
   "metadata": {
    "hide_input": true
   },
   "source": [
    "One can visualize the same data using log scale for time: "
   ]
  },
  {
   "cell_type": "code",
   "execution_count": 14,
   "metadata": {
    "hide_input": true,
    "scrolled": false
   },
   "outputs": [
    {
     "data": {
      "application/vnd.jupyter.widget-view+json": {
       "model_id": "a02f66b6a23b450c91071481a20fb8e6",
       "version_major": 2,
       "version_minor": 0
      },
      "text/plain": [
       "VBox(children=(Button(description='Plot log scale', style=ButtonStyle()),))"
      ]
     },
     "metadata": {},
     "output_type": "display_data"
    }
   ],
   "source": [
    "def on_wp2_clicked(self):\n",
    "    plt.rcParams[\"figure.figsize\"] = (10,5) \n",
    "    fig = plt.figure(facecolor='w'); ax = fig.add_subplot()\n",
    "    ax.set_xscale('log')\n",
    "    plt.plot (df['t1'],df['s1'], '.-', label = 'observation H30' )\n",
    "    plt.plot (df['t2'],df['s2'], '.-', label = 'observation H90' )\n",
    "    plt.title('Oude Korendijk pumping test measured drawdowns',fontsize=14)\n",
    "    plt.xlabel('time [min]',fontsize=12)\n",
    "    plt.ylabel('drawdown [m]',fontsize=12)\n",
    "    plt.grid()\n",
    "    plt.legend(loc = 'lower right',fontsize=12);\n",
    "\n",
    "wp2 = widgets.Button(description='Plot log scale')        \n",
    "wp2.on_click(on_wp2_clicked)   \n",
    "widgets.VBox([wp2]) "
   ]
  },
  {
   "cell_type": "markdown",
   "metadata": {
    "hide_input": true
   },
   "source": [
    "The same in the loglog system, with logarithmic scale on both axes:"
   ]
  },
  {
   "cell_type": "code",
   "execution_count": 15,
   "metadata": {
    "hide_input": true,
    "scrolled": false
   },
   "outputs": [
    {
     "data": {
      "application/vnd.jupyter.widget-view+json": {
       "model_id": "fd5f9fb16b404d2fb08a5f03f68b1732",
       "version_major": 2,
       "version_minor": 0
      },
      "text/plain": [
       "VBox(children=(Button(description='Plot loglog scale', style=ButtonStyle()),))"
      ]
     },
     "metadata": {},
     "output_type": "display_data"
    }
   ],
   "source": [
    "def on_wp3_clicked(self):\n",
    "    plt.rcParams[\"figure.figsize\"] = (10,5) \n",
    "    fig = plt.figure(facecolor='w'); ax = fig.add_subplot()\n",
    "    ax.set_xscale('log'); ax.set_yscale('log')\n",
    "    plt.plot (df['t1'],df['s1'], '.-', label = 'observation H30' )\n",
    "    plt.plot (df['t2'],df['s2'], '.-', label = 'observation H90' )\n",
    "    plt.title('Oude Korendijk pumping test measured drawdowns',fontsize=14)\n",
    "    plt.xlabel('time [min]',fontsize=12)\n",
    "    plt.ylabel('drawdown [m]',fontsize=12)\n",
    "    plt.grid()\n",
    "    plt.legend(loc = 'lower right',fontsize=12);\n",
    "    \n",
    "wp3 = widgets.Button(description='Plot loglog scale')        \n",
    "wp3.on_click(on_wp3_clicked)   \n",
    "widgets.VBox([wp3])     "
   ]
  },
  {
   "cell_type": "markdown",
   "metadata": {},
   "source": [
    "For a comparison of the two curves it is convenient to visualize in double log scale using $t/r^2$ on x-axis. "
   ]
  },
  {
   "cell_type": "code",
   "execution_count": 16,
   "metadata": {
    "hide_input": true,
    "scrolled": false
   },
   "outputs": [
    {
     "data": {
      "application/vnd.jupyter.widget-view+json": {
       "model_id": "d9a729c21eeb44eabc3de06cc52ce484",
       "version_major": 2,
       "version_minor": 0
      },
      "text/plain": [
       "VBox(children=(Button(description='Plot t/r/r scale', style=ButtonStyle()),))"
      ]
     },
     "metadata": {},
     "output_type": "display_data"
    }
   ],
   "source": [
    "def on_wp4_clicked(self):\n",
    "    plt.rcParams[\"figure.figsize\"] = (10,5) \n",
    "    fig = plt.figure(facecolor='w'); ax = fig.add_subplot()\n",
    "    ax.set_xscale('log')\n",
    "    plt.plot (df['t1']/30/30,df['s1'], '.-', label = 'observation H30' )\n",
    "    plt.plot (df['t2']/90/90,df['s2'], '.-', label = 'observation H90' )\n",
    "    plt.title('Oude Korendijk pumping test measured drawdowns',fontsize=14)\n",
    "    plt.xlabel('$t/r^2$ [min/m$^2$]',fontsize=12)\n",
    "    plt.ylabel('drawdown [m]',fontsize=12)\n",
    "    plt.grid()\n",
    "    plt.legend(loc = 'lower right',fontsize=12);\n",
    "\n",
    "wp4 = widgets.Button(description='Plot t/r/r scale')        \n",
    "wp4.on_click(on_wp4_clicked)   \n",
    "widgets.VBox([wp4]) "
   ]
  },
  {
   "cell_type": "markdown",
   "metadata": {},
   "source": [
    "## Basic Interpretation based on the Theis Solution"
   ]
  },
  {
   "cell_type": "markdown",
   "metadata": {},
   "source": [
    "The solution for the unsteady drawdown due to a single well with fully penetrating screen in a uniform aquifer of infinite extent was first published by Theis (1935), using a mathematical derivation by Lubin, transfered in private communication. The solution revolutioned the science of hydrology (White & Clebsch 1994). The solution for drawdown $s$ as function of distance from the pumping well $r$ and time $t$ is given by:"
   ]
  },
  {
   "cell_type": "markdown",
   "metadata": {},
   "source": [
    "$$ s(r, t) = \\frac Q {4 \\pi T} W(u),\\,\\,\\,\\, u = \\frac {r^2 S} {4 T t}$$"
   ]
  },
  {
   "cell_type": "markdown",
   "metadata": {},
   "source": [
    "where $T$ denotes the transmissivity, $S$ the storage coefficient, and $Q$ the pumping rate. $W$ is the well function, in mathematical literature known as exponential integral. For evaluations before computers became generally available, is was handy to utilize simpler approximations for the well function. Cooper & Jacob (1946) proposed:    "
   ]
  },
  {
   "cell_type": "markdown",
   "metadata": {},
   "source": [
    "$$ W(u) \\approx -0.2557 - \\ln(u) +u - u^2/4 $$"
   ]
  },
  {
   "cell_type": "markdown",
   "metadata": {},
   "source": [
    "We may also use the approximation of this solution, which is valid for long enough times and/or small enough distances from the well:"
   ]
  },
  {
   "cell_type": "markdown",
   "metadata": {},
   "source": [
    "$$ s(r, t) \\approx \\frac {Q} {4 \\pi T} \\ln \\left( \\frac {2.25 T t} {r^2 S} \\right) $$ "
   ]
  },
  {
   "cell_type": "markdown",
   "metadata": {},
   "source": [
    "$\\ln$ denotes the natural logarithm. The formula can be modified for the decadic logarithm "
   ]
  },
  {
   "cell_type": "markdown",
   "metadata": {},
   "source": [
    "$$ s = \\frac {2.3 Q} {4 \\pi T} \\log \\left( \\frac {2.25 T t} {r^2 S} \\right) $$"
   ]
  },
  {
   "cell_type": "markdown",
   "metadata": {},
   "source": [
    "First determine the drawdown per log cycle from the last double-log graph and observation point H30 $\\approx (1.1 - 0.21) / 3 \\approx 0.30 $"
   ]
  },
  {
   "cell_type": "markdown",
   "metadata": {},
   "source": [
    "$$ \\Delta s = s_{10t} - s_t = 0.30 = \\frac {2.3 Q} {4 \\pi T} $$"
   ]
  },
  {
   "cell_type": "markdown",
   "metadata": {},
   "source": [
    "or, resolved for $T$:"
   ]
  },
  {
   "cell_type": "markdown",
   "metadata": {},
   "source": [
    "$$ T = \\frac {2.3 Q} {4 \\pi \\Delta s} $$"
   ]
  },
  {
   "cell_type": "markdown",
   "metadata": {},
   "source": [
    "Notice that it doesn't matter in what dimension time is, at it drops out of the drawdown at $10t$ is compared with that at $t$. Therefore, with $Q$ = 768 m$^3$/d, one gets"
   ]
  },
  {
   "cell_type": "code",
   "execution_count": 17,
   "metadata": {
    "hide_input": true,
    "jupyter": {
     "outputs_hidden": false
    },
    "scrolled": true
   },
   "outputs": [
    {
     "name": "stdout",
     "output_type": "stream",
     "text": [
      "T = 316 m²/d\n"
     ]
    }
   ],
   "source": [
    "ds = (1.1 - 0.21) / 2 # drawdown increase per log cycle of time\n",
    "kD = 2.3 * Q / (4 * np.pi * ds)\n",
    "print('T = {:.0f}'.format(kD) + ' m' + chr(0x00b2) + '/d')"
   ]
  },
  {
   "cell_type": "markdown",
   "metadata": {},
   "source": [
    "For the storage coefficient determine the intersection with the straight line with the line of zero drawdown. This is $t/r^2 = 2 \\times 10 ^{-4}$ min. We have to convert to days to get answer consistent with the transmissivity.\n",
    "\n",
    "Then setting the argument of the solution equal to 1 so that the computed drawdown is 0 and using the already obtained transmissivity yields the storage coefficient.\n"
   ]
  },
  {
   "cell_type": "code",
   "execution_count": 18,
   "metadata": {
    "hide_input": true,
    "jupyter": {
     "outputs_hidden": false
    },
    "scrolled": true
   },
   "outputs": [
    {
     "name": "stdout",
     "output_type": "stream",
     "text": [
      "S = 9.87e-05\n"
     ]
    }
   ],
   "source": [
    "tr2 = 2e-4 / (24 * 60) # d/m2\n",
    "Sc = 2.25 * kD * tr2\n",
    "print('S = {:.2e}'.format(Sc))"
   ]
  },
  {
   "cell_type": "markdown",
   "metadata": {},
   "source": [
    "Clearly, the result depends somewhat on the exact straigt line drawn through the bundel of curves for the observation wells. In the ideal situation, these curves fall onto each other. In this real-world case this is not true, which is due to non-uniformity of the real-world aquifer. There are many real-world pumping tests, where the match is much closer. But it is good to keep in mind that the real world is less homogeneous than the analytic solution presumes.\n",
    "\n",
    "Task: perform the same method of evaluation for the observations in borehole H90. "
   ]
  },
  {
   "cell_type": "markdown",
   "metadata": {},
   "source": [
    "## Classical Interpretation using the Match on Double Log Scales\n",
    "\n",
    "The classical interpreation plots the measured drawdowns on double log paper (drawdown $s$ versus $t/r^2$ ) and compares them with the Theis type curve $W(u)$ versus $1/u$ also drawn on double log paper. Because $1/u = (4 T t) / (r^2 S)$ it follows that on logarthmic scales $1/u$ and $t/r^2$ differ only by a constant factor, which represents a horizontal shift on the log scale. The drawdown $s$ only differs the constant $Q/(4 \\pi T)$ from the well function $W(u)$, and so this implies a vertical shift on logarithmic scale. Hence the measured drawdown versus $t/r^2$ on double log scale looks exactly the same as the theis type curve but it is only shifted a given distance along the horizontal axis and a given distance along the vertical axis. These two shifts yield the sought transmissivity and storage coefficient.\n",
    "\n",
    "Below we draw the Theis type curve and the drawdown $s$ multiplied by a factor $A$ and the $t/r^2$ multiplied by a factor $B$, choosing $A$ and $B$ interactively until the measured and the type curve match best.\n",
    "\n",
    "In this worked out example, I already optimized the values of $A$ and $B$ by hand. Set them both to 1 and try optimizing them yourself."
   ]
  },
  {
   "cell_type": "code",
   "execution_count": 19,
   "metadata": {
    "hide_input": true,
    "scrolled": false
   },
   "outputs": [
    {
     "data": {
      "image/png": "[encoded data removed]",
      "text/plain": [
       "<Figure size 720x360 with 1 Axes>"
      ]
     },
     "metadata": {},
     "output_type": "display_data"
    }
   ],
   "source": [
    "plt.rcParams[\"figure.figsize\"] = (10,5)           \n",
    "A = 7.0; B = 1.0e7\n",
    "u = np.logspace(-4, 0.25, 41)\n",
    "fig = plt.figure(facecolor='w'); ax = fig.add_subplot()\n",
    "\n",
    "# the Theis type curve\n",
    "plt.plot(1/u, exp1(u), label='Theis')\n",
    "\n",
    "# The measurements\n",
    "plt.plot (B*df['t1']/24/60/30/30,A*df['s1'], '.', label = 'observation H30' )\n",
    "plt.plot (B*df['t2']/24/60/90/90,A*df['s2'], '.', label = 'observation H90' ) \n",
    "ax.set_xscale('log'); ax.set_yscale('log')\n",
    "plt.title('Type curve and $A \\cdot s$ vs $B \\cdot t/r^2$, with $A$={}, $B$={}'.format(A, B),fontsize=14)\n",
    "plt.xlabel('$1/u$ and $B \\, t/r^2$',fontsize=12); plt.ylabel('W(u) and $A \\, s$',fontsize=12)\n",
    "plt.xscale('log'); plt.yscale('log')\n",
    "plt.grid()\n",
    "plt.legend(loc='lower right',fontsize=12);"
   ]
  },
  {
   "cell_type": "markdown",
   "metadata": {
    "hide_input": false
   },
   "source": [
    "So $A \\cdot s = W(u)$ and $s = \\frac Q {2 \\pi T} W(u)$ and, therefore $A = \\frac {4 \\pi T} {Q}$ and $ T = \\frac {A Q} {4 \\pi}$.\n",
    "\n",
    "Click the next cell to obtain the result:"
   ]
  },
  {
   "cell_type": "code",
   "execution_count": 20,
   "metadata": {
    "hide_input": true,
    "scrolled": true
   },
   "outputs": [
    {
     "name": "stdout",
     "output_type": "stream",
     "text": [
      "T = 428 [m^2/d]\n"
     ]
    }
   ],
   "source": [
    "kD = A * Q /4 /np.pi\n",
    "print('T = {:.0f} [m^2/d]'.format(kD))"
   ]
  },
  {
   "cell_type": "markdown",
   "metadata": {},
   "source": [
    "The storage coefficient then follows from $\\frac 1 u = B \\frac t {r^2}$, that is, $\\frac {4 T t} {r^2 S} = B \\frac t {r^2}$ so that $S = \\frac {4 T} B$. Click the next cell to obtain the result"
   ]
  },
  {
   "cell_type": "code",
   "execution_count": 21,
   "metadata": {
    "hide_input": true,
    "scrolled": false
   },
   "outputs": [
    {
     "name": "stdout",
     "output_type": "stream",
     "text": [
      "S = 1.71e-04 [-]\n"
     ]
    }
   ],
   "source": [
    "Sc = 4 * kD / B\n",
    "print('S = {:.2e} [-]'.format(Sc))"
   ]
  },
  {
   "cell_type": "markdown",
   "metadata": {},
   "source": [
    "As one sees, the results obtained this way are consistent with those obtained by the previous method."
   ]
  },
  {
   "cell_type": "markdown",
   "metadata": {},
   "source": [
    "## Graphical Interpretation for Transmissivity and Storativity \n",
    "\n",
    "The method peformed by shifting of the measurements drawn on double log paper over the Theis type curve also drawn on double log paper. However, because we now have a computer, we could just as well directly optimize $T$ and $S$ by trial and error to find the best match between type curve and measurements. For the following we proceed with the data measured at 30 m distance from the pumping well:"
   ]
  },
  {
   "cell_type": "code",
   "execution_count": 22,
   "metadata": {
    "hide_input": true,
    "scrolled": false
   },
   "outputs": [
    {
     "data": {
      "application/vnd.jupyter.widget-view+json": {
       "model_id": "723eeff3ae444b658d22a68df6a37e92",
       "version_major": 2,
       "version_minor": 0
      },
      "text/plain": [
       "BoundedFloatText(value=30.0, description='Distance:', max=90.0, min=30.0, step=60.0)"
      ]
     },
     "metadata": {},
     "output_type": "display_data"
    }
   ],
   "source": [
    "wr = widgets.BoundedFloatText(value=30.0, min=30.0, max=90.0, step = 60.0, description='Distance:', disabled=False)\n",
    "wr"
   ]
  },
  {
   "cell_type": "markdown",
   "metadata": {
    "hide_input": false
   },
   "source": [
    "### Multi-Graph\n",
    "Use the sliders to select values for $A$ and log10($B$)"
   ]
  },
  {
   "cell_type": "code",
   "execution_count": 23,
   "metadata": {
    "hide_input": true,
    "scrolled": false
   },
   "outputs": [
    {
     "data": {
      "application/vnd.jupyter.widget-view+json": {
       "model_id": "76a17954359a4c68b10c89f12ea6b954",
       "version_major": 2,
       "version_minor": 0
      },
      "text/plain": [
       "HBox(children=(FloatSlider(value=1.0, description='$A$', max=10.0, min=0.1), FloatSlider(value=1.0, descriptio…"
      ]
     },
     "metadata": {},
     "output_type": "display_data"
    }
   ],
   "source": [
    "slider1 = widgets.FloatSlider(1, description = '$A$', min=0.1, max=10, step=0.1)\n",
    "slider2 = widgets.FloatSlider(1, description = 'log10($B$)', min=0.1, max=10, step=0.1)\n",
    "widgets.HBox([slider1,slider2])"
   ]
  },
  {
   "cell_type": "markdown",
   "metadata": {
    "hide_input": true
   },
   "source": [
    "Run the next cell and press the check button, whenever you have changed the slider values. Make sure that you enable toggle scrolling (see: Cell-Current outputs). In order to restart checking re-run the cell."
   ]
  },
  {
   "cell_type": "code",
   "execution_count": 24,
   "metadata": {
    "hide_input": true,
    "scrolled": false
   },
   "outputs": [
    {
     "data": {
      "application/vnd.jupyter.widget-view+json": {
       "model_id": "b07f214156dd49359831ec0ab71e4290",
       "version_major": 2,
       "version_minor": 0
      },
      "text/plain": [
       "Button(description='Check', style=ButtonStyle())"
      ]
     },
     "metadata": {},
     "output_type": "display_data"
    }
   ],
   "source": [
    "plt.rcParams[\"figure.figsize\"] = (10,5) \n",
    "from IPython.display import display \n",
    "\n",
    "btn = widgets.Button(description='Check')\n",
    "display(btn)\n",
    "\n",
    "def btn_eventhandler(obj):\n",
    "    global kD,Sc\n",
    "    A = slider1.value\n",
    "    B = 10**(slider2.value)\n",
    "\n",
    "    u = np.logspace(-4, 0.25, 41)\n",
    "    fig = plt.figure(facecolor='w'); ax = fig.add_subplot()\n",
    "\n",
    "    # the Theis type curve\n",
    "    plt.plot(1/u, exp1(u), label='Theis')\n",
    "\n",
    "    # the measurements\n",
    "    r = wr.value; Q = wQ.value\n",
    "    if r <= 50:\n",
    "        plt.plot (B*df['t1']/24/60/r/r,A*df['s1'], '.', label = 'observation' )\n",
    "    else:\n",
    "        plt.plot (B*df['t2']/24/60/r/r,A*df['s2'], '.', label = 'observation' ) \n",
    "        \n",
    "    ax.set_xscale('log'); ax.set_yscale('log');\n",
    "    plt.xlabel('$1/u$ and $B \\, t/r^2$',fontsize=16); plt.ylabel('W(u) and $A \\cdot s$',fontsize=16)\n",
    "    plt.xscale('log'); plt.yscale('log');\n",
    "    plt.grid();\n",
    "    plt.legend(loc='upper left',fontsize=12);\n",
    "    T = A * Q /4 /np.pi   # print('T = {:.0f} m2/d'.format(kD))\n",
    "    S = 4 * T / B         #print('S = {:.2e} [-]'.format(S))\n",
    "    ax.text (380,0.23,'$T =%.2e m^2/d$' % (T, ),fontsize=12)\n",
    "    ax.text (380,0.15,'$S =%.2e $' % (S, ),fontsize=12)\n",
    "    ax.set_title('Multi Graph', size=14);\n",
    "    Sc = S; kD = T\n",
    "\n",
    "btn.on_click(btn_eventhandler)"
   ]
  },
  {
   "cell_type": "markdown",
   "metadata": {},
   "source": [
    "### Single Graph\n",
    "Run the following cell to see the effect of slider updated in a single figure."
   ]
  },
  {
   "cell_type": "code",
   "execution_count": 25,
   "metadata": {
    "hide_input": true,
    "scrolled": false
   },
   "outputs": [
    {
     "data": {
      "application/javascript": [
       "/* Put everything inside the global mpl namespace */\n",
       "window.mpl = {};\n",
       "\n",
       "\n",
       "mpl.get_websocket_type = function() {\n",
       "    if (typeof(WebSocket) !== 'undefined') {\n",
       "        return WebSocket;\n",
       "    } else if (typeof(MozWebSocket) !== 'undefined') {\n",
       "        return MozWebSocket;\n",
       "    } else {\n",
       "        alert('Your browser does not have WebSocket support. ' +\n",
       "              'Please try Chrome, Safari or Firefox ≥ 6. ' +\n",
       "              'Firefox 4 and 5 are also supported but you ' +\n",
       "              'have to enable WebSockets in about:config.');\n",
       "    };\n",
       "}\n",
       "\n",
       "mpl.figure = function(figure_id, websocket, ondownload, parent_element) {\n",
       "    this.id = figure_id;\n",
       "\n",
       "    this.ws = websocket;\n",
       "\n",
       "    this.supports_binary = (this.ws.binaryType != undefined);\n",
       "\n",
       "    if (!this.supports_binary) {\n",
       "        var warnings = document.getElementById(\"mpl-warnings\");\n",
       "        if (warnings) {\n",
       "            warnings.style.display = 'block';\n",
       "            warnings.textContent = (\n",
       "                \"This browser does not support binary websocket messages. \" +\n",
       "                    \"Performance may be slow.\");\n",
       "        }\n",
       "    }\n",
       "\n",
       "    this.imageObj = new Image();\n",
       "\n",
       "    this.context = undefined;\n",
       "    this.message = undefined;\n",
       "    this.canvas = undefined;\n",
       "    this.rubberband_canvas = undefined;\n",
       "    this.rubberband_context = undefined;\n",
       "    this.format_dropdown = undefined;\n",
       "\n",
       "    this.image_mode = 'full';\n",
       "\n",
       "    this.root = $('<div/>');\n",
       "    this._root_extra_style(this.root)\n",
       "    this.root.attr('style', 'display: inline-block');\n",
       "\n",
       "    $(parent_element).append(this.root);\n",
       "\n",
       "    this._init_header(this);\n",
       "    this._init_canvas(this);\n",
       "    this._init_toolbar(this);\n",
       "\n",
       "    var fig = this;\n",
       "\n",
       "    this.waiting = false;\n",
       "\n",
       "    this.ws.onopen =  function () {\n",
       "            fig.send_message(\"supports_binary\", {value: fig.supports_binary});\n",
       "            fig.send_message(\"send_image_mode\", {});\n",
       "            if (mpl.ratio != 1) {\n",
       "                fig.send_message(\"set_dpi_ratio\", {'dpi_ratio': mpl.ratio});\n",
       "            }\n",
       "            fig.send_message(\"refresh\", {});\n",
       "        }\n",
       "\n",
       "    this.imageObj.onload = function() {\n",
       "            if (fig.image_mode == 'full') {\n",
       "                // Full images could contain transparency (where diff images\n",
       "                // almost always do), so we need to clear the canvas so that\n",
       "                // there is no ghosting.\n",
       "                fig.context.clearRect(0, 0, fig.canvas.width, fig.canvas.height);\n",
       "            }\n",
       "            fig.context.drawImage(fig.imageObj, 0, 0);\n",
       "        };\n",
       "\n",
       "    this.imageObj.onunload = function() {\n",
       "        fig.ws.close();\n",
       "    }\n",
       "\n",
       "    this.ws.onmessage = this._make_on_message_function(this);\n",
       "\n",
       "    this.ondownload = ondownload;\n",
       "}\n",
       "\n",
       "mpl.figure.prototype._init_header = function() {\n",
       "    var titlebar = $(\n",
       "        '<div class=\"ui-dialog-titlebar ui-widget-header ui-corner-all ' +\n",
       "        'ui-helper-clearfix\"/>');\n",
       "    var titletext = $(\n",
       "        '<div class=\"ui-dialog-title\" style=\"width: 100%; ' +\n",
       "        'text-align: center; padding: 3px;\"/>');\n",
       "    titlebar.append(titletext)\n",
       "    this.root.append(titlebar);\n",
       "    this.header = titletext[0];\n",
       "}\n",
       "\n",
       "\n",
       "\n",
       "mpl.figure.prototype._canvas_extra_style = function(canvas_div) {\n",
       "\n",
       "}\n",
       "\n",
       "\n",
       "mpl.figure.prototype._root_extra_style = function(canvas_div) {\n",
       "\n",
       "}\n",
       "\n",
       "mpl.figure.prototype._init_canvas = function() {\n",
       "    var fig = this;\n",
       "\n",
       "    var canvas_div = $('<div/>');\n",
       "\n",
       "    canvas_div.attr('style', 'position: relative; clear: both; outline: 0');\n",
       "\n",
       "    function canvas_keyboard_event(event) {\n",
       "        return fig.key_event(event, event['data']);\n",
       "    }\n",
       "\n",
       "    canvas_div.keydown('key_press', canvas_keyboard_event);\n",
       "    canvas_div.keyup('key_release', canvas_keyboard_event);\n",
       "    this.canvas_div = canvas_div\n",
       "    this._canvas_extra_style(canvas_div)\n",
       "    this.root.append(canvas_div);\n",
       "\n",
       "    var canvas = $('<canvas/>');\n",
       "    canvas.addClass('mpl-canvas');\n",
       "    canvas.attr('style', \"left: 0; top: 0; z-index: 0; outline: 0\")\n",
       "\n",
       "    this.canvas = canvas[0];\n",
       "    this.context = canvas[0].getContext(\"2d\");\n",
       "\n",
       "    var backingStore = this.context.backingStorePixelRatio ||\n",
       "\tthis.context.webkitBackingStorePixelRatio ||\n",
       "\tthis.context.mozBackingStorePixelRatio ||\n",
       "\tthis.context.msBackingStorePixelRatio ||\n",
       "\tthis.context.oBackingStorePixelRatio ||\n",
       "\tthis.context.backingStorePixelRatio || 1;\n",
       "\n",
       "    mpl.ratio = (window.devicePixelRatio || 1) / backingStore;\n",
       "\n",
       "    var rubberband = $('<canvas/>');\n",
       "    rubberband.attr('style', \"position: absolute; left: 0; top: 0; z-index: 1;\")\n",
       "\n",
       "    var pass_mouse_events = true;\n",
       "\n",
       "    canvas_div.resizable({\n",
       "        start: function(event, ui) {\n",
       "            pass_mouse_events = false;\n",
       "        },\n",
       "        resize: function(event, ui) {\n",
       "            fig.request_resize(ui.size.width, ui.size.height);\n",
       "        },\n",
       "        stop: function(event, ui) {\n",
       "            pass_mouse_events = true;\n",
       "            fig.request_resize(ui.size.width, ui.size.height);\n",
       "        },\n",
       "    });\n",
       "\n",
       "    function mouse_event_fn(event) {\n",
       "        if (pass_mouse_events)\n",
       "            return fig.mouse_event(event, event['data']);\n",
       "    }\n",
       "\n",
       "    rubberband.mousedown('button_press', mouse_event_fn);\n",
       "    rubberband.mouseup('button_release', mouse_event_fn);\n",
       "    // Throttle sequential mouse events to 1 every 20ms.\n",
       "    rubberband.mousemove('motion_notify', mouse_event_fn);\n",
       "\n",
       "    rubberband.mouseenter('figure_enter', mouse_event_fn);\n",
       "    rubberband.mouseleave('figure_leave', mouse_event_fn);\n",
       "\n",
       "    canvas_div.on(\"wheel\", function (event) {\n",
       "        event = event.originalEvent;\n",
       "        event['data'] = 'scroll'\n",
       "        if (event.deltaY < 0) {\n",
       "            event.step = 1;\n",
       "        } else {\n",
       "            event.step = -1;\n",
       "        }\n",
       "        mouse_event_fn(event);\n",
       "    });\n",
       "\n",
       "    canvas_div.append(canvas);\n",
       "    canvas_div.append(rubberband);\n",
       "\n",
       "    this.rubberband = rubberband;\n",
       "    this.rubberband_canvas = rubberband[0];\n",
       "    this.rubberband_context = rubberband[0].getContext(\"2d\");\n",
       "    this.rubberband_context.strokeStyle = \"#000000\";\n",
       "\n",
       "    this._resize_canvas = function(width, height) {\n",
       "        // Keep the size of the canvas, canvas container, and rubber band\n",
       "        // canvas in synch.\n",
       "        canvas_div.css('width', width)\n",
       "        canvas_div.css('height', height)\n",
       "\n",
       "        canvas.attr('width', width * mpl.ratio);\n",
       "        canvas.attr('height', height * mpl.ratio);\n",
       "        canvas.attr('style', 'width: ' + width + 'px; height: ' + height + 'px;');\n",
       "\n",
       "        rubberband.attr('width', width);\n",
       "        rubberband.attr('height', height);\n",
       "    }\n",
       "\n",
       "    // Set the figure to an initial 600x600px, this will subsequently be updated\n",
       "    // upon first draw.\n",
       "    this._resize_canvas(600, 600);\n",
       "\n",
       "    // Disable right mouse context menu.\n",
       "    $(this.rubberband_canvas).bind(\"contextmenu\",function(e){\n",
       "        return false;\n",
       "    });\n",
       "\n",
       "    function set_focus () {\n",
       "        canvas.focus();\n",
       "        canvas_div.focus();\n",
       "    }\n",
       "\n",
       "    window.setTimeout(set_focus, 100);\n",
       "}\n",
       "\n",
       "mpl.figure.prototype._init_toolbar = function() {\n",
       "    var fig = this;\n",
       "\n",
       "    var nav_element = $('<div/>');\n",
       "    nav_element.attr('style', 'width: 100%');\n",
       "    this.root.append(nav_element);\n",
       "\n",
       "    // Define a callback function for later on.\n",
       "    function toolbar_event(event) {\n",
       "        return fig.toolbar_button_onclick(event['data']);\n",
       "    }\n",
       "    function toolbar_mouse_event(event) {\n",
       "        return fig.toolbar_button_onmouseover(event['data']);\n",
       "    }\n",
       "\n",
       "    for(var toolbar_ind in mpl.toolbar_items) {\n",
       "        var name = mpl.toolbar_items[toolbar_ind][0];\n",
       "        var tooltip = mpl.toolbar_items[toolbar_ind][1];\n",
       "        var image = mpl.toolbar_items[toolbar_ind][2];\n",
       "        var method_name = mpl.toolbar_items[toolbar_ind][3];\n",
       "\n",
       "        if (!name) {\n",
       "            // put a spacer in here.\n",
       "            continue;\n",
       "        }\n",
       "        var button = $('<button/>');\n",
       "        button.addClass('ui-button ui-widget ui-state-default ui-corner-all ' +\n",
       "                        'ui-button-icon-only');\n",
       "        button.attr('role', 'button');\n",
       "        button.attr('aria-disabled', 'false');\n",
       "        button.click(method_name, toolbar_event);\n",
       "        button.mouseover(tooltip, toolbar_mouse_event);\n",
       "\n",
       "        var icon_img = $('<span/>');\n",
       "        icon_img.addClass('ui-button-icon-primary ui-icon');\n",
       "        icon_img.addClass(image);\n",
       "        icon_img.addClass('ui-corner-all');\n",
       "\n",
       "        var tooltip_span = $('<span/>');\n",
       "        tooltip_span.addClass('ui-button-text');\n",
       "        tooltip_span.html(tooltip);\n",
       "\n",
       "        button.append(icon_img);\n",
       "        button.append(tooltip_span);\n",
       "\n",
       "        nav_element.append(button);\n",
       "    }\n",
       "\n",
       "    var fmt_picker_span = $('<span/>');\n",
       "\n",
       "    var fmt_picker = $('<select/>');\n",
       "    fmt_picker.addClass('mpl-toolbar-option ui-widget ui-widget-content');\n",
       "    fmt_picker_span.append(fmt_picker);\n",
       "    nav_element.append(fmt_picker_span);\n",
       "    this.format_dropdown = fmt_picker[0];\n",
       "\n",
       "    for (var ind in mpl.extensions) {\n",
       "        var fmt = mpl.extensions[ind];\n",
       "        var option = $(\n",
       "            '<option/>', {selected: fmt === mpl.default_extension}).html(fmt);\n",
       "        fmt_picker.append(option);\n",
       "    }\n",
       "\n",
       "    // Add hover states to the ui-buttons\n",
       "    $( \".ui-button\" ).hover(\n",
       "        function() { $(this).addClass(\"ui-state-hover\");},\n",
       "        function() { $(this).removeClass(\"ui-state-hover\");}\n",
       "    );\n",
       "\n",
       "    var status_bar = $('<span class=\"mpl-message\"/>');\n",
       "    nav_element.append(status_bar);\n",
       "    this.message = status_bar[0];\n",
       "}\n",
       "\n",
       "mpl.figure.prototype.request_resize = function(x_pixels, y_pixels) {\n",
       "    // Request matplotlib to resize the figure. Matplotlib will then trigger a resize in the client,\n",
       "    // which will in turn request a refresh of the image.\n",
       "    this.send_message('resize', {'width': x_pixels, 'height': y_pixels});\n",
       "}\n",
       "\n",
       "mpl.figure.prototype.send_message = function(type, properties) {\n",
       "    properties['type'] = type;\n",
       "    properties['figure_id'] = this.id;\n",
       "    this.ws.send(JSON.stringify(properties));\n",
       "}\n",
       "\n",
       "mpl.figure.prototype.send_draw_message = function() {\n",
       "    if (!this.waiting) {\n",
       "        this.waiting = true;\n",
       "        this.ws.send(JSON.stringify({type: \"draw\", figure_id: this.id}));\n",
       "    }\n",
       "}\n",
       "\n",
       "\n",
       "mpl.figure.prototype.handle_save = function(fig, msg) {\n",
       "    var format_dropdown = fig.format_dropdown;\n",
       "    var format = format_dropdown.options[format_dropdown.selectedIndex].value;\n",
       "    fig.ondownload(fig, format);\n",
       "}\n",
       "\n",
       "\n",
       "mpl.figure.prototype.handle_resize = function(fig, msg) {\n",
       "    var size = msg['size'];\n",
       "    if (size[0] != fig.canvas.width || size[1] != fig.canvas.height) {\n",
       "        fig._resize_canvas(size[0], size[1]);\n",
       "        fig.send_message(\"refresh\", {});\n",
       "    };\n",
       "}\n",
       "\n",
       "mpl.figure.prototype.handle_rubberband = function(fig, msg) {\n",
       "    var x0 = msg['x0'] / mpl.ratio;\n",
       "    var y0 = (fig.canvas.height - msg['y0']) / mpl.ratio;\n",
       "    var x1 = msg['x1'] / mpl.ratio;\n",
       "    var y1 = (fig.canvas.height - msg['y1']) / mpl.ratio;\n",
       "    x0 = Math.floor(x0) + 0.5;\n",
       "    y0 = Math.floor(y0) + 0.5;\n",
       "    x1 = Math.floor(x1) + 0.5;\n",
       "    y1 = Math.floor(y1) + 0.5;\n",
       "    var min_x = Math.min(x0, x1);\n",
       "    var min_y = Math.min(y0, y1);\n",
       "    var width = Math.abs(x1 - x0);\n",
       "    var height = Math.abs(y1 - y0);\n",
       "\n",
       "    fig.rubberband_context.clearRect(\n",
       "        0, 0, fig.canvas.width / mpl.ratio, fig.canvas.height / mpl.ratio);\n",
       "\n",
       "    fig.rubberband_context.strokeRect(min_x, min_y, width, height);\n",
       "}\n",
       "\n",
       "mpl.figure.prototype.handle_figure_label = function(fig, msg) {\n",
       "    // Updates the figure title.\n",
       "    fig.header.textContent = msg['label'];\n",
       "}\n",
       "\n",
       "mpl.figure.prototype.handle_cursor = function(fig, msg) {\n",
       "    var cursor = msg['cursor'];\n",
       "    switch(cursor)\n",
       "    {\n",
       "    case 0:\n",
       "        cursor = 'pointer';\n",
       "        break;\n",
       "    case 1:\n",
       "        cursor = 'default';\n",
       "        break;\n",
       "    case 2:\n",
       "        cursor = 'crosshair';\n",
       "        break;\n",
       "    case 3:\n",
       "        cursor = 'move';\n",
       "        break;\n",
       "    }\n",
       "    fig.rubberband_canvas.style.cursor = cursor;\n",
       "}\n",
       "\n",
       "mpl.figure.prototype.handle_message = function(fig, msg) {\n",
       "    fig.message.textContent = msg['message'];\n",
       "}\n",
       "\n",
       "mpl.figure.prototype.handle_draw = function(fig, msg) {\n",
       "    // Request the server to send over a new figure.\n",
       "    fig.send_draw_message();\n",
       "}\n",
       "\n",
       "mpl.figure.prototype.handle_image_mode = function(fig, msg) {\n",
       "    fig.image_mode = msg['mode'];\n",
       "}\n",
       "\n",
       "mpl.figure.prototype.updated_canvas_event = function() {\n",
       "    // Called whenever the canvas gets updated.\n",
       "    this.send_message(\"ack\", {});\n",
       "}\n",
       "\n",
       "// A function to construct a web socket function for onmessage handling.\n",
       "// Called in the figure constructor.\n",
       "mpl.figure.prototype._make_on_message_function = function(fig) {\n",
       "    return function socket_on_message(evt) {\n",
       "        if (evt.data instanceof Blob) {\n",
       "            /* FIXME: We get \"Resource interpreted as Image but\n",
       "             * transferred with MIME type text/plain:\" errors on\n",
       "             * Chrome.  But how to set the MIME type?  It doesn't seem\n",
       "             * to be part of the websocket stream */\n",
       "            evt.data.type = \"image/png\";\n",
       "\n",
       "            /* Free the memory for the previous frames */\n",
       "            if (fig.imageObj.src) {\n",
       "                (window.URL || window.webkitURL).revokeObjectURL(\n",
       "                    fig.imageObj.src);\n",
       "            }\n",
       "\n",
       "            fig.imageObj.src = (window.URL || window.webkitURL).createObjectURL(\n",
       "                evt.data);\n",
       "            fig.updated_canvas_event();\n",
       "            fig.waiting = false;\n",
       "            return;\n",
       "        }\n",
       "        else if (typeof evt.data === 'string' && evt.data.slice(0, 21) == \"data:image/png;base64\") {\n",
       "            fig.imageObj.src = evt.data;\n",
       "            fig.updated_canvas_event();\n",
       "            fig.waiting = false;\n",
       "            return;\n",
       "        }\n",
       "\n",
       "        var msg = JSON.parse(evt.data);\n",
       "        var msg_type = msg['type'];\n",
       "\n",
       "        // Call the  \"handle_{type}\" callback, which takes\n",
       "        // the figure and JSON message as its only arguments.\n",
       "        try {\n",
       "            var callback = fig[\"handle_\" + msg_type];\n",
       "        } catch (e) {\n",
       "            console.log(\"No handler for the '\" + msg_type + \"' message type: \", msg);\n",
       "            return;\n",
       "        }\n",
       "\n",
       "        if (callback) {\n",
       "            try {\n",
       "                // console.log(\"Handling '\" + msg_type + \"' message: \", msg);\n",
       "                callback(fig, msg);\n",
       "            } catch (e) {\n",
       "                console.log(\"Exception inside the 'handler_\" + msg_type + \"' callback:\", e, e.stack, msg);\n",
       "            }\n",
       "        }\n",
       "    };\n",
       "}\n",
       "\n",
       "// from http://stackoverflow.com/questions/1114465/getting-mouse-location-in-canvas\n",
       "mpl.findpos = function(e) {\n",
       "    //this section is from http://www.quirksmode.org/js/events_properties.html\n",
       "    var targ;\n",
       "    if (!e)\n",
       "        e = window.event;\n",
       "    if (e.target)\n",
       "        targ = e.target;\n",
       "    else if (e.srcElement)\n",
       "        targ = e.srcElement;\n",
       "    if (targ.nodeType == 3) // defeat Safari bug\n",
       "        targ = targ.parentNode;\n",
       "\n",
       "    // jQuery normalizes the pageX and pageY\n",
       "    // pageX,Y are the mouse positions relative to the document\n",
       "    // offset() returns the position of the element relative to the document\n",
       "    var x = e.pageX - $(targ).offset().left;\n",
       "    var y = e.pageY - $(targ).offset().top;\n",
       "\n",
       "    return {\"x\": x, \"y\": y};\n",
       "};\n",
       "\n",
       "/*\n",
       " * return a copy of an object with only non-object keys\n",
       " * we need this to avoid circular references\n",
       " * http://stackoverflow.com/a/24161582/3208463\n",
       " */\n",
       "function simpleKeys (original) {\n",
       "  return Object.keys(original).reduce(function (obj, key) {\n",
       "    if (typeof original[key] !== 'object')\n",
       "        obj[key] = original[key]\n",
       "    return obj;\n",
       "  }, {});\n",
       "}\n",
       "\n",
       "mpl.figure.prototype.mouse_event = function(event, name) {\n",
       "    var canvas_pos = mpl.findpos(event)\n",
       "\n",
       "    if (name === 'button_press')\n",
       "    {\n",
       "        this.canvas.focus();\n",
       "        this.canvas_div.focus();\n",
       "    }\n",
       "\n",
       "    var x = canvas_pos.x * mpl.ratio;\n",
       "    var y = canvas_pos.y * mpl.ratio;\n",
       "\n",
       "    this.send_message(name, {x: x, y: y, button: event.button,\n",
       "                             step: event.step,\n",
       "                             guiEvent: simpleKeys(event)});\n",
       "\n",
       "    /* This prevents the web browser from automatically changing to\n",
       "     * the text insertion cursor when the button is pressed.  We want\n",
       "     * to control all of the cursor setting manually through the\n",
       "     * 'cursor' event from matplotlib */\n",
       "    event.preventDefault();\n",
       "    return false;\n",
       "}\n",
       "\n",
       "mpl.figure.prototype._key_event_extra = function(event, name) {\n",
       "    // Handle any extra behaviour associated with a key event\n",
       "}\n",
       "\n",
       "mpl.figure.prototype.key_event = function(event, name) {\n",
       "\n",
       "    // Prevent repeat events\n",
       "    if (name == 'key_press')\n",
       "    {\n",
       "        if (event.which === this._key)\n",
       "            return;\n",
       "        else\n",
       "            this._key = event.which;\n",
       "    }\n",
       "    if (name == 'key_release')\n",
       "        this._key = null;\n",
       "\n",
       "    var value = '';\n",
       "    if (event.ctrlKey && event.which != 17)\n",
       "        value += \"ctrl+\";\n",
       "    if (event.altKey && event.which != 18)\n",
       "        value += \"alt+\";\n",
       "    if (event.shiftKey && event.which != 16)\n",
       "        value += \"shift+\";\n",
       "\n",
       "    value += 'k';\n",
       "    value += event.which.toString();\n",
       "\n",
       "    this._key_event_extra(event, name);\n",
       "\n",
       "    this.send_message(name, {key: value,\n",
       "                             guiEvent: simpleKeys(event)});\n",
       "    return false;\n",
       "}\n",
       "\n",
       "mpl.figure.prototype.toolbar_button_onclick = function(name) {\n",
       "    if (name == 'download') {\n",
       "        this.handle_save(this, null);\n",
       "    } else {\n",
       "        this.send_message(\"toolbar_button\", {name: name});\n",
       "    }\n",
       "};\n",
       "\n",
       "mpl.figure.prototype.toolbar_button_onmouseover = function(tooltip) {\n",
       "    this.message.textContent = tooltip;\n",
       "};\n",
       "mpl.toolbar_items = [[\"Home\", \"Reset original view\", \"fa fa-home icon-home\", \"home\"], [\"Back\", \"Back to previous view\", \"fa fa-arrow-left icon-arrow-left\", \"back\"], [\"Forward\", \"Forward to next view\", \"fa fa-arrow-right icon-arrow-right\", \"forward\"], [\"\", \"\", \"\", \"\"], [\"Pan\", \"Pan axes with left mouse, zoom with right\", \"fa fa-arrows icon-move\", \"pan\"], [\"Zoom\", \"Zoom to rectangle\", \"fa fa-square-o icon-check-empty\", \"zoom\"], [\"\", \"\", \"\", \"\"], [\"Download\", \"Download plot\", \"fa fa-floppy-o icon-save\", \"download\"]];\n",
       "\n",
       "mpl.extensions = [\"eps\", \"jpeg\", \"pdf\", \"png\", \"ps\", \"raw\", \"svg\", \"tif\"];\n",
       "\n",
       "mpl.default_extension = \"png\";var comm_websocket_adapter = function(comm) {\n",
       "    // Create a \"websocket\"-like object which calls the given IPython comm\n",
       "    // object with the appropriate methods. Currently this is a non binary\n",
       "    // socket, so there is still some room for performance tuning.\n",
       "    var ws = {};\n",
       "\n",
       "    ws.close = function() {\n",
       "        comm.close()\n",
       "    };\n",
       "    ws.send = function(m) {\n",
       "        //console.log('sending', m);\n",
       "        comm.send(m);\n",
       "    };\n",
       "    // Register the callback with on_msg.\n",
       "    comm.on_msg(function(msg) {\n",
       "        //console.log('receiving', msg['content']['data'], msg);\n",
       "        // Pass the mpl event to the overridden (by mpl) onmessage function.\n",
       "        ws.onmessage(msg['content']['data'])\n",
       "    });\n",
       "    return ws;\n",
       "}\n",
       "\n",
       "mpl.mpl_figure_comm = function(comm, msg) {\n",
       "    // This is the function which gets called when the mpl process\n",
       "    // starts-up an IPython Comm through the \"matplotlib\" channel.\n",
       "\n",
       "    var id = msg.content.data.id;\n",
       "    // Get hold of the div created by the display call when the Comm\n",
       "    // socket was opened in Python.\n",
       "    var element = $(\"#\" + id);\n",
       "    var ws_proxy = comm_websocket_adapter(comm)\n",
       "\n",
       "    function ondownload(figure, format) {\n",
       "        window.open(figure.imageObj.src);\n",
       "    }\n",
       "\n",
       "    var fig = new mpl.figure(id, ws_proxy,\n",
       "                           ondownload,\n",
       "                           element.get(0));\n",
       "\n",
       "    // Call onopen now - mpl needs it, as it is assuming we've passed it a real\n",
       "    // web socket which is closed, not our websocket->open comm proxy.\n",
       "    ws_proxy.onopen();\n",
       "\n",
       "    fig.parent_element = element.get(0);\n",
       "    fig.cell_info = mpl.find_output_cell(\"<div id='\" + id + \"'></div>\");\n",
       "    if (!fig.cell_info) {\n",
       "        console.error(\"Failed to find cell for figure\", id, fig);\n",
       "        return;\n",
       "    }\n",
       "\n",
       "    var output_index = fig.cell_info[2]\n",
       "    var cell = fig.cell_info[0];\n",
       "\n",
       "};\n",
       "\n",
       "mpl.figure.prototype.handle_close = function(fig, msg) {\n",
       "    var width = fig.canvas.width/mpl.ratio\n",
       "    fig.root.unbind('remove')\n",
       "\n",
       "    // Update the output cell to use the data from the current canvas.\n",
       "    fig.push_to_output();\n",
       "    var dataURL = fig.canvas.toDataURL();\n",
       "    // Re-enable the keyboard manager in IPython - without this line, in FF,\n",
       "    // the notebook keyboard shortcuts fail.\n",
       "    IPython.keyboard_manager.enable()\n",
       "    $(fig.parent_element).html('<img src=\"' + dataURL + '\" width=\"' + width + '\">');\n",
       "    fig.close_ws(fig, msg);\n",
       "}\n",
       "\n",
       "mpl.figure.prototype.close_ws = function(fig, msg){\n",
       "    fig.send_message('closing', msg);\n",
       "    // fig.ws.close()\n",
       "}\n",
       "\n",
       "mpl.figure.prototype.push_to_output = function(remove_interactive) {\n",
       "    // Turn the data on the canvas into data in the output cell.\n",
       "    var width = this.canvas.width/mpl.ratio\n",
       "    var dataURL = this.canvas.toDataURL();\n",
       "    this.cell_info[1]['text/html'] = '<img src=\"' + dataURL + '\" width=\"' + width + '\">';\n",
       "}\n",
       "\n",
       "mpl.figure.prototype.updated_canvas_event = function() {\n",
       "    // Tell IPython that the notebook contents must change.\n",
       "    IPython.notebook.set_dirty(true);\n",
       "    this.send_message(\"ack\", {});\n",
       "    var fig = this;\n",
       "    // Wait a second, then push the new image to the DOM so\n",
       "    // that it is saved nicely (might be nice to debounce this).\n",
       "    setTimeout(function () { fig.push_to_output() }, 1000);\n",
       "}\n",
       "\n",
       "mpl.figure.prototype._init_toolbar = function() {\n",
       "    var fig = this;\n",
       "\n",
       "    var nav_element = $('<div/>');\n",
       "    nav_element.attr('style', 'width: 100%');\n",
       "    this.root.append(nav_element);\n",
       "\n",
       "    // Define a callback function for later on.\n",
       "    function toolbar_event(event) {\n",
       "        return fig.toolbar_button_onclick(event['data']);\n",
       "    }\n",
       "    function toolbar_mouse_event(event) {\n",
       "        return fig.toolbar_button_onmouseover(event['data']);\n",
       "    }\n",
       "\n",
       "    for(var toolbar_ind in mpl.toolbar_items){\n",
       "        var name = mpl.toolbar_items[toolbar_ind][0];\n",
       "        var tooltip = mpl.toolbar_items[toolbar_ind][1];\n",
       "        var image = mpl.toolbar_items[toolbar_ind][2];\n",
       "        var method_name = mpl.toolbar_items[toolbar_ind][3];\n",
       "\n",
       "        if (!name) { continue; };\n",
       "\n",
       "        var button = $('<button class=\"btn btn-default\" href=\"#\" title=\"' + name + '\"><i class=\"fa ' + image + ' fa-lg\"></i></button>');\n",
       "        button.click(method_name, toolbar_event);\n",
       "        button.mouseover(tooltip, toolbar_mouse_event);\n",
       "        nav_element.append(button);\n",
       "    }\n",
       "\n",
       "    // Add the status bar.\n",
       "    var status_bar = $('<span class=\"mpl-message\" style=\"text-align:right; float: right;\"/>');\n",
       "    nav_element.append(status_bar);\n",
       "    this.message = status_bar[0];\n",
       "\n",
       "    // Add the close button to the window.\n",
       "    var buttongrp = $('<div class=\"btn-group inline pull-right\"></div>');\n",
       "    var button = $('<button class=\"btn btn-mini btn-primary\" href=\"#\" title=\"Stop Interaction\"><i class=\"fa fa-power-off icon-remove icon-large\"></i></button>');\n",
       "    button.click(function (evt) { fig.handle_close(fig, {}); } );\n",
       "    button.mouseover('Stop Interaction', toolbar_mouse_event);\n",
       "    buttongrp.append(button);\n",
       "    var titlebar = this.root.find($('.ui-dialog-titlebar'));\n",
       "    titlebar.prepend(buttongrp);\n",
       "}\n",
       "\n",
       "mpl.figure.prototype._root_extra_style = function(el){\n",
       "    var fig = this\n",
       "    el.on(\"remove\", function(){\n",
       "\tfig.close_ws(fig, {});\n",
       "    });\n",
       "}\n",
       "\n",
       "mpl.figure.prototype._canvas_extra_style = function(el){\n",
       "    // this is important to make the div 'focusable\n",
       "    el.attr('tabindex', 0)\n",
       "    // reach out to IPython and tell the keyboard manager to turn it's self\n",
       "    // off when our div gets focus\n",
       "\n",
       "    // location in version 3\n",
       "    if (IPython.notebook.keyboard_manager) {\n",
       "        IPython.notebook.keyboard_manager.register_events(el);\n",
       "    }\n",
       "    else {\n",
       "        // location in version 2\n",
       "        IPython.keyboard_manager.register_events(el);\n",
       "    }\n",
       "\n",
       "}\n",
       "\n",
       "mpl.figure.prototype._key_event_extra = function(event, name) {\n",
       "    var manager = IPython.notebook.keyboard_manager;\n",
       "    if (!manager)\n",
       "        manager = IPython.keyboard_manager;\n",
       "\n",
       "    // Check for shift+enter\n",
       "    if (event.shiftKey && event.which == 13) {\n",
       "        this.canvas_div.blur();\n",
       "        // select the cell after this one\n",
       "        var index = IPython.notebook.find_cell_index(this.cell_info[0]);\n",
       "        IPython.notebook.select(index + 1);\n",
       "    }\n",
       "}\n",
       "\n",
       "mpl.figure.prototype.handle_save = function(fig, msg) {\n",
       "    fig.ondownload(fig, null);\n",
       "}\n",
       "\n",
       "\n",
       "mpl.find_output_cell = function(html_output) {\n",
       "    // Return the cell and output element which can be found *uniquely* in the notebook.\n",
       "    // Note - this is a bit hacky, but it is done because the \"notebook_saving.Notebook\"\n",
       "    // IPython event is triggered only after the cells have been serialised, which for\n",
       "    // our purposes (turning an active figure into a static one), is too late.\n",
       "    var cells = IPython.notebook.get_cells();\n",
       "    var ncells = cells.length;\n",
       "    for (var i=0; i<ncells; i++) {\n",
       "        var cell = cells[i];\n",
       "        if (cell.cell_type === 'code'){\n",
       "            for (var j=0; j<cell.output_area.outputs.length; j++) {\n",
       "                var data = cell.output_area.outputs[j];\n",
       "                if (data.data) {\n",
       "                    // IPython >= 3 moved mimebundle to data attribute of output\n",
       "                    data = data.data;\n",
       "                }\n",
       "                if (data['text/html'] == html_output) {\n",
       "                    return [cell, data, j];\n",
       "                }\n",
       "            }\n",
       "        }\n",
       "    }\n",
       "}\n",
       "\n",
       "// Register the function which deals with the matplotlib target/channel.\n",
       "// The kernel may be null if the page has been refreshed.\n",
       "if (IPython.notebook.kernel != null) {\n",
       "    IPython.notebook.kernel.comm_manager.register_target('matplotlib', mpl.mpl_figure_comm);\n",
       "}\n"
      ],
      "text/plain": [
       "<IPython.core.display.Javascript object>"
      ]
     },
     "metadata": {},
     "output_type": "display_data"
    },
    {
     "data": {
      "text/html": [
       "<img src=\"data:image/png;base64,iVBORw0KGgoAAAANSUhEUgAABaAAAALQCAYAAABmJdeHAAAPyklEQVR4nO3BMQEAAADCoPVPbQdvoAAAAAAAAAAAAAAAAAAAAAAAAAAAAAAAAAAAAAAAAAAAAAAAAAAAAAAAAAAAAAAAAAAAAAAAAAAAAAAAAAAAAAAAAAAAAAAAAAAAAAAAAAAAAAAAAAAAAAAAAAAAAAAAAAAAAAAAAAAAAAAAAAAAAAAAAAAAAAAAAAAAAAAAAAAAAAAAAAAAAAAAAAAAAAAAAAAAAAAAAAAAAAAAAAAAAAAAAAAAAAAAAAAAAAAAAAAAAAAAAAAAAAAAAAAAAAAAAAAAAAAAAAAAAAAAAAAAAAAAAAAAAAAAAAAAAAAAAAAAAAAAAAAAAAAAAAAAAAAAAAAAAAAAAAAAAAAAAAAAAAAAAAAAAAAAAAAAAAAAAAAAAAAAAAAAAAAAAAAAAAAAAAAAAAAAAAAAAAAAAAAAAAAAAAAAAAAAAAAAAAAAAAAAAAAAAAAAAAAAAAAAAAAAAAAAAAAAAAAAAAAAAAAAAAAAAAAAAAAAAAAAAAAAAAAAAAAAAAAAAAAAAAAAAAAAAAAAAAAAAAAAAAAAAAAAAAAAAAAAAAAAAAAAAAAAAAAAAAAAAAAAAAAAAAAAAAAAAAAAAAAAAAAAAAAAAAAAAAAAAAAAAAAAAAAAAAAAAAAAAAAAAAAAAAAAAAAAAAAAAAAAAAAAAAAAAAAAAAAAAAAAAAAAAAAAAAAAAAAAAAAAAAAAAAAAAAAAAAAAAAAAAAAAAAAAAAAAAAAAAAAAAAAAAAAAAAAAAAAAAAAAAAAAAAAAAAAAAAAAAAAAAAAAAAAAAAAAAAAAAAAAAAAAAAAAAAAAAAAAAAAAAAAAAAAAAAAAAAAAAAAAAAAAAAAAAAAAAAAAAAAAAAAAAAAAAAAAAAAAAAAAAAAAAAAAAAAAAAAAAAAAAAAAAAAAAAAAAAAAAAAAAAAAAAAAAAAAAAAAAAAAAAAAAAAAAAAAAAAAAAAAAAAAAAAAAAAAAAAAAAAAAAAAAAAAAAAAAAAAAAAAAAAAAAAAAAAAAAAAAAAAAAAAAAAAAAAAAAAAAAAAAAAAAAAAAAAAAAAAAAAAAAAAAAAAAAAAAAAAAAAAAAAAAAAAAAAAAAAAAAAAAAAAAAAAAAAAAAAAAAAAAAAAAAAAAAAAAAAAAAAAAAAAAAAAAAAAAAAAAAAAAAAAAAAAAAAAAAAAAAAAAAAAAAAAAAAAAAAAAAAAAAAAAAAAAAAAAAAAAAAAAAAAAAAAAAAAAAAAAAAAAAAAAAAAAAAAAAAAAAAAAAAAAAAAAAAAAAAAAAAAAAAAAAAAAAAAAAAAAAAAAAAAAAAAAAAAAAAAAAAAAAAAAAAAAAAAAAAAAAAAAAAAAAAAAAAAAAAAAAAAAAAAAAAAAAAAAAAAAAAAAAAAAAAAAAAAAAAAAAAAAAAAAAAAAAAAAAAAAAAAAAAAAAAAAAAAAAAAAAAAAAAAAAAAAAAAAAAAAAAAAAAAAAAAAAAAAAAAAAAAAAAAAAAAAAAAAAAAAAAAAAAAAAAAAAAAAAAAAAAAAAAAAAAAAAAAAAAAAAAAAAAAAAAAAAAAAAAAAAAAAAAAAAAAAAAAAAAAAAAAAAAAAAAAAAAAAAAAAAAAAAAAAAAAAAAAAAAAAAAAAAAAAAAAAAAAAAAAAAAAAAAAAAAAAAAAAAAAAAAAAAAAAAAAAAAAAAAAAAAAAAAAAAAAAAAAAAAAAAAAAAAAAAAAAAAAAAAAAAAAAAAAAAAAAAAAAAAAAAAAAAAAAAAAAAAAAAAAAAAAAAAAAAAAAAAAAAAAAAAAAAAAAAAAAAAAAAAAAAAAAAAAAAAAAAAAAAAAAAAAAAAAAAAAAAAAAAAAAAAAAAAAAAAAAAAAAAAAAAAAAAAAAAAAAAAAAAAAAAAAAAAAAAAAAAAAAAAAAAAAAAAAAAAAAAAAAAAAAAAAAAAAAAAAAAAAAAAAAAAAAAAAAAAAAAAAAAAAAAAAAAAAAAAAAAAAAAAAAAAAAAAAAAAAAAAAAAAAAAAAAAAAAAAAAAAAAAAAAAAAAAAAAAAAAAAAAAAAAAAAAAAAAAAAAAAAAAAAAAAAAAAAAAAAAAAAAAAAAAAAAAAAAAAAAAAAAAAAAAAAAAAAAAAAAAAAAAAAAAAAAAAAAAAAAAAAAAAAAAAAAAAAAAAAAAAAAAAAAAAAAAAAAAAAAAAAAAAAAAAAAAAAAAAAAAAAAAAAAAAAAAAAAAAAAAAAAAAAAAAAAAAAAAAAAAAAAAAAAAAAAAAAAAAAAAAAAAAAAAAAAAAAAAAAAAAAAAAAAAAAAAAAAAAAAAAAAAAAAAAAAAAAAAAAAAAAAAAAAAAAAAAAAAAAAAAAAAAAAAAAAAAAAAAAAAAAAAAAAAAAAAAAAAAAAAAAAAAAAAAAAAAAAAAAAAAAAAAAAAAAAAAAAAAAAAAAAAAAAAAAAAAAAAAAAAAAAAAAAAAAAAAAAAAAAAAAAAAAAAAAAAAAAAAAAAAAAAAAAAAAAAAAAAAAAAAAAAAAAAAAAAAAAAAAAAAAAAAAAAAAAAAAAAAAAAAAAAAAAAAAAAAAAAAAAAAAAAAAAAAAAAAAAAAAAAAAAAAAAAAAAAAAAAAAAAAAAAAAAAAAAAAAAAAAAAAAAAAAAAAAAAAAAAAAAAAAAAAAAAAAAAAAAAAAAAAAAAAAAAAAAAAAAAAAAAAAAAAAAAAAAAAAAAAAAAAAAAAAAAAAAAAAAAAAAAAAAAAAAAAAAAAAAAAAAAAAAAAAAAAAAAAAAAAAAAAAAAAAAAAAAAAAAAAAAAAAAAAAAAAAAAAAAAAAAAAAAAAAAAAAAAAAAAAAAAAAAAAAAAAAAAAAAAAAAAAAAAAAAAAAAAAAAAAAAAAAAAAAAAAAAAAAAAAAAAAAAAAAAAAAAAAAAAAAAAAAAAAAAAAAAAAAAAAAAAAAAAAAAAAAAAAAAAAAAAAAAAAAAAAAAAAAAAAAAAAAAAAAAAAAAAAAAAAAAAAAAAAAAAAAAAAAAAAAAAAAAAAAAAAAAAAAAAAAAAAAAAAAAAAAAAAAAAAAAAAAAAAAAAAAAAAAAAAAAAAAAAAAAAAAAAAAAAAAAAAAAAAAAAAAAAAAAAAAAAAAAAAAAAAAAAAAAAAAAAAAAAAAAAAAAAAAAAAAAAAAAAAAAAAAAAAAAAAAAAAAAAAAAAAAAAAAAAAAAAAAAAAAAAAAAAAAAAAAAAAAAAAAAAAAAAAAAAAAAAAAAAAAAAAAAAAAAAAAAAAAAAAAAAAAAAAAAAAAAAAAAAAAAAAAAAAAAAAAAAAAAAAAAAAAAAAAAAAAAAAAAAAAAAAAAAAAAAAAAAAAAAAAAAAAAAAAAAAAAAAAAAAAAAAAAAAAAAAAAAAAAAAAAAAAAAAAAAAAAAAAAAAAAAAAAAAAAAAAAAAAAAAAAAAAAAAAAAAAAAAAAAAAAAAAAAAAAAAAAAAAAAAAAAAAAAAAAAAAAAAAAAAAAAAAAAAAAAAAAAAAAAAAAAAAAAAAAAAAAAAAAAAAAAAAAAAAAAAAAAAAAAAAAAAAAAAAAAAAAAAAAAAAAAAAAAAAAAAAAAAAAAAAAAAAAAAAAAAAAAAAAAAAAAAAAAAAAAAAAAAAAAAAAAAAAAAAAAAAAAAAAAAAAAAAAAAAAAAAAAAAAAAAAAAAAAAAAAAAAAAAAAAAAAAAAAAAAAAAAAAAAAAAAAAAAAAAAAAAAAAAAAAAAAAAAAAAAAAAAAAAAAAAAAAAAAAAAAAAAAAAAAAAAAAAAAAAAAAAAAAAAAAAAAAAAAAAAAAAAAAAAAAAAAAAAAAAAAAAAAAAAAAAAAAAAAAAAAAAAAAAAAAAAAAAAAAAAAAAAAAAAAAAAAAAAAAAAAAAAAAAAAAAAAAAAAAAAAAAAAAAAAAAAAAAAAAAAAAAAAAAAAAAAAAAAAAAAAAAAAAAAAAAAAAAAAAAAAAAAAAAAAAAAAAAAAAAAAAAAAAAAAAAAAAAAAAAAAAAAAAAAAAAAAAAAAAAAAAAAAAAAAAAAAAAAAAAAAAAAAAAAAAAAAAAAAAAAAAAAAAAAAAAAAAAAAAAAAAAAAAAAAAAAAAAAAAAAAAAAAAAAAAAAAAAAAAAAAAAAAAAAAAAAAAAAAAAAAAAAAAAAAAAAAAAAAAAAAAAAAAAAAAAAAAAAAAAAAAAAAAAAAAAAAAAAAAAAAAAAAAAAAAAAAAAAAAAAAAAAAAAAAAAAAAAAAAAAAAAAAAAAAAAAAAAAAAAAAAAAAAAAAAAAAAAAAAAAAAAAAAAAAAAAAAAAAAAAAAAAAAAAAAAAAAAAAAAAAAAAAAAAAAAAAAAAAAAAAAAAAAAAAAAAAAAAAAAAAAAAAAAAAAAAAAAAAAAAAAAAAAAAAAAAAAAAAAAAAAAAAAAAAAAAAAAAAAAAAAAAAAAAAAAAAAAAAAAAAAAAAAAAAAAAAAAAAAAAAAAAAAAAAAAAAAAAAAAAAAAAAAAAAAAAAAAAAAAAAAAAAAAAAAAAAAAAAAAAAAAAAAAAAAAAAAAAAAAAAAAAAAAAAAAAAAAAAAAAAAAAAAAAAAAAAAAAAAAAAAAAAAAAAAAAAAAAAAAAAAAAAAAAAAAAAAAAAAAAAAAAAAAAAAAAAAAAAAAAAAAAAAAAAAAAAAAAAAAAAAAAAAAAAAAAAAAAAAAAAAAAAAAAAAAAAAAAAAAAAAAAAAAAAAAAAAAAAAAAAAAAAAAAAAAAAAAAAAAAAAAAAAAAAAAAAAAAAAAAAAAAAAAAAAAAAAAAAAAAAAAAAAAAAAAAAAAAAAAAAAAAAAAAAAAAAAAAAAAAAAAAAAAAAAAAAAAAAAAAAAAAAAAAAAAAAAAAAAAAAAAAAAAAAAAAAAAAAAAAAAAAAAAAAAAAAAAAAAAAAAAAAAAAAAAAAAAAAAAAAAAAAAAAAAAAAAAAAAAAAAAAAAAAAAAAAAAAAAAAAAAAAAAAAAAAAAAAAAAAAAAAAAAAAAAAAAAAAAAAAAAAAAAAAAAAAAAAAAAAAAAAAAAAAAAAAAAAAAAAAAAAAAAAAAAAAAAAAAAAAAAAAAAAAAAAAAAAAAAAAAAAAAAAAAAAAAAAAAAAAAAAAAAAAAAAAAAAAAAAAAAAAAAAAAAAAAAAAAAAAAAAAAAAAAAAAAAAAAAAAAAAAAAAAAAAAAAAAAAAAAAAAAAAAAAAAAAAAAAAAAAAAAAAAAAAAAAAAAAAAAAAAAAAAAAAAAAAAAAAAAAAAAAAAAAAAAAAAAAAAAAAAAAAAAAAAAAAAAAAAAAAAAAAAAAAAAAAAAAAAAAAAAAAAAAAAAAAAAAAAAAAAAAAAAAAAAAAAAAAAAAAAAAAAAAAAAAAAAAAAAAAAAAAAAAAAAAAAAAAAAAAAAAAAAAAAAAAAAAAAAAAAAAAAAAeAxOgQABDkKzSAAAAABJRU5ErkJggg==\" width=\"720\">"
      ],
      "text/plain": [
       "<IPython.core.display.HTML object>"
      ]
     },
     "metadata": {},
     "output_type": "display_data"
    },
    {
     "data": {
      "application/vnd.jupyter.widget-view+json": {
       "model_id": "992e04eecaa84babb63165a46b6aaeff",
       "version_major": 2,
       "version_minor": 0
      },
      "text/plain": [
       "IntSlider(value=10, min=1)"
      ]
     },
     "metadata": {},
     "output_type": "display_data"
    },
    {
     "data": {
      "application/vnd.jupyter.widget-view+json": {
       "model_id": "415bbc5de71e44e0b5fcbaf23a011484",
       "version_major": 2,
       "version_minor": 0
      },
      "text/plain": [
       "Label(value='A value is: 1.0')"
      ]
     },
     "metadata": {},
     "output_type": "display_data"
    },
    {
     "data": {
      "application/vnd.jupyter.widget-view+json": {
       "model_id": "34b38bc207314ca7a5f7761bcd9e505b",
       "version_major": 2,
       "version_minor": 0
      },
      "text/plain": [
       "IntSlider(value=10, min=1)"
      ]
     },
     "metadata": {},
     "output_type": "display_data"
    },
    {
     "data": {
      "application/vnd.jupyter.widget-view+json": {
       "model_id": "7a529cc578f347ca953f94fc81ed1c16",
       "version_major": 2,
       "version_minor": 0
      },
      "text/plain": [
       "Label(value='log10(B) value is: 1.0')"
      ]
     },
     "metadata": {},
     "output_type": "display_data"
    }
   ],
   "source": [
    "from IPython.display import display\n",
    "%matplotlib notebook\n",
    "%matplotlib notebook \n",
    "\n",
    "r = wr.value; \n",
    "u = np.logspace(-4, 0.25, 41)\n",
    "fig = plt.figure(figsize=(10,5)) \n",
    "ax = fig.add_subplot()\n",
    "plt.plot(1/u, exp1(u), label='Theis')\n",
    "ax.set_xscale('log'); ax.set_yscale('log')\n",
    "plt.show();\n",
    "\n",
    "def update_plot(shifty = 10, shiftx = 10):\n",
    "    if r <= 50:\n",
    "        plt.plot (10**(shiftx/10)*df['t1']/24/60/r/r,shifty/10*df['s1'],'.C1')\n",
    "    else:\n",
    "        plt.plot (10**(shiftx/10)*df['t2']/24/60/r/r,shifty/10*df['s2'], '.C1')\n",
    "        \n",
    "    plt.grid()\n",
    "    fig.canvas.draw_idle()\n",
    "\n",
    "# prepare widgets\n",
    "shifty_slider = widgets.IntSlider(10, min = 1, max = 100)\n",
    "shifty_label = widgets.Label(value = 'A value is: ' + str(shifty_slider.value/10))\n",
    "display(shifty_slider, shifty_label)\n",
    "shiftx_slider = widgets.IntSlider(10, min = 1, max = 100)\n",
    "shiftx_label = widgets.Label(value = 'log10(B) value is: ' + str(shiftx_slider.value/10))\n",
    "display(shiftx_slider, shiftx_label)\n",
    "\n",
    "# handle shifty update\n",
    "def update_shifty(value):\n",
    "    plt.plot (10**(shiftx_slider.value/10)*df['t1']/24/60/r/r,value['old']/10*df['s1'], '.', color='0.7')\n",
    "    update_plot(shifty = value['new'],shiftx = shiftx_slider.value)\n",
    "    shifty_label.value = 'A value is: ' + str(value.new/10)\n",
    "\n",
    "# handle shiftx update\n",
    "def update_shiftx(value):\n",
    "    plt.plot (10**(value['old']/10)*df['t1']/24/60/r/r,shifty_slider.value/10*df['s1'], '.', color='0.7')\n",
    "    update_plot(shifty = shifty_slider.value,shiftx = value['new'])\n",
    "    shiftx_label.value = 'log10(B) value is: ' + str(value.new/10)\n",
    "    \n",
    "shiftx_slider.observe(update_shiftx, names = 'value')\n",
    "shifty_slider.observe(update_shifty, names = 'value') "
   ]
  },
  {
   "cell_type": "markdown",
   "metadata": {},
   "source": [
    "Run the next cell to show the result for transmissivity and storativity!"
   ]
  },
  {
   "cell_type": "code",
   "execution_count": 26,
   "metadata": {
    "hide_input": true,
    "scrolled": true
   },
   "outputs": [
    {
     "data": {
      "image/png": "[encoded data removed]",
      "text/plain": [
       "<Figure size 720x360 with 1 Axes>"
      ]
     },
     "metadata": {
      "needs_background": "light"
     },
     "output_type": "display_data"
    }
   ],
   "source": [
    "%matplotlib inline\n",
    "r = wr.value\n",
    "fig = plt.figure(figsize=(10,5)) \n",
    "ax = fig.add_subplot()\n",
    "plt.title('Oude Korendijk pumping test', fontsize = 14)\n",
    "plt.plot(1/u, exp1(u), label='Theis')\n",
    "ax.set_xscale('log'); ax.set_yscale('log'); \n",
    "plt.xlabel('$1/u$ and $B \\, t/r^2$', fontsize=12)\n",
    "plt.ylabel('W(u) and $A \\cdot s$',fontsize=12)\n",
    "update_plot(shifty = shifty_slider.value,shiftx = shiftx_slider.value)\n",
    "kD = shiftx_slider.value/10 * Q /4 /np.pi   # print('T = {:.0f} m2/d'.format(kD))\n",
    "Sc = 4 * kD / (shifty_slider.value/10)         #print('S = {:.2e} [-]'.format(S))\n",
    "ax.text (380,0.23,'$T =%.2e m^2/d$' % (kD, ),fontsize=12)\n",
    "ax.text (380,0.15,'$S =%.2e $' % (Sc, ),fontsize=12)\n",
    "plt.show()"
   ]
  },
  {
   "cell_type": "markdown",
   "metadata": {},
   "source": [
    "## Error Measures\n",
    "The residual is a quantitative measure for the goodness of the fit. It is defined by: "
   ]
  },
  {
   "cell_type": "markdown",
   "metadata": {},
   "source": [
    "$$ res = \\sqrt{\\sum{(s_{obs}-s_{calc})^2}} $$"
   ]
  },
  {
   "cell_type": "markdown",
   "metadata": {},
   "source": [
    "where the sum adds up the quadratic deviations over all values of the time series. $s_{obs}$ is the observed drawdown, while $s_{calc}$ denotes the drawdown calculated by the Theis formula for the optimized $T$ and $S$ values. The rssidual is thus a good measure to compare results for the same drawdown series. However, if depends on the number of observations and thus is not feasable for comparison of results from different obtained from different observation points or different pumping tests. Alternatively one may take the standard deviation, which is defined as the squareroot of the mean quadratic deviation:"
   ]
  },
  {
   "cell_type": "markdown",
   "metadata": {},
   "source": [
    "$$ stdev = \\sqrt{mean((s_{obs}-s_{calc})^2)} $$"
   ]
  },
  {
   "cell_type": "markdown",
   "metadata": {},
   "source": [
    "The standard deviation makes results from different observation points and pumping tests, at the same or different boreholes, comparable. Click the following buttons to get the measures of the fit. "
   ]
  },
  {
   "cell_type": "code",
   "execution_count": 27,
   "metadata": {
    "hide_input": true,
    "scrolled": false
   },
   "outputs": [
    {
     "data": {
      "application/vnd.jupyter.widget-view+json": {
       "model_id": "c53899f820ce4dd68083b0f5a4614bab",
       "version_major": 2,
       "version_minor": 0
      },
      "text/plain": [
       "HBox(children=(Button(description='Residual', style=ButtonStyle()), Button(description='Standard deviation', s…"
      ]
     },
     "metadata": {},
     "output_type": "display_data"
    }
   ],
   "source": [
    "def rescalc():\n",
    "    global kD,Sc\n",
    "    D = kD/Sc; r = wr.value; Q = wQ.value\n",
    "    if r <= 50: \n",
    "        tfit = df['t1']/24/60; sfit = df['s1']\n",
    "        tfit = tfit[:-1]; sfit = sfit[:-1]  # one entry less in time series                  \n",
    "    else:\n",
    "        tfit = df['t2']/24/60; sfit = df['s2']\n",
    "\n",
    "    u = (((r*r)/4)/D)/pd.to_numeric(tfit)\n",
    "    s = Q*exp1(u)/4/np.pi/kD\n",
    "    dev = pd.to_numeric(sfit)-s; dev2 = dev*dev\n",
    "    res = np.sqrt(sum(dev2)) \n",
    "    stde = np.sqrt(dev2.mean())\n",
    "    return [res,stde]\n",
    "\n",
    "def on_wres_clicked(self):   \n",
    "    [res,stde] = rescalc()\n",
    "    display ('Residual = %.3e for T = %.1f and S = %.3e' % (res,kD,Sc))\n",
    "    \n",
    "def on_wstd_clicked(self): \n",
    "    [res,stde] = rescalc()\n",
    "    display ('Standard deviation = %.3e for T = %.1f and S = %.3e'% (stde,kD,Sc));\n",
    "\n",
    "wres = widgets.Button(description='Residual')        \n",
    "wres.on_click(on_wres_clicked) \n",
    "wstd = widgets.Button(description='Standard deviation')        \n",
    "wstd.on_click(on_wstd_clicked)\n",
    "widgets.HBox([wres,wstd])   "
   ]
  },
  {
   "cell_type": "markdown",
   "metadata": {},
   "source": [
    "## Direct Optimization of Transmissivity and Storativity \n",
    "\n",
    "The previous method was inspired by the shifting of the measurements drawn on double log paper over the Theis type curve also drawn on double log paper. However, because we now have a computer, we could just as well directly optimize $T$ and $S$ (instead of $A$ and $B$) by trial and error to find the best match between type curve and measurements.\n",
    "\n",
    "It may then be most convenient to let the type curve as it is and compute $W(u) = \\frac s {Q/(4 \\pi T)}$ and $\\frac 1 u = \\frac {4 T t} {r^2 S}$\n",
    "\n",
    "This is done here."
   ]
  },
  {
   "cell_type": "code",
   "execution_count": 28,
   "metadata": {
    "hide_input": true,
    "scrolled": true
   },
   "outputs": [
    {
     "data": {
      "image/png": "[encoded data removed]",
      "text/plain": [
       "<Figure size 720x360 with 1 Axes>"
      ]
     },
     "metadata": {},
     "output_type": "display_data"
    }
   ],
   "source": [
    "kD = 450\n",
    "S = 0.0002\n",
    "u = np.logspace(-4, 0.25, 41)\n",
    "fig = plt.figure(facecolor='w', figsize=(10,5)); ax = fig.add_subplot()\n",
    "\n",
    "# the Theis type curve\n",
    "plt.plot(1/u, exp1(u), label='Theis')\n",
    "\n",
    "# The measurements\n",
    "r = 30\n",
    "plt.plot (4*kD*df['t1']/24/60/(S*r**2),df['s1']/(Q/(4*np.pi*kD)), '.', label = 'observation H30' )\n",
    "r = 90\n",
    "plt.plot (4*kD*df['t2']/24/60/(S*r**2),df['s2']/(Q/(4*np.pi*kD)), '.', label = 'observation H90' )\n",
    "plt.title('Direct comparison between computed and measured drawdown, $T$={:.0f} m$^2$/d, $S$={:.3e} [-]'.format(kD,S),fontsize=12)\n",
    "plt.xlabel('$1/u$',fontsize=12); plt.ylabel('$W[u]$',fontsize=12)\n",
    "plt.xscale('log'); plt.yscale('log')\n",
    "plt.grid()\n",
    "plt.legend(loc='lower right',fontsize=12);"
   ]
  },
  {
   "cell_type": "markdown",
   "metadata": {},
   "source": [
    "## Parameter Estimation\n",
    "### Confined Aquifer\n",
    "\n",
    "Before we obtimized the two factors $A$ and $B$ by hand. This was relatively straight-forward for this case in which only two parameters were involved. However in more complicated cases, finding the optimum parameter combination by trial and error takes much more effort, and often times is impossible. Therefore, the modern way is to let the computer find the optimum combination of parmeters, which minimizes the difference between the type curve (or the model) and the measurements."
   ]
  },
  {
   "cell_type": "code",
   "execution_count": 29,
   "metadata": {
    "hide_input": true,
    "scrolled": false
   },
   "outputs": [
    {
     "data": {
      "application/vnd.jupyter.widget-view+json": {
       "model_id": "1b2d31146324453bb08276d80747c898",
       "version_major": 2,
       "version_minor": 0
      },
      "text/plain": [
       "BoundedFloatText(value=30.0, description='Distance:', max=90.0, min=30.0, step=60.0)"
      ]
     },
     "metadata": {},
     "output_type": "display_data"
    }
   ],
   "source": [
    "w2r = widgets.BoundedFloatText(value=30, min=30, max=90.0, step = 60.0, description='Distance:', disabled=False)\n",
    "w2r"
   ]
  },
  {
   "cell_type": "markdown",
   "metadata": {
    "hide_input": false
   },
   "source": [
    "Enter initial guesses for $T$ and $S$! The unit of transmissivity is derived from the length and time settings above. "
   ]
  },
  {
   "cell_type": "code",
   "execution_count": 30,
   "metadata": {
    "hide_input": true,
    "scrolled": false
   },
   "outputs": [
    {
     "data": {
      "application/vnd.jupyter.widget-view+json": {
       "model_id": "b07ab39e67f14be9af59f1594ea6be33",
       "version_major": 2,
       "version_minor": 0
      },
      "text/plain": [
       "HBox(children=(FloatText(value=500.0, description='T:'), FloatText(value=0.0001, description='S:')))"
      ]
     },
     "metadata": {},
     "output_type": "display_data"
    }
   ],
   "source": [
    "wT = widgets.FloatText(value=500, description='T:', min=1, disabled=False)\n",
    "wS = widgets.FloatText(value=1e-4, description='S:', min=1.e-10, disabled=False)\n",
    "widgets.HBox([wT, wS])"
   ]
  },
  {
   "cell_type": "markdown",
   "metadata": {},
   "source": [
    "Do the parameter estimation by running the next cell."
   ]
  },
  {
   "cell_type": "code",
   "execution_count": 31,
   "metadata": {
    "hide_input": true,
    "scrolled": false
   },
   "outputs": [
    {
     "data": {
      "application/vnd.jupyter.widget-view+json": {
       "model_id": "777faf9732e941cf9981c9ff0c66c2d8",
       "version_major": 2,
       "version_minor": 0
      },
      "text/plain": [
       "VBox(children=(Button(description='Evaluate Theis', style=ButtonStyle()),))"
      ]
     },
     "metadata": {},
     "output_type": "display_data"
    }
   ],
   "source": [
    "from scipy.optimize import fmin\n",
    "Q = wQ.value; r = 30\n",
    "tfit = df['t1'].dropna()/60/24; sfit = df['s1'].dropna()\n",
    "\n",
    "def teval (t,r,T,S,Q):\n",
    "    D = T/S                             # calculate Theis solution\n",
    "    u = (((r*r)/4)/D)/t\n",
    "    s = Q*exp1(u)/4/np.pi/T\n",
    "    return s                            # drawdown \n",
    "    \n",
    "def toptim (x):  \n",
    "    global r,tfit,sfit\n",
    "    T = x[0]; S = x[1] \n",
    "    s = teval (tfit,r,T,S,Q)\n",
    "    res = (s-sfit)\n",
    "    return sum(res*res)                 # function to be minimized\n",
    "\n",
    "def on_weval1_clicked(self):            # convert input data\n",
    "    global r,df,tfit,sfit\n",
    "    print ('Oude Korendijk pumping test') \n",
    "    r = w2r.value; print ('Distance to pumping well: '+str(r))\n",
    "    T = wT.value; print ('Initial transmissivity: '+str(T)) \n",
    "    S = wS.value; print ('Initial storativity: '+str(S))\n",
    "    if r <= 50:   \n",
    "        tfit = df['t1'].dropna()/60/24; sfit = df['s1'].dropna()\n",
    "    else:\n",
    "        tfit = df['t2'].dropna()/60/24; sfit = df['s2'].dropna()                             \n",
    "\n",
    "    # parameter estimation---------------------------------------------------------\n",
    "    [Tfit,Sfit] = fmin (toptim, [T,S])\n",
    "\n",
    "    # post-processing\n",
    "    D = T/S;               #print ('D='+str(D))\n",
    "    s = teval (tfit,r,Tfit,Sfit,Q)\n",
    "    dev = sfit-s                  \n",
    "    dev2 = dev*dev; res = np.sqrt(sum(dev2)) \n",
    "    stde = np.sqrt(dev2.mean())\n",
    "    sr=2*dev.std()                            # to compare with hytool !\n",
    "    #print ('Residual = '+str(res))\n",
    "    t = np.logspace(np.log10(tfit.min()),np.log10(tfit.max()),100)\n",
    "    fig = plt.figure(facecolor='w',figsize=(10,5)); ax = fig.add_subplot()\n",
    "    ax.set_xscale('log')\n",
    "    plt.plot(tfit,sfit,'o',label = 'measured') \n",
    "    plt.plot(t,teval(t,r,Tfit,Sfit,Q),'-', label = 'calculated', lw = 2)\n",
    "    plt.xlabel('time [d]',fontsize=12); plt.ylabel('drawdown [m]',fontsize=12)\n",
    "    plt.title ('Oude Korendijk pumping test',fontsize=14)\n",
    "    plt.grid ()\n",
    "    plt.legend (loc='upper left',fontsize=12)\n",
    "    ax.text (0.04,0.5*sfit.max(),'$T =%.1f m^2/d $' % (Tfit, ),fontsize=12)\n",
    "    ax.text (0.04,0.4*sfit.max(),'$S =%.3e $' % (Sfit, ),fontsize=12)\n",
    "    ax.text (0.04,0.3*sfit.max(),'$res = %.3e $' % (res, ),fontsize=12)\n",
    "    ax.text (0.04,0.2*sfit.max(),'$stdev = %.3e $' % (stde, ),fontsize=12)\n",
    "    ax.text (0.04,0.1*sfit.max(),'$2stdev =%.3e $' % (sr, ),fontsize=12);\n",
    "\n",
    "weval1 = widgets.Button(description='Evaluate Theis')        \n",
    "weval1.on_click(on_weval1_clicked)   \n",
    "widgets.VBox([weval1]) "
   ]
  },
  {
   "cell_type": "markdown",
   "metadata": {},
   "source": [
    "Explore the sensitivity of the results when changing initial values. Check the residual and number of iterations for comparison. Do this for both observation data-sets."
   ]
  },
  {
   "cell_type": "markdown",
   "metadata": {},
   "source": [
    "### Leaky Aquifer"
   ]
  },
  {
   "cell_type": "markdown",
   "metadata": {},
   "source": [
    "For leaky aquifers the drawdown is given by the Hantush well function $W$, which has two arguments:"
   ]
  },
  {
   "cell_type": "markdown",
   "metadata": {},
   "source": [
    "$$ s(r, t) = \\frac Q {4 \\pi T} W(u,r/\\lambda),\\,\\,\\,\\, u = \\frac {r^2 S} {4 T t}$$"
   ]
  },
  {
   "cell_type": "markdown",
   "metadata": {},
   "source": [
    "with $\\lambda=\\sqrt{T\\cdot c}$, where $c$ denotes the resistance of the over-lying semipermeable layer. The physcial unit of resistance is time. The equation was derived assuming an overall source (Hantush & Jacob 1955). Using the more realistic boundary condition at the top of the modelled cross-section Hantush (1967) showed conditions, under which the equation can be taken as a valid approximation.  "
   ]
  },
  {
   "cell_type": "code",
   "execution_count": 32,
   "metadata": {
    "hide_input": true,
    "scrolled": false
   },
   "outputs": [
    {
     "data": {
      "application/vnd.jupyter.widget-view+json": {
       "model_id": "e171ea0b9a944f08bc162fe45a621571",
       "version_major": 2,
       "version_minor": 0
      },
      "text/plain": [
       "BoundedFloatText(value=30.0, description='Distance:', max=90.0, min=30.0, step=60.0)"
      ]
     },
     "metadata": {},
     "output_type": "display_data"
    }
   ],
   "source": [
    "w3r = widgets.BoundedFloatText(value=30, min=30, max=90.0, step = 60.0, description='Distance:', disabled=False)\n",
    "w3r"
   ]
  },
  {
   "cell_type": "markdown",
   "metadata": {
    "hide_input": true
   },
   "source": [
    "Enter initial guesses for $T$, $S$ and $c$! The physical units of transmissivity and resistance derived from the length and time settings above. "
   ]
  },
  {
   "cell_type": "code",
   "execution_count": 33,
   "metadata": {
    "hide_input": true,
    "scrolled": false
   },
   "outputs": [
    {
     "data": {
      "application/vnd.jupyter.widget-view+json": {
       "model_id": "616e52beae1b4cfa8420d02b76e2b6df",
       "version_major": 2,
       "version_minor": 0
      },
      "text/plain": [
       "HBox(children=(FloatText(value=500.0, description='T:'), FloatText(value=0.0001, description='S:'), FloatText(…"
      ]
     },
     "metadata": {},
     "output_type": "display_data"
    }
   ],
   "source": [
    "w2T = widgets.FloatText(value=500, description='T:', min=1.e-10, disabled=False)\n",
    "w2S = widgets.FloatText(value=1e-4, description='S:', min=1.e-10, disabled=False)\n",
    "wc = widgets.FloatText(value=1e4, description='c:', min=1.e-10, disabled=False)\n",
    "widgets.HBox([w2T, w2S, wc])"
   ]
  },
  {
   "cell_type": "code",
   "execution_count": 34,
   "metadata": {
    "hide_input": true,
    "scrolled": false
   },
   "outputs": [
    {
     "data": {
      "application/vnd.jupyter.widget-view+json": {
       "model_id": "35229b47c79040da8db8ed8931146909",
       "version_major": 2,
       "version_minor": 0
      },
      "text/plain": [
       "VBox(children=(Button(description='Evaluate Hantush', style=ButtonStyle()),))"
      ]
     },
     "metadata": {},
     "output_type": "display_data"
    }
   ],
   "source": [
    "from scipy.special import exp1\n",
    "from scipy.optimize import fmin\n",
    "from scipy.special import kn as BesselK\n",
    "\n",
    "Q = wQ.value; r = 30\n",
    "tfit = df['t1'].dropna()/60/24; sfit = df['s1'].dropna()\n",
    "\n",
    "def heval (t,r,T,S,c,Q):                 # calculate Hantush solution\n",
    "    T0  = np.where(T>1.e-10,T,1.e-10) \n",
    "    S0  = np.where(S>1.e-10,S,1.e-10)\n",
    "    c0  = np.where(c>1.e-10,c,1.e-10)\n",
    "    lamda = np.sqrt(T0*c0)                \n",
    "    rho = r/lamda\n",
    "    tau = np.log(2*lamda/r*t/(c0*S0))\n",
    "    s = Q/(4*np.pi*T0)*func_F(rho,tau)\n",
    "    return s                             # drawdown \n",
    "\n",
    "def ExpInt(n,u):\n",
    "    # Fast approximation for Wu according to equation 7a and 7b from Srivastava(1998)\n",
    "    gamma = 0.5772 # Euler-Macheroni constant\n",
    "    u0  = np.where(u<1.0,u,1) \n",
    "    Wu0 = np.log(np.exp(-gamma)/u0) + 0.9653*u - 0.1690*u0**2\n",
    "    u1 = np.where(u>=1.0,u,1) \n",
    "    Wu1 = 1/(u1*np.exp(u1))*(u1+0.3575)/(u1+1.280)\n",
    "    Wu = np.where(u<1.0,Wu0,Wu1)\n",
    "    return Wu\n",
    "\n",
    "def func_F(rho,tau):\n",
    "    e = exp1(rho)\n",
    "    e0 = np.where(e>0,e,1.e-10)\n",
    "    w = (e0-BesselK(0,rho))/(e0-exp1(rho/2))\n",
    "    F0 = w*exp1(rho/2*np.exp(-tau))-(w-1)*exp1(rho*np.cosh(tau))  \n",
    "    F1 = 2*BesselK(0,rho) - w*exp1(rho/2*np.exp(tau)) + (w-1)*exp1(rho*np.cosh(tau)) \n",
    "    #w = (ExpInt(1,rho)-BesselK(0,rho))/(ExpInt(1,rho)-ExpInt(1,rho/2))\n",
    "    #F0 = w*ExpInt(1,rho/2*np.exp(-tau))-(w-1)*ExpInt(1,rho*np.cosh(tau))\n",
    "    #F1 = 2*BesselK(0,rho) - w*ExpInt(1,rho/2*np.exp(tau)) + (w-1)*ExpInt(1,rho*np.cosh(tau))    \n",
    "    return (tau<=0)*F0+(tau>0)*F1   \n",
    "\n",
    "def hoptim (x):     \n",
    "    global r,tfit,sfit\n",
    "    T = x[0]; S = x[1]; c = x[2] \n",
    "    s = heval (tfit,r,T,S,c,Q)\n",
    "    res = (s-sfit)\n",
    "    return sum(res*res)                 # function to be minimized\n",
    "\n",
    "def on_weval2_clicked(self):   \n",
    "    global r,df,tfit,sfit    \n",
    "    print ('Oude Korendijk pumping test') \n",
    "    r = w3r.value; print ('Distance to pumping well: '+str(r))\n",
    "    T = w2T.value; print ('Initial transmissivity: '+str(T)) \n",
    "    S = w2S.value; print ('Initial storativity: '+str(S))\n",
    "    c = wc.value; print ('Initial resistance: '+str(c))\n",
    "\n",
    "    if r <= 50:   \n",
    "        tfit = df['t1'].dropna()/60/24; sfit = df['s1'].dropna()\n",
    "    else:\n",
    "        tfit = df['t2'].dropna()/60/24; sfit =df['s2'].dropna()  \n",
    "        \n",
    "    # parameter estimation---------------------------------------------------------\n",
    "    [Tfit,Sfit,cfit] = fmin(hoptim, [T,S,c])\n",
    "\n",
    "    # post-processing--------------------------------------------------------------   \n",
    "    D = T/S;  #print ('D='+str(D))\n",
    "    s = heval (tfit,r,Tfit,Sfit,cfit,Q)\n",
    "    dev = sfit-s \n",
    "    dev2 = dev*dev; res = np.sqrt(sum(dev2))  #; print ('Residual = '+str(res)) \n",
    "    stde = np.sqrt(dev2.mean())\n",
    "    sr=2*dev.std()                            # to compare with hytool !\n",
    "    t = np.logspace(np.log10(tfit.min()),np.log10(tfit.max()),100)\n",
    "    fig = plt.figure(facecolor='w',figsize=(10,5)); ax = fig.add_subplot()\n",
    "    ax.set_xscale('log')\n",
    "    plt.plot(tfit,sfit,'o',label = 'measured') \n",
    "    plt.plot(t,heval(t,r,Tfit,Sfit,cfit,Q),'-', label = 'calculated', lw = 2)\n",
    "    plt.xlabel('time [d]'); plt.ylabel('drawdown [m]')\n",
    "    plt.title ('Oude Korendijk pumping test',fontsize=14)\n",
    "    plt.grid ()\n",
    "    plt.legend (loc='upper left',fontsize=12)\n",
    "    ax.text (0.04,0.5*sfit.max(),'$T =%.1f m^2/d $' % (Tfit, ),fontsize=12)\n",
    "    ax.text (0.04,0.4*sfit.max(),'$S =%.3e $' % (Sfit, ),fontsize=12)\n",
    "    ax.text (0.04,0.3*sfit.max(),'$c =%.3e d$' % (cfit, ),fontsize=12)\n",
    "    ax.text (0.04,0.2*sfit.max(),'$res = %.3e $' % (res, ),fontsize=12)\n",
    "    ax.text (0.04,0.1*sfit.max(),'$stdev = %.3e $' % (stde, ),fontsize=12)\n",
    "    ax.text (0.04,0,'$2stdev =%.3e $' % (sr, ),fontsize=12);\n",
    "\n",
    "weval2 = widgets.Button(description='Evaluate Hantush')        \n",
    "weval2.on_click(on_weval2_clicked)   \n",
    "widgets.VBox([weval2])"
   ]
  },
  {
   "cell_type": "markdown",
   "metadata": {
    "hide_input": true
   },
   "source": [
    "The test can be interpreted from the Theis or the Hantush point of view, i.e. without or with leakage from a layer with fixed head. Which of the two may be deduced from the data: will they fit onto the Theis type curve or, when not, do they match with one of the Hantush type curves. Other effects may also influence the data, like partial penetration of the screen in the aquifer, storage inside the well and delayed yield and, notably, any effects caused by non-linearity, such as non-constant aquifer thickness under the influence of the drawdown in water table aquifers. All such effects may play their role under various circumstances, but may initially be ignored, to be included only when the data show that it is necessary."
   ]
  },
  {
   "cell_type": "markdown",
   "metadata": {},
   "source": [
    "## Conclusion\n",
    "\n",
    "This notebook shows how an analysis of a pumping test can be done by first exploring the data and then applying several methods to see what works. If only the final answer is of interest, then copy that result to another document or notebook to continue working with that results. However, this current notebook is and will always remain a good reference as it is completely documented and clearly shows all the steps taken to explore the problem and to find one or more suitable answers."
   ]
  },
  {
   "cell_type": "markdown",
   "metadata": {},
   "source": [
    "## Bibliography\n",
    "\n",
    "* Cooper H.H., Jacob C.E., A generalized graphical method for evaluating formation constants and summarizing well‐field history, Vol. 27(4), 526-534, 1946\n",
    "* de Glee G.J., Over grondwaterstromingen bij wateronttrekking door middel van putten, J. Waltman, Delft,  1930 (in Dutch)\n",
    "* Hantush M.S., Analysis of data from pumping tests in leaky aquifers, EOS, Vol. 37(6), 702-714, 1956\n",
    "* Hantush M.S., Flow of groundwater in relatively thick leaky aquifers, Water Res. Res., Vol. 3(2), 583-590, 1967\n",
    "* Hantush M.S., Jacob C.E., Non-steady radial flow in an infinite leaky aquifer, Trans. Am. Geophys. Union, Vol. 36, 95-100, 1955 \n",
    "* Holzbecher, E., Environmental Modeling using Matlab, Springer, Berlin Heidelberg, 2012\n",
    "* Kooper J., Beweging van het water in den bodem bij onttrekking door bronnen, De Ingenieur, Vol. 29(38), 697–706 and 29(39), 710–716, 1914 (in Dutch)\n",
    "* Krusemann G.P., de Ridder N.A., Untersuchung und Anwendung von Pumpversuchen, Verlagsges. R. Müller, Köln, 1973 (in German)\n",
    "* Krusemann G.P., de Ridder N.A., Analysis and evaluation of pumping test data, 2.Edition, Intern. Inst. for Land Reclamation and Improvement (ILRI), Publication 47, Wageningen, 1994, https://www.hydrology.nl/images/docs/dutch/key/Kruseman_and_De_Ridder_2000.pdf\n",
    "* Olsthoorn T., The Korendijk pumping test, https://notebook.community/Olsthoorn/TransientGroundwaterFlow/excercises_notebooks/Korendijk-ptest-theis, 2019\n",
    "* Renard P., Hytool: a hydrogeological toolbox. University of Neuchâtel, Switzerland, 2003\n",
    "* Renard P., The future of hydraulic tests, Hydrogeol. J., Vol. 13, 259-262, 2005\n",
    "* Thiem G., Hydrologische Methoden, J.M.Gebhardt, Leipzig, 1906 (in German)\n",
    "* Theis C.V., The relation between the lowering of the piezometric surface and the rate and duration of discharge of a well using ground-water storage, Transactions of the AGU, Vol. 16(2), 519-524, 1935\n",
    "* White R.W., Clebsch A., C.V. Theis - and a review of his life and work, in: Selected Contributions to Ground-Water Hydrology, US Geol. Survey Water-Supply Paper 2415, 1994, http://ponce.sdsu.edu/theis_biography.html \n",
    "* Wit K.E., De hydrologische bodemconstanten in de polder 'De Oude Korendijk' berekend uit pompproeven en laboratoriummetingen in ongeroerde monsters (The hydraulic characteristics of the Oude Korendijk polder, calculated from pumping test data and laboratory measurements of core samples), ICW Notas 190, 24p, 1963 (in Dutch)"
   ]
  },
  {
   "cell_type": "code",
   "execution_count": null,
   "metadata": {
    "hide_input": true
   },
   "outputs": [],
   "source": []
  }
 ],
 "metadata": {
  "hide_input": false,
  "kernelspec": {
   "display_name": "Python 3",
   "language": "python",
   "name": "python3"
  },
  "language_info": {
   "codemirror_mode": {
    "name": "ipython",
    "version": 3
   },
   "file_extension": ".py",
   "mimetype": "text/x-python",
   "name": "python",
   "nbconvert_exporter": "python",
   "pygments_lexer": "ipython3",
   "version": "3.7.6"
  },
  "toc": {
   "base_numbering": 1,
   "nav_menu": {},
   "number_sections": true,
   "sideBar": true,
   "skip_h1_title": true,
   "title_cell": "Table of Contents",
   "title_sidebar": "Contents",
   "toc_cell": true,
   "toc_position": {},
   "toc_section_display": true,
   "toc_window_display": true
  },
  "varInspector": {
   "cols": {
    "lenName": 16,
    "lenType": 16,
    "lenVar": 40
   },
   "kernels_config": {
    "python": {
     "delete_cmd_postfix": "",
     "delete_cmd_prefix": "del ",
     "library": "var_list.py",
     "varRefreshCmd": "print(var_dic_list())"
    },
    "r": {
     "delete_cmd_postfix": ") ",
     "delete_cmd_prefix": "rm(",
     "library": "var_list.r",
     "varRefreshCmd": "cat(var_dic_list()) "
    }
   },
   "position": {
    "height": "768.85px",
    "left": "838px",
    "right": "20px",
    "top": "154px",
    "width": "469px"
   },
   "types_to_exclude": [
    "module",
    "function",
    "builtin_function_or_method",
    "instance",
    "_Feature"
   ],
   "window_display": false
  }
 },
 "nbformat": 4,
 "nbformat_minor": 4
}
