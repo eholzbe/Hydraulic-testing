{
 "cells": [
  {
   "cell_type": "markdown",
   "metadata": {
    "hide_input": false
   },
   "source": [
    "\n",
    "<font size = 6px, style=\"color:blue\">**Hydraulic Testing:  Pumping Test Evaluation**</font>\n",
    "\n",
    "\n",
    "Prof. habil. Dr.-Ing. Dipl.-Math. Ekkehard Holzbecher\n",
    "\n",
    "*Demo Oude Korendijk \n",
    "(partially adopted and modified from Olsthoorn)* \n",
    "https://notebook.community/Olsthoorn/TransientGroundwaterFlow/excercises_notebooks/Korendijk-ptest-theis\n"
   ]
  },
  {
   "cell_type": "markdown",
   "metadata": {
    "toc": true
   },
   "source": [
    "<h1>Table of Contents<span class=\"tocSkip\"></span></h1>\n",
    "<div class=\"toc\"><ul class=\"toc-item\"><li><span><a href=\"#Introduction\" data-toc-modified-id=\"Introduction-1\"><span class=\"toc-item-num\">1&nbsp;&nbsp;</span>Introduction</a></span></li><li><span><a href=\"#The-Oude-Korendijk-Pumping-Test\" data-toc-modified-id=\"The-Oude-Korendijk-Pumping-Test-2\"><span class=\"toc-item-num\">2&nbsp;&nbsp;</span>The Oude Korendijk Pumping Test</a></span></li><li><span><a href=\"#Interpretation-using-Data-for-Steady-State-Drawdown\" data-toc-modified-id=\"Interpretation-using-Data-for-Steady-State-Drawdown-3\"><span class=\"toc-item-num\">3&nbsp;&nbsp;</span>Interpretation using Data for Steady State Drawdown</a></span><ul class=\"toc-item\"><li><span><a href=\"#Confined-Aquifer\" data-toc-modified-id=\"Confined-Aquifer-3.1\"><span class=\"toc-item-num\">3.1&nbsp;&nbsp;</span>Confined Aquifer</a></span></li><li><span><a href=\"#Unconfined-Aquifer\" data-toc-modified-id=\"Unconfined-Aquifer-3.2\"><span class=\"toc-item-num\">3.2&nbsp;&nbsp;</span>Unconfined Aquifer</a></span></li><li><span><a href=\"#Leaky-Aquifer\" data-toc-modified-id=\"Leaky-Aquifer-3.3\"><span class=\"toc-item-num\">3.3&nbsp;&nbsp;</span>Leaky Aquifer</a></span></li></ul></li><li><span><a href=\"#Unsteady-Data-Input-and-Visualization\" data-toc-modified-id=\"Unsteady-Data-Input-and-Visualization-4\"><span class=\"toc-item-num\">4&nbsp;&nbsp;</span>Unsteady Data Input and Visualization</a></span></li><li><span><a href=\"#Basic-Interpretation-based-on-the-Theis-Solution\" data-toc-modified-id=\"Basic-Interpretation-based-on-the-Theis-Solution-5\"><span class=\"toc-item-num\">5&nbsp;&nbsp;</span>Basic Interpretation based on the Theis Solution</a></span></li><li><span><a href=\"#Classical-Interpretation-using-the-Match-on-Double-Log-Scales\" data-toc-modified-id=\"Classical-Interpretation-using-the-Match-on-Double-Log-Scales-6\"><span class=\"toc-item-num\">6&nbsp;&nbsp;</span>Classical Interpretation using the Match on Double Log Scales</a></span></li><li><span><a href=\"#Graphical-Interpretation-for-Transmissivity-and-Storativity\" data-toc-modified-id=\"Graphical-Interpretation-for-Transmissivity-and-Storativity-7\"><span class=\"toc-item-num\">7&nbsp;&nbsp;</span>Graphical Interpretation for Transmissivity and Storativity</a></span><ul class=\"toc-item\"><li><span><a href=\"#Multi-Graph\" data-toc-modified-id=\"Multi-Graph-7.1\"><span class=\"toc-item-num\">7.1&nbsp;&nbsp;</span>Multi-Graph</a></span></li><li><span><a href=\"#Single-Graph\" data-toc-modified-id=\"Single-Graph-7.2\"><span class=\"toc-item-num\">7.2&nbsp;&nbsp;</span>Single Graph</a></span></li></ul></li><li><span><a href=\"#Error-Measures\" data-toc-modified-id=\"Error-Measures-8\"><span class=\"toc-item-num\">8&nbsp;&nbsp;</span>Error Measures</a></span></li><li><span><a href=\"#Direct-Optimization-of-Transmissivity-and-Storativity\" data-toc-modified-id=\"Direct-Optimization-of-Transmissivity-and-Storativity-9\"><span class=\"toc-item-num\">9&nbsp;&nbsp;</span>Direct Optimization of Transmissivity and Storativity</a></span></li><li><span><a href=\"#Parameter-Estimation\" data-toc-modified-id=\"Parameter-Estimation-10\"><span class=\"toc-item-num\">10&nbsp;&nbsp;</span>Parameter Estimation</a></span><ul class=\"toc-item\"><li><span><a href=\"#Confined-Aquifer\" data-toc-modified-id=\"Confined-Aquifer-10.1\"><span class=\"toc-item-num\">10.1&nbsp;&nbsp;</span>Confined Aquifer</a></span></li><li><span><a href=\"#Leaky-Aquifer\" data-toc-modified-id=\"Leaky-Aquifer-10.2\"><span class=\"toc-item-num\">10.2&nbsp;&nbsp;</span>Leaky Aquifer</a></span></li></ul></li><li><span><a href=\"#Conclusion\" data-toc-modified-id=\"Conclusion-11\"><span class=\"toc-item-num\">11&nbsp;&nbsp;</span>Conclusion</a></span></li><li><span><a href=\"#Bibliography\" data-toc-modified-id=\"Bibliography-12\"><span class=\"toc-item-num\">12&nbsp;&nbsp;</span>Bibliography</a></span></li></ul></div>"
   ]
  },
  {
   "cell_type": "markdown",
   "metadata": {},
   "source": [
    "## Introduction\n",
    "\n",
    "In a pumping test the drawdown of the water table in a piezometer is recorded, as response to pumping from a nearby well. Pumping tests belong into the common toolbox of hydro-geologists, used to obtain basic parameters for aquifer characterization. It is common practice to determine transmissivity (T) and storativity (S) from fitting 1D-analytical solutions to the observed drawdown. The application of this classical evaluation method is related to various idealistic assumptions.\n",
    "\n",
    "The most important ones are listed in the sequel. The aquifer is homogeneous and isotropic, has a constant thickness and has infinite extend. The well is assumed to be ideal, i.e. it is sreened over the entire thickness of the aquifer. The well diameter is small. Pumping is performed at constant rate.\n",
    "\n",
    "In 1970 Kruseman & de Ridder published the probably most used and referenced textbook on pumping test evaluations. A translation in German came out already in 1993. The book was revised several times. The 1994 version is free available on the internet. The book covers evaluation methods for various types of aquifers and conditions on groundwater wells, including examples with data. In the book the most common method, introduced by Theis (1937) is outlined, using a pumping test, performed at a location, called the Oude Korendijk, in the Netherlands.  "
   ]
  },
  {
   "cell_type": "markdown",
   "metadata": {},
   "source": [
    "## The Oude Korendijk Pumping Test"
   ]
  },
  {
   "cell_type": "markdown",
   "metadata": {},
   "source": [
    "In a report Wit (1963) describes and evaluates several pumping tests, performed in the Oude Korendijk polder areas. The one most cited test is identified as H2 in the original paper, which was performed on July 10th 1962. The figure below gives an impression on the type of landscape in polder areas in the Netherlands.    "
   ]
  },
  {
   "cell_type": "markdown",
   "metadata": {},
   "source": [
    "<div><img src=\"OKfoto.png\" align=\"center\"/></div>"
   ]
  },
  {
   "cell_type": "markdown",
   "metadata": {},
   "source": [
    "The locality south of Rotterdam is depicted in the figure below (Wit 1963). In the south, at the bottom of the figure, the Rhine river can be identified. The area is criss-crossed by various trenches for drainage.  "
   ]
  },
  {
   "cell_type": "markdown",
   "metadata": {},
   "source": [
    "<div><img src=\"OK1.png\" width=\"480\" height=\"320\" align=\"center\"/></div>"
   ]
  },
  {
   "cell_type": "markdown",
   "metadata": {},
   "source": [
    "The Oude Korendijk pumping test is a test in a confined, leaky or unconfined setting, which should yield a value for the aquifers' transmissivity and its storage coefficient. The following figure depicts a cross sectional view of the geological situation at the site (Wit 1963). The figure text is in Dutch; here some translations: pompput = pumping well, zand = sand, veen = peat, grint = gravel, peilfilter = filter. "
   ]
  },
  {
   "cell_type": "markdown",
   "metadata": {
    "hide_input": true
   },
   "source": [
    "<div><img src=\"OK2.png\" width=\"720\" align=\"center\"/></div>"
   ]
  },
  {
   "cell_type": "markdown",
   "metadata": {},
   "source": [
    "The well was pumped with a constant rate of 768 m$^3$/d. There are four piezometers in the vicinity of the pumping well, which can be taken as observation points. The nearest is only 80 cm away from the well. The other three observation points are located in a distance of 30 m, 90 m and 215 m . The following figure shows the locations and final drawdown in the Oude Korendijk pumping test measured after almost 14 hours."
   ]
  },
  {
   "cell_type": "markdown",
   "metadata": {},
   "source": [
    "<div><img src=\"OK3.png\" width=\"720\" align=\"center\"/></div>"
   ]
  },
  {
   "cell_type": "markdown",
   "metadata": {},
   "source": [
    "Our focus will be on the two observation points at intermediate distances, i.e 30 and 90 m away from the pumping well. The one in direct vicinity may be influenced by local conditions around the well. These conditions may be disturbed due to the drilling and installation of the well and the so called skin effect. The most distant observation point may be influenced by boundary conditions. The polder in the Netherlands are surrounded by surface water bodies, the Rhine river and trenches filled by drainage water. The following figures show the drawdown measurements at the two intermediate observation points: observation 1 for the one in 30 m distance, observation 2 for the one in 90 m distance. "
   ]
  },
  {
   "cell_type": "markdown",
   "metadata": {},
   "source": [
    "## Interpretation using Data for Steady State Drawdown"
   ]
  },
  {
   "cell_type": "markdown",
   "metadata": {},
   "source": [
    "### Confined Aquifer\n",
    "The solution for the steady state drawdown $s$ in a distance $r$ from the pumping well after a long time of pumping was given by Thiem (1906)"
   ]
  },
  {
   "cell_type": "markdown",
   "metadata": {},
   "source": [
    "$$ s(r) = -\\frac {Q} {2 \\pi T} \\ln (r)+C $$"
   ]
  },
  {
   "cell_type": "markdown",
   "metadata": {},
   "source": [
    "The transmissivity $T$ is a property of the aquifer, characterizing its ability to conduct water. $Q$ denotes the pumping rate. $C$ is an integration constant that emerges due to the solution of a differential equation. If the final drawdown measures $s_1$ and $s_2$ are given at two observation points at different distances $r_1$ and $r_2$, the integration constant can be eliminated and a formula for the transmissivity results: "
   ]
  },
  {
   "cell_type": "markdown",
   "metadata": {
    "hide_input": false
   },
   "source": [
    "$$ T = \\frac {Q} {2 \\pi (s_1-s_2)} \\ln (r_2/r_1) $$"
   ]
  },
  {
   "cell_type": "markdown",
   "metadata": {},
   "source": [
    "The following cell shows the pumping rate for the Oude Korendijk pumping test in units m$^3$/d:"
   ]
  },
  {
   "cell_type": "code",
   "execution_count": 1,
   "metadata": {
    "hide_input": false,
    "scrolled": false
   },
   "outputs": [
    {
     "data": {
      "application/vnd.jupyter.widget-view+json": {
       "model_id": "e2dbbcfb1638426db6053c300891af39",
       "version_major": 2,
       "version_minor": 0
      },
      "text/plain": [
       "BoundedFloatText(value=768.0, description='Pump rate:', disabled=True, max=1000.0, step=1.0)"
      ]
     },
     "metadata": {},
     "output_type": "display_data"
    }
   ],
   "source": [
    "from scipy.special import exp1\n",
    "import numpy as np\n",
    "import matplotlib.pyplot as plt\n",
    "import pandas as pd\n",
    "import ipywidgets as widgets\n",
    "from IPython.display import display\n",
    "from IPython.display import HTML\n",
    "import IPython.core.display as di # Example: di.display_html('<h3>%s:</h3>' % str, raw=True)\n",
    "\n",
    "# This line will hide code by default when the notebook is exported as HTML\n",
    "di.display_html('<script>jQuery(function() {if (jQuery(\"body.notebook_app\").length == 0) { jQuery(\".input_area\").toggle(); jQuery(\".prompt\").toggle();}});</script>', raw=True)\n",
    "%matplotlib inline\n",
    "\n",
    "wQ = widgets.BoundedFloatText(value=768, min=0, max=1000.0, step=1, description='Pump rate:', disabled=True)\n",
    "wQ"
   ]
  },
  {
   "cell_type": "markdown",
   "metadata": {},
   "source": [
    "In the Oude Korendijk pump test a steady state was not reached. However, the difference between the drawdown values in the two major observation wells remains almost constant. We call this a quasi-steady state, assuming that the difference will be the same, when a stationary situation is reached. For the evaluation using the Thiem formula we need the pumping rate, here in physical unit of cubic meter per day:  "
   ]
  },
  {
   "cell_type": "markdown",
   "metadata": {
    "hide_input": true
   },
   "source": [
    "Enter distances and final drawdowns in meter!"
   ]
  },
  {
   "cell_type": "code",
   "execution_count": 2,
   "metadata": {
    "hide_input": true,
    "scrolled": false
   },
   "outputs": [
    {
     "data": {
      "application/vnd.jupyter.widget-view+json": {
       "model_id": "e9935a03e0b349f2933ef1ef15c1862e",
       "version_major": 2,
       "version_minor": 0
      },
      "text/plain": [
       "HBox(children=(BoundedFloatText(value=30.0, description='$r_1$:', max=215.0), BoundedFloatText(value=90.0, des…"
      ]
     },
     "metadata": {},
     "output_type": "display_data"
    }
   ],
   "source": [
    "wr1 = widgets.BoundedFloatText(value=30.0, min=0.0, max=215.0, description='$r_1$:', disabled=False)\n",
    "wr2 = widgets.BoundedFloatText(value=90.0, min=0.0, max=215.0, description='$r_2$:', disabled=False)\n",
    "ws1 = widgets.BoundedFloatText(value=1.088, min=0.0, max=3.0, description='$s_1$:', disabled=False)\n",
    "ws2 = widgets.BoundedFloatText(value=0.716, min=0.0, max=3.0, description='$s_2$:', disabled=False)\n",
    "widgets.HBox([wr1,wr2,ws1,ws2]) "
   ]
  },
  {
   "cell_type": "markdown",
   "metadata": {
    "hide_input": true
   },
   "source": [
    "Run the next cell to see the result for transmissivity."
   ]
  },
  {
   "cell_type": "code",
   "execution_count": 3,
   "metadata": {
    "hide_input": true
   },
   "outputs": [
    {
     "name": "stdout",
     "output_type": "stream",
     "text": [
      "T = 361 m²/d\n"
     ]
    }
   ],
   "source": [
    "Q = wQ.value         \n",
    "r1 = wr1.value; s1 = ws1.value; r2 =wr2.value; s2 = ws2.value  # distances and drawdown \n",
    "T1 = Q * np.log(r1/r2) / (2*np.pi*(s2-s1))\n",
    "print('T = {:.0f} m\\u00b2/d'.format(T1))"
   ]
  },
  {
   "cell_type": "markdown",
   "metadata": {},
   "source": [
    "The transmissivity is related to the conductivity $K$ of the porous medium in the aquifer by: $T=K \\cdot D$. \n",
    "\n",
    "For the computation of the conductivity the aquifer thickness $D$ of the aquifer has to be given. "
   ]
  },
  {
   "cell_type": "code",
   "execution_count": 4,
   "metadata": {
    "hide_input": true,
    "scrolled": true
   },
   "outputs": [
    {
     "data": {
      "application/vnd.jupyter.widget-view+json": {
       "model_id": "ad71d2188c35472e88b21d5b133fcfaf",
       "version_major": 2,
       "version_minor": 0
      },
      "text/plain": [
       "BoundedFloatText(value=7.0, description='Thickness:', max=15.0, step=1.0)"
      ]
     },
     "metadata": {},
     "output_type": "display_data"
    }
   ],
   "source": [
    "wD = widgets.BoundedFloatText(value=7, min=0, max=15.0, step=1, description='Thickness:', disabled=False)\n",
    "wD"
   ]
  },
  {
   "cell_type": "markdown",
   "metadata": {},
   "source": [
    " Obtain the result for the hydraulic conductivity of the porous medium by running the next cell: "
   ]
  },
  {
   "cell_type": "code",
   "execution_count": 5,
   "metadata": {
    "hide_input": true,
    "scrolled": true
   },
   "outputs": [
    {
     "name": "stdout",
     "output_type": "stream",
     "text": [
      "K = 52 m/d\n"
     ]
    }
   ],
   "source": [
    "print('K = {:.0f} m/d'.format(T1/wD.value))"
   ]
  },
  {
   "cell_type": "markdown",
   "metadata": {},
   "source": [
    "### Unconfined Aquifer \n",
    "The Thiem formula shown above holds for a confined aquifer. An analogous derivation derivation can be performed for an unconfined aquifer. The formula for the hydraulic head is:"
   ]
  },
  {
   "cell_type": "markdown",
   "metadata": {},
   "source": [
    "$$ h^2(r) = \\frac {Q} {\\pi K} \\ln (r)+C $$"
   ]
  },
  {
   "cell_type": "markdown",
   "metadata": {},
   "source": [
    "where $h$ denotes the piezometric head, measured from the aquifer base. From this one obtains: "
   ]
  },
  {
   "cell_type": "markdown",
   "metadata": {
    "hide_input": false
   },
   "source": [
    "$$ K = \\frac {Q} {\\pi (h_2^2-h_1^2)} \\ln (r_2/r_1) $$"
   ]
  },
  {
   "cell_type": "markdown",
   "metadata": {},
   "source": [
    "For the calculation the constant initial head is required. We enter it here: "
   ]
  },
  {
   "cell_type": "code",
   "execution_count": 6,
   "metadata": {
    "hide_input": true,
    "scrolled": false
   },
   "outputs": [
    {
     "data": {
      "application/vnd.jupyter.widget-view+json": {
       "model_id": "f5bde000a5be496e85eff0534ecbc89a",
       "version_major": 2,
       "version_minor": 0
      },
      "text/plain": [
       "BoundedFloatText(value=7.0, description='Initial head:', max=15.0, step=1.0)"
      ]
     },
     "metadata": {},
     "output_type": "display_data"
    }
   ],
   "source": [
    "wH = widgets.BoundedFloatText(value=7, min=0, max=15.0, step=1, description='Initial head:', disabled=False)\n",
    "wH"
   ]
  },
  {
   "cell_type": "markdown",
   "metadata": {},
   "source": [
    " and obtain the result by running the next cell: "
   ]
  },
  {
   "cell_type": "code",
   "execution_count": 7,
   "metadata": {
    "hide_input": true,
    "scrolled": false
   },
   "outputs": [
    {
     "name": "stdout",
     "output_type": "stream",
     "text": [
      "K = 59 m/d\n"
     ]
    }
   ],
   "source": [
    "h1 = wH.value-s1; h2 = wH.value-s2\n",
    "K1 = Q * np.log(r2/r1) / np.pi / (h2**2-h1**2)\n",
    "print('K = {:.0f} m/d'.format(K1))"
   ]
  },
  {
   "cell_type": "markdown",
   "metadata": {},
   "source": [
    "Also for this pumping we don't know the exact value of the initial head. Change its value and see the effect on the resulting conductivity! \n",
    "Compare the result with the conductivities that results from the output of the Thiem evaluation for the confined aquifer, identifying the aquifer thickness with the initial head."
   ]
  },
  {
   "cell_type": "markdown",
   "metadata": {},
   "source": [
    "Use the Thiem evaluation for the steady state taking the measurements at the near and far observtion points into consideration. Examine results for different pairs of observations.  "
   ]
  },
  {
   "cell_type": "markdown",
   "metadata": {},
   "source": [
    "### Leaky Aquifer\n",
    "Kooper (1914) and de Glee (1930) developed an expression for the steady drawdown in a leaky aquifer. The overlying semi-permeable layer is characterized by its vertical flow resistance $c$, which has the unit of time. The formula is:  "
   ]
  },
  {
   "cell_type": "markdown",
   "metadata": {},
   "source": [
    "$$ s(r) = \\frac{Q}{2 \\pi T} K_0(\\frac{r}{\\sqrt{Tc}}) $$"
   ]
  },
  {
   "cell_type": "markdown",
   "metadata": {},
   "source": [
    "where $K_0$ denotes the modified Bessel function 2. type 0. order. We can obtain values for the two parameters $T$ and $c$ by fitting using the method of least squares. This is done in the following cell."
   ]
  },
  {
   "cell_type": "code",
   "execution_count": 8,
   "metadata": {
    "hide_input": true
   },
   "outputs": [
    {
     "data": {
      "application/vnd.jupyter.widget-view+json": {
       "model_id": "a3b8c8dc914d4d2b8a4292d820e10541",
       "version_major": 2,
       "version_minor": 0
      },
      "text/plain": [
       "HBox(children=(Button(description='Leaky aquifer fit', style=ButtonStyle()), Checkbox(value=False, description…"
      ]
     },
     "metadata": {},
     "output_type": "display_data"
    }
   ],
   "source": [
    "from scipy.optimize import fmin\n",
    "from scipy.special import kn as besselk\n",
    "rfit = [0.8, 30, 60, 215]\n",
    "srfit = [2.235, 1.088, 0.716, 0.25] \n",
    "T2 = 500\n",
    "\n",
    "def deGlee (x):\n",
    "    T = x[0]; c = x[1]\n",
    "    u = rfit/np.sqrt(T*c)\n",
    "    s = Q*besselk(0,u)/2/np.pi/T\n",
    "    res = (s-srfit)\n",
    "    return sum(res*res)\n",
    "\n",
    "def on_wdg_clicked(self):\n",
    "    global T2\n",
    "    c = 500\n",
    "    n = len(rfit); lr = np.log(rfit)  \n",
    "    T = (n*np.sum(lr*srfit)-np.sum(lr)*np.sum(srfit))/(n*np.sum(lr*lr)-np.sum(lr)**2)\n",
    "    T = -Q/2/np.pi/T                       # transmissivity initial guess [L^2/T]\n",
    "    [Tfit,cfit] = fmin(deGlee, [T,c]) \n",
    "\n",
    "    s = Q*besselk(0,rfit/np.sqrt(Tfit*cfit))/2/np.pi/Tfit\n",
    "    norms = np.linalg.norm(srfit-s)\n",
    "    rmax = max(rfit); smax = max(srfit)\n",
    "    r = np.arange(.9*min(rfit), rmax, step = rmax/50)\n",
    "    s = Q/2/np.pi/T*besselk(0,r/np.sqrt(Tfit*cfit))\n",
    "    fig = plt.figure(facecolor='w'); ax = fig.add_subplot()\n",
    "    if wcb.value: \n",
    "        ax.set_xscale('log'); xtext = 1\n",
    "    else:\n",
    "        xtext = 130\n",
    "    plt.plot (rfit,srfit, 'o', label = 'observation' )\n",
    "    plt.plot (r,s, '.-', label = 'modelled' )\n",
    "    plt.xlabel('distance [m]',fontsize=12)\n",
    "    plt.ylabel('drawdown [m]',fontsize=12)\n",
    "    ax.grid(b=True, c='w', lw=2, ls='-')\n",
    "    plt.legend(loc = 'upper right',fontsize=12)\n",
    "    ax.text (xtext,.7*smax,'$T = %.3e $' % (Tfit, ),fontsize=12)\n",
    "    ax.text (xtext,.6*smax,'$c =%.3e $' % (cfit, ),fontsize=12)\n",
    "    ax.text (xtext,.5*smax,'$norm =%.3e $' % (norms, ),fontsize=12)\n",
    "    plt.title ('deGlee fit',fontsize=14);\n",
    "    T2 = Tfit\n",
    "\n",
    "wdg = widgets.Button(description='Leaky aquifer fit')        \n",
    "wdg.on_click(on_wdg_clicked)   \n",
    "wcb = widgets.Checkbox(value=False, description='log', disabled=False, indent=False)\n",
    "widgets.HBox([wdg,wcb]) "
   ]
  },
  {
   "cell_type": "markdown",
   "metadata": {},
   "source": [
    "Again we can obtain the hydraulic conductivity $K$ if the aquifer thickness is known:  "
   ]
  },
  {
   "cell_type": "code",
   "execution_count": 9,
   "metadata": {
    "hide_input": true,
    "scrolled": true
   },
   "outputs": [
    {
     "data": {
      "application/vnd.jupyter.widget-view+json": {
       "model_id": "f51e15d7d9184563afc336cb61c22d07",
       "version_major": 2,
       "version_minor": 0
      },
      "text/plain": [
       "BoundedFloatText(value=7.0, description='Thickness:', max=15.0, step=1.0)"
      ]
     },
     "metadata": {},
     "output_type": "display_data"
    }
   ],
   "source": [
    "wD2 = widgets.BoundedFloatText(value=7, min=0, max=15.0, step=1, description='Thickness:', disabled=False)\n",
    "wD2"
   ]
  },
  {
   "cell_type": "markdown",
   "metadata": {},
   "source": [
    " Obtain the result by running the next cell: "
   ]
  },
  {
   "cell_type": "code",
   "execution_count": 10,
   "metadata": {
    "hide_input": true,
    "scrolled": true
   },
   "outputs": [
    {
     "name": "stdout",
     "output_type": "stream",
     "text": [
      "K = 71 m/d\n"
     ]
    }
   ],
   "source": [
    "print('K = {:.0f} m/d'.format(T2/wD2.value))"
   ]
  },
  {
   "cell_type": "markdown",
   "metadata": {},
   "source": [
    "## Unsteady Data Input and Visualization"
   ]
  },
  {
   "cell_type": "markdown",
   "metadata": {},
   "source": [
    "The data for the pumping test are in the EXCEL file \"OK.xlsx\", which we'll open and read into this notebook.  "
   ]
  },
  {
   "cell_type": "code",
   "execution_count": 49,
   "metadata": {
    "hide_input": false,
    "jupyter": {
     "outputs_hidden": false
    },
    "scrolled": true
   },
   "outputs": [],
   "source": [
    "df = pd.DataFrame(columns=['t1','s1','t2','s2'])\n",
    "\n",
    "#def on_wini_clicked(self):\n",
    "#y = pd.read_excel('ok.xlsx',header=None)                     # time in seconds!\n",
    "#df['t1'] = y[0].dropna()/60; df['s1'] = y[1].dropna() \n",
    "#df['t2'] = y[2].dropna()/60; df['s2'] = y[3].dropna()\n",
    "df['t1'] =[6,15,30,42,60,84,114,139.8,168,201.6,240,321,408,498,522,600,786, \n",
    "           1080,1620,1980,2460,2880,3540,4800,5700,8340,10860,14700,18000,21600,\n",
    "           28800,36000,43680,49800,50000]\n",
    "df['s1'] =[0.04,0.08,0.13,0.18,0.23,0.28,0.33,0.36,0.39,0.42,0.45,0.5,0.54,0.57,\n",
    "           0.58,0.6,0.64,0.68,0.742,0.753,0.779,0.793,0.819,0.855,0.873,0.915,\n",
    "           0.935,0.966,0.99,1.007,1.05,1.053,1.072,1.088,1.088]\n",
    "df['t2'] =[90,120,129.6,159.6,180,210,240,259.8,330,360,450,540,780,900,1080,\n",
    "           1500,1800,2400,3180,3600,4500,5400,6300,7200,9000,10800,14880,18060,\n",
    "           21780,25320,32520,36120,40800,47100,50700]\n",
    "df['s2'] =[0.015,0.021,0.023,0.044,0.054,.075,.09,.104,.133,.153,.178,.206,.25,\n",
    "           .275,.305,.348,.364,.404,.429,.444,.467,.494,.507,.528,.55,.569,.593,\n",
    "           .614,.636,.657,.679,.688,.701,.718,.716]\n",
    "df['t1'] = df['t1']/60\n",
    "df['t2'] = df['t2']/60\n",
    "\n",
    "global kD, Sc\n",
    "    \n",
    "#wini = widgets.Button(description='Input data')        \n",
    "#wini.on_click(on_wini_clicked) \n",
    "#wini   "
   ]
  },
  {
   "cell_type": "markdown",
   "metadata": {
    "hide_input": true
   },
   "source": [
    "Let's see how the data look like. "
   ]
  },
  {
   "cell_type": "code",
   "execution_count": 50,
   "metadata": {
    "hide_input": true,
    "jupyter": {
     "outputs_hidden": false
    },
    "scrolled": false
   },
   "outputs": [
    {
     "data": {
      "application/vnd.jupyter.widget-view+json": {
       "model_id": "44ba54097eb24fe5924dc9f7c3fdaece",
       "version_major": 2,
       "version_minor": 0
      },
      "text/plain": [
       "VBox(children=(Button(description='Plot data', style=ButtonStyle()),))"
      ]
     },
     "metadata": {},
     "output_type": "display_data"
    },
    {
     "data": {
      "image/png": "[encoded data removed]",
      "text/plain": [
       "<Figure size 720x360 with 1 Axes>"
      ]
     },
     "metadata": {},
     "output_type": "display_data"
    }
   ],
   "source": [
    "def on_wp0_clicked(self):\n",
    "    plt.rcParams[\"figure.figsize\"] = (10,5) \n",
    "    fig = plt.figure(facecolor='w'); ax = fig.add_subplot()\n",
    "    plt.plot (df['t1'],df['s1'], '.-', label = 'observation H30' )\n",
    "    plt.plot (df['t2'],df['s2'], '.-', label = 'observation H90' )\n",
    "    plt.title('Oude Korendijk pumping test measured drawdowns',fontsize=14)\n",
    "    plt.xlabel('time [min]',fontsize=12)\n",
    "    plt.ylabel('drawdown [m]',fontsize=12)\n",
    "    plt.grid()\n",
    "    plt.legend(loc = 'lower right',fontsize=12);\n",
    "    \n",
    "wp0 = widgets.Button(description='Plot data')        \n",
    "wp0.on_click(on_wp0_clicked)   \n",
    "widgets.VBox([wp0])    "
   ]
  },
  {
   "cell_type": "markdown",
   "metadata": {},
   "source": [
    "Obviously a steady state has not been reached at the end of the pump test. The visual inspection of the plot indicates that there is a constant difference between the drawdowns in the two observation wells. This would justify the application of the Thiem evaluation, as there only the difference counts. We call this situation either quasi stead-state or steady slope. Lets check the difference in a graph. "
   ]
  },
  {
   "cell_type": "code",
   "execution_count": 51,
   "metadata": {
    "hide_input": true,
    "jupyter": {
     "outputs_hidden": false
    },
    "scrolled": false
   },
   "outputs": [
    {
     "data": {
      "application/vnd.jupyter.widget-view+json": {
       "model_id": "2681668596d04b6189ba836f289f4475",
       "version_major": 2,
       "version_minor": 0
      },
      "text/plain": [
       "VBox(children=(Button(description='Drawdown difference', style=ButtonStyle()),))"
      ]
     },
     "metadata": {},
     "output_type": "display_data"
    },
    {
     "data": {
      "image/png": "[encoded data removed]",
      "text/plain": [
       "<Figure size 720x360 with 1 Axes>"
      ]
     },
     "metadata": {},
     "output_type": "display_data"
    }
   ],
   "source": [
    "from scipy.interpolate import interp1d\n",
    "\n",
    "def on_wp1_clicked(self):\n",
    "    plt.rcParams[\"figure.figsize\"] = (10,5) \n",
    "    fig = plt.figure(facecolor='w'); ax = fig.add_subplot()\n",
    "    f30 = interp1d(df['t1'],df['s1']); f90 = interp1d(df['t2'],df['s2'])\n",
    "    t = np.arange(6,780.0,step=1)\n",
    "    plt.plot (t, f30(t)-f90(t), 'g', label = 'H30-H90' )\n",
    "    plt.title('Drawdown difference',fontsize=14)\n",
    "    plt.xlabel('time [min]',fontsize=12)\n",
    "    plt.ylabel('drawdown difference [m]',fontsize=12)\n",
    "    plt.ylim ([0., 0.6])\n",
    "    plt.grid()\n",
    "    plt.legend(loc = 'lower right',fontsize=12);\n",
    "    \n",
    "wp1 = widgets.Button(description='Drawdown difference')        \n",
    "wp1.on_click(on_wp1_clicked)   \n",
    "widgets.VBox([wp1])    "
   ]
  },
  {
   "cell_type": "markdown",
   "metadata": {
    "hide_input": true
   },
   "source": [
    "One can visualize the same data using log scale for time: "
   ]
  },
  {
   "cell_type": "code",
   "execution_count": 52,
   "metadata": {
    "hide_input": true,
    "scrolled": false
   },
   "outputs": [
    {
     "data": {
      "application/vnd.jupyter.widget-view+json": {
       "model_id": "198a65cd3af94fbebb17439a805dcbe6",
       "version_major": 2,
       "version_minor": 0
      },
      "text/plain": [
       "VBox(children=(Button(description='Plot log scale', style=ButtonStyle()),))"
      ]
     },
     "metadata": {},
     "output_type": "display_data"
    },
    {
     "data": {
      "image/png": "[encoded data removed]",
      "text/plain": [
       "<Figure size 720x360 with 1 Axes>"
      ]
     },
     "metadata": {},
     "output_type": "display_data"
    }
   ],
   "source": [
    "def on_wp2_clicked(self):\n",
    "    plt.rcParams[\"figure.figsize\"] = (10,5) \n",
    "    fig = plt.figure(facecolor='w'); ax = fig.add_subplot()\n",
    "    ax.set_xscale('log')\n",
    "    plt.plot (df['t1'],df['s1'], '.-', label = 'observation H30' )\n",
    "    plt.plot (df['t2'],df['s2'], '.-', label = 'observation H90' )\n",
    "    plt.title('Oude Korendijk pumping test measured drawdowns',fontsize=14)\n",
    "    plt.xlabel('time [min]',fontsize=12)\n",
    "    plt.ylabel('drawdown [m]',fontsize=12)\n",
    "    plt.grid()\n",
    "    plt.legend(loc = 'lower right',fontsize=12);\n",
    "\n",
    "wp2 = widgets.Button(description='Plot log scale')        \n",
    "wp2.on_click(on_wp2_clicked)   \n",
    "widgets.VBox([wp2]) "
   ]
  },
  {
   "cell_type": "markdown",
   "metadata": {
    "hide_input": true
   },
   "source": [
    "The same in the loglog system, with logarithmic scale on both axes:"
   ]
  },
  {
   "cell_type": "code",
   "execution_count": 54,
   "metadata": {
    "hide_input": true,
    "scrolled": false
   },
   "outputs": [
    {
     "data": {
      "application/vnd.jupyter.widget-view+json": {
       "model_id": "89105be751f648f1bcdecf278eb48ba3",
       "version_major": 2,
       "version_minor": 0
      },
      "text/plain": [
       "VBox(children=(Button(description='Plot loglog scale', style=ButtonStyle()),))"
      ]
     },
     "metadata": {},
     "output_type": "display_data"
    },
    {
     "data": {
      "image/png": "[encoded data removed]",
      "text/plain": [
       "<Figure size 720x360 with 1 Axes>"
      ]
     },
     "metadata": {},
     "output_type": "display_data"
    }
   ],
   "source": [
    "def on_wp3_clicked(self):\n",
    "    plt.rcParams[\"figure.figsize\"] = (10,5) \n",
    "    fig = plt.figure(facecolor='w'); ax = fig.add_subplot()\n",
    "    ax.set_xscale('log'); ax.set_yscale('log')\n",
    "    plt.plot (df['t1'],df['s1'], '.-', label = 'observation H30' )\n",
    "    plt.plot (df['t2'],df['s2'], '.-', label = 'observation H90' )\n",
    "    plt.title('Oude Korendijk pumping test measured drawdowns',fontsize=14)\n",
    "    plt.xlabel('time [min]',fontsize=12)\n",
    "    plt.ylabel('drawdown [m]',fontsize=12)\n",
    "    plt.grid()\n",
    "    plt.legend(loc = 'lower right',fontsize=12);\n",
    "    \n",
    "wp3 = widgets.Button(description='Plot loglog scale')        \n",
    "wp3.on_click(on_wp3_clicked)   \n",
    "widgets.VBox([wp3])     "
   ]
  },
  {
   "cell_type": "markdown",
   "metadata": {},
   "source": [
    "For a comparison of the two curves it is convenient to visualize in double log scale using $t/r^2$ on x-axis. "
   ]
  },
  {
   "cell_type": "code",
   "execution_count": 55,
   "metadata": {
    "hide_input": true,
    "scrolled": false
   },
   "outputs": [
    {
     "data": {
      "application/vnd.jupyter.widget-view+json": {
       "model_id": "aeb2f40cd13c4b87b49ac7fafb1d9d08",
       "version_major": 2,
       "version_minor": 0
      },
      "text/plain": [
       "VBox(children=(Button(description='Plot t/r/r scale', style=ButtonStyle()),))"
      ]
     },
     "metadata": {},
     "output_type": "display_data"
    },
    {
     "data": {
      "image/png": "[encoded data removed]",
      "text/plain": [
       "<Figure size 720x360 with 1 Axes>"
      ]
     },
     "metadata": {},
     "output_type": "display_data"
    }
   ],
   "source": [
    "def on_wp4_clicked(self):\n",
    "    plt.rcParams[\"figure.figsize\"] = (10,5) \n",
    "    fig = plt.figure(facecolor='w'); ax = fig.add_subplot()\n",
    "    ax.set_xscale('log')\n",
    "    plt.plot (df['t1']/30/30,df['s1'], '.-', label = 'observation H30' )\n",
    "    plt.plot (df['t2']/90/90,df['s2'], '.-', label = 'observation H90' )\n",
    "    plt.title('Oude Korendijk pumping test measured drawdowns',fontsize=14)\n",
    "    plt.xlabel('$t/r^2$ [min/m$^2$]',fontsize=12)\n",
    "    plt.ylabel('drawdown [m]',fontsize=12)\n",
    "    plt.grid()\n",
    "    plt.legend(loc = 'lower right',fontsize=12);\n",
    "\n",
    "wp4 = widgets.Button(description='Plot t/r/r scale')        \n",
    "wp4.on_click(on_wp4_clicked)   \n",
    "widgets.VBox([wp4]) "
   ]
  },
  {
   "cell_type": "markdown",
   "metadata": {},
   "source": [
    "## Basic Interpretation based on the Theis Solution"
   ]
  },
  {
   "cell_type": "markdown",
   "metadata": {},
   "source": [
    "The solution for the unsteady drawdown due to a single well with fully penetrating screen in a uniform aquifer of infinite extent was first published by Theis (1935), using a mathematical derivation by Lubin, transfered in private communication. The solution revolutioned the science of hydrology (White & Clebsch 1994). The solution for drawdown $s$ as function of distance from the pumping well $r$ and time $t$ is given by:"
   ]
  },
  {
   "cell_type": "markdown",
   "metadata": {},
   "source": [
    "$$ s(r, t) = \\frac Q {4 \\pi T} W(u),\\,\\,\\,\\, u = \\frac {r^2 S} {4 T t}$$"
   ]
  },
  {
   "cell_type": "markdown",
   "metadata": {},
   "source": [
    "where $T$ denotes the transmissivity, $S$ the storage coefficient, and $Q$ the pumping rate. $W$ is the well function, in mathematical literature known as exponential integral. For evaluations before computers became generally available, is was handy to utilize simpler approximations for the well function. Cooper & Jacob (1946) proposed:    "
   ]
  },
  {
   "cell_type": "markdown",
   "metadata": {},
   "source": [
    "$$ W(u) \\approx -0.2557 - \\ln(u) +u - u^2/4 $$"
   ]
  },
  {
   "cell_type": "markdown",
   "metadata": {},
   "source": [
    "We may also use the approximation of this solution, which is valid for long enough times and/or small enough distances from the well:"
   ]
  },
  {
   "cell_type": "markdown",
   "metadata": {},
   "source": [
    "$$ s(r, t) \\approx \\frac {Q} {4 \\pi T} \\ln \\left( \\frac {2.25 T t} {r^2 S} \\right) $$ "
   ]
  },
  {
   "cell_type": "markdown",
   "metadata": {},
   "source": [
    "$\\ln$ denotes the natural logarithm. The formula can be modified for the decadic logarithm "
   ]
  },
  {
   "cell_type": "markdown",
   "metadata": {},
   "source": [
    "$$ s = \\frac {2.3 Q} {4 \\pi T} \\log \\left( \\frac {2.25 T t} {r^2 S} \\right) $$"
   ]
  },
  {
   "cell_type": "markdown",
   "metadata": {},
   "source": [
    "First determine the drawdown per log cycle from the last double-log graph and observation point H30 $\\approx (1.1 - 0.21) / 3 \\approx 0.30 $"
   ]
  },
  {
   "cell_type": "markdown",
   "metadata": {},
   "source": [
    "$$ \\Delta s = s_{10t} - s_t = 0.30 = \\frac {2.3 Q} {4 \\pi T} $$"
   ]
  },
  {
   "cell_type": "markdown",
   "metadata": {},
   "source": [
    "or, resolved for $T$:"
   ]
  },
  {
   "cell_type": "markdown",
   "metadata": {},
   "source": [
    "$$ T = \\frac {2.3 Q} {4 \\pi \\Delta s} $$"
   ]
  },
  {
   "cell_type": "markdown",
   "metadata": {},
   "source": [
    "Notice that it doesn't matter in what dimension time is, at it drops out of the drawdown at $10t$ is compared with that at $t$. Therefore, with $Q$ = 768 m$^3$/d, one gets"
   ]
  },
  {
   "cell_type": "code",
   "execution_count": 17,
   "metadata": {
    "hide_input": true,
    "jupyter": {
     "outputs_hidden": false
    },
    "scrolled": true
   },
   "outputs": [
    {
     "name": "stdout",
     "output_type": "stream",
     "text": [
      "T = 316 m²/d\n"
     ]
    }
   ],
   "source": [
    "ds = (1.1 - 0.21) / 2 # drawdown increase per log cycle of time\n",
    "kD = 2.3 * Q / (4 * np.pi * ds)\n",
    "print('T = {:.0f}'.format(kD) + ' m' + chr(0x00b2) + '/d')"
   ]
  },
  {
   "cell_type": "markdown",
   "metadata": {},
   "source": [
    "For the storage coefficient determine the intersection with the straight line with the line of zero drawdown. This is $t/r^2 = 2 \\times 10 ^{-4}$ min. We have to convert to days to get answer consistent with the transmissivity.\n",
    "\n",
    "Then setting the argument of the solution equal to 1 so that the computed drawdown is 0 and using the already obtained transmissivity yields the storage coefficient.\n"
   ]
  },
  {
   "cell_type": "code",
   "execution_count": 18,
   "metadata": {
    "hide_input": true,
    "jupyter": {
     "outputs_hidden": false
    },
    "scrolled": true
   },
   "outputs": [
    {
     "name": "stdout",
     "output_type": "stream",
     "text": [
      "S = 9.87e-05\n"
     ]
    }
   ],
   "source": [
    "tr2 = 2e-4 / (24 * 60) # d/m2\n",
    "Sc = 2.25 * kD * tr2\n",
    "print('S = {:.2e}'.format(Sc))"
   ]
  },
  {
   "cell_type": "markdown",
   "metadata": {},
   "source": [
    "Clearly, the result depends somewhat on the exact straigt line drawn through the bundel of curves for the observation wells. In the ideal situation, these curves fall onto each other. In this real-world case this is not true, which is due to non-uniformity of the real-world aquifer. There are many real-world pumping tests, where the match is much closer. But it is good to keep in mind that the real world is less homogeneous than the analytic solution presumes.\n",
    "\n",
    "Task: perform the same method of evaluation for the observations in borehole H90. "
   ]
  },
  {
   "cell_type": "markdown",
   "metadata": {},
   "source": [
    "## Classical Interpretation using the Match on Double Log Scales\n",
    "\n",
    "The classical interpreation plots the measured drawdowns on double log paper (drawdown $s$ versus $t/r^2$ ) and compares them with the Theis type curve $W(u)$ versus $1/u$ also drawn on double log paper. Because $1/u = (4 T t) / (r^2 S)$ it follows that on logarthmic scales $1/u$ and $t/r^2$ differ only by a constant factor, which represents a horizontal shift on the log scale. The drawdown $s$ only differs the constant $Q/(4 \\pi T)$ from the well function $W(u)$, and so this implies a vertical shift on logarithmic scale. Hence the measured drawdown versus $t/r^2$ on double log scale looks exactly the same as the theis type curve but it is only shifted a given distance along the horizontal axis and a given distance along the vertical axis. These two shifts yield the sought transmissivity and storage coefficient.\n",
    "\n",
    "Below we draw the Theis type curve and the drawdown $s$ multiplied by a factor $A$ and the $t/r^2$ multiplied by a factor $B$, choosing $A$ and $B$ interactively until the measured and the type curve match best.\n",
    "\n",
    "In this worked out example, I already optimized the values of $A$ and $B$ by hand. Set them both to 1 and try optimizing them yourself."
   ]
  },
  {
   "cell_type": "code",
   "execution_count": 56,
   "metadata": {
    "hide_input": true,
    "scrolled": false
   },
   "outputs": [
    {
     "data": {
      "image/png": "[encoded data removed]",
      "text/plain": [
       "<Figure size 720x360 with 1 Axes>"
      ]
     },
     "metadata": {},
     "output_type": "display_data"
    }
   ],
   "source": [
    "plt.rcParams[\"figure.figsize\"] = (10,5)           \n",
    "A = 7.0; B = 1.0e7\n",
    "u = np.logspace(-4, 0.25, 41)\n",
    "fig = plt.figure(facecolor='w'); ax = fig.add_subplot()\n",
    "\n",
    "# the Theis type curve\n",
    "plt.plot(1/u, exp1(u), label='Theis')\n",
    "\n",
    "# The measurements\n",
    "plt.plot (B*df['t1']/24/60/30/30,A*df['s1'], '.', label = 'observation H30' )\n",
    "plt.plot (B*df['t2']/24/60/90/90,A*df['s2'], '.', label = 'observation H90' ) \n",
    "ax.set_xscale('log'); ax.set_yscale('log')\n",
    "plt.title('Type curve and $A \\cdot s$ vs $B \\cdot t/r^2$, with $A$={}, $B$={}'.format(A, B),fontsize=14)\n",
    "plt.xlabel('$1/u$ and $B \\, t/r^2$',fontsize=12); plt.ylabel('W(u) and $A \\, s$',fontsize=12)\n",
    "plt.xscale('log'); plt.yscale('log')\n",
    "plt.grid()\n",
    "plt.legend(loc='lower right',fontsize=12);"
   ]
  },
  {
   "cell_type": "markdown",
   "metadata": {
    "hide_input": false
   },
   "source": [
    "So $A \\cdot s = W(u)$ and $s = \\frac Q {2 \\pi T} W(u)$ and, therefore $A = \\frac {4 \\pi T} {Q}$ and $ T = \\frac {A Q} {4 \\pi}$.\n",
    "\n",
    "Click the next cell to obtain the result:"
   ]
  },
  {
   "cell_type": "code",
   "execution_count": 20,
   "metadata": {
    "hide_input": true,
    "scrolled": true
   },
   "outputs": [
    {
     "name": "stdout",
     "output_type": "stream",
     "text": [
      "T = 428 [m^2/d]\n"
     ]
    }
   ],
   "source": [
    "kD = A * Q /4 /np.pi\n",
    "print('T = {:.0f} [m^2/d]'.format(kD))"
   ]
  },
  {
   "cell_type": "markdown",
   "metadata": {},
   "source": [
    "The storage coefficient then follows from $\\frac 1 u = B \\frac t {r^2}$, that is, $\\frac {4 T t} {r^2 S} = B \\frac t {r^2}$ so that $S = \\frac {4 T} B$. Click the next cell to obtain the result"
   ]
  },
  {
   "cell_type": "code",
   "execution_count": 21,
   "metadata": {
    "hide_input": true,
    "scrolled": false
   },
   "outputs": [
    {
     "name": "stdout",
     "output_type": "stream",
     "text": [
      "S = 1.71e-04 [-]\n"
     ]
    }
   ],
   "source": [
    "Sc = 4 * kD / B\n",
    "print('S = {:.2e} [-]'.format(Sc))"
   ]
  },
  {
   "cell_type": "markdown",
   "metadata": {},
   "source": [
    "As one sees, the results obtained this way are consistent with those obtained by the previous method."
   ]
  },
  {
   "cell_type": "markdown",
   "metadata": {},
   "source": [
    "## Graphical Interpretation for Transmissivity and Storativity \n",
    "\n",
    "The method peformed by shifting of the measurements drawn on double log paper over the Theis type curve also drawn on double log paper. However, because we now have a computer, we could just as well directly optimize $T$ and $S$ by trial and error to find the best match between type curve and measurements. For the following we proceed with the data measured at 30 m distance from the pumping well:"
   ]
  },
  {
   "cell_type": "code",
   "execution_count": 22,
   "metadata": {
    "hide_input": true,
    "scrolled": false
   },
   "outputs": [
    {
     "data": {
      "application/vnd.jupyter.widget-view+json": {
       "model_id": "c09b2ac9d6fa4a9ba3658946a81228c0",
       "version_major": 2,
       "version_minor": 0
      },
      "text/plain": [
       "BoundedFloatText(value=30.0, description='Distance:', max=90.0, min=30.0, step=60.0)"
      ]
     },
     "metadata": {},
     "output_type": "display_data"
    }
   ],
   "source": [
    "wr = widgets.BoundedFloatText(value=30.0, min=30.0, max=90.0, step = 60.0, description='Distance:', disabled=False)\n",
    "wr"
   ]
  },
  {
   "cell_type": "markdown",
   "metadata": {
    "hide_input": false
   },
   "source": [
    "### Multi-Graph\n",
    "Use the sliders to select values for $A$ and log10($B$)"
   ]
  },
  {
   "cell_type": "code",
   "execution_count": 23,
   "metadata": {
    "hide_input": true,
    "scrolled": false
   },
   "outputs": [
    {
     "data": {
      "application/vnd.jupyter.widget-view+json": {
       "model_id": "20f5ea482f63432a9279068cb87faee3",
       "version_major": 2,
       "version_minor": 0
      },
      "text/plain": [
       "HBox(children=(FloatSlider(value=1.0, description='$A$', max=10.0, min=0.1), FloatSlider(value=1.0, descriptio…"
      ]
     },
     "metadata": {},
     "output_type": "display_data"
    }
   ],
   "source": [
    "slider1 = widgets.FloatSlider(1, description = '$A$', min=0.1, max=10, step=0.1)\n",
    "slider2 = widgets.FloatSlider(1, description = 'log10($B$)', min=0.1, max=10, step=0.1)\n",
    "widgets.HBox([slider1,slider2])"
   ]
  },
  {
   "cell_type": "markdown",
   "metadata": {
    "hide_input": true
   },
   "source": [
    "Run the next cell and press the check button, whenever you have changed the slider values. Make sure that you enable toggle scrolling (see: Cell-Current outputs). In order to restart checking re-run the cell."
   ]
  },
  {
   "cell_type": "code",
   "execution_count": 24,
   "metadata": {
    "hide_input": true,
    "scrolled": false
   },
   "outputs": [
    {
     "data": {
      "application/vnd.jupyter.widget-view+json": {
       "model_id": "5578cb24b2844163ac49641626583385",
       "version_major": 2,
       "version_minor": 0
      },
      "text/plain": [
       "Button(description='Check', style=ButtonStyle())"
      ]
     },
     "metadata": {},
     "output_type": "display_data"
    },
    {
     "data": {
      "image/png": "[encoded data removed]",
      "text/plain": [
       "<Figure size 720x360 with 1 Axes>"
      ]
     },
     "metadata": {},
     "output_type": "display_data"
    }
   ],
   "source": [
    "plt.rcParams[\"figure.figsize\"] = (10,5) \n",
    "from IPython.display import display \n",
    "\n",
    "btn = widgets.Button(description='Check')\n",
    "display(btn)\n",
    "\n",
    "def btn_eventhandler(obj):\n",
    "    global kD,Sc\n",
    "    A = slider1.value\n",
    "    B = 10**(slider2.value)\n",
    "\n",
    "    u = np.logspace(-4, 0.25, 41)\n",
    "    fig = plt.figure(facecolor='w'); ax = fig.add_subplot()\n",
    "\n",
    "    # the Theis type curve\n",
    "    plt.plot(1/u, exp1(u), label='Theis')\n",
    "\n",
    "    # the measurements\n",
    "    r = wr.value; Q = wQ.value\n",
    "    if r <= 50:\n",
    "        plt.plot (B*df['t1']/24/60/r/r,A*df['s1'], '.', label = 'observation' )\n",
    "    else:\n",
    "        plt.plot (B*df['t2']/24/60/r/r,A*df['s2'], '.', label = 'observation' ) \n",
    "        \n",
    "    ax.set_xscale('log'); ax.set_yscale('log');\n",
    "    plt.xlabel('$1/u$ and $B \\, t/r^2$',fontsize=16); plt.ylabel('W(u) and $A \\cdot s$',fontsize=16)\n",
    "    plt.xscale('log'); plt.yscale('log');\n",
    "    plt.grid();\n",
    "    plt.legend(loc='upper left',fontsize=12);\n",
    "    T = A * Q /4 /np.pi   # print('T = {:.0f} m2/d'.format(kD))\n",
    "    S = 4 * T / B         #print('S = {:.2e} [-]'.format(S))\n",
    "    ax.text (380,0.23,'$T =%.2e m^2/d$' % (T, ),fontsize=12)\n",
    "    ax.text (380,0.15,'$S =%.2e $' % (S, ),fontsize=12)\n",
    "    ax.set_title('Multi Graph', size=14);\n",
    "    Sc = S; kD = T\n",
    "\n",
    "btn.on_click(btn_eventhandler)"
   ]
  },
  {
   "cell_type": "markdown",
   "metadata": {},
   "source": [
    "### Single Graph\n",
    "Run the following cell to see the effect of slider updated in a single figure."
   ]
  },
  {
   "cell_type": "code",
   "execution_count": 57,
   "metadata": {
    "hide_input": true,
    "scrolled": false
   },
   "outputs": [
    {
     "data": {
      "application/javascript": [
       "/* Put everything inside the global mpl namespace */\n",
       "window.mpl = {};\n",
       "\n",
       "\n",
       "mpl.get_websocket_type = function() {\n",
       "    if (typeof(WebSocket) !== 'undefined') {\n",
       "        return WebSocket;\n",
       "    } else if (typeof(MozWebSocket) !== 'undefined') {\n",
       "        return MozWebSocket;\n",
       "    } else {\n",
       "        alert('Your browser does not have WebSocket support. ' +\n",
       "              'Please try Chrome, Safari or Firefox ≥ 6. ' +\n",
       "              'Firefox 4 and 5 are also supported but you ' +\n",
       "              'have to enable WebSockets in about:config.');\n",
       "    };\n",
       "}\n",
       "\n",
       "mpl.figure = function(figure_id, websocket, ondownload, parent_element) {\n",
       "    this.id = figure_id;\n",
       "\n",
       "    this.ws = websocket;\n",
       "\n",
       "    this.supports_binary = (this.ws.binaryType != undefined);\n",
       "\n",
       "    if (!this.supports_binary) {\n",
       "        var warnings = document.getElementById(\"mpl-warnings\");\n",
       "        if (warnings) {\n",
       "            warnings.style.display = 'block';\n",
       "            warnings.textContent = (\n",
       "                \"This browser does not support binary websocket messages. \" +\n",
       "                    \"Performance may be slow.\");\n",
       "        }\n",
       "    }\n",
       "\n",
       "    this.imageObj = new Image();\n",
       "\n",
       "    this.context = undefined;\n",
       "    this.message = undefined;\n",
       "    this.canvas = undefined;\n",
       "    this.rubberband_canvas = undefined;\n",
       "    this.rubberband_context = undefined;\n",
       "    this.format_dropdown = undefined;\n",
       "\n",
       "    this.image_mode = 'full';\n",
       "\n",
       "    this.root = $('<div/>');\n",
       "    this._root_extra_style(this.root)\n",
       "    this.root.attr('style', 'display: inline-block');\n",
       "\n",
       "    $(parent_element).append(this.root);\n",
       "\n",
       "    this._init_header(this);\n",
       "    this._init_canvas(this);\n",
       "    this._init_toolbar(this);\n",
       "\n",
       "    var fig = this;\n",
       "\n",
       "    this.waiting = false;\n",
       "\n",
       "    this.ws.onopen =  function () {\n",
       "            fig.send_message(\"supports_binary\", {value: fig.supports_binary});\n",
       "            fig.send_message(\"send_image_mode\", {});\n",
       "            if (mpl.ratio != 1) {\n",
       "                fig.send_message(\"set_dpi_ratio\", {'dpi_ratio': mpl.ratio});\n",
       "            }\n",
       "            fig.send_message(\"refresh\", {});\n",
       "        }\n",
       "\n",
       "    this.imageObj.onload = function() {\n",
       "            if (fig.image_mode == 'full') {\n",
       "                // Full images could contain transparency (where diff images\n",
       "                // almost always do), so we need to clear the canvas so that\n",
       "                // there is no ghosting.\n",
       "                fig.context.clearRect(0, 0, fig.canvas.width, fig.canvas.height);\n",
       "            }\n",
       "            fig.context.drawImage(fig.imageObj, 0, 0);\n",
       "        };\n",
       "\n",
       "    this.imageObj.onunload = function() {\n",
       "        fig.ws.close();\n",
       "    }\n",
       "\n",
       "    this.ws.onmessage = this._make_on_message_function(this);\n",
       "\n",
       "    this.ondownload = ondownload;\n",
       "}\n",
       "\n",
       "mpl.figure.prototype._init_header = function() {\n",
       "    var titlebar = $(\n",
       "        '<div class=\"ui-dialog-titlebar ui-widget-header ui-corner-all ' +\n",
       "        'ui-helper-clearfix\"/>');\n",
       "    var titletext = $(\n",
       "        '<div class=\"ui-dialog-title\" style=\"width: 100%; ' +\n",
       "        'text-align: center; padding: 3px;\"/>');\n",
       "    titlebar.append(titletext)\n",
       "    this.root.append(titlebar);\n",
       "    this.header = titletext[0];\n",
       "}\n",
       "\n",
       "\n",
       "\n",
       "mpl.figure.prototype._canvas_extra_style = function(canvas_div) {\n",
       "\n",
       "}\n",
       "\n",
       "\n",
       "mpl.figure.prototype._root_extra_style = function(canvas_div) {\n",
       "\n",
       "}\n",
       "\n",
       "mpl.figure.prototype._init_canvas = function() {\n",
       "    var fig = this;\n",
       "\n",
       "    var canvas_div = $('<div/>');\n",
       "\n",
       "    canvas_div.attr('style', 'position: relative; clear: both; outline: 0');\n",
       "\n",
       "    function canvas_keyboard_event(event) {\n",
       "        return fig.key_event(event, event['data']);\n",
       "    }\n",
       "\n",
       "    canvas_div.keydown('key_press', canvas_keyboard_event);\n",
       "    canvas_div.keyup('key_release', canvas_keyboard_event);\n",
       "    this.canvas_div = canvas_div\n",
       "    this._canvas_extra_style(canvas_div)\n",
       "    this.root.append(canvas_div);\n",
       "\n",
       "    var canvas = $('<canvas/>');\n",
       "    canvas.addClass('mpl-canvas');\n",
       "    canvas.attr('style', \"left: 0; top: 0; z-index: 0; outline: 0\")\n",
       "\n",
       "    this.canvas = canvas[0];\n",
       "    this.context = canvas[0].getContext(\"2d\");\n",
       "\n",
       "    var backingStore = this.context.backingStorePixelRatio ||\n",
       "\tthis.context.webkitBackingStorePixelRatio ||\n",
       "\tthis.context.mozBackingStorePixelRatio ||\n",
       "\tthis.context.msBackingStorePixelRatio ||\n",
       "\tthis.context.oBackingStorePixelRatio ||\n",
       "\tthis.context.backingStorePixelRatio || 1;\n",
       "\n",
       "    mpl.ratio = (window.devicePixelRatio || 1) / backingStore;\n",
       "\n",
       "    var rubberband = $('<canvas/>');\n",
       "    rubberband.attr('style', \"position: absolute; left: 0; top: 0; z-index: 1;\")\n",
       "\n",
       "    var pass_mouse_events = true;\n",
       "\n",
       "    canvas_div.resizable({\n",
       "        start: function(event, ui) {\n",
       "            pass_mouse_events = false;\n",
       "        },\n",
       "        resize: function(event, ui) {\n",
       "            fig.request_resize(ui.size.width, ui.size.height);\n",
       "        },\n",
       "        stop: function(event, ui) {\n",
       "            pass_mouse_events = true;\n",
       "            fig.request_resize(ui.size.width, ui.size.height);\n",
       "        },\n",
       "    });\n",
       "\n",
       "    function mouse_event_fn(event) {\n",
       "        if (pass_mouse_events)\n",
       "            return fig.mouse_event(event, event['data']);\n",
       "    }\n",
       "\n",
       "    rubberband.mousedown('button_press', mouse_event_fn);\n",
       "    rubberband.mouseup('button_release', mouse_event_fn);\n",
       "    // Throttle sequential mouse events to 1 every 20ms.\n",
       "    rubberband.mousemove('motion_notify', mouse_event_fn);\n",
       "\n",
       "    rubberband.mouseenter('figure_enter', mouse_event_fn);\n",
       "    rubberband.mouseleave('figure_leave', mouse_event_fn);\n",
       "\n",
       "    canvas_div.on(\"wheel\", function (event) {\n",
       "        event = event.originalEvent;\n",
       "        event['data'] = 'scroll'\n",
       "        if (event.deltaY < 0) {\n",
       "            event.step = 1;\n",
       "        } else {\n",
       "            event.step = -1;\n",
       "        }\n",
       "        mouse_event_fn(event);\n",
       "    });\n",
       "\n",
       "    canvas_div.append(canvas);\n",
       "    canvas_div.append(rubberband);\n",
       "\n",
       "    this.rubberband = rubberband;\n",
       "    this.rubberband_canvas = rubberband[0];\n",
       "    this.rubberband_context = rubberband[0].getContext(\"2d\");\n",
       "    this.rubberband_context.strokeStyle = \"#000000\";\n",
       "\n",
       "    this._resize_canvas = function(width, height) {\n",
       "        // Keep the size of the canvas, canvas container, and rubber band\n",
       "        // canvas in synch.\n",
       "        canvas_div.css('width', width)\n",
       "        canvas_div.css('height', height)\n",
       "\n",
       "        canvas.attr('width', width * mpl.ratio);\n",
       "        canvas.attr('height', height * mpl.ratio);\n",
       "        canvas.attr('style', 'width: ' + width + 'px; height: ' + height + 'px;');\n",
       "\n",
       "        rubberband.attr('width', width);\n",
       "        rubberband.attr('height', height);\n",
       "    }\n",
       "\n",
       "    // Set the figure to an initial 600x600px, this will subsequently be updated\n",
       "    // upon first draw.\n",
       "    this._resize_canvas(600, 600);\n",
       "\n",
       "    // Disable right mouse context menu.\n",
       "    $(this.rubberband_canvas).bind(\"contextmenu\",function(e){\n",
       "        return false;\n",
       "    });\n",
       "\n",
       "    function set_focus () {\n",
       "        canvas.focus();\n",
       "        canvas_div.focus();\n",
       "    }\n",
       "\n",
       "    window.setTimeout(set_focus, 100);\n",
       "}\n",
       "\n",
       "mpl.figure.prototype._init_toolbar = function() {\n",
       "    var fig = this;\n",
       "\n",
       "    var nav_element = $('<div/>');\n",
       "    nav_element.attr('style', 'width: 100%');\n",
       "    this.root.append(nav_element);\n",
       "\n",
       "    // Define a callback function for later on.\n",
       "    function toolbar_event(event) {\n",
       "        return fig.toolbar_button_onclick(event['data']);\n",
       "    }\n",
       "    function toolbar_mouse_event(event) {\n",
       "        return fig.toolbar_button_onmouseover(event['data']);\n",
       "    }\n",
       "\n",
       "    for(var toolbar_ind in mpl.toolbar_items) {\n",
       "        var name = mpl.toolbar_items[toolbar_ind][0];\n",
       "        var tooltip = mpl.toolbar_items[toolbar_ind][1];\n",
       "        var image = mpl.toolbar_items[toolbar_ind][2];\n",
       "        var method_name = mpl.toolbar_items[toolbar_ind][3];\n",
       "\n",
       "        if (!name) {\n",
       "            // put a spacer in here.\n",
       "            continue;\n",
       "        }\n",
       "        var button = $('<button/>');\n",
       "        button.addClass('ui-button ui-widget ui-state-default ui-corner-all ' +\n",
       "                        'ui-button-icon-only');\n",
       "        button.attr('role', 'button');\n",
       "        button.attr('aria-disabled', 'false');\n",
       "        button.click(method_name, toolbar_event);\n",
       "        button.mouseover(tooltip, toolbar_mouse_event);\n",
       "\n",
       "        var icon_img = $('<span/>');\n",
       "        icon_img.addClass('ui-button-icon-primary ui-icon');\n",
       "        icon_img.addClass(image);\n",
       "        icon_img.addClass('ui-corner-all');\n",
       "\n",
       "        var tooltip_span = $('<span/>');\n",
       "        tooltip_span.addClass('ui-button-text');\n",
       "        tooltip_span.html(tooltip);\n",
       "\n",
       "        button.append(icon_img);\n",
       "        button.append(tooltip_span);\n",
       "\n",
       "        nav_element.append(button);\n",
       "    }\n",
       "\n",
       "    var fmt_picker_span = $('<span/>');\n",
       "\n",
       "    var fmt_picker = $('<select/>');\n",
       "    fmt_picker.addClass('mpl-toolbar-option ui-widget ui-widget-content');\n",
       "    fmt_picker_span.append(fmt_picker);\n",
       "    nav_element.append(fmt_picker_span);\n",
       "    this.format_dropdown = fmt_picker[0];\n",
       "\n",
       "    for (var ind in mpl.extensions) {\n",
       "        var fmt = mpl.extensions[ind];\n",
       "        var option = $(\n",
       "            '<option/>', {selected: fmt === mpl.default_extension}).html(fmt);\n",
       "        fmt_picker.append(option);\n",
       "    }\n",
       "\n",
       "    // Add hover states to the ui-buttons\n",
       "    $( \".ui-button\" ).hover(\n",
       "        function() { $(this).addClass(\"ui-state-hover\");},\n",
       "        function() { $(this).removeClass(\"ui-state-hover\");}\n",
       "    );\n",
       "\n",
       "    var status_bar = $('<span class=\"mpl-message\"/>');\n",
       "    nav_element.append(status_bar);\n",
       "    this.message = status_bar[0];\n",
       "}\n",
       "\n",
       "mpl.figure.prototype.request_resize = function(x_pixels, y_pixels) {\n",
       "    // Request matplotlib to resize the figure. Matplotlib will then trigger a resize in the client,\n",
       "    // which will in turn request a refresh of the image.\n",
       "    this.send_message('resize', {'width': x_pixels, 'height': y_pixels});\n",
       "}\n",
       "\n",
       "mpl.figure.prototype.send_message = function(type, properties) {\n",
       "    properties['type'] = type;\n",
       "    properties['figure_id'] = this.id;\n",
       "    this.ws.send(JSON.stringify(properties));\n",
       "}\n",
       "\n",
       "mpl.figure.prototype.send_draw_message = function() {\n",
       "    if (!this.waiting) {\n",
       "        this.waiting = true;\n",
       "        this.ws.send(JSON.stringify({type: \"draw\", figure_id: this.id}));\n",
       "    }\n",
       "}\n",
       "\n",
       "\n",
       "mpl.figure.prototype.handle_save = function(fig, msg) {\n",
       "    var format_dropdown = fig.format_dropdown;\n",
       "    var format = format_dropdown.options[format_dropdown.selectedIndex].value;\n",
       "    fig.ondownload(fig, format);\n",
       "}\n",
       "\n",
       "\n",
       "mpl.figure.prototype.handle_resize = function(fig, msg) {\n",
       "    var size = msg['size'];\n",
       "    if (size[0] != fig.canvas.width || size[1] != fig.canvas.height) {\n",
       "        fig._resize_canvas(size[0], size[1]);\n",
       "        fig.send_message(\"refresh\", {});\n",
       "    };\n",
       "}\n",
       "\n",
       "mpl.figure.prototype.handle_rubberband = function(fig, msg) {\n",
       "    var x0 = msg['x0'] / mpl.ratio;\n",
       "    var y0 = (fig.canvas.height - msg['y0']) / mpl.ratio;\n",
       "    var x1 = msg['x1'] / mpl.ratio;\n",
       "    var y1 = (fig.canvas.height - msg['y1']) / mpl.ratio;\n",
       "    x0 = Math.floor(x0) + 0.5;\n",
       "    y0 = Math.floor(y0) + 0.5;\n",
       "    x1 = Math.floor(x1) + 0.5;\n",
       "    y1 = Math.floor(y1) + 0.5;\n",
       "    var min_x = Math.min(x0, x1);\n",
       "    var min_y = Math.min(y0, y1);\n",
       "    var width = Math.abs(x1 - x0);\n",
       "    var height = Math.abs(y1 - y0);\n",
       "\n",
       "    fig.rubberband_context.clearRect(\n",
       "        0, 0, fig.canvas.width / mpl.ratio, fig.canvas.height / mpl.ratio);\n",
       "\n",
       "    fig.rubberband_context.strokeRect(min_x, min_y, width, height);\n",
       "}\n",
       "\n",
       "mpl.figure.prototype.handle_figure_label = function(fig, msg) {\n",
       "    // Updates the figure title.\n",
       "    fig.header.textContent = msg['label'];\n",
       "}\n",
       "\n",
       "mpl.figure.prototype.handle_cursor = function(fig, msg) {\n",
       "    var cursor = msg['cursor'];\n",
       "    switch(cursor)\n",
       "    {\n",
       "    case 0:\n",
       "        cursor = 'pointer';\n",
       "        break;\n",
       "    case 1:\n",
       "        cursor = 'default';\n",
       "        break;\n",
       "    case 2:\n",
       "        cursor = 'crosshair';\n",
       "        break;\n",
       "    case 3:\n",
       "        cursor = 'move';\n",
       "        break;\n",
       "    }\n",
       "    fig.rubberband_canvas.style.cursor = cursor;\n",
       "}\n",
       "\n",
       "mpl.figure.prototype.handle_message = function(fig, msg) {\n",
       "    fig.message.textContent = msg['message'];\n",
       "}\n",
       "\n",
       "mpl.figure.prototype.handle_draw = function(fig, msg) {\n",
       "    // Request the server to send over a new figure.\n",
       "    fig.send_draw_message();\n",
       "}\n",
       "\n",
       "mpl.figure.prototype.handle_image_mode = function(fig, msg) {\n",
       "    fig.image_mode = msg['mode'];\n",
       "}\n",
       "\n",
       "mpl.figure.prototype.updated_canvas_event = function() {\n",
       "    // Called whenever the canvas gets updated.\n",
       "    this.send_message(\"ack\", {});\n",
       "}\n",
       "\n",
       "// A function to construct a web socket function for onmessage handling.\n",
       "// Called in the figure constructor.\n",
       "mpl.figure.prototype._make_on_message_function = function(fig) {\n",
       "    return function socket_on_message(evt) {\n",
       "        if (evt.data instanceof Blob) {\n",
       "            /* FIXME: We get \"Resource interpreted as Image but\n",
       "             * transferred with MIME type text/plain:\" errors on\n",
       "             * Chrome.  But how to set the MIME type?  It doesn't seem\n",
       "             * to be part of the websocket stream */\n",
       "            evt.data.type = \"image/png\";\n",
       "\n",
       "            /* Free the memory for the previous frames */\n",
       "            if (fig.imageObj.src) {\n",
       "                (window.URL || window.webkitURL).revokeObjectURL(\n",
       "                    fig.imageObj.src);\n",
       "            }\n",
       "\n",
       "            fig.imageObj.src = (window.URL || window.webkitURL).createObjectURL(\n",
       "                evt.data);\n",
       "            fig.updated_canvas_event();\n",
       "            fig.waiting = false;\n",
       "            return;\n",
       "        }\n",
       "        else if (typeof evt.data === 'string' && evt.data.slice(0, 21) == \"data:image/png;base64\") {\n",
       "            fig.imageObj.src = evt.data;\n",
       "            fig.updated_canvas_event();\n",
       "            fig.waiting = false;\n",
       "            return;\n",
       "        }\n",
       "\n",
       "        var msg = JSON.parse(evt.data);\n",
       "        var msg_type = msg['type'];\n",
       "\n",
       "        // Call the  \"handle_{type}\" callback, which takes\n",
       "        // the figure and JSON message as its only arguments.\n",
       "        try {\n",
       "            var callback = fig[\"handle_\" + msg_type];\n",
       "        } catch (e) {\n",
       "            console.log(\"No handler for the '\" + msg_type + \"' message type: \", msg);\n",
       "            return;\n",
       "        }\n",
       "\n",
       "        if (callback) {\n",
       "            try {\n",
       "                // console.log(\"Handling '\" + msg_type + \"' message: \", msg);\n",
       "                callback(fig, msg);\n",
       "            } catch (e) {\n",
       "                console.log(\"Exception inside the 'handler_\" + msg_type + \"' callback:\", e, e.stack, msg);\n",
       "            }\n",
       "        }\n",
       "    };\n",
       "}\n",
       "\n",
       "// from http://stackoverflow.com/questions/1114465/getting-mouse-location-in-canvas\n",
       "mpl.findpos = function(e) {\n",
       "    //this section is from http://www.quirksmode.org/js/events_properties.html\n",
       "    var targ;\n",
       "    if (!e)\n",
       "        e = window.event;\n",
       "    if (e.target)\n",
       "        targ = e.target;\n",
       "    else if (e.srcElement)\n",
       "        targ = e.srcElement;\n",
       "    if (targ.nodeType == 3) // defeat Safari bug\n",
       "        targ = targ.parentNode;\n",
       "\n",
       "    // jQuery normalizes the pageX and pageY\n",
       "    // pageX,Y are the mouse positions relative to the document\n",
       "    // offset() returns the position of the element relative to the document\n",
       "    var x = e.pageX - $(targ).offset().left;\n",
       "    var y = e.pageY - $(targ).offset().top;\n",
       "\n",
       "    return {\"x\": x, \"y\": y};\n",
       "};\n",
       "\n",
       "/*\n",
       " * return a copy of an object with only non-object keys\n",
       " * we need this to avoid circular references\n",
       " * http://stackoverflow.com/a/24161582/3208463\n",
       " */\n",
       "function simpleKeys (original) {\n",
       "  return Object.keys(original).reduce(function (obj, key) {\n",
       "    if (typeof original[key] !== 'object')\n",
       "        obj[key] = original[key]\n",
       "    return obj;\n",
       "  }, {});\n",
       "}\n",
       "\n",
       "mpl.figure.prototype.mouse_event = function(event, name) {\n",
       "    var canvas_pos = mpl.findpos(event)\n",
       "\n",
       "    if (name === 'button_press')\n",
       "    {\n",
       "        this.canvas.focus();\n",
       "        this.canvas_div.focus();\n",
       "    }\n",
       "\n",
       "    var x = canvas_pos.x * mpl.ratio;\n",
       "    var y = canvas_pos.y * mpl.ratio;\n",
       "\n",
       "    this.send_message(name, {x: x, y: y, button: event.button,\n",
       "                             step: event.step,\n",
       "                             guiEvent: simpleKeys(event)});\n",
       "\n",
       "    /* This prevents the web browser from automatically changing to\n",
       "     * the text insertion cursor when the button is pressed.  We want\n",
       "     * to control all of the cursor setting manually through the\n",
       "     * 'cursor' event from matplotlib */\n",
       "    event.preventDefault();\n",
       "    return false;\n",
       "}\n",
       "\n",
       "mpl.figure.prototype._key_event_extra = function(event, name) {\n",
       "    // Handle any extra behaviour associated with a key event\n",
       "}\n",
       "\n",
       "mpl.figure.prototype.key_event = function(event, name) {\n",
       "\n",
       "    // Prevent repeat events\n",
       "    if (name == 'key_press')\n",
       "    {\n",
       "        if (event.which === this._key)\n",
       "            return;\n",
       "        else\n",
       "            this._key = event.which;\n",
       "    }\n",
       "    if (name == 'key_release')\n",
       "        this._key = null;\n",
       "\n",
       "    var value = '';\n",
       "    if (event.ctrlKey && event.which != 17)\n",
       "        value += \"ctrl+\";\n",
       "    if (event.altKey && event.which != 18)\n",
       "        value += \"alt+\";\n",
       "    if (event.shiftKey && event.which != 16)\n",
       "        value += \"shift+\";\n",
       "\n",
       "    value += 'k';\n",
       "    value += event.which.toString();\n",
       "\n",
       "    this._key_event_extra(event, name);\n",
       "\n",
       "    this.send_message(name, {key: value,\n",
       "                             guiEvent: simpleKeys(event)});\n",
       "    return false;\n",
       "}\n",
       "\n",
       "mpl.figure.prototype.toolbar_button_onclick = function(name) {\n",
       "    if (name == 'download') {\n",
       "        this.handle_save(this, null);\n",
       "    } else {\n",
       "        this.send_message(\"toolbar_button\", {name: name});\n",
       "    }\n",
       "};\n",
       "\n",
       "mpl.figure.prototype.toolbar_button_onmouseover = function(tooltip) {\n",
       "    this.message.textContent = tooltip;\n",
       "};\n",
       "mpl.toolbar_items = [[\"Home\", \"Reset original view\", \"fa fa-home icon-home\", \"home\"], [\"Back\", \"Back to previous view\", \"fa fa-arrow-left icon-arrow-left\", \"back\"], [\"Forward\", \"Forward to next view\", \"fa fa-arrow-right icon-arrow-right\", \"forward\"], [\"\", \"\", \"\", \"\"], [\"Pan\", \"Pan axes with left mouse, zoom with right\", \"fa fa-arrows icon-move\", \"pan\"], [\"Zoom\", \"Zoom to rectangle\", \"fa fa-square-o icon-check-empty\", \"zoom\"], [\"\", \"\", \"\", \"\"], [\"Download\", \"Download plot\", \"fa fa-floppy-o icon-save\", \"download\"]];\n",
       "\n",
       "mpl.extensions = [\"eps\", \"jpeg\", \"pdf\", \"png\", \"ps\", \"raw\", \"svg\", \"tif\"];\n",
       "\n",
       "mpl.default_extension = \"png\";var comm_websocket_adapter = function(comm) {\n",
       "    // Create a \"websocket\"-like object which calls the given IPython comm\n",
       "    // object with the appropriate methods. Currently this is a non binary\n",
       "    // socket, so there is still some room for performance tuning.\n",
       "    var ws = {};\n",
       "\n",
       "    ws.close = function() {\n",
       "        comm.close()\n",
       "    };\n",
       "    ws.send = function(m) {\n",
       "        //console.log('sending', m);\n",
       "        comm.send(m);\n",
       "    };\n",
       "    // Register the callback with on_msg.\n",
       "    comm.on_msg(function(msg) {\n",
       "        //console.log('receiving', msg['content']['data'], msg);\n",
       "        // Pass the mpl event to the overridden (by mpl) onmessage function.\n",
       "        ws.onmessage(msg['content']['data'])\n",
       "    });\n",
       "    return ws;\n",
       "}\n",
       "\n",
       "mpl.mpl_figure_comm = function(comm, msg) {\n",
       "    // This is the function which gets called when the mpl process\n",
       "    // starts-up an IPython Comm through the \"matplotlib\" channel.\n",
       "\n",
       "    var id = msg.content.data.id;\n",
       "    // Get hold of the div created by the display call when the Comm\n",
       "    // socket was opened in Python.\n",
       "    var element = $(\"#\" + id);\n",
       "    var ws_proxy = comm_websocket_adapter(comm)\n",
       "\n",
       "    function ondownload(figure, format) {\n",
       "        window.open(figure.imageObj.src);\n",
       "    }\n",
       "\n",
       "    var fig = new mpl.figure(id, ws_proxy,\n",
       "                           ondownload,\n",
       "                           element.get(0));\n",
       "\n",
       "    // Call onopen now - mpl needs it, as it is assuming we've passed it a real\n",
       "    // web socket which is closed, not our websocket->open comm proxy.\n",
       "    ws_proxy.onopen();\n",
       "\n",
       "    fig.parent_element = element.get(0);\n",
       "    fig.cell_info = mpl.find_output_cell(\"<div id='\" + id + \"'></div>\");\n",
       "    if (!fig.cell_info) {\n",
       "        console.error(\"Failed to find cell for figure\", id, fig);\n",
       "        return;\n",
       "    }\n",
       "\n",
       "    var output_index = fig.cell_info[2]\n",
       "    var cell = fig.cell_info[0];\n",
       "\n",
       "};\n",
       "\n",
       "mpl.figure.prototype.handle_close = function(fig, msg) {\n",
       "    var width = fig.canvas.width/mpl.ratio\n",
       "    fig.root.unbind('remove')\n",
       "\n",
       "    // Update the output cell to use the data from the current canvas.\n",
       "    fig.push_to_output();\n",
       "    var dataURL = fig.canvas.toDataURL();\n",
       "    // Re-enable the keyboard manager in IPython - without this line, in FF,\n",
       "    // the notebook keyboard shortcuts fail.\n",
       "    IPython.keyboard_manager.enable()\n",
       "    $(fig.parent_element).html('<img src=\"' + dataURL + '\" width=\"' + width + '\">');\n",
       "    fig.close_ws(fig, msg);\n",
       "}\n",
       "\n",
       "mpl.figure.prototype.close_ws = function(fig, msg){\n",
       "    fig.send_message('closing', msg);\n",
       "    // fig.ws.close()\n",
       "}\n",
       "\n",
       "mpl.figure.prototype.push_to_output = function(remove_interactive) {\n",
       "    // Turn the data on the canvas into data in the output cell.\n",
       "    var width = this.canvas.width/mpl.ratio\n",
       "    var dataURL = this.canvas.toDataURL();\n",
       "    this.cell_info[1]['text/html'] = '<img src=\"' + dataURL + '\" width=\"' + width + '\">';\n",
       "}\n",
       "\n",
       "mpl.figure.prototype.updated_canvas_event = function() {\n",
       "    // Tell IPython that the notebook contents must change.\n",
       "    IPython.notebook.set_dirty(true);\n",
       "    this.send_message(\"ack\", {});\n",
       "    var fig = this;\n",
       "    // Wait a second, then push the new image to the DOM so\n",
       "    // that it is saved nicely (might be nice to debounce this).\n",
       "    setTimeout(function () { fig.push_to_output() }, 1000);\n",
       "}\n",
       "\n",
       "mpl.figure.prototype._init_toolbar = function() {\n",
       "    var fig = this;\n",
       "\n",
       "    var nav_element = $('<div/>');\n",
       "    nav_element.attr('style', 'width: 100%');\n",
       "    this.root.append(nav_element);\n",
       "\n",
       "    // Define a callback function for later on.\n",
       "    function toolbar_event(event) {\n",
       "        return fig.toolbar_button_onclick(event['data']);\n",
       "    }\n",
       "    function toolbar_mouse_event(event) {\n",
       "        return fig.toolbar_button_onmouseover(event['data']);\n",
       "    }\n",
       "\n",
       "    for(var toolbar_ind in mpl.toolbar_items){\n",
       "        var name = mpl.toolbar_items[toolbar_ind][0];\n",
       "        var tooltip = mpl.toolbar_items[toolbar_ind][1];\n",
       "        var image = mpl.toolbar_items[toolbar_ind][2];\n",
       "        var method_name = mpl.toolbar_items[toolbar_ind][3];\n",
       "\n",
       "        if (!name) { continue; };\n",
       "\n",
       "        var button = $('<button class=\"btn btn-default\" href=\"#\" title=\"' + name + '\"><i class=\"fa ' + image + ' fa-lg\"></i></button>');\n",
       "        button.click(method_name, toolbar_event);\n",
       "        button.mouseover(tooltip, toolbar_mouse_event);\n",
       "        nav_element.append(button);\n",
       "    }\n",
       "\n",
       "    // Add the status bar.\n",
       "    var status_bar = $('<span class=\"mpl-message\" style=\"text-align:right; float: right;\"/>');\n",
       "    nav_element.append(status_bar);\n",
       "    this.message = status_bar[0];\n",
       "\n",
       "    // Add the close button to the window.\n",
       "    var buttongrp = $('<div class=\"btn-group inline pull-right\"></div>');\n",
       "    var button = $('<button class=\"btn btn-mini btn-primary\" href=\"#\" title=\"Stop Interaction\"><i class=\"fa fa-power-off icon-remove icon-large\"></i></button>');\n",
       "    button.click(function (evt) { fig.handle_close(fig, {}); } );\n",
       "    button.mouseover('Stop Interaction', toolbar_mouse_event);\n",
       "    buttongrp.append(button);\n",
       "    var titlebar = this.root.find($('.ui-dialog-titlebar'));\n",
       "    titlebar.prepend(buttongrp);\n",
       "}\n",
       "\n",
       "mpl.figure.prototype._root_extra_style = function(el){\n",
       "    var fig = this\n",
       "    el.on(\"remove\", function(){\n",
       "\tfig.close_ws(fig, {});\n",
       "    });\n",
       "}\n",
       "\n",
       "mpl.figure.prototype._canvas_extra_style = function(el){\n",
       "    // this is important to make the div 'focusable\n",
       "    el.attr('tabindex', 0)\n",
       "    // reach out to IPython and tell the keyboard manager to turn it's self\n",
       "    // off when our div gets focus\n",
       "\n",
       "    // location in version 3\n",
       "    if (IPython.notebook.keyboard_manager) {\n",
       "        IPython.notebook.keyboard_manager.register_events(el);\n",
       "    }\n",
       "    else {\n",
       "        // location in version 2\n",
       "        IPython.keyboard_manager.register_events(el);\n",
       "    }\n",
       "\n",
       "}\n",
       "\n",
       "mpl.figure.prototype._key_event_extra = function(event, name) {\n",
       "    var manager = IPython.notebook.keyboard_manager;\n",
       "    if (!manager)\n",
       "        manager = IPython.keyboard_manager;\n",
       "\n",
       "    // Check for shift+enter\n",
       "    if (event.shiftKey && event.which == 13) {\n",
       "        this.canvas_div.blur();\n",
       "        // select the cell after this one\n",
       "        var index = IPython.notebook.find_cell_index(this.cell_info[0]);\n",
       "        IPython.notebook.select(index + 1);\n",
       "    }\n",
       "}\n",
       "\n",
       "mpl.figure.prototype.handle_save = function(fig, msg) {\n",
       "    fig.ondownload(fig, null);\n",
       "}\n",
       "\n",
       "\n",
       "mpl.find_output_cell = function(html_output) {\n",
       "    // Return the cell and output element which can be found *uniquely* in the notebook.\n",
       "    // Note - this is a bit hacky, but it is done because the \"notebook_saving.Notebook\"\n",
       "    // IPython event is triggered only after the cells have been serialised, which for\n",
       "    // our purposes (turning an active figure into a static one), is too late.\n",
       "    var cells = IPython.notebook.get_cells();\n",
       "    var ncells = cells.length;\n",
       "    for (var i=0; i<ncells; i++) {\n",
       "        var cell = cells[i];\n",
       "        if (cell.cell_type === 'code'){\n",
       "            for (var j=0; j<cell.output_area.outputs.length; j++) {\n",
       "                var data = cell.output_area.outputs[j];\n",
       "                if (data.data) {\n",
       "                    // IPython >= 3 moved mimebundle to data attribute of output\n",
       "                    data = data.data;\n",
       "                }\n",
       "                if (data['text/html'] == html_output) {\n",
       "                    return [cell, data, j];\n",
       "                }\n",
       "            }\n",
       "        }\n",
       "    }\n",
       "}\n",
       "\n",
       "// Register the function which deals with the matplotlib target/channel.\n",
       "// The kernel may be null if the page has been refreshed.\n",
       "if (IPython.notebook.kernel != null) {\n",
       "    IPython.notebook.kernel.comm_manager.register_target('matplotlib', mpl.mpl_figure_comm);\n",
       "}\n"
      ],
      "text/plain": [
       "<IPython.core.display.Javascript object>"
      ]
     },
     "metadata": {},
     "output_type": "display_data"
    },
    {
     "data": {
      "text/html": [
       "<img src=\"data:image/png;base64,iVBORw0KGgoAAAANSUhEUgAABaAAAALQCAYAAABmJdeHAAAgAElEQVR4nOzde3hUd37n+bPzXz+zPXl255nN0hmPk2530rkTJ5npTbKJs5mZZDKbeWZ7e2Y3mc10pzvJbHo3k40bG3G/CAmQQQ3GIC5G1yqVJFQSolQSEhiwJEqgG0gGJGHAIMs22NDYlkEIJH33D+nU5dQ5v9+vpJJKl/frec7Tbumnc6+D6qNvfX+WBQAAAAAAAAAAAAAAAAAAAAAAAAAAAAAAAAAAAAAAAAAAAAAAAAAAAAAAAAAAAAAAAAAAAAAAAAAAAAAAAAAAAAAAAAAAAAAAAAAAAAAAAAAAAAAAAAAAAAAAAAAAAAAAAAAAAAAAAAAAAAAAAAAAAAAAAAAAAAAAAAAAAAAAAAAAAAAAAAAAAAAAAAAAAAAAAAAAAAAAAAAAAAAAAAAAAAAAAAAAAAAAAAAAAAAAAAAAAAAAAAAAAAAAAAAAAAAAAAAAAAAAAAAAAAAAAAAAAAAAAAAAAAAAAAAAAAAAAAAAAAAAAAAAAAAAAAAAAAAAAAAAAAAAAAAAAAAAAAAAAAAAAAAAAAAAAAAAAAAAAAAAAAAAAAAAAAAAAAAAAAAAAAAAAAAAAAAAAAAAAAAAAAAAAAAAAAAAAAAAAAAAAAAAAAAAAAAAAAAAAAAAAAAAAAAAAAAAAAAAAAAAAAAAAAAAAAAAAAAAAAAAAAAAAAAAAAAAAAAAAAAAAAAAAAAAAAAAAAAAAAAAAAAAAAAAAAAAAAAAAAAAAAAAAAAAAAAAAAAAAAAAAAAAAAAAAAAAAAAAAAAAAAAAAAAAAAAAAAAAAAAAAAAAAAAAAAAAAAAAAAAAAAAAAAAAAAAAAAAAAAAAAAAAAAAAAAAAAAAAAAAAAAAAAAAAAAAAAAAAAAAAAAAAAAAAAAAAAAAAAAAAAAAAAAAAAAAAAAAAAAAAAAAAAAAAAAAAAAAAAAAAAAAAAAAAAAAAAAAAAAAAAAAAAAAAAAAAAAAAAAAAAAAAAAAAAAAAAAAAAAAAAAAAAAAAAAAAAAAAAAAAAAAAAAAAAAAAAAAAAAAAAAAAAAAAAAAAAAAAAAAAAAAAAAAAAAAAAAAAAAAAAAAAAAAAAAAAAAAAAAAAAAAAAAAAAAAAAAAAAAAAAAAAAAAAAAAAAAAAAAAAAAAAAABLyHuWZT2wLKubhYWFhYWFhYWFhYWFhYWFhSUtywNrKnMBgGXvwZe+9CV58cUXWVhYWFhYWFhYWFhYWFhYWFjSsHzpS18SayqEBoBlr/vFF18UAAAAAAAApMeLL74o1lQlNAAsewTQAAAAAAAAaUQADWCx+l3Lsk5YlvWBZVliWdZ307BOAmgAAAAAAIA0IoAGsFj9sWVZuZZlfduyrMcWATQAAAAAAMCCQwANYCn4wiKABgAAAAAAWHAIoAHMlW9blrXPsqxWy7I+t6baZPg0P/NPLcsqtCzrQ8uyxizLum1Z1h7Lsv47zc8RQAMAAAAAACxABNAA5splayp0HrEsq9/SB9Bfsyzr3vS445Zl7bAs68z0/x+wLOsfK36WABoAAAAAAGABIoAGMFd+37Ksr1uW9d9YlvWSpQ+gm6bH/K3j6/nTXz+o+FkCaAAAAAAAgAWIABrAfHjJUgfQX53+/nuWZf0Dx/e+bE0FzI8sy/qHHj9PAA0AAAAAALAAEUADmA8vWeoA+i+nv3/I4/t2dfQfeHyfABoAAAAAAGABIoAGMB9estQB9GvT3/+hx/ffmP7+38R97b+1LGvl9PLYsqyN0//9zwz2p9tjeUQADQAAAAAAkD4E0ADmw0uWOoA+PP39v/T4fs7099e4rNO5FBvsDwE0AAAAAADAPCCABjAfXrJmF0DnTn8/K+17logWHAAAAAAAAGlEAA1gPrxkpb8Fx1wggAYAAAAAAEgjAmgA8+Ela24nIUwXAmgAAAAAAIA0IoAGMB9estQB9Nemv/+eZVn/wPG9L1uW9YU1NdHgP5yj/bMRQAMAAAAAAKQRATSA+fCSpQ6gLStW5fy3jq/nT3/94JzsWSICaAAAAAAAgDQigAYwV/69ZVnF08tJaypEvhn3tV2O8V+zLOve9LjjlmVttyzrzPT/H7Qs6x/P+R4TQAMAAAAAAKQVATSAubLZmgqPvZbbLj/znGVZRZZlfWRZ1lPLsu5YlrXXsqz/fs73dgoBNAAAAAAAQBoRQANY7r5sWdZXppe+lStXZvq5DAAAAAAAsGQQQANY7jZbcZXZK1asyPRzGQAAAAAAYMkggAaw3FEBDQAAAAAAMEcIoAEghh7QAAAAAAAg7SYmJuXqB5/J0dZbcvDcjUzvzrwigAaAGAJoAAAAAAAwaxMTk3Ltw8+ksO2W/HVpp/zqliZ5fnW9PL+6Xn5ta7NMTExmehfnDQE0AMQQQAMAAAAAgJSpAme3pf+jzzK9y/OGABoAYgigAQAAAACA1uTkpLx773Mpibwn/6W0S1ZqAufnV9fLr2c3yw/83VLaflvujzzJ9CHMGwJoAIghgAYAAAAAAK6GHjySyo4h+a+BHvmNbae0gfOLW5vlB75uKY28J9fvfi6Tk8un7UY8AmgAiCGABgAAAAAAIiJy77NROX5pWF491iu/s/MtbeD8a1ub5W98XVKyzANnJwJoAIghgAYAAAAAYJn6fPSpnLp6VzbVXZF/ufucNnD+5U0n5a9KOqWo7ZYMfETg7IUAGgBiCKABAAAAAFgmxp5NyMVbD2R386B868B5+eqasDJw/sb6RvnPRy/KwXM3pO/9T2V8gsDZBAE0gOXuy5ZlfWV66Vu5cmWmn8sAAAAAAGAOTE5OSv9Hn8mRlpvy3cKL8vMbGpWB89fXNsj/cSgie09fl873HsjYs4lMH8KiRAANYLnbbFmW2MuKFSsy/VwGAAAAAABp8snIEzl+aVherrwsv2kwceAf722R3PA1eXvwY3k8Np7p3V8SCKABLHdUQAMAAAAAsEQ8eTYu59/9RLY39Msf723RBs6/veMtyQr2Sqj3A7k/8iTTu78kEUADQAw9oAEAAAAAWEQmJyfl3XsjcrT1lny38KJ8Y726rcavbG6S/7usS3wXbsud+48yvfvLAgE0AMQQQAMAAAAAsMB98eSZNF+9K2tr+uS3d7ylDJy/uiYs3y44L3tPX5dLQw+ZODADCKABIIYAGgAAAACABWZyclIGPvpcDp67IX96uF1eWBtWhs6/l3dG1te+I01XPpLPR59meveXPQJoAIghgAYAAAAAYAH4fPSpNL7zoayu7pVv5p5WBs6/sKFR/qqkU8raaauxEBFAA0AMATQAAAAAABkwOTkpNz4ekSMtN42qnP9oT4tsb+iX9pv3ZezZRKZ3HwoE0AAQQwANAAAAAMA8GX06LucGP5ZNdVfkd/POKAPnX9p0Un7g65bKjiG5+9lopncdKSCABoAYAmgAAAAAAObQR5+Oiv/CHfl+cad8Y32jMnT+470t8trJAel874E8G6fKebEigAaAGAJoAAAAAADSaHJyUt4Z/lR+dGpQ/tfXW5WB889P93IOXLxDlfMSQgANADEE0AAAAAAAzNLo03E5M3BP1tb0aScQ/L28M7L5xBVpuf6xPHk2nuldxxwggAaw3H3ZsqyvTC99K1euzPRzGQAAAACAReeTkSdS2Tkkf13aKT+/wbu1xtfWhOXPjrTLm6235NYnX2R6tzEPCKABLHebLcsSe1mxYkWmn8sAAAAAACwKt+9/IYffvinfLjgvP53lXeX8K5ub5O8CPRLq/UA+G32a6d3GPCOABrDcUQENAAAAAIABu5/z7qYB+df5bytba7z02lnZVn9V2m/eZwLBZY4AGgBi6AENAAAAAECcZ+MTcv7GJ7Kp7or81va3PAPnn8mql28XnJeD527IjY9HMr3bWEAIoAEghgAaAAAAALDsjT4dl1NX78rLlZflV7c0eYbOX1/XIN8v7pDKziG5P/Ik07uNBYoAGgBiCKABAAAAAMvSo7Fn0tD3ofxteY/84saTnqHzL286KX9fcUka3/lQvnjyLNO7jUWAABoAYgigAQAAAADLxuejT+X4pWH5L6Vd8nPrGzxD52/mnpaNx9+Rtnc/kaf0c0aKCKABIIYAGgAAAACwpH366KlUdQ7J94o65OtrvUPn38s7I9sb+uXy0EOZnJzM9G5jESOABoAYAmgAAAAAwJLz2ehTqe56X/6iqENeWBv2DJ3/5e5zsrt5UK59+BmhM9KGABoAYgigAQAAAABLwsiTZ1LbMyzfL+5UVjr/8d4W2ffWdXn33kimdxlLFAE0AMQQQAMAAAAAFq1HY8/kxOUP5K9LO+Xr67xD53+3r1UOnrshd+4/yvQuYxkggAaAGAJoAAAAAMCi8uTZuJy88pH8wNetnEjw377eIgfO3pChB4TOmF8E0AAQQwANAAAAAFjwxicm5fy7n8irx3rllzad9Ayd/2hPi7xx5l259ckXmd5lLGME0AAQQwANAAAAAFiQJicn5fLQQ9kauiq/ue2UZ+j8r/LPyd7T9HTGwkEADQAxBNAAAAAAgAXlxscjsrt5UH4v74xn6Pw7O9+S104OyODdzzO9u0ASAmgAy92XLcv6yvTSt3Llykw/lwEAAAAAy9z9kSdS1HZL/mRfq2fo/OvZzbKp7op03/mxTE5OZnqXAU8E0ACWu82WZYm9rFixItPPZQAAAADAMjT6dFzCfR/K94s75Gtrwq6h8y9uPCkvV16Wtwc/lmfjE5neZcAIATSA5Y4KaAAAAABARkxOTkrnew8kK9gnv+wxmeDX1zbIX5V0SrjvQxl9Op7pXQZSRgANADH0gAYAAAAAzLnb97+Q/OZB+Z93evd1/taB8+K7cFs+ffQ007sLzAoBNADEEEADAAAAAObEo7FncqzrffkPByPKyQTzmwflvU++yPTuAmlDAA0AMQTQAAAAAIC0mZyclK7bD+TVY73yCxsaXUPnX9p0UrKCfdL53gMmE8SSRAANADEE0AAAAACAWbv32agcOHtDfn/XWdfQ+atrwvK9og6p76WvM5Y+AmgAiCGABgAAAADMyNizCWl85yP5XlGHfHVN2DV4/l92nZWCczfk3mejmd5dYN4QQANADAE0AAAAACAl733yhWxv6Jdfz252DZ1/YUOjrK7ula7bP6bFBpYlAmgAiCGABgAAAABojT2bkPreD+XPjrR7Tij4Hw9GpLrrfXk09izTuwtkFAE0AMQQQAMAAAAAPL33yReS23BNXtzqXu38z3NOyWsnB+S9T77I9K4CCwYBNADEEEADAAAAABKMPZuQUO8HntXOP5NVL39R1CGnrt6VZ+MTmd7dmfviE5HQ34sU/4lI/Q9FHj3I9B5hiSCABoAYAmgAAAAAgIiIDD98LDsb+z2rnf9FzmnJbx6U4YePM72rs3fJJ7LpJ0Q2/aO45Semvg7MEgE0AMQQQAMAAADAMjYxMSkt1z+WvyzplJ/Jcq92/n5xh5y+toirncceifRWipzLE+mtEvn0A5fwOS6EphIas0QADQAxBNAAAAAAsAx9+vipvNl6S37/tbOu1c7fzD0tPzo1KB9+ugiqnZ0B89O4fR7uEsl7ITFkzv5Jj/B5eqn/YeaOBUsCATQAxBBAAwAAAMAycvWDzyQr2CvfWN/oGjz/pyMX5OSVjxZGtbMqWLa5Bcx5L0x9/enj5O8ZLONv/uH8HyuWFAJoAMvdly3L+sr00rdy5cpMP5cBAAAAAHPo6fiE1F3+QP73A+ddQ+df2nRSNp+4Ijc+Hsn0rsaogmWbKmDOe0Gkx5dy+Cyb/pF88sa/ztxxY0kggAaw3G22LEvsZcWKFZl+LgMAAAAA5sDDR2Ny4OwN+Wbuadfg+Q9/9Lb4L9yRR2PPMr2riXTBsl0J3VulDJInyv8s5fB5ctNPyMWKXZk9fix6BNAAljsqoAEAAABgCXv33oisremTn1vfkBQ6f21NWP7f8h7peO+BTE5Ozu+OmbTUENEGy9JbJSIiE6ezleMe7f99TdicHD73FL0iHf6ceTwpWIoIoAEghh7QAAAAALAETE5OyrnBj+U/H73oWu3869nNkt88KPc+H83MDpq01JimC5YnTmeLiMiD6lXKcbeO/IWMZj/n+r3R7OekKVgit974lny863+SW298SxprAxI6USftFfnzfXawxBBAA0AMATQAAAAALGKPx8bFf+GO/MHuc67B8x/taZFjXe/Lk2fjc78zXhXOpi01pumC5QfVq0RE5Hp4vzJgvli+XVoq9iSNGc1+Tloq9kjoxAkJhUKx5USdtJa/RgU0Zo0AGgBiCKABAAAAYBH6ZOSJ7G4akF/d0pQUOv90Vr38ZUmnRG7cn782G6oKZ8OWGjZdsHw9vF9ERAZq8pQBc3fZRmmq8Uu4LijdxVnSf+h70l2cJeG6oDTV+KUhWCJt/jx5u+J1afPnSZgKaKQJATQAxBBAAwAAAMAicvv+F7Kutk9+dl1yf+df2NAom09ckdv3v0j/hlX9mzUVzhPNm4xaath0wfJATd7UuPoDyoD5QvkOOVNVIE01/oRK56Yav5ypKqACGnOGABoAYgigAQAAAGAR6H3/ofzA1y0/k5XcZuO3d7wlR1puymejT+dm47r+zZoK55E3/71RSw2bLlgeqD8wNa4mTxkw2xXQ9XVBaS3fJef9O6W1fJfU6yqgK380N+cRywYBNADEEEADAAAAwAI1OTkpZwfuyf95qN21v/O/fb1FQr0fyLPxibnbCYP+zbpJAz8+/C2jlho2XbDsrID2CphnWgHdFyqYu/OJZYEAGgBiCKABAAAAYIF5Oj4htT3D8oc/ets1eP7zoxfl/LufzLy/s6qdhpNB/2bdpIG3Dv+5UUsNmy5YNq6A9m2aUQX02MO7MzuvwDQCaACIIYAGAAAAgAVi9Om4lLXflt/a/lZS6PzVNWH5u0CPXP3gs9ltRNdOw0FX3TxxOls7aeAl3wajlho20wrowXCBMmDuCr6eegW0/zUCaMwaATQAxBBAAwAAAECGPR4blzdbb8k/zzmVFDx/Y/3UxILv//iReiUmVc0G7TScdNXND6pXaScN7CldZxQo23TB8mB4qkXGcCSoXO/tcz5pqvGlVgEdCtGCA7NGAA0AMQTQAAAAAJAhI0+eyYGzN+TFrc1JwfOvbW2W109flx9/MaZfkWlVs0E7DSdddfP18H7tpIE9PvVkgHagHD0cTbA8HAmKiMj46IhyvUMtAXUFdHz1c9wSqT6QdB6AVBBAA0AMATQAAAAAzLNPHz2VPaeuy69sbkoKnn9z2yk50nJTHo09M1tZClXNJu00nHTVzQM1edqWGZfLNyu/P9QaSNjm2MO7isplX7RFxvjoiLQG8l3X2xrIl/6GgxIKhVzX4xU+h0Ih6fDnzPziAkIADQDxCKABAAAAYJ7cH3kiOxv75Rc3nkwKnn9r+1tSGnlPRp+Op7bSFKqaTdppOOmqmwfqD2gnDbxUvlVbqRzPtAJ6OBJUBszdlTuUQbPrcqJO2ivyU7+4QBwCaACIIYAGAAAAgDn24IsxyW24Jt9Y35gUPP9u3hmp6LgjY88mZrTuVKqaTdppOJlMCKgb0+Pfovz+9aajCdscbDysDJYHGw8njPNaeqaDb7fvNdRWSuhEXfIkhOWvUQGNWSOABoAYAmgAAAAAmCOfPn4qu5oG5Bc2JAfPf7D7nNT2DMuz8QmzCQQ9pFLVbNJOw0lX3TxQf0A7aWBX8HVloGxXNMfvpypYtvdTN07X+iNcG0iehPBEnbRX/miGVxyYQgANADEE0AAAAACQZiNPnsnrp6/LL2+Ktdr4udVB+a9rsqR4+w/kUv0hmXjyaGrwcJdM5n0tIRCezPta8gSCHlKpajZpp+FkUgGta5lx+5xPmmp8riFxfE9nmx1ou4+PTVpoH4/XOFXrD1UFdO/xfTO88sAUAmgAiCGABgAAAIA0eTw2LofeviErtyROLvgnWXvlweZ/ljxB4O3zMrH9effWGdufN6qETqWq2SRMdtJVNw+GC2R8dETb49mkp7NtqFU93p60UNv6wzezCujLtVRAY3YIoAEghgAaAAAAAGbpybNxKWq7Jb+x7VRSq41/tbNRRnN/xjVknsz9KXX/5q5S7bZTqWo2aafhZDIh4PjoiLQG8l3HtAbypb/hoFFPZ9tQS8Bo0kJdOH4hsEO53dCJE64V0JHq5PMApIIAGgBiCKABAAAAYIaejU9I+cU78s3c00nB829tf0sqO4dk/FKFMmRWLZ+VfUe7D6lUNc+kAlpX3Tw+OiLDkaAy6O2u3GHU09k22HhYuZ92YK2rlO4NbFG26GgIliRXQIdCTEKIWSOABrDcfdmyrK9ML30rV67M9HMZAAAAABaVybEvpDd8SI7m/I387Zo18rOra6LB87/IOS1l7bdl7NmEiIhMnM6ecQD9ke8H2n1JparZpJ2Gk666eXx0RAYbDysD5p7pXsy6ns7RY5qeXNAr0LYDa12l9OXavcqA2nV/mYQQaUAADWC522xZltjLihUrMv1cBgAAAIBF41rnGfnxlsR+zh9vfE7+fOsBOdp6S0afjieMf1C9ShkyP93yk54TCL5/rkS7P6lUNZu003DSVTcPR4LRwNhruVyu7sVs93S2mU5CqKuUvlyRyySEyAgCaADLHRXQAAAAAJCiGx+PyP9T3CYfb3zONTCezPua66SB18P7kyYIjA+ZI74c1wkE23050V7HKqlUNZu000hav6a6ebDxcLQK2yswvjRdAa3r6WxLZRJCVTjOJITIFAJoAIihBzQAAAAAxBt7JNJbKXIuT6S3Su49+LGsqemTr64Jy9+uWaNum9FblbS6gZo8aanY4xoyt1TskfP+HXKquihhAsFT1UUJvY5VUqlqNmmn4bb/uv7NuipsXRA820kIvYJvJiFEphBAA0AMATQAAAAA2Ia7RPJeSAiKP9n4nPxJ1l55fnW97F33XWUAPXE6O2mVdnVwuC6YEDKHp8PU+rqgttexSipVzSbtNLz23yvkHag/oO1DfaFcHQQzCSGWGgJoAIghgAYAAACw/DiqnOXp46nFET7H93j+2dU1cm7vXykD6AfVq5I2pasObqytVIa7OqlUNZu000h1/00qoLvLNmpDbOc2TQJrJiHEQkUADQAxBNAAAAAAlheXKmfJe0Hk3E5luHz15BEZ1PRzvh7en7Q5XY/msxVvGE0g6Hk4KVQ1m7TTSHX/B8MF2jEXAjuMJ0qM36ZXYM0khFjoCKABIIYAGgAAAMDyoahyHt38P2jba+j6ObsFuLo2EY21lUYTCHpJparZpJ1Gqvs/1BowboVhepxMQojFjgAaAGIIoAEAAAAsLW7tNWy9VepJBDXtNXT9nF0DXE2bCFUFtFtPZqdUqppN2mmkuv9DLYFZt8KwA+VUtikyd5MQtgf1wT+gQgANADEE0AAAAAAWD1W4LOLdXmO4S0RkapJARcj8bMs/UbbXmEmAe73pqPJnGo4f8whafTL28K72lKRS1WzSTsPJZELA2bTCiA+UU9mmyNxNQkgLDswWATQAxBBAAwAAAFgcNOGyqr2G5L0g8vTx1CSBigC6/9BfKNtrzCTA1fVoPu/fMesKaNNQ3LS1hXP9qv23JyGcTSsM5+SHmZ6EkBYcmC0CaACIIYAGAAAAsPAZhMu69hqfd/jlZMlO5SSCJzXtNWYS4I49vCtNNT6PKlyf1NcFPYNWZzDrJpVQ3LS1hdv6vaqI4ychnGkrjJlOQqirLr9cuX1GkxDSggOzRQANADEE0AAAAAAWPl3v5t4qbXuNQ5u+J8cLNignEVRVIw/U5M0owB2OBFOvwnXp3+wllVDctLVFquufbSuMmU5CONQaUAbb71Rkpz4JIS04kAYE0AAQQwANAAAAYMHThcsTp7O17TVqd3xXfAe2KScRbNRUEusqbq83HU3a98HGw8qQtOH4MeNg1k0qobhpa4tU15+pSQjtcV7n73LtXuXx0oIDc4UAGgBiCKABAAAALHi6cPlB9Sq5Ht6vbK/h258t4cMblUGoqgJ6qDWg7efs1rPZDn29Ft02dVKpajZtbZHq+mfTCsOtctw06Dfdrtvx0oIDc4kAGgBiCKABAAAALHi6cPl6eL8M1OQp22u0lmbLtdB+ZRCqqoAeaglo+zmPPbybtO+60Fe3TZ1UqprnahLC2bbCcFaO69ZHCw4sdATQABBDAA0AAABgwdOFywM1edJ74g1le42B+gMyUJM34wro601Htf2c3SqgdaGvapupTEJoUtU8V5MQzrYVhlcLDq/10YIDCx0BNADEEEADAAAAmB9jj0R6K0XO5U1NKvj0sfGP2iGoV7h8NrBHThzcoAx6B2ryouvxCmDr64LK9hq6fs6uk/hpQl/VNhfLJIS69V6uyDUKlG204MBiRwANADEE0AAAAADm3nCXSN4Lie0z8l6Y+roBXQial58XnWDQK+gdqD+grWBurK1UttfQ9XN2C4x14exSmIRQt94e/xZacGBZIYAGgBgCaAAAAABz6+nj5PA5PoQ2qITWhaB5u3fK8QJ9BfT46IhiPT45W/GGsr3GTCbx04WzC30SQpNqZN16O6v3GAXKzuutq5imBQcWKgJoAIghgAYAAAAwt3qr3MNne+mt0q5CF7KWFeyQs4E9ypB6MFwg46Mj0hrId13P24HXlWHlYOPhmU3iV39gUU9CaFKNrFvv1WrvVhi04MBSRAANADEE0AAAAADm1MTpbGUAPXE6W7sOXcjad2yH0QSBw5Fg6hWxoVh7jZlM4jebiQ8XwiSEJtXIuvV2BV+nBQeWFQJoAIghgAYAAAAwpx5Ur1IG0A+qV2nX0VW7Xxuyqttr+GV8dCQ6iaDXouvHPJNJ/GYz8WG6JyE0rSyOZ/IzujGdNW8YBcrRY6IFBxY5AmgAiCGABgAAAJCasUcivZUi5/Km2mdoejhfD++X0eznXMPn0ezn5Hp4v+fPPh4bl+zQVcnN38usNPEAACAASURBVK2tbla112gN5Mv46Ih2EkFdP+YZTeKnCYi9Jz5M/ySEppXFzv3X/YxuDC04sNwQQANADAE0AAAAAHPDXckTCua9MPV1DwM1edJSsScphB7Nfk5aKvZ4VvlevPVAfi/vjDy/ul5+c12FNNX4PCcPHHt4V9teYzgSnHU/Zt3PD9QfSDoOXUCsmvjQZBLCVKqaTSuL3fZf9TO6MbTgwHJDAA0AMQTQAAAAAMw8fZwcPseH0B6V0HYLinBdULqLs6T/0PekuzhLwnGTA8Z78mxccsPX5Kez6uX51VNLzm59BbSuvcZg4+FZ92PW/bxbmK4LiBuOH5vVJISpVDXPpAWHSdsRWnAAiQigASx3X7Ys6yvTS9/KlSsz/VwGAAAAsBj0Vil7OUtvleuPpdKj+N17n8u/2dMSDZ6fX10vv7TxpLRW7VMGiXY4rAqgB2ryZt2PWffzbi0zdAHxbCchTKWqeSYtOEzajtCCA0hEAA1gudtsWZbYy4oVKzL9XAYAAACwCEyczlYG0BOns11/zqRH8eTkpJRG3pOfXdeQED7/X29ekA8/fWwULpu0x5hNP2aTn3ftoawJiGc7CeFct+CwQ3evnxkMF9CCA3AggAaw3FEBDQAAACBlD6pXKQPoB9WrXH9O18LhnfqD8hdFHQnB89fXNUhh2y2ZmJicWodBCGrSHmM2/ZhNft41wNUcf8PxY8rj0kmlqtmknYbb+nWh+0JtwdFbp66cd11owYE0IIAGgBh6QAMAAADL3dgjkd5KkXN5U200PHo5Xw/vT5pIMH5Cwevh/a4/p2vhUH9oY0L4/Ic/elv6P/osYR0mIahJewyTMHg2P+8W4OqOX9WCw2QSwlSqmk3aaXitXxW6L9QWHP3hAmmq8blulxYcmEsE0AAQQwANAAAALGfDXckTC+a9MPV1h4GaPGmp2JMUQo9mPyctFXs820XoqpdL9udEw+ctJ67K6NPxpHWYhqC6kHq2YfBMAlzd8TemWFGdtP4UQnGTSnInkzA43S04hiNB5XkejgSn7gtN8N0f3DGjFhx9IQJozA4BNADEEEADAAAAy9XTx8nhc3wI7aiEtnssh+uC0l2cJf2HvifdxVkSng5LB+oPuG5mOBJUhoA5u3fLb2w7JecGP/bcVZOQ1SSk1vWJ1oXBMwlwdcG4KvR2BrNuUgnFZ9LD2iQMTncLjrGHdz0rl5tqfDL28O7U8RgE36rtui4n6qLrB2aKABoAYgigAQAAgOXC2Wqjx6fs6Sy9VQk/btJj2XWz02Gie7Drk5ePnpL7I0+Uu24SspqE1LpjUIXBg42HZzUJoVewrZqE0KQFRyqh+Ex6WJuEwbqQ+low+bzG76Nzu7o/WtgV0Lrgu6v2gHfQHApJ6MSJpPB5qK1Se84BHQJoAIghgAYAAACWA5dWG5Pb/kdlAD1xOjthFXb1sFd4OdMK6Pcj1drd11UuD9QfMAupNX2iVWHwTCch1IWkqkkITVpwpBKKm/ZWTuX6DUeC2pC6v74gpe1ebzqqvJb2eF3wPdRaKc21XveNTxqqixJbcNT4CaCRFgTQABBDAA0AAAAsdV/cF8n9p+pqZ5flQfWqhNXMtAK6p65AGRK6TdznZLJtk0pgXVjbWFup/PmZBLi6PsWzbcGRSihu2ls5nkkYrAupe+v2a4Li5ApoVeWyvZ/joyOeAXNzrV/GR0fk4WBEmmpd9qvSozqaFhxIAwJoAIghgAYAAACWsuGuGYXPo9nPyfXw/oRV6aqH3fofV3YMSV3BBmWY6BVcp7ptk0pgXVh7tuIN9c9rwmRVCw6vYHu2LThSCcVNeysn7P/0MXstQ60BbUh9uXJ7Si04TIJlm2vAXOuXh4OR6PdPBYsS9quhplx5TExCiNkigAaAGAJoAAAAYKlSTTIYtzzb8k+SwueWij1JwbBpX14Rkcdj47Kq6rI8v7peSvbnpDxxn1M6wuWhloBROwzVz+vC5Ey04EilqjmVaxg99wbHrAup36nITrlyXBcsx49zBsyngkXycDCiDLJVS3uQABqzQwANADEE0AAAAMBS1VtlVO3cU7hKuouzpP/Q96S7OEvCHj2dx0dHlAGvXZV665Mv5A9/9LY8v7penl9dL3n56vYZJlW+JuGyySSEs22HsRBbcKRS1WzaWzmeyTHrQureun3GIblNFSzH35OqSumhVveWKrqFCmjMFgE0AMQQQAMAAABL1MTpbKNWGycNezqPj45IayDfNYhsDeTL+OiIhPs+lF/ceDIaPj+/ul6OFb+R8sR9TiYhqMkkhLNth7EQW3CkUtVs0k4jaf8Njll3fQYajxi31LDvNZPxul7RXbUefZ5Vy4k6GXn/iva8AyoE0AAQQwANAAAALHZjj0R6K0XO5U1VPT99LCIyNYmgInx+uuUnpaVij7T6X3MNhp0V0LpWD7XlRxKC56+vbRD/hTsyYFCZrGMSgppMQjjbdhgLsQVHKlXNM9l/k58xaQNi2lIj/l7zWuxQ3T52r6Wz5g1N2HwiKXxuLX+NCmjMGgE0AMQQQAMAlpSxH38gvaECaQ8WSF+owHMW+3SPQ7KFfo4zca+MP/5c7rRUSFftAemqPSBDrZVJVX9zMS5Tr4vlNs5UOu8VEZmaZNDZ5znvBZHhLrke3i+j2c+5hs9jW35SGmungsVGj2C0/1huwqYGGw8rw7ySAzui4fPv7HxLegeuS2+oQHqKs5ThpMkkhKZ9iLV9omfRDqPTt1W6/VuV2+j2b026tnPZgmP88edy7ViO8rrEVzXPpIWI7me6/Vvl8b1bnhXLTTU+aT+2T/qqcqTZo6WG83UxEC5QB8u+rdIXKpA7Z8uU47qLspT3TUOwRNr8efJ2xevS5s+TcO3UtXL2gB65fUk6ynOkJbBHOvw5nhXSmRg39uMP5eqxXDlfnieR8jy5Wr3d9bliPi69z0bTY11qv3MRQANADAE0AGBRGn/8ubwfqZbrTUdlOBKU8dERGWqrlNCJuoQ3l/XHq6Q/uCNt40In6mSorTLTh7+gpPtapPscZ+pecY67f/WcnKxN/uh7U7BEbjS8MWfjbr/tdz3Hd86VJpwXt3FzfU4W6zjTe3Sm957XtT1ZG0iuFFVMMvhs20/JldLV0lKxJymEticZbKytlDNVBZ4V0JGybQnHare48Fra33xFcnbvlh8UtsqNs4HosbaXZStDwKRe0y7nrrcyR9/f2aBP9GzaYbSV50lbubrNh/39+HslXS04nOfFvlfafMkBdvz646uaZ9RCRPMzreW7pP54lVwtX5/Ui7qpxidnqgqi18B9H31S76gCP+/LVd5r9nluqC5U9r+OlG1T3jde679YtkUGavJk7OFduVa93fU50Fv0ilwKZGd03O1Tb0qjx/PiStlqo3GDx7al5d+M0Ik6uX36Temv2Rnd7pXKHPdjKFu75H/nIoAGgBgCaADAovNwMJJUZXWyJvmNkNsbztmMi39DtNirctIl3dci3ec4U/eK2zi3Y52fcSdmNG4+zsliHGd6j87m3vPcZigkTbXliZXQmkkGrx/4U2mq8Uu4Lpg0yWBDbaWENRXQreW7Eo51oP6AMuhsL8uWUCg0tb644+goWa/uDxxXAe117jpK1ksopK6iNqnu1U1UqGqH0ebbIReKNyjPQZtvR9L1HAgXzLoFh9t5sc/xef9O46rmVFtw2BMBqn7mbMW+6LaaqxMrnJuri2L3ksd9HQqFEr5/pqpA2ku3as/zmaoCifhylcfe5lf/wcDr9d147Mj0vexTPgfsiulMjVM+L6b/uJHauJn9mxEKhSTiy0n+Y4DLOOcxLNXfuQigASCGABoAMK/cqtrcjP34w4QKGvvNh3NSonCNXzpL1ktH6UbpKFkffTPjrLSqP14tbeW7k954qiqyVMtS6A2Z7muR7nPce/z1jNwr6RxXf7xazvt2SmfxOuko3SRt5Xmu5yVT4zJxTjI5zvQe9RrnXC7X7Nbee6p1zWS79cerpb86V65UbpO+qu3ysOhPlQH0B7t/XxnOqSugfdF9sF+PfaVZyvV1FK9zPYZIWY6yMtmugFZNPGevw+17TTV+6a3IliuBLdFz6xY23j5dKL3FryjHqNphRPzbpd2nrsQ+79+ZfK/4Nsx4m9ebjirPSygU0lZlXwlsiT5HdSF9X2Vu9Hkbv91zgXzX6mY7fFZXOPvlvG+78pkfma54ttejC9Uj/u3Rccpz6xaKTi8Nte5Vt63lr0WDa92y0Mfpgn976SpaKz1Fr0hnyTrpKFnn+hxtqC6KjukuelUagiXRn5/6Y5b7eZ7tMSzW37kIoAEghgAaADBv3Kq3ml0mHxpuKXN9kzvcUpYwKZFbpU1TjU8ivpykSiqvN7Cmb8yci7M35GKT7muR7nM8tT5f2vbP9F5J57gzVQXSEsh3OS++hPOSqXGZOCeZHGd6j5p+VN9ru/H3nm5dqW7X7doOHPyOMoC++ca3PINfXQV0SyBf6uuCCa9HXZDcXrrF9RjayvOUx9ju2yYPByPKied062grz9O2omgv3aoNslXtMKYC9hRacITMqnl1LTh0E/Lpjtuuym6u9cvNhv3K/W8t3yVNNf6E6xHx5UhLYLdLdXOhXCzZmHQ/uy12dbzXEvHlJrxu7f/1vBbTFfG67XYXvaq8b8K1Adce0G9XvK5cr70s9HFufxBxvT6+xD7izudoR/Fa12deR/HahOuRymJ6DIv1dy4CaACIIYAGAMwLVfVWc60/Wm019vCuZwVNU41P+uunwhhVpY3d89F+46qsyPLvMHrz41wWazWOSPqvRbrPsWp9c3mvpHNcfV1QmqtVH1n3SaQsJ2PjMnFOMjnO9B7VjbODL912++t1/W6n1hVfuWkSTrpd2wtlWz0nGRzNfk66CtXhm6oCOhSaClPjf9YkBHY9x75cZXDd5tshzbV+GTh5xPU8hEKxkFW1joh/u7ZqVncMjbWVnteis3CNcdgbf2111byqFhx3zpbI9aajnuclFNK34IgPIU8Fi6TJc7LA2H3eVOuXwfBUQNtcXah8rtTXBaMVzF5LR3Fyf+j4ddivK/t123jsiHJ8e9FU4HmyMvkPlvHjOgrXRq+FcQuO0MKvbE53BbTbuKYan7SXbJGGYInyHDcES6SjdKPRdmZyDIv1dy4CaACIIYAGAMwLXfXWcCQoIvoJri6XT1XX6SptOorXGb3xMn3zk7As4n6EIum/Fuk+x7r1zdW9ks5xreW7tMfRUbI+Y+MycU4yOc70HjXtUavb7uXyLUbrclZ6Opfw8WrpKc6S2/v+nQwc/I5rC4OOkvXKSQZ7ClcZVUB7hXEdpRsSz5VBCOy+nk1GAWlfyHtSOJOQVdcnuqNkvfYYzla84bmNjtKNKYW99rXVVU2rWnD0VW3XPrd11cLOe+xmwz7XalZnpf9ATV702aLbfnfRq8oxPYUvG30SwX7d6iqXuwtfmV7vD5XjLpZuUu6X6xLfY3kRj1O9tk3HdRe9qr223UWvpl4BncKxLtbfuQigASCGABoAMCumfYQHwweVvU3tCZJ6/JuV4y6Vb52qaNJU2nSUbohWnanGub3ptxev3pALdUb2dF+LSwH1x6UvlWdLc635OXbrb+t2jiNl29J0r2TLqWCRdBetVla8dZRukObq9I67ULpFOovXKcdF/NszNq6zeK3y3Nmvn06Pfr4LZZzpcyBSlqNc33n/DmmuLtKeO/ted4aybq+NC6VbNNvcGa1qdtuuW6g8tnWFtFTsSVhPe1m2NNW4TzLYVOOXjuJ1RhXQXsfSU7gq4Th0E75F/O59fruK1VWodkA70HhEmmvdnxfn43oEe7XHsM+H2z7Y94IuQFZto6t4jbSXbjU6FvveCoX0LTJULTiuBLbI+OiInAoWud9TJ+o0VfS+pPuvP7hTmqsLk9ppOO+FwcbD0lm8Vjo0IW67L0c631ytrJLtLFyjPG/xr6+mGr90FanHd5asmxqnubc6i9d57peqB/RiGuc2gd/J2kDya9t0XNzSUbpBukrWKa9/53TPaM8e0M6JCFM41oX6O5cJAmgAiCGABgDMmGkf4YeDEZdKq8TepsORoNG4d3xTYYr9htNr6S5aLRdLNmg/Etzl2yJ9VTlJH0e2j2Ps4V3pCxVIe7BA+kIFC7YKJ93XQkRfYTxQkycPByPS7jc4xz733pHDLWWJ57jKra/uzO6Va4ENyoDJXi4Xvqxd15yMK8nKyLheg3E9xVke12wBjavK0T4HUlmfybnr8m2RvlCB9B9T3/NT9556fZfLt0hnufv9fq7idWVbjXBcmNhRsl4ZpnYVZUUDSK8KaK/jmOqZvDnxHGjCPq8qyJ7CV43aVgxHgp693fuPqfsot/l2SLtvm75PtKYaWdWCo+fNl7X9nC/5NkT/zbhztkxCIX31tqoFR3917vQzL/lnWwP5cv/KORlqrZSegHtf8pZAfsK9Z08w6b69xLDarpTWVUBfLl6l/eOErhLZ3kZPcZb0Ff9Q++/3pcJV0lf8Q+1z4FLhy9JX+Heer0m7B3Rr+W7pKN0op6oOase1l2WnddzF0s1yquqQ57j2smzluLMVb0ir/zU5798pEV+uXCye+oOp89ra41rLd0vEv13O+3I8P7UQvbYlWdJXoq6AvlS4SvpCBTJQucX1+p8L7JU2f560BPKlw7dFTh1LPIbF9juXKQJoAIghgAYAKHlV1Tr7CMdXq7X7c6NvGlTjIr7caMXM43u3PPsS29VhTTU+uXZin4RCIW0/QjtUUVXkxPcTHh8dkeFIUFs9nEnpvhZu5ziVHsv2eu1xbhWLzbV+GXt4N233im590XHVhUl/VLDHtftypK08b7r6NHGc27pCoVD6xzl6sC6kcW6vx0yN83oO2PfM43u3PO890+2a9sN1vjaaqwtdq1FN7gG3+zh+6T36d8qJBQcOfje6XTsM9WonoauAtv+/MwCNtpxwBMq6CfwiZTlJX2+u9ctAuEBdOe3L1b6+O0s3aFtfmLQI0VUjq1pwtPv0FdT2pzTin2uzacExEC7wvo/jnqH3r551rWrumP5jrP0caPdtcz12e7GrtuOfF7q+56ePHUroae5ayV23V7kOu5fzyPtXokG4qqr705td0X/vVet90N8mdp/iiC/X9VMJqYyzA+W0jTt2KPrvkdt5a6rxS3N1oTQHi6KfmvAad7pyf/RcOK9Dc3WhNARLkq6t7jyPPbwbfdZ6jXl871bsfg+6799i+50rHQigASCGABoA4ElVVRvfj9L9jbjPeFzEl6Otto34ciXiy0noDxrxuVd7RRwzuZ+pPJC0Xbfq4IUs3dfCbWn35yadE69KxOGWMuNx6bxXTNfXV+m4BwzGeY1pCeyWgWBuGsfly82G/Qt23M3QbqNzPNfjvJ4DznvvZmi3671nut2rtbuV22wt35X0vPCqwDe9B5z3sXMZOPgdTQD9nejYruK1yjC0Z7pPrm4CNrdJCN0CZd0Efs5w0z539jPeu7XFWu3rWxfitpXnacNhkwBZtw3dfgy1BpKe3+1l6qppVQuO+H8fve6p+++cUQSEsT/etAbyo/3xvZZ2X07S8+JC6RZt/2ZdlbT9CSbVHyEGqzYZHe8136sJ47x+H7ha/PdpHXf56P/neCbNbtzVklWaMVPPlcFjsddVR7H7J4q6ilbL1UDiJxacS8SXm3RtVec5/nmretaa/r6y3BBAA0AMATQALGOqnsHx1ajO6sJTwSIZOHkk+gbcftNiOs7tzXFPubrfsP1R3IHGIwnrCdcGpiZVK90oncXrJOzcxnSfwd66fQu62ibd18K5NNf6o+O8lsHGw677NvbwrvRX58qlkjVyybdR7pwtm7d7ZabjGuPOg8k457lzVhj21xfM+TjnvjUbHmu6x83XNTO9R+PX9850L9x0vja8Wh/Y6+su2yBDrQGjTxyo7oFUjvXmG982DqDtimSvit+uwizl695+Bjd6hILx/YxDIf0khHfOlsj7LeVypXKb9FVtj567wXBywBW/rY7i9dprpqtcbvPt0IbDt98qlL7SLOUYVQsOkwrqoZZA0nN0sPHwDFtwxD75o3qd6aqaO6cnR20OFsk7Fep/bztK1ic9L9qn/7Cr6t+s+2RSj2+Tdh1NNb6k3wec46fu+eRx8b8PdJSsl/aSLWkf53ad4sf1FL4i4dqAwbgfSnvJxqTnRX1dUNrK86SjdIP0FK6S7qOrpKswK3oP2NXe7q+/5GNwLuf9O6XJ6/kTt87LpWtd2188vndL3vGtk+7S9fKOb1208jnpd5plUuGsQwANADEE0ACwTOkqVOwqNK83zH1VU29G7Yon03FeS3elugeh/fNDrQFpDeR7vom3eyq+XfG6tPnzYh85DhZk+Ix7S/e18Friq8fdFrv381zv33yNsysZTcbFnzuvSrC5HLfQzt1cjzO9R93WNxevDeei2q5JVbXzHkj1WC+UbVX2gL5QtjX6c63lu5T3dkfxOs+wNOE14FEB7ewPG/FvV27vSs0u1+fFu/V7tb2ZdddMV7kc34LD61hvhPZqq5FVLTjO+3em1ILDZleczqQFh8nzot3xyR+3c2ev83J5co/y+Pt3KuRMvBa6+7m1fJe2H7luIkN7Gwt93GzHxI9ze16oPt3l1WPdXjp86up2ezsz/X0AqSGABoAYAmgAWIZUvYDtHn3Xm45q+wI2VxfKef9O7bhTwaLom1+vpd/R49L55tWu7rEndNJ9nNy59IUWZgCdrmthco4HGo9otzXX+zff4+rrgkbj7J6nmRi3UM/dXI0zvUd1FcTpfG3EVyuaVi6b3gMzOdaOkvXSUrEnKYQezX5OWir2JIRQuorI9pJNrqFgw/FjCfefVwV0xL894ev2tlWtNNyO1w59Vb2ZdddsIbTgOO/LTbkFx/joyFSvcc2zqiFYLF3Fa6MVt/ETROqeFyYBsf3fuskC48NR+1roqpvfqtwvHaUblefFLViN3/ZiGaeaMDL+dxHTcfHPC10/a/scey2mxzCT3weQOgJoAIghgAaAJULVwsE5bqAmTxncDkeC8n5LuXSUrFeOu1C6RSK+XO0b35sN+yXiV89mP9Qa8Oyrar9RPlNVIF21B5TrcV1O1M3rTOrpvhbDkaDROW7XnOPhSFAeDkbkVLAoqVWBW2/GdN4rNxv2y4WyrfM+rt2fK22+Hdpx5/3bpf54tXZcpCxb2sp3S0fpJuUfPlIZt1DPXSrj2v1mz4ELZVtdJ+5zu0d1203ltaHb7uDJN6W51m90D9iVg7rt2veA7liba/1J62ovy5amGr+E64LSXZwl/Ye+J93FWRKui00saK9PVwHdXfSqhELqdhNeFdChUEi6itckHMeF0s3K6uGO4vWux2tSvax7numqmzuK1kZbUXgdb3w170xacLxTvklbQW234LD/Leir2i6t5bvkbMU+18rW3sBWuViyyfPfP5PnhS64jA+zdZMFOq/FxZJN0lP4svL6XQ1slu6i1crXRGv5LrlSulp7nAt93FS1unqM9zifnAvs8Xxe6M5h/KcfvM7x4LFt2v2Lf/7Ej1uuvZrnCgE0AMQQQAPAEmD6JsJtnNubpv7gzujs6Oo3VzslXBvQfvT3etNRuXNGVT0Ve8M+GJ6qvor4t0tHyXqJlOUkhiG6APrECcf/r5NW/2vzFkCn+1pcbzoq46MjRud47OFdz3NsVzQ9HIwkX9t5uFcyNe5a9XajoODqMffJn+LH2R+F160r3eMW+jm27z3dPapbn/IencVrw3S796+eNboeduWgqqra69qeq9grPcVZ8m7Bf5KJrlKRp49lfHRE+qqSq4yVrQxK1icFt15hYuf0WLf9bKitjLZbcAvbm2r80l6a+JH+dt82bSsNt3NnUr3svKec59AkxD517JA2iNWFtaoWHIONh+VKjTr0v9501PUZ2hLIl+bqwoTjb64ulBZ/njLQrq8Lap8Xuj9EXIi7jqlUS1+dbtehu896StdJc3Whtvq2p3SdnKo6KBFfrmuQnulxl3wb5dSxQ0bra/dtk3ZfTtKY+HHvlGYlrctup+H2vNB9WqPHv0V7jq83HZXH9255HkN8hTO9mucWATQAxBBAA8ACZlJJa3+0163Szvkmw2tcfPhgvzlSvblxvkm9UKruOWi/uTHpmRnfX9VtuX3Op9y/hmCJaw/o2bbgSPe10LUbiT93IpI0Y71zeb+lXN6PVMvV2nxp9+cmvdl8OBhJ+70Sri3XvklfKuPq64LSXG32+kn/uMKMjDN5DtQfr5aBmjy53nRUrgY2e1Z6686xXYVv+trI9Hav1uZLV/Fa1+16tUhoqdgjT7J/KqGlxmTe1+Ru42vRCll7fXYFtFvY11Tjl/ay7Oi+tWsqIrsLVymfvXYFtLNdgP39zuJ1CdvXTUIY3zM6/tyZTCDovLY3G/bLqWBRdJxJiK0LYu0K6Jm24Lj9VmG0zYjXmKHWQNIz1A763Y6/waPiOv64dc8LXUDc7suJ/reunUZDsGT69RML6rUV/9MTBV8s2ag8rwt9XFfxWjnv3yndha8ox/UUrpKO0o3T45KrnM9UFUhDsFj7xxDn80J3ngdq8qYrnL33zf69gQrnzCOABoAYAmgAWKBM3zjcbNhn9EZEN85+02O/SfNa4ntDNlcXRt/w6ipv7WDZ682xvZ/joyPKkGKoJaANDtyW2UxCmO5roQvZ7XPsDIWdVZzR8YF8lwpPn/QHdyaE5em8V0yqd5fSOF1oYV+zdI/rLEmeQG4+xunauXifO9+MKr3tnrkmr42Fvl23AClcF1ROKhiOCxPtCmddBbT9tWsuYVT8+K7CLM/A2K6ADoVCRpMQNtX45ULZVuNWGgn3lC9H+3Ou57jWLzcb9sn1pqPSX52rDbFNgljdGFXv3vbSrZ5/ZLDviRuhHyV9X/dvq2rpdJlI0vm6Nalqtsfo2mnY91dP4cvRk5BlWwAAIABJREFU7+mO2fnHNbfzuvjGFWrHhUIhaa4ujAbXreW7pM23Q85UFWiveUfJ+qTrpjvPYw/vTv3BLOh+DM7+zVQ4ZxYBNADEEEADwAJkMvGbPc7ko5gm4877d0bDBdUbJnvctcCGhDewbm9m40NaVXsI+02VfUytgXzXN8atgfyECcDc3nx5LTOtgE73tRARud50VHuOTdt2qCa2mqt7JVJmOKHTMhoXm4QvfeOmru38j2uu9cvV2nzlPao+J4khjsk5Nn1tLPTthkIh15Yg3cVZruGzvXQXZyXsn64COlIW28alcnUg3FG6Qfl9+79NJyHU9ViOb6URCsWeZ+/W71X+nFu/XHuJn3RSF2I7t+9c3q3fGz0Gr2VqX9QBu9cfJK65tPOxz4Nqm6rFa3/jX7dvVe5X3qMNwRI5798pp48dit6jXteio3Rjwjh7cT/3Pul0TDw523EdJRsyMs7sj1jJ4+yv23/MsZ8XumveUbrR9XnhtX/DLWXK3weobl54CKABIIYAGgAWIF01XiqVtPZEXbpxHSXro29GlW+YStZLc3Wh9Ncnf0y5zbdD2sqnJq27UpmdUGkzHAkqgwPnMXm9MbYnAEtpmcUkhOm+FiZjB2ryvCcudFQzDbUG0rp/JuPe8a3TjgmFQstq3JXKbBmoUQdfqYwbqMnTXtu5Ghf/iQWvRXdO7BYKJseayn260Lfr9ZocOPgdZQA9cPA7CeP7SrO0bSSc++b1zOwtXuUZZies02MSwvhq61DIvJVG/LkZHx2RoRbvFhRNNX7pK12jPMfx51YVfuv2b6glIHfOlijH1NcFPbdhn/szVQVJlbTN1UVyLbDBdb26f1tVEx86z6lzvQM1edIf3KGtarbH6fblHd86z3Hx56W3+BW5dmxb2sZdLvx7z99DZjbu5ZTGuZ2L+rpgdOJH1bj414r9mjQ5z17PZXv/esqmrpvb7zBUNy98BNAAEEMADQBzxKRnsNc4t2q8+uPV0f6Pdrirq9pr9+XI2MO7RuNMKwebq4vkTFWBNgi2gx2bvQ9eb+pNKxEHGo94BgcNtZUSOlGX+PXpSQgff3RT38PZ8FrEL6b73e7L8ewBHX9t2/25nmF5uu+V+HFdxWs97xXnuIF694kg7XEdpRul3Z+7pMfN9NzN1zi3e890fSb3qNe5M31dOM/xQttu/NJc65fBxsPK9V0KZEdfk27rSjWAHgjti1ZWJ1dA+yRSmhM9J9dO7FWGqV3Fa1yDyYbjx+S8f0e0qtotWHNWW4dCIYn4tyuDzogv1/V5pqtevhTI1l5bXYjdUbROOko3Krcz2HhY+qrUx6BqwWGH0ybtKOLvk0ipuopeNfGhs5I2XOOXzpL10lG6UXoKV8nje7ei58/r39iuoqzoON3+j7x/JSPjesrWR49BOc63wWhc/4nXjcZdO+7+iQ/n8+JSuXq+i47SjQnPC+N2GgafssLiRAANADEE0AAwB0w/Guk17mbDvoSvebW3cI5zLhdKtxhVtcZPIthU45NPLp10/djpxZKN0TezqiC4qSb5TVO6KomHWgOeLTrOVBVIuDaQNAmh28dondfD9FrMdL9vNux3vfa61iVzda/MZpz3R5WXx7j5OMfpfA7Y957zHtXde6p71Otj6Cavi4W+Xbfvp7o+57oulG1V9oB2tj4aqMkzroDuKl6rHNtT+EMJhbyDSd0khM6WFnaVp2fQ6WizYJ8TXfVyf9C7yte+tqm04PDuAR2rxPUcU7rF9d/AyHS7BF1la/y/qfb+xvqIe7dC0VVdh0IhifiSg+ymGp9cKctS7lNr+a6EcV77MtWfPjPj4nsmq17/puPinxeqcx9/bVXr1fV07ipem/S8oJ3G8kYADQAxBNAAMAtuFalu1Sx2FU27L0eGWgNG49p92/SVVrX+6ESASd+brsKy+/p6VdjEV2vFt8MYagkoeyyrguDWQH5SAK2bXDCxV7H649Nub9TDteXRqrv4/XWeP7dqY+X5qfXLqWCR6/ecPZZV6xh7+FHSveLWFzvd90o6x8Wfu4gvN9rvcjmNm+tzPNPngNc9Gn/vDTYelnZ/rtF27XtP17vdrWq22WObpq9HEX3P+NluV/U6jv9Ie6rrCx+vlr6jfycTp7NloqtUhlsDcr3pqLzjWyctFXuSQujR7OekpWJPQpuL5lq/DITVgWR0Er3j1dJRvF68WmzYVcGqT42kMglhKGSHs97PaGfFtH1MurYXd86WKCtBxx5+JP3B7crz0laeJ+fL9BMVqj/p45NWf55Le41C6SheJ+HagEFv3w1Jz4uZT3zok643X5FwbUDCtQHP/W6uLlQcU6zCPX6cc1+aq4syOs55XeLHRXy50lBdLG3lu5N6sjvHNVYdilaIdxWvlYZgydQ5DpZIxJfr+nuN3Sdb9frW3TeP791y/X3AuX/2OOfvSLTTWHoIoAEghgAaAGbIq2JlsOnNhK95VcmZjJuaxEZdFXY1sElZUWVXBLrtr13V7NYOY6ZBsL0OZwsO3eSC8QGQySSE+nOXXCnodY6d18K53GzYP6uK9uGWsozcK+kcp6oyMznHS2XcXJ7jVMaZ3qNu957pdt3uPefS7s813qbpOfaqOE7Xdt0W5/NK9cz0Wp9bwCx5L4gMd8lgeOpYw3VB6S7Okv5D35Pu4iwJ1yVOKmgfh26SvLbyWIV0/H8n7uvUM7BTUyFt/7fXJITxYWtzrV/6j2Ur1+c1CaCu7cX1pqPaZ6iuv/OF4g3S7svRVkmfqSqQlkB+UpjYVOOTi9OBvtc2mqsLEyqc3Ra72jj+daa7B1UTH9rrc06m51zsamOv67wYxrl9Yqmpxj9d+e3XjusoXut6XSO+nKR+5s4l4svVPi/ct5tY0az6fYCq5uWFABrAcvdly7K+Mr30rVy5MtPPZQBYdFTVrvFVTKqqu5mMc1sGwgXSXF3oMbmUL6GfsF1h01e13bWq2V7s6ptUg+D4xe7FatNNLjjTSQjVPRb90QBgNufYDuRNqpOSKyjvZuReSec4bT/O8uxlMy7T1yKVezTd957bMth42Hibpue4udavfb7MdLuq82f6jHdbX7gu6NliQ/JekPfPlShD0SuBLQnHoQtaz/tiVb72WM8K6MI1nt+P3wevSQj7gzsSznN72Vbl9rwmzLsS2BK99m7bGWoNaJ+hdnjsdR7bfTna9hpt5XnR8W5Vzl2akLK1fJecqjqYFELG3x92VXn866chWKL8GbsCWFXxrns9nvfvlPq6oJz37/T89NJiGBcpy5GIL1e6StdPf8LJvfd3fV0wYZzuHHeVqq/tef9Oo+fFQP0BGajJk0uBbM8JAt3uZaqalx8CaADL3WbLssReVqxYkennMgAsOrrqvPg3qukc5/pGSNMr1K2yz6QdRqpBsHPxmoTQa5npJIS6c9c2/cZ9NufY7Rwu9HslneN0Y+x7YbmMy/Q1c1vc7tF033sm29VtM9Vrke7tztX6uouzlJMM3q/6e2VoO9QSSNiubqK/jtJYJaxubGfJetfvm05CaO+bvX+6ENirPUV/tbo1Rvx2vK6FLlyOP6de24m14JjZH13sbZp+8sZeOjyug1ul8Exfo0ttXKrPC12Fc4c/uT2Martey2x+J8DyQgANYLmjAhoAXLj1c/Yad6Vym7J6p+H4Mak/Xi2dxeu04+w3tKo3O15viJtr/TKo6RXqrOwTMWuHkWoQ7FzPbCYhjO8L6zx38b2nTc7x+emP7c7mHCf1s87QvWIyrrHGJ23lu6WjdKOyyj2VcbptDjQekVPBomUzLt3XLJXngNtrw3mP2vfnpUC28tqabte+V5zH4LZd3f0+0HhEmmv1r0f7WphsV8TsD1fpXl98hfTAwe8oA+gP9/0bZfg42Hg44fx1F70qoZD3c72n8JXoOnSTAs52EsLBxsMJ50U3yZ9bC47mWr8MNh7WtuDQPUO9KmGn1uOTSNlUBfTZin2ubRLayvOks3iddBavU15f1WIfs+ocxN/fDcePSbjGL13Fa5Q/490DOvGPA8tp3EDjETl97LD0FL0iHaUbpaNkfbS63O317ZwA07n0lG9VVEgnblfVj5xKZpgigAaAGHpAA4CY9+pz7wmaXL3UUbLeqB/i4Mk3pbnWP6PekPb+mQa78UzaYejWO1eTEN6/etbz3NlVcqFQyCNgSD7HdqWabvZ6+1rM5B6Yzb1yLbjT6DhMxnn1xHSuK93jbjbsM6rqWyrj0nnN4u893XPAfX2JvUdN7zvT7XrdA62B/IR73nS7w5GgPByMJPVwdi5e18K5Xeczbb7WZx+Hfcy6APrWvv9NQiHvZ+7VwOaE89delq18XnbEBahTE7Ipxs5iEsJQaOpTNvHnRdcepL1sa8LX7OfjUKt63oB36/caPUOdvYDt10H8vdYSyE9qTdVcXSgtgXwJhWb+R1+7vYbutRr//avlG6Spxqf9me4St97Fya+hdI9zu38yNy7xOg4ey3Z95kV8iZXM9utbd44HavJkuKVMe16cr2/nvQyYIoAGgBgCaADLnqrXZ3yli7onqPsM88px0+seHx2RoRbvme3tqq423w5pK8+T8/6dcqUyO2G/UqlEFjFrhzH28K5yn+6cLZNQKL2TEI6PjkiTou9qmz9PBk4e0X7EOr63qf3fl2t/5Hk88ddC1a8x3ffKqWCR4nhTGzd1TvT3XbrHpfMYluM40+eAan3x6zC570y3q7wHZvJsjPsZ1fNFee48qg9V+5Du9Tlf68ORoFz2bfDsAT2a/Zx0FWapQ1vHpHa6dg3v+NZFz59uEsLuwleNJiH0asExGC5IOC+6Sf6c/bntczV1n6mDa9N7qiFY/P+z937BbVx5vl/nPuTl1mzVzX2JZ6/jqt3Jw908xJVUkockt3xrU8lrKsmtTSqpbJVz85Ct2mxV1jOWJUqyBPEfLGlkayRatCQSRDdaJPFHMghSADWiDZCATP2hRYoCQFuyCWLG0h3a8Foecuih95cH8ACN7vOvgQM2SP4+VV0zIn59fuecPuj2+eLXvx/MB47C3ZEuuDd8uCEqVub50MyPvtb0Gr8evcB9Pk5GAhCPx+HW+KWanSgHfSp8FSZuRGA25K/lsrZfk3bYkeeHV3aNPxIM1Wytc0ebL3LNrd9v0RyTXM0bz59CVu+hvq1B+35jDmekWVCARhAEqYMCNIIgBwJeygRrpBvt9XZ7cTyWXSZ0GpJRA+7YhAT7kQmdbiliNh5vFHdlhF07MtF95WyEKzLci13ktsEqQpiIhWA+0OV4ndYedc2a48U4v0I9meOGufvwBmxVnklFNO3WWknFDHgyeUGZnTWilGUTj8eV2qkew361k70PbG98B59P/soh2sj4lXlrgVxbq1+y3pdjZyFn9DQIMaI1QFvvqsfKuj/R7vEq22Pdk29FhuD7m6cAPvIDPByD7X94DmvZMCyOHIL0tXMOEXrT9zKkr52D+1d/7ipnMIkOpf3AR0Rh0j9REcKHI4eYn1v7wErBQYoDEj6beLe6Jhjtrc6MUO+hK8kr3DnIGr1S91DW2y8z5nmYDZ0RpteYNfyQHenmips0cZSML6d3w7L5Nj9Hd6ALUjEDls23Gz6nn6PDo5E3PbGjv/XSuh25ZvOBo9QIZmKXiBpw1/bfA+R+YZ87+0Hm2P79ZvXN+qYI6/uNEc6IalCARhAEqYMCNIIg+x7RJoNEA7M2k/lIv5Td/aFfwMSNiPDV3sXRHnbO4J1om+LUIGT1RjHI6osmispGIgPwow9JlBAZL6tdkQBNK0Ioyv8pmuP5wFEoTH0AOdvrt46N6cjx+tx9eAMyxju1yCdeRNNurZVF/UhDnm0VdsWpQa7NpyNv1daWCrt2jGE/2jHvA2O9wrWXjOrwZPK8lN98pF/oc8H0Nax5ls98pF9qDdjXu+qxsg77j1uq26Pdk1eSV+D51Dvwj/4/bxCY/+D7U0hfO1dLmZG4EYH7w4cgf+l1uD98CBI7IvCdHSGOLhLrjry2oqhmIgpvb76AxdEegRh6VFiEMB6np+BIRp3FAWUima1/k03BkdNPCe+h/DczdKlnMPmRotmCgKWMCQumjzuW+8OHYHvzRc3OeljPeXD1DdiqPPPE7oF+nDo+Ynd35Cg8Ch4S2t0bPgyFqB8KExeZ1yyr98D9QKNdNZWKU5xeHH6DOXfW4/7IYeb32zrWT0cO157/vO83Rjgj7QAFaARBkDooQCMIsm+gRa7SXuMlkTk5vRtKGRNKaZP62qasnX3zK4rOtUeTUcfiIqq5GXFFFN0slwN6lDkXqfAQlDJmw7WgiRbWOc5H+qTmeHUmAPOBo9y+zQ8fgY+vvQezhr8m7CzGLa+Re7RW2mmXj/QxC3RNXA9DVu+B4tQgFKL+luw6YaydaGddo0TUoH1O2lsc61Wy9qx+S5lR5ndi4noYClF/bc1vVZ5RUxxU10CvcK2oHGvtvrHz6vtutUcOVgR0w/0iE4I/nvpTZoqNu0OH+GkwhvhpMOzPDVFUs1UUfhzurc4PSwwd+jn3c9KPKc6Pg1ZEPyZaBWDrOn48foorXM8PHRGu91nDWeDQemRCp6XekBEVEeTlgF4efRvy4/wfQbN6DzweP9XRdp8O/5xrU32TSIfFIL+w373hw8L7RbUI42FYCPlgST8CU+MfcH9IWJ0JQD7SJxyDiu83grQTFKARBEHqoACNIMi+gBW5WkxebvgbddMcMxwFbVh2oshbUuiIlzvXHk1Gw01UczObL1F080ryijC39FblGVUkT5tnHeNPxQwoTF1q6lrYj3ykTzo/sfXIRQaUrBX7Gugku8mYU4BUaddJY+0kO/tBxFH7OqO118rasx+lzChVjKUVEpxqYa2oHKtX7Vnb4EU9kvvF/eFD3CKDn1/4N1zB+O5QVcRj3XPv6Kca+pU1eoV5lgEAvi5kITdygi/sDrOLEFrbZBUhtP9oKno+EQHY3v85o19auGZ9H0XfgTmjHz4KsfP9yxYRFOWAlqn10PF2xjtSz1G+nd7wvKXdL2iRzqL7SiZ0GlKRIWH/Wv1+I0i7QQEaQRCkDgrQCILseXibD2sUEy96sBk72pHTu+Fj8z1hqgkRbqKaZdJp2JERrUVR2CTa0ipCVKP26H1RNcfktVy3r08vxgc8Wyu7aWc9VNp14lg7wY52kO+n9ceO3fJr/4GF92NNM2tF5Vi9ao8conyv1vtF4f2/5grQ5bP/Hfee9ODq33P7uWy+3dC/+UBXbew0kbcQ9cMfN76Dm1FDmK7j3vBhYQoO1g93tB9NN54/FQq8tGtGRF+RcM37XsyG+BHQc0YfZHV+SpJM6DRMRgJCUZXVTyKUf2y+x30G7QU72o9T9uco+4cDZ25o+1GNiBbff5zXUW4MrXy/EWQ3QAEaQRCkDgrQCILsCVopDGff/Lqxc3tYN8ducjLbcRPVLJNOwzGfguhm62ut9nEkYiGYDZ2Be/oJT+b401C9yCNtjql+d4oQtmut8Gz2i10z13a/2MkerBQR5WwEHo36XF0Ltz7njH4oRP0NPleSV6AQ9bfVL2+sXrZHDnvBVnu+V9lnS2Hg/+QK0E9+9T9zI6Dnh9hRyMlotaigtX8Pr/mE9omx6g+VonQd80NvVeeY8Uyaio1yixCSaGtCIcoXvO1pMMi1rRZWZEe0JqIh4feRjJXVxvzQYWF6jTmjH+YDXU3ngG4YGyetyV6x49nE49UfQ+yCPPkbrYig/dxmvreyYxB9vxHEa1CARhAEqYMCNIIgnsMTAADqkS1WASVn9MD60m0AcBYrstpl9R5IG2drm06rnX3T+bH5XoMd62DnhqxHkPHyR7KK4VhxE9Usk07DMeeM6OZUeAjmA0ehODUIj0Z9jo0oa45nrp3flTlOhYdgyTxRKyJl79/H5jlq/z778HRLa4VnZx2rNd/pnZETtZyqu21nFVpE10zWzs2c7CU72TVqF3Dt+XJpfu33KZ7gRda8G7+sNfBk8kLtPirya10DLJ+s+0DDd5NSrNPt3Mm2J3u/mI44c9E3+2y5M3IcNn0vs3NAD78lKAR4hPt5PtLX0L/PJt7l2t+OfABXL/RT7wcO3yNH2RHksdGaaMhKwXFv+FBtTgBAWIBvzuhnfh/nd4ox2vtZTdMg/t7eCZ4UjPWYVA7o+ZFj3DHIPOcPhp0O88NdcG/4MHwU+mXD/YJVRDAbrP9gRObZzSHbN0yvgewFUIBGEASpgwI0giCeInptkrwCzXr9c315BsrZSC3Si2WXMfwNEWGsjVYqPCTcvBZvXpZ4ZZWdP1I2Alo2qrmZHNC06OZPAse44xLN8cy188rmmDZ/tNzS1v5NR4a4/ZNdK7OhxrXCs7NG4zHXnnnWE7vbYwM1O5ZN2jwD8Xhcyk52TvaSHWuNTkca1yjvWsh8N9aXZ6hFOK3ruDAxAKmYIe3XOgZWzuhKMSv0ezMahHicnbeX2H1snmsYK609WtE/2bmTbY92FG9edjxHqD+wST5bpsNX4bvJ4/APwb+GB0NvwHR4COYDXZC+ds4hQm/6Xob0tXNwd/gIWAvRNkYh65Ab6qoJa7Qo5Vm9r9a/7c0XkAue5Nq/c7Yfus/sfH933rxhiamsFBzW+6dd9LPakNRK68szAADCAnfzw0e438dENAT3hg/D3cARuD/0i510GHLf26zewx3rfKBLmF7jkytvCSNzadHatOho7+x8iu3oYrLVLhnV4c7IcYjH4zA3coo7x5mdHwzmh49w59mei57WN9r3G9NrIHsFFKARBEHqoACNIIhnyBSOsQqGrI3OxvOnkNV7hHZzI6dqm1fWURcV6Rsr0i/ikxYhKMof6SYHtEwbMuk0WO2Tgz93dRFENMeJmNnyHCdjBkxHhhrGzrWP6lBKm1DK0POOWu22Ks8gZ4jXyurtgNSaWh6viyFMu5jhjV1Uh6XQ20KbUtqER+YJZXOyV+x4a7SUMXeEW114LUpps/a2AM/vlx/x86CWMiZsb76Q9vs4Uk8zwBNwRX5XZ4JQzkagmBjYKVwmHiuvPWtRMNm5k22PNUZ72pFS2oRkk88Wlsi8+MHfQDJqQOJGBO4PH4L8pdfh/vAhSNyoFxnkibxL5gnu51mjt9a/UmZUGNV89UI//MVb0WoOaEFaisWR1lJwkOjjZFSH7c0X8Hj8FNdfbuQk8/vI+wFT5nsrEpe/mGTnvK7Ntd4DX0w6cx9b7SZuRCA3chIec964aafdp1ff4NrN6n2QCl+Vs4sMweLIIaHfVGQIFoOHIav31K4d61osBg5xv7dZvQdKaROWDHb0fTJqwBdT1eh/Vt9o329Mr4HsJVCARhAEqYMCNIIgniETubuSvCKMli1E/XAneFLqtds7wZNcm/mR48xoYGvEjShCWTQuFXNDEBULpG3U7O3LzB0RLbjzF+iCT4InuDY5vRo9x3vt3h4ZL/Iru1bK2Qgsx84qs7sXuyjVPy/tOnXuvLbj2VgLW+UMvlgtO3/kmol8yvp1u1Zk/D6ZvCA1VtVzJ9uebBRks8+WxI0IM83GDyf/Q/joGrsg2qfDv4B4nC3yLuj8lA/WiNx7sYvCqGb/WT/85ZmPYG0xAzm9m/s8WhztYYqAMik4rPNUzkZgwfRx/c0Z/dTvo+hHGprgafW7HDsrzN1ciPrhgX6cO3ckX/qnw7/gPsO9tMsKCkuSHwVk7e7FLkoVHLwXuyiMDi9E/bU0LKyDrAFRCiAsIojsd1CARhAEqYMCNIIgniEjPJSzEWG+4AXTV9tkijZEMkKrdbOcCZ1uKIpl73sz+SNlInfcRDWzigWSvrCKEFo3e6K5mx85DneHjyiZ41LGbIhUZOVotUY8LY71Klkrqu2IuNfJdrs9J3vFjmdj/c4UpwaVrhUZnzJ+3a4VGb+y92TVcyfbnmwUZLPPlvvDh7iFBh9e+TtmSoxPQ29zfS6FjvOjhi15c+/FLgqjmn91/jT8prIBAACrM9U0KqxnwCNB9DX5/6yIV2thuYbClgx/mdBp6hy7ef6yrpkod/OC6av1j+eH2PEK3HlpNyf4AYLMlawduQ9kg91Mv8ROlLdZdo6t32+Z/z7BKGdkP4ICNIIgSB0UoBEE8QwZ4WGr8kz4ujzZzInsxCkknBtwlmAs6ns1n6J8RLIdN1HNshGEjjGkg7VoKBlhQMUcN1s0SGatbG++EPaP2MlEZsrYlTKjjry9nWanaqz7zU6U0sHt2pNdKzI+Zfy6XSsqx+pVe6rvF/ZrVnj/r7kC9NNf/U/sFBv6EWEaDH6RwnrUaSkzCnf0U1z7hQ8HauMV5fl+PH4K4nFxCg5WPl57BDS/SG71OUqbY5kfMEXX7N7wYW4bhahfqn+dbrcc7hXaxONxaTs39wtVc9yu7zeC7CVQgEYQBKmDAjSCIJ7B38BU8/WWs5Gd3JBsu43nTy05JNl2s3ofp9ieDmnzrGMTxRKM+RHK/BzQblJwyLTRTBFCa47WTOg0tQARbRPLn+O6XcY868jB2srrtLxNLMljvPHsC5gx32P3z7LZXV+6zbRLubSrFLO1AoidaKdyrPvJTvaVb1kBRXatyL5mLuPXzVpROVav2pOl2WsmEqBXLv7vzAjoB/pxvmBsnKjdI2nnZ4PdDf1bNqsR1axnQCHqr41XlOZANgXHnNHHTFlhn7vS7avU5+jtsQHmHJO0Iqwjp58SXrPnDyaF/90AAPBl6hIz3cResbP+SGy3sY5XZOf2fiE7x/Q1YDjWAKbXQA4yKEAjCILUQQEaQRDPEOVRtuYHpQmfyagB+Uh/QzssO3teZmt6DRJB7TaFBStC+WPzPe4m200RQpk2mokwoonWrOJQ9rkTzTHZWLb6Ou32xnewlg3Xzl9fnnGM0+o3cT3M7d/iWHdD++vLMw472qZYxm578wU8mXT67RQ7lWPdT3aya1RWQJFdK7LfCxm/btaKyrF61Z4szVyzO8GTzBzQm76XYT7l++GSAAAgAElEQVTQxXxeLelHGp4t9ufIkn6E+7ybDfkb+ldMOG2t5xQTlgjojMn1LZOCIx5nvwlj71ttfsNDDf5S4SHImGeZcyxKK7Ly4Rmp721pZogqfpfTwQa71elLjmLBe81uq/IMHgWdBQRpdsvmcYdds/cL2Tl+vjDlGMNufL8RZK+AAjSCIEgdFKARBGkJu0jI2lTQ7Ox5lLPBbpgPdEHW6IVM6DQUEwMNQiltc20VqVntTAlyKTeTwkIUocw7VBchBKim00iFr8Js6IxFDLjq2CySa/Fo9BS1z2Q8C6avKvou3aaKOOtLt+t5nDMmlNL0PM60NVCcGoR81F+7vg15n3dslmNnIWf0NPSN+C1lTLgzcqLhGtvnnbYW7uknHH0jm+Ji4n0oRP1QnBqkjmE/2FkFgLV0SCr3dqfbcdeb5NzV7AX3sv3ml4fstWimPdk2ZJ4tquduceQQpK+dc4jQm76XIX3tHNwbPsyIYNbh8XXnD5LWZ82nobe5EdD5cE9D/0oZkysa5yN99WhkUQqO0ZPC5xU7B7QBj8d9DWtgq/KM+0YK9d6++QIWx3qFBems16x0exjykd5azmESeQtQFVxJMbz8eDc8Hvfx7YwT8HD45/BAP+6w6Qi70ElY0o9AYeIida3K2pH5K3x4Hpb0I7AQcs6J1Y53v7DOMa0Ne1soLiOIExSgEQRB6qAAjSBI08hGmLHsnkyer/2bFX37u4WbwldBW83H3EwKC5ForaIIoWxUcz0a2xmtZE8hQrsWtAhx1YWBeH7JmpHpWypmwOfxc8JIPtaacrM+0a6z7WTwwude8OtVeyr9Nt23rd8DPBwF+MgP8HAM4IeN2keFiYuQjBqQuBGB+8OHIH/pdbg/fAgSOyLxJ4Gj7DQXgTf5aTBGDgnFVysfxQa5gvWs3lcbrygFx11K5DbNzv7cIn/P6d0NfxflOyeR1Pbr4Sq1FDWthDMCV8ZOZVvtsFN9v1DtF0GQ5kEBGkEQpA4K0AiCNIWsQMqzS8YMSIWHBIUBSW5ndpqO7c3W8jHzz/emCCGA/CZSFP1WSpvia2GJfmOl7WgWGb/TkSFHzmha30i0oZxda+sT7TrXrtV11y6fe8GvV+2p9Nt038r3APw/a0yv4f9Z9e8AUIj6hYUCWc+Su8NHuILxQ5MfhVzKmLVuzn/xNQxd7Of2xZqXeXUmyG373vBhaluT18dhzuir5+433qGeb0/N4aaYoPV6kHoNtHNIPQcAufoQsnYq22qHner7hWq/CIK0BgrQCIIgdVCARhCkKWSjhkV284GjkNXF0VSsjTV5ZbeVfMy8870qQkg2h7Q27JvDR6M+7hgfjfqkrkUmdLqp6CfRa/Ayflm5R6021v/l2n34odBOdn2iXWfayeCFz73g16v2VPptqm8/bDjFZ6sI/cNGLQKaJSLngux77f2hn/NTZow7f5S02pAfCktf/x7+s5Mp8J+tFuxjPUesBf3yYXaRwWTUgPmhw9y2iB0rBYf977L3a/v1EAn8pLBiIcovVujGTmVb7bBTfb9Q7RdBkNZAARpBEKQOCtAIgjSFbN5kkd2c0Q9Zo1dow9sktZqP2c1rwYRWRW8RbjaHi2P8+Vsc65W6Fotjva6jnmRe4ZVZA7IRdSK7nN4Nk+EhmB85pmR9ol1n2snghc+94Ner9lT6bapvD8fo4jM5Ho4JBdJ7w4ep/pJRA+YFEdBLoWPctotTg/DiD3+E/+GXH8Mrb06A/0w/V1Se1ftq/14wfdy2s3oPMyrWaudMweEsQhuPxyERM7lRtomYSb0eC2ZVwGc9axdMX4Md63Bjp7Ktdtipvl+o9osgSGugAI0gCFIHBWgEQZpCVdSOTPQrK0JatoigKB9zJxYhdNOnUsbk2pJXu5uNeGJFOMu+wqsyAlqUe/TOyIkG+1bXJ9p1pp0MnR6J3OkRy/stAvrHWz6uAP3jLR8UEwNcEflO4BhHnObneF7Qj0I8zn5m5KN++L+G78Irb07AK29OSKfgiMfjkI/0cdueHz4ilYIjG+xuOD8VvkoVoDOh09y+8SKgedcNI6Bbv19gBDSCdBYoQCMIgtRBARpBEAAQp1Gw2xUS1agq+iu7Omx89QTWsmEoTg1CzmDbkVQVzEivmAGzhp+bHmO/FSHc3vgOClE/V9QuZyO1a1GcGuRci9ZyztIinKcjQ/D55K9gcayXK7qvpUMSa8CARCwEOf0U5PRuantEEEpFhuCziXc5djvr6XoYZkN+pl0qZsBW5Sth39Bu9+xk1yhpT+Y+VcqY3DXQDp9ejLXmf5fbk31bwu2zRWb+munb1+E3uAL02uD/JoyAJvdZmjj94PL/B/E4WwReDBziRjRP67+sic+vvDkBH8cuc9sjKThSMQO+nL7Mbfvu1be4bVnvn87znRHNRPxmtWfPAb3x1eeQj/bDA/04N3L6xeqicrvH4z5xnuhvfqvMbuN59b99qulcxHai9U7mbiHkg3vDhx3Xwv79FvnFHNAIsrugAI0gCFIHBWgEQVqqwG5/RTcZNSCrd1OL51ntUjEDfrdws2ZH3fTHDHgyeZ670S1nI8KiO3upCCF9jg3H3K0vz4ivhYtrmI/0O8Qh2gaVJ8447fhrgL1W6u0lozrMB47CJ4FjArvq/xf1LxUzoJwOCucO7XbPTmaNstqTv081roHd8dn+scrcP9rRnmyeeJXPFvt5bvu2krgAm76XqeLzpu9luBM8WStySheZ+QVxHwSPcp8jD82T3PuTfv54TXzuTjyGz+PvClNwkGub07u5bd8dOUpthxxTsVFqpDM5snpPw+eiN1FIBHQqZsCT+JmGezfr2VAcO942O/rcVAv6Wov9tmr3JH6mYU2y+ma3Y613+9wRu6zezf1+s/zaCxi3+v1GEEQMCtAIgiB1UIBGkAOOigrsyahee3W3mhuSbVdMDNSEznI20rCRI5v+nN4Nd0ZOQCltSqWisLdj33yLzu+UIoT8OTZqBQjXl25zr4V1jll+ytkILMfOOiKvrJtPu8jOjVS3FKri2+mQC/pgPtAFucAJ7g8Hs3qfOELehd2CfhS2Ks+k5g7tdsdOtEbJ95vXnpv7VClt7rrPdo2VRbvbk458VvRs4c2fm74Von5IXzvnEKE3fS9D+to5mA90wcSNCKQZz4K0eYZ7X1/S6Wku7EUImQUOR07CX7wVhdeH5mHr998JReXFsd7atSWCL6tvX/76KvNeOxkbhZvhIepn5Jgz+huuxYu1R9x7d/7GL6GcjcDG86dUu4kbEcjqPbBgnIBC1M9sT6Wd9b8v8uPd1Yhmyo/XzdptPH9KXce1voVOQiHqZ9rZ1ztr7ohdIX6e+/22+yWRz6q+3wiCyIECNIIgSB0UoBHkgKMyl7P1f0XtAdTTWLA2zWRDJGpP1I7o/E4pQigaayHqbzplCK3/InHILv7L5mnuVLvVmWDH5zY+aHayYA7pzmlPtd/d6l81NYEBiRsRuD98CPKXXof7w4cgQQTgoE8o5PLqETw0T3IF5iXzuDCn84WB9+C7zR+gnI3UUmyw+lLKmLW5ExUFXL0dYETFin+kjcfr91ZrnmHeWLzOq+yFHeZyRhCEBgrQCIIgdVCARpADjqoK7CTnozX3I689ALmNkyi9xlblmbCdqeujjPM7qwihqmuxYPqEkUzNFPoSXVvyec7yenAra0W13UryirI5Rjs1drJ44bfTx+pVe6r97lb/RKLpfKALskYvty+fBE8wz39knuBHLI9WxWteTufFxGBtTmb1Pu4bJ9Y3hERFAR+N+uD22ABMRYKun1fWHNDkWiyYPu5YFkxfgx3r2E92qte7bN+8+n4jCCIHCtAIgiB1UIBGkAOO6ghoVoSYvT0AURoLg5qmw76xlsnhnAm9w02vsZtFCHmvvKu+Ftx8qBKbVnuUtCjC+O7wkZ1Xkk9J9U91BLRo7WEEdOfZyYIR0J3Tnmq/ux0BzUyBsZMaiNeXe8OHmec/Hq/e91iiLEnBQWuX5HS2zsmc0c999lnfEBIVBVwc7WH6th725xbxRYuA5rWzFyKWVdthBDSCIDRQgEYQBKmDAjSC7FO2N76DtWxYmNdv46snkNV7qBFR1orpW5WvIKv3Mu1kckDbxVeZ3MsyaTr46TDOcc+XEbCbKUJYvHm5QbyduB6GrN4Ly7GzzOshmmOSv1YmVzRrzmn9n7gehtnQmQa/tc2ypfBSIhbi9K/ut2rHXlONduzxytqRtXdzbJDbv4c3zsP25guYjgw5xmufK6/seGtgL9lJ5/+VvE954dfNtZXNsSzrV+XcuemfDF5ds1b7JxMBnQv6uM+CTwLOQoPk/Icm/1xRCo6c3t0wJ7ngSe6zq5Qxa3N8d/gI93mUH+e/lUKOjPEO1dec0d9wLV6sLgrfTNpPdhvPnwjt3Nwvbo0Pwt1AF8yPHIP5QFctwrzxXit++6sd3x8EQdSCAjSCIEgdFKARZB8iW9m8Uswyc0JaI4xp7dntrJ/Rck3S/IvSWNDSQNgPq00z6TBaKUIo2vSR6Op8pF84H7JzTM7j2dPmiNV/uiCiw/ryTM1m4kYEPgkcE66V+rWn9ysVM6qCNtNv3e5J/AwkozrXTtZvTeCJDOysefp1tl+P3bbjXVPreul0O9n7kJv7lFd+Za6tbJuyflWOoRnfPLy6Zir6V0wMcCOgs8FumA90CUVq1nPmwdU3uOc+vMaPkP5s4t2GceRGTnIF7c/j79bGKioQmxs5Qf3Mbsd6ZuaMnnpx2p0fJVnPjnI6uK/syJqSsZO5X1h/1LW288nI2477Bb0gZt2n6u8PgiDqQQEaQRCkDgrQCLLPkI6e40bR1nM+FhMDUnb2o5SuFkjiRcnJpoEQRSeL2uEdMgI26xVWmU2frFDtZo7tAveC6eMK7qwckOtLt5kRVqlYNceoWNyo909kt1V5BpViFm6NX+JGdm08fwqpmCEsrCXrl9g9vHGePc+y34022YnWgEy0WyfY0e5HtPuAqvuUJ34ZUYUsn278qhyDm/7J4NU1U9W/UsYU5kl+eM3HFalZQm4yasDdq4dq9yPac2QpeJj7LFudCTSMQ5SCw55rn1pkMFYVQEVpjKZio8xihMmoDi/WHgGAMyrXOtas3rPv7Oxrym638fypeM23GNVsX0+pyJDr+w+CIN6BAjSCIEgdFKARZI9jf924lKEX3CNpFhbHeqXs5keOQyZ0Gh5H+IXdaBtbnshgRSa6WSY62YsihLX5t236tipfCa+HNeVFIepnXgveHFtFcdkckPa18tnEe9w18CDYBZnQaZgNvSO1VkR2i6M9kDN6hHYL+jGlfondF78eVvLdUGEnuwa86JsbO9p63I371H7xK9Oeyrbc4NXcqe4fOUppkysub2++EIrUn4wcZ352b+gQV2C+HzjCbft+8GjDOMh9nyVo258Lt8cGIBW+2ihWhq/C7bEB7o95k7HR2o90rBzQD4Z/AYWoH5bD/CKN+8Xu05HDStZ8ImrA3UAX3A8eVeJX9XcIQZD2gwI0giBIHRSgEWSPsr3xHRRvXnZsGO3/nrgehjmjX5md/bBHYVlTdwjHIBHdLBOdLGqnHUUI7ddiLRuGhx8OOMRu6/w1O8ekwJT1sIriosi/rcpXnqwVtGt+DXS6HW89tvM+tV/8yrSnsi03eDV3zfQvcT0MD4YPQf7S67Bw9e8hwUm7VEwMCH/MFInUuZGTzM/mh97iCsz3hvgR0rMhf8P8yb4BEo/HIRENcWyrBQ55fSP/5uWAlrm2+91Ods0ndvKFN/usb/d3CEGQ3QMFaARBkDooQCPIHqRSzEKSIThaj9tjA3CTsSltxo52zIb8zOKAImSim2XTdLRahLDZIj60NByq51gUAc1aE0lLzuXdXito1xk+22FHO2g/0qi+T+0XvzLtqWzLDV7NXTP9S187B5u+lwGO/0nt2PS9DOlr56h+C9GqwMt7FhSnBvkR0MET3PzQPPF6/upb3B9KZ/W+hr/dGTnB7Qt5LtweG4Cs3sOdc1KkkFcngZcDWpTC4yDYya75rN6t9FlPOzACGkH2DihAIwiC1EEBGkH2GDyx1Hrw8uI2Y0c7eBtWmQ1SpxQhBGiuiM/25gspsUb1HNNE8UoxC9ORoYbxV3Mt7/5aQbvO8NkOO9pBW4+q71P7xa9MeyrbcoNXc9dM/xI3Ig7x2SpC2yOhUzEDCgl6jmNyFKcGhSJ1K0UI50eOcT+3vukycSNSe7uI5W/O6K9dC9pbMtZjfuQo93N+Dmj2c/6g2MmueV7Uuqr+tfIdQhBk90EBGkEQpA4K0AiyxxAJsuQQbUjd2jlyQ8YMSJtnmRspmQ2SbHSzKDq51SKEBLdFfJ5MXpDyIRvVRMu/aZ/jJEUUZ82RrF/VawXtml8DnTyGeNy5Rlk/0qi+T+0XvzLtqWzLDV7NXTP9uz98iCo+k+P+8CGHXyIus45C1A+FiYvcKOXcyNvMz+4JihDeHT7M/Zyk4IjHq/cL0T2DtGE/l3Y8uPz3zHHJ5IAWXdv9bie75kmkudvvhmz/Wv0OIQiy+6AAjSAIUgcFaATZY8iKrfMjx6XsHo52S9mVMqO2YnvPhOkzRMjmXi6ng46oomRUh3I6KNUOqwhhq9F49vzXrEN282qf4/Wl246o5unIkLRgJetXdq14ZXdv+C2l7S2O8l9Xb4ed7LXwom9u7OxrlPX9kb1PHTS/Mu2pbMsNXs1dM/0rvP/XXAH628D/4fArEpcLExehEPUL8zizPlu4yhZ53abgsEY3s+wnbkRq12JW7+PaiqKzyb8fDP1C6i2i/WK3MHJYyk52zd8P8iPN3fpV/R1CEGT3QQEaQRCkDgrQCNKhkMJ29o2HXWwk1djt+SatEVE0m3i8KsCuzgSFmyWaUCuTPkM4RokihCS6l+aH9EsUJb2+/JHr9Bqia1HORhwRaqx5FuXnpM2xm7zUxcT7VL8y/UtGdam1Irum5O10uLcTEbibflMxA0oZc9ftckaP8FrY2/LSTmqNMu5R9vuU7NztF7+tttdMW25o5dnS7Ny12jd7/0QC9NfhNxxti8TlJf0IPDCOC4oQnmB+tjB8qKUUHPMjxx33i6q988fXmWvnG67FnNHPbXtBrwqj/BzQOjwePyW8tvvJbnUm4Pp+kYgacDfQBfMjx2A+0FWLHk/FDMhH+lz7bcd3HEGQzgEFaARBkDooQCNIB8LLR2wVbekbTh2yendtU8zalKbNX0KlmIVS2uTmNkxG6UKtTPoMETJFCGWjpEU5nGXSa9DED1a7+UhjhBp7ns/CzLXz/DmOhVy/hm8dt1OgqF53cf90yAZ9O9FzOncM1vb2sh35DqVi4u+GSrv1pdu1dcS6FuV0sOGHB6/sZNaozPfNzdztF78q2nPblhtk/apcKyr6Zp/jO8GT3BzQK4kLjvaLiQGuuJwNdsNsiC9SfzJynPnZw2v8nM33r77B/Xw25HfcL26PDUAqfLXBPhUegrR5puFakB8bWW2vzjjfIrKPoTh2HLYqz5TZldPBjrdze7/I6t3UHwTujJyASjHr2m87vuMIgnQWKEAjCILUQQEaQToMUeQrSX2RCg9xo4enosaO8EnfDCUt+ZNpm6/J6+MwZ/RBMTFA7aesQMpDJorajdDtNoezFZr4MR3hzbEOEzciOwKBnB1tjovJy029hi/Kj10TWsyzkOKOo2rHXSs7Y4jH49J2s4ZfaXtq7OoRZetLt4XfDdV2pFAk61qkOsDOvp5oa1Q2Ol927vaLX5XtybblBlm/KteKyr5Z53g+0AXpa+ccIvSm72VIXzsHhajf4aOUMbni8mzIX0tlwRKpZ/U+5vMqP97Nvc/eu/oL7uckBQdZo9x1HDVgOjJUuxa/Hr3AvT9uPH9KTWVFnvPkbZityjNpuy9Tl5h2qfBV2Ko8AwDwzK50+yrbbmfuAOTvF88fTHLn2K3fdnzHEQTpPFCARhAEqYMCNIJ0GCJhlxRSEhUdmh8+AvOBLq5NORtpOpWGTPoMETIiqwqhW0SzRfzIa9Kia0HaSYWvQiHSIyWQy4xbZJPVe6CcDgpfmZcteCUzJ5nQaUjGDGGBRjftubGbM/ivQNfyisvmH1dsJ7oWXtvJ/Iijek72i1/V7bXygxoN1WtUZf/czvFD8yQkowYkbkTg/vAhyF96He4PH4LEjlBcmLjo8EHe9uGJy6JUFqy8/8moAUvm8ZZScFjzxMvc3zOh07V5yUf6uG0TQf7x+Clu7mE3doWon5vSg7TllV05G+Haub1fyBSxdONX9XcIQZDOBAVoBEGQOihAI0iHIRJlF0wfxOPiomZZo1dos5K8wn1l1BrVY0cmfYYImY2fm1zIPJrJ3yqav+XYWUjGDKHd/MgxR95qYX8lxi1aK1mjF1IxA4pTg1y7OaNfOAbyuXisx2E6MgTLsbNK2nNjl4oZQr8kYl42sv6g2cnghc+94Ner9lT79aJ/bn2K8jnTIqCLU4Pcc7JGb+3HRJaAyEvBQQrVsc69u5PznpeCwzpe0ZzMGf21eSH/XcBqe8H0NdixDjd2Kttqh53q9a7aL4IgBwMUoBEEQeqgAI0gHYZsBLRMRKjIhkRZ8TblrAhjVUUIm3213U0RQdH5rA2jaP6eTF6A6ciQMNLc3o5s1DbtVWiSh9V6DUR+RZFbMmtlPtAFc0a/9FjtRfdYdqoioJf0I7BVeSYsAuV1BHSn20mtSw987gW/XrWn2q8X/XPrszBxkRvNTIuAJvdB1jNrPtBVS8FB64MoBcdjQQqO+atvSaXgION1EwEtG52r0s4Ln27sVK931X4RBDkYoACNIAhSBwVoBOkwRBHJL0qPajlvRTmgeTb2KFrWppoVraMqykdWXG62iKCMyM3aMHLnOFbNwSm027kObueG9Jt2XUi/ZXJAx+NxKCYGOHbVtSQ7Bnd24pzNauyqfm9GDZi4Ps69ZmTdyP74cdDsZPDC517w61V7qv160T+3PpuJgCaiNesekgv6IGv0ClJwnGKef3fkKPdc0efkLQ8yXtF/C9wav1SbF9k3mVTaeeHTjZ3q9a7aL4IgBwMUoBEEQeqgAI0guwgvDQShnI3AzLX3IKv3OqK6yMaabGJ5dhnjHciETsN84Khj02QVeJuN1lEZ5aMiDyJLyC4mLzP7OHE9DIWoH4pTg5AzehxCcTweh1mj3zHHqZgBTybPN9jxhIVm5mYtHYLZ0BlmDk7SxvrSryGr91DXgNW2auccx+8eTEE+6ocF0wePzaOQigw1+E2FhxxjIIUXRXb5SD9M29qbjgw1+CxE/fC7hZtN27np3+JYt2PN0Pzaf/yQtWPNcafYSf/YI3GfcjN3sm8vdLpfVXPntn8yyPpVvVZU9s+Nz2JigBsBTYrnWv0u6Ue49+n7Q7+AB1d/Xn02MH6QvTd0iHn+rcvHuecuh45xP58N+R3PZl5/n0xeaJiTL1Pvc9+YaYed6C0dr+3c3C9ujQ/C3UAXzI8cg/lAF9wav+Swc+NX5fcHQZC9CwrQCIIgdVCARpBdQnZDko/0UzacOsxcqwqeJA/hzLXz1I1Q9e+NUbfWDe+jUV/D5r/ZYoIqihCqghdxNHl9nPp3+sZebxAz09Qc1zqsL89QI8Ct8zxn9FMFbZkIqEoxS7m2jaLySvIKdU1Z1wrxt748Q7Ur3b7a8PfqnDjXFE3glbF7Mnkekg6/1Rzh1r/xcomL7eT7dzfkFKAd/WOIcSI71rVYX55xtOWFnfW7wvuxR/Y+JTt3Mj73gl+Vc+emfzK4mTuVa0V1/9z4lEkdZfebDXZzRetssLtmQ3tmEBuWgDwxcJh77sqHZ7hvrKTCVxuuhZu3k4gwarXN6j2wOn2pcd7aYJcKX23oXyp8lSoYq7SrFLOQigw12jGEZZn7hSthWcIvABYYRBCkCgrQCIIgdVCARpBdwM2roKI0A6QCPHuj2yhA2g979G2zxQRVFCF0NYdNFBFkHaL5ywa7d3KB0q9FKmZAKW1yfRRvXpYWyuzzKpNWo5Q2hXapmAHrS7eF6TfEc+I+Bcd0ZMgx/lbaU2OntyV1xX5Iq4F+W2sP02q01r9m2uWJyVuVZw6/syF+2o7ZkF9ow0vBcevSW4Jzu2F9eYbyo1z9RzTrnKzOBKm+yLE6UxVHOz0VBqbWQBDkIIMCNIIgSB0UoBFkF1BVDCer98DG86eQ1eUKvPE2U/a+uS0mqKIIIUH0enazRQTJYY+CVlHAsZRhC8BE+J22RUrRXv11u1YyodNVATzDF8BJUT7ZQoWqigGS/j2ZvLDrfmXs2lG8bz8UFkS/rbWHhQVb659bRD+A0n4gJAUGWaL1rN4ntLkzfJQpMCc/4KfgyIROw5PJ85QI3yFHyiQAgHy4h/ujWz7cAwDeFfnD4oK78x1CEGRvgwI0giBIHRSgEWQXkC3YJ7KbHzkOpbQJd4InuXZzRr9DdLW+mtxM35odkwiRuNxKEUFy2KORSbEn3vyJbEgKDFqUMy3lhb3Pza6VnN4NlWJWaDdn9EMqZsBy7KzQTnZOZOwW9GOwVXkm1T+Vfsnnoh9nZL9rbuxUttUOO1nQb/Ptqe6bar+d3j+3iH4AfTTqo94jREUAZWxYPi//iv3WTDKqw2QkIHzDyTonC6aP25cF01ez483xfrNTveZV+0UQBLGCAjSCIEgdFKARZBdQFbGTCZ2GR6M+uQjenSKEvLyRbvrW7Jh4qBCXScS0m2jk+UCXeP4kImlJgSN7lDOv8KFobkTjJa9dy0Y25wy5aHnReJf0I7Bg+mBJPyJsz6sIaBm/GAHNBv02316nRxh3ev/cUpwa5La7OOq8782GqpGuvCKAIhteCo77xkmuYCzz3LHOCYnMZfXF60hkjIDene8QgiB7GxSgEQRB6qAAjSC7gGzBPpkc0ItjvcJ8uKnwELUAHm2T1GxeQxX5EGU2dLJRR6wiQqXbQ45+yuQT5uFLspEAACAASURBVNmkYvQco+RgFT6099ntvCajRi2Nh2yu6Oo42FF5srmT5drzKge0DqW0WcvHzPLbrjzLmAN6f/vd7bbaMYaO7t/W7wEejgJ85Ad4OAbww4awXZFomI/0OXNA76TXYN1rrCk4WDa8FBwkkpYlGN8dOcrtM3lrxW1u4oNmhzmgEQTZS6AAjSAIUgcFaATZBdwU7HsyeZ65wY3Hq7mHazknKXZp82xDPkn757RNkmwFeDui9BkiZMRlNxHQtI3/VGyUeh4vUq3RRqeOz23hQ3ufRfPqLFRlOApV0ebfPoZ4PA75SD/1OpXTwYa/08ZrLZDFt3P6fTJ5ntq/jNmYFoT33ZCxy6djUC6XYXt7G0qlEvPa2tel7PqVsVPZVjvsZEG/zbenum+q/XZk/8r3APw/Azj+J/XD/7Pq3zkUJi5yheLCxEWH36zRy73vZ43ellJw5CN93Pv+svk29/Oc0eO4FrLP5oNmp3rNq/aLIAhCQAEaQZC9yt9omvaFpml/0Ko3sf9WQZsoQCPILuCmYN9W5ZmjSBGxS0Z12Hj+tCbEWdubM/ohGzxVs6XlgLaL3QDAFW9lonpImgxWAUGZeWEdMuk1ZNJ0sI6JGxF4NOqDleQVeDJ5AVKRocY520nfQRuf28KH9j6LKKVN6hqwzg2Z/0LUz7SzziNtHFvffAX5qB8WTB8Uon7YeP60ZleI+pmR9BM3IvDAOMH1u5K8QvWr4m/LiUuQGz3X4PfmzZsN/bPP39bWVtPrV8ZOZVvtsJMF/Tbfnuq+qfbbUf37YcMpPltFaE4kdCHq5wrFJG2C1S9JH8R6Di/pR+CReYJrw0vBsToTYL+VEjNg4/lTbqTtxvOn1LFuVZ5BwXKPthcSPqh2qte8ar8IgiAAKEAjCLI3+StN0/6oadr/rWnav9Q07bymad9rmvYftdguCtAIsgu4KV5TzkaEG2veBpkcrBzQ9uhbL/Mayr7SKopOEs2vzPhY+ZxZkU1uCx8SEUJldLjbebQjiuYS9eFe7GJTa2d7exvW1tZgZWWlFrnsxm57extSqZTra724uCg19wiC7AIPx+jiMzkejjFPLSYGHD/CkudcMmpAMTHAPIclIBcTA1BKm02n4OAVpiVvzfCe7ZhDGEEQZP+BAjSCIHuRTzRN+8D2t880TettsV0UoBGkBbY3voO1bFgYCbOWDsFs6Iw4mnXjO3g0egrmjP5qQSS9z3GOqGI72dCyIlft+Ye9ruzO27ADyEVol7MRmLgeZs7x1PV6Gg6rXc7oga3Ks6YEXLeFD2f1Psjpp2A5dpYfrbWzphbHepmRxfF4HNbSoYa1t75029Gf6cgQfD75K+r6tPbfPnfTkSFqZLndbnUmSJ2DiethyOq9UJwadPitVCo18Zi0lzPfgSczIWm70tMV6pzw1kA8HodcLtcwx8LIuQ63k0WmPS98eunXq/ZU+/Wif6p8/njLxxWgf7zlY/rNR/q4Ym4+0uvoXyljcs9ZnQnCSvJK0yk4ShkTPp8873iDifyQSZ61rPPtz9qtb34L+Wi/OGLYAzvVPlWvd9V+EQRBmgUFaARB2sH/olWjkjOapn2naRpomqYLzvkXmqZd1TTtt5qmbWma9qWmaec0TftnNrt/X9O0bU3T/o3t7xc0Tfu4lU5rKEAjSNO4yUHIy+dLitzI5vMVFV+aio0yc0BbxW5CqxHQrW7gRJHHMv1bX55h5iROxQxYX/4IkjF63uxUzIAnk+ebmgOWeL6+PEPJrdxcvkraGsiYZx1+UzEDfvdgqpZO47F5lGpjn1eW2PJk8nyDSE21k8wjTfxaI5dZ7UnZUeZExm5xcbHjczV7keMY8znvTnuq/XrRP5U+vw6/wRWgvw6/wfRLigWyIqBn9T5H/0h0M+ucXPAkfDbxLsTjzaTg0OHXoxeY0dOpmAGltCn9nOnkHMyYzxlBEEQeFKARBGkHn2pV0fmFpml5TSxA/7mmac937K5rmtanadrtnX8XNE375xbbn+78/V/Z2jimaVqxxX6jAI0gTaCiCnsyakAqPAS3x6qv/fLs6jmgjZ2K7XTbydgoJGLsTS6tCGErld1b3cDJ+BZFaBcTA5y502F96TZUilm4NX6Jm3+TFWkcj7OjwFnieTF5uXYuETdaXSukf9ORIc4r4tVxyPhcSV7h2iWjeq3QIc9nKlZdk+VsZOcVd/ocp2JGLXJZ1D8ZO+ucyNpt/MPXLX9vO8FOFpn2vPDp1Vi9bE+1Xy/6p9rnSuICbPpeporPm76XYSVxgelXpqCgvX/FqUFhdHMueLLpFBzzgS7qeeT48tdXpXJAV5/xbDsSzeuFnWqfqte7ar8IgiCtggI0giDt4F9rmvYfa5r272ma9pomFqCTOzZ/a/v72Z2/v2/5GxGg7UUHj2tVsboVUIBGkCaQjRoW2c2GqtHMj0b5aTUyodO1IoJblWe1IoS0TTD5t2wRQoDmhGQVGziZeRTZiCLCP5t4D1IxAzKh08I5Fl1P2fFb517kV3atLAQOQSHqh9WZoHAcMj7L2Yh030oZfuReaW4c1tbW4NEk/8cC8rnIr6wd+VzGrlQqKfveem0ni4rvVzt8ejVWL9tT7deL/qn2WYj6IX3tnEOE3vS9DOlr52qFBGl+idjLilSmicH5SB/3nNlQtZhrsyk45keOcednQT8mVThR9Ezz0k61T9XrXbVfBEGQVkEBGkGQdvOaxheg/2zn8y80Tfsnts9+olWLC/5e07R/uvM3TMGBIB2GbN5kkd2c0Q/xeBwWx3q5dvMjx2ubXNVFCAluK7ur2MDJzKNI6C5ODXLbyOo9DXPNOnJ6N9MHbS5E47dfY1VrhdVPq52Mz+3NF8K2SN+sEd3UuTPfkRrr4ocXldrJ+i3c/EDp99ZrO1lk2vPCp1dj9bI91X696J9qn4WJi5CMGpC4EYH7w4cgf+l1uD98CBI7bzQUJi4y/WaD3dxI5WzQeW9bMo9zz5nV+2o/ZrGer7wfu0QR0AuBQ9y2F8xqzmtRnQcv7VT7VL3eVftFEARpFRSgEQRpN69pfAH63+58fonxOYmO/kvL3z7RNG3QZreiYRFCBPEEVVE71chmXSqq1bqB4tmSzbRsEcJmUbGBk51HXqFCmTm2zyHteDJ5gVsM0e34SRS0qghoN9G+sj6fTF4Q2lUqFciNnlPSt9LcOKRSKaV25XJZGHntdcRyJ0cFYwT07rSn2u9+iYCWiQim+Z0N8c8lbxdZj8UxftqOOaMfEjGTm8JheuwS4zMDJiMB7rmPx05y5w8joFtf7xgBjSBIp4ECNIIg7eY1jS9Av7Pz+d8zPv/Vzuf/j+Vvf6Vp2g9aVbz+l5qmvatVI6VfkezTfcbxexSgEYQNq8CePc/gxPUwzIbOwJzRD1m9p5bL0R69a7ebHrvkKgc02UDxNk5uixA2i4oNnGwaj2oO50GYD3TB/MgxmA90wa3xS9WCdZsvuNeC5MQW5R1eX7rNLYYoGr/VbyZ0GgoT1dzUdr9Wu5zRw8xJKTsOmh1trMQup3dDKWPW8v/aRXer3erHIZiepM+d1W425Gfmnrb7XX/+G5iejCuzo+UxbmaOO9GO9X1wfI8Y9ykZv62k0qH5pbUnc83a4Vfl3LnpnwytXDOv+qfaJ4mAZhUFfGieZPqdC/ZIFSG0rr38eHftHkqLQL43fBjuDR/mitT3h950FriLVdNbZUKnueeuzjiL49VtdHix9ggAxHmMvbQT2TwePyWVK3p1JtDy/SIRNeBuoAvujhyFfKSvZb8qvz8IgiAEFKARBGk3r2l8AXpw5/N/y/i8e+fzt2x//xtN077UNG1Lq97E7EUJeaAAjSAu4eVFLmcjtY0mfcOp14TLSjELyajOtLs9NgAryStUf/a8ztJFCD+8oUyIYaFqA8eLbiZ+WDmvSU7rJ5PnOdfCgI/NagQv9fOYAevLM67HYh0/q93fPZiCfNQPn468xVwD1lzbZA3wRIy6P9aaqtpZP2P5LS/8GjLRy1w72fbc+F0vzMGTTyaV2VWKWe7cyc5xJ9mxPqd9f3j2Mn6byQHPO8f6mVd+Vc6dm/7JoOKaedU/lT5FEdDzgS7mmsrpp4RFCO2fz+p9whQcJJ0PS6S+EzwJqbDzh8pyOlhLacQ6dyV5Bcpppwhdf3bpUE4HAQA62o5nU/3/cnat3C+yejel7eb9qvz+IAiCWEEBGkGQdvOa1poA3bPz+SHlPXOCKTgQhIIw73CiupHhva5rFS5Xb/NezTWglDZrfksZE+ZHjkNW72mIfHZbhHDq+qgyIYaFSDyWoVLMciOPS2mTKxqU0tUIqVvjl7hznIoMNYgDOb0bnkxeqOW+pp1HDlY0N+k7u3967RrKrhV+BFc9Gl60piZuRGA6MgSfx98V2k3ciOyIM7tjR8a7vfli5/qqsePNnewcd4KdbD522R+BZPy6yQEv49fNtVXtV+Xcuc2NL0LlNfOqf6p8FhMDtXsGLYqZ5HGmrSlREcIl/Yhj/mQKDNJSd1iPnH6KOTdfJN/nnrs6UxV5X6w9gqzeQ63fkIzqtSj3TrbbqjyD/Hg35PRuag2KBrtIH9OumfsF/9nn3q/K7w+CIIgdFKARBGk3r2nqU3C0CxSgEYSCSJAkaTBkc+2WMibXrpQxHb5ZG2vZIoSFqQ+UCjE0ROKxCBnfj0b5Oa8fjVaLConyGef0U8x+tpLPenVmhHuubH5kN7mgUzFDuKaWRrth6/tvleaWdmMnyhvdjvzInZ67+aDlW+7kvMyY47m1/qnyxROErfca+7yIihA+vOZ8bhBxmfXsnA35paKkWXOzpB/mnpsP9wBAZ+d4bocd5nlGEOQggwI0giDt5jVNfRHCdoECNIJQEAmSxalBSEaN2uu6rIMIl8WpQWF7sr5lihC62Vw1u0lTkYJDxvfiWC/XZnGsV2reaNeK9LOVCGjy2rXIr+xaEY0jp3dDpZiVGm8qlYLlBL1oltv+ubGT8Ss7Xjd2Ktvy0k4W9Nt8e6r7ptpvp/dPBdX8/awIaL3hR1X7vIiKED4yTzj6LpuCQxQlzZqb+yNd3HMXzOqPpaJn+H6zU73mVftFEARpJyhAIwjSbl7T+AL0n+98/oWmaf/E9tlPtGpxwQ1N0/5pm/pnBQVoBKEgEiRLGRMy5lnI6j1cO7cROzK+RW3F4+5yMDe7SVMRXSTjWzZ6XBQBzYrcJdHhzeaAVhU5LBsFtvpxSMpONhJZdQR0YToA29vbnkQPd3pk80GLRMYI6Ob9dnr/VMDL7582zzYI0PZ5IWIyK31HPux8NsuIy+T+xoqS5t3/lvTD3HO9jkTGCOjd+Q4hCIJYQQEaQZB285rGF6A1rR7l/Le2v5/d+fv7bemZExSgEYQCicyibVpI3uF4XD6vL8l1yWqvmBiQ9r1VecYUS+PxOCRjIVc5mJvdpKmILpLxLZoPkseRn4vZcKQosffTbR5sa6oUGb88O3tOV9b1TUYNmJ6MQ6VSEdrJ+JW2ixlQeroCKysrUHq64sj77XYc7bLzwmc77GRBv823p7pvqv12ev9UIEo3RcRe2ryIxOTi1KBjHDLiMv9+qUMqPMS8l345fUWYmxhAlOd//9mpXvOq/SIIgrQTFKARBGkH/6OmacM7x02tKiI/sfzttM3+zzVNe75jd13TtF5N027v/Luoado/b3uPq6AAjRxotje+g7Vs2JEn2R6ZNXE9DLOhM5DTu2E+cBQK8fO1jYx1E2y1IwXuAMS5Lq0iLy8qLGOehe3NF1SxdPL6OBSTl+tjYIzNMQdNbtJURBfZfZP5mzP6IWf01DaS9mKHE9fDkNV7YTl2FsrZSO0HAd4cy/Rz65uvIB/1w4Lpg0LUX/NPm09SiJK3Bu6MnGgQvqt2Onet2MdLay+VSsH29nbDOuD5zadjVLvCh+/C9GRcOA5a/2jtdYKd/bthXys0O6/GYP2e8X404n2XD7LfVttrtviqDF7Nner+tdPv4ij/DaL5kWPMeSHFAFliciljOuY5O9LNFS4TMRMmrodhfthZwDAZNeDu8GHuM2YleQXK6SDlXB0ejbzZ8DzZ73bF8VMtr/lE1IC7gS64O3IUls23W/arei0jCILIgAI0giDt4G2tKh6zji8p57ysadqQpmlfaZr2g6Zpq5qmvatp2n/Q9t7WQQEaObDwNibWyKxPAseoGx2rqMmyI+3xc102iryiqDAimPKqt7uO5mVs5srpIHP+VEUXEbGVtrEnfbYWO5wPHOVeD9q8TV4fF/aTN2e0z2TXgFUAT8UMWF+6DU8mzzPXCqH0dIXbXrlcrl2Hx7HTXL/lchm2N19Q/SZjBjz5ZBJWVlagXC7D1vffSvWP1V4n2JHvRj7SL7Tzagys7y7t+yH6Lh9Ev6rac9OWLF7Nner+tdvvfKCLel+mfW7v3+pMQPiWEhkHmedM6DRXQP40eBhu7tzXU2Fncd3P4+ekns1blWfwKHgIcnp3w+f2Z+p+sls2jzvsWlnzxXGf8L9J3PhVvZYRBEFkQQEaQRCkDgrQyIFEJJ6S6FbR67iy6RW2Ks+EUc2EVlNbuBWGiT1tUy0Sku2RyUTQdBNdVClm4db4JXZkWsyA6ciQxPVgp9ko3rwsFKFYczYdGWKmnJBdA8moDqW06SpNRPHRp/y0LY8+rfWd3b9qyo7t7e2OTzvhhZ1XfZMF/XZWeyp9epUeoJP85oI+7j0uF/Qx+1dIDHDF5MJOWiurX1JAkCUg5/Ru4TMmFb7K+EyHjedPAaDzU2Jgig0EQZDdAwVoBEEOOj/RNO2nO8fiq6++6vV9GUF2HdlCf6KCa6QIobAw2057osgpmb7ZU1vYX6UuZUZdnd9KKg1rZLI1UkxWgCYbSFUF8Gifk40oL70Gbw5EPnOG5BpwWZyvMB0Qtidz/Z7MyBUt9Lrw3kEqWigL+u2s9lT6PAhFBkV+5wNdXBGZFiFN+rekH4F4nP1MXdKPOPzOhvjF62ZDfuF9/M7ICbbovUeKAmKRQQRBkN0DBWgEQQ46b2uW9CAvvfSS1/dlBNl1RFHGhUQ1Vy+JmGIdWaO3mhZi5BjXbsH0cT+3RjW7ieph5YKW9SUzF6yIaxXRR2QDKZpn8rnILqd3O/rBSqFhjYDmzYHIZ3FqEMrZiPAazxn9kEqlYDlxSWq+i8nLfL/Jy66uH9o57bzqmyzot7PaU+nTi751mt9ssJubmiob7Gb274FxnBup/MA47vA7q/dxz5nV+6SeRSzRe8H0AQAInwX7zU71mlftF0EQxEtQgEYQ5KCDEdDIgUcmAvr22EAtwpl1yEbmiiJ67JE6Mjk6t775Cqau86OdZXw1G0WkIvqIbCBVRUCvzow4opxlhPJWIqBLc+OwtrYGjyb5m2HSTm70nNS8dXLk8H6xwwjovenXq/ZU+uykSGSv/M6G/NwIaFrEMulfPtLHPTcf6XP4nTP6uecQQZk3P7zPvY5Exgjo3VnLCIIgbkABGkEQpA7mgEYOJKIcg4X4eYjH45CImVw7NzmgeZFXtGhhUZHBqZh78ZmXA1rWnqAi+ohsILl5N13kgCZ21v6LIonJ3DaVAzpWzbEs0zfZtbIXcifvFzvMAb03/XrVnkqfnZSLWYnfrd8DPBwF+MgP8HAM4IcNoV8SkcyKgJ7V+5j9I0UIWeeuzgQcfol4zIpgzuo9wmf+9Nj7zM+8zsWMOaB35zuEIAjiBhSgEQRB6qAAjRxIytkIv4CRJQKHbqfDJyNvN/y9akev7r69+UK6CKEI3qbLethTcdgryFtpppigiugj61io80xJocGyy5hnpebBfhChnBd1TvssGTMgE20Ut3lryvq3fDomjHAX9Qnt1Nh51TdZ0G9ntafSpxd9a4vf8j0A/88Ajv9J/fD/rPp3jt+s0cu9Z2aNXmb/VpJXuOdafwAlfnk//t2MGnDsvUuQNXr4/20Q6XE852nP1nI6eKDsVK951X4RBEG8AgVoBEGQOihAI/sae4E+IvSS6F0SCZUNdsN8oKuW0zkfP9+w+bHa3Rs+DA9NH2RCpyERMxsiqci/F8d6G/xZI31FRQhFiIRfcmSMdxy+WFFBzRQTbCb6iHY9rBtIMj93Rk7A8rW3a/mV7UUE8+EeWJ0J1gsvpk2pOaEdZO63N76DUsaExbFeeDTqg1LabBgDiUgvJt6HQtQPi9fPN1xD2lqxrimrXblcdrRnHat9ntGuvXbt8kl7e4EG6z510P161Z4MXs2d6v617PeHDaf4vHNsd/8L2P7u31H9FhPvw8Phn3Ofi0v6Eeb8lTIm99zVmSDV7+Nxp4B8M6rD66feh/TKv4Pi1CC33ZXkFdiqPINC1A8Lxgl4OPxzeKAfdxS2BYD9Zxc6CUv6EShMXFSy5gsfnocl/QgshJyFgZvxq/o7hCAIogIUoBEEQeqgAI3sW3iRMVYRlxXhnNW7hRHOtOhWskm1orJYjqgt0i+7MGoXXAmtvMbqJnKadz2s4vJj86izzagzwtka5SSaE1YUNBkfNcI5asB6YU44Btoa4EXQpVIp2N7eFs6J7NyhXWdGQsuCfjurPZU+902EM4+HY1TxmRyLV/+OOS+kCCHrGfYo4meOo5Q2uefmgiepfjPmWUiFG39sTYavwukrBgC4yGfc4RHJGOGMIAjSGaAAjSAIUgcFaGRfIhJVSU5mUd5eEtFc3SizchI6xV67yNtMugpWBJuoranYKFUUJ4dd7G4llYZs5DTvelhzN8vmUbZeSxL9xBtD8eZl5iZW1Lf157+RGoNMjmfZ9qzCP9q1367Tcx4fNL9etafSp1f5aXfb74+3fFwBuvD+XzPnRVSEMKefYo6jODUoLCho9zsdGRLWYth4/pSbf3jj+dOOz8mMOZ4RBEE6BxSgEQRB6qAAjexLRIJkKWNCxjwLWb2Ha0eKFpH/FdlZN7JW3G6keFE/vLYmY6OQiPHTUdgF5Wajs92MSXQ9mpln63hkRUbaa7qivuVGz8H29rayMdQi6GQj7dCu7XaqfcqCfjurPZU+veibF36/Dr8hFKBZ8+K2CKH1yEeqn7FSZcyG/A6/MvfmQpQvihei/oYaEbSjEPUDAOwbO9VrXrVfBEGQTgYFaARBkDooQCP7EpGoujhWLW5kLXJEO+aM/ob/FdnxigrKvkoqI6bSX1+lpwOhnW+l2U2em/NE18PtPFsPmSKCAADb29uwtrYGKysr1RzMO2kwZPpWLpelx5Az3+Hakf7KCv9o13471T5lQb+d1Z5Kn170zQu/K4kLsOl7mSo+b/pehjvBk8x5cVOE0H4smce50cxEvLb6FT1fVpJXYMH0QTzOFrYXTF/NhnUsmD4AgH1jp3rNq/aLIAjSyaAAjSAIUgcFaGRfIhJHH41WN0CiiCgSIS2yuzt8RKqooEyxHJno7VSMHjVmtbPnPWblZm72NVc3m8N2R0ATtr7/FvKpYViInYfCdAC2vv8WAAAqlQqkUqnGsaVSUKlUpPq2srIiXlOTV6BcLkNpjp5v2t7fTo4IPmh2nR4RfND8etWeSp8HJQK6EPVD+to5hwi96XsZ0tfOwXygizkv5DPWs4x8TjsWx/jiNRGbm4mA5tlgBHTrax4joBEEOUigAI0gyEHnJ5qm/XTnWHz11Ve9vi8jiHJEOQZXbwdqG9925IBuJTJHNnpbdGT1bmFuZkIzhX7cbA5V5U9m5YAGYIvM6+vrjr9bP9/6/luhz3K53NE5jNGuNbtOz4l80Px61Z5KnwclB3Rh4mL1WXkjAveHD0H+0utwf/gQJHbu5bmgjzkvoiKEuZETzHGUMtVUUyzxOhM67fB7a/ySMPewTH7iTs/ZjDmgEQRBOgcUoBEEOei8rWkakOOll17y+r6MIMopZyPc6KjVmXoKC7qd7khnwWvPvjlqJTJHNnqbdySjukOsFW3atr75CvJRPyyYPihE/bVNIAsVea2TsWrKEpl5ttvZ02uwROapqSnuXJXLZVgvzDGvbSqVqqXrkBXq0W7v2an2KQv67az2VPr0om+77VeUM/ne8GHmvIiKEH428S5zHCIR89b4JYffzycvcP3VInmpKa50KKeDtbZkbPaTneo1r9ovgiBIp4ICNIIgBx2MgEb2Ddsb38FaNuxIaUGiiEl0VDbYDfOBLsgavZAJnYaH13wNG1Fid2fkBNwbOgQL+lFqWgtitzjaA1m9hyry0ooQuhqTQNgtpflFBqeuj3JzQdPE8WY3edbzJq6HYTZ0BnJ6NzyZvECdg+3NF7CWDsGj0VOwONYLpYwJ60u3Hb6nI0PwZPJCw3VlpdcAACiXy9w5sfbPHim3srICAADrz38DudFzDWslN3oO1p//RjgG2bGiXWfbkRQ5xcT7UIj6oTg1SE2VI5NKp2bLuEc1O4b94ter9mQR+W3HWlHVt930SyKgWYUEPw29zezf43Ef99xS2mSuUdGPzPlIn8NvLjrQ8Bx3PAssby5tVZ5Bfrwb7gcOw4PhX8Dj8VOOH2W3Ks+gEPXDgnECHg7/HB7ox6k/3rqxE/lsm12kFx4Eu+DTkcOwOhNo+X5Ruj0MD0fegvvBo5CP9LXsV/VaRhAE2S1QgEYQBKmDOaCRPQtPNLVGEfMinK0b0U8Cx6QK+yWjBmxVnkHGPMuM1GVtkGSEAwB+dBBPoJ6MjcLN8BBXiLWnB2n1Ndetb76CZfOoo79uoqPWl2e4G0xeDmcAgJWVFe6YuVFv5XLNDy0Sut2Rsmi3N+1k6PQo406PRu70COJOjr7eLb/L5tvc++t8oIs5dzm9m3vuSvIK22+s+kYMS0yeM/ob35L58R/h4sB73OeE9cdZLyKNMboZo5sRBNl/oACNIAhSBwVoZE8iEk03nj+tpaGQySksa0cEZhKFzNr8thJlTMZGa5sIwpViFpIx+qadt8Gm9a2VQj+VYhamI0PMubMK2LxrlowZsPqkWC32Vy7XUl4A8NNrkPQYxt8/1wAAIABJREFUvAho0bUlkdRe5ApGu71pJ4MXPveCX6/aU+3Xi/514pzkRk5wo5izwW7m3M2G/LV7NO05ujoTZPvVT1H/Tg7SNvF7faEMr3WNcNN2bDx/CgDe5FrG/M67s5YRBEF2GxSgEQRB6qAAjexJRKIpyUuZ1Xu4dpnQ6Yb/ZR13h480bIxFeZhbiTKWEYQrxSzcjASpm3beQdvYiYoesgoqkjGJ5q6WV1MwLms71uhmUXoNIlizROrc6Dkl/StnI9JiPdrtbzsZvPC5F/x61Z5qv170rxPnJBM6zY1itt7X7XM3q/dxfxzMh9nPb9G5s3pf7d+luXF47Z0ZuD5wlNvXQtQPANW81rx5boedFz7drClZO9V+EQRB9jooQCMIgtRBARrZk4hE0wWzKhBnjV6uXU6vRmfNGf1cO/vni2P8dluJMhaNrTg1yBSzrcfk9fGGf7NebW12I0jOE80dEbBF47K3Q6KbRek1SA5nVpqO5cQlJf1bSV6RFuvRbn/byeCFz73g16v2VPv1on+dOCeJmFl728gZAa1DImYy527O6OcKwuQ5TjtE51qfJ+nxi/DKmxPw0ZVjEI+zI64XTB8AANdvu+y88OlmTcnaqfaLIAiy10EBGkEQpA4K0MieRCYCOh4XRzbPhvyQCZ2Gu8NHuHb2dkoZ09Xro242W7JjEx1ffhSEfNQPC6aPWvCI0OyrsGRM7YiArp1bLktFQNfGspOOw5rKQ2WEV6dH5qLd7tjJ0OmRyJ0esdyJ0b7tnD+VfdtNvy1FQAtScOQjfVy/vHOtft/91bvwypsTcH3gKHf+MAK69fWOEdAIgiCNoACNIAhSBwVoZE8iyjNYzQFtKM8BTf5N8jDLFtBxs9kSCcLFhDjPczJqwHRkSKpvAM0VAyJj4s2ddA5o2xyTY2VlRSoHNA+VOS47PTcx2u2OnQydnou503M2d2K+Y8wB7fRL3iLiFQNkzZ0ojcbqTIDpdzoy5KiDYD3XWrfhL96KwitvTsB/fzLiSZ5lzAHdvF8EQZC9DgrQCIIgdVCARvYk5WyEG3VVypiQMc/W/u200x0F+2TsSBFC66asnI3ASvIKlLMR5qbJ7WaLWmRwRxAWidlT10chY551vbHb+uYrqYhp2pioc0cRsGlCN694IoluZqXXIHmiRcgK7DJ2KttCu71rJ4MXPveCX6/aU+3Xi/512px8NvEu93k0G/Iz5+6Ofor7HC9ODXLHSy/GW39mJ2MG/N3py/DKmxPwypsT8EH6CZTTQYdAmozqUE4HG/rnhZ1XfVO93lX7RRAE2cugAI0gCFIHBWhkT0LSP7CirkiOZvJ5NtgN84EuyBq9kAmdhtWZADXyauJGBLJ6DyyO9kAmdBoSMZPafjOvh8puygCqG7PpyFCD7+nIEFSKWa6YPRkbhS+m+ek+aH1vdiNoPY/MdU7vhieTF7hiPBHtS3PjMD1J76c9upmWXsMNbn4sENmpbAvt9q6dDF743At+vWpPtV8v+tdJc1JKm8JCgqz+kRQbrOc4SdfAGi/tOZkKX4V8pB/K2Qh8cGuxJj7/l93TsPlD9ZmxVXkGBYkfW72w86pvqte7ar8IgiB7FRSgEQRB6qAAjexJRFHAj0b5hXCKU4O1CGn7hjljnhWmuXBbIIeIxrSNtj0qWSZamh75VY0asxcfFPW91VdhW91AthrdjCAIgnhDcWpQGMXMPDfhPM96fjExwDxX9NyqVL6B//REsiZAB3NftmP4CIIgCMIFBWgEQQ46P9E07ac7x+Krr77q9X0ZQVwjyjO4ejvAFWFJoRxe5JVMFPH2xnewlg0LxVc3OaBlbCvFLKRskV+0HMoyEdCtFgPa3t6GtbW1piOTSRutRDcjCIIgu4/Ms5RFKWMKU2mxED23EqNXauLzf933a9j644/tGD6CIAiCcEEBGkGQg87bmqYBOV566SWv78sI4hpRDujVGWe6C6tAXYifF0ZIy0Qhy6atIClDZKKSRba8vokOWkSzm77ZwehlBEGQg0th4iI3irkwcZF5LknfQROvk1EDSmm2AC16bo0M+GsC9Pi9tXYMHUEQBEGEoACNIMhBByOgkT2PTA5onkAtE+HME5jdpq1QGQEt6js57Kk4WOJ4sxHQ29vbDvHZKkJjFDOCIMj+phD1C5+1LFaSV7jn8n78FD23us+cgVfenIB/fXoG/riN0c8IgiCIN6AAjSAIUgdzQCN7Etkc0CyBujg1yI3aIgIyK7+xW9HWjWAtshXlpybHlx8FIS9ZBKiZHNDlcpk/B+WyikuNIAiCdCgkjzMripmXx5k8R1nPaV76J1Earv/iyDV45c0JuPHpb9oxbARBEASRAgVoBEGQOihAI3uS7c0XXAG5lDa54mgpY3KLEIoK6TWTtoJaOJARlcyzFYnfZBzTkSGpCGjiTzadSG0OVlb4c7CyIriKCIIgyF6mlTzOIhGZ9aMpgDgNV/eZM/Df9P8ao58RBEEQT0EBGkEQpA4K0EhHIFvMj9gVpwZhPnAUUuEhx+YzY56Fja+eQFbvpRboswrUzUReATSXtqJSzMK0rXDgdGSIKUCzbHkRy1WhOgQZ86zriOat77+FfGoYFmLnIT/1Aax+HOJej3K5DBPXwzAbOkOd53ZFQLtdK2h3cO1k25JF9Rj2i1+v2lPp04u+7QW/Iju3eZyt7YnSd+SjfqZfURquqxf6YWj2ac1+65vfQj7az30jSMZmL9ipXvOq/SIIghwkUIBGEASpgwI04jmy0bc0u2RUh08Cxxo2n9UNrU7d0BKBWpTGgpd7EsB92gqVKThYBRAnr4/D4lgPrM4E3YvjlmKCNEGAdj3WC3NM4aBdOaBbWStod7Dsmonq56F6DPvFr1ftqfTpRd/2gl8Zu+LUIFdELk4NMtubM/ohHmeLyORzml/Rj8Cn3/0lfP+HP1Zt086ixMmoDuV0sN6ehM1esFO95lX7RRAEOWigAI0gCFIHBWjEU2SFWZ4dib4iG1l2ag4dErFq5LNMEUIAfkSPm5QaKosQEtutb76CR9d8kDV6Gzbt9uKD9sMurluLCfLmz831WH+uPu+mirWCdgfDrtm85ru19vaLX6/aU+nTi77tBb+ydvlIH8TjbBE5H+ljtjcb4j+H7Z9b/W48f8pN33Hx+m0AkEvzIZsKpNPtVF9b1X4RBEEOIihAIwiC1EEBGvEUWbFVZJcJnW74X5FdcWpQuGESRfS4SanhJme0jC1N/JY97BHQ1mKCovmTvR6iFCZerhW02/92qten6jHsF79etafSpxd92wt+Ze0eXvNx6zE8vOZjtjer93HPndX7mH5F6TsehftqdrxxFKJ+KRvZtry0U31tVftFEAQ5iKAAjSAIUgcFaMRTZIVZkR15Vdf6yi7PrpyNcAVmUUTPVuWZq4gflRHQpYzJ9C06aH2zFhMUzZ/s9RClMPFyraDd/rdTvT5Vj2G/+PWqPZU+vejbXvAra/fIPMEXgs0TzPbmjH7uubTnEfG7YPogHmdHXi+YvgY71rFg+qRsZNvy0k71tVXtF0EQ5CCCAjSCIEgdFKART1EdAZ3Ve4R2yWjjq6jlbMSRYkPkTzaFB0FlDmhSQFF02FNxsPIxYgQ02u03u4MWidzpEcv74X7hVf9202/iehi+Dr8B8JEfvg6/AYkbbFvSv3y4h1uEMB/uYfolKTZYIjItRYfb6FyMgG5+zWMENIIgSOugAI0gCFIHBWjEU1TkGExGdcgGuyETOg2JmMl9pTcVHoKMeVaYk1AU0SOKDKJF/LjJGc2Lzhb1jRxfpk3Ip4ZhIXYeCtMB2Pr+W+pYVeeA3is5XdFu/9odtFzMnZ6zeT/cL7zq3275TV87B3/w/SnA8T+pHX/w/Smkr53j9q+QGOBGMRcSA0y/blNwNJOfGHNAN7/mMQc0giBI66AAjSAIUgcFaMRTytkId/NqjZyhibLEzvq3anvOqu2fBI7VIqtEETmqI6BJ/2VzRgNUiwzmo35YMH1QiPprmz1R3+LxqrA9PWnbCKZSUKlUqL4qlUpNhKZdD1r0tBdV72V9oh3aqV6fqsewX/x61Z5Kn170rZP8Jm5EHOKzVYS2RkLb+0eehawoZhIlS/PrJgUHbV7K6SD1WV9OB13bqWzLSzvVa161XwRBkIMGCtAIgiB1UIBGPIVE87I2r/ZIYpIyozg1CFm9p2Zn37wW4uep7ZFDlJNQdQ5otxFCzeanjsfjkIyFIBO9TPeVSsH29jZ9zNvbUC6XYWVlBUpPV6A0N+5ITUKbJ1oKk3Yi6xPt0E71+lQ9hv3i16v2VPr0om+d4vfr8BtU8ZkcX4ffYPavmHAKyNZncXEnAprmV0a8Fs3LpYk7cH3gKHx05Rjc/OA4/OGbr6h2W5VnUKD8oOvWZi/YqV7zqv0iCIIcJFCARhDkoPMTTdN+unMsvvrqq17fl5EDTLO5A7c3X0DGPEuNnMqYZ4V5kkm72xvfwVo2TN0wiSJ/3KTUcDNOGbGaJlBPXh+HxQ8vwOrnBb6vclnlJUQQBEH2MD/e8nEF6B9v+ZjnljImN4q5lDGZ57aaumHzh234z33T8MqbE/DKmxMQfbDW9BwgCIIgSDtAARpBkIPO25qmATleeuklr+/LyAFGNsegHSLosiKnShmzKRHXHmVMa996vmxKDTdV4mXF6u3NF/BkJgQ5852GsU9OTvJ9ray052IiCIIgew6ZCGgWpbTJLUJYSrMFaAB3P+TauTa/WhOf/6vuW/DD9o+ux44gCIIg7QQFaARBDjoYAY10DG5yQFuREXSbTWORihnCCGoZgds+TtkIaFmxemtrC6ampri2GAGNIAiC8FhJXIBN38tU8XnT9zKsJC6wz01e4T7DRemu3NZGIPz44z/CX575qCZAv//R502NHUEQBEHaCQrQCIIgdTAHNOIpbnNAE9xECdNyEorOfzTq436+ONYrLSiTfsgK1jJjq1QqTYnPvBzQCIIgyMGjEPVD+to5hwi96XsZ0tfONRQStFPKmNxneLtScNzOP6+Jz//JsZvwD5s/tDQHCIIgCNIOUIBGEASpgwI04imt5IDmFT4S5Y4URRmLBGaRQE0TzmWrxAsLIH7/LaRSKaHYbE/FkUqloFKpNH+xEARBkH1HYeIiJKMGJG5E4P7wIchfeh3uDx+CxE4ajcLERea5JAUH61nMS8HR7PMfAOB/vZSrCdC++HJL40cQBEGQdoECNIIgSB0UoBFPaVZIFhUhFAnQoo2vKMWGbJFDO1vffAV5iWryPLG6XC5LRTuXSiUol8uwsrIC5XIZI58RBEEQB4Won5tGgxcB3UoKDje1Eawslb+tic9/9lYCypWNlucAQRAEQdoBCtAIgiB1UIBGPKVZIVlUhJAXOUX8yhQpZBVHaubVYdkIaGsfaelDVlZWhOIzptpAEARBZCAR0KxCgtwI6BZScDQbAf3/mg9qAvTfhh60PH4EQRAEaRcoQCMIgtRBARrxlGaFZNnIqe2N72AtG3aIuAAA5XQQklHdJnzrUE4HAUBcHIknUNtpRrDe3t6GtbU1RwSzKAJ6amoKU20gCIIgUrQSAd1KCo6tyjPHM9j6LKa9IVSubMCfvZWoCdCLa98qmQMEQRAEaQcoQCMIgtRBARrxlGZfwZUq1MeJOCaCME34TsUM2Ko8k4qQ5gnUbvtrpVKpOPI8kxzO29vbzBzQU1NTsLW11ZZrhSAIguw/iokBbgR0MTHAPLeVFBzlbIR7Lu0H6FMTyzXx+a8u0d8eQhAEQZBOAQVoBEGQOihAI0rhRRzT7BbHehsinu3HWjpEbU9YqE8gIItyOBeifu7nohzR9nG7Edp5AjNJrcETqJu9FiI71aju336w6+S+7QU7WTrZr1dj9ao91X47vX9e+BTZuRWCre3lI30Qj7PfYspHepl+yXORda5dvP7dVyWIDxyFj64cg+sDR2Hm/iPqeLe++S3ko/3CWgudbqfyfqHSJ4IgCCIPCtAIgiB1UIBGlCGb4/j/b+/ug+S6zvtAn3irttZxmKrE2aqFKgpty0rirNfBJqs4X+sdl7NJOYnj1Jbt9W5ls6nEqSRrO7uJHZMyTQk2LFIcgYhiyoREGwIpfAwJcYakCJDshkRSGHJkWSRBQrQw05IoEmgSoGSiKYICOGRjzv4xM33no7+m+/ac293PU3VLIubMPW/39O2e/s3p9zQbt/pGd+2/nZy6dVOLi7Xna7tRX4cVx8/fs7vt109Ntf/66aM3b2lF81ZWQHdqsVGtVmOMy0F1q00G+/lZtOtLnZe86xuFcUWubRjGdavI86a6ranOl/e8Ra8vxZzdjFtthdF8BfT6Vhgbz/fEoQ+3bcHxxKEPt5x3S6+LHVpmjdq4PJ8v8pwTgK0RQANkBNDkotsex+3GrX4E+MEHH4zlew+07A258XxNN+rrsOK4U4DcaQV0pwB748qtrfSA7rTJYKVSGfjPolVf6jzkXd8ojCtybcMwLtVjL895U93WVOfLe96i15dizm7HnZ2darsCenUjwWbne/LwLW2/98nDt7Sc9/KrL7TtAX351RdijN33ih6VcXk+X+Q5JwBbJ4AGyAigyUW3K5k6jfvSnTfE2SN74hNH2gfArTYn7LaeTi00+m3h0ay+rlcrdbkCetA/i073ca/yrm8UxhW5tmEYl+qxl+e8qW5rqvPlPW/R60sxZ7fjTt9zU3zwwdatME7fc1PL862+Vrf63mav5avzdrv5Yac/CI/auDyfL/KcE4CtE0ADZATQ5KLbHsedxq2ultq4aqrV+VrpZjVPbWFuU4uP0ppAuN3Xe10t1GrF9roxXfSA3o6fRaf7uFd51zcK44pc2zCMS/XYy3PeVLc11fnynrfo9aWYs9txpz91fdtxpz91fcvzbaUFx8Z5V1tdtQqvT03tXjeu1TFq4/J8vshzTgC2TgANkBFAk4u8VmTNHtmz7n87na9tTR36HtYW5uKJ6QPr3viemD6wLoDu9PWt9kus1+vx3LlzTfs2r9XNJoOD/lmkXjE4TuOKXNswjEv12Mtz3qKvWB6V54tU9aWYs9txz929u22I/Nzdu1ueb6stONbO2+3q3Ofv3RxiNxtX9JXNVkADjB8BNEBGAE0u8ugz2FMP6BY7tq/O02xlVTctNjp9vdFf8eL5eGZmsuPO8jFuPVRut8lgO6PSM3WcxhW5tmEYl+qxl+e8Re/ZPCrPF6nqSzFnt+Neeuxg2xD5pccOtjzfVltw9NKf+I7jf1Dons16QAPQigAaICOAJhfVuem2b2DXrp5ptnK4NHMofvGuD6x787p8vkOb3gh1swK502qeblYFtft6dW56Syug+22rsVXd1pZq1/u86xuFcUWubRjGdavI86a6ranOl/e8Ra8vxZzdjDt7cqrxB+CNIXJpZnnPg1bn20oLjmb1dfqk0tWrS/Hv3vK5uGfPTW3HdXu+YRmX5/NFnnMCsDUCaGDcXRNCeNfKcXrnzp2pn5cZAav9A1utgtrYP3C1F/Kpqd3rxm08Fo7va9ozudNqnYXj+5p+bfXopi9iu68vPHzHllYL9buxYC+66Te9lXFFr28UxhW5tmEY160iz5vqtqY6X97zFr2+FHN2Grfw8B1t/4C88PAdLc93+ujNbb/39NGbO9a3WLsQ51t8kuiJr34rXnvdsXjtdcfiT+y6N35l+paOnzhqd75hGpfn80WecwLQPQE0MO52hRDi6rFjx47Uz8uMgF77Bw7q+/pd4ZzHCum1KpVK2/GVSiX3nwkAdLL6etbqD8irfYKbWX0tbvW9/fYO/qUjzzQC6A8+8Hxf5wKA7SaABsadFdDkrts+gxv12new047tnVYo99sDutMK640rvlOsgAaAThaOb17BvHYl88LxfS2/t9fX/m5cfHMxvvfXH2oE0F955ds9nwsAUhBAA2T0gCYXW+kBvel7u+xPuHG+TiuQawtzsbSx1/SGHtKdvt5rj+mNt3e7e0ADQDfOzk61ff0+OzvV8nv7ee3vZP/sC43w+Z987ImezwMAqQigATICaHKx1R7Qq1ZXQDf7vnYroLtZOV1bmIsnpg+sO++J6QPrAuZ2X48xxsWL5+OZJn0Te1m5XavVNoXQ5XI51mq1fu9+AOjJVjYh3KjX1/5OlpaW4t/f+/lGAH3kiy/1evMAIBkBNEBGAE0utrsHdIztV053Cog7tdhYDbDb7Qjfy47x9Xo9VqvVWKlUYrVatfIZgKS2ugnhWv28hrfzzEsXG+HzD934cLz01ju93jwASEYADZARQJOL+pVLbXtI9trLudeV02dPTrU9b6dNBM/OTnW1wtmO8QAMs342Iex1H4dOfu3TzzUC6P/06Wd7vWkAkJQAGiAjgCYX9SuX4uzU3qYrqGan9rZ8EzqoldPP37O77ddPTbX/+umjN3dVV71ej+fOnbOiGYCh1M8mhDF23k9hqy699U78oRsfbgTQT714safzAEBqAmiAjACaXKwGwq1WULUKkntdPdVp5XSnALnTCuhOAXaltF9PZwCGXj+bEMbY3X4KWzH1xZca4fPfu/XxuLS01NN5ACA1ATRARgBNLnptpRFjb72UO62A7tRCo1MP6E4tPM4++elN4fPaENpKaACGQT+bEA6iBcdPf+yJRgD9eye/3s9NA4CkBNAAGQE0ueh3I6Kt9lLu5k1vp48Ftwu+O53/7AuV9re3Ws3tvgWAQSnSJoRnzn+7ET6/99cfiq+9udjvzQOAZATQABkBNLlYrF2IpZlDTd+AlmYOxcXahdzn7CZg7vSx4MWL5+OZmcl4amp3nJ+ZXFdnu4C6UmkfQFcqldxvLwDkrZ9NCPv59FMzuz7zfCOA/sXDT/d70wAgKQE0QEYATS6qc9NtV1BtdRVUN9oFzN2ukO7U+qPVyuxqtWoFNABDr59NCM/OdmhX1aF/9FpX3q7Hv/qbpUYAPVv5Vh43DwCSEUADZATQ5GJ1FVSrFVSdVkHVL78Rz83dm1sLjo49nDv0iF6dv16vx3PnzsVKpRKr1Wqjt3O9XtcDGoCh188mhKv9o1uF1+36R2/0wLMvN8Lnv/Phz8WrV20+CMBwE0ADZATQbNJtGLx23PzMZCNsXnscu//e+MSRW+Ppoze3PNcgNiF8/p7dbb9++ujNHftW1mq1TSFzuVyOtVptue4OX89DLz+LbgL8ItaX9201bjjHdSPVdVH0eVOdL+95U9Q3KvdJL+PO3HtT200Iv3LvTS3PVyntbxteb/zj8+LFV+KZmVuatr36P3/vC9nmg8e+0HJcN+cqwri8f2Z5zwvA4AmgATICaNbpNgxuNq40cyg+enRf47+bvSlt1uKim5XIG3XqO9kpYO4UUC+Ufr+rFc71ej1Wq9VNK6RT/yw6BfhFqy/v22rccI7rRqrroujzpjpf3vOmqG9U7pNexz15+Ja2IfKTh29peb7VPwa3+vTT2vZb1ZMHN+0VUZo5FKsnD8YX//jNRvi8Z89NLcd1c661Uo3L+2eW97wAbA8BNEBGAE1Dt2Fwu3GlmUPx2APTjZVTnc7VaSVzq97Rnb6vU4uNTi065k/c1b6uAfd4zuNn0S7AL1J9ed9W44Zz3HY/7lI93gcxb6rz5T1vivpG5T7pZ9wTR9pvQrj69Wbnu/zqC203IL786gsxxs4bFd/2mbl47XXH4vtuuLvjhsbdbnqcalzeP7O85wVg+wigATICaBq6DYM7jfvDu34jfunOG7o6V6eVzK16R/e7yWCn7194/tn2dVUqQ/GzGMTmj3nXl/dtNW44x2334y7V430Q86Y6X97zpqhvVO6TfsY9cejDbfs4P3Howy3PNz8z2Xb19PzMZGNcu/qOfeID8drrjsX7993Ydtz8zGTHc3U756DG5f0zy3teALaPABogI4CmodswuNO4Jw/fsu4ju+3O1c8bptrCXCxtCJFLGz5qunjxfDwzM9m0Z2K7gLparbava8AroPP6WXTa/LEI9eV9W40bznHb/bhL9XgfxLypzpf3vCnqG5X7pJ9xW2nBsfF8p6aW21m1Wj19amr3unGtjsf3LwfQn//kB9uOOzW1u+O5up1zUOPy/pnlPS8A20cADZARQNOQ16qd2SN74uyRPV2dq5+PjNYW5uKJ6QPr3vSemD7QCKC76YVYv3IpVuemN23WU6/Xu+oBPShFXjGYd31FWglonBXQwzhvqvPlPa8V0Gmux6224Fh7vrxWD9+/78Z47XXH4uxd7cNWK6D7nxeA7SOABsgIoGnIo89gaebwlnpAx9j95jprdQquF2sXuuvBWK/Hc+fONd1EsFarbQqhy+VyrNVqA/oJdH/79IA2btTGbffjLtXjfRDzpjpf3vPqAZ3metxqC45e+hN3Gve+G+6O1153LH7tG9/QA7rH+1gPaIDiEUAD4+6aEMK7Vo7TO3fuTP28TEFU56bbfgx37eqZZquLSzOH4smpWxv/vXyuQ5veBG1cgVy+73DTlVft3jB1WunTacVQdW66q4C5Xq/HarXaNKAetG53s0+1632e9eV9W40bznHdSHVdFH3eVOfLe94U9Y3KfdLruK204Gh2vm7/iNxq3J49N8VrrzsW//dPzHV9vn7nHPS4vH9mec8LwPYQQAPjblcIIa4eO3bsSP28TEGs9g9s9THcjf0D17avODs7FU9MH9j0vcfvm4pfOHxTXHj4jnUtLlb1+pHRTr0OO/VMXCj9ftIWG91q1SKk13FFri/v22rccI7rRqrroujzpjpf3vOmqG9U7pNexp2Z/nDb1/4z0x/ueL7F2oU432K/hXbj/o///Jl47XXH4rXXHYszz5zb0vl6nXO7xuX9M8t7XgAGTwANjDsroGmqn/6BgwqSW22a0+8K6PkTd7Wvd8CbDAJAU4vfifG5e2J8fDLG547G+PblgU539uRU2xYcZ09ODWTer776RiN8/os3PBTffOudgcwDAKkIoAHq4NJ+AAAgAElEQVQyekDTUL9yqe2b0HaraAYVJLcKrjv1OuzUA3rh+Wfb11up5HKfAkDXqk/FOPmDMX7wT2fH5A8u//uAVEr727bgaPX63a+Pnqg0Auh/e3Bwtw8AUhFAA2QE0DTUr1yKs1N7m74JnZ3a2zaAHlSQ3G7OTr0O2329Wq1aAQ1Acbx9eXP4vDaEHtBK6LOzU21bcJydHcwK6P917+ONAPrB514eyBwAkJIAGiAjgKZhNURu9Sa0XQuOfoPk0sYNDbvcNGfx4vl4pk1PxFa9EOv1+lD0gAZgTDx3tHn4vHo8d3Qg06ZowbFwIWu/8Zd+46H4nUXtNwAYPQJogIwAmoZe22is6nX39drCXDwxfWBd6H1i+kBX39dpvnq9Hs+dOxcrlUqsVqvrguVarbYphC6Xy7FWq3VxbwFAfq5+dnfbAPrqZ3cPZN4ULTj2lhcaAfT/c+jp3M8PAEUggAbICKBp6GcTwlVb3X2915XT3XxfNwFzvV6P1Wq1aUANANvltXt/tW0A/dq9vzqQebe7BcfS0lL8iVuz9hvHT7+S6/kBoCgE0AAZATQNi7ULsTRzqMXHcA9tam+Rh15D707fd/bJT2uxAcDQqBz/3Xhl97ubhs9Xdr87Vo7/7kDm3e4WHPPns/Ybf/k3Ho6XF70eAzCaBNAAGQE0DdW56bYfw+1mBfRW9dr2o9P3nf7M7TYZBGBozM9MxpN3f3RTCH1l97vjybs/GudnJgcy73a34Li1NN8IoH/xsPYbAIwuATRARgBNw2qo2+pjuN28Ca1ffiOem7u36xYcg1oB/fxDHYLtSqWn+wgABmH+2O2xNHM4Hn9gOj595/XxzCf+ZXz6zuvj8QemY2nmcJw/dvtA5u1nA+KtWlpaij++57FGAP3wl7XfAGB0CaABMgJoGvrtAd3LJoSD6gF99oWKFdAADI35mcm2K5EHtQJ6O9tvfeWVbzfC5x+68eF45W3tNwAYXQJogIwAmob6lUtt+0C2W83ca5AcY2/Bdafvq9frekADMDRWV0A3W4k86BXQ29V+6yOPZO03fvnIM7mdFwCKSAANkBFA01C/cinOTu1t+iZ0dmpv2xC539XTixfPxzMzk/HU1O44PzPZ9Yqr+pVLsTo33bTlR61W2xRCl8vlWKvVurtDAGCbpFoBnUf7rW4sLS3FiY9k7Tceef58LucFgKISQANkBNA09NMHstfNBGPsfQV0jDHW6/V47ty5WKlUYrVa3bSyuV6vx2q12vLrAFAEC8f3tV0BvXB830Dm7fcPyN16/uXXG+HzX9F+A4AxIIAGyAigaegnRO71DWxfrTuscAZgRGxnK4y1+nkd3opbHj7TCKD/3yntNwAYfQJogIwAmoZ+VkH1+ga25+Baj2cARsjqPgytVkDnFQQ3U1uYi6UNr+GlLj+J1I2lpaX4Y5OPNgLo8h/lt7EhABSVABogI4CmoZ9NCGPs7Q1sr6uuq9Vq++C6Wu3rvgCA7dTPPgz9qi3MxRPTB9YF3yemD+QWQH+5mrXf+OEPPKL9BgBjQQANkBFA09Dvm99e3sD2ugK6Uqm0D64rlb7uCwDYTv3sw9CP7WjBcfNDWfuN/3D3qRyqBoDiE0ADZATQNPTz5rfXN7A9t+6wAhqAEbLw8B1tX9cWHr5jIPMOehPCpaWl+Hdv+VwjgP7sV7TfAGA8CKABMgJoGlJsQhjj8srpjSF0uUPrDj2gARgl8zOTbV9H52cmBzJvP6/93XjuXC1rv/HBR+Jb73h9BmA8CKABMgJoGvoJkft9A7t48Xw8MzMZT03tjvMzk3Gx1nmFVK1W2xRCl8vlWKvVtnzbASCl+WO3t92HYf7Y7QOZ9+zsVNvX77OzU32d/6bjX2kE0P/xnmdzqhoAik8ADZARQNPQzyaE270CulFzvR6r1WqsVCqxWq1a+QzAUJqfmYyPHt3XdB+GR4/uG9gK6LMnp9q+9p892XsAvbS0FP/2zVn7jUfPvJpj5QBQbAJogIwAekTVL78Rz83dGyul/bE6N926B/OacWdnp+IThyebvvl94vAt8ezsVMvzbXcP6GHSy8+i3bii1zdO44pcW8px3RqneVPdhryNyvNZink7jVk4vhw+N9uHoTRzOC4c37flObsZVyntbxt8b/wE0+LFV+KZmVs6fmJp8eIr8dQ9N8fH938g3r/vxvgTu+6Ni+9cbTqu2/OlGJf3Y76beVM9jgHIlwAaICOAHkHdrihuNq40czg+dvdt6978Pnb3bZvemDY7X/XkwViaObThfIdi9eTBlrUOevOj1Pr5WXS7CrxI9Y3TuCLXlnJct8Zp3lS3IW+j8nyWYt5uxpydnWobBK9thZHnz2IrGxB3+zo/KuPyfsx3M2+qxzEA+RNAA2QE0COm2xXF7catrsBafUPa6qO5zc7X7A1su5XMg978KKU8fhaDXAWed33jNK7ItaUcl+qxV+R5U92GvI3K81mKebut7aXH7mq7Avqlx+7a0m3tdtzlV1/YFIquHqWZQ/Hyqy/EGGNcrF1oO251Je+ojMv7fu5m3nH4VBjAOBFAA+PumhDCu1aO0zt37kz9vEyOul1R3Gnc7JE96/633/O1Wsk8yiug8/pZDOo+yLu+cRpX5NpSjkv12CvyvKluQ95G5fksxbzd1nb6npvaroA+fc9NW7qt3Y7rtvf0/Mxk2/ON2rhB3M+d5h3l34kAxpEAGhh3u0IIcfXYsWNH6udlctTtiuJO4548fMu6/+33fK1WMo/yap+8fhaDWgWed33jNK7ItaUcl+qxV+R5U92GvI3K81mKebut7fSnro8PPti6FcbpT12/pdva7bhTU7vbzntqave6ca2OURs3qPu53byj/KkwgHEkgAbGnRXQI2zYVkDHOLr9DkdlxaBxm8cVubaU41I99oo8rxXQxaovxbzd1vbc3btbtrwqzRyOz929e0u3Nc+VueM4zgpoAPolgAbI6AE9YvLobVi673A8e3IqVkr749mTU7G0DX0/F998PZ4p3xlP3XdbnD9xV1x88/WB31eDNio9U43bPK7ItaUcl+qxV+R59YAuVn0p5u2+B/TBtq0wXnrs4JZua569icdxnB7QAPRLAA2QEUCPmOrcdNs3sGtXz+S9u3uvK5lrtVosl8vrv69cjrVaLb87JpFB33dFq2+cxhW5tpTjujVO86a6DXkbleezFPN2M+bsyam2mxCePTm15dva7bjqyYObwtHSzKFYPXmwp3GfOfg7uZ4v1bgU9/OofioMYBwJoAEyAugRs9o/sFUvx439A+tXLsXq3HSslPbH6tx0y9U13Y5bvHg+npmZjKemdsf5mcnGSqJW6vX6pvC58YarXI71er23O6JA8r6Pi17fOI0rcm0px3VrnOZNdRvyNirPZynm7TRm4eE72v4BeeHhO7Y851bGLdYuxPkuXr87jbt6dSn+jQ+diO+74e54/74b45cO/VZf50s9LsX9nOpxDEC+BNAAGQH0iEnZP7CXVTvVarV9vdXqwOoFgKJY7RHc6g/Iq72Ji+7ply7Ga687Fq+97ljc+Zul+E79auqSACAJATRARgA9YupXLrXdxKibVTT1y2/Ec3P3bmnlTa99CyuVStsAulKpbPk+AIBhs3B88+rnta/fC8f3pS6xK7eWFxoB9K8cfTZ1OQCQjAAaICOAHjH1K5fi7NTeph/hnZ3a2zFM7rX3YK8rr62ABoAYz85OtW3BcXZ2qvNJCuCnbpttBNDHnnsldTkAkIwAGiAjgB4xq0Fwq4/wtmvB0c/u66u9p1uuZN7Qe7ox5xj0gAaATrayCWFRfevSW43w+Qfefzy+fvnt1CUBQDICaICMAHrE9BoEx9hf/+h+vrdWq20KocvlcqzVan3dFwAwLCql/W1XQLd7/S6K6afPNQLon9n3ZOpyACApATRARgA9YvoJgvsJr/tZPR3j8kroarUaK5VKrFarVj4DMFbOzk61/QTTMLTg+OUjzzQC6I89+tXU5QBAUgJogIwAesQs1i7E0syhFpsYHYqLtQstv7ef8DrG3vtHA8C4W23B0WoTwqK34KhfXYp/9TdLjQD6+ZdfT10SACQlgAbICKBHTHVuuu1HeAfVA3rV4sXz8czMZDw1tTvOz0y2DbwBgGXD3oLjqRcvNsLn9/32ibi0tJS6JABISgANkBFAj5jVNhqtPsLb6Q1s9eTBTSuoSzOHYvXkwY5zWwENAL0Z9hYct5bmGwH0rx59NnU5AJCcABogI4AeMf200VhdAd3szW+nFdB5rJ4GgHE17C04fuq22UYAfey5V1KXAwDJCaABMgLoEVO/cqntG9h2QXA/4XW//aMBYJwNcwuOb77xViN8/oH3H4+vX347dUkAkJwAGiAjgB4x9SuX4uzU3qZvYGen9rYNoFfbd7Q62r357ed7AWDcDXMLjnufOtcIoH92n7ZbABCjABpgLQH0iFldidzqDeygVjFbAQ0AvRvmFhy/dOSZRgD9sUe/mrocACgEATRARgA9YvpZidxPH2c9oAGgd8PagqN+dSn+1d8sNQLo519+PXVJAFAIAmiAjAB6xPS7Erm2MBdLG4Lk0n2HY22h80dqawtzm0LocpffCwDjbFhbcDz14sVG+Py+3z4Rl5aWUpcEAIUggAbICKBHTD+bEMa4HCKfmD6w7s3viekDXYfIi2++Hs+U74yn7rstzp+4Ky6+aSUUAHQyrC04bi3NNwLo//TpZ1OXAwCFIYAGyAigR0w/mxD220ajVqvFcrm8/vvK5Vir1fK+mQAwUoa1Bcc//p3ZRgB9/PQrqcsBgMIQQANkBNAjJtUmhPV6fVP4vDaErtfrg7i5ADAShrEFxzffeKsRPv/A+4/H1y+/nbokACgMATRARgA9YvrZhLCf761Wq+3D62p1EDcXAEbCMLbguPepc40A+mc/br8HAFhLAA2QEUCPmH5WMffzvZVKpX14XakM4uYCwEgYxhYcv3TkmUYA/buPfTV1OQBQKAJogIwAesT0swlhPz2grYAGgN4NWwuO+tWl+CO7So0A+o9e/nbqkgCgUATQABkB9IjpZxPCGGOsLczF0oYQunTf4VhbaP/RWj2gAaB3w9aC46kXX2uEz3/jQyfi0tJS6pIAoFAE0AAZAfSI6WcTwhiXA+gT0wfWfe+J6QMdA+gYY6zVaptC6HK5HGu1Wl43DwBG0rC14NhTmm8E0L/26edSlwMAhSOABsgIoEdMPxsJ9tOCo3GOej1Wq9VYqVRitVq18hkAujBsLTj+8e/MNgLoh06/krocACgcATRARgA9YlJtQggA9G6YWnB88423GuHze95/PH77ytupSwKAwhFAA2QE0COmn1XM/ayeBgB6N0wtOD791LlGAP2zH+/cogsAxpEAGiAjgB5BtYW5TSF0uYuNBK2ABoA0+t3DYTv94uGnGwH07Y99LXU5AFBIAmiAjAB6RNWvXIrVuelYKe2P1bnp7vo359ADGgDYumF5DX6nfjX+yK5SI4D+yivfTl0SABSSABogI4BmnV5XTwMA/aktzMXShtfgUsFeg5968bVG+PyjH/psXFpaSl0SABSSABogI4Bmk8WL5+OZmcl4amp3nJ+ZjIu1C6lLAoCRV1uYiyemD6xrwXFi+kChAug9pflGAP1rn34udTkAUFgCaICMAJp1rIAGgO03LC04/tHvnGwE0A9/+ZXU5QBAYQmggXF3TQjhXSvH6Z07d6Z+XmYA6pffiOfm7tUDGgCGwDBsBPzqG1ca4fN73n88vnHl7dQlAUBhCaCBcbcrhBBXjx07dqR+XiZnva5iHoY3vwAwiiql/W1fgyul/alLjJ9+6lwjgP65j/tkFAC0I4AGxp0V0COsn1XMw/DmFwBG0TD8EfgXDz/dCKBvf+xrqcsBgEITQANk9IAeMf28gR2GN78A0LfF78T43D0xPj4Z43NHY3z7cuqK4mLtQizNHGr6+luaOZR8Q+B36lfjj+wqNQLor7zy7aT1AEDRCaABMgLoEdPPKmY9oAEYedWnYpz8wRg/+KezY/IHl/89ZVlz0/HRo/tiaebwhvD5cHz06L7kfwT+0jdea4TPP/qhz8alpaWk9QBA0QmgATIC6AHrdjPAvMb1u4q51/7RwyDvn0XR6zOu93FFrm0r47pl3t7PNyrPF6nq2/Z53768OXxeG0JvWAm9nc8Xq39APvbAdJw9sic+efiWOHtkTzz2wHTTPyAvXnwlnpm5JZ6a2h3nZyZbrpDOa9xHHpmP1153LP7NG47Ex+/8rW2bt9v7b6vj8p4XADYSQANkBNAD1G2Ym+e4PFYx169citW56ZF6s5X3z6Lo9RnX+7gi17aVcd0yb+/nG5Xni1T1JZn3uaPNw+fV47mjWzpfnj+LrfwBuXry4KZ2HaWZQ7F68uC6efMc99MfeyLu2XPTts+b9/08iHkBoBkBNEBGAD0g3QbBeY+Lsfs3Vi1rr9fjuXPnYqVSidVqNdbr9fzvoG00iPu4yPUZ1/u4Itc2iMeoeXs/36g8X6SqL9W87zzygbYB9DuPfKDr8+X9s7j86gtte0BffvWFGGP3vaLzHPfmW+/Ev/Ub92z7vFu5/7odl/e8ANCKABogI4AekG5XMuU9bvUNU7OP8HbzhqlWq8Vyubz+jVa5HGu12mDvsAHK+z4uen3G9T6uyLUN4jFq3t7PNyrPF6nqSzXvy/v/edsA+uX9/7zr8+X9s5ifmWzbA3p+ZrIxrt35BjFutvKteP++G7d93q3cf1u5n/OcFwBaEUADZATQA9LtZoB5j+vnDVO9Xt8UPq8e5XJ5aFdC530fF70+43ofV+TaBvEYNW/v5xuV54tU9aWa99lDN8Yru9/dNHy+svvd8dlDN3Z9vrx/FqemdscHH2zdA/rU1O5141odgxh3a2k+Pr7/A9s+71buv63ez3nNCwCtCKABMgLoAUm18rGfN0zVarX9HNXq4O+4ARiVFYPGDX5ckWsbxGPUvL2fb1SeL1LVl2reLx+6IZ68+6ObQugru98dT9790fjlQzd0fb5UK3NTjPu5j89ZAb1Nj2UARocAGiAjgB6QVL0N+3nDVKlU2n5vpVIZ/B03AKPSM9W4wY8rcm2DeIyat/fzjcrzRar6Us175sHbYmnmcDz+wHR8+s7r45lP/Mv49J3Xx+MPTMfSzOF45sHbuj5fqt7E2z3ujW+9Et97w0PxfTfcrQf0NjyWARgdAmiAjAB6QKpz0217Oa4NgvPc3b2fN0yjugI6xnzv42Goz7jexxW5tq2M65Z5ez/fqDxfpKovxbzd9lnu9nx5/yy63UR4O8f94Tdei9dedyxee92x+PGPTSapL9X9nOqxDMBoEEADZATQA7LaCqNVL8eNrTDqVy7F6tx0rJT2x+rcdMuguJtxtYW5WNrwhqnUxRumUe0BvSrP+3gY6jOu93FFrm0r47pl3t7PNyrPF6nq2+5554/dHkszzTfqLc0cjvPHbt/y7cj7Z7FYuxDnZybjqandcX5msrEiN9W4jz361UYA/Wuffi5Zfanu51SPZQCGnwAaICOAHpCUvQNrC3PxxPSBdW+uT0wf6GrFTq1W2xRCl8vlWKvVBlYvAGyHrayAZtn/tf+LjQD63qfOpS4HAIaGABogI4AekG57DOYtj56F9Xo9VqvVWKlUYrVaHfqVzwAQY4wLx/e1XQG9cHxf6hIL5Z361fjff+CRRgB99rXvpC4JAIaGABogI4AekK30gM573lQrrwGgyFK9Ng+r0+deb4TPf+umz8alpaXUJQHA0BBAA2QE0AOy1R7Qec/b6hjUvABQdPUrl9qugNbfd73fO/n1RgD976eeSV0OAAwVATRARgA9IKlWIlsBDQDN1a9cirNTe5uugJ6d2iuA3uBf3/WlRgB96A9eTF0OAAwVATRARgA9IKurrJr3gB7cKqs8ekADwCha/SNtq08n+SNt5urVpbjzN0uNAPqrr76RuiQAGCoCaICMAHpAUq6yqi3MxdKGELp03+FYW5gb2JwAUHQLD9/R9lNCCw/fkbrEwli48EYjfP4ff6us/zMAbJEAGiAjgB6QlKusagtz8cT0gXXznpg+IIAGYKzNz0y2DaDnZyZTl1gYn/rCi40A+t986qnU5QDA0BFAA2QE0AOSajNALTgAoLn5Y7e3bY81f+z21CUWxi8deaYRQO+ffSF1OQAwdATQABkB9IDYhBAAimV+ZjI+enRf0/ZYjx7dZwX0iqWlpfijH/psI4D+cvX11CUBwNARQANkBNADkmoTwlQrrwGg6BaOL4fPzdpjlWYOx4Xj+1KXWAgv/fF3GuHzD3/gkVi/qv8zAGyVABogI4AekFSbEFoBDQDNnZ2darsC+uzsVOoSC+Hol842Auj/+5NfTF0OAAwlATRARgA9IKk2IdQDGgCaO3tyqu0K6LMnBdAxxvirR59tBNC/+9hXU5cDAENJAA2QEUAPSMpWGLWFuU0hdPm+w7G2MDewOQGg6BYevqPtCuiFh+9IXWIh/Njko40A+qkXX0tdDgAMJQE0QEYAPSCpW2EsXjwfz8xMxlNTu+P8zGRcrF0Y6HwAUHTzM5NtP51kE8IYz79+pRE+/8UbHoqL71xNXRIADCUBNEBGAD0gqTYhjNEKaABoZnUTwlavzTYhjPGBZ19uBNA//4kvpC4HAIaWABogI4AekFSbEOoBDQDN2YSwsxvuO90IoPeWF1KXAwBDSwANkBFAD0iqTQhTt/4AgKKyCWFnf3/v5xsB9JNf/VbqcgBgaAmgATIC6AFJtQlhys0PAaDIbELY3sU3Fxvh83vefzxeXqynLgkAhpYAGiAjgB6QVCuRrYAGgOZsQthe6fnzjQD6n/7uE6nLAYChJoAGyAigByTVJoR6QANAczYhbG/3g3/UCKBveugrqcsBgKEmgAbICKAHJNUmhDHGWFuY2xRCl+87HGsLcwObEwCKziaE7f3UbbONAPpzZy6kLgcAhpoAGiAjgB6QVJsQrqpfuRSrc9OxUtofq3PTVj4DMPZsQtjapbfeid9//XL4/H3XH4uvX347dUkAMNQE0AAZAfSApN4MsF6vx3PnzsVKpRKr1Wqs120kBMB4q5T2t10BPc4b9T6+8M3G6uef/OjJ1OUAwNATQANkBNADknIzwFqtFsvl8voWHOVyrNVqA5sTAIru7OxU208njXMLjslHzjQC6A8+8HzqcgBg6AmgATIC6AFJtRlgvV7fFD6vDaGthAZgXK224Gi1CeE4t+D42X1zjQD6+OlXUpcDAENPAA2QEUAPUIrNAKvVavuV19XqwOYGgCJbePiOti04Fh6+I3WJSVx5ux7f++sPNQLob77xVuqSAGDoCaABMgLoAdvuzQArlUr73tOVykDnB4Cimp+ZbNuCY35mMnWJSfzB1/+4ET7/+J7HUpcDACNBAA2QEUCPGCugAaC5heObVz+vXQW9cHxf6hKT+J3PVhoB9PXTz6UuBwBGggAaICOAHjF6QANAc2dnp9q24BjXTQj/2e//QSOAnnnmXOpyAGAkCKABMgLoAatffiOem7t321pwxBhjrVbbFEKXy+VYq9UGPjcAFNXqJoTNWnCM6yaEb9evxh+68eFGAF2tXU5dEgCMBAE0QEYAPUApNiFcVa/XY7VajZVKJVarVSufARh7ldL+tiugK6X9qUvcdqfO1hrh89+++XOpywGAkSGABsgIoAekfuXSpvB5bQi9HSuhAYDM2dmptpsQjmMLjk98/muNAPr/u/tU6nIAYGQIoAEyAugBqc5Nt98McG46dYkAMFZWW3C02oRwHFtw/Ks7/7ARQB/54kupywGAkSGABsgIoAekUtrfNoAex4/5AkBKWnCsd/XqUvyRXaVGAP21b/p0FgDkRQANkBFAD4gV0ABQLFpwrHfm/Lcb4fNf312OS0tLqUsCgJEhgAbICKAHRA9oACgWLTjWm/riS40A+t986qnU5QDASBFAA2QE0ANUW5iLpQ0hdOm+w7G2MJe6NAAYO1pwrPf+mdONAPr2x76WuhwAGCkCaICMAHqAagtz8cT0gXUf8z0xfUAADQAJrLbHatWCY9zaY/3j35ltBNCzlW+lLgcARooAGiAjgB4QLTgAoFgWaxdiaeZQixYch+Ji7ULqErfNW+/U4w/++vFGAP36d95OXRIAjBQBNEBGAD0gNiEEgGKpzk23bcExTq/Nz52rNcLnH5t8NHU5ADByBNAAGQH0gFRK+9sG0OPWZxIAUlt9bW7VgmOcXpsPfuHFRgD9i4efTl0OAIwcATQwrH4shPCZEMLLIYQYQvgXOZxTAD0gVkADQLGcnZ1q+9p8dnYqdYnb5rp7n2sE0J/4vA0IASBvAmhgWP3DEMJNIYSfCSFcDgLoQtMDGgCK5ezJqU3tN9a24Th7cnwC6J/86MlGAD33tT9OXQ4AjBwBNDAK3gwC6MKrnjy4abOj0syhWD15MHVpADB2KqX9bXtAj0sLjitv1+N73p9tQPjGFRsQAkDeBNBAt34mhHBbCGE2hPBGWG57cajD9/z5EMInQwivhBAWQwgvhhA+GkL4MznXJoAuuNUV0M36TFoBDQDbb7U9Vqse0OPSHuuZly42wucf/8hjqcsBgJEkgAa69WxYDp0vhRDOhM4B9HtCCK+ujLs/hPDhEMKjK/89H0L43hxrE0AXnB7QAFAs2mMtu2vuG40A+t9PPZO6HAAYSQJooFs/HkJ4bwjhT4QQJkLnALq0MuaXN/z73pV///iGf//tlX9vd0y0mEsAXXCV0v62AfS4fMwXAIqktjAXSxtC6NJ9h2NtYS51advmV44+2wigf+/k11OXAwAjSQAN9GIitA+gf2Dl698IIXzXhq9dE5YD4++EEL5nzb//uRDCX+5w/MkW8wmgC84KaAAontrCXDwxfWBdC44T0wfGKoD++3s/3wigv/jCa6nLAYCRJIAGejER2gfQvzzGLeQAABW0SURBVLDy9U+0+Prq6uifyKkeAXTB+ZgvABSL1+YYLy/W4/dfvxw+f9/1x+Kbb72TuiQAGEkCaKAXE6F9AP2Rla//Souvf2zl6/+ujxr+VAhh58pxOYTwgZX//xe6+N6nWxzfEUAPTm1hbtMb3fKYfcwXAIrCp5NifOrF1xqrn//erY+nLgcARpYAGujFRGgfQN+x8vVfaPH1D618/f051LDxuLOL7xVAJ7J48Xw8MzMZT03tjvMzk3GxdiF1SQAwluzPEOMnn3ihEUD/h3tOpS4HAEaWABroxUToL4C+aeXr1+deWX+04BggK6ABoDisgI7xP9x9qhFAf/KJF1KXAwAjSwAN9GIipG/BMQgC6AHRZxIAimWxdiGWZg41fW0uzRwai08p/cStjzcC6KdetAEhAAyKABroxUQo1iaEeRFAD4hVVgBQLNW56fjo0X2xNHN4Q/h8OD56dN/IvzZfeuud+H0rGxB+//XH4uXFeuqSAGBkCaCBXkyE9gH0e1a+/o0Qwndt+No1IYQ3w/LGgd8zoPp6NRIBdP3yG/Hc3L2xUtofq3PTLVcX5z2unXHtM7md93ER6utmXKrHp3Hpnwe2er4Uc6acN9X58p43RX2jcp9s97jV1+ZjD0zH2SN74pOHb4mzR/bEYw9MN31tXrz4Sjwzc0vHfRxSjOvlXM/cfVN83w13x2uvOxb/wX/+/Jbuu62O67a+VI9lABg0ATTQi4nQPoAOIVvl/Msb/n3vyr9/fCCV9WfoA+hu+yznPa6TcVwBvd33cer6uhmX6vFpXDGeB7ZyvhRzppw31fnynjdFfaNyn6QYt5XX5urJg5vadZRmDsXqyYPr5k0xrt9z7dlzU/zVo88O7GfRbX32ygBglAmggW790xDCnSvHI2E5RP76mn/bs2H8e0IIr66Muz+EcHMI4dGV/14IIXzvwCveuqEOoLvts5z3uDxrGxUp7uOU9XUzLtXj07jiPA/k/VhJ9XjPe95U58t73hT1jcp9kmrc5VdfaNsD+vKry5vyddsrOsW4vM5196NPDeQ+7ra+cfs9CYDxI4AGurUrLIfHrY4Xm3zPu0MIB0II50MIb4cQXgoh/JcQwp8deLW9GeoAutuVTHmP69Y4rexJdR+nqq+bcaken8YV63kgz8dKqsd73vOmOl/e86aob1Tuk1Tj5mcm2/aAnp+ZbIxrd76U4/I616l7bh7YfdxNfeP4STEAxosAGiAz1AF0t32W8x63FYsXz8czM5MdeyAOu5T3cYr6uhmX6vFpXLGeB/J8rKR6vOc9b6rz5T1vivpG5T5JNe7U1O744IOte0Cfmtq9blyrI+W4vOcc1H2c17wAMKwE0MC4uyaE8K6V4/TOnTtTPy/3rOgrH62AHvx9nKo+K6CNy/OxZwX09pwv73mtgC7O9Zj36twij8t7TiugAWAwBNDAuNsV1rQS2bFjR+rn5Z7l3WdQD+jeFbln6iDq0wPauDwfe3pAb8/58p5XD+jiXI959ycu8ri859QDGgAGQwANjLuRWgHdrpfj2tUzee/w3k1tzd5UrR6juLJnu+/j1PV1My7FnMZt37hu5flYyXPOlPOmOl/e86aob1Tuk1TjqicPbgpISzOHYvXkwaEZ1++5Hv/0vkLcx+P0STEAxo8AGiAzEj2gW/Vy3Ng/sH7lUqzOTcdKaX+szk23XF3T7bhuamt1jGpvw+28j4tQXzfjUsxp3PaN61aej5U850w5b6rz5T1vivpG5T5JNW6xdiHOd7E/Q5HHbfVcJz/5wXj/vhvj+264O54+9/qmcanu41SPZQAYNAE0QGaoA+girzIucm0AwPh4/Ttvx2uvOxavve5YfO+vPxTfeqeeuiQAGHkCaIDMUAfQ3fYZTEFvQwCgCGYr32oE0D9122zqcgBgLAigATJDHUBvpQd0CnobAgCp/e5jX20E0O+fOZ26HAAYCwJogMxQB9Bb7QGdgt6GAEBK//bgU40AeuqLL6UuBwDGggAaIDPUAfQw9Fmu1+vx3LlzsVKpxGq1Gut1fRcBgO3zdz78uUYA/fzLmzcgBADyJ4AGyAx1AF2/cmlT+421bThSrzau1WqxXC6vb8FRLsdarZa0LgBgPLz25mK2AeEND8W361dTlwQAY0EADZAZ+gB6dmpv0x7Qs1N7kwbQ9Xp9U/i8NoS2EhoAGLTHF77ZCKB/+mNPpC4HAMaGABoYd9eEEN61cpzeuXNn6uflnq224GjVAzplC45qtdq+PUi1mqw2AGA83Pa5SiOAvvH+L6cuBwDGhgAaGHe7Qghx9dixY0fq5+WerW5C2OpIuQlhpVJpX1ulkqw2AGA8/Ou7vtQIoI9+6WzqcgBgbAiggXE3ciugi7gJoRXQAEBqf/OmzzYC6Pnzb6QuBwDGhgAaIDPUPaAXaxdiaeZQi00ID8XF2oVktekBDQCk9M033mqEz3/pNx6K79iAEAC2jQAaIDPUAXR1bjo+enRf000IHz26L+kK6BhjrNVqm0Locrkca7Va0roAgNH36JlXGwH0/3b7k6nLAYCxIoAGyAx1AL3aA7rVJoQpe0CvqtfrsVqtxkqlEqvVqpXPAMC2+OiJbAPCDz7wfOpyAGCsCKABMkMdQBe5BzQAQEr/6s4/bATQ00+fS10OAIwVATRAZqgD6PqVS5vab6xtw1G/cil1iQAASbzvt080AuivvmoDQgDYTgJogMzQB9CzU3ub9oCendorgAYAxtKFb19phM9/5caHY/3qUuqSAGCsCKABMkMdQK+24GjVA1oLDgBgHJX/6EIjgP7Zj8+lLgcAxo4AGiAz1AH06iaErY4ibEIIALDdbi0vNALo33rwj1KXAwBjRwANkBnqANomhAAAm/2LT36xEUDff6qauhwAGDsCaGDcXRNCeNfKcXrnzp2pn5d7ZhNCAID1lpaW4l/fXW4E0F//pt+HAGC7CaCBcbcrhBBXjx07dqR+Xu6ZTQgBANZ7uXa5ET7/8AceiVdtQAgA204ADYy7kVkBbRNCAID1Hv7y+UYA/fOf+ELqcgBgLAmgATJD3QPaJoQAAOtNPnKmEUDfdPwrqcsBgLEkgAbIDHUAbRNCAID1/tnv/0EjgH7wuZdTlwMAY0kADZAZ6gC6fuVSLN/XfBPC8n02IQQAxsvS0lLc+ZulRgD94h+/mbokABhLAmiAzFAH0DHGWFuY2xRCl+87HGsLc6lLAwDYVm+9U497SvPxn+//YvzxjzwWl5ZsQAgAKQigATJDH0DHuLwSujo3HSul/bE6N23lMwAAAJCMABogMxIBNAAAAEBRCKABMgJoAAAAgBwJoAEyAmgAAACAHAmgATIjEUDXL78Rz83dqwc0AAAAkJwAGiAz9AF0bWEulu87HB988MHGUb7vcKwtzKUuDQAAABhDAmiAzFAH0PUrlzaFz2tDaCuhAQAAgO0mgAbG3TUhhHetHKd37tyZ+nm5Z9W56abh8+pRnZtOXSIAAAAwZgTQwLjbFUKIq8eOHTtSPy/3rFLa3zaArpT2py4RAAAAGDMCaGDcWQENAAAAMCACaICMHtAAAAAAORJAA2SGOoCOMcbqyYOxNHNoXfhcmjkUqycPpi4NAAAAGEMCaIDMUAfQqyugjz0wHWeP7IlPHr4lzh7ZE489MG0FNAAAAJCEABogM9QBtB7QAAAAQNEIoAEyQx1AV0r72wbQldL+1CUCAAAAY0YADZAZ6gDaCmgAAACgaATQAJmhDqBXe0A3C5/1gAYAAABSEEADZIY6gI4xxtrCXCxtCKFL9x2OtYW51KUBAAAAY0gADZAZiQD6xPSBOHtkT3zy8C1x9sieeGL6gAAaAAAASEIADZAZ6gBaCw4AAACgaATQAJmhDqBtQggAAAAUjQAaIDPUAXSltL9tAF0p7U9dIgAAADBmBNAAmaEOoK2ABgAAAIpGAA2QGeoAWg9oAAAAoGgE0MC4uyaE8K6V4/TOnTtTPy/3pbYwtymELt93ONYW5lKXBgAAAIwhATQw7naFEOLqsWPHjtTPy31bvHg+npmZjKemdsf5mcm4WLuQuiQAAABgTAmggXFnBTQAAADAgAigATJ6QAMAAADkSAANkBnqALo6N900fF49qnPTqUsEAAAAxowAGiAz1AF0pbS/bQBdKe1PXSIAAAAwZgTQAJmhDqCtgAYAAACKRgANkBnqAFoPaAAAAKBoBNAAmaEOoGOMsbYwtymELt93ONYW5lKXBgAAAIwhATRAZugD6BhjXLx4Pp6ZmYynpnbH+ZnJuFi7kLokAAAAYEwJoAEyQx9AWwENAAAAFIkAGiAz1AG0HtAAAABA0QigATJDHUBX56abhs+rR3VuOnWJAAAAwJgRQANkhjqArpT2tw2gK6X9qUsEAAAAxowAGiAz1AG0FdAAAABA0QigATJDHUDrAQ0AAAAUjQAaIDPUAXSMMdYW5jaF0OX7Dsfawlzq0gAAAIAxJIAGyAx9AB1jjItvvh7PlO+Mp+67Lc6fuCsuvvl66pIAAACAMSWABsgMfQBdq9ViuVxevwK6XI61Wi11aQAAAMAYEkADZIY6gK7X65vC57UhdL1eT10iAAAAMGYE0MC4uyaE8K6V4/TOnTtTPy/3rFqtNg2fV49qtZq6RAAAAGDMCKCBcbcrhBBXjx07dqR+Xu5ZpVJpG0BXKpXUJQIAAABjRgANjDsroAEAAAAGRAANkNEDGgAAACBHAmiAzFAH0DHGWKvVNoXQ5XI51mq11KUBAAAAY0gADZAZ+gA6xuWV0NVqNVYqlVitVq18BgAAAJIRQANkRiKABgAAACgKATRARgANAAAAkCMBNEBGAA0AAACQIwE0QEYADQAAAJAjATRARgANAAAAkCMBNEBGAA0AAACQIwE0QEYADQAAAJAjATRARgANAAAAkCMBNEBGAA0AAACQIwE0QEYADQAAAJAjATRARgANAAAAkCMBNEBGAA0AAACQIwE0QEYADQAAAJAjATRARgANAAAAkCMBNEBGAA0AAACQIwE0QEYADQAAAJAjATRARgANAAAAkCMBNEBGAA0AAACQIwE0QEYADQAAAJAjATRA5rXv/u7vjn/tr/01h8PhcDgcDofD4XA4HA5HDsd3f/d3xxDCa6lDH4Ai+EZYfkJ82uFIdHxn5Uhdh8NRtMO14XBsPlwXDkfzw7XhcGw+XBeO1MdrYTlzAQASW31xBtZzbcBmrgtozrUBm7kuAAAIIfjFEFpxbcBmrgtozrUBm7kuAAAIIfjFEFpxbcBmrgtozrUBm7kuAAAIIfjFEFpxbcBmrgtozrUBm7kuAAAIIfjFEFpxbcBmrgtozrUBm7kuAAAIIfjFEFpxbcBmrgtozrUBm7kuAAAAAAAAAAAAAAAAAAAAAAAAAAAAAAAAAAAAAAAAAAAAAAAAAAAAAAAoql0hhLjhuJCyICiAXwwhnA4hvLFyfCGE8I+SVgTF8GMhhM+EEF4Oy68X/yJpNbC9PP6hOb83AQDQ1q4QwnwI4b9bc/y3KQuCAvjpEMJPhhB+MITwF0MIHwohvBNC+JGURUEB/MMQwk0hhJ8JIVwOAjjGi8c/NOf3JgAA2toVQng+dREwBC6GEP5N6iKgQN4MAjjGl8c/tOf3JgCAhH4mhHBbCGE2LH9ELYYQDnX4nj8fQvhkCOGVEMJiCOHFEMJHQwh/Jod6doXlVTwvhxC+EUK4O4TwAzmcF7aiaNfFWv9VCOHnQwhvhxD+h5zPDZ0U+doQwFE023m9ePwzTLbz2vB7EwBAATwbln/puxRCOBM6/wL4nhDCqyvj7g8hfDiE8OjKf8+HEL63z3p+MoTwc2H5I3J/L4TweFjuAd3veWErinZdhLD8punNEEI9hPB60MuQNIp4bawSwFE023m9ePwzTLbj2vB7EwBAgfx4COG9IYQ/EUKYCJ1/ASytjPnlDf++d+XfP77h3387bN5UcOMx0Wa+PxVC+GYI4T92uiGQoyJeF/91WO5l+D+FEG4OIfxxCOGHu75FkI8iXhurBHAUzaCvl7U8/hkm23Ft+L0JAKCgJkL7XwB/YOXr3wghfNeGr10Tlt/8fCeE8D1r/v3PhRD+cofjT3ao67EQwr4ubwPkbSIU87r4bAhhf5e3AQZhIhTr2hDAUWQTIf/rZS2Pf4bVRBjstbHK700AAAUxEdr/AvgLK1//RIuvr65O+Ikca/pvQgjnQwgfyPGcsBUToXjXRQjLHz3t1C8RBmkiFOvaEMBRZBNhsNeLxz/DaiJsz2uJ35sAAApiIrT/BfAjK1//lRZf/9jK1/9dHzXsCSH8LyGE7w8h/GgI4VhY3pzk2j7OCf2YCOmviw+HEP7nEML3heWehjeHEJbCcs90SGUipL82/lQIYefKcTks/7FyZwjhL/RxThiEiZD/9eLxzyiYCPlfG35vAgAosInQ/hfAO1a+/gstvv6hla+/v48a7g7Lu1u/HUJ4OYQwHUL4K32cD/o1EdJfF3eGEF4Ky7u+fzMsf4z0H/RxPsjDREh/bazWsPG4s49zwiBMhPyvl9VzevwzzCZC/tfGncHvTQAAhTUR+vsF8KaVr1+fe2WQzkRwXUAzE8G1Ad2aCK4XaGYiuDYAAMbKREj/cWoomonguoBmJoJrA7o1EVwv0MxEcG0AAIyViVCsDaWgCCaC6wKamQiuDejWRHC9QDMTwbUBADBWJkL7XwDfs/L1b4QQvmvD164JyzuwXw4hfM+A6oMUJoLrApqZCK4N6NZEcL1AMxPBtQEAMFYmQvtfAEPIVhn88oZ/37vy7x8fSGWQzkRwXUAzE8G1Ad2aCK4XaGYiuDYAAEbePw3LO0XfGUJ4JCz/Evf1Nf+2Z8P494QQXl0Zd38I4eYQwqMr/70QQvjegVcMg+e6gOZcG9A91ws059oAABgzu8LyL2+tjhebfM+7QwgHQgjnQwhvhxBeCiH8lxDCnx14tbA9dgXXBTSzK7g2oFu7gusFmtkVXBsAAAAAAAAAAAAAAAAAAAAAAAAAAAAAAAAAAAAAAAAAAAAAAAAAAAAAAAAAAAAAAAAAAAAAAAAAAAAAAAAAAAAAAAAAAAAAAAAAAAAAAAAAAAAAAAAAAAAAAAAAAAAAAAAAAAAAAAAAAAAAAAAAAAAAAAAAAAAAAAAAAAAAAAAAAAAAAAAAAAAAAAAAAAAAAAAAAAAAAAAAAAAAAAAAAAAAAAAAAAAAAAAAAAAAAAAAAAAAAAAAAAAAAAAAAAAAAAAAAAAAAAAAAAAAAAAAAAAAAAAAAAAAAAAAAAAAAAAAAAAAAAAAAAAAAAAAAAAAAAAAAAAAAAAAAAAAAAAAAAAAAAAAAAAAAAAAAAAAAAAAAAAAAAAAAAAAAAAAAAAAAAAAAAAAAAAAAAAAAAAAAAAAAAAAAAAAAAAAAAAAAAAAAAAAAAAAAAAAAAAM1v8PLLFbTHBWxcoAAAAASUVORK5CYII=\" width=\"720\">"
      ],
      "text/plain": [
       "<IPython.core.display.HTML object>"
      ]
     },
     "metadata": {},
     "output_type": "display_data"
    },
    {
     "data": {
      "application/vnd.jupyter.widget-view+json": {
       "model_id": "0a5c093b5a7049a0a762cc42cd24fa08",
       "version_major": 2,
       "version_minor": 0
      },
      "text/plain": [
       "IntSlider(value=10, min=1)"
      ]
     },
     "metadata": {},
     "output_type": "display_data"
    },
    {
     "data": {
      "application/vnd.jupyter.widget-view+json": {
       "model_id": "79492f2a10f64f4cb30efebc90cf06c7",
       "version_major": 2,
       "version_minor": 0
      },
      "text/plain": [
       "Label(value='A value is: 1.0')"
      ]
     },
     "metadata": {},
     "output_type": "display_data"
    },
    {
     "data": {
      "application/vnd.jupyter.widget-view+json": {
       "model_id": "973dcb96198b42339cf91ff7ba91d197",
       "version_major": 2,
       "version_minor": 0
      },
      "text/plain": [
       "IntSlider(value=10, min=1)"
      ]
     },
     "metadata": {},
     "output_type": "display_data"
    },
    {
     "data": {
      "application/vnd.jupyter.widget-view+json": {
       "model_id": "ec9b7467cbbd4ce09a0c08c6df1a202f",
       "version_major": 2,
       "version_minor": 0
      },
      "text/plain": [
       "Label(value='log10(B) value is: 1.0')"
      ]
     },
     "metadata": {},
     "output_type": "display_data"
    }
   ],
   "source": [
    "from IPython.display import display\n",
    "%matplotlib notebook\n",
    "%matplotlib notebook \n",
    "\n",
    "r = wr.value; \n",
    "u = np.logspace(-4, 0.25, 41)\n",
    "fig = plt.figure(figsize=(10,5)) \n",
    "ax = fig.add_subplot()\n",
    "plt.plot(1/u, exp1(u), label='Theis')\n",
    "ax.set_xscale('log'); ax.set_yscale('log')\n",
    "plt.show();\n",
    "\n",
    "def update_plot(shifty = 10, shiftx = 10):\n",
    "    if r <= 50:\n",
    "        plt.plot (10**(shiftx/10)*df['t1']/24/60/r/r,shifty/10*df['s1'],'.C1')\n",
    "    else:\n",
    "        plt.plot (10**(shiftx/10)*df['t2']/24/60/r/r,shifty/10*df['s2'], '.C1')\n",
    "        \n",
    "    plt.grid()\n",
    "    fig.canvas.draw_idle()\n",
    "\n",
    "# prepare widgets\n",
    "shifty_slider = widgets.IntSlider(10, min = 1, max = 100)\n",
    "shifty_label = widgets.Label(value = 'A value is: ' + str(shifty_slider.value/10))\n",
    "display(shifty_slider, shifty_label)\n",
    "shiftx_slider = widgets.IntSlider(10, min = 1, max = 100)\n",
    "shiftx_label = widgets.Label(value = 'log10(B) value is: ' + str(shiftx_slider.value/10))\n",
    "display(shiftx_slider, shiftx_label)\n",
    "\n",
    "# handle shifty update\n",
    "def update_shifty(value):\n",
    "    plt.plot (10**(shiftx_slider.value/10)*df['t1']/24/60/r/r,value['old']/10*df['s1'], '.', color='0.7')\n",
    "    update_plot(shifty = value['new'],shiftx = shiftx_slider.value)\n",
    "    shifty_label.value = 'A value is: ' + str(value.new/10)\n",
    "\n",
    "# handle shiftx update\n",
    "def update_shiftx(value):\n",
    "    plt.plot (10**(value['old']/10)*df['t1']/24/60/r/r,shifty_slider.value/10*df['s1'], '.', color='0.7')\n",
    "    update_plot(shifty = shifty_slider.value,shiftx = value['new'])\n",
    "    shiftx_label.value = 'log10(B) value is: ' + str(value.new/10)\n",
    "    \n",
    "shiftx_slider.observe(update_shiftx, names = 'value')\n",
    "shifty_slider.observe(update_shifty, names = 'value') "
   ]
  },
  {
   "cell_type": "markdown",
   "metadata": {},
   "source": [
    "Run the next cell to show the result for transmissivity and storativity!"
   ]
  },
  {
   "cell_type": "code",
   "execution_count": 58,
   "metadata": {
    "hide_input": true,
    "scrolled": true
   },
   "outputs": [
    {
     "data": {
      "image/png": "[encoded data removed]",
      "text/plain": [
       "<Figure size 720x360 with 1 Axes>"
      ]
     },
     "metadata": {
      "needs_background": "light"
     },
     "output_type": "display_data"
    }
   ],
   "source": [
    "%matplotlib inline\n",
    "r = wr.value\n",
    "fig = plt.figure(figsize=(10,5)) \n",
    "ax = fig.add_subplot()\n",
    "plt.title('Oude Korendijk pumping test', fontsize = 14)\n",
    "plt.plot(1/u, exp1(u), label='Theis')\n",
    "ax.set_xscale('log'); ax.set_yscale('log'); \n",
    "plt.xlabel('$1/u$ and $B \\, t/r^2$', fontsize=12)\n",
    "plt.ylabel('W(u) and $A \\cdot s$',fontsize=12)\n",
    "update_plot(shifty = shifty_slider.value,shiftx = shiftx_slider.value)\n",
    "kD = shiftx_slider.value/10 * Q /4 /np.pi   # print('T = {:.0f} m2/d'.format(kD))\n",
    "Sc = 4 * kD / (shifty_slider.value/10)         #print('S = {:.2e} [-]'.format(S))\n",
    "ax.text (380,0.23,'$T =%.2e m^2/d$' % (kD, ),fontsize=12)\n",
    "ax.text (380,0.15,'$S =%.2e $' % (Sc, ),fontsize=12)\n",
    "plt.show()"
   ]
  },
  {
   "cell_type": "markdown",
   "metadata": {},
   "source": [
    "## Error Measures\n",
    "The residual is a quantitative measure for the goodness of the fit. It is defined by: "
   ]
  },
  {
   "cell_type": "markdown",
   "metadata": {},
   "source": [
    "$$ res = \\sqrt{\\sum{(s_{obs}-s_{calc})^2}} $$"
   ]
  },
  {
   "cell_type": "markdown",
   "metadata": {},
   "source": [
    "where the sum adds up the quadratic deviations over all values of the time series. $s_{obs}$ is the observed drawdown, while $s_{calc}$ denotes the drawdown calculated by the Theis formula for the optimized $T$ and $S$ values. The rssidual is thus a good measure to compare results for the same drawdown series. However, if depends on the number of observations and thus is not feasable for comparison of results from different obtained from different observation points or different pumping tests. Alternatively one may take the standard deviation, which is defined as the squareroot of the mean quadratic deviation:"
   ]
  },
  {
   "cell_type": "markdown",
   "metadata": {},
   "source": [
    "$$ stdev = \\sqrt{mean((s_{obs}-s_{calc})^2)} $$"
   ]
  },
  {
   "cell_type": "markdown",
   "metadata": {},
   "source": [
    "The standard deviation makes results from different observation points and pumping tests, at the same or different boreholes, comparable. Click the following buttons to get the measures of the fit. "
   ]
  },
  {
   "cell_type": "code",
   "execution_count": 27,
   "metadata": {
    "hide_input": true,
    "scrolled": false
   },
   "outputs": [
    {
     "data": {
      "application/vnd.jupyter.widget-view+json": {
       "model_id": "a745e4fe80724240addab020a79dacfd",
       "version_major": 2,
       "version_minor": 0
      },
      "text/plain": [
       "HBox(children=(Button(description='Residual', style=ButtonStyle()), Button(description='Standard deviation', s…"
      ]
     },
     "metadata": {},
     "output_type": "display_data"
    }
   ],
   "source": [
    "def rescalc():\n",
    "    global kD,Sc\n",
    "    D = kD/Sc; r = wr.value; Q = wQ.value\n",
    "    if r <= 50: \n",
    "        tfit = df['t1']/24/60; sfit = df['s1']\n",
    "        tfit = tfit[:-1]; sfit = sfit[:-1]  # one entry less in time series                  \n",
    "    else:\n",
    "        tfit = df['t2']/24/60; sfit = df['s2']\n",
    "\n",
    "    u = (((r*r)/4)/D)/pd.to_numeric(tfit)\n",
    "    s = Q*exp1(u)/4/np.pi/kD\n",
    "    dev = pd.to_numeric(sfit)-s; dev2 = dev*dev\n",
    "    res = np.sqrt(sum(dev2)) \n",
    "    stde = np.sqrt(dev2.mean())\n",
    "    return [res,stde]\n",
    "\n",
    "def on_wres_clicked(self):   \n",
    "    [res,stde] = rescalc()\n",
    "    display ('Residual = %.3e for T = %.1f and S = %.3e' % (res,kD,Sc))\n",
    "    \n",
    "def on_wstd_clicked(self): \n",
    "    [res,stde] = rescalc()\n",
    "    display ('Standard deviation = %.3e for T = %.1f and S = %.3e'% (stde,kD,Sc));\n",
    "\n",
    "wres = widgets.Button(description='Residual')        \n",
    "wres.on_click(on_wres_clicked) \n",
    "wstd = widgets.Button(description='Standard deviation')        \n",
    "wstd.on_click(on_wstd_clicked)\n",
    "widgets.HBox([wres,wstd])   "
   ]
  },
  {
   "cell_type": "markdown",
   "metadata": {},
   "source": [
    "## Direct Optimization of Transmissivity and Storativity \n",
    "\n",
    "The previous method was inspired by the shifting of the measurements drawn on double log paper over the Theis type curve also drawn on double log paper. However, because we now have a computer, we could just as well directly optimize $T$ and $S$ (instead of $A$ and $B$) by trial and error to find the best match between type curve and measurements.\n",
    "\n",
    "It may then be most convenient to let the type curve as it is and compute $W(u) = \\frac s {Q/(4 \\pi T)}$ and $\\frac 1 u = \\frac {4 T t} {r^2 S}$\n",
    "\n",
    "This is done here."
   ]
  },
  {
   "cell_type": "code",
   "execution_count": 28,
   "metadata": {
    "hide_input": true,
    "scrolled": true
   },
   "outputs": [
    {
     "data": {
      "image/png": "[encoded data removed]",
      "text/plain": [
       "<Figure size 720x360 with 1 Axes>"
      ]
     },
     "metadata": {},
     "output_type": "display_data"
    }
   ],
   "source": [
    "kD = 450\n",
    "S = 0.0002\n",
    "u = np.logspace(-4, 0.25, 41)\n",
    "fig = plt.figure(facecolor='w', figsize=(10,5)); ax = fig.add_subplot()\n",
    "\n",
    "# the Theis type curve\n",
    "plt.plot(1/u, exp1(u), label='Theis')\n",
    "\n",
    "# The measurements\n",
    "r = 30\n",
    "plt.plot (4*kD*df['t1']/24/60/(S*r**2),df['s1']/(Q/(4*np.pi*kD)), '.', label = 'observation H30' )\n",
    "r = 90\n",
    "plt.plot (4*kD*df['t2']/24/60/(S*r**2),df['s2']/(Q/(4*np.pi*kD)), '.', label = 'observation H90' )\n",
    "plt.title('Direct comparison between computed and measured drawdown, $T$={:.0f} m$^2$/d, $S$={:.3e} [-]'.format(kD,S),fontsize=12)\n",
    "plt.xlabel('$1/u$',fontsize=12); plt.ylabel('$W[u]$',fontsize=12)\n",
    "plt.xscale('log'); plt.yscale('log')\n",
    "plt.grid()\n",
    "plt.legend(loc='lower right',fontsize=12);"
   ]
  },
  {
   "cell_type": "markdown",
   "metadata": {},
   "source": [
    "## Parameter Estimation\n",
    "### Confined Aquifer\n",
    "\n",
    "Before we obtimized the two factors $A$ and $B$ by hand. This was relatively straight-forward for this case in which only two parameters were involved. However in more complicated cases, finding the optimum parameter combination by trial and error takes much more effort, and often times is impossible. Therefore, the modern way is to let the computer find the optimum combination of parmeters, which minimizes the difference between the type curve (or the model) and the measurements."
   ]
  },
  {
   "cell_type": "code",
   "execution_count": 29,
   "metadata": {
    "hide_input": true,
    "scrolled": false
   },
   "outputs": [
    {
     "data": {
      "application/vnd.jupyter.widget-view+json": {
       "model_id": "8efee64385094c28843a6d799f6cdc10",
       "version_major": 2,
       "version_minor": 0
      },
      "text/plain": [
       "BoundedFloatText(value=30.0, description='Distance:', max=90.0, min=30.0, step=60.0)"
      ]
     },
     "metadata": {},
     "output_type": "display_data"
    }
   ],
   "source": [
    "w2r = widgets.BoundedFloatText(value=30, min=30, max=90.0, step = 60.0, description='Distance:', disabled=False)\n",
    "w2r"
   ]
  },
  {
   "cell_type": "markdown",
   "metadata": {
    "hide_input": false
   },
   "source": [
    "Enter initial guesses for $T$ and $S$! The unit of transmissivity is derived from the length and time settings above. "
   ]
  },
  {
   "cell_type": "code",
   "execution_count": 30,
   "metadata": {
    "hide_input": true,
    "scrolled": false
   },
   "outputs": [
    {
     "data": {
      "application/vnd.jupyter.widget-view+json": {
       "model_id": "2e38f3fe847e49dc81b3035645bd8655",
       "version_major": 2,
       "version_minor": 0
      },
      "text/plain": [
       "HBox(children=(FloatText(value=500.0, description='T:'), FloatText(value=0.0001, description='S:')))"
      ]
     },
     "metadata": {},
     "output_type": "display_data"
    }
   ],
   "source": [
    "wT = widgets.FloatText(value=500, description='T:', min=1, disabled=False)\n",
    "wS = widgets.FloatText(value=1e-4, description='S:', min=1.e-10, disabled=False)\n",
    "widgets.HBox([wT, wS])"
   ]
  },
  {
   "cell_type": "markdown",
   "metadata": {},
   "source": [
    "Do the parameter estimation by running the next cell."
   ]
  },
  {
   "cell_type": "code",
   "execution_count": 31,
   "metadata": {
    "hide_input": true,
    "scrolled": false
   },
   "outputs": [
    {
     "data": {
      "application/vnd.jupyter.widget-view+json": {
       "model_id": "b6e4e13f17524377a558d3828bd5f690",
       "version_major": 2,
       "version_minor": 0
      },
      "text/plain": [
       "VBox(children=(Button(description='Evaluate Theis', style=ButtonStyle()),))"
      ]
     },
     "metadata": {},
     "output_type": "display_data"
    }
   ],
   "source": [
    "from scipy.optimize import fmin\n",
    "Q = wQ.value; r = 30\n",
    "tfit = df['t1'].dropna()/60/24; sfit = df['s1'].dropna()\n",
    "\n",
    "def teval (t,r,T,S,Q):\n",
    "    D = T/S                             # calculate Theis solution\n",
    "    u = (((r*r)/4)/D)/t\n",
    "    s = Q*exp1(u)/4/np.pi/T\n",
    "    return s                            # drawdown \n",
    "    \n",
    "def toptim (x):  \n",
    "    global r,tfit,sfit\n",
    "    T = x[0]; S = x[1] \n",
    "    s = teval (tfit,r,T,S,Q)\n",
    "    res = (s-sfit)\n",
    "    return sum(res*res)                 # function to be minimized\n",
    "\n",
    "def on_weval1_clicked(self):            # convert input data\n",
    "    global r,df,tfit,sfit\n",
    "    print ('Oude Korendijk pumping test') \n",
    "    r = w2r.value; print ('Distance to pumping well: '+str(r))\n",
    "    T = wT.value; print ('Initial transmissivity: '+str(T)) \n",
    "    S = wS.value; print ('Initial storativity: '+str(S))\n",
    "    if r <= 50:   \n",
    "        tfit = df['t1'].dropna()/60/24; sfit = df['s1'].dropna()\n",
    "    else:\n",
    "        tfit = df['t2'].dropna()/60/24; sfit = df['s2'].dropna()                             \n",
    "\n",
    "    # parameter estimation---------------------------------------------------------\n",
    "    [Tfit,Sfit] = fmin (toptim, [T,S])\n",
    "\n",
    "    # post-processing\n",
    "    D = T/S;               #print ('D='+str(D))\n",
    "    s = teval (tfit,r,Tfit,Sfit,Q)\n",
    "    dev = sfit-s                  \n",
    "    dev2 = dev*dev; res = np.sqrt(sum(dev2)) \n",
    "    stde = np.sqrt(dev2.mean())\n",
    "    sr=2*dev.std()                            # to compare with hytool !\n",
    "    #print ('Residual = '+str(res))\n",
    "    t = np.logspace(np.log10(tfit.min()),np.log10(tfit.max()),100)\n",
    "    fig = plt.figure(facecolor='w',figsize=(10,5)); ax = fig.add_subplot()\n",
    "    ax.set_xscale('log')\n",
    "    plt.plot(tfit,sfit,'o',label = 'measured') \n",
    "    plt.plot(t,teval(t,r,Tfit,Sfit,Q),'-', label = 'calculated', lw = 2)\n",
    "    plt.xlabel('time [d]',fontsize=12); plt.ylabel('drawdown [m]',fontsize=12)\n",
    "    plt.title ('Oude Korendijk pumping test',fontsize=14)\n",
    "    plt.grid ()\n",
    "    plt.legend (loc='upper left',fontsize=12)\n",
    "    ax.text (0.04,0.5*sfit.max(),'$T =%.1f m^2/d $' % (Tfit, ),fontsize=12)\n",
    "    ax.text (0.04,0.4*sfit.max(),'$S =%.3e $' % (Sfit, ),fontsize=12)\n",
    "    ax.text (0.04,0.3*sfit.max(),'$res = %.3e $' % (res, ),fontsize=12)\n",
    "    ax.text (0.04,0.2*sfit.max(),'$stdev = %.3e $' % (stde, ),fontsize=12)\n",
    "    ax.text (0.04,0.1*sfit.max(),'$2stdev =%.3e $' % (sr, ),fontsize=12);\n",
    "\n",
    "weval1 = widgets.Button(description='Evaluate Theis')        \n",
    "weval1.on_click(on_weval1_clicked)   \n",
    "widgets.VBox([weval1]) "
   ]
  },
  {
   "cell_type": "markdown",
   "metadata": {},
   "source": [
    "Explore the sensitivity of the results when changing initial values. Check the residual and number of iterations for comparison. Do this for both observation data-sets."
   ]
  },
  {
   "cell_type": "markdown",
   "metadata": {},
   "source": [
    "### Leaky Aquifer"
   ]
  },
  {
   "cell_type": "markdown",
   "metadata": {},
   "source": [
    "For leaky aquifers the drawdown is given by the Hantush well function $W$, which has two arguments:"
   ]
  },
  {
   "cell_type": "markdown",
   "metadata": {},
   "source": [
    "$$ s(r, t) = \\frac Q {4 \\pi T} W(u,r/\\lambda),\\,\\,\\,\\, u = \\frac {r^2 S} {4 T t}$$"
   ]
  },
  {
   "cell_type": "markdown",
   "metadata": {},
   "source": [
    "with $\\lambda=\\sqrt{T\\cdot c}$, where $c$ denotes the resistance of the over-lying semipermeable layer. The physcial unit of resistance is time. The equation was derived assuming an overall source (Hantush & Jacob 1955). Using the more realistic boundary condition at the top of the modelled cross-section Hantush (1967) showed conditions, under which the equation can be taken as a valid approximation.  "
   ]
  },
  {
   "cell_type": "code",
   "execution_count": 32,
   "metadata": {
    "hide_input": true,
    "scrolled": false
   },
   "outputs": [
    {
     "data": {
      "application/vnd.jupyter.widget-view+json": {
       "model_id": "70dc599293314c79b2907e2a8c97b94f",
       "version_major": 2,
       "version_minor": 0
      },
      "text/plain": [
       "BoundedFloatText(value=30.0, description='Distance:', max=90.0, min=30.0, step=60.0)"
      ]
     },
     "metadata": {},
     "output_type": "display_data"
    }
   ],
   "source": [
    "w3r = widgets.BoundedFloatText(value=30, min=30, max=90.0, step = 60.0, description='Distance:', disabled=False)\n",
    "w3r"
   ]
  },
  {
   "cell_type": "markdown",
   "metadata": {
    "hide_input": true
   },
   "source": [
    "Enter initial guesses for $T$, $S$ and $c$! The physical units of transmissivity and resistance derived from the length and time settings above. "
   ]
  },
  {
   "cell_type": "code",
   "execution_count": 33,
   "metadata": {
    "hide_input": true,
    "scrolled": false
   },
   "outputs": [
    {
     "data": {
      "application/vnd.jupyter.widget-view+json": {
       "model_id": "1b22751678b445aa9bebc1279c4c3aa5",
       "version_major": 2,
       "version_minor": 0
      },
      "text/plain": [
       "HBox(children=(FloatText(value=500.0, description='T:'), FloatText(value=0.0001, description='S:'), FloatText(…"
      ]
     },
     "metadata": {},
     "output_type": "display_data"
    }
   ],
   "source": [
    "w2T = widgets.FloatText(value=500, description='T:', min=1.e-10, disabled=False)\n",
    "w2S = widgets.FloatText(value=1e-4, description='S:', min=1.e-10, disabled=False)\n",
    "wc = widgets.FloatText(value=1e4, description='c:', min=1.e-10, disabled=False)\n",
    "widgets.HBox([w2T, w2S, wc])"
   ]
  },
  {
   "cell_type": "code",
   "execution_count": 34,
   "metadata": {
    "hide_input": true,
    "scrolled": false
   },
   "outputs": [
    {
     "data": {
      "application/vnd.jupyter.widget-view+json": {
       "model_id": "88151f0996ab4749bcdd4d4dd8d5dff2",
       "version_major": 2,
       "version_minor": 0
      },
      "text/plain": [
       "VBox(children=(Button(description='Evaluate Hantush', style=ButtonStyle()),))"
      ]
     },
     "metadata": {},
     "output_type": "display_data"
    }
   ],
   "source": [
    "from scipy.special import exp1\n",
    "from scipy.optimize import fmin\n",
    "from scipy.special import kn as BesselK\n",
    "\n",
    "Q = wQ.value; r = 30\n",
    "tfit = df['t1'].dropna()/60/24; sfit = df['s1'].dropna()\n",
    "\n",
    "def heval (t,r,T,S,c,Q):                 # calculate Hantush solution\n",
    "    T0  = np.where(T>1.e-10,T,1.e-10) \n",
    "    S0  = np.where(S>1.e-10,S,1.e-10)\n",
    "    c0  = np.where(c>1.e-10,c,1.e-10)\n",
    "    lamda = np.sqrt(T0*c0)                \n",
    "    rho = r/lamda\n",
    "    tau = np.log(2*lamda/r*t/(c0*S0))\n",
    "    s = Q/(4*np.pi*T0)*func_F(rho,tau)\n",
    "    return s                             # drawdown \n",
    "\n",
    "def ExpInt(n,u):\n",
    "    # Fast approximation for Wu according to equation 7a and 7b from Srivastava(1998)\n",
    "    gamma = 0.5772 # Euler-Macheroni constant\n",
    "    u0  = np.where(u<1.0,u,1) \n",
    "    Wu0 = np.log(np.exp(-gamma)/u0) + 0.9653*u - 0.1690*u0**2\n",
    "    u1 = np.where(u>=1.0,u,1) \n",
    "    Wu1 = 1/(u1*np.exp(u1))*(u1+0.3575)/(u1+1.280)\n",
    "    Wu = np.where(u<1.0,Wu0,Wu1)\n",
    "    return Wu\n",
    "\n",
    "def func_F(rho,tau):\n",
    "    e = exp1(rho)\n",
    "    e0 = np.where(e>0,e,1.e-10)\n",
    "    w = (e0-BesselK(0,rho))/(e0-exp1(rho/2))\n",
    "    F0 = w*exp1(rho/2*np.exp(-tau))-(w-1)*exp1(rho*np.cosh(tau))  \n",
    "    F1 = 2*BesselK(0,rho) - w*exp1(rho/2*np.exp(tau)) + (w-1)*exp1(rho*np.cosh(tau)) \n",
    "    #w = (ExpInt(1,rho)-BesselK(0,rho))/(ExpInt(1,rho)-ExpInt(1,rho/2))\n",
    "    #F0 = w*ExpInt(1,rho/2*np.exp(-tau))-(w-1)*ExpInt(1,rho*np.cosh(tau))\n",
    "    #F1 = 2*BesselK(0,rho) - w*ExpInt(1,rho/2*np.exp(tau)) + (w-1)*ExpInt(1,rho*np.cosh(tau))    \n",
    "    return (tau<=0)*F0+(tau>0)*F1   \n",
    "\n",
    "def hoptim (x):     \n",
    "    global r,tfit,sfit\n",
    "    T = x[0]; S = x[1]; c = x[2] \n",
    "    s = heval (tfit,r,T,S,c,Q)\n",
    "    res = (s-sfit)\n",
    "    return sum(res*res)                 # function to be minimized\n",
    "\n",
    "def on_weval2_clicked(self):   \n",
    "    global r,df,tfit,sfit    \n",
    "    print ('Oude Korendijk pumping test') \n",
    "    r = w3r.value; print ('Distance to pumping well: '+str(r))\n",
    "    T = w2T.value; print ('Initial transmissivity: '+str(T)) \n",
    "    S = w2S.value; print ('Initial storativity: '+str(S))\n",
    "    c = wc.value; print ('Initial resistance: '+str(c))\n",
    "\n",
    "    if r <= 50:   \n",
    "        tfit = df['t1'].dropna()/60/24; sfit = df['s1'].dropna()\n",
    "    else:\n",
    "        tfit = df['t2'].dropna()/60/24; sfit =df['s2'].dropna()  \n",
    "        \n",
    "    # parameter estimation---------------------------------------------------------\n",
    "    [Tfit,Sfit,cfit] = fmin(hoptim, [T,S,c])\n",
    "\n",
    "    # post-processing--------------------------------------------------------------   \n",
    "    D = T/S;  #print ('D='+str(D))\n",
    "    s = heval (tfit,r,Tfit,Sfit,cfit,Q)\n",
    "    dev = sfit-s \n",
    "    dev2 = dev*dev; res = np.sqrt(sum(dev2))  #; print ('Residual = '+str(res)) \n",
    "    stde = np.sqrt(dev2.mean())\n",
    "    sr=2*dev.std()                            # to compare with hytool !\n",
    "    t = np.logspace(np.log10(tfit.min()),np.log10(tfit.max()),100)\n",
    "    fig = plt.figure(facecolor='w',figsize=(10,5)); ax = fig.add_subplot()\n",
    "    ax.set_xscale('log')\n",
    "    plt.plot(tfit,sfit,'o',label = 'measured') \n",
    "    plt.plot(t,heval(t,r,Tfit,Sfit,cfit,Q),'-', label = 'calculated', lw = 2)\n",
    "    plt.xlabel('time [d]'); plt.ylabel('drawdown [m]')\n",
    "    plt.title ('Oude Korendijk pumping test',fontsize=14)\n",
    "    plt.grid ()\n",
    "    plt.legend (loc='upper left',fontsize=12)\n",
    "    ax.text (0.04,0.5*sfit.max(),'$T =%.1f m^2/d $' % (Tfit, ),fontsize=12)\n",
    "    ax.text (0.04,0.4*sfit.max(),'$S =%.3e $' % (Sfit, ),fontsize=12)\n",
    "    ax.text (0.04,0.3*sfit.max(),'$c =%.3e d$' % (cfit, ),fontsize=12)\n",
    "    ax.text (0.04,0.2*sfit.max(),'$res = %.3e $' % (res, ),fontsize=12)\n",
    "    ax.text (0.04,0.1*sfit.max(),'$stdev = %.3e $' % (stde, ),fontsize=12)\n",
    "    ax.text (0.04,0,'$2stdev =%.3e $' % (sr, ),fontsize=12);\n",
    "\n",
    "weval2 = widgets.Button(description='Evaluate Hantush')        \n",
    "weval2.on_click(on_weval2_clicked)   \n",
    "widgets.VBox([weval2])"
   ]
  },
  {
   "cell_type": "markdown",
   "metadata": {
    "hide_input": true
   },
   "source": [
    "The test can be interpreted from the Theis or the Hantush point of view, i.e. without or with leakage from a layer with fixed head. Which of the two may be deduced from the data: will they fit onto the Theis type curve or, when not, do they match with one of the Hantush type curves. Other effects may also influence the data, like partial penetration of the screen in the aquifer, storage inside the well and delayed yield and, notably, any effects caused by non-linearity, such as non-constant aquifer thickness under the influence of the drawdown in water table aquifers. All such effects may play their role under various circumstances, but may initially be ignored, to be included only when the data show that it is necessary."
   ]
  },
  {
   "cell_type": "markdown",
   "metadata": {},
   "source": [
    "## Conclusion\n",
    "\n",
    "This notebook shows how an analysis of a pumping test can be done by first exploring the data and then applying several methods to see what works. If only the final answer is of interest, then copy that result to another document or notebook to continue working with that results. However, this current notebook is and will always remain a good reference as it is completely documented and clearly shows all the steps taken to explore the problem and to find one or more suitable answers."
   ]
  },
  {
   "cell_type": "markdown",
   "metadata": {},
   "source": [
    "## Bibliography\n",
    "\n",
    "* Cooper H.H., Jacob C.E., A generalized graphical method for evaluating formation constants and summarizing well‐field history, Vol. 27(4), 526-534, 1946\n",
    "* de Glee G.J., Over grondwaterstromingen bij wateronttrekking door middel van putten, J. Waltman, Delft,  1930 (in Dutch)\n",
    "* Hantush M.S., Analysis of data from pumping tests in leaky aquifers, EOS, Vol. 37(6), 702-714, 1956\n",
    "* Hantush M.S., Flow of groundwater in relatively thick leaky aquifers, Water Res. Res., Vol. 3(2), 583-590, 1967\n",
    "* Hantush M.S., Jacob C.E., Non-steady radial flow in an infinite leaky aquifer, Trans. Am. Geophys. Union, Vol. 36, 95-100, 1955 \n",
    "* Holzbecher, E., Environmental Modeling using Matlab, Springer, Berlin Heidelberg, 2012\n",
    "* Kooper J., Beweging van het water in den bodem bij onttrekking door bronnen, De Ingenieur, Vol. 29(38), 697–706 and 29(39), 710–716, 1914 (in Dutch)\n",
    "* Krusemann G.P., de Ridder N.A., Untersuchung und Anwendung von Pumpversuchen, Verlagsges. R. Müller, Köln, 1973 (in German)\n",
    "* Krusemann G.P., de Ridder N.A., Analysis and evaluation of pumping test data, 2.Edition, Intern. Inst. for Land Reclamation and Improvement (ILRI), Publication 47, Wageningen, 1994, https://www.hydrology.nl/images/docs/dutch/key/Kruseman_and_De_Ridder_2000.pdf\n",
    "* Olsthoorn T., The Korendijk pumping test, https://notebook.community/Olsthoorn/TransientGroundwaterFlow/excercises_notebooks/Korendijk-ptest-theis, 2019\n",
    "* Renard P., Hytool: a hydrogeological toolbox. University of Neuchâtel, Switzerland, 2003\n",
    "* Renard P., The future of hydraulic tests, Hydrogeol. J., Vol. 13, 259-262, 2005\n",
    "* Thiem G., Hydrologische Methoden, J.M.Gebhardt, Leipzig, 1906 (in German)\n",
    "* Theis C.V., The relation between the lowering of the piezometric surface and the rate and duration of discharge of a well using ground-water storage, Transactions of the AGU, Vol. 16(2), 519-524, 1935\n",
    "* White R.W., Clebsch A., C.V. Theis - and a review of his life and work, in: Selected Contributions to Ground-Water Hydrology, US Geol. Survey Water-Supply Paper 2415, 1994, http://ponce.sdsu.edu/theis_biography.html \n",
    "* Wit K.E., De hydrologische bodemconstanten in de polder 'De Oude Korendijk' berekend uit pompproeven en laboratoriummetingen in ongeroerde monsters (The hydraulic characteristics of the Oude Korendijk polder, calculated from pumping test data and laboratory measurements of core samples), ICW Notas 190, 24p, 1963 (in Dutch)"
   ]
  },
  {
   "cell_type": "code",
   "execution_count": 35,
   "metadata": {},
   "outputs": [
    {
     "data": {
      "text/plain": [
       "'1.4.1'"
      ]
     },
     "execution_count": 35,
     "metadata": {},
     "output_type": "execute_result"
    }
   ],
   "source": [
    "import scipy\n",
    "scipy.__version__"
   ]
  },
  {
   "cell_type": "code",
   "execution_count": null,
   "metadata": {},
   "outputs": [],
   "source": []
  }
 ],
 "metadata": {
  "kernelspec": {
   "display_name": "Python 3",
   "language": "python",
   "name": "python3"
  },
  "language_info": {
   "codemirror_mode": {
    "name": "ipython",
    "version": 3
   },
   "file_extension": ".py",
   "mimetype": "text/x-python",
   "name": "python",
   "nbconvert_exporter": "python",
   "pygments_lexer": "ipython3",
   "version": "3.7.6"
  },
  "toc": {
   "base_numbering": 1,
   "nav_menu": {},
   "number_sections": true,
   "sideBar": true,
   "skip_h1_title": true,
   "title_cell": "Table of Contents",
   "title_sidebar": "Contents",
   "toc_cell": true,
   "toc_position": {},
   "toc_section_display": true,
   "toc_window_display": true
  },
  "varInspector": {
   "cols": {
    "lenName": 16,
    "lenType": 16,
    "lenVar": 40
   },
   "kernels_config": {
    "python": {
     "delete_cmd_postfix": "",
     "delete_cmd_prefix": "del ",
     "library": "var_list.py",
     "varRefreshCmd": "print(var_dic_list())"
    },
    "r": {
     "delete_cmd_postfix": ") ",
     "delete_cmd_prefix": "rm(",
     "library": "var_list.r",
     "varRefreshCmd": "cat(var_dic_list()) "
    }
   },
   "position": {
    "height": "768.85px",
    "left": "838px",
    "right": "20px",
    "top": "154px",
    "width": "469px"
   },
   "types_to_exclude": [
    "module",
    "function",
    "builtin_function_or_method",
    "instance",
    "_Feature"
   ],
   "window_display": false
  }
 },
 "nbformat": 4,
 "nbformat_minor": 4
}
