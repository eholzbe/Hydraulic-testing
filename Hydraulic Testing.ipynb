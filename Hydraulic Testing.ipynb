{
 "cells": [
  {
   "cell_type": "markdown",
   "metadata": {
    "hideCode": false,
    "hidePrompt": false,
    "hide_input": false
   },
   "source": [
    "\n",
    "<font size = 6px, style=\"color:blue\">**Hydraulic Testing:  Pumping Test Evaluation**</font>\n",
    "\n",
    "\n",
    "Prof. habil. Dr.-Ing. Dipl.-Math. Ekkehard Holzbecher\n",
    "\n",
    "*Demo Oude Korendijk \n",
    "(partially adopted and modified from Olsthoorn)* \n",
    "https://notebook.community/Olsthoorn/TransientGroundwaterFlow/excercises_notebooks/Korendijk-ptest-theis\n"
   ]
  },
  {
   "cell_type": "markdown",
   "metadata": {
    "hideCode": false,
    "hidePrompt": false,
    "toc": true
   },
   "source": [
    "<h1>Table of Contents<span class=\"tocSkip\"></span></h1>\n",
    "<div class=\"toc\"><ul class=\"toc-item\"><li><span><a href=\"#Introduction\" data-toc-modified-id=\"Introduction-1\"><span class=\"toc-item-num\">1&nbsp;&nbsp;</span>Introduction</a></span></li><li><span><a href=\"#The-Oude-Korendijk-Pumping-Test\" data-toc-modified-id=\"The-Oude-Korendijk-Pumping-Test-2\"><span class=\"toc-item-num\">2&nbsp;&nbsp;</span>The Oude Korendijk Pumping Test</a></span></li><li><span><a href=\"#Interpretation-using-Data-for-Steady-State-Drawdown\" data-toc-modified-id=\"Interpretation-using-Data-for-Steady-State-Drawdown-3\"><span class=\"toc-item-num\">3&nbsp;&nbsp;</span>Interpretation using Data for Steady State Drawdown</a></span><ul class=\"toc-item\"><li><span><a href=\"#Confined-Aquifer\" data-toc-modified-id=\"Confined-Aquifer-3.1\"><span class=\"toc-item-num\">3.1&nbsp;&nbsp;</span>Confined Aquifer</a></span></li><li><span><a href=\"#Unconfined-Aquifer\" data-toc-modified-id=\"Unconfined-Aquifer-3.2\"><span class=\"toc-item-num\">3.2&nbsp;&nbsp;</span>Unconfined Aquifer</a></span></li><li><span><a href=\"#Leaky-Aquifer\" data-toc-modified-id=\"Leaky-Aquifer-3.3\"><span class=\"toc-item-num\">3.3&nbsp;&nbsp;</span>Leaky Aquifer</a></span></li></ul></li><li><span><a href=\"#Unsteady-Data-Input-and-Visualization\" data-toc-modified-id=\"Unsteady-Data-Input-and-Visualization-4\"><span class=\"toc-item-num\">4&nbsp;&nbsp;</span>Unsteady Data Input and Visualization</a></span></li><li><span><a href=\"#Basic-Interpretation-based-on-the-Theis-Solution\" data-toc-modified-id=\"Basic-Interpretation-based-on-the-Theis-Solution-5\"><span class=\"toc-item-num\">5&nbsp;&nbsp;</span>Basic Interpretation based on the Theis Solution</a></span></li><li><span><a href=\"#Classical-Interpretation-using-the-Match-on-Double-Log-Scales\" data-toc-modified-id=\"Classical-Interpretation-using-the-Match-on-Double-Log-Scales-6\"><span class=\"toc-item-num\">6&nbsp;&nbsp;</span>Classical Interpretation using the Match on Double Log Scales</a></span><ul class=\"toc-item\"><li><span><a href=\"#Manual-Fitting\" data-toc-modified-id=\"Manual-Fitting-6.1\"><span class=\"toc-item-num\">6.1&nbsp;&nbsp;</span>Manual Fitting</a></span></li><li><span><a href=\"#Using-the-Interface\" data-toc-modified-id=\"Using-the-Interface-6.2\"><span class=\"toc-item-num\">6.2&nbsp;&nbsp;</span>Using the Interface</a></span><ul class=\"toc-item\"><li><span><a href=\"#Multi-Graph\" data-toc-modified-id=\"Multi-Graph-6.2.1\"><span class=\"toc-item-num\">6.2.1&nbsp;&nbsp;</span>Multi-Graph</a></span></li><li><span><a href=\"#Single-Graph\" data-toc-modified-id=\"Single-Graph-6.2.2\"><span class=\"toc-item-num\">6.2.2&nbsp;&nbsp;</span>Single Graph</a></span></li><li><span><a href=\"#Error-Measures\" data-toc-modified-id=\"Error-Measures-6.2.3\"><span class=\"toc-item-num\">6.2.3&nbsp;&nbsp;</span>Error Measures</a></span></li></ul></li></ul></li><li><span><a href=\"#Parameter-Estimation\" data-toc-modified-id=\"Parameter-Estimation-7\"><span class=\"toc-item-num\">7&nbsp;&nbsp;</span>Parameter Estimation</a></span><ul class=\"toc-item\"><li><span><a href=\"#Confined-Aquifer\" data-toc-modified-id=\"Confined-Aquifer-7.1\"><span class=\"toc-item-num\">7.1&nbsp;&nbsp;</span>Confined Aquifer</a></span></li><li><span><a href=\"#Leaky-Aquifer\" data-toc-modified-id=\"Leaky-Aquifer-7.2\"><span class=\"toc-item-num\">7.2&nbsp;&nbsp;</span>Leaky Aquifer</a></span></li></ul></li><li><span><a href=\"#Conclusion\" data-toc-modified-id=\"Conclusion-8\"><span class=\"toc-item-num\">8&nbsp;&nbsp;</span>Conclusion</a></span></li><li><span><a href=\"#Bibliography\" data-toc-modified-id=\"Bibliography-9\"><span class=\"toc-item-num\">9&nbsp;&nbsp;</span>Bibliography</a></span></li></ul></div>"
   ]
  },
  {
   "cell_type": "markdown",
   "metadata": {
    "hideCode": false,
    "hidePrompt": false
   },
   "source": [
    "## Introduction\n",
    "\n",
    "In a pumping test the drawdown of the water table in a piezometer is recorded, as response to pumping from a nearby well. Pumping tests belong into the common toolbox of hydro-geologists, used to obtain basic parameters for aquifer characterization. It is common practice to determine transmissivity (T) and storativity (S) from fitting 1D-analytical solutions to the observed drawdown. The application of this classical evaluation method is related to various idealistic assumptions.\n",
    "\n",
    "The most important ones are listed in the sequel. The aquifer is homogeneous and isotropic, has a constant thickness and has infinite extend. The well is assumed to be ideal, i.e. it is screened over the entire thickness of the aquifer. The well diameter is small. Pumping is performed at constant rate.\n",
    "\n",
    "In 1970 Kruseman & de Ridder published the probably most used and referenced textbook on pumping test evaluations. A translation in German came out in 1973, in Freench 1974. The book was revised several times. The 1994 version is free available on the internet. The book covers evaluation methods for various types of aquifers and conditions on groundwater wells, including examples with data. In the book the most common method, introduced by Theis (1937), is outlined using a pumping test, performed at a location called the Oude Korendijk in the Netherlands.  "
   ]
  },
  {
   "cell_type": "markdown",
   "metadata": {
    "hideCode": false,
    "hidePrompt": false
   },
   "source": [
    "## The Oude Korendijk Pumping Test"
   ]
  },
  {
   "cell_type": "markdown",
   "metadata": {
    "hideCode": false,
    "hidePrompt": false
   },
   "source": [
    "In a report Wit (1963) describes and evaluates several pumping tests, performed in the Oude Korendijk polder areas. The one most cited test is identified as H2 in the original paper, which was performed on July 10$^{th}$1962. The figure below gives an impression on the type of landscape in polder areas in the Netherlands.    "
   ]
  },
  {
   "cell_type": "markdown",
   "metadata": {
    "hideCode": false,
    "hidePrompt": false
   },
   "source": [
    "<div><img src=\"OKfoto.png\" align=\"center\"/></div>"
   ]
  },
  {
   "cell_type": "markdown",
   "metadata": {
    "hideCode": false,
    "hidePrompt": false
   },
   "source": [
    "The locality south of Rotterdam is depicted in the figure below (Wit 1963). In the south, at the bottom of the figure, the Rhine river can be identified. The area is criss-crossed by various trenches for drainage.  "
   ]
  },
  {
   "cell_type": "markdown",
   "metadata": {
    "hideCode": false,
    "hidePrompt": false
   },
   "source": [
    "<div><img src=\"OK1.png\" width=\"480\" height=\"320\" align=\"center\"/></div>"
   ]
  },
  {
   "cell_type": "markdown",
   "metadata": {
    "hideCode": false,
    "hidePrompt": false
   },
   "source": [
    "The Oude Korendijk pumping test is a test in a confined, leaky or unconfined setting, which yield a value for the aquifers' transmissivity and its storage coefficient. The following figure depicts a cross sectional view of the geological situation at the site (Wit 1963). The figure text is in Dutch; here some translations: pompput = pumping well, zand = sand, veen = peat, grint = gravel, peilfilter = filter. "
   ]
  },
  {
   "cell_type": "markdown",
   "metadata": {
    "hideCode": false,
    "hidePrompt": false,
    "hide_input": true
   },
   "source": [
    "<div><img src=\"OK2.png\" width=\"720\" align=\"center\"/></div>"
   ]
  },
  {
   "cell_type": "markdown",
   "metadata": {
    "hideCode": false,
    "hidePrompt": false
   },
   "source": [
    "The well was pumped with a constant rate of 768 m$^3$/d. There are four piezometers in the vicinity of the pumping well, which can be taken as observation points. The nearest is only 80 cm away from the well. The other three observation points are located in distances of 30 m, 90 m and 215 m. The following figure shows the locations and final drawdown in the Oude Korendijk pumping test measured after almost 14 hours past pump start."
   ]
  },
  {
   "cell_type": "markdown",
   "metadata": {
    "hideCode": false,
    "hidePrompt": false
   },
   "source": [
    "<div><img src=\"OK3.png\" width=\"720\" align=\"center\"/></div>"
   ]
  },
  {
   "cell_type": "markdown",
   "metadata": {
    "hideCode": false,
    "hidePrompt": false
   },
   "source": [
    "## Interpretation using Data for Steady State Drawdown"
   ]
  },
  {
   "cell_type": "markdown",
   "metadata": {
    "hideCode": false,
    "hidePrompt": false
   },
   "source": [
    "For all evaluations we need the pumping rate, here in physical units m$^3$/d: "
   ]
  },
  {
   "cell_type": "code",
   "execution_count": 1,
   "metadata": {
    "hideCode": false,
    "hidePrompt": false,
    "hide_input": false,
    "scrolled": false
   },
   "outputs": [
    {
     "data": {
      "application/vnd.jupyter.widget-view+json": {
       "model_id": "aeb04825e6e8470f9e6ee5b84682ad58",
       "version_major": 2,
       "version_minor": 0
      },
      "text/plain": [
       "BoundedFloatText(value=768.0, description='Pump rate:', disabled=True, max=1000.0, step=1.0)"
      ]
     },
     "metadata": {},
     "output_type": "display_data"
    }
   ],
   "source": [
    "from scipy.special import exp1\n",
    "import numpy as np\n",
    "import matplotlib.pyplot as plt\n",
    "import pandas as pd\n",
    "import ipywidgets as widgets\n",
    "#from IPython.display import display\n",
    "#from IPython.display import HTML\n",
    "#import IPython.core.display as di # Example: di.display_html('<h3>%s:</h3>' % str, raw=True)\n",
    "# This line will hide code by default when the notebook is exported as HTML\n",
    "#di.display_html('<script>jQuery(function() {if (jQuery(\"body.notebook_app\").length == 0) { jQuery(\".input_area\").toggle(); jQuery(\".prompt\").toggle();}});</script>', raw=True)\n",
    "%matplotlib inline\n",
    "\n",
    "wQ = widgets.BoundedFloatText(value=768, min=0, max=1000.0, step=1, description='Pump rate:', disabled=True)\n",
    "wQ"
   ]
  },
  {
   "cell_type": "markdown",
   "metadata": {
    "hideCode": false,
    "hidePrompt": false,
    "hide_input": true
   },
   "source": [
    "The input box is disabled as we deal here with the same one pumping test. For the following we need different combinations of two observation locations and the drawdowns measured there. In the boxes below enter distances and final drawdowns from the figure above (in meter)! Defaults are the inputs for the combination of boreholes H30 and H90."
   ]
  },
  {
   "cell_type": "code",
   "execution_count": 2,
   "metadata": {
    "hideCode": false,
    "hidePrompt": false,
    "hide_input": false,
    "scrolled": false
   },
   "outputs": [
    {
     "data": {
      "application/vnd.jupyter.widget-view+json": {
       "model_id": "ed38182b81a6429a9ac9f7b84b702fdd",
       "version_major": 2,
       "version_minor": 0
      },
      "text/plain": [
       "HBox(children=(BoundedFloatText(value=30.0, description='$r_1$:', max=215.0), BoundedFloatText(value=90.0, des…"
      ]
     },
     "metadata": {},
     "output_type": "display_data"
    }
   ],
   "source": [
    "wr1 = widgets.BoundedFloatText(value=30.0, min=0.0, max=215.0, description='$r_1$:', disabled=False)\n",
    "wr2 = widgets.BoundedFloatText(value=90.0, min=0.0, max=215.0, description='$r_2$:', disabled=False)\n",
    "ws1 = widgets.BoundedFloatText(value=1.088, min=0.0, max=3.0, description='$s_1$:', disabled=False)\n",
    "ws2 = widgets.BoundedFloatText(value=0.716, min=0.0, max=3.0, description='$s_2$:', disabled=False)\n",
    "widgets.HBox([wr1,wr2,ws1,ws2]) "
   ]
  },
  {
   "cell_type": "markdown",
   "metadata": {
    "hideCode": false,
    "hidePrompt": false
   },
   "source": [
    "### Confined Aquifer\n",
    "The solution for the steady state drawdown $s$ in a distance $r$ from the pumping well after a long time of pumping was given by Thiem (1906)"
   ]
  },
  {
   "cell_type": "markdown",
   "metadata": {
    "hideCode": false,
    "hidePrompt": false
   },
   "source": [
    "$$ s(r) = -\\frac {Q} {2 \\pi T} \\ln (r)+C $$"
   ]
  },
  {
   "cell_type": "markdown",
   "metadata": {
    "hideCode": false,
    "hidePrompt": false
   },
   "source": [
    "The transmissivity $T$ is a property of the aquifer, characterizing its ability to conduct water. $Q$ denotes the pumping rate. $C$ is an integration constant that emerges due to the solution of a differential equation. If the final drawdown measures $s_1$ and $s_2$ are given at two observation points at different distances $r_1$ and $r_2$, the integration constant can be eliminated and a formula for the transmissivity results: "
   ]
  },
  {
   "cell_type": "markdown",
   "metadata": {
    "hideCode": false,
    "hidePrompt": false,
    "hide_input": false
   },
   "source": [
    "$$ T = \\frac {Q} {2 \\pi (s_1-s_2)} \\ln (r_2/r_1) $$"
   ]
  },
  {
   "cell_type": "markdown",
   "metadata": {
    "hideCode": false,
    "hidePrompt": false
   },
   "source": [
    "In the Oude Korendijk pump test a steady state was not reached. However, the difference between the drawdown values in the two major observation wells remains almost constant. We call this a quasi-steady state, assuming that the difference will be the same, when a stationary situation is reached. "
   ]
  },
  {
   "cell_type": "markdown",
   "metadata": {
    "hideCode": false,
    "hidePrompt": false,
    "hide_input": true
   },
   "source": [
    "Run the next cell to see the result for transmissivity."
   ]
  },
  {
   "cell_type": "code",
   "execution_count": 3,
   "metadata": {
    "hideCode": false,
    "hidePrompt": false,
    "hide_input": true,
    "scrolled": false
   },
   "outputs": [
    {
     "name": "stdout",
     "output_type": "stream",
     "text": [
      "T = 361 m²/d\n"
     ]
    }
   ],
   "source": [
    "Q = wQ.value         \n",
    "r1 = wr1.value; s1 = ws1.value; r2 =wr2.value; s2 = ws2.value  # distances and drawdown \n",
    "T1 = Q * np.log(r1/r2) / (2*np.pi*(s2-s1))\n",
    "print('T = {:.0f} m\\u00b2/d'.format(T1))"
   ]
  },
  {
   "cell_type": "markdown",
   "metadata": {},
   "source": [
    "In that way for $T$ six different values can be obtained using the different combinations of the observation values. In order to get only one value one may take some average of these. \n",
    "\n",
    "It is much better to find the Thiem curve that fits best with the data values. That can be done by using an optimization algorithm. Here we use linear regression in the semi-logarithmical coordinate system. The results difffer only slighly from results in real world coordinates. Get graphical and numerical results by using the buttons below.      "
   ]
  },
  {
   "cell_type": "code",
   "execution_count": 4,
   "metadata": {
    "hide_input": true
   },
   "outputs": [
    {
     "data": {
      "application/vnd.jupyter.widget-view+json": {
       "model_id": "02faf572865849cc932f82c1de164520",
       "version_major": 2,
       "version_minor": 0
      },
      "text/plain": [
       "HBox(children=(Button(description='Confined aquifer fit', style=ButtonStyle()), Checkbox(value=False, descript…"
      ]
     },
     "metadata": {},
     "output_type": "display_data"
    }
   ],
   "source": [
    "rfit = [0.8, 30, 90, 215]\n",
    "srfit = [2.235, 1.088, 0.716, 0.25] \n",
    "\n",
    "def on_wth_clicked(self):\n",
    "    global T2\n",
    "    n = len(rfit); lr = np.log(rfit)        # linear regression\n",
    "    p1 = (n*np.sum(lr*srfit)-np.sum(lr)*np.sum(srfit))/(n*np.sum(lr*lr)-np.sum(lr)**2)\n",
    "    p0 = (sum(srfit)-p1*sum(lr))/n\n",
    "    T = -Q/2/np.pi/p1                       # transmissivity \n",
    "    R = np.exp(-p0/p1)                      # reach\n",
    "    sfit = -Q*(np.log(rfit)-np.log(R))/2/np.pi/T\n",
    "    norms = np.linalg.norm(srfit-sfit)\n",
    "    stdev = np.sqrt(np.mean((srfit-sfit)**2))\n",
    "    rmax = max(rfit); smax = max(srfit)\n",
    "    r = np.arange(.9*min(rfit), rmax, step = rmax/50)\n",
    "    s = -Q*(np.log(r)-np.log(R))/2/np.pi/T\n",
    "    fig = plt.figure(facecolor='w'); ax = fig.add_subplot()\n",
    "    if wca.value: \n",
    "        ax.set_xscale('log'); xtext = 1\n",
    "    else:\n",
    "        xtext = 130\n",
    "    plt.plot (rfit,srfit, 'o', label = 'observation' )\n",
    "    plt.plot (r,s, '.-', label = 'modelled' )\n",
    "    plt.xlabel('distance [m]',fontsize=12)\n",
    "    plt.ylabel('drawdown [m]',fontsize=12)\n",
    "    ax.grid(b=True, c='w', lw=2, ls='-')\n",
    "    plt.legend(loc = 'upper right',fontsize=12)\n",
    "    ax.text (xtext,.7*smax,'$T = %.1f m^2/d$' % (T, ),fontsize=12)\n",
    "    ax.text (xtext,.6*smax,'2-norm = $%.3e $' % (norms, ),fontsize=12)\n",
    "    ax.text (xtext,.5*smax,'stdev = $%.3e $' % (stdev, ),fontsize=12)\n",
    "    plt.title('Pump test: Oude Korendijk, Curve Fitting: Thiem', fontsize=14)\n",
    "    T2 = T\n",
    "\n",
    "wth = widgets.Button(description='Confined aquifer fit')        \n",
    "wth.on_click(on_wth_clicked)   \n",
    "wca = widgets.Checkbox(value=False, description='log', disabled=False, indent=False)\n",
    "widgets.HBox([wth,wca]) "
   ]
  },
  {
   "cell_type": "markdown",
   "metadata": {
    "hideCode": false,
    "hidePrompt": false,
    "hide_input": false
   },
   "source": [
    "The transmissivity is related to the conductivity $K$ of the porous medium in the aquifer by: $T=K \\cdot D$, where $D$ denotes the aquifer thickness. \n",
    "\n",
    "For the computation of the conductivity the aquifer thickness $D$ of the aquifer has to be given. "
   ]
  },
  {
   "cell_type": "code",
   "execution_count": 5,
   "metadata": {
    "hideCode": false,
    "hidePrompt": false,
    "hide_input": false,
    "scrolled": false
   },
   "outputs": [
    {
     "data": {
      "application/vnd.jupyter.widget-view+json": {
       "model_id": "fc6a36715d5c4e8b8b0469cb38752a36",
       "version_major": 2,
       "version_minor": 0
      },
      "text/plain": [
       "BoundedFloatText(value=7.0, description='Thickness:', max=15.0, step=1.0)"
      ]
     },
     "metadata": {},
     "output_type": "display_data"
    }
   ],
   "source": [
    "wD = widgets.BoundedFloatText(value=7, min=0, max=15.0, step=1, description='Thickness:', disabled=False)\n",
    "wD"
   ]
  },
  {
   "cell_type": "markdown",
   "metadata": {
    "hideCode": false,
    "hidePrompt": false
   },
   "source": [
    " Obtain the result for the hydraulic conductivity of the porous medium by running the next cell: "
   ]
  },
  {
   "cell_type": "code",
   "execution_count": 6,
   "metadata": {
    "hideCode": false,
    "hidePrompt": false,
    "hide_input": true,
    "scrolled": true
   },
   "outputs": [
    {
     "name": "stdout",
     "output_type": "stream",
     "text": [
      "K = 52 m/d\n"
     ]
    }
   ],
   "source": [
    "print('K = {:.0f} m/d'.format(T1/wD.value))"
   ]
  },
  {
   "cell_type": "markdown",
   "metadata": {
    "hideCode": false,
    "hidePrompt": false
   },
   "source": [
    "### Unconfined Aquifer \n",
    "The Thiem formula shown above holds for a confined aquifer. An analogous derivation derivation can be performed for an unconfined aquifer. The formula for the hydraulic head is:"
   ]
  },
  {
   "cell_type": "markdown",
   "metadata": {
    "hideCode": false,
    "hidePrompt": false
   },
   "source": [
    "$$ h^2(r) = \\frac {Q} {\\pi K} \\ln (r)+C $$"
   ]
  },
  {
   "cell_type": "markdown",
   "metadata": {
    "hideCode": false,
    "hidePrompt": false
   },
   "source": [
    "where $h$ denotes the piezometric head, measured from the aquifer base. From this one obtains: "
   ]
  },
  {
   "cell_type": "markdown",
   "metadata": {
    "hideCode": false,
    "hidePrompt": false,
    "hide_input": false
   },
   "source": [
    "$$ K = \\frac {Q} {\\pi (h_2^2-h_1^2)} \\ln (r_2/r_1) $$"
   ]
  },
  {
   "cell_type": "markdown",
   "metadata": {
    "hideCode": false,
    "hidePrompt": false
   },
   "source": [
    "For the calculation the constant initial head is required. We enter it here: "
   ]
  },
  {
   "cell_type": "code",
   "execution_count": 7,
   "metadata": {
    "hideCode": false,
    "hidePrompt": false,
    "hide_input": true,
    "scrolled": false
   },
   "outputs": [
    {
     "data": {
      "application/vnd.jupyter.widget-view+json": {
       "model_id": "4050f353b2754c7fb759515b3e5da6a0",
       "version_major": 2,
       "version_minor": 0
      },
      "text/plain": [
       "BoundedFloatText(value=7.0, description='Initial head:', max=15.0, min=1.0, step=1.5)"
      ]
     },
     "metadata": {},
     "output_type": "display_data"
    }
   ],
   "source": [
    "wH = widgets.BoundedFloatText(value=7, min=1, max=15.0, step=1.5, description='Initial head:', disabled=False)\n",
    "wH"
   ]
  },
  {
   "cell_type": "markdown",
   "metadata": {
    "hideCode": false,
    "hidePrompt": false
   },
   "source": [
    " and obtain the result by running the next cell: "
   ]
  },
  {
   "cell_type": "code",
   "execution_count": 8,
   "metadata": {
    "hideCode": false,
    "hidePrompt": false,
    "hide_input": false,
    "scrolled": false
   },
   "outputs": [
    {
     "name": "stdout",
     "output_type": "stream",
     "text": [
      "K = 59 m/d\n"
     ]
    }
   ],
   "source": [
    "h1 = wH.value-s1; h2 = wH.value-s2\n",
    "K1 = Q * np.log(r2/r1) / np.pi / (h2**2-h1**2)\n",
    "print('K = {:.0f} m/d'.format(K1))"
   ]
  },
  {
   "cell_type": "markdown",
   "metadata": {
    "hideCode": false,
    "hidePrompt": false
   },
   "source": [
    "Also for this pumping we don't know the exact value of the initial head. Change its value and see the effect on the resulting conductivity! \n",
    "Compare the result with the conductivities that results from the Thiem evaluation for the confined aquifer, identifying the aquifer thickness with the initial head."
   ]
  },
  {
   "cell_type": "markdown",
   "metadata": {
    "hideCode": false,
    "hidePrompt": false
   },
   "source": [
    "**Task**: Use the Thiem evaluation for the steady state taking the measurements at the near and far observtion points into consideration. Examine results for different pairs of observations.  \n",
    "\n",
    "Lets calculate the hydraulic conductivity from a best fit using all four measured drawdown values. Again we use linear regression in semi-logarithmical coordinates. Click the button!"
   ]
  },
  {
   "cell_type": "code",
   "execution_count": 9,
   "metadata": {
    "hide_input": false
   },
   "outputs": [
    {
     "data": {
      "application/vnd.jupyter.widget-view+json": {
       "model_id": "112767dc18af4acb900850cf780c7b22",
       "version_major": 2,
       "version_minor": 0
      },
      "text/plain": [
       "HBox(children=(Button(description='Unconfined aquifer fit', style=ButtonStyle()), Checkbox(value=False, descri…"
      ]
     },
     "metadata": {},
     "output_type": "display_data"
    },
    {
     "data": {
      "application/javascript": [
       "/* Put everything inside the global mpl namespace */\n",
       "window.mpl = {};\n",
       "\n",
       "\n",
       "mpl.get_websocket_type = function() {\n",
       "    if (typeof(WebSocket) !== 'undefined') {\n",
       "        return WebSocket;\n",
       "    } else if (typeof(MozWebSocket) !== 'undefined') {\n",
       "        return MozWebSocket;\n",
       "    } else {\n",
       "        alert('Your browser does not have WebSocket support. ' +\n",
       "              'Please try Chrome, Safari or Firefox ≥ 6. ' +\n",
       "              'Firefox 4 and 5 are also supported but you ' +\n",
       "              'have to enable WebSockets in about:config.');\n",
       "    };\n",
       "}\n",
       "\n",
       "mpl.figure = function(figure_id, websocket, ondownload, parent_element) {\n",
       "    this.id = figure_id;\n",
       "\n",
       "    this.ws = websocket;\n",
       "\n",
       "    this.supports_binary = (this.ws.binaryType != undefined);\n",
       "\n",
       "    if (!this.supports_binary) {\n",
       "        var warnings = document.getElementById(\"mpl-warnings\");\n",
       "        if (warnings) {\n",
       "            warnings.style.display = 'block';\n",
       "            warnings.textContent = (\n",
       "                \"This browser does not support binary websocket messages. \" +\n",
       "                    \"Performance may be slow.\");\n",
       "        }\n",
       "    }\n",
       "\n",
       "    this.imageObj = new Image();\n",
       "\n",
       "    this.context = undefined;\n",
       "    this.message = undefined;\n",
       "    this.canvas = undefined;\n",
       "    this.rubberband_canvas = undefined;\n",
       "    this.rubberband_context = undefined;\n",
       "    this.format_dropdown = undefined;\n",
       "\n",
       "    this.image_mode = 'full';\n",
       "\n",
       "    this.root = $('<div/>');\n",
       "    this._root_extra_style(this.root)\n",
       "    this.root.attr('style', 'display: inline-block');\n",
       "\n",
       "    $(parent_element).append(this.root);\n",
       "\n",
       "    this._init_header(this);\n",
       "    this._init_canvas(this);\n",
       "    this._init_toolbar(this);\n",
       "\n",
       "    var fig = this;\n",
       "\n",
       "    this.waiting = false;\n",
       "\n",
       "    this.ws.onopen =  function () {\n",
       "            fig.send_message(\"supports_binary\", {value: fig.supports_binary});\n",
       "            fig.send_message(\"send_image_mode\", {});\n",
       "            if (mpl.ratio != 1) {\n",
       "                fig.send_message(\"set_dpi_ratio\", {'dpi_ratio': mpl.ratio});\n",
       "            }\n",
       "            fig.send_message(\"refresh\", {});\n",
       "        }\n",
       "\n",
       "    this.imageObj.onload = function() {\n",
       "            if (fig.image_mode == 'full') {\n",
       "                // Full images could contain transparency (where diff images\n",
       "                // almost always do), so we need to clear the canvas so that\n",
       "                // there is no ghosting.\n",
       "                fig.context.clearRect(0, 0, fig.canvas.width, fig.canvas.height);\n",
       "            }\n",
       "            fig.context.drawImage(fig.imageObj, 0, 0);\n",
       "        };\n",
       "\n",
       "    this.imageObj.onunload = function() {\n",
       "        fig.ws.close();\n",
       "    }\n",
       "\n",
       "    this.ws.onmessage = this._make_on_message_function(this);\n",
       "\n",
       "    this.ondownload = ondownload;\n",
       "}\n",
       "\n",
       "mpl.figure.prototype._init_header = function() {\n",
       "    var titlebar = $(\n",
       "        '<div class=\"ui-dialog-titlebar ui-widget-header ui-corner-all ' +\n",
       "        'ui-helper-clearfix\"/>');\n",
       "    var titletext = $(\n",
       "        '<div class=\"ui-dialog-title\" style=\"width: 100%; ' +\n",
       "        'text-align: center; padding: 3px;\"/>');\n",
       "    titlebar.append(titletext)\n",
       "    this.root.append(titlebar);\n",
       "    this.header = titletext[0];\n",
       "}\n",
       "\n",
       "\n",
       "\n",
       "mpl.figure.prototype._canvas_extra_style = function(canvas_div) {\n",
       "\n",
       "}\n",
       "\n",
       "\n",
       "mpl.figure.prototype._root_extra_style = function(canvas_div) {\n",
       "\n",
       "}\n",
       "\n",
       "mpl.figure.prototype._init_canvas = function() {\n",
       "    var fig = this;\n",
       "\n",
       "    var canvas_div = $('<div/>');\n",
       "\n",
       "    canvas_div.attr('style', 'position: relative; clear: both; outline: 0');\n",
       "\n",
       "    function canvas_keyboard_event(event) {\n",
       "        return fig.key_event(event, event['data']);\n",
       "    }\n",
       "\n",
       "    canvas_div.keydown('key_press', canvas_keyboard_event);\n",
       "    canvas_div.keyup('key_release', canvas_keyboard_event);\n",
       "    this.canvas_div = canvas_div\n",
       "    this._canvas_extra_style(canvas_div)\n",
       "    this.root.append(canvas_div);\n",
       "\n",
       "    var canvas = $('<canvas/>');\n",
       "    canvas.addClass('mpl-canvas');\n",
       "    canvas.attr('style', \"left: 0; top: 0; z-index: 0; outline: 0\")\n",
       "\n",
       "    this.canvas = canvas[0];\n",
       "    this.context = canvas[0].getContext(\"2d\");\n",
       "\n",
       "    var backingStore = this.context.backingStorePixelRatio ||\n",
       "\tthis.context.webkitBackingStorePixelRatio ||\n",
       "\tthis.context.mozBackingStorePixelRatio ||\n",
       "\tthis.context.msBackingStorePixelRatio ||\n",
       "\tthis.context.oBackingStorePixelRatio ||\n",
       "\tthis.context.backingStorePixelRatio || 1;\n",
       "\n",
       "    mpl.ratio = (window.devicePixelRatio || 1) / backingStore;\n",
       "\n",
       "    var rubberband = $('<canvas/>');\n",
       "    rubberband.attr('style', \"position: absolute; left: 0; top: 0; z-index: 1;\")\n",
       "\n",
       "    var pass_mouse_events = true;\n",
       "\n",
       "    canvas_div.resizable({\n",
       "        start: function(event, ui) {\n",
       "            pass_mouse_events = false;\n",
       "        },\n",
       "        resize: function(event, ui) {\n",
       "            fig.request_resize(ui.size.width, ui.size.height);\n",
       "        },\n",
       "        stop: function(event, ui) {\n",
       "            pass_mouse_events = true;\n",
       "            fig.request_resize(ui.size.width, ui.size.height);\n",
       "        },\n",
       "    });\n",
       "\n",
       "    function mouse_event_fn(event) {\n",
       "        if (pass_mouse_events)\n",
       "            return fig.mouse_event(event, event['data']);\n",
       "    }\n",
       "\n",
       "    rubberband.mousedown('button_press', mouse_event_fn);\n",
       "    rubberband.mouseup('button_release', mouse_event_fn);\n",
       "    // Throttle sequential mouse events to 1 every 20ms.\n",
       "    rubberband.mousemove('motion_notify', mouse_event_fn);\n",
       "\n",
       "    rubberband.mouseenter('figure_enter', mouse_event_fn);\n",
       "    rubberband.mouseleave('figure_leave', mouse_event_fn);\n",
       "\n",
       "    canvas_div.on(\"wheel\", function (event) {\n",
       "        event = event.originalEvent;\n",
       "        event['data'] = 'scroll'\n",
       "        if (event.deltaY < 0) {\n",
       "            event.step = 1;\n",
       "        } else {\n",
       "            event.step = -1;\n",
       "        }\n",
       "        mouse_event_fn(event);\n",
       "    });\n",
       "\n",
       "    canvas_div.append(canvas);\n",
       "    canvas_div.append(rubberband);\n",
       "\n",
       "    this.rubberband = rubberband;\n",
       "    this.rubberband_canvas = rubberband[0];\n",
       "    this.rubberband_context = rubberband[0].getContext(\"2d\");\n",
       "    this.rubberband_context.strokeStyle = \"#000000\";\n",
       "\n",
       "    this._resize_canvas = function(width, height) {\n",
       "        // Keep the size of the canvas, canvas container, and rubber band\n",
       "        // canvas in synch.\n",
       "        canvas_div.css('width', width)\n",
       "        canvas_div.css('height', height)\n",
       "\n",
       "        canvas.attr('width', width * mpl.ratio);\n",
       "        canvas.attr('height', height * mpl.ratio);\n",
       "        canvas.attr('style', 'width: ' + width + 'px; height: ' + height + 'px;');\n",
       "\n",
       "        rubberband.attr('width', width);\n",
       "        rubberband.attr('height', height);\n",
       "    }\n",
       "\n",
       "    // Set the figure to an initial 600x600px, this will subsequently be updated\n",
       "    // upon first draw.\n",
       "    this._resize_canvas(600, 600);\n",
       "\n",
       "    // Disable right mouse context menu.\n",
       "    $(this.rubberband_canvas).bind(\"contextmenu\",function(e){\n",
       "        return false;\n",
       "    });\n",
       "\n",
       "    function set_focus () {\n",
       "        canvas.focus();\n",
       "        canvas_div.focus();\n",
       "    }\n",
       "\n",
       "    window.setTimeout(set_focus, 100);\n",
       "}\n",
       "\n",
       "mpl.figure.prototype._init_toolbar = function() {\n",
       "    var fig = this;\n",
       "\n",
       "    var nav_element = $('<div/>');\n",
       "    nav_element.attr('style', 'width: 100%');\n",
       "    this.root.append(nav_element);\n",
       "\n",
       "    // Define a callback function for later on.\n",
       "    function toolbar_event(event) {\n",
       "        return fig.toolbar_button_onclick(event['data']);\n",
       "    }\n",
       "    function toolbar_mouse_event(event) {\n",
       "        return fig.toolbar_button_onmouseover(event['data']);\n",
       "    }\n",
       "\n",
       "    for(var toolbar_ind in mpl.toolbar_items) {\n",
       "        var name = mpl.toolbar_items[toolbar_ind][0];\n",
       "        var tooltip = mpl.toolbar_items[toolbar_ind][1];\n",
       "        var image = mpl.toolbar_items[toolbar_ind][2];\n",
       "        var method_name = mpl.toolbar_items[toolbar_ind][3];\n",
       "\n",
       "        if (!name) {\n",
       "            // put a spacer in here.\n",
       "            continue;\n",
       "        }\n",
       "        var button = $('<button/>');\n",
       "        button.addClass('ui-button ui-widget ui-state-default ui-corner-all ' +\n",
       "                        'ui-button-icon-only');\n",
       "        button.attr('role', 'button');\n",
       "        button.attr('aria-disabled', 'false');\n",
       "        button.click(method_name, toolbar_event);\n",
       "        button.mouseover(tooltip, toolbar_mouse_event);\n",
       "\n",
       "        var icon_img = $('<span/>');\n",
       "        icon_img.addClass('ui-button-icon-primary ui-icon');\n",
       "        icon_img.addClass(image);\n",
       "        icon_img.addClass('ui-corner-all');\n",
       "\n",
       "        var tooltip_span = $('<span/>');\n",
       "        tooltip_span.addClass('ui-button-text');\n",
       "        tooltip_span.html(tooltip);\n",
       "\n",
       "        button.append(icon_img);\n",
       "        button.append(tooltip_span);\n",
       "\n",
       "        nav_element.append(button);\n",
       "    }\n",
       "\n",
       "    var fmt_picker_span = $('<span/>');\n",
       "\n",
       "    var fmt_picker = $('<select/>');\n",
       "    fmt_picker.addClass('mpl-toolbar-option ui-widget ui-widget-content');\n",
       "    fmt_picker_span.append(fmt_picker);\n",
       "    nav_element.append(fmt_picker_span);\n",
       "    this.format_dropdown = fmt_picker[0];\n",
       "\n",
       "    for (var ind in mpl.extensions) {\n",
       "        var fmt = mpl.extensions[ind];\n",
       "        var option = $(\n",
       "            '<option/>', {selected: fmt === mpl.default_extension}).html(fmt);\n",
       "        fmt_picker.append(option);\n",
       "    }\n",
       "\n",
       "    // Add hover states to the ui-buttons\n",
       "    $( \".ui-button\" ).hover(\n",
       "        function() { $(this).addClass(\"ui-state-hover\");},\n",
       "        function() { $(this).removeClass(\"ui-state-hover\");}\n",
       "    );\n",
       "\n",
       "    var status_bar = $('<span class=\"mpl-message\"/>');\n",
       "    nav_element.append(status_bar);\n",
       "    this.message = status_bar[0];\n",
       "}\n",
       "\n",
       "mpl.figure.prototype.request_resize = function(x_pixels, y_pixels) {\n",
       "    // Request matplotlib to resize the figure. Matplotlib will then trigger a resize in the client,\n",
       "    // which will in turn request a refresh of the image.\n",
       "    this.send_message('resize', {'width': x_pixels, 'height': y_pixels});\n",
       "}\n",
       "\n",
       "mpl.figure.prototype.send_message = function(type, properties) {\n",
       "    properties['type'] = type;\n",
       "    properties['figure_id'] = this.id;\n",
       "    this.ws.send(JSON.stringify(properties));\n",
       "}\n",
       "\n",
       "mpl.figure.prototype.send_draw_message = function() {\n",
       "    if (!this.waiting) {\n",
       "        this.waiting = true;\n",
       "        this.ws.send(JSON.stringify({type: \"draw\", figure_id: this.id}));\n",
       "    }\n",
       "}\n",
       "\n",
       "\n",
       "mpl.figure.prototype.handle_save = function(fig, msg) {\n",
       "    var format_dropdown = fig.format_dropdown;\n",
       "    var format = format_dropdown.options[format_dropdown.selectedIndex].value;\n",
       "    fig.ondownload(fig, format);\n",
       "}\n",
       "\n",
       "\n",
       "mpl.figure.prototype.handle_resize = function(fig, msg) {\n",
       "    var size = msg['size'];\n",
       "    if (size[0] != fig.canvas.width || size[1] != fig.canvas.height) {\n",
       "        fig._resize_canvas(size[0], size[1]);\n",
       "        fig.send_message(\"refresh\", {});\n",
       "    };\n",
       "}\n",
       "\n",
       "mpl.figure.prototype.handle_rubberband = function(fig, msg) {\n",
       "    var x0 = msg['x0'] / mpl.ratio;\n",
       "    var y0 = (fig.canvas.height - msg['y0']) / mpl.ratio;\n",
       "    var x1 = msg['x1'] / mpl.ratio;\n",
       "    var y1 = (fig.canvas.height - msg['y1']) / mpl.ratio;\n",
       "    x0 = Math.floor(x0) + 0.5;\n",
       "    y0 = Math.floor(y0) + 0.5;\n",
       "    x1 = Math.floor(x1) + 0.5;\n",
       "    y1 = Math.floor(y1) + 0.5;\n",
       "    var min_x = Math.min(x0, x1);\n",
       "    var min_y = Math.min(y0, y1);\n",
       "    var width = Math.abs(x1 - x0);\n",
       "    var height = Math.abs(y1 - y0);\n",
       "\n",
       "    fig.rubberband_context.clearRect(\n",
       "        0, 0, fig.canvas.width / mpl.ratio, fig.canvas.height / mpl.ratio);\n",
       "\n",
       "    fig.rubberband_context.strokeRect(min_x, min_y, width, height);\n",
       "}\n",
       "\n",
       "mpl.figure.prototype.handle_figure_label = function(fig, msg) {\n",
       "    // Updates the figure title.\n",
       "    fig.header.textContent = msg['label'];\n",
       "}\n",
       "\n",
       "mpl.figure.prototype.handle_cursor = function(fig, msg) {\n",
       "    var cursor = msg['cursor'];\n",
       "    switch(cursor)\n",
       "    {\n",
       "    case 0:\n",
       "        cursor = 'pointer';\n",
       "        break;\n",
       "    case 1:\n",
       "        cursor = 'default';\n",
       "        break;\n",
       "    case 2:\n",
       "        cursor = 'crosshair';\n",
       "        break;\n",
       "    case 3:\n",
       "        cursor = 'move';\n",
       "        break;\n",
       "    }\n",
       "    fig.rubberband_canvas.style.cursor = cursor;\n",
       "}\n",
       "\n",
       "mpl.figure.prototype.handle_message = function(fig, msg) {\n",
       "    fig.message.textContent = msg['message'];\n",
       "}\n",
       "\n",
       "mpl.figure.prototype.handle_draw = function(fig, msg) {\n",
       "    // Request the server to send over a new figure.\n",
       "    fig.send_draw_message();\n",
       "}\n",
       "\n",
       "mpl.figure.prototype.handle_image_mode = function(fig, msg) {\n",
       "    fig.image_mode = msg['mode'];\n",
       "}\n",
       "\n",
       "mpl.figure.prototype.updated_canvas_event = function() {\n",
       "    // Called whenever the canvas gets updated.\n",
       "    this.send_message(\"ack\", {});\n",
       "}\n",
       "\n",
       "// A function to construct a web socket function for onmessage handling.\n",
       "// Called in the figure constructor.\n",
       "mpl.figure.prototype._make_on_message_function = function(fig) {\n",
       "    return function socket_on_message(evt) {\n",
       "        if (evt.data instanceof Blob) {\n",
       "            /* FIXME: We get \"Resource interpreted as Image but\n",
       "             * transferred with MIME type text/plain:\" errors on\n",
       "             * Chrome.  But how to set the MIME type?  It doesn't seem\n",
       "             * to be part of the websocket stream */\n",
       "            evt.data.type = \"image/png\";\n",
       "\n",
       "            /* Free the memory for the previous frames */\n",
       "            if (fig.imageObj.src) {\n",
       "                (window.URL || window.webkitURL).revokeObjectURL(\n",
       "                    fig.imageObj.src);\n",
       "            }\n",
       "\n",
       "            fig.imageObj.src = (window.URL || window.webkitURL).createObjectURL(\n",
       "                evt.data);\n",
       "            fig.updated_canvas_event();\n",
       "            fig.waiting = false;\n",
       "            return;\n",
       "        }\n",
       "        else if (typeof evt.data === 'string' && evt.data.slice(0, 21) == \"data:image/png;base64\") {\n",
       "            fig.imageObj.src = evt.data;\n",
       "            fig.updated_canvas_event();\n",
       "            fig.waiting = false;\n",
       "            return;\n",
       "        }\n",
       "\n",
       "        var msg = JSON.parse(evt.data);\n",
       "        var msg_type = msg['type'];\n",
       "\n",
       "        // Call the  \"handle_{type}\" callback, which takes\n",
       "        // the figure and JSON message as its only arguments.\n",
       "        try {\n",
       "            var callback = fig[\"handle_\" + msg_type];\n",
       "        } catch (e) {\n",
       "            console.log(\"No handler for the '\" + msg_type + \"' message type: \", msg);\n",
       "            return;\n",
       "        }\n",
       "\n",
       "        if (callback) {\n",
       "            try {\n",
       "                // console.log(\"Handling '\" + msg_type + \"' message: \", msg);\n",
       "                callback(fig, msg);\n",
       "            } catch (e) {\n",
       "                console.log(\"Exception inside the 'handler_\" + msg_type + \"' callback:\", e, e.stack, msg);\n",
       "            }\n",
       "        }\n",
       "    };\n",
       "}\n",
       "\n",
       "// from http://stackoverflow.com/questions/1114465/getting-mouse-location-in-canvas\n",
       "mpl.findpos = function(e) {\n",
       "    //this section is from http://www.quirksmode.org/js/events_properties.html\n",
       "    var targ;\n",
       "    if (!e)\n",
       "        e = window.event;\n",
       "    if (e.target)\n",
       "        targ = e.target;\n",
       "    else if (e.srcElement)\n",
       "        targ = e.srcElement;\n",
       "    if (targ.nodeType == 3) // defeat Safari bug\n",
       "        targ = targ.parentNode;\n",
       "\n",
       "    // jQuery normalizes the pageX and pageY\n",
       "    // pageX,Y are the mouse positions relative to the document\n",
       "    // offset() returns the position of the element relative to the document\n",
       "    var x = e.pageX - $(targ).offset().left;\n",
       "    var y = e.pageY - $(targ).offset().top;\n",
       "\n",
       "    return {\"x\": x, \"y\": y};\n",
       "};\n",
       "\n",
       "/*\n",
       " * return a copy of an object with only non-object keys\n",
       " * we need this to avoid circular references\n",
       " * http://stackoverflow.com/a/24161582/3208463\n",
       " */\n",
       "function simpleKeys (original) {\n",
       "  return Object.keys(original).reduce(function (obj, key) {\n",
       "    if (typeof original[key] !== 'object')\n",
       "        obj[key] = original[key]\n",
       "    return obj;\n",
       "  }, {});\n",
       "}\n",
       "\n",
       "mpl.figure.prototype.mouse_event = function(event, name) {\n",
       "    var canvas_pos = mpl.findpos(event)\n",
       "\n",
       "    if (name === 'button_press')\n",
       "    {\n",
       "        this.canvas.focus();\n",
       "        this.canvas_div.focus();\n",
       "    }\n",
       "\n",
       "    var x = canvas_pos.x * mpl.ratio;\n",
       "    var y = canvas_pos.y * mpl.ratio;\n",
       "\n",
       "    this.send_message(name, {x: x, y: y, button: event.button,\n",
       "                             step: event.step,\n",
       "                             guiEvent: simpleKeys(event)});\n",
       "\n",
       "    /* This prevents the web browser from automatically changing to\n",
       "     * the text insertion cursor when the button is pressed.  We want\n",
       "     * to control all of the cursor setting manually through the\n",
       "     * 'cursor' event from matplotlib */\n",
       "    event.preventDefault();\n",
       "    return false;\n",
       "}\n",
       "\n",
       "mpl.figure.prototype._key_event_extra = function(event, name) {\n",
       "    // Handle any extra behaviour associated with a key event\n",
       "}\n",
       "\n",
       "mpl.figure.prototype.key_event = function(event, name) {\n",
       "\n",
       "    // Prevent repeat events\n",
       "    if (name == 'key_press')\n",
       "    {\n",
       "        if (event.which === this._key)\n",
       "            return;\n",
       "        else\n",
       "            this._key = event.which;\n",
       "    }\n",
       "    if (name == 'key_release')\n",
       "        this._key = null;\n",
       "\n",
       "    var value = '';\n",
       "    if (event.ctrlKey && event.which != 17)\n",
       "        value += \"ctrl+\";\n",
       "    if (event.altKey && event.which != 18)\n",
       "        value += \"alt+\";\n",
       "    if (event.shiftKey && event.which != 16)\n",
       "        value += \"shift+\";\n",
       "\n",
       "    value += 'k';\n",
       "    value += event.which.toString();\n",
       "\n",
       "    this._key_event_extra(event, name);\n",
       "\n",
       "    this.send_message(name, {key: value,\n",
       "                             guiEvent: simpleKeys(event)});\n",
       "    return false;\n",
       "}\n",
       "\n",
       "mpl.figure.prototype.toolbar_button_onclick = function(name) {\n",
       "    if (name == 'download') {\n",
       "        this.handle_save(this, null);\n",
       "    } else {\n",
       "        this.send_message(\"toolbar_button\", {name: name});\n",
       "    }\n",
       "};\n",
       "\n",
       "mpl.figure.prototype.toolbar_button_onmouseover = function(tooltip) {\n",
       "    this.message.textContent = tooltip;\n",
       "};\n",
       "mpl.toolbar_items = [[\"Home\", \"Reset original view\", \"fa fa-home icon-home\", \"home\"], [\"Back\", \"Back to previous view\", \"fa fa-arrow-left icon-arrow-left\", \"back\"], [\"Forward\", \"Forward to next view\", \"fa fa-arrow-right icon-arrow-right\", \"forward\"], [\"\", \"\", \"\", \"\"], [\"Pan\", \"Pan axes with left mouse, zoom with right\", \"fa fa-arrows icon-move\", \"pan\"], [\"Zoom\", \"Zoom to rectangle\", \"fa fa-square-o icon-check-empty\", \"zoom\"], [\"\", \"\", \"\", \"\"], [\"Download\", \"Download plot\", \"fa fa-floppy-o icon-save\", \"download\"]];\n",
       "\n",
       "mpl.extensions = [\"eps\", \"jpeg\", \"pdf\", \"png\", \"ps\", \"raw\", \"svg\", \"tif\"];\n",
       "\n",
       "mpl.default_extension = \"png\";var comm_websocket_adapter = function(comm) {\n",
       "    // Create a \"websocket\"-like object which calls the given IPython comm\n",
       "    // object with the appropriate methods. Currently this is a non binary\n",
       "    // socket, so there is still some room for performance tuning.\n",
       "    var ws = {};\n",
       "\n",
       "    ws.close = function() {\n",
       "        comm.close()\n",
       "    };\n",
       "    ws.send = function(m) {\n",
       "        //console.log('sending', m);\n",
       "        comm.send(m);\n",
       "    };\n",
       "    // Register the callback with on_msg.\n",
       "    comm.on_msg(function(msg) {\n",
       "        //console.log('receiving', msg['content']['data'], msg);\n",
       "        // Pass the mpl event to the overridden (by mpl) onmessage function.\n",
       "        ws.onmessage(msg['content']['data'])\n",
       "    });\n",
       "    return ws;\n",
       "}\n",
       "\n",
       "mpl.mpl_figure_comm = function(comm, msg) {\n",
       "    // This is the function which gets called when the mpl process\n",
       "    // starts-up an IPython Comm through the \"matplotlib\" channel.\n",
       "\n",
       "    var id = msg.content.data.id;\n",
       "    // Get hold of the div created by the display call when the Comm\n",
       "    // socket was opened in Python.\n",
       "    var element = $(\"#\" + id);\n",
       "    var ws_proxy = comm_websocket_adapter(comm)\n",
       "\n",
       "    function ondownload(figure, format) {\n",
       "        window.open(figure.imageObj.src);\n",
       "    }\n",
       "\n",
       "    var fig = new mpl.figure(id, ws_proxy,\n",
       "                           ondownload,\n",
       "                           element.get(0));\n",
       "\n",
       "    // Call onopen now - mpl needs it, as it is assuming we've passed it a real\n",
       "    // web socket which is closed, not our websocket->open comm proxy.\n",
       "    ws_proxy.onopen();\n",
       "\n",
       "    fig.parent_element = element.get(0);\n",
       "    fig.cell_info = mpl.find_output_cell(\"<div id='\" + id + \"'></div>\");\n",
       "    if (!fig.cell_info) {\n",
       "        console.error(\"Failed to find cell for figure\", id, fig);\n",
       "        return;\n",
       "    }\n",
       "\n",
       "    var output_index = fig.cell_info[2]\n",
       "    var cell = fig.cell_info[0];\n",
       "\n",
       "};\n",
       "\n",
       "mpl.figure.prototype.handle_close = function(fig, msg) {\n",
       "    var width = fig.canvas.width/mpl.ratio\n",
       "    fig.root.unbind('remove')\n",
       "\n",
       "    // Update the output cell to use the data from the current canvas.\n",
       "    fig.push_to_output();\n",
       "    var dataURL = fig.canvas.toDataURL();\n",
       "    // Re-enable the keyboard manager in IPython - without this line, in FF,\n",
       "    // the notebook keyboard shortcuts fail.\n",
       "    IPython.keyboard_manager.enable()\n",
       "    $(fig.parent_element).html('<img src=\"' + dataURL + '\" width=\"' + width + '\">');\n",
       "    fig.close_ws(fig, msg);\n",
       "}\n",
       "\n",
       "mpl.figure.prototype.close_ws = function(fig, msg){\n",
       "    fig.send_message('closing', msg);\n",
       "    // fig.ws.close()\n",
       "}\n",
       "\n",
       "mpl.figure.prototype.push_to_output = function(remove_interactive) {\n",
       "    // Turn the data on the canvas into data in the output cell.\n",
       "    var width = this.canvas.width/mpl.ratio\n",
       "    var dataURL = this.canvas.toDataURL();\n",
       "    this.cell_info[1]['text/html'] = '<img src=\"' + dataURL + '\" width=\"' + width + '\">';\n",
       "}\n",
       "\n",
       "mpl.figure.prototype.updated_canvas_event = function() {\n",
       "    // Tell IPython that the notebook contents must change.\n",
       "    IPython.notebook.set_dirty(true);\n",
       "    this.send_message(\"ack\", {});\n",
       "    var fig = this;\n",
       "    // Wait a second, then push the new image to the DOM so\n",
       "    // that it is saved nicely (might be nice to debounce this).\n",
       "    setTimeout(function () { fig.push_to_output() }, 1000);\n",
       "}\n",
       "\n",
       "mpl.figure.prototype._init_toolbar = function() {\n",
       "    var fig = this;\n",
       "\n",
       "    var nav_element = $('<div/>');\n",
       "    nav_element.attr('style', 'width: 100%');\n",
       "    this.root.append(nav_element);\n",
       "\n",
       "    // Define a callback function for later on.\n",
       "    function toolbar_event(event) {\n",
       "        return fig.toolbar_button_onclick(event['data']);\n",
       "    }\n",
       "    function toolbar_mouse_event(event) {\n",
       "        return fig.toolbar_button_onmouseover(event['data']);\n",
       "    }\n",
       "\n",
       "    for(var toolbar_ind in mpl.toolbar_items){\n",
       "        var name = mpl.toolbar_items[toolbar_ind][0];\n",
       "        var tooltip = mpl.toolbar_items[toolbar_ind][1];\n",
       "        var image = mpl.toolbar_items[toolbar_ind][2];\n",
       "        var method_name = mpl.toolbar_items[toolbar_ind][3];\n",
       "\n",
       "        if (!name) { continue; };\n",
       "\n",
       "        var button = $('<button class=\"btn btn-default\" href=\"#\" title=\"' + name + '\"><i class=\"fa ' + image + ' fa-lg\"></i></button>');\n",
       "        button.click(method_name, toolbar_event);\n",
       "        button.mouseover(tooltip, toolbar_mouse_event);\n",
       "        nav_element.append(button);\n",
       "    }\n",
       "\n",
       "    // Add the status bar.\n",
       "    var status_bar = $('<span class=\"mpl-message\" style=\"text-align:right; float: right;\"/>');\n",
       "    nav_element.append(status_bar);\n",
       "    this.message = status_bar[0];\n",
       "\n",
       "    // Add the close button to the window.\n",
       "    var buttongrp = $('<div class=\"btn-group inline pull-right\"></div>');\n",
       "    var button = $('<button class=\"btn btn-mini btn-primary\" href=\"#\" title=\"Stop Interaction\"><i class=\"fa fa-power-off icon-remove icon-large\"></i></button>');\n",
       "    button.click(function (evt) { fig.handle_close(fig, {}); } );\n",
       "    button.mouseover('Stop Interaction', toolbar_mouse_event);\n",
       "    buttongrp.append(button);\n",
       "    var titlebar = this.root.find($('.ui-dialog-titlebar'));\n",
       "    titlebar.prepend(buttongrp);\n",
       "}\n",
       "\n",
       "mpl.figure.prototype._root_extra_style = function(el){\n",
       "    var fig = this\n",
       "    el.on(\"remove\", function(){\n",
       "\tfig.close_ws(fig, {});\n",
       "    });\n",
       "}\n",
       "\n",
       "mpl.figure.prototype._canvas_extra_style = function(el){\n",
       "    // this is important to make the div 'focusable\n",
       "    el.attr('tabindex', 0)\n",
       "    // reach out to IPython and tell the keyboard manager to turn it's self\n",
       "    // off when our div gets focus\n",
       "\n",
       "    // location in version 3\n",
       "    if (IPython.notebook.keyboard_manager) {\n",
       "        IPython.notebook.keyboard_manager.register_events(el);\n",
       "    }\n",
       "    else {\n",
       "        // location in version 2\n",
       "        IPython.keyboard_manager.register_events(el);\n",
       "    }\n",
       "\n",
       "}\n",
       "\n",
       "mpl.figure.prototype._key_event_extra = function(event, name) {\n",
       "    var manager = IPython.notebook.keyboard_manager;\n",
       "    if (!manager)\n",
       "        manager = IPython.keyboard_manager;\n",
       "\n",
       "    // Check for shift+enter\n",
       "    if (event.shiftKey && event.which == 13) {\n",
       "        this.canvas_div.blur();\n",
       "        // select the cell after this one\n",
       "        var index = IPython.notebook.find_cell_index(this.cell_info[0]);\n",
       "        IPython.notebook.select(index + 1);\n",
       "    }\n",
       "}\n",
       "\n",
       "mpl.figure.prototype.handle_save = function(fig, msg) {\n",
       "    fig.ondownload(fig, null);\n",
       "}\n",
       "\n",
       "\n",
       "mpl.find_output_cell = function(html_output) {\n",
       "    // Return the cell and output element which can be found *uniquely* in the notebook.\n",
       "    // Note - this is a bit hacky, but it is done because the \"notebook_saving.Notebook\"\n",
       "    // IPython event is triggered only after the cells have been serialised, which for\n",
       "    // our purposes (turning an active figure into a static one), is too late.\n",
       "    var cells = IPython.notebook.get_cells();\n",
       "    var ncells = cells.length;\n",
       "    for (var i=0; i<ncells; i++) {\n",
       "        var cell = cells[i];\n",
       "        if (cell.cell_type === 'code'){\n",
       "            for (var j=0; j<cell.output_area.outputs.length; j++) {\n",
       "                var data = cell.output_area.outputs[j];\n",
       "                if (data.data) {\n",
       "                    // IPython >= 3 moved mimebundle to data attribute of output\n",
       "                    data = data.data;\n",
       "                }\n",
       "                if (data['text/html'] == html_output) {\n",
       "                    return [cell, data, j];\n",
       "                }\n",
       "            }\n",
       "        }\n",
       "    }\n",
       "}\n",
       "\n",
       "// Register the function which deals with the matplotlib target/channel.\n",
       "// The kernel may be null if the page has been refreshed.\n",
       "if (IPython.notebook.kernel != null) {\n",
       "    IPython.notebook.kernel.comm_manager.register_target('matplotlib', mpl.mpl_figure_comm);\n",
       "}\n"
      ],
      "text/plain": [
       "<IPython.core.display.Javascript object>"
      ]
     },
     "metadata": {},
     "output_type": "display_data"
    },
    {
     "data": {
      "text/html": [
       "<img src=\"data:image/png;base64,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\" width=\"720\">"
      ],
      "text/plain": [
       "<IPython.core.display.HTML object>"
      ]
     },
     "metadata": {},
     "output_type": "display_data"
    }
   ],
   "source": [
    "rfit = np.array([0.8, 30, 90, 215])\n",
    "srfit = np.array([2.235, 1.088, 0.716, 0.25]) \n",
    "\n",
    "def on_wth2_clicked(self):\n",
    "    h0 = wH.value                       \n",
    "    if h0 < 8.5:                # from  MATLAB lsqcurvefit using real world coordinates\n",
    "        K = 64.0; R = 854.4                 # h0 = 7\n",
    "    else:\n",
    "        if h0 > 8.5:\n",
    "            K = 41.6; R = 749.8             # h0 = 10\n",
    "        else:\n",
    "            K = 50.4; R = 789.1             # h0 = 8.5\n",
    "    \n",
    "    srfit = np.array([2.235, 1.088, 0.716, 0.25]) \n",
    "    h2fit = (h0-srfit)**2                   # linear regression\n",
    "    n = len(rfit); lr = np.log(rfit)        \n",
    "    p1 = (n*np.sum(lr*h2fit)-np.sum(lr)*np.sum(h2fit))/(n*np.sum(lr*lr)-np.sum(lr)**2)\n",
    "    p0 = (sum(h2fit)-p1*sum(lr))/n\n",
    "    K = Q/np.pi/p1                          # conductivity \n",
    "    R = np.exp((h0*h0-p0)/p1)                      # reach\n",
    "    hrfit = h0 - srfit \n",
    "    hfit = np.sqrt(h0*h0+Q*(np.log(rfit)-np.log(R))/np.pi/K)\n",
    "    norms = np.linalg.norm(hrfit-hfit)\n",
    "    stdev = np.sqrt(np.mean((hrfit-hfit)**2))\n",
    "    rmax = max(rfit); smax = max(srfit)\n",
    "    r = np.arange(.9*min(rfit), rmax, step = rmax/50)\n",
    "    h = np.sqrt(h0*h0+Q*(np.log(r)-np.log(R))/np.pi/K)\n",
    "    fig = plt.figure(facecolor='w'); ax = fig.add_subplot()\n",
    "    if wca2.value: \n",
    "        ax.set_xscale('log'); xtext = 1; ytext = h0-smax;\n",
    "    else:\n",
    "        xtext = 130; ytext = h0-1.3*smax \n",
    "    plt.plot (rfit,hrfit, 'o', label = 'observation' )\n",
    "    plt.plot (r,h, '.-', label = 'modelled' )\n",
    "    plt.xlabel('distance [m]',fontsize=12)\n",
    "    plt.ylabel('groundwater table [m]',fontsize=12)\n",
    "    ax.grid(b=True, c='w', lw=2, ls='-')\n",
    "    plt.legend(loc = 'lower right',fontsize=12)\n",
    "    \n",
    "    ax.text (xtext,ytext+.7*smax,'$K = %.1f m/d$' % (K, ),fontsize=12)\n",
    "    ax.text (xtext,ytext+.6*smax,'2-norm = $%.3e $' % (norms, ),fontsize=12)\n",
    "    ax.text (xtext,ytext+.5*smax,'stdev = $%.3e $' % (stdev, ),fontsize=12)\n",
    "    plt.title('Pump test: Oude Korendijk, Curve Fitting: Thiem', fontsize=14)\n",
    "\n",
    "wth2 = widgets.Button(description='Unconfined aquifer fit')        \n",
    "wth2.on_click(on_wth2_clicked)   \n",
    "wca2 = widgets.Checkbox(value=False, description='log', disabled=False, indent=False)\n",
    "widgets.HBox([wth2,wca2]) "
   ]
  },
  {
   "cell_type": "markdown",
   "metadata": {
    "hideCode": false,
    "hidePrompt": false,
    "hide_input": false
   },
   "source": [
    "### Leaky Aquifer\n",
    "Kooper (1914) and de Glee (1930) developed an expression for the steady drawdown in a leaky aquifer. The overlying semi-permeable layer is characterized by its vertical flow resistance $c$, which has the unit of time. The formula is:  "
   ]
  },
  {
   "cell_type": "markdown",
   "metadata": {
    "hideCode": false,
    "hidePrompt": false
   },
   "source": [
    "$$ s(r) = \\frac{Q}{2 \\pi T} K_0(\\frac{r}{\\sqrt{Tc}}) $$"
   ]
  },
  {
   "cell_type": "markdown",
   "metadata": {
    "hideCode": false,
    "hidePrompt": false
   },
   "source": [
    "where $K_0$ denotes the modified Bessel function 2. type 0. order. We can obtain values for the two parameters $T$ and $c$ by fitting to the measurements at all four locations using the method of least squares. This is done running the following cell."
   ]
  },
  {
   "cell_type": "code",
   "execution_count": 10,
   "metadata": {
    "hideCode": false,
    "hidePrompt": false,
    "hide_input": true,
    "scrolled": false
   },
   "outputs": [
    {
     "data": {
      "application/vnd.jupyter.widget-view+json": {
       "model_id": "7262a9afb2c0415fa8b9d9c4286b8166",
       "version_major": 2,
       "version_minor": 0
      },
      "text/plain": [
       "HBox(children=(Button(description='Leaky aquifer fit', style=ButtonStyle()), Checkbox(value=False, description…"
      ]
     },
     "metadata": {},
     "output_type": "display_data"
    }
   ],
   "source": [
    "from scipy.optimize import fmin\n",
    "from scipy.special import kn as besselk\n",
    "rfit = [0.8, 30, 90, 215]\n",
    "srfit = [2.235, 1.088, 0.716, 0.25] \n",
    "T2 = 500\n",
    "\n",
    "def deGlee (x):\n",
    "    T = x[0]; c = x[1]\n",
    "    u = rfit/np.sqrt(T*c)\n",
    "    s = Q*besselk(0,u)/2/np.pi/T\n",
    "    res = (s-srfit)\n",
    "    return sum(res*res)\n",
    "\n",
    "def on_wdg_clicked(self):\n",
    "    global T2\n",
    "    c = 500\n",
    "    n = len(rfit); lr = np.log(rfit)  \n",
    "    T = (n*np.sum(lr*srfit)-np.sum(lr)*np.sum(srfit))/(n*np.sum(lr*lr)-np.sum(lr)**2)\n",
    "    T = -Q/2/np.pi/T                       # transmissivity initial guess [L^2/T]\n",
    "    [Tfit,cfit] = fmin(deGlee, [T,c]) \n",
    "\n",
    "    sfit = Q*besselk(0,rfit/np.sqrt(Tfit*cfit))/2/np.pi/Tfit\n",
    "    norms = np.linalg.norm(srfit-sfit)\n",
    "    stdev = np.sqrt(np.mean((srfit-sfit)**2))\n",
    "    rmax = max(rfit); smax = max(srfit)\n",
    "    r = np.arange(.9*min(rfit), rmax, step = rmax/50)\n",
    "    s = Q/2/np.pi/T*besselk(0,r/np.sqrt(Tfit*cfit))\n",
    "    fig = plt.figure(facecolor='w'); ax = fig.add_subplot()\n",
    "    if wcb.value: \n",
    "        ax.set_xscale('log'); xtext = 1\n",
    "    else:\n",
    "        xtext = 130\n",
    "    plt.plot (rfit,srfit, 'o', label = 'observation' )\n",
    "    plt.plot (r,s, '.-', label = 'modelled' )\n",
    "    plt.xlabel('distance [m]',fontsize=12)\n",
    "    plt.ylabel('drawdown [m]',fontsize=12)\n",
    "    ax.grid(b=True, c='w', lw=2, ls='-')\n",
    "    plt.legend(loc = 'upper right',fontsize=12)\n",
    "    ax.text (xtext,.7*smax,'$T = %.1f m^2/d$' % (Tfit, ),fontsize=12)\n",
    "    ax.text (xtext,.6*smax,'$c =%.0f d$' % (cfit, ),fontsize=12)\n",
    "    ax.text (xtext,.5*smax,'2-norm = $%.3e $' % (norms, ),fontsize=12)\n",
    "    ax.text (xtext,.4*smax,'stdev = $%.3e $' % (stdev, ),fontsize=12)\n",
    "    plt.title('Pump test: Oude Korendijk, Curve Fitting: de Glee', fontsize = 14)\n",
    "    T2 = Tfit\n",
    "\n",
    "wdg = widgets.Button(description='Leaky aquifer fit')        \n",
    "wdg.on_click(on_wdg_clicked)   \n",
    "wcb = widgets.Checkbox(value=False, description='log', disabled=False, indent=False)\n",
    "widgets.HBox([wdg,wcb]) "
   ]
  },
  {
   "cell_type": "markdown",
   "metadata": {
    "hideCode": false,
    "hidePrompt": false,
    "hide_input": true
   },
   "source": [
    "Again we can obtain the hydraulic conductivity $K$ if the aquifer thickness is known:  "
   ]
  },
  {
   "cell_type": "code",
   "execution_count": 11,
   "metadata": {
    "hideCode": false,
    "hidePrompt": false,
    "hide_input": true,
    "scrolled": true
   },
   "outputs": [
    {
     "data": {
      "application/vnd.jupyter.widget-view+json": {
       "model_id": "77c01be9d287444fb3a1b1cbec3bcf66",
       "version_major": 2,
       "version_minor": 0
      },
      "text/plain": [
       "BoundedFloatText(value=7.0, description='Thickness:', max=15.0, step=1.0)"
      ]
     },
     "metadata": {},
     "output_type": "display_data"
    }
   ],
   "source": [
    "wD2 = widgets.BoundedFloatText(value=7, min=0, max=15.0, step=1, description='Thickness:', disabled=False)\n",
    "wD2"
   ]
  },
  {
   "cell_type": "markdown",
   "metadata": {
    "hideCode": false,
    "hidePrompt": false
   },
   "source": [
    " Obtain the result by running the next cell: "
   ]
  },
  {
   "cell_type": "code",
   "execution_count": 12,
   "metadata": {
    "hideCode": false,
    "hidePrompt": false,
    "hide_input": false,
    "scrolled": true
   },
   "outputs": [
    {
     "name": "stdout",
     "output_type": "stream",
     "text": [
      "K = 71 m/d\n"
     ]
    }
   ],
   "source": [
    "print('K = {:.0f} m/d'.format(T2/wD2.value))"
   ]
  },
  {
   "cell_type": "markdown",
   "metadata": {
    "hideCode": false,
    "hidePrompt": false
   },
   "source": [
    "## Unsteady Data Input and Visualization"
   ]
  },
  {
   "cell_type": "markdown",
   "metadata": {
    "hideCode": false,
    "hidePrompt": false
   },
   "source": [
    "Our focus will be on the two observation points at intermediate distances, i.e 30 and 90 m away from the pumping well. The one in direct vicinity may be influenced by local conditions around the well, which may be disturbed due to the drilling and installation of the well and the so called skin effect. The most distant observation point may be influenced by boundary conditions. The polders in the Netherlands are surrounded by surface water bodies, the Rhine river and trenches filled by drainage water.  "
   ]
  },
  {
   "cell_type": "markdown",
   "metadata": {
    "hideCode": false,
    "hidePrompt": false,
    "hide_input": false
   },
   "source": [
    "The following figures show the drawdown measurements at the two intermediate observation points: observation H30 for the one in 30 m distance, observation H90 for the one in 90 m distance. The data for the pumping test are read into this notebook.  "
   ]
  },
  {
   "cell_type": "code",
   "execution_count": 13,
   "metadata": {
    "hideCode": false,
    "hidePrompt": false,
    "hide_input": true,
    "jupyter": {
     "outputs_hidden": false
    },
    "scrolled": false
   },
   "outputs": [
    {
     "name": "stdout",
     "output_type": "stream",
     "text": [
      "Data ready\n"
     ]
    }
   ],
   "source": [
    "df = pd.DataFrame(columns=['t1','s1','t2','s2'])\n",
    "\n",
    "#def on_wini_clicked(self):\n",
    "#      y = pd.read_excel('ok.xlsx',header=None)               \n",
    "#      df['t1'] = y[0].dropna()/60; df['s1'] = y[1].dropna() \n",
    "#      df['t2'] = y[2].dropna()/60; df['s2'] = y[3].dropna()\n",
    "df['t1'] =[6,15,30,42,60,84,114,139.8,168,201.6,240,321,408,498,522,600,786, \n",
    "           1080,1620,1980,2460,2880,3540,4800,5700,8340,10860,14700,18000,21600,\n",
    "           28800,36000,43680,49800,50000]                # time in seconds!\n",
    "df['s1'] =[0.04,0.08,0.13,0.18,0.23,0.28,0.33,0.36,0.39,0.42,0.45,0.5,0.54,0.57,\n",
    "           0.58,0.6,0.64,0.68,0.742,0.753,0.779,0.793,0.819,0.855,0.873,0.915,\n",
    "           0.935,0.966,0.99,1.007,1.05,1.053,1.072,1.088,1.088]\n",
    "df['t2'] =[90,120,129.6,159.6,180,210,240,259.8,330,360,450,540,780,900,1080,\n",
    "           1500,1800,2400,3180,3600,4500,5400,6300,7200,9000,10800,14880,18060,\n",
    "           21780,25320,32520,36120,40800,47100,50700]\n",
    "df['s2'] =[0.015,0.021,0.023,0.044,0.054,.075,.09,.104,.133,.153,.178,.206,.25,\n",
    "           .275,.305,.348,.364,.404,.429,.444,.467,.494,.507,.528,.55,.569,.593,\n",
    "           .614,.636,.657,.679,.688,.701,.718,.716]\n",
    "df['t1'] = df['t1']/60\n",
    "df['t2'] = df['t2']/60\n",
    "print ('Data ready')\n",
    "global kD, Sc\n",
    "    \n",
    "#wini = widgets.Button(description='Input data')        \n",
    "#wini.on_click(on_wini_clicked) \n",
    "#wini   "
   ]
  },
  {
   "cell_type": "markdown",
   "metadata": {
    "hideCode": false,
    "hidePrompt": false,
    "hide_input": false
   },
   "source": [
    "Let's see how the data look like. "
   ]
  },
  {
   "cell_type": "code",
   "execution_count": 14,
   "metadata": {
    "hideCode": false,
    "hidePrompt": false,
    "hide_input": false,
    "jupyter": {
     "outputs_hidden": false
    },
    "scrolled": false
   },
   "outputs": [
    {
     "data": {
      "application/vnd.jupyter.widget-view+json": {
       "model_id": "c3134a71de8f4288943556778a4b23c2",
       "version_major": 2,
       "version_minor": 0
      },
      "text/plain": [
       "VBox(children=(Button(description='Plot data', style=ButtonStyle()),))"
      ]
     },
     "metadata": {},
     "output_type": "display_data"
    }
   ],
   "source": [
    "def on_wp0_clicked(self):\n",
    "    plt.rcParams[\"figure.figsize\"] = (10,5) \n",
    "    fig = plt.figure(facecolor='w'); ax = fig.add_subplot()\n",
    "    plt.plot (df['t1'],df['s1'], '.-', label = 'observation H30' )\n",
    "    plt.plot (df['t2'],df['s2'], '.-', label = 'observation H90' )\n",
    "    plt.title('Oude Korendijk pumping test measured drawdowns',fontsize=14)\n",
    "    plt.xlabel('time [min]',fontsize=12)\n",
    "    plt.ylabel('drawdown [m]',fontsize=12)\n",
    "    plt.grid()\n",
    "    plt.legend(loc = 'lower right',fontsize=12);\n",
    "    \n",
    "wp0 = widgets.Button(description='Plot data')        \n",
    "wp0.on_click(on_wp0_clicked)   \n",
    "widgets.VBox([wp0])    "
   ]
  },
  {
   "cell_type": "markdown",
   "metadata": {
    "hideCode": false,
    "hidePrompt": false
   },
   "source": [
    "Obviously a steady state has not been reached at the end of the pump test. The visual inspection of the plot indicates that there is a constant difference between the drawdowns in the two observation wells. This would justify the application of the Thiem evaluation, as there only the difference counts. We call this situation either quasi steady-state or steady slope. Lets check the difference in a graph. "
   ]
  },
  {
   "cell_type": "code",
   "execution_count": 15,
   "metadata": {
    "hideCode": false,
    "hidePrompt": false,
    "hide_input": false,
    "jupyter": {
     "outputs_hidden": false
    },
    "scrolled": false
   },
   "outputs": [
    {
     "data": {
      "application/vnd.jupyter.widget-view+json": {
       "model_id": "a8f45a036ee14cf1b9b2eac84b9cbfb2",
       "version_major": 2,
       "version_minor": 0
      },
      "text/plain": [
       "VBox(children=(Button(description='Drawdown difference', style=ButtonStyle()),))"
      ]
     },
     "metadata": {},
     "output_type": "display_data"
    }
   ],
   "source": [
    "from scipy.interpolate import interp1d\n",
    "\n",
    "def on_wp1_clicked(self):\n",
    "    plt.rcParams[\"figure.figsize\"] = (10,5) \n",
    "    fig = plt.figure(facecolor='w'); ax = fig.add_subplot()\n",
    "    f30 = interp1d(df['t1'],df['s1']); f90 = interp1d(df['t2'],df['s2'])\n",
    "    t = np.arange(6,780.0,step=1)\n",
    "    plt.plot (t, f30(t)-f90(t), 'g', label = 'H30-H90' )\n",
    "    plt.title('Drawdown difference',fontsize=14)\n",
    "    plt.xlabel('time [min]',fontsize=12)\n",
    "    plt.ylabel('drawdown difference [m]',fontsize=12)\n",
    "    plt.ylim ([0., 0.6])\n",
    "    plt.grid()\n",
    "    plt.legend(loc = 'lower right',fontsize=12);\n",
    "    \n",
    "wp1 = widgets.Button(description='Drawdown difference')        \n",
    "wp1.on_click(on_wp1_clicked)   \n",
    "widgets.VBox([wp1])    "
   ]
  },
  {
   "cell_type": "markdown",
   "metadata": {
    "hideCode": false,
    "hidePrompt": false,
    "hide_input": true
   },
   "source": [
    "One can visualize the same data using log scale for time: "
   ]
  },
  {
   "cell_type": "code",
   "execution_count": 16,
   "metadata": {
    "hideCode": false,
    "hidePrompt": false,
    "hide_input": false,
    "scrolled": false
   },
   "outputs": [
    {
     "data": {
      "application/vnd.jupyter.widget-view+json": {
       "model_id": "ae4f605aad2b4f09b140132e8380acca",
       "version_major": 2,
       "version_minor": 0
      },
      "text/plain": [
       "VBox(children=(Button(description='Plot log scale', style=ButtonStyle()),))"
      ]
     },
     "metadata": {},
     "output_type": "display_data"
    }
   ],
   "source": [
    "def on_wp2_clicked(self):\n",
    "    plt.rcParams[\"figure.figsize\"] = (10,5) \n",
    "    fig = plt.figure(facecolor='w'); ax = fig.add_subplot()\n",
    "    ax.set_xscale('log')\n",
    "    plt.plot (df['t1'],df['s1'], '.-', label = 'observation H30' )\n",
    "    plt.plot (df['t2'],df['s2'], '.-', label = 'observation H90' )\n",
    "    plt.title('Oude Korendijk pumping test measured drawdowns',fontsize=14)\n",
    "    plt.xlabel('time [min]',fontsize=12)\n",
    "    plt.ylabel('drawdown [m]',fontsize=12)\n",
    "    plt.grid()\n",
    "    plt.legend(loc = 'lower right',fontsize=12);\n",
    "\n",
    "wp2 = widgets.Button(description='Plot log scale')        \n",
    "wp2.on_click(on_wp2_clicked)   \n",
    "widgets.VBox([wp2]) "
   ]
  },
  {
   "cell_type": "markdown",
   "metadata": {
    "hideCode": false,
    "hidePrompt": false,
    "hide_input": true
   },
   "source": [
    "The same in the loglog system, with logarithmic scale on both axes:"
   ]
  },
  {
   "cell_type": "code",
   "execution_count": 17,
   "metadata": {
    "hideCode": false,
    "hidePrompt": false,
    "hide_input": false,
    "scrolled": false
   },
   "outputs": [
    {
     "data": {
      "application/vnd.jupyter.widget-view+json": {
       "model_id": "8a09c7a3d0b34da2ae4756383aca02be",
       "version_major": 2,
       "version_minor": 0
      },
      "text/plain": [
       "VBox(children=(Button(description='Plot loglog scale', style=ButtonStyle()),))"
      ]
     },
     "metadata": {},
     "output_type": "display_data"
    }
   ],
   "source": [
    "def on_wp3_clicked(self):\n",
    "    plt.rcParams[\"figure.figsize\"] = (10,5) \n",
    "    fig = plt.figure(facecolor='w'); ax = fig.add_subplot()\n",
    "    ax.set_xscale('log'); ax.set_yscale('log')\n",
    "    plt.plot (df['t1'],df['s1'], '.-', label = 'observation H30' )\n",
    "    plt.plot (df['t2'],df['s2'], '.-', label = 'observation H90' )\n",
    "    plt.title('Oude Korendijk pumping test measured drawdowns',fontsize=14)\n",
    "    plt.xlabel('time [min]',fontsize=12)\n",
    "    plt.ylabel('drawdown [m]',fontsize=12)\n",
    "    plt.grid()\n",
    "    plt.legend(loc = 'lower right',fontsize=12);\n",
    "    \n",
    "wp3 = widgets.Button(description='Plot loglog scale')        \n",
    "wp3.on_click(on_wp3_clicked)   \n",
    "widgets.VBox([wp3])     "
   ]
  },
  {
   "cell_type": "markdown",
   "metadata": {
    "hideCode": false,
    "hidePrompt": false
   },
   "source": [
    "For a comparison of the two curves it is convenient to visualize in double log scale using $t/r^2$ on x-axis. "
   ]
  },
  {
   "cell_type": "code",
   "execution_count": 18,
   "metadata": {
    "hideCode": false,
    "hidePrompt": false,
    "hide_input": false,
    "scrolled": false
   },
   "outputs": [
    {
     "data": {
      "application/vnd.jupyter.widget-view+json": {
       "model_id": "dc8f0cc990754887a4e1e8a8b061ab75",
       "version_major": 2,
       "version_minor": 0
      },
      "text/plain": [
       "VBox(children=(Button(description='Plot t/r/r scale', style=ButtonStyle()),))"
      ]
     },
     "metadata": {},
     "output_type": "display_data"
    }
   ],
   "source": [
    "def on_wp4_clicked(self):\n",
    "    plt.rcParams[\"figure.figsize\"] = (10,5) \n",
    "    fig = plt.figure(facecolor='w'); ax = fig.add_subplot()\n",
    "    ax.set_xscale('log')\n",
    "    plt.plot (df['t1']/30/30,df['s1'], '.-', label = 'observation H30' )\n",
    "    plt.plot (df['t2']/90/90,df['s2'], '.-', label = 'observation H90' )\n",
    "    plt.title('Oude Korendijk pumping test measured drawdowns',fontsize=14)\n",
    "    plt.xlabel('$t/r^2$ [min/m$^2$]',fontsize=12)\n",
    "    plt.ylabel('drawdown [m]',fontsize=12)\n",
    "    plt.grid()\n",
    "    plt.legend(loc = 'lower right',fontsize=12);\n",
    "\n",
    "wp4 = widgets.Button(description='Plot t/r/r scale')        \n",
    "wp4.on_click(on_wp4_clicked)   \n",
    "widgets.VBox([wp4]) "
   ]
  },
  {
   "cell_type": "markdown",
   "metadata": {
    "hideCode": false,
    "hidePrompt": false
   },
   "source": [
    "## Basic Interpretation based on the Theis Solution"
   ]
  },
  {
   "cell_type": "markdown",
   "metadata": {
    "hideCode": false,
    "hidePrompt": false
   },
   "source": [
    "The solution for the unsteady drawdown due to a single well with fully penetrating screen in a uniform aquifer of infinite extent was first published by Theis (1935), using a mathematical derivation by Lubin, transfered in private communication. The solution revolutioned the science of hydrology (White & Clebsch 1994). The solution for drawdown $s$ as function of distance from the pumping well $r$ and time $t$ is given by:"
   ]
  },
  {
   "cell_type": "markdown",
   "metadata": {
    "hideCode": false,
    "hidePrompt": false
   },
   "source": [
    "$$ s(r, t) = \\frac Q {4 \\pi T} W(u),\\,\\,\\,\\, u = \\frac {r^2 S} {4 T t}$$"
   ]
  },
  {
   "cell_type": "markdown",
   "metadata": {
    "hideCode": false,
    "hidePrompt": false
   },
   "source": [
    "where $T$ denotes the transmissivity, $S$ the storage coefficient, and $Q$ the pumping rate. $W$ is the well function, in mathematical literature known as exponential integral. For evaluations before computers became generally available, is was handy to utilize simpler approximations for the well function. Cooper & Jacob (1946) proposed:    "
   ]
  },
  {
   "cell_type": "markdown",
   "metadata": {
    "hideCode": false,
    "hidePrompt": false
   },
   "source": [
    "$$ W(u) \\approx -0.2557 - \\ln(u) +u - u^2/4 $$"
   ]
  },
  {
   "cell_type": "markdown",
   "metadata": {
    "hideCode": false,
    "hidePrompt": false
   },
   "source": [
    "We may also use the approximation of this solution, which is valid for long enough times and/or small enough distances from the well:"
   ]
  },
  {
   "cell_type": "markdown",
   "metadata": {
    "hideCode": false,
    "hidePrompt": false
   },
   "source": [
    "$$ s(r, t) \\approx \\frac {Q} {4 \\pi T} \\ln \\left( \\frac {2.25 T t} {r^2 S} \\right) $$ "
   ]
  },
  {
   "cell_type": "markdown",
   "metadata": {
    "hideCode": false,
    "hidePrompt": false
   },
   "source": [
    "$\\ln$ denotes the natural logarithm. The formula can be modified for the decadic logarithm: "
   ]
  },
  {
   "cell_type": "markdown",
   "metadata": {
    "hideCode": false,
    "hidePrompt": false
   },
   "source": [
    "$$ s(r,t) = \\frac {2.3 Q} {4 \\pi T} \\log \\left( \\frac {2.25 T t} {r^2 S} \\right) $$"
   ]
  },
  {
   "cell_type": "markdown",
   "metadata": {
    "hideCode": false,
    "hidePrompt": false
   },
   "source": [
    "Determine the drawdown per log cycle from the last double-log graph and observation point H30 $\\approx (1.1 - 0.21) / 3 \\approx 0.30 $"
   ]
  },
  {
   "cell_type": "markdown",
   "metadata": {
    "hideCode": false,
    "hidePrompt": false
   },
   "source": [
    "$$ \\Delta s = s_{10t} - s_t = 0.30 = \\frac {2.3 Q} {4 \\pi T} $$"
   ]
  },
  {
   "cell_type": "markdown",
   "metadata": {
    "hideCode": false,
    "hidePrompt": false
   },
   "source": [
    "or, resolved for $T$:"
   ]
  },
  {
   "cell_type": "markdown",
   "metadata": {
    "hideCode": false,
    "hidePrompt": false
   },
   "source": [
    "$$ T = \\frac {2.3 Q} {4 \\pi \\Delta s} $$"
   ]
  },
  {
   "cell_type": "markdown",
   "metadata": {
    "hideCode": false,
    "hidePrompt": false
   },
   "source": [
    "Notice that it doesn't matter in what dimension time is, at it drops out of the drawdown at $10t$ is compared with that at $t$. Therefore, with $Q$ = 768 m$^3$/d, one gets"
   ]
  },
  {
   "cell_type": "code",
   "execution_count": 19,
   "metadata": {
    "hideCode": false,
    "hidePrompt": false,
    "hide_input": false,
    "jupyter": {
     "outputs_hidden": false
    },
    "scrolled": true
   },
   "outputs": [
    {
     "name": "stdout",
     "output_type": "stream",
     "text": [
      "T = 474 m²/d\n"
     ]
    }
   ],
   "source": [
    "ds = (1.1 - 0.21) / 3 # drawdown increase per log cycle of time\n",
    "kD = 2.3 * Q / (4 * np.pi * ds)\n",
    "print('T = {:.0f}'.format(kD) + ' m' + chr(0x00b2) + '/d')"
   ]
  },
  {
   "cell_type": "markdown",
   "metadata": {
    "hideCode": false,
    "hidePrompt": false
   },
   "source": [
    "For the storage coefficient determine the intersection with the straight line with the line of zero drawdown. This is $t/r^2 = 2 \\times 10 ^{-4}$ min. \n",
    "Setting the argument of the solution equal to 1 so that the computed drawdown is 0 and using the already obtained transmissivity yields the storage coefficient:"
   ]
  },
  {
   "cell_type": "markdown",
   "metadata": {
    "hideCode": false,
    "hidePrompt": false
   },
   "source": [
    "$$ S = 2.25T\\cdot(\\frac{t}{r^2})_0 $$"
   ]
  },
  {
   "cell_type": "markdown",
   "metadata": {
    "hideCode": false,
    "hidePrompt": false
   },
   "source": [
    "We have to convert to days to get the answer consistent with the transmissivity."
   ]
  },
  {
   "cell_type": "code",
   "execution_count": 20,
   "metadata": {
    "hideCode": false,
    "hidePrompt": false,
    "hide_input": false,
    "jupyter": {
     "outputs_hidden": false
    },
    "scrolled": true
   },
   "outputs": [
    {
     "name": "stdout",
     "output_type": "stream",
     "text": [
      "S = 1.48e-04\n"
     ]
    }
   ],
   "source": [
    "tr2 = 2e-4 / (24 * 60) # d/m2\n",
    "Sc = 2.25 * kD * tr2\n",
    "print('S = {:.2e}'.format(Sc))"
   ]
  },
  {
   "cell_type": "markdown",
   "metadata": {
    "hideCode": false,
    "hidePrompt": false
   },
   "source": [
    "Clearly, the result depends somewhat on the exact straigt line drawn through the bundel of curves for the observation wells. In the ideal situation, these curves fall onto each other. In this real-world case this is not true, which is a result of the non-uniformity of the aquifer and inaccuracies in the measurements. The real world is less homogeneous than the analytic solution presumes.\n",
    "\n",
    "**Task**: perform the same method of evaluation for the observations in borehole H90. Enter the values obtained from the plot and run the following cell for the evaluation."
   ]
  },
  {
   "cell_type": "code",
   "execution_count": 21,
   "metadata": {
    "hideCode": false,
    "hidePrompt": false,
    "hide_input": false,
    "scrolled": false
   },
   "outputs": [
    {
     "data": {
      "application/vnd.jupyter.widget-view+json": {
       "model_id": "49baa4301a6e43e59faa823f96ce9cf7",
       "version_major": 2,
       "version_minor": 0
      },
      "text/plain": [
       "HBox(children=(BoundedFloatText(value=0.3, description='$\\\\Delta S$:', max=10.0), BoundedFloatText(value=0.000…"
      ]
     },
     "metadata": {},
     "output_type": "display_data"
    }
   ],
   "source": [
    "wds = widgets.BoundedFloatText(value=0.3, min=0.0, max=10.0, description='$\\Delta S$:', disabled=False)\n",
    "w0 = widgets.BoundedFloatText(value=2e-4, min=0.0, max=1.e-1, description='$(t/r^2)_0$:', disabled=False)\n",
    "widgets.HBox([wds,w0]) "
   ]
  },
  {
   "cell_type": "code",
   "execution_count": 22,
   "metadata": {
    "hideCode": false,
    "hidePrompt": false,
    "hide_input": false,
    "scrolled": false
   },
   "outputs": [
    {
     "name": "stdout",
     "output_type": "stream",
     "text": [
      "T = 469 m²/d\n",
      "S = 1.46e-04\n"
     ]
    }
   ],
   "source": [
    "kD = 2.3 * Q / (4 * np.pi * wds.value)\n",
    "print('T = {:.0f}'.format(kD) + ' m' + chr(0x00b2) + '/d')\n",
    "Sc = 2.25 * kD * w0.value/(24*60)\n",
    "print('S = {:.2e}'.format(Sc))"
   ]
  },
  {
   "cell_type": "markdown",
   "metadata": {
    "hideCode": false,
    "hidePrompt": false,
    "hide_input": true
   },
   "source": [
    "## Classical Interpretation using the Match on Double Log Scales\n",
    "\n",
    "The classical interpreation plots the measured drawdowns (drawdown $s$ versus $t/r^2$ ) and compares them with the Theis type curve $W(u)$ versus $1/u$ also drawn on double log paper. Because $1/u = (4 T t) / (r^2 S)$ it follows that on logarthmic scales $1/u$ and $t/r^2$ differ only by a constant factor, which represents a horizontal shift on the log scale. The drawdown $s$ only differs the constant $Q/(4 \\pi T)$ from the well function $W(u)$, and so this implies a vertical shift on logarithmic scale. Hence the measured drawdown versus $t/r^2$ on double log scale looks exactly the same as the Theis type curve, but it is only shifted a given distance along the horizontal axis and a given distance along the vertical axis. These two shifts yield the sought transmissivity and storage coefficient.\n",
    "\n",
    "### Manual Fitting\n",
    "\n",
    "The plot below depicts the Theis type curve and the drawdown $s$ multiplied by a factor $A$ plotted with $t/r^2$ multiplied by a factor $B$. $A$ and $B$ were changed until the measured and the type curve match best. In this worked out example, the values of $A$ and $B$ were obtained manually. The classical method was originally performed by shifting of the measurements drawn on double log paper over the Theis type curve also drawn on double log paper.  "
   ]
  },
  {
   "cell_type": "code",
   "execution_count": 23,
   "metadata": {
    "hideCode": false,
    "hidePrompt": false,
    "hide_input": false,
    "scrolled": false
   },
   "outputs": [
    {
     "data": {
      "image/png": "[encoded data removed]",
      "text/plain": [
       "<Figure size 720x360 with 1 Axes>"
      ]
     },
     "metadata": {},
     "output_type": "display_data"
    }
   ],
   "source": [
    "plt.rcParams[\"figure.figsize\"] = (10,5)           \n",
    "A = 7.0; B = 1.0e7\n",
    "u = np.logspace(-4, 0.25, 41)\n",
    "fig = plt.figure(facecolor='w'); ax = fig.add_subplot()\n",
    "\n",
    "# the Theis type curve\n",
    "plt.plot(1/u, exp1(u), label='Theis')\n",
    "\n",
    "# The measurements\n",
    "plt.plot (B*df['t1']/24/60/30/30,A*df['s1'], '.', label = 'observation H30' )\n",
    "plt.plot (B*df['t2']/24/60/90/90,A*df['s2'], '.', label = 'observation H90' ) \n",
    "ax.set_xscale('log'); ax.set_yscale('log')\n",
    "plt.title('Type curve and $A \\cdot s$ vs $B \\cdot t/r^2$, with $A$={}, $B$={}'.format(A, B),fontsize=14)\n",
    "plt.xlabel('$1/u$ and $B \\, t/r^2$',fontsize=12); plt.ylabel('W(u) and $A \\, s$',fontsize=12)\n",
    "plt.xscale('log'); plt.yscale('log')\n",
    "plt.grid()\n",
    "plt.legend(loc='lower right',fontsize=12);"
   ]
  },
  {
   "cell_type": "markdown",
   "metadata": {
    "hideCode": false,
    "hidePrompt": false,
    "hide_input": false
   },
   "source": [
    "So $A \\cdot s = W(u)$ and $s = \\frac Q {2 \\pi T} W(u)$ and, therefore $A = \\frac {4 \\pi T} {Q}$ and $ T = \\frac {A Q} {4 \\pi}$. Click the next cell to obtain the result:"
   ]
  },
  {
   "cell_type": "code",
   "execution_count": 24,
   "metadata": {
    "hideCode": false,
    "hidePrompt": false,
    "hide_input": false,
    "scrolled": true
   },
   "outputs": [
    {
     "name": "stdout",
     "output_type": "stream",
     "text": [
      "T = 428 [m^2/d]\n"
     ]
    }
   ],
   "source": [
    "kD = A * Q /4 /np.pi\n",
    "print('T = {:.0f} [m^2/d]'.format(kD))"
   ]
  },
  {
   "cell_type": "markdown",
   "metadata": {
    "hideCode": false,
    "hidePrompt": false
   },
   "source": [
    "The storage coefficient then follows from $\\frac 1 u = B \\frac t {r^2}$, that is, $\\frac {4 T t} {r^2 S} = B \\frac t {r^2}$ so that $S = \\frac {4 T} B$. Click the next cell to obtain the result"
   ]
  },
  {
   "cell_type": "code",
   "execution_count": 25,
   "metadata": {
    "hideCode": false,
    "hidePrompt": false,
    "hide_input": false,
    "scrolled": false
   },
   "outputs": [
    {
     "name": "stdout",
     "output_type": "stream",
     "text": [
      "S = 1.71e-04 [-]\n"
     ]
    }
   ],
   "source": [
    "Sc = 4 * kD / B\n",
    "print('S = {:.2e} [-]'.format(Sc))"
   ]
  },
  {
   "cell_type": "markdown",
   "metadata": {
    "hideCode": false,
    "hidePrompt": false
   },
   "source": [
    "As one sees, the results obtained this way are consistent with those obtained by the previous method."
   ]
  },
  {
   "cell_type": "markdown",
   "metadata": {
    "hideCode": false,
    "hidePrompt": false
   },
   "source": [
    "The previous method was inspired by the shifting of the measurements drawn on double log paper over the Theis type curve also drawn on double log paper. However, we could just as well directly optimize $T$ and $S$ (instead of $A$ and $B$) by trial and error to find the best match between type curve and measurements. It may then be more convenient to let the type curve as it is and plot $ \\frac s {Q/(4 \\pi T)}$ vs $\\frac {4 T t} {r^2 S}$. This has been done and for the obtained values of $S$ and $T$ the result is shown in the next cell.   "
   ]
  },
  {
   "cell_type": "code",
   "execution_count": 26,
   "metadata": {
    "hideCode": false,
    "hidePrompt": false,
    "hide_input": true,
    "scrolled": false
   },
   "outputs": [
    {
     "data": {
      "image/png": "[encoded data removed]",
      "text/plain": [
       "<Figure size 720x360 with 1 Axes>"
      ]
     },
     "metadata": {},
     "output_type": "display_data"
    }
   ],
   "source": [
    "kD = 450\n",
    "Sc = 0.0002\n",
    "u = np.logspace(-4, 0.25, 41)\n",
    "fig = plt.figure(facecolor='w', figsize=(10,5)); ax = fig.add_subplot()\n",
    "\n",
    "# the Theis type curve\n",
    "plt.plot(1/u, exp1(u), label='Theis')\n",
    "\n",
    "# The measurements\n",
    "r = 30\n",
    "plt.plot (4*kD*df['t1']/24/60/(Sc*r**2),df['s1']/(Q/(4*np.pi*kD)), '.', label = 'observation H30' )\n",
    "r = 90\n",
    "plt.plot (4*kD*df['t2']/24/60/(Sc*r**2),df['s2']/(Q/(4*np.pi*kD)), '.', label = 'observation H90' )\n",
    "plt.title('Direct comparison between computed and measured drawdown, $T$={:.0f} m$^2$/d, $S$={:.3e} [-]'.format(kD,Sc),fontsize=12)\n",
    "plt.xlabel('$1/u$',fontsize=12); plt.ylabel('$W[u]$',fontsize=12)\n",
    "plt.xscale('log'); plt.yscale('log')\n",
    "plt.grid()\n",
    "plt.legend(loc='lower right',fontsize=12);"
   ]
  },
  {
   "cell_type": "markdown",
   "metadata": {
    "hideCode": false,
    "hidePrompt": false
   },
   "source": [
    "### Using the Interface\n",
    "\n",
    "As we now have a computer, we could just as well directly optimize $T$ and $S$ by trial and error to find the best match between type curve and measurements. For the following evaluations set the distance from the pumping well at which the data were measured:"
   ]
  },
  {
   "cell_type": "code",
   "execution_count": 27,
   "metadata": {
    "hideCode": false,
    "hidePrompt": false,
    "hide_input": false,
    "scrolled": false
   },
   "outputs": [
    {
     "data": {
      "application/vnd.jupyter.widget-view+json": {
       "model_id": "a2ffedf1c40d4d37851c0c6ee77d4ba1",
       "version_major": 2,
       "version_minor": 0
      },
      "text/plain": [
       "BoundedFloatText(value=30.0, description='Distance:', max=90.0, min=30.0, step=60.0)"
      ]
     },
     "metadata": {},
     "output_type": "display_data"
    }
   ],
   "source": [
    "wr = widgets.BoundedFloatText(value=30.0, min=30.0, max=90.0, step = 60.0, description='Distance:', disabled=False)\n",
    "wr"
   ]
  },
  {
   "cell_type": "markdown",
   "metadata": {
    "hideCode": false,
    "hidePrompt": false,
    "hide_input": false
   },
   "source": [
    "#### Multi-Graph\n",
    "Use the sliders to select values for $A$ and log10($B$)"
   ]
  },
  {
   "cell_type": "code",
   "execution_count": 28,
   "metadata": {
    "hideCode": false,
    "hidePrompt": false,
    "hide_input": false,
    "scrolled": false
   },
   "outputs": [
    {
     "data": {
      "application/vnd.jupyter.widget-view+json": {
       "model_id": "e5ca0eff59a44d69b431bcaff4b1e16f",
       "version_major": 2,
       "version_minor": 0
      },
      "text/plain": [
       "HBox(children=(FloatSlider(value=1.0, description='$A$', max=10.0, min=0.1), FloatSlider(value=1.0, descriptio…"
      ]
     },
     "metadata": {},
     "output_type": "display_data"
    }
   ],
   "source": [
    "slider1 = widgets.FloatSlider(1, description = '$A$', min=0.1, max=10, step=0.1)\n",
    "slider2 = widgets.FloatSlider(1, description = 'log10($B$)', min=0.1, max=10, step=0.1)\n",
    "widgets.HBox([slider1,slider2])"
   ]
  },
  {
   "cell_type": "markdown",
   "metadata": {
    "hideCode": false,
    "hidePrompt": false,
    "hide_input": true
   },
   "source": [
    "Run the next cell and press the check button, whenever you have changed the slider values. Make sure that you enable toggle scrolling (see: Cell-Current outputs). In order to restart checking re-run the cell."
   ]
  },
  {
   "cell_type": "code",
   "execution_count": 29,
   "metadata": {
    "hideCode": false,
    "hidePrompt": false,
    "hide_input": false,
    "scrolled": false
   },
   "outputs": [
    {
     "data": {
      "application/vnd.jupyter.widget-view+json": {
       "model_id": "03ed4b6cf3da4ece8edbf0b351be2c58",
       "version_major": 2,
       "version_minor": 0
      },
      "text/plain": [
       "Button(description='Check', style=ButtonStyle())"
      ]
     },
     "metadata": {},
     "output_type": "display_data"
    }
   ],
   "source": [
    "%matplotlib notebook\n",
    "%matplotlib notebook\n",
    "plt.rcParams[\"figure.figsize\"] = (10,5) \n",
    "from IPython.display import display \n",
    "\n",
    "btn = widgets.Button(description='Check')\n",
    "display(btn)\n",
    "\n",
    "def btn_eventhandler(obj):\n",
    "    global kD,Sc,count\n",
    "    A = slider1.value\n",
    "    B = 10**(slider2.value)\n",
    "\n",
    "    u = np.logspace(-4, 0.25, 41)\n",
    "    fig = plt.figure(facecolor='w'); ax = fig.add_subplot()\n",
    "\n",
    "    # the Theis type curve\n",
    "    plt.plot(1/u, exp1(u), label='Theis')\n",
    "\n",
    "    # the measurements\n",
    "    r = wr.value; Q = wQ.value\n",
    "    if r <= 50:\n",
    "        plt.plot (B*df['t1']/24/60/r/r,A*df['s1'], '.', label = 'observation' )\n",
    "    else:\n",
    "        plt.plot (B*df['t2']/24/60/r/r,A*df['s2'], '.', label = 'observation' ) \n",
    "        \n",
    "    ax.set_xscale('log'); ax.set_yscale('log');\n",
    "    plt.xlabel('$1/u$ and $B \\, t/r^2$',fontsize=16); plt.ylabel('W(u) and $A \\cdot s$',fontsize=16)\n",
    "    plt.xscale('log'); plt.yscale('log');\n",
    "    plt.grid();\n",
    "    plt.legend(loc='upper left',fontsize=12);\n",
    "    T = A * Q /4 /np.pi   # print('T = {:.0f} m2/d'.format(kD))\n",
    "    S = 4 * T / B         #print('S = {:.2e} [-]'.format(S))\n",
    "    ax.text (380,0.23,'$T =%.1f m^2/d$' % (T, ),fontsize=12)\n",
    "    ax.text (380,0.15,'$S =%.2e $' % (S, ),fontsize=12)\n",
    "    ax.set_title('Pump test: Oude Korendijk, Curve Matching: Theis ', size=14); count = count+1\n",
    "    Sc = S; kD = T\n",
    "\n",
    "count = 1    \n",
    "btn.on_click(btn_eventhandler)"
   ]
  },
  {
   "cell_type": "markdown",
   "metadata": {
    "hideCode": false,
    "hidePrompt": false,
    "hide_input": true
   },
   "source": [
    "#### Single Graph\n",
    "Run the following cell to see the effect of slider updated in a single figure."
   ]
  },
  {
   "cell_type": "code",
   "execution_count": 30,
   "metadata": {
    "hideCode": false,
    "hidePrompt": false,
    "hide_input": false,
    "scrolled": false
   },
   "outputs": [
    {
     "data": {
      "application/javascript": [
       "/* Put everything inside the global mpl namespace */\n",
       "window.mpl = {};\n",
       "\n",
       "\n",
       "mpl.get_websocket_type = function() {\n",
       "    if (typeof(WebSocket) !== 'undefined') {\n",
       "        return WebSocket;\n",
       "    } else if (typeof(MozWebSocket) !== 'undefined') {\n",
       "        return MozWebSocket;\n",
       "    } else {\n",
       "        alert('Your browser does not have WebSocket support. ' +\n",
       "              'Please try Chrome, Safari or Firefox ≥ 6. ' +\n",
       "              'Firefox 4 and 5 are also supported but you ' +\n",
       "              'have to enable WebSockets in about:config.');\n",
       "    };\n",
       "}\n",
       "\n",
       "mpl.figure = function(figure_id, websocket, ondownload, parent_element) {\n",
       "    this.id = figure_id;\n",
       "\n",
       "    this.ws = websocket;\n",
       "\n",
       "    this.supports_binary = (this.ws.binaryType != undefined);\n",
       "\n",
       "    if (!this.supports_binary) {\n",
       "        var warnings = document.getElementById(\"mpl-warnings\");\n",
       "        if (warnings) {\n",
       "            warnings.style.display = 'block';\n",
       "            warnings.textContent = (\n",
       "                \"This browser does not support binary websocket messages. \" +\n",
       "                    \"Performance may be slow.\");\n",
       "        }\n",
       "    }\n",
       "\n",
       "    this.imageObj = new Image();\n",
       "\n",
       "    this.context = undefined;\n",
       "    this.message = undefined;\n",
       "    this.canvas = undefined;\n",
       "    this.rubberband_canvas = undefined;\n",
       "    this.rubberband_context = undefined;\n",
       "    this.format_dropdown = undefined;\n",
       "\n",
       "    this.image_mode = 'full';\n",
       "\n",
       "    this.root = $('<div/>');\n",
       "    this._root_extra_style(this.root)\n",
       "    this.root.attr('style', 'display: inline-block');\n",
       "\n",
       "    $(parent_element).append(this.root);\n",
       "\n",
       "    this._init_header(this);\n",
       "    this._init_canvas(this);\n",
       "    this._init_toolbar(this);\n",
       "\n",
       "    var fig = this;\n",
       "\n",
       "    this.waiting = false;\n",
       "\n",
       "    this.ws.onopen =  function () {\n",
       "            fig.send_message(\"supports_binary\", {value: fig.supports_binary});\n",
       "            fig.send_message(\"send_image_mode\", {});\n",
       "            if (mpl.ratio != 1) {\n",
       "                fig.send_message(\"set_dpi_ratio\", {'dpi_ratio': mpl.ratio});\n",
       "            }\n",
       "            fig.send_message(\"refresh\", {});\n",
       "        }\n",
       "\n",
       "    this.imageObj.onload = function() {\n",
       "            if (fig.image_mode == 'full') {\n",
       "                // Full images could contain transparency (where diff images\n",
       "                // almost always do), so we need to clear the canvas so that\n",
       "                // there is no ghosting.\n",
       "                fig.context.clearRect(0, 0, fig.canvas.width, fig.canvas.height);\n",
       "            }\n",
       "            fig.context.drawImage(fig.imageObj, 0, 0);\n",
       "        };\n",
       "\n",
       "    this.imageObj.onunload = function() {\n",
       "        fig.ws.close();\n",
       "    }\n",
       "\n",
       "    this.ws.onmessage = this._make_on_message_function(this);\n",
       "\n",
       "    this.ondownload = ondownload;\n",
       "}\n",
       "\n",
       "mpl.figure.prototype._init_header = function() {\n",
       "    var titlebar = $(\n",
       "        '<div class=\"ui-dialog-titlebar ui-widget-header ui-corner-all ' +\n",
       "        'ui-helper-clearfix\"/>');\n",
       "    var titletext = $(\n",
       "        '<div class=\"ui-dialog-title\" style=\"width: 100%; ' +\n",
       "        'text-align: center; padding: 3px;\"/>');\n",
       "    titlebar.append(titletext)\n",
       "    this.root.append(titlebar);\n",
       "    this.header = titletext[0];\n",
       "}\n",
       "\n",
       "\n",
       "\n",
       "mpl.figure.prototype._canvas_extra_style = function(canvas_div) {\n",
       "\n",
       "}\n",
       "\n",
       "\n",
       "mpl.figure.prototype._root_extra_style = function(canvas_div) {\n",
       "\n",
       "}\n",
       "\n",
       "mpl.figure.prototype._init_canvas = function() {\n",
       "    var fig = this;\n",
       "\n",
       "    var canvas_div = $('<div/>');\n",
       "\n",
       "    canvas_div.attr('style', 'position: relative; clear: both; outline: 0');\n",
       "\n",
       "    function canvas_keyboard_event(event) {\n",
       "        return fig.key_event(event, event['data']);\n",
       "    }\n",
       "\n",
       "    canvas_div.keydown('key_press', canvas_keyboard_event);\n",
       "    canvas_div.keyup('key_release', canvas_keyboard_event);\n",
       "    this.canvas_div = canvas_div\n",
       "    this._canvas_extra_style(canvas_div)\n",
       "    this.root.append(canvas_div);\n",
       "\n",
       "    var canvas = $('<canvas/>');\n",
       "    canvas.addClass('mpl-canvas');\n",
       "    canvas.attr('style', \"left: 0; top: 0; z-index: 0; outline: 0\")\n",
       "\n",
       "    this.canvas = canvas[0];\n",
       "    this.context = canvas[0].getContext(\"2d\");\n",
       "\n",
       "    var backingStore = this.context.backingStorePixelRatio ||\n",
       "\tthis.context.webkitBackingStorePixelRatio ||\n",
       "\tthis.context.mozBackingStorePixelRatio ||\n",
       "\tthis.context.msBackingStorePixelRatio ||\n",
       "\tthis.context.oBackingStorePixelRatio ||\n",
       "\tthis.context.backingStorePixelRatio || 1;\n",
       "\n",
       "    mpl.ratio = (window.devicePixelRatio || 1) / backingStore;\n",
       "\n",
       "    var rubberband = $('<canvas/>');\n",
       "    rubberband.attr('style', \"position: absolute; left: 0; top: 0; z-index: 1;\")\n",
       "\n",
       "    var pass_mouse_events = true;\n",
       "\n",
       "    canvas_div.resizable({\n",
       "        start: function(event, ui) {\n",
       "            pass_mouse_events = false;\n",
       "        },\n",
       "        resize: function(event, ui) {\n",
       "            fig.request_resize(ui.size.width, ui.size.height);\n",
       "        },\n",
       "        stop: function(event, ui) {\n",
       "            pass_mouse_events = true;\n",
       "            fig.request_resize(ui.size.width, ui.size.height);\n",
       "        },\n",
       "    });\n",
       "\n",
       "    function mouse_event_fn(event) {\n",
       "        if (pass_mouse_events)\n",
       "            return fig.mouse_event(event, event['data']);\n",
       "    }\n",
       "\n",
       "    rubberband.mousedown('button_press', mouse_event_fn);\n",
       "    rubberband.mouseup('button_release', mouse_event_fn);\n",
       "    // Throttle sequential mouse events to 1 every 20ms.\n",
       "    rubberband.mousemove('motion_notify', mouse_event_fn);\n",
       "\n",
       "    rubberband.mouseenter('figure_enter', mouse_event_fn);\n",
       "    rubberband.mouseleave('figure_leave', mouse_event_fn);\n",
       "\n",
       "    canvas_div.on(\"wheel\", function (event) {\n",
       "        event = event.originalEvent;\n",
       "        event['data'] = 'scroll'\n",
       "        if (event.deltaY < 0) {\n",
       "            event.step = 1;\n",
       "        } else {\n",
       "            event.step = -1;\n",
       "        }\n",
       "        mouse_event_fn(event);\n",
       "    });\n",
       "\n",
       "    canvas_div.append(canvas);\n",
       "    canvas_div.append(rubberband);\n",
       "\n",
       "    this.rubberband = rubberband;\n",
       "    this.rubberband_canvas = rubberband[0];\n",
       "    this.rubberband_context = rubberband[0].getContext(\"2d\");\n",
       "    this.rubberband_context.strokeStyle = \"#000000\";\n",
       "\n",
       "    this._resize_canvas = function(width, height) {\n",
       "        // Keep the size of the canvas, canvas container, and rubber band\n",
       "        // canvas in synch.\n",
       "        canvas_div.css('width', width)\n",
       "        canvas_div.css('height', height)\n",
       "\n",
       "        canvas.attr('width', width * mpl.ratio);\n",
       "        canvas.attr('height', height * mpl.ratio);\n",
       "        canvas.attr('style', 'width: ' + width + 'px; height: ' + height + 'px;');\n",
       "\n",
       "        rubberband.attr('width', width);\n",
       "        rubberband.attr('height', height);\n",
       "    }\n",
       "\n",
       "    // Set the figure to an initial 600x600px, this will subsequently be updated\n",
       "    // upon first draw.\n",
       "    this._resize_canvas(600, 600);\n",
       "\n",
       "    // Disable right mouse context menu.\n",
       "    $(this.rubberband_canvas).bind(\"contextmenu\",function(e){\n",
       "        return false;\n",
       "    });\n",
       "\n",
       "    function set_focus () {\n",
       "        canvas.focus();\n",
       "        canvas_div.focus();\n",
       "    }\n",
       "\n",
       "    window.setTimeout(set_focus, 100);\n",
       "}\n",
       "\n",
       "mpl.figure.prototype._init_toolbar = function() {\n",
       "    var fig = this;\n",
       "\n",
       "    var nav_element = $('<div/>');\n",
       "    nav_element.attr('style', 'width: 100%');\n",
       "    this.root.append(nav_element);\n",
       "\n",
       "    // Define a callback function for later on.\n",
       "    function toolbar_event(event) {\n",
       "        return fig.toolbar_button_onclick(event['data']);\n",
       "    }\n",
       "    function toolbar_mouse_event(event) {\n",
       "        return fig.toolbar_button_onmouseover(event['data']);\n",
       "    }\n",
       "\n",
       "    for(var toolbar_ind in mpl.toolbar_items) {\n",
       "        var name = mpl.toolbar_items[toolbar_ind][0];\n",
       "        var tooltip = mpl.toolbar_items[toolbar_ind][1];\n",
       "        var image = mpl.toolbar_items[toolbar_ind][2];\n",
       "        var method_name = mpl.toolbar_items[toolbar_ind][3];\n",
       "\n",
       "        if (!name) {\n",
       "            // put a spacer in here.\n",
       "            continue;\n",
       "        }\n",
       "        var button = $('<button/>');\n",
       "        button.addClass('ui-button ui-widget ui-state-default ui-corner-all ' +\n",
       "                        'ui-button-icon-only');\n",
       "        button.attr('role', 'button');\n",
       "        button.attr('aria-disabled', 'false');\n",
       "        button.click(method_name, toolbar_event);\n",
       "        button.mouseover(tooltip, toolbar_mouse_event);\n",
       "\n",
       "        var icon_img = $('<span/>');\n",
       "        icon_img.addClass('ui-button-icon-primary ui-icon');\n",
       "        icon_img.addClass(image);\n",
       "        icon_img.addClass('ui-corner-all');\n",
       "\n",
       "        var tooltip_span = $('<span/>');\n",
       "        tooltip_span.addClass('ui-button-text');\n",
       "        tooltip_span.html(tooltip);\n",
       "\n",
       "        button.append(icon_img);\n",
       "        button.append(tooltip_span);\n",
       "\n",
       "        nav_element.append(button);\n",
       "    }\n",
       "\n",
       "    var fmt_picker_span = $('<span/>');\n",
       "\n",
       "    var fmt_picker = $('<select/>');\n",
       "    fmt_picker.addClass('mpl-toolbar-option ui-widget ui-widget-content');\n",
       "    fmt_picker_span.append(fmt_picker);\n",
       "    nav_element.append(fmt_picker_span);\n",
       "    this.format_dropdown = fmt_picker[0];\n",
       "\n",
       "    for (var ind in mpl.extensions) {\n",
       "        var fmt = mpl.extensions[ind];\n",
       "        var option = $(\n",
       "            '<option/>', {selected: fmt === mpl.default_extension}).html(fmt);\n",
       "        fmt_picker.append(option);\n",
       "    }\n",
       "\n",
       "    // Add hover states to the ui-buttons\n",
       "    $( \".ui-button\" ).hover(\n",
       "        function() { $(this).addClass(\"ui-state-hover\");},\n",
       "        function() { $(this).removeClass(\"ui-state-hover\");}\n",
       "    );\n",
       "\n",
       "    var status_bar = $('<span class=\"mpl-message\"/>');\n",
       "    nav_element.append(status_bar);\n",
       "    this.message = status_bar[0];\n",
       "}\n",
       "\n",
       "mpl.figure.prototype.request_resize = function(x_pixels, y_pixels) {\n",
       "    // Request matplotlib to resize the figure. Matplotlib will then trigger a resize in the client,\n",
       "    // which will in turn request a refresh of the image.\n",
       "    this.send_message('resize', {'width': x_pixels, 'height': y_pixels});\n",
       "}\n",
       "\n",
       "mpl.figure.prototype.send_message = function(type, properties) {\n",
       "    properties['type'] = type;\n",
       "    properties['figure_id'] = this.id;\n",
       "    this.ws.send(JSON.stringify(properties));\n",
       "}\n",
       "\n",
       "mpl.figure.prototype.send_draw_message = function() {\n",
       "    if (!this.waiting) {\n",
       "        this.waiting = true;\n",
       "        this.ws.send(JSON.stringify({type: \"draw\", figure_id: this.id}));\n",
       "    }\n",
       "}\n",
       "\n",
       "\n",
       "mpl.figure.prototype.handle_save = function(fig, msg) {\n",
       "    var format_dropdown = fig.format_dropdown;\n",
       "    var format = format_dropdown.options[format_dropdown.selectedIndex].value;\n",
       "    fig.ondownload(fig, format);\n",
       "}\n",
       "\n",
       "\n",
       "mpl.figure.prototype.handle_resize = function(fig, msg) {\n",
       "    var size = msg['size'];\n",
       "    if (size[0] != fig.canvas.width || size[1] != fig.canvas.height) {\n",
       "        fig._resize_canvas(size[0], size[1]);\n",
       "        fig.send_message(\"refresh\", {});\n",
       "    };\n",
       "}\n",
       "\n",
       "mpl.figure.prototype.handle_rubberband = function(fig, msg) {\n",
       "    var x0 = msg['x0'] / mpl.ratio;\n",
       "    var y0 = (fig.canvas.height - msg['y0']) / mpl.ratio;\n",
       "    var x1 = msg['x1'] / mpl.ratio;\n",
       "    var y1 = (fig.canvas.height - msg['y1']) / mpl.ratio;\n",
       "    x0 = Math.floor(x0) + 0.5;\n",
       "    y0 = Math.floor(y0) + 0.5;\n",
       "    x1 = Math.floor(x1) + 0.5;\n",
       "    y1 = Math.floor(y1) + 0.5;\n",
       "    var min_x = Math.min(x0, x1);\n",
       "    var min_y = Math.min(y0, y1);\n",
       "    var width = Math.abs(x1 - x0);\n",
       "    var height = Math.abs(y1 - y0);\n",
       "\n",
       "    fig.rubberband_context.clearRect(\n",
       "        0, 0, fig.canvas.width / mpl.ratio, fig.canvas.height / mpl.ratio);\n",
       "\n",
       "    fig.rubberband_context.strokeRect(min_x, min_y, width, height);\n",
       "}\n",
       "\n",
       "mpl.figure.prototype.handle_figure_label = function(fig, msg) {\n",
       "    // Updates the figure title.\n",
       "    fig.header.textContent = msg['label'];\n",
       "}\n",
       "\n",
       "mpl.figure.prototype.handle_cursor = function(fig, msg) {\n",
       "    var cursor = msg['cursor'];\n",
       "    switch(cursor)\n",
       "    {\n",
       "    case 0:\n",
       "        cursor = 'pointer';\n",
       "        break;\n",
       "    case 1:\n",
       "        cursor = 'default';\n",
       "        break;\n",
       "    case 2:\n",
       "        cursor = 'crosshair';\n",
       "        break;\n",
       "    case 3:\n",
       "        cursor = 'move';\n",
       "        break;\n",
       "    }\n",
       "    fig.rubberband_canvas.style.cursor = cursor;\n",
       "}\n",
       "\n",
       "mpl.figure.prototype.handle_message = function(fig, msg) {\n",
       "    fig.message.textContent = msg['message'];\n",
       "}\n",
       "\n",
       "mpl.figure.prototype.handle_draw = function(fig, msg) {\n",
       "    // Request the server to send over a new figure.\n",
       "    fig.send_draw_message();\n",
       "}\n",
       "\n",
       "mpl.figure.prototype.handle_image_mode = function(fig, msg) {\n",
       "    fig.image_mode = msg['mode'];\n",
       "}\n",
       "\n",
       "mpl.figure.prototype.updated_canvas_event = function() {\n",
       "    // Called whenever the canvas gets updated.\n",
       "    this.send_message(\"ack\", {});\n",
       "}\n",
       "\n",
       "// A function to construct a web socket function for onmessage handling.\n",
       "// Called in the figure constructor.\n",
       "mpl.figure.prototype._make_on_message_function = function(fig) {\n",
       "    return function socket_on_message(evt) {\n",
       "        if (evt.data instanceof Blob) {\n",
       "            /* FIXME: We get \"Resource interpreted as Image but\n",
       "             * transferred with MIME type text/plain:\" errors on\n",
       "             * Chrome.  But how to set the MIME type?  It doesn't seem\n",
       "             * to be part of the websocket stream */\n",
       "            evt.data.type = \"image/png\";\n",
       "\n",
       "            /* Free the memory for the previous frames */\n",
       "            if (fig.imageObj.src) {\n",
       "                (window.URL || window.webkitURL).revokeObjectURL(\n",
       "                    fig.imageObj.src);\n",
       "            }\n",
       "\n",
       "            fig.imageObj.src = (window.URL || window.webkitURL).createObjectURL(\n",
       "                evt.data);\n",
       "            fig.updated_canvas_event();\n",
       "            fig.waiting = false;\n",
       "            return;\n",
       "        }\n",
       "        else if (typeof evt.data === 'string' && evt.data.slice(0, 21) == \"data:image/png;base64\") {\n",
       "            fig.imageObj.src = evt.data;\n",
       "            fig.updated_canvas_event();\n",
       "            fig.waiting = false;\n",
       "            return;\n",
       "        }\n",
       "\n",
       "        var msg = JSON.parse(evt.data);\n",
       "        var msg_type = msg['type'];\n",
       "\n",
       "        // Call the  \"handle_{type}\" callback, which takes\n",
       "        // the figure and JSON message as its only arguments.\n",
       "        try {\n",
       "            var callback = fig[\"handle_\" + msg_type];\n",
       "        } catch (e) {\n",
       "            console.log(\"No handler for the '\" + msg_type + \"' message type: \", msg);\n",
       "            return;\n",
       "        }\n",
       "\n",
       "        if (callback) {\n",
       "            try {\n",
       "                // console.log(\"Handling '\" + msg_type + \"' message: \", msg);\n",
       "                callback(fig, msg);\n",
       "            } catch (e) {\n",
       "                console.log(\"Exception inside the 'handler_\" + msg_type + \"' callback:\", e, e.stack, msg);\n",
       "            }\n",
       "        }\n",
       "    };\n",
       "}\n",
       "\n",
       "// from http://stackoverflow.com/questions/1114465/getting-mouse-location-in-canvas\n",
       "mpl.findpos = function(e) {\n",
       "    //this section is from http://www.quirksmode.org/js/events_properties.html\n",
       "    var targ;\n",
       "    if (!e)\n",
       "        e = window.event;\n",
       "    if (e.target)\n",
       "        targ = e.target;\n",
       "    else if (e.srcElement)\n",
       "        targ = e.srcElement;\n",
       "    if (targ.nodeType == 3) // defeat Safari bug\n",
       "        targ = targ.parentNode;\n",
       "\n",
       "    // jQuery normalizes the pageX and pageY\n",
       "    // pageX,Y are the mouse positions relative to the document\n",
       "    // offset() returns the position of the element relative to the document\n",
       "    var x = e.pageX - $(targ).offset().left;\n",
       "    var y = e.pageY - $(targ).offset().top;\n",
       "\n",
       "    return {\"x\": x, \"y\": y};\n",
       "};\n",
       "\n",
       "/*\n",
       " * return a copy of an object with only non-object keys\n",
       " * we need this to avoid circular references\n",
       " * http://stackoverflow.com/a/24161582/3208463\n",
       " */\n",
       "function simpleKeys (original) {\n",
       "  return Object.keys(original).reduce(function (obj, key) {\n",
       "    if (typeof original[key] !== 'object')\n",
       "        obj[key] = original[key]\n",
       "    return obj;\n",
       "  }, {});\n",
       "}\n",
       "\n",
       "mpl.figure.prototype.mouse_event = function(event, name) {\n",
       "    var canvas_pos = mpl.findpos(event)\n",
       "\n",
       "    if (name === 'button_press')\n",
       "    {\n",
       "        this.canvas.focus();\n",
       "        this.canvas_div.focus();\n",
       "    }\n",
       "\n",
       "    var x = canvas_pos.x * mpl.ratio;\n",
       "    var y = canvas_pos.y * mpl.ratio;\n",
       "\n",
       "    this.send_message(name, {x: x, y: y, button: event.button,\n",
       "                             step: event.step,\n",
       "                             guiEvent: simpleKeys(event)});\n",
       "\n",
       "    /* This prevents the web browser from automatically changing to\n",
       "     * the text insertion cursor when the button is pressed.  We want\n",
       "     * to control all of the cursor setting manually through the\n",
       "     * 'cursor' event from matplotlib */\n",
       "    event.preventDefault();\n",
       "    return false;\n",
       "}\n",
       "\n",
       "mpl.figure.prototype._key_event_extra = function(event, name) {\n",
       "    // Handle any extra behaviour associated with a key event\n",
       "}\n",
       "\n",
       "mpl.figure.prototype.key_event = function(event, name) {\n",
       "\n",
       "    // Prevent repeat events\n",
       "    if (name == 'key_press')\n",
       "    {\n",
       "        if (event.which === this._key)\n",
       "            return;\n",
       "        else\n",
       "            this._key = event.which;\n",
       "    }\n",
       "    if (name == 'key_release')\n",
       "        this._key = null;\n",
       "\n",
       "    var value = '';\n",
       "    if (event.ctrlKey && event.which != 17)\n",
       "        value += \"ctrl+\";\n",
       "    if (event.altKey && event.which != 18)\n",
       "        value += \"alt+\";\n",
       "    if (event.shiftKey && event.which != 16)\n",
       "        value += \"shift+\";\n",
       "\n",
       "    value += 'k';\n",
       "    value += event.which.toString();\n",
       "\n",
       "    this._key_event_extra(event, name);\n",
       "\n",
       "    this.send_message(name, {key: value,\n",
       "                             guiEvent: simpleKeys(event)});\n",
       "    return false;\n",
       "}\n",
       "\n",
       "mpl.figure.prototype.toolbar_button_onclick = function(name) {\n",
       "    if (name == 'download') {\n",
       "        this.handle_save(this, null);\n",
       "    } else {\n",
       "        this.send_message(\"toolbar_button\", {name: name});\n",
       "    }\n",
       "};\n",
       "\n",
       "mpl.figure.prototype.toolbar_button_onmouseover = function(tooltip) {\n",
       "    this.message.textContent = tooltip;\n",
       "};\n",
       "mpl.toolbar_items = [[\"Home\", \"Reset original view\", \"fa fa-home icon-home\", \"home\"], [\"Back\", \"Back to previous view\", \"fa fa-arrow-left icon-arrow-left\", \"back\"], [\"Forward\", \"Forward to next view\", \"fa fa-arrow-right icon-arrow-right\", \"forward\"], [\"\", \"\", \"\", \"\"], [\"Pan\", \"Pan axes with left mouse, zoom with right\", \"fa fa-arrows icon-move\", \"pan\"], [\"Zoom\", \"Zoom to rectangle\", \"fa fa-square-o icon-check-empty\", \"zoom\"], [\"\", \"\", \"\", \"\"], [\"Download\", \"Download plot\", \"fa fa-floppy-o icon-save\", \"download\"]];\n",
       "\n",
       "mpl.extensions = [\"eps\", \"jpeg\", \"pdf\", \"png\", \"ps\", \"raw\", \"svg\", \"tif\"];\n",
       "\n",
       "mpl.default_extension = \"png\";var comm_websocket_adapter = function(comm) {\n",
       "    // Create a \"websocket\"-like object which calls the given IPython comm\n",
       "    // object with the appropriate methods. Currently this is a non binary\n",
       "    // socket, so there is still some room for performance tuning.\n",
       "    var ws = {};\n",
       "\n",
       "    ws.close = function() {\n",
       "        comm.close()\n",
       "    };\n",
       "    ws.send = function(m) {\n",
       "        //console.log('sending', m);\n",
       "        comm.send(m);\n",
       "    };\n",
       "    // Register the callback with on_msg.\n",
       "    comm.on_msg(function(msg) {\n",
       "        //console.log('receiving', msg['content']['data'], msg);\n",
       "        // Pass the mpl event to the overridden (by mpl) onmessage function.\n",
       "        ws.onmessage(msg['content']['data'])\n",
       "    });\n",
       "    return ws;\n",
       "}\n",
       "\n",
       "mpl.mpl_figure_comm = function(comm, msg) {\n",
       "    // This is the function which gets called when the mpl process\n",
       "    // starts-up an IPython Comm through the \"matplotlib\" channel.\n",
       "\n",
       "    var id = msg.content.data.id;\n",
       "    // Get hold of the div created by the display call when the Comm\n",
       "    // socket was opened in Python.\n",
       "    var element = $(\"#\" + id);\n",
       "    var ws_proxy = comm_websocket_adapter(comm)\n",
       "\n",
       "    function ondownload(figure, format) {\n",
       "        window.open(figure.imageObj.src);\n",
       "    }\n",
       "\n",
       "    var fig = new mpl.figure(id, ws_proxy,\n",
       "                           ondownload,\n",
       "                           element.get(0));\n",
       "\n",
       "    // Call onopen now - mpl needs it, as it is assuming we've passed it a real\n",
       "    // web socket which is closed, not our websocket->open comm proxy.\n",
       "    ws_proxy.onopen();\n",
       "\n",
       "    fig.parent_element = element.get(0);\n",
       "    fig.cell_info = mpl.find_output_cell(\"<div id='\" + id + \"'></div>\");\n",
       "    if (!fig.cell_info) {\n",
       "        console.error(\"Failed to find cell for figure\", id, fig);\n",
       "        return;\n",
       "    }\n",
       "\n",
       "    var output_index = fig.cell_info[2]\n",
       "    var cell = fig.cell_info[0];\n",
       "\n",
       "};\n",
       "\n",
       "mpl.figure.prototype.handle_close = function(fig, msg) {\n",
       "    var width = fig.canvas.width/mpl.ratio\n",
       "    fig.root.unbind('remove')\n",
       "\n",
       "    // Update the output cell to use the data from the current canvas.\n",
       "    fig.push_to_output();\n",
       "    var dataURL = fig.canvas.toDataURL();\n",
       "    // Re-enable the keyboard manager in IPython - without this line, in FF,\n",
       "    // the notebook keyboard shortcuts fail.\n",
       "    IPython.keyboard_manager.enable()\n",
       "    $(fig.parent_element).html('<img src=\"' + dataURL + '\" width=\"' + width + '\">');\n",
       "    fig.close_ws(fig, msg);\n",
       "}\n",
       "\n",
       "mpl.figure.prototype.close_ws = function(fig, msg){\n",
       "    fig.send_message('closing', msg);\n",
       "    // fig.ws.close()\n",
       "}\n",
       "\n",
       "mpl.figure.prototype.push_to_output = function(remove_interactive) {\n",
       "    // Turn the data on the canvas into data in the output cell.\n",
       "    var width = this.canvas.width/mpl.ratio\n",
       "    var dataURL = this.canvas.toDataURL();\n",
       "    this.cell_info[1]['text/html'] = '<img src=\"' + dataURL + '\" width=\"' + width + '\">';\n",
       "}\n",
       "\n",
       "mpl.figure.prototype.updated_canvas_event = function() {\n",
       "    // Tell IPython that the notebook contents must change.\n",
       "    IPython.notebook.set_dirty(true);\n",
       "    this.send_message(\"ack\", {});\n",
       "    var fig = this;\n",
       "    // Wait a second, then push the new image to the DOM so\n",
       "    // that it is saved nicely (might be nice to debounce this).\n",
       "    setTimeout(function () { fig.push_to_output() }, 1000);\n",
       "}\n",
       "\n",
       "mpl.figure.prototype._init_toolbar = function() {\n",
       "    var fig = this;\n",
       "\n",
       "    var nav_element = $('<div/>');\n",
       "    nav_element.attr('style', 'width: 100%');\n",
       "    this.root.append(nav_element);\n",
       "\n",
       "    // Define a callback function for later on.\n",
       "    function toolbar_event(event) {\n",
       "        return fig.toolbar_button_onclick(event['data']);\n",
       "    }\n",
       "    function toolbar_mouse_event(event) {\n",
       "        return fig.toolbar_button_onmouseover(event['data']);\n",
       "    }\n",
       "\n",
       "    for(var toolbar_ind in mpl.toolbar_items){\n",
       "        var name = mpl.toolbar_items[toolbar_ind][0];\n",
       "        var tooltip = mpl.toolbar_items[toolbar_ind][1];\n",
       "        var image = mpl.toolbar_items[toolbar_ind][2];\n",
       "        var method_name = mpl.toolbar_items[toolbar_ind][3];\n",
       "\n",
       "        if (!name) { continue; };\n",
       "\n",
       "        var button = $('<button class=\"btn btn-default\" href=\"#\" title=\"' + name + '\"><i class=\"fa ' + image + ' fa-lg\"></i></button>');\n",
       "        button.click(method_name, toolbar_event);\n",
       "        button.mouseover(tooltip, toolbar_mouse_event);\n",
       "        nav_element.append(button);\n",
       "    }\n",
       "\n",
       "    // Add the status bar.\n",
       "    var status_bar = $('<span class=\"mpl-message\" style=\"text-align:right; float: right;\"/>');\n",
       "    nav_element.append(status_bar);\n",
       "    this.message = status_bar[0];\n",
       "\n",
       "    // Add the close button to the window.\n",
       "    var buttongrp = $('<div class=\"btn-group inline pull-right\"></div>');\n",
       "    var button = $('<button class=\"btn btn-mini btn-primary\" href=\"#\" title=\"Stop Interaction\"><i class=\"fa fa-power-off icon-remove icon-large\"></i></button>');\n",
       "    button.click(function (evt) { fig.handle_close(fig, {}); } );\n",
       "    button.mouseover('Stop Interaction', toolbar_mouse_event);\n",
       "    buttongrp.append(button);\n",
       "    var titlebar = this.root.find($('.ui-dialog-titlebar'));\n",
       "    titlebar.prepend(buttongrp);\n",
       "}\n",
       "\n",
       "mpl.figure.prototype._root_extra_style = function(el){\n",
       "    var fig = this\n",
       "    el.on(\"remove\", function(){\n",
       "\tfig.close_ws(fig, {});\n",
       "    });\n",
       "}\n",
       "\n",
       "mpl.figure.prototype._canvas_extra_style = function(el){\n",
       "    // this is important to make the div 'focusable\n",
       "    el.attr('tabindex', 0)\n",
       "    // reach out to IPython and tell the keyboard manager to turn it's self\n",
       "    // off when our div gets focus\n",
       "\n",
       "    // location in version 3\n",
       "    if (IPython.notebook.keyboard_manager) {\n",
       "        IPython.notebook.keyboard_manager.register_events(el);\n",
       "    }\n",
       "    else {\n",
       "        // location in version 2\n",
       "        IPython.keyboard_manager.register_events(el);\n",
       "    }\n",
       "\n",
       "}\n",
       "\n",
       "mpl.figure.prototype._key_event_extra = function(event, name) {\n",
       "    var manager = IPython.notebook.keyboard_manager;\n",
       "    if (!manager)\n",
       "        manager = IPython.keyboard_manager;\n",
       "\n",
       "    // Check for shift+enter\n",
       "    if (event.shiftKey && event.which == 13) {\n",
       "        this.canvas_div.blur();\n",
       "        // select the cell after this one\n",
       "        var index = IPython.notebook.find_cell_index(this.cell_info[0]);\n",
       "        IPython.notebook.select(index + 1);\n",
       "    }\n",
       "}\n",
       "\n",
       "mpl.figure.prototype.handle_save = function(fig, msg) {\n",
       "    fig.ondownload(fig, null);\n",
       "}\n",
       "\n",
       "\n",
       "mpl.find_output_cell = function(html_output) {\n",
       "    // Return the cell and output element which can be found *uniquely* in the notebook.\n",
       "    // Note - this is a bit hacky, but it is done because the \"notebook_saving.Notebook\"\n",
       "    // IPython event is triggered only after the cells have been serialised, which for\n",
       "    // our purposes (turning an active figure into a static one), is too late.\n",
       "    var cells = IPython.notebook.get_cells();\n",
       "    var ncells = cells.length;\n",
       "    for (var i=0; i<ncells; i++) {\n",
       "        var cell = cells[i];\n",
       "        if (cell.cell_type === 'code'){\n",
       "            for (var j=0; j<cell.output_area.outputs.length; j++) {\n",
       "                var data = cell.output_area.outputs[j];\n",
       "                if (data.data) {\n",
       "                    // IPython >= 3 moved mimebundle to data attribute of output\n",
       "                    data = data.data;\n",
       "                }\n",
       "                if (data['text/html'] == html_output) {\n",
       "                    return [cell, data, j];\n",
       "                }\n",
       "            }\n",
       "        }\n",
       "    }\n",
       "}\n",
       "\n",
       "// Register the function which deals with the matplotlib target/channel.\n",
       "// The kernel may be null if the page has been refreshed.\n",
       "if (IPython.notebook.kernel != null) {\n",
       "    IPython.notebook.kernel.comm_manager.register_target('matplotlib', mpl.mpl_figure_comm);\n",
       "}\n"
      ],
      "text/plain": [
       "<IPython.core.display.Javascript object>"
      ]
     },
     "metadata": {},
     "output_type": "display_data"
    },
    {
     "data": {
      "text/html": [
       "<img src=\"data:image/png;base64,iVBORw0KGgoAAAANSUhEUgAABaAAAALQCAYAAABmJdeHAAAPyklEQVR4nO3BMQEAAADCoPVPbQdvoAAAAAAAAAAAAAAAAAAAAAAAAAAAAAAAAAAAAAAAAAAAAAAAAAAAAAAAAAAAAAAAAAAAAAAAAAAAAAAAAAAAAAAAAAAAAAAAAAAAAAAAAAAAAAAAAAAAAAAAAAAAAAAAAAAAAAAAAAAAAAAAAAAAAAAAAAAAAAAAAAAAAAAAAAAAAAAAAAAAAAAAAAAAAAAAAAAAAAAAAAAAAAAAAAAAAAAAAAAAAAAAAAAAAAAAAAAAAAAAAAAAAAAAAAAAAAAAAAAAAAAAAAAAAAAAAAAAAAAAAAAAAAAAAAAAAAAAAAAAAAAAAAAAAAAAAAAAAAAAAAAAAAAAAAAAAAAAAAAAAAAAAAAAAAAAAAAAAAAAAAAAAAAAAAAAAAAAAAAAAAAAAAAAAAAAAAAAAAAAAAAAAAAAAAAAAAAAAAAAAAAAAAAAAAAAAAAAAAAAAAAAAAAAAAAAAAAAAAAAAAAAAAAAAAAAAAAAAAAAAAAAAAAAAAAAAAAAAAAAAAAAAAAAAAAAAAAAAAAAAAAAAAAAAAAAAAAAAAAAAAAAAAAAAAAAAAAAAAAAAAAAAAAAAAAAAAAAAAAAAAAAAAAAAAAAAAAAAAAAAAAAAAAAAAAAAAAAAAAAAAAAAAAAAAAAAAAAAAAAAAAAAAAAAAAAAAAAAAAAAAAAAAAAAAAAAAAAAAAAAAAAAAAAAAAAAAAAAAAAAAAAAAAAAAAAAAAAAAAAAAAAAAAAAAAAAAAAAAAAAAAAAAAAAAAAAAAAAAAAAAAAAAAAAAAAAAAAAAAAAAAAAAAAAAAAAAAAAAAAAAAAAAAAAAAAAAAAAAAAAAAAAAAAAAAAAAAAAAAAAAAAAAAAAAAAAAAAAAAAAAAAAAAAAAAAAAAAAAAAAAAAAAAAAAAAAAAAAAAAAAAAAAAAAAAAAAAAAAAAAAAAAAAAAAAAAAAAAAAAAAAAAAAAAAAAAAAAAAAAAAAAAAAAAAAAAAAAAAAAAAAAAAAAAAAAAAAAAAAAAAAAAAAAAAAAAAAAAAAAAAAAAAAAAAAAAAAAAAAAAAAAAAAAAAAAAAAAAAAAAAAAAAAAAAAAAAAAAAAAAAAAAAAAAAAAAAAAAAAAAAAAAAAAAAAAAAAAAAAAAAAAAAAAAAAAAAAAAAAAAAAAAAAAAAAAAAAAAAAAAAAAAAAAAAAAAAAAAAAAAAAAAAAAAAAAAAAAAAAAAAAAAAAAAAAAAAAAAAAAAAAAAAAAAAAAAAAAAAAAAAAAAAAAAAAAAAAAAAAAAAAAAAAAAAAAAAAAAAAAAAAAAAAAAAAAAAAAAAAAAAAAAAAAAAAAAAAAAAAAAAAAAAAAAAAAAAAAAAAAAAAAAAAAAAAAAAAAAAAAAAAAAAAAAAAAAAAAAAAAAAAAAAAAAAAAAAAAAAAAAAAAAAAAAAAAAAAAAAAAAAAAAAAAAAAAAAAAAAAAAAAAAAAAAAAAAAAAAAAAAAAAAAAAAAAAAAAAAAAAAAAAAAAAAAAAAAAAAAAAAAAAAAAAAAAAAAAAAAAAAAAAAAAAAAAAAAAAAAAAAAAAAAAAAAAAAAAAAAAAAAAAAAAAAAAAAAAAAAAAAAAAAAAAAAAAAAAAAAAAAAAAAAAAAAAAAAAAAAAAAAAAAAAAAAAAAAAAAAAAAAAAAAAAAAAAAAAAAAAAAAAAAAAAAAAAAAAAAAAAAAAAAAAAAAAAAAAAAAAAAAAAAAAAAAAAAAAAAAAAAAAAAAAAAAAAAAAAAAAAAAAAAAAAAAAAAAAAAAAAAAAAAAAAAAAAAAAAAAAAAAAAAAAAAAAAAAAAAAAAAAAAAAAAAAAAAAAAAAAAAAAAAAAAAAAAAAAAAAAAAAAAAAAAAAAAAAAAAAAAAAAAAAAAAAAAAAAAAAAAAAAAAAAAAAAAAAAAAAAAAAAAAAAAAAAAAAAAAAAAAAAAAAAAAAAAAAAAAAAAAAAAAAAAAAAAAAAAAAAAAAAAAAAAAAAAAAAAAAAAAAAAAAAAAAAAAAAAAAAAAAAAAAAAAAAAAAAAAAAAAAAAAAAAAAAAAAAAAAAAAAAAAAAAAAAAAAAAAAAAAAAAAAAAAAAAAAAAAAAAAAAAAAAAAAAAAAAAAAAAAAAAAAAAAAAAAAAAAAAAAAAAAAAAAAAAAAAAAAAAAAAAAAAAAAAAAAAAAAAAAAAAAAAAAAAAAAAAAAAAAAAAAAAAAAAAAAAAAAAAAAAAAAAAAAAAAAAAAAAAAAAAAAAAAAAAAAAAAAAAAAAAAAAAAAAAAAAAAAAAAAAAAAAAAAAAAAAAAAAAAAAAAAAAAAAAAAAAAAAAAAAAAAAAAAAAAAAAAAAAAAAAAAAAAAAAAAAAAAAAAAAAAAAAAAAAAAAAAAAAAAAAAAAAAAAAAAAAAAAAAAAAAAAAAAAAAAAAAAAAAAAAAAAAAAAAAAAAAAAAAAAAAAAAAAAAAAAAAAAAAAAAAAAAAAAAAAAAAAAAAAAAAAAAAAAAAAAAAAAAAAAAAAAAAAAAAAAAAAAAAAAAAAAAAAAAAAAAAAAAAAAAAAAAAAAAAAAAAAAAAAAAAAAAAAAAAAAAAAAAAAAAAAAAAAAAAAAAAAAAAAAAAAAAAAAAAAAAAAAAAAAAAAAAAAAAAAAAAAAAAAAAAAAAAAAAAAAAAAAAAAAAAAAAAAAAAAAAAAAAAAAAAAAAAAAAAAAAAAAAAAAAAAAAAAAAAAAAAAAAAAAAAAAAAAAAAAAAAAAAAAAAAAAAAAAAAAAAAAAAAAAAAAAAAAAAAAAAAAAAAAAAAAAAAAAAAAAAAAAAAAAAAAAAAAAAAAAAAAAAAAAAAAAAAAAAAAAAAAAAAAAAAAAAAAAAAAAAAAAAAAAAAAAAAAAAAAAAAAAAAAAAAAAAAAAAAAAAAAAAAAAAAAAAAAAAAAAAAAAAAAAAAAAAAAAAAAAAAAAAAAAAAAAAAAAAAAAAAAAAAAAAAAAAAAAAAAAAAAAAAAAAAAAAAAAAAAAAAAAAAAAAAAAAAAAAAAAAAAAAAAAAAAAAAAAAAAAAAAAAAAAAAAAAAAAAAAAAAAAAAAAAAAAAAAAAAAAAAAAAAAAAAAAAAAAAAAAAAAAAAAAAAAAAAAAAAAAAAAAAAAAAAAAAAAAAAAAAAAAAAAAAAAAAAAAAAAAAAAAAAAAAAAAAAAAAAAAAAAAAAAAAAAAAAAAAAAAAAAAAAAAAAAAAAAAAAAAAAAAAAAAAAAAAAAAAAAAAAAAAAAAAAAAAAAAAAAAAAAAAAAAAAAAAAAAAAAAAAAAAAAAAAAAAAAAAAAAAAAAAAAAAAAAAAAAAAAAAAAAAAAAAAAAAAAAAAAAAAAAAAAAAAAAAAAAAAAAAAAAAAAAAAAAAAAAAAAAAAAAAAAAAAAAAAAAAAAAAAAAAAAAAAAAAAAAAAAAAAAAAAAAAAAAAAAAAAAAAAAAAAAAAAAAAAAAAAAAAAAAAAAAAAAAAAAAAAAAAAAAAAAAAAAAAAAAAAAAAAAAAAAAAAAAAAAAAAAAAAAAAAAAAAAAAAAAAAAAAAAAAAAAAAAAAAAAAAAAAAAAAAAAAAAAAAAAAAAAAAAAAAAAAAAAAAAAAAAAAAAAAAAAAAAAAAAAAAAAAAAAAAAAAAAAAAAAAAAAAAAAAAAAAAAAAAAAAAAAAAAAAAAAAAAAAAAAAAAAAAAAAAAAAAAAAAAAAAAAAAAAAAAAAAAAAAAAAAAAAAAAAAAAAAAAAAAAAAAAAAAAAAAAAAAAAAAAAAAAAAAAAAAAAAAAAAAAAAAAAAAAAAAAAAAAAAAAAAAAAAAAAAAAAAAAAAAAAAAAAAAAAAAAAAAAAAAAAAAAAAAAAAAAAAAAAAAAAAAAAAAAAAAAAAAAAAAAAAAAAAAAAAAAAAAAAAAAAAAAAAAAAAAAAAAAAAAAAAAAAAAAAAAAAAAAAAAAAAAAAAAAAAAAAAAAAAAAAAAAAAAAAAAAAAAAAAAAAAAAAAAAAAAAAAAAAAAAAAAAAAAAAAAAAAAAAAAAAAAAAAAAAAAAAAAAAAAAAAAAAAAAAAAAAAAAAAAAAAAAAAAAAAAAAAAAAAAAAAAAAAAAAAAAAAAAAAAAAAAAAAAAAAAAAAAAAAAAAAAAAAAAAAAAAAAAAAAAAAAAAAAAAAAAAAAAAAAAAAAAAAAAAAAAAAAAAAAAAAAAAAAAAAAAAAAAAAAAAAAAAAAAAAAAAAAAAAAAAAAAAAAAAAAAAAAAAAAAAAAAAAAAAAAAAAAAAAAAAAAAAAAAAAAAAAAAAAAAAAAAAAAAAAAAAAAAAAAAAAAAAAAAAAAAAAAAAAAAAAAAAAAAAAAAAAAAAAAAAAAAAAAAAAAAAAAAAAAAAAAAAAAAAAAAAAAAAAAAAAAAAAAAAAAAAAAAAAAAAAAAAAAAAAAAAAAAAAAAAAAAAAAAAAAAAAAAAAAAAAAAAAAAAAAAAAAAAAAAAAAAAAAAAAAAAAAAAAAAAAAAAAAAAAAAAAAAAAAAAAAAAAAAAAAAAAAAAAAAAAAAAAAAAAAAAAAAAAAAAAAAAAAAAAAAAAAAAAAAAAAAAAAAAAAAAAAAAAAAAAAAAAAAAAAAAAAAAAAAAAAAAAAAAAAAAAAAAAAAAAAAAAAAAAAAAAAAAAAAAAAAAAAAAAAAAAAAAAAAAAAAAAAAAAAAAAAAAAAAAAAAAAAAAAAAAAAAAAAAAAAAAAAAAAAAAAAAAAAAAAAAAAAAAAAAAAAAAAAAAAAAAAAAAAAAAAAAAAAAAAAAAAAAAAAAAAAAAAAAAAAAAAAAAAAAAAAAAAAAAAAAAAAAAAAAAAAAAAAAAAAAAAAAAAAAAAAAAAAAAAAAAAAAAAAAAAAAAAAAAAAAAAAAAAAAAAAAAAAAAAAAAAAAAAAAAAAAAAAAAAAAAAAAAAAAAAAAAAAAAAAAAAAAAAAAAAAAAAAAAAAAAAAAAAAAAAAAAAAAAAAAAAAAAAAAAAAAAAAAAAAAAAAAAAAAAAAAAAAAAAAAAAAAAAAAAAAAAAAAAAAAAAAAAAAAAAAAAAAAAAAAAAAAAAAAAAAAAAAAAAAAAAAAAAAAAAAAAAAAAAAAAAAAAAAAAAAAAAAAAAAAAAAAAAAAAAAAAAAAAAAAAAAAAAAAAAAAAAAAAAAAAAAAAAAAAAAAAAAAAAAAAAAAAAAAAAAAAAAAAAAAAAAAAAAAAAAAAAAAAAAAAAAAAAAAAAAAAAAAAAAAAAAAAAAAAAAAAAAAAAAAAAAAAAAAAAAAAAAAAAAAAAAAAAAAAAAAAAAAAAAAAAAAAAAAAAAAAAAAAAAAAAAAAAAAAAAAAAAAAAAAAAAAAAAAAAAAAAAAAAAAAAAAAAAAAAAAAAAAAAAAAAAAAAAAAAAAAAAAAAAAAAAAAeAxOgQABDkKzSAAAAABJRU5ErkJggg==\" width=\"720\">"
      ],
      "text/plain": [
       "<IPython.core.display.HTML object>"
      ]
     },
     "metadata": {},
     "output_type": "display_data"
    },
    {
     "data": {
      "application/vnd.jupyter.widget-view+json": {
       "model_id": "fb5f73a47fb343e1ad4b207e8a9e4392",
       "version_major": 2,
       "version_minor": 0
      },
      "text/plain": [
       "IntSlider(value=10, min=1)"
      ]
     },
     "metadata": {},
     "output_type": "display_data"
    },
    {
     "data": {
      "application/vnd.jupyter.widget-view+json": {
       "model_id": "ff55b90b2a58423bb96365d322597081",
       "version_major": 2,
       "version_minor": 0
      },
      "text/plain": [
       "Label(value='A value is: 1.0')"
      ]
     },
     "metadata": {},
     "output_type": "display_data"
    },
    {
     "data": {
      "application/vnd.jupyter.widget-view+json": {
       "model_id": "4c9876a5639846b3aa287cd00366dd58",
       "version_major": 2,
       "version_minor": 0
      },
      "text/plain": [
       "IntSlider(value=10, min=1)"
      ]
     },
     "metadata": {},
     "output_type": "display_data"
    },
    {
     "data": {
      "application/vnd.jupyter.widget-view+json": {
       "model_id": "36ad212d6d984e4c93424ee4e3892938",
       "version_major": 2,
       "version_minor": 0
      },
      "text/plain": [
       "Label(value='log10(B) value is: 1.0')"
      ]
     },
     "metadata": {},
     "output_type": "display_data"
    }
   ],
   "source": [
    "from IPython.display import display\n",
    "%matplotlib notebook\n",
    "%matplotlib notebook \n",
    "\n",
    "r = wr.value \n",
    "u = np.logspace(-4, 0.25, 41)\n",
    "fig = plt.figure(figsize=(10,5)) \n",
    "ax = fig.add_subplot()\n",
    "plt.plot(1/u, exp1(u), label='Theis')\n",
    "ax.set_xscale('log'); ax.set_yscale('log')\n",
    "plt.show();\n",
    "\n",
    "def update_plot(shifty = 10, shiftx = 10):\n",
    "    if r <= 50:\n",
    "        plt.plot (10**(shiftx/10)*df['t1']/24/60/r/r,shifty/10*df['s1'],'.C1')\n",
    "    else:\n",
    "        plt.plot (10**(shiftx/10)*df['t2']/24/60/r/r,shifty/10*df['s2'],'.C1')\n",
    "        \n",
    "    plt.grid()\n",
    "    fig.canvas.draw_idle()\n",
    "\n",
    "# prepare widgets\n",
    "shifty_slider = widgets.IntSlider(10, min = 1, max = 100)\n",
    "shifty_label = widgets.Label(value = 'A value is: ' + str(shifty_slider.value/10))\n",
    "display(shifty_slider, shifty_label)\n",
    "shiftx_slider = widgets.IntSlider(10, min = 1, max = 100)\n",
    "shiftx_label = widgets.Label(value = 'log10(B) value is: ' + str(shiftx_slider.value/10))\n",
    "display(shiftx_slider, shiftx_label)\n",
    "\n",
    "# handle shifty update\n",
    "def update_shifty(value):\n",
    "    plt.plot (10**(shiftx_slider.value/10)*df['t1']/24/60/r/r,value['old']/10*df['s1'], '.', color='0.7')\n",
    "    update_plot(shifty = value['new'],shiftx = shiftx_slider.value)\n",
    "    shifty_label.value = 'A value is: ' + str(value.new/10)\n",
    "\n",
    "# handle shiftx update\n",
    "def update_shiftx(value):\n",
    "    plt.plot (10**(value['old']/10)*df['t1']/24/60/r/r,shifty_slider.value/10*df['s1'], '.', color='0.7')\n",
    "    update_plot(shifty = shifty_slider.value,shiftx = value['new'])\n",
    "    shiftx_label.value = 'log10(B) value is: ' + str(value.new/10)\n",
    "    \n",
    "shiftx_slider.observe(update_shiftx, names = 'value')\n",
    "shifty_slider.observe(update_shifty, names = 'value') "
   ]
  },
  {
   "cell_type": "markdown",
   "metadata": {
    "hideCode": false,
    "hidePrompt": false
   },
   "source": [
    "Run the next cell to show the result for transmissivity and storativity!"
   ]
  },
  {
   "cell_type": "code",
   "execution_count": 31,
   "metadata": {
    "hideCode": false,
    "hidePrompt": false,
    "hide_input": false,
    "scrolled": false
   },
   "outputs": [
    {
     "data": {
      "application/javascript": [
       "/* Put everything inside the global mpl namespace */\n",
       "window.mpl = {};\n",
       "\n",
       "\n",
       "mpl.get_websocket_type = function() {\n",
       "    if (typeof(WebSocket) !== 'undefined') {\n",
       "        return WebSocket;\n",
       "    } else if (typeof(MozWebSocket) !== 'undefined') {\n",
       "        return MozWebSocket;\n",
       "    } else {\n",
       "        alert('Your browser does not have WebSocket support. ' +\n",
       "              'Please try Chrome, Safari or Firefox ≥ 6. ' +\n",
       "              'Firefox 4 and 5 are also supported but you ' +\n",
       "              'have to enable WebSockets in about:config.');\n",
       "    };\n",
       "}\n",
       "\n",
       "mpl.figure = function(figure_id, websocket, ondownload, parent_element) {\n",
       "    this.id = figure_id;\n",
       "\n",
       "    this.ws = websocket;\n",
       "\n",
       "    this.supports_binary = (this.ws.binaryType != undefined);\n",
       "\n",
       "    if (!this.supports_binary) {\n",
       "        var warnings = document.getElementById(\"mpl-warnings\");\n",
       "        if (warnings) {\n",
       "            warnings.style.display = 'block';\n",
       "            warnings.textContent = (\n",
       "                \"This browser does not support binary websocket messages. \" +\n",
       "                    \"Performance may be slow.\");\n",
       "        }\n",
       "    }\n",
       "\n",
       "    this.imageObj = new Image();\n",
       "\n",
       "    this.context = undefined;\n",
       "    this.message = undefined;\n",
       "    this.canvas = undefined;\n",
       "    this.rubberband_canvas = undefined;\n",
       "    this.rubberband_context = undefined;\n",
       "    this.format_dropdown = undefined;\n",
       "\n",
       "    this.image_mode = 'full';\n",
       "\n",
       "    this.root = $('<div/>');\n",
       "    this._root_extra_style(this.root)\n",
       "    this.root.attr('style', 'display: inline-block');\n",
       "\n",
       "    $(parent_element).append(this.root);\n",
       "\n",
       "    this._init_header(this);\n",
       "    this._init_canvas(this);\n",
       "    this._init_toolbar(this);\n",
       "\n",
       "    var fig = this;\n",
       "\n",
       "    this.waiting = false;\n",
       "\n",
       "    this.ws.onopen =  function () {\n",
       "            fig.send_message(\"supports_binary\", {value: fig.supports_binary});\n",
       "            fig.send_message(\"send_image_mode\", {});\n",
       "            if (mpl.ratio != 1) {\n",
       "                fig.send_message(\"set_dpi_ratio\", {'dpi_ratio': mpl.ratio});\n",
       "            }\n",
       "            fig.send_message(\"refresh\", {});\n",
       "        }\n",
       "\n",
       "    this.imageObj.onload = function() {\n",
       "            if (fig.image_mode == 'full') {\n",
       "                // Full images could contain transparency (where diff images\n",
       "                // almost always do), so we need to clear the canvas so that\n",
       "                // there is no ghosting.\n",
       "                fig.context.clearRect(0, 0, fig.canvas.width, fig.canvas.height);\n",
       "            }\n",
       "            fig.context.drawImage(fig.imageObj, 0, 0);\n",
       "        };\n",
       "\n",
       "    this.imageObj.onunload = function() {\n",
       "        fig.ws.close();\n",
       "    }\n",
       "\n",
       "    this.ws.onmessage = this._make_on_message_function(this);\n",
       "\n",
       "    this.ondownload = ondownload;\n",
       "}\n",
       "\n",
       "mpl.figure.prototype._init_header = function() {\n",
       "    var titlebar = $(\n",
       "        '<div class=\"ui-dialog-titlebar ui-widget-header ui-corner-all ' +\n",
       "        'ui-helper-clearfix\"/>');\n",
       "    var titletext = $(\n",
       "        '<div class=\"ui-dialog-title\" style=\"width: 100%; ' +\n",
       "        'text-align: center; padding: 3px;\"/>');\n",
       "    titlebar.append(titletext)\n",
       "    this.root.append(titlebar);\n",
       "    this.header = titletext[0];\n",
       "}\n",
       "\n",
       "\n",
       "\n",
       "mpl.figure.prototype._canvas_extra_style = function(canvas_div) {\n",
       "\n",
       "}\n",
       "\n",
       "\n",
       "mpl.figure.prototype._root_extra_style = function(canvas_div) {\n",
       "\n",
       "}\n",
       "\n",
       "mpl.figure.prototype._init_canvas = function() {\n",
       "    var fig = this;\n",
       "\n",
       "    var canvas_div = $('<div/>');\n",
       "\n",
       "    canvas_div.attr('style', 'position: relative; clear: both; outline: 0');\n",
       "\n",
       "    function canvas_keyboard_event(event) {\n",
       "        return fig.key_event(event, event['data']);\n",
       "    }\n",
       "\n",
       "    canvas_div.keydown('key_press', canvas_keyboard_event);\n",
       "    canvas_div.keyup('key_release', canvas_keyboard_event);\n",
       "    this.canvas_div = canvas_div\n",
       "    this._canvas_extra_style(canvas_div)\n",
       "    this.root.append(canvas_div);\n",
       "\n",
       "    var canvas = $('<canvas/>');\n",
       "    canvas.addClass('mpl-canvas');\n",
       "    canvas.attr('style', \"left: 0; top: 0; z-index: 0; outline: 0\")\n",
       "\n",
       "    this.canvas = canvas[0];\n",
       "    this.context = canvas[0].getContext(\"2d\");\n",
       "\n",
       "    var backingStore = this.context.backingStorePixelRatio ||\n",
       "\tthis.context.webkitBackingStorePixelRatio ||\n",
       "\tthis.context.mozBackingStorePixelRatio ||\n",
       "\tthis.context.msBackingStorePixelRatio ||\n",
       "\tthis.context.oBackingStorePixelRatio ||\n",
       "\tthis.context.backingStorePixelRatio || 1;\n",
       "\n",
       "    mpl.ratio = (window.devicePixelRatio || 1) / backingStore;\n",
       "\n",
       "    var rubberband = $('<canvas/>');\n",
       "    rubberband.attr('style', \"position: absolute; left: 0; top: 0; z-index: 1;\")\n",
       "\n",
       "    var pass_mouse_events = true;\n",
       "\n",
       "    canvas_div.resizable({\n",
       "        start: function(event, ui) {\n",
       "            pass_mouse_events = false;\n",
       "        },\n",
       "        resize: function(event, ui) {\n",
       "            fig.request_resize(ui.size.width, ui.size.height);\n",
       "        },\n",
       "        stop: function(event, ui) {\n",
       "            pass_mouse_events = true;\n",
       "            fig.request_resize(ui.size.width, ui.size.height);\n",
       "        },\n",
       "    });\n",
       "\n",
       "    function mouse_event_fn(event) {\n",
       "        if (pass_mouse_events)\n",
       "            return fig.mouse_event(event, event['data']);\n",
       "    }\n",
       "\n",
       "    rubberband.mousedown('button_press', mouse_event_fn);\n",
       "    rubberband.mouseup('button_release', mouse_event_fn);\n",
       "    // Throttle sequential mouse events to 1 every 20ms.\n",
       "    rubberband.mousemove('motion_notify', mouse_event_fn);\n",
       "\n",
       "    rubberband.mouseenter('figure_enter', mouse_event_fn);\n",
       "    rubberband.mouseleave('figure_leave', mouse_event_fn);\n",
       "\n",
       "    canvas_div.on(\"wheel\", function (event) {\n",
       "        event = event.originalEvent;\n",
       "        event['data'] = 'scroll'\n",
       "        if (event.deltaY < 0) {\n",
       "            event.step = 1;\n",
       "        } else {\n",
       "            event.step = -1;\n",
       "        }\n",
       "        mouse_event_fn(event);\n",
       "    });\n",
       "\n",
       "    canvas_div.append(canvas);\n",
       "    canvas_div.append(rubberband);\n",
       "\n",
       "    this.rubberband = rubberband;\n",
       "    this.rubberband_canvas = rubberband[0];\n",
       "    this.rubberband_context = rubberband[0].getContext(\"2d\");\n",
       "    this.rubberband_context.strokeStyle = \"#000000\";\n",
       "\n",
       "    this._resize_canvas = function(width, height) {\n",
       "        // Keep the size of the canvas, canvas container, and rubber band\n",
       "        // canvas in synch.\n",
       "        canvas_div.css('width', width)\n",
       "        canvas_div.css('height', height)\n",
       "\n",
       "        canvas.attr('width', width * mpl.ratio);\n",
       "        canvas.attr('height', height * mpl.ratio);\n",
       "        canvas.attr('style', 'width: ' + width + 'px; height: ' + height + 'px;');\n",
       "\n",
       "        rubberband.attr('width', width);\n",
       "        rubberband.attr('height', height);\n",
       "    }\n",
       "\n",
       "    // Set the figure to an initial 600x600px, this will subsequently be updated\n",
       "    // upon first draw.\n",
       "    this._resize_canvas(600, 600);\n",
       "\n",
       "    // Disable right mouse context menu.\n",
       "    $(this.rubberband_canvas).bind(\"contextmenu\",function(e){\n",
       "        return false;\n",
       "    });\n",
       "\n",
       "    function set_focus () {\n",
       "        canvas.focus();\n",
       "        canvas_div.focus();\n",
       "    }\n",
       "\n",
       "    window.setTimeout(set_focus, 100);\n",
       "}\n",
       "\n",
       "mpl.figure.prototype._init_toolbar = function() {\n",
       "    var fig = this;\n",
       "\n",
       "    var nav_element = $('<div/>');\n",
       "    nav_element.attr('style', 'width: 100%');\n",
       "    this.root.append(nav_element);\n",
       "\n",
       "    // Define a callback function for later on.\n",
       "    function toolbar_event(event) {\n",
       "        return fig.toolbar_button_onclick(event['data']);\n",
       "    }\n",
       "    function toolbar_mouse_event(event) {\n",
       "        return fig.toolbar_button_onmouseover(event['data']);\n",
       "    }\n",
       "\n",
       "    for(var toolbar_ind in mpl.toolbar_items) {\n",
       "        var name = mpl.toolbar_items[toolbar_ind][0];\n",
       "        var tooltip = mpl.toolbar_items[toolbar_ind][1];\n",
       "        var image = mpl.toolbar_items[toolbar_ind][2];\n",
       "        var method_name = mpl.toolbar_items[toolbar_ind][3];\n",
       "\n",
       "        if (!name) {\n",
       "            // put a spacer in here.\n",
       "            continue;\n",
       "        }\n",
       "        var button = $('<button/>');\n",
       "        button.addClass('ui-button ui-widget ui-state-default ui-corner-all ' +\n",
       "                        'ui-button-icon-only');\n",
       "        button.attr('role', 'button');\n",
       "        button.attr('aria-disabled', 'false');\n",
       "        button.click(method_name, toolbar_event);\n",
       "        button.mouseover(tooltip, toolbar_mouse_event);\n",
       "\n",
       "        var icon_img = $('<span/>');\n",
       "        icon_img.addClass('ui-button-icon-primary ui-icon');\n",
       "        icon_img.addClass(image);\n",
       "        icon_img.addClass('ui-corner-all');\n",
       "\n",
       "        var tooltip_span = $('<span/>');\n",
       "        tooltip_span.addClass('ui-button-text');\n",
       "        tooltip_span.html(tooltip);\n",
       "\n",
       "        button.append(icon_img);\n",
       "        button.append(tooltip_span);\n",
       "\n",
       "        nav_element.append(button);\n",
       "    }\n",
       "\n",
       "    var fmt_picker_span = $('<span/>');\n",
       "\n",
       "    var fmt_picker = $('<select/>');\n",
       "    fmt_picker.addClass('mpl-toolbar-option ui-widget ui-widget-content');\n",
       "    fmt_picker_span.append(fmt_picker);\n",
       "    nav_element.append(fmt_picker_span);\n",
       "    this.format_dropdown = fmt_picker[0];\n",
       "\n",
       "    for (var ind in mpl.extensions) {\n",
       "        var fmt = mpl.extensions[ind];\n",
       "        var option = $(\n",
       "            '<option/>', {selected: fmt === mpl.default_extension}).html(fmt);\n",
       "        fmt_picker.append(option);\n",
       "    }\n",
       "\n",
       "    // Add hover states to the ui-buttons\n",
       "    $( \".ui-button\" ).hover(\n",
       "        function() { $(this).addClass(\"ui-state-hover\");},\n",
       "        function() { $(this).removeClass(\"ui-state-hover\");}\n",
       "    );\n",
       "\n",
       "    var status_bar = $('<span class=\"mpl-message\"/>');\n",
       "    nav_element.append(status_bar);\n",
       "    this.message = status_bar[0];\n",
       "}\n",
       "\n",
       "mpl.figure.prototype.request_resize = function(x_pixels, y_pixels) {\n",
       "    // Request matplotlib to resize the figure. Matplotlib will then trigger a resize in the client,\n",
       "    // which will in turn request a refresh of the image.\n",
       "    this.send_message('resize', {'width': x_pixels, 'height': y_pixels});\n",
       "}\n",
       "\n",
       "mpl.figure.prototype.send_message = function(type, properties) {\n",
       "    properties['type'] = type;\n",
       "    properties['figure_id'] = this.id;\n",
       "    this.ws.send(JSON.stringify(properties));\n",
       "}\n",
       "\n",
       "mpl.figure.prototype.send_draw_message = function() {\n",
       "    if (!this.waiting) {\n",
       "        this.waiting = true;\n",
       "        this.ws.send(JSON.stringify({type: \"draw\", figure_id: this.id}));\n",
       "    }\n",
       "}\n",
       "\n",
       "\n",
       "mpl.figure.prototype.handle_save = function(fig, msg) {\n",
       "    var format_dropdown = fig.format_dropdown;\n",
       "    var format = format_dropdown.options[format_dropdown.selectedIndex].value;\n",
       "    fig.ondownload(fig, format);\n",
       "}\n",
       "\n",
       "\n",
       "mpl.figure.prototype.handle_resize = function(fig, msg) {\n",
       "    var size = msg['size'];\n",
       "    if (size[0] != fig.canvas.width || size[1] != fig.canvas.height) {\n",
       "        fig._resize_canvas(size[0], size[1]);\n",
       "        fig.send_message(\"refresh\", {});\n",
       "    };\n",
       "}\n",
       "\n",
       "mpl.figure.prototype.handle_rubberband = function(fig, msg) {\n",
       "    var x0 = msg['x0'] / mpl.ratio;\n",
       "    var y0 = (fig.canvas.height - msg['y0']) / mpl.ratio;\n",
       "    var x1 = msg['x1'] / mpl.ratio;\n",
       "    var y1 = (fig.canvas.height - msg['y1']) / mpl.ratio;\n",
       "    x0 = Math.floor(x0) + 0.5;\n",
       "    y0 = Math.floor(y0) + 0.5;\n",
       "    x1 = Math.floor(x1) + 0.5;\n",
       "    y1 = Math.floor(y1) + 0.5;\n",
       "    var min_x = Math.min(x0, x1);\n",
       "    var min_y = Math.min(y0, y1);\n",
       "    var width = Math.abs(x1 - x0);\n",
       "    var height = Math.abs(y1 - y0);\n",
       "\n",
       "    fig.rubberband_context.clearRect(\n",
       "        0, 0, fig.canvas.width / mpl.ratio, fig.canvas.height / mpl.ratio);\n",
       "\n",
       "    fig.rubberband_context.strokeRect(min_x, min_y, width, height);\n",
       "}\n",
       "\n",
       "mpl.figure.prototype.handle_figure_label = function(fig, msg) {\n",
       "    // Updates the figure title.\n",
       "    fig.header.textContent = msg['label'];\n",
       "}\n",
       "\n",
       "mpl.figure.prototype.handle_cursor = function(fig, msg) {\n",
       "    var cursor = msg['cursor'];\n",
       "    switch(cursor)\n",
       "    {\n",
       "    case 0:\n",
       "        cursor = 'pointer';\n",
       "        break;\n",
       "    case 1:\n",
       "        cursor = 'default';\n",
       "        break;\n",
       "    case 2:\n",
       "        cursor = 'crosshair';\n",
       "        break;\n",
       "    case 3:\n",
       "        cursor = 'move';\n",
       "        break;\n",
       "    }\n",
       "    fig.rubberband_canvas.style.cursor = cursor;\n",
       "}\n",
       "\n",
       "mpl.figure.prototype.handle_message = function(fig, msg) {\n",
       "    fig.message.textContent = msg['message'];\n",
       "}\n",
       "\n",
       "mpl.figure.prototype.handle_draw = function(fig, msg) {\n",
       "    // Request the server to send over a new figure.\n",
       "    fig.send_draw_message();\n",
       "}\n",
       "\n",
       "mpl.figure.prototype.handle_image_mode = function(fig, msg) {\n",
       "    fig.image_mode = msg['mode'];\n",
       "}\n",
       "\n",
       "mpl.figure.prototype.updated_canvas_event = function() {\n",
       "    // Called whenever the canvas gets updated.\n",
       "    this.send_message(\"ack\", {});\n",
       "}\n",
       "\n",
       "// A function to construct a web socket function for onmessage handling.\n",
       "// Called in the figure constructor.\n",
       "mpl.figure.prototype._make_on_message_function = function(fig) {\n",
       "    return function socket_on_message(evt) {\n",
       "        if (evt.data instanceof Blob) {\n",
       "            /* FIXME: We get \"Resource interpreted as Image but\n",
       "             * transferred with MIME type text/plain:\" errors on\n",
       "             * Chrome.  But how to set the MIME type?  It doesn't seem\n",
       "             * to be part of the websocket stream */\n",
       "            evt.data.type = \"image/png\";\n",
       "\n",
       "            /* Free the memory for the previous frames */\n",
       "            if (fig.imageObj.src) {\n",
       "                (window.URL || window.webkitURL).revokeObjectURL(\n",
       "                    fig.imageObj.src);\n",
       "            }\n",
       "\n",
       "            fig.imageObj.src = (window.URL || window.webkitURL).createObjectURL(\n",
       "                evt.data);\n",
       "            fig.updated_canvas_event();\n",
       "            fig.waiting = false;\n",
       "            return;\n",
       "        }\n",
       "        else if (typeof evt.data === 'string' && evt.data.slice(0, 21) == \"data:image/png;base64\") {\n",
       "            fig.imageObj.src = evt.data;\n",
       "            fig.updated_canvas_event();\n",
       "            fig.waiting = false;\n",
       "            return;\n",
       "        }\n",
       "\n",
       "        var msg = JSON.parse(evt.data);\n",
       "        var msg_type = msg['type'];\n",
       "\n",
       "        // Call the  \"handle_{type}\" callback, which takes\n",
       "        // the figure and JSON message as its only arguments.\n",
       "        try {\n",
       "            var callback = fig[\"handle_\" + msg_type];\n",
       "        } catch (e) {\n",
       "            console.log(\"No handler for the '\" + msg_type + \"' message type: \", msg);\n",
       "            return;\n",
       "        }\n",
       "\n",
       "        if (callback) {\n",
       "            try {\n",
       "                // console.log(\"Handling '\" + msg_type + \"' message: \", msg);\n",
       "                callback(fig, msg);\n",
       "            } catch (e) {\n",
       "                console.log(\"Exception inside the 'handler_\" + msg_type + \"' callback:\", e, e.stack, msg);\n",
       "            }\n",
       "        }\n",
       "    };\n",
       "}\n",
       "\n",
       "// from http://stackoverflow.com/questions/1114465/getting-mouse-location-in-canvas\n",
       "mpl.findpos = function(e) {\n",
       "    //this section is from http://www.quirksmode.org/js/events_properties.html\n",
       "    var targ;\n",
       "    if (!e)\n",
       "        e = window.event;\n",
       "    if (e.target)\n",
       "        targ = e.target;\n",
       "    else if (e.srcElement)\n",
       "        targ = e.srcElement;\n",
       "    if (targ.nodeType == 3) // defeat Safari bug\n",
       "        targ = targ.parentNode;\n",
       "\n",
       "    // jQuery normalizes the pageX and pageY\n",
       "    // pageX,Y are the mouse positions relative to the document\n",
       "    // offset() returns the position of the element relative to the document\n",
       "    var x = e.pageX - $(targ).offset().left;\n",
       "    var y = e.pageY - $(targ).offset().top;\n",
       "\n",
       "    return {\"x\": x, \"y\": y};\n",
       "};\n",
       "\n",
       "/*\n",
       " * return a copy of an object with only non-object keys\n",
       " * we need this to avoid circular references\n",
       " * http://stackoverflow.com/a/24161582/3208463\n",
       " */\n",
       "function simpleKeys (original) {\n",
       "  return Object.keys(original).reduce(function (obj, key) {\n",
       "    if (typeof original[key] !== 'object')\n",
       "        obj[key] = original[key]\n",
       "    return obj;\n",
       "  }, {});\n",
       "}\n",
       "\n",
       "mpl.figure.prototype.mouse_event = function(event, name) {\n",
       "    var canvas_pos = mpl.findpos(event)\n",
       "\n",
       "    if (name === 'button_press')\n",
       "    {\n",
       "        this.canvas.focus();\n",
       "        this.canvas_div.focus();\n",
       "    }\n",
       "\n",
       "    var x = canvas_pos.x * mpl.ratio;\n",
       "    var y = canvas_pos.y * mpl.ratio;\n",
       "\n",
       "    this.send_message(name, {x: x, y: y, button: event.button,\n",
       "                             step: event.step,\n",
       "                             guiEvent: simpleKeys(event)});\n",
       "\n",
       "    /* This prevents the web browser from automatically changing to\n",
       "     * the text insertion cursor when the button is pressed.  We want\n",
       "     * to control all of the cursor setting manually through the\n",
       "     * 'cursor' event from matplotlib */\n",
       "    event.preventDefault();\n",
       "    return false;\n",
       "}\n",
       "\n",
       "mpl.figure.prototype._key_event_extra = function(event, name) {\n",
       "    // Handle any extra behaviour associated with a key event\n",
       "}\n",
       "\n",
       "mpl.figure.prototype.key_event = function(event, name) {\n",
       "\n",
       "    // Prevent repeat events\n",
       "    if (name == 'key_press')\n",
       "    {\n",
       "        if (event.which === this._key)\n",
       "            return;\n",
       "        else\n",
       "            this._key = event.which;\n",
       "    }\n",
       "    if (name == 'key_release')\n",
       "        this._key = null;\n",
       "\n",
       "    var value = '';\n",
       "    if (event.ctrlKey && event.which != 17)\n",
       "        value += \"ctrl+\";\n",
       "    if (event.altKey && event.which != 18)\n",
       "        value += \"alt+\";\n",
       "    if (event.shiftKey && event.which != 16)\n",
       "        value += \"shift+\";\n",
       "\n",
       "    value += 'k';\n",
       "    value += event.which.toString();\n",
       "\n",
       "    this._key_event_extra(event, name);\n",
       "\n",
       "    this.send_message(name, {key: value,\n",
       "                             guiEvent: simpleKeys(event)});\n",
       "    return false;\n",
       "}\n",
       "\n",
       "mpl.figure.prototype.toolbar_button_onclick = function(name) {\n",
       "    if (name == 'download') {\n",
       "        this.handle_save(this, null);\n",
       "    } else {\n",
       "        this.send_message(\"toolbar_button\", {name: name});\n",
       "    }\n",
       "};\n",
       "\n",
       "mpl.figure.prototype.toolbar_button_onmouseover = function(tooltip) {\n",
       "    this.message.textContent = tooltip;\n",
       "};\n",
       "mpl.toolbar_items = [[\"Home\", \"Reset original view\", \"fa fa-home icon-home\", \"home\"], [\"Back\", \"Back to previous view\", \"fa fa-arrow-left icon-arrow-left\", \"back\"], [\"Forward\", \"Forward to next view\", \"fa fa-arrow-right icon-arrow-right\", \"forward\"], [\"\", \"\", \"\", \"\"], [\"Pan\", \"Pan axes with left mouse, zoom with right\", \"fa fa-arrows icon-move\", \"pan\"], [\"Zoom\", \"Zoom to rectangle\", \"fa fa-square-o icon-check-empty\", \"zoom\"], [\"\", \"\", \"\", \"\"], [\"Download\", \"Download plot\", \"fa fa-floppy-o icon-save\", \"download\"]];\n",
       "\n",
       "mpl.extensions = [\"eps\", \"jpeg\", \"pdf\", \"png\", \"ps\", \"raw\", \"svg\", \"tif\"];\n",
       "\n",
       "mpl.default_extension = \"png\";var comm_websocket_adapter = function(comm) {\n",
       "    // Create a \"websocket\"-like object which calls the given IPython comm\n",
       "    // object with the appropriate methods. Currently this is a non binary\n",
       "    // socket, so there is still some room for performance tuning.\n",
       "    var ws = {};\n",
       "\n",
       "    ws.close = function() {\n",
       "        comm.close()\n",
       "    };\n",
       "    ws.send = function(m) {\n",
       "        //console.log('sending', m);\n",
       "        comm.send(m);\n",
       "    };\n",
       "    // Register the callback with on_msg.\n",
       "    comm.on_msg(function(msg) {\n",
       "        //console.log('receiving', msg['content']['data'], msg);\n",
       "        // Pass the mpl event to the overridden (by mpl) onmessage function.\n",
       "        ws.onmessage(msg['content']['data'])\n",
       "    });\n",
       "    return ws;\n",
       "}\n",
       "\n",
       "mpl.mpl_figure_comm = function(comm, msg) {\n",
       "    // This is the function which gets called when the mpl process\n",
       "    // starts-up an IPython Comm through the \"matplotlib\" channel.\n",
       "\n",
       "    var id = msg.content.data.id;\n",
       "    // Get hold of the div created by the display call when the Comm\n",
       "    // socket was opened in Python.\n",
       "    var element = $(\"#\" + id);\n",
       "    var ws_proxy = comm_websocket_adapter(comm)\n",
       "\n",
       "    function ondownload(figure, format) {\n",
       "        window.open(figure.imageObj.src);\n",
       "    }\n",
       "\n",
       "    var fig = new mpl.figure(id, ws_proxy,\n",
       "                           ondownload,\n",
       "                           element.get(0));\n",
       "\n",
       "    // Call onopen now - mpl needs it, as it is assuming we've passed it a real\n",
       "    // web socket which is closed, not our websocket->open comm proxy.\n",
       "    ws_proxy.onopen();\n",
       "\n",
       "    fig.parent_element = element.get(0);\n",
       "    fig.cell_info = mpl.find_output_cell(\"<div id='\" + id + \"'></div>\");\n",
       "    if (!fig.cell_info) {\n",
       "        console.error(\"Failed to find cell for figure\", id, fig);\n",
       "        return;\n",
       "    }\n",
       "\n",
       "    var output_index = fig.cell_info[2]\n",
       "    var cell = fig.cell_info[0];\n",
       "\n",
       "};\n",
       "\n",
       "mpl.figure.prototype.handle_close = function(fig, msg) {\n",
       "    var width = fig.canvas.width/mpl.ratio\n",
       "    fig.root.unbind('remove')\n",
       "\n",
       "    // Update the output cell to use the data from the current canvas.\n",
       "    fig.push_to_output();\n",
       "    var dataURL = fig.canvas.toDataURL();\n",
       "    // Re-enable the keyboard manager in IPython - without this line, in FF,\n",
       "    // the notebook keyboard shortcuts fail.\n",
       "    IPython.keyboard_manager.enable()\n",
       "    $(fig.parent_element).html('<img src=\"' + dataURL + '\" width=\"' + width + '\">');\n",
       "    fig.close_ws(fig, msg);\n",
       "}\n",
       "\n",
       "mpl.figure.prototype.close_ws = function(fig, msg){\n",
       "    fig.send_message('closing', msg);\n",
       "    // fig.ws.close()\n",
       "}\n",
       "\n",
       "mpl.figure.prototype.push_to_output = function(remove_interactive) {\n",
       "    // Turn the data on the canvas into data in the output cell.\n",
       "    var width = this.canvas.width/mpl.ratio\n",
       "    var dataURL = this.canvas.toDataURL();\n",
       "    this.cell_info[1]['text/html'] = '<img src=\"' + dataURL + '\" width=\"' + width + '\">';\n",
       "}\n",
       "\n",
       "mpl.figure.prototype.updated_canvas_event = function() {\n",
       "    // Tell IPython that the notebook contents must change.\n",
       "    IPython.notebook.set_dirty(true);\n",
       "    this.send_message(\"ack\", {});\n",
       "    var fig = this;\n",
       "    // Wait a second, then push the new image to the DOM so\n",
       "    // that it is saved nicely (might be nice to debounce this).\n",
       "    setTimeout(function () { fig.push_to_output() }, 1000);\n",
       "}\n",
       "\n",
       "mpl.figure.prototype._init_toolbar = function() {\n",
       "    var fig = this;\n",
       "\n",
       "    var nav_element = $('<div/>');\n",
       "    nav_element.attr('style', 'width: 100%');\n",
       "    this.root.append(nav_element);\n",
       "\n",
       "    // Define a callback function for later on.\n",
       "    function toolbar_event(event) {\n",
       "        return fig.toolbar_button_onclick(event['data']);\n",
       "    }\n",
       "    function toolbar_mouse_event(event) {\n",
       "        return fig.toolbar_button_onmouseover(event['data']);\n",
       "    }\n",
       "\n",
       "    for(var toolbar_ind in mpl.toolbar_items){\n",
       "        var name = mpl.toolbar_items[toolbar_ind][0];\n",
       "        var tooltip = mpl.toolbar_items[toolbar_ind][1];\n",
       "        var image = mpl.toolbar_items[toolbar_ind][2];\n",
       "        var method_name = mpl.toolbar_items[toolbar_ind][3];\n",
       "\n",
       "        if (!name) { continue; };\n",
       "\n",
       "        var button = $('<button class=\"btn btn-default\" href=\"#\" title=\"' + name + '\"><i class=\"fa ' + image + ' fa-lg\"></i></button>');\n",
       "        button.click(method_name, toolbar_event);\n",
       "        button.mouseover(tooltip, toolbar_mouse_event);\n",
       "        nav_element.append(button);\n",
       "    }\n",
       "\n",
       "    // Add the status bar.\n",
       "    var status_bar = $('<span class=\"mpl-message\" style=\"text-align:right; float: right;\"/>');\n",
       "    nav_element.append(status_bar);\n",
       "    this.message = status_bar[0];\n",
       "\n",
       "    // Add the close button to the window.\n",
       "    var buttongrp = $('<div class=\"btn-group inline pull-right\"></div>');\n",
       "    var button = $('<button class=\"btn btn-mini btn-primary\" href=\"#\" title=\"Stop Interaction\"><i class=\"fa fa-power-off icon-remove icon-large\"></i></button>');\n",
       "    button.click(function (evt) { fig.handle_close(fig, {}); } );\n",
       "    button.mouseover('Stop Interaction', toolbar_mouse_event);\n",
       "    buttongrp.append(button);\n",
       "    var titlebar = this.root.find($('.ui-dialog-titlebar'));\n",
       "    titlebar.prepend(buttongrp);\n",
       "}\n",
       "\n",
       "mpl.figure.prototype._root_extra_style = function(el){\n",
       "    var fig = this\n",
       "    el.on(\"remove\", function(){\n",
       "\tfig.close_ws(fig, {});\n",
       "    });\n",
       "}\n",
       "\n",
       "mpl.figure.prototype._canvas_extra_style = function(el){\n",
       "    // this is important to make the div 'focusable\n",
       "    el.attr('tabindex', 0)\n",
       "    // reach out to IPython and tell the keyboard manager to turn it's self\n",
       "    // off when our div gets focus\n",
       "\n",
       "    // location in version 3\n",
       "    if (IPython.notebook.keyboard_manager) {\n",
       "        IPython.notebook.keyboard_manager.register_events(el);\n",
       "    }\n",
       "    else {\n",
       "        // location in version 2\n",
       "        IPython.keyboard_manager.register_events(el);\n",
       "    }\n",
       "\n",
       "}\n",
       "\n",
       "mpl.figure.prototype._key_event_extra = function(event, name) {\n",
       "    var manager = IPython.notebook.keyboard_manager;\n",
       "    if (!manager)\n",
       "        manager = IPython.keyboard_manager;\n",
       "\n",
       "    // Check for shift+enter\n",
       "    if (event.shiftKey && event.which == 13) {\n",
       "        this.canvas_div.blur();\n",
       "        // select the cell after this one\n",
       "        var index = IPython.notebook.find_cell_index(this.cell_info[0]);\n",
       "        IPython.notebook.select(index + 1);\n",
       "    }\n",
       "}\n",
       "\n",
       "mpl.figure.prototype.handle_save = function(fig, msg) {\n",
       "    fig.ondownload(fig, null);\n",
       "}\n",
       "\n",
       "\n",
       "mpl.find_output_cell = function(html_output) {\n",
       "    // Return the cell and output element which can be found *uniquely* in the notebook.\n",
       "    // Note - this is a bit hacky, but it is done because the \"notebook_saving.Notebook\"\n",
       "    // IPython event is triggered only after the cells have been serialised, which for\n",
       "    // our purposes (turning an active figure into a static one), is too late.\n",
       "    var cells = IPython.notebook.get_cells();\n",
       "    var ncells = cells.length;\n",
       "    for (var i=0; i<ncells; i++) {\n",
       "        var cell = cells[i];\n",
       "        if (cell.cell_type === 'code'){\n",
       "            for (var j=0; j<cell.output_area.outputs.length; j++) {\n",
       "                var data = cell.output_area.outputs[j];\n",
       "                if (data.data) {\n",
       "                    // IPython >= 3 moved mimebundle to data attribute of output\n",
       "                    data = data.data;\n",
       "                }\n",
       "                if (data['text/html'] == html_output) {\n",
       "                    return [cell, data, j];\n",
       "                }\n",
       "            }\n",
       "        }\n",
       "    }\n",
       "}\n",
       "\n",
       "// Register the function which deals with the matplotlib target/channel.\n",
       "// The kernel may be null if the page has been refreshed.\n",
       "if (IPython.notebook.kernel != null) {\n",
       "    IPython.notebook.kernel.comm_manager.register_target('matplotlib', mpl.mpl_figure_comm);\n",
       "}\n"
      ],
      "text/plain": [
       "<IPython.core.display.Javascript object>"
      ]
     },
     "metadata": {},
     "output_type": "display_data"
    },
    {
     "data": {
      "text/html": [
       "<div id='7dc2ba8d-0714-4594-88b4-8d0f998068c3'></div>"
      ],
      "text/plain": [
       "<IPython.core.display.HTML object>"
      ]
     },
     "metadata": {},
     "output_type": "display_data"
    }
   ],
   "source": [
    "#%matplotlib inline\n",
    "%matplotlib notebook\n",
    "%matplotlib notebook\n",
    "r = wr.value; Q = wQ.value\n",
    "fig = plt.figure(figsize=(10,5)) \n",
    "ax = fig.add_subplot()\n",
    "plt.title('Pump test: Oude Korendijk, Curve Matching: Theis ', fontsize = 14)\n",
    "plt.plot(1/u, exp1(u), label='Theis')\n",
    "ax.set_xscale('log'); ax.set_yscale('log'); \n",
    "plt.xlabel('$1/u$ and $B \\, t/r^2$', fontsize=12)\n",
    "plt.ylabel('W(u) and $A \\cdot s$',fontsize=12)\n",
    "update_plot(shifty = shifty_slider.value,shiftx = shiftx_slider.value)\n",
    "kD = shifty_slider.value/10 * Q /4 /np.pi   # print('T = {:.0f} m2/d'.format(kD))\n",
    "Sc = 4 * kD / 10**(shiftx_slider.value/10)         #print('S = {:.2e} [-]'.format(S))\n",
    "ax.text (380,0.23,'$T =%.1f m^2/d$' % (kD, ),fontsize=12)\n",
    "ax.text (380,0.15,'$S =%.2e $' % (Sc, ),fontsize=12)\n",
    "plt.show()"
   ]
  },
  {
   "cell_type": "markdown",
   "metadata": {
    "hideCode": false,
    "hidePrompt": false,
    "hide_input": false
   },
   "source": [
    "#### Error Measures\n",
    "The residual is a quantitative measure for the goodness of the fit. It is defined by: "
   ]
  },
  {
   "cell_type": "markdown",
   "metadata": {
    "hideCode": false,
    "hidePrompt": false
   },
   "source": [
    "$$ res = \\sqrt{\\sum{(s_{obs}-s_{calc})^2}} $$"
   ]
  },
  {
   "cell_type": "markdown",
   "metadata": {
    "hideCode": false,
    "hidePrompt": false
   },
   "source": [
    "where the sum adds up the quadratic deviations over all values of the time series. $s_{obs}$ is the observed drawdown, while $s_{calc}$ denotes the drawdown calculated by the Theis formula for the optimized $T$ and $S$ values. The rssidual is thus a good measure to compare results for the same drawdown series. However, if depends on the number of observations and thus is not feasable for comparison of results from different obtained from different observation points or different pumping tests. Alternatively one may take the standard deviation, which is defined as the squareroot of the mean quadratic deviation:"
   ]
  },
  {
   "cell_type": "markdown",
   "metadata": {
    "hideCode": false,
    "hidePrompt": false,
    "hide_input": true
   },
   "source": [
    "$$ stdev = \\sqrt{mean((s_{obs}-s_{calc})^2)} $$"
   ]
  },
  {
   "cell_type": "markdown",
   "metadata": {
    "hideCode": false,
    "hidePrompt": false
   },
   "source": [
    "The standard deviation makes results from different observation points and pumping tests, at the same or different boreholes, comparable. Click the following buttons to get the measures of the fit. "
   ]
  },
  {
   "cell_type": "code",
   "execution_count": 32,
   "metadata": {
    "hideCode": false,
    "hidePrompt": false,
    "hide_input": true,
    "scrolled": false
   },
   "outputs": [
    {
     "data": {
      "application/vnd.jupyter.widget-view+json": {
       "model_id": "1d7fd4ac733a4119a6e5c34190a8ee3b",
       "version_major": 2,
       "version_minor": 0
      },
      "text/plain": [
       "HBox(children=(Button(description='2-norm', style=ButtonStyle()), Button(description='Standard deviation', sty…"
      ]
     },
     "metadata": {},
     "output_type": "display_data"
    }
   ],
   "source": [
    "def rescalc():\n",
    "    global kD,Sc\n",
    "    D = kD/Sc; r = wr.value; Q = wQ.value\n",
    "    if r <= 50: \n",
    "        tfit = df['t1']/24/60; sfit = df['s1']\n",
    "        tfit = tfit[:-1]; sfit = sfit[:-1]  # one entry less in time series                  \n",
    "    else:\n",
    "        tfit = df['t2']/24/60; sfit = df['s2']\n",
    "\n",
    "    u = (((r*r)/4)/D)/pd.to_numeric(tfit)\n",
    "    s = Q*exp1(u)/4/np.pi/kD\n",
    "    dev = pd.to_numeric(sfit)-s; dev2 = dev*dev\n",
    "    norms = np.sqrt(sum(dev2)) \n",
    "    stde = np.sqrt(dev2.mean())\n",
    "    return [norms,stde]\n",
    "\n",
    "def on_wres_clicked(self):   \n",
    "    [norms,stde] = rescalc()\n",
    "    display ('Sum of squares = %.3e for r = %.0f, T = %.1f and S = %.2e' % (norms,r,kD,Sc))\n",
    "    \n",
    "def on_wstd_clicked(self): \n",
    "    [norms,stde] = rescalc()\n",
    "    display ('2-norm = %.3e for r = %.0f, T = %.1f and S = %.2e'% (stde,r,kD,Sc));\n",
    "\n",
    "wres = widgets.Button(description='2-norm')        \n",
    "wres.on_click(on_wres_clicked) \n",
    "wstd = widgets.Button(description='Standard deviation')        \n",
    "wstd.on_click(on_wstd_clicked)\n",
    "widgets.HBox([wres,wstd])   "
   ]
  },
  {
   "cell_type": "markdown",
   "metadata": {
    "hideCode": false,
    "hidePrompt": false
   },
   "source": [
    "Note that the data from the distance given the input field above are used for the computation. "
   ]
  },
  {
   "cell_type": "markdown",
   "metadata": {
    "hideCode": false,
    "hidePrompt": false
   },
   "source": [
    "## Parameter Estimation\n",
    "### Confined Aquifer\n",
    "\n",
    "Before we obtimized the two factors $A$ and $B$ by hand. This was relatively straight-forward for this case in which only two parameters were involved. However in more complicated cases, finding the optimum parameter combination by trial and error takes much more effort, and often times is impossible. Therefore, the modern way is to let the computer find the optimum combination of parmeters, which minimizes the difference between the type curve (or the model) and the measurements."
   ]
  },
  {
   "cell_type": "code",
   "execution_count": 33,
   "metadata": {
    "hideCode": false,
    "hidePrompt": false,
    "hide_input": false,
    "scrolled": false
   },
   "outputs": [
    {
     "data": {
      "application/vnd.jupyter.widget-view+json": {
       "model_id": "04a9bd075faf498a88b3747336b12b59",
       "version_major": 2,
       "version_minor": 0
      },
      "text/plain": [
       "BoundedFloatText(value=30.0, description='Distance:', max=90.0, min=30.0, step=60.0)"
      ]
     },
     "metadata": {},
     "output_type": "display_data"
    }
   ],
   "source": [
    "w2r = widgets.BoundedFloatText(value=30, min=30, max=90.0, step = 60.0, description='Distance:', disabled=False)\n",
    "w2r"
   ]
  },
  {
   "cell_type": "markdown",
   "metadata": {
    "hideCode": false,
    "hidePrompt": false,
    "hide_input": false
   },
   "source": [
    "Enter initial guesses for $T$ and $S$! The unit of transmissivity is derived from the length and time settings above. "
   ]
  },
  {
   "cell_type": "code",
   "execution_count": 34,
   "metadata": {
    "hideCode": false,
    "hidePrompt": false,
    "hide_input": false,
    "scrolled": false
   },
   "outputs": [
    {
     "data": {
      "application/vnd.jupyter.widget-view+json": {
       "model_id": "248d9e42b40443449a5f406fa8040ad6",
       "version_major": 2,
       "version_minor": 0
      },
      "text/plain": [
       "HBox(children=(FloatText(value=500.0, description='T:'), FloatText(value=0.0001, description='S:')))"
      ]
     },
     "metadata": {},
     "output_type": "display_data"
    }
   ],
   "source": [
    "wT = widgets.FloatText(value=500, description='T:', min=1, disabled=False)\n",
    "wS = widgets.FloatText(value=1e-4, description='S:', min=1.e-10, disabled=False)\n",
    "widgets.HBox([wT, wS])"
   ]
  },
  {
   "cell_type": "markdown",
   "metadata": {
    "hideCode": false,
    "hidePrompt": false
   },
   "source": [
    "Do the parameter estimation by running the next cell."
   ]
  },
  {
   "cell_type": "code",
   "execution_count": 35,
   "metadata": {
    "hideCode": false,
    "hidePrompt": false,
    "hide_input": false,
    "scrolled": false
   },
   "outputs": [
    {
     "data": {
      "application/vnd.jupyter.widget-view+json": {
       "model_id": "02581d379fd1445faeea0b60d5301c54",
       "version_major": 2,
       "version_minor": 0
      },
      "text/plain": [
       "VBox(children=(Button(description='Evaluate Theis', style=ButtonStyle()),))"
      ]
     },
     "metadata": {},
     "output_type": "display_data"
    }
   ],
   "source": [
    "from scipy.optimize import fmin\n",
    "Q = wQ.value; r = 30\n",
    "tfit = df['t1'].dropna()/60/24; sfit = df['s1'].dropna()\n",
    "\n",
    "def teval (t,r,T,S,Q):\n",
    "    D = T/S                             # calculate Theis solution\n",
    "    u = (((r*r)/4)/D)/t\n",
    "    s = Q*exp1(u)/4/np.pi/T\n",
    "    return s                            # drawdown \n",
    "    \n",
    "def toptim (x):  \n",
    "    global r,tfit,sfit\n",
    "    T = x[0]; S = x[1] \n",
    "    s = teval (tfit,r,T,S,Q)\n",
    "    res = (s-sfit)\n",
    "    return sum(res*res)                 # function to be minimized\n",
    "\n",
    "def on_weval1_clicked(self):            # convert input data\n",
    "    global r,df,tfit,sfit\n",
    "    print ('Oude Korendijk pumping test') \n",
    "    r = w2r.value; print ('Distance to pumping well: '+str(r))\n",
    "    T = wT.value; print ('Initial transmissivity: '+str(T)) \n",
    "    S = wS.value; print ('Initial storativity: '+str(S))\n",
    "    if r <= 50:   \n",
    "        tfit = df['t1'].dropna()/60/24; sfit = df['s1'].dropna()\n",
    "    else:\n",
    "        tfit = df['t2'].dropna()/60/24; sfit = df['s2'].dropna()                             \n",
    "\n",
    "    # parameter estimation---------------------------------------------------------\n",
    "    [Tfit,Sfit] = fmin (toptim, [T,S])\n",
    "\n",
    "    # post-processing\n",
    "    D = T/S;               #print ('D='+str(D))\n",
    "    s = teval (tfit,r,Tfit,Sfit,Q)\n",
    "    dev = sfit-s                  \n",
    "    dev2 = dev*dev; norms = np.sqrt(sum(dev2)) \n",
    "    stde = np.sqrt(dev2.mean())\n",
    "    sr=2*dev.std()                            # to compare with hytool !\n",
    "    #print ('Residual = '+str(res))\n",
    "    t = np.logspace(np.log10(tfit.min()),np.log10(tfit.max()),100)\n",
    "    fig = plt.figure(facecolor='w',figsize=(10,5)); ax = fig.add_subplot()\n",
    "    ax.set_xscale('log')\n",
    "    plt.plot(tfit,sfit,'o',label = 'measured') \n",
    "    plt.plot(t,teval(t,r,Tfit,Sfit,Q),'-', label = 'calculated', lw = 2)\n",
    "    plt.xlabel('time [d]',fontsize=12); plt.ylabel('drawdown [m]',fontsize=12)\n",
    "    plt.title ('Pump test: Oude Korendijk, Parameter estimation: Theis',fontsize=14)\n",
    "    plt.grid ()\n",
    "    plt.legend (loc='upper left',fontsize=12)\n",
    "    ax.text (0.04,0.5*sfit.max(),'$T =%.1f m^2/d $' % (Tfit, ),fontsize=12)\n",
    "    ax.text (0.04,0.4*sfit.max(),'$S =%.2e $' % (Sfit, ),fontsize=12)\n",
    "    ax.text (0.04,0.3*sfit.max(),'2-norm = $%.2e $' % (norms, ),fontsize=12)\n",
    "    ax.text (0.04,0.2*sfit.max(),'$stdev = %.2e $' % (stde, ),fontsize=12)\n",
    "    ax.text (0.04,0.1*sfit.max(),'$2stdev =%.2e $' % (sr, ),fontsize=12);\n",
    "\n",
    "weval1 = widgets.Button(description='Evaluate Theis')        \n",
    "weval1.on_click(on_weval1_clicked)   \n",
    "widgets.VBox([weval1]) "
   ]
  },
  {
   "cell_type": "markdown",
   "metadata": {
    "hideCode": false,
    "hidePrompt": false
   },
   "source": [
    "Explore the sensitivity of the results when changing initial values. Check the residual and number of iterations for comparison. Do this for both observation data-sets."
   ]
  },
  {
   "cell_type": "markdown",
   "metadata": {
    "hideCode": false,
    "hidePrompt": false
   },
   "source": [
    "### Leaky Aquifer"
   ]
  },
  {
   "cell_type": "markdown",
   "metadata": {
    "hideCode": false,
    "hidePrompt": false
   },
   "source": [
    "For leaky aquifers the drawdown is given by the Hantush well function $W$, which has two arguments:"
   ]
  },
  {
   "cell_type": "markdown",
   "metadata": {
    "hideCode": false,
    "hidePrompt": false
   },
   "source": [
    "$$ s(r, t) = \\frac Q {4 \\pi T} W(u,r/\\lambda),\\,\\,\\,\\, u = \\frac {r^2 S} {4 T t}$$"
   ]
  },
  {
   "cell_type": "markdown",
   "metadata": {
    "hideCode": false,
    "hidePrompt": false
   },
   "source": [
    "with $\\lambda=\\sqrt{T\\cdot c}$, where $c$ denotes the resistance of the over-lying semipermeable layer. The physcial unit of resistance is time. The equation was derived assuming a constant source along the radial axis (Hantush & Jacob 1955). Using the more realistic boundary condition at the top of a 2D cross-section Hantush (1967) showed that the formula is a valid approximation if $D/\\lambda \\leq 0.1$.  "
   ]
  },
  {
   "cell_type": "code",
   "execution_count": 36,
   "metadata": {
    "hideCode": false,
    "hidePrompt": false,
    "hide_input": false,
    "scrolled": false
   },
   "outputs": [
    {
     "data": {
      "application/vnd.jupyter.widget-view+json": {
       "model_id": "9aa17196a5ab46e99f4ae2975d5c2681",
       "version_major": 2,
       "version_minor": 0
      },
      "text/plain": [
       "BoundedFloatText(value=30.0, description='Distance:', max=90.0, min=30.0, step=60.0)"
      ]
     },
     "metadata": {},
     "output_type": "display_data"
    }
   ],
   "source": [
    "w3r = widgets.BoundedFloatText(value=30, min=30, max=90.0, step = 60.0, description='Distance:', disabled=False)\n",
    "w3r"
   ]
  },
  {
   "cell_type": "markdown",
   "metadata": {
    "hideCode": false,
    "hidePrompt": false,
    "hide_input": true
   },
   "source": [
    "Enter initial guesses for $T$, $S$ and $c$! The physical units of transmissivity and resistance derived from the length and time settings above. "
   ]
  },
  {
   "cell_type": "code",
   "execution_count": 37,
   "metadata": {
    "hideCode": false,
    "hidePrompt": false,
    "hide_input": false,
    "scrolled": false
   },
   "outputs": [
    {
     "data": {
      "application/vnd.jupyter.widget-view+json": {
       "model_id": "492f187f662742c094cc044503ed16a1",
       "version_major": 2,
       "version_minor": 0
      },
      "text/plain": [
       "HBox(children=(FloatText(value=500.0, description='T:'), FloatText(value=0.0001, description='S:'), FloatText(…"
      ]
     },
     "metadata": {},
     "output_type": "display_data"
    }
   ],
   "source": [
    "w2T = widgets.FloatText(value=500, description='T:', min=1.e-10, disabled=False)\n",
    "w2S = widgets.FloatText(value=1e-4, description='S:', min=1.e-10, disabled=False)\n",
    "wc = widgets.FloatText(value=1e4, description='c:', min=1.e-10, disabled=False)\n",
    "widgets.HBox([w2T, w2S, wc])"
   ]
  },
  {
   "cell_type": "code",
   "execution_count": 38,
   "metadata": {
    "hideCode": false,
    "hidePrompt": false,
    "hide_input": false,
    "scrolled": false
   },
   "outputs": [
    {
     "data": {
      "application/vnd.jupyter.widget-view+json": {
       "model_id": "f357ac3ef4054fea966ca1753a208aae",
       "version_major": 2,
       "version_minor": 0
      },
      "text/plain": [
       "VBox(children=(Button(description='Evaluate Hantush', style=ButtonStyle()),))"
      ]
     },
     "metadata": {},
     "output_type": "display_data"
    }
   ],
   "source": [
    "from scipy.special import exp1\n",
    "from scipy.optimize import fmin\n",
    "from scipy.special import kn as BesselK\n",
    "\n",
    "Q = wQ.value; r = 30\n",
    "tfit = df['t1'].dropna()/60/24; sfit = df['s1'].dropna()\n",
    "\n",
    "def heval (t,r,T,S,c,Q):                 # calculate Hantush solution\n",
    "    T0  = np.where(T>1.e-10,T,1.e-10) \n",
    "    S0  = np.where(S>1.e-10,S,1.e-10)\n",
    "    c0  = np.where(c>1.e-10,c,1.e-10)\n",
    "    lamda = np.sqrt(T0*c0)                \n",
    "    rho = r/lamda\n",
    "    tau = np.log(2*lamda/r*t/(c0*S0))\n",
    "    s = Q/(4*np.pi*T0)*func_F(rho,tau)\n",
    "    return s                             # drawdown \n",
    "\n",
    "def ExpInt(n,u):\n",
    "    # Fast approximation for Wu according to equation 7a and 7b from Srivastava(1998)\n",
    "    gamma = 0.5772 # Euler-Macheroni constant\n",
    "    u0  = np.where(u<1.0,u,1) \n",
    "    Wu0 = np.log(np.exp(-gamma)/u0) + 0.9653*u - 0.1690*u0**2\n",
    "    u1 = np.where(u>=1.0,u,1) \n",
    "    Wu1 = 1/(u1*np.exp(u1))*(u1+0.3575)/(u1+1.280)\n",
    "    Wu = np.where(u<1.0,Wu0,Wu1)\n",
    "    return Wu\n",
    "\n",
    "def func_F(rho,tau):\n",
    "    e = exp1(rho)\n",
    "    e0 = np.where(e>0,e,1.e-10)\n",
    "    w = (e0-BesselK(0,rho))/(e0-exp1(rho/2))\n",
    "    F0 = w*exp1(rho/2*np.exp(-tau))-(w-1)*exp1(rho*np.cosh(tau))  \n",
    "    F1 = 2*BesselK(0,rho) - w*exp1(rho/2*np.exp(tau)) + (w-1)*exp1(rho*np.cosh(tau)) \n",
    "    #w = (ExpInt(1,rho)-BesselK(0,rho))/(ExpInt(1,rho)-ExpInt(1,rho/2))\n",
    "    #F0 = w*ExpInt(1,rho/2*np.exp(-tau))-(w-1)*ExpInt(1,rho*np.cosh(tau))\n",
    "    #F1 = 2*BesselK(0,rho) - w*ExpInt(1,rho/2*np.exp(tau)) + (w-1)*ExpInt(1,rho*np.cosh(tau))    \n",
    "    return (tau<=0)*F0+(tau>0)*F1   \n",
    "\n",
    "def hoptim (x):     \n",
    "    global r,tfit,sfit\n",
    "    T = x[0]; S = x[1]; c = x[2] \n",
    "    s = heval (tfit,r,T,S,c,Q)\n",
    "    res = (s-sfit)\n",
    "    return sum(res*res)                 # function to be minimized\n",
    "\n",
    "def on_weval2_clicked(self):   \n",
    "    global r,df,tfit,sfit    \n",
    "    print ('Oude Korendijk pumping test') \n",
    "    r = w3r.value; print ('Distance to pumping well: '+str(r))\n",
    "    T = w2T.value; print ('Initial transmissivity: '+str(T)) \n",
    "    S = w2S.value; print ('Initial storativity: '+str(S))\n",
    "    c = wc.value; print ('Initial resistance: '+str(c))\n",
    "\n",
    "    if r <= 50:   \n",
    "        tfit = df['t1'].dropna()/60/24; sfit = df['s1'].dropna()\n",
    "    else:\n",
    "        tfit = df['t2'].dropna()/60/24; sfit =df['s2'].dropna()  \n",
    "        \n",
    "    # parameter estimation---------------------------------------------------------\n",
    "    [Tfit,Sfit,cfit] = fmin(hoptim, [T,S,c])\n",
    "\n",
    "    # post-processing--------------------------------------------------------------   \n",
    "    D = T/S;  #print ('D='+str(D))\n",
    "    s = heval (tfit,r,Tfit,Sfit,cfit,Q)\n",
    "    dev = sfit-s \n",
    "    dev2 = dev*dev; norms = np.sqrt(sum(dev2))  \n",
    "    stde = np.sqrt(dev2.mean())\n",
    "    sr=2*dev.std()                            # to compare with hytool !\n",
    "    t = np.logspace(np.log10(tfit.min()),np.log10(tfit.max()),100)\n",
    "    fig = plt.figure(facecolor='w',figsize=(10,5)); ax = fig.add_subplot()\n",
    "    ax.set_xscale('log')\n",
    "    plt.plot(tfit,sfit,'o',label = 'measured') \n",
    "    plt.plot(t,heval(t,r,Tfit,Sfit,cfit,Q),'-', label = 'calculated', lw = 2)\n",
    "    plt.xlabel('time [d]'); plt.ylabel('drawdown [m]')\n",
    "    plt.title ('Pump test: Oude Korendijk, Parameter estimation: Hantush',fontsize=14)\n",
    "    plt.grid ()\n",
    "    plt.legend (loc='upper left',fontsize=12)\n",
    "    ax.text (0.04,0.5*sfit.max(),'$T =%.1f m^2/d $' % (Tfit, ),fontsize=12)\n",
    "    ax.text (0.04,0.4*sfit.max(),'$S =%.2e $' % (Sfit, ),fontsize=12)\n",
    "    ax.text (0.04,0.3*sfit.max(),'$c =%.0f d$' % (cfit, ),fontsize=12)\n",
    "    ax.text (0.04,0.2*sfit.max(),'$2-norm = %.2e $' % (norms, ),fontsize=12)\n",
    "    ax.text (0.04,0.1*sfit.max(),'$stdev = %.2e $' % (stde, ),fontsize=12)\n",
    "    ax.text (0.04,0,'$2stdev =%.2e $' % (sr, ),fontsize=12);\n",
    "\n",
    "weval2 = widgets.Button(description='Evaluate Hantush')        \n",
    "weval2.on_click(on_weval2_clicked)   \n",
    "widgets.VBox([weval2])"
   ]
  },
  {
   "cell_type": "markdown",
   "metadata": {
    "hideCode": false,
    "hidePrompt": false,
    "hide_input": true
   },
   "source": [
    "The test can be interpreted from the Theis or the Hantush point of view, i.e. without or with leakage from a layer with fixed head. Which of the two may be deduced from the data: will they fit onto the Theis type curve or, when not, do they match with one of the Hantush type curves. Other effects may also influence the data, like partial penetration of the screen in the aquifer, storage inside the well and delayed yield and, notably, any effects caused by non-linearity, such as non-constant aquifer thickness under the influence of the drawdown in water table aquifers. All such effects may play their role under various circumstances, but may initially be ignored, to be included only when the data show that it is necessary."
   ]
  },
  {
   "cell_type": "markdown",
   "metadata": {
    "hideCode": false,
    "hidePrompt": false
   },
   "source": [
    "## Conclusion\n",
    "\n",
    "This notebook shows how the analysis of a pumping test can be done by first exploring the data and then applying several methods to see what works. This notebook is a good reference as it is completely documented and clearly shows all the steps taken to explore the problem and to find one or more suitable answers."
   ]
  },
  {
   "cell_type": "markdown",
   "metadata": {
    "hideCode": false,
    "hidePrompt": false
   },
   "source": [
    "## Bibliography\n",
    "\n",
    "* Cooper H.H., Jacob C.E., A generalized graphical method for evaluating formation constants and summarizing well‐field history, Vol. 27(4), 526-534, 1946\n",
    "* de Glee G.J., Over grondwaterstromingen bij wateronttrekking door middel van putten, J. Waltman, Delft,  1930 (in Dutch)\n",
    "* Hantush M.S., Analysis of data from pumping tests in leaky aquifers, EOS, Vol. 37(6), 702-714, 1956\n",
    "* Hantush M.S., Flow of groundwater in relatively thick leaky aquifers, Water Res. Res., Vol. 3(2), 583-590, 1967\n",
    "* Hantush M.S., Jacob C.E., Non-steady radial flow in an infinite leaky aquifer, Trans. Am. Geophys. Union, Vol. 36, 95-100, 1955 \n",
    "* Holzbecher, E., Environmental Modeling using Matlab, Springer, Berlin Heidelberg, 2012\n",
    "* Kooper J., Beweging van het water in den bodem bij onttrekking door bronnen, De Ingenieur, Vol. 29(38), 697–706 and 29(39), 710–716, 1914 (in Dutch)\n",
    "* Krusemann G.P., de Ridder N.A., Untersuchung und Anwendung von Pumpversuchen, Verlagsges. R. Müller, Köln, 1973 (in German)\n",
    "* Kruseman G.P., de Ridder N.A., Interpretation et Discussion des Pompages d’Essai (translation from 2. ed. of 1973), Wageningen, 1974 (in French)\n",
    "* Krusemann G.P., de Ridder N.A., Analysis and evaluation of pumping test data, 2.Edition, Intern. Inst. for Land Reclamation and Improvement (ILRI), Publication 47, Wageningen, 1994, https://www.hydrology.nl/images/docs/dutch/key/Kruseman_and_De_Ridder_2000.pdf\n",
    "* Olsthoorn T., The Korendijk pumping test, https://notebook.community/Olsthoorn/TransientGroundwaterFlow/excercises_notebooks/Korendijk-ptest-theis, 2019\n",
    "* Renard P., Hytool: a hydrogeological toolbox. University of Neuchâtel, Switzerland, 2003\n",
    "* Renard P., The future of hydraulic tests, Hydrogeol. J., Vol. 13, 259-262, 2005\n",
    "* Thiem G., Hydrologische Methoden, J.M.Gebhardt, Leipzig, 1906 (in German)\n",
    "* Theis C.V., The relation between the lowering of the piezometric surface and the rate and duration of discharge of a well using ground-water storage, Transactions of the AGU, Vol. 16(2), 519-524, 1935\n",
    "* White R.W., Clebsch A., C.V. Theis - and a review of his life and work, in: Selected Contributions to Ground-Water Hydrology, US Geol. Survey Water-Supply Paper 2415, 1994, http://ponce.sdsu.edu/theis_biography.html \n",
    "* Wit K.E., De hydrologische bodemconstanten in de polder 'De Oude Korendijk' berekend uit pompproeven en laboratoriummetingen in ongeroerde monsters (The hydraulic characteristics of the Oude Korendijk polder, calculated from pumping test data and laboratory measurements of core samples), ICW Notas 190, 24p, 1963 (in Dutch)"
   ]
  },
  {
   "cell_type": "code",
   "execution_count": null,
   "metadata": {
    "hideCode": false,
    "hidePrompt": false,
    "hide_input": true,
    "scrolled": false
   },
   "outputs": [],
   "source": []
  }
 ],
 "metadata": {
  "hide_code_all_hidden": false,
  "hide_input": false,
  "kernelspec": {
   "display_name": "Python 3",
   "language": "python",
   "name": "python3"
  },
  "language_info": {
   "codemirror_mode": {
    "name": "ipython",
    "version": 3
   },
   "file_extension": ".py",
   "mimetype": "text/x-python",
   "name": "python",
   "nbconvert_exporter": "python",
   "pygments_lexer": "ipython3",
   "version": "3.7.6"
  },
  "toc": {
   "base_numbering": 1,
   "nav_menu": {},
   "number_sections": true,
   "sideBar": true,
   "skip_h1_title": true,
   "title_cell": "Table of Contents",
   "title_sidebar": "Contents",
   "toc_cell": true,
   "toc_position": {},
   "toc_section_display": true,
   "toc_window_display": true
  },
  "varInspector": {
   "cols": {
    "lenName": 16,
    "lenType": 16,
    "lenVar": 40
   },
   "kernels_config": {
    "python": {
     "delete_cmd_postfix": "",
     "delete_cmd_prefix": "del ",
     "library": "var_list.py",
     "varRefreshCmd": "print(var_dic_list())"
    },
    "r": {
     "delete_cmd_postfix": ") ",
     "delete_cmd_prefix": "rm(",
     "library": "var_list.r",
     "varRefreshCmd": "cat(var_dic_list()) "
    }
   },
   "position": {
    "height": "768.85px",
    "left": "838px",
    "right": "20px",
    "top": "154px",
    "width": "469px"
   },
   "types_to_exclude": [
    "module",
    "function",
    "builtin_function_or_method",
    "instance",
    "_Feature"
   ],
   "window_display": false
  }
 },
 "nbformat": 4,
 "nbformat_minor": 4
}
