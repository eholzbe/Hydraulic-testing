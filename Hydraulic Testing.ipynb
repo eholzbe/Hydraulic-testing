{
 "cells": [
  {
   "cell_type": "markdown",
   "metadata": {
    "hideCode": false,
    "hidePrompt": false,
    "hide_input": false
   },
   "source": [
    "\n",
    "<font size = 6px, style=\"color:blue\">**Hydraulic Testing:  Pumping Test Evaluation**</font>\n",
    "\n",
    "\n",
    "Prof. habil. Dr.-Ing. Dipl.-Math. Ekkehard Holzbecher\n",
    "\n",
    "*Demo Oude Korendijk \n",
    "(partially adopted and modified from Olsthoorn)* \n",
    "https://notebook.community/Olsthoorn/TransientGroundwaterFlow/excercises_notebooks/Korendijk-ptest-theis\n"
   ]
  },
  {
   "cell_type": "markdown",
   "metadata": {
    "hideCode": false,
    "hidePrompt": false
   },
   "source": [
    "**Brief instruction for non-Pythonists:** The notebook is build of cells that can be read and viewed, but also edited and run. There are different types of cells (see dropdown list at the top ribbon). It is recommended not to edit if you don't know what you are doing! Only those cells indicated as code have to be run (use button at top ribbon). It is convenient to run all cells at start (button: *restart the kernel and re-run the whole notebook*) and to *toggle everything* (button). To re-run a single cell use the *Run* button or press *Shift-Return* keys together. "
   ]
  },
  {
   "cell_type": "markdown",
   "metadata": {
    "hideCode": false,
    "hidePrompt": false,
    "toc": true
   },
   "source": [
    "<h1>Table of Contents<span class=\"tocSkip\"></span></h1>\n",
    "<div class=\"toc\"><ul class=\"toc-item\"><li><span><a href=\"#Introduction\" data-toc-modified-id=\"Introduction-1\"><span class=\"toc-item-num\">1&nbsp;&nbsp;</span>Introduction</a></span></li><li><span><a href=\"#The-Oude-Korendijk-Pumping-Test\" data-toc-modified-id=\"The-Oude-Korendijk-Pumping-Test-2\"><span class=\"toc-item-num\">2&nbsp;&nbsp;</span>The Oude Korendijk Pumping Test</a></span></li><li><span><a href=\"#Interpretation-using-Data-for-Steady-State-Drawdown\" data-toc-modified-id=\"Interpretation-using-Data-for-Steady-State-Drawdown-3\"><span class=\"toc-item-num\">3&nbsp;&nbsp;</span>Interpretation using Data for Steady State Drawdown</a></span><ul class=\"toc-item\"><li><span><a href=\"#Confined-Aquifer\" data-toc-modified-id=\"Confined-Aquifer-3.1\"><span class=\"toc-item-num\">3.1&nbsp;&nbsp;</span>Confined Aquifer</a></span></li><li><span><a href=\"#Unconfined-Aquifer\" data-toc-modified-id=\"Unconfined-Aquifer-3.2\"><span class=\"toc-item-num\">3.2&nbsp;&nbsp;</span>Unconfined Aquifer</a></span></li><li><span><a href=\"#Leaky-Aquifer\" data-toc-modified-id=\"Leaky-Aquifer-3.3\"><span class=\"toc-item-num\">3.3&nbsp;&nbsp;</span>Leaky Aquifer</a></span></li></ul></li><li><span><a href=\"#Unsteady-Data-Input-and-Visualization\" data-toc-modified-id=\"Unsteady-Data-Input-and-Visualization-4\"><span class=\"toc-item-num\">4&nbsp;&nbsp;</span>Unsteady Data Input and Visualization</a></span></li><li><span><a href=\"#Interpretation-based-on-the-Theis-Solution-(Cooper-Jacob)\" data-toc-modified-id=\"Interpretation-based-on-the-Theis-Solution-(Cooper-Jacob)-5\"><span class=\"toc-item-num\">5&nbsp;&nbsp;</span>Interpretation based on the Theis Solution (Cooper-Jacob)</a></span></li><li><span><a href=\"#Classical-Interpretation-using-the-Match-on-Double-Log-Scales\" data-toc-modified-id=\"Classical-Interpretation-using-the-Match-on-Double-Log-Scales-6\"><span class=\"toc-item-num\">6&nbsp;&nbsp;</span>Classical Interpretation using the Match on Double Log Scales</a></span><ul class=\"toc-item\"><li><span><a href=\"#Manual-Fitting\" data-toc-modified-id=\"Manual-Fitting-6.1\"><span class=\"toc-item-num\">6.1&nbsp;&nbsp;</span>Manual Fitting</a></span></li><li><span><a href=\"#Using-the-Interface\" data-toc-modified-id=\"Using-the-Interface-6.2\"><span class=\"toc-item-num\">6.2&nbsp;&nbsp;</span>Using the Interface</a></span><ul class=\"toc-item\"><li><span><a href=\"#Multi-Graph\" data-toc-modified-id=\"Multi-Graph-6.2.1\"><span class=\"toc-item-num\">6.2.1&nbsp;&nbsp;</span>Multi-Graph</a></span></li><li><span><a href=\"#Single-Graph\" data-toc-modified-id=\"Single-Graph-6.2.2\"><span class=\"toc-item-num\">6.2.2&nbsp;&nbsp;</span>Single Graph</a></span></li><li><span><a href=\"#Fit-Measures\" data-toc-modified-id=\"Fit-Measures-6.2.3\"><span class=\"toc-item-num\">6.2.3&nbsp;&nbsp;</span>Fit Measures</a></span></li></ul></li></ul></li><li><span><a href=\"#Parameter-Estimation\" data-toc-modified-id=\"Parameter-Estimation-7\"><span class=\"toc-item-num\">7&nbsp;&nbsp;</span>Parameter Estimation</a></span><ul class=\"toc-item\"><li><span><a href=\"#Confined-Aquifer\" data-toc-modified-id=\"Confined-Aquifer-7.1\"><span class=\"toc-item-num\">7.1&nbsp;&nbsp;</span>Confined Aquifer</a></span></li><li><span><a href=\"#Leaky-Aquifer\" data-toc-modified-id=\"Leaky-Aquifer-7.2\"><span class=\"toc-item-num\">7.2&nbsp;&nbsp;</span>Leaky Aquifer</a></span></li></ul></li><li><span><a href=\"#Conclusion\" data-toc-modified-id=\"Conclusion-8\"><span class=\"toc-item-num\">8&nbsp;&nbsp;</span>Conclusion</a></span></li><li><span><a href=\"#Bibliography\" data-toc-modified-id=\"Bibliography-9\"><span class=\"toc-item-num\">9&nbsp;&nbsp;</span>Bibliography</a></span></li></ul></div>"
   ]
  },
  {
   "cell_type": "markdown",
   "metadata": {
    "hideCode": false,
    "hidePrompt": false
   },
   "source": [
    "## Introduction\n",
    "\n",
    "In a pumping test the drawdown of the water table in a piezometer is recorded, as response to pumping from a nearby well. Pumping tests belong into the common toolbox of hydro-geologists, used to obtain basic parameters for aquifer characterization. It is common practice to determine transmissivity (T) and storativity (S) from fitting 1D-analytical solutions to the observed drawdown. The application of this classical evaluation method is related to various idealized assumptions.\n",
    "\n",
    "The most important ones are listed in the sequel. The aquifer is homogeneous and isotropic, has a constant thickness and has infinite extend. The well is assumed to be ideal, i.e. it is screened over the entire thickness of the aquifer. The well diameter is small. Pumping is performed at constant rate.\n",
    "\n",
    "In 1970 Kruseman & de Ridder published the probably most used and referenced textbook on pumping test evaluations. A translation in German came out in 1973, in French 1974. The book was revised several times. The 1994 version is free available on the internet. The book covers evaluation methods for various types of aquifers and conditions on groundwater wells, including examples with data. In the book the most common method, introduced by Theis (1937), is outlined using a pumping test, performed at a location called the Oude Korendijk in the Netherlands.  "
   ]
  },
  {
   "cell_type": "markdown",
   "metadata": {
    "hideCode": false,
    "hidePrompt": false
   },
   "source": [
    "## The Oude Korendijk Pumping Test"
   ]
  },
  {
   "cell_type": "markdown",
   "metadata": {
    "hideCode": false,
    "hidePrompt": false
   },
   "source": [
    "In a report Wit (1963) describes and evaluates several pumping tests, performed in the Oude Korendijk polder areas. The one most cited test is identified as H2 in the original paper, which was performed on July 10$^{th}$1962. The figure below gives an impression on the type of landscape in polder areas in the Netherlands.    "
   ]
  },
  {
   "cell_type": "markdown",
   "metadata": {
    "hideCode": false,
    "hidePrompt": false
   },
   "source": [
    "<div><img src=\"OKfoto.png\" align=\"center\"/></div>"
   ]
  },
  {
   "cell_type": "markdown",
   "metadata": {
    "hideCode": false,
    "hidePrompt": false
   },
   "source": [
    "The locality south of Rotterdam is shown in the figures below, as depicted by Googlemaps and in the original report (Wit 1963). In the south, at the bottom of the figure, the Rhine river can be identified. The area is criss-crossed by various trenches for drainage.  "
   ]
  },
  {
   "cell_type": "markdown",
   "metadata": {
    "hideCode": false,
    "hidePrompt": false,
    "hide_input": false
   },
   "source": [
    " <tr>\n",
    "    <td> <img src=\"OK1a.png\" width=\"400\" height=\"270\"/> </td>\n",
    "    <td> <img src=\"OK1.png\" width=\"360\" height=\"240\"/> </td>\n",
    " </tr>"
   ]
  },
  {
   "cell_type": "markdown",
   "metadata": {
    "hideCode": false,
    "hidePrompt": false
   },
   "source": [
    "The Oude Korendijk pumping test is a test in a confined, leaky or unconfined setting, which yield a value for the aquifers' transmissivity and its storage coefficient. The following figure depicts a cross sectional view of the geological situation at the site (Wit 1963). The figure text is in Dutch; here some translations: pompput = pumping well, zand = sand, veen = peat, grint = gravel, peilfilter = filter. "
   ]
  },
  {
   "cell_type": "markdown",
   "metadata": {
    "hideCode": false,
    "hidePrompt": false,
    "hide_input": true
   },
   "source": [
    "<div><img src=\"OK2.png\" width=\"720\" align=\"center\"/></div>"
   ]
  },
  {
   "cell_type": "markdown",
   "metadata": {
    "hideCode": false,
    "hidePrompt": false
   },
   "source": [
    "The well was pumped with a constant rate of 768 m$^3$/d. There are four piezometers in the vicinity of the pumping well, which can be taken as observation points. The nearest is only 80 cm away from the well. The other three observation points are located in distances of 30 m, 90 m and 215 m. The following figure shows the locations and final drawdown in the Oude Korendijk pumping test measured after almost 14 hours past pump start."
   ]
  },
  {
   "cell_type": "markdown",
   "metadata": {
    "hideCode": false,
    "hidePrompt": false
   },
   "source": [
    "<div><img src=\"OK3.png\" width=\"720\" align=\"center\"/></div>"
   ]
  },
  {
   "cell_type": "markdown",
   "metadata": {
    "hideCode": false,
    "hidePrompt": false
   },
   "source": [
    "## Interpretation using Data for Steady State Drawdown"
   ]
  },
  {
   "cell_type": "markdown",
   "metadata": {
    "hideCode": false,
    "hidePrompt": false
   },
   "source": [
    "For all evaluations we need the pumping rate, here in physical units m$^3$/d: "
   ]
  },
  {
   "cell_type": "code",
   "execution_count": 1,
   "metadata": {
    "hideCode": false,
    "hidePrompt": false,
    "hide_input": false,
    "scrolled": false
   },
   "outputs": [
    {
     "data": {
      "application/vnd.jupyter.widget-view+json": {
       "model_id": "ab58cfbaebc44b579bb06e8be803a53b",
       "version_major": 2,
       "version_minor": 0
      },
      "text/plain": [
       "BoundedFloatText(value=788.0, description='Pump rate:', disabled=True, max=1000.0, step=1.0)"
      ]
     },
     "metadata": {},
     "output_type": "display_data"
    }
   ],
   "source": [
    "from scipy.special import exp1\n",
    "import numpy as np\n",
    "import matplotlib.pyplot as plt\n",
    "import pandas as pd\n",
    "import ipywidgets as widgets\n",
    "#from IPython.display import display\n",
    "#from IPython.display import HTML\n",
    "#import IPython.core.display as di # Example: di.display_html('<h3>%s:</h3>' % str, raw=True)\n",
    "# This line will hide code by default when the notebook is exported as HTML\n",
    "#di.display_html('<script>jQuery(function() {if (jQuery(\"body.notebook_app\").length == 0) { jQuery(\".input_area\").toggle(); jQuery(\".prompt\").toggle();}});</script>', raw=True)\n",
    "#%matplotlib inline\n",
    "Q = 788.0\n",
    "wQ = widgets.BoundedFloatText(value=788, min=0, max=1000.0, step=1, description='Pump rate:', disabled=True)\n",
    "wQ"
   ]
  },
  {
   "cell_type": "markdown",
   "metadata": {
    "hideCode": false,
    "hidePrompt": false,
    "hide_input": true
   },
   "source": [
    "The input box is disabled as we deal here with the same one pumping test. For the following we need different combinations of two observation locations and the drawdowns measured there. In the boxes below enter distances and final drawdowns from the figure above (in meter)! Defaults are the inputs for the combination of boreholes H30 and H90."
   ]
  },
  {
   "cell_type": "code",
   "execution_count": 2,
   "metadata": {
    "hideCode": false,
    "hidePrompt": false,
    "hide_input": true,
    "scrolled": false
   },
   "outputs": [
    {
     "data": {
      "application/vnd.jupyter.widget-view+json": {
       "model_id": "d4b00d74b7d7464bb5a7c47b380523ea",
       "version_major": 2,
       "version_minor": 0
      },
      "text/plain": [
       "HBox(children=(BoundedFloatText(value=30.0, description='$r_1$:', max=215.0), BoundedFloatText(value=90.0, des…"
      ]
     },
     "metadata": {},
     "output_type": "display_data"
    }
   ],
   "source": [
    "wr1 = widgets.BoundedFloatText(value=30.0, min=0.0, max=215.0, description='$r_1$:', disabled=False)\n",
    "wr2 = widgets.BoundedFloatText(value=90.0, min=0.0, max=215.0, description='$r_2$:', disabled=False)\n",
    "ws1 = widgets.BoundedFloatText(value=1.088, min=0.0, max=3.0, description='$s_1$:', disabled=False)\n",
    "ws2 = widgets.BoundedFloatText(value=0.716, min=0.0, max=3.0, description='$s_2$:', disabled=False)\n",
    "widgets.HBox([wr1,wr2,ws1,ws2]) "
   ]
  },
  {
   "cell_type": "markdown",
   "metadata": {
    "hideCode": false,
    "hidePrompt": false
   },
   "source": [
    "### Confined Aquifer\n",
    "The solution for the steady state drawdown $s$ in a distance $r$ from the pumping well after a long time of pumping was given by Thiem (1906)"
   ]
  },
  {
   "cell_type": "markdown",
   "metadata": {
    "hideCode": false,
    "hidePrompt": false
   },
   "source": [
    "$$ s(r) = -\\frac {Q} {2 \\pi T} \\ln (r)+C $$"
   ]
  },
  {
   "cell_type": "markdown",
   "metadata": {
    "hideCode": false,
    "hidePrompt": false
   },
   "source": [
    "The transmissivity $T$ is a property of the aquifer, characterizing its ability to conduct water. $Q$ denotes the pumping rate. $C$ is an integration constant that emerges due to the solution of a differential equation. If the final drawdown measures $s_1$ and $s_2$ are given at two observation points at different distances $r_1$ and $r_2$, the integration constant can be eliminated and a formula for the transmissivity results: "
   ]
  },
  {
   "cell_type": "markdown",
   "metadata": {
    "hideCode": false,
    "hidePrompt": false,
    "hide_input": false
   },
   "source": [
    "$$ T = \\frac {Q} {2 \\pi (s_1-s_2)} \\ln (r_2/r_1) $$"
   ]
  },
  {
   "cell_type": "markdown",
   "metadata": {
    "hideCode": false,
    "hidePrompt": false
   },
   "source": [
    "In the Oude Korendijk pump test a steady state was not reached. However, the difference between the drawdown values in the two major observation wells remains almost constant. We call this a quasi-steady state, assuming that the difference will be the same, when a stationary situation is reached. Click the button to see the result for transmissivity."
   ]
  },
  {
   "cell_type": "code",
   "execution_count": 3,
   "metadata": {
    "hideCode": false,
    "hidePrompt": false,
    "hide_input": false,
    "scrolled": false
   },
   "outputs": [
    {
     "data": {
      "application/vnd.jupyter.widget-view+json": {
       "model_id": "d50aa6b6ef1a4f97b6b69fa7b8c04a53",
       "version_major": 2,
       "version_minor": 0
      },
      "text/plain": [
       "Button(description='Compute T', style=ButtonStyle())"
      ]
     },
     "metadata": {},
     "output_type": "display_data"
    }
   ],
   "source": [
    "btn = widgets.Button(description='Compute T')\n",
    "display(btn)\n",
    "\n",
    "def btn_eventhandler(obj):\n",
    "    global T1\n",
    "    Q = wQ.value         \n",
    "    r1 = wr1.value; s1 = ws1.value; r2 =wr2.value; s2 = ws2.value  # distances and drawdown \n",
    "    T1 = Q * np.log(r1/r2) / (2*np.pi*(s2-s1))\n",
    "    print('T = {:.0f} m\\u00b2/d'.format(T1))\n",
    "    \n",
    "btn.on_click(btn_eventhandler)     "
   ]
  },
  {
   "cell_type": "markdown",
   "metadata": {
    "hideCode": false,
    "hidePrompt": false
   },
   "source": [
    "In that way for $T$ six different values can be obtained using the different combinations of the observation values. In order to get only one value one may take some average of these. \n",
    "\n",
    "It is much better to find the Thiem curve that fits best with the data values. That can be done by using an optimization algorithm. Here we use linear regression in the semi-logarithmical coordinate system. The results difffer only slighly from results in real world coordinates. Get graphical and numerical results by using the buttons below.      "
   ]
  },
  {
   "cell_type": "code",
   "execution_count": 4,
   "metadata": {
    "hideCode": false,
    "hidePrompt": false,
    "hide_input": false
   },
   "outputs": [
    {
     "data": {
      "application/vnd.jupyter.widget-view+json": {
       "model_id": "ff077d1a48b240debd32f9ddc9316987",
       "version_major": 2,
       "version_minor": 0
      },
      "text/plain": [
       "HBox(children=(Button(description='Confined aquifer fit', style=ButtonStyle()), Checkbox(value=False, descript…"
      ]
     },
     "metadata": {},
     "output_type": "display_data"
    }
   ],
   "source": [
    "%matplotlib inline\n",
    "plt.rcParams[\"figure.figsize\"] = (10,5) \n",
    "\n",
    "rfit = [0.8, 30, 90, 215]\n",
    "srfit = [2.235, 1.088, 0.716, 0.25] \n",
    "\n",
    "def on_wth_clicked(self):\n",
    "    global T1\n",
    "    n = len(rfit); lr = np.log(rfit)        # linear regression\n",
    "    p1 = (n*np.sum(lr*srfit)-np.sum(lr)*np.sum(srfit))/(n*np.sum(lr*lr)-np.sum(lr)**2)\n",
    "    p0 = (sum(srfit)-p1*sum(lr))/n\n",
    "    T = -Q/2/np.pi/p1                       # transmissivity \n",
    "    R = np.exp(-p0/p1)                      # reach\n",
    "    sfit = -Q*(np.log(rfit)-np.log(R))/2/np.pi/T\n",
    "    norms = np.linalg.norm(srfit-sfit)\n",
    "    stdev = np.sqrt(np.mean((srfit-sfit)**2))\n",
    "    rmax = max(rfit); smax = max(srfit)\n",
    "    r = np.arange(.9*min(rfit), rmax, step = rmax/50)\n",
    "    s = -Q*(np.log(r)-np.log(R))/2/np.pi/T\n",
    "    fig = plt.figure(facecolor='w'); ax = fig.add_subplot()\n",
    "    if wca.value: \n",
    "        ax.set_xscale('log'); xtext = 1\n",
    "    else:\n",
    "        xtext = 130\n",
    "    plt.plot (rfit,srfit, 'o', label = 'observation' )\n",
    "    plt.plot (r,s, '.-', label = 'modelled' )\n",
    "    plt.xlabel('distance [m]',fontsize=12)\n",
    "    plt.ylabel('drawdown [m]',fontsize=12)\n",
    "    ax.grid(b=True, c='w', lw=2, ls='-')\n",
    "    plt.legend(loc = 'upper right',fontsize=12)\n",
    "    ax.text (xtext,.7*smax,'$T = %.1f m^2/d$' % (T, ),fontsize=12)\n",
    "    ax.text (xtext,.6*smax,'2-norm = $%.3e $' % (norms, ),fontsize=12)\n",
    "    ax.text (xtext,.5*smax,'stdev = $%.3e $' % (stdev, ),fontsize=12)\n",
    "    plt.title('Pump test: Oude Korendijk, Curve Fitting: Thiem', fontsize=14)\n",
    "    T1 = T\n",
    "\n",
    "wth = widgets.Button(description='Confined aquifer fit')        \n",
    "wth.on_click(on_wth_clicked)   \n",
    "wca = widgets.Checkbox(value=False, description='log', disabled=False, indent=False)\n",
    "widgets.HBox([wth,wca]) "
   ]
  },
  {
   "cell_type": "markdown",
   "metadata": {
    "hideCode": false,
    "hidePrompt": false,
    "hide_input": false
   },
   "source": [
    "The transmissivity is related to the conductivity $K$ of the porous medium in the aquifer by: $T=K \\cdot D$, where $D$ denotes the aquifer thickness. \n",
    "\n",
    "For the computation of the conductivity the aquifer thickness $D$ of the aquifer has to be given. "
   ]
  },
  {
   "cell_type": "code",
   "execution_count": 5,
   "metadata": {
    "hideCode": false,
    "hidePrompt": false,
    "hide_input": true,
    "scrolled": false
   },
   "outputs": [
    {
     "data": {
      "application/vnd.jupyter.widget-view+json": {
       "model_id": "61d5bcc0de0a4ce3b6931822ddcef860",
       "version_major": 2,
       "version_minor": 0
      },
      "text/plain": [
       "BoundedFloatText(value=7.0, description='Thickness:', max=15.0, min=1.0, step=1.5)"
      ]
     },
     "metadata": {},
     "output_type": "display_data"
    }
   ],
   "source": [
    "wD = widgets.BoundedFloatText(value=7, min=1, max=15.0, step=1.5, description='Thickness:', disabled=False)\n",
    "wD"
   ]
  },
  {
   "cell_type": "markdown",
   "metadata": {
    "hideCode": false,
    "hidePrompt": false,
    "hide_input": true
   },
   "source": [
    " Obtain the result for the hydraulic conductivity of the porous medium by clicking the button. "
   ]
  },
  {
   "cell_type": "code",
   "execution_count": 6,
   "metadata": {
    "hideCode": false,
    "hidePrompt": false,
    "hide_input": true,
    "scrolled": true
   },
   "outputs": [
    {
     "data": {
      "application/vnd.jupyter.widget-view+json": {
       "model_id": "af5a5a6f7d9f411cabe5ce3cfcfc797f",
       "version_major": 2,
       "version_minor": 0
      },
      "text/plain": [
       "Button(description='Compute K', style=ButtonStyle())"
      ]
     },
     "metadata": {},
     "output_type": "display_data"
    }
   ],
   "source": [
    "btn = widgets.Button(description='Compute K')\n",
    "display(btn)\n",
    "\n",
    "def btn_eventhandler(obj):\n",
    "    global T1\n",
    "    print('K = {:.0f} m/d'.format(T1/wD.value))\n",
    "    \n",
    "btn.on_click(btn_eventhandler)      "
   ]
  },
  {
   "cell_type": "markdown",
   "metadata": {
    "hideCode": false,
    "hidePrompt": false,
    "hide_input": true
   },
   "source": [
    "### Unconfined Aquifer \n",
    "The Thiem formula shown above holds for a confined aquifer. An analogous derivation derivation can be performed for an unconfined aquifer. The formula for the hydraulic head is:"
   ]
  },
  {
   "cell_type": "markdown",
   "metadata": {
    "hideCode": false,
    "hidePrompt": false
   },
   "source": [
    "$$ h^2(r) = \\frac {Q} {\\pi K} \\ln (r)+C $$"
   ]
  },
  {
   "cell_type": "markdown",
   "metadata": {
    "hideCode": false,
    "hidePrompt": false
   },
   "source": [
    "where $h$ denotes the piezometric head, measured from the aquifer base. From this one obtains: "
   ]
  },
  {
   "cell_type": "markdown",
   "metadata": {
    "hideCode": false,
    "hidePrompt": false,
    "hide_input": false
   },
   "source": [
    "$$ K = \\frac {Q} {\\pi (h_2^2-h_1^2)} \\ln (r_2/r_1) $$"
   ]
  },
  {
   "cell_type": "markdown",
   "metadata": {
    "hideCode": false,
    "hidePrompt": false
   },
   "source": [
    "For the calculation the constant initial head is required. Enter it here: "
   ]
  },
  {
   "cell_type": "code",
   "execution_count": 7,
   "metadata": {
    "hideCode": false,
    "hidePrompt": false,
    "hide_input": true,
    "scrolled": false
   },
   "outputs": [
    {
     "data": {
      "application/vnd.jupyter.widget-view+json": {
       "model_id": "222d382a4e6c44a6bf7ba84c79e3a84d",
       "version_major": 2,
       "version_minor": 0
      },
      "text/plain": [
       "BoundedFloatText(value=7.0, description='Initial head:', max=15.0, min=1.0, step=1.5)"
      ]
     },
     "metadata": {},
     "output_type": "display_data"
    }
   ],
   "source": [
    "wH = widgets.BoundedFloatText(value=7, min=1, max=15.0, step=1.5, description='Initial head:', disabled=False)\n",
    "wH"
   ]
  },
  {
   "cell_type": "markdown",
   "metadata": {
    "hideCode": false,
    "hidePrompt": false
   },
   "source": [
    " and obtain the result by clicking the button. "
   ]
  },
  {
   "cell_type": "code",
   "execution_count": 8,
   "metadata": {
    "hideCode": false,
    "hidePrompt": false,
    "hide_input": false,
    "scrolled": false
   },
   "outputs": [
    {
     "data": {
      "application/vnd.jupyter.widget-view+json": {
       "model_id": "89d75d973f9d4736b01cdbac398095b1",
       "version_major": 2,
       "version_minor": 0
      },
      "text/plain": [
       "Button(description='Compute K', style=ButtonStyle())"
      ]
     },
     "metadata": {},
     "output_type": "display_data"
    }
   ],
   "source": [
    "btn = widgets.Button(description='Compute K')\n",
    "display(btn)\n",
    "\n",
    "def btn_eventhandler(obj):\n",
    "    r1 = wr1.value; s1 = ws1.value; r2 =wr2.value; s2 = ws2.value  # distances and drawdown \n",
    "    h1 = wH.value-s1; h2 = wH.value-s2\n",
    "    K1 = Q * np.log(r2/r1) / np.pi / (h2**2-h1**2)\n",
    "    print('K = {:.0f} m/d'.format(K1))\n",
    "    \n",
    "btn.on_click(btn_eventhandler)     "
   ]
  },
  {
   "cell_type": "markdown",
   "metadata": {
    "hideCode": false,
    "hidePrompt": false
   },
   "source": [
    "Also for this pumping we don't know the exact value of the initial head. Change its value and see the effect on the resulting conductivity! \n",
    "Compare the result with the conductivities that results from the Thiem evaluation for the confined aquifer, identifying the aquifer thickness with the initial head."
   ]
  },
  {
   "cell_type": "markdown",
   "metadata": {
    "hideCode": false,
    "hidePrompt": false
   },
   "source": [
    "**Task**: Use the Thiem evaluation for the steady state taking the measurements at the near and far observation points also into consideration. Examine results for different pairs of observations!  \n",
    "\n",
    "Lets calculate the hydraulic conductivity from a best fit using all four measured drawdown values. Again we use linear regression in semi-logarithmic coordinates. Click the button!"
   ]
  },
  {
   "cell_type": "code",
   "execution_count": 9,
   "metadata": {
    "hideCode": false,
    "hidePrompt": false,
    "hide_input": true
   },
   "outputs": [
    {
     "data": {
      "application/vnd.jupyter.widget-view+json": {
       "model_id": "fd1f2fd72f664196940a6778f4a8dc20",
       "version_major": 2,
       "version_minor": 0
      },
      "text/plain": [
       "HBox(children=(Button(description='Unconfined aquifer fit', style=ButtonStyle()), Checkbox(value=False, descri…"
      ]
     },
     "metadata": {},
     "output_type": "display_data"
    }
   ],
   "source": [
    "%matplotlib inline\n",
    "plt.rcParams[\"figure.figsize\"] = (10,5) \n",
    "\n",
    "rfit = np.array([0.8, 30, 90, 215])\n",
    "srfit = np.array([2.235, 1.088, 0.716, 0.25]) \n",
    "\n",
    "def on_wth2_clicked(self):\n",
    "    h0 = wH.value                       \n",
    "    if h0 < 8.5:                # from  MATLAB lsqcurvefit using real world coordinates\n",
    "        K = 64.0; R = 854.4                 # h0 = 7\n",
    "    else:\n",
    "        if h0 > 8.5:\n",
    "            K = 41.6; R = 749.8             # h0 = 10\n",
    "        else:\n",
    "            K = 50.4; R = 789.1             # h0 = 8.5\n",
    "    \n",
    "    srfit = np.array([2.235, 1.088, 0.716, 0.25]) \n",
    "    h2fit = (h0-srfit)**2                   # linear regression\n",
    "    n = len(rfit); lr = np.log(rfit)        \n",
    "    p1 = (n*np.sum(lr*h2fit)-np.sum(lr)*np.sum(h2fit))/(n*np.sum(lr*lr)-np.sum(lr)**2)\n",
    "    p0 = (sum(h2fit)-p1*sum(lr))/n\n",
    "    K = Q/np.pi/p1                          # conductivity \n",
    "    R = np.exp((h0*h0-p0)/p1)                      # reach\n",
    "    hrfit = h0 - srfit \n",
    "    hfit = np.sqrt(h0*h0+Q*(np.log(rfit)-np.log(R))/np.pi/K)\n",
    "    norms = np.linalg.norm(hrfit-hfit)\n",
    "    stdev = np.sqrt(np.mean((hrfit-hfit)**2))\n",
    "    rmax = max(rfit); smax = max(srfit)\n",
    "    r = np.arange(.9*min(rfit), rmax, step = rmax/50)\n",
    "    h = np.sqrt(h0*h0+Q*(np.log(r)-np.log(R))/np.pi/K)\n",
    "    fig = plt.figure(facecolor='w'); ax = fig.add_subplot()\n",
    "    if wca2.value: \n",
    "        ax.set_xscale('log'); xtext = 1; ytext = h0-smax;\n",
    "    else:\n",
    "        xtext = 130; ytext = h0-1.3*smax \n",
    "    plt.plot (rfit,hrfit, 'o', label = 'observation' )\n",
    "    plt.plot (r,h, '.-', label = 'modelled' )\n",
    "    plt.xlabel('distance [m]',fontsize=12)\n",
    "    plt.ylabel('groundwater table [m]',fontsize=12)\n",
    "    ax.grid(b=True, c='w', lw=2, ls='-')\n",
    "    plt.legend(loc = 'lower right',fontsize=12)\n",
    "    \n",
    "    ax.text (xtext,ytext+.7*smax,'$K = %.1f m/d$' % (K, ),fontsize=12)\n",
    "    ax.text (xtext,ytext+.6*smax,'2-norm = $%.3e $' % (norms, ),fontsize=12)\n",
    "    ax.text (xtext,ytext+.5*smax,'stdev = $%.3e $' % (stdev, ),fontsize=12)\n",
    "    plt.title('Pump test: Oude Korendijk, Curve Fitting: Thiem', fontsize=14)\n",
    "\n",
    "wth2 = widgets.Button(description='Unconfined aquifer fit')        \n",
    "wth2.on_click(on_wth2_clicked)   \n",
    "wca2 = widgets.Checkbox(value=False, description='log', disabled=False, indent=False)\n",
    "widgets.HBox([wth2,wca2]) "
   ]
  },
  {
   "cell_type": "markdown",
   "metadata": {
    "hideCode": false,
    "hidePrompt": false,
    "hide_input": false
   },
   "source": [
    "### Leaky Aquifer\n",
    "Kooper (1914) and de Glee (1930) developed an expression for the steady drawdown in a leaky aquifer. The overlying semi-permeable layer is characterized by its vertical flow resistance $c$, which has the unit of time. The formula is:  "
   ]
  },
  {
   "cell_type": "markdown",
   "metadata": {
    "hideCode": false,
    "hidePrompt": false
   },
   "source": [
    "$$ s(r) = \\frac{Q}{2 \\pi T} K_0(\\frac{r}{\\sqrt{Tc}}) $$"
   ]
  },
  {
   "cell_type": "markdown",
   "metadata": {
    "hideCode": false,
    "hidePrompt": false
   },
   "source": [
    "where $K_0$ denotes the modified Bessel function 2. type 0. order. We can obtain values for the two parameters $T$ and $c$ by fitting to the measurements at all four locations using the method of least squares. This is done running the following cell."
   ]
  },
  {
   "cell_type": "code",
   "execution_count": 10,
   "metadata": {
    "hideCode": false,
    "hidePrompt": false,
    "hide_input": false,
    "scrolled": false
   },
   "outputs": [
    {
     "data": {
      "application/vnd.jupyter.widget-view+json": {
       "model_id": "e0135be27b9e4367a3817d686e3d0730",
       "version_major": 2,
       "version_minor": 0
      },
      "text/plain": [
       "HBox(children=(Button(description='Leaky aquifer fit', style=ButtonStyle()), Checkbox(value=False, description…"
      ]
     },
     "metadata": {},
     "output_type": "display_data"
    }
   ],
   "source": [
    "from scipy.optimize import fmin\n",
    "from scipy.special import kn as besselk\n",
    "%matplotlib inline\n",
    "plt.rcParams[\"figure.figsize\"] = (10,5) \n",
    "\n",
    "rfit = [0.8, 30, 90, 215]\n",
    "srfit = [2.235, 1.088, 0.716, 0.25] \n",
    "T2 = 500\n",
    "\n",
    "def deGlee (x):\n",
    "    T = x[0]; c = x[1]\n",
    "    u = rfit/np.sqrt(T*c)\n",
    "    s = Q*besselk(0,u)/2/np.pi/T\n",
    "    res = (s-srfit)\n",
    "    return sum(res*res)\n",
    "\n",
    "def on_wdg_clicked(self):\n",
    "    global T2\n",
    "    c = 500\n",
    "    n = len(rfit); lr = np.log(rfit)  \n",
    "    T = (n*np.sum(lr*srfit)-np.sum(lr)*np.sum(srfit))/(n*np.sum(lr*lr)-np.sum(lr)**2)\n",
    "    T = -Q/2/np.pi/T                       # transmissivity initial guess [L^2/T]\n",
    "    [Tfit,cfit] = fmin(deGlee, [T,c]) \n",
    "\n",
    "    sfit = Q*besselk(0,rfit/np.sqrt(Tfit*cfit))/2/np.pi/Tfit\n",
    "    norms = np.linalg.norm(srfit-sfit)\n",
    "    stdev = np.sqrt(np.mean((srfit-sfit)**2))\n",
    "    rmax = max(rfit); smax = max(srfit)\n",
    "    r = np.arange(.9*min(rfit), rmax, step = rmax/50)\n",
    "    s = Q/2/np.pi/T*besselk(0,r/np.sqrt(Tfit*cfit))\n",
    "    fig = plt.figure(facecolor='w'); ax = fig.add_subplot()\n",
    "    if wcb.value: \n",
    "        ax.set_xscale('log'); xtext = 1\n",
    "    else:\n",
    "        xtext = 130\n",
    "    plt.plot (rfit,srfit, 'o', label = 'observation' )\n",
    "    plt.plot (r,s, '.-', label = 'modelled' )\n",
    "    plt.xlabel('distance [m]',fontsize=12)\n",
    "    plt.ylabel('drawdown [m]',fontsize=12)\n",
    "    ax.grid(b=True, c='w', lw=2, ls='-')\n",
    "    plt.legend(loc = 'upper right',fontsize=12)\n",
    "    ax.text (xtext,.7*smax,'$T = %.1f m^2/d$' % (Tfit, ),fontsize=12)\n",
    "    ax.text (xtext,.6*smax,'$c =%.0f d$' % (cfit, ),fontsize=12)\n",
    "    ax.text (xtext,.5*smax,'2-norm = $%.3e $' % (norms, ),fontsize=12)\n",
    "    ax.text (xtext,.4*smax,'stdev = $%.3e $' % (stdev, ),fontsize=12)\n",
    "    plt.title('Pump test: Oude Korendijk, Curve Fitting: de Glee', fontsize = 14)\n",
    "    T2 = Tfit\n",
    "\n",
    "wdg = widgets.Button(description='Leaky aquifer fit')        \n",
    "wdg.on_click(on_wdg_clicked)   \n",
    "wcb = widgets.Checkbox(value=False, description='log', disabled=False, indent=False)\n",
    "widgets.HBox([wdg,wcb]) "
   ]
  },
  {
   "cell_type": "markdown",
   "metadata": {
    "hideCode": false,
    "hidePrompt": false,
    "hide_input": false
   },
   "source": [
    "Again we can obtain the hydraulic conductivity $K$ if the aquifer thickness is known:  "
   ]
  },
  {
   "cell_type": "code",
   "execution_count": 11,
   "metadata": {
    "hideCode": false,
    "hidePrompt": false,
    "hide_input": false,
    "scrolled": true
   },
   "outputs": [
    {
     "data": {
      "application/vnd.jupyter.widget-view+json": {
       "model_id": "cfc1faaf9c8745f7b6a7b5d86a88f448",
       "version_major": 2,
       "version_minor": 0
      },
      "text/plain": [
       "BoundedFloatText(value=7.0, description='Thickness:', max=15.0, min=1.0, step=1.5)"
      ]
     },
     "metadata": {},
     "output_type": "display_data"
    }
   ],
   "source": [
    "wD2 = widgets.BoundedFloatText(value=7, min=1, max=15.0, step=1.5, description='Thickness:', disabled=False)\n",
    "wD2"
   ]
  },
  {
   "cell_type": "markdown",
   "metadata": {
    "hideCode": false,
    "hidePrompt": false
   },
   "source": [
    " Obtain the result by clicking the button. "
   ]
  },
  {
   "cell_type": "code",
   "execution_count": 12,
   "metadata": {
    "hideCode": false,
    "hidePrompt": false,
    "hide_input": true,
    "scrolled": true
   },
   "outputs": [
    {
     "data": {
      "application/vnd.jupyter.widget-view+json": {
       "model_id": "51d843a4b10c46dcb64a45c61b16c035",
       "version_major": 2,
       "version_minor": 0
      },
      "text/plain": [
       "Button(description='Compute K', style=ButtonStyle())"
      ]
     },
     "metadata": {},
     "output_type": "display_data"
    }
   ],
   "source": [
    "btn = widgets.Button(description='Compute K')\n",
    "display(btn)\n",
    "\n",
    "def btn_eventhandler(obj):    \n",
    "    print('K = {:.0f} m/d'.format(T2/wD2.value))\n",
    "\n",
    "btn.on_click(btn_eventhandler) "
   ]
  },
  {
   "cell_type": "markdown",
   "metadata": {
    "hideCode": false,
    "hidePrompt": false
   },
   "source": [
    "## Unsteady Data Input and Visualization"
   ]
  },
  {
   "cell_type": "markdown",
   "metadata": {
    "hideCode": false,
    "hidePrompt": false
   },
   "source": [
    "Our focus will be on the two observation points at intermediate distances, i.e 30 and 90 m away from the pumping well. The one in direct vicinity may be influenced by local conditions around the well, which may be disturbed due to the drilling and installation of the well and the so called skin effect. The most distant observation point may be influenced by boundary conditions. The polders in the Netherlands are surrounded by surface water bodies, the Rhine river and trenches filled by drainage water.  "
   ]
  },
  {
   "cell_type": "markdown",
   "metadata": {
    "hideCode": false,
    "hidePrompt": false,
    "hide_input": false
   },
   "source": [
    "The following figures show the drawdown measurements at the two intermediate observation points: observation H30 for the one in 30 m distance, observation H90 for the one in 90 m distance. The data for the pumping test are read into this notebook.  "
   ]
  },
  {
   "cell_type": "code",
   "execution_count": 13,
   "metadata": {
    "hideCode": false,
    "hidePrompt": false,
    "hide_input": true,
    "jupyter": {
     "outputs_hidden": false
    },
    "scrolled": false
   },
   "outputs": [
    {
     "name": "stdout",
     "output_type": "stream",
     "text": [
      "Data ready\n"
     ]
    }
   ],
   "source": [
    "df = pd.DataFrame(columns=['t1','s1','t2','s2'])\n",
    "\n",
    "#def on_wini_clicked(self):\n",
    "#      y = pd.read_excel('ok.xlsx',header=None)               \n",
    "#      df['t1'] = y[0].dropna()/60; df['s1'] = y[1].dropna() \n",
    "#      df['t2'] = y[2].dropna()/60; df['s2'] = y[3].dropna()\n",
    "df['t1'] =[6,15,30,42,60,84,114,139.8,168,201.6,240,321,408,498,522,600,786, \n",
    "           1080,1620,1980,2460,2880,3540,4800,5700,8340,10860,14700,18000,21600,\n",
    "           28800,36000,43680,49800,50000]                # time in seconds!\n",
    "df['s1'] =[0.04,0.08,0.13,0.18,0.23,0.28,0.33,0.36,0.39,0.42,0.45,0.5,0.54,0.57,\n",
    "           0.58,0.6,0.64,0.68,0.742,0.753,0.779,0.793,0.819,0.855,0.873,0.915,\n",
    "           0.935,0.966,0.99,1.007,1.05,1.053,1.072,1.088,1.088]\n",
    "df['t2'] =[90,120,129.6,159.6,180,210,240,259.8,330,360,450,540,780,900,1080,\n",
    "           1500,1800,2400,3180,3600,4500,5400,6300,7200,9000,10800,14880,18060,\n",
    "           21780,25320,32520,36120,40800,47100,50700]\n",
    "df['s2'] =[0.015,0.021,0.023,0.044,0.054,.075,.09,.104,.133,.153,.178,.206,.25,\n",
    "           .275,.305,.348,.364,.404,.429,.444,.467,.494,.507,.528,.55,.569,.593,\n",
    "           .614,.636,.657,.679,.688,.701,.718,.716]\n",
    "df['t1'] = df['t1']/60\n",
    "df['t2'] = df['t2']/60\n",
    "print ('Data ready')\n",
    "global kD, Sc\n",
    "    \n",
    "#wini = widgets.Button(description='Input data')        \n",
    "#wini.on_click(on_wini_clicked) \n",
    "#wini   "
   ]
  },
  {
   "cell_type": "markdown",
   "metadata": {
    "hideCode": false,
    "hidePrompt": false,
    "hide_input": false
   },
   "source": [
    "Let's see how the data look like. "
   ]
  },
  {
   "cell_type": "code",
   "execution_count": 14,
   "metadata": {
    "hideCode": false,
    "hidePrompt": false,
    "hide_input": true,
    "jupyter": {
     "outputs_hidden": false
    },
    "scrolled": false
   },
   "outputs": [
    {
     "data": {
      "application/vnd.jupyter.widget-view+json": {
       "model_id": "2419cd60251847ffb4df7c1e5a2c5423",
       "version_major": 2,
       "version_minor": 0
      },
      "text/plain": [
       "VBox(children=(Button(description='Plot data', style=ButtonStyle()),))"
      ]
     },
     "metadata": {},
     "output_type": "display_data"
    }
   ],
   "source": [
    "def on_wp0_clicked(self):\n",
    "    plt.rcParams[\"figure.figsize\"] = (10,5) \n",
    "    fig = plt.figure(facecolor='w'); ax = fig.add_subplot()\n",
    "    plt.plot (df['t1'],df['s1'], '.-', label = 'observation H30' )\n",
    "    plt.plot (df['t2'],df['s2'], '.-', label = 'observation H90' )\n",
    "    plt.title('Oude Korendijk pumping test measured drawdowns',fontsize=14)\n",
    "    plt.xlabel('time [min]',fontsize=12)\n",
    "    plt.ylabel('drawdown [m]',fontsize=12)\n",
    "    plt.grid()\n",
    "    plt.legend(loc = 'lower right',fontsize=12);\n",
    "    \n",
    "wp0 = widgets.Button(description='Plot data')        \n",
    "wp0.on_click(on_wp0_clicked)   \n",
    "widgets.VBox([wp0])    "
   ]
  },
  {
   "cell_type": "markdown",
   "metadata": {
    "hideCode": false,
    "hidePrompt": false
   },
   "source": [
    "Obviously a steady state has not been reached at the end of the pump test. The visual inspection of the plot indicates that there is a constant difference between the drawdowns in the two observation wells. This would justify the application of the Thiem evaluation, as there only the difference counts. We call this situation either quasi steady-state or steady slope. Lets check the difference in a graph. "
   ]
  },
  {
   "cell_type": "code",
   "execution_count": 15,
   "metadata": {
    "hideCode": false,
    "hidePrompt": false,
    "hide_input": false,
    "jupyter": {
     "outputs_hidden": false
    },
    "scrolled": false
   },
   "outputs": [
    {
     "data": {
      "application/vnd.jupyter.widget-view+json": {
       "model_id": "2a6c58d74bbb4b44b66268bf40952b04",
       "version_major": 2,
       "version_minor": 0
      },
      "text/plain": [
       "VBox(children=(Button(description='Drawdown difference', style=ButtonStyle()),))"
      ]
     },
     "metadata": {},
     "output_type": "display_data"
    }
   ],
   "source": [
    "from scipy.interpolate import interp1d\n",
    "\n",
    "def on_wp1_clicked(self):\n",
    "    plt.rcParams[\"figure.figsize\"] = (10,5) \n",
    "    fig = plt.figure(facecolor='w'); ax = fig.add_subplot()\n",
    "    f30 = interp1d(df['t1'],df['s1']); f90 = interp1d(df['t2'],df['s2'])\n",
    "    t = np.arange(6,780.0,step=1)\n",
    "    plt.plot (t, f30(t)-f90(t), 'g', label = 'H30-H90' )\n",
    "    plt.title('Drawdown difference',fontsize=14)\n",
    "    plt.xlabel('time [min]',fontsize=12)\n",
    "    plt.ylabel('drawdown difference [m]',fontsize=12)\n",
    "    plt.ylim ([0., 0.6])\n",
    "    plt.grid()\n",
    "    plt.legend(loc = 'lower right',fontsize=12);\n",
    "    \n",
    "wp1 = widgets.Button(description='Drawdown difference')        \n",
    "wp1.on_click(on_wp1_clicked)   \n",
    "widgets.VBox([wp1])    "
   ]
  },
  {
   "cell_type": "markdown",
   "metadata": {
    "hideCode": false,
    "hidePrompt": false,
    "hide_input": true
   },
   "source": [
    "One can visualize the same data using log scale for time: "
   ]
  },
  {
   "cell_type": "code",
   "execution_count": 16,
   "metadata": {
    "hideCode": false,
    "hidePrompt": false,
    "hide_input": false,
    "scrolled": false
   },
   "outputs": [
    {
     "data": {
      "application/vnd.jupyter.widget-view+json": {
       "model_id": "71cb33024539452787af047080eca67f",
       "version_major": 2,
       "version_minor": 0
      },
      "text/plain": [
       "VBox(children=(Button(description='Plot log scale', style=ButtonStyle()),))"
      ]
     },
     "metadata": {},
     "output_type": "display_data"
    },
    {
     "data": {
      "application/javascript": [
       "/* Put everything inside the global mpl namespace */\n",
       "window.mpl = {};\n",
       "\n",
       "\n",
       "mpl.get_websocket_type = function() {\n",
       "    if (typeof(WebSocket) !== 'undefined') {\n",
       "        return WebSocket;\n",
       "    } else if (typeof(MozWebSocket) !== 'undefined') {\n",
       "        return MozWebSocket;\n",
       "    } else {\n",
       "        alert('Your browser does not have WebSocket support. ' +\n",
       "              'Please try Chrome, Safari or Firefox ≥ 6. ' +\n",
       "              'Firefox 4 and 5 are also supported but you ' +\n",
       "              'have to enable WebSockets in about:config.');\n",
       "    };\n",
       "}\n",
       "\n",
       "mpl.figure = function(figure_id, websocket, ondownload, parent_element) {\n",
       "    this.id = figure_id;\n",
       "\n",
       "    this.ws = websocket;\n",
       "\n",
       "    this.supports_binary = (this.ws.binaryType != undefined);\n",
       "\n",
       "    if (!this.supports_binary) {\n",
       "        var warnings = document.getElementById(\"mpl-warnings\");\n",
       "        if (warnings) {\n",
       "            warnings.style.display = 'block';\n",
       "            warnings.textContent = (\n",
       "                \"This browser does not support binary websocket messages. \" +\n",
       "                    \"Performance may be slow.\");\n",
       "        }\n",
       "    }\n",
       "\n",
       "    this.imageObj = new Image();\n",
       "\n",
       "    this.context = undefined;\n",
       "    this.message = undefined;\n",
       "    this.canvas = undefined;\n",
       "    this.rubberband_canvas = undefined;\n",
       "    this.rubberband_context = undefined;\n",
       "    this.format_dropdown = undefined;\n",
       "\n",
       "    this.image_mode = 'full';\n",
       "\n",
       "    this.root = $('<div/>');\n",
       "    this._root_extra_style(this.root)\n",
       "    this.root.attr('style', 'display: inline-block');\n",
       "\n",
       "    $(parent_element).append(this.root);\n",
       "\n",
       "    this._init_header(this);\n",
       "    this._init_canvas(this);\n",
       "    this._init_toolbar(this);\n",
       "\n",
       "    var fig = this;\n",
       "\n",
       "    this.waiting = false;\n",
       "\n",
       "    this.ws.onopen =  function () {\n",
       "            fig.send_message(\"supports_binary\", {value: fig.supports_binary});\n",
       "            fig.send_message(\"send_image_mode\", {});\n",
       "            if (mpl.ratio != 1) {\n",
       "                fig.send_message(\"set_dpi_ratio\", {'dpi_ratio': mpl.ratio});\n",
       "            }\n",
       "            fig.send_message(\"refresh\", {});\n",
       "        }\n",
       "\n",
       "    this.imageObj.onload = function() {\n",
       "            if (fig.image_mode == 'full') {\n",
       "                // Full images could contain transparency (where diff images\n",
       "                // almost always do), so we need to clear the canvas so that\n",
       "                // there is no ghosting.\n",
       "                fig.context.clearRect(0, 0, fig.canvas.width, fig.canvas.height);\n",
       "            }\n",
       "            fig.context.drawImage(fig.imageObj, 0, 0);\n",
       "        };\n",
       "\n",
       "    this.imageObj.onunload = function() {\n",
       "        fig.ws.close();\n",
       "    }\n",
       "\n",
       "    this.ws.onmessage = this._make_on_message_function(this);\n",
       "\n",
       "    this.ondownload = ondownload;\n",
       "}\n",
       "\n",
       "mpl.figure.prototype._init_header = function() {\n",
       "    var titlebar = $(\n",
       "        '<div class=\"ui-dialog-titlebar ui-widget-header ui-corner-all ' +\n",
       "        'ui-helper-clearfix\"/>');\n",
       "    var titletext = $(\n",
       "        '<div class=\"ui-dialog-title\" style=\"width: 100%; ' +\n",
       "        'text-align: center; padding: 3px;\"/>');\n",
       "    titlebar.append(titletext)\n",
       "    this.root.append(titlebar);\n",
       "    this.header = titletext[0];\n",
       "}\n",
       "\n",
       "\n",
       "\n",
       "mpl.figure.prototype._canvas_extra_style = function(canvas_div) {\n",
       "\n",
       "}\n",
       "\n",
       "\n",
       "mpl.figure.prototype._root_extra_style = function(canvas_div) {\n",
       "\n",
       "}\n",
       "\n",
       "mpl.figure.prototype._init_canvas = function() {\n",
       "    var fig = this;\n",
       "\n",
       "    var canvas_div = $('<div/>');\n",
       "\n",
       "    canvas_div.attr('style', 'position: relative; clear: both; outline: 0');\n",
       "\n",
       "    function canvas_keyboard_event(event) {\n",
       "        return fig.key_event(event, event['data']);\n",
       "    }\n",
       "\n",
       "    canvas_div.keydown('key_press', canvas_keyboard_event);\n",
       "    canvas_div.keyup('key_release', canvas_keyboard_event);\n",
       "    this.canvas_div = canvas_div\n",
       "    this._canvas_extra_style(canvas_div)\n",
       "    this.root.append(canvas_div);\n",
       "\n",
       "    var canvas = $('<canvas/>');\n",
       "    canvas.addClass('mpl-canvas');\n",
       "    canvas.attr('style', \"left: 0; top: 0; z-index: 0; outline: 0\")\n",
       "\n",
       "    this.canvas = canvas[0];\n",
       "    this.context = canvas[0].getContext(\"2d\");\n",
       "\n",
       "    var backingStore = this.context.backingStorePixelRatio ||\n",
       "\tthis.context.webkitBackingStorePixelRatio ||\n",
       "\tthis.context.mozBackingStorePixelRatio ||\n",
       "\tthis.context.msBackingStorePixelRatio ||\n",
       "\tthis.context.oBackingStorePixelRatio ||\n",
       "\tthis.context.backingStorePixelRatio || 1;\n",
       "\n",
       "    mpl.ratio = (window.devicePixelRatio || 1) / backingStore;\n",
       "\n",
       "    var rubberband = $('<canvas/>');\n",
       "    rubberband.attr('style', \"position: absolute; left: 0; top: 0; z-index: 1;\")\n",
       "\n",
       "    var pass_mouse_events = true;\n",
       "\n",
       "    canvas_div.resizable({\n",
       "        start: function(event, ui) {\n",
       "            pass_mouse_events = false;\n",
       "        },\n",
       "        resize: function(event, ui) {\n",
       "            fig.request_resize(ui.size.width, ui.size.height);\n",
       "        },\n",
       "        stop: function(event, ui) {\n",
       "            pass_mouse_events = true;\n",
       "            fig.request_resize(ui.size.width, ui.size.height);\n",
       "        },\n",
       "    });\n",
       "\n",
       "    function mouse_event_fn(event) {\n",
       "        if (pass_mouse_events)\n",
       "            return fig.mouse_event(event, event['data']);\n",
       "    }\n",
       "\n",
       "    rubberband.mousedown('button_press', mouse_event_fn);\n",
       "    rubberband.mouseup('button_release', mouse_event_fn);\n",
       "    // Throttle sequential mouse events to 1 every 20ms.\n",
       "    rubberband.mousemove('motion_notify', mouse_event_fn);\n",
       "\n",
       "    rubberband.mouseenter('figure_enter', mouse_event_fn);\n",
       "    rubberband.mouseleave('figure_leave', mouse_event_fn);\n",
       "\n",
       "    canvas_div.on(\"wheel\", function (event) {\n",
       "        event = event.originalEvent;\n",
       "        event['data'] = 'scroll'\n",
       "        if (event.deltaY < 0) {\n",
       "            event.step = 1;\n",
       "        } else {\n",
       "            event.step = -1;\n",
       "        }\n",
       "        mouse_event_fn(event);\n",
       "    });\n",
       "\n",
       "    canvas_div.append(canvas);\n",
       "    canvas_div.append(rubberband);\n",
       "\n",
       "    this.rubberband = rubberband;\n",
       "    this.rubberband_canvas = rubberband[0];\n",
       "    this.rubberband_context = rubberband[0].getContext(\"2d\");\n",
       "    this.rubberband_context.strokeStyle = \"#000000\";\n",
       "\n",
       "    this._resize_canvas = function(width, height) {\n",
       "        // Keep the size of the canvas, canvas container, and rubber band\n",
       "        // canvas in synch.\n",
       "        canvas_div.css('width', width)\n",
       "        canvas_div.css('height', height)\n",
       "\n",
       "        canvas.attr('width', width * mpl.ratio);\n",
       "        canvas.attr('height', height * mpl.ratio);\n",
       "        canvas.attr('style', 'width: ' + width + 'px; height: ' + height + 'px;');\n",
       "\n",
       "        rubberband.attr('width', width);\n",
       "        rubberband.attr('height', height);\n",
       "    }\n",
       "\n",
       "    // Set the figure to an initial 600x600px, this will subsequently be updated\n",
       "    // upon first draw.\n",
       "    this._resize_canvas(600, 600);\n",
       "\n",
       "    // Disable right mouse context menu.\n",
       "    $(this.rubberband_canvas).bind(\"contextmenu\",function(e){\n",
       "        return false;\n",
       "    });\n",
       "\n",
       "    function set_focus () {\n",
       "        canvas.focus();\n",
       "        canvas_div.focus();\n",
       "    }\n",
       "\n",
       "    window.setTimeout(set_focus, 100);\n",
       "}\n",
       "\n",
       "mpl.figure.prototype._init_toolbar = function() {\n",
       "    var fig = this;\n",
       "\n",
       "    var nav_element = $('<div/>');\n",
       "    nav_element.attr('style', 'width: 100%');\n",
       "    this.root.append(nav_element);\n",
       "\n",
       "    // Define a callback function for later on.\n",
       "    function toolbar_event(event) {\n",
       "        return fig.toolbar_button_onclick(event['data']);\n",
       "    }\n",
       "    function toolbar_mouse_event(event) {\n",
       "        return fig.toolbar_button_onmouseover(event['data']);\n",
       "    }\n",
       "\n",
       "    for(var toolbar_ind in mpl.toolbar_items) {\n",
       "        var name = mpl.toolbar_items[toolbar_ind][0];\n",
       "        var tooltip = mpl.toolbar_items[toolbar_ind][1];\n",
       "        var image = mpl.toolbar_items[toolbar_ind][2];\n",
       "        var method_name = mpl.toolbar_items[toolbar_ind][3];\n",
       "\n",
       "        if (!name) {\n",
       "            // put a spacer in here.\n",
       "            continue;\n",
       "        }\n",
       "        var button = $('<button/>');\n",
       "        button.addClass('ui-button ui-widget ui-state-default ui-corner-all ' +\n",
       "                        'ui-button-icon-only');\n",
       "        button.attr('role', 'button');\n",
       "        button.attr('aria-disabled', 'false');\n",
       "        button.click(method_name, toolbar_event);\n",
       "        button.mouseover(tooltip, toolbar_mouse_event);\n",
       "\n",
       "        var icon_img = $('<span/>');\n",
       "        icon_img.addClass('ui-button-icon-primary ui-icon');\n",
       "        icon_img.addClass(image);\n",
       "        icon_img.addClass('ui-corner-all');\n",
       "\n",
       "        var tooltip_span = $('<span/>');\n",
       "        tooltip_span.addClass('ui-button-text');\n",
       "        tooltip_span.html(tooltip);\n",
       "\n",
       "        button.append(icon_img);\n",
       "        button.append(tooltip_span);\n",
       "\n",
       "        nav_element.append(button);\n",
       "    }\n",
       "\n",
       "    var fmt_picker_span = $('<span/>');\n",
       "\n",
       "    var fmt_picker = $('<select/>');\n",
       "    fmt_picker.addClass('mpl-toolbar-option ui-widget ui-widget-content');\n",
       "    fmt_picker_span.append(fmt_picker);\n",
       "    nav_element.append(fmt_picker_span);\n",
       "    this.format_dropdown = fmt_picker[0];\n",
       "\n",
       "    for (var ind in mpl.extensions) {\n",
       "        var fmt = mpl.extensions[ind];\n",
       "        var option = $(\n",
       "            '<option/>', {selected: fmt === mpl.default_extension}).html(fmt);\n",
       "        fmt_picker.append(option);\n",
       "    }\n",
       "\n",
       "    // Add hover states to the ui-buttons\n",
       "    $( \".ui-button\" ).hover(\n",
       "        function() { $(this).addClass(\"ui-state-hover\");},\n",
       "        function() { $(this).removeClass(\"ui-state-hover\");}\n",
       "    );\n",
       "\n",
       "    var status_bar = $('<span class=\"mpl-message\"/>');\n",
       "    nav_element.append(status_bar);\n",
       "    this.message = status_bar[0];\n",
       "}\n",
       "\n",
       "mpl.figure.prototype.request_resize = function(x_pixels, y_pixels) {\n",
       "    // Request matplotlib to resize the figure. Matplotlib will then trigger a resize in the client,\n",
       "    // which will in turn request a refresh of the image.\n",
       "    this.send_message('resize', {'width': x_pixels, 'height': y_pixels});\n",
       "}\n",
       "\n",
       "mpl.figure.prototype.send_message = function(type, properties) {\n",
       "    properties['type'] = type;\n",
       "    properties['figure_id'] = this.id;\n",
       "    this.ws.send(JSON.stringify(properties));\n",
       "}\n",
       "\n",
       "mpl.figure.prototype.send_draw_message = function() {\n",
       "    if (!this.waiting) {\n",
       "        this.waiting = true;\n",
       "        this.ws.send(JSON.stringify({type: \"draw\", figure_id: this.id}));\n",
       "    }\n",
       "}\n",
       "\n",
       "\n",
       "mpl.figure.prototype.handle_save = function(fig, msg) {\n",
       "    var format_dropdown = fig.format_dropdown;\n",
       "    var format = format_dropdown.options[format_dropdown.selectedIndex].value;\n",
       "    fig.ondownload(fig, format);\n",
       "}\n",
       "\n",
       "\n",
       "mpl.figure.prototype.handle_resize = function(fig, msg) {\n",
       "    var size = msg['size'];\n",
       "    if (size[0] != fig.canvas.width || size[1] != fig.canvas.height) {\n",
       "        fig._resize_canvas(size[0], size[1]);\n",
       "        fig.send_message(\"refresh\", {});\n",
       "    };\n",
       "}\n",
       "\n",
       "mpl.figure.prototype.handle_rubberband = function(fig, msg) {\n",
       "    var x0 = msg['x0'] / mpl.ratio;\n",
       "    var y0 = (fig.canvas.height - msg['y0']) / mpl.ratio;\n",
       "    var x1 = msg['x1'] / mpl.ratio;\n",
       "    var y1 = (fig.canvas.height - msg['y1']) / mpl.ratio;\n",
       "    x0 = Math.floor(x0) + 0.5;\n",
       "    y0 = Math.floor(y0) + 0.5;\n",
       "    x1 = Math.floor(x1) + 0.5;\n",
       "    y1 = Math.floor(y1) + 0.5;\n",
       "    var min_x = Math.min(x0, x1);\n",
       "    var min_y = Math.min(y0, y1);\n",
       "    var width = Math.abs(x1 - x0);\n",
       "    var height = Math.abs(y1 - y0);\n",
       "\n",
       "    fig.rubberband_context.clearRect(\n",
       "        0, 0, fig.canvas.width / mpl.ratio, fig.canvas.height / mpl.ratio);\n",
       "\n",
       "    fig.rubberband_context.strokeRect(min_x, min_y, width, height);\n",
       "}\n",
       "\n",
       "mpl.figure.prototype.handle_figure_label = function(fig, msg) {\n",
       "    // Updates the figure title.\n",
       "    fig.header.textContent = msg['label'];\n",
       "}\n",
       "\n",
       "mpl.figure.prototype.handle_cursor = function(fig, msg) {\n",
       "    var cursor = msg['cursor'];\n",
       "    switch(cursor)\n",
       "    {\n",
       "    case 0:\n",
       "        cursor = 'pointer';\n",
       "        break;\n",
       "    case 1:\n",
       "        cursor = 'default';\n",
       "        break;\n",
       "    case 2:\n",
       "        cursor = 'crosshair';\n",
       "        break;\n",
       "    case 3:\n",
       "        cursor = 'move';\n",
       "        break;\n",
       "    }\n",
       "    fig.rubberband_canvas.style.cursor = cursor;\n",
       "}\n",
       "\n",
       "mpl.figure.prototype.handle_message = function(fig, msg) {\n",
       "    fig.message.textContent = msg['message'];\n",
       "}\n",
       "\n",
       "mpl.figure.prototype.handle_draw = function(fig, msg) {\n",
       "    // Request the server to send over a new figure.\n",
       "    fig.send_draw_message();\n",
       "}\n",
       "\n",
       "mpl.figure.prototype.handle_image_mode = function(fig, msg) {\n",
       "    fig.image_mode = msg['mode'];\n",
       "}\n",
       "\n",
       "mpl.figure.prototype.updated_canvas_event = function() {\n",
       "    // Called whenever the canvas gets updated.\n",
       "    this.send_message(\"ack\", {});\n",
       "}\n",
       "\n",
       "// A function to construct a web socket function for onmessage handling.\n",
       "// Called in the figure constructor.\n",
       "mpl.figure.prototype._make_on_message_function = function(fig) {\n",
       "    return function socket_on_message(evt) {\n",
       "        if (evt.data instanceof Blob) {\n",
       "            /* FIXME: We get \"Resource interpreted as Image but\n",
       "             * transferred with MIME type text/plain:\" errors on\n",
       "             * Chrome.  But how to set the MIME type?  It doesn't seem\n",
       "             * to be part of the websocket stream */\n",
       "            evt.data.type = \"image/png\";\n",
       "\n",
       "            /* Free the memory for the previous frames */\n",
       "            if (fig.imageObj.src) {\n",
       "                (window.URL || window.webkitURL).revokeObjectURL(\n",
       "                    fig.imageObj.src);\n",
       "            }\n",
       "\n",
       "            fig.imageObj.src = (window.URL || window.webkitURL).createObjectURL(\n",
       "                evt.data);\n",
       "            fig.updated_canvas_event();\n",
       "            fig.waiting = false;\n",
       "            return;\n",
       "        }\n",
       "        else if (typeof evt.data === 'string' && evt.data.slice(0, 21) == \"data:image/png;base64\") {\n",
       "            fig.imageObj.src = evt.data;\n",
       "            fig.updated_canvas_event();\n",
       "            fig.waiting = false;\n",
       "            return;\n",
       "        }\n",
       "\n",
       "        var msg = JSON.parse(evt.data);\n",
       "        var msg_type = msg['type'];\n",
       "\n",
       "        // Call the  \"handle_{type}\" callback, which takes\n",
       "        // the figure and JSON message as its only arguments.\n",
       "        try {\n",
       "            var callback = fig[\"handle_\" + msg_type];\n",
       "        } catch (e) {\n",
       "            console.log(\"No handler for the '\" + msg_type + \"' message type: \", msg);\n",
       "            return;\n",
       "        }\n",
       "\n",
       "        if (callback) {\n",
       "            try {\n",
       "                // console.log(\"Handling '\" + msg_type + \"' message: \", msg);\n",
       "                callback(fig, msg);\n",
       "            } catch (e) {\n",
       "                console.log(\"Exception inside the 'handler_\" + msg_type + \"' callback:\", e, e.stack, msg);\n",
       "            }\n",
       "        }\n",
       "    };\n",
       "}\n",
       "\n",
       "// from http://stackoverflow.com/questions/1114465/getting-mouse-location-in-canvas\n",
       "mpl.findpos = function(e) {\n",
       "    //this section is from http://www.quirksmode.org/js/events_properties.html\n",
       "    var targ;\n",
       "    if (!e)\n",
       "        e = window.event;\n",
       "    if (e.target)\n",
       "        targ = e.target;\n",
       "    else if (e.srcElement)\n",
       "        targ = e.srcElement;\n",
       "    if (targ.nodeType == 3) // defeat Safari bug\n",
       "        targ = targ.parentNode;\n",
       "\n",
       "    // jQuery normalizes the pageX and pageY\n",
       "    // pageX,Y are the mouse positions relative to the document\n",
       "    // offset() returns the position of the element relative to the document\n",
       "    var x = e.pageX - $(targ).offset().left;\n",
       "    var y = e.pageY - $(targ).offset().top;\n",
       "\n",
       "    return {\"x\": x, \"y\": y};\n",
       "};\n",
       "\n",
       "/*\n",
       " * return a copy of an object with only non-object keys\n",
       " * we need this to avoid circular references\n",
       " * http://stackoverflow.com/a/24161582/3208463\n",
       " */\n",
       "function simpleKeys (original) {\n",
       "  return Object.keys(original).reduce(function (obj, key) {\n",
       "    if (typeof original[key] !== 'object')\n",
       "        obj[key] = original[key]\n",
       "    return obj;\n",
       "  }, {});\n",
       "}\n",
       "\n",
       "mpl.figure.prototype.mouse_event = function(event, name) {\n",
       "    var canvas_pos = mpl.findpos(event)\n",
       "\n",
       "    if (name === 'button_press')\n",
       "    {\n",
       "        this.canvas.focus();\n",
       "        this.canvas_div.focus();\n",
       "    }\n",
       "\n",
       "    var x = canvas_pos.x * mpl.ratio;\n",
       "    var y = canvas_pos.y * mpl.ratio;\n",
       "\n",
       "    this.send_message(name, {x: x, y: y, button: event.button,\n",
       "                             step: event.step,\n",
       "                             guiEvent: simpleKeys(event)});\n",
       "\n",
       "    /* This prevents the web browser from automatically changing to\n",
       "     * the text insertion cursor when the button is pressed.  We want\n",
       "     * to control all of the cursor setting manually through the\n",
       "     * 'cursor' event from matplotlib */\n",
       "    event.preventDefault();\n",
       "    return false;\n",
       "}\n",
       "\n",
       "mpl.figure.prototype._key_event_extra = function(event, name) {\n",
       "    // Handle any extra behaviour associated with a key event\n",
       "}\n",
       "\n",
       "mpl.figure.prototype.key_event = function(event, name) {\n",
       "\n",
       "    // Prevent repeat events\n",
       "    if (name == 'key_press')\n",
       "    {\n",
       "        if (event.which === this._key)\n",
       "            return;\n",
       "        else\n",
       "            this._key = event.which;\n",
       "    }\n",
       "    if (name == 'key_release')\n",
       "        this._key = null;\n",
       "\n",
       "    var value = '';\n",
       "    if (event.ctrlKey && event.which != 17)\n",
       "        value += \"ctrl+\";\n",
       "    if (event.altKey && event.which != 18)\n",
       "        value += \"alt+\";\n",
       "    if (event.shiftKey && event.which != 16)\n",
       "        value += \"shift+\";\n",
       "\n",
       "    value += 'k';\n",
       "    value += event.which.toString();\n",
       "\n",
       "    this._key_event_extra(event, name);\n",
       "\n",
       "    this.send_message(name, {key: value,\n",
       "                             guiEvent: simpleKeys(event)});\n",
       "    return false;\n",
       "}\n",
       "\n",
       "mpl.figure.prototype.toolbar_button_onclick = function(name) {\n",
       "    if (name == 'download') {\n",
       "        this.handle_save(this, null);\n",
       "    } else {\n",
       "        this.send_message(\"toolbar_button\", {name: name});\n",
       "    }\n",
       "};\n",
       "\n",
       "mpl.figure.prototype.toolbar_button_onmouseover = function(tooltip) {\n",
       "    this.message.textContent = tooltip;\n",
       "};\n",
       "mpl.toolbar_items = [[\"Home\", \"Reset original view\", \"fa fa-home icon-home\", \"home\"], [\"Back\", \"Back to previous view\", \"fa fa-arrow-left icon-arrow-left\", \"back\"], [\"Forward\", \"Forward to next view\", \"fa fa-arrow-right icon-arrow-right\", \"forward\"], [\"\", \"\", \"\", \"\"], [\"Pan\", \"Pan axes with left mouse, zoom with right\", \"fa fa-arrows icon-move\", \"pan\"], [\"Zoom\", \"Zoom to rectangle\", \"fa fa-square-o icon-check-empty\", \"zoom\"], [\"\", \"\", \"\", \"\"], [\"Download\", \"Download plot\", \"fa fa-floppy-o icon-save\", \"download\"]];\n",
       "\n",
       "mpl.extensions = [\"eps\", \"jpeg\", \"pdf\", \"png\", \"ps\", \"raw\", \"svg\", \"tif\"];\n",
       "\n",
       "mpl.default_extension = \"png\";var comm_websocket_adapter = function(comm) {\n",
       "    // Create a \"websocket\"-like object which calls the given IPython comm\n",
       "    // object with the appropriate methods. Currently this is a non binary\n",
       "    // socket, so there is still some room for performance tuning.\n",
       "    var ws = {};\n",
       "\n",
       "    ws.close = function() {\n",
       "        comm.close()\n",
       "    };\n",
       "    ws.send = function(m) {\n",
       "        //console.log('sending', m);\n",
       "        comm.send(m);\n",
       "    };\n",
       "    // Register the callback with on_msg.\n",
       "    comm.on_msg(function(msg) {\n",
       "        //console.log('receiving', msg['content']['data'], msg);\n",
       "        // Pass the mpl event to the overridden (by mpl) onmessage function.\n",
       "        ws.onmessage(msg['content']['data'])\n",
       "    });\n",
       "    return ws;\n",
       "}\n",
       "\n",
       "mpl.mpl_figure_comm = function(comm, msg) {\n",
       "    // This is the function which gets called when the mpl process\n",
       "    // starts-up an IPython Comm through the \"matplotlib\" channel.\n",
       "\n",
       "    var id = msg.content.data.id;\n",
       "    // Get hold of the div created by the display call when the Comm\n",
       "    // socket was opened in Python.\n",
       "    var element = $(\"#\" + id);\n",
       "    var ws_proxy = comm_websocket_adapter(comm)\n",
       "\n",
       "    function ondownload(figure, format) {\n",
       "        window.open(figure.imageObj.src);\n",
       "    }\n",
       "\n",
       "    var fig = new mpl.figure(id, ws_proxy,\n",
       "                           ondownload,\n",
       "                           element.get(0));\n",
       "\n",
       "    // Call onopen now - mpl needs it, as it is assuming we've passed it a real\n",
       "    // web socket which is closed, not our websocket->open comm proxy.\n",
       "    ws_proxy.onopen();\n",
       "\n",
       "    fig.parent_element = element.get(0);\n",
       "    fig.cell_info = mpl.find_output_cell(\"<div id='\" + id + \"'></div>\");\n",
       "    if (!fig.cell_info) {\n",
       "        console.error(\"Failed to find cell for figure\", id, fig);\n",
       "        return;\n",
       "    }\n",
       "\n",
       "    var output_index = fig.cell_info[2]\n",
       "    var cell = fig.cell_info[0];\n",
       "\n",
       "};\n",
       "\n",
       "mpl.figure.prototype.handle_close = function(fig, msg) {\n",
       "    var width = fig.canvas.width/mpl.ratio\n",
       "    fig.root.unbind('remove')\n",
       "\n",
       "    // Update the output cell to use the data from the current canvas.\n",
       "    fig.push_to_output();\n",
       "    var dataURL = fig.canvas.toDataURL();\n",
       "    // Re-enable the keyboard manager in IPython - without this line, in FF,\n",
       "    // the notebook keyboard shortcuts fail.\n",
       "    IPython.keyboard_manager.enable()\n",
       "    $(fig.parent_element).html('<img src=\"' + dataURL + '\" width=\"' + width + '\">');\n",
       "    fig.close_ws(fig, msg);\n",
       "}\n",
       "\n",
       "mpl.figure.prototype.close_ws = function(fig, msg){\n",
       "    fig.send_message('closing', msg);\n",
       "    // fig.ws.close()\n",
       "}\n",
       "\n",
       "mpl.figure.prototype.push_to_output = function(remove_interactive) {\n",
       "    // Turn the data on the canvas into data in the output cell.\n",
       "    var width = this.canvas.width/mpl.ratio\n",
       "    var dataURL = this.canvas.toDataURL();\n",
       "    this.cell_info[1]['text/html'] = '<img src=\"' + dataURL + '\" width=\"' + width + '\">';\n",
       "}\n",
       "\n",
       "mpl.figure.prototype.updated_canvas_event = function() {\n",
       "    // Tell IPython that the notebook contents must change.\n",
       "    IPython.notebook.set_dirty(true);\n",
       "    this.send_message(\"ack\", {});\n",
       "    var fig = this;\n",
       "    // Wait a second, then push the new image to the DOM so\n",
       "    // that it is saved nicely (might be nice to debounce this).\n",
       "    setTimeout(function () { fig.push_to_output() }, 1000);\n",
       "}\n",
       "\n",
       "mpl.figure.prototype._init_toolbar = function() {\n",
       "    var fig = this;\n",
       "\n",
       "    var nav_element = $('<div/>');\n",
       "    nav_element.attr('style', 'width: 100%');\n",
       "    this.root.append(nav_element);\n",
       "\n",
       "    // Define a callback function for later on.\n",
       "    function toolbar_event(event) {\n",
       "        return fig.toolbar_button_onclick(event['data']);\n",
       "    }\n",
       "    function toolbar_mouse_event(event) {\n",
       "        return fig.toolbar_button_onmouseover(event['data']);\n",
       "    }\n",
       "\n",
       "    for(var toolbar_ind in mpl.toolbar_items){\n",
       "        var name = mpl.toolbar_items[toolbar_ind][0];\n",
       "        var tooltip = mpl.toolbar_items[toolbar_ind][1];\n",
       "        var image = mpl.toolbar_items[toolbar_ind][2];\n",
       "        var method_name = mpl.toolbar_items[toolbar_ind][3];\n",
       "\n",
       "        if (!name) { continue; };\n",
       "\n",
       "        var button = $('<button class=\"btn btn-default\" href=\"#\" title=\"' + name + '\"><i class=\"fa ' + image + ' fa-lg\"></i></button>');\n",
       "        button.click(method_name, toolbar_event);\n",
       "        button.mouseover(tooltip, toolbar_mouse_event);\n",
       "        nav_element.append(button);\n",
       "    }\n",
       "\n",
       "    // Add the status bar.\n",
       "    var status_bar = $('<span class=\"mpl-message\" style=\"text-align:right; float: right;\"/>');\n",
       "    nav_element.append(status_bar);\n",
       "    this.message = status_bar[0];\n",
       "\n",
       "    // Add the close button to the window.\n",
       "    var buttongrp = $('<div class=\"btn-group inline pull-right\"></div>');\n",
       "    var button = $('<button class=\"btn btn-mini btn-primary\" href=\"#\" title=\"Stop Interaction\"><i class=\"fa fa-power-off icon-remove icon-large\"></i></button>');\n",
       "    button.click(function (evt) { fig.handle_close(fig, {}); } );\n",
       "    button.mouseover('Stop Interaction', toolbar_mouse_event);\n",
       "    buttongrp.append(button);\n",
       "    var titlebar = this.root.find($('.ui-dialog-titlebar'));\n",
       "    titlebar.prepend(buttongrp);\n",
       "}\n",
       "\n",
       "mpl.figure.prototype._root_extra_style = function(el){\n",
       "    var fig = this\n",
       "    el.on(\"remove\", function(){\n",
       "\tfig.close_ws(fig, {});\n",
       "    });\n",
       "}\n",
       "\n",
       "mpl.figure.prototype._canvas_extra_style = function(el){\n",
       "    // this is important to make the div 'focusable\n",
       "    el.attr('tabindex', 0)\n",
       "    // reach out to IPython and tell the keyboard manager to turn it's self\n",
       "    // off when our div gets focus\n",
       "\n",
       "    // location in version 3\n",
       "    if (IPython.notebook.keyboard_manager) {\n",
       "        IPython.notebook.keyboard_manager.register_events(el);\n",
       "    }\n",
       "    else {\n",
       "        // location in version 2\n",
       "        IPython.keyboard_manager.register_events(el);\n",
       "    }\n",
       "\n",
       "}\n",
       "\n",
       "mpl.figure.prototype._key_event_extra = function(event, name) {\n",
       "    var manager = IPython.notebook.keyboard_manager;\n",
       "    if (!manager)\n",
       "        manager = IPython.keyboard_manager;\n",
       "\n",
       "    // Check for shift+enter\n",
       "    if (event.shiftKey && event.which == 13) {\n",
       "        this.canvas_div.blur();\n",
       "        // select the cell after this one\n",
       "        var index = IPython.notebook.find_cell_index(this.cell_info[0]);\n",
       "        IPython.notebook.select(index + 1);\n",
       "    }\n",
       "}\n",
       "\n",
       "mpl.figure.prototype.handle_save = function(fig, msg) {\n",
       "    fig.ondownload(fig, null);\n",
       "}\n",
       "\n",
       "\n",
       "mpl.find_output_cell = function(html_output) {\n",
       "    // Return the cell and output element which can be found *uniquely* in the notebook.\n",
       "    // Note - this is a bit hacky, but it is done because the \"notebook_saving.Notebook\"\n",
       "    // IPython event is triggered only after the cells have been serialised, which for\n",
       "    // our purposes (turning an active figure into a static one), is too late.\n",
       "    var cells = IPython.notebook.get_cells();\n",
       "    var ncells = cells.length;\n",
       "    for (var i=0; i<ncells; i++) {\n",
       "        var cell = cells[i];\n",
       "        if (cell.cell_type === 'code'){\n",
       "            for (var j=0; j<cell.output_area.outputs.length; j++) {\n",
       "                var data = cell.output_area.outputs[j];\n",
       "                if (data.data) {\n",
       "                    // IPython >= 3 moved mimebundle to data attribute of output\n",
       "                    data = data.data;\n",
       "                }\n",
       "                if (data['text/html'] == html_output) {\n",
       "                    return [cell, data, j];\n",
       "                }\n",
       "            }\n",
       "        }\n",
       "    }\n",
       "}\n",
       "\n",
       "// Register the function which deals with the matplotlib target/channel.\n",
       "// The kernel may be null if the page has been refreshed.\n",
       "if (IPython.notebook.kernel != null) {\n",
       "    IPython.notebook.kernel.comm_manager.register_target('matplotlib', mpl.mpl_figure_comm);\n",
       "}\n"
      ],
      "text/plain": [
       "<IPython.core.display.Javascript object>"
      ]
     },
     "metadata": {},
     "output_type": "display_data"
    },
    {
     "data": {
      "text/html": [
       "<img src=\"data:image/png;base64,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\" width=\"720\">"
      ],
      "text/plain": [
       "<IPython.core.display.HTML object>"
      ]
     },
     "metadata": {},
     "output_type": "display_data"
    }
   ],
   "source": [
    "def on_wp2_clicked(self):\n",
    "    plt.rcParams[\"figure.figsize\"] = (10,5) \n",
    "    fig = plt.figure(facecolor='w'); ax = fig.add_subplot()\n",
    "    ax.set_xscale('log')\n",
    "    plt.plot (df['t1'],df['s1'], '.-', label = 'observation H30' )\n",
    "    plt.plot (df['t2'],df['s2'], '.-', label = 'observation H90' )\n",
    "    plt.title('Oude Korendijk pumping test measured drawdowns',fontsize=14)\n",
    "    plt.xlabel('time [min]',fontsize=12)\n",
    "    plt.ylabel('drawdown [m]',fontsize=12)\n",
    "    plt.grid()\n",
    "    plt.legend(loc = 'lower right',fontsize=12);\n",
    "\n",
    "wp2 = widgets.Button(description='Plot log scale')        \n",
    "wp2.on_click(on_wp2_clicked)   \n",
    "widgets.VBox([wp2]) "
   ]
  },
  {
   "cell_type": "markdown",
   "metadata": {
    "hideCode": false,
    "hidePrompt": false,
    "hide_input": true
   },
   "source": [
    "The same in the loglog system, with logarithmic scale on both axes:"
   ]
  },
  {
   "cell_type": "code",
   "execution_count": 17,
   "metadata": {
    "hideCode": false,
    "hidePrompt": false,
    "hide_input": true,
    "scrolled": false
   },
   "outputs": [
    {
     "data": {
      "application/vnd.jupyter.widget-view+json": {
       "model_id": "5ef451e880e84997a23275b39510f77d",
       "version_major": 2,
       "version_minor": 0
      },
      "text/plain": [
       "VBox(children=(Button(description='Plot loglog scale', style=ButtonStyle()),))"
      ]
     },
     "metadata": {},
     "output_type": "display_data"
    }
   ],
   "source": [
    "def on_wp3_clicked(self):\n",
    "    plt.rcParams[\"figure.figsize\"] = (10,5) \n",
    "    fig = plt.figure(facecolor='w'); ax = fig.add_subplot()\n",
    "    ax.set_xscale('log'); ax.set_yscale('log')\n",
    "    plt.plot (df['t1'],df['s1'], '.-', label = 'observation H30' )\n",
    "    plt.plot (df['t2'],df['s2'], '.-', label = 'observation H90' )\n",
    "    plt.title('Oude Korendijk pumping test measured drawdowns',fontsize=14)\n",
    "    plt.xlabel('time [min]',fontsize=12)\n",
    "    plt.ylabel('drawdown [m]',fontsize=12)\n",
    "    plt.grid()\n",
    "    plt.legend(loc = 'lower right',fontsize=12);\n",
    "    \n",
    "wp3 = widgets.Button(description='Plot loglog scale')        \n",
    "wp3.on_click(on_wp3_clicked)   \n",
    "widgets.VBox([wp3])     "
   ]
  },
  {
   "cell_type": "markdown",
   "metadata": {
    "hideCode": false,
    "hidePrompt": false
   },
   "source": [
    "For a comparison of the two curves it is convenient to visualize in double log scale using $t/r^2$ on $x$-axis. "
   ]
  },
  {
   "cell_type": "code",
   "execution_count": 18,
   "metadata": {
    "hideCode": false,
    "hidePrompt": false,
    "hide_input": true,
    "scrolled": false
   },
   "outputs": [
    {
     "data": {
      "application/vnd.jupyter.widget-view+json": {
       "model_id": "cfdc9b68f56648f18fe8bcc3e38faad7",
       "version_major": 2,
       "version_minor": 0
      },
      "text/plain": [
       "VBox(children=(Button(description='Plot t/r/r scale', style=ButtonStyle()),))"
      ]
     },
     "metadata": {},
     "output_type": "display_data"
    }
   ],
   "source": [
    "def on_wp4_clicked(self):\n",
    "    plt.rcParams[\"figure.figsize\"] = (10,5) \n",
    "    fig = plt.figure(facecolor='w'); ax = fig.add_subplot()\n",
    "    ax.set_xscale('log')\n",
    "    plt.plot (df['t1']/30/30,df['s1'], '.-', label = 'observation H30' )\n",
    "    plt.plot (df['t2']/90/90,df['s2'], '.-', label = 'observation H90' )\n",
    "    plt.title('Oude Korendijk pumping test measured drawdowns',fontsize=14)\n",
    "    plt.xlabel('$t/r^2$ [min/m$^2$]',fontsize=12)\n",
    "    plt.ylabel('drawdown [m]',fontsize=12)\n",
    "    plt.grid()\n",
    "    plt.legend(loc = 'lower right',fontsize=12);\n",
    "\n",
    "wp4 = widgets.Button(description='Plot t/r/r scale')        \n",
    "wp4.on_click(on_wp4_clicked)   \n",
    "widgets.VBox([wp4]) "
   ]
  },
  {
   "cell_type": "markdown",
   "metadata": {
    "hideCode": false,
    "hidePrompt": false
   },
   "source": [
    "## Interpretation based on the Theis Solution (Cooper-Jacob)"
   ]
  },
  {
   "cell_type": "markdown",
   "metadata": {
    "hideCode": false,
    "hidePrompt": false
   },
   "source": [
    "The solution for the unsteady drawdown due to a single well with fully penetrating screen in a uniform aquifer of infinite extent was first published by Theis (1935), using a mathematical derivation by Lubin, transfered in private communication. The solution revolutioned the science of hydrology (White & Clebsch 1994). The solution for drawdown $s$ as function of distance from the pumping well $r$ and time $t$ is given by:"
   ]
  },
  {
   "cell_type": "markdown",
   "metadata": {
    "hideCode": false,
    "hidePrompt": false
   },
   "source": [
    "$$ s(r, t) = \\frac Q {4 \\pi T} W(u),\\,\\,\\,\\, u = \\frac {r^2 S} {4 T t}$$"
   ]
  },
  {
   "cell_type": "markdown",
   "metadata": {
    "hideCode": false,
    "hidePrompt": false
   },
   "source": [
    "where $T$ denotes the transmissivity, $S$ the storage coefficient, and $Q$ the pumping rate. $W$ is the well function, in mathematical literature known as exponential integral. For evaluations before computers became generally available, is was handy to utilize simpler approximations for the well function. Cooper & Jacob (1946) proposed:    "
   ]
  },
  {
   "cell_type": "markdown",
   "metadata": {
    "hideCode": false,
    "hidePrompt": false
   },
   "source": [
    "$$ W(u) \\approx -0.2557 - \\ln(u) $$"
   ]
  },
  {
   "cell_type": "markdown",
   "metadata": {
    "hideCode": false,
    "hidePrompt": false
   },
   "source": [
    "which is a good approximation for $u \\le 0.01$ that is valid for long enough times and/or small enough distances from the well:"
   ]
  },
  {
   "cell_type": "markdown",
   "metadata": {
    "hideCode": false,
    "hidePrompt": false
   },
   "source": [
    "$$ s(r, t) \\approx \\frac {Q} {4 \\pi T} \\ln \\left( \\frac {2.25 T t} {r^2 S} \\right) $$ "
   ]
  },
  {
   "cell_type": "markdown",
   "metadata": {
    "hideCode": false,
    "hidePrompt": false
   },
   "source": [
    "$\\ln$ denotes the natural logarithm. The formula can be modified for the decadic logarithm: "
   ]
  },
  {
   "cell_type": "markdown",
   "metadata": {
    "hideCode": false,
    "hidePrompt": false
   },
   "source": [
    "$$ s(r,t) = \\frac {2.3 Q} {4 \\pi T} \\log \\left( \\frac {2.25 T t} {r^2 S} \\right) $$"
   ]
  },
  {
   "cell_type": "markdown",
   "metadata": {
    "hideCode": false,
    "hidePrompt": false
   },
   "source": [
    "For the observation point H30 determine the drawdown per log cycle from the double-log graph with $t/r^2$ axis $\\approx (1.1 - 0.21) / 3 \\approx 0.30 $"
   ]
  },
  {
   "cell_type": "markdown",
   "metadata": {
    "hideCode": false,
    "hidePrompt": false
   },
   "source": [
    "$$ \\Delta s = s_{10t} - s_t = \\frac {2.3 Q} {4 \\pi T} $$"
   ]
  },
  {
   "cell_type": "markdown",
   "metadata": {
    "hideCode": false,
    "hidePrompt": false
   },
   "source": [
    "or, resolved for $T$:"
   ]
  },
  {
   "cell_type": "markdown",
   "metadata": {
    "hideCode": false,
    "hidePrompt": false
   },
   "source": [
    "$$ T = \\frac {2.3 Q} {4 \\pi \\Delta s} $$"
   ]
  },
  {
   "cell_type": "markdown",
   "metadata": {
    "hideCode": false,
    "hidePrompt": false
   },
   "source": [
    "Notice that it doesn't matter in what dimension time is, at it drops out of the drawdown at $10t$ is compared with that at $t$. Therefore, with $Q$ = 788 m$^3$/d, one gets"
   ]
  },
  {
   "cell_type": "code",
   "execution_count": 19,
   "metadata": {
    "hideCode": false,
    "hidePrompt": false,
    "hide_input": true,
    "jupyter": {
     "outputs_hidden": false
    },
    "scrolled": true
   },
   "outputs": [
    {
     "name": "stdout",
     "output_type": "stream",
     "text": [
      "T = 486 m²/d\n"
     ]
    }
   ],
   "source": [
    "ds = (1.1 - 0.21) / 3 # drawdown increase per log cycle of time\n",
    "kD = 2.3 * Q / (4 * np.pi * ds)\n",
    "print('T = {:.0f}'.format(kD) + ' m' + chr(0x00b2) + '/d')"
   ]
  },
  {
   "cell_type": "markdown",
   "metadata": {
    "hideCode": false,
    "hidePrompt": false
   },
   "source": [
    "For the storage coefficient determine the intersection with the straight line with the line of zero drawdown. This is $t/r^2 = 2 \\times 10 ^{-4}$ min. \n",
    "Setting the argument of the solution equal to 1 so that the computed drawdown is 0 and using the already obtained transmissivity yields the storage coefficient:"
   ]
  },
  {
   "cell_type": "markdown",
   "metadata": {
    "hideCode": false,
    "hidePrompt": false
   },
   "source": [
    "$$ S = 2.25T\\cdot(\\frac{t}{r^2})_0 $$"
   ]
  },
  {
   "cell_type": "markdown",
   "metadata": {
    "hideCode": false,
    "hidePrompt": false
   },
   "source": [
    "We have to convert to days to get the answer consistent with the transmissivity."
   ]
  },
  {
   "cell_type": "code",
   "execution_count": 20,
   "metadata": {
    "hideCode": false,
    "hidePrompt": false,
    "hide_input": true,
    "jupyter": {
     "outputs_hidden": false
    },
    "scrolled": true
   },
   "outputs": [
    {
     "name": "stdout",
     "output_type": "stream",
     "text": [
      "S = 1.52e-04\n"
     ]
    }
   ],
   "source": [
    "tr2 = 2e-4 / (24 * 60) # d/m2\n",
    "Sc = 2.25 * kD * tr2\n",
    "print('S = {:.2e}'.format(Sc))"
   ]
  },
  {
   "cell_type": "markdown",
   "metadata": {
    "hideCode": false,
    "hidePrompt": false
   },
   "source": [
    "Clearly, the result depends somewhat on the exact straigt line drawn through the bundel of curves for the observation wells. In the ideal situation, these curves fall onto each other. In this real-world case this is not true, which is a result of the non-uniformity of the aquifer and inaccuracies in the measurements. The real world is less homogeneous than the analytic solution presumes.\n",
    "\n",
    "**Task**: Perform the Cooper-Jacob method of evaluation for the observations in borehole H90. Enter the values obtained from the plot and use the button for the evaluation."
   ]
  },
  {
   "cell_type": "code",
   "execution_count": 21,
   "metadata": {
    "hideCode": false,
    "hidePrompt": false,
    "hide_input": true,
    "scrolled": false
   },
   "outputs": [
    {
     "data": {
      "application/vnd.jupyter.widget-view+json": {
       "model_id": "61937c5851604a56918bb9bb8c8987f5",
       "version_major": 2,
       "version_minor": 0
      },
      "text/plain": [
       "HBox(children=(BoundedFloatText(value=0.3, description='$\\\\Delta S$:', max=10.0), BoundedFloatText(value=0.000…"
      ]
     },
     "metadata": {},
     "output_type": "display_data"
    }
   ],
   "source": [
    "wds = widgets.BoundedFloatText(value=0.3, min=0.0, max=10.0, description='$\\Delta S$:', disabled=False)\n",
    "w0 = widgets.BoundedFloatText(value=2e-4, min=0.0, max=1.e-1, description='$(t/r^2)_0$:', disabled=False)\n",
    "widgets.HBox([wds,w0]) "
   ]
  },
  {
   "cell_type": "code",
   "execution_count": 22,
   "metadata": {
    "hideCode": false,
    "hidePrompt": false,
    "hide_input": true
   },
   "outputs": [
    {
     "data": {
      "application/vnd.jupyter.widget-view+json": {
       "model_id": "de38aeb642d94ad2abe1d09369476286",
       "version_major": 2,
       "version_minor": 0
      },
      "text/plain": [
       "Button(description='Compute T,S', style=ButtonStyle())"
      ]
     },
     "metadata": {},
     "output_type": "display_data"
    }
   ],
   "source": [
    "btn = widgets.Button(description='Compute T,S')\n",
    "display(btn)\n",
    "\n",
    "def btn_eventhandler(obj):\n",
    "    global kD,Sc\n",
    "    kD = 2.3 * Q / (4 * np.pi * wds.value)\n",
    "    print('T = {:.0f}'.format(kD) + ' m' + chr(0x00b2) + '/d')\n",
    "    Sc = 2.25 * kD * w0.value/(24*60)\n",
    "    print('S = {:.2e}'.format(Sc))\n",
    "    \n",
    "btn.on_click(btn_eventhandler)    "
   ]
  },
  {
   "cell_type": "markdown",
   "metadata": {
    "hideCode": false,
    "hidePrompt": false,
    "hide_input": true
   },
   "source": [
    "## Classical Interpretation using the Match on Double Log Scales\n",
    "\n",
    "The classical interpretation plots the measured drawdowns (drawdown $s$ versus $t/r^2$ ) and compares them with the Theis type curve $W(u)$ versus $1/u$ also drawn on double log paper. Because $1/u = (4 T t) / (r^2 S)$ it follows that on logarithmic scales $1/u$ and $t/r^2$ differ only by a constant factor, which represents a horizontal shift on the log scale. The drawdown $s$ only differs the constant $Q/(4 \\pi T)$ from the well function $W(u)$, and so this implies a vertical shift on logarithmic scale. Hence the measured drawdown versus $t/r^2$ on double log scale looks exactly the same as the Theis type curve, but it is only shifted by a given distance along the horizontal axis and by a given distance along the vertical axis. These two shifts yield the sought transmissivity and storativity.\n",
    "\n",
    "### Manual Fitting\n",
    "\n",
    "The plot below depicts the Theis type curve and the drawdown $s$ multiplied by a factor $A$ plotted with $t/r^2$ multiplied by a factor $B$. $A$ and $B$ were changed until the measured and the type curve match best. In this worked out example, the values of $A$ and $B$ were obtained manually. The classical method was originally performed by shifting of the measurements drawn on double log paper over the Theis type curve also drawn on double log paper.  "
   ]
  },
  {
   "cell_type": "code",
   "execution_count": 23,
   "metadata": {
    "hideCode": false,
    "hidePrompt": false,
    "hide_input": false,
    "scrolled": false
   },
   "outputs": [
    {
     "data": {
      "application/vnd.jupyter.widget-view+json": {
       "model_id": "30e08a2deb3644a3bd2f71cd5a24f727",
       "version_major": 2,
       "version_minor": 0
      },
      "text/plain": [
       "Button(description='Show', style=ButtonStyle())"
      ]
     },
     "metadata": {},
     "output_type": "display_data"
    }
   ],
   "source": [
    "%matplotlib inline\n",
    "plt.rcParams[\"figure.figsize\"] = (10,5) \n",
    "\n",
    "btn = widgets.Button(description='Show')\n",
    "display(btn)\n",
    "\n",
    "def btn_eventhandler(obj):\n",
    "    plt.rcParams[\"figure.figsize\"] = (10,5)           \n",
    "    A = 7.0; B = 1.0e7\n",
    "    u = np.logspace(-4, 0.25, 41)\n",
    "    fig = plt.figure(facecolor='w'); ax = fig.add_subplot()\n",
    "\n",
    "    # the Theis type curve\n",
    "    plt.plot(1/u, exp1(u), label='Theis')\n",
    "\n",
    "    # The measurements\n",
    "    plt.plot (B*df['t1']/24/60/30/30,A*df['s1'], '.', label = 'observation H30' )\n",
    "    plt.plot (B*df['t2']/24/60/90/90,A*df['s2'], '.', label = 'observation H90' ) \n",
    "    ax.set_xscale('log'); ax.set_yscale('log')\n",
    "    plt.title('Type curve and $A \\cdot s$ vs $B \\cdot t/r^2$, with $A$={}, $B$={}'.format(A, B),fontsize=14)\n",
    "    plt.xlabel('$1/u$ and $B \\, t/r^2$',fontsize=12); plt.ylabel('W(u) and $A \\, s$',fontsize=12)\n",
    "    plt.xscale('log'); plt.yscale('log')\n",
    "    plt.grid()\n",
    "    plt.legend(loc='lower right',fontsize=12);\n",
    "    \n",
    "btn.on_click(btn_eventhandler)     "
   ]
  },
  {
   "cell_type": "markdown",
   "metadata": {
    "hideCode": false,
    "hidePrompt": false,
    "hide_input": false
   },
   "source": [
    "So $A \\cdot s = W(u)$ and $s = \\frac Q {2 \\pi T} W(u)$ and, therefore $A = \\frac {4 \\pi T} {Q}$ and $ T = \\frac {A Q} {4 \\pi}$. The result is calculated in the next cell."
   ]
  },
  {
   "cell_type": "code",
   "execution_count": 24,
   "metadata": {
    "hideCode": false,
    "hidePrompt": false,
    "hide_input": true,
    "scrolled": true
   },
   "outputs": [
    {
     "name": "stdout",
     "output_type": "stream",
     "text": [
      "T = 439 [m^2/d]\n"
     ]
    }
   ],
   "source": [
    "A = 7.0\n",
    "kD = A * Q /4 /np.pi\n",
    "print('T = {:.0f} [m^2/d]'.format(kD))"
   ]
  },
  {
   "cell_type": "markdown",
   "metadata": {
    "hideCode": false,
    "hidePrompt": false
   },
   "source": [
    "The storage coefficient then follows from $\\frac 1 u = B \\frac t {r^2}$, that is, $\\frac {4 T t} {r^2 S} = B \\frac t {r^2}$ so that $S = \\frac {4 T} B$. The result is computed in the next cell."
   ]
  },
  {
   "cell_type": "code",
   "execution_count": 25,
   "metadata": {
    "hideCode": false,
    "hidePrompt": false,
    "hide_input": true,
    "scrolled": false
   },
   "outputs": [
    {
     "name": "stdout",
     "output_type": "stream",
     "text": [
      "S = 1.76e-04 [-]\n"
     ]
    }
   ],
   "source": [
    "B = 1.0e7\n",
    "Sc = 4 * kD / B\n",
    "print('S = {:.2e} [-]'.format(Sc))"
   ]
  },
  {
   "cell_type": "markdown",
   "metadata": {
    "hideCode": false,
    "hidePrompt": false
   },
   "source": [
    "As one sees, the results obtained this way are consistent with those obtained by the previous method."
   ]
  },
  {
   "cell_type": "markdown",
   "metadata": {
    "hideCode": false,
    "hidePrompt": false,
    "hide_input": true
   },
   "source": [
    "The previous method was inspired by the shifting of the measurements drawn on double log paper over the Theis type curve also drawn on double log paper. However, we could just as well directly optimize $T$ and $S$ (instead of $A$ and $B$) by trial and error to find the best match between type curve and measurements. It may then be more convenient to let the type curve as it is and plot $ \\frac s {Q/(4 \\pi T)}$ vs $\\frac {4 T t} {r^2 S}$. This has been done and for the obtained values of $S$ and $T$ the result is shown by clicking the next button.   "
   ]
  },
  {
   "cell_type": "code",
   "execution_count": 26,
   "metadata": {
    "hideCode": false,
    "hidePrompt": false,
    "hide_input": true,
    "scrolled": false
   },
   "outputs": [
    {
     "data": {
      "application/vnd.jupyter.widget-view+json": {
       "model_id": "f10c7b3f5ee44a7a9fedac1261d3a917",
       "version_major": 2,
       "version_minor": 0
      },
      "text/plain": [
       "Button(description='Show', style=ButtonStyle())"
      ]
     },
     "metadata": {},
     "output_type": "display_data"
    }
   ],
   "source": [
    "%matplotlib inline\n",
    "\n",
    "btn = widgets.Button(description='Show')\n",
    "display(btn)\n",
    "\n",
    "def btn_eventhandler(obj):\n",
    "    global kD,Sc\n",
    "    kD = 450\n",
    "    Sc = 0.0002\n",
    "    u = np.logspace(-4, 0.25, 41)\n",
    "    fig = plt.figure(facecolor='w', figsize=(10,5)); ax = fig.add_subplot()\n",
    "\n",
    "    # the Theis type curve\n",
    "    plt.plot(1/u, exp1(u), label='Theis')\n",
    "\n",
    "    # The measurements\n",
    "    r = 30\n",
    "    plt.plot (4*kD*df['t1']/24/60/(Sc*r**2),df['s1']/(Q/(4*np.pi*kD)), '.', label = 'observation H30' )\n",
    "    r = 90\n",
    "    plt.plot (4*kD*df['t2']/24/60/(Sc*r**2),df['s2']/(Q/(4*np.pi*kD)), '.', label = 'observation H90' )\n",
    "    plt.title('Direct comparison between computed and measured drawdown, $T$={:.0f} m$^2$/d, $S$={:.3e} [-]'.format(kD,Sc),fontsize=12)\n",
    "    plt.xlabel('$1/u$',fontsize=12); plt.ylabel('$W[u]$',fontsize=12)\n",
    "    plt.xscale('log'); plt.yscale('log')\n",
    "    plt.grid()\n",
    "    plt.legend(loc='lower right',fontsize=12);\n",
    "    \n",
    "btn.on_click(btn_eventhandler)    "
   ]
  },
  {
   "cell_type": "markdown",
   "metadata": {
    "hideCode": false,
    "hidePrompt": false,
    "hide_input": true
   },
   "source": [
    "### Using the Interface\n",
    "\n",
    "As we now have a computer, we could just as well directly optimize $T$ and $S$ by trial and error to find the best match between type curve and measurements. For the following evaluations set the distance from the pumping well at which the data were measured:"
   ]
  },
  {
   "cell_type": "code",
   "execution_count": 27,
   "metadata": {
    "hideCode": false,
    "hidePrompt": false,
    "hide_input": true,
    "scrolled": false
   },
   "outputs": [
    {
     "data": {
      "application/vnd.jupyter.widget-view+json": {
       "model_id": "c9833ee7ff3945c8a41d77cfe6221909",
       "version_major": 2,
       "version_minor": 0
      },
      "text/plain": [
       "BoundedFloatText(value=30.0, description='Distance:', max=90.0, min=30.0, step=60.0)"
      ]
     },
     "metadata": {},
     "output_type": "display_data"
    }
   ],
   "source": [
    "wr = widgets.BoundedFloatText(value=30.0, min=30.0, max=90.0, step = 60.0, description='Distance:', disabled=False)\n",
    "wr"
   ]
  },
  {
   "cell_type": "markdown",
   "metadata": {
    "hideCode": false,
    "hidePrompt": false,
    "hide_input": false
   },
   "source": [
    "#### Multi-Graph\n",
    "Use the sliders to select values for $A$ and log10($B$)"
   ]
  },
  {
   "cell_type": "code",
   "execution_count": 28,
   "metadata": {
    "hideCode": false,
    "hidePrompt": false,
    "hide_input": true,
    "scrolled": false
   },
   "outputs": [
    {
     "data": {
      "application/vnd.jupyter.widget-view+json": {
       "model_id": "8a1cd98474344274935862488b738821",
       "version_major": 2,
       "version_minor": 0
      },
      "text/plain": [
       "HBox(children=(FloatSlider(value=1.0, description='$A$', max=10.0, min=0.1), FloatSlider(value=1.0, descriptio…"
      ]
     },
     "metadata": {},
     "output_type": "display_data"
    }
   ],
   "source": [
    "slider1 = widgets.FloatSlider(1, description = '$A$', min=0.1, max=10, step=0.1)\n",
    "slider2 = widgets.FloatSlider(1, description = 'log10($B$)', min=0.1, max=10, step=0.1)\n",
    "widgets.HBox([slider1,slider2])"
   ]
  },
  {
   "cell_type": "markdown",
   "metadata": {
    "hideCode": false,
    "hidePrompt": false,
    "hide_input": true
   },
   "source": [
    "Run the next cell and press the check button, whenever you have changed the slider values. Make sure that you enable toggle scrolling (see: Cell-Current outputs). In order to restart checking re-run the cell."
   ]
  },
  {
   "cell_type": "code",
   "execution_count": 29,
   "metadata": {
    "hideCode": false,
    "hidePrompt": false,
    "hide_input": false,
    "scrolled": false
   },
   "outputs": [
    {
     "data": {
      "application/vnd.jupyter.widget-view+json": {
       "model_id": "3d15cc18e8ef4ec3a2859e9422bb3cf3",
       "version_major": 2,
       "version_minor": 0
      },
      "text/plain": [
       "Button(description='Check', style=ButtonStyle())"
      ]
     },
     "metadata": {},
     "output_type": "display_data"
    }
   ],
   "source": [
    "%matplotlib notebook\n",
    "%matplotlib notebook\n",
    "plt.rcParams[\"figure.figsize\"] = (10,5) \n",
    "\n",
    "btn = widgets.Button(description='Check')\n",
    "display(btn)\n",
    "\n",
    "def btn_eventhandler(obj):\n",
    "    global kD,Sc,count\n",
    "    A = slider1.value\n",
    "    B = 10**(slider2.value)\n",
    "\n",
    "    u = np.logspace(-4, 0.25, 41)\n",
    "    fig = plt.figure(facecolor='w'); ax = fig.add_subplot()\n",
    "\n",
    "    # the Theis type curve\n",
    "    plt.plot(1/u, exp1(u), label='Theis')\n",
    "\n",
    "    # the measurements\n",
    "    r = wr.value; Q = wQ.value\n",
    "    if r <= 50:\n",
    "        plt.plot (B*df['t1']/24/60/r/r,A*df['s1'], '.', label = 'observation' )\n",
    "    else:\n",
    "        plt.plot (B*df['t2']/24/60/r/r,A*df['s2'], '.', label = 'observation' ) \n",
    "        \n",
    "    ax.set_xscale('log'); ax.set_yscale('log');\n",
    "    plt.xlabel('$1/u$ and $B \\, t/r^2$',fontsize=16); plt.ylabel('W(u) and $A \\cdot s$',fontsize=16)\n",
    "    plt.xscale('log'); plt.yscale('log');\n",
    "    plt.grid();\n",
    "    plt.legend(loc='upper left',fontsize=12);\n",
    "    T = A * Q /4 /np.pi   # print('T = {:.0f} m2/d'.format(kD))\n",
    "    S = 4 * T / B         #print('S = {:.2e} [-]'.format(S))\n",
    "    ax.text (380,0.23,'$T =%.1f m^2/d$' % (T, ),fontsize=12)\n",
    "    ax.text (380,0.15,'$S =%.2e $' % (S, ),fontsize=12)\n",
    "    ax.set_title('Pump test: Oude Korendijk, Curve Matching: Theis ', size=14); count = count+1\n",
    "    Sc = S; kD = T\n",
    "\n",
    "count = 1    \n",
    "btn.on_click(btn_eventhandler)"
   ]
  },
  {
   "cell_type": "markdown",
   "metadata": {
    "hideCode": false,
    "hidePrompt": false,
    "hide_input": true
   },
   "source": [
    "#### Single Graph\n",
    "In the following cell see the effect of the sliders updated in a single figure."
   ]
  },
  {
   "cell_type": "code",
   "execution_count": 30,
   "metadata": {
    "hideCode": false,
    "hidePrompt": false,
    "hide_input": false,
    "scrolled": false
   },
   "outputs": [
    {
     "data": {
      "application/vnd.jupyter.widget-view+json": {
       "model_id": "7d565b55c82e442f82ae04b4cd4345f9",
       "version_major": 2,
       "version_minor": 0
      },
      "text/plain": [
       "Button(description='Sliders', style=ButtonStyle())"
      ]
     },
     "metadata": {},
     "output_type": "display_data"
    },
    {
     "data": {
      "application/javascript": [
       "/* Put everything inside the global mpl namespace */\n",
       "window.mpl = {};\n",
       "\n",
       "\n",
       "mpl.get_websocket_type = function() {\n",
       "    if (typeof(WebSocket) !== 'undefined') {\n",
       "        return WebSocket;\n",
       "    } else if (typeof(MozWebSocket) !== 'undefined') {\n",
       "        return MozWebSocket;\n",
       "    } else {\n",
       "        alert('Your browser does not have WebSocket support. ' +\n",
       "              'Please try Chrome, Safari or Firefox ≥ 6. ' +\n",
       "              'Firefox 4 and 5 are also supported but you ' +\n",
       "              'have to enable WebSockets in about:config.');\n",
       "    };\n",
       "}\n",
       "\n",
       "mpl.figure = function(figure_id, websocket, ondownload, parent_element) {\n",
       "    this.id = figure_id;\n",
       "\n",
       "    this.ws = websocket;\n",
       "\n",
       "    this.supports_binary = (this.ws.binaryType != undefined);\n",
       "\n",
       "    if (!this.supports_binary) {\n",
       "        var warnings = document.getElementById(\"mpl-warnings\");\n",
       "        if (warnings) {\n",
       "            warnings.style.display = 'block';\n",
       "            warnings.textContent = (\n",
       "                \"This browser does not support binary websocket messages. \" +\n",
       "                    \"Performance may be slow.\");\n",
       "        }\n",
       "    }\n",
       "\n",
       "    this.imageObj = new Image();\n",
       "\n",
       "    this.context = undefined;\n",
       "    this.message = undefined;\n",
       "    this.canvas = undefined;\n",
       "    this.rubberband_canvas = undefined;\n",
       "    this.rubberband_context = undefined;\n",
       "    this.format_dropdown = undefined;\n",
       "\n",
       "    this.image_mode = 'full';\n",
       "\n",
       "    this.root = $('<div/>');\n",
       "    this._root_extra_style(this.root)\n",
       "    this.root.attr('style', 'display: inline-block');\n",
       "\n",
       "    $(parent_element).append(this.root);\n",
       "\n",
       "    this._init_header(this);\n",
       "    this._init_canvas(this);\n",
       "    this._init_toolbar(this);\n",
       "\n",
       "    var fig = this;\n",
       "\n",
       "    this.waiting = false;\n",
       "\n",
       "    this.ws.onopen =  function () {\n",
       "            fig.send_message(\"supports_binary\", {value: fig.supports_binary});\n",
       "            fig.send_message(\"send_image_mode\", {});\n",
       "            if (mpl.ratio != 1) {\n",
       "                fig.send_message(\"set_dpi_ratio\", {'dpi_ratio': mpl.ratio});\n",
       "            }\n",
       "            fig.send_message(\"refresh\", {});\n",
       "        }\n",
       "\n",
       "    this.imageObj.onload = function() {\n",
       "            if (fig.image_mode == 'full') {\n",
       "                // Full images could contain transparency (where diff images\n",
       "                // almost always do), so we need to clear the canvas so that\n",
       "                // there is no ghosting.\n",
       "                fig.context.clearRect(0, 0, fig.canvas.width, fig.canvas.height);\n",
       "            }\n",
       "            fig.context.drawImage(fig.imageObj, 0, 0);\n",
       "        };\n",
       "\n",
       "    this.imageObj.onunload = function() {\n",
       "        fig.ws.close();\n",
       "    }\n",
       "\n",
       "    this.ws.onmessage = this._make_on_message_function(this);\n",
       "\n",
       "    this.ondownload = ondownload;\n",
       "}\n",
       "\n",
       "mpl.figure.prototype._init_header = function() {\n",
       "    var titlebar = $(\n",
       "        '<div class=\"ui-dialog-titlebar ui-widget-header ui-corner-all ' +\n",
       "        'ui-helper-clearfix\"/>');\n",
       "    var titletext = $(\n",
       "        '<div class=\"ui-dialog-title\" style=\"width: 100%; ' +\n",
       "        'text-align: center; padding: 3px;\"/>');\n",
       "    titlebar.append(titletext)\n",
       "    this.root.append(titlebar);\n",
       "    this.header = titletext[0];\n",
       "}\n",
       "\n",
       "\n",
       "\n",
       "mpl.figure.prototype._canvas_extra_style = function(canvas_div) {\n",
       "\n",
       "}\n",
       "\n",
       "\n",
       "mpl.figure.prototype._root_extra_style = function(canvas_div) {\n",
       "\n",
       "}\n",
       "\n",
       "mpl.figure.prototype._init_canvas = function() {\n",
       "    var fig = this;\n",
       "\n",
       "    var canvas_div = $('<div/>');\n",
       "\n",
       "    canvas_div.attr('style', 'position: relative; clear: both; outline: 0');\n",
       "\n",
       "    function canvas_keyboard_event(event) {\n",
       "        return fig.key_event(event, event['data']);\n",
       "    }\n",
       "\n",
       "    canvas_div.keydown('key_press', canvas_keyboard_event);\n",
       "    canvas_div.keyup('key_release', canvas_keyboard_event);\n",
       "    this.canvas_div = canvas_div\n",
       "    this._canvas_extra_style(canvas_div)\n",
       "    this.root.append(canvas_div);\n",
       "\n",
       "    var canvas = $('<canvas/>');\n",
       "    canvas.addClass('mpl-canvas');\n",
       "    canvas.attr('style', \"left: 0; top: 0; z-index: 0; outline: 0\")\n",
       "\n",
       "    this.canvas = canvas[0];\n",
       "    this.context = canvas[0].getContext(\"2d\");\n",
       "\n",
       "    var backingStore = this.context.backingStorePixelRatio ||\n",
       "\tthis.context.webkitBackingStorePixelRatio ||\n",
       "\tthis.context.mozBackingStorePixelRatio ||\n",
       "\tthis.context.msBackingStorePixelRatio ||\n",
       "\tthis.context.oBackingStorePixelRatio ||\n",
       "\tthis.context.backingStorePixelRatio || 1;\n",
       "\n",
       "    mpl.ratio = (window.devicePixelRatio || 1) / backingStore;\n",
       "\n",
       "    var rubberband = $('<canvas/>');\n",
       "    rubberband.attr('style', \"position: absolute; left: 0; top: 0; z-index: 1;\")\n",
       "\n",
       "    var pass_mouse_events = true;\n",
       "\n",
       "    canvas_div.resizable({\n",
       "        start: function(event, ui) {\n",
       "            pass_mouse_events = false;\n",
       "        },\n",
       "        resize: function(event, ui) {\n",
       "            fig.request_resize(ui.size.width, ui.size.height);\n",
       "        },\n",
       "        stop: function(event, ui) {\n",
       "            pass_mouse_events = true;\n",
       "            fig.request_resize(ui.size.width, ui.size.height);\n",
       "        },\n",
       "    });\n",
       "\n",
       "    function mouse_event_fn(event) {\n",
       "        if (pass_mouse_events)\n",
       "            return fig.mouse_event(event, event['data']);\n",
       "    }\n",
       "\n",
       "    rubberband.mousedown('button_press', mouse_event_fn);\n",
       "    rubberband.mouseup('button_release', mouse_event_fn);\n",
       "    // Throttle sequential mouse events to 1 every 20ms.\n",
       "    rubberband.mousemove('motion_notify', mouse_event_fn);\n",
       "\n",
       "    rubberband.mouseenter('figure_enter', mouse_event_fn);\n",
       "    rubberband.mouseleave('figure_leave', mouse_event_fn);\n",
       "\n",
       "    canvas_div.on(\"wheel\", function (event) {\n",
       "        event = event.originalEvent;\n",
       "        event['data'] = 'scroll'\n",
       "        if (event.deltaY < 0) {\n",
       "            event.step = 1;\n",
       "        } else {\n",
       "            event.step = -1;\n",
       "        }\n",
       "        mouse_event_fn(event);\n",
       "    });\n",
       "\n",
       "    canvas_div.append(canvas);\n",
       "    canvas_div.append(rubberband);\n",
       "\n",
       "    this.rubberband = rubberband;\n",
       "    this.rubberband_canvas = rubberband[0];\n",
       "    this.rubberband_context = rubberband[0].getContext(\"2d\");\n",
       "    this.rubberband_context.strokeStyle = \"#000000\";\n",
       "\n",
       "    this._resize_canvas = function(width, height) {\n",
       "        // Keep the size of the canvas, canvas container, and rubber band\n",
       "        // canvas in synch.\n",
       "        canvas_div.css('width', width)\n",
       "        canvas_div.css('height', height)\n",
       "\n",
       "        canvas.attr('width', width * mpl.ratio);\n",
       "        canvas.attr('height', height * mpl.ratio);\n",
       "        canvas.attr('style', 'width: ' + width + 'px; height: ' + height + 'px;');\n",
       "\n",
       "        rubberband.attr('width', width);\n",
       "        rubberband.attr('height', height);\n",
       "    }\n",
       "\n",
       "    // Set the figure to an initial 600x600px, this will subsequently be updated\n",
       "    // upon first draw.\n",
       "    this._resize_canvas(600, 600);\n",
       "\n",
       "    // Disable right mouse context menu.\n",
       "    $(this.rubberband_canvas).bind(\"contextmenu\",function(e){\n",
       "        return false;\n",
       "    });\n",
       "\n",
       "    function set_focus () {\n",
       "        canvas.focus();\n",
       "        canvas_div.focus();\n",
       "    }\n",
       "\n",
       "    window.setTimeout(set_focus, 100);\n",
       "}\n",
       "\n",
       "mpl.figure.prototype._init_toolbar = function() {\n",
       "    var fig = this;\n",
       "\n",
       "    var nav_element = $('<div/>');\n",
       "    nav_element.attr('style', 'width: 100%');\n",
       "    this.root.append(nav_element);\n",
       "\n",
       "    // Define a callback function for later on.\n",
       "    function toolbar_event(event) {\n",
       "        return fig.toolbar_button_onclick(event['data']);\n",
       "    }\n",
       "    function toolbar_mouse_event(event) {\n",
       "        return fig.toolbar_button_onmouseover(event['data']);\n",
       "    }\n",
       "\n",
       "    for(var toolbar_ind in mpl.toolbar_items) {\n",
       "        var name = mpl.toolbar_items[toolbar_ind][0];\n",
       "        var tooltip = mpl.toolbar_items[toolbar_ind][1];\n",
       "        var image = mpl.toolbar_items[toolbar_ind][2];\n",
       "        var method_name = mpl.toolbar_items[toolbar_ind][3];\n",
       "\n",
       "        if (!name) {\n",
       "            // put a spacer in here.\n",
       "            continue;\n",
       "        }\n",
       "        var button = $('<button/>');\n",
       "        button.addClass('ui-button ui-widget ui-state-default ui-corner-all ' +\n",
       "                        'ui-button-icon-only');\n",
       "        button.attr('role', 'button');\n",
       "        button.attr('aria-disabled', 'false');\n",
       "        button.click(method_name, toolbar_event);\n",
       "        button.mouseover(tooltip, toolbar_mouse_event);\n",
       "\n",
       "        var icon_img = $('<span/>');\n",
       "        icon_img.addClass('ui-button-icon-primary ui-icon');\n",
       "        icon_img.addClass(image);\n",
       "        icon_img.addClass('ui-corner-all');\n",
       "\n",
       "        var tooltip_span = $('<span/>');\n",
       "        tooltip_span.addClass('ui-button-text');\n",
       "        tooltip_span.html(tooltip);\n",
       "\n",
       "        button.append(icon_img);\n",
       "        button.append(tooltip_span);\n",
       "\n",
       "        nav_element.append(button);\n",
       "    }\n",
       "\n",
       "    var fmt_picker_span = $('<span/>');\n",
       "\n",
       "    var fmt_picker = $('<select/>');\n",
       "    fmt_picker.addClass('mpl-toolbar-option ui-widget ui-widget-content');\n",
       "    fmt_picker_span.append(fmt_picker);\n",
       "    nav_element.append(fmt_picker_span);\n",
       "    this.format_dropdown = fmt_picker[0];\n",
       "\n",
       "    for (var ind in mpl.extensions) {\n",
       "        var fmt = mpl.extensions[ind];\n",
       "        var option = $(\n",
       "            '<option/>', {selected: fmt === mpl.default_extension}).html(fmt);\n",
       "        fmt_picker.append(option);\n",
       "    }\n",
       "\n",
       "    // Add hover states to the ui-buttons\n",
       "    $( \".ui-button\" ).hover(\n",
       "        function() { $(this).addClass(\"ui-state-hover\");},\n",
       "        function() { $(this).removeClass(\"ui-state-hover\");}\n",
       "    );\n",
       "\n",
       "    var status_bar = $('<span class=\"mpl-message\"/>');\n",
       "    nav_element.append(status_bar);\n",
       "    this.message = status_bar[0];\n",
       "}\n",
       "\n",
       "mpl.figure.prototype.request_resize = function(x_pixels, y_pixels) {\n",
       "    // Request matplotlib to resize the figure. Matplotlib will then trigger a resize in the client,\n",
       "    // which will in turn request a refresh of the image.\n",
       "    this.send_message('resize', {'width': x_pixels, 'height': y_pixels});\n",
       "}\n",
       "\n",
       "mpl.figure.prototype.send_message = function(type, properties) {\n",
       "    properties['type'] = type;\n",
       "    properties['figure_id'] = this.id;\n",
       "    this.ws.send(JSON.stringify(properties));\n",
       "}\n",
       "\n",
       "mpl.figure.prototype.send_draw_message = function() {\n",
       "    if (!this.waiting) {\n",
       "        this.waiting = true;\n",
       "        this.ws.send(JSON.stringify({type: \"draw\", figure_id: this.id}));\n",
       "    }\n",
       "}\n",
       "\n",
       "\n",
       "mpl.figure.prototype.handle_save = function(fig, msg) {\n",
       "    var format_dropdown = fig.format_dropdown;\n",
       "    var format = format_dropdown.options[format_dropdown.selectedIndex].value;\n",
       "    fig.ondownload(fig, format);\n",
       "}\n",
       "\n",
       "\n",
       "mpl.figure.prototype.handle_resize = function(fig, msg) {\n",
       "    var size = msg['size'];\n",
       "    if (size[0] != fig.canvas.width || size[1] != fig.canvas.height) {\n",
       "        fig._resize_canvas(size[0], size[1]);\n",
       "        fig.send_message(\"refresh\", {});\n",
       "    };\n",
       "}\n",
       "\n",
       "mpl.figure.prototype.handle_rubberband = function(fig, msg) {\n",
       "    var x0 = msg['x0'] / mpl.ratio;\n",
       "    var y0 = (fig.canvas.height - msg['y0']) / mpl.ratio;\n",
       "    var x1 = msg['x1'] / mpl.ratio;\n",
       "    var y1 = (fig.canvas.height - msg['y1']) / mpl.ratio;\n",
       "    x0 = Math.floor(x0) + 0.5;\n",
       "    y0 = Math.floor(y0) + 0.5;\n",
       "    x1 = Math.floor(x1) + 0.5;\n",
       "    y1 = Math.floor(y1) + 0.5;\n",
       "    var min_x = Math.min(x0, x1);\n",
       "    var min_y = Math.min(y0, y1);\n",
       "    var width = Math.abs(x1 - x0);\n",
       "    var height = Math.abs(y1 - y0);\n",
       "\n",
       "    fig.rubberband_context.clearRect(\n",
       "        0, 0, fig.canvas.width / mpl.ratio, fig.canvas.height / mpl.ratio);\n",
       "\n",
       "    fig.rubberband_context.strokeRect(min_x, min_y, width, height);\n",
       "}\n",
       "\n",
       "mpl.figure.prototype.handle_figure_label = function(fig, msg) {\n",
       "    // Updates the figure title.\n",
       "    fig.header.textContent = msg['label'];\n",
       "}\n",
       "\n",
       "mpl.figure.prototype.handle_cursor = function(fig, msg) {\n",
       "    var cursor = msg['cursor'];\n",
       "    switch(cursor)\n",
       "    {\n",
       "    case 0:\n",
       "        cursor = 'pointer';\n",
       "        break;\n",
       "    case 1:\n",
       "        cursor = 'default';\n",
       "        break;\n",
       "    case 2:\n",
       "        cursor = 'crosshair';\n",
       "        break;\n",
       "    case 3:\n",
       "        cursor = 'move';\n",
       "        break;\n",
       "    }\n",
       "    fig.rubberband_canvas.style.cursor = cursor;\n",
       "}\n",
       "\n",
       "mpl.figure.prototype.handle_message = function(fig, msg) {\n",
       "    fig.message.textContent = msg['message'];\n",
       "}\n",
       "\n",
       "mpl.figure.prototype.handle_draw = function(fig, msg) {\n",
       "    // Request the server to send over a new figure.\n",
       "    fig.send_draw_message();\n",
       "}\n",
       "\n",
       "mpl.figure.prototype.handle_image_mode = function(fig, msg) {\n",
       "    fig.image_mode = msg['mode'];\n",
       "}\n",
       "\n",
       "mpl.figure.prototype.updated_canvas_event = function() {\n",
       "    // Called whenever the canvas gets updated.\n",
       "    this.send_message(\"ack\", {});\n",
       "}\n",
       "\n",
       "// A function to construct a web socket function for onmessage handling.\n",
       "// Called in the figure constructor.\n",
       "mpl.figure.prototype._make_on_message_function = function(fig) {\n",
       "    return function socket_on_message(evt) {\n",
       "        if (evt.data instanceof Blob) {\n",
       "            /* FIXME: We get \"Resource interpreted as Image but\n",
       "             * transferred with MIME type text/plain:\" errors on\n",
       "             * Chrome.  But how to set the MIME type?  It doesn't seem\n",
       "             * to be part of the websocket stream */\n",
       "            evt.data.type = \"image/png\";\n",
       "\n",
       "            /* Free the memory for the previous frames */\n",
       "            if (fig.imageObj.src) {\n",
       "                (window.URL || window.webkitURL).revokeObjectURL(\n",
       "                    fig.imageObj.src);\n",
       "            }\n",
       "\n",
       "            fig.imageObj.src = (window.URL || window.webkitURL).createObjectURL(\n",
       "                evt.data);\n",
       "            fig.updated_canvas_event();\n",
       "            fig.waiting = false;\n",
       "            return;\n",
       "        }\n",
       "        else if (typeof evt.data === 'string' && evt.data.slice(0, 21) == \"data:image/png;base64\") {\n",
       "            fig.imageObj.src = evt.data;\n",
       "            fig.updated_canvas_event();\n",
       "            fig.waiting = false;\n",
       "            return;\n",
       "        }\n",
       "\n",
       "        var msg = JSON.parse(evt.data);\n",
       "        var msg_type = msg['type'];\n",
       "\n",
       "        // Call the  \"handle_{type}\" callback, which takes\n",
       "        // the figure and JSON message as its only arguments.\n",
       "        try {\n",
       "            var callback = fig[\"handle_\" + msg_type];\n",
       "        } catch (e) {\n",
       "            console.log(\"No handler for the '\" + msg_type + \"' message type: \", msg);\n",
       "            return;\n",
       "        }\n",
       "\n",
       "        if (callback) {\n",
       "            try {\n",
       "                // console.log(\"Handling '\" + msg_type + \"' message: \", msg);\n",
       "                callback(fig, msg);\n",
       "            } catch (e) {\n",
       "                console.log(\"Exception inside the 'handler_\" + msg_type + \"' callback:\", e, e.stack, msg);\n",
       "            }\n",
       "        }\n",
       "    };\n",
       "}\n",
       "\n",
       "// from http://stackoverflow.com/questions/1114465/getting-mouse-location-in-canvas\n",
       "mpl.findpos = function(e) {\n",
       "    //this section is from http://www.quirksmode.org/js/events_properties.html\n",
       "    var targ;\n",
       "    if (!e)\n",
       "        e = window.event;\n",
       "    if (e.target)\n",
       "        targ = e.target;\n",
       "    else if (e.srcElement)\n",
       "        targ = e.srcElement;\n",
       "    if (targ.nodeType == 3) // defeat Safari bug\n",
       "        targ = targ.parentNode;\n",
       "\n",
       "    // jQuery normalizes the pageX and pageY\n",
       "    // pageX,Y are the mouse positions relative to the document\n",
       "    // offset() returns the position of the element relative to the document\n",
       "    var x = e.pageX - $(targ).offset().left;\n",
       "    var y = e.pageY - $(targ).offset().top;\n",
       "\n",
       "    return {\"x\": x, \"y\": y};\n",
       "};\n",
       "\n",
       "/*\n",
       " * return a copy of an object with only non-object keys\n",
       " * we need this to avoid circular references\n",
       " * http://stackoverflow.com/a/24161582/3208463\n",
       " */\n",
       "function simpleKeys (original) {\n",
       "  return Object.keys(original).reduce(function (obj, key) {\n",
       "    if (typeof original[key] !== 'object')\n",
       "        obj[key] = original[key]\n",
       "    return obj;\n",
       "  }, {});\n",
       "}\n",
       "\n",
       "mpl.figure.prototype.mouse_event = function(event, name) {\n",
       "    var canvas_pos = mpl.findpos(event)\n",
       "\n",
       "    if (name === 'button_press')\n",
       "    {\n",
       "        this.canvas.focus();\n",
       "        this.canvas_div.focus();\n",
       "    }\n",
       "\n",
       "    var x = canvas_pos.x * mpl.ratio;\n",
       "    var y = canvas_pos.y * mpl.ratio;\n",
       "\n",
       "    this.send_message(name, {x: x, y: y, button: event.button,\n",
       "                             step: event.step,\n",
       "                             guiEvent: simpleKeys(event)});\n",
       "\n",
       "    /* This prevents the web browser from automatically changing to\n",
       "     * the text insertion cursor when the button is pressed.  We want\n",
       "     * to control all of the cursor setting manually through the\n",
       "     * 'cursor' event from matplotlib */\n",
       "    event.preventDefault();\n",
       "    return false;\n",
       "}\n",
       "\n",
       "mpl.figure.prototype._key_event_extra = function(event, name) {\n",
       "    // Handle any extra behaviour associated with a key event\n",
       "}\n",
       "\n",
       "mpl.figure.prototype.key_event = function(event, name) {\n",
       "\n",
       "    // Prevent repeat events\n",
       "    if (name == 'key_press')\n",
       "    {\n",
       "        if (event.which === this._key)\n",
       "            return;\n",
       "        else\n",
       "            this._key = event.which;\n",
       "    }\n",
       "    if (name == 'key_release')\n",
       "        this._key = null;\n",
       "\n",
       "    var value = '';\n",
       "    if (event.ctrlKey && event.which != 17)\n",
       "        value += \"ctrl+\";\n",
       "    if (event.altKey && event.which != 18)\n",
       "        value += \"alt+\";\n",
       "    if (event.shiftKey && event.which != 16)\n",
       "        value += \"shift+\";\n",
       "\n",
       "    value += 'k';\n",
       "    value += event.which.toString();\n",
       "\n",
       "    this._key_event_extra(event, name);\n",
       "\n",
       "    this.send_message(name, {key: value,\n",
       "                             guiEvent: simpleKeys(event)});\n",
       "    return false;\n",
       "}\n",
       "\n",
       "mpl.figure.prototype.toolbar_button_onclick = function(name) {\n",
       "    if (name == 'download') {\n",
       "        this.handle_save(this, null);\n",
       "    } else {\n",
       "        this.send_message(\"toolbar_button\", {name: name});\n",
       "    }\n",
       "};\n",
       "\n",
       "mpl.figure.prototype.toolbar_button_onmouseover = function(tooltip) {\n",
       "    this.message.textContent = tooltip;\n",
       "};\n",
       "mpl.toolbar_items = [[\"Home\", \"Reset original view\", \"fa fa-home icon-home\", \"home\"], [\"Back\", \"Back to previous view\", \"fa fa-arrow-left icon-arrow-left\", \"back\"], [\"Forward\", \"Forward to next view\", \"fa fa-arrow-right icon-arrow-right\", \"forward\"], [\"\", \"\", \"\", \"\"], [\"Pan\", \"Pan axes with left mouse, zoom with right\", \"fa fa-arrows icon-move\", \"pan\"], [\"Zoom\", \"Zoom to rectangle\", \"fa fa-square-o icon-check-empty\", \"zoom\"], [\"\", \"\", \"\", \"\"], [\"Download\", \"Download plot\", \"fa fa-floppy-o icon-save\", \"download\"]];\n",
       "\n",
       "mpl.extensions = [\"eps\", \"jpeg\", \"pdf\", \"png\", \"ps\", \"raw\", \"svg\", \"tif\"];\n",
       "\n",
       "mpl.default_extension = \"png\";var comm_websocket_adapter = function(comm) {\n",
       "    // Create a \"websocket\"-like object which calls the given IPython comm\n",
       "    // object with the appropriate methods. Currently this is a non binary\n",
       "    // socket, so there is still some room for performance tuning.\n",
       "    var ws = {};\n",
       "\n",
       "    ws.close = function() {\n",
       "        comm.close()\n",
       "    };\n",
       "    ws.send = function(m) {\n",
       "        //console.log('sending', m);\n",
       "        comm.send(m);\n",
       "    };\n",
       "    // Register the callback with on_msg.\n",
       "    comm.on_msg(function(msg) {\n",
       "        //console.log('receiving', msg['content']['data'], msg);\n",
       "        // Pass the mpl event to the overridden (by mpl) onmessage function.\n",
       "        ws.onmessage(msg['content']['data'])\n",
       "    });\n",
       "    return ws;\n",
       "}\n",
       "\n",
       "mpl.mpl_figure_comm = function(comm, msg) {\n",
       "    // This is the function which gets called when the mpl process\n",
       "    // starts-up an IPython Comm through the \"matplotlib\" channel.\n",
       "\n",
       "    var id = msg.content.data.id;\n",
       "    // Get hold of the div created by the display call when the Comm\n",
       "    // socket was opened in Python.\n",
       "    var element = $(\"#\" + id);\n",
       "    var ws_proxy = comm_websocket_adapter(comm)\n",
       "\n",
       "    function ondownload(figure, format) {\n",
       "        window.open(figure.imageObj.src);\n",
       "    }\n",
       "\n",
       "    var fig = new mpl.figure(id, ws_proxy,\n",
       "                           ondownload,\n",
       "                           element.get(0));\n",
       "\n",
       "    // Call onopen now - mpl needs it, as it is assuming we've passed it a real\n",
       "    // web socket which is closed, not our websocket->open comm proxy.\n",
       "    ws_proxy.onopen();\n",
       "\n",
       "    fig.parent_element = element.get(0);\n",
       "    fig.cell_info = mpl.find_output_cell(\"<div id='\" + id + \"'></div>\");\n",
       "    if (!fig.cell_info) {\n",
       "        console.error(\"Failed to find cell for figure\", id, fig);\n",
       "        return;\n",
       "    }\n",
       "\n",
       "    var output_index = fig.cell_info[2]\n",
       "    var cell = fig.cell_info[0];\n",
       "\n",
       "};\n",
       "\n",
       "mpl.figure.prototype.handle_close = function(fig, msg) {\n",
       "    var width = fig.canvas.width/mpl.ratio\n",
       "    fig.root.unbind('remove')\n",
       "\n",
       "    // Update the output cell to use the data from the current canvas.\n",
       "    fig.push_to_output();\n",
       "    var dataURL = fig.canvas.toDataURL();\n",
       "    // Re-enable the keyboard manager in IPython - without this line, in FF,\n",
       "    // the notebook keyboard shortcuts fail.\n",
       "    IPython.keyboard_manager.enable()\n",
       "    $(fig.parent_element).html('<img src=\"' + dataURL + '\" width=\"' + width + '\">');\n",
       "    fig.close_ws(fig, msg);\n",
       "}\n",
       "\n",
       "mpl.figure.prototype.close_ws = function(fig, msg){\n",
       "    fig.send_message('closing', msg);\n",
       "    // fig.ws.close()\n",
       "}\n",
       "\n",
       "mpl.figure.prototype.push_to_output = function(remove_interactive) {\n",
       "    // Turn the data on the canvas into data in the output cell.\n",
       "    var width = this.canvas.width/mpl.ratio\n",
       "    var dataURL = this.canvas.toDataURL();\n",
       "    this.cell_info[1]['text/html'] = '<img src=\"' + dataURL + '\" width=\"' + width + '\">';\n",
       "}\n",
       "\n",
       "mpl.figure.prototype.updated_canvas_event = function() {\n",
       "    // Tell IPython that the notebook contents must change.\n",
       "    IPython.notebook.set_dirty(true);\n",
       "    this.send_message(\"ack\", {});\n",
       "    var fig = this;\n",
       "    // Wait a second, then push the new image to the DOM so\n",
       "    // that it is saved nicely (might be nice to debounce this).\n",
       "    setTimeout(function () { fig.push_to_output() }, 1000);\n",
       "}\n",
       "\n",
       "mpl.figure.prototype._init_toolbar = function() {\n",
       "    var fig = this;\n",
       "\n",
       "    var nav_element = $('<div/>');\n",
       "    nav_element.attr('style', 'width: 100%');\n",
       "    this.root.append(nav_element);\n",
       "\n",
       "    // Define a callback function for later on.\n",
       "    function toolbar_event(event) {\n",
       "        return fig.toolbar_button_onclick(event['data']);\n",
       "    }\n",
       "    function toolbar_mouse_event(event) {\n",
       "        return fig.toolbar_button_onmouseover(event['data']);\n",
       "    }\n",
       "\n",
       "    for(var toolbar_ind in mpl.toolbar_items){\n",
       "        var name = mpl.toolbar_items[toolbar_ind][0];\n",
       "        var tooltip = mpl.toolbar_items[toolbar_ind][1];\n",
       "        var image = mpl.toolbar_items[toolbar_ind][2];\n",
       "        var method_name = mpl.toolbar_items[toolbar_ind][3];\n",
       "\n",
       "        if (!name) { continue; };\n",
       "\n",
       "        var button = $('<button class=\"btn btn-default\" href=\"#\" title=\"' + name + '\"><i class=\"fa ' + image + ' fa-lg\"></i></button>');\n",
       "        button.click(method_name, toolbar_event);\n",
       "        button.mouseover(tooltip, toolbar_mouse_event);\n",
       "        nav_element.append(button);\n",
       "    }\n",
       "\n",
       "    // Add the status bar.\n",
       "    var status_bar = $('<span class=\"mpl-message\" style=\"text-align:right; float: right;\"/>');\n",
       "    nav_element.append(status_bar);\n",
       "    this.message = status_bar[0];\n",
       "\n",
       "    // Add the close button to the window.\n",
       "    var buttongrp = $('<div class=\"btn-group inline pull-right\"></div>');\n",
       "    var button = $('<button class=\"btn btn-mini btn-primary\" href=\"#\" title=\"Stop Interaction\"><i class=\"fa fa-power-off icon-remove icon-large\"></i></button>');\n",
       "    button.click(function (evt) { fig.handle_close(fig, {}); } );\n",
       "    button.mouseover('Stop Interaction', toolbar_mouse_event);\n",
       "    buttongrp.append(button);\n",
       "    var titlebar = this.root.find($('.ui-dialog-titlebar'));\n",
       "    titlebar.prepend(buttongrp);\n",
       "}\n",
       "\n",
       "mpl.figure.prototype._root_extra_style = function(el){\n",
       "    var fig = this\n",
       "    el.on(\"remove\", function(){\n",
       "\tfig.close_ws(fig, {});\n",
       "    });\n",
       "}\n",
       "\n",
       "mpl.figure.prototype._canvas_extra_style = function(el){\n",
       "    // this is important to make the div 'focusable\n",
       "    el.attr('tabindex', 0)\n",
       "    // reach out to IPython and tell the keyboard manager to turn it's self\n",
       "    // off when our div gets focus\n",
       "\n",
       "    // location in version 3\n",
       "    if (IPython.notebook.keyboard_manager) {\n",
       "        IPython.notebook.keyboard_manager.register_events(el);\n",
       "    }\n",
       "    else {\n",
       "        // location in version 2\n",
       "        IPython.keyboard_manager.register_events(el);\n",
       "    }\n",
       "\n",
       "}\n",
       "\n",
       "mpl.figure.prototype._key_event_extra = function(event, name) {\n",
       "    var manager = IPython.notebook.keyboard_manager;\n",
       "    if (!manager)\n",
       "        manager = IPython.keyboard_manager;\n",
       "\n",
       "    // Check for shift+enter\n",
       "    if (event.shiftKey && event.which == 13) {\n",
       "        this.canvas_div.blur();\n",
       "        // select the cell after this one\n",
       "        var index = IPython.notebook.find_cell_index(this.cell_info[0]);\n",
       "        IPython.notebook.select(index + 1);\n",
       "    }\n",
       "}\n",
       "\n",
       "mpl.figure.prototype.handle_save = function(fig, msg) {\n",
       "    fig.ondownload(fig, null);\n",
       "}\n",
       "\n",
       "\n",
       "mpl.find_output_cell = function(html_output) {\n",
       "    // Return the cell and output element which can be found *uniquely* in the notebook.\n",
       "    // Note - this is a bit hacky, but it is done because the \"notebook_saving.Notebook\"\n",
       "    // IPython event is triggered only after the cells have been serialised, which for\n",
       "    // our purposes (turning an active figure into a static one), is too late.\n",
       "    var cells = IPython.notebook.get_cells();\n",
       "    var ncells = cells.length;\n",
       "    for (var i=0; i<ncells; i++) {\n",
       "        var cell = cells[i];\n",
       "        if (cell.cell_type === 'code'){\n",
       "            for (var j=0; j<cell.output_area.outputs.length; j++) {\n",
       "                var data = cell.output_area.outputs[j];\n",
       "                if (data.data) {\n",
       "                    // IPython >= 3 moved mimebundle to data attribute of output\n",
       "                    data = data.data;\n",
       "                }\n",
       "                if (data['text/html'] == html_output) {\n",
       "                    return [cell, data, j];\n",
       "                }\n",
       "            }\n",
       "        }\n",
       "    }\n",
       "}\n",
       "\n",
       "// Register the function which deals with the matplotlib target/channel.\n",
       "// The kernel may be null if the page has been refreshed.\n",
       "if (IPython.notebook.kernel != null) {\n",
       "    IPython.notebook.kernel.comm_manager.register_target('matplotlib', mpl.mpl_figure_comm);\n",
       "}\n"
      ],
      "text/plain": [
       "<IPython.core.display.Javascript object>"
      ]
     },
     "metadata": {},
     "output_type": "display_data"
    },
    {
     "data": {
      "text/html": [
       "<img src=\"data:image/png;base64,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\" width=\"720\">"
      ],
      "text/plain": [
       "<IPython.core.display.HTML object>"
      ]
     },
     "metadata": {},
     "output_type": "display_data"
    },
    {
     "data": {
      "application/vnd.jupyter.widget-view+json": {
       "model_id": "21501484cecd40ed969519918c473d35",
       "version_major": 2,
       "version_minor": 0
      },
      "text/plain": [
       "IntSlider(value=10, min=1)"
      ]
     },
     "metadata": {},
     "output_type": "display_data"
    },
    {
     "data": {
      "application/vnd.jupyter.widget-view+json": {
       "model_id": "9ed706113648414199aca7230df1db07",
       "version_major": 2,
       "version_minor": 0
      },
      "text/plain": [
       "Label(value='A value is: 1.0')"
      ]
     },
     "metadata": {},
     "output_type": "display_data"
    },
    {
     "data": {
      "application/vnd.jupyter.widget-view+json": {
       "model_id": "d78912b3125b44aca983e1c3d8eba24b",
       "version_major": 2,
       "version_minor": 0
      },
      "text/plain": [
       "IntSlider(value=10, min=1)"
      ]
     },
     "metadata": {},
     "output_type": "display_data"
    },
    {
     "data": {
      "application/vnd.jupyter.widget-view+json": {
       "model_id": "ebc1d1742ba74e198544dcbc5c52681b",
       "version_major": 2,
       "version_minor": 0
      },
      "text/plain": [
       "Label(value='log10(B) value is: 1.0')"
      ]
     },
     "metadata": {},
     "output_type": "display_data"
    }
   ],
   "source": [
    "from IPython.display import display\n",
    "%matplotlib notebook\n",
    "%matplotlib notebook \n",
    "global shiftx_slider, shifty_slider, shiftx_label, shifty_label\n",
    "\n",
    "def update_plot(shifty = 10, shiftx = 10):\n",
    "    plt.figure('S')\n",
    "    r = wr.value\n",
    "    if r <= 50:\n",
    "        plt.plot (10**(shiftx/10)*df['t1']/24/60/r/r,shifty/10*df['s1'],'.C1')\n",
    "    else:\n",
    "        plt.plot (10**(shiftx/10)*df['t2']/24/60/r/r,shifty/10*df['s2'],'.C1')\n",
    "        \n",
    "    plt.grid()\n",
    "    #fig.canvas.draw_idle('S')\n",
    "\n",
    "# handle shifty update\n",
    "def update_shifty(value):\n",
    "    global shiftx_slider, shifty_slider, shiftx_label, shifty_label\n",
    "    plt.figure('S')\n",
    "    r = wr.value\n",
    "    plt.plot (10**(shiftx_slider.value/10)*df['t1']/24/60/r/r,value['old']/10*df['s1'], '.', color='0.7')\n",
    "    update_plot(shifty = value['new'],shiftx = shiftx_slider.value)\n",
    "    shifty_label.value = 'A value is: ' + str(value.new/10)\n",
    "\n",
    "# handle shiftx update\n",
    "def update_shiftx(value):\n",
    "    global shiftx_slider, shifty_slider, shiftx_label, shifty_label\n",
    "    plt.figure('S')\n",
    "    r = wr.value\n",
    "    plt.plot (10**(value['old']/10)*df['t1']/24/60/r/r,shifty_slider.value/10*df['s1'], '.', color='0.7')\n",
    "    update_plot(shifty = shifty_slider.value,shiftx = value['new'])\n",
    "    shiftx_label.value = 'log10(B) value is: ' + str(value.new/10)\n",
    "\n",
    "def btn_eventhandler(obj): \n",
    "    global shiftx_slider, shifty_slider, shiftx_label, shifty_label\n",
    "    u = np.logspace(-4, 0.25, 41)\n",
    "    if plt.fignum_exists('S'):\n",
    "        #plt.figure('S')\n",
    "        plt.subplots(num='S')\n",
    "    else:\n",
    "        fig = plt.figure(num='S',figsize=(10,5)) \n",
    "        \n",
    "    ax = fig.add_subplot()\n",
    "    plt.plot(1/u, exp1(u), label='Theis')\n",
    "    ax.set_xscale('log'); ax.set_yscale('log')\n",
    "    plt.show();\n",
    "\n",
    "    # prepare widgets\n",
    "    shifty_slider = widgets.IntSlider(10, min = 1, max = 100)\n",
    "    shifty_label = widgets.Label(value = 'A value is: ' + str(shifty_slider.value/10))\n",
    "    display(shifty_slider, shifty_label)\n",
    "    shiftx_slider = widgets.IntSlider(10, min = 1, max = 100)\n",
    "    shiftx_label = widgets.Label(value = 'log10(B) value is: ' + str(shiftx_slider.value/10))\n",
    "    display(shiftx_slider, shiftx_label)    \n",
    "\n",
    "    shiftx_slider.observe(update_shiftx, names = 'value')\n",
    "    shifty_slider.observe(update_shifty, names = 'value') \n",
    "    fig.canvas.draw_idle()\n",
    "    \n",
    "btn = widgets.Button(description='Sliders')\n",
    "display(btn)   \n",
    "btn.on_click(btn_eventhandler)"
   ]
  },
  {
   "cell_type": "markdown",
   "metadata": {
    "hideCode": false,
    "hidePrompt": false
   },
   "source": [
    "Check the result for transmissivity and storativity! Run the cell to erase former results."
   ]
  },
  {
   "cell_type": "code",
   "execution_count": 31,
   "metadata": {
    "hideCode": false,
    "hidePrompt": false,
    "hide_input": true,
    "scrolled": false
   },
   "outputs": [
    {
     "data": {
      "application/vnd.jupyter.widget-view+json": {
       "model_id": "39f70e2525094096a5125c66fb5ddfda",
       "version_major": 2,
       "version_minor": 0
      },
      "text/plain": [
       "Button(description='Check', style=ButtonStyle())"
      ]
     },
     "metadata": {},
     "output_type": "display_data"
    }
   ],
   "source": [
    "#%matplotlib inline\n",
    "%matplotlib notebook\n",
    "%matplotlib notebook\n",
    "plt.rcParams[\"figure.figsize\"] = (10,5) \n",
    "\n",
    "btn = widgets.Button(description='Check')\n",
    "display(btn)\n",
    "\n",
    "def btn_eventhandler(obj):\n",
    "    global kD,Sc,count\n",
    "    r = wr.value; Q = wQ.value\n",
    "    u = np.logspace(-4, 0.25, 41)\n",
    "    fig = plt.figure(facecolor='w'); ax = fig.add_subplot(1,1,1)\n",
    "    plt.title('Pump test: Oude Korendijk, Curve Matching: Theis ', fontsize = 14)\n",
    "    plt.plot(1/u, exp1(u), label='Theis')\n",
    "    shifty = shifty_slider.value; shiftx = shiftx_slider.value\n",
    "    if r <= 50:\n",
    "        plt.plot(10**(shiftx/10)*df['t1']/24/60/r/r,shifty/10*df['s1'],'.C1')\n",
    "    else:\n",
    "        plt.plot(10**(shiftx/10)*df['t2']/24/60/r/r,shifty/10*df['s2'],'.C1')\n",
    "        \n",
    "    plt.grid()\n",
    "    ax.set_xscale('log'); ax.set_yscale('log'); \n",
    "    plt.xlabel('$1/u$ and $B \\, t/r^2$', fontsize=12)\n",
    "    plt.ylabel('W(u) and $A \\cdot s$',fontsize=12)\n",
    "    kD = shifty_slider.value/10 * Q /4 /np.pi   # print('T = {:.0f} m2/d'.format(kD))\n",
    "    Sc = 4 * kD / 10**(shiftx_slider.value/10)         #print('S = {:.2e} [-]'.format(S))\n",
    "    ax.text (380,0.23,'$T =%.1f m^2/d$' % (kD, ),fontsize=12)\n",
    "    ax.text (380,0.15,'$S =%.2e $' % (Sc, ),fontsize=12)\n",
    "    plt.show(block=True)\n",
    "        \n",
    "btn.on_click(btn_eventhandler)    "
   ]
  },
  {
   "cell_type": "markdown",
   "metadata": {},
   "source": [
    "*Note: If you re-run this cell, you have to re-run the previous one also.*"
   ]
  },
  {
   "cell_type": "markdown",
   "metadata": {
    "hideCode": false,
    "hidePrompt": false,
    "hide_input": false
   },
   "source": [
    "#### Fit Measures\n",
    "The residual is a quantitative measure for the goodness of the fit. It is defined by: "
   ]
  },
  {
   "cell_type": "markdown",
   "metadata": {
    "hideCode": false,
    "hidePrompt": false,
    "hide_input": false
   },
   "source": [
    "$$ 2-norm = \\sqrt{\\sum{(s_{obs}-s_{calc})^2}} $$"
   ]
  },
  {
   "cell_type": "markdown",
   "metadata": {
    "hideCode": false,
    "hidePrompt": false
   },
   "source": [
    "where the sum adds up the quadratic deviations over all values of the time series. $s_{obs}$ is the observed drawdown, while $s_{calc}$ denotes the drawdown calculated by the Theis formula for the optimized $T$ and $S$ values. The rssidual is thus a good measure to compare results for the same drawdown series. However, if depends on the number of observations and thus is not feasable for comparison of results from different obtained from different observation points or different pumping tests. Alternatively one may take the standard deviation, which is defined as the squareroot of the mean quadratic deviation:"
   ]
  },
  {
   "cell_type": "markdown",
   "metadata": {
    "hideCode": false,
    "hidePrompt": false,
    "hide_input": true
   },
   "source": [
    "$$ stdev = \\sqrt{mean((s_{obs}-s_{calc})^2)} $$"
   ]
  },
  {
   "cell_type": "markdown",
   "metadata": {
    "hideCode": false,
    "hidePrompt": false
   },
   "source": [
    "The standard deviation makes results from different observation points and pumping tests, at the same or different boreholes, comparable. Click the following buttons to get the measures of the fit. "
   ]
  },
  {
   "cell_type": "code",
   "execution_count": 32,
   "metadata": {
    "hideCode": false,
    "hidePrompt": false,
    "hide_input": true,
    "scrolled": false
   },
   "outputs": [
    {
     "data": {
      "application/vnd.jupyter.widget-view+json": {
       "model_id": "d0f885aee4594b64a92041ca0484da63",
       "version_major": 2,
       "version_minor": 0
      },
      "text/plain": [
       "HBox(children=(Button(description='2-norm', style=ButtonStyle()), Button(description='Standard deviation', sty…"
      ]
     },
     "metadata": {},
     "output_type": "display_data"
    }
   ],
   "source": [
    "def rescalc():\n",
    "    global kD,Sc\n",
    "    D = kD/Sc; r = wr.value; Q = wQ.value\n",
    "    if r <= 50: \n",
    "        tfit = df['t1']/24/60; sfit = df['s1']\n",
    "        tfit = tfit[:-1]; sfit = sfit[:-1]  # one entry less in time series                  \n",
    "    else:\n",
    "        tfit = df['t2']/24/60; sfit = df['s2']\n",
    "\n",
    "    u = (((r*r)/4)/D)/pd.to_numeric(tfit)\n",
    "    s = Q*exp1(u)/4/np.pi/kD\n",
    "    dev = pd.to_numeric(sfit)-s; dev2 = dev*dev\n",
    "    norms = np.sqrt(sum(dev2)) \n",
    "    stde = np.sqrt(dev2.mean())\n",
    "    return [norms,stde]\n",
    "\n",
    "def on_wres_clicked(self):   \n",
    "    [norms,stde] = rescalc()\n",
    "    display ('2-norm = %.3e for r = %.0f, T = %.1f and S = %.2e' % (norms,r,kD,Sc))\n",
    "    \n",
    "def on_wstd_clicked(self): \n",
    "    [norms,stde] = rescalc()\n",
    "    display ('stdev = %.3e for r = %.0f, T = %.1f and S = %.2e'% (stde,r,kD,Sc));\n",
    "\n",
    "wres = widgets.Button(description='2-norm')        \n",
    "wres.on_click(on_wres_clicked) \n",
    "wstd = widgets.Button(description='Standard deviation')        \n",
    "wstd.on_click(on_wstd_clicked)\n",
    "widgets.HBox([wres,wstd])   "
   ]
  },
  {
   "cell_type": "markdown",
   "metadata": {
    "hideCode": false,
    "hidePrompt": false
   },
   "source": [
    "Note that the data from the 'Distance' input field above are used for the computation.\n",
    "\n",
    "**Task**: Perform graphical evaluation using either the multi- or single graph interfaces! Check the outcome using the fit measures! Do this for both drawdown curves! "
   ]
  },
  {
   "cell_type": "markdown",
   "metadata": {
    "hideCode": false,
    "hidePrompt": false
   },
   "source": [
    "## Parameter Estimation\n",
    "\n",
    "Parameter estimation on the computer is performed using optimization algorithms. The objective is to minimize the error, i.e. the 2-norm. Such optimization is usually referred to by the term 'least squares'. In the implementation here the Nelder-Mead method is used. This is an iteration, in which it is attempted to improve the current set of parameters. Thus, in order to start the method requires an initial guess for each parameter. \n",
    "\n",
    "Optimization algorithms like Nelder-Mead (1955) do not produce resaonable values in all cases: they may not converge. Then the user should make another attempt with a different set of initial values. Moreover, these algorithms converge to local minima only. I.e., if there are several local minima, the aimed global minimum may not be found. However, in pumping test evaluations this is mostly not a problem. \n",
    "\n",
    "The mathematical methods that are demonstrated here deliver a unique solution for a given aquifer type. For the confined aquifer the method is based on the analytical Theis solution given above. For the leaky aquifer the parameter estimation is implemented on the analytical solution of Hantush. 2-norm and standard deviation provide means to compare the fits and to make the decision if leakage is an important feature for the aquifer.     "
   ]
  },
  {
   "cell_type": "markdown",
   "metadata": {
    "hideCode": false,
    "hidePrompt": false
   },
   "source": [
    "### Confined Aquifer\n",
    "\n",
    "The following implementation is a mathematical procedure of obtaining the best match with the Theis solution that was shown before. Above the two parameters $A$ and $B$ were obtained by manual fitting. While the classical evaluation required printouts on double-logarithmical paper, in the notebook that is performed by moving the sliders. However finding the best parameter combination by trial and error is not unique, as people interpret the matching differently. This subjective component is eliminated if one lets the computer find the optimal combination of parameters that minimizes the difference between the type curve and the measurements."
   ]
  },
  {
   "cell_type": "code",
   "execution_count": 33,
   "metadata": {
    "hideCode": false,
    "hidePrompt": false,
    "hide_input": true,
    "scrolled": false
   },
   "outputs": [
    {
     "data": {
      "application/vnd.jupyter.widget-view+json": {
       "model_id": "bd907bec2fb34d7b9f0a2c1945956889",
       "version_major": 2,
       "version_minor": 0
      },
      "text/plain": [
       "BoundedFloatText(value=30.0, description='Distance:', max=90.0, min=30.0, step=60.0)"
      ]
     },
     "metadata": {},
     "output_type": "display_data"
    }
   ],
   "source": [
    "w2r = widgets.BoundedFloatText(value=30, min=30, max=90.0, step = 60.0, description='Distance:', disabled=False)\n",
    "w2r"
   ]
  },
  {
   "cell_type": "markdown",
   "metadata": {
    "hideCode": false,
    "hidePrompt": false,
    "hide_input": false
   },
   "source": [
    "Enter initial guesses for $T$ and $S$! The unit of transmissivity is derived from the length and time settings above. "
   ]
  },
  {
   "cell_type": "code",
   "execution_count": 34,
   "metadata": {
    "hideCode": false,
    "hidePrompt": false,
    "hide_input": true,
    "scrolled": false
   },
   "outputs": [
    {
     "data": {
      "application/vnd.jupyter.widget-view+json": {
       "model_id": "43d23eeddbfa49309cb2341808ba9e96",
       "version_major": 2,
       "version_minor": 0
      },
      "text/plain": [
       "HBox(children=(FloatText(value=500.0, description='T:'), FloatText(value=0.0001, description='S:')))"
      ]
     },
     "metadata": {},
     "output_type": "display_data"
    }
   ],
   "source": [
    "wT = widgets.FloatText(value=500, description='T:', min=1, disabled=False)\n",
    "wS = widgets.FloatText(value=1e-4, description='S:', min=1.e-10, disabled=False)\n",
    "widgets.HBox([wT, wS])"
   ]
  },
  {
   "cell_type": "markdown",
   "metadata": {
    "hideCode": false,
    "hidePrompt": false
   },
   "source": [
    "Do the parameter estimation by running the next cell."
   ]
  },
  {
   "cell_type": "code",
   "execution_count": 35,
   "metadata": {
    "hideCode": false,
    "hidePrompt": false,
    "hide_input": true
   },
   "outputs": [
    {
     "data": {
      "application/vnd.jupyter.widget-view+json": {
       "model_id": "35c9fcd7ab43416f88a04344c514d784",
       "version_major": 2,
       "version_minor": 0
      },
      "text/plain": [
       "VBox(children=(Button(description='Evaluate Theis', style=ButtonStyle()),))"
      ]
     },
     "metadata": {},
     "output_type": "display_data"
    },
    {
     "name": "stdout",
     "output_type": "stream",
     "text": [
      "Oude Korendijk pumping test\n",
      "Distance to pumping well: 30.0\n",
      "Initial transmissivity: 500.0\n",
      "Initial storativity: 0.0001\n",
      "Optimization terminated successfully.\n",
      "         Current function value: 0.036407\n",
      "         Iterations: 45\n",
      "         Function evaluations: 85\n"
     ]
    },
    {
     "data": {
      "application/javascript": [
       "/* Put everything inside the global mpl namespace */\n",
       "window.mpl = {};\n",
       "\n",
       "\n",
       "mpl.get_websocket_type = function() {\n",
       "    if (typeof(WebSocket) !== 'undefined') {\n",
       "        return WebSocket;\n",
       "    } else if (typeof(MozWebSocket) !== 'undefined') {\n",
       "        return MozWebSocket;\n",
       "    } else {\n",
       "        alert('Your browser does not have WebSocket support. ' +\n",
       "              'Please try Chrome, Safari or Firefox ≥ 6. ' +\n",
       "              'Firefox 4 and 5 are also supported but you ' +\n",
       "              'have to enable WebSockets in about:config.');\n",
       "    };\n",
       "}\n",
       "\n",
       "mpl.figure = function(figure_id, websocket, ondownload, parent_element) {\n",
       "    this.id = figure_id;\n",
       "\n",
       "    this.ws = websocket;\n",
       "\n",
       "    this.supports_binary = (this.ws.binaryType != undefined);\n",
       "\n",
       "    if (!this.supports_binary) {\n",
       "        var warnings = document.getElementById(\"mpl-warnings\");\n",
       "        if (warnings) {\n",
       "            warnings.style.display = 'block';\n",
       "            warnings.textContent = (\n",
       "                \"This browser does not support binary websocket messages. \" +\n",
       "                    \"Performance may be slow.\");\n",
       "        }\n",
       "    }\n",
       "\n",
       "    this.imageObj = new Image();\n",
       "\n",
       "    this.context = undefined;\n",
       "    this.message = undefined;\n",
       "    this.canvas = undefined;\n",
       "    this.rubberband_canvas = undefined;\n",
       "    this.rubberband_context = undefined;\n",
       "    this.format_dropdown = undefined;\n",
       "\n",
       "    this.image_mode = 'full';\n",
       "\n",
       "    this.root = $('<div/>');\n",
       "    this._root_extra_style(this.root)\n",
       "    this.root.attr('style', 'display: inline-block');\n",
       "\n",
       "    $(parent_element).append(this.root);\n",
       "\n",
       "    this._init_header(this);\n",
       "    this._init_canvas(this);\n",
       "    this._init_toolbar(this);\n",
       "\n",
       "    var fig = this;\n",
       "\n",
       "    this.waiting = false;\n",
       "\n",
       "    this.ws.onopen =  function () {\n",
       "            fig.send_message(\"supports_binary\", {value: fig.supports_binary});\n",
       "            fig.send_message(\"send_image_mode\", {});\n",
       "            if (mpl.ratio != 1) {\n",
       "                fig.send_message(\"set_dpi_ratio\", {'dpi_ratio': mpl.ratio});\n",
       "            }\n",
       "            fig.send_message(\"refresh\", {});\n",
       "        }\n",
       "\n",
       "    this.imageObj.onload = function() {\n",
       "            if (fig.image_mode == 'full') {\n",
       "                // Full images could contain transparency (where diff images\n",
       "                // almost always do), so we need to clear the canvas so that\n",
       "                // there is no ghosting.\n",
       "                fig.context.clearRect(0, 0, fig.canvas.width, fig.canvas.height);\n",
       "            }\n",
       "            fig.context.drawImage(fig.imageObj, 0, 0);\n",
       "        };\n",
       "\n",
       "    this.imageObj.onunload = function() {\n",
       "        fig.ws.close();\n",
       "    }\n",
       "\n",
       "    this.ws.onmessage = this._make_on_message_function(this);\n",
       "\n",
       "    this.ondownload = ondownload;\n",
       "}\n",
       "\n",
       "mpl.figure.prototype._init_header = function() {\n",
       "    var titlebar = $(\n",
       "        '<div class=\"ui-dialog-titlebar ui-widget-header ui-corner-all ' +\n",
       "        'ui-helper-clearfix\"/>');\n",
       "    var titletext = $(\n",
       "        '<div class=\"ui-dialog-title\" style=\"width: 100%; ' +\n",
       "        'text-align: center; padding: 3px;\"/>');\n",
       "    titlebar.append(titletext)\n",
       "    this.root.append(titlebar);\n",
       "    this.header = titletext[0];\n",
       "}\n",
       "\n",
       "\n",
       "\n",
       "mpl.figure.prototype._canvas_extra_style = function(canvas_div) {\n",
       "\n",
       "}\n",
       "\n",
       "\n",
       "mpl.figure.prototype._root_extra_style = function(canvas_div) {\n",
       "\n",
       "}\n",
       "\n",
       "mpl.figure.prototype._init_canvas = function() {\n",
       "    var fig = this;\n",
       "\n",
       "    var canvas_div = $('<div/>');\n",
       "\n",
       "    canvas_div.attr('style', 'position: relative; clear: both; outline: 0');\n",
       "\n",
       "    function canvas_keyboard_event(event) {\n",
       "        return fig.key_event(event, event['data']);\n",
       "    }\n",
       "\n",
       "    canvas_div.keydown('key_press', canvas_keyboard_event);\n",
       "    canvas_div.keyup('key_release', canvas_keyboard_event);\n",
       "    this.canvas_div = canvas_div\n",
       "    this._canvas_extra_style(canvas_div)\n",
       "    this.root.append(canvas_div);\n",
       "\n",
       "    var canvas = $('<canvas/>');\n",
       "    canvas.addClass('mpl-canvas');\n",
       "    canvas.attr('style', \"left: 0; top: 0; z-index: 0; outline: 0\")\n",
       "\n",
       "    this.canvas = canvas[0];\n",
       "    this.context = canvas[0].getContext(\"2d\");\n",
       "\n",
       "    var backingStore = this.context.backingStorePixelRatio ||\n",
       "\tthis.context.webkitBackingStorePixelRatio ||\n",
       "\tthis.context.mozBackingStorePixelRatio ||\n",
       "\tthis.context.msBackingStorePixelRatio ||\n",
       "\tthis.context.oBackingStorePixelRatio ||\n",
       "\tthis.context.backingStorePixelRatio || 1;\n",
       "\n",
       "    mpl.ratio = (window.devicePixelRatio || 1) / backingStore;\n",
       "\n",
       "    var rubberband = $('<canvas/>');\n",
       "    rubberband.attr('style', \"position: absolute; left: 0; top: 0; z-index: 1;\")\n",
       "\n",
       "    var pass_mouse_events = true;\n",
       "\n",
       "    canvas_div.resizable({\n",
       "        start: function(event, ui) {\n",
       "            pass_mouse_events = false;\n",
       "        },\n",
       "        resize: function(event, ui) {\n",
       "            fig.request_resize(ui.size.width, ui.size.height);\n",
       "        },\n",
       "        stop: function(event, ui) {\n",
       "            pass_mouse_events = true;\n",
       "            fig.request_resize(ui.size.width, ui.size.height);\n",
       "        },\n",
       "    });\n",
       "\n",
       "    function mouse_event_fn(event) {\n",
       "        if (pass_mouse_events)\n",
       "            return fig.mouse_event(event, event['data']);\n",
       "    }\n",
       "\n",
       "    rubberband.mousedown('button_press', mouse_event_fn);\n",
       "    rubberband.mouseup('button_release', mouse_event_fn);\n",
       "    // Throttle sequential mouse events to 1 every 20ms.\n",
       "    rubberband.mousemove('motion_notify', mouse_event_fn);\n",
       "\n",
       "    rubberband.mouseenter('figure_enter', mouse_event_fn);\n",
       "    rubberband.mouseleave('figure_leave', mouse_event_fn);\n",
       "\n",
       "    canvas_div.on(\"wheel\", function (event) {\n",
       "        event = event.originalEvent;\n",
       "        event['data'] = 'scroll'\n",
       "        if (event.deltaY < 0) {\n",
       "            event.step = 1;\n",
       "        } else {\n",
       "            event.step = -1;\n",
       "        }\n",
       "        mouse_event_fn(event);\n",
       "    });\n",
       "\n",
       "    canvas_div.append(canvas);\n",
       "    canvas_div.append(rubberband);\n",
       "\n",
       "    this.rubberband = rubberband;\n",
       "    this.rubberband_canvas = rubberband[0];\n",
       "    this.rubberband_context = rubberband[0].getContext(\"2d\");\n",
       "    this.rubberband_context.strokeStyle = \"#000000\";\n",
       "\n",
       "    this._resize_canvas = function(width, height) {\n",
       "        // Keep the size of the canvas, canvas container, and rubber band\n",
       "        // canvas in synch.\n",
       "        canvas_div.css('width', width)\n",
       "        canvas_div.css('height', height)\n",
       "\n",
       "        canvas.attr('width', width * mpl.ratio);\n",
       "        canvas.attr('height', height * mpl.ratio);\n",
       "        canvas.attr('style', 'width: ' + width + 'px; height: ' + height + 'px;');\n",
       "\n",
       "        rubberband.attr('width', width);\n",
       "        rubberband.attr('height', height);\n",
       "    }\n",
       "\n",
       "    // Set the figure to an initial 600x600px, this will subsequently be updated\n",
       "    // upon first draw.\n",
       "    this._resize_canvas(600, 600);\n",
       "\n",
       "    // Disable right mouse context menu.\n",
       "    $(this.rubberband_canvas).bind(\"contextmenu\",function(e){\n",
       "        return false;\n",
       "    });\n",
       "\n",
       "    function set_focus () {\n",
       "        canvas.focus();\n",
       "        canvas_div.focus();\n",
       "    }\n",
       "\n",
       "    window.setTimeout(set_focus, 100);\n",
       "}\n",
       "\n",
       "mpl.figure.prototype._init_toolbar = function() {\n",
       "    var fig = this;\n",
       "\n",
       "    var nav_element = $('<div/>');\n",
       "    nav_element.attr('style', 'width: 100%');\n",
       "    this.root.append(nav_element);\n",
       "\n",
       "    // Define a callback function for later on.\n",
       "    function toolbar_event(event) {\n",
       "        return fig.toolbar_button_onclick(event['data']);\n",
       "    }\n",
       "    function toolbar_mouse_event(event) {\n",
       "        return fig.toolbar_button_onmouseover(event['data']);\n",
       "    }\n",
       "\n",
       "    for(var toolbar_ind in mpl.toolbar_items) {\n",
       "        var name = mpl.toolbar_items[toolbar_ind][0];\n",
       "        var tooltip = mpl.toolbar_items[toolbar_ind][1];\n",
       "        var image = mpl.toolbar_items[toolbar_ind][2];\n",
       "        var method_name = mpl.toolbar_items[toolbar_ind][3];\n",
       "\n",
       "        if (!name) {\n",
       "            // put a spacer in here.\n",
       "            continue;\n",
       "        }\n",
       "        var button = $('<button/>');\n",
       "        button.addClass('ui-button ui-widget ui-state-default ui-corner-all ' +\n",
       "                        'ui-button-icon-only');\n",
       "        button.attr('role', 'button');\n",
       "        button.attr('aria-disabled', 'false');\n",
       "        button.click(method_name, toolbar_event);\n",
       "        button.mouseover(tooltip, toolbar_mouse_event);\n",
       "\n",
       "        var icon_img = $('<span/>');\n",
       "        icon_img.addClass('ui-button-icon-primary ui-icon');\n",
       "        icon_img.addClass(image);\n",
       "        icon_img.addClass('ui-corner-all');\n",
       "\n",
       "        var tooltip_span = $('<span/>');\n",
       "        tooltip_span.addClass('ui-button-text');\n",
       "        tooltip_span.html(tooltip);\n",
       "\n",
       "        button.append(icon_img);\n",
       "        button.append(tooltip_span);\n",
       "\n",
       "        nav_element.append(button);\n",
       "    }\n",
       "\n",
       "    var fmt_picker_span = $('<span/>');\n",
       "\n",
       "    var fmt_picker = $('<select/>');\n",
       "    fmt_picker.addClass('mpl-toolbar-option ui-widget ui-widget-content');\n",
       "    fmt_picker_span.append(fmt_picker);\n",
       "    nav_element.append(fmt_picker_span);\n",
       "    this.format_dropdown = fmt_picker[0];\n",
       "\n",
       "    for (var ind in mpl.extensions) {\n",
       "        var fmt = mpl.extensions[ind];\n",
       "        var option = $(\n",
       "            '<option/>', {selected: fmt === mpl.default_extension}).html(fmt);\n",
       "        fmt_picker.append(option);\n",
       "    }\n",
       "\n",
       "    // Add hover states to the ui-buttons\n",
       "    $( \".ui-button\" ).hover(\n",
       "        function() { $(this).addClass(\"ui-state-hover\");},\n",
       "        function() { $(this).removeClass(\"ui-state-hover\");}\n",
       "    );\n",
       "\n",
       "    var status_bar = $('<span class=\"mpl-message\"/>');\n",
       "    nav_element.append(status_bar);\n",
       "    this.message = status_bar[0];\n",
       "}\n",
       "\n",
       "mpl.figure.prototype.request_resize = function(x_pixels, y_pixels) {\n",
       "    // Request matplotlib to resize the figure. Matplotlib will then trigger a resize in the client,\n",
       "    // which will in turn request a refresh of the image.\n",
       "    this.send_message('resize', {'width': x_pixels, 'height': y_pixels});\n",
       "}\n",
       "\n",
       "mpl.figure.prototype.send_message = function(type, properties) {\n",
       "    properties['type'] = type;\n",
       "    properties['figure_id'] = this.id;\n",
       "    this.ws.send(JSON.stringify(properties));\n",
       "}\n",
       "\n",
       "mpl.figure.prototype.send_draw_message = function() {\n",
       "    if (!this.waiting) {\n",
       "        this.waiting = true;\n",
       "        this.ws.send(JSON.stringify({type: \"draw\", figure_id: this.id}));\n",
       "    }\n",
       "}\n",
       "\n",
       "\n",
       "mpl.figure.prototype.handle_save = function(fig, msg) {\n",
       "    var format_dropdown = fig.format_dropdown;\n",
       "    var format = format_dropdown.options[format_dropdown.selectedIndex].value;\n",
       "    fig.ondownload(fig, format);\n",
       "}\n",
       "\n",
       "\n",
       "mpl.figure.prototype.handle_resize = function(fig, msg) {\n",
       "    var size = msg['size'];\n",
       "    if (size[0] != fig.canvas.width || size[1] != fig.canvas.height) {\n",
       "        fig._resize_canvas(size[0], size[1]);\n",
       "        fig.send_message(\"refresh\", {});\n",
       "    };\n",
       "}\n",
       "\n",
       "mpl.figure.prototype.handle_rubberband = function(fig, msg) {\n",
       "    var x0 = msg['x0'] / mpl.ratio;\n",
       "    var y0 = (fig.canvas.height - msg['y0']) / mpl.ratio;\n",
       "    var x1 = msg['x1'] / mpl.ratio;\n",
       "    var y1 = (fig.canvas.height - msg['y1']) / mpl.ratio;\n",
       "    x0 = Math.floor(x0) + 0.5;\n",
       "    y0 = Math.floor(y0) + 0.5;\n",
       "    x1 = Math.floor(x1) + 0.5;\n",
       "    y1 = Math.floor(y1) + 0.5;\n",
       "    var min_x = Math.min(x0, x1);\n",
       "    var min_y = Math.min(y0, y1);\n",
       "    var width = Math.abs(x1 - x0);\n",
       "    var height = Math.abs(y1 - y0);\n",
       "\n",
       "    fig.rubberband_context.clearRect(\n",
       "        0, 0, fig.canvas.width / mpl.ratio, fig.canvas.height / mpl.ratio);\n",
       "\n",
       "    fig.rubberband_context.strokeRect(min_x, min_y, width, height);\n",
       "}\n",
       "\n",
       "mpl.figure.prototype.handle_figure_label = function(fig, msg) {\n",
       "    // Updates the figure title.\n",
       "    fig.header.textContent = msg['label'];\n",
       "}\n",
       "\n",
       "mpl.figure.prototype.handle_cursor = function(fig, msg) {\n",
       "    var cursor = msg['cursor'];\n",
       "    switch(cursor)\n",
       "    {\n",
       "    case 0:\n",
       "        cursor = 'pointer';\n",
       "        break;\n",
       "    case 1:\n",
       "        cursor = 'default';\n",
       "        break;\n",
       "    case 2:\n",
       "        cursor = 'crosshair';\n",
       "        break;\n",
       "    case 3:\n",
       "        cursor = 'move';\n",
       "        break;\n",
       "    }\n",
       "    fig.rubberband_canvas.style.cursor = cursor;\n",
       "}\n",
       "\n",
       "mpl.figure.prototype.handle_message = function(fig, msg) {\n",
       "    fig.message.textContent = msg['message'];\n",
       "}\n",
       "\n",
       "mpl.figure.prototype.handle_draw = function(fig, msg) {\n",
       "    // Request the server to send over a new figure.\n",
       "    fig.send_draw_message();\n",
       "}\n",
       "\n",
       "mpl.figure.prototype.handle_image_mode = function(fig, msg) {\n",
       "    fig.image_mode = msg['mode'];\n",
       "}\n",
       "\n",
       "mpl.figure.prototype.updated_canvas_event = function() {\n",
       "    // Called whenever the canvas gets updated.\n",
       "    this.send_message(\"ack\", {});\n",
       "}\n",
       "\n",
       "// A function to construct a web socket function for onmessage handling.\n",
       "// Called in the figure constructor.\n",
       "mpl.figure.prototype._make_on_message_function = function(fig) {\n",
       "    return function socket_on_message(evt) {\n",
       "        if (evt.data instanceof Blob) {\n",
       "            /* FIXME: We get \"Resource interpreted as Image but\n",
       "             * transferred with MIME type text/plain:\" errors on\n",
       "             * Chrome.  But how to set the MIME type?  It doesn't seem\n",
       "             * to be part of the websocket stream */\n",
       "            evt.data.type = \"image/png\";\n",
       "\n",
       "            /* Free the memory for the previous frames */\n",
       "            if (fig.imageObj.src) {\n",
       "                (window.URL || window.webkitURL).revokeObjectURL(\n",
       "                    fig.imageObj.src);\n",
       "            }\n",
       "\n",
       "            fig.imageObj.src = (window.URL || window.webkitURL).createObjectURL(\n",
       "                evt.data);\n",
       "            fig.updated_canvas_event();\n",
       "            fig.waiting = false;\n",
       "            return;\n",
       "        }\n",
       "        else if (typeof evt.data === 'string' && evt.data.slice(0, 21) == \"data:image/png;base64\") {\n",
       "            fig.imageObj.src = evt.data;\n",
       "            fig.updated_canvas_event();\n",
       "            fig.waiting = false;\n",
       "            return;\n",
       "        }\n",
       "\n",
       "        var msg = JSON.parse(evt.data);\n",
       "        var msg_type = msg['type'];\n",
       "\n",
       "        // Call the  \"handle_{type}\" callback, which takes\n",
       "        // the figure and JSON message as its only arguments.\n",
       "        try {\n",
       "            var callback = fig[\"handle_\" + msg_type];\n",
       "        } catch (e) {\n",
       "            console.log(\"No handler for the '\" + msg_type + \"' message type: \", msg);\n",
       "            return;\n",
       "        }\n",
       "\n",
       "        if (callback) {\n",
       "            try {\n",
       "                // console.log(\"Handling '\" + msg_type + \"' message: \", msg);\n",
       "                callback(fig, msg);\n",
       "            } catch (e) {\n",
       "                console.log(\"Exception inside the 'handler_\" + msg_type + \"' callback:\", e, e.stack, msg);\n",
       "            }\n",
       "        }\n",
       "    };\n",
       "}\n",
       "\n",
       "// from http://stackoverflow.com/questions/1114465/getting-mouse-location-in-canvas\n",
       "mpl.findpos = function(e) {\n",
       "    //this section is from http://www.quirksmode.org/js/events_properties.html\n",
       "    var targ;\n",
       "    if (!e)\n",
       "        e = window.event;\n",
       "    if (e.target)\n",
       "        targ = e.target;\n",
       "    else if (e.srcElement)\n",
       "        targ = e.srcElement;\n",
       "    if (targ.nodeType == 3) // defeat Safari bug\n",
       "        targ = targ.parentNode;\n",
       "\n",
       "    // jQuery normalizes the pageX and pageY\n",
       "    // pageX,Y are the mouse positions relative to the document\n",
       "    // offset() returns the position of the element relative to the document\n",
       "    var x = e.pageX - $(targ).offset().left;\n",
       "    var y = e.pageY - $(targ).offset().top;\n",
       "\n",
       "    return {\"x\": x, \"y\": y};\n",
       "};\n",
       "\n",
       "/*\n",
       " * return a copy of an object with only non-object keys\n",
       " * we need this to avoid circular references\n",
       " * http://stackoverflow.com/a/24161582/3208463\n",
       " */\n",
       "function simpleKeys (original) {\n",
       "  return Object.keys(original).reduce(function (obj, key) {\n",
       "    if (typeof original[key] !== 'object')\n",
       "        obj[key] = original[key]\n",
       "    return obj;\n",
       "  }, {});\n",
       "}\n",
       "\n",
       "mpl.figure.prototype.mouse_event = function(event, name) {\n",
       "    var canvas_pos = mpl.findpos(event)\n",
       "\n",
       "    if (name === 'button_press')\n",
       "    {\n",
       "        this.canvas.focus();\n",
       "        this.canvas_div.focus();\n",
       "    }\n",
       "\n",
       "    var x = canvas_pos.x * mpl.ratio;\n",
       "    var y = canvas_pos.y * mpl.ratio;\n",
       "\n",
       "    this.send_message(name, {x: x, y: y, button: event.button,\n",
       "                             step: event.step,\n",
       "                             guiEvent: simpleKeys(event)});\n",
       "\n",
       "    /* This prevents the web browser from automatically changing to\n",
       "     * the text insertion cursor when the button is pressed.  We want\n",
       "     * to control all of the cursor setting manually through the\n",
       "     * 'cursor' event from matplotlib */\n",
       "    event.preventDefault();\n",
       "    return false;\n",
       "}\n",
       "\n",
       "mpl.figure.prototype._key_event_extra = function(event, name) {\n",
       "    // Handle any extra behaviour associated with a key event\n",
       "}\n",
       "\n",
       "mpl.figure.prototype.key_event = function(event, name) {\n",
       "\n",
       "    // Prevent repeat events\n",
       "    if (name == 'key_press')\n",
       "    {\n",
       "        if (event.which === this._key)\n",
       "            return;\n",
       "        else\n",
       "            this._key = event.which;\n",
       "    }\n",
       "    if (name == 'key_release')\n",
       "        this._key = null;\n",
       "\n",
       "    var value = '';\n",
       "    if (event.ctrlKey && event.which != 17)\n",
       "        value += \"ctrl+\";\n",
       "    if (event.altKey && event.which != 18)\n",
       "        value += \"alt+\";\n",
       "    if (event.shiftKey && event.which != 16)\n",
       "        value += \"shift+\";\n",
       "\n",
       "    value += 'k';\n",
       "    value += event.which.toString();\n",
       "\n",
       "    this._key_event_extra(event, name);\n",
       "\n",
       "    this.send_message(name, {key: value,\n",
       "                             guiEvent: simpleKeys(event)});\n",
       "    return false;\n",
       "}\n",
       "\n",
       "mpl.figure.prototype.toolbar_button_onclick = function(name) {\n",
       "    if (name == 'download') {\n",
       "        this.handle_save(this, null);\n",
       "    } else {\n",
       "        this.send_message(\"toolbar_button\", {name: name});\n",
       "    }\n",
       "};\n",
       "\n",
       "mpl.figure.prototype.toolbar_button_onmouseover = function(tooltip) {\n",
       "    this.message.textContent = tooltip;\n",
       "};\n",
       "mpl.toolbar_items = [[\"Home\", \"Reset original view\", \"fa fa-home icon-home\", \"home\"], [\"Back\", \"Back to previous view\", \"fa fa-arrow-left icon-arrow-left\", \"back\"], [\"Forward\", \"Forward to next view\", \"fa fa-arrow-right icon-arrow-right\", \"forward\"], [\"\", \"\", \"\", \"\"], [\"Pan\", \"Pan axes with left mouse, zoom with right\", \"fa fa-arrows icon-move\", \"pan\"], [\"Zoom\", \"Zoom to rectangle\", \"fa fa-square-o icon-check-empty\", \"zoom\"], [\"\", \"\", \"\", \"\"], [\"Download\", \"Download plot\", \"fa fa-floppy-o icon-save\", \"download\"]];\n",
       "\n",
       "mpl.extensions = [\"eps\", \"jpeg\", \"pdf\", \"png\", \"ps\", \"raw\", \"svg\", \"tif\"];\n",
       "\n",
       "mpl.default_extension = \"png\";var comm_websocket_adapter = function(comm) {\n",
       "    // Create a \"websocket\"-like object which calls the given IPython comm\n",
       "    // object with the appropriate methods. Currently this is a non binary\n",
       "    // socket, so there is still some room for performance tuning.\n",
       "    var ws = {};\n",
       "\n",
       "    ws.close = function() {\n",
       "        comm.close()\n",
       "    };\n",
       "    ws.send = function(m) {\n",
       "        //console.log('sending', m);\n",
       "        comm.send(m);\n",
       "    };\n",
       "    // Register the callback with on_msg.\n",
       "    comm.on_msg(function(msg) {\n",
       "        //console.log('receiving', msg['content']['data'], msg);\n",
       "        // Pass the mpl event to the overridden (by mpl) onmessage function.\n",
       "        ws.onmessage(msg['content']['data'])\n",
       "    });\n",
       "    return ws;\n",
       "}\n",
       "\n",
       "mpl.mpl_figure_comm = function(comm, msg) {\n",
       "    // This is the function which gets called when the mpl process\n",
       "    // starts-up an IPython Comm through the \"matplotlib\" channel.\n",
       "\n",
       "    var id = msg.content.data.id;\n",
       "    // Get hold of the div created by the display call when the Comm\n",
       "    // socket was opened in Python.\n",
       "    var element = $(\"#\" + id);\n",
       "    var ws_proxy = comm_websocket_adapter(comm)\n",
       "\n",
       "    function ondownload(figure, format) {\n",
       "        window.open(figure.imageObj.src);\n",
       "    }\n",
       "\n",
       "    var fig = new mpl.figure(id, ws_proxy,\n",
       "                           ondownload,\n",
       "                           element.get(0));\n",
       "\n",
       "    // Call onopen now - mpl needs it, as it is assuming we've passed it a real\n",
       "    // web socket which is closed, not our websocket->open comm proxy.\n",
       "    ws_proxy.onopen();\n",
       "\n",
       "    fig.parent_element = element.get(0);\n",
       "    fig.cell_info = mpl.find_output_cell(\"<div id='\" + id + \"'></div>\");\n",
       "    if (!fig.cell_info) {\n",
       "        console.error(\"Failed to find cell for figure\", id, fig);\n",
       "        return;\n",
       "    }\n",
       "\n",
       "    var output_index = fig.cell_info[2]\n",
       "    var cell = fig.cell_info[0];\n",
       "\n",
       "};\n",
       "\n",
       "mpl.figure.prototype.handle_close = function(fig, msg) {\n",
       "    var width = fig.canvas.width/mpl.ratio\n",
       "    fig.root.unbind('remove')\n",
       "\n",
       "    // Update the output cell to use the data from the current canvas.\n",
       "    fig.push_to_output();\n",
       "    var dataURL = fig.canvas.toDataURL();\n",
       "    // Re-enable the keyboard manager in IPython - without this line, in FF,\n",
       "    // the notebook keyboard shortcuts fail.\n",
       "    IPython.keyboard_manager.enable()\n",
       "    $(fig.parent_element).html('<img src=\"' + dataURL + '\" width=\"' + width + '\">');\n",
       "    fig.close_ws(fig, msg);\n",
       "}\n",
       "\n",
       "mpl.figure.prototype.close_ws = function(fig, msg){\n",
       "    fig.send_message('closing', msg);\n",
       "    // fig.ws.close()\n",
       "}\n",
       "\n",
       "mpl.figure.prototype.push_to_output = function(remove_interactive) {\n",
       "    // Turn the data on the canvas into data in the output cell.\n",
       "    var width = this.canvas.width/mpl.ratio\n",
       "    var dataURL = this.canvas.toDataURL();\n",
       "    this.cell_info[1]['text/html'] = '<img src=\"' + dataURL + '\" width=\"' + width + '\">';\n",
       "}\n",
       "\n",
       "mpl.figure.prototype.updated_canvas_event = function() {\n",
       "    // Tell IPython that the notebook contents must change.\n",
       "    IPython.notebook.set_dirty(true);\n",
       "    this.send_message(\"ack\", {});\n",
       "    var fig = this;\n",
       "    // Wait a second, then push the new image to the DOM so\n",
       "    // that it is saved nicely (might be nice to debounce this).\n",
       "    setTimeout(function () { fig.push_to_output() }, 1000);\n",
       "}\n",
       "\n",
       "mpl.figure.prototype._init_toolbar = function() {\n",
       "    var fig = this;\n",
       "\n",
       "    var nav_element = $('<div/>');\n",
       "    nav_element.attr('style', 'width: 100%');\n",
       "    this.root.append(nav_element);\n",
       "\n",
       "    // Define a callback function for later on.\n",
       "    function toolbar_event(event) {\n",
       "        return fig.toolbar_button_onclick(event['data']);\n",
       "    }\n",
       "    function toolbar_mouse_event(event) {\n",
       "        return fig.toolbar_button_onmouseover(event['data']);\n",
       "    }\n",
       "\n",
       "    for(var toolbar_ind in mpl.toolbar_items){\n",
       "        var name = mpl.toolbar_items[toolbar_ind][0];\n",
       "        var tooltip = mpl.toolbar_items[toolbar_ind][1];\n",
       "        var image = mpl.toolbar_items[toolbar_ind][2];\n",
       "        var method_name = mpl.toolbar_items[toolbar_ind][3];\n",
       "\n",
       "        if (!name) { continue; };\n",
       "\n",
       "        var button = $('<button class=\"btn btn-default\" href=\"#\" title=\"' + name + '\"><i class=\"fa ' + image + ' fa-lg\"></i></button>');\n",
       "        button.click(method_name, toolbar_event);\n",
       "        button.mouseover(tooltip, toolbar_mouse_event);\n",
       "        nav_element.append(button);\n",
       "    }\n",
       "\n",
       "    // Add the status bar.\n",
       "    var status_bar = $('<span class=\"mpl-message\" style=\"text-align:right; float: right;\"/>');\n",
       "    nav_element.append(status_bar);\n",
       "    this.message = status_bar[0];\n",
       "\n",
       "    // Add the close button to the window.\n",
       "    var buttongrp = $('<div class=\"btn-group inline pull-right\"></div>');\n",
       "    var button = $('<button class=\"btn btn-mini btn-primary\" href=\"#\" title=\"Stop Interaction\"><i class=\"fa fa-power-off icon-remove icon-large\"></i></button>');\n",
       "    button.click(function (evt) { fig.handle_close(fig, {}); } );\n",
       "    button.mouseover('Stop Interaction', toolbar_mouse_event);\n",
       "    buttongrp.append(button);\n",
       "    var titlebar = this.root.find($('.ui-dialog-titlebar'));\n",
       "    titlebar.prepend(buttongrp);\n",
       "}\n",
       "\n",
       "mpl.figure.prototype._root_extra_style = function(el){\n",
       "    var fig = this\n",
       "    el.on(\"remove\", function(){\n",
       "\tfig.close_ws(fig, {});\n",
       "    });\n",
       "}\n",
       "\n",
       "mpl.figure.prototype._canvas_extra_style = function(el){\n",
       "    // this is important to make the div 'focusable\n",
       "    el.attr('tabindex', 0)\n",
       "    // reach out to IPython and tell the keyboard manager to turn it's self\n",
       "    // off when our div gets focus\n",
       "\n",
       "    // location in version 3\n",
       "    if (IPython.notebook.keyboard_manager) {\n",
       "        IPython.notebook.keyboard_manager.register_events(el);\n",
       "    }\n",
       "    else {\n",
       "        // location in version 2\n",
       "        IPython.keyboard_manager.register_events(el);\n",
       "    }\n",
       "\n",
       "}\n",
       "\n",
       "mpl.figure.prototype._key_event_extra = function(event, name) {\n",
       "    var manager = IPython.notebook.keyboard_manager;\n",
       "    if (!manager)\n",
       "        manager = IPython.keyboard_manager;\n",
       "\n",
       "    // Check for shift+enter\n",
       "    if (event.shiftKey && event.which == 13) {\n",
       "        this.canvas_div.blur();\n",
       "        // select the cell after this one\n",
       "        var index = IPython.notebook.find_cell_index(this.cell_info[0]);\n",
       "        IPython.notebook.select(index + 1);\n",
       "    }\n",
       "}\n",
       "\n",
       "mpl.figure.prototype.handle_save = function(fig, msg) {\n",
       "    fig.ondownload(fig, null);\n",
       "}\n",
       "\n",
       "\n",
       "mpl.find_output_cell = function(html_output) {\n",
       "    // Return the cell and output element which can be found *uniquely* in the notebook.\n",
       "    // Note - this is a bit hacky, but it is done because the \"notebook_saving.Notebook\"\n",
       "    // IPython event is triggered only after the cells have been serialised, which for\n",
       "    // our purposes (turning an active figure into a static one), is too late.\n",
       "    var cells = IPython.notebook.get_cells();\n",
       "    var ncells = cells.length;\n",
       "    for (var i=0; i<ncells; i++) {\n",
       "        var cell = cells[i];\n",
       "        if (cell.cell_type === 'code'){\n",
       "            for (var j=0; j<cell.output_area.outputs.length; j++) {\n",
       "                var data = cell.output_area.outputs[j];\n",
       "                if (data.data) {\n",
       "                    // IPython >= 3 moved mimebundle to data attribute of output\n",
       "                    data = data.data;\n",
       "                }\n",
       "                if (data['text/html'] == html_output) {\n",
       "                    return [cell, data, j];\n",
       "                }\n",
       "            }\n",
       "        }\n",
       "    }\n",
       "}\n",
       "\n",
       "// Register the function which deals with the matplotlib target/channel.\n",
       "// The kernel may be null if the page has been refreshed.\n",
       "if (IPython.notebook.kernel != null) {\n",
       "    IPython.notebook.kernel.comm_manager.register_target('matplotlib', mpl.mpl_figure_comm);\n",
       "}\n"
      ],
      "text/plain": [
       "<IPython.core.display.Javascript object>"
      ]
     },
     "metadata": {},
     "output_type": "display_data"
    },
    {
     "data": {
      "text/html": [
       "<img src=\"data:image/png;base64,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\" width=\"720\">"
      ],
      "text/plain": [
       "<IPython.core.display.HTML object>"
      ]
     },
     "metadata": {},
     "output_type": "display_data"
    }
   ],
   "source": [
    "from scipy.optimize import fmin\n",
    "Q = wQ.value; r = 30\n",
    "tfit = df['t1'].dropna()/60/24; sfit = df['s1'].dropna()\n",
    "\n",
    "def teval (t,r,T,S,Q):\n",
    "    D = T/S                             # calculate Theis solution\n",
    "    u = (((r*r)/4)/D)/t\n",
    "    s = Q*exp1(u)/4/np.pi/T\n",
    "    return s                            # drawdown \n",
    "    \n",
    "def toptim (x):  \n",
    "    global r,tfit,sfit\n",
    "    T = x[0]; S = x[1] \n",
    "    s = teval (tfit,r,T,S,Q)\n",
    "    res = (s-sfit)\n",
    "    return sum(res*res)                 # function to be minimized\n",
    "\n",
    "def on_weval1_clicked(self):            # convert input data\n",
    "    global r,df,tfit,sfit\n",
    "    print ('Oude Korendijk pumping test') \n",
    "    r = w2r.value; print ('Distance to pumping well: '+str(r))\n",
    "    T = wT.value; print ('Initial transmissivity: '+str(T)) \n",
    "    S = wS.value; print ('Initial storativity: '+str(S))\n",
    "    if r <= 50:   \n",
    "        tfit = df['t1'].dropna()/60/24; sfit = df['s1'].dropna()\n",
    "    else:\n",
    "        tfit = df['t2'].dropna()/60/24; sfit = df['s2'].dropna()                             \n",
    "\n",
    "    # parameter estimation---------------------------------------------------------\n",
    "    [Tfit,Sfit] = fmin (toptim, [T,S])\n",
    "\n",
    "    # post-processing\n",
    "    D = T/S;               #print ('D='+str(D))\n",
    "    s = teval (tfit,r,Tfit,Sfit,Q)\n",
    "    dev = sfit-s                  \n",
    "    dev2 = dev*dev; norms = np.sqrt(sum(dev2)) \n",
    "    stde = np.sqrt(dev2.mean())\n",
    "    sr=2*dev.std()                            # to compare with hytool !\n",
    "    t = np.logspace(np.log10(tfit.min()),np.log10(tfit.max()),100)\n",
    "    fig = plt.figure(facecolor='w',figsize=(10,5)); ax = fig.add_subplot()\n",
    "    ax.set_xscale('log')\n",
    "    plt.plot(tfit,sfit,'o',label = 'measured') \n",
    "    plt.plot(t,teval(t,r,Tfit,Sfit,Q),'-', label = 'calculated', lw = 2)\n",
    "    plt.xlabel('time [d]',fontsize=12); plt.ylabel('drawdown [m]',fontsize=12)\n",
    "    plt.title ('Pump test: Oude Korendijk, Parameter estimation: Theis',fontsize=14)\n",
    "    plt.grid ()\n",
    "    plt.legend (loc='upper left',fontsize=12)\n",
    "    ax.text (0.04,0.5*sfit.max(),'$T =%.1f m^2/d $' % (Tfit, ),fontsize=12)\n",
    "    ax.text (0.04,0.4*sfit.max(),'$S =%.2e $' % (Sfit, ),fontsize=12)\n",
    "    ax.text (0.04,0.3*sfit.max(),'2-norm = $%.2e $' % (norms, ),fontsize=12)\n",
    "    ax.text (0.04,0.2*sfit.max(),'$stdev = %.2e $' % (stde, ),fontsize=12)\n",
    "    ax.text (0.04,0.1*sfit.max(),'$2stdev =%.2e $' % (sr, ),fontsize=12);\n",
    "\n",
    "weval1 = widgets.Button(description='Evaluate Theis')        \n",
    "weval1.on_click(on_weval1_clicked)   \n",
    "widgets.VBox([weval1]) "
   ]
  },
  {
   "cell_type": "markdown",
   "metadata": {
    "hideCode": false,
    "hidePrompt": false
   },
   "source": [
    "Explore the sensitivity of the results when changing initial values. Check the residual and number of iterations for comparison. Do this for both observation data-sets."
   ]
  },
  {
   "cell_type": "markdown",
   "metadata": {
    "hideCode": false,
    "hidePrompt": false
   },
   "source": [
    "### Leaky Aquifer"
   ]
  },
  {
   "cell_type": "markdown",
   "metadata": {
    "hideCode": false,
    "hidePrompt": false
   },
   "source": [
    "For leaky aquifers the drawdown is given by the Hantush well function $W$, which has two arguments:"
   ]
  },
  {
   "cell_type": "markdown",
   "metadata": {
    "hideCode": false,
    "hidePrompt": false
   },
   "source": [
    "$$ s(r, t) = \\frac Q {4 \\pi T} W(u,r/\\lambda),\\,\\,\\,\\, u = \\frac {r^2 S} {4 T t}$$"
   ]
  },
  {
   "cell_type": "markdown",
   "metadata": {
    "hideCode": false,
    "hidePrompt": false
   },
   "source": [
    "with $\\lambda=\\sqrt{T\\cdot c}$, where $c$ denotes the resistance of the over-lying semipermeable layer. The physcial unit of resistance is time. The equation was derived assuming a constant source along the radial axis (Hantush & Jacob 1955). Using the more realistic boundary condition at the top of a 2D cross-section Hantush (1967) showed that the formula is a valid approximation if $D/\\lambda \\leq 0.1$.  "
   ]
  },
  {
   "cell_type": "code",
   "execution_count": 36,
   "metadata": {
    "hideCode": false,
    "hidePrompt": false,
    "hide_input": true,
    "scrolled": false
   },
   "outputs": [
    {
     "data": {
      "application/vnd.jupyter.widget-view+json": {
       "model_id": "67384150af404633b475482d32ea2f23",
       "version_major": 2,
       "version_minor": 0
      },
      "text/plain": [
       "BoundedFloatText(value=30.0, description='Distance:', max=90.0, min=30.0, step=60.0)"
      ]
     },
     "metadata": {},
     "output_type": "display_data"
    }
   ],
   "source": [
    "w3r = widgets.BoundedFloatText(value=30, min=30, max=90.0, step = 60.0, description='Distance:', disabled=False)\n",
    "w3r"
   ]
  },
  {
   "cell_type": "markdown",
   "metadata": {
    "hideCode": false,
    "hidePrompt": false,
    "hide_input": true
   },
   "source": [
    "Enter initial guesses for $T$, $S$ and $c$! The physical units of transmissivity and resistance derived from the length and time settings above. "
   ]
  },
  {
   "cell_type": "code",
   "execution_count": 37,
   "metadata": {
    "hideCode": false,
    "hidePrompt": false,
    "hide_input": true,
    "scrolled": false
   },
   "outputs": [
    {
     "data": {
      "application/vnd.jupyter.widget-view+json": {
       "model_id": "7064afd61f9149e5a20e9cc98bd3afd6",
       "version_major": 2,
       "version_minor": 0
      },
      "text/plain": [
       "HBox(children=(FloatText(value=500.0, description='T:'), FloatText(value=0.0001, description='S:'), FloatText(…"
      ]
     },
     "metadata": {},
     "output_type": "display_data"
    }
   ],
   "source": [
    "w2T = widgets.FloatText(value=500, description='T:', min=1.e-10, disabled=False)\n",
    "w2S = widgets.FloatText(value=1e-4, description='S:', min=1.e-10, disabled=False)\n",
    "wc = widgets.FloatText(value=1e4, description='c:', min=1.e-10, disabled=False)\n",
    "widgets.HBox([w2T, w2S, wc])"
   ]
  },
  {
   "cell_type": "code",
   "execution_count": 38,
   "metadata": {
    "hideCode": false,
    "hidePrompt": false,
    "hide_input": false,
    "scrolled": false
   },
   "outputs": [
    {
     "data": {
      "application/vnd.jupyter.widget-view+json": {
       "model_id": "e81a546a3e214c3e8bdc1c7d4ef5c842",
       "version_major": 2,
       "version_minor": 0
      },
      "text/plain": [
       "VBox(children=(Button(description='Evaluate Hantush', style=ButtonStyle()),))"
      ]
     },
     "metadata": {},
     "output_type": "display_data"
    },
    {
     "name": "stdout",
     "output_type": "stream",
     "text": [
      "Oude Korendijk pumping test\n",
      "Distance to pumping well: 30.0\n",
      "Initial transmissivity: 500.0\n",
      "Initial storativity: 0.0001\n",
      "Initial resistance: 10000.0\n",
      "Optimization terminated successfully.\n",
      "         Current function value: 0.010328\n",
      "         Iterations: 128\n",
      "         Function evaluations: 236\n"
     ]
    },
    {
     "data": {
      "application/javascript": [
       "/* Put everything inside the global mpl namespace */\n",
       "window.mpl = {};\n",
       "\n",
       "\n",
       "mpl.get_websocket_type = function() {\n",
       "    if (typeof(WebSocket) !== 'undefined') {\n",
       "        return WebSocket;\n",
       "    } else if (typeof(MozWebSocket) !== 'undefined') {\n",
       "        return MozWebSocket;\n",
       "    } else {\n",
       "        alert('Your browser does not have WebSocket support. ' +\n",
       "              'Please try Chrome, Safari or Firefox ≥ 6. ' +\n",
       "              'Firefox 4 and 5 are also supported but you ' +\n",
       "              'have to enable WebSockets in about:config.');\n",
       "    };\n",
       "}\n",
       "\n",
       "mpl.figure = function(figure_id, websocket, ondownload, parent_element) {\n",
       "    this.id = figure_id;\n",
       "\n",
       "    this.ws = websocket;\n",
       "\n",
       "    this.supports_binary = (this.ws.binaryType != undefined);\n",
       "\n",
       "    if (!this.supports_binary) {\n",
       "        var warnings = document.getElementById(\"mpl-warnings\");\n",
       "        if (warnings) {\n",
       "            warnings.style.display = 'block';\n",
       "            warnings.textContent = (\n",
       "                \"This browser does not support binary websocket messages. \" +\n",
       "                    \"Performance may be slow.\");\n",
       "        }\n",
       "    }\n",
       "\n",
       "    this.imageObj = new Image();\n",
       "\n",
       "    this.context = undefined;\n",
       "    this.message = undefined;\n",
       "    this.canvas = undefined;\n",
       "    this.rubberband_canvas = undefined;\n",
       "    this.rubberband_context = undefined;\n",
       "    this.format_dropdown = undefined;\n",
       "\n",
       "    this.image_mode = 'full';\n",
       "\n",
       "    this.root = $('<div/>');\n",
       "    this._root_extra_style(this.root)\n",
       "    this.root.attr('style', 'display: inline-block');\n",
       "\n",
       "    $(parent_element).append(this.root);\n",
       "\n",
       "    this._init_header(this);\n",
       "    this._init_canvas(this);\n",
       "    this._init_toolbar(this);\n",
       "\n",
       "    var fig = this;\n",
       "\n",
       "    this.waiting = false;\n",
       "\n",
       "    this.ws.onopen =  function () {\n",
       "            fig.send_message(\"supports_binary\", {value: fig.supports_binary});\n",
       "            fig.send_message(\"send_image_mode\", {});\n",
       "            if (mpl.ratio != 1) {\n",
       "                fig.send_message(\"set_dpi_ratio\", {'dpi_ratio': mpl.ratio});\n",
       "            }\n",
       "            fig.send_message(\"refresh\", {});\n",
       "        }\n",
       "\n",
       "    this.imageObj.onload = function() {\n",
       "            if (fig.image_mode == 'full') {\n",
       "                // Full images could contain transparency (where diff images\n",
       "                // almost always do), so we need to clear the canvas so that\n",
       "                // there is no ghosting.\n",
       "                fig.context.clearRect(0, 0, fig.canvas.width, fig.canvas.height);\n",
       "            }\n",
       "            fig.context.drawImage(fig.imageObj, 0, 0);\n",
       "        };\n",
       "\n",
       "    this.imageObj.onunload = function() {\n",
       "        fig.ws.close();\n",
       "    }\n",
       "\n",
       "    this.ws.onmessage = this._make_on_message_function(this);\n",
       "\n",
       "    this.ondownload = ondownload;\n",
       "}\n",
       "\n",
       "mpl.figure.prototype._init_header = function() {\n",
       "    var titlebar = $(\n",
       "        '<div class=\"ui-dialog-titlebar ui-widget-header ui-corner-all ' +\n",
       "        'ui-helper-clearfix\"/>');\n",
       "    var titletext = $(\n",
       "        '<div class=\"ui-dialog-title\" style=\"width: 100%; ' +\n",
       "        'text-align: center; padding: 3px;\"/>');\n",
       "    titlebar.append(titletext)\n",
       "    this.root.append(titlebar);\n",
       "    this.header = titletext[0];\n",
       "}\n",
       "\n",
       "\n",
       "\n",
       "mpl.figure.prototype._canvas_extra_style = function(canvas_div) {\n",
       "\n",
       "}\n",
       "\n",
       "\n",
       "mpl.figure.prototype._root_extra_style = function(canvas_div) {\n",
       "\n",
       "}\n",
       "\n",
       "mpl.figure.prototype._init_canvas = function() {\n",
       "    var fig = this;\n",
       "\n",
       "    var canvas_div = $('<div/>');\n",
       "\n",
       "    canvas_div.attr('style', 'position: relative; clear: both; outline: 0');\n",
       "\n",
       "    function canvas_keyboard_event(event) {\n",
       "        return fig.key_event(event, event['data']);\n",
       "    }\n",
       "\n",
       "    canvas_div.keydown('key_press', canvas_keyboard_event);\n",
       "    canvas_div.keyup('key_release', canvas_keyboard_event);\n",
       "    this.canvas_div = canvas_div\n",
       "    this._canvas_extra_style(canvas_div)\n",
       "    this.root.append(canvas_div);\n",
       "\n",
       "    var canvas = $('<canvas/>');\n",
       "    canvas.addClass('mpl-canvas');\n",
       "    canvas.attr('style', \"left: 0; top: 0; z-index: 0; outline: 0\")\n",
       "\n",
       "    this.canvas = canvas[0];\n",
       "    this.context = canvas[0].getContext(\"2d\");\n",
       "\n",
       "    var backingStore = this.context.backingStorePixelRatio ||\n",
       "\tthis.context.webkitBackingStorePixelRatio ||\n",
       "\tthis.context.mozBackingStorePixelRatio ||\n",
       "\tthis.context.msBackingStorePixelRatio ||\n",
       "\tthis.context.oBackingStorePixelRatio ||\n",
       "\tthis.context.backingStorePixelRatio || 1;\n",
       "\n",
       "    mpl.ratio = (window.devicePixelRatio || 1) / backingStore;\n",
       "\n",
       "    var rubberband = $('<canvas/>');\n",
       "    rubberband.attr('style', \"position: absolute; left: 0; top: 0; z-index: 1;\")\n",
       "\n",
       "    var pass_mouse_events = true;\n",
       "\n",
       "    canvas_div.resizable({\n",
       "        start: function(event, ui) {\n",
       "            pass_mouse_events = false;\n",
       "        },\n",
       "        resize: function(event, ui) {\n",
       "            fig.request_resize(ui.size.width, ui.size.height);\n",
       "        },\n",
       "        stop: function(event, ui) {\n",
       "            pass_mouse_events = true;\n",
       "            fig.request_resize(ui.size.width, ui.size.height);\n",
       "        },\n",
       "    });\n",
       "\n",
       "    function mouse_event_fn(event) {\n",
       "        if (pass_mouse_events)\n",
       "            return fig.mouse_event(event, event['data']);\n",
       "    }\n",
       "\n",
       "    rubberband.mousedown('button_press', mouse_event_fn);\n",
       "    rubberband.mouseup('button_release', mouse_event_fn);\n",
       "    // Throttle sequential mouse events to 1 every 20ms.\n",
       "    rubberband.mousemove('motion_notify', mouse_event_fn);\n",
       "\n",
       "    rubberband.mouseenter('figure_enter', mouse_event_fn);\n",
       "    rubberband.mouseleave('figure_leave', mouse_event_fn);\n",
       "\n",
       "    canvas_div.on(\"wheel\", function (event) {\n",
       "        event = event.originalEvent;\n",
       "        event['data'] = 'scroll'\n",
       "        if (event.deltaY < 0) {\n",
       "            event.step = 1;\n",
       "        } else {\n",
       "            event.step = -1;\n",
       "        }\n",
       "        mouse_event_fn(event);\n",
       "    });\n",
       "\n",
       "    canvas_div.append(canvas);\n",
       "    canvas_div.append(rubberband);\n",
       "\n",
       "    this.rubberband = rubberband;\n",
       "    this.rubberband_canvas = rubberband[0];\n",
       "    this.rubberband_context = rubberband[0].getContext(\"2d\");\n",
       "    this.rubberband_context.strokeStyle = \"#000000\";\n",
       "\n",
       "    this._resize_canvas = function(width, height) {\n",
       "        // Keep the size of the canvas, canvas container, and rubber band\n",
       "        // canvas in synch.\n",
       "        canvas_div.css('width', width)\n",
       "        canvas_div.css('height', height)\n",
       "\n",
       "        canvas.attr('width', width * mpl.ratio);\n",
       "        canvas.attr('height', height * mpl.ratio);\n",
       "        canvas.attr('style', 'width: ' + width + 'px; height: ' + height + 'px;');\n",
       "\n",
       "        rubberband.attr('width', width);\n",
       "        rubberband.attr('height', height);\n",
       "    }\n",
       "\n",
       "    // Set the figure to an initial 600x600px, this will subsequently be updated\n",
       "    // upon first draw.\n",
       "    this._resize_canvas(600, 600);\n",
       "\n",
       "    // Disable right mouse context menu.\n",
       "    $(this.rubberband_canvas).bind(\"contextmenu\",function(e){\n",
       "        return false;\n",
       "    });\n",
       "\n",
       "    function set_focus () {\n",
       "        canvas.focus();\n",
       "        canvas_div.focus();\n",
       "    }\n",
       "\n",
       "    window.setTimeout(set_focus, 100);\n",
       "}\n",
       "\n",
       "mpl.figure.prototype._init_toolbar = function() {\n",
       "    var fig = this;\n",
       "\n",
       "    var nav_element = $('<div/>');\n",
       "    nav_element.attr('style', 'width: 100%');\n",
       "    this.root.append(nav_element);\n",
       "\n",
       "    // Define a callback function for later on.\n",
       "    function toolbar_event(event) {\n",
       "        return fig.toolbar_button_onclick(event['data']);\n",
       "    }\n",
       "    function toolbar_mouse_event(event) {\n",
       "        return fig.toolbar_button_onmouseover(event['data']);\n",
       "    }\n",
       "\n",
       "    for(var toolbar_ind in mpl.toolbar_items) {\n",
       "        var name = mpl.toolbar_items[toolbar_ind][0];\n",
       "        var tooltip = mpl.toolbar_items[toolbar_ind][1];\n",
       "        var image = mpl.toolbar_items[toolbar_ind][2];\n",
       "        var method_name = mpl.toolbar_items[toolbar_ind][3];\n",
       "\n",
       "        if (!name) {\n",
       "            // put a spacer in here.\n",
       "            continue;\n",
       "        }\n",
       "        var button = $('<button/>');\n",
       "        button.addClass('ui-button ui-widget ui-state-default ui-corner-all ' +\n",
       "                        'ui-button-icon-only');\n",
       "        button.attr('role', 'button');\n",
       "        button.attr('aria-disabled', 'false');\n",
       "        button.click(method_name, toolbar_event);\n",
       "        button.mouseover(tooltip, toolbar_mouse_event);\n",
       "\n",
       "        var icon_img = $('<span/>');\n",
       "        icon_img.addClass('ui-button-icon-primary ui-icon');\n",
       "        icon_img.addClass(image);\n",
       "        icon_img.addClass('ui-corner-all');\n",
       "\n",
       "        var tooltip_span = $('<span/>');\n",
       "        tooltip_span.addClass('ui-button-text');\n",
       "        tooltip_span.html(tooltip);\n",
       "\n",
       "        button.append(icon_img);\n",
       "        button.append(tooltip_span);\n",
       "\n",
       "        nav_element.append(button);\n",
       "    }\n",
       "\n",
       "    var fmt_picker_span = $('<span/>');\n",
       "\n",
       "    var fmt_picker = $('<select/>');\n",
       "    fmt_picker.addClass('mpl-toolbar-option ui-widget ui-widget-content');\n",
       "    fmt_picker_span.append(fmt_picker);\n",
       "    nav_element.append(fmt_picker_span);\n",
       "    this.format_dropdown = fmt_picker[0];\n",
       "\n",
       "    for (var ind in mpl.extensions) {\n",
       "        var fmt = mpl.extensions[ind];\n",
       "        var option = $(\n",
       "            '<option/>', {selected: fmt === mpl.default_extension}).html(fmt);\n",
       "        fmt_picker.append(option);\n",
       "    }\n",
       "\n",
       "    // Add hover states to the ui-buttons\n",
       "    $( \".ui-button\" ).hover(\n",
       "        function() { $(this).addClass(\"ui-state-hover\");},\n",
       "        function() { $(this).removeClass(\"ui-state-hover\");}\n",
       "    );\n",
       "\n",
       "    var status_bar = $('<span class=\"mpl-message\"/>');\n",
       "    nav_element.append(status_bar);\n",
       "    this.message = status_bar[0];\n",
       "}\n",
       "\n",
       "mpl.figure.prototype.request_resize = function(x_pixels, y_pixels) {\n",
       "    // Request matplotlib to resize the figure. Matplotlib will then trigger a resize in the client,\n",
       "    // which will in turn request a refresh of the image.\n",
       "    this.send_message('resize', {'width': x_pixels, 'height': y_pixels});\n",
       "}\n",
       "\n",
       "mpl.figure.prototype.send_message = function(type, properties) {\n",
       "    properties['type'] = type;\n",
       "    properties['figure_id'] = this.id;\n",
       "    this.ws.send(JSON.stringify(properties));\n",
       "}\n",
       "\n",
       "mpl.figure.prototype.send_draw_message = function() {\n",
       "    if (!this.waiting) {\n",
       "        this.waiting = true;\n",
       "        this.ws.send(JSON.stringify({type: \"draw\", figure_id: this.id}));\n",
       "    }\n",
       "}\n",
       "\n",
       "\n",
       "mpl.figure.prototype.handle_save = function(fig, msg) {\n",
       "    var format_dropdown = fig.format_dropdown;\n",
       "    var format = format_dropdown.options[format_dropdown.selectedIndex].value;\n",
       "    fig.ondownload(fig, format);\n",
       "}\n",
       "\n",
       "\n",
       "mpl.figure.prototype.handle_resize = function(fig, msg) {\n",
       "    var size = msg['size'];\n",
       "    if (size[0] != fig.canvas.width || size[1] != fig.canvas.height) {\n",
       "        fig._resize_canvas(size[0], size[1]);\n",
       "        fig.send_message(\"refresh\", {});\n",
       "    };\n",
       "}\n",
       "\n",
       "mpl.figure.prototype.handle_rubberband = function(fig, msg) {\n",
       "    var x0 = msg['x0'] / mpl.ratio;\n",
       "    var y0 = (fig.canvas.height - msg['y0']) / mpl.ratio;\n",
       "    var x1 = msg['x1'] / mpl.ratio;\n",
       "    var y1 = (fig.canvas.height - msg['y1']) / mpl.ratio;\n",
       "    x0 = Math.floor(x0) + 0.5;\n",
       "    y0 = Math.floor(y0) + 0.5;\n",
       "    x1 = Math.floor(x1) + 0.5;\n",
       "    y1 = Math.floor(y1) + 0.5;\n",
       "    var min_x = Math.min(x0, x1);\n",
       "    var min_y = Math.min(y0, y1);\n",
       "    var width = Math.abs(x1 - x0);\n",
       "    var height = Math.abs(y1 - y0);\n",
       "\n",
       "    fig.rubberband_context.clearRect(\n",
       "        0, 0, fig.canvas.width / mpl.ratio, fig.canvas.height / mpl.ratio);\n",
       "\n",
       "    fig.rubberband_context.strokeRect(min_x, min_y, width, height);\n",
       "}\n",
       "\n",
       "mpl.figure.prototype.handle_figure_label = function(fig, msg) {\n",
       "    // Updates the figure title.\n",
       "    fig.header.textContent = msg['label'];\n",
       "}\n",
       "\n",
       "mpl.figure.prototype.handle_cursor = function(fig, msg) {\n",
       "    var cursor = msg['cursor'];\n",
       "    switch(cursor)\n",
       "    {\n",
       "    case 0:\n",
       "        cursor = 'pointer';\n",
       "        break;\n",
       "    case 1:\n",
       "        cursor = 'default';\n",
       "        break;\n",
       "    case 2:\n",
       "        cursor = 'crosshair';\n",
       "        break;\n",
       "    case 3:\n",
       "        cursor = 'move';\n",
       "        break;\n",
       "    }\n",
       "    fig.rubberband_canvas.style.cursor = cursor;\n",
       "}\n",
       "\n",
       "mpl.figure.prototype.handle_message = function(fig, msg) {\n",
       "    fig.message.textContent = msg['message'];\n",
       "}\n",
       "\n",
       "mpl.figure.prototype.handle_draw = function(fig, msg) {\n",
       "    // Request the server to send over a new figure.\n",
       "    fig.send_draw_message();\n",
       "}\n",
       "\n",
       "mpl.figure.prototype.handle_image_mode = function(fig, msg) {\n",
       "    fig.image_mode = msg['mode'];\n",
       "}\n",
       "\n",
       "mpl.figure.prototype.updated_canvas_event = function() {\n",
       "    // Called whenever the canvas gets updated.\n",
       "    this.send_message(\"ack\", {});\n",
       "}\n",
       "\n",
       "// A function to construct a web socket function for onmessage handling.\n",
       "// Called in the figure constructor.\n",
       "mpl.figure.prototype._make_on_message_function = function(fig) {\n",
       "    return function socket_on_message(evt) {\n",
       "        if (evt.data instanceof Blob) {\n",
       "            /* FIXME: We get \"Resource interpreted as Image but\n",
       "             * transferred with MIME type text/plain:\" errors on\n",
       "             * Chrome.  But how to set the MIME type?  It doesn't seem\n",
       "             * to be part of the websocket stream */\n",
       "            evt.data.type = \"image/png\";\n",
       "\n",
       "            /* Free the memory for the previous frames */\n",
       "            if (fig.imageObj.src) {\n",
       "                (window.URL || window.webkitURL).revokeObjectURL(\n",
       "                    fig.imageObj.src);\n",
       "            }\n",
       "\n",
       "            fig.imageObj.src = (window.URL || window.webkitURL).createObjectURL(\n",
       "                evt.data);\n",
       "            fig.updated_canvas_event();\n",
       "            fig.waiting = false;\n",
       "            return;\n",
       "        }\n",
       "        else if (typeof evt.data === 'string' && evt.data.slice(0, 21) == \"data:image/png;base64\") {\n",
       "            fig.imageObj.src = evt.data;\n",
       "            fig.updated_canvas_event();\n",
       "            fig.waiting = false;\n",
       "            return;\n",
       "        }\n",
       "\n",
       "        var msg = JSON.parse(evt.data);\n",
       "        var msg_type = msg['type'];\n",
       "\n",
       "        // Call the  \"handle_{type}\" callback, which takes\n",
       "        // the figure and JSON message as its only arguments.\n",
       "        try {\n",
       "            var callback = fig[\"handle_\" + msg_type];\n",
       "        } catch (e) {\n",
       "            console.log(\"No handler for the '\" + msg_type + \"' message type: \", msg);\n",
       "            return;\n",
       "        }\n",
       "\n",
       "        if (callback) {\n",
       "            try {\n",
       "                // console.log(\"Handling '\" + msg_type + \"' message: \", msg);\n",
       "                callback(fig, msg);\n",
       "            } catch (e) {\n",
       "                console.log(\"Exception inside the 'handler_\" + msg_type + \"' callback:\", e, e.stack, msg);\n",
       "            }\n",
       "        }\n",
       "    };\n",
       "}\n",
       "\n",
       "// from http://stackoverflow.com/questions/1114465/getting-mouse-location-in-canvas\n",
       "mpl.findpos = function(e) {\n",
       "    //this section is from http://www.quirksmode.org/js/events_properties.html\n",
       "    var targ;\n",
       "    if (!e)\n",
       "        e = window.event;\n",
       "    if (e.target)\n",
       "        targ = e.target;\n",
       "    else if (e.srcElement)\n",
       "        targ = e.srcElement;\n",
       "    if (targ.nodeType == 3) // defeat Safari bug\n",
       "        targ = targ.parentNode;\n",
       "\n",
       "    // jQuery normalizes the pageX and pageY\n",
       "    // pageX,Y are the mouse positions relative to the document\n",
       "    // offset() returns the position of the element relative to the document\n",
       "    var x = e.pageX - $(targ).offset().left;\n",
       "    var y = e.pageY - $(targ).offset().top;\n",
       "\n",
       "    return {\"x\": x, \"y\": y};\n",
       "};\n",
       "\n",
       "/*\n",
       " * return a copy of an object with only non-object keys\n",
       " * we need this to avoid circular references\n",
       " * http://stackoverflow.com/a/24161582/3208463\n",
       " */\n",
       "function simpleKeys (original) {\n",
       "  return Object.keys(original).reduce(function (obj, key) {\n",
       "    if (typeof original[key] !== 'object')\n",
       "        obj[key] = original[key]\n",
       "    return obj;\n",
       "  }, {});\n",
       "}\n",
       "\n",
       "mpl.figure.prototype.mouse_event = function(event, name) {\n",
       "    var canvas_pos = mpl.findpos(event)\n",
       "\n",
       "    if (name === 'button_press')\n",
       "    {\n",
       "        this.canvas.focus();\n",
       "        this.canvas_div.focus();\n",
       "    }\n",
       "\n",
       "    var x = canvas_pos.x * mpl.ratio;\n",
       "    var y = canvas_pos.y * mpl.ratio;\n",
       "\n",
       "    this.send_message(name, {x: x, y: y, button: event.button,\n",
       "                             step: event.step,\n",
       "                             guiEvent: simpleKeys(event)});\n",
       "\n",
       "    /* This prevents the web browser from automatically changing to\n",
       "     * the text insertion cursor when the button is pressed.  We want\n",
       "     * to control all of the cursor setting manually through the\n",
       "     * 'cursor' event from matplotlib */\n",
       "    event.preventDefault();\n",
       "    return false;\n",
       "}\n",
       "\n",
       "mpl.figure.prototype._key_event_extra = function(event, name) {\n",
       "    // Handle any extra behaviour associated with a key event\n",
       "}\n",
       "\n",
       "mpl.figure.prototype.key_event = function(event, name) {\n",
       "\n",
       "    // Prevent repeat events\n",
       "    if (name == 'key_press')\n",
       "    {\n",
       "        if (event.which === this._key)\n",
       "            return;\n",
       "        else\n",
       "            this._key = event.which;\n",
       "    }\n",
       "    if (name == 'key_release')\n",
       "        this._key = null;\n",
       "\n",
       "    var value = '';\n",
       "    if (event.ctrlKey && event.which != 17)\n",
       "        value += \"ctrl+\";\n",
       "    if (event.altKey && event.which != 18)\n",
       "        value += \"alt+\";\n",
       "    if (event.shiftKey && event.which != 16)\n",
       "        value += \"shift+\";\n",
       "\n",
       "    value += 'k';\n",
       "    value += event.which.toString();\n",
       "\n",
       "    this._key_event_extra(event, name);\n",
       "\n",
       "    this.send_message(name, {key: value,\n",
       "                             guiEvent: simpleKeys(event)});\n",
       "    return false;\n",
       "}\n",
       "\n",
       "mpl.figure.prototype.toolbar_button_onclick = function(name) {\n",
       "    if (name == 'download') {\n",
       "        this.handle_save(this, null);\n",
       "    } else {\n",
       "        this.send_message(\"toolbar_button\", {name: name});\n",
       "    }\n",
       "};\n",
       "\n",
       "mpl.figure.prototype.toolbar_button_onmouseover = function(tooltip) {\n",
       "    this.message.textContent = tooltip;\n",
       "};\n",
       "mpl.toolbar_items = [[\"Home\", \"Reset original view\", \"fa fa-home icon-home\", \"home\"], [\"Back\", \"Back to previous view\", \"fa fa-arrow-left icon-arrow-left\", \"back\"], [\"Forward\", \"Forward to next view\", \"fa fa-arrow-right icon-arrow-right\", \"forward\"], [\"\", \"\", \"\", \"\"], [\"Pan\", \"Pan axes with left mouse, zoom with right\", \"fa fa-arrows icon-move\", \"pan\"], [\"Zoom\", \"Zoom to rectangle\", \"fa fa-square-o icon-check-empty\", \"zoom\"], [\"\", \"\", \"\", \"\"], [\"Download\", \"Download plot\", \"fa fa-floppy-o icon-save\", \"download\"]];\n",
       "\n",
       "mpl.extensions = [\"eps\", \"jpeg\", \"pdf\", \"png\", \"ps\", \"raw\", \"svg\", \"tif\"];\n",
       "\n",
       "mpl.default_extension = \"png\";var comm_websocket_adapter = function(comm) {\n",
       "    // Create a \"websocket\"-like object which calls the given IPython comm\n",
       "    // object with the appropriate methods. Currently this is a non binary\n",
       "    // socket, so there is still some room for performance tuning.\n",
       "    var ws = {};\n",
       "\n",
       "    ws.close = function() {\n",
       "        comm.close()\n",
       "    };\n",
       "    ws.send = function(m) {\n",
       "        //console.log('sending', m);\n",
       "        comm.send(m);\n",
       "    };\n",
       "    // Register the callback with on_msg.\n",
       "    comm.on_msg(function(msg) {\n",
       "        //console.log('receiving', msg['content']['data'], msg);\n",
       "        // Pass the mpl event to the overridden (by mpl) onmessage function.\n",
       "        ws.onmessage(msg['content']['data'])\n",
       "    });\n",
       "    return ws;\n",
       "}\n",
       "\n",
       "mpl.mpl_figure_comm = function(comm, msg) {\n",
       "    // This is the function which gets called when the mpl process\n",
       "    // starts-up an IPython Comm through the \"matplotlib\" channel.\n",
       "\n",
       "    var id = msg.content.data.id;\n",
       "    // Get hold of the div created by the display call when the Comm\n",
       "    // socket was opened in Python.\n",
       "    var element = $(\"#\" + id);\n",
       "    var ws_proxy = comm_websocket_adapter(comm)\n",
       "\n",
       "    function ondownload(figure, format) {\n",
       "        window.open(figure.imageObj.src);\n",
       "    }\n",
       "\n",
       "    var fig = new mpl.figure(id, ws_proxy,\n",
       "                           ondownload,\n",
       "                           element.get(0));\n",
       "\n",
       "    // Call onopen now - mpl needs it, as it is assuming we've passed it a real\n",
       "    // web socket which is closed, not our websocket->open comm proxy.\n",
       "    ws_proxy.onopen();\n",
       "\n",
       "    fig.parent_element = element.get(0);\n",
       "    fig.cell_info = mpl.find_output_cell(\"<div id='\" + id + \"'></div>\");\n",
       "    if (!fig.cell_info) {\n",
       "        console.error(\"Failed to find cell for figure\", id, fig);\n",
       "        return;\n",
       "    }\n",
       "\n",
       "    var output_index = fig.cell_info[2]\n",
       "    var cell = fig.cell_info[0];\n",
       "\n",
       "};\n",
       "\n",
       "mpl.figure.prototype.handle_close = function(fig, msg) {\n",
       "    var width = fig.canvas.width/mpl.ratio\n",
       "    fig.root.unbind('remove')\n",
       "\n",
       "    // Update the output cell to use the data from the current canvas.\n",
       "    fig.push_to_output();\n",
       "    var dataURL = fig.canvas.toDataURL();\n",
       "    // Re-enable the keyboard manager in IPython - without this line, in FF,\n",
       "    // the notebook keyboard shortcuts fail.\n",
       "    IPython.keyboard_manager.enable()\n",
       "    $(fig.parent_element).html('<img src=\"' + dataURL + '\" width=\"' + width + '\">');\n",
       "    fig.close_ws(fig, msg);\n",
       "}\n",
       "\n",
       "mpl.figure.prototype.close_ws = function(fig, msg){\n",
       "    fig.send_message('closing', msg);\n",
       "    // fig.ws.close()\n",
       "}\n",
       "\n",
       "mpl.figure.prototype.push_to_output = function(remove_interactive) {\n",
       "    // Turn the data on the canvas into data in the output cell.\n",
       "    var width = this.canvas.width/mpl.ratio\n",
       "    var dataURL = this.canvas.toDataURL();\n",
       "    this.cell_info[1]['text/html'] = '<img src=\"' + dataURL + '\" width=\"' + width + '\">';\n",
       "}\n",
       "\n",
       "mpl.figure.prototype.updated_canvas_event = function() {\n",
       "    // Tell IPython that the notebook contents must change.\n",
       "    IPython.notebook.set_dirty(true);\n",
       "    this.send_message(\"ack\", {});\n",
       "    var fig = this;\n",
       "    // Wait a second, then push the new image to the DOM so\n",
       "    // that it is saved nicely (might be nice to debounce this).\n",
       "    setTimeout(function () { fig.push_to_output() }, 1000);\n",
       "}\n",
       "\n",
       "mpl.figure.prototype._init_toolbar = function() {\n",
       "    var fig = this;\n",
       "\n",
       "    var nav_element = $('<div/>');\n",
       "    nav_element.attr('style', 'width: 100%');\n",
       "    this.root.append(nav_element);\n",
       "\n",
       "    // Define a callback function for later on.\n",
       "    function toolbar_event(event) {\n",
       "        return fig.toolbar_button_onclick(event['data']);\n",
       "    }\n",
       "    function toolbar_mouse_event(event) {\n",
       "        return fig.toolbar_button_onmouseover(event['data']);\n",
       "    }\n",
       "\n",
       "    for(var toolbar_ind in mpl.toolbar_items){\n",
       "        var name = mpl.toolbar_items[toolbar_ind][0];\n",
       "        var tooltip = mpl.toolbar_items[toolbar_ind][1];\n",
       "        var image = mpl.toolbar_items[toolbar_ind][2];\n",
       "        var method_name = mpl.toolbar_items[toolbar_ind][3];\n",
       "\n",
       "        if (!name) { continue; };\n",
       "\n",
       "        var button = $('<button class=\"btn btn-default\" href=\"#\" title=\"' + name + '\"><i class=\"fa ' + image + ' fa-lg\"></i></button>');\n",
       "        button.click(method_name, toolbar_event);\n",
       "        button.mouseover(tooltip, toolbar_mouse_event);\n",
       "        nav_element.append(button);\n",
       "    }\n",
       "\n",
       "    // Add the status bar.\n",
       "    var status_bar = $('<span class=\"mpl-message\" style=\"text-align:right; float: right;\"/>');\n",
       "    nav_element.append(status_bar);\n",
       "    this.message = status_bar[0];\n",
       "\n",
       "    // Add the close button to the window.\n",
       "    var buttongrp = $('<div class=\"btn-group inline pull-right\"></div>');\n",
       "    var button = $('<button class=\"btn btn-mini btn-primary\" href=\"#\" title=\"Stop Interaction\"><i class=\"fa fa-power-off icon-remove icon-large\"></i></button>');\n",
       "    button.click(function (evt) { fig.handle_close(fig, {}); } );\n",
       "    button.mouseover('Stop Interaction', toolbar_mouse_event);\n",
       "    buttongrp.append(button);\n",
       "    var titlebar = this.root.find($('.ui-dialog-titlebar'));\n",
       "    titlebar.prepend(buttongrp);\n",
       "}\n",
       "\n",
       "mpl.figure.prototype._root_extra_style = function(el){\n",
       "    var fig = this\n",
       "    el.on(\"remove\", function(){\n",
       "\tfig.close_ws(fig, {});\n",
       "    });\n",
       "}\n",
       "\n",
       "mpl.figure.prototype._canvas_extra_style = function(el){\n",
       "    // this is important to make the div 'focusable\n",
       "    el.attr('tabindex', 0)\n",
       "    // reach out to IPython and tell the keyboard manager to turn it's self\n",
       "    // off when our div gets focus\n",
       "\n",
       "    // location in version 3\n",
       "    if (IPython.notebook.keyboard_manager) {\n",
       "        IPython.notebook.keyboard_manager.register_events(el);\n",
       "    }\n",
       "    else {\n",
       "        // location in version 2\n",
       "        IPython.keyboard_manager.register_events(el);\n",
       "    }\n",
       "\n",
       "}\n",
       "\n",
       "mpl.figure.prototype._key_event_extra = function(event, name) {\n",
       "    var manager = IPython.notebook.keyboard_manager;\n",
       "    if (!manager)\n",
       "        manager = IPython.keyboard_manager;\n",
       "\n",
       "    // Check for shift+enter\n",
       "    if (event.shiftKey && event.which == 13) {\n",
       "        this.canvas_div.blur();\n",
       "        // select the cell after this one\n",
       "        var index = IPython.notebook.find_cell_index(this.cell_info[0]);\n",
       "        IPython.notebook.select(index + 1);\n",
       "    }\n",
       "}\n",
       "\n",
       "mpl.figure.prototype.handle_save = function(fig, msg) {\n",
       "    fig.ondownload(fig, null);\n",
       "}\n",
       "\n",
       "\n",
       "mpl.find_output_cell = function(html_output) {\n",
       "    // Return the cell and output element which can be found *uniquely* in the notebook.\n",
       "    // Note - this is a bit hacky, but it is done because the \"notebook_saving.Notebook\"\n",
       "    // IPython event is triggered only after the cells have been serialised, which for\n",
       "    // our purposes (turning an active figure into a static one), is too late.\n",
       "    var cells = IPython.notebook.get_cells();\n",
       "    var ncells = cells.length;\n",
       "    for (var i=0; i<ncells; i++) {\n",
       "        var cell = cells[i];\n",
       "        if (cell.cell_type === 'code'){\n",
       "            for (var j=0; j<cell.output_area.outputs.length; j++) {\n",
       "                var data = cell.output_area.outputs[j];\n",
       "                if (data.data) {\n",
       "                    // IPython >= 3 moved mimebundle to data attribute of output\n",
       "                    data = data.data;\n",
       "                }\n",
       "                if (data['text/html'] == html_output) {\n",
       "                    return [cell, data, j];\n",
       "                }\n",
       "            }\n",
       "        }\n",
       "    }\n",
       "}\n",
       "\n",
       "// Register the function which deals with the matplotlib target/channel.\n",
       "// The kernel may be null if the page has been refreshed.\n",
       "if (IPython.notebook.kernel != null) {\n",
       "    IPython.notebook.kernel.comm_manager.register_target('matplotlib', mpl.mpl_figure_comm);\n",
       "}\n"
      ],
      "text/plain": [
       "<IPython.core.display.Javascript object>"
      ]
     },
     "metadata": {},
     "output_type": "display_data"
    },
    {
     "data": {
      "text/html": [
       "<img src=\"data:image/png;base64,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\" width=\"720\">"
      ],
      "text/plain": [
       "<IPython.core.display.HTML object>"
      ]
     },
     "metadata": {},
     "output_type": "display_data"
    }
   ],
   "source": [
    "from scipy.special import exp1\n",
    "from scipy.optimize import fmin\n",
    "from scipy.special import kn as BesselK\n",
    "\n",
    "Q = wQ.value; r = 30\n",
    "tfit = df['t1'].dropna()/60/24; sfit = df['s1'].dropna()\n",
    "\n",
    "def heval (t,r,T,S,c,Q):                 # calculate Hantush solution\n",
    "    T0  = np.where(T>1.e-10,T,1.e-10) \n",
    "    S0  = np.where(S>1.e-10,S,1.e-10)\n",
    "    c0  = np.where(c>1.e-10,c,1.e-10)\n",
    "    lamda = np.sqrt(T0*c0)                \n",
    "    rho = r/lamda\n",
    "    tau = np.log(2*lamda/r*t/(c0*S0))\n",
    "    s = Q/(4*np.pi*T0)*func_F(rho,tau)\n",
    "    return s                             # drawdown \n",
    "\n",
    "def ExpInt(n,u):\n",
    "    # Fast approximation for Wu according to equation 7a and 7b from Srivastava(1998)\n",
    "    gamma = 0.5772 # Euler-Macheroni constant\n",
    "    u0  = np.where(u<1.0,u,1) \n",
    "    Wu0 = np.log(np.exp(-gamma)/u0) + 0.9653*u - 0.1690*u0**2\n",
    "    u1 = np.where(u>=1.0,u,1) \n",
    "    Wu1 = 1/(u1*np.exp(u1))*(u1+0.3575)/(u1+1.280)\n",
    "    Wu = np.where(u<1.0,Wu0,Wu1)\n",
    "    return Wu\n",
    "\n",
    "def func_F(rho,tau):\n",
    "    e = exp1(rho)\n",
    "    e0 = np.where(e>0,e,1.e-10)\n",
    "    w = (e0-BesselK(0,rho))/(e0-exp1(rho/2))\n",
    "    F0 = w*exp1(rho/2*np.exp(-tau))-(w-1)*exp1(rho*np.cosh(tau))  \n",
    "    F1 = 2*BesselK(0,rho) - w*exp1(rho/2*np.exp(tau)) + (w-1)*exp1(rho*np.cosh(tau)) \n",
    "    #w = (ExpInt(1,rho)-BesselK(0,rho))/(ExpInt(1,rho)-ExpInt(1,rho/2))\n",
    "    #F0 = w*ExpInt(1,rho/2*np.exp(-tau))-(w-1)*ExpInt(1,rho*np.cosh(tau))\n",
    "    #F1 = 2*BesselK(0,rho) - w*ExpInt(1,rho/2*np.exp(tau)) + (w-1)*ExpInt(1,rho*np.cosh(tau))    \n",
    "    return (tau<=0)*F0+(tau>0)*F1   \n",
    "\n",
    "def hoptim (x):     \n",
    "    global r,tfit,sfit\n",
    "    T = x[0]; S = x[1]; c = x[2] \n",
    "    s = heval (tfit,r,T,S,c,Q)\n",
    "    res = (s-sfit)\n",
    "    return sum(res*res)                 # function to be minimized\n",
    "\n",
    "def on_weval2_clicked(self):   \n",
    "    global r,df,tfit,sfit    \n",
    "    print ('Oude Korendijk pumping test') \n",
    "    r = w3r.value; print ('Distance to pumping well: '+str(r))\n",
    "    T = w2T.value; print ('Initial transmissivity: '+str(T)) \n",
    "    S = w2S.value; print ('Initial storativity: '+str(S))\n",
    "    c = wc.value; print ('Initial resistance: '+str(c))\n",
    "\n",
    "    if r <= 50:   \n",
    "        tfit = df['t1'].dropna()/60/24; sfit = df['s1'].dropna()\n",
    "    else:\n",
    "        tfit = df['t2'].dropna()/60/24; sfit =df['s2'].dropna()  \n",
    "        \n",
    "    # parameter estimation---------------------------------------------------------\n",
    "    [Tfit,Sfit,cfit] = fmin(hoptim, [T,S,c])\n",
    "\n",
    "    # post-processing--------------------------------------------------------------   \n",
    "    D = T/S;  #print ('D='+str(D))\n",
    "    s = heval (tfit,r,Tfit,Sfit,cfit,Q)\n",
    "    dev = sfit-s \n",
    "    dev2 = dev*dev; norms = np.sqrt(sum(dev2))  \n",
    "    stde = np.sqrt(dev2.mean())\n",
    "    sr=2*dev.std()                            # to compare with hytool !\n",
    "    t = np.logspace(np.log10(tfit.min()),np.log10(tfit.max()),100)\n",
    "    fig = plt.figure(facecolor='w',figsize=(10,5)); ax = fig.add_subplot()\n",
    "    ax.set_xscale('log')\n",
    "    plt.plot(tfit,sfit,'o',label = 'measured') \n",
    "    plt.plot(t,heval(t,r,Tfit,Sfit,cfit,Q),'-', label = 'calculated', lw = 2)\n",
    "    plt.xlabel('time [d]'); plt.ylabel('drawdown [m]')\n",
    "    plt.title ('Pump test: Oude Korendijk, Parameter estimation: Hantush',fontsize=14)\n",
    "    plt.grid ()\n",
    "    plt.legend (loc='upper left',fontsize=12)\n",
    "    ax.text (0.04,0.5*sfit.max(),'$T =%.1f m^2/d $' % (Tfit, ),fontsize=12)\n",
    "    ax.text (0.04,0.4*sfit.max(),'$S =%.2e $' % (Sfit, ),fontsize=12)\n",
    "    ax.text (0.04,0.3*sfit.max(),'$c =%.0f d$' % (cfit, ),fontsize=12)\n",
    "    ax.text (0.04,0.2*sfit.max(),'$2-norm = %.2e $' % (norms, ),fontsize=12)\n",
    "    ax.text (0.04,0.1*sfit.max(),'$stdev = %.2e $' % (stde, ),fontsize=12)\n",
    "    ax.text (0.04,0,'$2stdev =%.2e $' % (sr, ),fontsize=12);\n",
    "\n",
    "weval2 = widgets.Button(description='Evaluate Hantush')        \n",
    "weval2.on_click(on_weval2_clicked)   \n",
    "widgets.VBox([weval2])"
   ]
  },
  {
   "cell_type": "markdown",
   "metadata": {
    "hideCode": false,
    "hidePrompt": false,
    "hide_input": true
   },
   "source": [
    "The test can be interpreted from the Theis or the Hantush point of view, i.e. without or with leakage from a layer with fixed head. Effects other than leakage may be relevant in a pumping test, like partial penetration of the screen in the aquifer, storage inside the well and delayed yield and, notably, any effects caused by non-linearity, such as non-constant aquifer thickness under the influence of the drawdown in water table aquifers. All such effects may play their role under various circumstances, but may initially be ignored, to be included only when the data show that it is necessary.\n",
    "\n",
    "**Task**: Perform parameter estimation based on Theis and Hantush methods! For both drawdown curves evaluate the outcomes using the fit measures and compare wiyth the results, obtained by the previously introduced methods! Is the aquifer confined or leaky? What values of $T$ and %S$, and $c$, if the aquifer is leaky, would you recommend in a report?\n",
    "\n",
    "**Task**: Based on your best estimates and depending on the aquifer thicknes, compute the hydraulic conductivity! Compare the outcome with the results from the Thiem evaluation for the unconfined aquifer!  "
   ]
  },
  {
   "cell_type": "markdown",
   "metadata": {
    "hideCode": false,
    "hidePrompt": false
   },
   "source": [
    "## Conclusion\n",
    "  \n",
    "For this notebook the pumping test performed at Oude Korendijk in the Netherlands was selected to demonstrate different basic evaluation methods. Some methods require few measured and observed data, others more. The evaluation methods based on the steady state or steady shape drawdown require few data only. More information from the aquifer is utilized, if the transient drawdown is taken into account. The introduced graphical methods include a subjective component, as people may interpret curve matchimg differently. Parameter estimation methods deliver a unique solution, which is locally optimal. Results from graphical methods can be used as initial guesses for the optimization. In that way the combination of graphical and mathematical methods ensures that the found solution delivers the best result for the characterization of the aquifer.         \n",
    "\n",
    "The input time series data are hard-wired in this notebook. In order to use the methods as implemented here in Jupyter for other pumping tests programmers may modify the data input. Python programmers may take exerpts from the notebook and use them in a programming environment. A notebook in which in user is enabled to enter data from other pumping tests can be found on the site https://github.com/eholzbe/PumpTest-evaluation.         "
   ]
  },
  {
   "cell_type": "markdown",
   "metadata": {
    "hideCode": false,
    "hidePrompt": false
   },
   "source": [
    "## Bibliography\n",
    "\n",
    "* Cooper H.H., Jacob C.E., A generalized graphical method for evaluating formation constants and summarizing well‐field history, Vol. 27(4), 526-534, 1946\n",
    "* de Glee G.J., Over grondwaterstromingen bij wateronttrekking door middel van putten, J. Waltman, Delft,  1930 (in Dutch)\n",
    "* Hantush M.S., Analysis of data from pumping tests in leaky aquifers, EOS, Vol. 37(6), 702-714, 1956\n",
    "* Hantush M.S., Flow of groundwater in relatively thick leaky aquifers, Water Res. Res., Vol. 3(2), 583-590, 1967\n",
    "* Hantush M.S., Jacob C.E., Non-steady radial flow in an infinite leaky aquifer, Trans. Am. Geophys. Union, Vol. 36, 95-100, 1955 \n",
    "* Kooper J., Beweging van het water in den bodem bij onttrekking door bronnen, De Ingenieur, Vol. 29(38), 697–706 and 29(39), 710–716, 1914 (in Dutch)\n",
    "* Krusemann G.P., de Ridder N.A., Untersuchung und Anwendung von Pumpversuchen, Verlagsges. R. Müller, Köln, 1973 (in German)\n",
    "* Kruseman G.P., de Ridder N.A., Interpretation et Discussion des Pompages d’Essai (translation from 2. ed. of 1973), Wageningen, 1974 (in French)\n",
    "* Krusemann G.P., de Ridder N.A., Analysis and evaluation of pumping test data, 2.Edition, Intern. Inst. for Land Reclamation and Improvement (ILRI), Publication 47, Wageningen, 1994, https://www.hydrology.nl/images/docs/dutch/key/Kruseman_and_De_Ridder_2000.pdf\n",
    "* Nelder, J.A., Mead R., A simplex method for function minimization, Computer Journal, Vol. 7(4), 308–313, 1965\n",
    "* Olsthoorn T., The Korendijk pumping test, https://notebook.community/Olsthoorn/TransientGroundwaterFlow/excercises_notebooks/Korendijk-ptest-theis, 2019\n",
    "* Thiem G., Hydrologische Methoden, J.M.Gebhardt, Leipzig, 1906 (in German)\n",
    "* Theis C.V., The relation between the lowering of the piezometric surface and the rate and duration of discharge of a well using ground-water storage, Transactions of the AGU, Vol. 16(2), 519-524, 1935\n",
    "* White R.W., Clebsch A., C.V. Theis - and a review of his life and work, in: Selected Contributions to Ground-Water Hydrology, US Geol. Survey Water-Supply Paper 2415, 1994, http://ponce.sdsu.edu/theis_biography.html \n",
    "* Wit K.E., De hydrologische bodemconstanten in de polder 'De Oude Korendijk' berekend uit pompproeven en laboratoriummetingen in ongeroerde monsters (The hydraulic characteristics of the Oude Korendijk polder, calculated from pumping test data and laboratory measurements of core samples), ICW Notas 190, 24p, 1963 (in Dutch)"
   ]
  },
  {
   "cell_type": "code",
   "execution_count": null,
   "metadata": {},
   "outputs": [],
   "source": []
  }
 ],
 "metadata": {
  "hide_code_all_hidden": false,
  "hide_input": true,
  "kernelspec": {
   "display_name": "Python 3",
   "language": "python",
   "name": "python3"
  },
  "language_info": {
   "codemirror_mode": {
    "name": "ipython",
    "version": 3
   },
   "file_extension": ".py",
   "mimetype": "text/x-python",
   "name": "python",
   "nbconvert_exporter": "python",
   "pygments_lexer": "ipython3",
   "version": "3.7.6"
  },
  "toc": {
   "base_numbering": 1,
   "nav_menu": {},
   "number_sections": true,
   "sideBar": true,
   "skip_h1_title": true,
   "title_cell": "Table of Contents",
   "title_sidebar": "Contents",
   "toc_cell": true,
   "toc_position": {},
   "toc_section_display": true,
   "toc_window_display": true
  },
  "varInspector": {
   "cols": {
    "lenName": 16,
    "lenType": 16,
    "lenVar": 40
   },
   "kernels_config": {
    "python": {
     "delete_cmd_postfix": "",
     "delete_cmd_prefix": "del ",
     "library": "var_list.py",
     "varRefreshCmd": "print(var_dic_list())"
    },
    "r": {
     "delete_cmd_postfix": ") ",
     "delete_cmd_prefix": "rm(",
     "library": "var_list.r",
     "varRefreshCmd": "cat(var_dic_list()) "
    }
   },
   "position": {
    "height": "768.85px",
    "left": "838px",
    "right": "20px",
    "top": "154px",
    "width": "469px"
   },
   "types_to_exclude": [
    "module",
    "function",
    "builtin_function_or_method",
    "instance",
    "_Feature"
   ],
   "window_display": false
  }
 },
 "nbformat": 4,
 "nbformat_minor": 4
}
