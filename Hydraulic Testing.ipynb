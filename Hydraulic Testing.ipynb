{
 "cells": [
  {
   "cell_type": "markdown",
   "metadata": {
    "hideCode": true,
    "hidePrompt": true,
    "hide_input": false
   },
   "source": [
    "\n",
    "<font size = 6px, style=\"color:blue\">**Hydraulic Testing:  Pumping Test Evaluation**</font>\n",
    "\n",
    "\n",
    "Prof. habil. Dr.-Ing. Dipl.-Math. Ekkehard Holzbecher\n",
    "\n",
    "*Demo Oude Korendijk \n",
    "(partially adopted and modified from Olsthoorn)* \n",
    "https://notebook.community/Olsthoorn/TransientGroundwaterFlow/excercises_notebooks/Korendijk-ptest-theis\n"
   ]
  },
  {
   "cell_type": "markdown",
   "metadata": {
    "hideCode": true,
    "hidePrompt": true
   },
   "source": [
    "**Brief instruction for non-Pythonists:** The notebook is build of cells that can be read and viewed, but also edited and run. There are different types of cells (see dropdown list at the top ribbon). It is recommended not to edit if you don't know what you are doing! Only those cells indicated as code have to be run (use button at top ribbon). It is convenient to run all cells at start (button: *restart the kernel and re-run the whole notebook*) and to *toggle everything* (button). To re-run a single cell use the *Run* button or press *Shift-Return* keys together. "
   ]
  },
  {
   "cell_type": "markdown",
   "metadata": {
    "hideCode": true,
    "hidePrompt": true,
    "toc": true
   },
   "source": [
    "<h1>Table of Contents<span class=\"tocSkip\"></span></h1>\n",
    "<div class=\"toc\"><ul class=\"toc-item\"><li><span><a href=\"#Introduction\" data-toc-modified-id=\"Introduction-1\"><span class=\"toc-item-num\">1&nbsp;&nbsp;</span>Introduction</a></span></li><li><span><a href=\"#The-Oude-Korendijk-Pumping-Test\" data-toc-modified-id=\"The-Oude-Korendijk-Pumping-Test-2\"><span class=\"toc-item-num\">2&nbsp;&nbsp;</span>The Oude Korendijk Pumping Test</a></span></li><li><span><a href=\"#Interpretation-using-Data-for-Steady-State-Drawdown\" data-toc-modified-id=\"Interpretation-using-Data-for-Steady-State-Drawdown-3\"><span class=\"toc-item-num\">3&nbsp;&nbsp;</span>Interpretation using Data for Steady State Drawdown</a></span><ul class=\"toc-item\"><li><span><a href=\"#Confined-Aquifer\" data-toc-modified-id=\"Confined-Aquifer-3.1\"><span class=\"toc-item-num\">3.1&nbsp;&nbsp;</span>Confined Aquifer</a></span></li><li><span><a href=\"#Unconfined-Aquifer\" data-toc-modified-id=\"Unconfined-Aquifer-3.2\"><span class=\"toc-item-num\">3.2&nbsp;&nbsp;</span>Unconfined Aquifer</a></span></li><li><span><a href=\"#Leaky-Aquifer\" data-toc-modified-id=\"Leaky-Aquifer-3.3\"><span class=\"toc-item-num\">3.3&nbsp;&nbsp;</span>Leaky Aquifer</a></span></li></ul></li><li><span><a href=\"#Unsteady-Data-Input-and-Visualization\" data-toc-modified-id=\"Unsteady-Data-Input-and-Visualization-4\"><span class=\"toc-item-num\">4&nbsp;&nbsp;</span>Unsteady Data Input and Visualization</a></span></li><li><span><a href=\"#Interpretation-based-on-the-Theis-Solution-(Cooper-Jacob)\" data-toc-modified-id=\"Interpretation-based-on-the-Theis-Solution-(Cooper-Jacob)-5\"><span class=\"toc-item-num\">5&nbsp;&nbsp;</span>Interpretation based on the Theis Solution (Cooper-Jacob)</a></span></li><li><span><a href=\"#Classical-Interpretation-using-the-Match-on-Double-Log-Scales\" data-toc-modified-id=\"Classical-Interpretation-using-the-Match-on-Double-Log-Scales-6\"><span class=\"toc-item-num\">6&nbsp;&nbsp;</span>Classical Interpretation using the Match on Double Log Scales</a></span><ul class=\"toc-item\"><li><span><a href=\"#Manual-Fitting\" data-toc-modified-id=\"Manual-Fitting-6.1\"><span class=\"toc-item-num\">6.1&nbsp;&nbsp;</span>Manual Fitting</a></span></li><li><span><a href=\"#Using-the-Interface\" data-toc-modified-id=\"Using-the-Interface-6.2\"><span class=\"toc-item-num\">6.2&nbsp;&nbsp;</span>Using the Interface</a></span><ul class=\"toc-item\"><li><span><a href=\"#Multi-Graph\" data-toc-modified-id=\"Multi-Graph-6.2.1\"><span class=\"toc-item-num\">6.2.1&nbsp;&nbsp;</span>Multi-Graph</a></span></li><li><span><a href=\"#Single-Graph\" data-toc-modified-id=\"Single-Graph-6.2.2\"><span class=\"toc-item-num\">6.2.2&nbsp;&nbsp;</span>Single Graph</a></span></li><li><span><a href=\"#Fit-Measures\" data-toc-modified-id=\"Fit-Measures-6.2.3\"><span class=\"toc-item-num\">6.2.3&nbsp;&nbsp;</span>Fit Measures</a></span></li></ul></li></ul></li><li><span><a href=\"#Parameter-Estimation\" data-toc-modified-id=\"Parameter-Estimation-7\"><span class=\"toc-item-num\">7&nbsp;&nbsp;</span>Parameter Estimation</a></span><ul class=\"toc-item\"><li><span><a href=\"#Confined-Aquifer\" data-toc-modified-id=\"Confined-Aquifer-7.1\"><span class=\"toc-item-num\">7.1&nbsp;&nbsp;</span>Confined Aquifer</a></span></li><li><span><a href=\"#Leaky-Aquifer\" data-toc-modified-id=\"Leaky-Aquifer-7.2\"><span class=\"toc-item-num\">7.2&nbsp;&nbsp;</span>Leaky Aquifer</a></span></li></ul></li><li><span><a href=\"#Conclusion\" data-toc-modified-id=\"Conclusion-8\"><span class=\"toc-item-num\">8&nbsp;&nbsp;</span>Conclusion</a></span></li><li><span><a href=\"#Bibliography\" data-toc-modified-id=\"Bibliography-9\"><span class=\"toc-item-num\">9&nbsp;&nbsp;</span>Bibliography</a></span></li></ul></div>"
   ]
  },
  {
   "cell_type": "markdown",
   "metadata": {
    "hideCode": true,
    "hidePrompt": true
   },
   "source": [
    "## Introduction\n",
    "\n",
    "In a pumping test the drawdown of the water table in a piezometer is recorded, as response to pumping from a nearby well. Pumping tests belong into the common toolbox of hydro-geologists, used to obtain basic parameters for aquifer characterization. It is common practice to determine transmissivity (T) and storativity (S) from fitting 1D-analytical solutions to the observed drawdown. The application of this classical evaluation method is related to various idealized assumptions.\n",
    "\n",
    "The most important ones are listed in the sequel. The aquifer is homogeneous and isotropic, has a constant thickness and has infinite extend. The well is assumed to be ideal, i.e. it is screened over the entire thickness of the aquifer. The well diameter is small. Pumping is performed at constant rate.\n",
    "\n",
    "In 1970 Kruseman & de Ridder published the probably most used and referenced textbook on pumping test evaluations. A translation in German came out in 1973, in French 1974. The book was revised several times. The 1994 version is free available on the internet. The book covers evaluation methods for various types of aquifers and conditions on groundwater wells, including examples with data. In the book the most common method, introduced by Theis (1937), is outlined using a pumping test, performed at a location called the Oude Korendijk in the Netherlands.  "
   ]
  },
  {
   "cell_type": "markdown",
   "metadata": {
    "hideCode": true,
    "hidePrompt": true
   },
   "source": [
    "## The Oude Korendijk Pumping Test"
   ]
  },
  {
   "cell_type": "markdown",
   "metadata": {
    "hideCode": true,
    "hidePrompt": true
   },
   "source": [
    "In a report Wit (1963) describes and evaluates several pumping tests, performed in the Oude Korendijk polder areas. The one most cited test is identified as H2 in the original paper, which was performed on July 10$^{th}$1962. The figure below gives an impression on the type of landscape in polder areas in the Netherlands.    "
   ]
  },
  {
   "cell_type": "markdown",
   "metadata": {
    "hideCode": true,
    "hidePrompt": true,
    "hide_input": true
   },
   "source": [
    "<div><img src=\"OKfoto.png\" align=\"center\"/></div>"
   ]
  },
  {
   "cell_type": "markdown",
   "metadata": {
    "hideCode": true,
    "hidePrompt": true
   },
   "source": [
    "The locality south of Rotterdam is shown in the figures below, as depicted by Googlemaps and in the original report (Wit 1963). In the south, at the bottom of the figure, the Rhine river can be identified. The area is criss-crossed by various trenches for drainage.  "
   ]
  },
  {
   "cell_type": "markdown",
   "metadata": {
    "hideCode": true,
    "hidePrompt": true,
    "hide_input": false
   },
   "source": [
    " <tr>\n",
    "    <td> <img src=\"OK1a.png\" width=\"400\" height=\"270\"/> </td>\n",
    "    <td> <img src=\"OK1.png\" width=\"360\" height=\"240\"/> </td>\n",
    " </tr>"
   ]
  },
  {
   "cell_type": "markdown",
   "metadata": {
    "hideCode": true,
    "hidePrompt": true
   },
   "source": [
    "The Oude Korendijk pumping test is a test in a confined, leaky or unconfined setting, which yield a value for the aquifers' transmissivity and its storage coefficient. The following figure depicts a cross sectional view of the geological situation at the site (Wit 1963). The figure text is in Dutch; here some translations: pompput = pumping well, zand = sand, veen = peat, grint = gravel, peilfilter = filter. "
   ]
  },
  {
   "cell_type": "markdown",
   "metadata": {
    "hideCode": true,
    "hidePrompt": true,
    "hide_input": true
   },
   "source": [
    "<div><img src=\"OK2.png\" width=\"720\" align=\"center\"/></div>"
   ]
  },
  {
   "cell_type": "markdown",
   "metadata": {
    "hideCode": true,
    "hidePrompt": true
   },
   "source": [
    "The well was pumped with a constant rate of 788 m$^3$/d. There are four piezometers in the vicinity of the pumping well, which can be taken as observation points. The nearest is only 80 cm away from the well. The other three observation points are located in distances of 30 m, 90 m and 215 m. The following figure shows the locations and final drawdown in the Oude Korendijk pumping test measured after almost 14 hours past pump start."
   ]
  },
  {
   "cell_type": "markdown",
   "metadata": {
    "hideCode": true,
    "hidePrompt": true
   },
   "source": [
    "<div><img src=\"OK3.png\" width=\"720\" align=\"center\"/></div>"
   ]
  },
  {
   "cell_type": "markdown",
   "metadata": {
    "hideCode": true,
    "hidePrompt": true
   },
   "source": [
    "## Interpretation using Data for Steady State Drawdown"
   ]
  },
  {
   "cell_type": "markdown",
   "metadata": {
    "hideCode": true,
    "hidePrompt": true
   },
   "source": [
    "For all evaluations we need the pumping rate, here in physical units m$^3$/d: "
   ]
  },
  {
   "cell_type": "code",
   "execution_count": 1,
   "metadata": {
    "hideCode": true,
    "hidePrompt": true,
    "hide_input": false,
    "scrolled": false
   },
   "outputs": [
    {
     "data": {
      "application/vnd.jupyter.widget-view+json": {
       "model_id": "788e7d7eb48740f8ba783091e6f626a9",
       "version_major": 2,
       "version_minor": 0
      },
      "text/plain": [
       "BoundedFloatText(value=788.0, description='Pump rate:', max=1000.0, step=1.0)"
      ]
     },
     "metadata": {},
     "output_type": "display_data"
    }
   ],
   "source": [
    "from scipy.special import exp1\n",
    "import numpy as np\n",
    "import matplotlib.pyplot as plt\n",
    "import pandas as pd\n",
    "import ipywidgets as widgets\n",
    "#from IPython.display import display\n",
    "#from IPython.display import HTML\n",
    "#import IPython.core.display as di # Example: di.display_html('<h3>%s:</h3>' % str, raw=True)\n",
    "# This line will hide code by default when the notebook is exported as HTML\n",
    "#di.display_html('<script>jQuery(function() {if (jQuery(\"body.notebook_app\").length == 0) { jQuery(\".input_area\").toggle(); jQuery(\".prompt\").toggle();}});</script>', raw=True)\n",
    "#%matplotlib inline\n",
    "Q = 788.0\n",
    "wQ = widgets.BoundedFloatText(value=788, min=0, max=1000.0, step=1, description='Pump rate:', disabled=False)\n",
    "wQ"
   ]
  },
  {
   "cell_type": "markdown",
   "metadata": {
    "hideCode": true,
    "hidePrompt": true,
    "hide_input": true
   },
   "source": [
    "The input box is disabled as we deal here with the same one pumping test. For the following we need different combinations of two observation locations and the drawdowns measured there. In the boxes below enter distances and final drawdowns from the figure above (in meter)! Defaults are the inputs for the combination of boreholes H30 and H90."
   ]
  },
  {
   "cell_type": "code",
   "execution_count": 2,
   "metadata": {
    "hideCode": true,
    "hidePrompt": true,
    "hide_input": true,
    "scrolled": false
   },
   "outputs": [
    {
     "data": {
      "application/vnd.jupyter.widget-view+json": {
       "model_id": "6bf472167a314fb68ede4c2cc550dcdc",
       "version_major": 2,
       "version_minor": 0
      },
      "text/plain": [
       "HBox(children=(BoundedFloatText(value=30.0, description='$r_1$:', max=215.0), BoundedFloatText(value=90.0, des…"
      ]
     },
     "metadata": {},
     "output_type": "display_data"
    }
   ],
   "source": [
    "wr1 = widgets.BoundedFloatText(value=30.0, min=0.0, max=215.0, description='$r_1$:', disabled=False)\n",
    "wr2 = widgets.BoundedFloatText(value=90.0, min=0.0, max=215.0, description='$r_2$:', disabled=False)\n",
    "widgets.HBox([wr1,wr2]) "
   ]
  },
  {
   "cell_type": "code",
   "execution_count": 3,
   "metadata": {
    "hideCode": true,
    "hidePrompt": true
   },
   "outputs": [
    {
     "data": {
      "application/vnd.jupyter.widget-view+json": {
       "model_id": "c544bacd9cbe46d8a4727be174dcda60",
       "version_major": 2,
       "version_minor": 0
      },
      "text/plain": [
       "HBox(children=(BoundedFloatText(value=1.088, description='$s_1$:', max=3.0), BoundedFloatText(value=0.716, des…"
      ]
     },
     "metadata": {},
     "output_type": "display_data"
    }
   ],
   "source": [
    "ws1 = widgets.BoundedFloatText(value=1.088, min=0.0, max=3.0, description='$s_1$:', disabled=False)\n",
    "ws2 = widgets.BoundedFloatText(value=0.716, min=0.0, max=3.0, description='$s_2$:', disabled=False)\n",
    "widgets.HBox([ws1,ws2])"
   ]
  },
  {
   "cell_type": "markdown",
   "metadata": {
    "hideCode": true,
    "hidePrompt": true
   },
   "source": [
    "### Confined Aquifer\n",
    "The solution for the steady state drawdown $s$ in a distance $r$ from the pumping well after a long time of pumping was given by Thiem (1906)"
   ]
  },
  {
   "cell_type": "markdown",
   "metadata": {
    "hideCode": true,
    "hidePrompt": true
   },
   "source": [
    "$$ s(r) = -\\frac {Q} {2 \\pi T} \\ln (r)+C $$"
   ]
  },
  {
   "cell_type": "markdown",
   "metadata": {
    "hideCode": true,
    "hidePrompt": true
   },
   "source": [
    "The transmissivity $T$ is a property of the aquifer, characterizing its ability to conduct water. $Q$ denotes the pumping rate. $C$ is an integration constant that emerges due to the solution of a differential equation. If the final drawdown measures $s_1$ and $s_2$ are given at two observation points at different distances $r_1$ and $r_2$, the integration constant can be eliminated and a formula for the transmissivity results: "
   ]
  },
  {
   "cell_type": "markdown",
   "metadata": {
    "hideCode": true,
    "hidePrompt": true,
    "hide_input": false
   },
   "source": [
    "$$ T = \\frac {Q} {2 \\pi (s_1-s_2)} \\ln (r_2/r_1) $$"
   ]
  },
  {
   "cell_type": "markdown",
   "metadata": {
    "hideCode": true,
    "hidePrompt": true
   },
   "source": [
    "In the Oude Korendijk pump test a steady state was not reached. However, the difference between the drawdown values in the two major observation wells remains almost constant. We call this a quasi-steady state, assuming that the difference will be the same, when a stationary situation is reached. Click the button to see the result for transmissivity."
   ]
  },
  {
   "cell_type": "code",
   "execution_count": 4,
   "metadata": {
    "hideCode": true,
    "hidePrompt": true,
    "hide_input": true
   },
   "outputs": [
    {
     "data": {
      "application/vnd.jupyter.widget-view+json": {
       "model_id": "323b09b7925345e2bef0ec26de5fb4a7",
       "version_major": 2,
       "version_minor": 0
      },
      "text/plain": [
       "Button(description='Compute T', style=ButtonStyle())"
      ]
     },
     "metadata": {},
     "output_type": "display_data"
    },
    {
     "name": "stdout",
     "output_type": "stream",
     "text": [
      "T = 47 m²/d\n"
     ]
    }
   ],
   "source": [
    "btn = widgets.Button(description='Compute T')\n",
    "display(btn)\n",
    "\n",
    "def btn_eventhandler(obj):\n",
    "    global T1\n",
    "    Q = wQ.value         \n",
    "    r1 = wr1.value; s1 = ws1.value; r2 =wr2.value; s2 = ws2.value  # distances and drawdown \n",
    "    T1 = Q * np.log(r1/r2) / (2*np.pi*(s2-s1))\n",
    "    print('T = {:.0f} m\\u00b2/d'.format(T1))\n",
    "    \n",
    "btn.on_click(btn_eventhandler)     "
   ]
  },
  {
   "cell_type": "markdown",
   "metadata": {
    "hideCode": true,
    "hidePrompt": true
   },
   "source": [
    "In that way for $T$ six different values can be obtained using the different combinations of the observation values. In order to get only one value one may take some average of these. \n",
    "\n",
    "It is much better to find the Thiem curve that fits best with the data values. That can be done by using an optimization algorithm. Here we use linear regression in the semi-logarithmical coordinate system. The results difffer only slighly from results in real world coordinates. Get graphical and numerical results by using the buttons below.      "
   ]
  },
  {
   "cell_type": "code",
   "execution_count": 57,
   "metadata": {
    "hideCode": true,
    "hidePrompt": true,
    "hide_input": false
   },
   "outputs": [
    {
     "data": {
      "application/vnd.jupyter.widget-view+json": {
       "model_id": "3ea199f69cf2422ca3b92f6055c08512",
       "version_major": 2,
       "version_minor": 0
      },
      "text/plain": [
       "HBox(children=(Button(description='Confined aquifer fit', style=ButtonStyle()), Checkbox(value=False, descript…"
      ]
     },
     "metadata": {},
     "output_type": "display_data"
    }
   ],
   "source": [
    "%matplotlib inline\n",
    "plt.rcParams[\"figure.figsize\"] = (10,5) \n",
    "\n",
    "rfit = [0.8, 30, 90, 215]\n",
    "srfit = [2.235, 1.088, 0.716, 0.25] \n",
    "\n",
    "def on_wth_clicked(self):\n",
    "    global T1\n",
    "    n = len(rfit); lr = np.log(rfit)        # linear regression\n",
    "    p1 = (n*np.sum(lr*srfit)-np.sum(lr)*np.sum(srfit))/(n*np.sum(lr*lr)-np.sum(lr)**2)\n",
    "    p0 = (sum(srfit)-p1*sum(lr))/n\n",
    "    Q = wQ.value\n",
    "    T = -Q/2/np.pi/p1                       # transmissivity \n",
    "    R = np.exp(-p0/p1)                      # reach\n",
    "    sfit = -Q*(np.log(rfit)-np.log(R))/2/np.pi/T\n",
    "    norms = np.linalg.norm(srfit-sfit)\n",
    "    stdev = np.sqrt(np.mean((srfit-sfit)**2))\n",
    "    rmax = max(rfit); smax = max(srfit)\n",
    "    r = np.arange(.9*min(rfit), rmax, step = rmax/50)\n",
    "    s = -Q*(np.log(r)-np.log(R))/2/np.pi/T\n",
    "    fig = plt.figure(facecolor='w'); ax = fig.add_subplot()\n",
    "    if wca.value: \n",
    "        ax.set_xscale('log'); xtext = 1\n",
    "    else:\n",
    "        xtext = 130\n",
    "    plt.plot (rfit,srfit, 'o', label = 'observation' )\n",
    "    plt.plot (r,s, '.-', label = 'modelled' )\n",
    "    plt.xlabel('distance [m]',fontsize=12)\n",
    "    plt.ylabel('drawdown [m]',fontsize=12)\n",
    "    ax.grid(b=True, c='w', lw=2, ls='-')\n",
    "    plt.legend(loc = 'upper right',fontsize=12)\n",
    "    ax.text (xtext,.7*smax,'$T = %.1f m^2/d$' % (T, ),fontsize=12)\n",
    "    ax.text (xtext,.6*smax,'2-norm = $%.3e $' % (norms, ),fontsize=12)\n",
    "    ax.text (xtext,.5*smax,'stdev = $%.3e $' % (stdev, ),fontsize=12)\n",
    "    plt.title('Pump test: Oude Korendijk, Curve Fitting: Thiem', fontsize=14)\n",
    "    T1 = T\n",
    "\n",
    "wth = widgets.Button(description='Confined aquifer fit')        \n",
    "wth.on_click(on_wth_clicked)   \n",
    "wca = widgets.Checkbox(value=False, description='log', disabled=False, indent=False)\n",
    "widgets.HBox([wth,wca]) "
   ]
  },
  {
   "cell_type": "markdown",
   "metadata": {
    "hideCode": true,
    "hidePrompt": true,
    "hide_input": false
   },
   "source": [
    "The transmissivity is related to the conductivity $K$ of the porous medium in the aquifer by: $T=K \\cdot D$, where $D$ denotes the aquifer thickness. \n",
    "\n",
    "For the computation of the conductivity the aquifer thickness $D$ of the aquifer has to be given. "
   ]
  },
  {
   "cell_type": "code",
   "execution_count": 6,
   "metadata": {
    "hideCode": true,
    "hidePrompt": true,
    "hide_input": true,
    "scrolled": false
   },
   "outputs": [
    {
     "data": {
      "application/vnd.jupyter.widget-view+json": {
       "model_id": "1800ea8e5ada47f7ab889906035c57a3",
       "version_major": 2,
       "version_minor": 0
      },
      "text/plain": [
       "BoundedFloatText(value=10.0, description='Thickness:', max=15.0, min=1.0, step=1.5)"
      ]
     },
     "metadata": {},
     "output_type": "display_data"
    }
   ],
   "source": [
    "wD = widgets.BoundedFloatText(value=10, min=1, max=15.0, step=1.5, description='Thickness:', disabled=False)\n",
    "wD"
   ]
  },
  {
   "cell_type": "markdown",
   "metadata": {
    "hideCode": true,
    "hidePrompt": true,
    "hide_input": true
   },
   "source": [
    " Obtain the result for the hydraulic conductivity of the porous medium by clicking the button. "
   ]
  },
  {
   "cell_type": "code",
   "execution_count": 58,
   "metadata": {
    "hideCode": true,
    "hidePrompt": true,
    "hide_input": true,
    "scrolled": true
   },
   "outputs": [
    {
     "data": {
      "application/vnd.jupyter.widget-view+json": {
       "model_id": "e5f5e674a5714512a2ee090a88184e6e",
       "version_major": 2,
       "version_minor": 0
      },
      "text/plain": [
       "Button(description='Compute K', style=ButtonStyle())"
      ]
     },
     "metadata": {},
     "output_type": "display_data"
    }
   ],
   "source": [
    "btn = widgets.Button(description='Compute K')\n",
    "display(btn)\n",
    "\n",
    "def btn_eventhandler(obj):\n",
    "    global T1\n",
    "    print('K = {:.1f} m/d'.format(T1/wD.value))\n",
    "    \n",
    "btn.on_click(btn_eventhandler)      "
   ]
  },
  {
   "cell_type": "markdown",
   "metadata": {
    "hideCode": true,
    "hidePrompt": true,
    "hide_input": true
   },
   "source": [
    "### Unconfined Aquifer \n",
    "The Thiem formula shown above holds for a confined aquifer. An analogous derivation derivation can be performed for an unconfined aquifer. The formula for the hydraulic head is:"
   ]
  },
  {
   "cell_type": "markdown",
   "metadata": {
    "hideCode": true,
    "hidePrompt": true
   },
   "source": [
    "$$ h^2(r) = \\frac {Q} {\\pi K} \\ln (r)+C $$"
   ]
  },
  {
   "cell_type": "markdown",
   "metadata": {
    "hideCode": true,
    "hidePrompt": true
   },
   "source": [
    "where $h$ denotes the piezometric head, measured from the aquifer base. From this one obtains: "
   ]
  },
  {
   "cell_type": "markdown",
   "metadata": {
    "hideCode": true,
    "hidePrompt": true,
    "hide_input": false
   },
   "source": [
    "$$ K = \\frac {Q} {\\pi (h_2^2-h_1^2)} \\ln (r_2/r_1) $$"
   ]
  },
  {
   "cell_type": "markdown",
   "metadata": {
    "hideCode": true,
    "hidePrompt": true
   },
   "source": [
    "For the calculation the constant initial head is required. Enter it here: "
   ]
  },
  {
   "cell_type": "code",
   "execution_count": 8,
   "metadata": {
    "hideCode": true,
    "hidePrompt": true,
    "hide_input": true,
    "scrolled": false
   },
   "outputs": [
    {
     "data": {
      "application/vnd.jupyter.widget-view+json": {
       "model_id": "5a9cc95a05c34d09a2519174febf1d79",
       "version_major": 2,
       "version_minor": 0
      },
      "text/plain": [
       "BoundedFloatText(value=10.0, description='Initial head:', max=15.0, min=1.0, step=1.5)"
      ]
     },
     "metadata": {},
     "output_type": "display_data"
    }
   ],
   "source": [
    "wH = widgets.BoundedFloatText(value=10, min=1, max=15.0, step=1.5, description='Initial head:', disabled=False)\n",
    "wH"
   ]
  },
  {
   "cell_type": "markdown",
   "metadata": {
    "hideCode": true,
    "hidePrompt": true
   },
   "source": [
    " and obtain the result by clicking the button. "
   ]
  },
  {
   "cell_type": "code",
   "execution_count": 59,
   "metadata": {
    "hideCode": true,
    "hidePrompt": true,
    "hide_input": false,
    "scrolled": false
   },
   "outputs": [
    {
     "data": {
      "application/vnd.jupyter.widget-view+json": {
       "model_id": "36e3ae70920549d6b5a8acd6d6874b31",
       "version_major": 2,
       "version_minor": 0
      },
      "text/plain": [
       "Button(description='Compute K', style=ButtonStyle())"
      ]
     },
     "metadata": {},
     "output_type": "display_data"
    }
   ],
   "source": [
    "btn = widgets.Button(description='Compute K')\n",
    "display(btn)\n",
    "\n",
    "def btn_eventhandler(obj):\n",
    "    r1 = wr1.value; s1 = ws1.value; r2 =wr2.value; s2 = ws2.value  # distances and drawdown \n",
    "    h1 = wH.value-s1; h2 = wH.value-s2\n",
    "    Q = wQ.value\n",
    "    K1 = Q * np.log(r2/r1) / np.pi / (h2**2-h1**2)\n",
    "    print('K = {:.1f} m/d'.format(K1))\n",
    "    \n",
    "btn.on_click(btn_eventhandler)     "
   ]
  },
  {
   "cell_type": "markdown",
   "metadata": {
    "hideCode": true,
    "hidePrompt": true
   },
   "source": [
    "Also for this pumping we don't know the exact value of the initial head. Change its value and see the effect on the resulting conductivity! \n",
    "Compare the result with the conductivities that results from the Thiem evaluation for the confined aquifer, identifying the aquifer thickness with the initial head."
   ]
  },
  {
   "cell_type": "markdown",
   "metadata": {
    "hideCode": true,
    "hidePrompt": true
   },
   "source": [
    "**Task**: Use the Thiem evaluation for the steady state taking the measurements at the near and far observation points also into consideration. Examine results for different pairs of observations!  \n",
    "\n",
    "Lets calculate the hydraulic conductivity from a best fit using all four measured drawdown values. Again we use linear regression in semi-logarithmic coordinates. Click the button!"
   ]
  },
  {
   "cell_type": "code",
   "execution_count": 56,
   "metadata": {
    "hideCode": true,
    "hidePrompt": true,
    "hide_input": true
   },
   "outputs": [
    {
     "data": {
      "application/vnd.jupyter.widget-view+json": {
       "model_id": "2a6a1c85735d4a2b94e030b1c67927b9",
       "version_major": 2,
       "version_minor": 0
      },
      "text/plain": [
       "HBox(children=(Button(description='Unconfined aquifer fit', style=ButtonStyle()), Checkbox(value=False, descri…"
      ]
     },
     "metadata": {},
     "output_type": "display_data"
    }
   ],
   "source": [
    "%matplotlib inline\n",
    "plt.rcParams[\"figure.figsize\"] = (10,5) \n",
    "\n",
    "rfit = np.array([0.8, 30, 90, 215])\n",
    "srfit = np.array([2.235, 1.088, 0.716, 0.25]) \n",
    "\n",
    "def on_wth2_clicked(self):\n",
    "    h0 = wH.value                       \n",
    "    if h0 < 8.5:                # from  MATLAB lsqcurvefit using real world coordinates\n",
    "        K = 64.0; R = 854.4                 # h0 = 7\n",
    "    else:\n",
    "        if h0 > 8.5:\n",
    "            K = 41.6; R = 749.8             # h0 = 10\n",
    "        else:\n",
    "            K = 50.4; R = 789.1             # h0 = 8.5\n",
    "    \n",
    "    srfit = np.array([2.235, 1.088, 0.716, 0.25]) \n",
    "    h2fit = (h0-srfit)**2                   # linear regression\n",
    "    n = len(rfit); lr = np.log(rfit)        \n",
    "    p1 = (n*np.sum(lr*h2fit)-np.sum(lr)*np.sum(h2fit))/(n*np.sum(lr*lr)-np.sum(lr)**2)\n",
    "    p0 = (sum(h2fit)-p1*sum(lr))/n\n",
    "    Q = wQ.value\n",
    "    K = Q/np.pi/p1                          # conductivity \n",
    "    R = np.exp((h0*h0-p0)/p1)                      # reach\n",
    "    hrfit = h0 - srfit \n",
    "    hfit = np.sqrt(h0*h0+Q*(np.log(rfit)-np.log(R))/np.pi/K)\n",
    "    norms = np.linalg.norm(hrfit-hfit)\n",
    "    stdev = np.sqrt(np.mean((hrfit-hfit)**2))\n",
    "    rmax = max(rfit); smax = max(srfit)\n",
    "    r = np.arange(.9*min(rfit), rmax, step = rmax/50)\n",
    "    h = np.sqrt(h0*h0+Q*(np.log(r)-np.log(R))/np.pi/K)\n",
    "    fig = plt.figure(facecolor='w'); ax = fig.add_subplot()\n",
    "    if wca2.value: \n",
    "        ax.set_xscale('log'); xtext = 1; ytext = h0-smax;\n",
    "    else:\n",
    "        xtext = 130; ytext = h0-1.3*smax \n",
    "    plt.plot (rfit,hrfit, 'o', label = 'observation' )\n",
    "    plt.plot (r,h, '.-', label = 'modelled' )\n",
    "    plt.xlabel('distance [m]',fontsize=12)\n",
    "    plt.ylabel('groundwater table [m]',fontsize=12)\n",
    "    ax.grid(b=True, c='w', lw=2, ls='-')\n",
    "    plt.legend(loc = 'lower right',fontsize=12)\n",
    "    \n",
    "    ax.text (xtext,ytext+.7*smax,'$K = %.1f m/d$' % (K, ),fontsize=12)\n",
    "    ax.text (xtext,ytext+.6*smax,'2-norm = $%.3e $' % (norms, ),fontsize=12)\n",
    "    ax.text (xtext,ytext+.5*smax,'stdev = $%.3e $' % (stdev, ),fontsize=12)\n",
    "    plt.title('Pump test: Oude Korendijk, Curve Fitting: Thiem', fontsize=14)\n",
    "\n",
    "wth2 = widgets.Button(description='Unconfined aquifer fit')        \n",
    "wth2.on_click(on_wth2_clicked)   \n",
    "wca2 = widgets.Checkbox(value=False, description='log', disabled=False, indent=False)\n",
    "widgets.HBox([wth2,wca2]) "
   ]
  },
  {
   "cell_type": "markdown",
   "metadata": {
    "hideCode": true,
    "hidePrompt": true,
    "hide_input": false
   },
   "source": [
    "### Leaky Aquifer\n",
    "Kooper (1914) and de Glee (1930) developed an expression for the steady drawdown in a leaky aquifer. The overlying semi-permeable layer is characterized by its vertical flow resistance $c$, which has the unit of time. The formula is:  "
   ]
  },
  {
   "cell_type": "markdown",
   "metadata": {
    "hideCode": true,
    "hidePrompt": true
   },
   "source": [
    "$$ s(r) = \\frac{Q}{2 \\pi T} K_0(\\frac{r}{\\sqrt{Tc}}) $$"
   ]
  },
  {
   "cell_type": "markdown",
   "metadata": {
    "hideCode": true,
    "hidePrompt": true
   },
   "source": [
    "where $K_0$ denotes the modified Bessel function 2. type 0. order. We can obtain values for the two parameters $T$ and $c$ by fitting to the measurements at all four locations using the method of least squares. This is done running the following cell."
   ]
  },
  {
   "cell_type": "code",
   "execution_count": 60,
   "metadata": {
    "hideCode": true,
    "hidePrompt": true,
    "hide_input": false,
    "scrolled": false
   },
   "outputs": [
    {
     "data": {
      "application/vnd.jupyter.widget-view+json": {
       "model_id": "16bbb70064be4bb293537f15db595e73",
       "version_major": 2,
       "version_minor": 0
      },
      "text/plain": [
       "HBox(children=(Button(description='Leaky aquifer fit', style=ButtonStyle()), Checkbox(value=False, description…"
      ]
     },
     "metadata": {},
     "output_type": "display_data"
    }
   ],
   "source": [
    "from scipy.optimize import fmin\n",
    "from scipy.special import kn as besselk\n",
    "%matplotlib inline\n",
    "plt.rcParams[\"figure.figsize\"] = (10,5) \n",
    "\n",
    "rfit = [0.8, 30, 90, 215]\n",
    "srfit = [2.235, 1.088, 0.716, 0.25] \n",
    "T2 = 500\n",
    "\n",
    "def deGlee (x):\n",
    "    T = x[0]; c = x[1]\n",
    "    u = rfit/np.sqrt(T*c)\n",
    "    Q = wQ.value\n",
    "    s = Q*besselk(0,u)/2/np.pi/T\n",
    "    res = (s-srfit)\n",
    "    return sum(res*res)\n",
    "\n",
    "def on_wdg_clicked(self):\n",
    "    global T2\n",
    "    c = 500\n",
    "    n = len(rfit); lr = np.log(rfit)  \n",
    "    T = (n*np.sum(lr*srfit)-np.sum(lr)*np.sum(srfit))/(n*np.sum(lr*lr)-np.sum(lr)**2)\n",
    "    Q = wQ.value\n",
    "    T = -Q/2/np.pi/T                       # transmissivity initial guess [L^2/T]\n",
    "    [Tfit,cfit] = fmin(deGlee, [T,c]) \n",
    "\n",
    "    sfit = Q*besselk(0,rfit/np.sqrt(Tfit*cfit))/2/np.pi/Tfit\n",
    "    norms = np.linalg.norm(srfit-sfit)\n",
    "    stdev = np.sqrt(np.mean((srfit-sfit)**2))\n",
    "    rmax = max(rfit); smax = max(srfit)\n",
    "    r = np.arange(.9*min(rfit), rmax, step = rmax/50)\n",
    "    s = Q/2/np.pi/T*besselk(0,r/np.sqrt(Tfit*cfit))\n",
    "    fig = plt.figure(facecolor='w'); ax = fig.add_subplot()\n",
    "    if wcb.value: \n",
    "        ax.set_xscale('log'); xtext = 1\n",
    "    else:\n",
    "        xtext = 130\n",
    "    plt.plot (rfit,srfit, 'o', label = 'observation' )\n",
    "    plt.plot (r,s, '.-', label = 'modelled' )\n",
    "    plt.xlabel('distance [m]',fontsize=12)\n",
    "    plt.ylabel('drawdown [m]',fontsize=12)\n",
    "    ax.grid(b=True, c='w', lw=2, ls='-')\n",
    "    plt.legend(loc = 'upper right',fontsize=12)\n",
    "    ax.text (xtext,.7*smax,'$T = %.1f m^2/d$' % (Tfit, ),fontsize=12)\n",
    "    ax.text (xtext,.6*smax,'$c =%.0f d$' % (cfit, ),fontsize=12)\n",
    "    ax.text (xtext,.5*smax,'2-norm = $%.3e $' % (norms, ),fontsize=12)\n",
    "    ax.text (xtext,.4*smax,'stdev = $%.3e $' % (stdev, ),fontsize=12)\n",
    "    plt.title('Pump test: Oude Korendijk, Curve Fitting: de Glee', fontsize = 14)\n",
    "    T2 = Tfit\n",
    "\n",
    "wdg = widgets.Button(description='Leaky aquifer fit')        \n",
    "wdg.on_click(on_wdg_clicked)   \n",
    "wcb = widgets.Checkbox(value=False, description='log', disabled=False, indent=False)\n",
    "widgets.HBox([wdg,wcb]) "
   ]
  },
  {
   "cell_type": "markdown",
   "metadata": {
    "hideCode": true,
    "hidePrompt": true,
    "hide_input": false
   },
   "source": [
    "Again we can obtain the hydraulic conductivity $K$ if the aquifer thickness is known:  "
   ]
  },
  {
   "cell_type": "code",
   "execution_count": 12,
   "metadata": {
    "hideCode": true,
    "hidePrompt": true,
    "hide_input": false,
    "scrolled": true
   },
   "outputs": [
    {
     "data": {
      "application/vnd.jupyter.widget-view+json": {
       "model_id": "54a44ce391e341f7bd552c3003e37a1e",
       "version_major": 2,
       "version_minor": 0
      },
      "text/plain": [
       "BoundedFloatText(value=10.0, description='Thickness:', max=15.0, min=1.0, step=1.5)"
      ]
     },
     "metadata": {},
     "output_type": "display_data"
    }
   ],
   "source": [
    "wD2 = widgets.BoundedFloatText(value=10, min=1, max=15.0, step=1.5, description='Thickness:', disabled=False)\n",
    "wD2"
   ]
  },
  {
   "cell_type": "markdown",
   "metadata": {
    "hideCode": true,
    "hidePrompt": true
   },
   "source": [
    " Obtain the result by clicking the button. "
   ]
  },
  {
   "cell_type": "code",
   "execution_count": 61,
   "metadata": {
    "hideCode": true,
    "hidePrompt": true,
    "hide_input": true,
    "scrolled": true
   },
   "outputs": [
    {
     "data": {
      "application/vnd.jupyter.widget-view+json": {
       "model_id": "7c14a395e89e498b827104c1d589c9f4",
       "version_major": 2,
       "version_minor": 0
      },
      "text/plain": [
       "Button(description='Compute K', style=ButtonStyle())"
      ]
     },
     "metadata": {},
     "output_type": "display_data"
    }
   ],
   "source": [
    "btn = widgets.Button(description='Compute K')\n",
    "display(btn)\n",
    "\n",
    "def btn_eventhandler(obj):    \n",
    "    print('K = {:.1f} m/d'.format(T2/wD2.value))\n",
    "\n",
    "btn.on_click(btn_eventhandler) "
   ]
  },
  {
   "cell_type": "markdown",
   "metadata": {
    "hideCode": true,
    "hidePrompt": true
   },
   "source": [
    "## Unsteady Data Input and Visualization"
   ]
  },
  {
   "cell_type": "markdown",
   "metadata": {
    "hideCode": true,
    "hidePrompt": true
   },
   "source": [
    "Our focus will be on the two observation points at intermediate distances, i.e 30 and 90 m away from the pumping well. The one in direct vicinity may be influenced by local conditions around the well, which may be disturbed due to the drilling and installation of the well and the so called skin effect. The most distant observation point may be influenced by a constant head boundary in not too far distance. The polders in the Netherlands are surrounded by surface water bodies, the Rhine river and trenches filled by drainage water.  "
   ]
  },
  {
   "cell_type": "markdown",
   "metadata": {
    "hideCode": true,
    "hidePrompt": true,
    "hide_input": false
   },
   "source": [
    "The following figures show the drawdown measurements at the two intermediate observation points: observation H30 for the one in 30 m distance, observation H90 for the one in 90 m distance. The data for the pumping test are read into this notebook.  "
   ]
  },
  {
   "cell_type": "code",
   "execution_count": 14,
   "metadata": {
    "hideCode": true,
    "hidePrompt": true,
    "hide_input": false,
    "jupyter": {
     "outputs_hidden": false
    },
    "scrolled": false
   },
   "outputs": [
    {
     "name": "stdout",
     "output_type": "stream",
     "text": [
      "Data ready\n"
     ]
    }
   ],
   "source": [
    "df = pd.DataFrame(columns=['t1','s1','t2','s2'])\n",
    "\n",
    "#def on_wini_clicked(self):\n",
    "#      y = pd.read_excel('ok.xlsx',header=None)               \n",
    "#      df['t1'] = y[0].dropna()/60; df['s1'] = y[1].dropna() \n",
    "#      df['t2'] = y[2].dropna()/60; df['s2'] = y[3].dropna()\n",
    "df['t1'] =[6,15,30,42,60,84,114,139.8,168,201.6,240,321,408,498,522,600,786, \n",
    "           1080,1620,1980,2460,2880,3540,4800,5700,8340,10860,14700,18000,21600,\n",
    "           28800,36000,43680,49800,50000]                # time in seconds!\n",
    "df['s1'] =[0.04,0.08,0.13,0.18,0.23,0.28,0.33,0.36,0.39,0.42,0.45,0.5,0.54,0.57,\n",
    "           0.58,0.6,0.64,0.68,0.742,0.753,0.779,0.793,0.819,0.855,0.873,0.915,\n",
    "           0.935,0.966,0.99,1.007,1.05,1.053,1.072,1.088,1.088]\n",
    "df['t2'] =[90,120,129.6,159.6,180,210,240,259.8,330,360,450,540,780,900,1080,\n",
    "           1500,1800,2400,3180,3600,4500,5400,6300,7200,9000,10800,14880,18060,\n",
    "           21780,25320,32520,36120,40800,47100,50700]\n",
    "df['s2'] =[0.015,0.021,0.023,0.044,0.054,.075,.09,.104,.133,.153,.178,.206,.25,\n",
    "           .275,.305,.348,.364,.404,.429,.444,.467,.494,.507,.528,.55,.569,.593,\n",
    "           .614,.636,.657,.679,.688,.701,.718,.716]\n",
    "df['t1'] = df['t1']/60\n",
    "df['t2'] = df['t2']/60\n",
    "print ('Data ready')\n",
    "global kD, Sc\n",
    "    \n",
    "#wini = widgets.Button(description='Input data')        \n",
    "#wini.on_click(on_wini_clicked) \n",
    "#wini   "
   ]
  },
  {
   "cell_type": "markdown",
   "metadata": {
    "hideCode": true,
    "hidePrompt": true,
    "hide_input": false
   },
   "source": [
    "Let's see how the data look like. "
   ]
  },
  {
   "cell_type": "code",
   "execution_count": 62,
   "metadata": {
    "hideCode": true,
    "hidePrompt": true,
    "hide_input": true,
    "jupyter": {
     "outputs_hidden": false
    },
    "scrolled": false
   },
   "outputs": [
    {
     "data": {
      "application/vnd.jupyter.widget-view+json": {
       "model_id": "24222fe6085141f8b3cd591bff2561c6",
       "version_major": 2,
       "version_minor": 0
      },
      "text/plain": [
       "VBox(children=(Button(description='Plot data', style=ButtonStyle()),))"
      ]
     },
     "metadata": {},
     "output_type": "display_data"
    }
   ],
   "source": [
    "def on_wp0_clicked(self):\n",
    "    plt.rcParams[\"figure.figsize\"] = (10,5) \n",
    "    fig = plt.figure(facecolor='w'); ax = fig.add_subplot()\n",
    "    plt.plot (df['t1'],df['s1'], '.-', label = 'observation H30' )\n",
    "    plt.plot (df['t2'],df['s2'], '.-', label = 'observation H90' )\n",
    "    plt.title('Oude Korendijk pumping test measured drawdowns',fontsize=14)\n",
    "    plt.xlabel('time [min]',fontsize=12)\n",
    "    plt.ylabel('drawdown [m]',fontsize=12)\n",
    "    plt.grid()\n",
    "    plt.legend(loc = 'lower right',fontsize=12);\n",
    "    \n",
    "wp0 = widgets.Button(description='Plot data')        \n",
    "wp0.on_click(on_wp0_clicked)   \n",
    "widgets.VBox([wp0])    "
   ]
  },
  {
   "cell_type": "markdown",
   "metadata": {
    "hideCode": true,
    "hidePrompt": true
   },
   "source": [
    "Obviously a steady state has not been reached at the end of the pump test. The visual inspection of the plot indicates that there is a constant difference between the drawdowns in the two observation wells. This would justify the application of the Thiem evaluation, as there only the difference counts. We call this situation either quasi steady-state or steady slope. Lets check the difference in a graph. "
   ]
  },
  {
   "cell_type": "code",
   "execution_count": 63,
   "metadata": {
    "hideCode": true,
    "hidePrompt": true,
    "hide_input": false,
    "jupyter": {
     "outputs_hidden": false
    },
    "scrolled": false
   },
   "outputs": [
    {
     "data": {
      "application/vnd.jupyter.widget-view+json": {
       "model_id": "854ccd2392e545e6a0c2e06982b2764a",
       "version_major": 2,
       "version_minor": 0
      },
      "text/plain": [
       "VBox(children=(Button(description='Drawdown difference', style=ButtonStyle()),))"
      ]
     },
     "metadata": {},
     "output_type": "display_data"
    }
   ],
   "source": [
    "from scipy.interpolate import interp1d\n",
    "\n",
    "def on_wp1_clicked(self):\n",
    "    plt.rcParams[\"figure.figsize\"] = (10,5) \n",
    "    fig = plt.figure(facecolor='w'); ax = fig.add_subplot()\n",
    "    f30 = interp1d(df['t1'],df['s1']); f90 = interp1d(df['t2'],df['s2'])\n",
    "    t = np.arange(6,780.0,step=1)\n",
    "    plt.plot (t, f30(t)-f90(t), 'g', label = 'H30-H90' )\n",
    "    plt.title('Drawdown difference',fontsize=14)\n",
    "    plt.xlabel('time [min]',fontsize=12)\n",
    "    plt.ylabel('drawdown difference [m]',fontsize=12)\n",
    "    plt.ylim ([0., 0.6])\n",
    "    plt.grid()\n",
    "    plt.legend(loc = 'lower right',fontsize=12);\n",
    "    \n",
    "wp1 = widgets.Button(description='Drawdown difference')        \n",
    "wp1.on_click(on_wp1_clicked)   \n",
    "widgets.VBox([wp1])    "
   ]
  },
  {
   "cell_type": "markdown",
   "metadata": {
    "hideCode": true,
    "hidePrompt": true,
    "hide_input": true
   },
   "source": [
    "One can visualize the same data using log scale for time: "
   ]
  },
  {
   "cell_type": "code",
   "execution_count": 64,
   "metadata": {
    "hideCode": true,
    "hidePrompt": true,
    "hide_input": false,
    "scrolled": false
   },
   "outputs": [
    {
     "data": {
      "application/vnd.jupyter.widget-view+json": {
       "model_id": "63c0bdd8417c427da15598a83cda9776",
       "version_major": 2,
       "version_minor": 0
      },
      "text/plain": [
       "VBox(children=(Button(description='Plot log scale', style=ButtonStyle()),))"
      ]
     },
     "metadata": {},
     "output_type": "display_data"
    }
   ],
   "source": [
    "def on_wp2_clicked(self):\n",
    "    plt.rcParams[\"figure.figsize\"] = (10,5) \n",
    "    fig = plt.figure(facecolor='w'); ax = fig.add_subplot()\n",
    "    ax.set_xscale('log')\n",
    "    plt.plot (df['t1'],df['s1'], '.-', label = 'observation H30' )\n",
    "    plt.plot (df['t2'],df['s2'], '.-', label = 'observation H90' )\n",
    "    plt.title('Oude Korendijk pumping test measured drawdowns',fontsize=14)\n",
    "    plt.xlabel('time [min]',fontsize=12)\n",
    "    plt.ylabel('drawdown [m]',fontsize=12)\n",
    "    plt.grid()\n",
    "    plt.legend(loc = 'lower right',fontsize=12);\n",
    "\n",
    "wp2 = widgets.Button(description='Plot log scale')        \n",
    "wp2.on_click(on_wp2_clicked)   \n",
    "widgets.VBox([wp2]) "
   ]
  },
  {
   "cell_type": "markdown",
   "metadata": {
    "hideCode": true,
    "hidePrompt": true,
    "hide_input": true
   },
   "source": [
    "The same in the loglog system, with logarithmic scale on both axes:"
   ]
  },
  {
   "cell_type": "code",
   "execution_count": 65,
   "metadata": {
    "hideCode": true,
    "hidePrompt": true,
    "hide_input": true,
    "scrolled": false
   },
   "outputs": [
    {
     "data": {
      "application/vnd.jupyter.widget-view+json": {
       "model_id": "bcc2a687ef5d4932bc663f99c5b778e4",
       "version_major": 2,
       "version_minor": 0
      },
      "text/plain": [
       "VBox(children=(Button(description='Plot loglog scale', style=ButtonStyle()),))"
      ]
     },
     "metadata": {},
     "output_type": "display_data"
    }
   ],
   "source": [
    "def on_wp3_clicked(self):\n",
    "    plt.rcParams[\"figure.figsize\"] = (10,5) \n",
    "    fig = plt.figure(facecolor='w'); ax = fig.add_subplot()\n",
    "    ax.set_xscale('log'); ax.set_yscale('log')\n",
    "    plt.plot (df['t1'],df['s1'], '.-', label = 'observation H30' )\n",
    "    plt.plot (df['t2'],df['s2'], '.-', label = 'observation H90' )\n",
    "    plt.title('Oude Korendijk pumping test measured drawdowns',fontsize=14)\n",
    "    plt.xlabel('time [min]',fontsize=12)\n",
    "    plt.ylabel('drawdown [m]',fontsize=12)\n",
    "    plt.grid()\n",
    "    plt.legend(loc = 'lower right',fontsize=12);\n",
    "    \n",
    "wp3 = widgets.Button(description='Plot loglog scale')        \n",
    "wp3.on_click(on_wp3_clicked)   \n",
    "widgets.VBox([wp3])     "
   ]
  },
  {
   "cell_type": "markdown",
   "metadata": {
    "hideCode": true,
    "hidePrompt": true
   },
   "source": [
    "For a comparison of the two curves it is convenient to visualize in double log scale using $t/r^2$ on $x$-axis. "
   ]
  },
  {
   "cell_type": "code",
   "execution_count": 19,
   "metadata": {
    "hideCode": true,
    "hidePrompt": true,
    "hide_input": true,
    "scrolled": false
   },
   "outputs": [
    {
     "data": {
      "application/vnd.jupyter.widget-view+json": {
       "model_id": "d307c06d5d7241a68a8883078193a9db",
       "version_major": 2,
       "version_minor": 0
      },
      "text/plain": [
       "VBox(children=(Button(description='Plot t/r/r scale', style=ButtonStyle()),))"
      ]
     },
     "metadata": {},
     "output_type": "display_data"
    },
    {
     "data": {
      "application/javascript": [
       "/* Put everything inside the global mpl namespace */\n",
       "window.mpl = {};\n",
       "\n",
       "\n",
       "mpl.get_websocket_type = function() {\n",
       "    if (typeof(WebSocket) !== 'undefined') {\n",
       "        return WebSocket;\n",
       "    } else if (typeof(MozWebSocket) !== 'undefined') {\n",
       "        return MozWebSocket;\n",
       "    } else {\n",
       "        alert('Your browser does not have WebSocket support. ' +\n",
       "              'Please try Chrome, Safari or Firefox ≥ 6. ' +\n",
       "              'Firefox 4 and 5 are also supported but you ' +\n",
       "              'have to enable WebSockets in about:config.');\n",
       "    };\n",
       "}\n",
       "\n",
       "mpl.figure = function(figure_id, websocket, ondownload, parent_element) {\n",
       "    this.id = figure_id;\n",
       "\n",
       "    this.ws = websocket;\n",
       "\n",
       "    this.supports_binary = (this.ws.binaryType != undefined);\n",
       "\n",
       "    if (!this.supports_binary) {\n",
       "        var warnings = document.getElementById(\"mpl-warnings\");\n",
       "        if (warnings) {\n",
       "            warnings.style.display = 'block';\n",
       "            warnings.textContent = (\n",
       "                \"This browser does not support binary websocket messages. \" +\n",
       "                    \"Performance may be slow.\");\n",
       "        }\n",
       "    }\n",
       "\n",
       "    this.imageObj = new Image();\n",
       "\n",
       "    this.context = undefined;\n",
       "    this.message = undefined;\n",
       "    this.canvas = undefined;\n",
       "    this.rubberband_canvas = undefined;\n",
       "    this.rubberband_context = undefined;\n",
       "    this.format_dropdown = undefined;\n",
       "\n",
       "    this.image_mode = 'full';\n",
       "\n",
       "    this.root = $('<div/>');\n",
       "    this._root_extra_style(this.root)\n",
       "    this.root.attr('style', 'display: inline-block');\n",
       "\n",
       "    $(parent_element).append(this.root);\n",
       "\n",
       "    this._init_header(this);\n",
       "    this._init_canvas(this);\n",
       "    this._init_toolbar(this);\n",
       "\n",
       "    var fig = this;\n",
       "\n",
       "    this.waiting = false;\n",
       "\n",
       "    this.ws.onopen =  function () {\n",
       "            fig.send_message(\"supports_binary\", {value: fig.supports_binary});\n",
       "            fig.send_message(\"send_image_mode\", {});\n",
       "            if (mpl.ratio != 1) {\n",
       "                fig.send_message(\"set_dpi_ratio\", {'dpi_ratio': mpl.ratio});\n",
       "            }\n",
       "            fig.send_message(\"refresh\", {});\n",
       "        }\n",
       "\n",
       "    this.imageObj.onload = function() {\n",
       "            if (fig.image_mode == 'full') {\n",
       "                // Full images could contain transparency (where diff images\n",
       "                // almost always do), so we need to clear the canvas so that\n",
       "                // there is no ghosting.\n",
       "                fig.context.clearRect(0, 0, fig.canvas.width, fig.canvas.height);\n",
       "            }\n",
       "            fig.context.drawImage(fig.imageObj, 0, 0);\n",
       "        };\n",
       "\n",
       "    this.imageObj.onunload = function() {\n",
       "        fig.ws.close();\n",
       "    }\n",
       "\n",
       "    this.ws.onmessage = this._make_on_message_function(this);\n",
       "\n",
       "    this.ondownload = ondownload;\n",
       "}\n",
       "\n",
       "mpl.figure.prototype._init_header = function() {\n",
       "    var titlebar = $(\n",
       "        '<div class=\"ui-dialog-titlebar ui-widget-header ui-corner-all ' +\n",
       "        'ui-helper-clearfix\"/>');\n",
       "    var titletext = $(\n",
       "        '<div class=\"ui-dialog-title\" style=\"width: 100%; ' +\n",
       "        'text-align: center; padding: 3px;\"/>');\n",
       "    titlebar.append(titletext)\n",
       "    this.root.append(titlebar);\n",
       "    this.header = titletext[0];\n",
       "}\n",
       "\n",
       "\n",
       "\n",
       "mpl.figure.prototype._canvas_extra_style = function(canvas_div) {\n",
       "\n",
       "}\n",
       "\n",
       "\n",
       "mpl.figure.prototype._root_extra_style = function(canvas_div) {\n",
       "\n",
       "}\n",
       "\n",
       "mpl.figure.prototype._init_canvas = function() {\n",
       "    var fig = this;\n",
       "\n",
       "    var canvas_div = $('<div/>');\n",
       "\n",
       "    canvas_div.attr('style', 'position: relative; clear: both; outline: 0');\n",
       "\n",
       "    function canvas_keyboard_event(event) {\n",
       "        return fig.key_event(event, event['data']);\n",
       "    }\n",
       "\n",
       "    canvas_div.keydown('key_press', canvas_keyboard_event);\n",
       "    canvas_div.keyup('key_release', canvas_keyboard_event);\n",
       "    this.canvas_div = canvas_div\n",
       "    this._canvas_extra_style(canvas_div)\n",
       "    this.root.append(canvas_div);\n",
       "\n",
       "    var canvas = $('<canvas/>');\n",
       "    canvas.addClass('mpl-canvas');\n",
       "    canvas.attr('style', \"left: 0; top: 0; z-index: 0; outline: 0\")\n",
       "\n",
       "    this.canvas = canvas[0];\n",
       "    this.context = canvas[0].getContext(\"2d\");\n",
       "\n",
       "    var backingStore = this.context.backingStorePixelRatio ||\n",
       "\tthis.context.webkitBackingStorePixelRatio ||\n",
       "\tthis.context.mozBackingStorePixelRatio ||\n",
       "\tthis.context.msBackingStorePixelRatio ||\n",
       "\tthis.context.oBackingStorePixelRatio ||\n",
       "\tthis.context.backingStorePixelRatio || 1;\n",
       "\n",
       "    mpl.ratio = (window.devicePixelRatio || 1) / backingStore;\n",
       "\n",
       "    var rubberband = $('<canvas/>');\n",
       "    rubberband.attr('style', \"position: absolute; left: 0; top: 0; z-index: 1;\")\n",
       "\n",
       "    var pass_mouse_events = true;\n",
       "\n",
       "    canvas_div.resizable({\n",
       "        start: function(event, ui) {\n",
       "            pass_mouse_events = false;\n",
       "        },\n",
       "        resize: function(event, ui) {\n",
       "            fig.request_resize(ui.size.width, ui.size.height);\n",
       "        },\n",
       "        stop: function(event, ui) {\n",
       "            pass_mouse_events = true;\n",
       "            fig.request_resize(ui.size.width, ui.size.height);\n",
       "        },\n",
       "    });\n",
       "\n",
       "    function mouse_event_fn(event) {\n",
       "        if (pass_mouse_events)\n",
       "            return fig.mouse_event(event, event['data']);\n",
       "    }\n",
       "\n",
       "    rubberband.mousedown('button_press', mouse_event_fn);\n",
       "    rubberband.mouseup('button_release', mouse_event_fn);\n",
       "    // Throttle sequential mouse events to 1 every 20ms.\n",
       "    rubberband.mousemove('motion_notify', mouse_event_fn);\n",
       "\n",
       "    rubberband.mouseenter('figure_enter', mouse_event_fn);\n",
       "    rubberband.mouseleave('figure_leave', mouse_event_fn);\n",
       "\n",
       "    canvas_div.on(\"wheel\", function (event) {\n",
       "        event = event.originalEvent;\n",
       "        event['data'] = 'scroll'\n",
       "        if (event.deltaY < 0) {\n",
       "            event.step = 1;\n",
       "        } else {\n",
       "            event.step = -1;\n",
       "        }\n",
       "        mouse_event_fn(event);\n",
       "    });\n",
       "\n",
       "    canvas_div.append(canvas);\n",
       "    canvas_div.append(rubberband);\n",
       "\n",
       "    this.rubberband = rubberband;\n",
       "    this.rubberband_canvas = rubberband[0];\n",
       "    this.rubberband_context = rubberband[0].getContext(\"2d\");\n",
       "    this.rubberband_context.strokeStyle = \"#000000\";\n",
       "\n",
       "    this._resize_canvas = function(width, height) {\n",
       "        // Keep the size of the canvas, canvas container, and rubber band\n",
       "        // canvas in synch.\n",
       "        canvas_div.css('width', width)\n",
       "        canvas_div.css('height', height)\n",
       "\n",
       "        canvas.attr('width', width * mpl.ratio);\n",
       "        canvas.attr('height', height * mpl.ratio);\n",
       "        canvas.attr('style', 'width: ' + width + 'px; height: ' + height + 'px;');\n",
       "\n",
       "        rubberband.attr('width', width);\n",
       "        rubberband.attr('height', height);\n",
       "    }\n",
       "\n",
       "    // Set the figure to an initial 600x600px, this will subsequently be updated\n",
       "    // upon first draw.\n",
       "    this._resize_canvas(600, 600);\n",
       "\n",
       "    // Disable right mouse context menu.\n",
       "    $(this.rubberband_canvas).bind(\"contextmenu\",function(e){\n",
       "        return false;\n",
       "    });\n",
       "\n",
       "    function set_focus () {\n",
       "        canvas.focus();\n",
       "        canvas_div.focus();\n",
       "    }\n",
       "\n",
       "    window.setTimeout(set_focus, 100);\n",
       "}\n",
       "\n",
       "mpl.figure.prototype._init_toolbar = function() {\n",
       "    var fig = this;\n",
       "\n",
       "    var nav_element = $('<div/>');\n",
       "    nav_element.attr('style', 'width: 100%');\n",
       "    this.root.append(nav_element);\n",
       "\n",
       "    // Define a callback function for later on.\n",
       "    function toolbar_event(event) {\n",
       "        return fig.toolbar_button_onclick(event['data']);\n",
       "    }\n",
       "    function toolbar_mouse_event(event) {\n",
       "        return fig.toolbar_button_onmouseover(event['data']);\n",
       "    }\n",
       "\n",
       "    for(var toolbar_ind in mpl.toolbar_items) {\n",
       "        var name = mpl.toolbar_items[toolbar_ind][0];\n",
       "        var tooltip = mpl.toolbar_items[toolbar_ind][1];\n",
       "        var image = mpl.toolbar_items[toolbar_ind][2];\n",
       "        var method_name = mpl.toolbar_items[toolbar_ind][3];\n",
       "\n",
       "        if (!name) {\n",
       "            // put a spacer in here.\n",
       "            continue;\n",
       "        }\n",
       "        var button = $('<button/>');\n",
       "        button.addClass('ui-button ui-widget ui-state-default ui-corner-all ' +\n",
       "                        'ui-button-icon-only');\n",
       "        button.attr('role', 'button');\n",
       "        button.attr('aria-disabled', 'false');\n",
       "        button.click(method_name, toolbar_event);\n",
       "        button.mouseover(tooltip, toolbar_mouse_event);\n",
       "\n",
       "        var icon_img = $('<span/>');\n",
       "        icon_img.addClass('ui-button-icon-primary ui-icon');\n",
       "        icon_img.addClass(image);\n",
       "        icon_img.addClass('ui-corner-all');\n",
       "\n",
       "        var tooltip_span = $('<span/>');\n",
       "        tooltip_span.addClass('ui-button-text');\n",
       "        tooltip_span.html(tooltip);\n",
       "\n",
       "        button.append(icon_img);\n",
       "        button.append(tooltip_span);\n",
       "\n",
       "        nav_element.append(button);\n",
       "    }\n",
       "\n",
       "    var fmt_picker_span = $('<span/>');\n",
       "\n",
       "    var fmt_picker = $('<select/>');\n",
       "    fmt_picker.addClass('mpl-toolbar-option ui-widget ui-widget-content');\n",
       "    fmt_picker_span.append(fmt_picker);\n",
       "    nav_element.append(fmt_picker_span);\n",
       "    this.format_dropdown = fmt_picker[0];\n",
       "\n",
       "    for (var ind in mpl.extensions) {\n",
       "        var fmt = mpl.extensions[ind];\n",
       "        var option = $(\n",
       "            '<option/>', {selected: fmt === mpl.default_extension}).html(fmt);\n",
       "        fmt_picker.append(option);\n",
       "    }\n",
       "\n",
       "    // Add hover states to the ui-buttons\n",
       "    $( \".ui-button\" ).hover(\n",
       "        function() { $(this).addClass(\"ui-state-hover\");},\n",
       "        function() { $(this).removeClass(\"ui-state-hover\");}\n",
       "    );\n",
       "\n",
       "    var status_bar = $('<span class=\"mpl-message\"/>');\n",
       "    nav_element.append(status_bar);\n",
       "    this.message = status_bar[0];\n",
       "}\n",
       "\n",
       "mpl.figure.prototype.request_resize = function(x_pixels, y_pixels) {\n",
       "    // Request matplotlib to resize the figure. Matplotlib will then trigger a resize in the client,\n",
       "    // which will in turn request a refresh of the image.\n",
       "    this.send_message('resize', {'width': x_pixels, 'height': y_pixels});\n",
       "}\n",
       "\n",
       "mpl.figure.prototype.send_message = function(type, properties) {\n",
       "    properties['type'] = type;\n",
       "    properties['figure_id'] = this.id;\n",
       "    this.ws.send(JSON.stringify(properties));\n",
       "}\n",
       "\n",
       "mpl.figure.prototype.send_draw_message = function() {\n",
       "    if (!this.waiting) {\n",
       "        this.waiting = true;\n",
       "        this.ws.send(JSON.stringify({type: \"draw\", figure_id: this.id}));\n",
       "    }\n",
       "}\n",
       "\n",
       "\n",
       "mpl.figure.prototype.handle_save = function(fig, msg) {\n",
       "    var format_dropdown = fig.format_dropdown;\n",
       "    var format = format_dropdown.options[format_dropdown.selectedIndex].value;\n",
       "    fig.ondownload(fig, format);\n",
       "}\n",
       "\n",
       "\n",
       "mpl.figure.prototype.handle_resize = function(fig, msg) {\n",
       "    var size = msg['size'];\n",
       "    if (size[0] != fig.canvas.width || size[1] != fig.canvas.height) {\n",
       "        fig._resize_canvas(size[0], size[1]);\n",
       "        fig.send_message(\"refresh\", {});\n",
       "    };\n",
       "}\n",
       "\n",
       "mpl.figure.prototype.handle_rubberband = function(fig, msg) {\n",
       "    var x0 = msg['x0'] / mpl.ratio;\n",
       "    var y0 = (fig.canvas.height - msg['y0']) / mpl.ratio;\n",
       "    var x1 = msg['x1'] / mpl.ratio;\n",
       "    var y1 = (fig.canvas.height - msg['y1']) / mpl.ratio;\n",
       "    x0 = Math.floor(x0) + 0.5;\n",
       "    y0 = Math.floor(y0) + 0.5;\n",
       "    x1 = Math.floor(x1) + 0.5;\n",
       "    y1 = Math.floor(y1) + 0.5;\n",
       "    var min_x = Math.min(x0, x1);\n",
       "    var min_y = Math.min(y0, y1);\n",
       "    var width = Math.abs(x1 - x0);\n",
       "    var height = Math.abs(y1 - y0);\n",
       "\n",
       "    fig.rubberband_context.clearRect(\n",
       "        0, 0, fig.canvas.width / mpl.ratio, fig.canvas.height / mpl.ratio);\n",
       "\n",
       "    fig.rubberband_context.strokeRect(min_x, min_y, width, height);\n",
       "}\n",
       "\n",
       "mpl.figure.prototype.handle_figure_label = function(fig, msg) {\n",
       "    // Updates the figure title.\n",
       "    fig.header.textContent = msg['label'];\n",
       "}\n",
       "\n",
       "mpl.figure.prototype.handle_cursor = function(fig, msg) {\n",
       "    var cursor = msg['cursor'];\n",
       "    switch(cursor)\n",
       "    {\n",
       "    case 0:\n",
       "        cursor = 'pointer';\n",
       "        break;\n",
       "    case 1:\n",
       "        cursor = 'default';\n",
       "        break;\n",
       "    case 2:\n",
       "        cursor = 'crosshair';\n",
       "        break;\n",
       "    case 3:\n",
       "        cursor = 'move';\n",
       "        break;\n",
       "    }\n",
       "    fig.rubberband_canvas.style.cursor = cursor;\n",
       "}\n",
       "\n",
       "mpl.figure.prototype.handle_message = function(fig, msg) {\n",
       "    fig.message.textContent = msg['message'];\n",
       "}\n",
       "\n",
       "mpl.figure.prototype.handle_draw = function(fig, msg) {\n",
       "    // Request the server to send over a new figure.\n",
       "    fig.send_draw_message();\n",
       "}\n",
       "\n",
       "mpl.figure.prototype.handle_image_mode = function(fig, msg) {\n",
       "    fig.image_mode = msg['mode'];\n",
       "}\n",
       "\n",
       "mpl.figure.prototype.updated_canvas_event = function() {\n",
       "    // Called whenever the canvas gets updated.\n",
       "    this.send_message(\"ack\", {});\n",
       "}\n",
       "\n",
       "// A function to construct a web socket function for onmessage handling.\n",
       "// Called in the figure constructor.\n",
       "mpl.figure.prototype._make_on_message_function = function(fig) {\n",
       "    return function socket_on_message(evt) {\n",
       "        if (evt.data instanceof Blob) {\n",
       "            /* FIXME: We get \"Resource interpreted as Image but\n",
       "             * transferred with MIME type text/plain:\" errors on\n",
       "             * Chrome.  But how to set the MIME type?  It doesn't seem\n",
       "             * to be part of the websocket stream */\n",
       "            evt.data.type = \"image/png\";\n",
       "\n",
       "            /* Free the memory for the previous frames */\n",
       "            if (fig.imageObj.src) {\n",
       "                (window.URL || window.webkitURL).revokeObjectURL(\n",
       "                    fig.imageObj.src);\n",
       "            }\n",
       "\n",
       "            fig.imageObj.src = (window.URL || window.webkitURL).createObjectURL(\n",
       "                evt.data);\n",
       "            fig.updated_canvas_event();\n",
       "            fig.waiting = false;\n",
       "            return;\n",
       "        }\n",
       "        else if (typeof evt.data === 'string' && evt.data.slice(0, 21) == \"data:image/png;base64\") {\n",
       "            fig.imageObj.src = evt.data;\n",
       "            fig.updated_canvas_event();\n",
       "            fig.waiting = false;\n",
       "            return;\n",
       "        }\n",
       "\n",
       "        var msg = JSON.parse(evt.data);\n",
       "        var msg_type = msg['type'];\n",
       "\n",
       "        // Call the  \"handle_{type}\" callback, which takes\n",
       "        // the figure and JSON message as its only arguments.\n",
       "        try {\n",
       "            var callback = fig[\"handle_\" + msg_type];\n",
       "        } catch (e) {\n",
       "            console.log(\"No handler for the '\" + msg_type + \"' message type: \", msg);\n",
       "            return;\n",
       "        }\n",
       "\n",
       "        if (callback) {\n",
       "            try {\n",
       "                // console.log(\"Handling '\" + msg_type + \"' message: \", msg);\n",
       "                callback(fig, msg);\n",
       "            } catch (e) {\n",
       "                console.log(\"Exception inside the 'handler_\" + msg_type + \"' callback:\", e, e.stack, msg);\n",
       "            }\n",
       "        }\n",
       "    };\n",
       "}\n",
       "\n",
       "// from http://stackoverflow.com/questions/1114465/getting-mouse-location-in-canvas\n",
       "mpl.findpos = function(e) {\n",
       "    //this section is from http://www.quirksmode.org/js/events_properties.html\n",
       "    var targ;\n",
       "    if (!e)\n",
       "        e = window.event;\n",
       "    if (e.target)\n",
       "        targ = e.target;\n",
       "    else if (e.srcElement)\n",
       "        targ = e.srcElement;\n",
       "    if (targ.nodeType == 3) // defeat Safari bug\n",
       "        targ = targ.parentNode;\n",
       "\n",
       "    // jQuery normalizes the pageX and pageY\n",
       "    // pageX,Y are the mouse positions relative to the document\n",
       "    // offset() returns the position of the element relative to the document\n",
       "    var x = e.pageX - $(targ).offset().left;\n",
       "    var y = e.pageY - $(targ).offset().top;\n",
       "\n",
       "    return {\"x\": x, \"y\": y};\n",
       "};\n",
       "\n",
       "/*\n",
       " * return a copy of an object with only non-object keys\n",
       " * we need this to avoid circular references\n",
       " * http://stackoverflow.com/a/24161582/3208463\n",
       " */\n",
       "function simpleKeys (original) {\n",
       "  return Object.keys(original).reduce(function (obj, key) {\n",
       "    if (typeof original[key] !== 'object')\n",
       "        obj[key] = original[key]\n",
       "    return obj;\n",
       "  }, {});\n",
       "}\n",
       "\n",
       "mpl.figure.prototype.mouse_event = function(event, name) {\n",
       "    var canvas_pos = mpl.findpos(event)\n",
       "\n",
       "    if (name === 'button_press')\n",
       "    {\n",
       "        this.canvas.focus();\n",
       "        this.canvas_div.focus();\n",
       "    }\n",
       "\n",
       "    var x = canvas_pos.x * mpl.ratio;\n",
       "    var y = canvas_pos.y * mpl.ratio;\n",
       "\n",
       "    this.send_message(name, {x: x, y: y, button: event.button,\n",
       "                             step: event.step,\n",
       "                             guiEvent: simpleKeys(event)});\n",
       "\n",
       "    /* This prevents the web browser from automatically changing to\n",
       "     * the text insertion cursor when the button is pressed.  We want\n",
       "     * to control all of the cursor setting manually through the\n",
       "     * 'cursor' event from matplotlib */\n",
       "    event.preventDefault();\n",
       "    return false;\n",
       "}\n",
       "\n",
       "mpl.figure.prototype._key_event_extra = function(event, name) {\n",
       "    // Handle any extra behaviour associated with a key event\n",
       "}\n",
       "\n",
       "mpl.figure.prototype.key_event = function(event, name) {\n",
       "\n",
       "    // Prevent repeat events\n",
       "    if (name == 'key_press')\n",
       "    {\n",
       "        if (event.which === this._key)\n",
       "            return;\n",
       "        else\n",
       "            this._key = event.which;\n",
       "    }\n",
       "    if (name == 'key_release')\n",
       "        this._key = null;\n",
       "\n",
       "    var value = '';\n",
       "    if (event.ctrlKey && event.which != 17)\n",
       "        value += \"ctrl+\";\n",
       "    if (event.altKey && event.which != 18)\n",
       "        value += \"alt+\";\n",
       "    if (event.shiftKey && event.which != 16)\n",
       "        value += \"shift+\";\n",
       "\n",
       "    value += 'k';\n",
       "    value += event.which.toString();\n",
       "\n",
       "    this._key_event_extra(event, name);\n",
       "\n",
       "    this.send_message(name, {key: value,\n",
       "                             guiEvent: simpleKeys(event)});\n",
       "    return false;\n",
       "}\n",
       "\n",
       "mpl.figure.prototype.toolbar_button_onclick = function(name) {\n",
       "    if (name == 'download') {\n",
       "        this.handle_save(this, null);\n",
       "    } else {\n",
       "        this.send_message(\"toolbar_button\", {name: name});\n",
       "    }\n",
       "};\n",
       "\n",
       "mpl.figure.prototype.toolbar_button_onmouseover = function(tooltip) {\n",
       "    this.message.textContent = tooltip;\n",
       "};\n",
       "mpl.toolbar_items = [[\"Home\", \"Reset original view\", \"fa fa-home icon-home\", \"home\"], [\"Back\", \"Back to previous view\", \"fa fa-arrow-left icon-arrow-left\", \"back\"], [\"Forward\", \"Forward to next view\", \"fa fa-arrow-right icon-arrow-right\", \"forward\"], [\"\", \"\", \"\", \"\"], [\"Pan\", \"Pan axes with left mouse, zoom with right\", \"fa fa-arrows icon-move\", \"pan\"], [\"Zoom\", \"Zoom to rectangle\", \"fa fa-square-o icon-check-empty\", \"zoom\"], [\"\", \"\", \"\", \"\"], [\"Download\", \"Download plot\", \"fa fa-floppy-o icon-save\", \"download\"]];\n",
       "\n",
       "mpl.extensions = [\"eps\", \"jpeg\", \"pdf\", \"png\", \"ps\", \"raw\", \"svg\", \"tif\"];\n",
       "\n",
       "mpl.default_extension = \"png\";var comm_websocket_adapter = function(comm) {\n",
       "    // Create a \"websocket\"-like object which calls the given IPython comm\n",
       "    // object with the appropriate methods. Currently this is a non binary\n",
       "    // socket, so there is still some room for performance tuning.\n",
       "    var ws = {};\n",
       "\n",
       "    ws.close = function() {\n",
       "        comm.close()\n",
       "    };\n",
       "    ws.send = function(m) {\n",
       "        //console.log('sending', m);\n",
       "        comm.send(m);\n",
       "    };\n",
       "    // Register the callback with on_msg.\n",
       "    comm.on_msg(function(msg) {\n",
       "        //console.log('receiving', msg['content']['data'], msg);\n",
       "        // Pass the mpl event to the overridden (by mpl) onmessage function.\n",
       "        ws.onmessage(msg['content']['data'])\n",
       "    });\n",
       "    return ws;\n",
       "}\n",
       "\n",
       "mpl.mpl_figure_comm = function(comm, msg) {\n",
       "    // This is the function which gets called when the mpl process\n",
       "    // starts-up an IPython Comm through the \"matplotlib\" channel.\n",
       "\n",
       "    var id = msg.content.data.id;\n",
       "    // Get hold of the div created by the display call when the Comm\n",
       "    // socket was opened in Python.\n",
       "    var element = $(\"#\" + id);\n",
       "    var ws_proxy = comm_websocket_adapter(comm)\n",
       "\n",
       "    function ondownload(figure, format) {\n",
       "        window.open(figure.imageObj.src);\n",
       "    }\n",
       "\n",
       "    var fig = new mpl.figure(id, ws_proxy,\n",
       "                           ondownload,\n",
       "                           element.get(0));\n",
       "\n",
       "    // Call onopen now - mpl needs it, as it is assuming we've passed it a real\n",
       "    // web socket which is closed, not our websocket->open comm proxy.\n",
       "    ws_proxy.onopen();\n",
       "\n",
       "    fig.parent_element = element.get(0);\n",
       "    fig.cell_info = mpl.find_output_cell(\"<div id='\" + id + \"'></div>\");\n",
       "    if (!fig.cell_info) {\n",
       "        console.error(\"Failed to find cell for figure\", id, fig);\n",
       "        return;\n",
       "    }\n",
       "\n",
       "    var output_index = fig.cell_info[2]\n",
       "    var cell = fig.cell_info[0];\n",
       "\n",
       "};\n",
       "\n",
       "mpl.figure.prototype.handle_close = function(fig, msg) {\n",
       "    var width = fig.canvas.width/mpl.ratio\n",
       "    fig.root.unbind('remove')\n",
       "\n",
       "    // Update the output cell to use the data from the current canvas.\n",
       "    fig.push_to_output();\n",
       "    var dataURL = fig.canvas.toDataURL();\n",
       "    // Re-enable the keyboard manager in IPython - without this line, in FF,\n",
       "    // the notebook keyboard shortcuts fail.\n",
       "    IPython.keyboard_manager.enable()\n",
       "    $(fig.parent_element).html('<img src=\"' + dataURL + '\" width=\"' + width + '\">');\n",
       "    fig.close_ws(fig, msg);\n",
       "}\n",
       "\n",
       "mpl.figure.prototype.close_ws = function(fig, msg){\n",
       "    fig.send_message('closing', msg);\n",
       "    // fig.ws.close()\n",
       "}\n",
       "\n",
       "mpl.figure.prototype.push_to_output = function(remove_interactive) {\n",
       "    // Turn the data on the canvas into data in the output cell.\n",
       "    var width = this.canvas.width/mpl.ratio\n",
       "    var dataURL = this.canvas.toDataURL();\n",
       "    this.cell_info[1]['text/html'] = '<img src=\"' + dataURL + '\" width=\"' + width + '\">';\n",
       "}\n",
       "\n",
       "mpl.figure.prototype.updated_canvas_event = function() {\n",
       "    // Tell IPython that the notebook contents must change.\n",
       "    IPython.notebook.set_dirty(true);\n",
       "    this.send_message(\"ack\", {});\n",
       "    var fig = this;\n",
       "    // Wait a second, then push the new image to the DOM so\n",
       "    // that it is saved nicely (might be nice to debounce this).\n",
       "    setTimeout(function () { fig.push_to_output() }, 1000);\n",
       "}\n",
       "\n",
       "mpl.figure.prototype._init_toolbar = function() {\n",
       "    var fig = this;\n",
       "\n",
       "    var nav_element = $('<div/>');\n",
       "    nav_element.attr('style', 'width: 100%');\n",
       "    this.root.append(nav_element);\n",
       "\n",
       "    // Define a callback function for later on.\n",
       "    function toolbar_event(event) {\n",
       "        return fig.toolbar_button_onclick(event['data']);\n",
       "    }\n",
       "    function toolbar_mouse_event(event) {\n",
       "        return fig.toolbar_button_onmouseover(event['data']);\n",
       "    }\n",
       "\n",
       "    for(var toolbar_ind in mpl.toolbar_items){\n",
       "        var name = mpl.toolbar_items[toolbar_ind][0];\n",
       "        var tooltip = mpl.toolbar_items[toolbar_ind][1];\n",
       "        var image = mpl.toolbar_items[toolbar_ind][2];\n",
       "        var method_name = mpl.toolbar_items[toolbar_ind][3];\n",
       "\n",
       "        if (!name) { continue; };\n",
       "\n",
       "        var button = $('<button class=\"btn btn-default\" href=\"#\" title=\"' + name + '\"><i class=\"fa ' + image + ' fa-lg\"></i></button>');\n",
       "        button.click(method_name, toolbar_event);\n",
       "        button.mouseover(tooltip, toolbar_mouse_event);\n",
       "        nav_element.append(button);\n",
       "    }\n",
       "\n",
       "    // Add the status bar.\n",
       "    var status_bar = $('<span class=\"mpl-message\" style=\"text-align:right; float: right;\"/>');\n",
       "    nav_element.append(status_bar);\n",
       "    this.message = status_bar[0];\n",
       "\n",
       "    // Add the close button to the window.\n",
       "    var buttongrp = $('<div class=\"btn-group inline pull-right\"></div>');\n",
       "    var button = $('<button class=\"btn btn-mini btn-primary\" href=\"#\" title=\"Stop Interaction\"><i class=\"fa fa-power-off icon-remove icon-large\"></i></button>');\n",
       "    button.click(function (evt) { fig.handle_close(fig, {}); } );\n",
       "    button.mouseover('Stop Interaction', toolbar_mouse_event);\n",
       "    buttongrp.append(button);\n",
       "    var titlebar = this.root.find($('.ui-dialog-titlebar'));\n",
       "    titlebar.prepend(buttongrp);\n",
       "}\n",
       "\n",
       "mpl.figure.prototype._root_extra_style = function(el){\n",
       "    var fig = this\n",
       "    el.on(\"remove\", function(){\n",
       "\tfig.close_ws(fig, {});\n",
       "    });\n",
       "}\n",
       "\n",
       "mpl.figure.prototype._canvas_extra_style = function(el){\n",
       "    // this is important to make the div 'focusable\n",
       "    el.attr('tabindex', 0)\n",
       "    // reach out to IPython and tell the keyboard manager to turn it's self\n",
       "    // off when our div gets focus\n",
       "\n",
       "    // location in version 3\n",
       "    if (IPython.notebook.keyboard_manager) {\n",
       "        IPython.notebook.keyboard_manager.register_events(el);\n",
       "    }\n",
       "    else {\n",
       "        // location in version 2\n",
       "        IPython.keyboard_manager.register_events(el);\n",
       "    }\n",
       "\n",
       "}\n",
       "\n",
       "mpl.figure.prototype._key_event_extra = function(event, name) {\n",
       "    var manager = IPython.notebook.keyboard_manager;\n",
       "    if (!manager)\n",
       "        manager = IPython.keyboard_manager;\n",
       "\n",
       "    // Check for shift+enter\n",
       "    if (event.shiftKey && event.which == 13) {\n",
       "        this.canvas_div.blur();\n",
       "        // select the cell after this one\n",
       "        var index = IPython.notebook.find_cell_index(this.cell_info[0]);\n",
       "        IPython.notebook.select(index + 1);\n",
       "    }\n",
       "}\n",
       "\n",
       "mpl.figure.prototype.handle_save = function(fig, msg) {\n",
       "    fig.ondownload(fig, null);\n",
       "}\n",
       "\n",
       "\n",
       "mpl.find_output_cell = function(html_output) {\n",
       "    // Return the cell and output element which can be found *uniquely* in the notebook.\n",
       "    // Note - this is a bit hacky, but it is done because the \"notebook_saving.Notebook\"\n",
       "    // IPython event is triggered only after the cells have been serialised, which for\n",
       "    // our purposes (turning an active figure into a static one), is too late.\n",
       "    var cells = IPython.notebook.get_cells();\n",
       "    var ncells = cells.length;\n",
       "    for (var i=0; i<ncells; i++) {\n",
       "        var cell = cells[i];\n",
       "        if (cell.cell_type === 'code'){\n",
       "            for (var j=0; j<cell.output_area.outputs.length; j++) {\n",
       "                var data = cell.output_area.outputs[j];\n",
       "                if (data.data) {\n",
       "                    // IPython >= 3 moved mimebundle to data attribute of output\n",
       "                    data = data.data;\n",
       "                }\n",
       "                if (data['text/html'] == html_output) {\n",
       "                    return [cell, data, j];\n",
       "                }\n",
       "            }\n",
       "        }\n",
       "    }\n",
       "}\n",
       "\n",
       "// Register the function which deals with the matplotlib target/channel.\n",
       "// The kernel may be null if the page has been refreshed.\n",
       "if (IPython.notebook.kernel != null) {\n",
       "    IPython.notebook.kernel.comm_manager.register_target('matplotlib', mpl.mpl_figure_comm);\n",
       "}\n"
      ],
      "text/plain": [
       "<IPython.core.display.Javascript object>"
      ]
     },
     "metadata": {},
     "output_type": "display_data"
    },
    {
     "data": {
      "text/html": [
       "<img src=\"data:image/png;base64,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\" width=\"720\">"
      ],
      "text/plain": [
       "<IPython.core.display.HTML object>"
      ]
     },
     "metadata": {},
     "output_type": "display_data"
    }
   ],
   "source": [
    "def on_wp4_clicked(self):\n",
    "    plt.rcParams[\"figure.figsize\"] = (10,5) \n",
    "    fig = plt.figure(facecolor='w'); ax = fig.add_subplot()\n",
    "    ax.set_xscale('log')\n",
    "    plt.plot (df['t1']/30/30,df['s1'], '.-', label = 'observation H30' )\n",
    "    plt.plot (df['t2']/90/90,df['s2'], '.-', label = 'observation H90' )\n",
    "    plt.title('Oude Korendijk pumping test measured drawdowns',fontsize=14)\n",
    "    plt.xlabel('$t/r^2$ [min/m$^2$]',fontsize=12)\n",
    "    plt.ylabel('drawdown [m]',fontsize=12)\n",
    "    plt.grid()\n",
    "    plt.legend(loc = 'lower right',fontsize=12);\n",
    "\n",
    "wp4 = widgets.Button(description='Plot t/r/r scale')        \n",
    "wp4.on_click(on_wp4_clicked)   \n",
    "widgets.VBox([wp4]) "
   ]
  },
  {
   "cell_type": "markdown",
   "metadata": {
    "hideCode": true,
    "hidePrompt": true
   },
   "source": [
    "## Interpretation based on the Theis Solution (Cooper-Jacob)"
   ]
  },
  {
   "cell_type": "markdown",
   "metadata": {
    "hideCode": true,
    "hidePrompt": true
   },
   "source": [
    "The solution for the unsteady drawdown due to a single well with fully penetrating screen in a uniform aquifer of infinite extent was first published by Theis (1935), using a mathematical derivation by Lubin, transfered in private communication. The solution revolutioned the science of hydrology (White & Clebsch 1994). The solution for drawdown $s$ as function of distance from the pumping well $r$ and time $t$ is given by:"
   ]
  },
  {
   "cell_type": "markdown",
   "metadata": {
    "hideCode": true,
    "hidePrompt": true
   },
   "source": [
    "$$ s(r, t) = \\frac Q {4 \\pi T} W(u),\\,\\,\\,\\, u = \\frac {r^2 S} {4 T t}$$"
   ]
  },
  {
   "cell_type": "markdown",
   "metadata": {
    "hideCode": true,
    "hidePrompt": true
   },
   "source": [
    "where $T$ denotes the transmissivity, $S$ the storage coefficient, and $Q$ the pumping rate. $W$ is the well function, in mathematical literature known as exponential integral. For evaluations before computers became generally available, is was handy to utilize simpler approximations for the well function. Cooper & Jacob (1946) proposed:    "
   ]
  },
  {
   "cell_type": "markdown",
   "metadata": {
    "hideCode": true,
    "hidePrompt": true
   },
   "source": [
    "$$ W(u) \\approx -0.2557 - \\ln(u) $$"
   ]
  },
  {
   "cell_type": "markdown",
   "metadata": {
    "hideCode": true,
    "hidePrompt": true
   },
   "source": [
    "which is a good approximation for $u \\le 0.01$ that is valid for long enough times and/or small enough distances from the well:"
   ]
  },
  {
   "cell_type": "markdown",
   "metadata": {
    "hideCode": true,
    "hidePrompt": true
   },
   "source": [
    "$$ s(r, t) \\approx \\frac {Q} {4 \\pi T} \\ln \\left( \\frac {2.25 T t} {r^2 S} \\right) $$ "
   ]
  },
  {
   "cell_type": "markdown",
   "metadata": {
    "hideCode": true,
    "hidePrompt": true
   },
   "source": [
    "$\\ln$ denotes the natural logarithm. The formula can be modified for the decadic logarithm: "
   ]
  },
  {
   "cell_type": "markdown",
   "metadata": {
    "hideCode": true,
    "hidePrompt": true
   },
   "source": [
    "$$ s(r,t) = \\frac {2.3 Q} {4 \\pi T} \\log \\left( \\frac {2.25 T t} {r^2 S} \\right) $$"
   ]
  },
  {
   "cell_type": "markdown",
   "metadata": {
    "hideCode": true,
    "hidePrompt": true
   },
   "source": [
    "For the observation point H30 determine the drawdown per log cycle from the double-log graph with $t/r^2$ axis $\\approx (1.1 - 0.2) / 3 \\approx 0.30 $"
   ]
  },
  {
   "cell_type": "markdown",
   "metadata": {
    "hideCode": true,
    "hidePrompt": true
   },
   "source": [
    "$$ \\Delta s = s_{10t} - s_t = \\frac {2.3 Q} {4 \\pi T} $$"
   ]
  },
  {
   "cell_type": "markdown",
   "metadata": {
    "hideCode": true,
    "hidePrompt": true
   },
   "source": [
    "or, resolved for $T$:"
   ]
  },
  {
   "cell_type": "markdown",
   "metadata": {
    "hideCode": true,
    "hidePrompt": true
   },
   "source": [
    "$$ T = \\frac {2.3 Q} {4 \\pi \\Delta s} $$"
   ]
  },
  {
   "cell_type": "markdown",
   "metadata": {
    "hideCode": true,
    "hidePrompt": true
   },
   "source": [
    "Notice that it doesn't matter in what dimension time is, at it drops out of the drawdown at $10t$ is compared with that at $t$."
   ]
  },
  {
   "cell_type": "markdown",
   "metadata": {
    "hideCode": true,
    "hidePrompt": true
   },
   "source": [
    "For the storage coefficient determine the intersection with the straight line with the line of zero drawdown. This is $(t/r^2)_0 = 2 \\times 10 ^{-4}$ min. \n",
    "Setting the argument of the solution equal to 1 so that the computed drawdown is 0 and using the already obtained transmissivity yields the storage coefficient.\n",
    "We have to convert to days to get the answer consistent with the transmissivity."
   ]
  },
  {
   "cell_type": "markdown",
   "metadata": {
    "hideCode": true,
    "hidePrompt": true
   },
   "source": [
    "Clearly, the result depends somewhat on the exact straigt line drawn through the bundel of curves for the observation wells. In the ideal situation, these curves fall onto each other. In this real-world case this is not true, which is a result of the non-uniformity of the aquifer and inaccuracies in the measurements. The real world is less homogeneous than the analytic solution presumes.\n",
    "\n",
    "**Task**: Perform the Cooper-Jacob method of evaluation for the observations in borehole H90. Enter the values obtained from the plot and use the button for the evaluation."
   ]
  },
  {
   "cell_type": "code",
   "execution_count": 42,
   "metadata": {
    "hideCode": true,
    "hidePrompt": true,
    "hide_input": true,
    "scrolled": false
   },
   "outputs": [
    {
     "data": {
      "application/vnd.jupyter.widget-view+json": {
       "model_id": "ab703e9b7f2a4d0487025393b9608100",
       "version_major": 2,
       "version_minor": 0
      },
      "text/plain": [
       "HBox(children=(BoundedFloatText(value=0.3, description='$\\\\Delta S$:', max=10.0), BoundedFloatText(value=0.000…"
      ]
     },
     "metadata": {},
     "output_type": "display_data"
    }
   ],
   "source": [
    "wds = widgets.BoundedFloatText(value=0.3, min=0.0, max=10.0, description='$\\Delta S$:', disabled=False)\n",
    "w0 = widgets.BoundedFloatText(value=2e-4, min=0.0, max=1.e-1, description='$(t/r^2)_0$:', disabled=False)\n",
    "widgets.HBox([wds,w0]) "
   ]
  },
  {
   "cell_type": "code",
   "execution_count": 66,
   "metadata": {
    "hideCode": true,
    "hidePrompt": true,
    "hide_input": true
   },
   "outputs": [
    {
     "data": {
      "application/vnd.jupyter.widget-view+json": {
       "model_id": "c2c07292d92a4a0b974ab27a668559f4",
       "version_major": 2,
       "version_minor": 0
      },
      "text/plain": [
       "Button(description='Compute T,S', style=ButtonStyle())"
      ]
     },
     "metadata": {},
     "output_type": "display_data"
    },
    {
     "name": "stdout",
     "output_type": "stream",
     "text": [
      "T = 61 m²/d\n",
      "S = 1.91e-05\n"
     ]
    }
   ],
   "source": [
    "btn = widgets.Button(description='Compute T,S')\n",
    "display(btn)\n",
    "\n",
    "def btn_eventhandler(obj):\n",
    "    global kD,Sc\n",
    "    Q = wQ.value\n",
    "    kD = 2.3 * Q / (4 * np.pi * wds.value)\n",
    "    print('T = {:.0f}'.format(kD) + ' m' + chr(0x00b2) + '/d')\n",
    "    Sc = 2.25 * kD * w0.value/(24*60)\n",
    "    print('S = {:.2e}'.format(Sc))\n",
    "    \n",
    "btn.on_click(btn_eventhandler)    "
   ]
  },
  {
   "cell_type": "markdown",
   "metadata": {
    "hideCode": true,
    "hidePrompt": true,
    "hide_input": true
   },
   "source": [
    "## Classical Interpretation using the Match on Double Log Scales\n",
    "\n",
    "The classical interpretation plots the measured drawdowns (drawdown $s$ versus $t/r^2$ ) and compares them with the Theis type curve $W(u)$ versus $1/u$ also drawn on double log paper. Because $1/u = (4 T t) / (r^2 S)$ it follows that on logarithmic scales $1/u$ and $t/r^2$ differ only by a constant factor, which represents a horizontal shift on the log scale. The drawdown $s$ only differs the constant $Q/(4 \\pi T)$ from the well function $W(u)$, and so this implies a vertical shift on logarithmic scale. Hence the measured drawdown versus $t/r^2$ on double log scale looks exactly the same as the Theis type curve, but it is only shifted by a given distance along the horizontal axis and by a given distance along the vertical axis. These two shifts yield the sought transmissivity and storativity.\n",
    "\n",
    "### Manual Fitting\n",
    "\n",
    "The plot below depicts the Theis type curve and the drawdown $s$ multiplied by a factor $A$ plotted with $t/r^2$ multiplied by a factor $B$. $A$ and $B$ were changed until the measured and the type curve match best. In this worked out example, the values of $A$ and $B$ were obtained manually. The classical method was originally performed by shifting of the measurements drawn on double log paper over the Theis type curve also drawn on double log paper.  "
   ]
  },
  {
   "cell_type": "code",
   "execution_count": 46,
   "metadata": {
    "hideCode": true,
    "hidePrompt": true,
    "hide_input": false,
    "scrolled": false
   },
   "outputs": [
    {
     "data": {
      "application/vnd.jupyter.widget-view+json": {
       "model_id": "9e791c19e28f45b598d4807aab52e6d6",
       "version_major": 2,
       "version_minor": 0
      },
      "text/plain": [
       "Button(description='Show', style=ButtonStyle())"
      ]
     },
     "metadata": {},
     "output_type": "display_data"
    }
   ],
   "source": [
    "%matplotlib inline\n",
    "plt.rcParams[\"figure.figsize\"] = (10,5) \n",
    "\n",
    "btn = widgets.Button(description='Show')\n",
    "display(btn)\n",
    "\n",
    "def btn_eventhandler(obj):\n",
    "    plt.rcParams[\"figure.figsize\"] = (10,5)           \n",
    "    A = 7.0; B = 1.0e7\n",
    "    u = np.logspace(-4, 0.25, 41)\n",
    "    fig = plt.figure(facecolor='w'); ax = fig.add_subplot()\n",
    "\n",
    "    # the Theis type curve\n",
    "    plt.plot(1/u, exp1(u), label='Theis')\n",
    "\n",
    "    # The measurements\n",
    "    plt.plot (B*df['t1']/24/60/30/30,A*df['s1'], '.', label = 'observation H30' )\n",
    "    plt.plot (B*df['t2']/24/60/90/90,A*df['s2'], '.', label = 'observation H90' ) \n",
    "    ax.set_xscale('log'); ax.set_yscale('log')\n",
    "    plt.title('Type curve and $A \\cdot s$ vs $B \\cdot t/r^2$, with $A$={}, $B$={}'.format(A, B),fontsize=14)\n",
    "    plt.xlabel('$1/u$ and $B \\, t/r^2$',fontsize=12); plt.ylabel('W(u) and $A \\, s$',fontsize=12)\n",
    "    plt.xscale('log'); plt.yscale('log')\n",
    "    plt.grid()\n",
    "    plt.legend(loc='lower right',fontsize=12);\n",
    "    \n",
    "btn.on_click(btn_eventhandler)     "
   ]
  },
  {
   "cell_type": "markdown",
   "metadata": {
    "hideCode": true,
    "hidePrompt": true,
    "hide_input": false
   },
   "source": [
    "So $A \\cdot s = W(u)$ and $s = \\frac Q {2 \\pi T} W(u)$ and, therefore $A = \\frac {4 \\pi T} {Q}$ and $ T = \\frac {A Q} {4 \\pi}$. The result is calculated in the next cell."
   ]
  },
  {
   "cell_type": "code",
   "execution_count": 25,
   "metadata": {
    "hideCode": true,
    "hidePrompt": true,
    "hide_input": true,
    "scrolled": true
   },
   "outputs": [
    {
     "name": "stdout",
     "output_type": "stream",
     "text": [
      "T = 439 [m^2/d]\n"
     ]
    }
   ],
   "source": [
    "A = 7.0\n",
    "Q = wQ.value\n",
    "kD = A * Q /4 /np.pi\n",
    "print('T = {:.0f} [m^2/d]'.format(kD))"
   ]
  },
  {
   "cell_type": "markdown",
   "metadata": {
    "hideCode": true,
    "hidePrompt": true
   },
   "source": [
    "The storage coefficient then follows from $\\frac 1 u = B \\frac t {r^2}$, that is, $\\frac {4 T t} {r^2 S} = B \\frac t {r^2}$ so that $S = \\frac {4 T} B$. The result is computed in the next cell."
   ]
  },
  {
   "cell_type": "code",
   "execution_count": 26,
   "metadata": {
    "hideCode": true,
    "hidePrompt": true,
    "hide_input": true,
    "scrolled": false
   },
   "outputs": [
    {
     "name": "stdout",
     "output_type": "stream",
     "text": [
      "S = 1.76e-04 [-]\n"
     ]
    }
   ],
   "source": [
    "B = 1.0e7\n",
    "Sc = 4 * kD / B\n",
    "print('S = {:.2e} [-]'.format(Sc))"
   ]
  },
  {
   "cell_type": "markdown",
   "metadata": {
    "hideCode": true,
    "hidePrompt": true
   },
   "source": [
    "As one sees, the results obtained this way are consistent with those obtained by the previous method."
   ]
  },
  {
   "cell_type": "markdown",
   "metadata": {
    "hideCode": true,
    "hidePrompt": true,
    "hide_input": true
   },
   "source": [
    "The previous method was inspired by the shifting of the measurements drawn on double log paper over the Theis type curve also drawn on double log paper. However, we could just as well directly optimize $T$ and $S$ (instead of $A$ and $B$) by trial and error to find the best match between type curve and measurements. It may then be more convenient to let the type curve as it is and plot $ \\frac s {Q/(4 \\pi T)}$ vs $\\frac {4 T t} {r^2 S}$. This has been done and for the obtained values of $S$ and $T$ the result is shown by clicking the next button.   "
   ]
  },
  {
   "cell_type": "code",
   "execution_count": 45,
   "metadata": {
    "hideCode": true,
    "hidePrompt": true,
    "hide_input": true,
    "scrolled": false
   },
   "outputs": [
    {
     "data": {
      "application/vnd.jupyter.widget-view+json": {
       "model_id": "40a8277540d74fd5a796dd270ed419d2",
       "version_major": 2,
       "version_minor": 0
      },
      "text/plain": [
       "Button(description='Show', style=ButtonStyle())"
      ]
     },
     "metadata": {},
     "output_type": "display_data"
    }
   ],
   "source": [
    "%matplotlib inline\n",
    "\n",
    "btn = widgets.Button(description='Show')\n",
    "display(btn)\n",
    "\n",
    "def btn_eventhandler(obj):\n",
    "    global kD,Sc\n",
    "    kD = 450\n",
    "    Sc = 0.0002\n",
    "    u = np.logspace(-4, 0.25, 41)\n",
    "    fig = plt.figure(facecolor='w', figsize=(10,5)); ax = fig.add_subplot()\n",
    "\n",
    "    # the Theis type curve\n",
    "    plt.plot(1/u, exp1(u), label='Theis')\n",
    "\n",
    "    # The measurements\n",
    "    r = 30\n",
    "    plt.plot (4*kD*df['t1']/24/60/(Sc*r**2),df['s1']/(Q/(4*np.pi*kD)), '.', label = 'observation H30' )\n",
    "    r = 90\n",
    "    plt.plot (4*kD*df['t2']/24/60/(Sc*r**2),df['s2']/(Q/(4*np.pi*kD)), '.', label = 'observation H90' )\n",
    "    plt.title('Direct comparison between computed and measured drawdown, $T$={:.0f} m$^2$/d, $S$={:.3e} [-]'.format(kD,Sc),fontsize=12)\n",
    "    plt.xlabel('$1/u$',fontsize=12); plt.ylabel('$W[u]$',fontsize=12)\n",
    "    plt.xscale('log'); plt.yscale('log')\n",
    "    plt.grid()\n",
    "    plt.legend(loc='lower right',fontsize=12);\n",
    "    \n",
    "btn.on_click(btn_eventhandler)    "
   ]
  },
  {
   "cell_type": "markdown",
   "metadata": {
    "hideCode": true,
    "hidePrompt": true,
    "hide_input": true
   },
   "source": [
    "### Using the Interface\n",
    "\n",
    "As we now have a computer, we could just as well directly optimize $T$ and $S$ by trial and error to find the best match between type curve and measurements. For the following evaluations set the distance from the pumping well at which the data were measured:"
   ]
  },
  {
   "cell_type": "code",
   "execution_count": 28,
   "metadata": {
    "hideCode": true,
    "hidePrompt": true,
    "hide_input": true,
    "scrolled": false
   },
   "outputs": [
    {
     "data": {
      "application/vnd.jupyter.widget-view+json": {
       "model_id": "9945e6bfb3a344a6b722ead123ef79d1",
       "version_major": 2,
       "version_minor": 0
      },
      "text/plain": [
       "BoundedFloatText(value=30.0, description='Distance:', max=90.0, min=30.0, step=60.0)"
      ]
     },
     "metadata": {},
     "output_type": "display_data"
    }
   ],
   "source": [
    "wr = widgets.BoundedFloatText(value=30.0, min=30.0, max=90.0, step = 60.0, description='Distance:', disabled=False)\n",
    "wr"
   ]
  },
  {
   "cell_type": "markdown",
   "metadata": {
    "hideCode": true,
    "hidePrompt": true,
    "hide_input": false
   },
   "source": [
    "#### Multi-Graph\n",
    "Use the sliders to select values for $A$ and log10($B$)"
   ]
  },
  {
   "cell_type": "code",
   "execution_count": 29,
   "metadata": {
    "hideCode": true,
    "hidePrompt": true,
    "hide_input": true,
    "scrolled": false
   },
   "outputs": [
    {
     "data": {
      "application/vnd.jupyter.widget-view+json": {
       "model_id": "7a93759322d24b88a5866d6caa70b953",
       "version_major": 2,
       "version_minor": 0
      },
      "text/plain": [
       "HBox(children=(FloatSlider(value=1.0, description='$A$', max=10.0, min=0.1), FloatSlider(value=1.0, descriptio…"
      ]
     },
     "metadata": {},
     "output_type": "display_data"
    }
   ],
   "source": [
    "slider1 = widgets.FloatSlider(1, description = '$A$', min=0.1, max=10, step=0.1)\n",
    "slider2 = widgets.FloatSlider(1, description = 'log10($B$)', min=0.1, max=10, step=0.1)\n",
    "widgets.HBox([slider1,slider2])"
   ]
  },
  {
   "cell_type": "markdown",
   "metadata": {
    "hideCode": true,
    "hidePrompt": true,
    "hide_input": true
   },
   "source": [
    "Run the next cell and press the check button, whenever you have changed the slider values. Make sure that you enable toggle scrolling (see: Cell-Current outputs). In order to restart checking re-run the cell."
   ]
  },
  {
   "cell_type": "code",
   "execution_count": 40,
   "metadata": {
    "hideCode": true,
    "hidePrompt": true,
    "hide_input": false,
    "scrolled": false
   },
   "outputs": [
    {
     "data": {
      "application/vnd.jupyter.widget-view+json": {
       "model_id": "ac9493e8fe6249e4800ac0c17b3d7525",
       "version_major": 2,
       "version_minor": 0
      },
      "text/plain": [
       "Button(description='Check', style=ButtonStyle())"
      ]
     },
     "metadata": {},
     "output_type": "display_data"
    },
    {
     "data": {
      "image/png": "[encoded data removed]",
      "text/plain": [
       "<Figure size 720x360 with 1 Axes>"
      ]
     },
     "metadata": {},
     "output_type": "display_data"
    }
   ],
   "source": [
    "%matplotlib notebook\n",
    "%matplotlib notebook\n",
    "plt.rcParams[\"figure.figsize\"] = (10,5) \n",
    "\n",
    "btn = widgets.Button(description='Check')\n",
    "display(btn)\n",
    "\n",
    "def btn_eventhandler(obj):\n",
    "    global kD,Sc,count\n",
    "    A = slider1.value\n",
    "    B = 10**(slider2.value)\n",
    "\n",
    "    u = np.logspace(-4, 0.25, 41)\n",
    "    fig = plt.figure(facecolor='w'); ax = fig.add_subplot()\n",
    "\n",
    "    # the Theis type curve\n",
    "    plt.plot(1/u, exp1(u), label='Theis')\n",
    "\n",
    "    # the measurements\n",
    "    r = wr.value; Q = wQ.value\n",
    "    if r <= 50:\n",
    "        plt.plot (B*df['t1']/24/60/r/r,A*df['s1'], '.', label = 'observation' )\n",
    "    else:\n",
    "        plt.plot (B*df['t2']/24/60/r/r,A*df['s2'], '.', label = 'observation' ) \n",
    "        \n",
    "    ax.set_xscale('log'); ax.set_yscale('log');\n",
    "    plt.xlabel('$1/u$ and $B \\, t/r^2$',fontsize=16); plt.ylabel('W(u) and $A \\cdot s$',fontsize=16)\n",
    "    plt.xscale('log'); plt.yscale('log');\n",
    "    plt.grid();\n",
    "    plt.legend(loc='upper left',fontsize=12);\n",
    "    T = A * Q /4 /np.pi   # print('T = {:.0f} m2/d'.format(kD))\n",
    "    S = 4 * T / B         #print('S = {:.2e} [-]'.format(S))\n",
    "    ax.text (380,0.23,'$T =%.1f m^2/d$' % (T, ),fontsize=12)\n",
    "    ax.text (380,0.15,'$S =%.2e $' % (S, ),fontsize=12)\n",
    "    ax.set_title('Pump test: Oude Korendijk, Curve Matching: Theis ', size=14); count = count+1\n",
    "    Sc = S; kD = T\n",
    "\n",
    "count = 1    \n",
    "btn.on_click(btn_eventhandler)"
   ]
  },
  {
   "cell_type": "markdown",
   "metadata": {
    "hideCode": true,
    "hidePrompt": true,
    "hide_input": true
   },
   "source": [
    "#### Single Graph\n",
    "In the following cell see the effect of the sliders updated in a single figure."
   ]
  },
  {
   "cell_type": "code",
   "execution_count": 41,
   "metadata": {
    "hideCode": true,
    "hidePrompt": true,
    "hide_input": false,
    "scrolled": false
   },
   "outputs": [
    {
     "data": {
      "application/vnd.jupyter.widget-view+json": {
       "model_id": "4dbdb784a7fc43bf994255b4b62afa78",
       "version_major": 2,
       "version_minor": 0
      },
      "text/plain": [
       "Button(description='Sliders', style=ButtonStyle())"
      ]
     },
     "metadata": {},
     "output_type": "display_data"
    },
    {
     "data": {
      "application/javascript": [
       "/* Put everything inside the global mpl namespace */\n",
       "window.mpl = {};\n",
       "\n",
       "\n",
       "mpl.get_websocket_type = function() {\n",
       "    if (typeof(WebSocket) !== 'undefined') {\n",
       "        return WebSocket;\n",
       "    } else if (typeof(MozWebSocket) !== 'undefined') {\n",
       "        return MozWebSocket;\n",
       "    } else {\n",
       "        alert('Your browser does not have WebSocket support. ' +\n",
       "              'Please try Chrome, Safari or Firefox ≥ 6. ' +\n",
       "              'Firefox 4 and 5 are also supported but you ' +\n",
       "              'have to enable WebSockets in about:config.');\n",
       "    };\n",
       "}\n",
       "\n",
       "mpl.figure = function(figure_id, websocket, ondownload, parent_element) {\n",
       "    this.id = figure_id;\n",
       "\n",
       "    this.ws = websocket;\n",
       "\n",
       "    this.supports_binary = (this.ws.binaryType != undefined);\n",
       "\n",
       "    if (!this.supports_binary) {\n",
       "        var warnings = document.getElementById(\"mpl-warnings\");\n",
       "        if (warnings) {\n",
       "            warnings.style.display = 'block';\n",
       "            warnings.textContent = (\n",
       "                \"This browser does not support binary websocket messages. \" +\n",
       "                    \"Performance may be slow.\");\n",
       "        }\n",
       "    }\n",
       "\n",
       "    this.imageObj = new Image();\n",
       "\n",
       "    this.context = undefined;\n",
       "    this.message = undefined;\n",
       "    this.canvas = undefined;\n",
       "    this.rubberband_canvas = undefined;\n",
       "    this.rubberband_context = undefined;\n",
       "    this.format_dropdown = undefined;\n",
       "\n",
       "    this.image_mode = 'full';\n",
       "\n",
       "    this.root = $('<div/>');\n",
       "    this._root_extra_style(this.root)\n",
       "    this.root.attr('style', 'display: inline-block');\n",
       "\n",
       "    $(parent_element).append(this.root);\n",
       "\n",
       "    this._init_header(this);\n",
       "    this._init_canvas(this);\n",
       "    this._init_toolbar(this);\n",
       "\n",
       "    var fig = this;\n",
       "\n",
       "    this.waiting = false;\n",
       "\n",
       "    this.ws.onopen =  function () {\n",
       "            fig.send_message(\"supports_binary\", {value: fig.supports_binary});\n",
       "            fig.send_message(\"send_image_mode\", {});\n",
       "            if (mpl.ratio != 1) {\n",
       "                fig.send_message(\"set_dpi_ratio\", {'dpi_ratio': mpl.ratio});\n",
       "            }\n",
       "            fig.send_message(\"refresh\", {});\n",
       "        }\n",
       "\n",
       "    this.imageObj.onload = function() {\n",
       "            if (fig.image_mode == 'full') {\n",
       "                // Full images could contain transparency (where diff images\n",
       "                // almost always do), so we need to clear the canvas so that\n",
       "                // there is no ghosting.\n",
       "                fig.context.clearRect(0, 0, fig.canvas.width, fig.canvas.height);\n",
       "            }\n",
       "            fig.context.drawImage(fig.imageObj, 0, 0);\n",
       "        };\n",
       "\n",
       "    this.imageObj.onunload = function() {\n",
       "        fig.ws.close();\n",
       "    }\n",
       "\n",
       "    this.ws.onmessage = this._make_on_message_function(this);\n",
       "\n",
       "    this.ondownload = ondownload;\n",
       "}\n",
       "\n",
       "mpl.figure.prototype._init_header = function() {\n",
       "    var titlebar = $(\n",
       "        '<div class=\"ui-dialog-titlebar ui-widget-header ui-corner-all ' +\n",
       "        'ui-helper-clearfix\"/>');\n",
       "    var titletext = $(\n",
       "        '<div class=\"ui-dialog-title\" style=\"width: 100%; ' +\n",
       "        'text-align: center; padding: 3px;\"/>');\n",
       "    titlebar.append(titletext)\n",
       "    this.root.append(titlebar);\n",
       "    this.header = titletext[0];\n",
       "}\n",
       "\n",
       "\n",
       "\n",
       "mpl.figure.prototype._canvas_extra_style = function(canvas_div) {\n",
       "\n",
       "}\n",
       "\n",
       "\n",
       "mpl.figure.prototype._root_extra_style = function(canvas_div) {\n",
       "\n",
       "}\n",
       "\n",
       "mpl.figure.prototype._init_canvas = function() {\n",
       "    var fig = this;\n",
       "\n",
       "    var canvas_div = $('<div/>');\n",
       "\n",
       "    canvas_div.attr('style', 'position: relative; clear: both; outline: 0');\n",
       "\n",
       "    function canvas_keyboard_event(event) {\n",
       "        return fig.key_event(event, event['data']);\n",
       "    }\n",
       "\n",
       "    canvas_div.keydown('key_press', canvas_keyboard_event);\n",
       "    canvas_div.keyup('key_release', canvas_keyboard_event);\n",
       "    this.canvas_div = canvas_div\n",
       "    this._canvas_extra_style(canvas_div)\n",
       "    this.root.append(canvas_div);\n",
       "\n",
       "    var canvas = $('<canvas/>');\n",
       "    canvas.addClass('mpl-canvas');\n",
       "    canvas.attr('style', \"left: 0; top: 0; z-index: 0; outline: 0\")\n",
       "\n",
       "    this.canvas = canvas[0];\n",
       "    this.context = canvas[0].getContext(\"2d\");\n",
       "\n",
       "    var backingStore = this.context.backingStorePixelRatio ||\n",
       "\tthis.context.webkitBackingStorePixelRatio ||\n",
       "\tthis.context.mozBackingStorePixelRatio ||\n",
       "\tthis.context.msBackingStorePixelRatio ||\n",
       "\tthis.context.oBackingStorePixelRatio ||\n",
       "\tthis.context.backingStorePixelRatio || 1;\n",
       "\n",
       "    mpl.ratio = (window.devicePixelRatio || 1) / backingStore;\n",
       "\n",
       "    var rubberband = $('<canvas/>');\n",
       "    rubberband.attr('style', \"position: absolute; left: 0; top: 0; z-index: 1;\")\n",
       "\n",
       "    var pass_mouse_events = true;\n",
       "\n",
       "    canvas_div.resizable({\n",
       "        start: function(event, ui) {\n",
       "            pass_mouse_events = false;\n",
       "        },\n",
       "        resize: function(event, ui) {\n",
       "            fig.request_resize(ui.size.width, ui.size.height);\n",
       "        },\n",
       "        stop: function(event, ui) {\n",
       "            pass_mouse_events = true;\n",
       "            fig.request_resize(ui.size.width, ui.size.height);\n",
       "        },\n",
       "    });\n",
       "\n",
       "    function mouse_event_fn(event) {\n",
       "        if (pass_mouse_events)\n",
       "            return fig.mouse_event(event, event['data']);\n",
       "    }\n",
       "\n",
       "    rubberband.mousedown('button_press', mouse_event_fn);\n",
       "    rubberband.mouseup('button_release', mouse_event_fn);\n",
       "    // Throttle sequential mouse events to 1 every 20ms.\n",
       "    rubberband.mousemove('motion_notify', mouse_event_fn);\n",
       "\n",
       "    rubberband.mouseenter('figure_enter', mouse_event_fn);\n",
       "    rubberband.mouseleave('figure_leave', mouse_event_fn);\n",
       "\n",
       "    canvas_div.on(\"wheel\", function (event) {\n",
       "        event = event.originalEvent;\n",
       "        event['data'] = 'scroll'\n",
       "        if (event.deltaY < 0) {\n",
       "            event.step = 1;\n",
       "        } else {\n",
       "            event.step = -1;\n",
       "        }\n",
       "        mouse_event_fn(event);\n",
       "    });\n",
       "\n",
       "    canvas_div.append(canvas);\n",
       "    canvas_div.append(rubberband);\n",
       "\n",
       "    this.rubberband = rubberband;\n",
       "    this.rubberband_canvas = rubberband[0];\n",
       "    this.rubberband_context = rubberband[0].getContext(\"2d\");\n",
       "    this.rubberband_context.strokeStyle = \"#000000\";\n",
       "\n",
       "    this._resize_canvas = function(width, height) {\n",
       "        // Keep the size of the canvas, canvas container, and rubber band\n",
       "        // canvas in synch.\n",
       "        canvas_div.css('width', width)\n",
       "        canvas_div.css('height', height)\n",
       "\n",
       "        canvas.attr('width', width * mpl.ratio);\n",
       "        canvas.attr('height', height * mpl.ratio);\n",
       "        canvas.attr('style', 'width: ' + width + 'px; height: ' + height + 'px;');\n",
       "\n",
       "        rubberband.attr('width', width);\n",
       "        rubberband.attr('height', height);\n",
       "    }\n",
       "\n",
       "    // Set the figure to an initial 600x600px, this will subsequently be updated\n",
       "    // upon first draw.\n",
       "    this._resize_canvas(600, 600);\n",
       "\n",
       "    // Disable right mouse context menu.\n",
       "    $(this.rubberband_canvas).bind(\"contextmenu\",function(e){\n",
       "        return false;\n",
       "    });\n",
       "\n",
       "    function set_focus () {\n",
       "        canvas.focus();\n",
       "        canvas_div.focus();\n",
       "    }\n",
       "\n",
       "    window.setTimeout(set_focus, 100);\n",
       "}\n",
       "\n",
       "mpl.figure.prototype._init_toolbar = function() {\n",
       "    var fig = this;\n",
       "\n",
       "    var nav_element = $('<div/>');\n",
       "    nav_element.attr('style', 'width: 100%');\n",
       "    this.root.append(nav_element);\n",
       "\n",
       "    // Define a callback function for later on.\n",
       "    function toolbar_event(event) {\n",
       "        return fig.toolbar_button_onclick(event['data']);\n",
       "    }\n",
       "    function toolbar_mouse_event(event) {\n",
       "        return fig.toolbar_button_onmouseover(event['data']);\n",
       "    }\n",
       "\n",
       "    for(var toolbar_ind in mpl.toolbar_items) {\n",
       "        var name = mpl.toolbar_items[toolbar_ind][0];\n",
       "        var tooltip = mpl.toolbar_items[toolbar_ind][1];\n",
       "        var image = mpl.toolbar_items[toolbar_ind][2];\n",
       "        var method_name = mpl.toolbar_items[toolbar_ind][3];\n",
       "\n",
       "        if (!name) {\n",
       "            // put a spacer in here.\n",
       "            continue;\n",
       "        }\n",
       "        var button = $('<button/>');\n",
       "        button.addClass('ui-button ui-widget ui-state-default ui-corner-all ' +\n",
       "                        'ui-button-icon-only');\n",
       "        button.attr('role', 'button');\n",
       "        button.attr('aria-disabled', 'false');\n",
       "        button.click(method_name, toolbar_event);\n",
       "        button.mouseover(tooltip, toolbar_mouse_event);\n",
       "\n",
       "        var icon_img = $('<span/>');\n",
       "        icon_img.addClass('ui-button-icon-primary ui-icon');\n",
       "        icon_img.addClass(image);\n",
       "        icon_img.addClass('ui-corner-all');\n",
       "\n",
       "        var tooltip_span = $('<span/>');\n",
       "        tooltip_span.addClass('ui-button-text');\n",
       "        tooltip_span.html(tooltip);\n",
       "\n",
       "        button.append(icon_img);\n",
       "        button.append(tooltip_span);\n",
       "\n",
       "        nav_element.append(button);\n",
       "    }\n",
       "\n",
       "    var fmt_picker_span = $('<span/>');\n",
       "\n",
       "    var fmt_picker = $('<select/>');\n",
       "    fmt_picker.addClass('mpl-toolbar-option ui-widget ui-widget-content');\n",
       "    fmt_picker_span.append(fmt_picker);\n",
       "    nav_element.append(fmt_picker_span);\n",
       "    this.format_dropdown = fmt_picker[0];\n",
       "\n",
       "    for (var ind in mpl.extensions) {\n",
       "        var fmt = mpl.extensions[ind];\n",
       "        var option = $(\n",
       "            '<option/>', {selected: fmt === mpl.default_extension}).html(fmt);\n",
       "        fmt_picker.append(option);\n",
       "    }\n",
       "\n",
       "    // Add hover states to the ui-buttons\n",
       "    $( \".ui-button\" ).hover(\n",
       "        function() { $(this).addClass(\"ui-state-hover\");},\n",
       "        function() { $(this).removeClass(\"ui-state-hover\");}\n",
       "    );\n",
       "\n",
       "    var status_bar = $('<span class=\"mpl-message\"/>');\n",
       "    nav_element.append(status_bar);\n",
       "    this.message = status_bar[0];\n",
       "}\n",
       "\n",
       "mpl.figure.prototype.request_resize = function(x_pixels, y_pixels) {\n",
       "    // Request matplotlib to resize the figure. Matplotlib will then trigger a resize in the client,\n",
       "    // which will in turn request a refresh of the image.\n",
       "    this.send_message('resize', {'width': x_pixels, 'height': y_pixels});\n",
       "}\n",
       "\n",
       "mpl.figure.prototype.send_message = function(type, properties) {\n",
       "    properties['type'] = type;\n",
       "    properties['figure_id'] = this.id;\n",
       "    this.ws.send(JSON.stringify(properties));\n",
       "}\n",
       "\n",
       "mpl.figure.prototype.send_draw_message = function() {\n",
       "    if (!this.waiting) {\n",
       "        this.waiting = true;\n",
       "        this.ws.send(JSON.stringify({type: \"draw\", figure_id: this.id}));\n",
       "    }\n",
       "}\n",
       "\n",
       "\n",
       "mpl.figure.prototype.handle_save = function(fig, msg) {\n",
       "    var format_dropdown = fig.format_dropdown;\n",
       "    var format = format_dropdown.options[format_dropdown.selectedIndex].value;\n",
       "    fig.ondownload(fig, format);\n",
       "}\n",
       "\n",
       "\n",
       "mpl.figure.prototype.handle_resize = function(fig, msg) {\n",
       "    var size = msg['size'];\n",
       "    if (size[0] != fig.canvas.width || size[1] != fig.canvas.height) {\n",
       "        fig._resize_canvas(size[0], size[1]);\n",
       "        fig.send_message(\"refresh\", {});\n",
       "    };\n",
       "}\n",
       "\n",
       "mpl.figure.prototype.handle_rubberband = function(fig, msg) {\n",
       "    var x0 = msg['x0'] / mpl.ratio;\n",
       "    var y0 = (fig.canvas.height - msg['y0']) / mpl.ratio;\n",
       "    var x1 = msg['x1'] / mpl.ratio;\n",
       "    var y1 = (fig.canvas.height - msg['y1']) / mpl.ratio;\n",
       "    x0 = Math.floor(x0) + 0.5;\n",
       "    y0 = Math.floor(y0) + 0.5;\n",
       "    x1 = Math.floor(x1) + 0.5;\n",
       "    y1 = Math.floor(y1) + 0.5;\n",
       "    var min_x = Math.min(x0, x1);\n",
       "    var min_y = Math.min(y0, y1);\n",
       "    var width = Math.abs(x1 - x0);\n",
       "    var height = Math.abs(y1 - y0);\n",
       "\n",
       "    fig.rubberband_context.clearRect(\n",
       "        0, 0, fig.canvas.width / mpl.ratio, fig.canvas.height / mpl.ratio);\n",
       "\n",
       "    fig.rubberband_context.strokeRect(min_x, min_y, width, height);\n",
       "}\n",
       "\n",
       "mpl.figure.prototype.handle_figure_label = function(fig, msg) {\n",
       "    // Updates the figure title.\n",
       "    fig.header.textContent = msg['label'];\n",
       "}\n",
       "\n",
       "mpl.figure.prototype.handle_cursor = function(fig, msg) {\n",
       "    var cursor = msg['cursor'];\n",
       "    switch(cursor)\n",
       "    {\n",
       "    case 0:\n",
       "        cursor = 'pointer';\n",
       "        break;\n",
       "    case 1:\n",
       "        cursor = 'default';\n",
       "        break;\n",
       "    case 2:\n",
       "        cursor = 'crosshair';\n",
       "        break;\n",
       "    case 3:\n",
       "        cursor = 'move';\n",
       "        break;\n",
       "    }\n",
       "    fig.rubberband_canvas.style.cursor = cursor;\n",
       "}\n",
       "\n",
       "mpl.figure.prototype.handle_message = function(fig, msg) {\n",
       "    fig.message.textContent = msg['message'];\n",
       "}\n",
       "\n",
       "mpl.figure.prototype.handle_draw = function(fig, msg) {\n",
       "    // Request the server to send over a new figure.\n",
       "    fig.send_draw_message();\n",
       "}\n",
       "\n",
       "mpl.figure.prototype.handle_image_mode = function(fig, msg) {\n",
       "    fig.image_mode = msg['mode'];\n",
       "}\n",
       "\n",
       "mpl.figure.prototype.updated_canvas_event = function() {\n",
       "    // Called whenever the canvas gets updated.\n",
       "    this.send_message(\"ack\", {});\n",
       "}\n",
       "\n",
       "// A function to construct a web socket function for onmessage handling.\n",
       "// Called in the figure constructor.\n",
       "mpl.figure.prototype._make_on_message_function = function(fig) {\n",
       "    return function socket_on_message(evt) {\n",
       "        if (evt.data instanceof Blob) {\n",
       "            /* FIXME: We get \"Resource interpreted as Image but\n",
       "             * transferred with MIME type text/plain:\" errors on\n",
       "             * Chrome.  But how to set the MIME type?  It doesn't seem\n",
       "             * to be part of the websocket stream */\n",
       "            evt.data.type = \"image/png\";\n",
       "\n",
       "            /* Free the memory for the previous frames */\n",
       "            if (fig.imageObj.src) {\n",
       "                (window.URL || window.webkitURL).revokeObjectURL(\n",
       "                    fig.imageObj.src);\n",
       "            }\n",
       "\n",
       "            fig.imageObj.src = (window.URL || window.webkitURL).createObjectURL(\n",
       "                evt.data);\n",
       "            fig.updated_canvas_event();\n",
       "            fig.waiting = false;\n",
       "            return;\n",
       "        }\n",
       "        else if (typeof evt.data === 'string' && evt.data.slice(0, 21) == \"data:image/png;base64\") {\n",
       "            fig.imageObj.src = evt.data;\n",
       "            fig.updated_canvas_event();\n",
       "            fig.waiting = false;\n",
       "            return;\n",
       "        }\n",
       "\n",
       "        var msg = JSON.parse(evt.data);\n",
       "        var msg_type = msg['type'];\n",
       "\n",
       "        // Call the  \"handle_{type}\" callback, which takes\n",
       "        // the figure and JSON message as its only arguments.\n",
       "        try {\n",
       "            var callback = fig[\"handle_\" + msg_type];\n",
       "        } catch (e) {\n",
       "            console.log(\"No handler for the '\" + msg_type + \"' message type: \", msg);\n",
       "            return;\n",
       "        }\n",
       "\n",
       "        if (callback) {\n",
       "            try {\n",
       "                // console.log(\"Handling '\" + msg_type + \"' message: \", msg);\n",
       "                callback(fig, msg);\n",
       "            } catch (e) {\n",
       "                console.log(\"Exception inside the 'handler_\" + msg_type + \"' callback:\", e, e.stack, msg);\n",
       "            }\n",
       "        }\n",
       "    };\n",
       "}\n",
       "\n",
       "// from http://stackoverflow.com/questions/1114465/getting-mouse-location-in-canvas\n",
       "mpl.findpos = function(e) {\n",
       "    //this section is from http://www.quirksmode.org/js/events_properties.html\n",
       "    var targ;\n",
       "    if (!e)\n",
       "        e = window.event;\n",
       "    if (e.target)\n",
       "        targ = e.target;\n",
       "    else if (e.srcElement)\n",
       "        targ = e.srcElement;\n",
       "    if (targ.nodeType == 3) // defeat Safari bug\n",
       "        targ = targ.parentNode;\n",
       "\n",
       "    // jQuery normalizes the pageX and pageY\n",
       "    // pageX,Y are the mouse positions relative to the document\n",
       "    // offset() returns the position of the element relative to the document\n",
       "    var x = e.pageX - $(targ).offset().left;\n",
       "    var y = e.pageY - $(targ).offset().top;\n",
       "\n",
       "    return {\"x\": x, \"y\": y};\n",
       "};\n",
       "\n",
       "/*\n",
       " * return a copy of an object with only non-object keys\n",
       " * we need this to avoid circular references\n",
       " * http://stackoverflow.com/a/24161582/3208463\n",
       " */\n",
       "function simpleKeys (original) {\n",
       "  return Object.keys(original).reduce(function (obj, key) {\n",
       "    if (typeof original[key] !== 'object')\n",
       "        obj[key] = original[key]\n",
       "    return obj;\n",
       "  }, {});\n",
       "}\n",
       "\n",
       "mpl.figure.prototype.mouse_event = function(event, name) {\n",
       "    var canvas_pos = mpl.findpos(event)\n",
       "\n",
       "    if (name === 'button_press')\n",
       "    {\n",
       "        this.canvas.focus();\n",
       "        this.canvas_div.focus();\n",
       "    }\n",
       "\n",
       "    var x = canvas_pos.x * mpl.ratio;\n",
       "    var y = canvas_pos.y * mpl.ratio;\n",
       "\n",
       "    this.send_message(name, {x: x, y: y, button: event.button,\n",
       "                             step: event.step,\n",
       "                             guiEvent: simpleKeys(event)});\n",
       "\n",
       "    /* This prevents the web browser from automatically changing to\n",
       "     * the text insertion cursor when the button is pressed.  We want\n",
       "     * to control all of the cursor setting manually through the\n",
       "     * 'cursor' event from matplotlib */\n",
       "    event.preventDefault();\n",
       "    return false;\n",
       "}\n",
       "\n",
       "mpl.figure.prototype._key_event_extra = function(event, name) {\n",
       "    // Handle any extra behaviour associated with a key event\n",
       "}\n",
       "\n",
       "mpl.figure.prototype.key_event = function(event, name) {\n",
       "\n",
       "    // Prevent repeat events\n",
       "    if (name == 'key_press')\n",
       "    {\n",
       "        if (event.which === this._key)\n",
       "            return;\n",
       "        else\n",
       "            this._key = event.which;\n",
       "    }\n",
       "    if (name == 'key_release')\n",
       "        this._key = null;\n",
       "\n",
       "    var value = '';\n",
       "    if (event.ctrlKey && event.which != 17)\n",
       "        value += \"ctrl+\";\n",
       "    if (event.altKey && event.which != 18)\n",
       "        value += \"alt+\";\n",
       "    if (event.shiftKey && event.which != 16)\n",
       "        value += \"shift+\";\n",
       "\n",
       "    value += 'k';\n",
       "    value += event.which.toString();\n",
       "\n",
       "    this._key_event_extra(event, name);\n",
       "\n",
       "    this.send_message(name, {key: value,\n",
       "                             guiEvent: simpleKeys(event)});\n",
       "    return false;\n",
       "}\n",
       "\n",
       "mpl.figure.prototype.toolbar_button_onclick = function(name) {\n",
       "    if (name == 'download') {\n",
       "        this.handle_save(this, null);\n",
       "    } else {\n",
       "        this.send_message(\"toolbar_button\", {name: name});\n",
       "    }\n",
       "};\n",
       "\n",
       "mpl.figure.prototype.toolbar_button_onmouseover = function(tooltip) {\n",
       "    this.message.textContent = tooltip;\n",
       "};\n",
       "mpl.toolbar_items = [[\"Home\", \"Reset original view\", \"fa fa-home icon-home\", \"home\"], [\"Back\", \"Back to previous view\", \"fa fa-arrow-left icon-arrow-left\", \"back\"], [\"Forward\", \"Forward to next view\", \"fa fa-arrow-right icon-arrow-right\", \"forward\"], [\"\", \"\", \"\", \"\"], [\"Pan\", \"Pan axes with left mouse, zoom with right\", \"fa fa-arrows icon-move\", \"pan\"], [\"Zoom\", \"Zoom to rectangle\", \"fa fa-square-o icon-check-empty\", \"zoom\"], [\"\", \"\", \"\", \"\"], [\"Download\", \"Download plot\", \"fa fa-floppy-o icon-save\", \"download\"]];\n",
       "\n",
       "mpl.extensions = [\"eps\", \"jpeg\", \"pdf\", \"png\", \"ps\", \"raw\", \"svg\", \"tif\"];\n",
       "\n",
       "mpl.default_extension = \"png\";var comm_websocket_adapter = function(comm) {\n",
       "    // Create a \"websocket\"-like object which calls the given IPython comm\n",
       "    // object with the appropriate methods. Currently this is a non binary\n",
       "    // socket, so there is still some room for performance tuning.\n",
       "    var ws = {};\n",
       "\n",
       "    ws.close = function() {\n",
       "        comm.close()\n",
       "    };\n",
       "    ws.send = function(m) {\n",
       "        //console.log('sending', m);\n",
       "        comm.send(m);\n",
       "    };\n",
       "    // Register the callback with on_msg.\n",
       "    comm.on_msg(function(msg) {\n",
       "        //console.log('receiving', msg['content']['data'], msg);\n",
       "        // Pass the mpl event to the overridden (by mpl) onmessage function.\n",
       "        ws.onmessage(msg['content']['data'])\n",
       "    });\n",
       "    return ws;\n",
       "}\n",
       "\n",
       "mpl.mpl_figure_comm = function(comm, msg) {\n",
       "    // This is the function which gets called when the mpl process\n",
       "    // starts-up an IPython Comm through the \"matplotlib\" channel.\n",
       "\n",
       "    var id = msg.content.data.id;\n",
       "    // Get hold of the div created by the display call when the Comm\n",
       "    // socket was opened in Python.\n",
       "    var element = $(\"#\" + id);\n",
       "    var ws_proxy = comm_websocket_adapter(comm)\n",
       "\n",
       "    function ondownload(figure, format) {\n",
       "        window.open(figure.imageObj.src);\n",
       "    }\n",
       "\n",
       "    var fig = new mpl.figure(id, ws_proxy,\n",
       "                           ondownload,\n",
       "                           element.get(0));\n",
       "\n",
       "    // Call onopen now - mpl needs it, as it is assuming we've passed it a real\n",
       "    // web socket which is closed, not our websocket->open comm proxy.\n",
       "    ws_proxy.onopen();\n",
       "\n",
       "    fig.parent_element = element.get(0);\n",
       "    fig.cell_info = mpl.find_output_cell(\"<div id='\" + id + \"'></div>\");\n",
       "    if (!fig.cell_info) {\n",
       "        console.error(\"Failed to find cell for figure\", id, fig);\n",
       "        return;\n",
       "    }\n",
       "\n",
       "    var output_index = fig.cell_info[2]\n",
       "    var cell = fig.cell_info[0];\n",
       "\n",
       "};\n",
       "\n",
       "mpl.figure.prototype.handle_close = function(fig, msg) {\n",
       "    var width = fig.canvas.width/mpl.ratio\n",
       "    fig.root.unbind('remove')\n",
       "\n",
       "    // Update the output cell to use the data from the current canvas.\n",
       "    fig.push_to_output();\n",
       "    var dataURL = fig.canvas.toDataURL();\n",
       "    // Re-enable the keyboard manager in IPython - without this line, in FF,\n",
       "    // the notebook keyboard shortcuts fail.\n",
       "    IPython.keyboard_manager.enable()\n",
       "    $(fig.parent_element).html('<img src=\"' + dataURL + '\" width=\"' + width + '\">');\n",
       "    fig.close_ws(fig, msg);\n",
       "}\n",
       "\n",
       "mpl.figure.prototype.close_ws = function(fig, msg){\n",
       "    fig.send_message('closing', msg);\n",
       "    // fig.ws.close()\n",
       "}\n",
       "\n",
       "mpl.figure.prototype.push_to_output = function(remove_interactive) {\n",
       "    // Turn the data on the canvas into data in the output cell.\n",
       "    var width = this.canvas.width/mpl.ratio\n",
       "    var dataURL = this.canvas.toDataURL();\n",
       "    this.cell_info[1]['text/html'] = '<img src=\"' + dataURL + '\" width=\"' + width + '\">';\n",
       "}\n",
       "\n",
       "mpl.figure.prototype.updated_canvas_event = function() {\n",
       "    // Tell IPython that the notebook contents must change.\n",
       "    IPython.notebook.set_dirty(true);\n",
       "    this.send_message(\"ack\", {});\n",
       "    var fig = this;\n",
       "    // Wait a second, then push the new image to the DOM so\n",
       "    // that it is saved nicely (might be nice to debounce this).\n",
       "    setTimeout(function () { fig.push_to_output() }, 1000);\n",
       "}\n",
       "\n",
       "mpl.figure.prototype._init_toolbar = function() {\n",
       "    var fig = this;\n",
       "\n",
       "    var nav_element = $('<div/>');\n",
       "    nav_element.attr('style', 'width: 100%');\n",
       "    this.root.append(nav_element);\n",
       "\n",
       "    // Define a callback function for later on.\n",
       "    function toolbar_event(event) {\n",
       "        return fig.toolbar_button_onclick(event['data']);\n",
       "    }\n",
       "    function toolbar_mouse_event(event) {\n",
       "        return fig.toolbar_button_onmouseover(event['data']);\n",
       "    }\n",
       "\n",
       "    for(var toolbar_ind in mpl.toolbar_items){\n",
       "        var name = mpl.toolbar_items[toolbar_ind][0];\n",
       "        var tooltip = mpl.toolbar_items[toolbar_ind][1];\n",
       "        var image = mpl.toolbar_items[toolbar_ind][2];\n",
       "        var method_name = mpl.toolbar_items[toolbar_ind][3];\n",
       "\n",
       "        if (!name) { continue; };\n",
       "\n",
       "        var button = $('<button class=\"btn btn-default\" href=\"#\" title=\"' + name + '\"><i class=\"fa ' + image + ' fa-lg\"></i></button>');\n",
       "        button.click(method_name, toolbar_event);\n",
       "        button.mouseover(tooltip, toolbar_mouse_event);\n",
       "        nav_element.append(button);\n",
       "    }\n",
       "\n",
       "    // Add the status bar.\n",
       "    var status_bar = $('<span class=\"mpl-message\" style=\"text-align:right; float: right;\"/>');\n",
       "    nav_element.append(status_bar);\n",
       "    this.message = status_bar[0];\n",
       "\n",
       "    // Add the close button to the window.\n",
       "    var buttongrp = $('<div class=\"btn-group inline pull-right\"></div>');\n",
       "    var button = $('<button class=\"btn btn-mini btn-primary\" href=\"#\" title=\"Stop Interaction\"><i class=\"fa fa-power-off icon-remove icon-large\"></i></button>');\n",
       "    button.click(function (evt) { fig.handle_close(fig, {}); } );\n",
       "    button.mouseover('Stop Interaction', toolbar_mouse_event);\n",
       "    buttongrp.append(button);\n",
       "    var titlebar = this.root.find($('.ui-dialog-titlebar'));\n",
       "    titlebar.prepend(buttongrp);\n",
       "}\n",
       "\n",
       "mpl.figure.prototype._root_extra_style = function(el){\n",
       "    var fig = this\n",
       "    el.on(\"remove\", function(){\n",
       "\tfig.close_ws(fig, {});\n",
       "    });\n",
       "}\n",
       "\n",
       "mpl.figure.prototype._canvas_extra_style = function(el){\n",
       "    // this is important to make the div 'focusable\n",
       "    el.attr('tabindex', 0)\n",
       "    // reach out to IPython and tell the keyboard manager to turn it's self\n",
       "    // off when our div gets focus\n",
       "\n",
       "    // location in version 3\n",
       "    if (IPython.notebook.keyboard_manager) {\n",
       "        IPython.notebook.keyboard_manager.register_events(el);\n",
       "    }\n",
       "    else {\n",
       "        // location in version 2\n",
       "        IPython.keyboard_manager.register_events(el);\n",
       "    }\n",
       "\n",
       "}\n",
       "\n",
       "mpl.figure.prototype._key_event_extra = function(event, name) {\n",
       "    var manager = IPython.notebook.keyboard_manager;\n",
       "    if (!manager)\n",
       "        manager = IPython.keyboard_manager;\n",
       "\n",
       "    // Check for shift+enter\n",
       "    if (event.shiftKey && event.which == 13) {\n",
       "        this.canvas_div.blur();\n",
       "        // select the cell after this one\n",
       "        var index = IPython.notebook.find_cell_index(this.cell_info[0]);\n",
       "        IPython.notebook.select(index + 1);\n",
       "    }\n",
       "}\n",
       "\n",
       "mpl.figure.prototype.handle_save = function(fig, msg) {\n",
       "    fig.ondownload(fig, null);\n",
       "}\n",
       "\n",
       "\n",
       "mpl.find_output_cell = function(html_output) {\n",
       "    // Return the cell and output element which can be found *uniquely* in the notebook.\n",
       "    // Note - this is a bit hacky, but it is done because the \"notebook_saving.Notebook\"\n",
       "    // IPython event is triggered only after the cells have been serialised, which for\n",
       "    // our purposes (turning an active figure into a static one), is too late.\n",
       "    var cells = IPython.notebook.get_cells();\n",
       "    var ncells = cells.length;\n",
       "    for (var i=0; i<ncells; i++) {\n",
       "        var cell = cells[i];\n",
       "        if (cell.cell_type === 'code'){\n",
       "            for (var j=0; j<cell.output_area.outputs.length; j++) {\n",
       "                var data = cell.output_area.outputs[j];\n",
       "                if (data.data) {\n",
       "                    // IPython >= 3 moved mimebundle to data attribute of output\n",
       "                    data = data.data;\n",
       "                }\n",
       "                if (data['text/html'] == html_output) {\n",
       "                    return [cell, data, j];\n",
       "                }\n",
       "            }\n",
       "        }\n",
       "    }\n",
       "}\n",
       "\n",
       "// Register the function which deals with the matplotlib target/channel.\n",
       "// The kernel may be null if the page has been refreshed.\n",
       "if (IPython.notebook.kernel != null) {\n",
       "    IPython.notebook.kernel.comm_manager.register_target('matplotlib', mpl.mpl_figure_comm);\n",
       "}\n"
      ],
      "text/plain": [
       "<IPython.core.display.Javascript object>"
      ]
     },
     "metadata": {},
     "output_type": "display_data"
    },
    {
     "data": {
      "text/html": [
       "<img src=\"data:image/png;base64,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\" width=\"720\">"
      ],
      "text/plain": [
       "<IPython.core.display.HTML object>"
      ]
     },
     "metadata": {},
     "output_type": "display_data"
    },
    {
     "data": {
      "application/vnd.jupyter.widget-view+json": {
       "model_id": "fb77629dfa5a49b6a9404cc13d47d6ca",
       "version_major": 2,
       "version_minor": 0
      },
      "text/plain": [
       "IntSlider(value=10, min=1)"
      ]
     },
     "metadata": {},
     "output_type": "display_data"
    },
    {
     "data": {
      "application/vnd.jupyter.widget-view+json": {
       "model_id": "6c5314ceeaee45cfbd74766d906a4b44",
       "version_major": 2,
       "version_minor": 0
      },
      "text/plain": [
       "Label(value='A value is: 1.0')"
      ]
     },
     "metadata": {},
     "output_type": "display_data"
    },
    {
     "data": {
      "application/vnd.jupyter.widget-view+json": {
       "model_id": "ebc62ad0c3904c5e820ca6c950c71321",
       "version_major": 2,
       "version_minor": 0
      },
      "text/plain": [
       "IntSlider(value=10, min=1)"
      ]
     },
     "metadata": {},
     "output_type": "display_data"
    },
    {
     "data": {
      "application/vnd.jupyter.widget-view+json": {
       "model_id": "b3dd62e9689b4289a3b8817c4458a1c9",
       "version_major": 2,
       "version_minor": 0
      },
      "text/plain": [
       "Label(value='log10(B) value is: 1.0')"
      ]
     },
     "metadata": {},
     "output_type": "display_data"
    }
   ],
   "source": [
    "from IPython.display import display\n",
    "%matplotlib notebook\n",
    "%matplotlib notebook \n",
    "global shiftx_slider, shifty_slider, shiftx_label, shifty_label\n",
    "\n",
    "def update_plot(shifty = 10, shiftx = 10):\n",
    "    plt.figure('S')\n",
    "    r = wr.value\n",
    "    if r <= 50:\n",
    "        plt.plot (10**(shiftx/10)*df['t1']/24/60/r/r,shifty/10*df['s1'],'.C1')\n",
    "    else:\n",
    "        plt.plot (10**(shiftx/10)*df['t2']/24/60/r/r,shifty/10*df['s2'],'.C1')\n",
    "        \n",
    "    plt.grid()\n",
    "    #fig.canvas.draw_idle('S')\n",
    "\n",
    "# handle shifty update\n",
    "def update_shifty(value):\n",
    "    global shiftx_slider, shifty_slider, shiftx_label, shifty_label\n",
    "    plt.figure('S')\n",
    "    r = wr.value\n",
    "    plt.plot (10**(shiftx_slider.value/10)*df['t1']/24/60/r/r,value['old']/10*df['s1'], '.', color='0.7')\n",
    "    update_plot(shifty = value['new'],shiftx = shiftx_slider.value)\n",
    "    shifty_label.value = 'A value is: ' + str(value.new/10)\n",
    "\n",
    "# handle shiftx update\n",
    "def update_shiftx(value):\n",
    "    global shiftx_slider, shifty_slider, shiftx_label, shifty_label\n",
    "    plt.figure('S')\n",
    "    r = wr.value\n",
    "    plt.plot (10**(value['old']/10)*df['t1']/24/60/r/r,shifty_slider.value/10*df['s1'], '.', color='0.7')\n",
    "    update_plot(shifty = shifty_slider.value,shiftx = value['new'])\n",
    "    shiftx_label.value = 'log10(B) value is: ' + str(value.new/10)\n",
    "\n",
    "def btn_eventhandler(obj): \n",
    "    global shiftx_slider, shifty_slider, shiftx_label, shifty_label\n",
    "    u = np.logspace(-4, 0.25, 41)\n",
    "    if plt.fignum_exists('S'):\n",
    "        #plt.figure('S')\n",
    "        plt.subplots(num='S')\n",
    "    else:\n",
    "        fig = plt.figure(num='S',figsize=(10,5)) \n",
    "        \n",
    "    ax = fig.add_subplot()\n",
    "    plt.plot(1/u, exp1(u), label='Theis')\n",
    "    ax.set_xscale('log'); ax.set_yscale('log')\n",
    "    plt.show();\n",
    "\n",
    "    # prepare widgets\n",
    "    shifty_slider = widgets.IntSlider(10, min = 1, max = 100)\n",
    "    shifty_label = widgets.Label(value = 'A value is: ' + str(shifty_slider.value/10))\n",
    "    display(shifty_slider, shifty_label)\n",
    "    shiftx_slider = widgets.IntSlider(10, min = 1, max = 100)\n",
    "    shiftx_label = widgets.Label(value = 'log10(B) value is: ' + str(shiftx_slider.value/10))\n",
    "    display(shiftx_slider, shiftx_label)    \n",
    "\n",
    "    shiftx_slider.observe(update_shiftx, names = 'value')\n",
    "    shifty_slider.observe(update_shifty, names = 'value') \n",
    "    fig.canvas.draw_idle()\n",
    "    \n",
    "btn = widgets.Button(description='Sliders')\n",
    "display(btn)   \n",
    "btn.on_click(btn_eventhandler)"
   ]
  },
  {
   "cell_type": "markdown",
   "metadata": {
    "hideCode": true,
    "hidePrompt": true
   },
   "source": [
    "Check the result for transmissivity and storativity! Run the cell to erase former results."
   ]
  },
  {
   "cell_type": "code",
   "execution_count": 32,
   "metadata": {
    "hideCode": true,
    "hidePrompt": true,
    "hide_input": true,
    "scrolled": false
   },
   "outputs": [
    {
     "data": {
      "application/vnd.jupyter.widget-view+json": {
       "model_id": "777e1659d22a45afaf8f9a49c5e8fd0b",
       "version_major": 2,
       "version_minor": 0
      },
      "text/plain": [
       "Button(description='Check', style=ButtonStyle())"
      ]
     },
     "metadata": {},
     "output_type": "display_data"
    },
    {
     "data": {
      "application/javascript": [
       "/* Put everything inside the global mpl namespace */\n",
       "window.mpl = {};\n",
       "\n",
       "\n",
       "mpl.get_websocket_type = function() {\n",
       "    if (typeof(WebSocket) !== 'undefined') {\n",
       "        return WebSocket;\n",
       "    } else if (typeof(MozWebSocket) !== 'undefined') {\n",
       "        return MozWebSocket;\n",
       "    } else {\n",
       "        alert('Your browser does not have WebSocket support. ' +\n",
       "              'Please try Chrome, Safari or Firefox ≥ 6. ' +\n",
       "              'Firefox 4 and 5 are also supported but you ' +\n",
       "              'have to enable WebSockets in about:config.');\n",
       "    };\n",
       "}\n",
       "\n",
       "mpl.figure = function(figure_id, websocket, ondownload, parent_element) {\n",
       "    this.id = figure_id;\n",
       "\n",
       "    this.ws = websocket;\n",
       "\n",
       "    this.supports_binary = (this.ws.binaryType != undefined);\n",
       "\n",
       "    if (!this.supports_binary) {\n",
       "        var warnings = document.getElementById(\"mpl-warnings\");\n",
       "        if (warnings) {\n",
       "            warnings.style.display = 'block';\n",
       "            warnings.textContent = (\n",
       "                \"This browser does not support binary websocket messages. \" +\n",
       "                    \"Performance may be slow.\");\n",
       "        }\n",
       "    }\n",
       "\n",
       "    this.imageObj = new Image();\n",
       "\n",
       "    this.context = undefined;\n",
       "    this.message = undefined;\n",
       "    this.canvas = undefined;\n",
       "    this.rubberband_canvas = undefined;\n",
       "    this.rubberband_context = undefined;\n",
       "    this.format_dropdown = undefined;\n",
       "\n",
       "    this.image_mode = 'full';\n",
       "\n",
       "    this.root = $('<div/>');\n",
       "    this._root_extra_style(this.root)\n",
       "    this.root.attr('style', 'display: inline-block');\n",
       "\n",
       "    $(parent_element).append(this.root);\n",
       "\n",
       "    this._init_header(this);\n",
       "    this._init_canvas(this);\n",
       "    this._init_toolbar(this);\n",
       "\n",
       "    var fig = this;\n",
       "\n",
       "    this.waiting = false;\n",
       "\n",
       "    this.ws.onopen =  function () {\n",
       "            fig.send_message(\"supports_binary\", {value: fig.supports_binary});\n",
       "            fig.send_message(\"send_image_mode\", {});\n",
       "            if (mpl.ratio != 1) {\n",
       "                fig.send_message(\"set_dpi_ratio\", {'dpi_ratio': mpl.ratio});\n",
       "            }\n",
       "            fig.send_message(\"refresh\", {});\n",
       "        }\n",
       "\n",
       "    this.imageObj.onload = function() {\n",
       "            if (fig.image_mode == 'full') {\n",
       "                // Full images could contain transparency (where diff images\n",
       "                // almost always do), so we need to clear the canvas so that\n",
       "                // there is no ghosting.\n",
       "                fig.context.clearRect(0, 0, fig.canvas.width, fig.canvas.height);\n",
       "            }\n",
       "            fig.context.drawImage(fig.imageObj, 0, 0);\n",
       "        };\n",
       "\n",
       "    this.imageObj.onunload = function() {\n",
       "        fig.ws.close();\n",
       "    }\n",
       "\n",
       "    this.ws.onmessage = this._make_on_message_function(this);\n",
       "\n",
       "    this.ondownload = ondownload;\n",
       "}\n",
       "\n",
       "mpl.figure.prototype._init_header = function() {\n",
       "    var titlebar = $(\n",
       "        '<div class=\"ui-dialog-titlebar ui-widget-header ui-corner-all ' +\n",
       "        'ui-helper-clearfix\"/>');\n",
       "    var titletext = $(\n",
       "        '<div class=\"ui-dialog-title\" style=\"width: 100%; ' +\n",
       "        'text-align: center; padding: 3px;\"/>');\n",
       "    titlebar.append(titletext)\n",
       "    this.root.append(titlebar);\n",
       "    this.header = titletext[0];\n",
       "}\n",
       "\n",
       "\n",
       "\n",
       "mpl.figure.prototype._canvas_extra_style = function(canvas_div) {\n",
       "\n",
       "}\n",
       "\n",
       "\n",
       "mpl.figure.prototype._root_extra_style = function(canvas_div) {\n",
       "\n",
       "}\n",
       "\n",
       "mpl.figure.prototype._init_canvas = function() {\n",
       "    var fig = this;\n",
       "\n",
       "    var canvas_div = $('<div/>');\n",
       "\n",
       "    canvas_div.attr('style', 'position: relative; clear: both; outline: 0');\n",
       "\n",
       "    function canvas_keyboard_event(event) {\n",
       "        return fig.key_event(event, event['data']);\n",
       "    }\n",
       "\n",
       "    canvas_div.keydown('key_press', canvas_keyboard_event);\n",
       "    canvas_div.keyup('key_release', canvas_keyboard_event);\n",
       "    this.canvas_div = canvas_div\n",
       "    this._canvas_extra_style(canvas_div)\n",
       "    this.root.append(canvas_div);\n",
       "\n",
       "    var canvas = $('<canvas/>');\n",
       "    canvas.addClass('mpl-canvas');\n",
       "    canvas.attr('style', \"left: 0; top: 0; z-index: 0; outline: 0\")\n",
       "\n",
       "    this.canvas = canvas[0];\n",
       "    this.context = canvas[0].getContext(\"2d\");\n",
       "\n",
       "    var backingStore = this.context.backingStorePixelRatio ||\n",
       "\tthis.context.webkitBackingStorePixelRatio ||\n",
       "\tthis.context.mozBackingStorePixelRatio ||\n",
       "\tthis.context.msBackingStorePixelRatio ||\n",
       "\tthis.context.oBackingStorePixelRatio ||\n",
       "\tthis.context.backingStorePixelRatio || 1;\n",
       "\n",
       "    mpl.ratio = (window.devicePixelRatio || 1) / backingStore;\n",
       "\n",
       "    var rubberband = $('<canvas/>');\n",
       "    rubberband.attr('style', \"position: absolute; left: 0; top: 0; z-index: 1;\")\n",
       "\n",
       "    var pass_mouse_events = true;\n",
       "\n",
       "    canvas_div.resizable({\n",
       "        start: function(event, ui) {\n",
       "            pass_mouse_events = false;\n",
       "        },\n",
       "        resize: function(event, ui) {\n",
       "            fig.request_resize(ui.size.width, ui.size.height);\n",
       "        },\n",
       "        stop: function(event, ui) {\n",
       "            pass_mouse_events = true;\n",
       "            fig.request_resize(ui.size.width, ui.size.height);\n",
       "        },\n",
       "    });\n",
       "\n",
       "    function mouse_event_fn(event) {\n",
       "        if (pass_mouse_events)\n",
       "            return fig.mouse_event(event, event['data']);\n",
       "    }\n",
       "\n",
       "    rubberband.mousedown('button_press', mouse_event_fn);\n",
       "    rubberband.mouseup('button_release', mouse_event_fn);\n",
       "    // Throttle sequential mouse events to 1 every 20ms.\n",
       "    rubberband.mousemove('motion_notify', mouse_event_fn);\n",
       "\n",
       "    rubberband.mouseenter('figure_enter', mouse_event_fn);\n",
       "    rubberband.mouseleave('figure_leave', mouse_event_fn);\n",
       "\n",
       "    canvas_div.on(\"wheel\", function (event) {\n",
       "        event = event.originalEvent;\n",
       "        event['data'] = 'scroll'\n",
       "        if (event.deltaY < 0) {\n",
       "            event.step = 1;\n",
       "        } else {\n",
       "            event.step = -1;\n",
       "        }\n",
       "        mouse_event_fn(event);\n",
       "    });\n",
       "\n",
       "    canvas_div.append(canvas);\n",
       "    canvas_div.append(rubberband);\n",
       "\n",
       "    this.rubberband = rubberband;\n",
       "    this.rubberband_canvas = rubberband[0];\n",
       "    this.rubberband_context = rubberband[0].getContext(\"2d\");\n",
       "    this.rubberband_context.strokeStyle = \"#000000\";\n",
       "\n",
       "    this._resize_canvas = function(width, height) {\n",
       "        // Keep the size of the canvas, canvas container, and rubber band\n",
       "        // canvas in synch.\n",
       "        canvas_div.css('width', width)\n",
       "        canvas_div.css('height', height)\n",
       "\n",
       "        canvas.attr('width', width * mpl.ratio);\n",
       "        canvas.attr('height', height * mpl.ratio);\n",
       "        canvas.attr('style', 'width: ' + width + 'px; height: ' + height + 'px;');\n",
       "\n",
       "        rubberband.attr('width', width);\n",
       "        rubberband.attr('height', height);\n",
       "    }\n",
       "\n",
       "    // Set the figure to an initial 600x600px, this will subsequently be updated\n",
       "    // upon first draw.\n",
       "    this._resize_canvas(600, 600);\n",
       "\n",
       "    // Disable right mouse context menu.\n",
       "    $(this.rubberband_canvas).bind(\"contextmenu\",function(e){\n",
       "        return false;\n",
       "    });\n",
       "\n",
       "    function set_focus () {\n",
       "        canvas.focus();\n",
       "        canvas_div.focus();\n",
       "    }\n",
       "\n",
       "    window.setTimeout(set_focus, 100);\n",
       "}\n",
       "\n",
       "mpl.figure.prototype._init_toolbar = function() {\n",
       "    var fig = this;\n",
       "\n",
       "    var nav_element = $('<div/>');\n",
       "    nav_element.attr('style', 'width: 100%');\n",
       "    this.root.append(nav_element);\n",
       "\n",
       "    // Define a callback function for later on.\n",
       "    function toolbar_event(event) {\n",
       "        return fig.toolbar_button_onclick(event['data']);\n",
       "    }\n",
       "    function toolbar_mouse_event(event) {\n",
       "        return fig.toolbar_button_onmouseover(event['data']);\n",
       "    }\n",
       "\n",
       "    for(var toolbar_ind in mpl.toolbar_items) {\n",
       "        var name = mpl.toolbar_items[toolbar_ind][0];\n",
       "        var tooltip = mpl.toolbar_items[toolbar_ind][1];\n",
       "        var image = mpl.toolbar_items[toolbar_ind][2];\n",
       "        var method_name = mpl.toolbar_items[toolbar_ind][3];\n",
       "\n",
       "        if (!name) {\n",
       "            // put a spacer in here.\n",
       "            continue;\n",
       "        }\n",
       "        var button = $('<button/>');\n",
       "        button.addClass('ui-button ui-widget ui-state-default ui-corner-all ' +\n",
       "                        'ui-button-icon-only');\n",
       "        button.attr('role', 'button');\n",
       "        button.attr('aria-disabled', 'false');\n",
       "        button.click(method_name, toolbar_event);\n",
       "        button.mouseover(tooltip, toolbar_mouse_event);\n",
       "\n",
       "        var icon_img = $('<span/>');\n",
       "        icon_img.addClass('ui-button-icon-primary ui-icon');\n",
       "        icon_img.addClass(image);\n",
       "        icon_img.addClass('ui-corner-all');\n",
       "\n",
       "        var tooltip_span = $('<span/>');\n",
       "        tooltip_span.addClass('ui-button-text');\n",
       "        tooltip_span.html(tooltip);\n",
       "\n",
       "        button.append(icon_img);\n",
       "        button.append(tooltip_span);\n",
       "\n",
       "        nav_element.append(button);\n",
       "    }\n",
       "\n",
       "    var fmt_picker_span = $('<span/>');\n",
       "\n",
       "    var fmt_picker = $('<select/>');\n",
       "    fmt_picker.addClass('mpl-toolbar-option ui-widget ui-widget-content');\n",
       "    fmt_picker_span.append(fmt_picker);\n",
       "    nav_element.append(fmt_picker_span);\n",
       "    this.format_dropdown = fmt_picker[0];\n",
       "\n",
       "    for (var ind in mpl.extensions) {\n",
       "        var fmt = mpl.extensions[ind];\n",
       "        var option = $(\n",
       "            '<option/>', {selected: fmt === mpl.default_extension}).html(fmt);\n",
       "        fmt_picker.append(option);\n",
       "    }\n",
       "\n",
       "    // Add hover states to the ui-buttons\n",
       "    $( \".ui-button\" ).hover(\n",
       "        function() { $(this).addClass(\"ui-state-hover\");},\n",
       "        function() { $(this).removeClass(\"ui-state-hover\");}\n",
       "    );\n",
       "\n",
       "    var status_bar = $('<span class=\"mpl-message\"/>');\n",
       "    nav_element.append(status_bar);\n",
       "    this.message = status_bar[0];\n",
       "}\n",
       "\n",
       "mpl.figure.prototype.request_resize = function(x_pixels, y_pixels) {\n",
       "    // Request matplotlib to resize the figure. Matplotlib will then trigger a resize in the client,\n",
       "    // which will in turn request a refresh of the image.\n",
       "    this.send_message('resize', {'width': x_pixels, 'height': y_pixels});\n",
       "}\n",
       "\n",
       "mpl.figure.prototype.send_message = function(type, properties) {\n",
       "    properties['type'] = type;\n",
       "    properties['figure_id'] = this.id;\n",
       "    this.ws.send(JSON.stringify(properties));\n",
       "}\n",
       "\n",
       "mpl.figure.prototype.send_draw_message = function() {\n",
       "    if (!this.waiting) {\n",
       "        this.waiting = true;\n",
       "        this.ws.send(JSON.stringify({type: \"draw\", figure_id: this.id}));\n",
       "    }\n",
       "}\n",
       "\n",
       "\n",
       "mpl.figure.prototype.handle_save = function(fig, msg) {\n",
       "    var format_dropdown = fig.format_dropdown;\n",
       "    var format = format_dropdown.options[format_dropdown.selectedIndex].value;\n",
       "    fig.ondownload(fig, format);\n",
       "}\n",
       "\n",
       "\n",
       "mpl.figure.prototype.handle_resize = function(fig, msg) {\n",
       "    var size = msg['size'];\n",
       "    if (size[0] != fig.canvas.width || size[1] != fig.canvas.height) {\n",
       "        fig._resize_canvas(size[0], size[1]);\n",
       "        fig.send_message(\"refresh\", {});\n",
       "    };\n",
       "}\n",
       "\n",
       "mpl.figure.prototype.handle_rubberband = function(fig, msg) {\n",
       "    var x0 = msg['x0'] / mpl.ratio;\n",
       "    var y0 = (fig.canvas.height - msg['y0']) / mpl.ratio;\n",
       "    var x1 = msg['x1'] / mpl.ratio;\n",
       "    var y1 = (fig.canvas.height - msg['y1']) / mpl.ratio;\n",
       "    x0 = Math.floor(x0) + 0.5;\n",
       "    y0 = Math.floor(y0) + 0.5;\n",
       "    x1 = Math.floor(x1) + 0.5;\n",
       "    y1 = Math.floor(y1) + 0.5;\n",
       "    var min_x = Math.min(x0, x1);\n",
       "    var min_y = Math.min(y0, y1);\n",
       "    var width = Math.abs(x1 - x0);\n",
       "    var height = Math.abs(y1 - y0);\n",
       "\n",
       "    fig.rubberband_context.clearRect(\n",
       "        0, 0, fig.canvas.width / mpl.ratio, fig.canvas.height / mpl.ratio);\n",
       "\n",
       "    fig.rubberband_context.strokeRect(min_x, min_y, width, height);\n",
       "}\n",
       "\n",
       "mpl.figure.prototype.handle_figure_label = function(fig, msg) {\n",
       "    // Updates the figure title.\n",
       "    fig.header.textContent = msg['label'];\n",
       "}\n",
       "\n",
       "mpl.figure.prototype.handle_cursor = function(fig, msg) {\n",
       "    var cursor = msg['cursor'];\n",
       "    switch(cursor)\n",
       "    {\n",
       "    case 0:\n",
       "        cursor = 'pointer';\n",
       "        break;\n",
       "    case 1:\n",
       "        cursor = 'default';\n",
       "        break;\n",
       "    case 2:\n",
       "        cursor = 'crosshair';\n",
       "        break;\n",
       "    case 3:\n",
       "        cursor = 'move';\n",
       "        break;\n",
       "    }\n",
       "    fig.rubberband_canvas.style.cursor = cursor;\n",
       "}\n",
       "\n",
       "mpl.figure.prototype.handle_message = function(fig, msg) {\n",
       "    fig.message.textContent = msg['message'];\n",
       "}\n",
       "\n",
       "mpl.figure.prototype.handle_draw = function(fig, msg) {\n",
       "    // Request the server to send over a new figure.\n",
       "    fig.send_draw_message();\n",
       "}\n",
       "\n",
       "mpl.figure.prototype.handle_image_mode = function(fig, msg) {\n",
       "    fig.image_mode = msg['mode'];\n",
       "}\n",
       "\n",
       "mpl.figure.prototype.updated_canvas_event = function() {\n",
       "    // Called whenever the canvas gets updated.\n",
       "    this.send_message(\"ack\", {});\n",
       "}\n",
       "\n",
       "// A function to construct a web socket function for onmessage handling.\n",
       "// Called in the figure constructor.\n",
       "mpl.figure.prototype._make_on_message_function = function(fig) {\n",
       "    return function socket_on_message(evt) {\n",
       "        if (evt.data instanceof Blob) {\n",
       "            /* FIXME: We get \"Resource interpreted as Image but\n",
       "             * transferred with MIME type text/plain:\" errors on\n",
       "             * Chrome.  But how to set the MIME type?  It doesn't seem\n",
       "             * to be part of the websocket stream */\n",
       "            evt.data.type = \"image/png\";\n",
       "\n",
       "            /* Free the memory for the previous frames */\n",
       "            if (fig.imageObj.src) {\n",
       "                (window.URL || window.webkitURL).revokeObjectURL(\n",
       "                    fig.imageObj.src);\n",
       "            }\n",
       "\n",
       "            fig.imageObj.src = (window.URL || window.webkitURL).createObjectURL(\n",
       "                evt.data);\n",
       "            fig.updated_canvas_event();\n",
       "            fig.waiting = false;\n",
       "            return;\n",
       "        }\n",
       "        else if (typeof evt.data === 'string' && evt.data.slice(0, 21) == \"data:image/png;base64\") {\n",
       "            fig.imageObj.src = evt.data;\n",
       "            fig.updated_canvas_event();\n",
       "            fig.waiting = false;\n",
       "            return;\n",
       "        }\n",
       "\n",
       "        var msg = JSON.parse(evt.data);\n",
       "        var msg_type = msg['type'];\n",
       "\n",
       "        // Call the  \"handle_{type}\" callback, which takes\n",
       "        // the figure and JSON message as its only arguments.\n",
       "        try {\n",
       "            var callback = fig[\"handle_\" + msg_type];\n",
       "        } catch (e) {\n",
       "            console.log(\"No handler for the '\" + msg_type + \"' message type: \", msg);\n",
       "            return;\n",
       "        }\n",
       "\n",
       "        if (callback) {\n",
       "            try {\n",
       "                // console.log(\"Handling '\" + msg_type + \"' message: \", msg);\n",
       "                callback(fig, msg);\n",
       "            } catch (e) {\n",
       "                console.log(\"Exception inside the 'handler_\" + msg_type + \"' callback:\", e, e.stack, msg);\n",
       "            }\n",
       "        }\n",
       "    };\n",
       "}\n",
       "\n",
       "// from http://stackoverflow.com/questions/1114465/getting-mouse-location-in-canvas\n",
       "mpl.findpos = function(e) {\n",
       "    //this section is from http://www.quirksmode.org/js/events_properties.html\n",
       "    var targ;\n",
       "    if (!e)\n",
       "        e = window.event;\n",
       "    if (e.target)\n",
       "        targ = e.target;\n",
       "    else if (e.srcElement)\n",
       "        targ = e.srcElement;\n",
       "    if (targ.nodeType == 3) // defeat Safari bug\n",
       "        targ = targ.parentNode;\n",
       "\n",
       "    // jQuery normalizes the pageX and pageY\n",
       "    // pageX,Y are the mouse positions relative to the document\n",
       "    // offset() returns the position of the element relative to the document\n",
       "    var x = e.pageX - $(targ).offset().left;\n",
       "    var y = e.pageY - $(targ).offset().top;\n",
       "\n",
       "    return {\"x\": x, \"y\": y};\n",
       "};\n",
       "\n",
       "/*\n",
       " * return a copy of an object with only non-object keys\n",
       " * we need this to avoid circular references\n",
       " * http://stackoverflow.com/a/24161582/3208463\n",
       " */\n",
       "function simpleKeys (original) {\n",
       "  return Object.keys(original).reduce(function (obj, key) {\n",
       "    if (typeof original[key] !== 'object')\n",
       "        obj[key] = original[key]\n",
       "    return obj;\n",
       "  }, {});\n",
       "}\n",
       "\n",
       "mpl.figure.prototype.mouse_event = function(event, name) {\n",
       "    var canvas_pos = mpl.findpos(event)\n",
       "\n",
       "    if (name === 'button_press')\n",
       "    {\n",
       "        this.canvas.focus();\n",
       "        this.canvas_div.focus();\n",
       "    }\n",
       "\n",
       "    var x = canvas_pos.x * mpl.ratio;\n",
       "    var y = canvas_pos.y * mpl.ratio;\n",
       "\n",
       "    this.send_message(name, {x: x, y: y, button: event.button,\n",
       "                             step: event.step,\n",
       "                             guiEvent: simpleKeys(event)});\n",
       "\n",
       "    /* This prevents the web browser from automatically changing to\n",
       "     * the text insertion cursor when the button is pressed.  We want\n",
       "     * to control all of the cursor setting manually through the\n",
       "     * 'cursor' event from matplotlib */\n",
       "    event.preventDefault();\n",
       "    return false;\n",
       "}\n",
       "\n",
       "mpl.figure.prototype._key_event_extra = function(event, name) {\n",
       "    // Handle any extra behaviour associated with a key event\n",
       "}\n",
       "\n",
       "mpl.figure.prototype.key_event = function(event, name) {\n",
       "\n",
       "    // Prevent repeat events\n",
       "    if (name == 'key_press')\n",
       "    {\n",
       "        if (event.which === this._key)\n",
       "            return;\n",
       "        else\n",
       "            this._key = event.which;\n",
       "    }\n",
       "    if (name == 'key_release')\n",
       "        this._key = null;\n",
       "\n",
       "    var value = '';\n",
       "    if (event.ctrlKey && event.which != 17)\n",
       "        value += \"ctrl+\";\n",
       "    if (event.altKey && event.which != 18)\n",
       "        value += \"alt+\";\n",
       "    if (event.shiftKey && event.which != 16)\n",
       "        value += \"shift+\";\n",
       "\n",
       "    value += 'k';\n",
       "    value += event.which.toString();\n",
       "\n",
       "    this._key_event_extra(event, name);\n",
       "\n",
       "    this.send_message(name, {key: value,\n",
       "                             guiEvent: simpleKeys(event)});\n",
       "    return false;\n",
       "}\n",
       "\n",
       "mpl.figure.prototype.toolbar_button_onclick = function(name) {\n",
       "    if (name == 'download') {\n",
       "        this.handle_save(this, null);\n",
       "    } else {\n",
       "        this.send_message(\"toolbar_button\", {name: name});\n",
       "    }\n",
       "};\n",
       "\n",
       "mpl.figure.prototype.toolbar_button_onmouseover = function(tooltip) {\n",
       "    this.message.textContent = tooltip;\n",
       "};\n",
       "mpl.toolbar_items = [[\"Home\", \"Reset original view\", \"fa fa-home icon-home\", \"home\"], [\"Back\", \"Back to previous view\", \"fa fa-arrow-left icon-arrow-left\", \"back\"], [\"Forward\", \"Forward to next view\", \"fa fa-arrow-right icon-arrow-right\", \"forward\"], [\"\", \"\", \"\", \"\"], [\"Pan\", \"Pan axes with left mouse, zoom with right\", \"fa fa-arrows icon-move\", \"pan\"], [\"Zoom\", \"Zoom to rectangle\", \"fa fa-square-o icon-check-empty\", \"zoom\"], [\"\", \"\", \"\", \"\"], [\"Download\", \"Download plot\", \"fa fa-floppy-o icon-save\", \"download\"]];\n",
       "\n",
       "mpl.extensions = [\"eps\", \"jpeg\", \"pdf\", \"png\", \"ps\", \"raw\", \"svg\", \"tif\"];\n",
       "\n",
       "mpl.default_extension = \"png\";var comm_websocket_adapter = function(comm) {\n",
       "    // Create a \"websocket\"-like object which calls the given IPython comm\n",
       "    // object with the appropriate methods. Currently this is a non binary\n",
       "    // socket, so there is still some room for performance tuning.\n",
       "    var ws = {};\n",
       "\n",
       "    ws.close = function() {\n",
       "        comm.close()\n",
       "    };\n",
       "    ws.send = function(m) {\n",
       "        //console.log('sending', m);\n",
       "        comm.send(m);\n",
       "    };\n",
       "    // Register the callback with on_msg.\n",
       "    comm.on_msg(function(msg) {\n",
       "        //console.log('receiving', msg['content']['data'], msg);\n",
       "        // Pass the mpl event to the overridden (by mpl) onmessage function.\n",
       "        ws.onmessage(msg['content']['data'])\n",
       "    });\n",
       "    return ws;\n",
       "}\n",
       "\n",
       "mpl.mpl_figure_comm = function(comm, msg) {\n",
       "    // This is the function which gets called when the mpl process\n",
       "    // starts-up an IPython Comm through the \"matplotlib\" channel.\n",
       "\n",
       "    var id = msg.content.data.id;\n",
       "    // Get hold of the div created by the display call when the Comm\n",
       "    // socket was opened in Python.\n",
       "    var element = $(\"#\" + id);\n",
       "    var ws_proxy = comm_websocket_adapter(comm)\n",
       "\n",
       "    function ondownload(figure, format) {\n",
       "        window.open(figure.imageObj.src);\n",
       "    }\n",
       "\n",
       "    var fig = new mpl.figure(id, ws_proxy,\n",
       "                           ondownload,\n",
       "                           element.get(0));\n",
       "\n",
       "    // Call onopen now - mpl needs it, as it is assuming we've passed it a real\n",
       "    // web socket which is closed, not our websocket->open comm proxy.\n",
       "    ws_proxy.onopen();\n",
       "\n",
       "    fig.parent_element = element.get(0);\n",
       "    fig.cell_info = mpl.find_output_cell(\"<div id='\" + id + \"'></div>\");\n",
       "    if (!fig.cell_info) {\n",
       "        console.error(\"Failed to find cell for figure\", id, fig);\n",
       "        return;\n",
       "    }\n",
       "\n",
       "    var output_index = fig.cell_info[2]\n",
       "    var cell = fig.cell_info[0];\n",
       "\n",
       "};\n",
       "\n",
       "mpl.figure.prototype.handle_close = function(fig, msg) {\n",
       "    var width = fig.canvas.width/mpl.ratio\n",
       "    fig.root.unbind('remove')\n",
       "\n",
       "    // Update the output cell to use the data from the current canvas.\n",
       "    fig.push_to_output();\n",
       "    var dataURL = fig.canvas.toDataURL();\n",
       "    // Re-enable the keyboard manager in IPython - without this line, in FF,\n",
       "    // the notebook keyboard shortcuts fail.\n",
       "    IPython.keyboard_manager.enable()\n",
       "    $(fig.parent_element).html('<img src=\"' + dataURL + '\" width=\"' + width + '\">');\n",
       "    fig.close_ws(fig, msg);\n",
       "}\n",
       "\n",
       "mpl.figure.prototype.close_ws = function(fig, msg){\n",
       "    fig.send_message('closing', msg);\n",
       "    // fig.ws.close()\n",
       "}\n",
       "\n",
       "mpl.figure.prototype.push_to_output = function(remove_interactive) {\n",
       "    // Turn the data on the canvas into data in the output cell.\n",
       "    var width = this.canvas.width/mpl.ratio\n",
       "    var dataURL = this.canvas.toDataURL();\n",
       "    this.cell_info[1]['text/html'] = '<img src=\"' + dataURL + '\" width=\"' + width + '\">';\n",
       "}\n",
       "\n",
       "mpl.figure.prototype.updated_canvas_event = function() {\n",
       "    // Tell IPython that the notebook contents must change.\n",
       "    IPython.notebook.set_dirty(true);\n",
       "    this.send_message(\"ack\", {});\n",
       "    var fig = this;\n",
       "    // Wait a second, then push the new image to the DOM so\n",
       "    // that it is saved nicely (might be nice to debounce this).\n",
       "    setTimeout(function () { fig.push_to_output() }, 1000);\n",
       "}\n",
       "\n",
       "mpl.figure.prototype._init_toolbar = function() {\n",
       "    var fig = this;\n",
       "\n",
       "    var nav_element = $('<div/>');\n",
       "    nav_element.attr('style', 'width: 100%');\n",
       "    this.root.append(nav_element);\n",
       "\n",
       "    // Define a callback function for later on.\n",
       "    function toolbar_event(event) {\n",
       "        return fig.toolbar_button_onclick(event['data']);\n",
       "    }\n",
       "    function toolbar_mouse_event(event) {\n",
       "        return fig.toolbar_button_onmouseover(event['data']);\n",
       "    }\n",
       "\n",
       "    for(var toolbar_ind in mpl.toolbar_items){\n",
       "        var name = mpl.toolbar_items[toolbar_ind][0];\n",
       "        var tooltip = mpl.toolbar_items[toolbar_ind][1];\n",
       "        var image = mpl.toolbar_items[toolbar_ind][2];\n",
       "        var method_name = mpl.toolbar_items[toolbar_ind][3];\n",
       "\n",
       "        if (!name) { continue; };\n",
       "\n",
       "        var button = $('<button class=\"btn btn-default\" href=\"#\" title=\"' + name + '\"><i class=\"fa ' + image + ' fa-lg\"></i></button>');\n",
       "        button.click(method_name, toolbar_event);\n",
       "        button.mouseover(tooltip, toolbar_mouse_event);\n",
       "        nav_element.append(button);\n",
       "    }\n",
       "\n",
       "    // Add the status bar.\n",
       "    var status_bar = $('<span class=\"mpl-message\" style=\"text-align:right; float: right;\"/>');\n",
       "    nav_element.append(status_bar);\n",
       "    this.message = status_bar[0];\n",
       "\n",
       "    // Add the close button to the window.\n",
       "    var buttongrp = $('<div class=\"btn-group inline pull-right\"></div>');\n",
       "    var button = $('<button class=\"btn btn-mini btn-primary\" href=\"#\" title=\"Stop Interaction\"><i class=\"fa fa-power-off icon-remove icon-large\"></i></button>');\n",
       "    button.click(function (evt) { fig.handle_close(fig, {}); } );\n",
       "    button.mouseover('Stop Interaction', toolbar_mouse_event);\n",
       "    buttongrp.append(button);\n",
       "    var titlebar = this.root.find($('.ui-dialog-titlebar'));\n",
       "    titlebar.prepend(buttongrp);\n",
       "}\n",
       "\n",
       "mpl.figure.prototype._root_extra_style = function(el){\n",
       "    var fig = this\n",
       "    el.on(\"remove\", function(){\n",
       "\tfig.close_ws(fig, {});\n",
       "    });\n",
       "}\n",
       "\n",
       "mpl.figure.prototype._canvas_extra_style = function(el){\n",
       "    // this is important to make the div 'focusable\n",
       "    el.attr('tabindex', 0)\n",
       "    // reach out to IPython and tell the keyboard manager to turn it's self\n",
       "    // off when our div gets focus\n",
       "\n",
       "    // location in version 3\n",
       "    if (IPython.notebook.keyboard_manager) {\n",
       "        IPython.notebook.keyboard_manager.register_events(el);\n",
       "    }\n",
       "    else {\n",
       "        // location in version 2\n",
       "        IPython.keyboard_manager.register_events(el);\n",
       "    }\n",
       "\n",
       "}\n",
       "\n",
       "mpl.figure.prototype._key_event_extra = function(event, name) {\n",
       "    var manager = IPython.notebook.keyboard_manager;\n",
       "    if (!manager)\n",
       "        manager = IPython.keyboard_manager;\n",
       "\n",
       "    // Check for shift+enter\n",
       "    if (event.shiftKey && event.which == 13) {\n",
       "        this.canvas_div.blur();\n",
       "        // select the cell after this one\n",
       "        var index = IPython.notebook.find_cell_index(this.cell_info[0]);\n",
       "        IPython.notebook.select(index + 1);\n",
       "    }\n",
       "}\n",
       "\n",
       "mpl.figure.prototype.handle_save = function(fig, msg) {\n",
       "    fig.ondownload(fig, null);\n",
       "}\n",
       "\n",
       "\n",
       "mpl.find_output_cell = function(html_output) {\n",
       "    // Return the cell and output element which can be found *uniquely* in the notebook.\n",
       "    // Note - this is a bit hacky, but it is done because the \"notebook_saving.Notebook\"\n",
       "    // IPython event is triggered only after the cells have been serialised, which for\n",
       "    // our purposes (turning an active figure into a static one), is too late.\n",
       "    var cells = IPython.notebook.get_cells();\n",
       "    var ncells = cells.length;\n",
       "    for (var i=0; i<ncells; i++) {\n",
       "        var cell = cells[i];\n",
       "        if (cell.cell_type === 'code'){\n",
       "            for (var j=0; j<cell.output_area.outputs.length; j++) {\n",
       "                var data = cell.output_area.outputs[j];\n",
       "                if (data.data) {\n",
       "                    // IPython >= 3 moved mimebundle to data attribute of output\n",
       "                    data = data.data;\n",
       "                }\n",
       "                if (data['text/html'] == html_output) {\n",
       "                    return [cell, data, j];\n",
       "                }\n",
       "            }\n",
       "        }\n",
       "    }\n",
       "}\n",
       "\n",
       "// Register the function which deals with the matplotlib target/channel.\n",
       "// The kernel may be null if the page has been refreshed.\n",
       "if (IPython.notebook.kernel != null) {\n",
       "    IPython.notebook.kernel.comm_manager.register_target('matplotlib', mpl.mpl_figure_comm);\n",
       "}\n"
      ],
      "text/plain": [
       "<IPython.core.display.Javascript object>"
      ]
     },
     "metadata": {},
     "output_type": "display_data"
    },
    {
     "data": {
      "text/html": [
       "<img src=\"data:image/png;base64,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\" width=\"720\">"
      ],
      "text/plain": [
       "<IPython.core.display.HTML object>"
      ]
     },
     "metadata": {},
     "output_type": "display_data"
    },
    {
     "data": {
      "image/png": "[encoded data removed]",
      "text/plain": [
       "<Figure size 720x360 with 1 Axes>"
      ]
     },
     "metadata": {},
     "output_type": "display_data"
    }
   ],
   "source": [
    "#%matplotlib inline\n",
    "%matplotlib notebook\n",
    "%matplotlib notebook\n",
    "plt.rcParams[\"figure.figsize\"] = (10,5) \n",
    "\n",
    "btn = widgets.Button(description='Check')\n",
    "display(btn)\n",
    "\n",
    "def btn_eventhandler(obj):\n",
    "    global kD,Sc,count\n",
    "    r = wr.value; Q = wQ.value\n",
    "    u = np.logspace(-4, 0.25, 41)\n",
    "    fig = plt.figure(facecolor='w'); ax = fig.add_subplot(1,1,1)\n",
    "    plt.title('Pump test: Oude Korendijk, Curve Matching: Theis ', fontsize = 14)\n",
    "    plt.plot(1/u, exp1(u), label='Theis')\n",
    "    shifty = shifty_slider.value; shiftx = shiftx_slider.value\n",
    "    if r <= 50:\n",
    "        plt.plot(10**(shiftx/10)*df['t1']/24/60/r/r,shifty/10*df['s1'],'.C1')\n",
    "    else:\n",
    "        plt.plot(10**(shiftx/10)*df['t2']/24/60/r/r,shifty/10*df['s2'],'.C1')\n",
    "        \n",
    "    plt.grid()\n",
    "    ax.set_xscale('log'); ax.set_yscale('log'); \n",
    "    plt.xlabel('$1/u$ and $B \\, t/r^2$', fontsize=12)\n",
    "    plt.ylabel('W(u) and $A \\cdot s$',fontsize=12)\n",
    "    kD = shifty_slider.value/10 * Q /4 /np.pi   # print('T = {:.0f} m2/d'.format(kD))\n",
    "    Sc = 4 * kD / 10**(shiftx_slider.value/10)         #print('S = {:.2e} [-]'.format(S))\n",
    "    ax.text (380,0.23,'$T =%.1f m^2/d$' % (kD, ),fontsize=12)\n",
    "    ax.text (380,0.15,'$S =%.2e $' % (Sc, ),fontsize=12)\n",
    "    plt.show(block=True)\n",
    "        \n",
    "btn.on_click(btn_eventhandler)    "
   ]
  },
  {
   "cell_type": "markdown",
   "metadata": {
    "hideCode": true,
    "hidePrompt": true
   },
   "source": [
    "*Note: If you re-run this cell, you have to re-run the previous one also.*"
   ]
  },
  {
   "cell_type": "markdown",
   "metadata": {
    "hideCode": true,
    "hidePrompt": true,
    "hide_input": false
   },
   "source": [
    "#### Fit Measures\n",
    "The residual is a quantitative measure for the goodness of the fit. It is defined by: "
   ]
  },
  {
   "cell_type": "markdown",
   "metadata": {
    "hideCode": true,
    "hidePrompt": true,
    "hide_input": false
   },
   "source": [
    "$$ 2-norm = \\sqrt{\\sum{(s_{obs}-s_{calc})^2}} $$"
   ]
  },
  {
   "cell_type": "markdown",
   "metadata": {
    "hideCode": true,
    "hidePrompt": true
   },
   "source": [
    "where the sum adds up the quadratic deviations over all values of the time series. $s_{obs}$ is the observed drawdown, while $s_{calc}$ denotes the drawdown calculated by the Theis formula for the optimized $T$ and $S$ values. The rssidual is thus a good measure to compare results for the same drawdown series. However, if depends on the number of observations and thus is not feasable for comparison of results from different obtained from different observation points or different pumping tests. Alternatively one may take the standard deviation, which is defined as the squareroot of the mean quadratic deviation:"
   ]
  },
  {
   "cell_type": "markdown",
   "metadata": {
    "hideCode": true,
    "hidePrompt": true,
    "hide_input": true
   },
   "source": [
    "$$ stdev = \\sqrt{mean((s_{obs}-s_{calc})^2)} $$"
   ]
  },
  {
   "cell_type": "markdown",
   "metadata": {
    "hideCode": true,
    "hidePrompt": true
   },
   "source": [
    "The standard deviation makes results from different observation points and pumping tests, at the same or different boreholes, comparable. Click the following buttons to get the measures of the fit. "
   ]
  },
  {
   "cell_type": "code",
   "execution_count": 33,
   "metadata": {
    "hideCode": true,
    "hidePrompt": true,
    "hide_input": true,
    "scrolled": false
   },
   "outputs": [
    {
     "data": {
      "application/vnd.jupyter.widget-view+json": {
       "model_id": "91e6b55f36ab4fd1aff5606b0495e042",
       "version_major": 2,
       "version_minor": 0
      },
      "text/plain": [
       "HBox(children=(Button(description='2-norm', style=ButtonStyle()), Button(description='Standard deviation', sty…"
      ]
     },
     "metadata": {},
     "output_type": "display_data"
    },
    {
     "data": {
      "text/plain": [
       "'2-norm = 5.908e-01 for r = 30, T = 363.7 and S = 2.31e-04'"
      ]
     },
     "metadata": {},
     "output_type": "display_data"
    },
    {
     "data": {
      "text/plain": [
       "'stdev = 1.013e-01 for r = 30, T = 363.7 and S = 2.31e-04'"
      ]
     },
     "metadata": {},
     "output_type": "display_data"
    },
    {
     "data": {
      "text/plain": [
       "'2-norm = 3.073e-01 for r = 30, T = 432.7 and S = 1.37e-04'"
      ]
     },
     "metadata": {},
     "output_type": "display_data"
    },
    {
     "data": {
      "text/plain": [
       "'stdev = 5.269e-02 for r = 30, T = 432.7 and S = 1.37e-04'"
      ]
     },
     "metadata": {},
     "output_type": "display_data"
    }
   ],
   "source": [
    "def rescalc():\n",
    "    global kD,Sc\n",
    "    D = kD/Sc; r = wr.value; Q = wQ.value\n",
    "    if r <= 50: \n",
    "        tfit = df['t1']/24/60; sfit = df['s1']\n",
    "        tfit = tfit[:-1]; sfit = sfit[:-1]  # one entry less in time series                  \n",
    "    else:\n",
    "        tfit = df['t2']/24/60; sfit = df['s2']\n",
    "\n",
    "    u = (((r*r)/4)/D)/pd.to_numeric(tfit)\n",
    "    s = Q*exp1(u)/4/np.pi/kD\n",
    "    dev = pd.to_numeric(sfit)-s; dev2 = dev*dev\n",
    "    norms = np.sqrt(sum(dev2)) \n",
    "    stde = np.sqrt(dev2.mean())\n",
    "    return [norms,stde]\n",
    "\n",
    "def on_wres_clicked(self):   \n",
    "    [norms,stde] = rescalc()\n",
    "    display ('2-norm = %.3e for r = %.0f, T = %.1f and S = %.2e' % (norms,r,kD,Sc))\n",
    "    \n",
    "def on_wstd_clicked(self): \n",
    "    [norms,stde] = rescalc()\n",
    "    display ('stdev = %.3e for r = %.0f, T = %.1f and S = %.2e'% (stde,r,kD,Sc));\n",
    "\n",
    "wres = widgets.Button(description='2-norm')        \n",
    "wres.on_click(on_wres_clicked) \n",
    "wstd = widgets.Button(description='Standard deviation')        \n",
    "wstd.on_click(on_wstd_clicked)\n",
    "widgets.HBox([wres,wstd])   "
   ]
  },
  {
   "cell_type": "markdown",
   "metadata": {
    "hideCode": true,
    "hidePrompt": true
   },
   "source": [
    "Note that the data from the 'Distance' input field above are used for the computation.\n",
    "\n",
    "**Task**: Perform graphical evaluation using either the multi- or single graph interfaces! Check the outcome using the fit measures! Do this for both drawdown curves! "
   ]
  },
  {
   "cell_type": "markdown",
   "metadata": {
    "hideCode": true,
    "hidePrompt": true
   },
   "source": [
    "## Parameter Estimation\n",
    "\n",
    "Parameter estimation on the computer is performed using optimization algorithms. The objective is to minimize the error, i.e. the 2-norm. Such optimization is usually referred to by the term 'least squares'. In the implementation here the Nelder-Mead method is used. This is an iteration, in which it is attempted to improve the current set of parameters. Thus, in order to start the method requires an initial guess for each parameter. \n",
    "\n",
    "Optimization algorithms like Nelder-Mead (1955) do not produce resaonable values in all cases: they may not converge. Then the user should make another attempt with a different set of initial values. Moreover, these algorithms converge to local minima only. I.e., if there are several local minima, the aimed global minimum may not be found. However, in pumping test evaluations this is mostly not a problem. \n",
    "\n",
    "The mathematical methods that are demonstrated here deliver a unique solution for a given aquifer type. For the confined aquifer the method is based on the analytical Theis solution given above. For the leaky aquifer the parameter estimation is implemented on the analytical solution of Hantush. 2-norm and standard deviation provide means to compare the fits and to make the decision if leakage is an important feature for the aquifer.     "
   ]
  },
  {
   "cell_type": "markdown",
   "metadata": {
    "hideCode": true,
    "hidePrompt": true
   },
   "source": [
    "### Confined Aquifer\n",
    "\n",
    "The following implementation is a mathematical procedure of obtaining the best match with the Theis solution that was shown before. Above the two parameters $A$ and $B$ were obtained by manual fitting. While the classical evaluation required printouts on double-logarithmical paper, in the notebook that is performed by moving the sliders. However finding the best parameter combination by trial and error is not unique, as people interpret the matching differently. This subjective component is eliminated if one lets the computer find the optimal combination of parameters that minimizes the difference between the type curve and the measurements."
   ]
  },
  {
   "cell_type": "code",
   "execution_count": 34,
   "metadata": {
    "hideCode": true,
    "hidePrompt": true,
    "hide_input": true,
    "scrolled": false
   },
   "outputs": [
    {
     "data": {
      "application/vnd.jupyter.widget-view+json": {
       "model_id": "d303fefa1ec6405eb501b21044a384b5",
       "version_major": 2,
       "version_minor": 0
      },
      "text/plain": [
       "BoundedFloatText(value=30.0, description='Distance:', max=90.0, min=30.0, step=60.0)"
      ]
     },
     "metadata": {},
     "output_type": "display_data"
    }
   ],
   "source": [
    "w2r = widgets.BoundedFloatText(value=30, min=30, max=90.0, step = 60.0, description='Distance:', disabled=False)\n",
    "w2r"
   ]
  },
  {
   "cell_type": "markdown",
   "metadata": {
    "hideCode": true,
    "hidePrompt": true,
    "hide_input": false
   },
   "source": [
    "Enter initial guesses for $T$ and $S$! The unit of transmissivity is derived from the length and time settings above. "
   ]
  },
  {
   "cell_type": "code",
   "execution_count": 35,
   "metadata": {
    "hideCode": true,
    "hidePrompt": true,
    "hide_input": true,
    "scrolled": false
   },
   "outputs": [
    {
     "data": {
      "application/vnd.jupyter.widget-view+json": {
       "model_id": "a4d7ad14768c455587a11dbd679e80ce",
       "version_major": 2,
       "version_minor": 0
      },
      "text/plain": [
       "HBox(children=(FloatText(value=500.0, description='T:'), FloatText(value=0.0001, description='S:')))"
      ]
     },
     "metadata": {},
     "output_type": "display_data"
    }
   ],
   "source": [
    "wT = widgets.FloatText(value=500, description='T:', min=1, disabled=False)\n",
    "wS = widgets.FloatText(value=1e-4, description='S:', min=1.e-10, disabled=False)\n",
    "widgets.HBox([wT, wS])"
   ]
  },
  {
   "cell_type": "markdown",
   "metadata": {
    "hideCode": true,
    "hidePrompt": true
   },
   "source": [
    "Do the parameter estimation by running the next cell."
   ]
  },
  {
   "cell_type": "code",
   "execution_count": 67,
   "metadata": {
    "hideCode": true,
    "hidePrompt": true,
    "hide_input": true
   },
   "outputs": [
    {
     "data": {
      "application/vnd.jupyter.widget-view+json": {
       "model_id": "b53d9bd21bf8444e9b8cbd608283a3d8",
       "version_major": 2,
       "version_minor": 0
      },
      "text/plain": [
       "VBox(children=(Button(description='Evaluate Theis', style=ButtonStyle()),))"
      ]
     },
     "metadata": {},
     "output_type": "display_data"
    },
    {
     "name": "stdout",
     "output_type": "stream",
     "text": [
      "Oude Korendijk pumping test\n",
      "Distance to pumping well: 30.0\n",
      "Initial transmissivity: 500.0\n",
      "Initial storativity: 0.0001\n",
      "Optimization terminated successfully.\n",
      "         Current function value: 0.036407\n",
      "         Iterations: 71\n",
      "         Function evaluations: 137\n"
     ]
    },
    {
     "data": {
      "image/png": "[encoded data removed]",
      "text/plain": [
       "<Figure size 720x360 with 1 Axes>"
      ]
     },
     "metadata": {},
     "output_type": "display_data"
    }
   ],
   "source": [
    "from scipy.optimize import fmin\n",
    "Q = wQ.value; r = 30\n",
    "tfit = df['t1'].dropna()/60/24; sfit = df['s1'].dropna()\n",
    "\n",
    "def teval (t,r,T,S,Q):\n",
    "    D = T/S                             # calculate Theis solution\n",
    "    u = (((r*r)/4)/D)/t\n",
    "    s = Q*exp1(u)/4/np.pi/T\n",
    "    return s                            # drawdown \n",
    "    \n",
    "def toptim (x):  \n",
    "    global r,tfit,sfit\n",
    "    T = x[0]; S = x[1] \n",
    "    s = teval (tfit,r,T,S,Q)\n",
    "    res = (s-sfit)\n",
    "    return sum(res*res)                 # function to be minimized\n",
    "\n",
    "def on_weval1_clicked(self):            # convert input data\n",
    "    global r,df,tfit,sfit\n",
    "    print ('Oude Korendijk pumping test') \n",
    "    r = w2r.value; print ('Distance to pumping well: '+str(r))\n",
    "    T = wT.value; print ('Initial transmissivity: '+str(T)) \n",
    "    S = wS.value; print ('Initial storativity: '+str(S))\n",
    "    if r <= 50:   \n",
    "        tfit = df['t1'].dropna()/60/24; sfit = df['s1'].dropna()\n",
    "    else:\n",
    "        tfit = df['t2'].dropna()/60/24; sfit = df['s2'].dropna()                             \n",
    "\n",
    "    # parameter estimation---------------------------------------------------------\n",
    "    [Tfit,Sfit] = fmin (toptim, [T,S])\n",
    "\n",
    "    # post-processing\n",
    "    D = T/S;               #print ('D='+str(D))\n",
    "    s = teval (tfit,r,Tfit,Sfit,Q)\n",
    "    dev = sfit-s                  \n",
    "    dev2 = dev*dev; norms = np.sqrt(sum(dev2)) \n",
    "    stde = np.sqrt(dev2.mean())\n",
    "    sr=2*dev.std()                            # to compare with hytool !\n",
    "    t = np.logspace(np.log10(tfit.min()),np.log10(tfit.max()),100)\n",
    "    fig = plt.figure(facecolor='w',figsize=(10,5)); ax = fig.add_subplot()\n",
    "    ax.set_xscale('log')\n",
    "    plt.plot(tfit,sfit,'o',label = 'measured') \n",
    "    plt.plot(t,teval(t,r,Tfit,Sfit,Q),'-', label = 'calculated', lw = 2)\n",
    "    plt.xlabel('time [d]',fontsize=12); plt.ylabel('drawdown [m]',fontsize=12)\n",
    "    plt.title ('Pump test: Oude Korendijk, Parameter estimation: Theis',fontsize=14)\n",
    "    plt.grid ()\n",
    "    plt.legend (loc='upper left',fontsize=12)\n",
    "    ax.text (0.04,0.5*sfit.max(),'$T =%.1f m^2/d $' % (Tfit, ),fontsize=12)\n",
    "    ax.text (0.04,0.4*sfit.max(),'$S =%.2e $' % (Sfit, ),fontsize=12)\n",
    "    ax.text (0.04,0.3*sfit.max(),'2-norm = $%.2e $' % (norms, ),fontsize=12)\n",
    "    ax.text (0.04,0.2*sfit.max(),'$stdev = %.2e $' % (stde, ),fontsize=12)\n",
    "    ax.text (0.04,0.1*sfit.max(),'$2stdev =%.2e $' % (sr, ),fontsize=12);\n",
    "\n",
    "weval1 = widgets.Button(description='Evaluate Theis')        \n",
    "weval1.on_click(on_weval1_clicked)   \n",
    "widgets.VBox([weval1]) "
   ]
  },
  {
   "cell_type": "markdown",
   "metadata": {
    "hideCode": true,
    "hidePrompt": true
   },
   "source": [
    "Explore the sensitivity of the results when changing initial values. Check the residual and number of iterations for comparison. Do this for both observation data-sets."
   ]
  },
  {
   "cell_type": "markdown",
   "metadata": {
    "hideCode": true,
    "hidePrompt": true
   },
   "source": [
    "### Leaky Aquifer"
   ]
  },
  {
   "cell_type": "markdown",
   "metadata": {
    "hideCode": true,
    "hidePrompt": true
   },
   "source": [
    "For leaky aquifers the drawdown is given by the Hantush well function $W$, which has two arguments:"
   ]
  },
  {
   "cell_type": "markdown",
   "metadata": {
    "hideCode": true,
    "hidePrompt": true
   },
   "source": [
    "$$ s(r, t) = \\frac Q {4 \\pi T} W(u,r/\\lambda),\\,\\,\\,\\, u = \\frac {r^2 S} {4 T t}$$"
   ]
  },
  {
   "cell_type": "markdown",
   "metadata": {
    "hideCode": true,
    "hidePrompt": true
   },
   "source": [
    "with $\\lambda=\\sqrt{T\\cdot c}$, where $c$ denotes the resistance of the over-lying semipermeable layer. The physcial unit of resistance is time. The equation was derived assuming a constant source along the radial axis (Hantush & Jacob 1955). Using the more realistic boundary condition at the top of a 2D cross-section Hantush (1967) showed that the formula is a valid approximation if $D/\\lambda \\leq 0.1$.  "
   ]
  },
  {
   "cell_type": "code",
   "execution_count": 37,
   "metadata": {
    "hideCode": true,
    "hidePrompt": true,
    "hide_input": true,
    "scrolled": false
   },
   "outputs": [
    {
     "data": {
      "application/vnd.jupyter.widget-view+json": {
       "model_id": "c9a5bb3af3904f848b80c1a80a96ec27",
       "version_major": 2,
       "version_minor": 0
      },
      "text/plain": [
       "BoundedFloatText(value=30.0, description='Distance:', max=90.0, min=30.0, step=60.0)"
      ]
     },
     "metadata": {},
     "output_type": "display_data"
    }
   ],
   "source": [
    "w3r = widgets.BoundedFloatText(value=30, min=30, max=90.0, step = 60.0, description='Distance:', disabled=False)\n",
    "w3r"
   ]
  },
  {
   "cell_type": "markdown",
   "metadata": {
    "hideCode": true,
    "hidePrompt": true,
    "hide_input": true
   },
   "source": [
    "Enter initial guesses for $T$, $S$ and $c$! The physical units of transmissivity and resistance derived from the length and time settings above. "
   ]
  },
  {
   "cell_type": "code",
   "execution_count": 38,
   "metadata": {
    "hideCode": true,
    "hidePrompt": true,
    "hide_input": true,
    "scrolled": false
   },
   "outputs": [
    {
     "data": {
      "application/vnd.jupyter.widget-view+json": {
       "model_id": "80c71aae3c61417d945e996e49b02031",
       "version_major": 2,
       "version_minor": 0
      },
      "text/plain": [
       "HBox(children=(FloatText(value=500.0, description='T:'), FloatText(value=0.0001, description='S:'), FloatText(…"
      ]
     },
     "metadata": {},
     "output_type": "display_data"
    }
   ],
   "source": [
    "w2T = widgets.FloatText(value=500, description='T:', min=1.e-10, disabled=False)\n",
    "w2S = widgets.FloatText(value=1e-4, description='S:', min=1.e-10, disabled=False)\n",
    "wc = widgets.FloatText(value=1e4, description='c:', min=1.e-10, disabled=False)\n",
    "widgets.HBox([w2T, w2S, wc])"
   ]
  },
  {
   "cell_type": "code",
   "execution_count": 68,
   "metadata": {
    "hideCode": true,
    "hidePrompt": true,
    "hide_input": false,
    "scrolled": false
   },
   "outputs": [
    {
     "data": {
      "application/vnd.jupyter.widget-view+json": {
       "model_id": "1791046610aa4b5eb28edf028dea630d",
       "version_major": 2,
       "version_minor": 0
      },
      "text/plain": [
       "VBox(children=(Button(description='Evaluate Hantush', style=ButtonStyle()),))"
      ]
     },
     "metadata": {},
     "output_type": "display_data"
    },
    {
     "name": "stdout",
     "output_type": "stream",
     "text": [
      "Oude Korendijk pumping test\n",
      "Distance to pumping well: 30.0\n",
      "Initial transmissivity: 500.0\n",
      "Initial storativity: 0.0001\n",
      "Initial resistance: 10000.0\n",
      "Optimization terminated successfully.\n",
      "         Current function value: 0.010328\n",
      "         Iterations: 197\n",
      "         Function evaluations: 363\n"
     ]
    },
    {
     "data": {
      "image/png": "[encoded data removed]",
      "text/plain": [
       "<Figure size 720x360 with 1 Axes>"
      ]
     },
     "metadata": {},
     "output_type": "display_data"
    }
   ],
   "source": [
    "from scipy.special import exp1\n",
    "from scipy.optimize import fmin\n",
    "from scipy.special import kn as BesselK\n",
    "\n",
    "Q = wQ.value; r = 30\n",
    "tfit = df['t1'].dropna()/60/24; sfit = df['s1'].dropna()\n",
    "\n",
    "def heval (t,r,T,S,c,Q):                 # calculate Hantush solution\n",
    "    T0  = np.where(T>1.e-10,T,1.e-10) \n",
    "    S0  = np.where(S>1.e-10,S,1.e-10)\n",
    "    c0  = np.where(c>1.e-10,c,1.e-10)\n",
    "    lamda = np.sqrt(T0*c0)                \n",
    "    rho = r/lamda\n",
    "    tau = np.log(2*lamda/r*t/(c0*S0))\n",
    "    s = Q/(4*np.pi*T0)*func_F(rho,tau)\n",
    "    return s                             # drawdown \n",
    "\n",
    "def ExpInt(n,u):\n",
    "    # Fast approximation for Wu according to equation 7a and 7b from Srivastava(1998)\n",
    "    gamma = 0.5772 # Euler-Macheroni constant\n",
    "    u0  = np.where(u<1.0,u,1) \n",
    "    Wu0 = np.log(np.exp(-gamma)/u0) + 0.9653*u - 0.1690*u0**2\n",
    "    u1 = np.where(u>=1.0,u,1) \n",
    "    Wu1 = 1/(u1*np.exp(u1))*(u1+0.3575)/(u1+1.280)\n",
    "    Wu = np.where(u<1.0,Wu0,Wu1)\n",
    "    return Wu\n",
    "\n",
    "def func_F(rho,tau):\n",
    "    e = exp1(rho)\n",
    "    e0 = np.where(e>0,e,1.e-10)\n",
    "    w = (e0-BesselK(0,rho))/(e0-exp1(rho/2))\n",
    "    F0 = w*exp1(rho/2*np.exp(-tau))-(w-1)*exp1(rho*np.cosh(tau))  \n",
    "    F1 = 2*BesselK(0,rho) - w*exp1(rho/2*np.exp(tau)) + (w-1)*exp1(rho*np.cosh(tau)) \n",
    "    #w = (ExpInt(1,rho)-BesselK(0,rho))/(ExpInt(1,rho)-ExpInt(1,rho/2))\n",
    "    #F0 = w*ExpInt(1,rho/2*np.exp(-tau))-(w-1)*ExpInt(1,rho*np.cosh(tau))\n",
    "    #F1 = 2*BesselK(0,rho) - w*ExpInt(1,rho/2*np.exp(tau)) + (w-1)*ExpInt(1,rho*np.cosh(tau))    \n",
    "    return (tau<=0)*F0+(tau>0)*F1   \n",
    "\n",
    "def hoptim (x):     \n",
    "    global r,tfit,sfit\n",
    "    T = x[0]; S = x[1]; c = x[2] \n",
    "    s = heval (tfit,r,T,S,c,Q)\n",
    "    res = (s-sfit)\n",
    "    return sum(res*res)                 # function to be minimized\n",
    "\n",
    "def on_weval2_clicked(self):   \n",
    "    global r,df,tfit,sfit    \n",
    "    print ('Oude Korendijk pumping test') \n",
    "    r = w3r.value; print ('Distance to pumping well: '+str(r))\n",
    "    T = w2T.value; print ('Initial transmissivity: '+str(T)) \n",
    "    S = w2S.value; print ('Initial storativity: '+str(S))\n",
    "    c = wc.value; print ('Initial resistance: '+str(c))\n",
    "\n",
    "    if r <= 50:   \n",
    "        tfit = df['t1'].dropna()/60/24; sfit = df['s1'].dropna()\n",
    "    else:\n",
    "        tfit = df['t2'].dropna()/60/24; sfit =df['s2'].dropna()  \n",
    "        \n",
    "    # parameter estimation---------------------------------------------------------\n",
    "    [Tfit,Sfit,cfit] = fmin(hoptim, [T,S,c])\n",
    "\n",
    "    # post-processing--------------------------------------------------------------   \n",
    "    D = T/S;  #print ('D='+str(D))\n",
    "    s = heval (tfit,r,Tfit,Sfit,cfit,Q)\n",
    "    dev = sfit-s \n",
    "    dev2 = dev*dev; norms = np.sqrt(sum(dev2))  \n",
    "    stde = np.sqrt(dev2.mean())\n",
    "    sr=2*dev.std()                            # to compare with hytool !\n",
    "    t = np.logspace(np.log10(tfit.min()),np.log10(tfit.max()),100)\n",
    "    fig = plt.figure(facecolor='w',figsize=(10,5)); ax = fig.add_subplot()\n",
    "    ax.set_xscale('log')\n",
    "    plt.plot(tfit,sfit,'o',label = 'measured') \n",
    "    plt.plot(t,heval(t,r,Tfit,Sfit,cfit,Q),'-', label = 'calculated', lw = 2)\n",
    "    plt.xlabel('time [d]'); plt.ylabel('drawdown [m]')\n",
    "    plt.title ('Pump test: Oude Korendijk, Parameter estimation: Hantush',fontsize=14)\n",
    "    plt.grid ()\n",
    "    plt.legend (loc='upper left',fontsize=12)\n",
    "    ax.text (0.04,0.5*sfit.max(),'$T =%.1f m^2/d $' % (Tfit, ),fontsize=12)\n",
    "    ax.text (0.04,0.4*sfit.max(),'$S =%.2e $' % (Sfit, ),fontsize=12)\n",
    "    ax.text (0.04,0.3*sfit.max(),'$c =%.0f d$' % (cfit, ),fontsize=12)\n",
    "    ax.text (0.04,0.2*sfit.max(),'$2-norm = %.2e $' % (norms, ),fontsize=12)\n",
    "    ax.text (0.04,0.1*sfit.max(),'$stdev = %.2e $' % (stde, ),fontsize=12)\n",
    "    ax.text (0.04,0,'$2stdev =%.2e $' % (sr, ),fontsize=12);\n",
    "\n",
    "weval2 = widgets.Button(description='Evaluate Hantush')        \n",
    "weval2.on_click(on_weval2_clicked)   \n",
    "widgets.VBox([weval2])"
   ]
  },
  {
   "cell_type": "markdown",
   "metadata": {
    "hideCode": true,
    "hidePrompt": true,
    "hide_input": true
   },
   "source": [
    "The test can be interpreted from the Theis or the Hantush point of view, i.e. without or with leakage from a layer with fixed head. Effects other than leakage may be relevant in a pumping test, like partial penetration of the screen in the aquifer, storage inside the well and delayed yield and, notably, any effects caused by non-linearity, such as non-constant aquifer thickness under the influence of the drawdown in water table aquifers. All such effects may play their role under various circumstances, but may initially be ignored, to be included only when the data show that it is necessary.\n",
    "\n",
    "**Task**: Perform parameter estimation based on Theis and Hantush methods! For both drawdown curves evaluate the outcomes using the fit measures and compare wiyth the results, obtained by the previously introduced methods! Is the aquifer confined or leaky? What values of $T$ and $S$, and $c$, if the aquifer is leaky, would you recommend in a report?\n",
    "\n",
    "**Task**: Based on your best estimates and depending on the aquifer thicknes, compute the hydraulic conductivity! Compare the outcome with the results from the Thiem evaluation for the unconfined aquifer!  "
   ]
  },
  {
   "cell_type": "markdown",
   "metadata": {
    "hideCode": true,
    "hidePrompt": true
   },
   "source": [
    "## Conclusion\n",
    "  \n",
    "For this notebook the pumping test performed at Oude Korendijk in the Netherlands was selected to demonstrate different basic evaluation methods. Some methods require few measured and observed data, others more. The evaluation methods based on the steady state or steady shape drawdown require few data only. More information from the aquifer is utilized, if the transient drawdown is taken into account. The introduced graphical methods include a subjective component, as people may interpret curve matchimg differently. Parameter estimation methods deliver a unique solution, which is locally optimal. Results from graphical methods can be used as initial guesses for the optimization. In that way the combination of graphical and mathematical methods ensures that the found solution delivers the best result for the characterization of the aquifer.         \n",
    "\n",
    "The input time series data are hard-wired in this notebook. In order to use the methods as implemented here in Jupyter for other pumping tests programmers may modify the data input. Python programmers may take exerpts from the notebook and use them in a programming environment. A notebook in which in user is enabled to enter data from other pumping tests can be found on the site https://github.com/eholzbe/PumpTest-evaluation.         "
   ]
  },
  {
   "cell_type": "markdown",
   "metadata": {
    "hideCode": true,
    "hidePrompt": true
   },
   "source": [
    "## Bibliography\n",
    "\n",
    "* Cooper H.H., Jacob C.E., A generalized graphical method for evaluating formation constants and summarizing well‐field history, Vol. 27(4), 526-534, 1946\n",
    "* de Glee G.J., Over grondwaterstromingen bij wateronttrekking door middel van putten, J. Waltman, Delft,  1930 (in Dutch)\n",
    "* Hantush M.S., Analysis of data from pumping tests in leaky aquifers, EOS, Vol. 37(6), 702-714, 1956\n",
    "* Hantush M.S., Flow of groundwater in relatively thick leaky aquifers, Water Res. Res., Vol. 3(2), 583-590, 1967\n",
    "* Hantush M.S., Jacob C.E., Non-steady radial flow in an infinite leaky aquifer, Trans. Am. Geophys. Union, Vol. 36, 95-100, 1955 \n",
    "* Kooper J., Beweging van het water in den bodem bij onttrekking door bronnen, De Ingenieur, Vol. 29(38), 697–706 and 29(39), 710–716, 1914 (in Dutch)\n",
    "* Krusemann G.P., de Ridder N.A., Untersuchung und Anwendung von Pumpversuchen, Verlagsges. R. Müller, Köln, 1973 (in German)\n",
    "* Kruseman G.P., de Ridder N.A., Interpretation et Discussion des Pompages d’Essai (translation from 2. ed. of 1973), Wageningen, 1974 (in French)\n",
    "* Krusemann G.P., de Ridder N.A., Analysis and evaluation of pumping test data, 2.Edition, Intern. Inst. for Land Reclamation and Improvement (ILRI), Publication 47, Wageningen, 1994, https://www.hydrology.nl/images/docs/dutch/key/Kruseman_and_De_Ridder_2000.pdf\n",
    "* Nelder, J.A., Mead R., A simplex method for function minimization, Computer Journal, Vol. 7(4), 308–313, 1965\n",
    "* Olsthoorn T., The Korendijk pumping test, https://notebook.community/Olsthoorn/TransientGroundwaterFlow/excercises_notebooks/Korendijk-ptest-theis, 2019\n",
    "* Thiem G., Hydrologische Methoden, J.M.Gebhardt, Leipzig, 1906 (in German)\n",
    "* Theis C.V., The relation between the lowering of the piezometric surface and the rate and duration of discharge of a well using ground-water storage, Transactions of the AGU, Vol. 16(2), 519-524, 1935\n",
    "* White R.W., Clebsch A., C.V. Theis - and a review of his life and work, in: Selected Contributions to Ground-Water Hydrology, US Geol. Survey Water-Supply Paper 2415, 1994, http://ponce.sdsu.edu/theis_biography.html \n",
    "* Wit K.E., De hydrologische bodemconstanten in de polder 'De Oude Korendijk' berekend uit pompproeven en laboratoriummetingen in ongeroerde monsters (The hydraulic characteristics of the Oude Korendijk polder, calculated from pumping test data and laboratory measurements of core samples), ICW Notas 190, 24p, 1963 (in Dutch)"
   ]
  },
  {
   "cell_type": "code",
   "execution_count": null,
   "metadata": {
    "hideCode": true,
    "hidePrompt": true
   },
   "outputs": [],
   "source": []
  }
 ],
 "metadata": {
  "hide_code_all_hidden": true,
  "hide_input": false,
  "kernelspec": {
   "display_name": "Python 3",
   "language": "python",
   "name": "python3"
  },
  "language_info": {
   "codemirror_mode": {
    "name": "ipython",
    "version": 3
   },
   "file_extension": ".py",
   "mimetype": "text/x-python",
   "name": "python",
   "nbconvert_exporter": "python",
   "pygments_lexer": "ipython3",
   "version": "3.7.6"
  },
  "toc": {
   "base_numbering": 1,
   "nav_menu": {},
   "number_sections": true,
   "sideBar": true,
   "skip_h1_title": true,
   "title_cell": "Table of Contents",
   "title_sidebar": "Contents",
   "toc_cell": true,
   "toc_position": {},
   "toc_section_display": true,
   "toc_window_display": true
  },
  "varInspector": {
   "cols": {
    "lenName": 16,
    "lenType": 16,
    "lenVar": 40
   },
   "kernels_config": {
    "python": {
     "delete_cmd_postfix": "",
     "delete_cmd_prefix": "del ",
     "library": "var_list.py",
     "varRefreshCmd": "print(var_dic_list())"
    },
    "r": {
     "delete_cmd_postfix": ") ",
     "delete_cmd_prefix": "rm(",
     "library": "var_list.r",
     "varRefreshCmd": "cat(var_dic_list()) "
    }
   },
   "position": {
    "height": "768.85px",
    "left": "838px",
    "right": "20px",
    "top": "154px",
    "width": "469px"
   },
   "types_to_exclude": [
    "module",
    "function",
    "builtin_function_or_method",
    "instance",
    "_Feature"
   ],
   "window_display": false
  }
 },
 "nbformat": 4,
 "nbformat_minor": 4
}
