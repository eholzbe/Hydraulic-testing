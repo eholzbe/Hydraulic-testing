{
 "cells": [
  {
   "cell_type": "markdown",
   "metadata": {
    "hide_input": false
   },
   "source": [
    "\n",
    "<font size = 6px, style=\"color:blue\">**Hydraulic Testing:  Pumping Test Evaluation**</font>\n",
    "\n",
    "\n",
    "Prof. habil. Dr.-Ing. Dipl.-Math. Ekkehard Holzbecher\n",
    "\n",
    "*Demo Oude Korendijk \n",
    "(partially adopted and modified from Olsthoorn)* \n",
    "https://notebook.community/Olsthoorn/TransientGroundwaterFlow/excercises_notebooks/Korendijk-ptest-theis\n"
   ]
  },
  {
   "cell_type": "markdown",
   "metadata": {
    "toc": true
   },
   "source": [
    "<h1>Table of Contents<span class=\"tocSkip\"></span></h1>\n",
    "<div class=\"toc\"><ul class=\"toc-item\"><li><span><a href=\"#Introduction\" data-toc-modified-id=\"Introduction-1\"><span class=\"toc-item-num\">1&nbsp;&nbsp;</span>Introduction</a></span></li><li><span><a href=\"#The-Oude-Korendijk-Pumping-Test\" data-toc-modified-id=\"The-Oude-Korendijk-Pumping-Test-2\"><span class=\"toc-item-num\">2&nbsp;&nbsp;</span>The Oude Korendijk Pumping Test</a></span></li><li><span><a href=\"#Interpretation-using-Data-for-Steady-State-Drawdown\" data-toc-modified-id=\"Interpretation-using-Data-for-Steady-State-Drawdown-3\"><span class=\"toc-item-num\">3&nbsp;&nbsp;</span>Interpretation using Data for Steady State Drawdown</a></span><ul class=\"toc-item\"><li><span><a href=\"#Confined-Aquifer\" data-toc-modified-id=\"Confined-Aquifer-3.1\"><span class=\"toc-item-num\">3.1&nbsp;&nbsp;</span>Confined Aquifer</a></span></li><li><span><a href=\"#Unconfined-Aquifer\" data-toc-modified-id=\"Unconfined-Aquifer-3.2\"><span class=\"toc-item-num\">3.2&nbsp;&nbsp;</span>Unconfined Aquifer</a></span></li><li><span><a href=\"#Leaky-Aquifer\" data-toc-modified-id=\"Leaky-Aquifer-3.3\"><span class=\"toc-item-num\">3.3&nbsp;&nbsp;</span>Leaky Aquifer</a></span></li></ul></li><li><span><a href=\"#Unsteady-Data-Input-and-Visualization\" data-toc-modified-id=\"Unsteady-Data-Input-and-Visualization-4\"><span class=\"toc-item-num\">4&nbsp;&nbsp;</span>Unsteady Data Input and Visualization</a></span></li><li><span><a href=\"#Basic-Interpretation-based-on-the-Theis-Solution\" data-toc-modified-id=\"Basic-Interpretation-based-on-the-Theis-Solution-5\"><span class=\"toc-item-num\">5&nbsp;&nbsp;</span>Basic Interpretation based on the Theis Solution</a></span></li><li><span><a href=\"#Classical-Interpretation-using-the-Match-on-Double-Log-Scales\" data-toc-modified-id=\"Classical-Interpretation-using-the-Match-on-Double-Log-Scales-6\"><span class=\"toc-item-num\">6&nbsp;&nbsp;</span>Classical Interpretation using the Match on Double Log Scales</a></span></li><li><span><a href=\"#Graphical-Interpretation-for-Transmissivity-and-Storativity\" data-toc-modified-id=\"Graphical-Interpretation-for-Transmissivity-and-Storativity-7\"><span class=\"toc-item-num\">7&nbsp;&nbsp;</span>Graphical Interpretation for Transmissivity and Storativity</a></span><ul class=\"toc-item\"><li><span><a href=\"#Multi-Graph\" data-toc-modified-id=\"Multi-Graph-7.1\"><span class=\"toc-item-num\">7.1&nbsp;&nbsp;</span>Multi-Graph</a></span></li><li><span><a href=\"#Single-Graph\" data-toc-modified-id=\"Single-Graph-7.2\"><span class=\"toc-item-num\">7.2&nbsp;&nbsp;</span>Single Graph</a></span></li></ul></li><li><span><a href=\"#Error-Measures\" data-toc-modified-id=\"Error-Measures-8\"><span class=\"toc-item-num\">8&nbsp;&nbsp;</span>Error Measures</a></span></li><li><span><a href=\"#Direct-Optimization-of-Transmissivity-and-Storativity\" data-toc-modified-id=\"Direct-Optimization-of-Transmissivity-and-Storativity-9\"><span class=\"toc-item-num\">9&nbsp;&nbsp;</span>Direct Optimization of Transmissivity and Storativity</a></span></li><li><span><a href=\"#Parameter-Estimation\" data-toc-modified-id=\"Parameter-Estimation-10\"><span class=\"toc-item-num\">10&nbsp;&nbsp;</span>Parameter Estimation</a></span><ul class=\"toc-item\"><li><span><a href=\"#Confined-Aquifer\" data-toc-modified-id=\"Confined-Aquifer-10.1\"><span class=\"toc-item-num\">10.1&nbsp;&nbsp;</span>Confined Aquifer</a></span></li><li><span><a href=\"#Leaky-Aquifer\" data-toc-modified-id=\"Leaky-Aquifer-10.2\"><span class=\"toc-item-num\">10.2&nbsp;&nbsp;</span>Leaky Aquifer</a></span></li></ul></li><li><span><a href=\"#Conclusion\" data-toc-modified-id=\"Conclusion-11\"><span class=\"toc-item-num\">11&nbsp;&nbsp;</span>Conclusion</a></span></li><li><span><a href=\"#Bibliography\" data-toc-modified-id=\"Bibliography-12\"><span class=\"toc-item-num\">12&nbsp;&nbsp;</span>Bibliography</a></span></li></ul></div>"
   ]
  },
  {
   "cell_type": "markdown",
   "metadata": {},
   "source": [
    "## Introduction\n",
    "\n",
    "In a pumping test the drawdown of the water table in a piezometer is recorded, as response to pumping from a nearby well. Pumping tests belong into the common toolbox of hydro-geologists, used to obtain basic parameters for aquifer characterization. It is common practice to determine transmissivity (T) and storativity (S) from fitting 1D-analytical solutions to the observed drawdown. The application of this classical evaluation method is related to various idealistic assumptions.\n",
    "\n",
    "The most important ones are listed in the sequel. The aquifer is homogeneous and isotropic, has a constant thickness and has infinite extend. The well is assumed to be ideal, i.e. it is sreened over the entire thickness of the aquifer. The well diameter is small. Pumping is performed at constant rate.\n",
    "\n",
    "In 1970 Kruseman & de Ridder published the probably most used and referenced textbook on pumping test evaluations. A translation in German came out already in 1993. The book was revised several times. The 1994 version is free available on the internet. The book covers evaluation methods for various types of aquifers and conditions on groundwater wells, including examples with data. In the book the most common method, introduced by Theis (1937) is outlined, using a pumping test, performed at a location, called the Oude Korendijk, in the Netherlands.  "
   ]
  },
  {
   "cell_type": "markdown",
   "metadata": {},
   "source": [
    "## The Oude Korendijk Pumping Test"
   ]
  },
  {
   "cell_type": "markdown",
   "metadata": {},
   "source": [
    "In a report Wit (1963) describes and evaluates several pumping tests, performed in the Oude Korendijk polder areas. The one most cited test is identified as H2 in the original paper, which was performed on July 10th 1962. The figure below gives an impression on the type of landscape in polder areas in the Netherlands.    "
   ]
  },
  {
   "cell_type": "markdown",
   "metadata": {},
   "source": [
    "<div><img src=\"OKfoto.png\" align=\"center\"/></div>"
   ]
  },
  {
   "cell_type": "markdown",
   "metadata": {},
   "source": [
    "The locality south of Rotterdam is depicted in the figure below (Wit 1963). In the south, at the bottom of the figure, the Rhine river can be identified. The area is criss-crossed by various trenches for drainage.  "
   ]
  },
  {
   "cell_type": "markdown",
   "metadata": {},
   "source": [
    "<div><img src=\"OK1.png\" width=\"480\" height=\"320\" align=\"center\"/></div>"
   ]
  },
  {
   "cell_type": "markdown",
   "metadata": {},
   "source": [
    "The Oude Korendijk pumping test is a test in a confined, leaky or unconfined setting, which should yield a value for the aquifers' transmissivity and its storage coefficient. The following figure depicts a cross sectional view of the geological situation at the site (Wit 1963). The figure text is in Dutch; here some translations: pompput = pumping well, zand = sand, veen = peat, grint = gravel, peilfilter = filter. "
   ]
  },
  {
   "cell_type": "markdown",
   "metadata": {
    "hide_input": true
   },
   "source": [
    "<div><img src=\"OK2.png\" width=\"720\" align=\"center\"/></div>"
   ]
  },
  {
   "cell_type": "markdown",
   "metadata": {},
   "source": [
    "The well was pumped with a constant rate of 768 m$^3$/d. There are four piezometers in the vicinity of the pumping well, which can be taken as observation points. The nearest is only 80 cm away from the well. The other three observation points are located in a distance of 30 m, 90 m and 215 m . The following figure shows the locations and final drawdown in the Oude Korendijk pumping test measured after almost 14 hours."
   ]
  },
  {
   "cell_type": "markdown",
   "metadata": {},
   "source": [
    "<div><img src=\"OK3.png\" width=\"720\" align=\"center\"/></div>"
   ]
  },
  {
   "cell_type": "markdown",
   "metadata": {},
   "source": [
    "Our focus will be on the two observation points at intermediate distances, i.e 30 and 90 m away from the pumping well. The one in direct vicinity may be influenced by local conditions around the well. These conditions may be disturbed due to the drilling and installation of the well and the so called skin effect. The most distant observation point may be influenced by boundary conditions. The polder in the Netherlands are surrounded by surface water bodies, the Rhine river and trenches filled by drainage water. The following figures show the drawdown measurements at the two intermediate observation points: observation 1 for the one in 30 m distance, observation 2 for the one in 90 m distance. "
   ]
  },
  {
   "cell_type": "markdown",
   "metadata": {},
   "source": [
    "## Interpretation using Data for Steady State Drawdown"
   ]
  },
  {
   "cell_type": "markdown",
   "metadata": {},
   "source": [
    "### Confined Aquifer\n",
    "The solution for the steady state drawdown $s$ in a distance $r$ from the pumping well after a long time of pumping was given by Thiem (1906)"
   ]
  },
  {
   "cell_type": "markdown",
   "metadata": {},
   "source": [
    "$$ s(r) = -\\frac {Q} {2 \\pi T} \\ln (r)+C $$"
   ]
  },
  {
   "cell_type": "markdown",
   "metadata": {},
   "source": [
    "The transmissivity $T$ is a property of the aquifer, characterizing its ability to conduct water. $Q$ denotes the pumping rate. $C$ is an integration constant that emerges due to the solution of a differential equation. If the final drawdown measures $s_1$ and $s_2$ are given at two observation points at different distances $r_1$ and $r_2$, the integration constant can be eliminated and a formula for the transmissivity results: "
   ]
  },
  {
   "cell_type": "markdown",
   "metadata": {
    "hide_input": false
   },
   "source": [
    "$$ T = \\frac {Q} {2 \\pi (s_1-s_2)} \\ln (r_2/r_1) $$"
   ]
  },
  {
   "cell_type": "markdown",
   "metadata": {},
   "source": [
    "The following cell shows the pumping rate for the Oude Korendijk pumping test in units m$^3$/d:"
   ]
  },
  {
   "cell_type": "code",
   "execution_count": 1,
   "metadata": {
    "hide_input": true,
    "scrolled": false
   },
   "outputs": [
    {
     "data": {
      "application/vnd.jupyter.widget-view+json": {
       "model_id": "e2c888aa33004afeaf94a4cc8f02a8e1",
       "version_major": 2,
       "version_minor": 0
      },
      "text/plain": [
       "BoundedFloatText(value=768.0, description='Pump rate:', disabled=True, max=1000.0, step=1.0)"
      ]
     },
     "metadata": {},
     "output_type": "display_data"
    }
   ],
   "source": [
    "%matplotlib inline\n",
    "from scipy.special import exp1\n",
    "import numpy as np\n",
    "import matplotlib.pyplot as plt\n",
    "import pandas as pd\n",
    "import ipywidgets as widgets\n",
    "\n",
    "wQ = widgets.BoundedFloatText(value=768, min=0, max=1000.0, step=1, description='Pump rate:', disabled=True)\n",
    "wQ"
   ]
  },
  {
   "cell_type": "markdown",
   "metadata": {},
   "source": [
    "In the Oude Korendijk pump test a steady state was not reached. However, the difference between the drawdown values in the two major observation wells remains almost constant. We call this a quasi-steady state, assuming that the difference will be the same, when a stationary situation is reached. For the evaluation using the Thiem formula we need the pumping rate, here in physical unit of cubic meter per day:  "
   ]
  },
  {
   "cell_type": "markdown",
   "metadata": {
    "hide_input": true
   },
   "source": [
    "Enter distances and final drawdowns in meter!"
   ]
  },
  {
   "cell_type": "code",
   "execution_count": 2,
   "metadata": {
    "hide_input": true,
    "scrolled": false
   },
   "outputs": [
    {
     "data": {
      "application/vnd.jupyter.widget-view+json": {
       "model_id": "0bee5f032c0b49f4a517bb5983892f97",
       "version_major": 2,
       "version_minor": 0
      },
      "text/plain": [
       "HBox(children=(BoundedFloatText(value=30.0, description='$r_1$:', max=215.0), BoundedFloatText(value=90.0, des…"
      ]
     },
     "metadata": {},
     "output_type": "display_data"
    }
   ],
   "source": [
    "wr1 = widgets.BoundedFloatText(value=30.0, min=0.0, max=215.0, description='$r_1$:', disabled=False)\n",
    "wr2 = widgets.BoundedFloatText(value=90.0, min=0.0, max=215.0, description='$r_2$:', disabled=False)\n",
    "ws1 = widgets.BoundedFloatText(value=1.088, min=0.0, max=3.0, description='$s_1$:', disabled=False)\n",
    "ws2 = widgets.BoundedFloatText(value=0.716, min=0.0, max=3.0, description='$s_2$:', disabled=False)\n",
    "widgets.HBox([wr1,wr2,ws1,ws2]) "
   ]
  },
  {
   "cell_type": "markdown",
   "metadata": {
    "hide_input": true
   },
   "source": [
    "Run the next cell to see the result for transmissivity."
   ]
  },
  {
   "cell_type": "code",
   "execution_count": 3,
   "metadata": {
    "hide_input": true
   },
   "outputs": [
    {
     "name": "stdout",
     "output_type": "stream",
     "text": [
      "T = 361 m²/d\n"
     ]
    }
   ],
   "source": [
    "Q = wQ.value         \n",
    "r1 = wr1.value; s1 = ws1.value; r2 =wr2.value; s2 = ws2.value  # distances and drawdown \n",
    "T1 = Q * np.log(r1/r2) / (2*np.pi*(s2-s1))\n",
    "print('T = {:.0f} m\\u00b2/d'.format(T1))"
   ]
  },
  {
   "cell_type": "markdown",
   "metadata": {},
   "source": [
    "The transmissivity is related to the conductivity $K$ of the porous medium in the aquifer by: $T=K \\cdot D$. \n",
    "\n",
    "For the computation of the conductivity the aquifer thickness $D$ of the aquifer has to be given. "
   ]
  },
  {
   "cell_type": "code",
   "execution_count": 4,
   "metadata": {
    "hide_input": true,
    "scrolled": true
   },
   "outputs": [
    {
     "data": {
      "application/vnd.jupyter.widget-view+json": {
       "model_id": "19bfcc543b044057a1f4cc4eb9091a94",
       "version_major": 2,
       "version_minor": 0
      },
      "text/plain": [
       "BoundedFloatText(value=7.0, description='Thickness:', max=15.0, step=1.0)"
      ]
     },
     "metadata": {},
     "output_type": "display_data"
    }
   ],
   "source": [
    "wD = widgets.BoundedFloatText(value=7, min=0, max=15.0, step=1, description='Thickness:', disabled=False)\n",
    "wD"
   ]
  },
  {
   "cell_type": "markdown",
   "metadata": {},
   "source": [
    " Obtain the result for the hydraulic conductivity of the porous medium by running the next cell: "
   ]
  },
  {
   "cell_type": "code",
   "execution_count": 5,
   "metadata": {
    "hide_input": true,
    "scrolled": true
   },
   "outputs": [
    {
     "name": "stdout",
     "output_type": "stream",
     "text": [
      "K = 52 m/d\n"
     ]
    }
   ],
   "source": [
    "print('K = {:.0f} m/d'.format(T1/wD.value))"
   ]
  },
  {
   "cell_type": "markdown",
   "metadata": {},
   "source": [
    "### Unconfined Aquifer \n",
    "The Thiem formula shown above holds for a confined aquifer. An analogous derivation derivation can be performed for an unconfined aquifer. The formula for the hydraulic head is:"
   ]
  },
  {
   "cell_type": "markdown",
   "metadata": {},
   "source": [
    "$$ h^2(r) = \\frac {Q} {\\pi K} \\ln (r)+C $$"
   ]
  },
  {
   "cell_type": "markdown",
   "metadata": {},
   "source": [
    "where $h$ denotes the piezometric head, measured from the aquifer base. From this one obtains: "
   ]
  },
  {
   "cell_type": "markdown",
   "metadata": {
    "hide_input": false
   },
   "source": [
    "$$ K = \\frac {Q} {\\pi (h_2^2-h_1^2)} \\ln (r_2/r_1) $$"
   ]
  },
  {
   "cell_type": "markdown",
   "metadata": {},
   "source": [
    "For the calculation the constant initial head is required. We enter it here: "
   ]
  },
  {
   "cell_type": "code",
   "execution_count": 6,
   "metadata": {
    "hide_input": true,
    "scrolled": false
   },
   "outputs": [
    {
     "data": {
      "application/vnd.jupyter.widget-view+json": {
       "model_id": "6eea75b935a24264bcd8833fa4fc1748",
       "version_major": 2,
       "version_minor": 0
      },
      "text/plain": [
       "BoundedFloatText(value=7.0, description='Initial head:', max=15.0, step=1.0)"
      ]
     },
     "metadata": {},
     "output_type": "display_data"
    }
   ],
   "source": [
    "wH = widgets.BoundedFloatText(value=7, min=0, max=15.0, step=1, description='Initial head:', disabled=False)\n",
    "wH"
   ]
  },
  {
   "cell_type": "markdown",
   "metadata": {},
   "source": [
    " and obtain the result by running the next cell: "
   ]
  },
  {
   "cell_type": "code",
   "execution_count": 7,
   "metadata": {
    "hide_input": true,
    "scrolled": false
   },
   "outputs": [
    {
     "name": "stdout",
     "output_type": "stream",
     "text": [
      "K = 59 m/d\n"
     ]
    }
   ],
   "source": [
    "h1 = wH.value-s1; h2 = wH.value-s2\n",
    "K1 = Q * np.log(r2/r1) / np.pi / (h2**2-h1**2)\n",
    "print('K = {:.0f} m/d'.format(K1))"
   ]
  },
  {
   "cell_type": "markdown",
   "metadata": {},
   "source": [
    "Also for this pumping we don't know the exact value of the initial head. Change its value and see the effect on the resulting conductivity! \n",
    "Compare the result with the conductivities that results from the output of the Thiem evaluation for the confined aquifer, identifying the aquifer thickness with the initial head."
   ]
  },
  {
   "cell_type": "markdown",
   "metadata": {},
   "source": [
    "Use the Thiem evaluation for the steady state taking the measurements at the near and far observtion points into consideration. Examine results for different pairs of observations.  "
   ]
  },
  {
   "cell_type": "markdown",
   "metadata": {},
   "source": [
    "### Leaky Aquifer\n",
    "Kooper (1914) and de Glee (1930) developed an expression for the steady drawdown in a leaky aquifer. The overlying semi-permeable layer is characterized by its vertical flow resistance $c$, which has the unit of time. The formula is:  "
   ]
  },
  {
   "cell_type": "markdown",
   "metadata": {},
   "source": [
    "$$ s(r) = \\frac{Q}{2 \\pi T} K_0(\\frac{r}{\\sqrt{Tc}}) $$"
   ]
  },
  {
   "cell_type": "markdown",
   "metadata": {},
   "source": [
    "where $K_0$ denotes the modified Bessel function 2. type 0. order. We can obtain values for the two parameters $T$ and $c$ by fitting using the method of least squares. This is done in the following cell."
   ]
  },
  {
   "cell_type": "code",
   "execution_count": 8,
   "metadata": {
    "hide_input": true
   },
   "outputs": [
    {
     "data": {
      "application/vnd.jupyter.widget-view+json": {
       "model_id": "92904a840a0948c69aea0e0f3cbe57fb",
       "version_major": 2,
       "version_minor": 0
      },
      "text/plain": [
       "HBox(children=(Button(description='Leaky aquifer fit', style=ButtonStyle()), Checkbox(value=False, description…"
      ]
     },
     "metadata": {},
     "output_type": "display_data"
    }
   ],
   "source": [
    "from scipy.optimize import fmin\n",
    "from scipy.special import kn as besselk\n",
    "rfit = [0.8, 30, 60, 215]\n",
    "srfit = [2.235, 1.088, 0.716, 0.25] \n",
    "T2 = 500\n",
    "\n",
    "def deGlee (x):\n",
    "    T = x[0]; c = x[1]\n",
    "    u = rfit/np.sqrt(T*c)\n",
    "    s = Q*besselk(0,u)/2/np.pi/T\n",
    "    res = (s-srfit)\n",
    "    return sum(res*res)\n",
    "\n",
    "def on_wdg_clicked(self):\n",
    "    global T2\n",
    "    c = 500\n",
    "    n = len(rfit); lr = np.log(rfit)  \n",
    "    T = (n*np.sum(lr*srfit)-np.sum(lr)*np.sum(srfit))/(n*np.sum(lr*lr)-np.sum(lr)**2)\n",
    "    T = -Q/2/np.pi/T                       # transmissivity initial guess [L^2/T]\n",
    "    [Tfit,cfit] = fmin(deGlee, [T,c]) \n",
    "\n",
    "    s = Q*besselk(0,rfit/np.sqrt(Tfit*cfit))/2/np.pi/Tfit\n",
    "    norms = np.linalg.norm(srfit-s)\n",
    "    rmax = max(rfit); smax = max(srfit)\n",
    "    r = np.arange(.9*min(rfit), rmax, step = rmax/50)\n",
    "    s = Q/2/np.pi/T*besselk(0,r/np.sqrt(Tfit*cfit))\n",
    "    fig = plt.figure(facecolor='w'); ax = fig.add_subplot()\n",
    "    if wcb.value: \n",
    "        ax.set_xscale('log'); xtext = 1\n",
    "    else:\n",
    "        xtext = 130\n",
    "    plt.plot (rfit,srfit, 'o', label = 'observation' )\n",
    "    plt.plot (r,s, '.-', label = 'modelled' )\n",
    "    plt.xlabel('distance [m]',fontsize=12)\n",
    "    plt.ylabel('drawdown [m]',fontsize=12)\n",
    "    ax.grid(b=True, c='w', lw=2, ls='-')\n",
    "    plt.legend(loc = 'upper right',fontsize=12)\n",
    "    ax.text (xtext,.7*smax,'$T = %.3e $' % (Tfit, ),fontsize=12)\n",
    "    ax.text (xtext,.6*smax,'$c =%.3e $' % (cfit, ),fontsize=12)\n",
    "    ax.text (xtext,.5*smax,'$norm =%.3e $' % (norms, ),fontsize=12)\n",
    "    plt.title ('deGlee fit',fontsize=14);\n",
    "    T2 = Tfit\n",
    "\n",
    "wdg = widgets.Button(description='Leaky aquifer fit')        \n",
    "wdg.on_click(on_wdg_clicked)   \n",
    "wcb = widgets.Checkbox(value=False, description='log', disabled=False, indent=False)\n",
    "widgets.HBox([wdg,wcb]) "
   ]
  },
  {
   "cell_type": "markdown",
   "metadata": {},
   "source": [
    "Again we can obtain the hydraulic conductivity $K$ if the aquifer thickness is known:  "
   ]
  },
  {
   "cell_type": "code",
   "execution_count": 9,
   "metadata": {
    "hide_input": true,
    "scrolled": true
   },
   "outputs": [
    {
     "data": {
      "application/vnd.jupyter.widget-view+json": {
       "model_id": "4bed6a16b2f8452ea34db9a98b8caa34",
       "version_major": 2,
       "version_minor": 0
      },
      "text/plain": [
       "BoundedFloatText(value=7.0, description='Thickness:', max=15.0, step=1.0)"
      ]
     },
     "metadata": {},
     "output_type": "display_data"
    }
   ],
   "source": [
    "wD2 = widgets.BoundedFloatText(value=7, min=0, max=15.0, step=1, description='Thickness:', disabled=False)\n",
    "wD2"
   ]
  },
  {
   "cell_type": "markdown",
   "metadata": {},
   "source": [
    " Obtain the result by running the next cell: "
   ]
  },
  {
   "cell_type": "code",
   "execution_count": 10,
   "metadata": {
    "hide_input": true,
    "scrolled": true
   },
   "outputs": [
    {
     "name": "stdout",
     "output_type": "stream",
     "text": [
      "K = 71 m/d\n"
     ]
    }
   ],
   "source": [
    "print('K = {:.0f} m/d'.format(T2/wD2.value))"
   ]
  },
  {
   "cell_type": "markdown",
   "metadata": {},
   "source": [
    "## Unsteady Data Input and Visualization"
   ]
  },
  {
   "cell_type": "markdown",
   "metadata": {},
   "source": [
    "The data for the pumping test are in the EXCEL file \"OK.xlsx\", which we'll open and read into this notebook.  "
   ]
  },
  {
   "cell_type": "code",
   "execution_count": 11,
   "metadata": {
    "hide_input": true,
    "jupyter": {
     "outputs_hidden": false
    },
    "scrolled": true
   },
   "outputs": [],
   "source": [
    "df = pd.DataFrame(columns=['t1','s1','t2','s2'])\n",
    "\n",
    "#def on_wini_clicked(self):\n",
    "    #global df\n",
    "y = pd.read_excel('ok.xlsx',header=None)                     # time in seconds!\n",
    "df['t1'] = y[0].dropna()/60; df['s1'] = y[1].dropna() \n",
    "df['t2'] = y[2].dropna()/60; df['s2'] = y[3].dropna()\n",
    "global kD, Sc\n",
    "    \n",
    "#wini = widgets.Button(description='Input data')        \n",
    "#wini.on_click(on_wini_clicked) \n",
    "#wini   "
   ]
  },
  {
   "cell_type": "markdown",
   "metadata": {
    "hide_input": true
   },
   "source": [
    "Let's see how the data look like. "
   ]
  },
  {
   "cell_type": "code",
   "execution_count": 12,
   "metadata": {
    "hide_input": true,
    "jupyter": {
     "outputs_hidden": false
    },
    "scrolled": false
   },
   "outputs": [
    {
     "data": {
      "application/vnd.jupyter.widget-view+json": {
       "model_id": "bab62a96afdb45029b2e277d4ac41a69",
       "version_major": 2,
       "version_minor": 0
      },
      "text/plain": [
       "VBox(children=(Button(description='Plot data', style=ButtonStyle()),))"
      ]
     },
     "metadata": {},
     "output_type": "display_data"
    },
    {
     "data": {
      "image/png": "[encoded data removed]",
      "text/plain": [
       "<Figure size 720x360 with 1 Axes>"
      ]
     },
     "metadata": {},
     "output_type": "display_data"
    }
   ],
   "source": [
    "def on_wp0_clicked(self):\n",
    "    plt.rcParams[\"figure.figsize\"] = (10,5) \n",
    "    fig = plt.figure(facecolor='w'); ax = fig.add_subplot()\n",
    "    plt.plot (df['t1'],df['s1'], '.-', label = 'observation H30' )\n",
    "    plt.plot (df['t2'],df['s2'], '.-', label = 'observation H90' )\n",
    "    plt.title('Oude Korendijk pumping test measured drawdowns',fontsize=14)\n",
    "    plt.xlabel('time [min]',fontsize=12)\n",
    "    plt.ylabel('drawdown [m]',fontsize=12)\n",
    "    plt.grid()\n",
    "    plt.legend(loc = 'lower right',fontsize=12);\n",
    "    \n",
    "wp0 = widgets.Button(description='Plot data')        \n",
    "wp0.on_click(on_wp0_clicked)   \n",
    "widgets.VBox([wp0])    "
   ]
  },
  {
   "cell_type": "markdown",
   "metadata": {},
   "source": [
    "Obviously a steady state has not been reached at the end of the pump test. The visual inspection of the plot indicates that there is a constant difference between the drawdowns in the two observation wells. This would justify the application of the Thiem evaluation, as there only the difference counts. We call this situation either quasi stead-state or steady slope. Lets check the difference in a graph. "
   ]
  },
  {
   "cell_type": "code",
   "execution_count": 13,
   "metadata": {
    "hide_input": true,
    "jupyter": {
     "outputs_hidden": false
    },
    "scrolled": false
   },
   "outputs": [
    {
     "data": {
      "application/vnd.jupyter.widget-view+json": {
       "model_id": "b52e198c7c464e188a7f0d6207ff102b",
       "version_major": 2,
       "version_minor": 0
      },
      "text/plain": [
       "VBox(children=(Button(description='Drawdown difference', style=ButtonStyle()),))"
      ]
     },
     "metadata": {},
     "output_type": "display_data"
    }
   ],
   "source": [
    "from scipy.interpolate import interp1d\n",
    "\n",
    "def on_wp1_clicked(self):\n",
    "    plt.rcParams[\"figure.figsize\"] = (10,5) \n",
    "    fig = plt.figure(facecolor='w'); ax = fig.add_subplot()\n",
    "    f30 = interp1d(df['t1'],df['s1']); f90 = interp1d(df['t2'],df['s2'])\n",
    "    t = np.arange(6,780.0,step=1)\n",
    "    plt.plot (t, f30(t)-f90(t), 'g', label = 'H30-H90' )\n",
    "    plt.title('Drawdown difference',fontsize=14)\n",
    "    plt.xlabel('time [min]',fontsize=12)\n",
    "    plt.ylabel('drawdown difference [m]',fontsize=12)\n",
    "    plt.ylim ([0., 0.6])\n",
    "    plt.grid()\n",
    "    plt.legend(loc = 'lower right',fontsize=12);\n",
    "    \n",
    "wp1 = widgets.Button(description='Drawdown difference')        \n",
    "wp1.on_click(on_wp1_clicked)   \n",
    "widgets.VBox([wp1])    "
   ]
  },
  {
   "cell_type": "markdown",
   "metadata": {
    "hide_input": true
   },
   "source": [
    "One can visualize the same data using log scale for time: "
   ]
  },
  {
   "cell_type": "code",
   "execution_count": 14,
   "metadata": {
    "hide_input": true,
    "scrolled": false
   },
   "outputs": [
    {
     "data": {
      "application/vnd.jupyter.widget-view+json": {
       "model_id": "1c346c3c69b94da4b8f02fde4627ed07",
       "version_major": 2,
       "version_minor": 0
      },
      "text/plain": [
       "VBox(children=(Button(description='Plot log scale', style=ButtonStyle()),))"
      ]
     },
     "metadata": {},
     "output_type": "display_data"
    }
   ],
   "source": [
    "def on_wp2_clicked(self):\n",
    "    plt.rcParams[\"figure.figsize\"] = (10,5) \n",
    "    fig = plt.figure(facecolor='w'); ax = fig.add_subplot()\n",
    "    ax.set_xscale('log')\n",
    "    plt.plot (df['t1'],df['s1'], '.-', label = 'observation H30' )\n",
    "    plt.plot (df['t2'],df['s2'], '.-', label = 'observation H90' )\n",
    "    plt.title('Oude Korendijk pumping test measured drawdowns',fontsize=14)\n",
    "    plt.xlabel('time [min]',fontsize=12)\n",
    "    plt.ylabel('drawdown [m]',fontsize=12)\n",
    "    plt.grid()\n",
    "    plt.legend(loc = 'lower right',fontsize=12);\n",
    "\n",
    "wp2 = widgets.Button(description='Plot log scale')        \n",
    "wp2.on_click(on_wp2_clicked)   \n",
    "widgets.VBox([wp2]) "
   ]
  },
  {
   "cell_type": "markdown",
   "metadata": {
    "hide_input": true
   },
   "source": [
    "The same in the loglog system, with logarithmic scale on both axes:"
   ]
  },
  {
   "cell_type": "code",
   "execution_count": 15,
   "metadata": {
    "hide_input": true,
    "scrolled": false
   },
   "outputs": [
    {
     "data": {
      "application/vnd.jupyter.widget-view+json": {
       "model_id": "3d6afe4ea42c4db38b72be118565c57e",
       "version_major": 2,
       "version_minor": 0
      },
      "text/plain": [
       "VBox(children=(Button(description='Plot loglog scale', style=ButtonStyle()),))"
      ]
     },
     "metadata": {},
     "output_type": "display_data"
    }
   ],
   "source": [
    "def on_wp3_clicked(self):\n",
    "    plt.rcParams[\"figure.figsize\"] = (10,5) \n",
    "    fig = plt.figure(facecolor='w'); ax = fig.add_subplot()\n",
    "    ax.set_xscale('log'); ax.set_yscale('log')\n",
    "    plt.plot (df['t1'],df['s1'], '.-', label = 'observation H30' )\n",
    "    plt.plot (df['t2'],df['s2'], '.-', label = 'observation H90' )\n",
    "    plt.title('Oude Korendijk pumping test measured drawdowns',fontsize=14)\n",
    "    plt.xlabel('time [min]',fontsize=12)\n",
    "    plt.ylabel('drawdown [m]',fontsize=12)\n",
    "    plt.grid()\n",
    "    plt.legend(loc = 'lower right',fontsize=12);\n",
    "    \n",
    "wp3 = widgets.Button(description='Plot loglog scale')        \n",
    "wp3.on_click(on_wp3_clicked)   \n",
    "widgets.VBox([wp3])     "
   ]
  },
  {
   "cell_type": "markdown",
   "metadata": {},
   "source": [
    "For a comparison of the two curves it is convenient to visualize in double log scale using $t/r^2$ on x-axis. "
   ]
  },
  {
   "cell_type": "code",
   "execution_count": 16,
   "metadata": {
    "hide_input": true,
    "scrolled": true
   },
   "outputs": [
    {
     "data": {
      "application/vnd.jupyter.widget-view+json": {
       "model_id": "ba07d78eb2a94523b0b1d3307b26e0ca",
       "version_major": 2,
       "version_minor": 0
      },
      "text/plain": [
       "VBox(children=(Button(description='Plot t/r/r scale', style=ButtonStyle()),))"
      ]
     },
     "metadata": {},
     "output_type": "display_data"
    }
   ],
   "source": [
    "def on_wp4_clicked(self):\n",
    "    plt.rcParams[\"figure.figsize\"] = (10,5) \n",
    "    fig = plt.figure(facecolor='w'); ax = fig.add_subplot()\n",
    "    ax.set_xscale('log')\n",
    "    plt.plot (df['t1']/30/30,df['s1'], '.-', label = 'observation H30' )\n",
    "    plt.plot (df['t2']/90/90,df['s2'], '.-', label = 'observation H90' )\n",
    "    plt.title('Oude Korendijk pumping test measured drawdowns',fontsize=14)\n",
    "    plt.xlabel('$t/r^2$ [min/m$^2$]',fontsize=12)\n",
    "    plt.ylabel('drawdown [m]',fontsize=12)\n",
    "    plt.grid()\n",
    "    plt.legend(loc = 'lower right',fontsize=12);\n",
    "\n",
    "wp4 = widgets.Button(description='Plot t/r/r scale')        \n",
    "wp4.on_click(on_wp4_clicked)   \n",
    "widgets.VBox([wp4]) "
   ]
  },
  {
   "cell_type": "markdown",
   "metadata": {},
   "source": [
    "## Basic Interpretation based on the Theis Solution"
   ]
  },
  {
   "cell_type": "markdown",
   "metadata": {},
   "source": [
    "The solution for the unsteady drawdown due to a single well with fully penetrating screen in a uniform aquifer of infinite extent was first published by Theis (1935), using a mathematical derivation by Lubin, transfered in private communication. The solution revolutioned the science of hydrology (White & Clebsch 1994). The solution for drawdown $s$ as function of distance from the pumping well $r$ and time $t$ is given by:"
   ]
  },
  {
   "cell_type": "markdown",
   "metadata": {},
   "source": [
    "$$ s(r, t) = \\frac Q {4 \\pi T} W(u),\\,\\,\\,\\, u = \\frac {r^2 S} {4 T t}$$"
   ]
  },
  {
   "cell_type": "markdown",
   "metadata": {},
   "source": [
    "where $T$ denotes the transmissivity, $S$ the storage coefficient, and $Q$ the pumping rate. $W$ is the well function, in mathematical literature known as exponential integral. For evaluations before computers became generally available, is was handy to utilize simpler approximations for the well function. Cooper & Jacob (1946) proposed:    "
   ]
  },
  {
   "cell_type": "markdown",
   "metadata": {},
   "source": [
    "$$ W(u) \\approx -0.2557 - \\ln(u) +u - u^2/4 $$"
   ]
  },
  {
   "cell_type": "markdown",
   "metadata": {},
   "source": [
    "We may also use the approximation of this solution, which is valid for long enough times and/or small enough distances from the well:"
   ]
  },
  {
   "cell_type": "markdown",
   "metadata": {},
   "source": [
    "$$ s(r, t) \\approx \\frac {Q} {4 \\pi T} \\ln \\left( \\frac {2.25 T t} {r^2 S} \\right) $$ "
   ]
  },
  {
   "cell_type": "markdown",
   "metadata": {},
   "source": [
    "$\\ln$ denotes the natural logarithm. The formula can be modified for the decadic logarithm "
   ]
  },
  {
   "cell_type": "markdown",
   "metadata": {},
   "source": [
    "$$ s = \\frac {2.3 Q} {4 \\pi T} \\log \\left( \\frac {2.25 T t} {r^2 S} \\right) $$"
   ]
  },
  {
   "cell_type": "markdown",
   "metadata": {},
   "source": [
    "First determine the drawdown per log cycle from the last double-log graph and observation point H30 $\\approx (1.1 - 0.21) / 3 \\approx 0.30 $"
   ]
  },
  {
   "cell_type": "markdown",
   "metadata": {},
   "source": [
    "$$ \\Delta s = s_{10t} - s_t = 0.30 = \\frac {2.3 Q} {4 \\pi T} $$"
   ]
  },
  {
   "cell_type": "markdown",
   "metadata": {},
   "source": [
    "or, resolved for $T$:"
   ]
  },
  {
   "cell_type": "markdown",
   "metadata": {},
   "source": [
    "$$ T = \\frac {2.3 Q} {4 \\pi \\Delta s} $$"
   ]
  },
  {
   "cell_type": "markdown",
   "metadata": {},
   "source": [
    "Notice that it doesn't matter in what dimension time is, at it drops out of the drawdown at $10t$ is compared with that at $t$. Therefore, with $Q$ = 768 m$^3$/d, one gets"
   ]
  },
  {
   "cell_type": "code",
   "execution_count": 17,
   "metadata": {
    "hide_input": true,
    "jupyter": {
     "outputs_hidden": false
    },
    "scrolled": true
   },
   "outputs": [
    {
     "name": "stdout",
     "output_type": "stream",
     "text": [
      "T = 316 m²/d\n"
     ]
    }
   ],
   "source": [
    "ds = (1.1 - 0.21) / 2 # drawdown increase per log cycle of time\n",
    "kD = 2.3 * Q / (4 * np.pi * ds)\n",
    "print('T = {:.0f}'.format(kD) + ' m' + chr(0x00b2) + '/d')"
   ]
  },
  {
   "cell_type": "markdown",
   "metadata": {},
   "source": [
    "For the storage coefficient determine the intersection with the straight line with the line of zero drawdown. This is $t/r^2 = 2 \\times 10 ^{-4}$ min. We have to convert to days to get answer consistent with the transmissivity.\n",
    "\n",
    "Then setting the argument of the solution equal to 1 so that the computed drawdown is 0 and using the already obtained transmissivity yields the storage coefficient.\n"
   ]
  },
  {
   "cell_type": "code",
   "execution_count": 18,
   "metadata": {
    "hide_input": true,
    "jupyter": {
     "outputs_hidden": false
    },
    "scrolled": true
   },
   "outputs": [
    {
     "name": "stdout",
     "output_type": "stream",
     "text": [
      "S = 9.87e-05\n"
     ]
    }
   ],
   "source": [
    "tr2 = 2e-4 / (24 * 60) # d/m2\n",
    "Sc = 2.25 * kD * tr2\n",
    "print('S = {:.2e}'.format(Sc))"
   ]
  },
  {
   "cell_type": "markdown",
   "metadata": {},
   "source": [
    "Clearly, the result depends somewhat on the exact straigt line drawn through the bundel of curves for the observation wells. In the ideal situation, these curves fall onto each other. In this real-world case this is not true, which is due to non-uniformity of the real-world aquifer. There are many real-world pumping tests, where the match is much closer. But it is good to keep in mind that the real world is less homogeneous than the analytic solution presumes.\n",
    "\n",
    "Task: perform the same method of evaluation for the observations in borehole H90. "
   ]
  },
  {
   "cell_type": "markdown",
   "metadata": {},
   "source": [
    "## Classical Interpretation using the Match on Double Log Scales\n",
    "\n",
    "The classical interpreation plots the measured drawdowns on double log paper (drawdown $s$ versus $t/r^2$ ) and compares them with the Theis type curve $W(u)$ versus $1/u$ also drawn on double log paper. Because $1/u = (4 T t) / (r^2 S)$ it follows that on logarthmic scales $1/u$ and $t/r^2$ differ only by a constant factor, which represents a horizontal shift on the log scale. The drawdown $s$ only differs the constant $Q/(4 \\pi T)$ from the well function $W(u)$, and so this implies a vertical shift on logarithmic scale. Hence the measured drawdown versus $t/r^2$ on double log scale looks exactly the same as the theis type curve but it is only shifted a given distance along the horizontal axis and a given distance along the vertical axis. These two shifts yield the sought transmissivity and storage coefficient.\n",
    "\n",
    "Below we draw the Theis type curve and the drawdown $s$ multiplied by a factor $A$ and the $t/r^2$ multiplied by a factor $B$, choosing $A$ and $B$ interactively until the measured and the type curve match best.\n",
    "\n",
    "In this worked out example, I already optimized the values of $A$ and $B$ by hand. Set them both to 1 and try optimizing them yourself."
   ]
  },
  {
   "cell_type": "code",
   "execution_count": 19,
   "metadata": {
    "hide_input": true,
    "scrolled": false
   },
   "outputs": [
    {
     "data": {
      "image/png": "[encoded data removed]",
      "text/plain": [
       "<Figure size 720x360 with 1 Axes>"
      ]
     },
     "metadata": {},
     "output_type": "display_data"
    }
   ],
   "source": [
    "plt.rcParams[\"figure.figsize\"] = (10,5)           \n",
    "A = 7.0; B = 1.0e7\n",
    "u = np.logspace(-4, 0.25, 41)\n",
    "fig = plt.figure(facecolor='w'); ax = fig.add_subplot()\n",
    "\n",
    "# the Theis type curve\n",
    "plt.plot(1/u, exp1(u), label='Theis')\n",
    "\n",
    "# The measurements\n",
    "plt.plot (B*df['t1']/24/60/30/30,A*df['s1'], '.', label = 'observation H30' )\n",
    "plt.plot (B*df['t2']/24/60/90/90,A*df['s2'], '.', label = 'observation H90' ) \n",
    "ax.set_xscale('log'); ax.set_yscale('log')\n",
    "plt.title('Type curve and $A \\cdot s$ vs $B \\cdot t/r^2$, with $A$={}, $B$={}'.format(A, B),fontsize=14)\n",
    "plt.xlabel('$1/u$ and $B \\, t/r^2$',fontsize=12); plt.ylabel('W(u) and $A \\, s$',fontsize=12)\n",
    "plt.xscale('log'); plt.yscale('log')\n",
    "plt.grid()\n",
    "plt.legend(loc='lower right',fontsize=12);"
   ]
  },
  {
   "cell_type": "markdown",
   "metadata": {
    "hide_input": false
   },
   "source": [
    "So $A \\cdot s = W(u)$ and $s = \\frac Q {2 \\pi T} W(u)$ and, therefore $A = \\frac {4 \\pi T} {Q}$ and $ T = \\frac {A Q} {4 \\pi}$.\n",
    "\n",
    "Click the next cell to obtain the result:"
   ]
  },
  {
   "cell_type": "code",
   "execution_count": 20,
   "metadata": {
    "hide_input": true,
    "scrolled": false
   },
   "outputs": [
    {
     "name": "stdout",
     "output_type": "stream",
     "text": [
      "T = 428 [m^2/d]\n"
     ]
    }
   ],
   "source": [
    "kD = A * Q /4 /np.pi\n",
    "print('T = {:.0f} [m^2/d]'.format(kD))"
   ]
  },
  {
   "cell_type": "markdown",
   "metadata": {},
   "source": [
    "The storage coefficient then follows from $\\frac 1 u = B \\frac t {r^2}$, that is, $\\frac {4 T t} {r^2 S} = B \\frac t {r^2}$ so that $S = \\frac {4 T} B$. Click the next cell to obtain the result"
   ]
  },
  {
   "cell_type": "code",
   "execution_count": 21,
   "metadata": {
    "hide_input": true,
    "scrolled": true
   },
   "outputs": [
    {
     "name": "stdout",
     "output_type": "stream",
     "text": [
      "S = 1.71e-04 [-]\n"
     ]
    }
   ],
   "source": [
    "Sc = 4 * kD / B\n",
    "print('S = {:.2e} [-]'.format(Sc))"
   ]
  },
  {
   "cell_type": "markdown",
   "metadata": {},
   "source": [
    "As one sees, the results obtained this way are consistent with those obtained by the previous method."
   ]
  },
  {
   "cell_type": "markdown",
   "metadata": {},
   "source": [
    "## Graphical Interpretation for Transmissivity and Storativity \n",
    "\n",
    "The method peformed by shifting of the measurements drawn on double log paper over the Theis type curve also drawn on double log paper. However, because we now have a computer, we could just as well directly optimize $T$ and $S$ by trial and error to find the best match between type curve and measurements. For the following we proceed with the data measured at 30 m distance from the pumping well:"
   ]
  },
  {
   "cell_type": "code",
   "execution_count": 22,
   "metadata": {
    "hide_input": true,
    "scrolled": false
   },
   "outputs": [
    {
     "data": {
      "application/vnd.jupyter.widget-view+json": {
       "model_id": "28eb37c536724f42a49376ce85cc7bf7",
       "version_major": 2,
       "version_minor": 0
      },
      "text/plain": [
       "BoundedFloatText(value=30.0, description='Distance:', max=90.0, min=30.0, step=60.0)"
      ]
     },
     "metadata": {},
     "output_type": "display_data"
    }
   ],
   "source": [
    "wr = widgets.BoundedFloatText(value=30.0, min=30.0, max=90.0, step = 60.0, description='Distance:', disabled=False)\n",
    "wr"
   ]
  },
  {
   "cell_type": "markdown",
   "metadata": {
    "hide_input": false
   },
   "source": [
    "### Multi-Graph\n",
    "Use the sliders to select values for $A$ and log10($B$)"
   ]
  },
  {
   "cell_type": "code",
   "execution_count": 23,
   "metadata": {
    "hide_input": true,
    "scrolled": false
   },
   "outputs": [
    {
     "data": {
      "application/vnd.jupyter.widget-view+json": {
       "model_id": "e7ad302ec5be4cb182a918bb5e74418c",
       "version_major": 2,
       "version_minor": 0
      },
      "text/plain": [
       "HBox(children=(FloatSlider(value=1.0, description='$A$', max=10.0, min=0.1), FloatSlider(value=1.0, descriptio…"
      ]
     },
     "metadata": {},
     "output_type": "display_data"
    }
   ],
   "source": [
    "slider1 = widgets.FloatSlider(1, description = '$A$', min=0.1, max=10, step=0.1)\n",
    "slider2 = widgets.FloatSlider(1, description = 'log10($B$)', min=0.1, max=10, step=0.1)\n",
    "widgets.HBox([slider1,slider2])"
   ]
  },
  {
   "cell_type": "markdown",
   "metadata": {
    "hide_input": true
   },
   "source": [
    "Run the next cell and press the check button, whenever you have changed the slider values. Make sure that you enable toggle scrolling (see: Cell-Current outputs). In order to restart checking re-run the cell."
   ]
  },
  {
   "cell_type": "code",
   "execution_count": 38,
   "metadata": {
    "hide_input": true,
    "scrolled": false
   },
   "outputs": [
    {
     "data": {
      "application/vnd.jupyter.widget-view+json": {
       "model_id": "4378f3780b0d4a8c9b8463d95ba3b6b3",
       "version_major": 2,
       "version_minor": 0
      },
      "text/plain": [
       "Button(description='Check', style=ButtonStyle())"
      ]
     },
     "metadata": {},
     "output_type": "display_data"
    },
    {
     "data": {
      "image/png": "[encoded data removed]",
      "text/plain": [
       "<Figure size 720x360 with 1 Axes>"
      ]
     },
     "metadata": {},
     "output_type": "display_data"
    }
   ],
   "source": [
    "plt.rcParams[\"figure.figsize\"] = (10,5) \n",
    "from IPython.display import display \n",
    "\n",
    "btn = widgets.Button(description='Check')\n",
    "display(btn)\n",
    "\n",
    "def btn_eventhandler(obj):\n",
    "    global kD,Sc\n",
    "    A = slider1.value\n",
    "    B = 10**(slider2.value)\n",
    "\n",
    "    u = np.logspace(-4, 0.25, 41)\n",
    "    fig = plt.figure(facecolor='w'); ax = fig.add_subplot()\n",
    "\n",
    "    # the Theis type curve\n",
    "    plt.plot(1/u, exp1(u), label='Theis')\n",
    "\n",
    "    # the measurements\n",
    "    r = wr.value; Q = wQ.value\n",
    "    if r <= 50:\n",
    "        plt.plot (B*df['t1']/24/60/r/r,A*df['s1'], '.', label = 'observation' )\n",
    "    else:\n",
    "        plt.plot (B*df['t2']/24/60/r/r,A*df['s2'], '.', label = 'observation' ) \n",
    "        \n",
    "    ax.set_xscale('log'); ax.set_yscale('log');\n",
    "    plt.xlabel('$1/u$ and $B \\, t/r^2$',fontsize=16); plt.ylabel('W(u) and $A \\cdot s$',fontsize=16)\n",
    "    plt.xscale('log'); plt.yscale('log');\n",
    "    plt.grid();\n",
    "    plt.legend(loc='upper left',fontsize=12);\n",
    "    T = A * Q /4 /np.pi   # print('T = {:.0f} m2/d'.format(kD))\n",
    "    S = 4 * T / B         #print('S = {:.2e} [-]'.format(S))\n",
    "    ax.text (380,0.23,'$T =%.2e m^2/d$' % (T, ),fontsize=12)\n",
    "    ax.text (380,0.15,'$S =%.2e $' % (S, ),fontsize=12)\n",
    "    ax.set_title('Multi Graph', size=14);\n",
    "    Sc = S; kD = T\n",
    "\n",
    "btn.on_click(btn_eventhandler)"
   ]
  },
  {
   "cell_type": "markdown",
   "metadata": {},
   "source": [
    "### Single Graph\n",
    "Run the following cell to see the effect of slider updated in a single figure."
   ]
  },
  {
   "cell_type": "code",
   "execution_count": 35,
   "metadata": {
    "hide_input": true,
    "scrolled": false
   },
   "outputs": [
    {
     "data": {
      "application/javascript": [
       "/* Put everything inside the global mpl namespace */\n",
       "window.mpl = {};\n",
       "\n",
       "\n",
       "mpl.get_websocket_type = function() {\n",
       "    if (typeof(WebSocket) !== 'undefined') {\n",
       "        return WebSocket;\n",
       "    } else if (typeof(MozWebSocket) !== 'undefined') {\n",
       "        return MozWebSocket;\n",
       "    } else {\n",
       "        alert('Your browser does not have WebSocket support. ' +\n",
       "              'Please try Chrome, Safari or Firefox ≥ 6. ' +\n",
       "              'Firefox 4 and 5 are also supported but you ' +\n",
       "              'have to enable WebSockets in about:config.');\n",
       "    };\n",
       "}\n",
       "\n",
       "mpl.figure = function(figure_id, websocket, ondownload, parent_element) {\n",
       "    this.id = figure_id;\n",
       "\n",
       "    this.ws = websocket;\n",
       "\n",
       "    this.supports_binary = (this.ws.binaryType != undefined);\n",
       "\n",
       "    if (!this.supports_binary) {\n",
       "        var warnings = document.getElementById(\"mpl-warnings\");\n",
       "        if (warnings) {\n",
       "            warnings.style.display = 'block';\n",
       "            warnings.textContent = (\n",
       "                \"This browser does not support binary websocket messages. \" +\n",
       "                    \"Performance may be slow.\");\n",
       "        }\n",
       "    }\n",
       "\n",
       "    this.imageObj = new Image();\n",
       "\n",
       "    this.context = undefined;\n",
       "    this.message = undefined;\n",
       "    this.canvas = undefined;\n",
       "    this.rubberband_canvas = undefined;\n",
       "    this.rubberband_context = undefined;\n",
       "    this.format_dropdown = undefined;\n",
       "\n",
       "    this.image_mode = 'full';\n",
       "\n",
       "    this.root = $('<div/>');\n",
       "    this._root_extra_style(this.root)\n",
       "    this.root.attr('style', 'display: inline-block');\n",
       "\n",
       "    $(parent_element).append(this.root);\n",
       "\n",
       "    this._init_header(this);\n",
       "    this._init_canvas(this);\n",
       "    this._init_toolbar(this);\n",
       "\n",
       "    var fig = this;\n",
       "\n",
       "    this.waiting = false;\n",
       "\n",
       "    this.ws.onopen =  function () {\n",
       "            fig.send_message(\"supports_binary\", {value: fig.supports_binary});\n",
       "            fig.send_message(\"send_image_mode\", {});\n",
       "            if (mpl.ratio != 1) {\n",
       "                fig.send_message(\"set_dpi_ratio\", {'dpi_ratio': mpl.ratio});\n",
       "            }\n",
       "            fig.send_message(\"refresh\", {});\n",
       "        }\n",
       "\n",
       "    this.imageObj.onload = function() {\n",
       "            if (fig.image_mode == 'full') {\n",
       "                // Full images could contain transparency (where diff images\n",
       "                // almost always do), so we need to clear the canvas so that\n",
       "                // there is no ghosting.\n",
       "                fig.context.clearRect(0, 0, fig.canvas.width, fig.canvas.height);\n",
       "            }\n",
       "            fig.context.drawImage(fig.imageObj, 0, 0);\n",
       "        };\n",
       "\n",
       "    this.imageObj.onunload = function() {\n",
       "        fig.ws.close();\n",
       "    }\n",
       "\n",
       "    this.ws.onmessage = this._make_on_message_function(this);\n",
       "\n",
       "    this.ondownload = ondownload;\n",
       "}\n",
       "\n",
       "mpl.figure.prototype._init_header = function() {\n",
       "    var titlebar = $(\n",
       "        '<div class=\"ui-dialog-titlebar ui-widget-header ui-corner-all ' +\n",
       "        'ui-helper-clearfix\"/>');\n",
       "    var titletext = $(\n",
       "        '<div class=\"ui-dialog-title\" style=\"width: 100%; ' +\n",
       "        'text-align: center; padding: 3px;\"/>');\n",
       "    titlebar.append(titletext)\n",
       "    this.root.append(titlebar);\n",
       "    this.header = titletext[0];\n",
       "}\n",
       "\n",
       "\n",
       "\n",
       "mpl.figure.prototype._canvas_extra_style = function(canvas_div) {\n",
       "\n",
       "}\n",
       "\n",
       "\n",
       "mpl.figure.prototype._root_extra_style = function(canvas_div) {\n",
       "\n",
       "}\n",
       "\n",
       "mpl.figure.prototype._init_canvas = function() {\n",
       "    var fig = this;\n",
       "\n",
       "    var canvas_div = $('<div/>');\n",
       "\n",
       "    canvas_div.attr('style', 'position: relative; clear: both; outline: 0');\n",
       "\n",
       "    function canvas_keyboard_event(event) {\n",
       "        return fig.key_event(event, event['data']);\n",
       "    }\n",
       "\n",
       "    canvas_div.keydown('key_press', canvas_keyboard_event);\n",
       "    canvas_div.keyup('key_release', canvas_keyboard_event);\n",
       "    this.canvas_div = canvas_div\n",
       "    this._canvas_extra_style(canvas_div)\n",
       "    this.root.append(canvas_div);\n",
       "\n",
       "    var canvas = $('<canvas/>');\n",
       "    canvas.addClass('mpl-canvas');\n",
       "    canvas.attr('style', \"left: 0; top: 0; z-index: 0; outline: 0\")\n",
       "\n",
       "    this.canvas = canvas[0];\n",
       "    this.context = canvas[0].getContext(\"2d\");\n",
       "\n",
       "    var backingStore = this.context.backingStorePixelRatio ||\n",
       "\tthis.context.webkitBackingStorePixelRatio ||\n",
       "\tthis.context.mozBackingStorePixelRatio ||\n",
       "\tthis.context.msBackingStorePixelRatio ||\n",
       "\tthis.context.oBackingStorePixelRatio ||\n",
       "\tthis.context.backingStorePixelRatio || 1;\n",
       "\n",
       "    mpl.ratio = (window.devicePixelRatio || 1) / backingStore;\n",
       "\n",
       "    var rubberband = $('<canvas/>');\n",
       "    rubberband.attr('style', \"position: absolute; left: 0; top: 0; z-index: 1;\")\n",
       "\n",
       "    var pass_mouse_events = true;\n",
       "\n",
       "    canvas_div.resizable({\n",
       "        start: function(event, ui) {\n",
       "            pass_mouse_events = false;\n",
       "        },\n",
       "        resize: function(event, ui) {\n",
       "            fig.request_resize(ui.size.width, ui.size.height);\n",
       "        },\n",
       "        stop: function(event, ui) {\n",
       "            pass_mouse_events = true;\n",
       "            fig.request_resize(ui.size.width, ui.size.height);\n",
       "        },\n",
       "    });\n",
       "\n",
       "    function mouse_event_fn(event) {\n",
       "        if (pass_mouse_events)\n",
       "            return fig.mouse_event(event, event['data']);\n",
       "    }\n",
       "\n",
       "    rubberband.mousedown('button_press', mouse_event_fn);\n",
       "    rubberband.mouseup('button_release', mouse_event_fn);\n",
       "    // Throttle sequential mouse events to 1 every 20ms.\n",
       "    rubberband.mousemove('motion_notify', mouse_event_fn);\n",
       "\n",
       "    rubberband.mouseenter('figure_enter', mouse_event_fn);\n",
       "    rubberband.mouseleave('figure_leave', mouse_event_fn);\n",
       "\n",
       "    canvas_div.on(\"wheel\", function (event) {\n",
       "        event = event.originalEvent;\n",
       "        event['data'] = 'scroll'\n",
       "        if (event.deltaY < 0) {\n",
       "            event.step = 1;\n",
       "        } else {\n",
       "            event.step = -1;\n",
       "        }\n",
       "        mouse_event_fn(event);\n",
       "    });\n",
       "\n",
       "    canvas_div.append(canvas);\n",
       "    canvas_div.append(rubberband);\n",
       "\n",
       "    this.rubberband = rubberband;\n",
       "    this.rubberband_canvas = rubberband[0];\n",
       "    this.rubberband_context = rubberband[0].getContext(\"2d\");\n",
       "    this.rubberband_context.strokeStyle = \"#000000\";\n",
       "\n",
       "    this._resize_canvas = function(width, height) {\n",
       "        // Keep the size of the canvas, canvas container, and rubber band\n",
       "        // canvas in synch.\n",
       "        canvas_div.css('width', width)\n",
       "        canvas_div.css('height', height)\n",
       "\n",
       "        canvas.attr('width', width * mpl.ratio);\n",
       "        canvas.attr('height', height * mpl.ratio);\n",
       "        canvas.attr('style', 'width: ' + width + 'px; height: ' + height + 'px;');\n",
       "\n",
       "        rubberband.attr('width', width);\n",
       "        rubberband.attr('height', height);\n",
       "    }\n",
       "\n",
       "    // Set the figure to an initial 600x600px, this will subsequently be updated\n",
       "    // upon first draw.\n",
       "    this._resize_canvas(600, 600);\n",
       "\n",
       "    // Disable right mouse context menu.\n",
       "    $(this.rubberband_canvas).bind(\"contextmenu\",function(e){\n",
       "        return false;\n",
       "    });\n",
       "\n",
       "    function set_focus () {\n",
       "        canvas.focus();\n",
       "        canvas_div.focus();\n",
       "    }\n",
       "\n",
       "    window.setTimeout(set_focus, 100);\n",
       "}\n",
       "\n",
       "mpl.figure.prototype._init_toolbar = function() {\n",
       "    var fig = this;\n",
       "\n",
       "    var nav_element = $('<div/>');\n",
       "    nav_element.attr('style', 'width: 100%');\n",
       "    this.root.append(nav_element);\n",
       "\n",
       "    // Define a callback function for later on.\n",
       "    function toolbar_event(event) {\n",
       "        return fig.toolbar_button_onclick(event['data']);\n",
       "    }\n",
       "    function toolbar_mouse_event(event) {\n",
       "        return fig.toolbar_button_onmouseover(event['data']);\n",
       "    }\n",
       "\n",
       "    for(var toolbar_ind in mpl.toolbar_items) {\n",
       "        var name = mpl.toolbar_items[toolbar_ind][0];\n",
       "        var tooltip = mpl.toolbar_items[toolbar_ind][1];\n",
       "        var image = mpl.toolbar_items[toolbar_ind][2];\n",
       "        var method_name = mpl.toolbar_items[toolbar_ind][3];\n",
       "\n",
       "        if (!name) {\n",
       "            // put a spacer in here.\n",
       "            continue;\n",
       "        }\n",
       "        var button = $('<button/>');\n",
       "        button.addClass('ui-button ui-widget ui-state-default ui-corner-all ' +\n",
       "                        'ui-button-icon-only');\n",
       "        button.attr('role', 'button');\n",
       "        button.attr('aria-disabled', 'false');\n",
       "        button.click(method_name, toolbar_event);\n",
       "        button.mouseover(tooltip, toolbar_mouse_event);\n",
       "\n",
       "        var icon_img = $('<span/>');\n",
       "        icon_img.addClass('ui-button-icon-primary ui-icon');\n",
       "        icon_img.addClass(image);\n",
       "        icon_img.addClass('ui-corner-all');\n",
       "\n",
       "        var tooltip_span = $('<span/>');\n",
       "        tooltip_span.addClass('ui-button-text');\n",
       "        tooltip_span.html(tooltip);\n",
       "\n",
       "        button.append(icon_img);\n",
       "        button.append(tooltip_span);\n",
       "\n",
       "        nav_element.append(button);\n",
       "    }\n",
       "\n",
       "    var fmt_picker_span = $('<span/>');\n",
       "\n",
       "    var fmt_picker = $('<select/>');\n",
       "    fmt_picker.addClass('mpl-toolbar-option ui-widget ui-widget-content');\n",
       "    fmt_picker_span.append(fmt_picker);\n",
       "    nav_element.append(fmt_picker_span);\n",
       "    this.format_dropdown = fmt_picker[0];\n",
       "\n",
       "    for (var ind in mpl.extensions) {\n",
       "        var fmt = mpl.extensions[ind];\n",
       "        var option = $(\n",
       "            '<option/>', {selected: fmt === mpl.default_extension}).html(fmt);\n",
       "        fmt_picker.append(option);\n",
       "    }\n",
       "\n",
       "    // Add hover states to the ui-buttons\n",
       "    $( \".ui-button\" ).hover(\n",
       "        function() { $(this).addClass(\"ui-state-hover\");},\n",
       "        function() { $(this).removeClass(\"ui-state-hover\");}\n",
       "    );\n",
       "\n",
       "    var status_bar = $('<span class=\"mpl-message\"/>');\n",
       "    nav_element.append(status_bar);\n",
       "    this.message = status_bar[0];\n",
       "}\n",
       "\n",
       "mpl.figure.prototype.request_resize = function(x_pixels, y_pixels) {\n",
       "    // Request matplotlib to resize the figure. Matplotlib will then trigger a resize in the client,\n",
       "    // which will in turn request a refresh of the image.\n",
       "    this.send_message('resize', {'width': x_pixels, 'height': y_pixels});\n",
       "}\n",
       "\n",
       "mpl.figure.prototype.send_message = function(type, properties) {\n",
       "    properties['type'] = type;\n",
       "    properties['figure_id'] = this.id;\n",
       "    this.ws.send(JSON.stringify(properties));\n",
       "}\n",
       "\n",
       "mpl.figure.prototype.send_draw_message = function() {\n",
       "    if (!this.waiting) {\n",
       "        this.waiting = true;\n",
       "        this.ws.send(JSON.stringify({type: \"draw\", figure_id: this.id}));\n",
       "    }\n",
       "}\n",
       "\n",
       "\n",
       "mpl.figure.prototype.handle_save = function(fig, msg) {\n",
       "    var format_dropdown = fig.format_dropdown;\n",
       "    var format = format_dropdown.options[format_dropdown.selectedIndex].value;\n",
       "    fig.ondownload(fig, format);\n",
       "}\n",
       "\n",
       "\n",
       "mpl.figure.prototype.handle_resize = function(fig, msg) {\n",
       "    var size = msg['size'];\n",
       "    if (size[0] != fig.canvas.width || size[1] != fig.canvas.height) {\n",
       "        fig._resize_canvas(size[0], size[1]);\n",
       "        fig.send_message(\"refresh\", {});\n",
       "    };\n",
       "}\n",
       "\n",
       "mpl.figure.prototype.handle_rubberband = function(fig, msg) {\n",
       "    var x0 = msg['x0'] / mpl.ratio;\n",
       "    var y0 = (fig.canvas.height - msg['y0']) / mpl.ratio;\n",
       "    var x1 = msg['x1'] / mpl.ratio;\n",
       "    var y1 = (fig.canvas.height - msg['y1']) / mpl.ratio;\n",
       "    x0 = Math.floor(x0) + 0.5;\n",
       "    y0 = Math.floor(y0) + 0.5;\n",
       "    x1 = Math.floor(x1) + 0.5;\n",
       "    y1 = Math.floor(y1) + 0.5;\n",
       "    var min_x = Math.min(x0, x1);\n",
       "    var min_y = Math.min(y0, y1);\n",
       "    var width = Math.abs(x1 - x0);\n",
       "    var height = Math.abs(y1 - y0);\n",
       "\n",
       "    fig.rubberband_context.clearRect(\n",
       "        0, 0, fig.canvas.width / mpl.ratio, fig.canvas.height / mpl.ratio);\n",
       "\n",
       "    fig.rubberband_context.strokeRect(min_x, min_y, width, height);\n",
       "}\n",
       "\n",
       "mpl.figure.prototype.handle_figure_label = function(fig, msg) {\n",
       "    // Updates the figure title.\n",
       "    fig.header.textContent = msg['label'];\n",
       "}\n",
       "\n",
       "mpl.figure.prototype.handle_cursor = function(fig, msg) {\n",
       "    var cursor = msg['cursor'];\n",
       "    switch(cursor)\n",
       "    {\n",
       "    case 0:\n",
       "        cursor = 'pointer';\n",
       "        break;\n",
       "    case 1:\n",
       "        cursor = 'default';\n",
       "        break;\n",
       "    case 2:\n",
       "        cursor = 'crosshair';\n",
       "        break;\n",
       "    case 3:\n",
       "        cursor = 'move';\n",
       "        break;\n",
       "    }\n",
       "    fig.rubberband_canvas.style.cursor = cursor;\n",
       "}\n",
       "\n",
       "mpl.figure.prototype.handle_message = function(fig, msg) {\n",
       "    fig.message.textContent = msg['message'];\n",
       "}\n",
       "\n",
       "mpl.figure.prototype.handle_draw = function(fig, msg) {\n",
       "    // Request the server to send over a new figure.\n",
       "    fig.send_draw_message();\n",
       "}\n",
       "\n",
       "mpl.figure.prototype.handle_image_mode = function(fig, msg) {\n",
       "    fig.image_mode = msg['mode'];\n",
       "}\n",
       "\n",
       "mpl.figure.prototype.updated_canvas_event = function() {\n",
       "    // Called whenever the canvas gets updated.\n",
       "    this.send_message(\"ack\", {});\n",
       "}\n",
       "\n",
       "// A function to construct a web socket function for onmessage handling.\n",
       "// Called in the figure constructor.\n",
       "mpl.figure.prototype._make_on_message_function = function(fig) {\n",
       "    return function socket_on_message(evt) {\n",
       "        if (evt.data instanceof Blob) {\n",
       "            /* FIXME: We get \"Resource interpreted as Image but\n",
       "             * transferred with MIME type text/plain:\" errors on\n",
       "             * Chrome.  But how to set the MIME type?  It doesn't seem\n",
       "             * to be part of the websocket stream */\n",
       "            evt.data.type = \"image/png\";\n",
       "\n",
       "            /* Free the memory for the previous frames */\n",
       "            if (fig.imageObj.src) {\n",
       "                (window.URL || window.webkitURL).revokeObjectURL(\n",
       "                    fig.imageObj.src);\n",
       "            }\n",
       "\n",
       "            fig.imageObj.src = (window.URL || window.webkitURL).createObjectURL(\n",
       "                evt.data);\n",
       "            fig.updated_canvas_event();\n",
       "            fig.waiting = false;\n",
       "            return;\n",
       "        }\n",
       "        else if (typeof evt.data === 'string' && evt.data.slice(0, 21) == \"data:image/png;base64\") {\n",
       "            fig.imageObj.src = evt.data;\n",
       "            fig.updated_canvas_event();\n",
       "            fig.waiting = false;\n",
       "            return;\n",
       "        }\n",
       "\n",
       "        var msg = JSON.parse(evt.data);\n",
       "        var msg_type = msg['type'];\n",
       "\n",
       "        // Call the  \"handle_{type}\" callback, which takes\n",
       "        // the figure and JSON message as its only arguments.\n",
       "        try {\n",
       "            var callback = fig[\"handle_\" + msg_type];\n",
       "        } catch (e) {\n",
       "            console.log(\"No handler for the '\" + msg_type + \"' message type: \", msg);\n",
       "            return;\n",
       "        }\n",
       "\n",
       "        if (callback) {\n",
       "            try {\n",
       "                // console.log(\"Handling '\" + msg_type + \"' message: \", msg);\n",
       "                callback(fig, msg);\n",
       "            } catch (e) {\n",
       "                console.log(\"Exception inside the 'handler_\" + msg_type + \"' callback:\", e, e.stack, msg);\n",
       "            }\n",
       "        }\n",
       "    };\n",
       "}\n",
       "\n",
       "// from http://stackoverflow.com/questions/1114465/getting-mouse-location-in-canvas\n",
       "mpl.findpos = function(e) {\n",
       "    //this section is from http://www.quirksmode.org/js/events_properties.html\n",
       "    var targ;\n",
       "    if (!e)\n",
       "        e = window.event;\n",
       "    if (e.target)\n",
       "        targ = e.target;\n",
       "    else if (e.srcElement)\n",
       "        targ = e.srcElement;\n",
       "    if (targ.nodeType == 3) // defeat Safari bug\n",
       "        targ = targ.parentNode;\n",
       "\n",
       "    // jQuery normalizes the pageX and pageY\n",
       "    // pageX,Y are the mouse positions relative to the document\n",
       "    // offset() returns the position of the element relative to the document\n",
       "    var x = e.pageX - $(targ).offset().left;\n",
       "    var y = e.pageY - $(targ).offset().top;\n",
       "\n",
       "    return {\"x\": x, \"y\": y};\n",
       "};\n",
       "\n",
       "/*\n",
       " * return a copy of an object with only non-object keys\n",
       " * we need this to avoid circular references\n",
       " * http://stackoverflow.com/a/24161582/3208463\n",
       " */\n",
       "function simpleKeys (original) {\n",
       "  return Object.keys(original).reduce(function (obj, key) {\n",
       "    if (typeof original[key] !== 'object')\n",
       "        obj[key] = original[key]\n",
       "    return obj;\n",
       "  }, {});\n",
       "}\n",
       "\n",
       "mpl.figure.prototype.mouse_event = function(event, name) {\n",
       "    var canvas_pos = mpl.findpos(event)\n",
       "\n",
       "    if (name === 'button_press')\n",
       "    {\n",
       "        this.canvas.focus();\n",
       "        this.canvas_div.focus();\n",
       "    }\n",
       "\n",
       "    var x = canvas_pos.x * mpl.ratio;\n",
       "    var y = canvas_pos.y * mpl.ratio;\n",
       "\n",
       "    this.send_message(name, {x: x, y: y, button: event.button,\n",
       "                             step: event.step,\n",
       "                             guiEvent: simpleKeys(event)});\n",
       "\n",
       "    /* This prevents the web browser from automatically changing to\n",
       "     * the text insertion cursor when the button is pressed.  We want\n",
       "     * to control all of the cursor setting manually through the\n",
       "     * 'cursor' event from matplotlib */\n",
       "    event.preventDefault();\n",
       "    return false;\n",
       "}\n",
       "\n",
       "mpl.figure.prototype._key_event_extra = function(event, name) {\n",
       "    // Handle any extra behaviour associated with a key event\n",
       "}\n",
       "\n",
       "mpl.figure.prototype.key_event = function(event, name) {\n",
       "\n",
       "    // Prevent repeat events\n",
       "    if (name == 'key_press')\n",
       "    {\n",
       "        if (event.which === this._key)\n",
       "            return;\n",
       "        else\n",
       "            this._key = event.which;\n",
       "    }\n",
       "    if (name == 'key_release')\n",
       "        this._key = null;\n",
       "\n",
       "    var value = '';\n",
       "    if (event.ctrlKey && event.which != 17)\n",
       "        value += \"ctrl+\";\n",
       "    if (event.altKey && event.which != 18)\n",
       "        value += \"alt+\";\n",
       "    if (event.shiftKey && event.which != 16)\n",
       "        value += \"shift+\";\n",
       "\n",
       "    value += 'k';\n",
       "    value += event.which.toString();\n",
       "\n",
       "    this._key_event_extra(event, name);\n",
       "\n",
       "    this.send_message(name, {key: value,\n",
       "                             guiEvent: simpleKeys(event)});\n",
       "    return false;\n",
       "}\n",
       "\n",
       "mpl.figure.prototype.toolbar_button_onclick = function(name) {\n",
       "    if (name == 'download') {\n",
       "        this.handle_save(this, null);\n",
       "    } else {\n",
       "        this.send_message(\"toolbar_button\", {name: name});\n",
       "    }\n",
       "};\n",
       "\n",
       "mpl.figure.prototype.toolbar_button_onmouseover = function(tooltip) {\n",
       "    this.message.textContent = tooltip;\n",
       "};\n",
       "mpl.toolbar_items = [[\"Home\", \"Reset original view\", \"fa fa-home icon-home\", \"home\"], [\"Back\", \"Back to previous view\", \"fa fa-arrow-left icon-arrow-left\", \"back\"], [\"Forward\", \"Forward to next view\", \"fa fa-arrow-right icon-arrow-right\", \"forward\"], [\"\", \"\", \"\", \"\"], [\"Pan\", \"Pan axes with left mouse, zoom with right\", \"fa fa-arrows icon-move\", \"pan\"], [\"Zoom\", \"Zoom to rectangle\", \"fa fa-square-o icon-check-empty\", \"zoom\"], [\"\", \"\", \"\", \"\"], [\"Download\", \"Download plot\", \"fa fa-floppy-o icon-save\", \"download\"]];\n",
       "\n",
       "mpl.extensions = [\"eps\", \"jpeg\", \"pdf\", \"png\", \"ps\", \"raw\", \"svg\", \"tif\"];\n",
       "\n",
       "mpl.default_extension = \"png\";var comm_websocket_adapter = function(comm) {\n",
       "    // Create a \"websocket\"-like object which calls the given IPython comm\n",
       "    // object with the appropriate methods. Currently this is a non binary\n",
       "    // socket, so there is still some room for performance tuning.\n",
       "    var ws = {};\n",
       "\n",
       "    ws.close = function() {\n",
       "        comm.close()\n",
       "    };\n",
       "    ws.send = function(m) {\n",
       "        //console.log('sending', m);\n",
       "        comm.send(m);\n",
       "    };\n",
       "    // Register the callback with on_msg.\n",
       "    comm.on_msg(function(msg) {\n",
       "        //console.log('receiving', msg['content']['data'], msg);\n",
       "        // Pass the mpl event to the overridden (by mpl) onmessage function.\n",
       "        ws.onmessage(msg['content']['data'])\n",
       "    });\n",
       "    return ws;\n",
       "}\n",
       "\n",
       "mpl.mpl_figure_comm = function(comm, msg) {\n",
       "    // This is the function which gets called when the mpl process\n",
       "    // starts-up an IPython Comm through the \"matplotlib\" channel.\n",
       "\n",
       "    var id = msg.content.data.id;\n",
       "    // Get hold of the div created by the display call when the Comm\n",
       "    // socket was opened in Python.\n",
       "    var element = $(\"#\" + id);\n",
       "    var ws_proxy = comm_websocket_adapter(comm)\n",
       "\n",
       "    function ondownload(figure, format) {\n",
       "        window.open(figure.imageObj.src);\n",
       "    }\n",
       "\n",
       "    var fig = new mpl.figure(id, ws_proxy,\n",
       "                           ondownload,\n",
       "                           element.get(0));\n",
       "\n",
       "    // Call onopen now - mpl needs it, as it is assuming we've passed it a real\n",
       "    // web socket which is closed, not our websocket->open comm proxy.\n",
       "    ws_proxy.onopen();\n",
       "\n",
       "    fig.parent_element = element.get(0);\n",
       "    fig.cell_info = mpl.find_output_cell(\"<div id='\" + id + \"'></div>\");\n",
       "    if (!fig.cell_info) {\n",
       "        console.error(\"Failed to find cell for figure\", id, fig);\n",
       "        return;\n",
       "    }\n",
       "\n",
       "    var output_index = fig.cell_info[2]\n",
       "    var cell = fig.cell_info[0];\n",
       "\n",
       "};\n",
       "\n",
       "mpl.figure.prototype.handle_close = function(fig, msg) {\n",
       "    var width = fig.canvas.width/mpl.ratio\n",
       "    fig.root.unbind('remove')\n",
       "\n",
       "    // Update the output cell to use the data from the current canvas.\n",
       "    fig.push_to_output();\n",
       "    var dataURL = fig.canvas.toDataURL();\n",
       "    // Re-enable the keyboard manager in IPython - without this line, in FF,\n",
       "    // the notebook keyboard shortcuts fail.\n",
       "    IPython.keyboard_manager.enable()\n",
       "    $(fig.parent_element).html('<img src=\"' + dataURL + '\" width=\"' + width + '\">');\n",
       "    fig.close_ws(fig, msg);\n",
       "}\n",
       "\n",
       "mpl.figure.prototype.close_ws = function(fig, msg){\n",
       "    fig.send_message('closing', msg);\n",
       "    // fig.ws.close()\n",
       "}\n",
       "\n",
       "mpl.figure.prototype.push_to_output = function(remove_interactive) {\n",
       "    // Turn the data on the canvas into data in the output cell.\n",
       "    var width = this.canvas.width/mpl.ratio\n",
       "    var dataURL = this.canvas.toDataURL();\n",
       "    this.cell_info[1]['text/html'] = '<img src=\"' + dataURL + '\" width=\"' + width + '\">';\n",
       "}\n",
       "\n",
       "mpl.figure.prototype.updated_canvas_event = function() {\n",
       "    // Tell IPython that the notebook contents must change.\n",
       "    IPython.notebook.set_dirty(true);\n",
       "    this.send_message(\"ack\", {});\n",
       "    var fig = this;\n",
       "    // Wait a second, then push the new image to the DOM so\n",
       "    // that it is saved nicely (might be nice to debounce this).\n",
       "    setTimeout(function () { fig.push_to_output() }, 1000);\n",
       "}\n",
       "\n",
       "mpl.figure.prototype._init_toolbar = function() {\n",
       "    var fig = this;\n",
       "\n",
       "    var nav_element = $('<div/>');\n",
       "    nav_element.attr('style', 'width: 100%');\n",
       "    this.root.append(nav_element);\n",
       "\n",
       "    // Define a callback function for later on.\n",
       "    function toolbar_event(event) {\n",
       "        return fig.toolbar_button_onclick(event['data']);\n",
       "    }\n",
       "    function toolbar_mouse_event(event) {\n",
       "        return fig.toolbar_button_onmouseover(event['data']);\n",
       "    }\n",
       "\n",
       "    for(var toolbar_ind in mpl.toolbar_items){\n",
       "        var name = mpl.toolbar_items[toolbar_ind][0];\n",
       "        var tooltip = mpl.toolbar_items[toolbar_ind][1];\n",
       "        var image = mpl.toolbar_items[toolbar_ind][2];\n",
       "        var method_name = mpl.toolbar_items[toolbar_ind][3];\n",
       "\n",
       "        if (!name) { continue; };\n",
       "\n",
       "        var button = $('<button class=\"btn btn-default\" href=\"#\" title=\"' + name + '\"><i class=\"fa ' + image + ' fa-lg\"></i></button>');\n",
       "        button.click(method_name, toolbar_event);\n",
       "        button.mouseover(tooltip, toolbar_mouse_event);\n",
       "        nav_element.append(button);\n",
       "    }\n",
       "\n",
       "    // Add the status bar.\n",
       "    var status_bar = $('<span class=\"mpl-message\" style=\"text-align:right; float: right;\"/>');\n",
       "    nav_element.append(status_bar);\n",
       "    this.message = status_bar[0];\n",
       "\n",
       "    // Add the close button to the window.\n",
       "    var buttongrp = $('<div class=\"btn-group inline pull-right\"></div>');\n",
       "    var button = $('<button class=\"btn btn-mini btn-primary\" href=\"#\" title=\"Stop Interaction\"><i class=\"fa fa-power-off icon-remove icon-large\"></i></button>');\n",
       "    button.click(function (evt) { fig.handle_close(fig, {}); } );\n",
       "    button.mouseover('Stop Interaction', toolbar_mouse_event);\n",
       "    buttongrp.append(button);\n",
       "    var titlebar = this.root.find($('.ui-dialog-titlebar'));\n",
       "    titlebar.prepend(buttongrp);\n",
       "}\n",
       "\n",
       "mpl.figure.prototype._root_extra_style = function(el){\n",
       "    var fig = this\n",
       "    el.on(\"remove\", function(){\n",
       "\tfig.close_ws(fig, {});\n",
       "    });\n",
       "}\n",
       "\n",
       "mpl.figure.prototype._canvas_extra_style = function(el){\n",
       "    // this is important to make the div 'focusable\n",
       "    el.attr('tabindex', 0)\n",
       "    // reach out to IPython and tell the keyboard manager to turn it's self\n",
       "    // off when our div gets focus\n",
       "\n",
       "    // location in version 3\n",
       "    if (IPython.notebook.keyboard_manager) {\n",
       "        IPython.notebook.keyboard_manager.register_events(el);\n",
       "    }\n",
       "    else {\n",
       "        // location in version 2\n",
       "        IPython.keyboard_manager.register_events(el);\n",
       "    }\n",
       "\n",
       "}\n",
       "\n",
       "mpl.figure.prototype._key_event_extra = function(event, name) {\n",
       "    var manager = IPython.notebook.keyboard_manager;\n",
       "    if (!manager)\n",
       "        manager = IPython.keyboard_manager;\n",
       "\n",
       "    // Check for shift+enter\n",
       "    if (event.shiftKey && event.which == 13) {\n",
       "        this.canvas_div.blur();\n",
       "        // select the cell after this one\n",
       "        var index = IPython.notebook.find_cell_index(this.cell_info[0]);\n",
       "        IPython.notebook.select(index + 1);\n",
       "    }\n",
       "}\n",
       "\n",
       "mpl.figure.prototype.handle_save = function(fig, msg) {\n",
       "    fig.ondownload(fig, null);\n",
       "}\n",
       "\n",
       "\n",
       "mpl.find_output_cell = function(html_output) {\n",
       "    // Return the cell and output element which can be found *uniquely* in the notebook.\n",
       "    // Note - this is a bit hacky, but it is done because the \"notebook_saving.Notebook\"\n",
       "    // IPython event is triggered only after the cells have been serialised, which for\n",
       "    // our purposes (turning an active figure into a static one), is too late.\n",
       "    var cells = IPython.notebook.get_cells();\n",
       "    var ncells = cells.length;\n",
       "    for (var i=0; i<ncells; i++) {\n",
       "        var cell = cells[i];\n",
       "        if (cell.cell_type === 'code'){\n",
       "            for (var j=0; j<cell.output_area.outputs.length; j++) {\n",
       "                var data = cell.output_area.outputs[j];\n",
       "                if (data.data) {\n",
       "                    // IPython >= 3 moved mimebundle to data attribute of output\n",
       "                    data = data.data;\n",
       "                }\n",
       "                if (data['text/html'] == html_output) {\n",
       "                    return [cell, data, j];\n",
       "                }\n",
       "            }\n",
       "        }\n",
       "    }\n",
       "}\n",
       "\n",
       "// Register the function which deals with the matplotlib target/channel.\n",
       "// The kernel may be null if the page has been refreshed.\n",
       "if (IPython.notebook.kernel != null) {\n",
       "    IPython.notebook.kernel.comm_manager.register_target('matplotlib', mpl.mpl_figure_comm);\n",
       "}\n"
      ],
      "text/plain": [
       "<IPython.core.display.Javascript object>"
      ]
     },
     "metadata": {},
     "output_type": "display_data"
    },
    {
     "data": {
      "text/html": [
       "<img src=\"data:image/png;base64,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\" width=\"720\">"
      ],
      "text/plain": [
       "<IPython.core.display.HTML object>"
      ]
     },
     "metadata": {},
     "output_type": "display_data"
    },
    {
     "data": {
      "application/vnd.jupyter.widget-view+json": {
       "model_id": "db3a2f95d86b4a209e4edb147ad6ae90",
       "version_major": 2,
       "version_minor": 0
      },
      "text/plain": [
       "IntSlider(value=10, min=1)"
      ]
     },
     "metadata": {},
     "output_type": "display_data"
    },
    {
     "data": {
      "application/vnd.jupyter.widget-view+json": {
       "model_id": "a51d2b817bae460d832e68c7432c8619",
       "version_major": 2,
       "version_minor": 0
      },
      "text/plain": [
       "Label(value='A value is: 1.0')"
      ]
     },
     "metadata": {},
     "output_type": "display_data"
    },
    {
     "data": {
      "application/vnd.jupyter.widget-view+json": {
       "model_id": "f5bf94aa6e4e4b1c9c13d063eca588b2",
       "version_major": 2,
       "version_minor": 0
      },
      "text/plain": [
       "IntSlider(value=10, min=1)"
      ]
     },
     "metadata": {},
     "output_type": "display_data"
    },
    {
     "data": {
      "application/vnd.jupyter.widget-view+json": {
       "model_id": "28f1309d087f43a8b88e8a928180fc1a",
       "version_major": 2,
       "version_minor": 0
      },
      "text/plain": [
       "Label(value='log10(B) value is: 1.0')"
      ]
     },
     "metadata": {},
     "output_type": "display_data"
    }
   ],
   "source": [
    "from IPython.display import display\n",
    "%matplotlib notebook\n",
    "%matplotlib notebook \n",
    "\n",
    "r = wr.value; \n",
    "u = np.logspace(-4, 0.25, 41)\n",
    "fig = plt.figure(figsize=(10,5)) \n",
    "ax = fig.add_subplot()\n",
    "plt.plot(1/u, exp1(u), label='Theis')\n",
    "ax.set_xscale('log'); ax.set_yscale('log')\n",
    "plt.show();\n",
    "\n",
    "def update_plot(shifty = 10, shiftx = 10):\n",
    "    if r <= 50:\n",
    "        plt.plot (10**(shiftx/10)*df['t1']/24/60/r/r,shifty/10*df['s1'],'.C1')\n",
    "    else:\n",
    "        plt.plot (10**(shiftx/10)*df['t2']/24/60/r/r,shifty/10*df['s2'], '.C1')\n",
    "        \n",
    "    plt.grid()\n",
    "    fig.canvas.draw_idle()\n",
    "\n",
    "# prepare widgets\n",
    "shifty_slider = widgets.IntSlider(10, min = 1, max = 100)\n",
    "shifty_label = widgets.Label(value = 'A value is: ' + str(shifty_slider.value/10))\n",
    "display(shifty_slider, shifty_label)\n",
    "shiftx_slider = widgets.IntSlider(10, min = 1, max = 100)\n",
    "shiftx_label = widgets.Label(value = 'log10(B) value is: ' + str(shiftx_slider.value/10))\n",
    "display(shiftx_slider, shiftx_label)\n",
    "\n",
    "# handle shifty update\n",
    "def update_shifty(value):\n",
    "    plt.plot (10**(shiftx_slider.value/10)*df['t1']/24/60/r/r,value['old']/10*df['s1'], '.', color='0.7')\n",
    "    update_plot(shifty = value['new'],shiftx = shiftx_slider.value)\n",
    "    shifty_label.value = 'A value is: ' + str(value.new/10)\n",
    "\n",
    "# handle shiftx update\n",
    "def update_shiftx(value):\n",
    "    plt.plot (10**(value['old']/10)*df['t1']/24/60/r/r,shifty_slider.value/10*df['s1'], '.', color='0.7')\n",
    "    update_plot(shifty = shifty_slider.value,shiftx = value['new'])\n",
    "    shiftx_label.value = 'log10(B) value is: ' + str(value.new/10)\n",
    "    \n",
    "shiftx_slider.observe(update_shiftx, names = 'value')\n",
    "shifty_slider.observe(update_shifty, names = 'value') "
   ]
  },
  {
   "cell_type": "markdown",
   "metadata": {},
   "source": [
    "Run the next cell to show the result for transmissivity and storativity!"
   ]
  },
  {
   "cell_type": "code",
   "execution_count": 36,
   "metadata": {
    "hide_input": true,
    "scrolled": true
   },
   "outputs": [
    {
     "data": {
      "image/png": "[encoded data removed]",
      "text/plain": [
       "<Figure size 720x360 with 1 Axes>"
      ]
     },
     "metadata": {
      "needs_background": "light"
     },
     "output_type": "display_data"
    }
   ],
   "source": [
    "%matplotlib inline\n",
    "r = wr.value\n",
    "fig = plt.figure(figsize=(10,5)) \n",
    "ax = fig.add_subplot()\n",
    "plt.title('Oude Korendijk pumping test', fontsize = 14)\n",
    "plt.plot(1/u, exp1(u), label='Theis')\n",
    "ax.set_xscale('log'); ax.set_yscale('log'); \n",
    "plt.xlabel('$1/u$ and $B \\, t/r^2$', fontsize=12)\n",
    "plt.ylabel('W(u) and $A \\cdot s$',fontsize=12)\n",
    "update_plot(shifty = shifty_slider.value,shiftx = shiftx_slider.value)\n",
    "kD = shiftx_slider.value/10 * Q /4 /np.pi   # print('T = {:.0f} m2/d'.format(kD))\n",
    "Sc = 4 * kD / (shifty_slider.value/10)         #print('S = {:.2e} [-]'.format(S))\n",
    "ax.text (380,0.23,'$T =%.2e m^2/d$' % (kD, ),fontsize=12)\n",
    "ax.text (380,0.15,'$S =%.2e $' % (Sc, ),fontsize=12)\n",
    "plt.show()"
   ]
  },
  {
   "cell_type": "markdown",
   "metadata": {},
   "source": [
    "## Error Measures\n",
    "The residual is a quantitative measure for the goodness of the fit. It is defined by: "
   ]
  },
  {
   "cell_type": "markdown",
   "metadata": {},
   "source": [
    "$$ res = \\sqrt{\\sum{(s_{obs}-s_{calc})^2}} $$"
   ]
  },
  {
   "cell_type": "markdown",
   "metadata": {},
   "source": [
    "where the sum adds up the quadratic deviations over all values of the time series. $s_{obs}$ is the observed drawdown, while $s_{calc}$ denotes the drawdown calculated by the Theis formula for the optimized $T$ and $S$ values. The rssidual is thus a good measure to compare results for the same drawdown series. However, if depends on the number of observations and thus is not feasable for comparison of results from different obtained from different observation points or different pumping tests. Alternatively one may take the standard deviation, which is defined as the squareroot of the mean quadratic deviation:"
   ]
  },
  {
   "cell_type": "markdown",
   "metadata": {},
   "source": [
    "$$ stdev = \\sqrt{mean((s_{obs}-s_{calc})^2)} $$"
   ]
  },
  {
   "cell_type": "markdown",
   "metadata": {},
   "source": [
    "The standard deviation makes results from different observation points and pumping tests, at the same or different boreholes, comparable. Click the following buttons to get the measures of the fit. "
   ]
  },
  {
   "cell_type": "code",
   "execution_count": 27,
   "metadata": {
    "hide_input": true,
    "scrolled": false
   },
   "outputs": [
    {
     "data": {
      "application/vnd.jupyter.widget-view+json": {
       "model_id": "4d8b65eb67c84419a007ffaee3aaa7ca",
       "version_major": 2,
       "version_minor": 0
      },
      "text/plain": [
       "HBox(children=(Button(description='Residual', style=ButtonStyle()), Button(description='Standard deviation', s…"
      ]
     },
     "metadata": {},
     "output_type": "display_data"
    },
    {
     "data": {
      "text/plain": [
       "'Residual = 3.989e+00 for T = 440.0 and S = 2.588e+02'"
      ]
     },
     "metadata": {},
     "output_type": "display_data"
    },
    {
     "data": {
      "text/plain": [
       "'Standard deviation = 6.943e-01 for T = 440.0 and S = 2.588e+02'"
      ]
     },
     "metadata": {},
     "output_type": "display_data"
    }
   ],
   "source": [
    "def rescalc():\n",
    "    global kD,Sc\n",
    "    D = kD/Sc; r = wr.value; Q = wQ.value\n",
    "    if r <= 50: \n",
    "        tfit = df['t1']/24/60; sfit = df['s1']\n",
    "        tfit = tfit[:-1]; sfit = sfit[:-1]  # one entry less in time series                  \n",
    "    else:\n",
    "        tfit = df['t2']/24/60; sfit = df['s2']\n",
    "\n",
    "    u = (((r*r)/4)/D)/pd.to_numeric(tfit)\n",
    "    s = Q*exp1(u)/4/np.pi/kD\n",
    "    dev = pd.to_numeric(sfit)-s; dev2 = dev*dev\n",
    "    res = np.sqrt(sum(dev2)) \n",
    "    stde = np.sqrt(dev2.mean())\n",
    "    return [res,stde]\n",
    "\n",
    "def on_wres_clicked(self):   \n",
    "    [res,stde] = rescalc()\n",
    "    display ('Residual = %.3e for T = %.1f and S = %.3e' % (res,kD,Sc))\n",
    "    \n",
    "def on_wstd_clicked(self): \n",
    "    [res,stde] = rescalc()\n",
    "    display ('Standard deviation = %.3e for T = %.1f and S = %.3e'% (stde,kD,Sc));\n",
    "\n",
    "wres = widgets.Button(description='Residual')        \n",
    "wres.on_click(on_wres_clicked) \n",
    "wstd = widgets.Button(description='Standard deviation')        \n",
    "wstd.on_click(on_wstd_clicked)\n",
    "widgets.HBox([wres,wstd])   "
   ]
  },
  {
   "cell_type": "markdown",
   "metadata": {},
   "source": [
    "## Direct Optimization of Transmissivity and Storativity \n",
    "\n",
    "The previous method was inspired by the shifting of the measurements drawn on double log paper over the Theis type curve also drawn on double log paper. However, because we now have a computer, we could just as well directly optimize $T$ and $S$ (instead of $A$ and $B$) by trial and error to find the best match between type curve and measurements.\n",
    "\n",
    "It may then be most convenient to let the type curve as it is and compute $W(u) = \\frac s {Q/(4 \\pi T)}$ and $\\frac 1 u = \\frac {4 T t} {r^2 S}$\n",
    "\n",
    "This is done here."
   ]
  },
  {
   "cell_type": "code",
   "execution_count": 28,
   "metadata": {
    "hide_input": true,
    "scrolled": true
   },
   "outputs": [
    {
     "data": {
      "image/png": "[encoded data removed]",
      "text/plain": [
       "<Figure size 720x360 with 1 Axes>"
      ]
     },
     "metadata": {},
     "output_type": "display_data"
    }
   ],
   "source": [
    "kD = 450\n",
    "S = 0.0002\n",
    "u = np.logspace(-4, 0.25, 41)\n",
    "fig = plt.figure(facecolor='w', figsize=(10,5)); ax = fig.add_subplot()\n",
    "\n",
    "# the Theis type curve\n",
    "plt.plot(1/u, exp1(u), label='Theis')\n",
    "\n",
    "# The measurements\n",
    "r = 30\n",
    "plt.plot (4*kD*df['t1']/24/60/(S*r**2),df['s1']/(Q/(4*np.pi*kD)), '.', label = 'observation H30' )\n",
    "r = 90\n",
    "plt.plot (4*kD*df['t2']/24/60/(S*r**2),df['s2']/(Q/(4*np.pi*kD)), '.', label = 'observation H90' )\n",
    "plt.title('Direct comparison between computed and measured drawdown, $T$={:.0f} m$^2$/d, $S$={:.3e} [-]'.format(kD,S),fontsize=12)\n",
    "plt.xlabel('$1/u$',fontsize=12); plt.ylabel('$W[u]$',fontsize=12)\n",
    "plt.xscale('log'); plt.yscale('log')\n",
    "plt.grid()\n",
    "plt.legend(loc='lower right',fontsize=12);"
   ]
  },
  {
   "cell_type": "markdown",
   "metadata": {},
   "source": [
    "## Parameter Estimation\n",
    "### Confined Aquifer\n",
    "\n",
    "Before we obtimized the two factors $A$ and $B$ by hand. This was relatively straight-forward for this case in which only two parameters were involved. However in more complicated cases, finding the optimum parameter combination by trial and error takes much more effort, and often times is impossible. Therefore, the modern way is to let the computer find the optimum combination of parmeters, which minimizes the difference between the type curve (or the model) and the measurements."
   ]
  },
  {
   "cell_type": "code",
   "execution_count": 29,
   "metadata": {
    "hide_input": true,
    "scrolled": false
   },
   "outputs": [
    {
     "data": {
      "application/vnd.jupyter.widget-view+json": {
       "model_id": "cbca90af57f24aca8ab4e57b27a32d12",
       "version_major": 2,
       "version_minor": 0
      },
      "text/plain": [
       "BoundedFloatText(value=30.0, description='Distance:', max=90.0, min=30.0, step=60.0)"
      ]
     },
     "metadata": {},
     "output_type": "display_data"
    }
   ],
   "source": [
    "w2r = widgets.BoundedFloatText(value=30, min=30, max=90.0, step = 60.0, description='Distance:', disabled=False)\n",
    "w2r"
   ]
  },
  {
   "cell_type": "markdown",
   "metadata": {
    "hide_input": false
   },
   "source": [
    "Enter initial guesses for $T$ and $S$! The unit of transmissivity is derived from the length and time settings above. "
   ]
  },
  {
   "cell_type": "code",
   "execution_count": 30,
   "metadata": {
    "hide_input": true,
    "scrolled": false
   },
   "outputs": [
    {
     "data": {
      "application/vnd.jupyter.widget-view+json": {
       "model_id": "424894ccf9b34151abb2ee5c000ce712",
       "version_major": 2,
       "version_minor": 0
      },
      "text/plain": [
       "HBox(children=(FloatText(value=500.0, description='T:'), FloatText(value=0.0001, description='S:')))"
      ]
     },
     "metadata": {},
     "output_type": "display_data"
    }
   ],
   "source": [
    "wT = widgets.FloatText(value=500, description='T:', min=1, disabled=False)\n",
    "wS = widgets.FloatText(value=1e-4, description='S:', min=1.e-10, disabled=False)\n",
    "widgets.HBox([wT, wS])"
   ]
  },
  {
   "cell_type": "markdown",
   "metadata": {},
   "source": [
    "Do the parameter estimation by running the next cell."
   ]
  },
  {
   "cell_type": "code",
   "execution_count": 31,
   "metadata": {
    "hide_input": true,
    "scrolled": false
   },
   "outputs": [
    {
     "data": {
      "application/vnd.jupyter.widget-view+json": {
       "model_id": "f54e78d6449541129fd036a37e5e4e20",
       "version_major": 2,
       "version_minor": 0
      },
      "text/plain": [
       "VBox(children=(Button(description='Evaluate Theis', style=ButtonStyle()),))"
      ]
     },
     "metadata": {},
     "output_type": "display_data"
    }
   ],
   "source": [
    "from scipy.optimize import fmin\n",
    "Q = wQ.value; r = 30\n",
    "tfit = df['t1'].dropna()/60/24; sfit = df['s1'].dropna()\n",
    "\n",
    "def teval (t,r,T,S,Q):\n",
    "    D = T/S                             # calculate Theis solution\n",
    "    u = (((r*r)/4)/D)/t\n",
    "    s = Q*exp1(u)/4/np.pi/T\n",
    "    return s                            # drawdown \n",
    "    \n",
    "def toptim (x):  \n",
    "    global r,tfit,sfit\n",
    "    T = x[0]; S = x[1] \n",
    "    s = teval (tfit,r,T,S,Q)\n",
    "    res = (s-sfit)\n",
    "    return sum(res*res)                 # function to be minimized\n",
    "\n",
    "def on_weval1_clicked(self):            # convert input data\n",
    "    global r,df,tfit,sfit\n",
    "    print ('Oude Korendijk pumping test') \n",
    "    r = w2r.value; print ('Distance to pumping well: '+str(r))\n",
    "    T = wT.value; print ('Initial transmissivity: '+str(T)) \n",
    "    S = wS.value; print ('Initial storativity: '+str(S))\n",
    "    if r <= 50:   \n",
    "        tfit = df['t1'].dropna()/60/24; sfit = df['s1'].dropna()\n",
    "    else:\n",
    "        tfit = df['t2'].dropna()/60/24; sfit = df['s2'].dropna()                             \n",
    "\n",
    "    # parameter estimation---------------------------------------------------------\n",
    "    [Tfit,Sfit] = fmin (toptim, [T,S])\n",
    "\n",
    "    # post-processing\n",
    "    D = T/S;               #print ('D='+str(D))\n",
    "    s = teval (tfit,r,Tfit,Sfit,Q)\n",
    "    dev = sfit-s                  \n",
    "    dev2 = dev*dev; res = np.sqrt(sum(dev2)) \n",
    "    stde = np.sqrt(dev2.mean())\n",
    "    sr=2*dev.std()                            # to compare with hytool !\n",
    "    #print ('Residual = '+str(res))\n",
    "    t = np.logspace(np.log10(tfit.min()),np.log10(tfit.max()),100)\n",
    "    fig = plt.figure(facecolor='w',figsize=(10,5)); ax = fig.add_subplot()\n",
    "    ax.set_xscale('log')\n",
    "    plt.plot(tfit,sfit,'o',label = 'measured') \n",
    "    plt.plot(t,teval(t,r,Tfit,Sfit,Q),'-', label = 'calculated', lw = 2)\n",
    "    plt.xlabel('time [d]',fontsize=12); plt.ylabel('drawdown [m]',fontsize=12)\n",
    "    plt.title ('Oude Korendijk pumping test',fontsize=14)\n",
    "    plt.grid ()\n",
    "    plt.legend (loc='upper left',fontsize=12)\n",
    "    ax.text (0.04,0.5*sfit.max(),'$T =%.1f m^2/d $' % (Tfit, ),fontsize=12)\n",
    "    ax.text (0.04,0.4*sfit.max(),'$S =%.3e $' % (Sfit, ),fontsize=12)\n",
    "    ax.text (0.04,0.3*sfit.max(),'$res = %.3e $' % (res, ),fontsize=12)\n",
    "    ax.text (0.04,0.2*sfit.max(),'$stdev = %.3e $' % (stde, ),fontsize=12)\n",
    "    ax.text (0.04,0.1*sfit.max(),'$2stdev =%.3e $' % (sr, ),fontsize=12);\n",
    "\n",
    "weval1 = widgets.Button(description='Evaluate Theis')        \n",
    "weval1.on_click(on_weval1_clicked)   \n",
    "widgets.VBox([weval1]) "
   ]
  },
  {
   "cell_type": "markdown",
   "metadata": {},
   "source": [
    "Explore the sensitivity of the results when changing initial values. Check the residual and number of iterations for comparison. Do this for both observation data-sets."
   ]
  },
  {
   "cell_type": "markdown",
   "metadata": {},
   "source": [
    "### Leaky Aquifer"
   ]
  },
  {
   "cell_type": "markdown",
   "metadata": {},
   "source": [
    "For leaky aquifers the drawdown is given by the Hantush well function $W$, which has two arguments:"
   ]
  },
  {
   "cell_type": "markdown",
   "metadata": {},
   "source": [
    "$$ s(r, t) = \\frac Q {4 \\pi T} W(u,r/\\lambda),\\,\\,\\,\\, u = \\frac {r^2 S} {4 T t}$$"
   ]
  },
  {
   "cell_type": "markdown",
   "metadata": {},
   "source": [
    "with $\\lambda=\\sqrt{T\\cdot c}$, where $c$ denotes the resistance of the over-lying semipermeable layer. The physcial unit of resistance is time. The equation was derived assuming an overall source (Hantush & Jacob 1955). Using the more realistic boundary condition at the top of the modelled cross-section Hantush (1967) showed conditions, under which the equation can be taken as a valid approximation.  "
   ]
  },
  {
   "cell_type": "code",
   "execution_count": 32,
   "metadata": {
    "hide_input": true,
    "scrolled": false
   },
   "outputs": [
    {
     "data": {
      "application/vnd.jupyter.widget-view+json": {
       "model_id": "5e3d3131fd324895a24fbff9b9cdbaf0",
       "version_major": 2,
       "version_minor": 0
      },
      "text/plain": [
       "BoundedFloatText(value=30.0, description='Distance:', max=90.0, min=30.0, step=60.0)"
      ]
     },
     "metadata": {},
     "output_type": "display_data"
    }
   ],
   "source": [
    "w3r = widgets.BoundedFloatText(value=30, min=30, max=90.0, step = 60.0, description='Distance:', disabled=False)\n",
    "w3r"
   ]
  },
  {
   "cell_type": "markdown",
   "metadata": {
    "hide_input": true
   },
   "source": [
    "Enter initial guesses for $T$, $S$ and $c$! The physical units of transmissivity and resistance derived from the length and time settings above. "
   ]
  },
  {
   "cell_type": "code",
   "execution_count": 33,
   "metadata": {
    "hide_input": true,
    "scrolled": false
   },
   "outputs": [
    {
     "data": {
      "application/vnd.jupyter.widget-view+json": {
       "model_id": "05e572871bea45e1a65f568a0be6a072",
       "version_major": 2,
       "version_minor": 0
      },
      "text/plain": [
       "HBox(children=(FloatText(value=500.0, description='T:'), FloatText(value=0.0001, description='S:'), FloatText(…"
      ]
     },
     "metadata": {},
     "output_type": "display_data"
    }
   ],
   "source": [
    "w2T = widgets.FloatText(value=500, description='T:', min=1.e-10, disabled=False)\n",
    "w2S = widgets.FloatText(value=1e-4, description='S:', min=1.e-10, disabled=False)\n",
    "wc = widgets.FloatText(value=1e4, description='c:', min=1.e-10, disabled=False)\n",
    "widgets.HBox([w2T, w2S, wc])"
   ]
  },
  {
   "cell_type": "code",
   "execution_count": 34,
   "metadata": {
    "hide_input": true,
    "scrolled": false
   },
   "outputs": [
    {
     "data": {
      "application/vnd.jupyter.widget-view+json": {
       "model_id": "386fc138f48e41ab8d10347ba939fca7",
       "version_major": 2,
       "version_minor": 0
      },
      "text/plain": [
       "VBox(children=(Button(description='Evaluate Hantush', style=ButtonStyle()),))"
      ]
     },
     "metadata": {},
     "output_type": "display_data"
    }
   ],
   "source": [
    "from scipy.special import exp1\n",
    "from scipy.optimize import fmin\n",
    "from scipy.special import kn as BesselK\n",
    "\n",
    "Q = wQ.value; r = 30\n",
    "tfit = df['t1'].dropna()/60/24; sfit = df['s1'].dropna()\n",
    "\n",
    "def heval (t,r,T,S,c,Q):                 # calculate Hantush solution\n",
    "    T0  = np.where(T>1.e-10,T,1.e-10) \n",
    "    S0  = np.where(S>1.e-10,S,1.e-10)\n",
    "    c0  = np.where(c>1.e-10,c,1.e-10)\n",
    "    lamda = np.sqrt(T0*c0)                \n",
    "    rho = r/lamda\n",
    "    tau = np.log(2*lamda/r*t/(c0*S0))\n",
    "    s = Q/(4*np.pi*T0)*func_F(rho,tau)\n",
    "    return s                             # drawdown \n",
    "\n",
    "def ExpInt(n,u):\n",
    "    # Fast approximation for Wu according to equation 7a and 7b from Srivastava(1998)\n",
    "    gamma = 0.5772 # Euler-Macheroni constant\n",
    "    u0  = np.where(u<1.0,u,1) \n",
    "    Wu0 = np.log(np.exp(-gamma)/u0) + 0.9653*u - 0.1690*u0**2\n",
    "    u1 = np.where(u>=1.0,u,1) \n",
    "    Wu1 = 1/(u1*np.exp(u1))*(u1+0.3575)/(u1+1.280)\n",
    "    Wu = np.where(u<1.0,Wu0,Wu1)\n",
    "    return Wu\n",
    "\n",
    "def func_F(rho,tau):\n",
    "    e = exp1(rho)\n",
    "    e0 = np.where(e>0,e,1.e-10)\n",
    "    w = (e0-BesselK(0,rho))/(e0-exp1(rho/2))\n",
    "    F0 = w*exp1(rho/2*np.exp(-tau))-(w-1)*exp1(rho*np.cosh(tau))  \n",
    "    F1 = 2*BesselK(0,rho) - w*exp1(rho/2*np.exp(tau)) + (w-1)*exp1(rho*np.cosh(tau)) \n",
    "    #w = (ExpInt(1,rho)-BesselK(0,rho))/(ExpInt(1,rho)-ExpInt(1,rho/2))\n",
    "    #F0 = w*ExpInt(1,rho/2*np.exp(-tau))-(w-1)*ExpInt(1,rho*np.cosh(tau))\n",
    "    #F1 = 2*BesselK(0,rho) - w*ExpInt(1,rho/2*np.exp(tau)) + (w-1)*ExpInt(1,rho*np.cosh(tau))    \n",
    "    return (tau<=0)*F0+(tau>0)*F1   \n",
    "\n",
    "def hoptim (x):     \n",
    "    global r,tfit,sfit\n",
    "    T = x[0]; S = x[1]; c = x[2] \n",
    "    s = heval (tfit,r,T,S,c,Q)\n",
    "    res = (s-sfit)\n",
    "    return sum(res*res)                 # function to be minimized\n",
    "\n",
    "def on_weval2_clicked(self):   \n",
    "    global r,df,tfit,sfit    \n",
    "    print ('Oude Korendijk pumping test') \n",
    "    r = w3r.value; print ('Distance to pumping well: '+str(r))\n",
    "    T = w2T.value; print ('Initial transmissivity: '+str(T)) \n",
    "    S = w2S.value; print ('Initial storativity: '+str(S))\n",
    "    c = wc.value; print ('Initial resistance: '+str(c))\n",
    "\n",
    "    if r <= 50:   \n",
    "        tfit = df['t1'].dropna()/60/24; sfit = df['s1'].dropna()\n",
    "    else:\n",
    "        tfit = df['t2'].dropna()/60/24; sfit =df['s2'].dropna()  \n",
    "        \n",
    "    # parameter estimation---------------------------------------------------------\n",
    "    [Tfit,Sfit,cfit] = fmin(hoptim, [T,S,c])\n",
    "\n",
    "    # post-processing--------------------------------------------------------------   \n",
    "    D = T/S;  #print ('D='+str(D))\n",
    "    s = heval (tfit,r,Tfit,Sfit,cfit,Q)\n",
    "    dev = sfit-s \n",
    "    dev2 = dev*dev; res = np.sqrt(sum(dev2))  #; print ('Residual = '+str(res)) \n",
    "    stde = np.sqrt(dev2.mean())\n",
    "    sr=2*dev.std()                            # to compare with hytool !\n",
    "    t = np.logspace(np.log10(tfit.min()),np.log10(tfit.max()),100)\n",
    "    fig = plt.figure(facecolor='w',figsize=(10,5)); ax = fig.add_subplot()\n",
    "    ax.set_xscale('log')\n",
    "    plt.plot(tfit,sfit,'o',label = 'measured') \n",
    "    plt.plot(t,heval(t,r,Tfit,Sfit,cfit,Q),'-', label = 'calculated', lw = 2)\n",
    "    plt.xlabel('time [d]'); plt.ylabel('drawdown [m]')\n",
    "    plt.title ('Oude Korendijk pumping test',fontsize=14)\n",
    "    plt.grid ()\n",
    "    plt.legend (loc='upper left',fontsize=12)\n",
    "    ax.text (0.04,0.5*sfit.max(),'$T =%.1f m^2/d $' % (Tfit, ),fontsize=12)\n",
    "    ax.text (0.04,0.4*sfit.max(),'$S =%.3e $' % (Sfit, ),fontsize=12)\n",
    "    ax.text (0.04,0.3*sfit.max(),'$c =%.3e d$' % (cfit, ),fontsize=12)\n",
    "    ax.text (0.04,0.2*sfit.max(),'$res = %.3e $' % (res, ),fontsize=12)\n",
    "    ax.text (0.04,0.1*sfit.max(),'$stdev = %.3e $' % (stde, ),fontsize=12)\n",
    "    ax.text (0.04,0,'$2stdev =%.3e $' % (sr, ),fontsize=12);\n",
    "\n",
    "weval2 = widgets.Button(description='Evaluate Hantush')        \n",
    "weval2.on_click(on_weval2_clicked)   \n",
    "widgets.VBox([weval2])"
   ]
  },
  {
   "cell_type": "markdown",
   "metadata": {
    "hide_input": true
   },
   "source": [
    "The test can be interpreted from the Theis or the Hantush point of view, i.e. without or with leakage from a layer with fixed head. Which of the two may be deduced from the data: will they fit onto the Theis type curve or, when not, do they match with one of the Hantush type curves. Other effects may also influence the data, like partial penetration of the screen in the aquifer, storage inside the well and delayed yield and, notably, any effects caused by non-linearity, such as non-constant aquifer thickness under the influence of the drawdown in water table aquifers. All such effects may play their role under various circumstances, but may initially be ignored, to be included only when the data show that it is necessary."
   ]
  },
  {
   "cell_type": "markdown",
   "metadata": {},
   "source": [
    "## Conclusion\n",
    "\n",
    "This notebook shows how an analysis of a pumping test can be done by first exploring the data and then applying several methods to see what works. If only the final answer is of interest, then copy that result to another document or notebook to continue working with that results. However, this current notebook is and will always remain a good reference as it is completely documented and clearly shows all the steps taken to explore the problem and to find one or more suitable answers."
   ]
  },
  {
   "cell_type": "markdown",
   "metadata": {},
   "source": [
    "## Bibliography\n",
    "\n",
    "* Cooper H.H., Jacob C.E., A generalized graphical method for evaluating formation constants and summarizing well‐field history, Vol. 27(4), 526-534, 1946\n",
    "* de Glee G.J., Over grondwaterstromingen bij wateronttrekking door middel van putten, J. Waltman, Delft,  1930 (in Dutch)\n",
    "* Hantush M.S., Analysis of data from pumping tests in leaky aquifers, EOS, Vol. 37(6), 702-714, 1956\n",
    "* Hantush M.S., Flow of groundwater in relatively thick leaky aquifers, Water Res. Res., Vol. 3(2), 583-590, 1967\n",
    "* Hantush M.S., Jacob C.E., Non-steady radial flow in an infinite leaky aquifer, Trans. Am. Geophys. Union, Vol. 36, 95-100, 1955 \n",
    "* Holzbecher, E., Environmental Modeling using Matlab, Springer, Berlin Heidelberg, 2012\n",
    "* Kooper J., Beweging van het water in den bodem bij onttrekking door bronnen, De Ingenieur, Vol. 29(38), 697–706 and 29(39), 710–716, 1914 (in Dutch)\n",
    "* Krusemann G.P., de Ridder N.A., Untersuchung und Anwendung von Pumpversuchen, Verlagsges. R. Müller, Köln, 1973 (in German)\n",
    "* Krusemann G.P., de Ridder N.A., Analysis and evaluation of pumping test data, 2.Edition, Intern. Inst. for Land Reclamation and Improvement (ILRI), Publication 47, Wageningen, 1994, https://www.hydrology.nl/images/docs/dutch/key/Kruseman_and_De_Ridder_2000.pdf\n",
    "* Olsthoorn T., The Korendijk pumping test, https://notebook.community/Olsthoorn/TransientGroundwaterFlow/excercises_notebooks/Korendijk-ptest-theis, 2019\n",
    "* Renard P., Hytool: a hydrogeological toolbox. University of Neuchâtel, Switzerland, 2003\n",
    "* Renard P., The future of hydraulic tests, Hydrogeol. J., Vol. 13, 259-262, 2005\n",
    "* Thiem G., Hydrologische Methoden, J.M.Gebhardt, Leipzig, 1906 (in German)\n",
    "* Theis C.V., The relation between the lowering of the piezometric surface and the rate and duration of discharge of a well using ground-water storage, Transactions of the AGU, Vol. 16(2), 519-524, 1935\n",
    "* White R.W., Clebsch A., C.V. Theis - and a review of his life and work, in: Selected Contributions to Ground-Water Hydrology, US Geol. Survey Water-Supply Paper 2415, 1994, http://ponce.sdsu.edu/theis_biography.html \n",
    "* Wit K.E., De hydrologische bodemconstanten in de polder 'De Oude Korendijk' berekend uit pompproeven en laboratoriummetingen in ongeroerde monsters (The hydraulic characteristics of the Oude Korendijk polder, calculated from pumping test data and laboratory measurements of core samples), ICW Notas 190, 24p, 1963 (in Dutch)"
   ]
  },
  {
   "cell_type": "raw",
   "metadata": {},
   "source": []
  }
 ],
 "metadata": {
  "kernelspec": {
   "display_name": "Python 3",
   "language": "python",
   "name": "python3"
  },
  "language_info": {
   "codemirror_mode": {
    "name": "ipython",
    "version": 3
   },
   "file_extension": ".py",
   "mimetype": "text/x-python",
   "name": "python",
   "nbconvert_exporter": "python",
   "pygments_lexer": "ipython3",
   "version": "3.7.6"
  },
  "toc": {
   "base_numbering": 1,
   "nav_menu": {},
   "number_sections": true,
   "sideBar": true,
   "skip_h1_title": true,
   "title_cell": "Table of Contents",
   "title_sidebar": "Contents",
   "toc_cell": true,
   "toc_position": {},
   "toc_section_display": true,
   "toc_window_display": true
  },
  "varInspector": {
   "cols": {
    "lenName": 16,
    "lenType": 16,
    "lenVar": 40
   },
   "kernels_config": {
    "python": {
     "delete_cmd_postfix": "",
     "delete_cmd_prefix": "del ",
     "library": "var_list.py",
     "varRefreshCmd": "print(var_dic_list())"
    },
    "r": {
     "delete_cmd_postfix": ") ",
     "delete_cmd_prefix": "rm(",
     "library": "var_list.r",
     "varRefreshCmd": "cat(var_dic_list()) "
    }
   },
   "position": {
    "height": "768.85px",
    "left": "959px",
    "right": "20px",
    "top": "131px",
    "width": "469px"
   },
   "types_to_exclude": [
    "module",
    "function",
    "builtin_function_or_method",
    "instance",
    "_Feature"
   ],
   "window_display": false
  }
 },
 "nbformat": 4,
 "nbformat_minor": 4
}
