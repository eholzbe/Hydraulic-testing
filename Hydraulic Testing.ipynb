{
 "cells": [
  {
   "cell_type": "markdown",
   "metadata": {
    "hideCode": true,
    "hidePrompt": true,
    "hide_input": false
   },
   "source": [
    "\n",
    "<font size = 6px, style=\"color:blue\">**Hydraulic Testing:  Pumping Test Evaluation**</font>\n",
    "\n",
    "\n",
    "Prof. habil. Dr.-Ing. Dipl.-Math. Ekkehard Holzbecher\n",
    "\n",
    "*Demo Oude Korendijk \n",
    "(partially adopted and modified from Olsthoorn)* \n",
    "https://notebook.community/Olsthoorn/TransientGroundwaterFlow/excercises_notebooks/Korendijk-ptest-theis\n"
   ]
  },
  {
   "cell_type": "markdown",
   "metadata": {
    "hideCode": true,
    "hidePrompt": true,
    "toc": true
   },
   "source": [
    "<h1>Table of Contents<span class=\"tocSkip\"></span></h1>\n",
    "<div class=\"toc\"><ul class=\"toc-item\"><li><span><a href=\"#Introduction\" data-toc-modified-id=\"Introduction-1\"><span class=\"toc-item-num\">1&nbsp;&nbsp;</span>Introduction</a></span></li><li><span><a href=\"#The-Oude-Korendijk-Pumping-Test\" data-toc-modified-id=\"The-Oude-Korendijk-Pumping-Test-2\"><span class=\"toc-item-num\">2&nbsp;&nbsp;</span>The Oude Korendijk Pumping Test</a></span></li><li><span><a href=\"#Interpretation-using-Data-for-Steady-State-Drawdown\" data-toc-modified-id=\"Interpretation-using-Data-for-Steady-State-Drawdown-3\"><span class=\"toc-item-num\">3&nbsp;&nbsp;</span>Interpretation using Data for Steady State Drawdown</a></span><ul class=\"toc-item\"><li><span><a href=\"#Confined-Aquifer\" data-toc-modified-id=\"Confined-Aquifer-3.1\"><span class=\"toc-item-num\">3.1&nbsp;&nbsp;</span>Confined Aquifer</a></span></li><li><span><a href=\"#Unconfined-Aquifer\" data-toc-modified-id=\"Unconfined-Aquifer-3.2\"><span class=\"toc-item-num\">3.2&nbsp;&nbsp;</span>Unconfined Aquifer</a></span></li><li><span><a href=\"#Leaky-Aquifer\" data-toc-modified-id=\"Leaky-Aquifer-3.3\"><span class=\"toc-item-num\">3.3&nbsp;&nbsp;</span>Leaky Aquifer</a></span></li></ul></li><li><span><a href=\"#Unsteady-Data-Input-and-Visualization\" data-toc-modified-id=\"Unsteady-Data-Input-and-Visualization-4\"><span class=\"toc-item-num\">4&nbsp;&nbsp;</span>Unsteady Data Input and Visualization</a></span></li><li><span><a href=\"#Basic-Interpretation-based-on-the-Theis-Solution\" data-toc-modified-id=\"Basic-Interpretation-based-on-the-Theis-Solution-5\"><span class=\"toc-item-num\">5&nbsp;&nbsp;</span>Basic Interpretation based on the Theis Solution</a></span></li><li><span><a href=\"#Classical-Interpretation-using-the-Match-on-Double-Log-Scales\" data-toc-modified-id=\"Classical-Interpretation-using-the-Match-on-Double-Log-Scales-6\"><span class=\"toc-item-num\">6&nbsp;&nbsp;</span>Classical Interpretation using the Match on Double Log Scales</a></span></li><li><span><a href=\"#Graphical-Interpretation-for-Transmissivity-and-Storativity\" data-toc-modified-id=\"Graphical-Interpretation-for-Transmissivity-and-Storativity-7\"><span class=\"toc-item-num\">7&nbsp;&nbsp;</span>Graphical Interpretation for Transmissivity and Storativity</a></span><ul class=\"toc-item\"><li><span><a href=\"#Multi-Graph\" data-toc-modified-id=\"Multi-Graph-7.1\"><span class=\"toc-item-num\">7.1&nbsp;&nbsp;</span>Multi-Graph</a></span></li><li><span><a href=\"#Single-Graph\" data-toc-modified-id=\"Single-Graph-7.2\"><span class=\"toc-item-num\">7.2&nbsp;&nbsp;</span>Single Graph</a></span></li></ul></li><li><span><a href=\"#Error-Measures\" data-toc-modified-id=\"Error-Measures-8\"><span class=\"toc-item-num\">8&nbsp;&nbsp;</span>Error Measures</a></span></li><li><span><a href=\"#Direct-Optimization-of-Transmissivity-and-Storativity\" data-toc-modified-id=\"Direct-Optimization-of-Transmissivity-and-Storativity-9\"><span class=\"toc-item-num\">9&nbsp;&nbsp;</span>Direct Optimization of Transmissivity and Storativity</a></span></li><li><span><a href=\"#Parameter-Estimation\" data-toc-modified-id=\"Parameter-Estimation-10\"><span class=\"toc-item-num\">10&nbsp;&nbsp;</span>Parameter Estimation</a></span><ul class=\"toc-item\"><li><span><a href=\"#Confined-Aquifer\" data-toc-modified-id=\"Confined-Aquifer-10.1\"><span class=\"toc-item-num\">10.1&nbsp;&nbsp;</span>Confined Aquifer</a></span></li><li><span><a href=\"#Leaky-Aquifer\" data-toc-modified-id=\"Leaky-Aquifer-10.2\"><span class=\"toc-item-num\">10.2&nbsp;&nbsp;</span>Leaky Aquifer</a></span></li></ul></li><li><span><a href=\"#Conclusion\" data-toc-modified-id=\"Conclusion-11\"><span class=\"toc-item-num\">11&nbsp;&nbsp;</span>Conclusion</a></span></li><li><span><a href=\"#Bibliography\" data-toc-modified-id=\"Bibliography-12\"><span class=\"toc-item-num\">12&nbsp;&nbsp;</span>Bibliography</a></span></li></ul></div>"
   ]
  },
  {
   "cell_type": "markdown",
   "metadata": {
    "hideCode": true,
    "hidePrompt": true
   },
   "source": [
    "## Introduction\n",
    "\n",
    "In a pumping test the drawdown of the water table in a piezometer is recorded, as response to pumping from a nearby well. Pumping tests belong into the common toolbox of hydro-geologists, used to obtain basic parameters for aquifer characterization. It is common practice to determine transmissivity (T) and storativity (S) from fitting 1D-analytical solutions to the observed drawdown. The application of this classical evaluation method is related to various idealistic assumptions.\n",
    "\n",
    "The most important ones are listed in the sequel. The aquifer is homogeneous and isotropic, has a constant thickness and has infinite extend. The well is assumed to be ideal, i.e. it is sreened over the entire thickness of the aquifer. The well diameter is small. Pumping is performed at constant rate.\n",
    "\n",
    "In 1970 Kruseman & de Ridder published the probably most used and referenced textbook on pumping test evaluations. A translation in German came out already in 1993. The book was revised several times. The 1994 version is free available on the internet. The book covers evaluation methods for various types of aquifers and conditions on groundwater wells, including examples with data. In the book the most common method, introduced by Theis (1937) is outlined, using a pumping test, performed at a location, called the Oude Korendijk, in the Netherlands.  "
   ]
  },
  {
   "cell_type": "markdown",
   "metadata": {
    "hideCode": true,
    "hidePrompt": true
   },
   "source": [
    "## The Oude Korendijk Pumping Test"
   ]
  },
  {
   "cell_type": "markdown",
   "metadata": {
    "hideCode": true,
    "hidePrompt": true
   },
   "source": [
    "In a report Wit (1963) describes and evaluates several pumping tests, performed in the Oude Korendijk polder areas. The one most cited test is identified as H2 in the original paper, which was performed on July 10th 1962. The figure below gives an impression on the type of landscape in polder areas in the Netherlands.    "
   ]
  },
  {
   "cell_type": "markdown",
   "metadata": {
    "hideCode": true,
    "hidePrompt": true
   },
   "source": [
    "<div><img src=\"OKfoto.png\" align=\"center\"/></div>"
   ]
  },
  {
   "cell_type": "markdown",
   "metadata": {
    "hideCode": true,
    "hidePrompt": true
   },
   "source": [
    "The locality south of Rotterdam is depicted in the figure below (Wit 1963). In the south, at the bottom of the figure, the Rhine river can be identified. The area is criss-crossed by various trenches for drainage.  "
   ]
  },
  {
   "cell_type": "markdown",
   "metadata": {
    "hideCode": true,
    "hidePrompt": true
   },
   "source": [
    "<div><img src=\"OK1.png\" width=\"480\" height=\"320\" align=\"center\"/></div>"
   ]
  },
  {
   "cell_type": "markdown",
   "metadata": {
    "hideCode": true,
    "hidePrompt": true
   },
   "source": [
    "The Oude Korendijk pumping test is a test in a confined, leaky or unconfined setting, which should yield a value for the aquifers' transmissivity and its storage coefficient. The following figure depicts a cross sectional view of the geological situation at the site (Wit 1963). The figure text is in Dutch; here some translations: pompput = pumping well, zand = sand, veen = peat, grint = gravel, peilfilter = filter. "
   ]
  },
  {
   "cell_type": "markdown",
   "metadata": {
    "hideCode": true,
    "hidePrompt": true,
    "hide_input": true
   },
   "source": [
    "<div><img src=\"OK2.png\" width=\"720\" align=\"center\"/></div>"
   ]
  },
  {
   "cell_type": "markdown",
   "metadata": {
    "hideCode": true,
    "hidePrompt": true
   },
   "source": [
    "The well was pumped with a constant rate of 768 m$^3$/d. There are four piezometers in the vicinity of the pumping well, which can be taken as observation points. The nearest is only 80 cm away from the well. The other three observation points are located in a distance of 30 m, 90 m and 215 m . The following figure shows the locations and final drawdown in the Oude Korendijk pumping test measured after almost 14 hours."
   ]
  },
  {
   "cell_type": "markdown",
   "metadata": {
    "hideCode": true,
    "hidePrompt": true
   },
   "source": [
    "<div><img src=\"OK3.png\" width=\"720\" align=\"center\"/></div>"
   ]
  },
  {
   "cell_type": "markdown",
   "metadata": {
    "hideCode": true,
    "hidePrompt": true
   },
   "source": [
    "Our focus will be on the two observation points at intermediate distances, i.e 30 and 90 m away from the pumping well. The one in direct vicinity may be influenced by local conditions around the well. These conditions may be disturbed due to the drilling and installation of the well and the so called skin effect. The most distant observation point may be influenced by boundary conditions. The polder in the Netherlands are surrounded by surface water bodies, the Rhine river and trenches filled by drainage water. The following figures show the drawdown measurements at the two intermediate observation points: observation 1 for the one in 30 m distance, observation 2 for the one in 90 m distance. "
   ]
  },
  {
   "cell_type": "markdown",
   "metadata": {
    "hideCode": true,
    "hidePrompt": true
   },
   "source": [
    "## Interpretation using Data for Steady State Drawdown"
   ]
  },
  {
   "cell_type": "markdown",
   "metadata": {
    "hideCode": true,
    "hidePrompt": true
   },
   "source": [
    "### Confined Aquifer\n",
    "The solution for the steady state drawdown $s$ in a distance $r$ from the pumping well after a long time of pumping was given by Thiem (1906)"
   ]
  },
  {
   "cell_type": "markdown",
   "metadata": {
    "hideCode": true,
    "hidePrompt": true
   },
   "source": [
    "$$ s(r) = -\\frac {Q} {2 \\pi T} \\ln (r)+C $$"
   ]
  },
  {
   "cell_type": "markdown",
   "metadata": {
    "hideCode": true,
    "hidePrompt": true
   },
   "source": [
    "The transmissivity $T$ is a property of the aquifer, characterizing its ability to conduct water. $Q$ denotes the pumping rate. $C$ is an integration constant that emerges due to the solution of a differential equation. If the final drawdown measures $s_1$ and $s_2$ are given at two observation points at different distances $r_1$ and $r_2$, the integration constant can be eliminated and a formula for the transmissivity results: "
   ]
  },
  {
   "cell_type": "markdown",
   "metadata": {
    "hideCode": true,
    "hidePrompt": true,
    "hide_input": false
   },
   "source": [
    "$$ T = \\frac {Q} {2 \\pi (s_1-s_2)} \\ln (r_2/r_1) $$"
   ]
  },
  {
   "cell_type": "markdown",
   "metadata": {
    "hideCode": true,
    "hidePrompt": true
   },
   "source": [
    "In the Oude Korendijk pump test a steady state was not reached. However, the difference between the drawdown values in the two major observation wells remains almost constant. We call this a quasi-steady state, assuming that the difference will be the same, when a stationary situation is reached. For the evaluation using the Thiem formula we need the pumping rate, here in physical units m$^3$/d: "
   ]
  },
  {
   "cell_type": "code",
   "execution_count": 1,
   "metadata": {
    "hideCode": true,
    "hidePrompt": true,
    "hide_input": false,
    "scrolled": false
   },
   "outputs": [
    {
     "data": {
      "application/vnd.jupyter.widget-view+json": {
       "model_id": "5732992af6bf4a738c17abb5c1b98829",
       "version_major": 2,
       "version_minor": 0
      },
      "text/plain": [
       "BoundedFloatText(value=768.0, description='Pump rate:', disabled=True, max=1000.0, step=1.0)"
      ]
     },
     "metadata": {},
     "output_type": "display_data"
    }
   ],
   "source": [
    "from scipy.special import exp1\n",
    "import numpy as np\n",
    "import matplotlib.pyplot as plt\n",
    "import pandas as pd\n",
    "import ipywidgets as widgets\n",
    "#from IPython.display import display\n",
    "#from IPython.display import HTML\n",
    "#import IPython.core.display as di # Example: di.display_html('<h3>%s:</h3>' % str, raw=True)\n",
    "# This line will hide code by default when the notebook is exported as HTML\n",
    "#di.display_html('<script>jQuery(function() {if (jQuery(\"body.notebook_app\").length == 0) { jQuery(\".input_area\").toggle(); jQuery(\".prompt\").toggle();}});</script>', raw=True)\n",
    "%matplotlib inline\n",
    "\n",
    "wQ = widgets.BoundedFloatText(value=768, min=0, max=1000.0, step=1, description='Pump rate:', disabled=True)\n",
    "wQ"
   ]
  },
  {
   "cell_type": "markdown",
   "metadata": {
    "hideCode": true,
    "hidePrompt": true,
    "hide_input": true
   },
   "source": [
    "Enter distances and final drawdowns in meter!"
   ]
  },
  {
   "cell_type": "code",
   "execution_count": 46,
   "metadata": {
    "hideCode": true,
    "hidePrompt": true,
    "hide_input": false,
    "scrolled": true
   },
   "outputs": [
    {
     "data": {
      "application/vnd.jupyter.widget-view+json": {
       "model_id": "c9dc6df0ba49445ca2f2548c1b8cd8f0",
       "version_major": 2,
       "version_minor": 0
      },
      "text/plain": [
       "HBox(children=(BoundedFloatText(value=30.0, description='$r_1$:', max=215.0), BoundedFloatText(value=90.0, des…"
      ]
     },
     "metadata": {},
     "output_type": "display_data"
    }
   ],
   "source": [
    "wr1 = widgets.BoundedFloatText(value=30.0, min=0.0, max=215.0, description='$r_1$:', disabled=False)\n",
    "wr2 = widgets.BoundedFloatText(value=90.0, min=0.0, max=215.0, description='$r_2$:', disabled=False)\n",
    "ws1 = widgets.BoundedFloatText(value=1.088, min=0.0, max=3.0, description='$s_1$:', disabled=False)\n",
    "ws2 = widgets.BoundedFloatText(value=0.716, min=0.0, max=3.0, description='$s_2$:', disabled=False)\n",
    "widgets.HBox([wr1,wr2,ws1,ws2]) "
   ]
  },
  {
   "cell_type": "markdown",
   "metadata": {
    "hideCode": true,
    "hidePrompt": true,
    "hide_input": true
   },
   "source": [
    "Run the next cell to see the result for transmissivity."
   ]
  },
  {
   "cell_type": "code",
   "execution_count": 3,
   "metadata": {
    "hideCode": true,
    "hidePrompt": true,
    "hide_input": false
   },
   "outputs": [
    {
     "name": "stdout",
     "output_type": "stream",
     "text": [
      "T = 361 m²/d\n"
     ]
    }
   ],
   "source": [
    "Q = wQ.value         \n",
    "r1 = wr1.value; s1 = ws1.value; r2 =wr2.value; s2 = ws2.value  # distances and drawdown \n",
    "T1 = Q * np.log(r1/r2) / (2*np.pi*(s2-s1))\n",
    "print('T = {:.0f} m\\u00b2/d'.format(T1))"
   ]
  },
  {
   "cell_type": "markdown",
   "metadata": {
    "hideCode": true,
    "hidePrompt": true,
    "hide_input": false
   },
   "source": [
    "The transmissivity is related to the conductivity $K$ of the porous medium in the aquifer by: $T=K \\cdot D$. \n",
    "\n",
    "For the computation of the conductivity the aquifer thickness $D$ of the aquifer has to be given. "
   ]
  },
  {
   "cell_type": "code",
   "execution_count": 4,
   "metadata": {
    "hideCode": true,
    "hidePrompt": true,
    "hide_input": true,
    "scrolled": false
   },
   "outputs": [
    {
     "data": {
      "application/vnd.jupyter.widget-view+json": {
       "model_id": "6e2d28552ba84582aa9bce011d5adc34",
       "version_major": 2,
       "version_minor": 0
      },
      "text/plain": [
       "BoundedFloatText(value=7.0, description='Thickness:', max=15.0, step=1.0)"
      ]
     },
     "metadata": {},
     "output_type": "display_data"
    }
   ],
   "source": [
    "wD = widgets.BoundedFloatText(value=7, min=0, max=15.0, step=1, description='Thickness:', disabled=False)\n",
    "wD"
   ]
  },
  {
   "cell_type": "markdown",
   "metadata": {
    "hideCode": true,
    "hidePrompt": true
   },
   "source": [
    " Obtain the result for the hydraulic conductivity of the porous medium by running the next cell: "
   ]
  },
  {
   "cell_type": "code",
   "execution_count": 5,
   "metadata": {
    "hideCode": true,
    "hidePrompt": true,
    "hide_input": false,
    "scrolled": true
   },
   "outputs": [
    {
     "name": "stdout",
     "output_type": "stream",
     "text": [
      "K = 52 m/d\n"
     ]
    }
   ],
   "source": [
    "print('K = {:.0f} m/d'.format(T1/wD.value))"
   ]
  },
  {
   "cell_type": "markdown",
   "metadata": {
    "hideCode": true,
    "hidePrompt": true
   },
   "source": [
    "### Unconfined Aquifer \n",
    "The Thiem formula shown above holds for a confined aquifer. An analogous derivation derivation can be performed for an unconfined aquifer. The formula for the hydraulic head is:"
   ]
  },
  {
   "cell_type": "markdown",
   "metadata": {
    "hideCode": true,
    "hidePrompt": true
   },
   "source": [
    "$$ h^2(r) = \\frac {Q} {\\pi K} \\ln (r)+C $$"
   ]
  },
  {
   "cell_type": "markdown",
   "metadata": {
    "hideCode": true,
    "hidePrompt": true
   },
   "source": [
    "where $h$ denotes the piezometric head, measured from the aquifer base. From this one obtains: "
   ]
  },
  {
   "cell_type": "markdown",
   "metadata": {
    "hideCode": true,
    "hidePrompt": true,
    "hide_input": false
   },
   "source": [
    "$$ K = \\frac {Q} {\\pi (h_2^2-h_1^2)} \\ln (r_2/r_1) $$"
   ]
  },
  {
   "cell_type": "markdown",
   "metadata": {
    "hideCode": true,
    "hidePrompt": true
   },
   "source": [
    "For the calculation the constant initial head is required. We enter it here: "
   ]
  },
  {
   "cell_type": "code",
   "execution_count": 6,
   "metadata": {
    "hideCode": true,
    "hidePrompt": true,
    "hide_input": false,
    "scrolled": false
   },
   "outputs": [
    {
     "data": {
      "application/vnd.jupyter.widget-view+json": {
       "model_id": "b8468f004edf400fbdfa86f5907cc145",
       "version_major": 2,
       "version_minor": 0
      },
      "text/plain": [
       "BoundedFloatText(value=7.0, description='Initial head:', max=15.0, step=1.0)"
      ]
     },
     "metadata": {},
     "output_type": "display_data"
    }
   ],
   "source": [
    "wH = widgets.BoundedFloatText(value=7, min=0, max=15.0, step=1, description='Initial head:', disabled=False)\n",
    "wH"
   ]
  },
  {
   "cell_type": "markdown",
   "metadata": {
    "hideCode": true,
    "hidePrompt": true
   },
   "source": [
    " and obtain the result by running the next cell: "
   ]
  },
  {
   "cell_type": "code",
   "execution_count": 7,
   "metadata": {
    "hideCode": true,
    "hidePrompt": true,
    "hide_input": true,
    "scrolled": false
   },
   "outputs": [
    {
     "name": "stdout",
     "output_type": "stream",
     "text": [
      "K = 59 m/d\n"
     ]
    }
   ],
   "source": [
    "h1 = wH.value-s1; h2 = wH.value-s2\n",
    "K1 = Q * np.log(r2/r1) / np.pi / (h2**2-h1**2)\n",
    "print('K = {:.0f} m/d'.format(K1))"
   ]
  },
  {
   "cell_type": "markdown",
   "metadata": {
    "hideCode": true,
    "hidePrompt": true
   },
   "source": [
    "Also for this pumping we don't know the exact value of the initial head. Change its value and see the effect on the resulting conductivity! \n",
    "Compare the result with the conductivities that results from the output of the Thiem evaluation for the confined aquifer, identifying the aquifer thickness with the initial head."
   ]
  },
  {
   "cell_type": "markdown",
   "metadata": {
    "hideCode": true,
    "hidePrompt": true
   },
   "source": [
    "Use the Thiem evaluation for the steady state taking the measurements at the near and far observtion points into consideration. Examine results for different pairs of observations.  "
   ]
  },
  {
   "cell_type": "markdown",
   "metadata": {
    "hideCode": true,
    "hidePrompt": true
   },
   "source": [
    "### Leaky Aquifer\n",
    "Kooper (1914) and de Glee (1930) developed an expression for the steady drawdown in a leaky aquifer. The overlying semi-permeable layer is characterized by its vertical flow resistance $c$, which has the unit of time. The formula is:  "
   ]
  },
  {
   "cell_type": "markdown",
   "metadata": {
    "hideCode": true,
    "hidePrompt": true
   },
   "source": [
    "$$ s(r) = \\frac{Q}{2 \\pi T} K_0(\\frac{r}{\\sqrt{Tc}}) $$"
   ]
  },
  {
   "cell_type": "markdown",
   "metadata": {
    "hideCode": true,
    "hidePrompt": true
   },
   "source": [
    "where $K_0$ denotes the modified Bessel function 2. type 0. order. We can obtain values for the two parameters $T$ and $c$ by fitting using the method of least squares. This is done in the following cell."
   ]
  },
  {
   "cell_type": "code",
   "execution_count": 43,
   "metadata": {
    "hideCode": true,
    "hidePrompt": true,
    "hide_input": false
   },
   "outputs": [
    {
     "data": {
      "application/vnd.jupyter.widget-view+json": {
       "model_id": "6da5b5851ccb46618215966bf4309108",
       "version_major": 2,
       "version_minor": 0
      },
      "text/plain": [
       "HBox(children=(Button(description='Leaky aquifer fit', style=ButtonStyle()), Checkbox(value=False, description…"
      ]
     },
     "metadata": {},
     "output_type": "display_data"
    }
   ],
   "source": [
    "from scipy.optimize import fmin\n",
    "from scipy.special import kn as besselk\n",
    "rfit = [0.8, 30, 60, 215]\n",
    "srfit = [2.235, 1.088, 0.716, 0.25] \n",
    "T2 = 500\n",
    "\n",
    "def deGlee (x):\n",
    "    T = x[0]; c = x[1]\n",
    "    u = rfit/np.sqrt(T*c)\n",
    "    s = Q*besselk(0,u)/2/np.pi/T\n",
    "    res = (s-srfit)\n",
    "    return sum(res*res)\n",
    "\n",
    "def on_wdg_clicked(self):\n",
    "    global T2\n",
    "    c = 500\n",
    "    n = len(rfit); lr = np.log(rfit)  \n",
    "    T = (n*np.sum(lr*srfit)-np.sum(lr)*np.sum(srfit))/(n*np.sum(lr*lr)-np.sum(lr)**2)\n",
    "    T = -Q/2/np.pi/T                       # transmissivity initial guess [L^2/T]\n",
    "    [Tfit,cfit] = fmin(deGlee, [T,c]) \n",
    "\n",
    "    s = Q*besselk(0,rfit/np.sqrt(Tfit*cfit))/2/np.pi/Tfit\n",
    "    norms = np.linalg.norm(srfit-s)\n",
    "    rmax = max(rfit); smax = max(srfit)\n",
    "    r = np.arange(.9*min(rfit), rmax, step = rmax/50)\n",
    "    s = Q/2/np.pi/T*besselk(0,r/np.sqrt(Tfit*cfit))\n",
    "    fig = plt.figure(facecolor='w'); ax = fig.add_subplot()\n",
    "    if wcb.value: \n",
    "        ax.set_xscale('log'); xtext = 1\n",
    "    else:\n",
    "        xtext = 130\n",
    "    plt.plot (rfit,srfit, 'o', label = 'observation' )\n",
    "    plt.plot (r,s, '.-', label = 'modelled' )\n",
    "    plt.xlabel('distance [m]',fontsize=12)\n",
    "    plt.ylabel('drawdown [m]',fontsize=12)\n",
    "    ax.grid(b=True, c='w', lw=2, ls='-')\n",
    "    plt.legend(loc = 'upper right',fontsize=12)\n",
    "    ax.text (xtext,.7*smax,'$T = %.3e $' % (Tfit, ),fontsize=12)\n",
    "    ax.text (xtext,.6*smax,'$c =%.3e $' % (cfit, ),fontsize=12)\n",
    "    ax.text (xtext,.5*smax,'$norm =%.3e $' % (norms, ),fontsize=12)\n",
    "    plt.title ('deGlee fit',fontsize=14);\n",
    "    T2 = Tfit\n",
    "\n",
    "wdg = widgets.Button(description='Leaky aquifer fit')        \n",
    "wdg.on_click(on_wdg_clicked)   \n",
    "wcb = widgets.Checkbox(value=False, description='log', disabled=False, indent=False)\n",
    "widgets.HBox([wdg,wcb]) "
   ]
  },
  {
   "cell_type": "markdown",
   "metadata": {
    "hideCode": true,
    "hidePrompt": true,
    "hide_input": false
   },
   "source": [
    "Again we can obtain the hydraulic conductivity $K$ if the aquifer thickness is known:  "
   ]
  },
  {
   "cell_type": "code",
   "execution_count": 9,
   "metadata": {
    "hideCode": true,
    "hidePrompt": true,
    "hide_input": false,
    "scrolled": true
   },
   "outputs": [
    {
     "data": {
      "application/vnd.jupyter.widget-view+json": {
       "model_id": "aa13cbdce5d349df9fa5c482badf1944",
       "version_major": 2,
       "version_minor": 0
      },
      "text/plain": [
       "BoundedFloatText(value=7.0, description='Thickness:', max=15.0, step=1.0)"
      ]
     },
     "metadata": {},
     "output_type": "display_data"
    }
   ],
   "source": [
    "wD2 = widgets.BoundedFloatText(value=7, min=0, max=15.0, step=1, description='Thickness:', disabled=False)\n",
    "wD2"
   ]
  },
  {
   "cell_type": "markdown",
   "metadata": {
    "hideCode": true,
    "hidePrompt": true
   },
   "source": [
    " Obtain the result by running the next cell: "
   ]
  },
  {
   "cell_type": "code",
   "execution_count": 10,
   "metadata": {
    "hideCode": true,
    "hidePrompt": true,
    "hide_input": false,
    "scrolled": true
   },
   "outputs": [
    {
     "name": "stdout",
     "output_type": "stream",
     "text": [
      "K = 71 m/d\n"
     ]
    }
   ],
   "source": [
    "print('K = {:.0f} m/d'.format(T2/wD2.value))"
   ]
  },
  {
   "cell_type": "markdown",
   "metadata": {
    "hideCode": true,
    "hidePrompt": true
   },
   "source": [
    "## Unsteady Data Input and Visualization"
   ]
  },
  {
   "cell_type": "markdown",
   "metadata": {
    "hideCode": true,
    "hidePrompt": true,
    "hide_input": false
   },
   "source": [
    "The data for the pumping test are read into this notebook.  "
   ]
  },
  {
   "cell_type": "code",
   "execution_count": 11,
   "metadata": {
    "hideCode": true,
    "hidePrompt": true,
    "hide_input": false,
    "jupyter": {
     "outputs_hidden": false
    },
    "scrolled": true
   },
   "outputs": [
    {
     "name": "stdout",
     "output_type": "stream",
     "text": [
      "Data ready\n"
     ]
    }
   ],
   "source": [
    "df = pd.DataFrame(columns=['t1','s1','t2','s2'])\n",
    "\n",
    "#def on_wini_clicked(self):\n",
    "#      y = pd.read_excel('ok.xlsx',header=None)               \n",
    "#      df['t1'] = y[0].dropna()/60; df['s1'] = y[1].dropna() \n",
    "#      df['t2'] = y[2].dropna()/60; df['s2'] = y[3].dropna()\n",
    "df['t1'] =[6,15,30,42,60,84,114,139.8,168,201.6,240,321,408,498,522,600,786, \n",
    "           1080,1620,1980,2460,2880,3540,4800,5700,8340,10860,14700,18000,21600,\n",
    "           28800,36000,43680,49800,50000]                # time in seconds!\n",
    "df['s1'] =[0.04,0.08,0.13,0.18,0.23,0.28,0.33,0.36,0.39,0.42,0.45,0.5,0.54,0.57,\n",
    "           0.58,0.6,0.64,0.68,0.742,0.753,0.779,0.793,0.819,0.855,0.873,0.915,\n",
    "           0.935,0.966,0.99,1.007,1.05,1.053,1.072,1.088,1.088]\n",
    "df['t2'] =[90,120,129.6,159.6,180,210,240,259.8,330,360,450,540,780,900,1080,\n",
    "           1500,1800,2400,3180,3600,4500,5400,6300,7200,9000,10800,14880,18060,\n",
    "           21780,25320,32520,36120,40800,47100,50700]\n",
    "df['s2'] =[0.015,0.021,0.023,0.044,0.054,.075,.09,.104,.133,.153,.178,.206,.25,\n",
    "           .275,.305,.348,.364,.404,.429,.444,.467,.494,.507,.528,.55,.569,.593,\n",
    "           .614,.636,.657,.679,.688,.701,.718,.716]\n",
    "df['t1'] = df['t1']/60\n",
    "df['t2'] = df['t2']/60\n",
    "print ('Data ready')\n",
    "global kD, Sc\n",
    "    \n",
    "#wini = widgets.Button(description='Input data')        \n",
    "#wini.on_click(on_wini_clicked) \n",
    "#wini   "
   ]
  },
  {
   "cell_type": "markdown",
   "metadata": {
    "hideCode": true,
    "hidePrompt": true,
    "hide_input": false
   },
   "source": [
    "Let's see how the data look like. "
   ]
  },
  {
   "cell_type": "code",
   "execution_count": 12,
   "metadata": {
    "hideCode": true,
    "hidePrompt": true,
    "hide_input": true,
    "jupyter": {
     "outputs_hidden": false
    },
    "scrolled": false
   },
   "outputs": [
    {
     "data": {
      "application/vnd.jupyter.widget-view+json": {
       "model_id": "c11ff9e9d11f465280ae97c2917222e1",
       "version_major": 2,
       "version_minor": 0
      },
      "text/plain": [
       "VBox(children=(Button(description='Plot data', style=ButtonStyle()),))"
      ]
     },
     "metadata": {},
     "output_type": "display_data"
    }
   ],
   "source": [
    "def on_wp0_clicked(self):\n",
    "    plt.rcParams[\"figure.figsize\"] = (10,5) \n",
    "    fig = plt.figure(facecolor='w'); ax = fig.add_subplot()\n",
    "    plt.plot (df['t1'],df['s1'], '.-', label = 'observation H30' )\n",
    "    plt.plot (df['t2'],df['s2'], '.-', label = 'observation H90' )\n",
    "    plt.title('Oude Korendijk pumping test measured drawdowns',fontsize=14)\n",
    "    plt.xlabel('time [min]',fontsize=12)\n",
    "    plt.ylabel('drawdown [m]',fontsize=12)\n",
    "    plt.grid()\n",
    "    plt.legend(loc = 'lower right',fontsize=12);\n",
    "    \n",
    "wp0 = widgets.Button(description='Plot data')        \n",
    "wp0.on_click(on_wp0_clicked)   \n",
    "widgets.VBox([wp0])    "
   ]
  },
  {
   "cell_type": "markdown",
   "metadata": {
    "hideCode": true,
    "hidePrompt": true
   },
   "source": [
    "Obviously a steady state has not been reached at the end of the pump test. The visual inspection of the plot indicates that there is a constant difference between the drawdowns in the two observation wells. This would justify the application of the Thiem evaluation, as there only the difference counts. We call this situation either quasi stead-state or steady slope. Lets check the difference in a graph. "
   ]
  },
  {
   "cell_type": "code",
   "execution_count": 44,
   "metadata": {
    "hideCode": true,
    "hidePrompt": true,
    "hide_input": true,
    "jupyter": {
     "outputs_hidden": false
    },
    "scrolled": false
   },
   "outputs": [
    {
     "data": {
      "application/vnd.jupyter.widget-view+json": {
       "model_id": "5f94f84944cc4acd910a60dce039b2c8",
       "version_major": 2,
       "version_minor": 0
      },
      "text/plain": [
       "VBox(children=(Button(description='Drawdown difference', style=ButtonStyle()),))"
      ]
     },
     "metadata": {},
     "output_type": "display_data"
    }
   ],
   "source": [
    "from scipy.interpolate import interp1d\n",
    "\n",
    "def on_wp1_clicked(self):\n",
    "    plt.rcParams[\"figure.figsize\"] = (10,5) \n",
    "    fig = plt.figure(facecolor='w'); ax = fig.add_subplot()\n",
    "    f30 = interp1d(df['t1'],df['s1']); f90 = interp1d(df['t2'],df['s2'])\n",
    "    t = np.arange(6,780.0,step=1)\n",
    "    plt.plot (t, f30(t)-f90(t), 'g', label = 'H30-H90' )\n",
    "    plt.title('Drawdown difference',fontsize=14)\n",
    "    plt.xlabel('time [min]',fontsize=12)\n",
    "    plt.ylabel('drawdown difference [m]',fontsize=12)\n",
    "    plt.ylim ([0., 0.6])\n",
    "    plt.grid()\n",
    "    plt.legend(loc = 'lower right',fontsize=12);\n",
    "    \n",
    "wp1 = widgets.Button(description='Drawdown difference')        \n",
    "wp1.on_click(on_wp1_clicked)   \n",
    "widgets.VBox([wp1])    "
   ]
  },
  {
   "cell_type": "markdown",
   "metadata": {
    "hideCode": true,
    "hidePrompt": true,
    "hide_input": true
   },
   "source": [
    "One can visualize the same data using log scale for time: "
   ]
  },
  {
   "cell_type": "code",
   "execution_count": 14,
   "metadata": {
    "hideCode": true,
    "hidePrompt": true,
    "hide_input": true,
    "scrolled": false
   },
   "outputs": [
    {
     "data": {
      "application/vnd.jupyter.widget-view+json": {
       "model_id": "61f67cfa4dcf40079bf7a74798dabfae",
       "version_major": 2,
       "version_minor": 0
      },
      "text/plain": [
       "VBox(children=(Button(description='Plot log scale', style=ButtonStyle()),))"
      ]
     },
     "metadata": {},
     "output_type": "display_data"
    }
   ],
   "source": [
    "def on_wp2_clicked(self):\n",
    "    plt.rcParams[\"figure.figsize\"] = (10,5) \n",
    "    fig = plt.figure(facecolor='w'); ax = fig.add_subplot()\n",
    "    ax.set_xscale('log')\n",
    "    plt.plot (df['t1'],df['s1'], '.-', label = 'observation H30' )\n",
    "    plt.plot (df['t2'],df['s2'], '.-', label = 'observation H90' )\n",
    "    plt.title('Oude Korendijk pumping test measured drawdowns',fontsize=14)\n",
    "    plt.xlabel('time [min]',fontsize=12)\n",
    "    plt.ylabel('drawdown [m]',fontsize=12)\n",
    "    plt.grid()\n",
    "    plt.legend(loc = 'lower right',fontsize=12);\n",
    "\n",
    "wp2 = widgets.Button(description='Plot log scale')        \n",
    "wp2.on_click(on_wp2_clicked)   \n",
    "widgets.VBox([wp2]) "
   ]
  },
  {
   "cell_type": "markdown",
   "metadata": {
    "hideCode": true,
    "hidePrompt": true,
    "hide_input": true
   },
   "source": [
    "The same in the loglog system, with logarithmic scale on both axes:"
   ]
  },
  {
   "cell_type": "code",
   "execution_count": 45,
   "metadata": {
    "hideCode": true,
    "hidePrompt": true,
    "hide_input": true,
    "scrolled": false
   },
   "outputs": [
    {
     "data": {
      "application/vnd.jupyter.widget-view+json": {
       "model_id": "097a7c09e891472bb815771c3728b0b0",
       "version_major": 2,
       "version_minor": 0
      },
      "text/plain": [
       "VBox(children=(Button(description='Plot loglog scale', style=ButtonStyle()),))"
      ]
     },
     "metadata": {},
     "output_type": "display_data"
    }
   ],
   "source": [
    "def on_wp3_clicked(self):\n",
    "    plt.rcParams[\"figure.figsize\"] = (10,5) \n",
    "    fig = plt.figure(facecolor='w'); ax = fig.add_subplot()\n",
    "    ax.set_xscale('log'); ax.set_yscale('log')\n",
    "    plt.plot (df['t1'],df['s1'], '.-', label = 'observation H30' )\n",
    "    plt.plot (df['t2'],df['s2'], '.-', label = 'observation H90' )\n",
    "    plt.title('Oude Korendijk pumping test measured drawdowns',fontsize=14)\n",
    "    plt.xlabel('time [min]',fontsize=12)\n",
    "    plt.ylabel('drawdown [m]',fontsize=12)\n",
    "    plt.grid()\n",
    "    plt.legend(loc = 'lower right',fontsize=12);\n",
    "    \n",
    "wp3 = widgets.Button(description='Plot loglog scale')        \n",
    "wp3.on_click(on_wp3_clicked)   \n",
    "widgets.VBox([wp3])     "
   ]
  },
  {
   "cell_type": "markdown",
   "metadata": {
    "hideCode": true,
    "hidePrompt": true
   },
   "source": [
    "For a comparison of the two curves it is convenient to visualize in double log scale using $t/r^2$ on x-axis. "
   ]
  },
  {
   "cell_type": "code",
   "execution_count": 16,
   "metadata": {
    "hideCode": true,
    "hidePrompt": true,
    "hide_input": true,
    "scrolled": false
   },
   "outputs": [
    {
     "data": {
      "application/vnd.jupyter.widget-view+json": {
       "model_id": "981e77bbaea0448b8002f9cfa0474fa9",
       "version_major": 2,
       "version_minor": 0
      },
      "text/plain": [
       "VBox(children=(Button(description='Plot t/r/r scale', style=ButtonStyle()),))"
      ]
     },
     "metadata": {},
     "output_type": "display_data"
    },
    {
     "data": {
      "image/png": "[encoded data removed]",
      "text/plain": [
       "<Figure size 720x360 with 1 Axes>"
      ]
     },
     "metadata": {},
     "output_type": "display_data"
    }
   ],
   "source": [
    "def on_wp4_clicked(self):\n",
    "    plt.rcParams[\"figure.figsize\"] = (10,5) \n",
    "    fig = plt.figure(facecolor='w'); ax = fig.add_subplot()\n",
    "    ax.set_xscale('log')\n",
    "    plt.plot (df['t1']/30/30,df['s1'], '.-', label = 'observation H30' )\n",
    "    plt.plot (df['t2']/90/90,df['s2'], '.-', label = 'observation H90' )\n",
    "    plt.title('Oude Korendijk pumping test measured drawdowns',fontsize=14)\n",
    "    plt.xlabel('$t/r^2$ [min/m$^2$]',fontsize=12)\n",
    "    plt.ylabel('drawdown [m]',fontsize=12)\n",
    "    plt.grid()\n",
    "    plt.legend(loc = 'lower right',fontsize=12);\n",
    "\n",
    "wp4 = widgets.Button(description='Plot t/r/r scale')        \n",
    "wp4.on_click(on_wp4_clicked)   \n",
    "widgets.VBox([wp4]) "
   ]
  },
  {
   "cell_type": "markdown",
   "metadata": {
    "hideCode": true,
    "hidePrompt": true
   },
   "source": [
    "## Basic Interpretation based on the Theis Solution"
   ]
  },
  {
   "cell_type": "markdown",
   "metadata": {
    "hideCode": true,
    "hidePrompt": true
   },
   "source": [
    "The solution for the unsteady drawdown due to a single well with fully penetrating screen in a uniform aquifer of infinite extent was first published by Theis (1935), using a mathematical derivation by Lubin, transfered in private communication. The solution revolutioned the science of hydrology (White & Clebsch 1994). The solution for drawdown $s$ as function of distance from the pumping well $r$ and time $t$ is given by:"
   ]
  },
  {
   "cell_type": "markdown",
   "metadata": {
    "hideCode": true,
    "hidePrompt": true
   },
   "source": [
    "$$ s(r, t) = \\frac Q {4 \\pi T} W(u),\\,\\,\\,\\, u = \\frac {r^2 S} {4 T t}$$"
   ]
  },
  {
   "cell_type": "markdown",
   "metadata": {
    "hideCode": true,
    "hidePrompt": true
   },
   "source": [
    "where $T$ denotes the transmissivity, $S$ the storage coefficient, and $Q$ the pumping rate. $W$ is the well function, in mathematical literature known as exponential integral. For evaluations before computers became generally available, is was handy to utilize simpler approximations for the well function. Cooper & Jacob (1946) proposed:    "
   ]
  },
  {
   "cell_type": "markdown",
   "metadata": {
    "hideCode": true,
    "hidePrompt": true
   },
   "source": [
    "$$ W(u) \\approx -0.2557 - \\ln(u) +u - u^2/4 $$"
   ]
  },
  {
   "cell_type": "markdown",
   "metadata": {
    "hideCode": true,
    "hidePrompt": true
   },
   "source": [
    "We may also use the approximation of this solution, which is valid for long enough times and/or small enough distances from the well:"
   ]
  },
  {
   "cell_type": "markdown",
   "metadata": {
    "hideCode": true,
    "hidePrompt": true
   },
   "source": [
    "$$ s(r, t) \\approx \\frac {Q} {4 \\pi T} \\ln \\left( \\frac {2.25 T t} {r^2 S} \\right) $$ "
   ]
  },
  {
   "cell_type": "markdown",
   "metadata": {
    "hideCode": true,
    "hidePrompt": true
   },
   "source": [
    "$\\ln$ denotes the natural logarithm. The formula can be modified for the decadic logarithm: "
   ]
  },
  {
   "cell_type": "markdown",
   "metadata": {
    "hideCode": true,
    "hidePrompt": true
   },
   "source": [
    "$$ s(r,t) = \\frac {2.3 Q} {4 \\pi T} \\log \\left( \\frac {2.25 T t} {r^2 S} \\right) $$"
   ]
  },
  {
   "cell_type": "markdown",
   "metadata": {
    "hideCode": true,
    "hidePrompt": true
   },
   "source": [
    "Determine the drawdown per log cycle from the last double-log graph and observation point H30 $\\approx (1.1 - 0.21) / 3 \\approx 0.30 $"
   ]
  },
  {
   "cell_type": "markdown",
   "metadata": {
    "hideCode": true,
    "hidePrompt": true
   },
   "source": [
    "$$ \\Delta s = s_{10t} - s_t = 0.30 = \\frac {2.3 Q} {4 \\pi T} $$"
   ]
  },
  {
   "cell_type": "markdown",
   "metadata": {
    "hideCode": true,
    "hidePrompt": true
   },
   "source": [
    "or, resolved for $T$:"
   ]
  },
  {
   "cell_type": "markdown",
   "metadata": {
    "hideCode": true,
    "hidePrompt": true
   },
   "source": [
    "$$ T = \\frac {2.3 Q} {4 \\pi \\Delta s} $$"
   ]
  },
  {
   "cell_type": "markdown",
   "metadata": {
    "hideCode": true,
    "hidePrompt": true
   },
   "source": [
    "Notice that it doesn't matter in what dimension time is, at it drops out of the drawdown at $10t$ is compared with that at $t$. Therefore, with $Q$ = 768 m$^3$/d, one gets"
   ]
  },
  {
   "cell_type": "code",
   "execution_count": 56,
   "metadata": {
    "hideCode": true,
    "hidePrompt": true,
    "hide_input": true,
    "jupyter": {
     "outputs_hidden": false
    },
    "scrolled": true
   },
   "outputs": [
    {
     "name": "stdout",
     "output_type": "stream",
     "text": [
      "T = 474 m²/d\n"
     ]
    }
   ],
   "source": [
    "ds = (1.1 - 0.21) / 3 # drawdown increase per log cycle of time\n",
    "kD = 2.3 * Q / (4 * np.pi * ds)\n",
    "print('T = {:.0f}'.format(kD) + ' m' + chr(0x00b2) + '/d')"
   ]
  },
  {
   "cell_type": "markdown",
   "metadata": {
    "hideCode": true,
    "hidePrompt": true
   },
   "source": [
    "For the storage coefficient determine the intersection with the straight line with the line of zero drawdown. This is $t/r^2 = 2 \\times 10 ^{-4}$ min. \n",
    "Then setting the argument of the solution equal to 1 so that the computed drawdown is 0 and using the already obtained transmissivity yields the storage coefficient:"
   ]
  },
  {
   "cell_type": "markdown",
   "metadata": {
    "hideCode": true,
    "hidePrompt": true
   },
   "source": [
    "$$ S = 2.25T\\cdot(\\frac{t}{r^2})_0 $$"
   ]
  },
  {
   "cell_type": "markdown",
   "metadata": {
    "hideCode": true,
    "hidePrompt": true
   },
   "source": [
    "We have to convert to days to get the answer consistent with the transmissivity."
   ]
  },
  {
   "cell_type": "code",
   "execution_count": 63,
   "metadata": {
    "hideCode": true,
    "hidePrompt": true,
    "hide_input": true,
    "jupyter": {
     "outputs_hidden": false
    },
    "scrolled": true
   },
   "outputs": [
    {
     "name": "stdout",
     "output_type": "stream",
     "text": [
      "S = 1.69e-04\n"
     ]
    }
   ],
   "source": [
    "tr2 = 2e-4 / (24 * 60) # d/m2\n",
    "Sc = 2.25 * kD * tr2\n",
    "print('S = {:.2e}'.format(Sc))"
   ]
  },
  {
   "cell_type": "markdown",
   "metadata": {
    "hideCode": true,
    "hidePrompt": true
   },
   "source": [
    "Clearly, the result depends somewhat on the exact straigt line drawn through the bundel of curves for the observation wells. In the ideal situation, these curves fall onto each other. In this real-world case this is not true, which is a result of the non-uniformity of the aquifer and inaccuracies in the measurements. The real world is less homogeneous than the analytic solution presumes.\n",
    "\n",
    "**Task**: perform the same method of evaluation for the observations in borehole H90. Enter the values obtained from the plot and run the following cell for the evaluation."
   ]
  },
  {
   "cell_type": "code",
   "execution_count": 57,
   "metadata": {
    "hideCode": true,
    "hidePrompt": true,
    "hide_input": true
   },
   "outputs": [
    {
     "data": {
      "application/vnd.jupyter.widget-view+json": {
       "model_id": "98e5cf60aa4840e09277719e4b000181",
       "version_major": 2,
       "version_minor": 0
      },
      "text/plain": [
       "HBox(children=(BoundedFloatText(value=0.3, description='$\\\\Delta S$:', max=10.0), BoundedFloatText(value=0.000…"
      ]
     },
     "metadata": {},
     "output_type": "display_data"
    }
   ],
   "source": [
    "wds = widgets.BoundedFloatText(value=0.3, min=0.0, max=10.0, description='$\\Delta S$:', disabled=False)\n",
    "w0 = widgets.BoundedFloatText(value=2e-4, min=0.0, max=1.e-1, description='$(t/r^2)_0$:', disabled=False)\n",
    "widgets.HBox([wds,w0]) "
   ]
  },
  {
   "cell_type": "code",
   "execution_count": 64,
   "metadata": {
    "hideCode": true,
    "hidePrompt": true,
    "hide_input": true
   },
   "outputs": [
    {
     "name": "stdout",
     "output_type": "stream",
     "text": [
      "T = 541 m²/d\n",
      "S = 3.38e-04\n"
     ]
    }
   ],
   "source": [
    "kD = 2.3 * Q / (4 * np.pi * wds.value)\n",
    "print('T = {:.0f}'.format(kD) + ' m' + chr(0x00b2) + '/d')\n",
    "Sc = 2.25 * kD * w0.value/(24*60)\n",
    "print('S = {:.2e}'.format(Sc))"
   ]
  },
  {
   "cell_type": "markdown",
   "metadata": {
    "hideCode": true,
    "hidePrompt": true,
    "hide_input": true
   },
   "source": [
    "## Classical Interpretation using the Match on Double Log Scales\n",
    "\n",
    "The classical interpreation plots the measured drawdowns on double log paper (drawdown $s$ versus $t/r^2$ ) and compares them with the Theis type curve $W(u)$ versus $1/u$ also drawn on double log paper. Because $1/u = (4 T t) / (r^2 S)$ it follows that on logarthmic scales $1/u$ and $t/r^2$ differ only by a constant factor, which represents a horizontal shift on the log scale. The drawdown $s$ only differs the constant $Q/(4 \\pi T)$ from the well function $W(u)$, and so this implies a vertical shift on logarithmic scale. Hence the measured drawdown versus $t/r^2$ on double log scale looks exactly the same as the theis type curve but it is only shifted a given distance along the horizontal axis and a given distance along the vertical axis. These two shifts yield the sought transmissivity and storage coefficient.\n",
    "\n",
    "Below we draw the Theis type curve and the drawdown $s$ multiplied by a factor $A$ and the $t/r^2$ multiplied by a factor $B$, choosing $A$ and $B$ interactively until the measured and the type curve match best.\n",
    "\n",
    "In this worked out example, I already optimized the values of $A$ and $B$ by hand. Set them both to 1 and try optimizing them yourself."
   ]
  },
  {
   "cell_type": "code",
   "execution_count": 19,
   "metadata": {
    "hideCode": true,
    "hidePrompt": true,
    "hide_input": true,
    "scrolled": false
   },
   "outputs": [
    {
     "data": {
      "image/png": "[encoded data removed]",
      "text/plain": [
       "<Figure size 720x360 with 1 Axes>"
      ]
     },
     "metadata": {},
     "output_type": "display_data"
    }
   ],
   "source": [
    "plt.rcParams[\"figure.figsize\"] = (10,5)           \n",
    "A = 7.0; B = 1.0e7\n",
    "u = np.logspace(-4, 0.25, 41)\n",
    "fig = plt.figure(facecolor='w'); ax = fig.add_subplot()\n",
    "\n",
    "# the Theis type curve\n",
    "plt.plot(1/u, exp1(u), label='Theis')\n",
    "\n",
    "# The measurements\n",
    "plt.plot (B*df['t1']/24/60/30/30,A*df['s1'], '.', label = 'observation H30' )\n",
    "plt.plot (B*df['t2']/24/60/90/90,A*df['s2'], '.', label = 'observation H90' ) \n",
    "ax.set_xscale('log'); ax.set_yscale('log')\n",
    "plt.title('Type curve and $A \\cdot s$ vs $B \\cdot t/r^2$, with $A$={}, $B$={}'.format(A, B),fontsize=14)\n",
    "plt.xlabel('$1/u$ and $B \\, t/r^2$',fontsize=12); plt.ylabel('W(u) and $A \\, s$',fontsize=12)\n",
    "plt.xscale('log'); plt.yscale('log')\n",
    "plt.grid()\n",
    "plt.legend(loc='lower right',fontsize=12);"
   ]
  },
  {
   "cell_type": "markdown",
   "metadata": {
    "hideCode": true,
    "hidePrompt": true,
    "hide_input": false
   },
   "source": [
    "So $A \\cdot s = W(u)$ and $s = \\frac Q {2 \\pi T} W(u)$ and, therefore $A = \\frac {4 \\pi T} {Q}$ and $ T = \\frac {A Q} {4 \\pi}$. Click the next cell to obtain the result:"
   ]
  },
  {
   "cell_type": "code",
   "execution_count": 20,
   "metadata": {
    "hideCode": true,
    "hidePrompt": true,
    "hide_input": true,
    "scrolled": true
   },
   "outputs": [
    {
     "name": "stdout",
     "output_type": "stream",
     "text": [
      "T = 428 [m^2/d]\n"
     ]
    }
   ],
   "source": [
    "kD = A * Q /4 /np.pi\n",
    "print('T = {:.0f} [m^2/d]'.format(kD))"
   ]
  },
  {
   "cell_type": "markdown",
   "metadata": {
    "hideCode": true,
    "hidePrompt": true
   },
   "source": [
    "The storage coefficient then follows from $\\frac 1 u = B \\frac t {r^2}$, that is, $\\frac {4 T t} {r^2 S} = B \\frac t {r^2}$ so that $S = \\frac {4 T} B$. Click the next cell to obtain the result"
   ]
  },
  {
   "cell_type": "code",
   "execution_count": 21,
   "metadata": {
    "hideCode": true,
    "hidePrompt": true,
    "hide_input": true,
    "scrolled": false
   },
   "outputs": [
    {
     "name": "stdout",
     "output_type": "stream",
     "text": [
      "S = 1.71e-04 [-]\n"
     ]
    }
   ],
   "source": [
    "Sc = 4 * kD / B\n",
    "print('S = {:.2e} [-]'.format(Sc))"
   ]
  },
  {
   "cell_type": "markdown",
   "metadata": {
    "hideCode": true,
    "hidePrompt": true
   },
   "source": [
    "As one sees, the results obtained this way are consistent with those obtained by the previous method."
   ]
  },
  {
   "cell_type": "markdown",
   "metadata": {
    "hideCode": true,
    "hidePrompt": true
   },
   "source": [
    "## Graphical Interpretation for Transmissivity and Storativity \n",
    "\n",
    "The method peformed by shifting of the measurements drawn on double log paper over the Theis type curve also drawn on double log paper. However, because we now have a computer, we could just as well directly optimize $T$ and $S$ by trial and error to find the best match between type curve and measurements. For the following set the distance from the pumping well at which the data were measured:"
   ]
  },
  {
   "cell_type": "code",
   "execution_count": 22,
   "metadata": {
    "hideCode": true,
    "hidePrompt": true,
    "hide_input": true,
    "scrolled": false
   },
   "outputs": [
    {
     "data": {
      "application/vnd.jupyter.widget-view+json": {
       "model_id": "f35e878bc84c4883b484295af3260dcd",
       "version_major": 2,
       "version_minor": 0
      },
      "text/plain": [
       "BoundedFloatText(value=30.0, description='Distance:', max=90.0, min=30.0, step=60.0)"
      ]
     },
     "metadata": {},
     "output_type": "display_data"
    }
   ],
   "source": [
    "wr = widgets.BoundedFloatText(value=30.0, min=30.0, max=90.0, step = 60.0, description='Distance:', disabled=False)\n",
    "wr"
   ]
  },
  {
   "cell_type": "markdown",
   "metadata": {
    "hideCode": true,
    "hidePrompt": true,
    "hide_input": false
   },
   "source": [
    "### Multi-Graph\n",
    "Use the sliders to select values for $A$ and log10($B$)"
   ]
  },
  {
   "cell_type": "code",
   "execution_count": 23,
   "metadata": {
    "hideCode": true,
    "hidePrompt": true,
    "hide_input": true,
    "scrolled": false
   },
   "outputs": [
    {
     "data": {
      "application/vnd.jupyter.widget-view+json": {
       "model_id": "16820e7154204723bc9073a4abb36789",
       "version_major": 2,
       "version_minor": 0
      },
      "text/plain": [
       "HBox(children=(FloatSlider(value=1.0, description='$A$', max=10.0, min=0.1), FloatSlider(value=1.0, descriptio…"
      ]
     },
     "metadata": {},
     "output_type": "display_data"
    }
   ],
   "source": [
    "slider1 = widgets.FloatSlider(1, description = '$A$', min=0.1, max=10, step=0.1)\n",
    "slider2 = widgets.FloatSlider(1, description = 'log10($B$)', min=0.1, max=10, step=0.1)\n",
    "widgets.HBox([slider1,slider2])"
   ]
  },
  {
   "cell_type": "markdown",
   "metadata": {
    "hideCode": true,
    "hidePrompt": true,
    "hide_input": true
   },
   "source": [
    "Run the next cell and press the check button, whenever you have changed the slider values. Make sure that you enable toggle scrolling (see: Cell-Current outputs). In order to restart checking re-run the cell."
   ]
  },
  {
   "cell_type": "code",
   "execution_count": 75,
   "metadata": {
    "hideCode": true,
    "hidePrompt": true,
    "hide_input": true,
    "scrolled": false
   },
   "outputs": [
    {
     "data": {
      "application/vnd.jupyter.widget-view+json": {
       "model_id": "5b0a543134b04959bdc3b6f230e6130e",
       "version_major": 2,
       "version_minor": 0
      },
      "text/plain": [
       "Button(description='Check', style=ButtonStyle())"
      ]
     },
     "metadata": {},
     "output_type": "display_data"
    },
    {
     "data": {
      "image/png": "[encoded data removed]",
      "text/plain": [
       "<Figure size 432x288 with 1 Axes>"
      ]
     },
     "metadata": {},
     "output_type": "display_data"
    }
   ],
   "source": [
    "plt.rcParams[\"figure.figsize\"] = (10,5) \n",
    "from IPython.display import display \n",
    "\n",
    "btn = widgets.Button(description='Check')\n",
    "display(btn)\n",
    "\n",
    "def btn_eventhandler(obj):\n",
    "    global kD,Sc,count\n",
    "    A = slider1.value\n",
    "    B = 10**(slider2.value)\n",
    "\n",
    "    u = np.logspace(-4, 0.25, 41)\n",
    "    fig = plt.figure(facecolor='w'); ax = fig.add_subplot()\n",
    "\n",
    "    # the Theis type curve\n",
    "    plt.plot(1/u, exp1(u), label='Theis')\n",
    "\n",
    "    # the measurements\n",
    "    r = wr.value; Q = wQ.value\n",
    "    if r <= 50:\n",
    "        plt.plot (B*df['t1']/24/60/r/r,A*df['s1'], '.', label = 'observation' )\n",
    "    else:\n",
    "        plt.plot (B*df['t2']/24/60/r/r,A*df['s2'], '.', label = 'observation' ) \n",
    "        \n",
    "    ax.set_xscale('log'); ax.set_yscale('log');\n",
    "    plt.xlabel('$1/u$ and $B \\, t/r^2$',fontsize=16); plt.ylabel('W(u) and $A \\cdot s$',fontsize=16)\n",
    "    plt.xscale('log'); plt.yscale('log');\n",
    "    plt.grid();\n",
    "    plt.legend(loc='upper left',fontsize=12);\n",
    "    T = A * Q /4 /np.pi   # print('T = {:.0f} m2/d'.format(kD))\n",
    "    S = 4 * T / B         #print('S = {:.2e} [-]'.format(S))\n",
    "    ax.text (380,0.23,'$T =%.1f m^2/d$' % (T, ),fontsize=12)\n",
    "    ax.text (380,0.15,'$S =%.2e $' % (S, ),fontsize=12)\n",
    "    ax.set_title('Graph '+str(count), size=14); count = count+1\n",
    "    Sc = S; kD = T\n",
    "\n",
    "count = 1    \n",
    "btn.on_click(btn_eventhandler)"
   ]
  },
  {
   "cell_type": "markdown",
   "metadata": {
    "hideCode": true,
    "hidePrompt": true
   },
   "source": [
    "### Single Graph\n",
    "Run the following cell to see the effect of slider updated in a single figure."
   ]
  },
  {
   "cell_type": "code",
   "execution_count": 68,
   "metadata": {
    "hideCode": true,
    "hidePrompt": true,
    "hide_input": true,
    "scrolled": false
   },
   "outputs": [
    {
     "data": {
      "application/javascript": [
       "/* Put everything inside the global mpl namespace */\n",
       "window.mpl = {};\n",
       "\n",
       "\n",
       "mpl.get_websocket_type = function() {\n",
       "    if (typeof(WebSocket) !== 'undefined') {\n",
       "        return WebSocket;\n",
       "    } else if (typeof(MozWebSocket) !== 'undefined') {\n",
       "        return MozWebSocket;\n",
       "    } else {\n",
       "        alert('Your browser does not have WebSocket support. ' +\n",
       "              'Please try Chrome, Safari or Firefox ≥ 6. ' +\n",
       "              'Firefox 4 and 5 are also supported but you ' +\n",
       "              'have to enable WebSockets in about:config.');\n",
       "    };\n",
       "}\n",
       "\n",
       "mpl.figure = function(figure_id, websocket, ondownload, parent_element) {\n",
       "    this.id = figure_id;\n",
       "\n",
       "    this.ws = websocket;\n",
       "\n",
       "    this.supports_binary = (this.ws.binaryType != undefined);\n",
       "\n",
       "    if (!this.supports_binary) {\n",
       "        var warnings = document.getElementById(\"mpl-warnings\");\n",
       "        if (warnings) {\n",
       "            warnings.style.display = 'block';\n",
       "            warnings.textContent = (\n",
       "                \"This browser does not support binary websocket messages. \" +\n",
       "                    \"Performance may be slow.\");\n",
       "        }\n",
       "    }\n",
       "\n",
       "    this.imageObj = new Image();\n",
       "\n",
       "    this.context = undefined;\n",
       "    this.message = undefined;\n",
       "    this.canvas = undefined;\n",
       "    this.rubberband_canvas = undefined;\n",
       "    this.rubberband_context = undefined;\n",
       "    this.format_dropdown = undefined;\n",
       "\n",
       "    this.image_mode = 'full';\n",
       "\n",
       "    this.root = $('<div/>');\n",
       "    this._root_extra_style(this.root)\n",
       "    this.root.attr('style', 'display: inline-block');\n",
       "\n",
       "    $(parent_element).append(this.root);\n",
       "\n",
       "    this._init_header(this);\n",
       "    this._init_canvas(this);\n",
       "    this._init_toolbar(this);\n",
       "\n",
       "    var fig = this;\n",
       "\n",
       "    this.waiting = false;\n",
       "\n",
       "    this.ws.onopen =  function () {\n",
       "            fig.send_message(\"supports_binary\", {value: fig.supports_binary});\n",
       "            fig.send_message(\"send_image_mode\", {});\n",
       "            if (mpl.ratio != 1) {\n",
       "                fig.send_message(\"set_dpi_ratio\", {'dpi_ratio': mpl.ratio});\n",
       "            }\n",
       "            fig.send_message(\"refresh\", {});\n",
       "        }\n",
       "\n",
       "    this.imageObj.onload = function() {\n",
       "            if (fig.image_mode == 'full') {\n",
       "                // Full images could contain transparency (where diff images\n",
       "                // almost always do), so we need to clear the canvas so that\n",
       "                // there is no ghosting.\n",
       "                fig.context.clearRect(0, 0, fig.canvas.width, fig.canvas.height);\n",
       "            }\n",
       "            fig.context.drawImage(fig.imageObj, 0, 0);\n",
       "        };\n",
       "\n",
       "    this.imageObj.onunload = function() {\n",
       "        fig.ws.close();\n",
       "    }\n",
       "\n",
       "    this.ws.onmessage = this._make_on_message_function(this);\n",
       "\n",
       "    this.ondownload = ondownload;\n",
       "}\n",
       "\n",
       "mpl.figure.prototype._init_header = function() {\n",
       "    var titlebar = $(\n",
       "        '<div class=\"ui-dialog-titlebar ui-widget-header ui-corner-all ' +\n",
       "        'ui-helper-clearfix\"/>');\n",
       "    var titletext = $(\n",
       "        '<div class=\"ui-dialog-title\" style=\"width: 100%; ' +\n",
       "        'text-align: center; padding: 3px;\"/>');\n",
       "    titlebar.append(titletext)\n",
       "    this.root.append(titlebar);\n",
       "    this.header = titletext[0];\n",
       "}\n",
       "\n",
       "\n",
       "\n",
       "mpl.figure.prototype._canvas_extra_style = function(canvas_div) {\n",
       "\n",
       "}\n",
       "\n",
       "\n",
       "mpl.figure.prototype._root_extra_style = function(canvas_div) {\n",
       "\n",
       "}\n",
       "\n",
       "mpl.figure.prototype._init_canvas = function() {\n",
       "    var fig = this;\n",
       "\n",
       "    var canvas_div = $('<div/>');\n",
       "\n",
       "    canvas_div.attr('style', 'position: relative; clear: both; outline: 0');\n",
       "\n",
       "    function canvas_keyboard_event(event) {\n",
       "        return fig.key_event(event, event['data']);\n",
       "    }\n",
       "\n",
       "    canvas_div.keydown('key_press', canvas_keyboard_event);\n",
       "    canvas_div.keyup('key_release', canvas_keyboard_event);\n",
       "    this.canvas_div = canvas_div\n",
       "    this._canvas_extra_style(canvas_div)\n",
       "    this.root.append(canvas_div);\n",
       "\n",
       "    var canvas = $('<canvas/>');\n",
       "    canvas.addClass('mpl-canvas');\n",
       "    canvas.attr('style', \"left: 0; top: 0; z-index: 0; outline: 0\")\n",
       "\n",
       "    this.canvas = canvas[0];\n",
       "    this.context = canvas[0].getContext(\"2d\");\n",
       "\n",
       "    var backingStore = this.context.backingStorePixelRatio ||\n",
       "\tthis.context.webkitBackingStorePixelRatio ||\n",
       "\tthis.context.mozBackingStorePixelRatio ||\n",
       "\tthis.context.msBackingStorePixelRatio ||\n",
       "\tthis.context.oBackingStorePixelRatio ||\n",
       "\tthis.context.backingStorePixelRatio || 1;\n",
       "\n",
       "    mpl.ratio = (window.devicePixelRatio || 1) / backingStore;\n",
       "\n",
       "    var rubberband = $('<canvas/>');\n",
       "    rubberband.attr('style', \"position: absolute; left: 0; top: 0; z-index: 1;\")\n",
       "\n",
       "    var pass_mouse_events = true;\n",
       "\n",
       "    canvas_div.resizable({\n",
       "        start: function(event, ui) {\n",
       "            pass_mouse_events = false;\n",
       "        },\n",
       "        resize: function(event, ui) {\n",
       "            fig.request_resize(ui.size.width, ui.size.height);\n",
       "        },\n",
       "        stop: function(event, ui) {\n",
       "            pass_mouse_events = true;\n",
       "            fig.request_resize(ui.size.width, ui.size.height);\n",
       "        },\n",
       "    });\n",
       "\n",
       "    function mouse_event_fn(event) {\n",
       "        if (pass_mouse_events)\n",
       "            return fig.mouse_event(event, event['data']);\n",
       "    }\n",
       "\n",
       "    rubberband.mousedown('button_press', mouse_event_fn);\n",
       "    rubberband.mouseup('button_release', mouse_event_fn);\n",
       "    // Throttle sequential mouse events to 1 every 20ms.\n",
       "    rubberband.mousemove('motion_notify', mouse_event_fn);\n",
       "\n",
       "    rubberband.mouseenter('figure_enter', mouse_event_fn);\n",
       "    rubberband.mouseleave('figure_leave', mouse_event_fn);\n",
       "\n",
       "    canvas_div.on(\"wheel\", function (event) {\n",
       "        event = event.originalEvent;\n",
       "        event['data'] = 'scroll'\n",
       "        if (event.deltaY < 0) {\n",
       "            event.step = 1;\n",
       "        } else {\n",
       "            event.step = -1;\n",
       "        }\n",
       "        mouse_event_fn(event);\n",
       "    });\n",
       "\n",
       "    canvas_div.append(canvas);\n",
       "    canvas_div.append(rubberband);\n",
       "\n",
       "    this.rubberband = rubberband;\n",
       "    this.rubberband_canvas = rubberband[0];\n",
       "    this.rubberband_context = rubberband[0].getContext(\"2d\");\n",
       "    this.rubberband_context.strokeStyle = \"#000000\";\n",
       "\n",
       "    this._resize_canvas = function(width, height) {\n",
       "        // Keep the size of the canvas, canvas container, and rubber band\n",
       "        // canvas in synch.\n",
       "        canvas_div.css('width', width)\n",
       "        canvas_div.css('height', height)\n",
       "\n",
       "        canvas.attr('width', width * mpl.ratio);\n",
       "        canvas.attr('height', height * mpl.ratio);\n",
       "        canvas.attr('style', 'width: ' + width + 'px; height: ' + height + 'px;');\n",
       "\n",
       "        rubberband.attr('width', width);\n",
       "        rubberband.attr('height', height);\n",
       "    }\n",
       "\n",
       "    // Set the figure to an initial 600x600px, this will subsequently be updated\n",
       "    // upon first draw.\n",
       "    this._resize_canvas(600, 600);\n",
       "\n",
       "    // Disable right mouse context menu.\n",
       "    $(this.rubberband_canvas).bind(\"contextmenu\",function(e){\n",
       "        return false;\n",
       "    });\n",
       "\n",
       "    function set_focus () {\n",
       "        canvas.focus();\n",
       "        canvas_div.focus();\n",
       "    }\n",
       "\n",
       "    window.setTimeout(set_focus, 100);\n",
       "}\n",
       "\n",
       "mpl.figure.prototype._init_toolbar = function() {\n",
       "    var fig = this;\n",
       "\n",
       "    var nav_element = $('<div/>');\n",
       "    nav_element.attr('style', 'width: 100%');\n",
       "    this.root.append(nav_element);\n",
       "\n",
       "    // Define a callback function for later on.\n",
       "    function toolbar_event(event) {\n",
       "        return fig.toolbar_button_onclick(event['data']);\n",
       "    }\n",
       "    function toolbar_mouse_event(event) {\n",
       "        return fig.toolbar_button_onmouseover(event['data']);\n",
       "    }\n",
       "\n",
       "    for(var toolbar_ind in mpl.toolbar_items) {\n",
       "        var name = mpl.toolbar_items[toolbar_ind][0];\n",
       "        var tooltip = mpl.toolbar_items[toolbar_ind][1];\n",
       "        var image = mpl.toolbar_items[toolbar_ind][2];\n",
       "        var method_name = mpl.toolbar_items[toolbar_ind][3];\n",
       "\n",
       "        if (!name) {\n",
       "            // put a spacer in here.\n",
       "            continue;\n",
       "        }\n",
       "        var button = $('<button/>');\n",
       "        button.addClass('ui-button ui-widget ui-state-default ui-corner-all ' +\n",
       "                        'ui-button-icon-only');\n",
       "        button.attr('role', 'button');\n",
       "        button.attr('aria-disabled', 'false');\n",
       "        button.click(method_name, toolbar_event);\n",
       "        button.mouseover(tooltip, toolbar_mouse_event);\n",
       "\n",
       "        var icon_img = $('<span/>');\n",
       "        icon_img.addClass('ui-button-icon-primary ui-icon');\n",
       "        icon_img.addClass(image);\n",
       "        icon_img.addClass('ui-corner-all');\n",
       "\n",
       "        var tooltip_span = $('<span/>');\n",
       "        tooltip_span.addClass('ui-button-text');\n",
       "        tooltip_span.html(tooltip);\n",
       "\n",
       "        button.append(icon_img);\n",
       "        button.append(tooltip_span);\n",
       "\n",
       "        nav_element.append(button);\n",
       "    }\n",
       "\n",
       "    var fmt_picker_span = $('<span/>');\n",
       "\n",
       "    var fmt_picker = $('<select/>');\n",
       "    fmt_picker.addClass('mpl-toolbar-option ui-widget ui-widget-content');\n",
       "    fmt_picker_span.append(fmt_picker);\n",
       "    nav_element.append(fmt_picker_span);\n",
       "    this.format_dropdown = fmt_picker[0];\n",
       "\n",
       "    for (var ind in mpl.extensions) {\n",
       "        var fmt = mpl.extensions[ind];\n",
       "        var option = $(\n",
       "            '<option/>', {selected: fmt === mpl.default_extension}).html(fmt);\n",
       "        fmt_picker.append(option);\n",
       "    }\n",
       "\n",
       "    // Add hover states to the ui-buttons\n",
       "    $( \".ui-button\" ).hover(\n",
       "        function() { $(this).addClass(\"ui-state-hover\");},\n",
       "        function() { $(this).removeClass(\"ui-state-hover\");}\n",
       "    );\n",
       "\n",
       "    var status_bar = $('<span class=\"mpl-message\"/>');\n",
       "    nav_element.append(status_bar);\n",
       "    this.message = status_bar[0];\n",
       "}\n",
       "\n",
       "mpl.figure.prototype.request_resize = function(x_pixels, y_pixels) {\n",
       "    // Request matplotlib to resize the figure. Matplotlib will then trigger a resize in the client,\n",
       "    // which will in turn request a refresh of the image.\n",
       "    this.send_message('resize', {'width': x_pixels, 'height': y_pixels});\n",
       "}\n",
       "\n",
       "mpl.figure.prototype.send_message = function(type, properties) {\n",
       "    properties['type'] = type;\n",
       "    properties['figure_id'] = this.id;\n",
       "    this.ws.send(JSON.stringify(properties));\n",
       "}\n",
       "\n",
       "mpl.figure.prototype.send_draw_message = function() {\n",
       "    if (!this.waiting) {\n",
       "        this.waiting = true;\n",
       "        this.ws.send(JSON.stringify({type: \"draw\", figure_id: this.id}));\n",
       "    }\n",
       "}\n",
       "\n",
       "\n",
       "mpl.figure.prototype.handle_save = function(fig, msg) {\n",
       "    var format_dropdown = fig.format_dropdown;\n",
       "    var format = format_dropdown.options[format_dropdown.selectedIndex].value;\n",
       "    fig.ondownload(fig, format);\n",
       "}\n",
       "\n",
       "\n",
       "mpl.figure.prototype.handle_resize = function(fig, msg) {\n",
       "    var size = msg['size'];\n",
       "    if (size[0] != fig.canvas.width || size[1] != fig.canvas.height) {\n",
       "        fig._resize_canvas(size[0], size[1]);\n",
       "        fig.send_message(\"refresh\", {});\n",
       "    };\n",
       "}\n",
       "\n",
       "mpl.figure.prototype.handle_rubberband = function(fig, msg) {\n",
       "    var x0 = msg['x0'] / mpl.ratio;\n",
       "    var y0 = (fig.canvas.height - msg['y0']) / mpl.ratio;\n",
       "    var x1 = msg['x1'] / mpl.ratio;\n",
       "    var y1 = (fig.canvas.height - msg['y1']) / mpl.ratio;\n",
       "    x0 = Math.floor(x0) + 0.5;\n",
       "    y0 = Math.floor(y0) + 0.5;\n",
       "    x1 = Math.floor(x1) + 0.5;\n",
       "    y1 = Math.floor(y1) + 0.5;\n",
       "    var min_x = Math.min(x0, x1);\n",
       "    var min_y = Math.min(y0, y1);\n",
       "    var width = Math.abs(x1 - x0);\n",
       "    var height = Math.abs(y1 - y0);\n",
       "\n",
       "    fig.rubberband_context.clearRect(\n",
       "        0, 0, fig.canvas.width / mpl.ratio, fig.canvas.height / mpl.ratio);\n",
       "\n",
       "    fig.rubberband_context.strokeRect(min_x, min_y, width, height);\n",
       "}\n",
       "\n",
       "mpl.figure.prototype.handle_figure_label = function(fig, msg) {\n",
       "    // Updates the figure title.\n",
       "    fig.header.textContent = msg['label'];\n",
       "}\n",
       "\n",
       "mpl.figure.prototype.handle_cursor = function(fig, msg) {\n",
       "    var cursor = msg['cursor'];\n",
       "    switch(cursor)\n",
       "    {\n",
       "    case 0:\n",
       "        cursor = 'pointer';\n",
       "        break;\n",
       "    case 1:\n",
       "        cursor = 'default';\n",
       "        break;\n",
       "    case 2:\n",
       "        cursor = 'crosshair';\n",
       "        break;\n",
       "    case 3:\n",
       "        cursor = 'move';\n",
       "        break;\n",
       "    }\n",
       "    fig.rubberband_canvas.style.cursor = cursor;\n",
       "}\n",
       "\n",
       "mpl.figure.prototype.handle_message = function(fig, msg) {\n",
       "    fig.message.textContent = msg['message'];\n",
       "}\n",
       "\n",
       "mpl.figure.prototype.handle_draw = function(fig, msg) {\n",
       "    // Request the server to send over a new figure.\n",
       "    fig.send_draw_message();\n",
       "}\n",
       "\n",
       "mpl.figure.prototype.handle_image_mode = function(fig, msg) {\n",
       "    fig.image_mode = msg['mode'];\n",
       "}\n",
       "\n",
       "mpl.figure.prototype.updated_canvas_event = function() {\n",
       "    // Called whenever the canvas gets updated.\n",
       "    this.send_message(\"ack\", {});\n",
       "}\n",
       "\n",
       "// A function to construct a web socket function for onmessage handling.\n",
       "// Called in the figure constructor.\n",
       "mpl.figure.prototype._make_on_message_function = function(fig) {\n",
       "    return function socket_on_message(evt) {\n",
       "        if (evt.data instanceof Blob) {\n",
       "            /* FIXME: We get \"Resource interpreted as Image but\n",
       "             * transferred with MIME type text/plain:\" errors on\n",
       "             * Chrome.  But how to set the MIME type?  It doesn't seem\n",
       "             * to be part of the websocket stream */\n",
       "            evt.data.type = \"image/png\";\n",
       "\n",
       "            /* Free the memory for the previous frames */\n",
       "            if (fig.imageObj.src) {\n",
       "                (window.URL || window.webkitURL).revokeObjectURL(\n",
       "                    fig.imageObj.src);\n",
       "            }\n",
       "\n",
       "            fig.imageObj.src = (window.URL || window.webkitURL).createObjectURL(\n",
       "                evt.data);\n",
       "            fig.updated_canvas_event();\n",
       "            fig.waiting = false;\n",
       "            return;\n",
       "        }\n",
       "        else if (typeof evt.data === 'string' && evt.data.slice(0, 21) == \"data:image/png;base64\") {\n",
       "            fig.imageObj.src = evt.data;\n",
       "            fig.updated_canvas_event();\n",
       "            fig.waiting = false;\n",
       "            return;\n",
       "        }\n",
       "\n",
       "        var msg = JSON.parse(evt.data);\n",
       "        var msg_type = msg['type'];\n",
       "\n",
       "        // Call the  \"handle_{type}\" callback, which takes\n",
       "        // the figure and JSON message as its only arguments.\n",
       "        try {\n",
       "            var callback = fig[\"handle_\" + msg_type];\n",
       "        } catch (e) {\n",
       "            console.log(\"No handler for the '\" + msg_type + \"' message type: \", msg);\n",
       "            return;\n",
       "        }\n",
       "\n",
       "        if (callback) {\n",
       "            try {\n",
       "                // console.log(\"Handling '\" + msg_type + \"' message: \", msg);\n",
       "                callback(fig, msg);\n",
       "            } catch (e) {\n",
       "                console.log(\"Exception inside the 'handler_\" + msg_type + \"' callback:\", e, e.stack, msg);\n",
       "            }\n",
       "        }\n",
       "    };\n",
       "}\n",
       "\n",
       "// from http://stackoverflow.com/questions/1114465/getting-mouse-location-in-canvas\n",
       "mpl.findpos = function(e) {\n",
       "    //this section is from http://www.quirksmode.org/js/events_properties.html\n",
       "    var targ;\n",
       "    if (!e)\n",
       "        e = window.event;\n",
       "    if (e.target)\n",
       "        targ = e.target;\n",
       "    else if (e.srcElement)\n",
       "        targ = e.srcElement;\n",
       "    if (targ.nodeType == 3) // defeat Safari bug\n",
       "        targ = targ.parentNode;\n",
       "\n",
       "    // jQuery normalizes the pageX and pageY\n",
       "    // pageX,Y are the mouse positions relative to the document\n",
       "    // offset() returns the position of the element relative to the document\n",
       "    var x = e.pageX - $(targ).offset().left;\n",
       "    var y = e.pageY - $(targ).offset().top;\n",
       "\n",
       "    return {\"x\": x, \"y\": y};\n",
       "};\n",
       "\n",
       "/*\n",
       " * return a copy of an object with only non-object keys\n",
       " * we need this to avoid circular references\n",
       " * http://stackoverflow.com/a/24161582/3208463\n",
       " */\n",
       "function simpleKeys (original) {\n",
       "  return Object.keys(original).reduce(function (obj, key) {\n",
       "    if (typeof original[key] !== 'object')\n",
       "        obj[key] = original[key]\n",
       "    return obj;\n",
       "  }, {});\n",
       "}\n",
       "\n",
       "mpl.figure.prototype.mouse_event = function(event, name) {\n",
       "    var canvas_pos = mpl.findpos(event)\n",
       "\n",
       "    if (name === 'button_press')\n",
       "    {\n",
       "        this.canvas.focus();\n",
       "        this.canvas_div.focus();\n",
       "    }\n",
       "\n",
       "    var x = canvas_pos.x * mpl.ratio;\n",
       "    var y = canvas_pos.y * mpl.ratio;\n",
       "\n",
       "    this.send_message(name, {x: x, y: y, button: event.button,\n",
       "                             step: event.step,\n",
       "                             guiEvent: simpleKeys(event)});\n",
       "\n",
       "    /* This prevents the web browser from automatically changing to\n",
       "     * the text insertion cursor when the button is pressed.  We want\n",
       "     * to control all of the cursor setting manually through the\n",
       "     * 'cursor' event from matplotlib */\n",
       "    event.preventDefault();\n",
       "    return false;\n",
       "}\n",
       "\n",
       "mpl.figure.prototype._key_event_extra = function(event, name) {\n",
       "    // Handle any extra behaviour associated with a key event\n",
       "}\n",
       "\n",
       "mpl.figure.prototype.key_event = function(event, name) {\n",
       "\n",
       "    // Prevent repeat events\n",
       "    if (name == 'key_press')\n",
       "    {\n",
       "        if (event.which === this._key)\n",
       "            return;\n",
       "        else\n",
       "            this._key = event.which;\n",
       "    }\n",
       "    if (name == 'key_release')\n",
       "        this._key = null;\n",
       "\n",
       "    var value = '';\n",
       "    if (event.ctrlKey && event.which != 17)\n",
       "        value += \"ctrl+\";\n",
       "    if (event.altKey && event.which != 18)\n",
       "        value += \"alt+\";\n",
       "    if (event.shiftKey && event.which != 16)\n",
       "        value += \"shift+\";\n",
       "\n",
       "    value += 'k';\n",
       "    value += event.which.toString();\n",
       "\n",
       "    this._key_event_extra(event, name);\n",
       "\n",
       "    this.send_message(name, {key: value,\n",
       "                             guiEvent: simpleKeys(event)});\n",
       "    return false;\n",
       "}\n",
       "\n",
       "mpl.figure.prototype.toolbar_button_onclick = function(name) {\n",
       "    if (name == 'download') {\n",
       "        this.handle_save(this, null);\n",
       "    } else {\n",
       "        this.send_message(\"toolbar_button\", {name: name});\n",
       "    }\n",
       "};\n",
       "\n",
       "mpl.figure.prototype.toolbar_button_onmouseover = function(tooltip) {\n",
       "    this.message.textContent = tooltip;\n",
       "};\n",
       "mpl.toolbar_items = [[\"Home\", \"Reset original view\", \"fa fa-home icon-home\", \"home\"], [\"Back\", \"Back to previous view\", \"fa fa-arrow-left icon-arrow-left\", \"back\"], [\"Forward\", \"Forward to next view\", \"fa fa-arrow-right icon-arrow-right\", \"forward\"], [\"\", \"\", \"\", \"\"], [\"Pan\", \"Pan axes with left mouse, zoom with right\", \"fa fa-arrows icon-move\", \"pan\"], [\"Zoom\", \"Zoom to rectangle\", \"fa fa-square-o icon-check-empty\", \"zoom\"], [\"\", \"\", \"\", \"\"], [\"Download\", \"Download plot\", \"fa fa-floppy-o icon-save\", \"download\"]];\n",
       "\n",
       "mpl.extensions = [\"eps\", \"jpeg\", \"pdf\", \"png\", \"ps\", \"raw\", \"svg\", \"tif\"];\n",
       "\n",
       "mpl.default_extension = \"png\";var comm_websocket_adapter = function(comm) {\n",
       "    // Create a \"websocket\"-like object which calls the given IPython comm\n",
       "    // object with the appropriate methods. Currently this is a non binary\n",
       "    // socket, so there is still some room for performance tuning.\n",
       "    var ws = {};\n",
       "\n",
       "    ws.close = function() {\n",
       "        comm.close()\n",
       "    };\n",
       "    ws.send = function(m) {\n",
       "        //console.log('sending', m);\n",
       "        comm.send(m);\n",
       "    };\n",
       "    // Register the callback with on_msg.\n",
       "    comm.on_msg(function(msg) {\n",
       "        //console.log('receiving', msg['content']['data'], msg);\n",
       "        // Pass the mpl event to the overridden (by mpl) onmessage function.\n",
       "        ws.onmessage(msg['content']['data'])\n",
       "    });\n",
       "    return ws;\n",
       "}\n",
       "\n",
       "mpl.mpl_figure_comm = function(comm, msg) {\n",
       "    // This is the function which gets called when the mpl process\n",
       "    // starts-up an IPython Comm through the \"matplotlib\" channel.\n",
       "\n",
       "    var id = msg.content.data.id;\n",
       "    // Get hold of the div created by the display call when the Comm\n",
       "    // socket was opened in Python.\n",
       "    var element = $(\"#\" + id);\n",
       "    var ws_proxy = comm_websocket_adapter(comm)\n",
       "\n",
       "    function ondownload(figure, format) {\n",
       "        window.open(figure.imageObj.src);\n",
       "    }\n",
       "\n",
       "    var fig = new mpl.figure(id, ws_proxy,\n",
       "                           ondownload,\n",
       "                           element.get(0));\n",
       "\n",
       "    // Call onopen now - mpl needs it, as it is assuming we've passed it a real\n",
       "    // web socket which is closed, not our websocket->open comm proxy.\n",
       "    ws_proxy.onopen();\n",
       "\n",
       "    fig.parent_element = element.get(0);\n",
       "    fig.cell_info = mpl.find_output_cell(\"<div id='\" + id + \"'></div>\");\n",
       "    if (!fig.cell_info) {\n",
       "        console.error(\"Failed to find cell for figure\", id, fig);\n",
       "        return;\n",
       "    }\n",
       "\n",
       "    var output_index = fig.cell_info[2]\n",
       "    var cell = fig.cell_info[0];\n",
       "\n",
       "};\n",
       "\n",
       "mpl.figure.prototype.handle_close = function(fig, msg) {\n",
       "    var width = fig.canvas.width/mpl.ratio\n",
       "    fig.root.unbind('remove')\n",
       "\n",
       "    // Update the output cell to use the data from the current canvas.\n",
       "    fig.push_to_output();\n",
       "    var dataURL = fig.canvas.toDataURL();\n",
       "    // Re-enable the keyboard manager in IPython - without this line, in FF,\n",
       "    // the notebook keyboard shortcuts fail.\n",
       "    IPython.keyboard_manager.enable()\n",
       "    $(fig.parent_element).html('<img src=\"' + dataURL + '\" width=\"' + width + '\">');\n",
       "    fig.close_ws(fig, msg);\n",
       "}\n",
       "\n",
       "mpl.figure.prototype.close_ws = function(fig, msg){\n",
       "    fig.send_message('closing', msg);\n",
       "    // fig.ws.close()\n",
       "}\n",
       "\n",
       "mpl.figure.prototype.push_to_output = function(remove_interactive) {\n",
       "    // Turn the data on the canvas into data in the output cell.\n",
       "    var width = this.canvas.width/mpl.ratio\n",
       "    var dataURL = this.canvas.toDataURL();\n",
       "    this.cell_info[1]['text/html'] = '<img src=\"' + dataURL + '\" width=\"' + width + '\">';\n",
       "}\n",
       "\n",
       "mpl.figure.prototype.updated_canvas_event = function() {\n",
       "    // Tell IPython that the notebook contents must change.\n",
       "    IPython.notebook.set_dirty(true);\n",
       "    this.send_message(\"ack\", {});\n",
       "    var fig = this;\n",
       "    // Wait a second, then push the new image to the DOM so\n",
       "    // that it is saved nicely (might be nice to debounce this).\n",
       "    setTimeout(function () { fig.push_to_output() }, 1000);\n",
       "}\n",
       "\n",
       "mpl.figure.prototype._init_toolbar = function() {\n",
       "    var fig = this;\n",
       "\n",
       "    var nav_element = $('<div/>');\n",
       "    nav_element.attr('style', 'width: 100%');\n",
       "    this.root.append(nav_element);\n",
       "\n",
       "    // Define a callback function for later on.\n",
       "    function toolbar_event(event) {\n",
       "        return fig.toolbar_button_onclick(event['data']);\n",
       "    }\n",
       "    function toolbar_mouse_event(event) {\n",
       "        return fig.toolbar_button_onmouseover(event['data']);\n",
       "    }\n",
       "\n",
       "    for(var toolbar_ind in mpl.toolbar_items){\n",
       "        var name = mpl.toolbar_items[toolbar_ind][0];\n",
       "        var tooltip = mpl.toolbar_items[toolbar_ind][1];\n",
       "        var image = mpl.toolbar_items[toolbar_ind][2];\n",
       "        var method_name = mpl.toolbar_items[toolbar_ind][3];\n",
       "\n",
       "        if (!name) { continue; };\n",
       "\n",
       "        var button = $('<button class=\"btn btn-default\" href=\"#\" title=\"' + name + '\"><i class=\"fa ' + image + ' fa-lg\"></i></button>');\n",
       "        button.click(method_name, toolbar_event);\n",
       "        button.mouseover(tooltip, toolbar_mouse_event);\n",
       "        nav_element.append(button);\n",
       "    }\n",
       "\n",
       "    // Add the status bar.\n",
       "    var status_bar = $('<span class=\"mpl-message\" style=\"text-align:right; float: right;\"/>');\n",
       "    nav_element.append(status_bar);\n",
       "    this.message = status_bar[0];\n",
       "\n",
       "    // Add the close button to the window.\n",
       "    var buttongrp = $('<div class=\"btn-group inline pull-right\"></div>');\n",
       "    var button = $('<button class=\"btn btn-mini btn-primary\" href=\"#\" title=\"Stop Interaction\"><i class=\"fa fa-power-off icon-remove icon-large\"></i></button>');\n",
       "    button.click(function (evt) { fig.handle_close(fig, {}); } );\n",
       "    button.mouseover('Stop Interaction', toolbar_mouse_event);\n",
       "    buttongrp.append(button);\n",
       "    var titlebar = this.root.find($('.ui-dialog-titlebar'));\n",
       "    titlebar.prepend(buttongrp);\n",
       "}\n",
       "\n",
       "mpl.figure.prototype._root_extra_style = function(el){\n",
       "    var fig = this\n",
       "    el.on(\"remove\", function(){\n",
       "\tfig.close_ws(fig, {});\n",
       "    });\n",
       "}\n",
       "\n",
       "mpl.figure.prototype._canvas_extra_style = function(el){\n",
       "    // this is important to make the div 'focusable\n",
       "    el.attr('tabindex', 0)\n",
       "    // reach out to IPython and tell the keyboard manager to turn it's self\n",
       "    // off when our div gets focus\n",
       "\n",
       "    // location in version 3\n",
       "    if (IPython.notebook.keyboard_manager) {\n",
       "        IPython.notebook.keyboard_manager.register_events(el);\n",
       "    }\n",
       "    else {\n",
       "        // location in version 2\n",
       "        IPython.keyboard_manager.register_events(el);\n",
       "    }\n",
       "\n",
       "}\n",
       "\n",
       "mpl.figure.prototype._key_event_extra = function(event, name) {\n",
       "    var manager = IPython.notebook.keyboard_manager;\n",
       "    if (!manager)\n",
       "        manager = IPython.keyboard_manager;\n",
       "\n",
       "    // Check for shift+enter\n",
       "    if (event.shiftKey && event.which == 13) {\n",
       "        this.canvas_div.blur();\n",
       "        // select the cell after this one\n",
       "        var index = IPython.notebook.find_cell_index(this.cell_info[0]);\n",
       "        IPython.notebook.select(index + 1);\n",
       "    }\n",
       "}\n",
       "\n",
       "mpl.figure.prototype.handle_save = function(fig, msg) {\n",
       "    fig.ondownload(fig, null);\n",
       "}\n",
       "\n",
       "\n",
       "mpl.find_output_cell = function(html_output) {\n",
       "    // Return the cell and output element which can be found *uniquely* in the notebook.\n",
       "    // Note - this is a bit hacky, but it is done because the \"notebook_saving.Notebook\"\n",
       "    // IPython event is triggered only after the cells have been serialised, which for\n",
       "    // our purposes (turning an active figure into a static one), is too late.\n",
       "    var cells = IPython.notebook.get_cells();\n",
       "    var ncells = cells.length;\n",
       "    for (var i=0; i<ncells; i++) {\n",
       "        var cell = cells[i];\n",
       "        if (cell.cell_type === 'code'){\n",
       "            for (var j=0; j<cell.output_area.outputs.length; j++) {\n",
       "                var data = cell.output_area.outputs[j];\n",
       "                if (data.data) {\n",
       "                    // IPython >= 3 moved mimebundle to data attribute of output\n",
       "                    data = data.data;\n",
       "                }\n",
       "                if (data['text/html'] == html_output) {\n",
       "                    return [cell, data, j];\n",
       "                }\n",
       "            }\n",
       "        }\n",
       "    }\n",
       "}\n",
       "\n",
       "// Register the function which deals with the matplotlib target/channel.\n",
       "// The kernel may be null if the page has been refreshed.\n",
       "if (IPython.notebook.kernel != null) {\n",
       "    IPython.notebook.kernel.comm_manager.register_target('matplotlib', mpl.mpl_figure_comm);\n",
       "}\n"
      ],
      "text/plain": [
       "<IPython.core.display.Javascript object>"
      ]
     },
     "metadata": {},
     "output_type": "display_data"
    },
    {
     "data": {
      "text/html": [
       "<img src=\"data:image/png;base64,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\" width=\"720\">"
      ],
      "text/plain": [
       "<IPython.core.display.HTML object>"
      ]
     },
     "metadata": {},
     "output_type": "display_data"
    },
    {
     "data": {
      "application/vnd.jupyter.widget-view+json": {
       "model_id": "804492d3c02b4fb8a5b5392b32678b1e",
       "version_major": 2,
       "version_minor": 0
      },
      "text/plain": [
       "IntSlider(value=10, min=1)"
      ]
     },
     "metadata": {},
     "output_type": "display_data"
    },
    {
     "data": {
      "application/vnd.jupyter.widget-view+json": {
       "model_id": "2dc489cb0f2f4e6a8ad40cbe4ae8789a",
       "version_major": 2,
       "version_minor": 0
      },
      "text/plain": [
       "Label(value='A value is: 1.0')"
      ]
     },
     "metadata": {},
     "output_type": "display_data"
    },
    {
     "data": {
      "application/vnd.jupyter.widget-view+json": {
       "model_id": "a41300376178478685dbf45930d0a47b",
       "version_major": 2,
       "version_minor": 0
      },
      "text/plain": [
       "IntSlider(value=10, min=1)"
      ]
     },
     "metadata": {},
     "output_type": "display_data"
    },
    {
     "data": {
      "application/vnd.jupyter.widget-view+json": {
       "model_id": "eae9fcd50a5b40d8a7ff724d8607b64d",
       "version_major": 2,
       "version_minor": 0
      },
      "text/plain": [
       "Label(value='log10(B) value is: 1.0')"
      ]
     },
     "metadata": {},
     "output_type": "display_data"
    }
   ],
   "source": [
    "from IPython.display import display\n",
    "%matplotlib notebook\n",
    "%matplotlib notebook \n",
    "\n",
    "r = wr.value; \n",
    "u = np.logspace(-4, 0.25, 41)\n",
    "fig = plt.figure(figsize=(10,5)) \n",
    "ax = fig.add_subplot()\n",
    "plt.plot(1/u, exp1(u), label='Theis')\n",
    "ax.set_xscale('log'); ax.set_yscale('log')\n",
    "plt.show();\n",
    "\n",
    "def update_plot(shifty = 10, shiftx = 10):\n",
    "    if r <= 50:\n",
    "        plt.plot (10**(shiftx/10)*df['t1']/24/60/r/r,shifty/10*df['s1'],'.C1')\n",
    "    else:\n",
    "        plt.plot (10**(shiftx/10)*df['t2']/24/60/r/r,shifty/10*df['s2'], '.C1')\n",
    "        \n",
    "    plt.grid()\n",
    "    fig.canvas.draw_idle()\n",
    "\n",
    "# prepare widgets\n",
    "shifty_slider = widgets.IntSlider(10, min = 1, max = 100)\n",
    "shifty_label = widgets.Label(value = 'A value is: ' + str(shifty_slider.value/10))\n",
    "display(shifty_slider, shifty_label)\n",
    "shiftx_slider = widgets.IntSlider(10, min = 1, max = 100)\n",
    "shiftx_label = widgets.Label(value = 'log10(B) value is: ' + str(shiftx_slider.value/10))\n",
    "display(shiftx_slider, shiftx_label)\n",
    "\n",
    "# handle shifty update\n",
    "def update_shifty(value):\n",
    "    plt.plot (10**(shiftx_slider.value/10)*df['t1']/24/60/r/r,value['old']/10*df['s1'], '.', color='0.7')\n",
    "    update_plot(shifty = value['new'],shiftx = shiftx_slider.value)\n",
    "    shifty_label.value = 'A value is: ' + str(value.new/10)\n",
    "\n",
    "# handle shiftx update\n",
    "def update_shiftx(value):\n",
    "    plt.plot (10**(value['old']/10)*df['t1']/24/60/r/r,shifty_slider.value/10*df['s1'], '.', color='0.7')\n",
    "    update_plot(shifty = shifty_slider.value,shiftx = value['new'])\n",
    "    shiftx_label.value = 'log10(B) value is: ' + str(value.new/10)\n",
    "    \n",
    "shiftx_slider.observe(update_shiftx, names = 'value')\n",
    "shifty_slider.observe(update_shifty, names = 'value') "
   ]
  },
  {
   "cell_type": "markdown",
   "metadata": {
    "hideCode": true,
    "hidePrompt": true
   },
   "source": [
    "Run the next cell to show the result for transmissivity and storativity!"
   ]
  },
  {
   "cell_type": "code",
   "execution_count": 77,
   "metadata": {
    "hideCode": true,
    "hidePrompt": true,
    "hide_input": true,
    "scrolled": true
   },
   "outputs": [
    {
     "data": {
      "image/png": "[encoded data removed]",
      "text/plain": [
       "<Figure size 720x360 with 1 Axes>"
      ]
     },
     "metadata": {
      "needs_background": "light"
     },
     "output_type": "display_data"
    }
   ],
   "source": [
    "%matplotlib inline\n",
    "r = wr.value\n",
    "fig = plt.figure(figsize=(10,5)) \n",
    "ax = fig.add_subplot()\n",
    "plt.title('Oude Korendijk pumping test', fontsize = 14)\n",
    "plt.plot(1/u, exp1(u), label='Theis')\n",
    "ax.set_xscale('log'); ax.set_yscale('log'); \n",
    "plt.xlabel('$1/u$ and $B \\, t/r^2$', fontsize=12)\n",
    "plt.ylabel('W(u) and $A \\cdot s$',fontsize=12)\n",
    "update_plot(shifty = shifty_slider.value,shiftx = shiftx_slider.value)\n",
    "kD = shiftx_slider.value/10 * Q /4 /np.pi   # print('T = {:.0f} m2/d'.format(kD))\n",
    "Sc = 4 * kD / 10**(shifty_slider.value/10)         #print('S = {:.2e} [-]'.format(S))\n",
    "ax.text (380,0.23,'$T =%.1f m^2/d$' % (kD, ),fontsize=12)\n",
    "ax.text (380,0.15,'$S =%.2e $' % (Sc, ),fontsize=12)\n",
    "plt.show()"
   ]
  },
  {
   "cell_type": "markdown",
   "metadata": {
    "hideCode": true,
    "hidePrompt": true,
    "hide_input": false
   },
   "source": [
    "## Error Measures\n",
    "The residual is a quantitative measure for the goodness of the fit. It is defined by: "
   ]
  },
  {
   "cell_type": "markdown",
   "metadata": {
    "hideCode": true,
    "hidePrompt": true
   },
   "source": [
    "$$ res = \\sqrt{\\sum{(s_{obs}-s_{calc})^2}} $$"
   ]
  },
  {
   "cell_type": "markdown",
   "metadata": {
    "hideCode": true,
    "hidePrompt": true
   },
   "source": [
    "where the sum adds up the quadratic deviations over all values of the time series. $s_{obs}$ is the observed drawdown, while $s_{calc}$ denotes the drawdown calculated by the Theis formula for the optimized $T$ and $S$ values. The rssidual is thus a good measure to compare results for the same drawdown series. However, if depends on the number of observations and thus is not feasable for comparison of results from different obtained from different observation points or different pumping tests. Alternatively one may take the standard deviation, which is defined as the squareroot of the mean quadratic deviation:"
   ]
  },
  {
   "cell_type": "markdown",
   "metadata": {
    "hideCode": true,
    "hidePrompt": true,
    "hide_input": true
   },
   "source": [
    "$$ stdev = \\sqrt{mean((s_{obs}-s_{calc})^2)} $$"
   ]
  },
  {
   "cell_type": "markdown",
   "metadata": {
    "hideCode": true,
    "hidePrompt": true
   },
   "source": [
    "The standard deviation makes results from different observation points and pumping tests, at the same or different boreholes, comparable. Click the following buttons to get the measures of the fit. "
   ]
  },
  {
   "cell_type": "code",
   "execution_count": 78,
   "metadata": {
    "hideCode": true,
    "hidePrompt": true,
    "hide_input": true,
    "scrolled": false
   },
   "outputs": [
    {
     "data": {
      "application/vnd.jupyter.widget-view+json": {
       "model_id": "aa0e625fb1ed44db80e82756caa10bb6",
       "version_major": 2,
       "version_minor": 0
      },
      "text/plain": [
       "HBox(children=(Button(description='Residual', style=ButtonStyle()), Button(description='Standard deviation', s…"
      ]
     },
     "metadata": {},
     "output_type": "display_data"
    },
    {
     "data": {
      "text/plain": [
       "'Standard deviation = 6.821e-02 for r = 90, T = 427.8 and S = 1.71e-04'"
      ]
     },
     "metadata": {},
     "output_type": "display_data"
    }
   ],
   "source": [
    "def rescalc():\n",
    "    global kD,Sc\n",
    "    D = kD/Sc; r = wr.value; Q = wQ.value\n",
    "    if r <= 50: \n",
    "        tfit = df['t1']/24/60; sfit = df['s1']\n",
    "        tfit = tfit[:-1]; sfit = sfit[:-1]  # one entry less in time series                  \n",
    "    else:\n",
    "        tfit = df['t2']/24/60; sfit = df['s2']\n",
    "\n",
    "    u = (((r*r)/4)/D)/pd.to_numeric(tfit)\n",
    "    s = Q*exp1(u)/4/np.pi/kD\n",
    "    dev = pd.to_numeric(sfit)-s; dev2 = dev*dev\n",
    "    res = np.sqrt(sum(dev2)) \n",
    "    stde = np.sqrt(dev2.mean())\n",
    "    return [res,stde]\n",
    "\n",
    "def on_wres_clicked(self):   \n",
    "    [res,stde] = rescalc()\n",
    "    display ('Residual = %.3e for r = %.0f, T = %.1f and S = %.2e' % (res,r,kD,Sc))\n",
    "    \n",
    "def on_wstd_clicked(self): \n",
    "    [res,stde] = rescalc()\n",
    "    display ('Standard deviation = %.3e for r = %.0f, T = %.1f and S = %.2e'% (stde,r,kD,Sc));\n",
    "\n",
    "wres = widgets.Button(description='Residual')        \n",
    "wres.on_click(on_wres_clicked) \n",
    "wstd = widgets.Button(description='Standard deviation')        \n",
    "wstd.on_click(on_wstd_clicked)\n",
    "widgets.HBox([wres,wstd])   "
   ]
  },
  {
   "cell_type": "markdown",
   "metadata": {
    "hideCode": true,
    "hidePrompt": true
   },
   "source": [
    "Note that the data from the distance given the input field above are used for the computation. "
   ]
  },
  {
   "cell_type": "markdown",
   "metadata": {
    "hideCode": true,
    "hidePrompt": true
   },
   "source": [
    "## Direct Optimization of Transmissivity and Storativity \n",
    "\n",
    "The previous method was inspired by the shifting of the measurements drawn on double log paper over the Theis type curve also drawn on double log paper. However, we could just as well directly optimize $T$ and $S$ (instead of $A$ and $B$) by trial and error to find the best match between type curve and measurements.\n",
    "\n",
    "It may then be most convenient to let the type curve as it is and compute "
   ]
  },
  {
   "cell_type": "markdown",
   "metadata": {
    "hideCode": true,
    "hidePrompt": true
   },
   "source": [
    "$$ W(u) = \\frac s {Q/(4 \\pi T)}$$ and $$\\frac 1 u = \\frac {4 T t} {r^2 S}$$"
   ]
  },
  {
   "cell_type": "markdown",
   "metadata": {
    "hideCode": true,
    "hidePrompt": true
   },
   "source": [
    "This has been done and for the obtained values of $S$ and $T$ the result is shown in the next cell."
   ]
  },
  {
   "cell_type": "code",
   "execution_count": 42,
   "metadata": {
    "hideCode": true,
    "hidePrompt": true,
    "hide_input": true,
    "scrolled": true
   },
   "outputs": [
    {
     "data": {
      "image/png": "[encoded data removed]",
      "text/plain": [
       "<Figure size 720x360 with 1 Axes>"
      ]
     },
     "metadata": {},
     "output_type": "display_data"
    }
   ],
   "source": [
    "kD = 450\n",
    "Sc = 0.0002\n",
    "u = np.logspace(-4, 0.25, 41)\n",
    "fig = plt.figure(facecolor='w', figsize=(10,5)); ax = fig.add_subplot()\n",
    "\n",
    "# the Theis type curve\n",
    "plt.plot(1/u, exp1(u), label='Theis')\n",
    "\n",
    "# The measurements\n",
    "r = 30\n",
    "plt.plot (4*kD*df['t1']/24/60/(Sc*r**2),df['s1']/(Q/(4*np.pi*kD)), '.', label = 'observation H30' )\n",
    "r = 90\n",
    "plt.plot (4*kD*df['t2']/24/60/(Sc*r**2),df['s2']/(Q/(4*np.pi*kD)), '.', label = 'observation H90' )\n",
    "plt.title('Direct comparison between computed and measured drawdown, $T$={:.0f} m$^2$/d, $S$={:.3e} [-]'.format(kD,S),fontsize=12)\n",
    "plt.xlabel('$1/u$',fontsize=12); plt.ylabel('$W[u]$',fontsize=12)\n",
    "plt.xscale('log'); plt.yscale('log')\n",
    "plt.grid()\n",
    "plt.legend(loc='lower right',fontsize=12);"
   ]
  },
  {
   "cell_type": "markdown",
   "metadata": {
    "hideCode": true,
    "hidePrompt": true
   },
   "source": [
    "## Parameter Estimation\n",
    "### Confined Aquifer\n",
    "\n",
    "Before we obtimized the two factors $A$ and $B$ by hand. This was relatively straight-forward for this case in which only two parameters were involved. However in more complicated cases, finding the optimum parameter combination by trial and error takes much more effort, and often times is impossible. Therefore, the modern way is to let the computer find the optimum combination of parmeters, which minimizes the difference between the type curve (or the model) and the measurements."
   ]
  },
  {
   "cell_type": "code",
   "execution_count": 29,
   "metadata": {
    "hideCode": true,
    "hidePrompt": true,
    "hide_input": true,
    "scrolled": false
   },
   "outputs": [
    {
     "data": {
      "application/vnd.jupyter.widget-view+json": {
       "model_id": "06dba87f0c1d43f18c9b493fab391d2b",
       "version_major": 2,
       "version_minor": 0
      },
      "text/plain": [
       "BoundedFloatText(value=30.0, description='Distance:', max=90.0, min=30.0, step=60.0)"
      ]
     },
     "metadata": {},
     "output_type": "display_data"
    }
   ],
   "source": [
    "w2r = widgets.BoundedFloatText(value=30, min=30, max=90.0, step = 60.0, description='Distance:', disabled=False)\n",
    "w2r"
   ]
  },
  {
   "cell_type": "markdown",
   "metadata": {
    "hideCode": true,
    "hidePrompt": true,
    "hide_input": false
   },
   "source": [
    "Enter initial guesses for $T$ and $S$! The unit of transmissivity is derived from the length and time settings above. "
   ]
  },
  {
   "cell_type": "code",
   "execution_count": 30,
   "metadata": {
    "hideCode": true,
    "hidePrompt": true,
    "hide_input": true,
    "scrolled": false
   },
   "outputs": [
    {
     "data": {
      "application/vnd.jupyter.widget-view+json": {
       "model_id": "c7e164d226a243eda98164ee0699a2ff",
       "version_major": 2,
       "version_minor": 0
      },
      "text/plain": [
       "HBox(children=(FloatText(value=500.0, description='T:'), FloatText(value=0.0001, description='S:')))"
      ]
     },
     "metadata": {},
     "output_type": "display_data"
    }
   ],
   "source": [
    "wT = widgets.FloatText(value=500, description='T:', min=1, disabled=False)\n",
    "wS = widgets.FloatText(value=1e-4, description='S:', min=1.e-10, disabled=False)\n",
    "widgets.HBox([wT, wS])"
   ]
  },
  {
   "cell_type": "markdown",
   "metadata": {
    "hideCode": true,
    "hidePrompt": true
   },
   "source": [
    "Do the parameter estimation by running the next cell."
   ]
  },
  {
   "cell_type": "code",
   "execution_count": 82,
   "metadata": {
    "hideCode": true,
    "hidePrompt": true,
    "hide_input": true,
    "scrolled": false
   },
   "outputs": [
    {
     "data": {
      "application/vnd.jupyter.widget-view+json": {
       "model_id": "efeaf8f58b1e4360b7f6fc01214b222b",
       "version_major": 2,
       "version_minor": 0
      },
      "text/plain": [
       "VBox(children=(Button(description='Evaluate Theis', style=ButtonStyle()),))"
      ]
     },
     "metadata": {},
     "output_type": "display_data"
    },
    {
     "name": "stdout",
     "output_type": "stream",
     "text": [
      "Oude Korendijk pumping test\n",
      "Distance to pumping well: 30.0\n",
      "Initial transmissivity: 500.0\n",
      "Initial storativity: 0.0001\n",
      "Optimization terminated successfully.\n",
      "         Current function value: 0.036407\n",
      "         Iterations: 41\n",
      "         Function evaluations: 79\n"
     ]
    },
    {
     "data": {
      "image/png": "[encoded data removed]",
      "text/plain": [
       "<Figure size 720x360 with 1 Axes>"
      ]
     },
     "metadata": {},
     "output_type": "display_data"
    }
   ],
   "source": [
    "from scipy.optimize import fmin\n",
    "Q = wQ.value; r = 30\n",
    "tfit = df['t1'].dropna()/60/24; sfit = df['s1'].dropna()\n",
    "\n",
    "def teval (t,r,T,S,Q):\n",
    "    D = T/S                             # calculate Theis solution\n",
    "    u = (((r*r)/4)/D)/t\n",
    "    s = Q*exp1(u)/4/np.pi/T\n",
    "    return s                            # drawdown \n",
    "    \n",
    "def toptim (x):  \n",
    "    global r,tfit,sfit\n",
    "    T = x[0]; S = x[1] \n",
    "    s = teval (tfit,r,T,S,Q)\n",
    "    res = (s-sfit)\n",
    "    return sum(res*res)                 # function to be minimized\n",
    "\n",
    "def on_weval1_clicked(self):            # convert input data\n",
    "    global r,df,tfit,sfit\n",
    "    print ('Oude Korendijk pumping test') \n",
    "    r = w2r.value; print ('Distance to pumping well: '+str(r))\n",
    "    T = wT.value; print ('Initial transmissivity: '+str(T)) \n",
    "    S = wS.value; print ('Initial storativity: '+str(S))\n",
    "    if r <= 50:   \n",
    "        tfit = df['t1'].dropna()/60/24; sfit = df['s1'].dropna()\n",
    "    else:\n",
    "        tfit = df['t2'].dropna()/60/24; sfit = df['s2'].dropna()                             \n",
    "\n",
    "    # parameter estimation---------------------------------------------------------\n",
    "    [Tfit,Sfit] = fmin (toptim, [T,S])\n",
    "\n",
    "    # post-processing\n",
    "    D = T/S;               #print ('D='+str(D))\n",
    "    s = teval (tfit,r,Tfit,Sfit,Q)\n",
    "    dev = sfit-s                  \n",
    "    dev2 = dev*dev; res = np.sqrt(sum(dev2)) \n",
    "    stde = np.sqrt(dev2.mean())\n",
    "    sr=2*dev.std()                            # to compare with hytool !\n",
    "    #print ('Residual = '+str(res))\n",
    "    t = np.logspace(np.log10(tfit.min()),np.log10(tfit.max()),100)\n",
    "    fig = plt.figure(facecolor='w',figsize=(10,5)); ax = fig.add_subplot()\n",
    "    ax.set_xscale('log')\n",
    "    plt.plot(tfit,sfit,'o',label = 'measured') \n",
    "    plt.plot(t,teval(t,r,Tfit,Sfit,Q),'-', label = 'calculated', lw = 2)\n",
    "    plt.xlabel('time [d]',fontsize=12); plt.ylabel('drawdown [m]',fontsize=12)\n",
    "    plt.title ('Oude Korendijk pumping test',fontsize=14)\n",
    "    plt.grid ()\n",
    "    plt.legend (loc='upper left',fontsize=12)\n",
    "    ax.text (0.04,0.5*sfit.max(),'$T =%.1f m^2/d $' % (Tfit, ),fontsize=12)\n",
    "    ax.text (0.04,0.4*sfit.max(),'$S =%.2e $' % (Sfit, ),fontsize=12)\n",
    "    ax.text (0.04,0.3*sfit.max(),'$res = %.2e $' % (res, ),fontsize=12)\n",
    "    ax.text (0.04,0.2*sfit.max(),'$stdev = %.2e $' % (stde, ),fontsize=12)\n",
    "    ax.text (0.04,0.1*sfit.max(),'$2stdev =%.2e $' % (sr, ),fontsize=12);\n",
    "\n",
    "weval1 = widgets.Button(description='Evaluate Theis')        \n",
    "weval1.on_click(on_weval1_clicked)   \n",
    "widgets.VBox([weval1]) "
   ]
  },
  {
   "cell_type": "markdown",
   "metadata": {
    "hideCode": true,
    "hidePrompt": true
   },
   "source": [
    "Explore the sensitivity of the results when changing initial values. Check the residual and number of iterations for comparison. Do this for both observation data-sets."
   ]
  },
  {
   "cell_type": "markdown",
   "metadata": {
    "hideCode": true,
    "hidePrompt": true
   },
   "source": [
    "### Leaky Aquifer"
   ]
  },
  {
   "cell_type": "markdown",
   "metadata": {
    "hideCode": true,
    "hidePrompt": true
   },
   "source": [
    "For leaky aquifers the drawdown is given by the Hantush well function $W$, which has two arguments:"
   ]
  },
  {
   "cell_type": "markdown",
   "metadata": {
    "hideCode": true,
    "hidePrompt": true
   },
   "source": [
    "$$ s(r, t) = \\frac Q {4 \\pi T} W(u,r/\\lambda),\\,\\,\\,\\, u = \\frac {r^2 S} {4 T t}$$"
   ]
  },
  {
   "cell_type": "markdown",
   "metadata": {
    "hideCode": true,
    "hidePrompt": true
   },
   "source": [
    "with $\\lambda=\\sqrt{T\\cdot c}$, where $c$ denotes the resistance of the over-lying semipermeable layer. The physcial unit of resistance is time. The equation was derived assuming an overall source (Hantush & Jacob 1955). Using the more realistic boundary condition at the top of the modelled cross-section Hantush (1967) showed conditions, under which the equation can be taken as a valid approximation.  "
   ]
  },
  {
   "cell_type": "code",
   "execution_count": 32,
   "metadata": {
    "hideCode": true,
    "hidePrompt": true,
    "hide_input": true,
    "scrolled": false
   },
   "outputs": [
    {
     "data": {
      "application/vnd.jupyter.widget-view+json": {
       "model_id": "bc4bc0ea277f45c6b95a2d6e7fd3cbd3",
       "version_major": 2,
       "version_minor": 0
      },
      "text/plain": [
       "BoundedFloatText(value=30.0, description='Distance:', max=90.0, min=30.0, step=60.0)"
      ]
     },
     "metadata": {},
     "output_type": "display_data"
    }
   ],
   "source": [
    "w3r = widgets.BoundedFloatText(value=30, min=30, max=90.0, step = 60.0, description='Distance:', disabled=False)\n",
    "w3r"
   ]
  },
  {
   "cell_type": "markdown",
   "metadata": {
    "hideCode": true,
    "hidePrompt": true,
    "hide_input": true
   },
   "source": [
    "Enter initial guesses for $T$, $S$ and $c$! The physical units of transmissivity and resistance derived from the length and time settings above. "
   ]
  },
  {
   "cell_type": "code",
   "execution_count": 33,
   "metadata": {
    "hideCode": true,
    "hidePrompt": true,
    "hide_input": true,
    "scrolled": false
   },
   "outputs": [
    {
     "data": {
      "application/vnd.jupyter.widget-view+json": {
       "model_id": "943d7cb5115a4fd3a396a7b940be39a5",
       "version_major": 2,
       "version_minor": 0
      },
      "text/plain": [
       "HBox(children=(FloatText(value=500.0, description='T:'), FloatText(value=0.0001, description='S:'), FloatText(…"
      ]
     },
     "metadata": {},
     "output_type": "display_data"
    }
   ],
   "source": [
    "w2T = widgets.FloatText(value=500, description='T:', min=1.e-10, disabled=False)\n",
    "w2S = widgets.FloatText(value=1e-4, description='S:', min=1.e-10, disabled=False)\n",
    "wc = widgets.FloatText(value=1e4, description='c:', min=1.e-10, disabled=False)\n",
    "widgets.HBox([w2T, w2S, wc])"
   ]
  },
  {
   "cell_type": "code",
   "execution_count": 83,
   "metadata": {
    "hideCode": true,
    "hidePrompt": true,
    "hide_input": true,
    "scrolled": false
   },
   "outputs": [
    {
     "data": {
      "application/vnd.jupyter.widget-view+json": {
       "model_id": "ce3d374cba97448b81c38042705b7c73",
       "version_major": 2,
       "version_minor": 0
      },
      "text/plain": [
       "VBox(children=(Button(description='Evaluate Hantush', style=ButtonStyle()),))"
      ]
     },
     "metadata": {},
     "output_type": "display_data"
    },
    {
     "name": "stdout",
     "output_type": "stream",
     "text": [
      "Oude Korendijk pumping test\n",
      "Distance to pumping well: 30.0\n",
      "Initial transmissivity: 500.0\n",
      "Initial storativity: 0.0001\n",
      "Initial resistance: 10000.0\n",
      "Optimization terminated successfully.\n",
      "         Current function value: 0.010328\n",
      "         Iterations: 138\n",
      "         Function evaluations: 255\n"
     ]
    },
    {
     "data": {
      "image/png": "[encoded data removed]",
      "text/plain": [
       "<Figure size 720x360 with 1 Axes>"
      ]
     },
     "metadata": {},
     "output_type": "display_data"
    }
   ],
   "source": [
    "from scipy.special import exp1\n",
    "from scipy.optimize import fmin\n",
    "from scipy.special import kn as BesselK\n",
    "\n",
    "Q = wQ.value; r = 30\n",
    "tfit = df['t1'].dropna()/60/24; sfit = df['s1'].dropna()\n",
    "\n",
    "def heval (t,r,T,S,c,Q):                 # calculate Hantush solution\n",
    "    T0  = np.where(T>1.e-10,T,1.e-10) \n",
    "    S0  = np.where(S>1.e-10,S,1.e-10)\n",
    "    c0  = np.where(c>1.e-10,c,1.e-10)\n",
    "    lamda = np.sqrt(T0*c0)                \n",
    "    rho = r/lamda\n",
    "    tau = np.log(2*lamda/r*t/(c0*S0))\n",
    "    s = Q/(4*np.pi*T0)*func_F(rho,tau)\n",
    "    return s                             # drawdown \n",
    "\n",
    "def ExpInt(n,u):\n",
    "    # Fast approximation for Wu according to equation 7a and 7b from Srivastava(1998)\n",
    "    gamma = 0.5772 # Euler-Macheroni constant\n",
    "    u0  = np.where(u<1.0,u,1) \n",
    "    Wu0 = np.log(np.exp(-gamma)/u0) + 0.9653*u - 0.1690*u0**2\n",
    "    u1 = np.where(u>=1.0,u,1) \n",
    "    Wu1 = 1/(u1*np.exp(u1))*(u1+0.3575)/(u1+1.280)\n",
    "    Wu = np.where(u<1.0,Wu0,Wu1)\n",
    "    return Wu\n",
    "\n",
    "def func_F(rho,tau):\n",
    "    e = exp1(rho)\n",
    "    e0 = np.where(e>0,e,1.e-10)\n",
    "    w = (e0-BesselK(0,rho))/(e0-exp1(rho/2))\n",
    "    F0 = w*exp1(rho/2*np.exp(-tau))-(w-1)*exp1(rho*np.cosh(tau))  \n",
    "    F1 = 2*BesselK(0,rho) - w*exp1(rho/2*np.exp(tau)) + (w-1)*exp1(rho*np.cosh(tau)) \n",
    "    #w = (ExpInt(1,rho)-BesselK(0,rho))/(ExpInt(1,rho)-ExpInt(1,rho/2))\n",
    "    #F0 = w*ExpInt(1,rho/2*np.exp(-tau))-(w-1)*ExpInt(1,rho*np.cosh(tau))\n",
    "    #F1 = 2*BesselK(0,rho) - w*ExpInt(1,rho/2*np.exp(tau)) + (w-1)*ExpInt(1,rho*np.cosh(tau))    \n",
    "    return (tau<=0)*F0+(tau>0)*F1   \n",
    "\n",
    "def hoptim (x):     \n",
    "    global r,tfit,sfit\n",
    "    T = x[0]; S = x[1]; c = x[2] \n",
    "    s = heval (tfit,r,T,S,c,Q)\n",
    "    res = (s-sfit)\n",
    "    return sum(res*res)                 # function to be minimized\n",
    "\n",
    "def on_weval2_clicked(self):   \n",
    "    global r,df,tfit,sfit    \n",
    "    print ('Oude Korendijk pumping test') \n",
    "    r = w3r.value; print ('Distance to pumping well: '+str(r))\n",
    "    T = w2T.value; print ('Initial transmissivity: '+str(T)) \n",
    "    S = w2S.value; print ('Initial storativity: '+str(S))\n",
    "    c = wc.value; print ('Initial resistance: '+str(c))\n",
    "\n",
    "    if r <= 50:   \n",
    "        tfit = df['t1'].dropna()/60/24; sfit = df['s1'].dropna()\n",
    "    else:\n",
    "        tfit = df['t2'].dropna()/60/24; sfit =df['s2'].dropna()  \n",
    "        \n",
    "    # parameter estimation---------------------------------------------------------\n",
    "    [Tfit,Sfit,cfit] = fmin(hoptim, [T,S,c])\n",
    "\n",
    "    # post-processing--------------------------------------------------------------   \n",
    "    D = T/S;  #print ('D='+str(D))\n",
    "    s = heval (tfit,r,Tfit,Sfit,cfit,Q)\n",
    "    dev = sfit-s \n",
    "    dev2 = dev*dev; res = np.sqrt(sum(dev2))  #; print ('Residual = '+str(res)) \n",
    "    stde = np.sqrt(dev2.mean())\n",
    "    sr=2*dev.std()                            # to compare with hytool !\n",
    "    t = np.logspace(np.log10(tfit.min()),np.log10(tfit.max()),100)\n",
    "    fig = plt.figure(facecolor='w',figsize=(10,5)); ax = fig.add_subplot()\n",
    "    ax.set_xscale('log')\n",
    "    plt.plot(tfit,sfit,'o',label = 'measured') \n",
    "    plt.plot(t,heval(t,r,Tfit,Sfit,cfit,Q),'-', label = 'calculated', lw = 2)\n",
    "    plt.xlabel('time [d]'); plt.ylabel('drawdown [m]')\n",
    "    plt.title ('Oude Korendijk pumping test',fontsize=14)\n",
    "    plt.grid ()\n",
    "    plt.legend (loc='upper left',fontsize=12)\n",
    "    ax.text (0.04,0.5*sfit.max(),'$T =%.1f m^2/d $' % (Tfit, ),fontsize=12)\n",
    "    ax.text (0.04,0.4*sfit.max(),'$S =%.2e $' % (Sfit, ),fontsize=12)\n",
    "    ax.text (0.04,0.3*sfit.max(),'$c =%.2e d$' % (cfit, ),fontsize=12)\n",
    "    ax.text (0.04,0.2*sfit.max(),'$res = %.2e $' % (res, ),fontsize=12)\n",
    "    ax.text (0.04,0.1*sfit.max(),'$stdev = %.2e $' % (stde, ),fontsize=12)\n",
    "    ax.text (0.04,0,'$2stdev =%.2e $' % (sr, ),fontsize=12);\n",
    "\n",
    "weval2 = widgets.Button(description='Evaluate Hantush')        \n",
    "weval2.on_click(on_weval2_clicked)   \n",
    "widgets.VBox([weval2])"
   ]
  },
  {
   "cell_type": "markdown",
   "metadata": {
    "hideCode": true,
    "hidePrompt": true,
    "hide_input": true
   },
   "source": [
    "The test can be interpreted from the Theis or the Hantush point of view, i.e. without or with leakage from a layer with fixed head. Which of the two may be deduced from the data: will they fit onto the Theis type curve or, when not, do they match with one of the Hantush type curves. Other effects may also influence the data, like partial penetration of the screen in the aquifer, storage inside the well and delayed yield and, notably, any effects caused by non-linearity, such as non-constant aquifer thickness under the influence of the drawdown in water table aquifers. All such effects may play their role under various circumstances, but may initially be ignored, to be included only when the data show that it is necessary."
   ]
  },
  {
   "cell_type": "markdown",
   "metadata": {
    "hideCode": true,
    "hidePrompt": true
   },
   "source": [
    "## Conclusion\n",
    "\n",
    "This notebook shows how the analysis of a pumping test can be done by first exploring the data and then applying several methods to see what works. This notebook is a good reference as it is completely documented and clearly shows all the steps taken to explore the problem and to find one or more suitable answers."
   ]
  },
  {
   "cell_type": "markdown",
   "metadata": {
    "hideCode": true,
    "hidePrompt": true
   },
   "source": [
    "## Bibliography\n",
    "\n",
    "* Cooper H.H., Jacob C.E., A generalized graphical method for evaluating formation constants and summarizing well‐field history, Vol. 27(4), 526-534, 1946\n",
    "* de Glee G.J., Over grondwaterstromingen bij wateronttrekking door middel van putten, J. Waltman, Delft,  1930 (in Dutch)\n",
    "* Hantush M.S., Analysis of data from pumping tests in leaky aquifers, EOS, Vol. 37(6), 702-714, 1956\n",
    "* Hantush M.S., Flow of groundwater in relatively thick leaky aquifers, Water Res. Res., Vol. 3(2), 583-590, 1967\n",
    "* Hantush M.S., Jacob C.E., Non-steady radial flow in an infinite leaky aquifer, Trans. Am. Geophys. Union, Vol. 36, 95-100, 1955 \n",
    "* Holzbecher, E., Environmental Modeling using Matlab, Springer, Berlin Heidelberg, 2012\n",
    "* Kooper J., Beweging van het water in den bodem bij onttrekking door bronnen, De Ingenieur, Vol. 29(38), 697–706 and 29(39), 710–716, 1914 (in Dutch)\n",
    "* Krusemann G.P., de Ridder N.A., Untersuchung und Anwendung von Pumpversuchen, Verlagsges. R. Müller, Köln, 1973 (in German)\n",
    "* Krusemann G.P., de Ridder N.A., Analysis and evaluation of pumping test data, 2.Edition, Intern. Inst. for Land Reclamation and Improvement (ILRI), Publication 47, Wageningen, 1994, https://www.hydrology.nl/images/docs/dutch/key/Kruseman_and_De_Ridder_2000.pdf\n",
    "* Olsthoorn T., The Korendijk pumping test, https://notebook.community/Olsthoorn/TransientGroundwaterFlow/excercises_notebooks/Korendijk-ptest-theis, 2019\n",
    "* Renard P., Hytool: a hydrogeological toolbox. University of Neuchâtel, Switzerland, 2003\n",
    "* Renard P., The future of hydraulic tests, Hydrogeol. J., Vol. 13, 259-262, 2005\n",
    "* Thiem G., Hydrologische Methoden, J.M.Gebhardt, Leipzig, 1906 (in German)\n",
    "* Theis C.V., The relation between the lowering of the piezometric surface and the rate and duration of discharge of a well using ground-water storage, Transactions of the AGU, Vol. 16(2), 519-524, 1935\n",
    "* White R.W., Clebsch A., C.V. Theis - and a review of his life and work, in: Selected Contributions to Ground-Water Hydrology, US Geol. Survey Water-Supply Paper 2415, 1994, http://ponce.sdsu.edu/theis_biography.html \n",
    "* Wit K.E., De hydrologische bodemconstanten in de polder 'De Oude Korendijk' berekend uit pompproeven en laboratoriummetingen in ongeroerde monsters (The hydraulic characteristics of the Oude Korendijk polder, calculated from pumping test data and laboratory measurements of core samples), ICW Notas 190, 24p, 1963 (in Dutch)"
   ]
  },
  {
   "cell_type": "code",
   "execution_count": null,
   "metadata": {
    "hideCode": true,
    "hidePrompt": true,
    "hide_input": true
   },
   "outputs": [],
   "source": []
  }
 ],
 "metadata": {
  "hide_code_all_hidden": true,
  "hide_input": true,
  "kernelspec": {
   "display_name": "Python 3",
   "language": "python",
   "name": "python3"
  },
  "language_info": {
   "codemirror_mode": {
    "name": "ipython",
    "version": 3
   },
   "file_extension": ".py",
   "mimetype": "text/x-python",
   "name": "python",
   "nbconvert_exporter": "python",
   "pygments_lexer": "ipython3",
   "version": "3.7.6"
  },
  "toc": {
   "base_numbering": 1,
   "nav_menu": {},
   "number_sections": true,
   "sideBar": true,
   "skip_h1_title": true,
   "title_cell": "Table of Contents",
   "title_sidebar": "Contents",
   "toc_cell": true,
   "toc_position": {},
   "toc_section_display": true,
   "toc_window_display": true
  },
  "varInspector": {
   "cols": {
    "lenName": 16,
    "lenType": 16,
    "lenVar": 40
   },
   "kernels_config": {
    "python": {
     "delete_cmd_postfix": "",
     "delete_cmd_prefix": "del ",
     "library": "var_list.py",
     "varRefreshCmd": "print(var_dic_list())"
    },
    "r": {
     "delete_cmd_postfix": ") ",
     "delete_cmd_prefix": "rm(",
     "library": "var_list.r",
     "varRefreshCmd": "cat(var_dic_list()) "
    }
   },
   "position": {
    "height": "768.85px",
    "left": "838px",
    "right": "20px",
    "top": "154px",
    "width": "469px"
   },
   "types_to_exclude": [
    "module",
    "function",
    "builtin_function_or_method",
    "instance",
    "_Feature"
   ],
   "window_display": false
  }
 },
 "nbformat": 4,
 "nbformat_minor": 4
}
