{
 "cells": [
  {
   "cell_type": "markdown",
   "metadata": {
    "hideCode": false,
    "hidePrompt": false,
    "hide_input": false
   },
   "source": [
    "\n",
    "<font size = 6px, style=\"color:blue\">**Hydraulic Testing:  Pumping Test Evaluation**</font>\n",
    "\n",
    "\n",
    "Prof. habil. Dr.-Ing. Dipl.-Math. Ekkehard Holzbecher\n",
    "\n",
    "*Demo Oude Korendijk \n",
    "(partially adopted and modified from Olsthoorn)* \n",
    "https://notebook.community/Olsthoorn/TransientGroundwaterFlow/excercises_notebooks/Korendijk-ptest-theis\n"
   ]
  },
  {
   "cell_type": "markdown",
   "metadata": {
    "hideCode": false,
    "hidePrompt": false,
    "toc": true
   },
   "source": [
    "<h1>Table of Contents<span class=\"tocSkip\"></span></h1>\n",
    "<div class=\"toc\"><ul class=\"toc-item\"><li><span><a href=\"#Introduction\" data-toc-modified-id=\"Introduction-1\"><span class=\"toc-item-num\">1&nbsp;&nbsp;</span>Introduction</a></span></li><li><span><a href=\"#The-Oude-Korendijk-Pumping-Test\" data-toc-modified-id=\"The-Oude-Korendijk-Pumping-Test-2\"><span class=\"toc-item-num\">2&nbsp;&nbsp;</span>The Oude Korendijk Pumping Test</a></span></li><li><span><a href=\"#Interpretation-using-Data-for-Steady-State-Drawdown\" data-toc-modified-id=\"Interpretation-using-Data-for-Steady-State-Drawdown-3\"><span class=\"toc-item-num\">3&nbsp;&nbsp;</span>Interpretation using Data for Steady State Drawdown</a></span><ul class=\"toc-item\"><li><span><a href=\"#Confined-Aquifer\" data-toc-modified-id=\"Confined-Aquifer-3.1\"><span class=\"toc-item-num\">3.1&nbsp;&nbsp;</span>Confined Aquifer</a></span></li><li><span><a href=\"#Unconfined-Aquifer\" data-toc-modified-id=\"Unconfined-Aquifer-3.2\"><span class=\"toc-item-num\">3.2&nbsp;&nbsp;</span>Unconfined Aquifer</a></span></li><li><span><a href=\"#Leaky-Aquifer\" data-toc-modified-id=\"Leaky-Aquifer-3.3\"><span class=\"toc-item-num\">3.3&nbsp;&nbsp;</span>Leaky Aquifer</a></span></li></ul></li><li><span><a href=\"#Unsteady-Data-Input-and-Visualization\" data-toc-modified-id=\"Unsteady-Data-Input-and-Visualization-4\"><span class=\"toc-item-num\">4&nbsp;&nbsp;</span>Unsteady Data Input and Visualization</a></span></li><li><span><a href=\"#Basic-Interpretation-based-on-the-Theis-Solution\" data-toc-modified-id=\"Basic-Interpretation-based-on-the-Theis-Solution-5\"><span class=\"toc-item-num\">5&nbsp;&nbsp;</span>Basic Interpretation based on the Theis Solution</a></span></li><li><span><a href=\"#Classical-Interpretation-using-the-Match-on-Double-Log-Scales\" data-toc-modified-id=\"Classical-Interpretation-using-the-Match-on-Double-Log-Scales-6\"><span class=\"toc-item-num\">6&nbsp;&nbsp;</span>Classical Interpretation using the Match on Double Log Scales</a></span></li><li><span><a href=\"#Graphical-Interpretation-for-Transmissivity-and-Storativity\" data-toc-modified-id=\"Graphical-Interpretation-for-Transmissivity-and-Storativity-7\"><span class=\"toc-item-num\">7&nbsp;&nbsp;</span>Graphical Interpretation for Transmissivity and Storativity</a></span><ul class=\"toc-item\"><li><span><a href=\"#Multi-Graph\" data-toc-modified-id=\"Multi-Graph-7.1\"><span class=\"toc-item-num\">7.1&nbsp;&nbsp;</span>Multi-Graph</a></span></li><li><span><a href=\"#Single-Graph\" data-toc-modified-id=\"Single-Graph-7.2\"><span class=\"toc-item-num\">7.2&nbsp;&nbsp;</span>Single Graph</a></span></li></ul></li><li><span><a href=\"#Error-Measures\" data-toc-modified-id=\"Error-Measures-8\"><span class=\"toc-item-num\">8&nbsp;&nbsp;</span>Error Measures</a></span></li><li><span><a href=\"#Direct-Optimization-of-Transmissivity-and-Storativity\" data-toc-modified-id=\"Direct-Optimization-of-Transmissivity-and-Storativity-9\"><span class=\"toc-item-num\">9&nbsp;&nbsp;</span>Direct Optimization of Transmissivity and Storativity</a></span></li><li><span><a href=\"#Parameter-Estimation\" data-toc-modified-id=\"Parameter-Estimation-10\"><span class=\"toc-item-num\">10&nbsp;&nbsp;</span>Parameter Estimation</a></span><ul class=\"toc-item\"><li><span><a href=\"#Confined-Aquifer\" data-toc-modified-id=\"Confined-Aquifer-10.1\"><span class=\"toc-item-num\">10.1&nbsp;&nbsp;</span>Confined Aquifer</a></span></li><li><span><a href=\"#Leaky-Aquifer\" data-toc-modified-id=\"Leaky-Aquifer-10.2\"><span class=\"toc-item-num\">10.2&nbsp;&nbsp;</span>Leaky Aquifer</a></span></li></ul></li><li><span><a href=\"#Conclusion\" data-toc-modified-id=\"Conclusion-11\"><span class=\"toc-item-num\">11&nbsp;&nbsp;</span>Conclusion</a></span></li><li><span><a href=\"#Bibliography\" data-toc-modified-id=\"Bibliography-12\"><span class=\"toc-item-num\">12&nbsp;&nbsp;</span>Bibliography</a></span></li></ul></div>"
   ]
  },
  {
   "cell_type": "markdown",
   "metadata": {
    "hideCode": false,
    "hidePrompt": false
   },
   "source": [
    "## Introduction\n",
    "\n",
    "In a pumping test the drawdown of the water table in a piezometer is recorded, as response to pumping from a nearby well. Pumping tests belong into the common toolbox of hydro-geologists, used to obtain basic parameters for aquifer characterization. It is common practice to determine transmissivity (T) and storativity (S) from fitting 1D-analytical solutions to the observed drawdown. The application of this classical evaluation method is related to various idealistic assumptions.\n",
    "\n",
    "The most important ones are listed in the sequel. The aquifer is homogeneous and isotropic, has a constant thickness and has infinite extend. The well is assumed to be ideal, i.e. it is sreened over the entire thickness of the aquifer. The well diameter is small. Pumping is performed at constant rate.\n",
    "\n",
    "In 1970 Kruseman & de Ridder published the probably most used and referenced textbook on pumping test evaluations. A translation in German came out already in 1993. The book was revised several times. The 1994 version is free available on the internet. The book covers evaluation methods for various types of aquifers and conditions on groundwater wells, including examples with data. In the book the most common method, introduced by Theis (1937) is outlined, using a pumping test, performed at a location, called the Oude Korendijk, in the Netherlands.  "
   ]
  },
  {
   "cell_type": "markdown",
   "metadata": {
    "hideCode": false,
    "hidePrompt": false
   },
   "source": [
    "## The Oude Korendijk Pumping Test"
   ]
  },
  {
   "cell_type": "markdown",
   "metadata": {
    "hideCode": false,
    "hidePrompt": false
   },
   "source": [
    "In a report Wit (1963) describes and evaluates several pumping tests, performed in the Oude Korendijk polder areas. The one most cited test is identified as H2 in the original paper, which was performed on July 10th 1962. The figure below gives an impression on the type of landscape in polder areas in the Netherlands.    "
   ]
  },
  {
   "cell_type": "markdown",
   "metadata": {
    "hideCode": false,
    "hidePrompt": false
   },
   "source": [
    "<div><img src=\"OKfoto.png\" align=\"center\"/></div>"
   ]
  },
  {
   "cell_type": "markdown",
   "metadata": {
    "hideCode": false,
    "hidePrompt": false
   },
   "source": [
    "The locality south of Rotterdam is depicted in the figure below (Wit 1963). In the south, at the bottom of the figure, the Rhine river can be identified. The area is criss-crossed by various trenches for drainage.  "
   ]
  },
  {
   "cell_type": "markdown",
   "metadata": {
    "hideCode": false,
    "hidePrompt": false
   },
   "source": [
    "<div><img src=\"OK1.png\" width=\"480\" height=\"320\" align=\"center\"/></div>"
   ]
  },
  {
   "cell_type": "markdown",
   "metadata": {
    "hideCode": false,
    "hidePrompt": false
   },
   "source": [
    "The Oude Korendijk pumping test is a test in a confined, leaky or unconfined setting, which should yield a value for the aquifers' transmissivity and its storage coefficient. The following figure depicts a cross sectional view of the geological situation at the site (Wit 1963). The figure text is in Dutch; here some translations: pompput = pumping well, zand = sand, veen = peat, grint = gravel, peilfilter = filter. "
   ]
  },
  {
   "cell_type": "markdown",
   "metadata": {
    "hideCode": false,
    "hidePrompt": false,
    "hide_input": true
   },
   "source": [
    "<div><img src=\"OK2.png\" width=\"720\" align=\"center\"/></div>"
   ]
  },
  {
   "cell_type": "markdown",
   "metadata": {
    "hideCode": false,
    "hidePrompt": false
   },
   "source": [
    "The well was pumped with a constant rate of 768 m$^3$/d. There are four piezometers in the vicinity of the pumping well, which can be taken as observation points. The nearest is only 80 cm away from the well. The other three observation points are located in a distance of 30 m, 90 m and 215 m . The following figure shows the locations and final drawdown in the Oude Korendijk pumping test measured after almost 14 hours."
   ]
  },
  {
   "cell_type": "markdown",
   "metadata": {
    "hideCode": false,
    "hidePrompt": false
   },
   "source": [
    "<div><img src=\"OK3.png\" width=\"720\" align=\"center\"/></div>"
   ]
  },
  {
   "cell_type": "markdown",
   "metadata": {
    "hideCode": false,
    "hidePrompt": false
   },
   "source": [
    "Our focus will be on the two observation points at intermediate distances, i.e 30 and 90 m away from the pumping well. The one in direct vicinity may be influenced by local conditions around the well. These conditions may be disturbed due to the drilling and installation of the well and the so called skin effect. The most distant observation point may be influenced by boundary conditions. The polder in the Netherlands are surrounded by surface water bodies, the Rhine river and trenches filled by drainage water. The following figures show the drawdown measurements at the two intermediate observation points: observation 1 for the one in 30 m distance, observation 2 for the one in 90 m distance. "
   ]
  },
  {
   "cell_type": "markdown",
   "metadata": {
    "hideCode": false,
    "hidePrompt": false
   },
   "source": [
    "## Interpretation using Data for Steady State Drawdown"
   ]
  },
  {
   "cell_type": "markdown",
   "metadata": {
    "hideCode": false,
    "hidePrompt": false
   },
   "source": [
    "### Confined Aquifer\n",
    "The solution for the steady state drawdown $s$ in a distance $r$ from the pumping well after a long time of pumping was given by Thiem (1906)"
   ]
  },
  {
   "cell_type": "markdown",
   "metadata": {
    "hideCode": false,
    "hidePrompt": false
   },
   "source": [
    "$$ s(r) = -\\frac {Q} {2 \\pi T} \\ln (r)+C $$"
   ]
  },
  {
   "cell_type": "markdown",
   "metadata": {
    "hideCode": false,
    "hidePrompt": false
   },
   "source": [
    "The transmissivity $T$ is a property of the aquifer, characterizing its ability to conduct water. $Q$ denotes the pumping rate. $C$ is an integration constant that emerges due to the solution of a differential equation. If the final drawdown measures $s_1$ and $s_2$ are given at two observation points at different distances $r_1$ and $r_2$, the integration constant can be eliminated and a formula for the transmissivity results: "
   ]
  },
  {
   "cell_type": "markdown",
   "metadata": {
    "hideCode": false,
    "hidePrompt": false,
    "hide_input": false
   },
   "source": [
    "$$ T = \\frac {Q} {2 \\pi (s_1-s_2)} \\ln (r_2/r_1) $$"
   ]
  },
  {
   "cell_type": "markdown",
   "metadata": {
    "hideCode": false,
    "hidePrompt": false
   },
   "source": [
    "In the Oude Korendijk pump test a steady state was not reached. However, the difference between the drawdown values in the two major observation wells remains almost constant. We call this a quasi-steady state, assuming that the difference will be the same, when a stationary situation is reached. For the evaluation using the Thiem formula we need the pumping rate, here in physical units m$^3$/d: "
   ]
  },
  {
   "cell_type": "code",
   "execution_count": 1,
   "metadata": {
    "hideCode": false,
    "hidePrompt": false,
    "hide_input": false,
    "scrolled": false
   },
   "outputs": [
    {
     "data": {
      "application/vnd.jupyter.widget-view+json": {
       "model_id": "5732992af6bf4a738c17abb5c1b98829",
       "version_major": 2,
       "version_minor": 0
      },
      "text/plain": [
       "BoundedFloatText(value=768.0, description='Pump rate:', disabled=True, max=1000.0, step=1.0)"
      ]
     },
     "metadata": {},
     "output_type": "display_data"
    }
   ],
   "source": [
    "from scipy.special import exp1\n",
    "import numpy as np\n",
    "import matplotlib.pyplot as plt\n",
    "import pandas as pd\n",
    "import ipywidgets as widgets\n",
    "#from IPython.display import display\n",
    "#from IPython.display import HTML\n",
    "#import IPython.core.display as di # Example: di.display_html('<h3>%s:</h3>' % str, raw=True)\n",
    "# This line will hide code by default when the notebook is exported as HTML\n",
    "#di.display_html('<script>jQuery(function() {if (jQuery(\"body.notebook_app\").length == 0) { jQuery(\".input_area\").toggle(); jQuery(\".prompt\").toggle();}});</script>', raw=True)\n",
    "%matplotlib inline\n",
    "\n",
    "wQ = widgets.BoundedFloatText(value=768, min=0, max=1000.0, step=1, description='Pump rate:', disabled=True)\n",
    "wQ"
   ]
  },
  {
   "cell_type": "markdown",
   "metadata": {
    "hideCode": false,
    "hidePrompt": false,
    "hide_input": true
   },
   "source": [
    "Enter distances and final drawdowns in meter!"
   ]
  },
  {
   "cell_type": "code",
   "execution_count": 46,
   "metadata": {
    "hideCode": false,
    "hidePrompt": false,
    "hide_input": false,
    "scrolled": true
   },
   "outputs": [
    {
     "data": {
      "application/vnd.jupyter.widget-view+json": {
       "model_id": "c9dc6df0ba49445ca2f2548c1b8cd8f0",
       "version_major": 2,
       "version_minor": 0
      },
      "text/plain": [
       "HBox(children=(BoundedFloatText(value=30.0, description='$r_1$:', max=215.0), BoundedFloatText(value=90.0, des…"
      ]
     },
     "metadata": {},
     "output_type": "display_data"
    }
   ],
   "source": [
    "wr1 = widgets.BoundedFloatText(value=30.0, min=0.0, max=215.0, description='$r_1$:', disabled=False)\n",
    "wr2 = widgets.BoundedFloatText(value=90.0, min=0.0, max=215.0, description='$r_2$:', disabled=False)\n",
    "ws1 = widgets.BoundedFloatText(value=1.088, min=0.0, max=3.0, description='$s_1$:', disabled=False)\n",
    "ws2 = widgets.BoundedFloatText(value=0.716, min=0.0, max=3.0, description='$s_2$:', disabled=False)\n",
    "widgets.HBox([wr1,wr2,ws1,ws2]) "
   ]
  },
  {
   "cell_type": "markdown",
   "metadata": {
    "hideCode": false,
    "hidePrompt": false,
    "hide_input": true
   },
   "source": [
    "Run the next cell to see the result for transmissivity."
   ]
  },
  {
   "cell_type": "code",
   "execution_count": 3,
   "metadata": {
    "hideCode": false,
    "hidePrompt": false,
    "hide_input": false
   },
   "outputs": [
    {
     "name": "stdout",
     "output_type": "stream",
     "text": [
      "T = 361 m²/d\n"
     ]
    }
   ],
   "source": [
    "Q = wQ.value         \n",
    "r1 = wr1.value; s1 = ws1.value; r2 =wr2.value; s2 = ws2.value  # distances and drawdown \n",
    "T1 = Q * np.log(r1/r2) / (2*np.pi*(s2-s1))\n",
    "print('T = {:.0f} m\\u00b2/d'.format(T1))"
   ]
  },
  {
   "cell_type": "markdown",
   "metadata": {
    "hideCode": false,
    "hidePrompt": false,
    "hide_input": false
   },
   "source": [
    "The transmissivity is related to the conductivity $K$ of the porous medium in the aquifer by: $T=K \\cdot D$. \n",
    "\n",
    "For the computation of the conductivity the aquifer thickness $D$ of the aquifer has to be given. "
   ]
  },
  {
   "cell_type": "code",
   "execution_count": 4,
   "metadata": {
    "hideCode": false,
    "hidePrompt": false,
    "hide_input": true,
    "scrolled": false
   },
   "outputs": [
    {
     "data": {
      "application/vnd.jupyter.widget-view+json": {
       "model_id": "6e2d28552ba84582aa9bce011d5adc34",
       "version_major": 2,
       "version_minor": 0
      },
      "text/plain": [
       "BoundedFloatText(value=7.0, description='Thickness:', max=15.0, step=1.0)"
      ]
     },
     "metadata": {},
     "output_type": "display_data"
    }
   ],
   "source": [
    "wD = widgets.BoundedFloatText(value=7, min=0, max=15.0, step=1, description='Thickness:', disabled=False)\n",
    "wD"
   ]
  },
  {
   "cell_type": "markdown",
   "metadata": {
    "hideCode": false,
    "hidePrompt": false
   },
   "source": [
    " Obtain the result for the hydraulic conductivity of the porous medium by running the next cell: "
   ]
  },
  {
   "cell_type": "code",
   "execution_count": 5,
   "metadata": {
    "hideCode": false,
    "hidePrompt": false,
    "hide_input": false,
    "scrolled": true
   },
   "outputs": [
    {
     "name": "stdout",
     "output_type": "stream",
     "text": [
      "K = 52 m/d\n"
     ]
    }
   ],
   "source": [
    "print('K = {:.0f} m/d'.format(T1/wD.value))"
   ]
  },
  {
   "cell_type": "markdown",
   "metadata": {
    "hideCode": false,
    "hidePrompt": false
   },
   "source": [
    "### Unconfined Aquifer \n",
    "The Thiem formula shown above holds for a confined aquifer. An analogous derivation derivation can be performed for an unconfined aquifer. The formula for the hydraulic head is:"
   ]
  },
  {
   "cell_type": "markdown",
   "metadata": {
    "hideCode": false,
    "hidePrompt": false
   },
   "source": [
    "$$ h^2(r) = \\frac {Q} {\\pi K} \\ln (r)+C $$"
   ]
  },
  {
   "cell_type": "markdown",
   "metadata": {
    "hideCode": false,
    "hidePrompt": false
   },
   "source": [
    "where $h$ denotes the piezometric head, measured from the aquifer base. From this one obtains: "
   ]
  },
  {
   "cell_type": "markdown",
   "metadata": {
    "hideCode": false,
    "hidePrompt": false,
    "hide_input": false
   },
   "source": [
    "$$ K = \\frac {Q} {\\pi (h_2^2-h_1^2)} \\ln (r_2/r_1) $$"
   ]
  },
  {
   "cell_type": "markdown",
   "metadata": {
    "hideCode": false,
    "hidePrompt": false
   },
   "source": [
    "For the calculation the constant initial head is required. We enter it here: "
   ]
  },
  {
   "cell_type": "code",
   "execution_count": 6,
   "metadata": {
    "hideCode": false,
    "hidePrompt": false,
    "hide_input": false,
    "scrolled": false
   },
   "outputs": [
    {
     "data": {
      "application/vnd.jupyter.widget-view+json": {
       "model_id": "b8468f004edf400fbdfa86f5907cc145",
       "version_major": 2,
       "version_minor": 0
      },
      "text/plain": [
       "BoundedFloatText(value=7.0, description='Initial head:', max=15.0, step=1.0)"
      ]
     },
     "metadata": {},
     "output_type": "display_data"
    }
   ],
   "source": [
    "wH = widgets.BoundedFloatText(value=7, min=0, max=15.0, step=1, description='Initial head:', disabled=False)\n",
    "wH"
   ]
  },
  {
   "cell_type": "markdown",
   "metadata": {
    "hideCode": false,
    "hidePrompt": false
   },
   "source": [
    " and obtain the result by running the next cell: "
   ]
  },
  {
   "cell_type": "code",
   "execution_count": 7,
   "metadata": {
    "hideCode": false,
    "hidePrompt": false,
    "hide_input": true,
    "scrolled": false
   },
   "outputs": [
    {
     "name": "stdout",
     "output_type": "stream",
     "text": [
      "K = 59 m/d\n"
     ]
    }
   ],
   "source": [
    "h1 = wH.value-s1; h2 = wH.value-s2\n",
    "K1 = Q * np.log(r2/r1) / np.pi / (h2**2-h1**2)\n",
    "print('K = {:.0f} m/d'.format(K1))"
   ]
  },
  {
   "cell_type": "markdown",
   "metadata": {
    "hideCode": false,
    "hidePrompt": false
   },
   "source": [
    "Also for this pumping we don't know the exact value of the initial head. Change its value and see the effect on the resulting conductivity! \n",
    "Compare the result with the conductivities that results from the output of the Thiem evaluation for the confined aquifer, identifying the aquifer thickness with the initial head."
   ]
  },
  {
   "cell_type": "markdown",
   "metadata": {
    "hideCode": false,
    "hidePrompt": false
   },
   "source": [
    "Use the Thiem evaluation for the steady state taking the measurements at the near and far observtion points into consideration. Examine results for different pairs of observations.  "
   ]
  },
  {
   "cell_type": "markdown",
   "metadata": {
    "hideCode": false,
    "hidePrompt": false
   },
   "source": [
    "### Leaky Aquifer\n",
    "Kooper (1914) and de Glee (1930) developed an expression for the steady drawdown in a leaky aquifer. The overlying semi-permeable layer is characterized by its vertical flow resistance $c$, which has the unit of time. The formula is:  "
   ]
  },
  {
   "cell_type": "markdown",
   "metadata": {
    "hideCode": false,
    "hidePrompt": false
   },
   "source": [
    "$$ s(r) = \\frac{Q}{2 \\pi T} K_0(\\frac{r}{\\sqrt{Tc}}) $$"
   ]
  },
  {
   "cell_type": "markdown",
   "metadata": {
    "hideCode": false,
    "hidePrompt": false
   },
   "source": [
    "where $K_0$ denotes the modified Bessel function 2. type 0. order. We can obtain values for the two parameters $T$ and $c$ by fitting using the method of least squares. This is done in the following cell."
   ]
  },
  {
   "cell_type": "code",
   "execution_count": 94,
   "metadata": {
    "hideCode": false,
    "hidePrompt": false,
    "hide_input": true
   },
   "outputs": [
    {
     "data": {
      "application/vnd.jupyter.widget-view+json": {
       "model_id": "52b80d742acb46c590cc98110994c8c0",
       "version_major": 2,
       "version_minor": 0
      },
      "text/plain": [
       "HBox(children=(Button(description='Leaky aquifer fit', style=ButtonStyle()), Checkbox(value=False, description…"
      ]
     },
     "metadata": {},
     "output_type": "display_data"
    },
    {
     "name": "stdout",
     "output_type": "stream",
     "text": [
      "Optimization terminated successfully.\n",
      "         Current function value: 0.018143\n",
      "         Iterations: 45\n",
      "         Function evaluations: 89\n"
     ]
    },
    {
     "data": {
      "application/javascript": [
       "/* Put everything inside the global mpl namespace */\n",
       "window.mpl = {};\n",
       "\n",
       "\n",
       "mpl.get_websocket_type = function() {\n",
       "    if (typeof(WebSocket) !== 'undefined') {\n",
       "        return WebSocket;\n",
       "    } else if (typeof(MozWebSocket) !== 'undefined') {\n",
       "        return MozWebSocket;\n",
       "    } else {\n",
       "        alert('Your browser does not have WebSocket support. ' +\n",
       "              'Please try Chrome, Safari or Firefox ≥ 6. ' +\n",
       "              'Firefox 4 and 5 are also supported but you ' +\n",
       "              'have to enable WebSockets in about:config.');\n",
       "    };\n",
       "}\n",
       "\n",
       "mpl.figure = function(figure_id, websocket, ondownload, parent_element) {\n",
       "    this.id = figure_id;\n",
       "\n",
       "    this.ws = websocket;\n",
       "\n",
       "    this.supports_binary = (this.ws.binaryType != undefined);\n",
       "\n",
       "    if (!this.supports_binary) {\n",
       "        var warnings = document.getElementById(\"mpl-warnings\");\n",
       "        if (warnings) {\n",
       "            warnings.style.display = 'block';\n",
       "            warnings.textContent = (\n",
       "                \"This browser does not support binary websocket messages. \" +\n",
       "                    \"Performance may be slow.\");\n",
       "        }\n",
       "    }\n",
       "\n",
       "    this.imageObj = new Image();\n",
       "\n",
       "    this.context = undefined;\n",
       "    this.message = undefined;\n",
       "    this.canvas = undefined;\n",
       "    this.rubberband_canvas = undefined;\n",
       "    this.rubberband_context = undefined;\n",
       "    this.format_dropdown = undefined;\n",
       "\n",
       "    this.image_mode = 'full';\n",
       "\n",
       "    this.root = $('<div/>');\n",
       "    this._root_extra_style(this.root)\n",
       "    this.root.attr('style', 'display: inline-block');\n",
       "\n",
       "    $(parent_element).append(this.root);\n",
       "\n",
       "    this._init_header(this);\n",
       "    this._init_canvas(this);\n",
       "    this._init_toolbar(this);\n",
       "\n",
       "    var fig = this;\n",
       "\n",
       "    this.waiting = false;\n",
       "\n",
       "    this.ws.onopen =  function () {\n",
       "            fig.send_message(\"supports_binary\", {value: fig.supports_binary});\n",
       "            fig.send_message(\"send_image_mode\", {});\n",
       "            if (mpl.ratio != 1) {\n",
       "                fig.send_message(\"set_dpi_ratio\", {'dpi_ratio': mpl.ratio});\n",
       "            }\n",
       "            fig.send_message(\"refresh\", {});\n",
       "        }\n",
       "\n",
       "    this.imageObj.onload = function() {\n",
       "            if (fig.image_mode == 'full') {\n",
       "                // Full images could contain transparency (where diff images\n",
       "                // almost always do), so we need to clear the canvas so that\n",
       "                // there is no ghosting.\n",
       "                fig.context.clearRect(0, 0, fig.canvas.width, fig.canvas.height);\n",
       "            }\n",
       "            fig.context.drawImage(fig.imageObj, 0, 0);\n",
       "        };\n",
       "\n",
       "    this.imageObj.onunload = function() {\n",
       "        fig.ws.close();\n",
       "    }\n",
       "\n",
       "    this.ws.onmessage = this._make_on_message_function(this);\n",
       "\n",
       "    this.ondownload = ondownload;\n",
       "}\n",
       "\n",
       "mpl.figure.prototype._init_header = function() {\n",
       "    var titlebar = $(\n",
       "        '<div class=\"ui-dialog-titlebar ui-widget-header ui-corner-all ' +\n",
       "        'ui-helper-clearfix\"/>');\n",
       "    var titletext = $(\n",
       "        '<div class=\"ui-dialog-title\" style=\"width: 100%; ' +\n",
       "        'text-align: center; padding: 3px;\"/>');\n",
       "    titlebar.append(titletext)\n",
       "    this.root.append(titlebar);\n",
       "    this.header = titletext[0];\n",
       "}\n",
       "\n",
       "\n",
       "\n",
       "mpl.figure.prototype._canvas_extra_style = function(canvas_div) {\n",
       "\n",
       "}\n",
       "\n",
       "\n",
       "mpl.figure.prototype._root_extra_style = function(canvas_div) {\n",
       "\n",
       "}\n",
       "\n",
       "mpl.figure.prototype._init_canvas = function() {\n",
       "    var fig = this;\n",
       "\n",
       "    var canvas_div = $('<div/>');\n",
       "\n",
       "    canvas_div.attr('style', 'position: relative; clear: both; outline: 0');\n",
       "\n",
       "    function canvas_keyboard_event(event) {\n",
       "        return fig.key_event(event, event['data']);\n",
       "    }\n",
       "\n",
       "    canvas_div.keydown('key_press', canvas_keyboard_event);\n",
       "    canvas_div.keyup('key_release', canvas_keyboard_event);\n",
       "    this.canvas_div = canvas_div\n",
       "    this._canvas_extra_style(canvas_div)\n",
       "    this.root.append(canvas_div);\n",
       "\n",
       "    var canvas = $('<canvas/>');\n",
       "    canvas.addClass('mpl-canvas');\n",
       "    canvas.attr('style', \"left: 0; top: 0; z-index: 0; outline: 0\")\n",
       "\n",
       "    this.canvas = canvas[0];\n",
       "    this.context = canvas[0].getContext(\"2d\");\n",
       "\n",
       "    var backingStore = this.context.backingStorePixelRatio ||\n",
       "\tthis.context.webkitBackingStorePixelRatio ||\n",
       "\tthis.context.mozBackingStorePixelRatio ||\n",
       "\tthis.context.msBackingStorePixelRatio ||\n",
       "\tthis.context.oBackingStorePixelRatio ||\n",
       "\tthis.context.backingStorePixelRatio || 1;\n",
       "\n",
       "    mpl.ratio = (window.devicePixelRatio || 1) / backingStore;\n",
       "\n",
       "    var rubberband = $('<canvas/>');\n",
       "    rubberband.attr('style', \"position: absolute; left: 0; top: 0; z-index: 1;\")\n",
       "\n",
       "    var pass_mouse_events = true;\n",
       "\n",
       "    canvas_div.resizable({\n",
       "        start: function(event, ui) {\n",
       "            pass_mouse_events = false;\n",
       "        },\n",
       "        resize: function(event, ui) {\n",
       "            fig.request_resize(ui.size.width, ui.size.height);\n",
       "        },\n",
       "        stop: function(event, ui) {\n",
       "            pass_mouse_events = true;\n",
       "            fig.request_resize(ui.size.width, ui.size.height);\n",
       "        },\n",
       "    });\n",
       "\n",
       "    function mouse_event_fn(event) {\n",
       "        if (pass_mouse_events)\n",
       "            return fig.mouse_event(event, event['data']);\n",
       "    }\n",
       "\n",
       "    rubberband.mousedown('button_press', mouse_event_fn);\n",
       "    rubberband.mouseup('button_release', mouse_event_fn);\n",
       "    // Throttle sequential mouse events to 1 every 20ms.\n",
       "    rubberband.mousemove('motion_notify', mouse_event_fn);\n",
       "\n",
       "    rubberband.mouseenter('figure_enter', mouse_event_fn);\n",
       "    rubberband.mouseleave('figure_leave', mouse_event_fn);\n",
       "\n",
       "    canvas_div.on(\"wheel\", function (event) {\n",
       "        event = event.originalEvent;\n",
       "        event['data'] = 'scroll'\n",
       "        if (event.deltaY < 0) {\n",
       "            event.step = 1;\n",
       "        } else {\n",
       "            event.step = -1;\n",
       "        }\n",
       "        mouse_event_fn(event);\n",
       "    });\n",
       "\n",
       "    canvas_div.append(canvas);\n",
       "    canvas_div.append(rubberband);\n",
       "\n",
       "    this.rubberband = rubberband;\n",
       "    this.rubberband_canvas = rubberband[0];\n",
       "    this.rubberband_context = rubberband[0].getContext(\"2d\");\n",
       "    this.rubberband_context.strokeStyle = \"#000000\";\n",
       "\n",
       "    this._resize_canvas = function(width, height) {\n",
       "        // Keep the size of the canvas, canvas container, and rubber band\n",
       "        // canvas in synch.\n",
       "        canvas_div.css('width', width)\n",
       "        canvas_div.css('height', height)\n",
       "\n",
       "        canvas.attr('width', width * mpl.ratio);\n",
       "        canvas.attr('height', height * mpl.ratio);\n",
       "        canvas.attr('style', 'width: ' + width + 'px; height: ' + height + 'px;');\n",
       "\n",
       "        rubberband.attr('width', width);\n",
       "        rubberband.attr('height', height);\n",
       "    }\n",
       "\n",
       "    // Set the figure to an initial 600x600px, this will subsequently be updated\n",
       "    // upon first draw.\n",
       "    this._resize_canvas(600, 600);\n",
       "\n",
       "    // Disable right mouse context menu.\n",
       "    $(this.rubberband_canvas).bind(\"contextmenu\",function(e){\n",
       "        return false;\n",
       "    });\n",
       "\n",
       "    function set_focus () {\n",
       "        canvas.focus();\n",
       "        canvas_div.focus();\n",
       "    }\n",
       "\n",
       "    window.setTimeout(set_focus, 100);\n",
       "}\n",
       "\n",
       "mpl.figure.prototype._init_toolbar = function() {\n",
       "    var fig = this;\n",
       "\n",
       "    var nav_element = $('<div/>');\n",
       "    nav_element.attr('style', 'width: 100%');\n",
       "    this.root.append(nav_element);\n",
       "\n",
       "    // Define a callback function for later on.\n",
       "    function toolbar_event(event) {\n",
       "        return fig.toolbar_button_onclick(event['data']);\n",
       "    }\n",
       "    function toolbar_mouse_event(event) {\n",
       "        return fig.toolbar_button_onmouseover(event['data']);\n",
       "    }\n",
       "\n",
       "    for(var toolbar_ind in mpl.toolbar_items) {\n",
       "        var name = mpl.toolbar_items[toolbar_ind][0];\n",
       "        var tooltip = mpl.toolbar_items[toolbar_ind][1];\n",
       "        var image = mpl.toolbar_items[toolbar_ind][2];\n",
       "        var method_name = mpl.toolbar_items[toolbar_ind][3];\n",
       "\n",
       "        if (!name) {\n",
       "            // put a spacer in here.\n",
       "            continue;\n",
       "        }\n",
       "        var button = $('<button/>');\n",
       "        button.addClass('ui-button ui-widget ui-state-default ui-corner-all ' +\n",
       "                        'ui-button-icon-only');\n",
       "        button.attr('role', 'button');\n",
       "        button.attr('aria-disabled', 'false');\n",
       "        button.click(method_name, toolbar_event);\n",
       "        button.mouseover(tooltip, toolbar_mouse_event);\n",
       "\n",
       "        var icon_img = $('<span/>');\n",
       "        icon_img.addClass('ui-button-icon-primary ui-icon');\n",
       "        icon_img.addClass(image);\n",
       "        icon_img.addClass('ui-corner-all');\n",
       "\n",
       "        var tooltip_span = $('<span/>');\n",
       "        tooltip_span.addClass('ui-button-text');\n",
       "        tooltip_span.html(tooltip);\n",
       "\n",
       "        button.append(icon_img);\n",
       "        button.append(tooltip_span);\n",
       "\n",
       "        nav_element.append(button);\n",
       "    }\n",
       "\n",
       "    var fmt_picker_span = $('<span/>');\n",
       "\n",
       "    var fmt_picker = $('<select/>');\n",
       "    fmt_picker.addClass('mpl-toolbar-option ui-widget ui-widget-content');\n",
       "    fmt_picker_span.append(fmt_picker);\n",
       "    nav_element.append(fmt_picker_span);\n",
       "    this.format_dropdown = fmt_picker[0];\n",
       "\n",
       "    for (var ind in mpl.extensions) {\n",
       "        var fmt = mpl.extensions[ind];\n",
       "        var option = $(\n",
       "            '<option/>', {selected: fmt === mpl.default_extension}).html(fmt);\n",
       "        fmt_picker.append(option);\n",
       "    }\n",
       "\n",
       "    // Add hover states to the ui-buttons\n",
       "    $( \".ui-button\" ).hover(\n",
       "        function() { $(this).addClass(\"ui-state-hover\");},\n",
       "        function() { $(this).removeClass(\"ui-state-hover\");}\n",
       "    );\n",
       "\n",
       "    var status_bar = $('<span class=\"mpl-message\"/>');\n",
       "    nav_element.append(status_bar);\n",
       "    this.message = status_bar[0];\n",
       "}\n",
       "\n",
       "mpl.figure.prototype.request_resize = function(x_pixels, y_pixels) {\n",
       "    // Request matplotlib to resize the figure. Matplotlib will then trigger a resize in the client,\n",
       "    // which will in turn request a refresh of the image.\n",
       "    this.send_message('resize', {'width': x_pixels, 'height': y_pixels});\n",
       "}\n",
       "\n",
       "mpl.figure.prototype.send_message = function(type, properties) {\n",
       "    properties['type'] = type;\n",
       "    properties['figure_id'] = this.id;\n",
       "    this.ws.send(JSON.stringify(properties));\n",
       "}\n",
       "\n",
       "mpl.figure.prototype.send_draw_message = function() {\n",
       "    if (!this.waiting) {\n",
       "        this.waiting = true;\n",
       "        this.ws.send(JSON.stringify({type: \"draw\", figure_id: this.id}));\n",
       "    }\n",
       "}\n",
       "\n",
       "\n",
       "mpl.figure.prototype.handle_save = function(fig, msg) {\n",
       "    var format_dropdown = fig.format_dropdown;\n",
       "    var format = format_dropdown.options[format_dropdown.selectedIndex].value;\n",
       "    fig.ondownload(fig, format);\n",
       "}\n",
       "\n",
       "\n",
       "mpl.figure.prototype.handle_resize = function(fig, msg) {\n",
       "    var size = msg['size'];\n",
       "    if (size[0] != fig.canvas.width || size[1] != fig.canvas.height) {\n",
       "        fig._resize_canvas(size[0], size[1]);\n",
       "        fig.send_message(\"refresh\", {});\n",
       "    };\n",
       "}\n",
       "\n",
       "mpl.figure.prototype.handle_rubberband = function(fig, msg) {\n",
       "    var x0 = msg['x0'] / mpl.ratio;\n",
       "    var y0 = (fig.canvas.height - msg['y0']) / mpl.ratio;\n",
       "    var x1 = msg['x1'] / mpl.ratio;\n",
       "    var y1 = (fig.canvas.height - msg['y1']) / mpl.ratio;\n",
       "    x0 = Math.floor(x0) + 0.5;\n",
       "    y0 = Math.floor(y0) + 0.5;\n",
       "    x1 = Math.floor(x1) + 0.5;\n",
       "    y1 = Math.floor(y1) + 0.5;\n",
       "    var min_x = Math.min(x0, x1);\n",
       "    var min_y = Math.min(y0, y1);\n",
       "    var width = Math.abs(x1 - x0);\n",
       "    var height = Math.abs(y1 - y0);\n",
       "\n",
       "    fig.rubberband_context.clearRect(\n",
       "        0, 0, fig.canvas.width / mpl.ratio, fig.canvas.height / mpl.ratio);\n",
       "\n",
       "    fig.rubberband_context.strokeRect(min_x, min_y, width, height);\n",
       "}\n",
       "\n",
       "mpl.figure.prototype.handle_figure_label = function(fig, msg) {\n",
       "    // Updates the figure title.\n",
       "    fig.header.textContent = msg['label'];\n",
       "}\n",
       "\n",
       "mpl.figure.prototype.handle_cursor = function(fig, msg) {\n",
       "    var cursor = msg['cursor'];\n",
       "    switch(cursor)\n",
       "    {\n",
       "    case 0:\n",
       "        cursor = 'pointer';\n",
       "        break;\n",
       "    case 1:\n",
       "        cursor = 'default';\n",
       "        break;\n",
       "    case 2:\n",
       "        cursor = 'crosshair';\n",
       "        break;\n",
       "    case 3:\n",
       "        cursor = 'move';\n",
       "        break;\n",
       "    }\n",
       "    fig.rubberband_canvas.style.cursor = cursor;\n",
       "}\n",
       "\n",
       "mpl.figure.prototype.handle_message = function(fig, msg) {\n",
       "    fig.message.textContent = msg['message'];\n",
       "}\n",
       "\n",
       "mpl.figure.prototype.handle_draw = function(fig, msg) {\n",
       "    // Request the server to send over a new figure.\n",
       "    fig.send_draw_message();\n",
       "}\n",
       "\n",
       "mpl.figure.prototype.handle_image_mode = function(fig, msg) {\n",
       "    fig.image_mode = msg['mode'];\n",
       "}\n",
       "\n",
       "mpl.figure.prototype.updated_canvas_event = function() {\n",
       "    // Called whenever the canvas gets updated.\n",
       "    this.send_message(\"ack\", {});\n",
       "}\n",
       "\n",
       "// A function to construct a web socket function for onmessage handling.\n",
       "// Called in the figure constructor.\n",
       "mpl.figure.prototype._make_on_message_function = function(fig) {\n",
       "    return function socket_on_message(evt) {\n",
       "        if (evt.data instanceof Blob) {\n",
       "            /* FIXME: We get \"Resource interpreted as Image but\n",
       "             * transferred with MIME type text/plain:\" errors on\n",
       "             * Chrome.  But how to set the MIME type?  It doesn't seem\n",
       "             * to be part of the websocket stream */\n",
       "            evt.data.type = \"image/png\";\n",
       "\n",
       "            /* Free the memory for the previous frames */\n",
       "            if (fig.imageObj.src) {\n",
       "                (window.URL || window.webkitURL).revokeObjectURL(\n",
       "                    fig.imageObj.src);\n",
       "            }\n",
       "\n",
       "            fig.imageObj.src = (window.URL || window.webkitURL).createObjectURL(\n",
       "                evt.data);\n",
       "            fig.updated_canvas_event();\n",
       "            fig.waiting = false;\n",
       "            return;\n",
       "        }\n",
       "        else if (typeof evt.data === 'string' && evt.data.slice(0, 21) == \"data:image/png;base64\") {\n",
       "            fig.imageObj.src = evt.data;\n",
       "            fig.updated_canvas_event();\n",
       "            fig.waiting = false;\n",
       "            return;\n",
       "        }\n",
       "\n",
       "        var msg = JSON.parse(evt.data);\n",
       "        var msg_type = msg['type'];\n",
       "\n",
       "        // Call the  \"handle_{type}\" callback, which takes\n",
       "        // the figure and JSON message as its only arguments.\n",
       "        try {\n",
       "            var callback = fig[\"handle_\" + msg_type];\n",
       "        } catch (e) {\n",
       "            console.log(\"No handler for the '\" + msg_type + \"' message type: \", msg);\n",
       "            return;\n",
       "        }\n",
       "\n",
       "        if (callback) {\n",
       "            try {\n",
       "                // console.log(\"Handling '\" + msg_type + \"' message: \", msg);\n",
       "                callback(fig, msg);\n",
       "            } catch (e) {\n",
       "                console.log(\"Exception inside the 'handler_\" + msg_type + \"' callback:\", e, e.stack, msg);\n",
       "            }\n",
       "        }\n",
       "    };\n",
       "}\n",
       "\n",
       "// from http://stackoverflow.com/questions/1114465/getting-mouse-location-in-canvas\n",
       "mpl.findpos = function(e) {\n",
       "    //this section is from http://www.quirksmode.org/js/events_properties.html\n",
       "    var targ;\n",
       "    if (!e)\n",
       "        e = window.event;\n",
       "    if (e.target)\n",
       "        targ = e.target;\n",
       "    else if (e.srcElement)\n",
       "        targ = e.srcElement;\n",
       "    if (targ.nodeType == 3) // defeat Safari bug\n",
       "        targ = targ.parentNode;\n",
       "\n",
       "    // jQuery normalizes the pageX and pageY\n",
       "    // pageX,Y are the mouse positions relative to the document\n",
       "    // offset() returns the position of the element relative to the document\n",
       "    var x = e.pageX - $(targ).offset().left;\n",
       "    var y = e.pageY - $(targ).offset().top;\n",
       "\n",
       "    return {\"x\": x, \"y\": y};\n",
       "};\n",
       "\n",
       "/*\n",
       " * return a copy of an object with only non-object keys\n",
       " * we need this to avoid circular references\n",
       " * http://stackoverflow.com/a/24161582/3208463\n",
       " */\n",
       "function simpleKeys (original) {\n",
       "  return Object.keys(original).reduce(function (obj, key) {\n",
       "    if (typeof original[key] !== 'object')\n",
       "        obj[key] = original[key]\n",
       "    return obj;\n",
       "  }, {});\n",
       "}\n",
       "\n",
       "mpl.figure.prototype.mouse_event = function(event, name) {\n",
       "    var canvas_pos = mpl.findpos(event)\n",
       "\n",
       "    if (name === 'button_press')\n",
       "    {\n",
       "        this.canvas.focus();\n",
       "        this.canvas_div.focus();\n",
       "    }\n",
       "\n",
       "    var x = canvas_pos.x * mpl.ratio;\n",
       "    var y = canvas_pos.y * mpl.ratio;\n",
       "\n",
       "    this.send_message(name, {x: x, y: y, button: event.button,\n",
       "                             step: event.step,\n",
       "                             guiEvent: simpleKeys(event)});\n",
       "\n",
       "    /* This prevents the web browser from automatically changing to\n",
       "     * the text insertion cursor when the button is pressed.  We want\n",
       "     * to control all of the cursor setting manually through the\n",
       "     * 'cursor' event from matplotlib */\n",
       "    event.preventDefault();\n",
       "    return false;\n",
       "}\n",
       "\n",
       "mpl.figure.prototype._key_event_extra = function(event, name) {\n",
       "    // Handle any extra behaviour associated with a key event\n",
       "}\n",
       "\n",
       "mpl.figure.prototype.key_event = function(event, name) {\n",
       "\n",
       "    // Prevent repeat events\n",
       "    if (name == 'key_press')\n",
       "    {\n",
       "        if (event.which === this._key)\n",
       "            return;\n",
       "        else\n",
       "            this._key = event.which;\n",
       "    }\n",
       "    if (name == 'key_release')\n",
       "        this._key = null;\n",
       "\n",
       "    var value = '';\n",
       "    if (event.ctrlKey && event.which != 17)\n",
       "        value += \"ctrl+\";\n",
       "    if (event.altKey && event.which != 18)\n",
       "        value += \"alt+\";\n",
       "    if (event.shiftKey && event.which != 16)\n",
       "        value += \"shift+\";\n",
       "\n",
       "    value += 'k';\n",
       "    value += event.which.toString();\n",
       "\n",
       "    this._key_event_extra(event, name);\n",
       "\n",
       "    this.send_message(name, {key: value,\n",
       "                             guiEvent: simpleKeys(event)});\n",
       "    return false;\n",
       "}\n",
       "\n",
       "mpl.figure.prototype.toolbar_button_onclick = function(name) {\n",
       "    if (name == 'download') {\n",
       "        this.handle_save(this, null);\n",
       "    } else {\n",
       "        this.send_message(\"toolbar_button\", {name: name});\n",
       "    }\n",
       "};\n",
       "\n",
       "mpl.figure.prototype.toolbar_button_onmouseover = function(tooltip) {\n",
       "    this.message.textContent = tooltip;\n",
       "};\n",
       "mpl.toolbar_items = [[\"Home\", \"Reset original view\", \"fa fa-home icon-home\", \"home\"], [\"Back\", \"Back to previous view\", \"fa fa-arrow-left icon-arrow-left\", \"back\"], [\"Forward\", \"Forward to next view\", \"fa fa-arrow-right icon-arrow-right\", \"forward\"], [\"\", \"\", \"\", \"\"], [\"Pan\", \"Pan axes with left mouse, zoom with right\", \"fa fa-arrows icon-move\", \"pan\"], [\"Zoom\", \"Zoom to rectangle\", \"fa fa-square-o icon-check-empty\", \"zoom\"], [\"\", \"\", \"\", \"\"], [\"Download\", \"Download plot\", \"fa fa-floppy-o icon-save\", \"download\"]];\n",
       "\n",
       "mpl.extensions = [\"eps\", \"jpeg\", \"pdf\", \"png\", \"ps\", \"raw\", \"svg\", \"tif\"];\n",
       "\n",
       "mpl.default_extension = \"png\";var comm_websocket_adapter = function(comm) {\n",
       "    // Create a \"websocket\"-like object which calls the given IPython comm\n",
       "    // object with the appropriate methods. Currently this is a non binary\n",
       "    // socket, so there is still some room for performance tuning.\n",
       "    var ws = {};\n",
       "\n",
       "    ws.close = function() {\n",
       "        comm.close()\n",
       "    };\n",
       "    ws.send = function(m) {\n",
       "        //console.log('sending', m);\n",
       "        comm.send(m);\n",
       "    };\n",
       "    // Register the callback with on_msg.\n",
       "    comm.on_msg(function(msg) {\n",
       "        //console.log('receiving', msg['content']['data'], msg);\n",
       "        // Pass the mpl event to the overridden (by mpl) onmessage function.\n",
       "        ws.onmessage(msg['content']['data'])\n",
       "    });\n",
       "    return ws;\n",
       "}\n",
       "\n",
       "mpl.mpl_figure_comm = function(comm, msg) {\n",
       "    // This is the function which gets called when the mpl process\n",
       "    // starts-up an IPython Comm through the \"matplotlib\" channel.\n",
       "\n",
       "    var id = msg.content.data.id;\n",
       "    // Get hold of the div created by the display call when the Comm\n",
       "    // socket was opened in Python.\n",
       "    var element = $(\"#\" + id);\n",
       "    var ws_proxy = comm_websocket_adapter(comm)\n",
       "\n",
       "    function ondownload(figure, format) {\n",
       "        window.open(figure.imageObj.src);\n",
       "    }\n",
       "\n",
       "    var fig = new mpl.figure(id, ws_proxy,\n",
       "                           ondownload,\n",
       "                           element.get(0));\n",
       "\n",
       "    // Call onopen now - mpl needs it, as it is assuming we've passed it a real\n",
       "    // web socket which is closed, not our websocket->open comm proxy.\n",
       "    ws_proxy.onopen();\n",
       "\n",
       "    fig.parent_element = element.get(0);\n",
       "    fig.cell_info = mpl.find_output_cell(\"<div id='\" + id + \"'></div>\");\n",
       "    if (!fig.cell_info) {\n",
       "        console.error(\"Failed to find cell for figure\", id, fig);\n",
       "        return;\n",
       "    }\n",
       "\n",
       "    var output_index = fig.cell_info[2]\n",
       "    var cell = fig.cell_info[0];\n",
       "\n",
       "};\n",
       "\n",
       "mpl.figure.prototype.handle_close = function(fig, msg) {\n",
       "    var width = fig.canvas.width/mpl.ratio\n",
       "    fig.root.unbind('remove')\n",
       "\n",
       "    // Update the output cell to use the data from the current canvas.\n",
       "    fig.push_to_output();\n",
       "    var dataURL = fig.canvas.toDataURL();\n",
       "    // Re-enable the keyboard manager in IPython - without this line, in FF,\n",
       "    // the notebook keyboard shortcuts fail.\n",
       "    IPython.keyboard_manager.enable()\n",
       "    $(fig.parent_element).html('<img src=\"' + dataURL + '\" width=\"' + width + '\">');\n",
       "    fig.close_ws(fig, msg);\n",
       "}\n",
       "\n",
       "mpl.figure.prototype.close_ws = function(fig, msg){\n",
       "    fig.send_message('closing', msg);\n",
       "    // fig.ws.close()\n",
       "}\n",
       "\n",
       "mpl.figure.prototype.push_to_output = function(remove_interactive) {\n",
       "    // Turn the data on the canvas into data in the output cell.\n",
       "    var width = this.canvas.width/mpl.ratio\n",
       "    var dataURL = this.canvas.toDataURL();\n",
       "    this.cell_info[1]['text/html'] = '<img src=\"' + dataURL + '\" width=\"' + width + '\">';\n",
       "}\n",
       "\n",
       "mpl.figure.prototype.updated_canvas_event = function() {\n",
       "    // Tell IPython that the notebook contents must change.\n",
       "    IPython.notebook.set_dirty(true);\n",
       "    this.send_message(\"ack\", {});\n",
       "    var fig = this;\n",
       "    // Wait a second, then push the new image to the DOM so\n",
       "    // that it is saved nicely (might be nice to debounce this).\n",
       "    setTimeout(function () { fig.push_to_output() }, 1000);\n",
       "}\n",
       "\n",
       "mpl.figure.prototype._init_toolbar = function() {\n",
       "    var fig = this;\n",
       "\n",
       "    var nav_element = $('<div/>');\n",
       "    nav_element.attr('style', 'width: 100%');\n",
       "    this.root.append(nav_element);\n",
       "\n",
       "    // Define a callback function for later on.\n",
       "    function toolbar_event(event) {\n",
       "        return fig.toolbar_button_onclick(event['data']);\n",
       "    }\n",
       "    function toolbar_mouse_event(event) {\n",
       "        return fig.toolbar_button_onmouseover(event['data']);\n",
       "    }\n",
       "\n",
       "    for(var toolbar_ind in mpl.toolbar_items){\n",
       "        var name = mpl.toolbar_items[toolbar_ind][0];\n",
       "        var tooltip = mpl.toolbar_items[toolbar_ind][1];\n",
       "        var image = mpl.toolbar_items[toolbar_ind][2];\n",
       "        var method_name = mpl.toolbar_items[toolbar_ind][3];\n",
       "\n",
       "        if (!name) { continue; };\n",
       "\n",
       "        var button = $('<button class=\"btn btn-default\" href=\"#\" title=\"' + name + '\"><i class=\"fa ' + image + ' fa-lg\"></i></button>');\n",
       "        button.click(method_name, toolbar_event);\n",
       "        button.mouseover(tooltip, toolbar_mouse_event);\n",
       "        nav_element.append(button);\n",
       "    }\n",
       "\n",
       "    // Add the status bar.\n",
       "    var status_bar = $('<span class=\"mpl-message\" style=\"text-align:right; float: right;\"/>');\n",
       "    nav_element.append(status_bar);\n",
       "    this.message = status_bar[0];\n",
       "\n",
       "    // Add the close button to the window.\n",
       "    var buttongrp = $('<div class=\"btn-group inline pull-right\"></div>');\n",
       "    var button = $('<button class=\"btn btn-mini btn-primary\" href=\"#\" title=\"Stop Interaction\"><i class=\"fa fa-power-off icon-remove icon-large\"></i></button>');\n",
       "    button.click(function (evt) { fig.handle_close(fig, {}); } );\n",
       "    button.mouseover('Stop Interaction', toolbar_mouse_event);\n",
       "    buttongrp.append(button);\n",
       "    var titlebar = this.root.find($('.ui-dialog-titlebar'));\n",
       "    titlebar.prepend(buttongrp);\n",
       "}\n",
       "\n",
       "mpl.figure.prototype._root_extra_style = function(el){\n",
       "    var fig = this\n",
       "    el.on(\"remove\", function(){\n",
       "\tfig.close_ws(fig, {});\n",
       "    });\n",
       "}\n",
       "\n",
       "mpl.figure.prototype._canvas_extra_style = function(el){\n",
       "    // this is important to make the div 'focusable\n",
       "    el.attr('tabindex', 0)\n",
       "    // reach out to IPython and tell the keyboard manager to turn it's self\n",
       "    // off when our div gets focus\n",
       "\n",
       "    // location in version 3\n",
       "    if (IPython.notebook.keyboard_manager) {\n",
       "        IPython.notebook.keyboard_manager.register_events(el);\n",
       "    }\n",
       "    else {\n",
       "        // location in version 2\n",
       "        IPython.keyboard_manager.register_events(el);\n",
       "    }\n",
       "\n",
       "}\n",
       "\n",
       "mpl.figure.prototype._key_event_extra = function(event, name) {\n",
       "    var manager = IPython.notebook.keyboard_manager;\n",
       "    if (!manager)\n",
       "        manager = IPython.keyboard_manager;\n",
       "\n",
       "    // Check for shift+enter\n",
       "    if (event.shiftKey && event.which == 13) {\n",
       "        this.canvas_div.blur();\n",
       "        // select the cell after this one\n",
       "        var index = IPython.notebook.find_cell_index(this.cell_info[0]);\n",
       "        IPython.notebook.select(index + 1);\n",
       "    }\n",
       "}\n",
       "\n",
       "mpl.figure.prototype.handle_save = function(fig, msg) {\n",
       "    fig.ondownload(fig, null);\n",
       "}\n",
       "\n",
       "\n",
       "mpl.find_output_cell = function(html_output) {\n",
       "    // Return the cell and output element which can be found *uniquely* in the notebook.\n",
       "    // Note - this is a bit hacky, but it is done because the \"notebook_saving.Notebook\"\n",
       "    // IPython event is triggered only after the cells have been serialised, which for\n",
       "    // our purposes (turning an active figure into a static one), is too late.\n",
       "    var cells = IPython.notebook.get_cells();\n",
       "    var ncells = cells.length;\n",
       "    for (var i=0; i<ncells; i++) {\n",
       "        var cell = cells[i];\n",
       "        if (cell.cell_type === 'code'){\n",
       "            for (var j=0; j<cell.output_area.outputs.length; j++) {\n",
       "                var data = cell.output_area.outputs[j];\n",
       "                if (data.data) {\n",
       "                    // IPython >= 3 moved mimebundle to data attribute of output\n",
       "                    data = data.data;\n",
       "                }\n",
       "                if (data['text/html'] == html_output) {\n",
       "                    return [cell, data, j];\n",
       "                }\n",
       "            }\n",
       "        }\n",
       "    }\n",
       "}\n",
       "\n",
       "// Register the function which deals with the matplotlib target/channel.\n",
       "// The kernel may be null if the page has been refreshed.\n",
       "if (IPython.notebook.kernel != null) {\n",
       "    IPython.notebook.kernel.comm_manager.register_target('matplotlib', mpl.mpl_figure_comm);\n",
       "}\n"
      ],
      "text/plain": [
       "<IPython.core.display.Javascript object>"
      ]
     },
     "metadata": {},
     "output_type": "display_data"
    },
    {
     "data": {
      "text/html": [
       "<img src=\"data:image/png;base64,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\" width=\"432\">"
      ],
      "text/plain": [
       "<IPython.core.display.HTML object>"
      ]
     },
     "metadata": {},
     "output_type": "display_data"
    }
   ],
   "source": [
    "from scipy.optimize import fmin\n",
    "from scipy.special import kn as besselk\n",
    "rfit = [0.8, 30, 60, 215]\n",
    "srfit = [2.235, 1.088, 0.716, 0.25] \n",
    "T2 = 500\n",
    "\n",
    "def deGlee (x):\n",
    "    T = x[0]; c = x[1]\n",
    "    u = rfit/np.sqrt(T*c)\n",
    "    s = Q*besselk(0,u)/2/np.pi/T\n",
    "    res = (s-srfit)\n",
    "    return sum(res*res)\n",
    "\n",
    "def on_wdg_clicked(self):\n",
    "    global T2\n",
    "    c = 500\n",
    "    n = len(rfit); lr = np.log(rfit)  \n",
    "    T = (n*np.sum(lr*srfit)-np.sum(lr)*np.sum(srfit))/(n*np.sum(lr*lr)-np.sum(lr)**2)\n",
    "    T = -Q/2/np.pi/T                       # transmissivity initial guess [L^2/T]\n",
    "    [Tfit,cfit] = fmin(deGlee, [T,c]) \n",
    "\n",
    "    s = Q*besselk(0,rfit/np.sqrt(Tfit*cfit))/2/np.pi/Tfit\n",
    "    norms = np.linalg.norm(srfit-s)\n",
    "    rmax = max(rfit); smax = max(srfit)\n",
    "    r = np.arange(.9*min(rfit), rmax, step = rmax/50)\n",
    "    s = Q/2/np.pi/T*besselk(0,r/np.sqrt(Tfit*cfit))\n",
    "    fig = plt.figure(facecolor='w'); ax = fig.add_subplot()\n",
    "    if wcb.value: \n",
    "        ax.set_xscale('log'); xtext = 1\n",
    "    else:\n",
    "        xtext = 130\n",
    "    plt.plot (rfit,srfit, 'o', label = 'observation' )\n",
    "    plt.plot (r,s, '.-', label = 'modelled' )\n",
    "    plt.xlabel('distance [m]',fontsize=12)\n",
    "    plt.ylabel('drawdown [m]',fontsize=12)\n",
    "    ax.grid(b=True, c='w', lw=2, ls='-')\n",
    "    plt.legend(loc = 'upper right',fontsize=12)\n",
    "    ax.text (xtext,.7*smax,'$T = %.1f m^2/d$' % (Tfit, ),fontsize=12)\n",
    "    ax.text (xtext,.6*smax,'$c =%.0f d$' % (cfit, ),fontsize=12)\n",
    "    ax.text (xtext,.5*smax,'$res =%.3e $' % (norms, ),fontsize=12)\n",
    "    plt.title ('deGlee fit',fontsize=14);\n",
    "    T2 = Tfit\n",
    "\n",
    "wdg = widgets.Button(description='Leaky aquifer fit')        \n",
    "wdg.on_click(on_wdg_clicked)   \n",
    "wcb = widgets.Checkbox(value=False, description='log', disabled=False, indent=False)\n",
    "widgets.HBox([wdg,wcb]) "
   ]
  },
  {
   "cell_type": "markdown",
   "metadata": {
    "hideCode": false,
    "hidePrompt": false,
    "hide_input": false
   },
   "source": [
    "Again we can obtain the hydraulic conductivity $K$ if the aquifer thickness is known:  "
   ]
  },
  {
   "cell_type": "code",
   "execution_count": 9,
   "metadata": {
    "hideCode": false,
    "hidePrompt": false,
    "hide_input": false,
    "scrolled": true
   },
   "outputs": [
    {
     "data": {
      "application/vnd.jupyter.widget-view+json": {
       "model_id": "aa13cbdce5d349df9fa5c482badf1944",
       "version_major": 2,
       "version_minor": 0
      },
      "text/plain": [
       "BoundedFloatText(value=7.0, description='Thickness:', max=15.0, step=1.0)"
      ]
     },
     "metadata": {},
     "output_type": "display_data"
    }
   ],
   "source": [
    "wD2 = widgets.BoundedFloatText(value=7, min=0, max=15.0, step=1, description='Thickness:', disabled=False)\n",
    "wD2"
   ]
  },
  {
   "cell_type": "markdown",
   "metadata": {
    "hideCode": false,
    "hidePrompt": false
   },
   "source": [
    " Obtain the result by running the next cell: "
   ]
  },
  {
   "cell_type": "code",
   "execution_count": 10,
   "metadata": {
    "hideCode": false,
    "hidePrompt": false,
    "hide_input": false,
    "scrolled": true
   },
   "outputs": [
    {
     "name": "stdout",
     "output_type": "stream",
     "text": [
      "K = 71 m/d\n"
     ]
    }
   ],
   "source": [
    "print('K = {:.0f} m/d'.format(T2/wD2.value))"
   ]
  },
  {
   "cell_type": "markdown",
   "metadata": {
    "hideCode": false,
    "hidePrompt": false
   },
   "source": [
    "## Unsteady Data Input and Visualization"
   ]
  },
  {
   "cell_type": "markdown",
   "metadata": {
    "hideCode": false,
    "hidePrompt": false,
    "hide_input": false
   },
   "source": [
    "The data for the pumping test are read into this notebook.  "
   ]
  },
  {
   "cell_type": "code",
   "execution_count": 11,
   "metadata": {
    "hideCode": false,
    "hidePrompt": false,
    "hide_input": false,
    "jupyter": {
     "outputs_hidden": false
    },
    "scrolled": true
   },
   "outputs": [
    {
     "name": "stdout",
     "output_type": "stream",
     "text": [
      "Data ready\n"
     ]
    }
   ],
   "source": [
    "df = pd.DataFrame(columns=['t1','s1','t2','s2'])\n",
    "\n",
    "#def on_wini_clicked(self):\n",
    "#      y = pd.read_excel('ok.xlsx',header=None)               \n",
    "#      df['t1'] = y[0].dropna()/60; df['s1'] = y[1].dropna() \n",
    "#      df['t2'] = y[2].dropna()/60; df['s2'] = y[3].dropna()\n",
    "df['t1'] =[6,15,30,42,60,84,114,139.8,168,201.6,240,321,408,498,522,600,786, \n",
    "           1080,1620,1980,2460,2880,3540,4800,5700,8340,10860,14700,18000,21600,\n",
    "           28800,36000,43680,49800,50000]                # time in seconds!\n",
    "df['s1'] =[0.04,0.08,0.13,0.18,0.23,0.28,0.33,0.36,0.39,0.42,0.45,0.5,0.54,0.57,\n",
    "           0.58,0.6,0.64,0.68,0.742,0.753,0.779,0.793,0.819,0.855,0.873,0.915,\n",
    "           0.935,0.966,0.99,1.007,1.05,1.053,1.072,1.088,1.088]\n",
    "df['t2'] =[90,120,129.6,159.6,180,210,240,259.8,330,360,450,540,780,900,1080,\n",
    "           1500,1800,2400,3180,3600,4500,5400,6300,7200,9000,10800,14880,18060,\n",
    "           21780,25320,32520,36120,40800,47100,50700]\n",
    "df['s2'] =[0.015,0.021,0.023,0.044,0.054,.075,.09,.104,.133,.153,.178,.206,.25,\n",
    "           .275,.305,.348,.364,.404,.429,.444,.467,.494,.507,.528,.55,.569,.593,\n",
    "           .614,.636,.657,.679,.688,.701,.718,.716]\n",
    "df['t1'] = df['t1']/60\n",
    "df['t2'] = df['t2']/60\n",
    "print ('Data ready')\n",
    "global kD, Sc\n",
    "    \n",
    "#wini = widgets.Button(description='Input data')        \n",
    "#wini.on_click(on_wini_clicked) \n",
    "#wini   "
   ]
  },
  {
   "cell_type": "markdown",
   "metadata": {
    "hideCode": false,
    "hidePrompt": false,
    "hide_input": false
   },
   "source": [
    "Let's see how the data look like. "
   ]
  },
  {
   "cell_type": "code",
   "execution_count": 12,
   "metadata": {
    "hideCode": false,
    "hidePrompt": false,
    "hide_input": true,
    "jupyter": {
     "outputs_hidden": false
    },
    "scrolled": false
   },
   "outputs": [
    {
     "data": {
      "application/vnd.jupyter.widget-view+json": {
       "model_id": "c11ff9e9d11f465280ae97c2917222e1",
       "version_major": 2,
       "version_minor": 0
      },
      "text/plain": [
       "VBox(children=(Button(description='Plot data', style=ButtonStyle()),))"
      ]
     },
     "metadata": {},
     "output_type": "display_data"
    }
   ],
   "source": [
    "def on_wp0_clicked(self):\n",
    "    plt.rcParams[\"figure.figsize\"] = (10,5) \n",
    "    fig = plt.figure(facecolor='w'); ax = fig.add_subplot()\n",
    "    plt.plot (df['t1'],df['s1'], '.-', label = 'observation H30' )\n",
    "    plt.plot (df['t2'],df['s2'], '.-', label = 'observation H90' )\n",
    "    plt.title('Oude Korendijk pumping test measured drawdowns',fontsize=14)\n",
    "    plt.xlabel('time [min]',fontsize=12)\n",
    "    plt.ylabel('drawdown [m]',fontsize=12)\n",
    "    plt.grid()\n",
    "    plt.legend(loc = 'lower right',fontsize=12);\n",
    "    \n",
    "wp0 = widgets.Button(description='Plot data')        \n",
    "wp0.on_click(on_wp0_clicked)   \n",
    "widgets.VBox([wp0])    "
   ]
  },
  {
   "cell_type": "markdown",
   "metadata": {
    "hideCode": false,
    "hidePrompt": false
   },
   "source": [
    "Obviously a steady state has not been reached at the end of the pump test. The visual inspection of the plot indicates that there is a constant difference between the drawdowns in the two observation wells. This would justify the application of the Thiem evaluation, as there only the difference counts. We call this situation either quasi stead-state or steady slope. Lets check the difference in a graph. "
   ]
  },
  {
   "cell_type": "code",
   "execution_count": 44,
   "metadata": {
    "hideCode": false,
    "hidePrompt": false,
    "hide_input": true,
    "jupyter": {
     "outputs_hidden": false
    },
    "scrolled": false
   },
   "outputs": [
    {
     "data": {
      "application/vnd.jupyter.widget-view+json": {
       "model_id": "5f94f84944cc4acd910a60dce039b2c8",
       "version_major": 2,
       "version_minor": 0
      },
      "text/plain": [
       "VBox(children=(Button(description='Drawdown difference', style=ButtonStyle()),))"
      ]
     },
     "metadata": {},
     "output_type": "display_data"
    }
   ],
   "source": [
    "from scipy.interpolate import interp1d\n",
    "\n",
    "def on_wp1_clicked(self):\n",
    "    plt.rcParams[\"figure.figsize\"] = (10,5) \n",
    "    fig = plt.figure(facecolor='w'); ax = fig.add_subplot()\n",
    "    f30 = interp1d(df['t1'],df['s1']); f90 = interp1d(df['t2'],df['s2'])\n",
    "    t = np.arange(6,780.0,step=1)\n",
    "    plt.plot (t, f30(t)-f90(t), 'g', label = 'H30-H90' )\n",
    "    plt.title('Drawdown difference',fontsize=14)\n",
    "    plt.xlabel('time [min]',fontsize=12)\n",
    "    plt.ylabel('drawdown difference [m]',fontsize=12)\n",
    "    plt.ylim ([0., 0.6])\n",
    "    plt.grid()\n",
    "    plt.legend(loc = 'lower right',fontsize=12);\n",
    "    \n",
    "wp1 = widgets.Button(description='Drawdown difference')        \n",
    "wp1.on_click(on_wp1_clicked)   \n",
    "widgets.VBox([wp1])    "
   ]
  },
  {
   "cell_type": "markdown",
   "metadata": {
    "hideCode": false,
    "hidePrompt": false,
    "hide_input": true
   },
   "source": [
    "One can visualize the same data using log scale for time: "
   ]
  },
  {
   "cell_type": "code",
   "execution_count": 14,
   "metadata": {
    "hideCode": false,
    "hidePrompt": false,
    "hide_input": true,
    "scrolled": false
   },
   "outputs": [
    {
     "data": {
      "application/vnd.jupyter.widget-view+json": {
       "model_id": "61f67cfa4dcf40079bf7a74798dabfae",
       "version_major": 2,
       "version_minor": 0
      },
      "text/plain": [
       "VBox(children=(Button(description='Plot log scale', style=ButtonStyle()),))"
      ]
     },
     "metadata": {},
     "output_type": "display_data"
    }
   ],
   "source": [
    "def on_wp2_clicked(self):\n",
    "    plt.rcParams[\"figure.figsize\"] = (10,5) \n",
    "    fig = plt.figure(facecolor='w'); ax = fig.add_subplot()\n",
    "    ax.set_xscale('log')\n",
    "    plt.plot (df['t1'],df['s1'], '.-', label = 'observation H30' )\n",
    "    plt.plot (df['t2'],df['s2'], '.-', label = 'observation H90' )\n",
    "    plt.title('Oude Korendijk pumping test measured drawdowns',fontsize=14)\n",
    "    plt.xlabel('time [min]',fontsize=12)\n",
    "    plt.ylabel('drawdown [m]',fontsize=12)\n",
    "    plt.grid()\n",
    "    plt.legend(loc = 'lower right',fontsize=12);\n",
    "\n",
    "wp2 = widgets.Button(description='Plot log scale')        \n",
    "wp2.on_click(on_wp2_clicked)   \n",
    "widgets.VBox([wp2]) "
   ]
  },
  {
   "cell_type": "markdown",
   "metadata": {
    "hideCode": false,
    "hidePrompt": false,
    "hide_input": true
   },
   "source": [
    "The same in the loglog system, with logarithmic scale on both axes:"
   ]
  },
  {
   "cell_type": "code",
   "execution_count": 45,
   "metadata": {
    "hideCode": false,
    "hidePrompt": false,
    "hide_input": true,
    "scrolled": false
   },
   "outputs": [
    {
     "data": {
      "application/vnd.jupyter.widget-view+json": {
       "model_id": "097a7c09e891472bb815771c3728b0b0",
       "version_major": 2,
       "version_minor": 0
      },
      "text/plain": [
       "VBox(children=(Button(description='Plot loglog scale', style=ButtonStyle()),))"
      ]
     },
     "metadata": {},
     "output_type": "display_data"
    }
   ],
   "source": [
    "def on_wp3_clicked(self):\n",
    "    plt.rcParams[\"figure.figsize\"] = (10,5) \n",
    "    fig = plt.figure(facecolor='w'); ax = fig.add_subplot()\n",
    "    ax.set_xscale('log'); ax.set_yscale('log')\n",
    "    plt.plot (df['t1'],df['s1'], '.-', label = 'observation H30' )\n",
    "    plt.plot (df['t2'],df['s2'], '.-', label = 'observation H90' )\n",
    "    plt.title('Oude Korendijk pumping test measured drawdowns',fontsize=14)\n",
    "    plt.xlabel('time [min]',fontsize=12)\n",
    "    plt.ylabel('drawdown [m]',fontsize=12)\n",
    "    plt.grid()\n",
    "    plt.legend(loc = 'lower right',fontsize=12);\n",
    "    \n",
    "wp3 = widgets.Button(description='Plot loglog scale')        \n",
    "wp3.on_click(on_wp3_clicked)   \n",
    "widgets.VBox([wp3])     "
   ]
  },
  {
   "cell_type": "markdown",
   "metadata": {
    "hideCode": false,
    "hidePrompt": false
   },
   "source": [
    "For a comparison of the two curves it is convenient to visualize in double log scale using $t/r^2$ on x-axis. "
   ]
  },
  {
   "cell_type": "code",
   "execution_count": 16,
   "metadata": {
    "hideCode": false,
    "hidePrompt": false,
    "hide_input": true,
    "scrolled": false
   },
   "outputs": [
    {
     "data": {
      "application/vnd.jupyter.widget-view+json": {
       "model_id": "981e77bbaea0448b8002f9cfa0474fa9",
       "version_major": 2,
       "version_minor": 0
      },
      "text/plain": [
       "VBox(children=(Button(description='Plot t/r/r scale', style=ButtonStyle()),))"
      ]
     },
     "metadata": {},
     "output_type": "display_data"
    },
    {
     "data": {
      "image/png": "[encoded data removed]",
      "text/plain": [
       "<Figure size 720x360 with 1 Axes>"
      ]
     },
     "metadata": {},
     "output_type": "display_data"
    }
   ],
   "source": [
    "def on_wp4_clicked(self):\n",
    "    plt.rcParams[\"figure.figsize\"] = (10,5) \n",
    "    fig = plt.figure(facecolor='w'); ax = fig.add_subplot()\n",
    "    ax.set_xscale('log')\n",
    "    plt.plot (df['t1']/30/30,df['s1'], '.-', label = 'observation H30' )\n",
    "    plt.plot (df['t2']/90/90,df['s2'], '.-', label = 'observation H90' )\n",
    "    plt.title('Oude Korendijk pumping test measured drawdowns',fontsize=14)\n",
    "    plt.xlabel('$t/r^2$ [min/m$^2$]',fontsize=12)\n",
    "    plt.ylabel('drawdown [m]',fontsize=12)\n",
    "    plt.grid()\n",
    "    plt.legend(loc = 'lower right',fontsize=12);\n",
    "\n",
    "wp4 = widgets.Button(description='Plot t/r/r scale')        \n",
    "wp4.on_click(on_wp4_clicked)   \n",
    "widgets.VBox([wp4]) "
   ]
  },
  {
   "cell_type": "markdown",
   "metadata": {
    "hideCode": false,
    "hidePrompt": false
   },
   "source": [
    "## Basic Interpretation based on the Theis Solution"
   ]
  },
  {
   "cell_type": "markdown",
   "metadata": {
    "hideCode": false,
    "hidePrompt": false
   },
   "source": [
    "The solution for the unsteady drawdown due to a single well with fully penetrating screen in a uniform aquifer of infinite extent was first published by Theis (1935), using a mathematical derivation by Lubin, transfered in private communication. The solution revolutioned the science of hydrology (White & Clebsch 1994). The solution for drawdown $s$ as function of distance from the pumping well $r$ and time $t$ is given by:"
   ]
  },
  {
   "cell_type": "markdown",
   "metadata": {
    "hideCode": false,
    "hidePrompt": false
   },
   "source": [
    "$$ s(r, t) = \\frac Q {4 \\pi T} W(u),\\,\\,\\,\\, u = \\frac {r^2 S} {4 T t}$$"
   ]
  },
  {
   "cell_type": "markdown",
   "metadata": {
    "hideCode": false,
    "hidePrompt": false
   },
   "source": [
    "where $T$ denotes the transmissivity, $S$ the storage coefficient, and $Q$ the pumping rate. $W$ is the well function, in mathematical literature known as exponential integral. For evaluations before computers became generally available, is was handy to utilize simpler approximations for the well function. Cooper & Jacob (1946) proposed:    "
   ]
  },
  {
   "cell_type": "markdown",
   "metadata": {
    "hideCode": false,
    "hidePrompt": false
   },
   "source": [
    "$$ W(u) \\approx -0.2557 - \\ln(u) +u - u^2/4 $$"
   ]
  },
  {
   "cell_type": "markdown",
   "metadata": {
    "hideCode": false,
    "hidePrompt": false
   },
   "source": [
    "We may also use the approximation of this solution, which is valid for long enough times and/or small enough distances from the well:"
   ]
  },
  {
   "cell_type": "markdown",
   "metadata": {
    "hideCode": false,
    "hidePrompt": false
   },
   "source": [
    "$$ s(r, t) \\approx \\frac {Q} {4 \\pi T} \\ln \\left( \\frac {2.25 T t} {r^2 S} \\right) $$ "
   ]
  },
  {
   "cell_type": "markdown",
   "metadata": {
    "hideCode": false,
    "hidePrompt": false
   },
   "source": [
    "$\\ln$ denotes the natural logarithm. The formula can be modified for the decadic logarithm: "
   ]
  },
  {
   "cell_type": "markdown",
   "metadata": {
    "hideCode": false,
    "hidePrompt": false
   },
   "source": [
    "$$ s(r,t) = \\frac {2.3 Q} {4 \\pi T} \\log \\left( \\frac {2.25 T t} {r^2 S} \\right) $$"
   ]
  },
  {
   "cell_type": "markdown",
   "metadata": {
    "hideCode": false,
    "hidePrompt": false
   },
   "source": [
    "Determine the drawdown per log cycle from the last double-log graph and observation point H30 $\\approx (1.1 - 0.21) / 3 \\approx 0.30 $"
   ]
  },
  {
   "cell_type": "markdown",
   "metadata": {
    "hideCode": false,
    "hidePrompt": false
   },
   "source": [
    "$$ \\Delta s = s_{10t} - s_t = 0.30 = \\frac {2.3 Q} {4 \\pi T} $$"
   ]
  },
  {
   "cell_type": "markdown",
   "metadata": {
    "hideCode": false,
    "hidePrompt": false
   },
   "source": [
    "or, resolved for $T$:"
   ]
  },
  {
   "cell_type": "markdown",
   "metadata": {
    "hideCode": false,
    "hidePrompt": false
   },
   "source": [
    "$$ T = \\frac {2.3 Q} {4 \\pi \\Delta s} $$"
   ]
  },
  {
   "cell_type": "markdown",
   "metadata": {
    "hideCode": false,
    "hidePrompt": false
   },
   "source": [
    "Notice that it doesn't matter in what dimension time is, at it drops out of the drawdown at $10t$ is compared with that at $t$. Therefore, with $Q$ = 768 m$^3$/d, one gets"
   ]
  },
  {
   "cell_type": "code",
   "execution_count": 56,
   "metadata": {
    "hideCode": false,
    "hidePrompt": false,
    "hide_input": true,
    "jupyter": {
     "outputs_hidden": false
    },
    "scrolled": true
   },
   "outputs": [
    {
     "name": "stdout",
     "output_type": "stream",
     "text": [
      "T = 474 m²/d\n"
     ]
    }
   ],
   "source": [
    "ds = (1.1 - 0.21) / 3 # drawdown increase per log cycle of time\n",
    "kD = 2.3 * Q / (4 * np.pi * ds)\n",
    "print('T = {:.0f}'.format(kD) + ' m' + chr(0x00b2) + '/d')"
   ]
  },
  {
   "cell_type": "markdown",
   "metadata": {
    "hideCode": false,
    "hidePrompt": false
   },
   "source": [
    "For the storage coefficient determine the intersection with the straight line with the line of zero drawdown. This is $t/r^2 = 2 \\times 10 ^{-4}$ min. \n",
    "Then setting the argument of the solution equal to 1 so that the computed drawdown is 0 and using the already obtained transmissivity yields the storage coefficient:"
   ]
  },
  {
   "cell_type": "markdown",
   "metadata": {
    "hideCode": false,
    "hidePrompt": false
   },
   "source": [
    "$$ S = 2.25T\\cdot(\\frac{t}{r^2})_0 $$"
   ]
  },
  {
   "cell_type": "markdown",
   "metadata": {
    "hideCode": false,
    "hidePrompt": false
   },
   "source": [
    "We have to convert to days to get the answer consistent with the transmissivity."
   ]
  },
  {
   "cell_type": "code",
   "execution_count": 63,
   "metadata": {
    "hideCode": false,
    "hidePrompt": false,
    "hide_input": true,
    "jupyter": {
     "outputs_hidden": false
    },
    "scrolled": true
   },
   "outputs": [
    {
     "name": "stdout",
     "output_type": "stream",
     "text": [
      "S = 1.69e-04\n"
     ]
    }
   ],
   "source": [
    "tr2 = 2e-4 / (24 * 60) # d/m2\n",
    "Sc = 2.25 * kD * tr2\n",
    "print('S = {:.2e}'.format(Sc))"
   ]
  },
  {
   "cell_type": "markdown",
   "metadata": {
    "hideCode": false,
    "hidePrompt": false
   },
   "source": [
    "Clearly, the result depends somewhat on the exact straigt line drawn through the bundel of curves for the observation wells. In the ideal situation, these curves fall onto each other. In this real-world case this is not true, which is a result of the non-uniformity of the aquifer and inaccuracies in the measurements. The real world is less homogeneous than the analytic solution presumes.\n",
    "\n",
    "**Task**: perform the same method of evaluation for the observations in borehole H90. Enter the values obtained from the plot and run the following cell for the evaluation."
   ]
  },
  {
   "cell_type": "code",
   "execution_count": 57,
   "metadata": {
    "hideCode": false,
    "hidePrompt": false,
    "hide_input": true
   },
   "outputs": [
    {
     "data": {
      "application/vnd.jupyter.widget-view+json": {
       "model_id": "98e5cf60aa4840e09277719e4b000181",
       "version_major": 2,
       "version_minor": 0
      },
      "text/plain": [
       "HBox(children=(BoundedFloatText(value=0.3, description='$\\\\Delta S$:', max=10.0), BoundedFloatText(value=0.000…"
      ]
     },
     "metadata": {},
     "output_type": "display_data"
    }
   ],
   "source": [
    "wds = widgets.BoundedFloatText(value=0.3, min=0.0, max=10.0, description='$\\Delta S$:', disabled=False)\n",
    "w0 = widgets.BoundedFloatText(value=2e-4, min=0.0, max=1.e-1, description='$(t/r^2)_0$:', disabled=False)\n",
    "widgets.HBox([wds,w0]) "
   ]
  },
  {
   "cell_type": "code",
   "execution_count": 64,
   "metadata": {
    "hideCode": false,
    "hidePrompt": false,
    "hide_input": true
   },
   "outputs": [
    {
     "name": "stdout",
     "output_type": "stream",
     "text": [
      "T = 541 m²/d\n",
      "S = 3.38e-04\n"
     ]
    }
   ],
   "source": [
    "kD = 2.3 * Q / (4 * np.pi * wds.value)\n",
    "print('T = {:.0f}'.format(kD) + ' m' + chr(0x00b2) + '/d')\n",
    "Sc = 2.25 * kD * w0.value/(24*60)\n",
    "print('S = {:.2e}'.format(Sc))"
   ]
  },
  {
   "cell_type": "markdown",
   "metadata": {
    "hideCode": false,
    "hidePrompt": false,
    "hide_input": true
   },
   "source": [
    "## Classical Interpretation using the Match on Double Log Scales\n",
    "\n",
    "The classical interpreation plots the measured drawdowns on double log paper (drawdown $s$ versus $t/r^2$ ) and compares them with the Theis type curve $W(u)$ versus $1/u$ also drawn on double log paper. Because $1/u = (4 T t) / (r^2 S)$ it follows that on logarthmic scales $1/u$ and $t/r^2$ differ only by a constant factor, which represents a horizontal shift on the log scale. The drawdown $s$ only differs the constant $Q/(4 \\pi T)$ from the well function $W(u)$, and so this implies a vertical shift on logarithmic scale. Hence the measured drawdown versus $t/r^2$ on double log scale looks exactly the same as the theis type curve but it is only shifted a given distance along the horizontal axis and a given distance along the vertical axis. These two shifts yield the sought transmissivity and storage coefficient.\n",
    "\n",
    "Below we draw the Theis type curve and the drawdown $s$ multiplied by a factor $A$ and the $t/r^2$ multiplied by a factor $B$, choosing $A$ and $B$ interactively until the measured and the type curve match best.\n",
    "\n",
    "In this worked out example, I already optimized the values of $A$ and $B$ by hand. Set them both to 1 and try optimizing them yourself."
   ]
  },
  {
   "cell_type": "code",
   "execution_count": 19,
   "metadata": {
    "hideCode": false,
    "hidePrompt": false,
    "hide_input": true,
    "scrolled": false
   },
   "outputs": [
    {
     "data": {
      "image/png": "[encoded data removed]",
      "text/plain": [
       "<Figure size 720x360 with 1 Axes>"
      ]
     },
     "metadata": {},
     "output_type": "display_data"
    }
   ],
   "source": [
    "plt.rcParams[\"figure.figsize\"] = (10,5)           \n",
    "A = 7.0; B = 1.0e7\n",
    "u = np.logspace(-4, 0.25, 41)\n",
    "fig = plt.figure(facecolor='w'); ax = fig.add_subplot()\n",
    "\n",
    "# the Theis type curve\n",
    "plt.plot(1/u, exp1(u), label='Theis')\n",
    "\n",
    "# The measurements\n",
    "plt.plot (B*df['t1']/24/60/30/30,A*df['s1'], '.', label = 'observation H30' )\n",
    "plt.plot (B*df['t2']/24/60/90/90,A*df['s2'], '.', label = 'observation H90' ) \n",
    "ax.set_xscale('log'); ax.set_yscale('log')\n",
    "plt.title('Type curve and $A \\cdot s$ vs $B \\cdot t/r^2$, with $A$={}, $B$={}'.format(A, B),fontsize=14)\n",
    "plt.xlabel('$1/u$ and $B \\, t/r^2$',fontsize=12); plt.ylabel('W(u) and $A \\, s$',fontsize=12)\n",
    "plt.xscale('log'); plt.yscale('log')\n",
    "plt.grid()\n",
    "plt.legend(loc='lower right',fontsize=12);"
   ]
  },
  {
   "cell_type": "markdown",
   "metadata": {
    "hideCode": false,
    "hidePrompt": false,
    "hide_input": false
   },
   "source": [
    "So $A \\cdot s = W(u)$ and $s = \\frac Q {2 \\pi T} W(u)$ and, therefore $A = \\frac {4 \\pi T} {Q}$ and $ T = \\frac {A Q} {4 \\pi}$. Click the next cell to obtain the result:"
   ]
  },
  {
   "cell_type": "code",
   "execution_count": 20,
   "metadata": {
    "hideCode": false,
    "hidePrompt": false,
    "hide_input": true,
    "scrolled": true
   },
   "outputs": [
    {
     "name": "stdout",
     "output_type": "stream",
     "text": [
      "T = 428 [m^2/d]\n"
     ]
    }
   ],
   "source": [
    "kD = A * Q /4 /np.pi\n",
    "print('T = {:.0f} [m^2/d]'.format(kD))"
   ]
  },
  {
   "cell_type": "markdown",
   "metadata": {
    "hideCode": false,
    "hidePrompt": false
   },
   "source": [
    "The storage coefficient then follows from $\\frac 1 u = B \\frac t {r^2}$, that is, $\\frac {4 T t} {r^2 S} = B \\frac t {r^2}$ so that $S = \\frac {4 T} B$. Click the next cell to obtain the result"
   ]
  },
  {
   "cell_type": "code",
   "execution_count": 21,
   "metadata": {
    "hideCode": false,
    "hidePrompt": false,
    "hide_input": true,
    "scrolled": false
   },
   "outputs": [
    {
     "name": "stdout",
     "output_type": "stream",
     "text": [
      "S = 1.71e-04 [-]\n"
     ]
    }
   ],
   "source": [
    "Sc = 4 * kD / B\n",
    "print('S = {:.2e} [-]'.format(Sc))"
   ]
  },
  {
   "cell_type": "markdown",
   "metadata": {
    "hideCode": false,
    "hidePrompt": false
   },
   "source": [
    "As one sees, the results obtained this way are consistent with those obtained by the previous method."
   ]
  },
  {
   "cell_type": "markdown",
   "metadata": {
    "hideCode": false,
    "hidePrompt": false
   },
   "source": [
    "## Graphical Interpretation for Transmissivity and Storativity \n",
    "\n",
    "The method peformed by shifting of the measurements drawn on double log paper over the Theis type curve also drawn on double log paper. However, because we now have a computer, we could just as well directly optimize $T$ and $S$ by trial and error to find the best match between type curve and measurements. For the following set the distance from the pumping well at which the data were measured:"
   ]
  },
  {
   "cell_type": "code",
   "execution_count": 22,
   "metadata": {
    "hideCode": false,
    "hidePrompt": false,
    "hide_input": true,
    "scrolled": false
   },
   "outputs": [
    {
     "data": {
      "application/vnd.jupyter.widget-view+json": {
       "model_id": "f35e878bc84c4883b484295af3260dcd",
       "version_major": 2,
       "version_minor": 0
      },
      "text/plain": [
       "BoundedFloatText(value=30.0, description='Distance:', max=90.0, min=30.0, step=60.0)"
      ]
     },
     "metadata": {},
     "output_type": "display_data"
    }
   ],
   "source": [
    "wr = widgets.BoundedFloatText(value=30.0, min=30.0, max=90.0, step = 60.0, description='Distance:', disabled=False)\n",
    "wr"
   ]
  },
  {
   "cell_type": "markdown",
   "metadata": {
    "hideCode": false,
    "hidePrompt": false,
    "hide_input": false
   },
   "source": [
    "### Multi-Graph\n",
    "Use the sliders to select values for $A$ and log10($B$)"
   ]
  },
  {
   "cell_type": "code",
   "execution_count": 23,
   "metadata": {
    "hideCode": false,
    "hidePrompt": false,
    "hide_input": true,
    "scrolled": false
   },
   "outputs": [
    {
     "data": {
      "application/vnd.jupyter.widget-view+json": {
       "model_id": "16820e7154204723bc9073a4abb36789",
       "version_major": 2,
       "version_minor": 0
      },
      "text/plain": [
       "HBox(children=(FloatSlider(value=1.0, description='$A$', max=10.0, min=0.1), FloatSlider(value=1.0, descriptio…"
      ]
     },
     "metadata": {},
     "output_type": "display_data"
    }
   ],
   "source": [
    "slider1 = widgets.FloatSlider(1, description = '$A$', min=0.1, max=10, step=0.1)\n",
    "slider2 = widgets.FloatSlider(1, description = 'log10($B$)', min=0.1, max=10, step=0.1)\n",
    "widgets.HBox([slider1,slider2])"
   ]
  },
  {
   "cell_type": "markdown",
   "metadata": {
    "hideCode": false,
    "hidePrompt": false,
    "hide_input": true
   },
   "source": [
    "Run the next cell and press the check button, whenever you have changed the slider values. Make sure that you enable toggle scrolling (see: Cell-Current outputs). In order to restart checking re-run the cell."
   ]
  },
  {
   "cell_type": "code",
   "execution_count": 75,
   "metadata": {
    "hideCode": false,
    "hidePrompt": false,
    "hide_input": true,
    "scrolled": false
   },
   "outputs": [
    {
     "data": {
      "application/vnd.jupyter.widget-view+json": {
       "model_id": "5b0a543134b04959bdc3b6f230e6130e",
       "version_major": 2,
       "version_minor": 0
      },
      "text/plain": [
       "Button(description='Check', style=ButtonStyle())"
      ]
     },
     "metadata": {},
     "output_type": "display_data"
    },
    {
     "data": {
      "image/png": "[encoded data removed]",
      "text/plain": [
       "<Figure size 432x288 with 1 Axes>"
      ]
     },
     "metadata": {},
     "output_type": "display_data"
    }
   ],
   "source": [
    "plt.rcParams[\"figure.figsize\"] = (10,5) \n",
    "from IPython.display import display \n",
    "\n",
    "btn = widgets.Button(description='Check')\n",
    "display(btn)\n",
    "\n",
    "def btn_eventhandler(obj):\n",
    "    global kD,Sc,count\n",
    "    A = slider1.value\n",
    "    B = 10**(slider2.value)\n",
    "\n",
    "    u = np.logspace(-4, 0.25, 41)\n",
    "    fig = plt.figure(facecolor='w'); ax = fig.add_subplot()\n",
    "\n",
    "    # the Theis type curve\n",
    "    plt.plot(1/u, exp1(u), label='Theis')\n",
    "\n",
    "    # the measurements\n",
    "    r = wr.value; Q = wQ.value\n",
    "    if r <= 50:\n",
    "        plt.plot (B*df['t1']/24/60/r/r,A*df['s1'], '.', label = 'observation' )\n",
    "    else:\n",
    "        plt.plot (B*df['t2']/24/60/r/r,A*df['s2'], '.', label = 'observation' ) \n",
    "        \n",
    "    ax.set_xscale('log'); ax.set_yscale('log');\n",
    "    plt.xlabel('$1/u$ and $B \\, t/r^2$',fontsize=16); plt.ylabel('W(u) and $A \\cdot s$',fontsize=16)\n",
    "    plt.xscale('log'); plt.yscale('log');\n",
    "    plt.grid();\n",
    "    plt.legend(loc='upper left',fontsize=12);\n",
    "    T = A * Q /4 /np.pi   # print('T = {:.0f} m2/d'.format(kD))\n",
    "    S = 4 * T / B         #print('S = {:.2e} [-]'.format(S))\n",
    "    ax.text (380,0.23,'$T =%.1f m^2/d$' % (T, ),fontsize=12)\n",
    "    ax.text (380,0.15,'$S =%.2e $' % (S, ),fontsize=12)\n",
    "    ax.set_title('Graph '+str(count), size=14); count = count+1\n",
    "    Sc = S; kD = T\n",
    "\n",
    "count = 1    \n",
    "btn.on_click(btn_eventhandler)"
   ]
  },
  {
   "cell_type": "markdown",
   "metadata": {
    "hideCode": false,
    "hidePrompt": false
   },
   "source": [
    "### Single Graph\n",
    "Run the following cell to see the effect of slider updated in a single figure."
   ]
  },
  {
   "cell_type": "code",
   "execution_count": 91,
   "metadata": {
    "hideCode": false,
    "hidePrompt": false,
    "hide_input": true,
    "scrolled": false
   },
   "outputs": [
    {
     "data": {
      "application/javascript": [
       "/* Put everything inside the global mpl namespace */\n",
       "window.mpl = {};\n",
       "\n",
       "\n",
       "mpl.get_websocket_type = function() {\n",
       "    if (typeof(WebSocket) !== 'undefined') {\n",
       "        return WebSocket;\n",
       "    } else if (typeof(MozWebSocket) !== 'undefined') {\n",
       "        return MozWebSocket;\n",
       "    } else {\n",
       "        alert('Your browser does not have WebSocket support. ' +\n",
       "              'Please try Chrome, Safari or Firefox ≥ 6. ' +\n",
       "              'Firefox 4 and 5 are also supported but you ' +\n",
       "              'have to enable WebSockets in about:config.');\n",
       "    };\n",
       "}\n",
       "\n",
       "mpl.figure = function(figure_id, websocket, ondownload, parent_element) {\n",
       "    this.id = figure_id;\n",
       "\n",
       "    this.ws = websocket;\n",
       "\n",
       "    this.supports_binary = (this.ws.binaryType != undefined);\n",
       "\n",
       "    if (!this.supports_binary) {\n",
       "        var warnings = document.getElementById(\"mpl-warnings\");\n",
       "        if (warnings) {\n",
       "            warnings.style.display = 'block';\n",
       "            warnings.textContent = (\n",
       "                \"This browser does not support binary websocket messages. \" +\n",
       "                    \"Performance may be slow.\");\n",
       "        }\n",
       "    }\n",
       "\n",
       "    this.imageObj = new Image();\n",
       "\n",
       "    this.context = undefined;\n",
       "    this.message = undefined;\n",
       "    this.canvas = undefined;\n",
       "    this.rubberband_canvas = undefined;\n",
       "    this.rubberband_context = undefined;\n",
       "    this.format_dropdown = undefined;\n",
       "\n",
       "    this.image_mode = 'full';\n",
       "\n",
       "    this.root = $('<div/>');\n",
       "    this._root_extra_style(this.root)\n",
       "    this.root.attr('style', 'display: inline-block');\n",
       "\n",
       "    $(parent_element).append(this.root);\n",
       "\n",
       "    this._init_header(this);\n",
       "    this._init_canvas(this);\n",
       "    this._init_toolbar(this);\n",
       "\n",
       "    var fig = this;\n",
       "\n",
       "    this.waiting = false;\n",
       "\n",
       "    this.ws.onopen =  function () {\n",
       "            fig.send_message(\"supports_binary\", {value: fig.supports_binary});\n",
       "            fig.send_message(\"send_image_mode\", {});\n",
       "            if (mpl.ratio != 1) {\n",
       "                fig.send_message(\"set_dpi_ratio\", {'dpi_ratio': mpl.ratio});\n",
       "            }\n",
       "            fig.send_message(\"refresh\", {});\n",
       "        }\n",
       "\n",
       "    this.imageObj.onload = function() {\n",
       "            if (fig.image_mode == 'full') {\n",
       "                // Full images could contain transparency (where diff images\n",
       "                // almost always do), so we need to clear the canvas so that\n",
       "                // there is no ghosting.\n",
       "                fig.context.clearRect(0, 0, fig.canvas.width, fig.canvas.height);\n",
       "            }\n",
       "            fig.context.drawImage(fig.imageObj, 0, 0);\n",
       "        };\n",
       "\n",
       "    this.imageObj.onunload = function() {\n",
       "        fig.ws.close();\n",
       "    }\n",
       "\n",
       "    this.ws.onmessage = this._make_on_message_function(this);\n",
       "\n",
       "    this.ondownload = ondownload;\n",
       "}\n",
       "\n",
       "mpl.figure.prototype._init_header = function() {\n",
       "    var titlebar = $(\n",
       "        '<div class=\"ui-dialog-titlebar ui-widget-header ui-corner-all ' +\n",
       "        'ui-helper-clearfix\"/>');\n",
       "    var titletext = $(\n",
       "        '<div class=\"ui-dialog-title\" style=\"width: 100%; ' +\n",
       "        'text-align: center; padding: 3px;\"/>');\n",
       "    titlebar.append(titletext)\n",
       "    this.root.append(titlebar);\n",
       "    this.header = titletext[0];\n",
       "}\n",
       "\n",
       "\n",
       "\n",
       "mpl.figure.prototype._canvas_extra_style = function(canvas_div) {\n",
       "\n",
       "}\n",
       "\n",
       "\n",
       "mpl.figure.prototype._root_extra_style = function(canvas_div) {\n",
       "\n",
       "}\n",
       "\n",
       "mpl.figure.prototype._init_canvas = function() {\n",
       "    var fig = this;\n",
       "\n",
       "    var canvas_div = $('<div/>');\n",
       "\n",
       "    canvas_div.attr('style', 'position: relative; clear: both; outline: 0');\n",
       "\n",
       "    function canvas_keyboard_event(event) {\n",
       "        return fig.key_event(event, event['data']);\n",
       "    }\n",
       "\n",
       "    canvas_div.keydown('key_press', canvas_keyboard_event);\n",
       "    canvas_div.keyup('key_release', canvas_keyboard_event);\n",
       "    this.canvas_div = canvas_div\n",
       "    this._canvas_extra_style(canvas_div)\n",
       "    this.root.append(canvas_div);\n",
       "\n",
       "    var canvas = $('<canvas/>');\n",
       "    canvas.addClass('mpl-canvas');\n",
       "    canvas.attr('style', \"left: 0; top: 0; z-index: 0; outline: 0\")\n",
       "\n",
       "    this.canvas = canvas[0];\n",
       "    this.context = canvas[0].getContext(\"2d\");\n",
       "\n",
       "    var backingStore = this.context.backingStorePixelRatio ||\n",
       "\tthis.context.webkitBackingStorePixelRatio ||\n",
       "\tthis.context.mozBackingStorePixelRatio ||\n",
       "\tthis.context.msBackingStorePixelRatio ||\n",
       "\tthis.context.oBackingStorePixelRatio ||\n",
       "\tthis.context.backingStorePixelRatio || 1;\n",
       "\n",
       "    mpl.ratio = (window.devicePixelRatio || 1) / backingStore;\n",
       "\n",
       "    var rubberband = $('<canvas/>');\n",
       "    rubberband.attr('style', \"position: absolute; left: 0; top: 0; z-index: 1;\")\n",
       "\n",
       "    var pass_mouse_events = true;\n",
       "\n",
       "    canvas_div.resizable({\n",
       "        start: function(event, ui) {\n",
       "            pass_mouse_events = false;\n",
       "        },\n",
       "        resize: function(event, ui) {\n",
       "            fig.request_resize(ui.size.width, ui.size.height);\n",
       "        },\n",
       "        stop: function(event, ui) {\n",
       "            pass_mouse_events = true;\n",
       "            fig.request_resize(ui.size.width, ui.size.height);\n",
       "        },\n",
       "    });\n",
       "\n",
       "    function mouse_event_fn(event) {\n",
       "        if (pass_mouse_events)\n",
       "            return fig.mouse_event(event, event['data']);\n",
       "    }\n",
       "\n",
       "    rubberband.mousedown('button_press', mouse_event_fn);\n",
       "    rubberband.mouseup('button_release', mouse_event_fn);\n",
       "    // Throttle sequential mouse events to 1 every 20ms.\n",
       "    rubberband.mousemove('motion_notify', mouse_event_fn);\n",
       "\n",
       "    rubberband.mouseenter('figure_enter', mouse_event_fn);\n",
       "    rubberband.mouseleave('figure_leave', mouse_event_fn);\n",
       "\n",
       "    canvas_div.on(\"wheel\", function (event) {\n",
       "        event = event.originalEvent;\n",
       "        event['data'] = 'scroll'\n",
       "        if (event.deltaY < 0) {\n",
       "            event.step = 1;\n",
       "        } else {\n",
       "            event.step = -1;\n",
       "        }\n",
       "        mouse_event_fn(event);\n",
       "    });\n",
       "\n",
       "    canvas_div.append(canvas);\n",
       "    canvas_div.append(rubberband);\n",
       "\n",
       "    this.rubberband = rubberband;\n",
       "    this.rubberband_canvas = rubberband[0];\n",
       "    this.rubberband_context = rubberband[0].getContext(\"2d\");\n",
       "    this.rubberband_context.strokeStyle = \"#000000\";\n",
       "\n",
       "    this._resize_canvas = function(width, height) {\n",
       "        // Keep the size of the canvas, canvas container, and rubber band\n",
       "        // canvas in synch.\n",
       "        canvas_div.css('width', width)\n",
       "        canvas_div.css('height', height)\n",
       "\n",
       "        canvas.attr('width', width * mpl.ratio);\n",
       "        canvas.attr('height', height * mpl.ratio);\n",
       "        canvas.attr('style', 'width: ' + width + 'px; height: ' + height + 'px;');\n",
       "\n",
       "        rubberband.attr('width', width);\n",
       "        rubberband.attr('height', height);\n",
       "    }\n",
       "\n",
       "    // Set the figure to an initial 600x600px, this will subsequently be updated\n",
       "    // upon first draw.\n",
       "    this._resize_canvas(600, 600);\n",
       "\n",
       "    // Disable right mouse context menu.\n",
       "    $(this.rubberband_canvas).bind(\"contextmenu\",function(e){\n",
       "        return false;\n",
       "    });\n",
       "\n",
       "    function set_focus () {\n",
       "        canvas.focus();\n",
       "        canvas_div.focus();\n",
       "    }\n",
       "\n",
       "    window.setTimeout(set_focus, 100);\n",
       "}\n",
       "\n",
       "mpl.figure.prototype._init_toolbar = function() {\n",
       "    var fig = this;\n",
       "\n",
       "    var nav_element = $('<div/>');\n",
       "    nav_element.attr('style', 'width: 100%');\n",
       "    this.root.append(nav_element);\n",
       "\n",
       "    // Define a callback function for later on.\n",
       "    function toolbar_event(event) {\n",
       "        return fig.toolbar_button_onclick(event['data']);\n",
       "    }\n",
       "    function toolbar_mouse_event(event) {\n",
       "        return fig.toolbar_button_onmouseover(event['data']);\n",
       "    }\n",
       "\n",
       "    for(var toolbar_ind in mpl.toolbar_items) {\n",
       "        var name = mpl.toolbar_items[toolbar_ind][0];\n",
       "        var tooltip = mpl.toolbar_items[toolbar_ind][1];\n",
       "        var image = mpl.toolbar_items[toolbar_ind][2];\n",
       "        var method_name = mpl.toolbar_items[toolbar_ind][3];\n",
       "\n",
       "        if (!name) {\n",
       "            // put a spacer in here.\n",
       "            continue;\n",
       "        }\n",
       "        var button = $('<button/>');\n",
       "        button.addClass('ui-button ui-widget ui-state-default ui-corner-all ' +\n",
       "                        'ui-button-icon-only');\n",
       "        button.attr('role', 'button');\n",
       "        button.attr('aria-disabled', 'false');\n",
       "        button.click(method_name, toolbar_event);\n",
       "        button.mouseover(tooltip, toolbar_mouse_event);\n",
       "\n",
       "        var icon_img = $('<span/>');\n",
       "        icon_img.addClass('ui-button-icon-primary ui-icon');\n",
       "        icon_img.addClass(image);\n",
       "        icon_img.addClass('ui-corner-all');\n",
       "\n",
       "        var tooltip_span = $('<span/>');\n",
       "        tooltip_span.addClass('ui-button-text');\n",
       "        tooltip_span.html(tooltip);\n",
       "\n",
       "        button.append(icon_img);\n",
       "        button.append(tooltip_span);\n",
       "\n",
       "        nav_element.append(button);\n",
       "    }\n",
       "\n",
       "    var fmt_picker_span = $('<span/>');\n",
       "\n",
       "    var fmt_picker = $('<select/>');\n",
       "    fmt_picker.addClass('mpl-toolbar-option ui-widget ui-widget-content');\n",
       "    fmt_picker_span.append(fmt_picker);\n",
       "    nav_element.append(fmt_picker_span);\n",
       "    this.format_dropdown = fmt_picker[0];\n",
       "\n",
       "    for (var ind in mpl.extensions) {\n",
       "        var fmt = mpl.extensions[ind];\n",
       "        var option = $(\n",
       "            '<option/>', {selected: fmt === mpl.default_extension}).html(fmt);\n",
       "        fmt_picker.append(option);\n",
       "    }\n",
       "\n",
       "    // Add hover states to the ui-buttons\n",
       "    $( \".ui-button\" ).hover(\n",
       "        function() { $(this).addClass(\"ui-state-hover\");},\n",
       "        function() { $(this).removeClass(\"ui-state-hover\");}\n",
       "    );\n",
       "\n",
       "    var status_bar = $('<span class=\"mpl-message\"/>');\n",
       "    nav_element.append(status_bar);\n",
       "    this.message = status_bar[0];\n",
       "}\n",
       "\n",
       "mpl.figure.prototype.request_resize = function(x_pixels, y_pixels) {\n",
       "    // Request matplotlib to resize the figure. Matplotlib will then trigger a resize in the client,\n",
       "    // which will in turn request a refresh of the image.\n",
       "    this.send_message('resize', {'width': x_pixels, 'height': y_pixels});\n",
       "}\n",
       "\n",
       "mpl.figure.prototype.send_message = function(type, properties) {\n",
       "    properties['type'] = type;\n",
       "    properties['figure_id'] = this.id;\n",
       "    this.ws.send(JSON.stringify(properties));\n",
       "}\n",
       "\n",
       "mpl.figure.prototype.send_draw_message = function() {\n",
       "    if (!this.waiting) {\n",
       "        this.waiting = true;\n",
       "        this.ws.send(JSON.stringify({type: \"draw\", figure_id: this.id}));\n",
       "    }\n",
       "}\n",
       "\n",
       "\n",
       "mpl.figure.prototype.handle_save = function(fig, msg) {\n",
       "    var format_dropdown = fig.format_dropdown;\n",
       "    var format = format_dropdown.options[format_dropdown.selectedIndex].value;\n",
       "    fig.ondownload(fig, format);\n",
       "}\n",
       "\n",
       "\n",
       "mpl.figure.prototype.handle_resize = function(fig, msg) {\n",
       "    var size = msg['size'];\n",
       "    if (size[0] != fig.canvas.width || size[1] != fig.canvas.height) {\n",
       "        fig._resize_canvas(size[0], size[1]);\n",
       "        fig.send_message(\"refresh\", {});\n",
       "    };\n",
       "}\n",
       "\n",
       "mpl.figure.prototype.handle_rubberband = function(fig, msg) {\n",
       "    var x0 = msg['x0'] / mpl.ratio;\n",
       "    var y0 = (fig.canvas.height - msg['y0']) / mpl.ratio;\n",
       "    var x1 = msg['x1'] / mpl.ratio;\n",
       "    var y1 = (fig.canvas.height - msg['y1']) / mpl.ratio;\n",
       "    x0 = Math.floor(x0) + 0.5;\n",
       "    y0 = Math.floor(y0) + 0.5;\n",
       "    x1 = Math.floor(x1) + 0.5;\n",
       "    y1 = Math.floor(y1) + 0.5;\n",
       "    var min_x = Math.min(x0, x1);\n",
       "    var min_y = Math.min(y0, y1);\n",
       "    var width = Math.abs(x1 - x0);\n",
       "    var height = Math.abs(y1 - y0);\n",
       "\n",
       "    fig.rubberband_context.clearRect(\n",
       "        0, 0, fig.canvas.width / mpl.ratio, fig.canvas.height / mpl.ratio);\n",
       "\n",
       "    fig.rubberband_context.strokeRect(min_x, min_y, width, height);\n",
       "}\n",
       "\n",
       "mpl.figure.prototype.handle_figure_label = function(fig, msg) {\n",
       "    // Updates the figure title.\n",
       "    fig.header.textContent = msg['label'];\n",
       "}\n",
       "\n",
       "mpl.figure.prototype.handle_cursor = function(fig, msg) {\n",
       "    var cursor = msg['cursor'];\n",
       "    switch(cursor)\n",
       "    {\n",
       "    case 0:\n",
       "        cursor = 'pointer';\n",
       "        break;\n",
       "    case 1:\n",
       "        cursor = 'default';\n",
       "        break;\n",
       "    case 2:\n",
       "        cursor = 'crosshair';\n",
       "        break;\n",
       "    case 3:\n",
       "        cursor = 'move';\n",
       "        break;\n",
       "    }\n",
       "    fig.rubberband_canvas.style.cursor = cursor;\n",
       "}\n",
       "\n",
       "mpl.figure.prototype.handle_message = function(fig, msg) {\n",
       "    fig.message.textContent = msg['message'];\n",
       "}\n",
       "\n",
       "mpl.figure.prototype.handle_draw = function(fig, msg) {\n",
       "    // Request the server to send over a new figure.\n",
       "    fig.send_draw_message();\n",
       "}\n",
       "\n",
       "mpl.figure.prototype.handle_image_mode = function(fig, msg) {\n",
       "    fig.image_mode = msg['mode'];\n",
       "}\n",
       "\n",
       "mpl.figure.prototype.updated_canvas_event = function() {\n",
       "    // Called whenever the canvas gets updated.\n",
       "    this.send_message(\"ack\", {});\n",
       "}\n",
       "\n",
       "// A function to construct a web socket function for onmessage handling.\n",
       "// Called in the figure constructor.\n",
       "mpl.figure.prototype._make_on_message_function = function(fig) {\n",
       "    return function socket_on_message(evt) {\n",
       "        if (evt.data instanceof Blob) {\n",
       "            /* FIXME: We get \"Resource interpreted as Image but\n",
       "             * transferred with MIME type text/plain:\" errors on\n",
       "             * Chrome.  But how to set the MIME type?  It doesn't seem\n",
       "             * to be part of the websocket stream */\n",
       "            evt.data.type = \"image/png\";\n",
       "\n",
       "            /* Free the memory for the previous frames */\n",
       "            if (fig.imageObj.src) {\n",
       "                (window.URL || window.webkitURL).revokeObjectURL(\n",
       "                    fig.imageObj.src);\n",
       "            }\n",
       "\n",
       "            fig.imageObj.src = (window.URL || window.webkitURL).createObjectURL(\n",
       "                evt.data);\n",
       "            fig.updated_canvas_event();\n",
       "            fig.waiting = false;\n",
       "            return;\n",
       "        }\n",
       "        else if (typeof evt.data === 'string' && evt.data.slice(0, 21) == \"data:image/png;base64\") {\n",
       "            fig.imageObj.src = evt.data;\n",
       "            fig.updated_canvas_event();\n",
       "            fig.waiting = false;\n",
       "            return;\n",
       "        }\n",
       "\n",
       "        var msg = JSON.parse(evt.data);\n",
       "        var msg_type = msg['type'];\n",
       "\n",
       "        // Call the  \"handle_{type}\" callback, which takes\n",
       "        // the figure and JSON message as its only arguments.\n",
       "        try {\n",
       "            var callback = fig[\"handle_\" + msg_type];\n",
       "        } catch (e) {\n",
       "            console.log(\"No handler for the '\" + msg_type + \"' message type: \", msg);\n",
       "            return;\n",
       "        }\n",
       "\n",
       "        if (callback) {\n",
       "            try {\n",
       "                // console.log(\"Handling '\" + msg_type + \"' message: \", msg);\n",
       "                callback(fig, msg);\n",
       "            } catch (e) {\n",
       "                console.log(\"Exception inside the 'handler_\" + msg_type + \"' callback:\", e, e.stack, msg);\n",
       "            }\n",
       "        }\n",
       "    };\n",
       "}\n",
       "\n",
       "// from http://stackoverflow.com/questions/1114465/getting-mouse-location-in-canvas\n",
       "mpl.findpos = function(e) {\n",
       "    //this section is from http://www.quirksmode.org/js/events_properties.html\n",
       "    var targ;\n",
       "    if (!e)\n",
       "        e = window.event;\n",
       "    if (e.target)\n",
       "        targ = e.target;\n",
       "    else if (e.srcElement)\n",
       "        targ = e.srcElement;\n",
       "    if (targ.nodeType == 3) // defeat Safari bug\n",
       "        targ = targ.parentNode;\n",
       "\n",
       "    // jQuery normalizes the pageX and pageY\n",
       "    // pageX,Y are the mouse positions relative to the document\n",
       "    // offset() returns the position of the element relative to the document\n",
       "    var x = e.pageX - $(targ).offset().left;\n",
       "    var y = e.pageY - $(targ).offset().top;\n",
       "\n",
       "    return {\"x\": x, \"y\": y};\n",
       "};\n",
       "\n",
       "/*\n",
       " * return a copy of an object with only non-object keys\n",
       " * we need this to avoid circular references\n",
       " * http://stackoverflow.com/a/24161582/3208463\n",
       " */\n",
       "function simpleKeys (original) {\n",
       "  return Object.keys(original).reduce(function (obj, key) {\n",
       "    if (typeof original[key] !== 'object')\n",
       "        obj[key] = original[key]\n",
       "    return obj;\n",
       "  }, {});\n",
       "}\n",
       "\n",
       "mpl.figure.prototype.mouse_event = function(event, name) {\n",
       "    var canvas_pos = mpl.findpos(event)\n",
       "\n",
       "    if (name === 'button_press')\n",
       "    {\n",
       "        this.canvas.focus();\n",
       "        this.canvas_div.focus();\n",
       "    }\n",
       "\n",
       "    var x = canvas_pos.x * mpl.ratio;\n",
       "    var y = canvas_pos.y * mpl.ratio;\n",
       "\n",
       "    this.send_message(name, {x: x, y: y, button: event.button,\n",
       "                             step: event.step,\n",
       "                             guiEvent: simpleKeys(event)});\n",
       "\n",
       "    /* This prevents the web browser from automatically changing to\n",
       "     * the text insertion cursor when the button is pressed.  We want\n",
       "     * to control all of the cursor setting manually through the\n",
       "     * 'cursor' event from matplotlib */\n",
       "    event.preventDefault();\n",
       "    return false;\n",
       "}\n",
       "\n",
       "mpl.figure.prototype._key_event_extra = function(event, name) {\n",
       "    // Handle any extra behaviour associated with a key event\n",
       "}\n",
       "\n",
       "mpl.figure.prototype.key_event = function(event, name) {\n",
       "\n",
       "    // Prevent repeat events\n",
       "    if (name == 'key_press')\n",
       "    {\n",
       "        if (event.which === this._key)\n",
       "            return;\n",
       "        else\n",
       "            this._key = event.which;\n",
       "    }\n",
       "    if (name == 'key_release')\n",
       "        this._key = null;\n",
       "\n",
       "    var value = '';\n",
       "    if (event.ctrlKey && event.which != 17)\n",
       "        value += \"ctrl+\";\n",
       "    if (event.altKey && event.which != 18)\n",
       "        value += \"alt+\";\n",
       "    if (event.shiftKey && event.which != 16)\n",
       "        value += \"shift+\";\n",
       "\n",
       "    value += 'k';\n",
       "    value += event.which.toString();\n",
       "\n",
       "    this._key_event_extra(event, name);\n",
       "\n",
       "    this.send_message(name, {key: value,\n",
       "                             guiEvent: simpleKeys(event)});\n",
       "    return false;\n",
       "}\n",
       "\n",
       "mpl.figure.prototype.toolbar_button_onclick = function(name) {\n",
       "    if (name == 'download') {\n",
       "        this.handle_save(this, null);\n",
       "    } else {\n",
       "        this.send_message(\"toolbar_button\", {name: name});\n",
       "    }\n",
       "};\n",
       "\n",
       "mpl.figure.prototype.toolbar_button_onmouseover = function(tooltip) {\n",
       "    this.message.textContent = tooltip;\n",
       "};\n",
       "mpl.toolbar_items = [[\"Home\", \"Reset original view\", \"fa fa-home icon-home\", \"home\"], [\"Back\", \"Back to previous view\", \"fa fa-arrow-left icon-arrow-left\", \"back\"], [\"Forward\", \"Forward to next view\", \"fa fa-arrow-right icon-arrow-right\", \"forward\"], [\"\", \"\", \"\", \"\"], [\"Pan\", \"Pan axes with left mouse, zoom with right\", \"fa fa-arrows icon-move\", \"pan\"], [\"Zoom\", \"Zoom to rectangle\", \"fa fa-square-o icon-check-empty\", \"zoom\"], [\"\", \"\", \"\", \"\"], [\"Download\", \"Download plot\", \"fa fa-floppy-o icon-save\", \"download\"]];\n",
       "\n",
       "mpl.extensions = [\"eps\", \"jpeg\", \"pdf\", \"png\", \"ps\", \"raw\", \"svg\", \"tif\"];\n",
       "\n",
       "mpl.default_extension = \"png\";var comm_websocket_adapter = function(comm) {\n",
       "    // Create a \"websocket\"-like object which calls the given IPython comm\n",
       "    // object with the appropriate methods. Currently this is a non binary\n",
       "    // socket, so there is still some room for performance tuning.\n",
       "    var ws = {};\n",
       "\n",
       "    ws.close = function() {\n",
       "        comm.close()\n",
       "    };\n",
       "    ws.send = function(m) {\n",
       "        //console.log('sending', m);\n",
       "        comm.send(m);\n",
       "    };\n",
       "    // Register the callback with on_msg.\n",
       "    comm.on_msg(function(msg) {\n",
       "        //console.log('receiving', msg['content']['data'], msg);\n",
       "        // Pass the mpl event to the overridden (by mpl) onmessage function.\n",
       "        ws.onmessage(msg['content']['data'])\n",
       "    });\n",
       "    return ws;\n",
       "}\n",
       "\n",
       "mpl.mpl_figure_comm = function(comm, msg) {\n",
       "    // This is the function which gets called when the mpl process\n",
       "    // starts-up an IPython Comm through the \"matplotlib\" channel.\n",
       "\n",
       "    var id = msg.content.data.id;\n",
       "    // Get hold of the div created by the display call when the Comm\n",
       "    // socket was opened in Python.\n",
       "    var element = $(\"#\" + id);\n",
       "    var ws_proxy = comm_websocket_adapter(comm)\n",
       "\n",
       "    function ondownload(figure, format) {\n",
       "        window.open(figure.imageObj.src);\n",
       "    }\n",
       "\n",
       "    var fig = new mpl.figure(id, ws_proxy,\n",
       "                           ondownload,\n",
       "                           element.get(0));\n",
       "\n",
       "    // Call onopen now - mpl needs it, as it is assuming we've passed it a real\n",
       "    // web socket which is closed, not our websocket->open comm proxy.\n",
       "    ws_proxy.onopen();\n",
       "\n",
       "    fig.parent_element = element.get(0);\n",
       "    fig.cell_info = mpl.find_output_cell(\"<div id='\" + id + \"'></div>\");\n",
       "    if (!fig.cell_info) {\n",
       "        console.error(\"Failed to find cell for figure\", id, fig);\n",
       "        return;\n",
       "    }\n",
       "\n",
       "    var output_index = fig.cell_info[2]\n",
       "    var cell = fig.cell_info[0];\n",
       "\n",
       "};\n",
       "\n",
       "mpl.figure.prototype.handle_close = function(fig, msg) {\n",
       "    var width = fig.canvas.width/mpl.ratio\n",
       "    fig.root.unbind('remove')\n",
       "\n",
       "    // Update the output cell to use the data from the current canvas.\n",
       "    fig.push_to_output();\n",
       "    var dataURL = fig.canvas.toDataURL();\n",
       "    // Re-enable the keyboard manager in IPython - without this line, in FF,\n",
       "    // the notebook keyboard shortcuts fail.\n",
       "    IPython.keyboard_manager.enable()\n",
       "    $(fig.parent_element).html('<img src=\"' + dataURL + '\" width=\"' + width + '\">');\n",
       "    fig.close_ws(fig, msg);\n",
       "}\n",
       "\n",
       "mpl.figure.prototype.close_ws = function(fig, msg){\n",
       "    fig.send_message('closing', msg);\n",
       "    // fig.ws.close()\n",
       "}\n",
       "\n",
       "mpl.figure.prototype.push_to_output = function(remove_interactive) {\n",
       "    // Turn the data on the canvas into data in the output cell.\n",
       "    var width = this.canvas.width/mpl.ratio\n",
       "    var dataURL = this.canvas.toDataURL();\n",
       "    this.cell_info[1]['text/html'] = '<img src=\"' + dataURL + '\" width=\"' + width + '\">';\n",
       "}\n",
       "\n",
       "mpl.figure.prototype.updated_canvas_event = function() {\n",
       "    // Tell IPython that the notebook contents must change.\n",
       "    IPython.notebook.set_dirty(true);\n",
       "    this.send_message(\"ack\", {});\n",
       "    var fig = this;\n",
       "    // Wait a second, then push the new image to the DOM so\n",
       "    // that it is saved nicely (might be nice to debounce this).\n",
       "    setTimeout(function () { fig.push_to_output() }, 1000);\n",
       "}\n",
       "\n",
       "mpl.figure.prototype._init_toolbar = function() {\n",
       "    var fig = this;\n",
       "\n",
       "    var nav_element = $('<div/>');\n",
       "    nav_element.attr('style', 'width: 100%');\n",
       "    this.root.append(nav_element);\n",
       "\n",
       "    // Define a callback function for later on.\n",
       "    function toolbar_event(event) {\n",
       "        return fig.toolbar_button_onclick(event['data']);\n",
       "    }\n",
       "    function toolbar_mouse_event(event) {\n",
       "        return fig.toolbar_button_onmouseover(event['data']);\n",
       "    }\n",
       "\n",
       "    for(var toolbar_ind in mpl.toolbar_items){\n",
       "        var name = mpl.toolbar_items[toolbar_ind][0];\n",
       "        var tooltip = mpl.toolbar_items[toolbar_ind][1];\n",
       "        var image = mpl.toolbar_items[toolbar_ind][2];\n",
       "        var method_name = mpl.toolbar_items[toolbar_ind][3];\n",
       "\n",
       "        if (!name) { continue; };\n",
       "\n",
       "        var button = $('<button class=\"btn btn-default\" href=\"#\" title=\"' + name + '\"><i class=\"fa ' + image + ' fa-lg\"></i></button>');\n",
       "        button.click(method_name, toolbar_event);\n",
       "        button.mouseover(tooltip, toolbar_mouse_event);\n",
       "        nav_element.append(button);\n",
       "    }\n",
       "\n",
       "    // Add the status bar.\n",
       "    var status_bar = $('<span class=\"mpl-message\" style=\"text-align:right; float: right;\"/>');\n",
       "    nav_element.append(status_bar);\n",
       "    this.message = status_bar[0];\n",
       "\n",
       "    // Add the close button to the window.\n",
       "    var buttongrp = $('<div class=\"btn-group inline pull-right\"></div>');\n",
       "    var button = $('<button class=\"btn btn-mini btn-primary\" href=\"#\" title=\"Stop Interaction\"><i class=\"fa fa-power-off icon-remove icon-large\"></i></button>');\n",
       "    button.click(function (evt) { fig.handle_close(fig, {}); } );\n",
       "    button.mouseover('Stop Interaction', toolbar_mouse_event);\n",
       "    buttongrp.append(button);\n",
       "    var titlebar = this.root.find($('.ui-dialog-titlebar'));\n",
       "    titlebar.prepend(buttongrp);\n",
       "}\n",
       "\n",
       "mpl.figure.prototype._root_extra_style = function(el){\n",
       "    var fig = this\n",
       "    el.on(\"remove\", function(){\n",
       "\tfig.close_ws(fig, {});\n",
       "    });\n",
       "}\n",
       "\n",
       "mpl.figure.prototype._canvas_extra_style = function(el){\n",
       "    // this is important to make the div 'focusable\n",
       "    el.attr('tabindex', 0)\n",
       "    // reach out to IPython and tell the keyboard manager to turn it's self\n",
       "    // off when our div gets focus\n",
       "\n",
       "    // location in version 3\n",
       "    if (IPython.notebook.keyboard_manager) {\n",
       "        IPython.notebook.keyboard_manager.register_events(el);\n",
       "    }\n",
       "    else {\n",
       "        // location in version 2\n",
       "        IPython.keyboard_manager.register_events(el);\n",
       "    }\n",
       "\n",
       "}\n",
       "\n",
       "mpl.figure.prototype._key_event_extra = function(event, name) {\n",
       "    var manager = IPython.notebook.keyboard_manager;\n",
       "    if (!manager)\n",
       "        manager = IPython.keyboard_manager;\n",
       "\n",
       "    // Check for shift+enter\n",
       "    if (event.shiftKey && event.which == 13) {\n",
       "        this.canvas_div.blur();\n",
       "        // select the cell after this one\n",
       "        var index = IPython.notebook.find_cell_index(this.cell_info[0]);\n",
       "        IPython.notebook.select(index + 1);\n",
       "    }\n",
       "}\n",
       "\n",
       "mpl.figure.prototype.handle_save = function(fig, msg) {\n",
       "    fig.ondownload(fig, null);\n",
       "}\n",
       "\n",
       "\n",
       "mpl.find_output_cell = function(html_output) {\n",
       "    // Return the cell and output element which can be found *uniquely* in the notebook.\n",
       "    // Note - this is a bit hacky, but it is done because the \"notebook_saving.Notebook\"\n",
       "    // IPython event is triggered only after the cells have been serialised, which for\n",
       "    // our purposes (turning an active figure into a static one), is too late.\n",
       "    var cells = IPython.notebook.get_cells();\n",
       "    var ncells = cells.length;\n",
       "    for (var i=0; i<ncells; i++) {\n",
       "        var cell = cells[i];\n",
       "        if (cell.cell_type === 'code'){\n",
       "            for (var j=0; j<cell.output_area.outputs.length; j++) {\n",
       "                var data = cell.output_area.outputs[j];\n",
       "                if (data.data) {\n",
       "                    // IPython >= 3 moved mimebundle to data attribute of output\n",
       "                    data = data.data;\n",
       "                }\n",
       "                if (data['text/html'] == html_output) {\n",
       "                    return [cell, data, j];\n",
       "                }\n",
       "            }\n",
       "        }\n",
       "    }\n",
       "}\n",
       "\n",
       "// Register the function which deals with the matplotlib target/channel.\n",
       "// The kernel may be null if the page has been refreshed.\n",
       "if (IPython.notebook.kernel != null) {\n",
       "    IPython.notebook.kernel.comm_manager.register_target('matplotlib', mpl.mpl_figure_comm);\n",
       "}\n"
      ],
      "text/plain": [
       "<IPython.core.display.Javascript object>"
      ]
     },
     "metadata": {},
     "output_type": "display_data"
    },
    {
     "data": {
      "text/html": [
       "<img src=\"data:image/png;base64,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\" width=\"720\">"
      ],
      "text/plain": [
       "<IPython.core.display.HTML object>"
      ]
     },
     "metadata": {},
     "output_type": "display_data"
    },
    {
     "data": {
      "application/vnd.jupyter.widget-view+json": {
       "model_id": "2b0720660b7f452896fc667c00381d3d",
       "version_major": 2,
       "version_minor": 0
      },
      "text/plain": [
       "IntSlider(value=10, min=1)"
      ]
     },
     "metadata": {},
     "output_type": "display_data"
    },
    {
     "data": {
      "application/vnd.jupyter.widget-view+json": {
       "model_id": "1db76be8e0f545a785ca58418e90eeeb",
       "version_major": 2,
       "version_minor": 0
      },
      "text/plain": [
       "Label(value='A value is: 1.0')"
      ]
     },
     "metadata": {},
     "output_type": "display_data"
    },
    {
     "data": {
      "application/vnd.jupyter.widget-view+json": {
       "model_id": "aca8a97d17774df8bb261f9623103af9",
       "version_major": 2,
       "version_minor": 0
      },
      "text/plain": [
       "IntSlider(value=10, min=1)"
      ]
     },
     "metadata": {},
     "output_type": "display_data"
    },
    {
     "data": {
      "application/vnd.jupyter.widget-view+json": {
       "model_id": "2063239b4f9e4e559f4e413587538ca9",
       "version_major": 2,
       "version_minor": 0
      },
      "text/plain": [
       "Label(value='log10(B) value is: 1.0')"
      ]
     },
     "metadata": {},
     "output_type": "display_data"
    }
   ],
   "source": [
    "from IPython.display import display\n",
    "%matplotlib notebook\n",
    "%matplotlib notebook \n",
    "\n",
    "r = wr.value; \n",
    "u = np.logspace(-4, 0.25, 41)\n",
    "fig = plt.figure(figsize=(10,5)) \n",
    "ax = fig.add_subplot()\n",
    "plt.plot(1/u, exp1(u), label='Theis')\n",
    "ax.set_xscale('log'); ax.set_yscale('log')\n",
    "plt.show();\n",
    "\n",
    "def update_plot(shifty = 10, shiftx = 10):\n",
    "    if r <= 50:\n",
    "        plt.plot (10**(shiftx/10)*df['t1']/24/60/r/r,shifty/10*df['s1'],'.C1')\n",
    "    else:\n",
    "        plt.plot (10**(shiftx/10)*df['t2']/24/60/r/r,shifty/10*df['s2'], '.C1')\n",
    "        \n",
    "    plt.grid()\n",
    "    fig.canvas.draw_idle()\n",
    "\n",
    "# prepare widgets\n",
    "shifty_slider = widgets.IntSlider(10, min = 1, max = 100)\n",
    "shifty_label = widgets.Label(value = 'A value is: ' + str(shifty_slider.value/10))\n",
    "display(shifty_slider, shifty_label)\n",
    "shiftx_slider = widgets.IntSlider(10, min = 1, max = 100)\n",
    "shiftx_label = widgets.Label(value = 'log10(B) value is: ' + str(shiftx_slider.value/10))\n",
    "display(shiftx_slider, shiftx_label)\n",
    "\n",
    "# handle shifty update\n",
    "def update_shifty(value):\n",
    "    plt.plot (10**(shiftx_slider.value/10)*df['t1']/24/60/r/r,value['old']/10*df['s1'], '.', color='0.7')\n",
    "    update_plot(shifty = value['new'],shiftx = shiftx_slider.value)\n",
    "    shifty_label.value = 'A value is: ' + str(value.new/10)\n",
    "\n",
    "# handle shiftx update\n",
    "def update_shiftx(value):\n",
    "    plt.plot (10**(value['old']/10)*df['t1']/24/60/r/r,shifty_slider.value/10*df['s1'], '.', color='0.7')\n",
    "    update_plot(shifty = shifty_slider.value,shiftx = value['new'])\n",
    "    shiftx_label.value = 'log10(B) value is: ' + str(value.new/10)\n",
    "    \n",
    "shiftx_slider.observe(update_shiftx, names = 'value')\n",
    "shifty_slider.observe(update_shifty, names = 'value') "
   ]
  },
  {
   "cell_type": "markdown",
   "metadata": {
    "hideCode": false,
    "hidePrompt": false
   },
   "source": [
    "Run the next cell to show the result for transmissivity and storativity!"
   ]
  },
  {
   "cell_type": "code",
   "execution_count": 77,
   "metadata": {
    "hideCode": false,
    "hidePrompt": false,
    "hide_input": true,
    "scrolled": true
   },
   "outputs": [
    {
     "data": {
      "image/png": "[encoded data removed]",
      "text/plain": [
       "<Figure size 720x360 with 1 Axes>"
      ]
     },
     "metadata": {
      "needs_background": "light"
     },
     "output_type": "display_data"
    }
   ],
   "source": [
    "%matplotlib inline\n",
    "r = wr.value\n",
    "fig = plt.figure(figsize=(10,5)) \n",
    "ax = fig.add_subplot()\n",
    "plt.title('Oude Korendijk pumping test', fontsize = 14)\n",
    "plt.plot(1/u, exp1(u), label='Theis')\n",
    "ax.set_xscale('log'); ax.set_yscale('log'); \n",
    "plt.xlabel('$1/u$ and $B \\, t/r^2$', fontsize=12)\n",
    "plt.ylabel('W(u) and $A \\cdot s$',fontsize=12)\n",
    "update_plot(shifty = shifty_slider.value,shiftx = shiftx_slider.value)\n",
    "kD = shiftx_slider.value/10 * Q /4 /np.pi   # print('T = {:.0f} m2/d'.format(kD))\n",
    "Sc = 4 * kD / 10**(shifty_slider.value/10)         #print('S = {:.2e} [-]'.format(S))\n",
    "ax.text (380,0.23,'$T =%.1f m^2/d$' % (kD, ),fontsize=12)\n",
    "ax.text (380,0.15,'$S =%.2e $' % (Sc, ),fontsize=12)\n",
    "plt.show()"
   ]
  },
  {
   "cell_type": "markdown",
   "metadata": {
    "hideCode": false,
    "hidePrompt": false,
    "hide_input": false
   },
   "source": [
    "## Error Measures\n",
    "The residual is a quantitative measure for the goodness of the fit. It is defined by: "
   ]
  },
  {
   "cell_type": "markdown",
   "metadata": {
    "hideCode": false,
    "hidePrompt": false
   },
   "source": [
    "$$ res = \\sqrt{\\sum{(s_{obs}-s_{calc})^2}} $$"
   ]
  },
  {
   "cell_type": "markdown",
   "metadata": {
    "hideCode": false,
    "hidePrompt": false
   },
   "source": [
    "where the sum adds up the quadratic deviations over all values of the time series. $s_{obs}$ is the observed drawdown, while $s_{calc}$ denotes the drawdown calculated by the Theis formula for the optimized $T$ and $S$ values. The rssidual is thus a good measure to compare results for the same drawdown series. However, if depends on the number of observations and thus is not feasable for comparison of results from different obtained from different observation points or different pumping tests. Alternatively one may take the standard deviation, which is defined as the squareroot of the mean quadratic deviation:"
   ]
  },
  {
   "cell_type": "markdown",
   "metadata": {
    "hideCode": false,
    "hidePrompt": false,
    "hide_input": true
   },
   "source": [
    "$$ stdev = \\sqrt{mean((s_{obs}-s_{calc})^2)} $$"
   ]
  },
  {
   "cell_type": "markdown",
   "metadata": {
    "hideCode": false,
    "hidePrompt": false
   },
   "source": [
    "The standard deviation makes results from different observation points and pumping tests, at the same or different boreholes, comparable. Click the following buttons to get the measures of the fit. "
   ]
  },
  {
   "cell_type": "code",
   "execution_count": 78,
   "metadata": {
    "hideCode": false,
    "hidePrompt": false,
    "hide_input": false,
    "scrolled": false
   },
   "outputs": [
    {
     "data": {
      "application/vnd.jupyter.widget-view+json": {
       "model_id": "aa0e625fb1ed44db80e82756caa10bb6",
       "version_major": 2,
       "version_minor": 0
      },
      "text/plain": [
       "HBox(children=(Button(description='Residual', style=ButtonStyle()), Button(description='Standard deviation', s…"
      ]
     },
     "metadata": {},
     "output_type": "display_data"
    },
    {
     "data": {
      "text/plain": [
       "'Standard deviation = 6.821e-02 for r = 90, T = 427.8 and S = 1.71e-04'"
      ]
     },
     "metadata": {},
     "output_type": "display_data"
    }
   ],
   "source": [
    "def rescalc():\n",
    "    global kD,Sc\n",
    "    D = kD/Sc; r = wr.value; Q = wQ.value\n",
    "    if r <= 50: \n",
    "        tfit = df['t1']/24/60; sfit = df['s1']\n",
    "        tfit = tfit[:-1]; sfit = sfit[:-1]  # one entry less in time series                  \n",
    "    else:\n",
    "        tfit = df['t2']/24/60; sfit = df['s2']\n",
    "\n",
    "    u = (((r*r)/4)/D)/pd.to_numeric(tfit)\n",
    "    s = Q*exp1(u)/4/np.pi/kD\n",
    "    dev = pd.to_numeric(sfit)-s; dev2 = dev*dev\n",
    "    res = np.sqrt(sum(dev2)) \n",
    "    stde = np.sqrt(dev2.mean())\n",
    "    return [res,stde]\n",
    "\n",
    "def on_wres_clicked(self):   \n",
    "    [res,stde] = rescalc()\n",
    "    display ('Residual = %.3e for r = %.0f, T = %.1f and S = %.2e' % (res,r,kD,Sc))\n",
    "    \n",
    "def on_wstd_clicked(self): \n",
    "    [res,stde] = rescalc()\n",
    "    display ('Standard deviation = %.3e for r = %.0f, T = %.1f and S = %.2e'% (stde,r,kD,Sc));\n",
    "\n",
    "wres = widgets.Button(description='Residual')        \n",
    "wres.on_click(on_wres_clicked) \n",
    "wstd = widgets.Button(description='Standard deviation')        \n",
    "wstd.on_click(on_wstd_clicked)\n",
    "widgets.HBox([wres,wstd])   "
   ]
  },
  {
   "cell_type": "markdown",
   "metadata": {
    "hideCode": false,
    "hidePrompt": false
   },
   "source": [
    "Note that the data from the distance given the input field above are used for the computation. "
   ]
  },
  {
   "cell_type": "markdown",
   "metadata": {
    "hideCode": false,
    "hidePrompt": false
   },
   "source": [
    "## Direct Optimization of Transmissivity and Storativity \n",
    "\n",
    "The previous method was inspired by the shifting of the measurements drawn on double log paper over the Theis type curve also drawn on double log paper. However, we could just as well directly optimize $T$ and $S$ (instead of $A$ and $B$) by trial and error to find the best match between type curve and measurements.\n",
    "\n",
    "It may then be most convenient to let the type curve as it is and compute "
   ]
  },
  {
   "cell_type": "markdown",
   "metadata": {
    "hideCode": false,
    "hidePrompt": false
   },
   "source": [
    "$$ W(u) = \\frac s {Q/(4 \\pi T)}$$ and $$\\frac 1 u = \\frac {4 T t} {r^2 S}$$"
   ]
  },
  {
   "cell_type": "markdown",
   "metadata": {
    "hideCode": false,
    "hidePrompt": false
   },
   "source": [
    "This has been done and for the obtained values of $S$ and $T$ the result is shown in the next cell."
   ]
  },
  {
   "cell_type": "code",
   "execution_count": 85,
   "metadata": {
    "hideCode": false,
    "hidePrompt": false,
    "hide_input": false,
    "scrolled": true
   },
   "outputs": [
    {
     "data": {
      "image/png": "[encoded data removed]",
      "text/plain": [
       "<Figure size 720x360 with 1 Axes>"
      ]
     },
     "metadata": {},
     "output_type": "display_data"
    }
   ],
   "source": [
    "kD = 450\n",
    "Sc = 0.0002\n",
    "u = np.logspace(-4, 0.25, 41)\n",
    "fig = plt.figure(facecolor='w', figsize=(10,5)); ax = fig.add_subplot()\n",
    "\n",
    "# the Theis type curve\n",
    "plt.plot(1/u, exp1(u), label='Theis')\n",
    "\n",
    "# The measurements\n",
    "r = 30\n",
    "plt.plot (4*kD*df['t1']/24/60/(Sc*r**2),df['s1']/(Q/(4*np.pi*kD)), '.', label = 'observation H30' )\n",
    "r = 90\n",
    "plt.plot (4*kD*df['t2']/24/60/(Sc*r**2),df['s2']/(Q/(4*np.pi*kD)), '.', label = 'observation H90' )\n",
    "plt.title('Direct comparison between computed and measured drawdown, $T$={:.0f} m$^2$/d, $S$={:.3e} [-]'.format(kD,Sc),fontsize=12)\n",
    "plt.xlabel('$1/u$',fontsize=12); plt.ylabel('$W[u]$',fontsize=12)\n",
    "plt.xscale('log'); plt.yscale('log')\n",
    "plt.grid()\n",
    "plt.legend(loc='lower right',fontsize=12);"
   ]
  },
  {
   "cell_type": "markdown",
   "metadata": {
    "hideCode": false,
    "hidePrompt": false
   },
   "source": [
    "## Parameter Estimation\n",
    "### Confined Aquifer\n",
    "\n",
    "Before we obtimized the two factors $A$ and $B$ by hand. This was relatively straight-forward for this case in which only two parameters were involved. However in more complicated cases, finding the optimum parameter combination by trial and error takes much more effort, and often times is impossible. Therefore, the modern way is to let the computer find the optimum combination of parmeters, which minimizes the difference between the type curve (or the model) and the measurements."
   ]
  },
  {
   "cell_type": "code",
   "execution_count": 29,
   "metadata": {
    "hideCode": false,
    "hidePrompt": false,
    "hide_input": true,
    "scrolled": false
   },
   "outputs": [
    {
     "data": {
      "application/vnd.jupyter.widget-view+json": {
       "model_id": "06dba87f0c1d43f18c9b493fab391d2b",
       "version_major": 2,
       "version_minor": 0
      },
      "text/plain": [
       "BoundedFloatText(value=30.0, description='Distance:', max=90.0, min=30.0, step=60.0)"
      ]
     },
     "metadata": {},
     "output_type": "display_data"
    }
   ],
   "source": [
    "w2r = widgets.BoundedFloatText(value=30, min=30, max=90.0, step = 60.0, description='Distance:', disabled=False)\n",
    "w2r"
   ]
  },
  {
   "cell_type": "markdown",
   "metadata": {
    "hideCode": false,
    "hidePrompt": false,
    "hide_input": false
   },
   "source": [
    "Enter initial guesses for $T$ and $S$! The unit of transmissivity is derived from the length and time settings above. "
   ]
  },
  {
   "cell_type": "code",
   "execution_count": 30,
   "metadata": {
    "hideCode": false,
    "hidePrompt": false,
    "hide_input": true,
    "scrolled": false
   },
   "outputs": [
    {
     "data": {
      "application/vnd.jupyter.widget-view+json": {
       "model_id": "c7e164d226a243eda98164ee0699a2ff",
       "version_major": 2,
       "version_minor": 0
      },
      "text/plain": [
       "HBox(children=(FloatText(value=500.0, description='T:'), FloatText(value=0.0001, description='S:')))"
      ]
     },
     "metadata": {},
     "output_type": "display_data"
    }
   ],
   "source": [
    "wT = widgets.FloatText(value=500, description='T:', min=1, disabled=False)\n",
    "wS = widgets.FloatText(value=1e-4, description='S:', min=1.e-10, disabled=False)\n",
    "widgets.HBox([wT, wS])"
   ]
  },
  {
   "cell_type": "markdown",
   "metadata": {
    "hideCode": false,
    "hidePrompt": false
   },
   "source": [
    "Do the parameter estimation by running the next cell."
   ]
  },
  {
   "cell_type": "code",
   "execution_count": 82,
   "metadata": {
    "hideCode": false,
    "hidePrompt": false,
    "hide_input": true,
    "scrolled": false
   },
   "outputs": [
    {
     "data": {
      "application/vnd.jupyter.widget-view+json": {
       "model_id": "efeaf8f58b1e4360b7f6fc01214b222b",
       "version_major": 2,
       "version_minor": 0
      },
      "text/plain": [
       "VBox(children=(Button(description='Evaluate Theis', style=ButtonStyle()),))"
      ]
     },
     "metadata": {},
     "output_type": "display_data"
    },
    {
     "name": "stdout",
     "output_type": "stream",
     "text": [
      "Oude Korendijk pumping test\n",
      "Distance to pumping well: 30.0\n",
      "Initial transmissivity: 500.0\n",
      "Initial storativity: 0.0001\n",
      "Optimization terminated successfully.\n",
      "         Current function value: 0.036407\n",
      "         Iterations: 41\n",
      "         Function evaluations: 79\n"
     ]
    },
    {
     "data": {
      "image/png": "[encoded data removed]",
      "text/plain": [
       "<Figure size 720x360 with 1 Axes>"
      ]
     },
     "metadata": {},
     "output_type": "display_data"
    }
   ],
   "source": [
    "from scipy.optimize import fmin\n",
    "Q = wQ.value; r = 30\n",
    "tfit = df['t1'].dropna()/60/24; sfit = df['s1'].dropna()\n",
    "\n",
    "def teval (t,r,T,S,Q):\n",
    "    D = T/S                             # calculate Theis solution\n",
    "    u = (((r*r)/4)/D)/t\n",
    "    s = Q*exp1(u)/4/np.pi/T\n",
    "    return s                            # drawdown \n",
    "    \n",
    "def toptim (x):  \n",
    "    global r,tfit,sfit\n",
    "    T = x[0]; S = x[1] \n",
    "    s = teval (tfit,r,T,S,Q)\n",
    "    res = (s-sfit)\n",
    "    return sum(res*res)                 # function to be minimized\n",
    "\n",
    "def on_weval1_clicked(self):            # convert input data\n",
    "    global r,df,tfit,sfit\n",
    "    print ('Oude Korendijk pumping test') \n",
    "    r = w2r.value; print ('Distance to pumping well: '+str(r))\n",
    "    T = wT.value; print ('Initial transmissivity: '+str(T)) \n",
    "    S = wS.value; print ('Initial storativity: '+str(S))\n",
    "    if r <= 50:   \n",
    "        tfit = df['t1'].dropna()/60/24; sfit = df['s1'].dropna()\n",
    "    else:\n",
    "        tfit = df['t2'].dropna()/60/24; sfit = df['s2'].dropna()                             \n",
    "\n",
    "    # parameter estimation---------------------------------------------------------\n",
    "    [Tfit,Sfit] = fmin (toptim, [T,S])\n",
    "\n",
    "    # post-processing\n",
    "    D = T/S;               #print ('D='+str(D))\n",
    "    s = teval (tfit,r,Tfit,Sfit,Q)\n",
    "    dev = sfit-s                  \n",
    "    dev2 = dev*dev; res = np.sqrt(sum(dev2)) \n",
    "    stde = np.sqrt(dev2.mean())\n",
    "    sr=2*dev.std()                            # to compare with hytool !\n",
    "    #print ('Residual = '+str(res))\n",
    "    t = np.logspace(np.log10(tfit.min()),np.log10(tfit.max()),100)\n",
    "    fig = plt.figure(facecolor='w',figsize=(10,5)); ax = fig.add_subplot()\n",
    "    ax.set_xscale('log')\n",
    "    plt.plot(tfit,sfit,'o',label = 'measured') \n",
    "    plt.plot(t,teval(t,r,Tfit,Sfit,Q),'-', label = 'calculated', lw = 2)\n",
    "    plt.xlabel('time [d]',fontsize=12); plt.ylabel('drawdown [m]',fontsize=12)\n",
    "    plt.title ('Oude Korendijk pumping test',fontsize=14)\n",
    "    plt.grid ()\n",
    "    plt.legend (loc='upper left',fontsize=12)\n",
    "    ax.text (0.04,0.5*sfit.max(),'$T =%.1f m^2/d $' % (Tfit, ),fontsize=12)\n",
    "    ax.text (0.04,0.4*sfit.max(),'$S =%.2e $' % (Sfit, ),fontsize=12)\n",
    "    ax.text (0.04,0.3*sfit.max(),'$res = %.2e $' % (res, ),fontsize=12)\n",
    "    ax.text (0.04,0.2*sfit.max(),'$stdev = %.2e $' % (stde, ),fontsize=12)\n",
    "    ax.text (0.04,0.1*sfit.max(),'$2stdev =%.2e $' % (sr, ),fontsize=12);\n",
    "\n",
    "weval1 = widgets.Button(description='Evaluate Theis')        \n",
    "weval1.on_click(on_weval1_clicked)   \n",
    "widgets.VBox([weval1]) "
   ]
  },
  {
   "cell_type": "markdown",
   "metadata": {
    "hideCode": false,
    "hidePrompt": false
   },
   "source": [
    "Explore the sensitivity of the results when changing initial values. Check the residual and number of iterations for comparison. Do this for both observation data-sets."
   ]
  },
  {
   "cell_type": "markdown",
   "metadata": {
    "hideCode": false,
    "hidePrompt": false
   },
   "source": [
    "### Leaky Aquifer"
   ]
  },
  {
   "cell_type": "markdown",
   "metadata": {
    "hideCode": false,
    "hidePrompt": false
   },
   "source": [
    "For leaky aquifers the drawdown is given by the Hantush well function $W$, which has two arguments:"
   ]
  },
  {
   "cell_type": "markdown",
   "metadata": {
    "hideCode": false,
    "hidePrompt": false
   },
   "source": [
    "$$ s(r, t) = \\frac Q {4 \\pi T} W(u,r/\\lambda),\\,\\,\\,\\, u = \\frac {r^2 S} {4 T t}$$"
   ]
  },
  {
   "cell_type": "markdown",
   "metadata": {
    "hideCode": false,
    "hidePrompt": false
   },
   "source": [
    "with $\\lambda=\\sqrt{T\\cdot c}$, where $c$ denotes the resistance of the over-lying semipermeable layer. The physcial unit of resistance is time. The equation was derived assuming an overall source (Hantush & Jacob 1955). Using the more realistic boundary condition at the top of the modelled cross-section Hantush (1967) showed conditions, under which the equation can be taken as a valid approximation.  "
   ]
  },
  {
   "cell_type": "code",
   "execution_count": 32,
   "metadata": {
    "hideCode": false,
    "hidePrompt": false,
    "hide_input": true,
    "scrolled": false
   },
   "outputs": [
    {
     "data": {
      "application/vnd.jupyter.widget-view+json": {
       "model_id": "bc4bc0ea277f45c6b95a2d6e7fd3cbd3",
       "version_major": 2,
       "version_minor": 0
      },
      "text/plain": [
       "BoundedFloatText(value=30.0, description='Distance:', max=90.0, min=30.0, step=60.0)"
      ]
     },
     "metadata": {},
     "output_type": "display_data"
    }
   ],
   "source": [
    "w3r = widgets.BoundedFloatText(value=30, min=30, max=90.0, step = 60.0, description='Distance:', disabled=False)\n",
    "w3r"
   ]
  },
  {
   "cell_type": "markdown",
   "metadata": {
    "hideCode": false,
    "hidePrompt": false,
    "hide_input": true
   },
   "source": [
    "Enter initial guesses for $T$, $S$ and $c$! The physical units of transmissivity and resistance derived from the length and time settings above. "
   ]
  },
  {
   "cell_type": "code",
   "execution_count": 33,
   "metadata": {
    "hideCode": false,
    "hidePrompt": false,
    "hide_input": true,
    "scrolled": false
   },
   "outputs": [
    {
     "data": {
      "application/vnd.jupyter.widget-view+json": {
       "model_id": "943d7cb5115a4fd3a396a7b940be39a5",
       "version_major": 2,
       "version_minor": 0
      },
      "text/plain": [
       "HBox(children=(FloatText(value=500.0, description='T:'), FloatText(value=0.0001, description='S:'), FloatText(…"
      ]
     },
     "metadata": {},
     "output_type": "display_data"
    }
   ],
   "source": [
    "w2T = widgets.FloatText(value=500, description='T:', min=1.e-10, disabled=False)\n",
    "w2S = widgets.FloatText(value=1e-4, description='S:', min=1.e-10, disabled=False)\n",
    "wc = widgets.FloatText(value=1e4, description='c:', min=1.e-10, disabled=False)\n",
    "widgets.HBox([w2T, w2S, wc])"
   ]
  },
  {
   "cell_type": "code",
   "execution_count": 92,
   "metadata": {
    "hideCode": false,
    "hidePrompt": false,
    "hide_input": true,
    "scrolled": false
   },
   "outputs": [
    {
     "data": {
      "application/vnd.jupyter.widget-view+json": {
       "model_id": "e0c497c0e1c74d09902d3ab053290167",
       "version_major": 2,
       "version_minor": 0
      },
      "text/plain": [
       "VBox(children=(Button(description='Evaluate Hantush', style=ButtonStyle()),))"
      ]
     },
     "metadata": {},
     "output_type": "display_data"
    },
    {
     "name": "stdout",
     "output_type": "stream",
     "text": [
      "Oude Korendijk pumping test\n",
      "Distance to pumping well: 30.0\n",
      "Initial transmissivity: 500.0\n",
      "Initial storativity: 0.0001\n",
      "Initial resistance: 10000.0\n",
      "Optimization terminated successfully.\n",
      "         Current function value: 0.010328\n",
      "         Iterations: 138\n",
      "         Function evaluations: 255\n"
     ]
    },
    {
     "data": {
      "application/javascript": [
       "/* Put everything inside the global mpl namespace */\n",
       "window.mpl = {};\n",
       "\n",
       "\n",
       "mpl.get_websocket_type = function() {\n",
       "    if (typeof(WebSocket) !== 'undefined') {\n",
       "        return WebSocket;\n",
       "    } else if (typeof(MozWebSocket) !== 'undefined') {\n",
       "        return MozWebSocket;\n",
       "    } else {\n",
       "        alert('Your browser does not have WebSocket support. ' +\n",
       "              'Please try Chrome, Safari or Firefox ≥ 6. ' +\n",
       "              'Firefox 4 and 5 are also supported but you ' +\n",
       "              'have to enable WebSockets in about:config.');\n",
       "    };\n",
       "}\n",
       "\n",
       "mpl.figure = function(figure_id, websocket, ondownload, parent_element) {\n",
       "    this.id = figure_id;\n",
       "\n",
       "    this.ws = websocket;\n",
       "\n",
       "    this.supports_binary = (this.ws.binaryType != undefined);\n",
       "\n",
       "    if (!this.supports_binary) {\n",
       "        var warnings = document.getElementById(\"mpl-warnings\");\n",
       "        if (warnings) {\n",
       "            warnings.style.display = 'block';\n",
       "            warnings.textContent = (\n",
       "                \"This browser does not support binary websocket messages. \" +\n",
       "                    \"Performance may be slow.\");\n",
       "        }\n",
       "    }\n",
       "\n",
       "    this.imageObj = new Image();\n",
       "\n",
       "    this.context = undefined;\n",
       "    this.message = undefined;\n",
       "    this.canvas = undefined;\n",
       "    this.rubberband_canvas = undefined;\n",
       "    this.rubberband_context = undefined;\n",
       "    this.format_dropdown = undefined;\n",
       "\n",
       "    this.image_mode = 'full';\n",
       "\n",
       "    this.root = $('<div/>');\n",
       "    this._root_extra_style(this.root)\n",
       "    this.root.attr('style', 'display: inline-block');\n",
       "\n",
       "    $(parent_element).append(this.root);\n",
       "\n",
       "    this._init_header(this);\n",
       "    this._init_canvas(this);\n",
       "    this._init_toolbar(this);\n",
       "\n",
       "    var fig = this;\n",
       "\n",
       "    this.waiting = false;\n",
       "\n",
       "    this.ws.onopen =  function () {\n",
       "            fig.send_message(\"supports_binary\", {value: fig.supports_binary});\n",
       "            fig.send_message(\"send_image_mode\", {});\n",
       "            if (mpl.ratio != 1) {\n",
       "                fig.send_message(\"set_dpi_ratio\", {'dpi_ratio': mpl.ratio});\n",
       "            }\n",
       "            fig.send_message(\"refresh\", {});\n",
       "        }\n",
       "\n",
       "    this.imageObj.onload = function() {\n",
       "            if (fig.image_mode == 'full') {\n",
       "                // Full images could contain transparency (where diff images\n",
       "                // almost always do), so we need to clear the canvas so that\n",
       "                // there is no ghosting.\n",
       "                fig.context.clearRect(0, 0, fig.canvas.width, fig.canvas.height);\n",
       "            }\n",
       "            fig.context.drawImage(fig.imageObj, 0, 0);\n",
       "        };\n",
       "\n",
       "    this.imageObj.onunload = function() {\n",
       "        fig.ws.close();\n",
       "    }\n",
       "\n",
       "    this.ws.onmessage = this._make_on_message_function(this);\n",
       "\n",
       "    this.ondownload = ondownload;\n",
       "}\n",
       "\n",
       "mpl.figure.prototype._init_header = function() {\n",
       "    var titlebar = $(\n",
       "        '<div class=\"ui-dialog-titlebar ui-widget-header ui-corner-all ' +\n",
       "        'ui-helper-clearfix\"/>');\n",
       "    var titletext = $(\n",
       "        '<div class=\"ui-dialog-title\" style=\"width: 100%; ' +\n",
       "        'text-align: center; padding: 3px;\"/>');\n",
       "    titlebar.append(titletext)\n",
       "    this.root.append(titlebar);\n",
       "    this.header = titletext[0];\n",
       "}\n",
       "\n",
       "\n",
       "\n",
       "mpl.figure.prototype._canvas_extra_style = function(canvas_div) {\n",
       "\n",
       "}\n",
       "\n",
       "\n",
       "mpl.figure.prototype._root_extra_style = function(canvas_div) {\n",
       "\n",
       "}\n",
       "\n",
       "mpl.figure.prototype._init_canvas = function() {\n",
       "    var fig = this;\n",
       "\n",
       "    var canvas_div = $('<div/>');\n",
       "\n",
       "    canvas_div.attr('style', 'position: relative; clear: both; outline: 0');\n",
       "\n",
       "    function canvas_keyboard_event(event) {\n",
       "        return fig.key_event(event, event['data']);\n",
       "    }\n",
       "\n",
       "    canvas_div.keydown('key_press', canvas_keyboard_event);\n",
       "    canvas_div.keyup('key_release', canvas_keyboard_event);\n",
       "    this.canvas_div = canvas_div\n",
       "    this._canvas_extra_style(canvas_div)\n",
       "    this.root.append(canvas_div);\n",
       "\n",
       "    var canvas = $('<canvas/>');\n",
       "    canvas.addClass('mpl-canvas');\n",
       "    canvas.attr('style', \"left: 0; top: 0; z-index: 0; outline: 0\")\n",
       "\n",
       "    this.canvas = canvas[0];\n",
       "    this.context = canvas[0].getContext(\"2d\");\n",
       "\n",
       "    var backingStore = this.context.backingStorePixelRatio ||\n",
       "\tthis.context.webkitBackingStorePixelRatio ||\n",
       "\tthis.context.mozBackingStorePixelRatio ||\n",
       "\tthis.context.msBackingStorePixelRatio ||\n",
       "\tthis.context.oBackingStorePixelRatio ||\n",
       "\tthis.context.backingStorePixelRatio || 1;\n",
       "\n",
       "    mpl.ratio = (window.devicePixelRatio || 1) / backingStore;\n",
       "\n",
       "    var rubberband = $('<canvas/>');\n",
       "    rubberband.attr('style', \"position: absolute; left: 0; top: 0; z-index: 1;\")\n",
       "\n",
       "    var pass_mouse_events = true;\n",
       "\n",
       "    canvas_div.resizable({\n",
       "        start: function(event, ui) {\n",
       "            pass_mouse_events = false;\n",
       "        },\n",
       "        resize: function(event, ui) {\n",
       "            fig.request_resize(ui.size.width, ui.size.height);\n",
       "        },\n",
       "        stop: function(event, ui) {\n",
       "            pass_mouse_events = true;\n",
       "            fig.request_resize(ui.size.width, ui.size.height);\n",
       "        },\n",
       "    });\n",
       "\n",
       "    function mouse_event_fn(event) {\n",
       "        if (pass_mouse_events)\n",
       "            return fig.mouse_event(event, event['data']);\n",
       "    }\n",
       "\n",
       "    rubberband.mousedown('button_press', mouse_event_fn);\n",
       "    rubberband.mouseup('button_release', mouse_event_fn);\n",
       "    // Throttle sequential mouse events to 1 every 20ms.\n",
       "    rubberband.mousemove('motion_notify', mouse_event_fn);\n",
       "\n",
       "    rubberband.mouseenter('figure_enter', mouse_event_fn);\n",
       "    rubberband.mouseleave('figure_leave', mouse_event_fn);\n",
       "\n",
       "    canvas_div.on(\"wheel\", function (event) {\n",
       "        event = event.originalEvent;\n",
       "        event['data'] = 'scroll'\n",
       "        if (event.deltaY < 0) {\n",
       "            event.step = 1;\n",
       "        } else {\n",
       "            event.step = -1;\n",
       "        }\n",
       "        mouse_event_fn(event);\n",
       "    });\n",
       "\n",
       "    canvas_div.append(canvas);\n",
       "    canvas_div.append(rubberband);\n",
       "\n",
       "    this.rubberband = rubberband;\n",
       "    this.rubberband_canvas = rubberband[0];\n",
       "    this.rubberband_context = rubberband[0].getContext(\"2d\");\n",
       "    this.rubberband_context.strokeStyle = \"#000000\";\n",
       "\n",
       "    this._resize_canvas = function(width, height) {\n",
       "        // Keep the size of the canvas, canvas container, and rubber band\n",
       "        // canvas in synch.\n",
       "        canvas_div.css('width', width)\n",
       "        canvas_div.css('height', height)\n",
       "\n",
       "        canvas.attr('width', width * mpl.ratio);\n",
       "        canvas.attr('height', height * mpl.ratio);\n",
       "        canvas.attr('style', 'width: ' + width + 'px; height: ' + height + 'px;');\n",
       "\n",
       "        rubberband.attr('width', width);\n",
       "        rubberband.attr('height', height);\n",
       "    }\n",
       "\n",
       "    // Set the figure to an initial 600x600px, this will subsequently be updated\n",
       "    // upon first draw.\n",
       "    this._resize_canvas(600, 600);\n",
       "\n",
       "    // Disable right mouse context menu.\n",
       "    $(this.rubberband_canvas).bind(\"contextmenu\",function(e){\n",
       "        return false;\n",
       "    });\n",
       "\n",
       "    function set_focus () {\n",
       "        canvas.focus();\n",
       "        canvas_div.focus();\n",
       "    }\n",
       "\n",
       "    window.setTimeout(set_focus, 100);\n",
       "}\n",
       "\n",
       "mpl.figure.prototype._init_toolbar = function() {\n",
       "    var fig = this;\n",
       "\n",
       "    var nav_element = $('<div/>');\n",
       "    nav_element.attr('style', 'width: 100%');\n",
       "    this.root.append(nav_element);\n",
       "\n",
       "    // Define a callback function for later on.\n",
       "    function toolbar_event(event) {\n",
       "        return fig.toolbar_button_onclick(event['data']);\n",
       "    }\n",
       "    function toolbar_mouse_event(event) {\n",
       "        return fig.toolbar_button_onmouseover(event['data']);\n",
       "    }\n",
       "\n",
       "    for(var toolbar_ind in mpl.toolbar_items) {\n",
       "        var name = mpl.toolbar_items[toolbar_ind][0];\n",
       "        var tooltip = mpl.toolbar_items[toolbar_ind][1];\n",
       "        var image = mpl.toolbar_items[toolbar_ind][2];\n",
       "        var method_name = mpl.toolbar_items[toolbar_ind][3];\n",
       "\n",
       "        if (!name) {\n",
       "            // put a spacer in here.\n",
       "            continue;\n",
       "        }\n",
       "        var button = $('<button/>');\n",
       "        button.addClass('ui-button ui-widget ui-state-default ui-corner-all ' +\n",
       "                        'ui-button-icon-only');\n",
       "        button.attr('role', 'button');\n",
       "        button.attr('aria-disabled', 'false');\n",
       "        button.click(method_name, toolbar_event);\n",
       "        button.mouseover(tooltip, toolbar_mouse_event);\n",
       "\n",
       "        var icon_img = $('<span/>');\n",
       "        icon_img.addClass('ui-button-icon-primary ui-icon');\n",
       "        icon_img.addClass(image);\n",
       "        icon_img.addClass('ui-corner-all');\n",
       "\n",
       "        var tooltip_span = $('<span/>');\n",
       "        tooltip_span.addClass('ui-button-text');\n",
       "        tooltip_span.html(tooltip);\n",
       "\n",
       "        button.append(icon_img);\n",
       "        button.append(tooltip_span);\n",
       "\n",
       "        nav_element.append(button);\n",
       "    }\n",
       "\n",
       "    var fmt_picker_span = $('<span/>');\n",
       "\n",
       "    var fmt_picker = $('<select/>');\n",
       "    fmt_picker.addClass('mpl-toolbar-option ui-widget ui-widget-content');\n",
       "    fmt_picker_span.append(fmt_picker);\n",
       "    nav_element.append(fmt_picker_span);\n",
       "    this.format_dropdown = fmt_picker[0];\n",
       "\n",
       "    for (var ind in mpl.extensions) {\n",
       "        var fmt = mpl.extensions[ind];\n",
       "        var option = $(\n",
       "            '<option/>', {selected: fmt === mpl.default_extension}).html(fmt);\n",
       "        fmt_picker.append(option);\n",
       "    }\n",
       "\n",
       "    // Add hover states to the ui-buttons\n",
       "    $( \".ui-button\" ).hover(\n",
       "        function() { $(this).addClass(\"ui-state-hover\");},\n",
       "        function() { $(this).removeClass(\"ui-state-hover\");}\n",
       "    );\n",
       "\n",
       "    var status_bar = $('<span class=\"mpl-message\"/>');\n",
       "    nav_element.append(status_bar);\n",
       "    this.message = status_bar[0];\n",
       "}\n",
       "\n",
       "mpl.figure.prototype.request_resize = function(x_pixels, y_pixels) {\n",
       "    // Request matplotlib to resize the figure. Matplotlib will then trigger a resize in the client,\n",
       "    // which will in turn request a refresh of the image.\n",
       "    this.send_message('resize', {'width': x_pixels, 'height': y_pixels});\n",
       "}\n",
       "\n",
       "mpl.figure.prototype.send_message = function(type, properties) {\n",
       "    properties['type'] = type;\n",
       "    properties['figure_id'] = this.id;\n",
       "    this.ws.send(JSON.stringify(properties));\n",
       "}\n",
       "\n",
       "mpl.figure.prototype.send_draw_message = function() {\n",
       "    if (!this.waiting) {\n",
       "        this.waiting = true;\n",
       "        this.ws.send(JSON.stringify({type: \"draw\", figure_id: this.id}));\n",
       "    }\n",
       "}\n",
       "\n",
       "\n",
       "mpl.figure.prototype.handle_save = function(fig, msg) {\n",
       "    var format_dropdown = fig.format_dropdown;\n",
       "    var format = format_dropdown.options[format_dropdown.selectedIndex].value;\n",
       "    fig.ondownload(fig, format);\n",
       "}\n",
       "\n",
       "\n",
       "mpl.figure.prototype.handle_resize = function(fig, msg) {\n",
       "    var size = msg['size'];\n",
       "    if (size[0] != fig.canvas.width || size[1] != fig.canvas.height) {\n",
       "        fig._resize_canvas(size[0], size[1]);\n",
       "        fig.send_message(\"refresh\", {});\n",
       "    };\n",
       "}\n",
       "\n",
       "mpl.figure.prototype.handle_rubberband = function(fig, msg) {\n",
       "    var x0 = msg['x0'] / mpl.ratio;\n",
       "    var y0 = (fig.canvas.height - msg['y0']) / mpl.ratio;\n",
       "    var x1 = msg['x1'] / mpl.ratio;\n",
       "    var y1 = (fig.canvas.height - msg['y1']) / mpl.ratio;\n",
       "    x0 = Math.floor(x0) + 0.5;\n",
       "    y0 = Math.floor(y0) + 0.5;\n",
       "    x1 = Math.floor(x1) + 0.5;\n",
       "    y1 = Math.floor(y1) + 0.5;\n",
       "    var min_x = Math.min(x0, x1);\n",
       "    var min_y = Math.min(y0, y1);\n",
       "    var width = Math.abs(x1 - x0);\n",
       "    var height = Math.abs(y1 - y0);\n",
       "\n",
       "    fig.rubberband_context.clearRect(\n",
       "        0, 0, fig.canvas.width / mpl.ratio, fig.canvas.height / mpl.ratio);\n",
       "\n",
       "    fig.rubberband_context.strokeRect(min_x, min_y, width, height);\n",
       "}\n",
       "\n",
       "mpl.figure.prototype.handle_figure_label = function(fig, msg) {\n",
       "    // Updates the figure title.\n",
       "    fig.header.textContent = msg['label'];\n",
       "}\n",
       "\n",
       "mpl.figure.prototype.handle_cursor = function(fig, msg) {\n",
       "    var cursor = msg['cursor'];\n",
       "    switch(cursor)\n",
       "    {\n",
       "    case 0:\n",
       "        cursor = 'pointer';\n",
       "        break;\n",
       "    case 1:\n",
       "        cursor = 'default';\n",
       "        break;\n",
       "    case 2:\n",
       "        cursor = 'crosshair';\n",
       "        break;\n",
       "    case 3:\n",
       "        cursor = 'move';\n",
       "        break;\n",
       "    }\n",
       "    fig.rubberband_canvas.style.cursor = cursor;\n",
       "}\n",
       "\n",
       "mpl.figure.prototype.handle_message = function(fig, msg) {\n",
       "    fig.message.textContent = msg['message'];\n",
       "}\n",
       "\n",
       "mpl.figure.prototype.handle_draw = function(fig, msg) {\n",
       "    // Request the server to send over a new figure.\n",
       "    fig.send_draw_message();\n",
       "}\n",
       "\n",
       "mpl.figure.prototype.handle_image_mode = function(fig, msg) {\n",
       "    fig.image_mode = msg['mode'];\n",
       "}\n",
       "\n",
       "mpl.figure.prototype.updated_canvas_event = function() {\n",
       "    // Called whenever the canvas gets updated.\n",
       "    this.send_message(\"ack\", {});\n",
       "}\n",
       "\n",
       "// A function to construct a web socket function for onmessage handling.\n",
       "// Called in the figure constructor.\n",
       "mpl.figure.prototype._make_on_message_function = function(fig) {\n",
       "    return function socket_on_message(evt) {\n",
       "        if (evt.data instanceof Blob) {\n",
       "            /* FIXME: We get \"Resource interpreted as Image but\n",
       "             * transferred with MIME type text/plain:\" errors on\n",
       "             * Chrome.  But how to set the MIME type?  It doesn't seem\n",
       "             * to be part of the websocket stream */\n",
       "            evt.data.type = \"image/png\";\n",
       "\n",
       "            /* Free the memory for the previous frames */\n",
       "            if (fig.imageObj.src) {\n",
       "                (window.URL || window.webkitURL).revokeObjectURL(\n",
       "                    fig.imageObj.src);\n",
       "            }\n",
       "\n",
       "            fig.imageObj.src = (window.URL || window.webkitURL).createObjectURL(\n",
       "                evt.data);\n",
       "            fig.updated_canvas_event();\n",
       "            fig.waiting = false;\n",
       "            return;\n",
       "        }\n",
       "        else if (typeof evt.data === 'string' && evt.data.slice(0, 21) == \"data:image/png;base64\") {\n",
       "            fig.imageObj.src = evt.data;\n",
       "            fig.updated_canvas_event();\n",
       "            fig.waiting = false;\n",
       "            return;\n",
       "        }\n",
       "\n",
       "        var msg = JSON.parse(evt.data);\n",
       "        var msg_type = msg['type'];\n",
       "\n",
       "        // Call the  \"handle_{type}\" callback, which takes\n",
       "        // the figure and JSON message as its only arguments.\n",
       "        try {\n",
       "            var callback = fig[\"handle_\" + msg_type];\n",
       "        } catch (e) {\n",
       "            console.log(\"No handler for the '\" + msg_type + \"' message type: \", msg);\n",
       "            return;\n",
       "        }\n",
       "\n",
       "        if (callback) {\n",
       "            try {\n",
       "                // console.log(\"Handling '\" + msg_type + \"' message: \", msg);\n",
       "                callback(fig, msg);\n",
       "            } catch (e) {\n",
       "                console.log(\"Exception inside the 'handler_\" + msg_type + \"' callback:\", e, e.stack, msg);\n",
       "            }\n",
       "        }\n",
       "    };\n",
       "}\n",
       "\n",
       "// from http://stackoverflow.com/questions/1114465/getting-mouse-location-in-canvas\n",
       "mpl.findpos = function(e) {\n",
       "    //this section is from http://www.quirksmode.org/js/events_properties.html\n",
       "    var targ;\n",
       "    if (!e)\n",
       "        e = window.event;\n",
       "    if (e.target)\n",
       "        targ = e.target;\n",
       "    else if (e.srcElement)\n",
       "        targ = e.srcElement;\n",
       "    if (targ.nodeType == 3) // defeat Safari bug\n",
       "        targ = targ.parentNode;\n",
       "\n",
       "    // jQuery normalizes the pageX and pageY\n",
       "    // pageX,Y are the mouse positions relative to the document\n",
       "    // offset() returns the position of the element relative to the document\n",
       "    var x = e.pageX - $(targ).offset().left;\n",
       "    var y = e.pageY - $(targ).offset().top;\n",
       "\n",
       "    return {\"x\": x, \"y\": y};\n",
       "};\n",
       "\n",
       "/*\n",
       " * return a copy of an object with only non-object keys\n",
       " * we need this to avoid circular references\n",
       " * http://stackoverflow.com/a/24161582/3208463\n",
       " */\n",
       "function simpleKeys (original) {\n",
       "  return Object.keys(original).reduce(function (obj, key) {\n",
       "    if (typeof original[key] !== 'object')\n",
       "        obj[key] = original[key]\n",
       "    return obj;\n",
       "  }, {});\n",
       "}\n",
       "\n",
       "mpl.figure.prototype.mouse_event = function(event, name) {\n",
       "    var canvas_pos = mpl.findpos(event)\n",
       "\n",
       "    if (name === 'button_press')\n",
       "    {\n",
       "        this.canvas.focus();\n",
       "        this.canvas_div.focus();\n",
       "    }\n",
       "\n",
       "    var x = canvas_pos.x * mpl.ratio;\n",
       "    var y = canvas_pos.y * mpl.ratio;\n",
       "\n",
       "    this.send_message(name, {x: x, y: y, button: event.button,\n",
       "                             step: event.step,\n",
       "                             guiEvent: simpleKeys(event)});\n",
       "\n",
       "    /* This prevents the web browser from automatically changing to\n",
       "     * the text insertion cursor when the button is pressed.  We want\n",
       "     * to control all of the cursor setting manually through the\n",
       "     * 'cursor' event from matplotlib */\n",
       "    event.preventDefault();\n",
       "    return false;\n",
       "}\n",
       "\n",
       "mpl.figure.prototype._key_event_extra = function(event, name) {\n",
       "    // Handle any extra behaviour associated with a key event\n",
       "}\n",
       "\n",
       "mpl.figure.prototype.key_event = function(event, name) {\n",
       "\n",
       "    // Prevent repeat events\n",
       "    if (name == 'key_press')\n",
       "    {\n",
       "        if (event.which === this._key)\n",
       "            return;\n",
       "        else\n",
       "            this._key = event.which;\n",
       "    }\n",
       "    if (name == 'key_release')\n",
       "        this._key = null;\n",
       "\n",
       "    var value = '';\n",
       "    if (event.ctrlKey && event.which != 17)\n",
       "        value += \"ctrl+\";\n",
       "    if (event.altKey && event.which != 18)\n",
       "        value += \"alt+\";\n",
       "    if (event.shiftKey && event.which != 16)\n",
       "        value += \"shift+\";\n",
       "\n",
       "    value += 'k';\n",
       "    value += event.which.toString();\n",
       "\n",
       "    this._key_event_extra(event, name);\n",
       "\n",
       "    this.send_message(name, {key: value,\n",
       "                             guiEvent: simpleKeys(event)});\n",
       "    return false;\n",
       "}\n",
       "\n",
       "mpl.figure.prototype.toolbar_button_onclick = function(name) {\n",
       "    if (name == 'download') {\n",
       "        this.handle_save(this, null);\n",
       "    } else {\n",
       "        this.send_message(\"toolbar_button\", {name: name});\n",
       "    }\n",
       "};\n",
       "\n",
       "mpl.figure.prototype.toolbar_button_onmouseover = function(tooltip) {\n",
       "    this.message.textContent = tooltip;\n",
       "};\n",
       "mpl.toolbar_items = [[\"Home\", \"Reset original view\", \"fa fa-home icon-home\", \"home\"], [\"Back\", \"Back to previous view\", \"fa fa-arrow-left icon-arrow-left\", \"back\"], [\"Forward\", \"Forward to next view\", \"fa fa-arrow-right icon-arrow-right\", \"forward\"], [\"\", \"\", \"\", \"\"], [\"Pan\", \"Pan axes with left mouse, zoom with right\", \"fa fa-arrows icon-move\", \"pan\"], [\"Zoom\", \"Zoom to rectangle\", \"fa fa-square-o icon-check-empty\", \"zoom\"], [\"\", \"\", \"\", \"\"], [\"Download\", \"Download plot\", \"fa fa-floppy-o icon-save\", \"download\"]];\n",
       "\n",
       "mpl.extensions = [\"eps\", \"jpeg\", \"pdf\", \"png\", \"ps\", \"raw\", \"svg\", \"tif\"];\n",
       "\n",
       "mpl.default_extension = \"png\";var comm_websocket_adapter = function(comm) {\n",
       "    // Create a \"websocket\"-like object which calls the given IPython comm\n",
       "    // object with the appropriate methods. Currently this is a non binary\n",
       "    // socket, so there is still some room for performance tuning.\n",
       "    var ws = {};\n",
       "\n",
       "    ws.close = function() {\n",
       "        comm.close()\n",
       "    };\n",
       "    ws.send = function(m) {\n",
       "        //console.log('sending', m);\n",
       "        comm.send(m);\n",
       "    };\n",
       "    // Register the callback with on_msg.\n",
       "    comm.on_msg(function(msg) {\n",
       "        //console.log('receiving', msg['content']['data'], msg);\n",
       "        // Pass the mpl event to the overridden (by mpl) onmessage function.\n",
       "        ws.onmessage(msg['content']['data'])\n",
       "    });\n",
       "    return ws;\n",
       "}\n",
       "\n",
       "mpl.mpl_figure_comm = function(comm, msg) {\n",
       "    // This is the function which gets called when the mpl process\n",
       "    // starts-up an IPython Comm through the \"matplotlib\" channel.\n",
       "\n",
       "    var id = msg.content.data.id;\n",
       "    // Get hold of the div created by the display call when the Comm\n",
       "    // socket was opened in Python.\n",
       "    var element = $(\"#\" + id);\n",
       "    var ws_proxy = comm_websocket_adapter(comm)\n",
       "\n",
       "    function ondownload(figure, format) {\n",
       "        window.open(figure.imageObj.src);\n",
       "    }\n",
       "\n",
       "    var fig = new mpl.figure(id, ws_proxy,\n",
       "                           ondownload,\n",
       "                           element.get(0));\n",
       "\n",
       "    // Call onopen now - mpl needs it, as it is assuming we've passed it a real\n",
       "    // web socket which is closed, not our websocket->open comm proxy.\n",
       "    ws_proxy.onopen();\n",
       "\n",
       "    fig.parent_element = element.get(0);\n",
       "    fig.cell_info = mpl.find_output_cell(\"<div id='\" + id + \"'></div>\");\n",
       "    if (!fig.cell_info) {\n",
       "        console.error(\"Failed to find cell for figure\", id, fig);\n",
       "        return;\n",
       "    }\n",
       "\n",
       "    var output_index = fig.cell_info[2]\n",
       "    var cell = fig.cell_info[0];\n",
       "\n",
       "};\n",
       "\n",
       "mpl.figure.prototype.handle_close = function(fig, msg) {\n",
       "    var width = fig.canvas.width/mpl.ratio\n",
       "    fig.root.unbind('remove')\n",
       "\n",
       "    // Update the output cell to use the data from the current canvas.\n",
       "    fig.push_to_output();\n",
       "    var dataURL = fig.canvas.toDataURL();\n",
       "    // Re-enable the keyboard manager in IPython - without this line, in FF,\n",
       "    // the notebook keyboard shortcuts fail.\n",
       "    IPython.keyboard_manager.enable()\n",
       "    $(fig.parent_element).html('<img src=\"' + dataURL + '\" width=\"' + width + '\">');\n",
       "    fig.close_ws(fig, msg);\n",
       "}\n",
       "\n",
       "mpl.figure.prototype.close_ws = function(fig, msg){\n",
       "    fig.send_message('closing', msg);\n",
       "    // fig.ws.close()\n",
       "}\n",
       "\n",
       "mpl.figure.prototype.push_to_output = function(remove_interactive) {\n",
       "    // Turn the data on the canvas into data in the output cell.\n",
       "    var width = this.canvas.width/mpl.ratio\n",
       "    var dataURL = this.canvas.toDataURL();\n",
       "    this.cell_info[1]['text/html'] = '<img src=\"' + dataURL + '\" width=\"' + width + '\">';\n",
       "}\n",
       "\n",
       "mpl.figure.prototype.updated_canvas_event = function() {\n",
       "    // Tell IPython that the notebook contents must change.\n",
       "    IPython.notebook.set_dirty(true);\n",
       "    this.send_message(\"ack\", {});\n",
       "    var fig = this;\n",
       "    // Wait a second, then push the new image to the DOM so\n",
       "    // that it is saved nicely (might be nice to debounce this).\n",
       "    setTimeout(function () { fig.push_to_output() }, 1000);\n",
       "}\n",
       "\n",
       "mpl.figure.prototype._init_toolbar = function() {\n",
       "    var fig = this;\n",
       "\n",
       "    var nav_element = $('<div/>');\n",
       "    nav_element.attr('style', 'width: 100%');\n",
       "    this.root.append(nav_element);\n",
       "\n",
       "    // Define a callback function for later on.\n",
       "    function toolbar_event(event) {\n",
       "        return fig.toolbar_button_onclick(event['data']);\n",
       "    }\n",
       "    function toolbar_mouse_event(event) {\n",
       "        return fig.toolbar_button_onmouseover(event['data']);\n",
       "    }\n",
       "\n",
       "    for(var toolbar_ind in mpl.toolbar_items){\n",
       "        var name = mpl.toolbar_items[toolbar_ind][0];\n",
       "        var tooltip = mpl.toolbar_items[toolbar_ind][1];\n",
       "        var image = mpl.toolbar_items[toolbar_ind][2];\n",
       "        var method_name = mpl.toolbar_items[toolbar_ind][3];\n",
       "\n",
       "        if (!name) { continue; };\n",
       "\n",
       "        var button = $('<button class=\"btn btn-default\" href=\"#\" title=\"' + name + '\"><i class=\"fa ' + image + ' fa-lg\"></i></button>');\n",
       "        button.click(method_name, toolbar_event);\n",
       "        button.mouseover(tooltip, toolbar_mouse_event);\n",
       "        nav_element.append(button);\n",
       "    }\n",
       "\n",
       "    // Add the status bar.\n",
       "    var status_bar = $('<span class=\"mpl-message\" style=\"text-align:right; float: right;\"/>');\n",
       "    nav_element.append(status_bar);\n",
       "    this.message = status_bar[0];\n",
       "\n",
       "    // Add the close button to the window.\n",
       "    var buttongrp = $('<div class=\"btn-group inline pull-right\"></div>');\n",
       "    var button = $('<button class=\"btn btn-mini btn-primary\" href=\"#\" title=\"Stop Interaction\"><i class=\"fa fa-power-off icon-remove icon-large\"></i></button>');\n",
       "    button.click(function (evt) { fig.handle_close(fig, {}); } );\n",
       "    button.mouseover('Stop Interaction', toolbar_mouse_event);\n",
       "    buttongrp.append(button);\n",
       "    var titlebar = this.root.find($('.ui-dialog-titlebar'));\n",
       "    titlebar.prepend(buttongrp);\n",
       "}\n",
       "\n",
       "mpl.figure.prototype._root_extra_style = function(el){\n",
       "    var fig = this\n",
       "    el.on(\"remove\", function(){\n",
       "\tfig.close_ws(fig, {});\n",
       "    });\n",
       "}\n",
       "\n",
       "mpl.figure.prototype._canvas_extra_style = function(el){\n",
       "    // this is important to make the div 'focusable\n",
       "    el.attr('tabindex', 0)\n",
       "    // reach out to IPython and tell the keyboard manager to turn it's self\n",
       "    // off when our div gets focus\n",
       "\n",
       "    // location in version 3\n",
       "    if (IPython.notebook.keyboard_manager) {\n",
       "        IPython.notebook.keyboard_manager.register_events(el);\n",
       "    }\n",
       "    else {\n",
       "        // location in version 2\n",
       "        IPython.keyboard_manager.register_events(el);\n",
       "    }\n",
       "\n",
       "}\n",
       "\n",
       "mpl.figure.prototype._key_event_extra = function(event, name) {\n",
       "    var manager = IPython.notebook.keyboard_manager;\n",
       "    if (!manager)\n",
       "        manager = IPython.keyboard_manager;\n",
       "\n",
       "    // Check for shift+enter\n",
       "    if (event.shiftKey && event.which == 13) {\n",
       "        this.canvas_div.blur();\n",
       "        // select the cell after this one\n",
       "        var index = IPython.notebook.find_cell_index(this.cell_info[0]);\n",
       "        IPython.notebook.select(index + 1);\n",
       "    }\n",
       "}\n",
       "\n",
       "mpl.figure.prototype.handle_save = function(fig, msg) {\n",
       "    fig.ondownload(fig, null);\n",
       "}\n",
       "\n",
       "\n",
       "mpl.find_output_cell = function(html_output) {\n",
       "    // Return the cell and output element which can be found *uniquely* in the notebook.\n",
       "    // Note - this is a bit hacky, but it is done because the \"notebook_saving.Notebook\"\n",
       "    // IPython event is triggered only after the cells have been serialised, which for\n",
       "    // our purposes (turning an active figure into a static one), is too late.\n",
       "    var cells = IPython.notebook.get_cells();\n",
       "    var ncells = cells.length;\n",
       "    for (var i=0; i<ncells; i++) {\n",
       "        var cell = cells[i];\n",
       "        if (cell.cell_type === 'code'){\n",
       "            for (var j=0; j<cell.output_area.outputs.length; j++) {\n",
       "                var data = cell.output_area.outputs[j];\n",
       "                if (data.data) {\n",
       "                    // IPython >= 3 moved mimebundle to data attribute of output\n",
       "                    data = data.data;\n",
       "                }\n",
       "                if (data['text/html'] == html_output) {\n",
       "                    return [cell, data, j];\n",
       "                }\n",
       "            }\n",
       "        }\n",
       "    }\n",
       "}\n",
       "\n",
       "// Register the function which deals with the matplotlib target/channel.\n",
       "// The kernel may be null if the page has been refreshed.\n",
       "if (IPython.notebook.kernel != null) {\n",
       "    IPython.notebook.kernel.comm_manager.register_target('matplotlib', mpl.mpl_figure_comm);\n",
       "}\n"
      ],
      "text/plain": [
       "<IPython.core.display.Javascript object>"
      ]
     },
     "metadata": {},
     "output_type": "display_data"
    },
    {
     "data": {
      "text/html": [
       "<img src=\"data:image/png;base64,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\" width=\"720\">"
      ],
      "text/plain": [
       "<IPython.core.display.HTML object>"
      ]
     },
     "metadata": {},
     "output_type": "display_data"
    }
   ],
   "source": [
    "from scipy.special import exp1\n",
    "from scipy.optimize import fmin\n",
    "from scipy.special import kn as BesselK\n",
    "\n",
    "Q = wQ.value; r = 30\n",
    "tfit = df['t1'].dropna()/60/24; sfit = df['s1'].dropna()\n",
    "\n",
    "def heval (t,r,T,S,c,Q):                 # calculate Hantush solution\n",
    "    T0  = np.where(T>1.e-10,T,1.e-10) \n",
    "    S0  = np.where(S>1.e-10,S,1.e-10)\n",
    "    c0  = np.where(c>1.e-10,c,1.e-10)\n",
    "    lamda = np.sqrt(T0*c0)                \n",
    "    rho = r/lamda\n",
    "    tau = np.log(2*lamda/r*t/(c0*S0))\n",
    "    s = Q/(4*np.pi*T0)*func_F(rho,tau)\n",
    "    return s                             # drawdown \n",
    "\n",
    "def ExpInt(n,u):\n",
    "    # Fast approximation for Wu according to equation 7a and 7b from Srivastava(1998)\n",
    "    gamma = 0.5772 # Euler-Macheroni constant\n",
    "    u0  = np.where(u<1.0,u,1) \n",
    "    Wu0 = np.log(np.exp(-gamma)/u0) + 0.9653*u - 0.1690*u0**2\n",
    "    u1 = np.where(u>=1.0,u,1) \n",
    "    Wu1 = 1/(u1*np.exp(u1))*(u1+0.3575)/(u1+1.280)\n",
    "    Wu = np.where(u<1.0,Wu0,Wu1)\n",
    "    return Wu\n",
    "\n",
    "def func_F(rho,tau):\n",
    "    e = exp1(rho)\n",
    "    e0 = np.where(e>0,e,1.e-10)\n",
    "    w = (e0-BesselK(0,rho))/(e0-exp1(rho/2))\n",
    "    F0 = w*exp1(rho/2*np.exp(-tau))-(w-1)*exp1(rho*np.cosh(tau))  \n",
    "    F1 = 2*BesselK(0,rho) - w*exp1(rho/2*np.exp(tau)) + (w-1)*exp1(rho*np.cosh(tau)) \n",
    "    #w = (ExpInt(1,rho)-BesselK(0,rho))/(ExpInt(1,rho)-ExpInt(1,rho/2))\n",
    "    #F0 = w*ExpInt(1,rho/2*np.exp(-tau))-(w-1)*ExpInt(1,rho*np.cosh(tau))\n",
    "    #F1 = 2*BesselK(0,rho) - w*ExpInt(1,rho/2*np.exp(tau)) + (w-1)*ExpInt(1,rho*np.cosh(tau))    \n",
    "    return (tau<=0)*F0+(tau>0)*F1   \n",
    "\n",
    "def hoptim (x):     \n",
    "    global r,tfit,sfit\n",
    "    T = x[0]; S = x[1]; c = x[2] \n",
    "    s = heval (tfit,r,T,S,c,Q)\n",
    "    res = (s-sfit)\n",
    "    return sum(res*res)                 # function to be minimized\n",
    "\n",
    "def on_weval2_clicked(self):   \n",
    "    global r,df,tfit,sfit    \n",
    "    print ('Oude Korendijk pumping test') \n",
    "    r = w3r.value; print ('Distance to pumping well: '+str(r))\n",
    "    T = w2T.value; print ('Initial transmissivity: '+str(T)) \n",
    "    S = w2S.value; print ('Initial storativity: '+str(S))\n",
    "    c = wc.value; print ('Initial resistance: '+str(c))\n",
    "\n",
    "    if r <= 50:   \n",
    "        tfit = df['t1'].dropna()/60/24; sfit = df['s1'].dropna()\n",
    "    else:\n",
    "        tfit = df['t2'].dropna()/60/24; sfit =df['s2'].dropna()  \n",
    "        \n",
    "    # parameter estimation---------------------------------------------------------\n",
    "    [Tfit,Sfit,cfit] = fmin(hoptim, [T,S,c])\n",
    "\n",
    "    # post-processing--------------------------------------------------------------   \n",
    "    D = T/S;  #print ('D='+str(D))\n",
    "    s = heval (tfit,r,Tfit,Sfit,cfit,Q)\n",
    "    dev = sfit-s \n",
    "    dev2 = dev*dev; res = np.sqrt(sum(dev2))  #; print ('Residual = '+str(res)) \n",
    "    stde = np.sqrt(dev2.mean())\n",
    "    sr=2*dev.std()                            # to compare with hytool !\n",
    "    t = np.logspace(np.log10(tfit.min()),np.log10(tfit.max()),100)\n",
    "    fig = plt.figure(facecolor='w',figsize=(10,5)); ax = fig.add_subplot()\n",
    "    ax.set_xscale('log')\n",
    "    plt.plot(tfit,sfit,'o',label = 'measured') \n",
    "    plt.plot(t,heval(t,r,Tfit,Sfit,cfit,Q),'-', label = 'calculated', lw = 2)\n",
    "    plt.xlabel('time [d]'); plt.ylabel('drawdown [m]')\n",
    "    plt.title ('Oude Korendijk pumping test',fontsize=14)\n",
    "    plt.grid ()\n",
    "    plt.legend (loc='upper left',fontsize=12)\n",
    "    ax.text (0.04,0.5*sfit.max(),'$T =%.1f m^2/d $' % (Tfit, ),fontsize=12)\n",
    "    ax.text (0.04,0.4*sfit.max(),'$S =%.2e $' % (Sfit, ),fontsize=12)\n",
    "    ax.text (0.04,0.3*sfit.max(),'$c =%.0f d$' % (cfit, ),fontsize=12)\n",
    "    ax.text (0.04,0.2*sfit.max(),'$res = %.2e $' % (res, ),fontsize=12)\n",
    "    ax.text (0.04,0.1*sfit.max(),'$stdev = %.2e $' % (stde, ),fontsize=12)\n",
    "    ax.text (0.04,0,'$2stdev =%.2e $' % (sr, ),fontsize=12);\n",
    "\n",
    "weval2 = widgets.Button(description='Evaluate Hantush')        \n",
    "weval2.on_click(on_weval2_clicked)   \n",
    "widgets.VBox([weval2])"
   ]
  },
  {
   "cell_type": "markdown",
   "metadata": {
    "hideCode": false,
    "hidePrompt": false,
    "hide_input": true
   },
   "source": [
    "The test can be interpreted from the Theis or the Hantush point of view, i.e. without or with leakage from a layer with fixed head. Which of the two may be deduced from the data: will they fit onto the Theis type curve or, when not, do they match with one of the Hantush type curves. Other effects may also influence the data, like partial penetration of the screen in the aquifer, storage inside the well and delayed yield and, notably, any effects caused by non-linearity, such as non-constant aquifer thickness under the influence of the drawdown in water table aquifers. All such effects may play their role under various circumstances, but may initially be ignored, to be included only when the data show that it is necessary."
   ]
  },
  {
   "cell_type": "markdown",
   "metadata": {
    "hideCode": false,
    "hidePrompt": false
   },
   "source": [
    "## Conclusion\n",
    "\n",
    "This notebook shows how the analysis of a pumping test can be done by first exploring the data and then applying several methods to see what works. This notebook is a good reference as it is completely documented and clearly shows all the steps taken to explore the problem and to find one or more suitable answers."
   ]
  },
  {
   "cell_type": "markdown",
   "metadata": {
    "hideCode": false,
    "hidePrompt": false
   },
   "source": [
    "## Bibliography\n",
    "\n",
    "* Cooper H.H., Jacob C.E., A generalized graphical method for evaluating formation constants and summarizing well‐field history, Vol. 27(4), 526-534, 1946\n",
    "* de Glee G.J., Over grondwaterstromingen bij wateronttrekking door middel van putten, J. Waltman, Delft,  1930 (in Dutch)\n",
    "* Hantush M.S., Analysis of data from pumping tests in leaky aquifers, EOS, Vol. 37(6), 702-714, 1956\n",
    "* Hantush M.S., Flow of groundwater in relatively thick leaky aquifers, Water Res. Res., Vol. 3(2), 583-590, 1967\n",
    "* Hantush M.S., Jacob C.E., Non-steady radial flow in an infinite leaky aquifer, Trans. Am. Geophys. Union, Vol. 36, 95-100, 1955 \n",
    "* Holzbecher, E., Environmental Modeling using Matlab, Springer, Berlin Heidelberg, 2012\n",
    "* Kooper J., Beweging van het water in den bodem bij onttrekking door bronnen, De Ingenieur, Vol. 29(38), 697–706 and 29(39), 710–716, 1914 (in Dutch)\n",
    "* Krusemann G.P., de Ridder N.A., Untersuchung und Anwendung von Pumpversuchen, Verlagsges. R. Müller, Köln, 1973 (in German)\n",
    "* Krusemann G.P., de Ridder N.A., Analysis and evaluation of pumping test data, 2.Edition, Intern. Inst. for Land Reclamation and Improvement (ILRI), Publication 47, Wageningen, 1994, https://www.hydrology.nl/images/docs/dutch/key/Kruseman_and_De_Ridder_2000.pdf\n",
    "* Olsthoorn T., The Korendijk pumping test, https://notebook.community/Olsthoorn/TransientGroundwaterFlow/excercises_notebooks/Korendijk-ptest-theis, 2019\n",
    "* Renard P., Hytool: a hydrogeological toolbox. University of Neuchâtel, Switzerland, 2003\n",
    "* Renard P., The future of hydraulic tests, Hydrogeol. J., Vol. 13, 259-262, 2005\n",
    "* Thiem G., Hydrologische Methoden, J.M.Gebhardt, Leipzig, 1906 (in German)\n",
    "* Theis C.V., The relation between the lowering of the piezometric surface and the rate and duration of discharge of a well using ground-water storage, Transactions of the AGU, Vol. 16(2), 519-524, 1935\n",
    "* White R.W., Clebsch A., C.V. Theis - and a review of his life and work, in: Selected Contributions to Ground-Water Hydrology, US Geol. Survey Water-Supply Paper 2415, 1994, http://ponce.sdsu.edu/theis_biography.html \n",
    "* Wit K.E., De hydrologische bodemconstanten in de polder 'De Oude Korendijk' berekend uit pompproeven en laboratoriummetingen in ongeroerde monsters (The hydraulic characteristics of the Oude Korendijk polder, calculated from pumping test data and laboratory measurements of core samples), ICW Notas 190, 24p, 1963 (in Dutch)"
   ]
  },
  {
   "cell_type": "code",
   "execution_count": null,
   "metadata": {
    "hideCode": false,
    "hidePrompt": false,
    "hide_input": true
   },
   "outputs": [],
   "source": []
  }
 ],
 "metadata": {
  "hide_code_all_hidden": false,
  "hide_input": true,
  "kernelspec": {
   "display_name": "Python 3",
   "language": "python",
   "name": "python3"
  },
  "language_info": {
   "codemirror_mode": {
    "name": "ipython",
    "version": 3
   },
   "file_extension": ".py",
   "mimetype": "text/x-python",
   "name": "python",
   "nbconvert_exporter": "python",
   "pygments_lexer": "ipython3",
   "version": "3.7.6"
  },
  "toc": {
   "base_numbering": 1,
   "nav_menu": {},
   "number_sections": true,
   "sideBar": true,
   "skip_h1_title": true,
   "title_cell": "Table of Contents",
   "title_sidebar": "Contents",
   "toc_cell": true,
   "toc_position": {},
   "toc_section_display": true,
   "toc_window_display": true
  },
  "varInspector": {
   "cols": {
    "lenName": 16,
    "lenType": 16,
    "lenVar": 40
   },
   "kernels_config": {
    "python": {
     "delete_cmd_postfix": "",
     "delete_cmd_prefix": "del ",
     "library": "var_list.py",
     "varRefreshCmd": "print(var_dic_list())"
    },
    "r": {
     "delete_cmd_postfix": ") ",
     "delete_cmd_prefix": "rm(",
     "library": "var_list.r",
     "varRefreshCmd": "cat(var_dic_list()) "
    }
   },
   "position": {
    "height": "768.85px",
    "left": "838px",
    "right": "20px",
    "top": "154px",
    "width": "469px"
   },
   "types_to_exclude": [
    "module",
    "function",
    "builtin_function_or_method",
    "instance",
    "_Feature"
   ],
   "window_display": false
  }
 },
 "nbformat": 4,
 "nbformat_minor": 4
}
