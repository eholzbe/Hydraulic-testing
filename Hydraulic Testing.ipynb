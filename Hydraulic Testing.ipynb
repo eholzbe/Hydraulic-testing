{
 "cells": [
  {
   "cell_type": "markdown",
   "metadata": {
    "hideCode": false,
    "hidePrompt": false,
    "hide_input": true
   },
   "source": [
    "\n",
    "<font size = 6px, style=\"color:blue\">**Hydraulic Testing:  Pumping Test Evaluation**</font>\n",
    "\n",
    "\n",
    "Prof. habil. Dr.-Ing. Dipl.-Math. Ekkehard Holzbecher\n",
    "\n",
    "*Demo Oude Korendijk \n",
    "(partially adopted and modified from Olsthoorn)* \n",
    "https://notebook.community/Olsthoorn/TransientGroundwaterFlow/excercises_notebooks/Korendijk-ptest-theis\n"
   ]
  },
  {
   "cell_type": "markdown",
   "metadata": {
    "hideCode": false,
    "hidePrompt": false
   },
   "source": [
    "**Brief instruction for non-Pythonists:** The notebook is build of cells that can be read and viewed, but also edited and run. There are different types of cells (see dropdown list at the top ribbon). It is recommended not to edit if you don't know what you are doing! Only those cells indicated as code have to be run (use button at top ribbon). It is convenient to run all cells at start (button: *restart the kernel and re-run the whole notebook*) and to *toggle everything* (button). To re-run a single cell use the *Run* button or press *Shift-Return* keys together. "
   ]
  },
  {
   "cell_type": "markdown",
   "metadata": {
    "hideCode": false,
    "hidePrompt": false,
    "toc": true
   },
   "source": [
    "<h1>Table of Contents<span class=\"tocSkip\"></span></h1>\n",
    "<div class=\"toc\"><ul class=\"toc-item\"><li><span><a href=\"#Introduction\" data-toc-modified-id=\"Introduction-1\"><span class=\"toc-item-num\">1&nbsp;&nbsp;</span>Introduction</a></span></li><li><span><a href=\"#The-Oude-Korendijk-Pumping-Test\" data-toc-modified-id=\"The-Oude-Korendijk-Pumping-Test-2\"><span class=\"toc-item-num\">2&nbsp;&nbsp;</span>The Oude Korendijk Pumping Test</a></span></li><li><span><a href=\"#Interpretation-using-Data-for-Steady-State-Drawdown\" data-toc-modified-id=\"Interpretation-using-Data-for-Steady-State-Drawdown-3\"><span class=\"toc-item-num\">3&nbsp;&nbsp;</span>Interpretation using Data for Steady State Drawdown</a></span><ul class=\"toc-item\"><li><span><a href=\"#Confined-Aquifer\" data-toc-modified-id=\"Confined-Aquifer-3.1\"><span class=\"toc-item-num\">3.1&nbsp;&nbsp;</span>Confined Aquifer</a></span></li><li><span><a href=\"#Unconfined-Aquifer\" data-toc-modified-id=\"Unconfined-Aquifer-3.2\"><span class=\"toc-item-num\">3.2&nbsp;&nbsp;</span>Unconfined Aquifer</a></span></li><li><span><a href=\"#Leaky-Aquifer\" data-toc-modified-id=\"Leaky-Aquifer-3.3\"><span class=\"toc-item-num\">3.3&nbsp;&nbsp;</span>Leaky Aquifer</a></span></li></ul></li><li><span><a href=\"#Unsteady-Data-Input-and-Visualization\" data-toc-modified-id=\"Unsteady-Data-Input-and-Visualization-4\"><span class=\"toc-item-num\">4&nbsp;&nbsp;</span>Unsteady Data Input and Visualization</a></span></li><li><span><a href=\"#Interpretation-based-on-the-Theis-Solution-(Cooper-Jacob)\" data-toc-modified-id=\"Interpretation-based-on-the-Theis-Solution-(Cooper-Jacob)-5\"><span class=\"toc-item-num\">5&nbsp;&nbsp;</span>Interpretation based on the Theis Solution (Cooper-Jacob)</a></span></li><li><span><a href=\"#Classical-Interpretation-using-the-Match-on-Double-Log-Scales\" data-toc-modified-id=\"Classical-Interpretation-using-the-Match-on-Double-Log-Scales-6\"><span class=\"toc-item-num\">6&nbsp;&nbsp;</span>Classical Interpretation using the Match on Double Log Scales</a></span><ul class=\"toc-item\"><li><span><a href=\"#Manual-Fitting\" data-toc-modified-id=\"Manual-Fitting-6.1\"><span class=\"toc-item-num\">6.1&nbsp;&nbsp;</span>Manual Fitting</a></span></li><li><span><a href=\"#Using-the-Interface\" data-toc-modified-id=\"Using-the-Interface-6.2\"><span class=\"toc-item-num\">6.2&nbsp;&nbsp;</span>Using the Interface</a></span><ul class=\"toc-item\"><li><span><a href=\"#Multi-Graph\" data-toc-modified-id=\"Multi-Graph-6.2.1\"><span class=\"toc-item-num\">6.2.1&nbsp;&nbsp;</span>Multi-Graph</a></span></li><li><span><a href=\"#Single-Graph\" data-toc-modified-id=\"Single-Graph-6.2.2\"><span class=\"toc-item-num\">6.2.2&nbsp;&nbsp;</span>Single Graph</a></span></li><li><span><a href=\"#Fit-Measures\" data-toc-modified-id=\"Fit-Measures-6.2.3\"><span class=\"toc-item-num\">6.2.3&nbsp;&nbsp;</span>Fit Measures</a></span></li></ul></li></ul></li><li><span><a href=\"#Parameter-Estimation\" data-toc-modified-id=\"Parameter-Estimation-7\"><span class=\"toc-item-num\">7&nbsp;&nbsp;</span>Parameter Estimation</a></span><ul class=\"toc-item\"><li><span><a href=\"#Confined-Aquifer\" data-toc-modified-id=\"Confined-Aquifer-7.1\"><span class=\"toc-item-num\">7.1&nbsp;&nbsp;</span>Confined Aquifer</a></span></li><li><span><a href=\"#Leaky-Aquifer\" data-toc-modified-id=\"Leaky-Aquifer-7.2\"><span class=\"toc-item-num\">7.2&nbsp;&nbsp;</span>Leaky Aquifer</a></span></li></ul></li><li><span><a href=\"#Conclusion\" data-toc-modified-id=\"Conclusion-8\"><span class=\"toc-item-num\">8&nbsp;&nbsp;</span>Conclusion</a></span></li><li><span><a href=\"#Bibliography\" data-toc-modified-id=\"Bibliography-9\"><span class=\"toc-item-num\">9&nbsp;&nbsp;</span>Bibliography</a></span></li></ul></div>"
   ]
  },
  {
   "cell_type": "markdown",
   "metadata": {
    "hideCode": false,
    "hidePrompt": false
   },
   "source": [
    "## Introduction\n",
    "\n",
    "In a pumping test the drawdown of the water table in a piezometer is recorded, as response to pumping from a nearby well. Pumping tests belong into the common toolbox of hydro-geologists, used to obtain basic parameters for aquifer characterization. It is common practice to determine transmissivity (T) and storativity (S) from fitting 1D-analytical solutions to the observed drawdown. The application of this classical evaluation method is related to various idealized assumptions.\n",
    "\n",
    "The most important ones are listed in the sequel. The aquifer is homogeneous and isotropic, has a constant thickness and has infinite extend. The well is assumed to be ideal, i.e. it is screened over the entire thickness of the aquifer. The well diameter is small. Pumping is performed at constant rate.\n",
    "\n",
    "In 1970 Kruseman & de Ridder published the probably most used and referenced textbook on pumping test evaluations. A translation in German came out in 1973, in French 1974. The book was revised several times. The 1994 version is free available on the internet. The book covers evaluation methods for various types of aquifers and conditions on groundwater wells, including examples with data. In the book the most common method, introduced by Theis (1937), is outlined using a pumping test, performed at a location called the Oude Korendijk in the Netherlands.  "
   ]
  },
  {
   "cell_type": "markdown",
   "metadata": {
    "hideCode": false,
    "hidePrompt": false
   },
   "source": [
    "## The Oude Korendijk Pumping Test"
   ]
  },
  {
   "cell_type": "markdown",
   "metadata": {
    "hideCode": false,
    "hidePrompt": false
   },
   "source": [
    "In a report Wit (1963) describes and evaluates several pumping tests, performed in the Oude Korendijk polder areas. The one most cited test is identified as H2 in the original paper, which was performed on July 10$^{th}$1962. The figure below gives an impression on the type of landscape in polder areas in the Netherlands.    "
   ]
  },
  {
   "cell_type": "markdown",
   "metadata": {
    "hideCode": false,
    "hidePrompt": false,
    "hide_input": true
   },
   "source": [
    "<div><img src=\"OKfoto.png\" align=\"center\"/></div>"
   ]
  },
  {
   "cell_type": "markdown",
   "metadata": {
    "hideCode": false,
    "hidePrompt": false
   },
   "source": [
    "The locality south of Rotterdam is shown in the figures below, as depicted by Googlemaps and in the original report (Wit 1963). In the south, at the bottom of the figure, the Rhine river can be identified. The area is criss-crossed by various trenches for drainage.  "
   ]
  },
  {
   "cell_type": "markdown",
   "metadata": {
    "hideCode": false,
    "hidePrompt": false,
    "hide_input": false
   },
   "source": [
    " <tr>\n",
    "    <td> <img src=\"OK1a.png\" width=\"400\" height=\"270\"/> </td>\n",
    "    <td> <img src=\"OK1.png\" width=\"360\" height=\"240\"/> </td>\n",
    " </tr>"
   ]
  },
  {
   "cell_type": "markdown",
   "metadata": {
    "hideCode": false,
    "hidePrompt": false
   },
   "source": [
    "The Oude Korendijk pumping test is a test in a confined, leaky or unconfined setting, which yield a value for the aquifers' transmissivity and its storage coefficient. The following figure depicts a cross sectional view of the geological situation at the site (Wit 1963). The figure text is in Dutch; here some translations: pompput = pumping well, zand = sand, veen = peat, grint = gravel, peilfilter = filter. "
   ]
  },
  {
   "cell_type": "markdown",
   "metadata": {
    "hideCode": false,
    "hidePrompt": false,
    "hide_input": true
   },
   "source": [
    "<div><img src=\"OK2.png\" width=\"720\" align=\"center\"/></div>"
   ]
  },
  {
   "cell_type": "markdown",
   "metadata": {
    "hideCode": false,
    "hidePrompt": false
   },
   "source": [
    "The well was pumped with a constant rate of 788 m$^3$/d. There are four piezometers in the vicinity of the pumping well, which can be taken as observation points. The nearest is only 80 cm away from the well. The other three observation points are located in distances of 30 m, 90 m and 215 m. The following figure shows the locations and final drawdown in the Oude Korendijk pumping test measured after almost 14 hours past pump start."
   ]
  },
  {
   "cell_type": "markdown",
   "metadata": {
    "hideCode": false,
    "hidePrompt": false
   },
   "source": [
    "<div><img src=\"OK3.png\" width=\"720\" align=\"center\"/></div>"
   ]
  },
  {
   "cell_type": "markdown",
   "metadata": {
    "hideCode": false,
    "hidePrompt": false
   },
   "source": [
    "## Interpretation using Data for Steady State Drawdown"
   ]
  },
  {
   "cell_type": "markdown",
   "metadata": {
    "hideCode": false,
    "hidePrompt": false
   },
   "source": [
    "For all evaluations we need the pumping rate, here in physical units m$^3$/d: "
   ]
  },
  {
   "cell_type": "code",
   "execution_count": 1,
   "metadata": {
    "hideCode": false,
    "hidePrompt": false,
    "hide_input": false,
    "scrolled": false
   },
   "outputs": [
    {
     "data": {
      "application/vnd.jupyter.widget-view+json": {
       "model_id": "64e445e695c34cda873552d018bcd309",
       "version_major": 2,
       "version_minor": 0
      },
      "text/plain": [
       "BoundedFloatText(value=788.0, description='Pump rate:', max=1000.0, step=1.0)"
      ]
     },
     "metadata": {},
     "output_type": "display_data"
    }
   ],
   "source": [
    "from scipy.special import exp1\n",
    "import numpy as np\n",
    "import matplotlib.pyplot as plt\n",
    "import pandas as pd\n",
    "import ipywidgets as widgets\n",
    "#from IPython.display import display\n",
    "#from IPython.display import HTML\n",
    "#import IPython.core.display as di # Example: di.display_html('<h3>%s:</h3>' % str, raw=True)\n",
    "# This line will hide code by default when the notebook is exported as HTML\n",
    "#di.display_html('<script>jQuery(function() {if (jQuery(\"body.notebook_app\").length == 0) { jQuery(\".input_area\").toggle(); jQuery(\".prompt\").toggle();}});</script>', raw=True)\n",
    "#%matplotlib inline\n",
    "Q = 788.0\n",
    "wQ = widgets.BoundedFloatText(value=788, min=0, max=1000.0, step=1, description='Pump rate:', disabled=False)\n",
    "wQ"
   ]
  },
  {
   "cell_type": "markdown",
   "metadata": {
    "hideCode": false,
    "hidePrompt": false,
    "hide_input": true
   },
   "source": [
    "The input box is disabled as we deal here with the same one pumping test. For the following we need different combinations of two observation locations and the drawdowns measured there. In the boxes below enter distances and final drawdowns from the figure above (in meter)! Defaults are the inputs for the combination of boreholes H30 and H90."
   ]
  },
  {
   "cell_type": "code",
   "execution_count": 2,
   "metadata": {
    "hideCode": false,
    "hidePrompt": false,
    "hide_input": true,
    "scrolled": true
   },
   "outputs": [
    {
     "data": {
      "application/vnd.jupyter.widget-view+json": {
       "model_id": "bd16f84ea81e43cb810668efd18e83e6",
       "version_major": 2,
       "version_minor": 0
      },
      "text/plain": [
       "HBox(children=(BoundedFloatText(value=30.0, description='$r_1$:', max=215.0), BoundedFloatText(value=90.0, des…"
      ]
     },
     "metadata": {},
     "output_type": "display_data"
    }
   ],
   "source": [
    "wr1 = widgets.BoundedFloatText(value=30.0, min=0.0, max=215.0, description='$r_1$:', disabled=False)\n",
    "wr2 = widgets.BoundedFloatText(value=90.0, min=0.0, max=215.0, description='$r_2$:', disabled=False)\n",
    "widgets.HBox([wr1,wr2]) "
   ]
  },
  {
   "cell_type": "code",
   "execution_count": 3,
   "metadata": {
    "hideCode": false,
    "hidePrompt": false
   },
   "outputs": [
    {
     "data": {
      "application/vnd.jupyter.widget-view+json": {
       "model_id": "e4833987bf8d4ec29f642502a5aea788",
       "version_major": 2,
       "version_minor": 0
      },
      "text/plain": [
       "HBox(children=(BoundedFloatText(value=1.088, description='$s_1$:', max=3.0), BoundedFloatText(value=0.716, des…"
      ]
     },
     "metadata": {},
     "output_type": "display_data"
    }
   ],
   "source": [
    "ws1 = widgets.BoundedFloatText(value=1.088, min=0.0, max=3.0, description='$s_1$:', disabled=False)\n",
    "ws2 = widgets.BoundedFloatText(value=0.716, min=0.0, max=3.0, description='$s_2$:', disabled=False)\n",
    "widgets.HBox([ws1,ws2])"
   ]
  },
  {
   "cell_type": "markdown",
   "metadata": {
    "hideCode": false,
    "hidePrompt": false
   },
   "source": [
    "### Confined Aquifer\n",
    "The solution for the steady state drawdown $s$ in a distance $r$ from the pumping well after a long time of pumping was given by Thiem (1906)"
   ]
  },
  {
   "cell_type": "markdown",
   "metadata": {
    "hideCode": false,
    "hidePrompt": false
   },
   "source": [
    "$$ s(r) = -\\frac {Q} {2 \\pi T} \\ln (r)+C $$"
   ]
  },
  {
   "cell_type": "markdown",
   "metadata": {
    "hideCode": false,
    "hidePrompt": false
   },
   "source": [
    "The transmissivity $T$ is a property of the aquifer, characterizing its ability to conduct water. $Q$ denotes the pumping rate. $C$ is an integration constant that emerges due to the solution of a differential equation. If the final drawdown measures $s_1$ and $s_2$ are given at two observation points at different distances $r_1$ and $r_2$, the integration constant can be eliminated and a formula for the transmissivity results: "
   ]
  },
  {
   "cell_type": "markdown",
   "metadata": {
    "hideCode": false,
    "hidePrompt": false,
    "hide_input": false
   },
   "source": [
    "$$ T = \\frac {Q} {2 \\pi (s_1-s_2)} \\ln (r_2/r_1) $$"
   ]
  },
  {
   "cell_type": "markdown",
   "metadata": {
    "hideCode": false,
    "hidePrompt": false
   },
   "source": [
    "In the Oude Korendijk pump test a steady state was not reached. However, the difference between the drawdown values in the two major observation wells remains almost constant. We call this a quasi-steady state, assuming that the difference will be the same, when a stationary situation is reached. Click the button to see the result for transmissivity."
   ]
  },
  {
   "cell_type": "code",
   "execution_count": 4,
   "metadata": {
    "hideCode": false,
    "hidePrompt": false,
    "hide_input": true
   },
   "outputs": [
    {
     "data": {
      "application/vnd.jupyter.widget-view+json": {
       "model_id": "ceafca77f71047a4a2fc5b553ac25de1",
       "version_major": 2,
       "version_minor": 0
      },
      "text/plain": [
       "Button(description='Compute T', style=ButtonStyle())"
      ]
     },
     "metadata": {},
     "output_type": "display_data"
    }
   ],
   "source": [
    "btn = widgets.Button(description='Compute T')\n",
    "display(btn)\n",
    "\n",
    "def btn_eventhandler(obj):\n",
    "    global T1\n",
    "    Q = wQ.value         \n",
    "    r1 = wr1.value; s1 = ws1.value; r2 =wr2.value; s2 = ws2.value  # distances and drawdown \n",
    "    T1 = Q * np.log(r1/r2) / (2*np.pi*(s2-s1))\n",
    "    print('T = {:.0f} m\\u00b2/d'.format(T1))\n",
    "    \n",
    "btn.on_click(btn_eventhandler)     "
   ]
  },
  {
   "cell_type": "markdown",
   "metadata": {
    "hideCode": false,
    "hidePrompt": false
   },
   "source": [
    "In that way for $T$ six different values can be obtained using the different combinations of the observation values. In order to get only one value one may take some average of these. \n",
    "\n",
    "It is much better to find the Thiem curve that fits best with the data values. That can be done by using an optimization algorithm. Here we use linear regression in the semi-logarithmical coordinate system. The results difffer only slighly from results in real world coordinates. Get graphical and numerical results by using the buttons below.      "
   ]
  },
  {
   "cell_type": "code",
   "execution_count": 5,
   "metadata": {
    "hideCode": false,
    "hidePrompt": false,
    "hide_input": false
   },
   "outputs": [
    {
     "data": {
      "application/vnd.jupyter.widget-view+json": {
       "model_id": "055c56f1454746a89c397d08a0e9a373",
       "version_major": 2,
       "version_minor": 0
      },
      "text/plain": [
       "HBox(children=(Button(description='Confined aquifer fit', style=ButtonStyle()), Checkbox(value=False, descript…"
      ]
     },
     "metadata": {},
     "output_type": "display_data"
    }
   ],
   "source": [
    "%matplotlib inline\n",
    "plt.rcParams[\"figure.figsize\"] = (10,5) \n",
    "\n",
    "rfit = [0.8, 30, 90, 215]\n",
    "srfit = [2.235, 1.088, 0.716, 0.25] \n",
    "\n",
    "def on_wth_clicked(self):\n",
    "    global T1\n",
    "    n = len(rfit); lr = np.log(rfit)        # linear regression\n",
    "    p1 = (n*np.sum(lr*srfit)-np.sum(lr)*np.sum(srfit))/(n*np.sum(lr*lr)-np.sum(lr)**2)\n",
    "    p0 = (sum(srfit)-p1*sum(lr))/n\n",
    "    Q = wQ.value\n",
    "    T = -Q/2/np.pi/p1                       # transmissivity \n",
    "    R = np.exp(-p0/p1)                      # reach\n",
    "    sfit = -Q*(np.log(rfit)-np.log(R))/2/np.pi/T\n",
    "    norms = np.linalg.norm(srfit-sfit)\n",
    "    stdev = np.sqrt(np.mean((srfit-sfit)**2))\n",
    "    rmax = max(rfit); smax = max(srfit)\n",
    "    r = np.arange(.9*min(rfit), rmax, step = rmax/50)\n",
    "    s = -Q*(np.log(r)-np.log(R))/2/np.pi/T\n",
    "    fig = plt.figure(facecolor='w'); ax = fig.add_subplot()\n",
    "    if wca.value: \n",
    "        ax.set_xscale('log'); xtext = 1\n",
    "    else:\n",
    "        xtext = 130\n",
    "    plt.plot (rfit,srfit, 'o', label = 'observation' )\n",
    "    plt.plot (r,s, '.-', label = 'modelled' )\n",
    "    plt.xlabel('distance [m]',fontsize=12)\n",
    "    plt.ylabel('drawdown [m]',fontsize=12)\n",
    "    ax.grid(b=True, c='w', lw=2, ls='-')\n",
    "    plt.legend(loc = 'upper right',fontsize=12)\n",
    "    ax.text (xtext,.7*smax,'$T = %.1f m^2/d$' % (T, ),fontsize=12)\n",
    "    ax.text (xtext,.6*smax,'2-norm = $%.3e $' % (norms, ),fontsize=12)\n",
    "    ax.text (xtext,.5*smax,'stdev = $%.3e $' % (stdev, ),fontsize=12)\n",
    "    plt.title('Pump test: Oude Korendijk, Curve Fitting: Thiem', fontsize=14)\n",
    "    T1 = T\n",
    "\n",
    "wth = widgets.Button(description='Confined aquifer fit')        \n",
    "wth.on_click(on_wth_clicked)   \n",
    "wca = widgets.Checkbox(value=False, description='log', disabled=False, indent=False)\n",
    "widgets.HBox([wth,wca]) "
   ]
  },
  {
   "cell_type": "markdown",
   "metadata": {
    "hideCode": false,
    "hidePrompt": false,
    "hide_input": false
   },
   "source": [
    "The transmissivity is related to the conductivity $K$ of the porous medium in the aquifer by: $T=K \\cdot D$, where $D$ denotes the aquifer thickness. \n",
    "\n",
    "For the computation of the conductivity the aquifer thickness $D$ of the aquifer has to be given. "
   ]
  },
  {
   "cell_type": "code",
   "execution_count": 6,
   "metadata": {
    "hideCode": false,
    "hidePrompt": false,
    "hide_input": true,
    "scrolled": false
   },
   "outputs": [
    {
     "data": {
      "application/vnd.jupyter.widget-view+json": {
       "model_id": "5e1a12a1a95144a280aa5e608a356d38",
       "version_major": 2,
       "version_minor": 0
      },
      "text/plain": [
       "BoundedFloatText(value=10.0, description='Thickness:', max=15.0, min=1.0, step=1.5)"
      ]
     },
     "metadata": {},
     "output_type": "display_data"
    }
   ],
   "source": [
    "wD = widgets.BoundedFloatText(value=10, min=1, max=15.0, step=1.5, description='Thickness:', disabled=False)\n",
    "wD"
   ]
  },
  {
   "cell_type": "markdown",
   "metadata": {
    "hideCode": false,
    "hidePrompt": false,
    "hide_input": true
   },
   "source": [
    " Obtain the result for the hydraulic conductivity of the porous medium by clicking the button. "
   ]
  },
  {
   "cell_type": "code",
   "execution_count": 7,
   "metadata": {
    "hideCode": false,
    "hidePrompt": false,
    "hide_input": true,
    "scrolled": true
   },
   "outputs": [
    {
     "data": {
      "application/vnd.jupyter.widget-view+json": {
       "model_id": "8c401ecce11d462d930de5037797780e",
       "version_major": 2,
       "version_minor": 0
      },
      "text/plain": [
       "Button(description='Compute K', style=ButtonStyle())"
      ]
     },
     "metadata": {},
     "output_type": "display_data"
    }
   ],
   "source": [
    "btn = widgets.Button(description='Compute K')\n",
    "display(btn)\n",
    "\n",
    "def btn_eventhandler(obj):\n",
    "    global T1\n",
    "    display ('K = %.1f for T = %.1f and D = %.1f'% (T1/wD.value,T1,wD.value))\n",
    "    \n",
    "btn.on_click(btn_eventhandler)      "
   ]
  },
  {
   "cell_type": "markdown",
   "metadata": {
    "hideCode": false,
    "hidePrompt": false,
    "hide_input": true
   },
   "source": [
    "### Unconfined Aquifer \n",
    "The Thiem formula shown above holds for a confined aquifer. An analogous derivation derivation can be performed for an unconfined aquifer. The formula for the hydraulic head is:"
   ]
  },
  {
   "cell_type": "markdown",
   "metadata": {
    "hideCode": false,
    "hidePrompt": false
   },
   "source": [
    "$$ h^2(r) = \\frac {Q} {\\pi K} \\ln (r)+C $$"
   ]
  },
  {
   "cell_type": "markdown",
   "metadata": {
    "hideCode": false,
    "hidePrompt": false
   },
   "source": [
    "where $h$ denotes the piezometric head, measured from the aquifer base. From this one obtains: "
   ]
  },
  {
   "cell_type": "markdown",
   "metadata": {
    "hideCode": false,
    "hidePrompt": false,
    "hide_input": false
   },
   "source": [
    "$$ K = \\frac {Q} {\\pi (h_2^2-h_1^2)} \\ln (r_2/r_1) $$"
   ]
  },
  {
   "cell_type": "markdown",
   "metadata": {
    "hideCode": false,
    "hidePrompt": false
   },
   "source": [
    "For the calculation the constant initial head is required. Enter it here: "
   ]
  },
  {
   "cell_type": "code",
   "execution_count": 8,
   "metadata": {
    "hideCode": false,
    "hidePrompt": false,
    "hide_input": true,
    "scrolled": false
   },
   "outputs": [
    {
     "data": {
      "application/vnd.jupyter.widget-view+json": {
       "model_id": "75e53c94631b4371ada9702a5b64a701",
       "version_major": 2,
       "version_minor": 0
      },
      "text/plain": [
       "BoundedFloatText(value=10.0, description='Initial head:', max=15.0, min=1.0, step=1.5)"
      ]
     },
     "metadata": {},
     "output_type": "display_data"
    }
   ],
   "source": [
    "wH = widgets.BoundedFloatText(value=10, min=1, max=15.0, step=1.5, description='Initial head:', disabled=False)\n",
    "wH"
   ]
  },
  {
   "cell_type": "markdown",
   "metadata": {
    "hideCode": false,
    "hidePrompt": false
   },
   "source": [
    " and obtain the result by clicking the button. "
   ]
  },
  {
   "cell_type": "code",
   "execution_count": 9,
   "metadata": {
    "hideCode": false,
    "hidePrompt": false,
    "hide_input": true,
    "scrolled": false
   },
   "outputs": [
    {
     "data": {
      "application/vnd.jupyter.widget-view+json": {
       "model_id": "657e109669ec43869aae1d4ac3f4f6db",
       "version_major": 2,
       "version_minor": 0
      },
      "text/plain": [
       "Button(description='Compute K', style=ButtonStyle())"
      ]
     },
     "metadata": {},
     "output_type": "display_data"
    }
   ],
   "source": [
    "btn = widgets.Button(description='Compute K')\n",
    "display(btn)\n",
    "\n",
    "def btn_eventhandler(obj):\n",
    "    r1 = wr1.value; s1 = ws1.value; r2 =wr2.value; s2 = ws2.value  # distances and drawdown \n",
    "    h1 = wH.value-s1; h2 = wH.value-s2\n",
    "    Q = wQ.value\n",
    "    K1 = Q * np.log(r2/r1) / np.pi / (h2**2-h1**2)\n",
    "    print('K = {:.1f} m/d'.format(K1))\n",
    "    \n",
    "btn.on_click(btn_eventhandler)     "
   ]
  },
  {
   "cell_type": "markdown",
   "metadata": {
    "hideCode": false,
    "hidePrompt": false
   },
   "source": [
    "Also for this pumping we don't know the exact value of the initial head. Change its value and see the effect on the resulting conductivity! \n",
    "Compare the result with the conductivities that results from the Thiem evaluation for the confined aquifer, identifying the aquifer thickness with the initial head."
   ]
  },
  {
   "cell_type": "markdown",
   "metadata": {
    "hideCode": false,
    "hidePrompt": false
   },
   "source": [
    "**Task**: Use the Thiem evaluation for the steady state taking the measurements at the near and far observation points also into consideration. Examine results for different pairs of observations!  \n",
    "\n",
    "Lets calculate the hydraulic conductivity from a best fit using all four measured drawdown values. Again we use linear regression in semi-logarithmic coordinates. Click the button!"
   ]
  },
  {
   "cell_type": "code",
   "execution_count": 10,
   "metadata": {
    "hideCode": false,
    "hidePrompt": false,
    "hide_input": true
   },
   "outputs": [
    {
     "data": {
      "application/vnd.jupyter.widget-view+json": {
       "model_id": "cf411ce3fc1c43e098c85948b089f510",
       "version_major": 2,
       "version_minor": 0
      },
      "text/plain": [
       "HBox(children=(Button(description='Unconfined aquifer fit', style=ButtonStyle()), Checkbox(value=False, descri…"
      ]
     },
     "metadata": {},
     "output_type": "display_data"
    }
   ],
   "source": [
    "%matplotlib inline\n",
    "plt.rcParams[\"figure.figsize\"] = (10,5) \n",
    "\n",
    "rfit = np.array([0.8, 30, 90, 215])\n",
    "srfit = np.array([2.235, 1.088, 0.716, 0.25]) \n",
    "\n",
    "def on_wth2_clicked(self):\n",
    "    h0 = wH.value                       \n",
    "    if h0 < 8.5:                # from  MATLAB lsqcurvefit using real world coordinates\n",
    "        K = 64.0; R = 854.4                 # h0 = 7\n",
    "    else:\n",
    "        if h0 > 8.5:\n",
    "            K = 41.6; R = 749.8             # h0 = 10\n",
    "        else:\n",
    "            K = 50.4; R = 789.1             # h0 = 8.5\n",
    "    \n",
    "    srfit = np.array([2.235, 1.088, 0.716, 0.25]) \n",
    "    h2fit = (h0-srfit)**2                   # linear regression\n",
    "    n = len(rfit); lr = np.log(rfit)        \n",
    "    p1 = (n*np.sum(lr*h2fit)-np.sum(lr)*np.sum(h2fit))/(n*np.sum(lr*lr)-np.sum(lr)**2)\n",
    "    p0 = (sum(h2fit)-p1*sum(lr))/n\n",
    "    Q = wQ.value\n",
    "    K = Q/np.pi/p1                          # conductivity \n",
    "    R = np.exp((h0*h0-p0)/p1)                      # reach\n",
    "    hrfit = h0 - srfit \n",
    "    hfit = np.sqrt(h0*h0+Q*(np.log(rfit)-np.log(R))/np.pi/K)\n",
    "    norms = np.linalg.norm(hrfit-hfit)\n",
    "    stdev = np.sqrt(np.mean((hrfit-hfit)**2))\n",
    "    rmax = max(rfit); smax = max(srfit)\n",
    "    r = np.arange(.9*min(rfit), rmax, step = rmax/50)\n",
    "    h = np.sqrt(h0*h0+Q*(np.log(r)-np.log(R))/np.pi/K)\n",
    "    fig = plt.figure(facecolor='w'); ax = fig.add_subplot()\n",
    "    if wca2.value: \n",
    "        ax.set_xscale('log'); xtext = 1; ytext = h0-smax;\n",
    "    else:\n",
    "        xtext = 130; ytext = h0-1.3*smax \n",
    "    plt.plot (rfit,hrfit, 'o', label = 'observation' )\n",
    "    plt.plot (r,h, '.-', label = 'modelled' )\n",
    "    plt.xlabel('distance [m]',fontsize=12)\n",
    "    plt.ylabel('groundwater table [m]',fontsize=12)\n",
    "    ax.grid(b=True, c='w', lw=2, ls='-')\n",
    "    plt.legend(loc = 'lower right',fontsize=12)\n",
    "    \n",
    "    ax.text (xtext,ytext+.7*smax,'$K = %.1f m/d$' % (K, ),fontsize=12)\n",
    "    ax.text (xtext,ytext+.6*smax,'2-norm = $%.3e $' % (norms, ),fontsize=12)\n",
    "    ax.text (xtext,ytext+.5*smax,'stdev = $%.3e $' % (stdev, ),fontsize=12)\n",
    "    plt.title('Pump test: Oude Korendijk, Curve Fitting: Thiem', fontsize=14)\n",
    "\n",
    "wth2 = widgets.Button(description='Unconfined aquifer fit')        \n",
    "wth2.on_click(on_wth2_clicked)   \n",
    "wca2 = widgets.Checkbox(value=False, description='log', disabled=False, indent=False)\n",
    "widgets.HBox([wth2,wca2]) "
   ]
  },
  {
   "cell_type": "markdown",
   "metadata": {
    "hideCode": false,
    "hidePrompt": false,
    "hide_input": false
   },
   "source": [
    "### Leaky Aquifer\n",
    "Kooper (1914) and de Glee (1930) developed an expression for the steady drawdown in a leaky aquifer. The overlying semi-permeable layer is characterized by its vertical flow resistance $c$, which has the unit of time. The formula is:  "
   ]
  },
  {
   "cell_type": "markdown",
   "metadata": {
    "hideCode": false,
    "hidePrompt": false,
    "hide_input": false
   },
   "source": [
    "$$ s(r) = \\frac{Q}{2 \\pi T} K_0(\\frac{r}{\\sqrt{Tc}}) $$"
   ]
  },
  {
   "cell_type": "markdown",
   "metadata": {
    "hideCode": false,
    "hidePrompt": false
   },
   "source": [
    "where $K_0$ denotes the modified Bessel function 2. type 0. order. We can obtain values for the two parameters $T$ and $c$ by fitting to the measurements at all four locations using the method of least squares. This is done running the following cell."
   ]
  },
  {
   "cell_type": "code",
   "execution_count": 11,
   "metadata": {
    "hideCode": false,
    "hidePrompt": false,
    "hide_input": false,
    "scrolled": false
   },
   "outputs": [
    {
     "data": {
      "application/vnd.jupyter.widget-view+json": {
       "model_id": "a92f42e8445546ddb7efea9917991b28",
       "version_major": 2,
       "version_minor": 0
      },
      "text/plain": [
       "HBox(children=(Button(description='Leaky aquifer fit', style=ButtonStyle()), Checkbox(value=False, description…"
      ]
     },
     "metadata": {},
     "output_type": "display_data"
    },
    {
     "name": "stdout",
     "output_type": "stream",
     "text": [
      "Optimization terminated successfully.\n",
      "         Current function value: 0.024876\n",
      "         Iterations: 58\n",
      "         Function evaluations: 112\n"
     ]
    },
    {
     "data": {
      "application/javascript": [
       "/* Put everything inside the global mpl namespace */\n",
       "window.mpl = {};\n",
       "\n",
       "\n",
       "mpl.get_websocket_type = function() {\n",
       "    if (typeof(WebSocket) !== 'undefined') {\n",
       "        return WebSocket;\n",
       "    } else if (typeof(MozWebSocket) !== 'undefined') {\n",
       "        return MozWebSocket;\n",
       "    } else {\n",
       "        alert('Your browser does not have WebSocket support. ' +\n",
       "              'Please try Chrome, Safari or Firefox ≥ 6. ' +\n",
       "              'Firefox 4 and 5 are also supported but you ' +\n",
       "              'have to enable WebSockets in about:config.');\n",
       "    };\n",
       "}\n",
       "\n",
       "mpl.figure = function(figure_id, websocket, ondownload, parent_element) {\n",
       "    this.id = figure_id;\n",
       "\n",
       "    this.ws = websocket;\n",
       "\n",
       "    this.supports_binary = (this.ws.binaryType != undefined);\n",
       "\n",
       "    if (!this.supports_binary) {\n",
       "        var warnings = document.getElementById(\"mpl-warnings\");\n",
       "        if (warnings) {\n",
       "            warnings.style.display = 'block';\n",
       "            warnings.textContent = (\n",
       "                \"This browser does not support binary websocket messages. \" +\n",
       "                    \"Performance may be slow.\");\n",
       "        }\n",
       "    }\n",
       "\n",
       "    this.imageObj = new Image();\n",
       "\n",
       "    this.context = undefined;\n",
       "    this.message = undefined;\n",
       "    this.canvas = undefined;\n",
       "    this.rubberband_canvas = undefined;\n",
       "    this.rubberband_context = undefined;\n",
       "    this.format_dropdown = undefined;\n",
       "\n",
       "    this.image_mode = 'full';\n",
       "\n",
       "    this.root = $('<div/>');\n",
       "    this._root_extra_style(this.root)\n",
       "    this.root.attr('style', 'display: inline-block');\n",
       "\n",
       "    $(parent_element).append(this.root);\n",
       "\n",
       "    this._init_header(this);\n",
       "    this._init_canvas(this);\n",
       "    this._init_toolbar(this);\n",
       "\n",
       "    var fig = this;\n",
       "\n",
       "    this.waiting = false;\n",
       "\n",
       "    this.ws.onopen =  function () {\n",
       "            fig.send_message(\"supports_binary\", {value: fig.supports_binary});\n",
       "            fig.send_message(\"send_image_mode\", {});\n",
       "            if (mpl.ratio != 1) {\n",
       "                fig.send_message(\"set_dpi_ratio\", {'dpi_ratio': mpl.ratio});\n",
       "            }\n",
       "            fig.send_message(\"refresh\", {});\n",
       "        }\n",
       "\n",
       "    this.imageObj.onload = function() {\n",
       "            if (fig.image_mode == 'full') {\n",
       "                // Full images could contain transparency (where diff images\n",
       "                // almost always do), so we need to clear the canvas so that\n",
       "                // there is no ghosting.\n",
       "                fig.context.clearRect(0, 0, fig.canvas.width, fig.canvas.height);\n",
       "            }\n",
       "            fig.context.drawImage(fig.imageObj, 0, 0);\n",
       "        };\n",
       "\n",
       "    this.imageObj.onunload = function() {\n",
       "        fig.ws.close();\n",
       "    }\n",
       "\n",
       "    this.ws.onmessage = this._make_on_message_function(this);\n",
       "\n",
       "    this.ondownload = ondownload;\n",
       "}\n",
       "\n",
       "mpl.figure.prototype._init_header = function() {\n",
       "    var titlebar = $(\n",
       "        '<div class=\"ui-dialog-titlebar ui-widget-header ui-corner-all ' +\n",
       "        'ui-helper-clearfix\"/>');\n",
       "    var titletext = $(\n",
       "        '<div class=\"ui-dialog-title\" style=\"width: 100%; ' +\n",
       "        'text-align: center; padding: 3px;\"/>');\n",
       "    titlebar.append(titletext)\n",
       "    this.root.append(titlebar);\n",
       "    this.header = titletext[0];\n",
       "}\n",
       "\n",
       "\n",
       "\n",
       "mpl.figure.prototype._canvas_extra_style = function(canvas_div) {\n",
       "\n",
       "}\n",
       "\n",
       "\n",
       "mpl.figure.prototype._root_extra_style = function(canvas_div) {\n",
       "\n",
       "}\n",
       "\n",
       "mpl.figure.prototype._init_canvas = function() {\n",
       "    var fig = this;\n",
       "\n",
       "    var canvas_div = $('<div/>');\n",
       "\n",
       "    canvas_div.attr('style', 'position: relative; clear: both; outline: 0');\n",
       "\n",
       "    function canvas_keyboard_event(event) {\n",
       "        return fig.key_event(event, event['data']);\n",
       "    }\n",
       "\n",
       "    canvas_div.keydown('key_press', canvas_keyboard_event);\n",
       "    canvas_div.keyup('key_release', canvas_keyboard_event);\n",
       "    this.canvas_div = canvas_div\n",
       "    this._canvas_extra_style(canvas_div)\n",
       "    this.root.append(canvas_div);\n",
       "\n",
       "    var canvas = $('<canvas/>');\n",
       "    canvas.addClass('mpl-canvas');\n",
       "    canvas.attr('style', \"left: 0; top: 0; z-index: 0; outline: 0\")\n",
       "\n",
       "    this.canvas = canvas[0];\n",
       "    this.context = canvas[0].getContext(\"2d\");\n",
       "\n",
       "    var backingStore = this.context.backingStorePixelRatio ||\n",
       "\tthis.context.webkitBackingStorePixelRatio ||\n",
       "\tthis.context.mozBackingStorePixelRatio ||\n",
       "\tthis.context.msBackingStorePixelRatio ||\n",
       "\tthis.context.oBackingStorePixelRatio ||\n",
       "\tthis.context.backingStorePixelRatio || 1;\n",
       "\n",
       "    mpl.ratio = (window.devicePixelRatio || 1) / backingStore;\n",
       "\n",
       "    var rubberband = $('<canvas/>');\n",
       "    rubberband.attr('style', \"position: absolute; left: 0; top: 0; z-index: 1;\")\n",
       "\n",
       "    var pass_mouse_events = true;\n",
       "\n",
       "    canvas_div.resizable({\n",
       "        start: function(event, ui) {\n",
       "            pass_mouse_events = false;\n",
       "        },\n",
       "        resize: function(event, ui) {\n",
       "            fig.request_resize(ui.size.width, ui.size.height);\n",
       "        },\n",
       "        stop: function(event, ui) {\n",
       "            pass_mouse_events = true;\n",
       "            fig.request_resize(ui.size.width, ui.size.height);\n",
       "        },\n",
       "    });\n",
       "\n",
       "    function mouse_event_fn(event) {\n",
       "        if (pass_mouse_events)\n",
       "            return fig.mouse_event(event, event['data']);\n",
       "    }\n",
       "\n",
       "    rubberband.mousedown('button_press', mouse_event_fn);\n",
       "    rubberband.mouseup('button_release', mouse_event_fn);\n",
       "    // Throttle sequential mouse events to 1 every 20ms.\n",
       "    rubberband.mousemove('motion_notify', mouse_event_fn);\n",
       "\n",
       "    rubberband.mouseenter('figure_enter', mouse_event_fn);\n",
       "    rubberband.mouseleave('figure_leave', mouse_event_fn);\n",
       "\n",
       "    canvas_div.on(\"wheel\", function (event) {\n",
       "        event = event.originalEvent;\n",
       "        event['data'] = 'scroll'\n",
       "        if (event.deltaY < 0) {\n",
       "            event.step = 1;\n",
       "        } else {\n",
       "            event.step = -1;\n",
       "        }\n",
       "        mouse_event_fn(event);\n",
       "    });\n",
       "\n",
       "    canvas_div.append(canvas);\n",
       "    canvas_div.append(rubberband);\n",
       "\n",
       "    this.rubberband = rubberband;\n",
       "    this.rubberband_canvas = rubberband[0];\n",
       "    this.rubberband_context = rubberband[0].getContext(\"2d\");\n",
       "    this.rubberband_context.strokeStyle = \"#000000\";\n",
       "\n",
       "    this._resize_canvas = function(width, height) {\n",
       "        // Keep the size of the canvas, canvas container, and rubber band\n",
       "        // canvas in synch.\n",
       "        canvas_div.css('width', width)\n",
       "        canvas_div.css('height', height)\n",
       "\n",
       "        canvas.attr('width', width * mpl.ratio);\n",
       "        canvas.attr('height', height * mpl.ratio);\n",
       "        canvas.attr('style', 'width: ' + width + 'px; height: ' + height + 'px;');\n",
       "\n",
       "        rubberband.attr('width', width);\n",
       "        rubberband.attr('height', height);\n",
       "    }\n",
       "\n",
       "    // Set the figure to an initial 600x600px, this will subsequently be updated\n",
       "    // upon first draw.\n",
       "    this._resize_canvas(600, 600);\n",
       "\n",
       "    // Disable right mouse context menu.\n",
       "    $(this.rubberband_canvas).bind(\"contextmenu\",function(e){\n",
       "        return false;\n",
       "    });\n",
       "\n",
       "    function set_focus () {\n",
       "        canvas.focus();\n",
       "        canvas_div.focus();\n",
       "    }\n",
       "\n",
       "    window.setTimeout(set_focus, 100);\n",
       "}\n",
       "\n",
       "mpl.figure.prototype._init_toolbar = function() {\n",
       "    var fig = this;\n",
       "\n",
       "    var nav_element = $('<div/>');\n",
       "    nav_element.attr('style', 'width: 100%');\n",
       "    this.root.append(nav_element);\n",
       "\n",
       "    // Define a callback function for later on.\n",
       "    function toolbar_event(event) {\n",
       "        return fig.toolbar_button_onclick(event['data']);\n",
       "    }\n",
       "    function toolbar_mouse_event(event) {\n",
       "        return fig.toolbar_button_onmouseover(event['data']);\n",
       "    }\n",
       "\n",
       "    for(var toolbar_ind in mpl.toolbar_items) {\n",
       "        var name = mpl.toolbar_items[toolbar_ind][0];\n",
       "        var tooltip = mpl.toolbar_items[toolbar_ind][1];\n",
       "        var image = mpl.toolbar_items[toolbar_ind][2];\n",
       "        var method_name = mpl.toolbar_items[toolbar_ind][3];\n",
       "\n",
       "        if (!name) {\n",
       "            // put a spacer in here.\n",
       "            continue;\n",
       "        }\n",
       "        var button = $('<button/>');\n",
       "        button.addClass('ui-button ui-widget ui-state-default ui-corner-all ' +\n",
       "                        'ui-button-icon-only');\n",
       "        button.attr('role', 'button');\n",
       "        button.attr('aria-disabled', 'false');\n",
       "        button.click(method_name, toolbar_event);\n",
       "        button.mouseover(tooltip, toolbar_mouse_event);\n",
       "\n",
       "        var icon_img = $('<span/>');\n",
       "        icon_img.addClass('ui-button-icon-primary ui-icon');\n",
       "        icon_img.addClass(image);\n",
       "        icon_img.addClass('ui-corner-all');\n",
       "\n",
       "        var tooltip_span = $('<span/>');\n",
       "        tooltip_span.addClass('ui-button-text');\n",
       "        tooltip_span.html(tooltip);\n",
       "\n",
       "        button.append(icon_img);\n",
       "        button.append(tooltip_span);\n",
       "\n",
       "        nav_element.append(button);\n",
       "    }\n",
       "\n",
       "    var fmt_picker_span = $('<span/>');\n",
       "\n",
       "    var fmt_picker = $('<select/>');\n",
       "    fmt_picker.addClass('mpl-toolbar-option ui-widget ui-widget-content');\n",
       "    fmt_picker_span.append(fmt_picker);\n",
       "    nav_element.append(fmt_picker_span);\n",
       "    this.format_dropdown = fmt_picker[0];\n",
       "\n",
       "    for (var ind in mpl.extensions) {\n",
       "        var fmt = mpl.extensions[ind];\n",
       "        var option = $(\n",
       "            '<option/>', {selected: fmt === mpl.default_extension}).html(fmt);\n",
       "        fmt_picker.append(option);\n",
       "    }\n",
       "\n",
       "    // Add hover states to the ui-buttons\n",
       "    $( \".ui-button\" ).hover(\n",
       "        function() { $(this).addClass(\"ui-state-hover\");},\n",
       "        function() { $(this).removeClass(\"ui-state-hover\");}\n",
       "    );\n",
       "\n",
       "    var status_bar = $('<span class=\"mpl-message\"/>');\n",
       "    nav_element.append(status_bar);\n",
       "    this.message = status_bar[0];\n",
       "}\n",
       "\n",
       "mpl.figure.prototype.request_resize = function(x_pixels, y_pixels) {\n",
       "    // Request matplotlib to resize the figure. Matplotlib will then trigger a resize in the client,\n",
       "    // which will in turn request a refresh of the image.\n",
       "    this.send_message('resize', {'width': x_pixels, 'height': y_pixels});\n",
       "}\n",
       "\n",
       "mpl.figure.prototype.send_message = function(type, properties) {\n",
       "    properties['type'] = type;\n",
       "    properties['figure_id'] = this.id;\n",
       "    this.ws.send(JSON.stringify(properties));\n",
       "}\n",
       "\n",
       "mpl.figure.prototype.send_draw_message = function() {\n",
       "    if (!this.waiting) {\n",
       "        this.waiting = true;\n",
       "        this.ws.send(JSON.stringify({type: \"draw\", figure_id: this.id}));\n",
       "    }\n",
       "}\n",
       "\n",
       "\n",
       "mpl.figure.prototype.handle_save = function(fig, msg) {\n",
       "    var format_dropdown = fig.format_dropdown;\n",
       "    var format = format_dropdown.options[format_dropdown.selectedIndex].value;\n",
       "    fig.ondownload(fig, format);\n",
       "}\n",
       "\n",
       "\n",
       "mpl.figure.prototype.handle_resize = function(fig, msg) {\n",
       "    var size = msg['size'];\n",
       "    if (size[0] != fig.canvas.width || size[1] != fig.canvas.height) {\n",
       "        fig._resize_canvas(size[0], size[1]);\n",
       "        fig.send_message(\"refresh\", {});\n",
       "    };\n",
       "}\n",
       "\n",
       "mpl.figure.prototype.handle_rubberband = function(fig, msg) {\n",
       "    var x0 = msg['x0'] / mpl.ratio;\n",
       "    var y0 = (fig.canvas.height - msg['y0']) / mpl.ratio;\n",
       "    var x1 = msg['x1'] / mpl.ratio;\n",
       "    var y1 = (fig.canvas.height - msg['y1']) / mpl.ratio;\n",
       "    x0 = Math.floor(x0) + 0.5;\n",
       "    y0 = Math.floor(y0) + 0.5;\n",
       "    x1 = Math.floor(x1) + 0.5;\n",
       "    y1 = Math.floor(y1) + 0.5;\n",
       "    var min_x = Math.min(x0, x1);\n",
       "    var min_y = Math.min(y0, y1);\n",
       "    var width = Math.abs(x1 - x0);\n",
       "    var height = Math.abs(y1 - y0);\n",
       "\n",
       "    fig.rubberband_context.clearRect(\n",
       "        0, 0, fig.canvas.width / mpl.ratio, fig.canvas.height / mpl.ratio);\n",
       "\n",
       "    fig.rubberband_context.strokeRect(min_x, min_y, width, height);\n",
       "}\n",
       "\n",
       "mpl.figure.prototype.handle_figure_label = function(fig, msg) {\n",
       "    // Updates the figure title.\n",
       "    fig.header.textContent = msg['label'];\n",
       "}\n",
       "\n",
       "mpl.figure.prototype.handle_cursor = function(fig, msg) {\n",
       "    var cursor = msg['cursor'];\n",
       "    switch(cursor)\n",
       "    {\n",
       "    case 0:\n",
       "        cursor = 'pointer';\n",
       "        break;\n",
       "    case 1:\n",
       "        cursor = 'default';\n",
       "        break;\n",
       "    case 2:\n",
       "        cursor = 'crosshair';\n",
       "        break;\n",
       "    case 3:\n",
       "        cursor = 'move';\n",
       "        break;\n",
       "    }\n",
       "    fig.rubberband_canvas.style.cursor = cursor;\n",
       "}\n",
       "\n",
       "mpl.figure.prototype.handle_message = function(fig, msg) {\n",
       "    fig.message.textContent = msg['message'];\n",
       "}\n",
       "\n",
       "mpl.figure.prototype.handle_draw = function(fig, msg) {\n",
       "    // Request the server to send over a new figure.\n",
       "    fig.send_draw_message();\n",
       "}\n",
       "\n",
       "mpl.figure.prototype.handle_image_mode = function(fig, msg) {\n",
       "    fig.image_mode = msg['mode'];\n",
       "}\n",
       "\n",
       "mpl.figure.prototype.updated_canvas_event = function() {\n",
       "    // Called whenever the canvas gets updated.\n",
       "    this.send_message(\"ack\", {});\n",
       "}\n",
       "\n",
       "// A function to construct a web socket function for onmessage handling.\n",
       "// Called in the figure constructor.\n",
       "mpl.figure.prototype._make_on_message_function = function(fig) {\n",
       "    return function socket_on_message(evt) {\n",
       "        if (evt.data instanceof Blob) {\n",
       "            /* FIXME: We get \"Resource interpreted as Image but\n",
       "             * transferred with MIME type text/plain:\" errors on\n",
       "             * Chrome.  But how to set the MIME type?  It doesn't seem\n",
       "             * to be part of the websocket stream */\n",
       "            evt.data.type = \"image/png\";\n",
       "\n",
       "            /* Free the memory for the previous frames */\n",
       "            if (fig.imageObj.src) {\n",
       "                (window.URL || window.webkitURL).revokeObjectURL(\n",
       "                    fig.imageObj.src);\n",
       "            }\n",
       "\n",
       "            fig.imageObj.src = (window.URL || window.webkitURL).createObjectURL(\n",
       "                evt.data);\n",
       "            fig.updated_canvas_event();\n",
       "            fig.waiting = false;\n",
       "            return;\n",
       "        }\n",
       "        else if (typeof evt.data === 'string' && evt.data.slice(0, 21) == \"data:image/png;base64\") {\n",
       "            fig.imageObj.src = evt.data;\n",
       "            fig.updated_canvas_event();\n",
       "            fig.waiting = false;\n",
       "            return;\n",
       "        }\n",
       "\n",
       "        var msg = JSON.parse(evt.data);\n",
       "        var msg_type = msg['type'];\n",
       "\n",
       "        // Call the  \"handle_{type}\" callback, which takes\n",
       "        // the figure and JSON message as its only arguments.\n",
       "        try {\n",
       "            var callback = fig[\"handle_\" + msg_type];\n",
       "        } catch (e) {\n",
       "            console.log(\"No handler for the '\" + msg_type + \"' message type: \", msg);\n",
       "            return;\n",
       "        }\n",
       "\n",
       "        if (callback) {\n",
       "            try {\n",
       "                // console.log(\"Handling '\" + msg_type + \"' message: \", msg);\n",
       "                callback(fig, msg);\n",
       "            } catch (e) {\n",
       "                console.log(\"Exception inside the 'handler_\" + msg_type + \"' callback:\", e, e.stack, msg);\n",
       "            }\n",
       "        }\n",
       "    };\n",
       "}\n",
       "\n",
       "// from http://stackoverflow.com/questions/1114465/getting-mouse-location-in-canvas\n",
       "mpl.findpos = function(e) {\n",
       "    //this section is from http://www.quirksmode.org/js/events_properties.html\n",
       "    var targ;\n",
       "    if (!e)\n",
       "        e = window.event;\n",
       "    if (e.target)\n",
       "        targ = e.target;\n",
       "    else if (e.srcElement)\n",
       "        targ = e.srcElement;\n",
       "    if (targ.nodeType == 3) // defeat Safari bug\n",
       "        targ = targ.parentNode;\n",
       "\n",
       "    // jQuery normalizes the pageX and pageY\n",
       "    // pageX,Y are the mouse positions relative to the document\n",
       "    // offset() returns the position of the element relative to the document\n",
       "    var x = e.pageX - $(targ).offset().left;\n",
       "    var y = e.pageY - $(targ).offset().top;\n",
       "\n",
       "    return {\"x\": x, \"y\": y};\n",
       "};\n",
       "\n",
       "/*\n",
       " * return a copy of an object with only non-object keys\n",
       " * we need this to avoid circular references\n",
       " * http://stackoverflow.com/a/24161582/3208463\n",
       " */\n",
       "function simpleKeys (original) {\n",
       "  return Object.keys(original).reduce(function (obj, key) {\n",
       "    if (typeof original[key] !== 'object')\n",
       "        obj[key] = original[key]\n",
       "    return obj;\n",
       "  }, {});\n",
       "}\n",
       "\n",
       "mpl.figure.prototype.mouse_event = function(event, name) {\n",
       "    var canvas_pos = mpl.findpos(event)\n",
       "\n",
       "    if (name === 'button_press')\n",
       "    {\n",
       "        this.canvas.focus();\n",
       "        this.canvas_div.focus();\n",
       "    }\n",
       "\n",
       "    var x = canvas_pos.x * mpl.ratio;\n",
       "    var y = canvas_pos.y * mpl.ratio;\n",
       "\n",
       "    this.send_message(name, {x: x, y: y, button: event.button,\n",
       "                             step: event.step,\n",
       "                             guiEvent: simpleKeys(event)});\n",
       "\n",
       "    /* This prevents the web browser from automatically changing to\n",
       "     * the text insertion cursor when the button is pressed.  We want\n",
       "     * to control all of the cursor setting manually through the\n",
       "     * 'cursor' event from matplotlib */\n",
       "    event.preventDefault();\n",
       "    return false;\n",
       "}\n",
       "\n",
       "mpl.figure.prototype._key_event_extra = function(event, name) {\n",
       "    // Handle any extra behaviour associated with a key event\n",
       "}\n",
       "\n",
       "mpl.figure.prototype.key_event = function(event, name) {\n",
       "\n",
       "    // Prevent repeat events\n",
       "    if (name == 'key_press')\n",
       "    {\n",
       "        if (event.which === this._key)\n",
       "            return;\n",
       "        else\n",
       "            this._key = event.which;\n",
       "    }\n",
       "    if (name == 'key_release')\n",
       "        this._key = null;\n",
       "\n",
       "    var value = '';\n",
       "    if (event.ctrlKey && event.which != 17)\n",
       "        value += \"ctrl+\";\n",
       "    if (event.altKey && event.which != 18)\n",
       "        value += \"alt+\";\n",
       "    if (event.shiftKey && event.which != 16)\n",
       "        value += \"shift+\";\n",
       "\n",
       "    value += 'k';\n",
       "    value += event.which.toString();\n",
       "\n",
       "    this._key_event_extra(event, name);\n",
       "\n",
       "    this.send_message(name, {key: value,\n",
       "                             guiEvent: simpleKeys(event)});\n",
       "    return false;\n",
       "}\n",
       "\n",
       "mpl.figure.prototype.toolbar_button_onclick = function(name) {\n",
       "    if (name == 'download') {\n",
       "        this.handle_save(this, null);\n",
       "    } else {\n",
       "        this.send_message(\"toolbar_button\", {name: name});\n",
       "    }\n",
       "};\n",
       "\n",
       "mpl.figure.prototype.toolbar_button_onmouseover = function(tooltip) {\n",
       "    this.message.textContent = tooltip;\n",
       "};\n",
       "mpl.toolbar_items = [[\"Home\", \"Reset original view\", \"fa fa-home icon-home\", \"home\"], [\"Back\", \"Back to previous view\", \"fa fa-arrow-left icon-arrow-left\", \"back\"], [\"Forward\", \"Forward to next view\", \"fa fa-arrow-right icon-arrow-right\", \"forward\"], [\"\", \"\", \"\", \"\"], [\"Pan\", \"Pan axes with left mouse, zoom with right\", \"fa fa-arrows icon-move\", \"pan\"], [\"Zoom\", \"Zoom to rectangle\", \"fa fa-square-o icon-check-empty\", \"zoom\"], [\"\", \"\", \"\", \"\"], [\"Download\", \"Download plot\", \"fa fa-floppy-o icon-save\", \"download\"]];\n",
       "\n",
       "mpl.extensions = [\"eps\", \"jpeg\", \"pdf\", \"png\", \"ps\", \"raw\", \"svg\", \"tif\"];\n",
       "\n",
       "mpl.default_extension = \"png\";var comm_websocket_adapter = function(comm) {\n",
       "    // Create a \"websocket\"-like object which calls the given IPython comm\n",
       "    // object with the appropriate methods. Currently this is a non binary\n",
       "    // socket, so there is still some room for performance tuning.\n",
       "    var ws = {};\n",
       "\n",
       "    ws.close = function() {\n",
       "        comm.close()\n",
       "    };\n",
       "    ws.send = function(m) {\n",
       "        //console.log('sending', m);\n",
       "        comm.send(m);\n",
       "    };\n",
       "    // Register the callback with on_msg.\n",
       "    comm.on_msg(function(msg) {\n",
       "        //console.log('receiving', msg['content']['data'], msg);\n",
       "        // Pass the mpl event to the overridden (by mpl) onmessage function.\n",
       "        ws.onmessage(msg['content']['data'])\n",
       "    });\n",
       "    return ws;\n",
       "}\n",
       "\n",
       "mpl.mpl_figure_comm = function(comm, msg) {\n",
       "    // This is the function which gets called when the mpl process\n",
       "    // starts-up an IPython Comm through the \"matplotlib\" channel.\n",
       "\n",
       "    var id = msg.content.data.id;\n",
       "    // Get hold of the div created by the display call when the Comm\n",
       "    // socket was opened in Python.\n",
       "    var element = $(\"#\" + id);\n",
       "    var ws_proxy = comm_websocket_adapter(comm)\n",
       "\n",
       "    function ondownload(figure, format) {\n",
       "        window.open(figure.imageObj.src);\n",
       "    }\n",
       "\n",
       "    var fig = new mpl.figure(id, ws_proxy,\n",
       "                           ondownload,\n",
       "                           element.get(0));\n",
       "\n",
       "    // Call onopen now - mpl needs it, as it is assuming we've passed it a real\n",
       "    // web socket which is closed, not our websocket->open comm proxy.\n",
       "    ws_proxy.onopen();\n",
       "\n",
       "    fig.parent_element = element.get(0);\n",
       "    fig.cell_info = mpl.find_output_cell(\"<div id='\" + id + \"'></div>\");\n",
       "    if (!fig.cell_info) {\n",
       "        console.error(\"Failed to find cell for figure\", id, fig);\n",
       "        return;\n",
       "    }\n",
       "\n",
       "    var output_index = fig.cell_info[2]\n",
       "    var cell = fig.cell_info[0];\n",
       "\n",
       "};\n",
       "\n",
       "mpl.figure.prototype.handle_close = function(fig, msg) {\n",
       "    var width = fig.canvas.width/mpl.ratio\n",
       "    fig.root.unbind('remove')\n",
       "\n",
       "    // Update the output cell to use the data from the current canvas.\n",
       "    fig.push_to_output();\n",
       "    var dataURL = fig.canvas.toDataURL();\n",
       "    // Re-enable the keyboard manager in IPython - without this line, in FF,\n",
       "    // the notebook keyboard shortcuts fail.\n",
       "    IPython.keyboard_manager.enable()\n",
       "    $(fig.parent_element).html('<img src=\"' + dataURL + '\" width=\"' + width + '\">');\n",
       "    fig.close_ws(fig, msg);\n",
       "}\n",
       "\n",
       "mpl.figure.prototype.close_ws = function(fig, msg){\n",
       "    fig.send_message('closing', msg);\n",
       "    // fig.ws.close()\n",
       "}\n",
       "\n",
       "mpl.figure.prototype.push_to_output = function(remove_interactive) {\n",
       "    // Turn the data on the canvas into data in the output cell.\n",
       "    var width = this.canvas.width/mpl.ratio\n",
       "    var dataURL = this.canvas.toDataURL();\n",
       "    this.cell_info[1]['text/html'] = '<img src=\"' + dataURL + '\" width=\"' + width + '\">';\n",
       "}\n",
       "\n",
       "mpl.figure.prototype.updated_canvas_event = function() {\n",
       "    // Tell IPython that the notebook contents must change.\n",
       "    IPython.notebook.set_dirty(true);\n",
       "    this.send_message(\"ack\", {});\n",
       "    var fig = this;\n",
       "    // Wait a second, then push the new image to the DOM so\n",
       "    // that it is saved nicely (might be nice to debounce this).\n",
       "    setTimeout(function () { fig.push_to_output() }, 1000);\n",
       "}\n",
       "\n",
       "mpl.figure.prototype._init_toolbar = function() {\n",
       "    var fig = this;\n",
       "\n",
       "    var nav_element = $('<div/>');\n",
       "    nav_element.attr('style', 'width: 100%');\n",
       "    this.root.append(nav_element);\n",
       "\n",
       "    // Define a callback function for later on.\n",
       "    function toolbar_event(event) {\n",
       "        return fig.toolbar_button_onclick(event['data']);\n",
       "    }\n",
       "    function toolbar_mouse_event(event) {\n",
       "        return fig.toolbar_button_onmouseover(event['data']);\n",
       "    }\n",
       "\n",
       "    for(var toolbar_ind in mpl.toolbar_items){\n",
       "        var name = mpl.toolbar_items[toolbar_ind][0];\n",
       "        var tooltip = mpl.toolbar_items[toolbar_ind][1];\n",
       "        var image = mpl.toolbar_items[toolbar_ind][2];\n",
       "        var method_name = mpl.toolbar_items[toolbar_ind][3];\n",
       "\n",
       "        if (!name) { continue; };\n",
       "\n",
       "        var button = $('<button class=\"btn btn-default\" href=\"#\" title=\"' + name + '\"><i class=\"fa ' + image + ' fa-lg\"></i></button>');\n",
       "        button.click(method_name, toolbar_event);\n",
       "        button.mouseover(tooltip, toolbar_mouse_event);\n",
       "        nav_element.append(button);\n",
       "    }\n",
       "\n",
       "    // Add the status bar.\n",
       "    var status_bar = $('<span class=\"mpl-message\" style=\"text-align:right; float: right;\"/>');\n",
       "    nav_element.append(status_bar);\n",
       "    this.message = status_bar[0];\n",
       "\n",
       "    // Add the close button to the window.\n",
       "    var buttongrp = $('<div class=\"btn-group inline pull-right\"></div>');\n",
       "    var button = $('<button class=\"btn btn-mini btn-primary\" href=\"#\" title=\"Stop Interaction\"><i class=\"fa fa-power-off icon-remove icon-large\"></i></button>');\n",
       "    button.click(function (evt) { fig.handle_close(fig, {}); } );\n",
       "    button.mouseover('Stop Interaction', toolbar_mouse_event);\n",
       "    buttongrp.append(button);\n",
       "    var titlebar = this.root.find($('.ui-dialog-titlebar'));\n",
       "    titlebar.prepend(buttongrp);\n",
       "}\n",
       "\n",
       "mpl.figure.prototype._root_extra_style = function(el){\n",
       "    var fig = this\n",
       "    el.on(\"remove\", function(){\n",
       "\tfig.close_ws(fig, {});\n",
       "    });\n",
       "}\n",
       "\n",
       "mpl.figure.prototype._canvas_extra_style = function(el){\n",
       "    // this is important to make the div 'focusable\n",
       "    el.attr('tabindex', 0)\n",
       "    // reach out to IPython and tell the keyboard manager to turn it's self\n",
       "    // off when our div gets focus\n",
       "\n",
       "    // location in version 3\n",
       "    if (IPython.notebook.keyboard_manager) {\n",
       "        IPython.notebook.keyboard_manager.register_events(el);\n",
       "    }\n",
       "    else {\n",
       "        // location in version 2\n",
       "        IPython.keyboard_manager.register_events(el);\n",
       "    }\n",
       "\n",
       "}\n",
       "\n",
       "mpl.figure.prototype._key_event_extra = function(event, name) {\n",
       "    var manager = IPython.notebook.keyboard_manager;\n",
       "    if (!manager)\n",
       "        manager = IPython.keyboard_manager;\n",
       "\n",
       "    // Check for shift+enter\n",
       "    if (event.shiftKey && event.which == 13) {\n",
       "        this.canvas_div.blur();\n",
       "        // select the cell after this one\n",
       "        var index = IPython.notebook.find_cell_index(this.cell_info[0]);\n",
       "        IPython.notebook.select(index + 1);\n",
       "    }\n",
       "}\n",
       "\n",
       "mpl.figure.prototype.handle_save = function(fig, msg) {\n",
       "    fig.ondownload(fig, null);\n",
       "}\n",
       "\n",
       "\n",
       "mpl.find_output_cell = function(html_output) {\n",
       "    // Return the cell and output element which can be found *uniquely* in the notebook.\n",
       "    // Note - this is a bit hacky, but it is done because the \"notebook_saving.Notebook\"\n",
       "    // IPython event is triggered only after the cells have been serialised, which for\n",
       "    // our purposes (turning an active figure into a static one), is too late.\n",
       "    var cells = IPython.notebook.get_cells();\n",
       "    var ncells = cells.length;\n",
       "    for (var i=0; i<ncells; i++) {\n",
       "        var cell = cells[i];\n",
       "        if (cell.cell_type === 'code'){\n",
       "            for (var j=0; j<cell.output_area.outputs.length; j++) {\n",
       "                var data = cell.output_area.outputs[j];\n",
       "                if (data.data) {\n",
       "                    // IPython >= 3 moved mimebundle to data attribute of output\n",
       "                    data = data.data;\n",
       "                }\n",
       "                if (data['text/html'] == html_output) {\n",
       "                    return [cell, data, j];\n",
       "                }\n",
       "            }\n",
       "        }\n",
       "    }\n",
       "}\n",
       "\n",
       "// Register the function which deals with the matplotlib target/channel.\n",
       "// The kernel may be null if the page has been refreshed.\n",
       "if (IPython.notebook.kernel != null) {\n",
       "    IPython.notebook.kernel.comm_manager.register_target('matplotlib', mpl.mpl_figure_comm);\n",
       "}\n"
      ],
      "text/plain": [
       "<IPython.core.display.Javascript object>"
      ]
     },
     "metadata": {},
     "output_type": "display_data"
    },
    {
     "data": {
      "text/html": [
       "<img src=\"data:image/png;base64,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\" width=\"720\">"
      ],
      "text/plain": [
       "<IPython.core.display.HTML object>"
      ]
     },
     "metadata": {},
     "output_type": "display_data"
    }
   ],
   "source": [
    "from scipy.optimize import fmin\n",
    "from scipy.special import kn as besselk\n",
    "%matplotlib inline\n",
    "plt.rcParams[\"figure.figsize\"] = (10,5) \n",
    "\n",
    "rfit = [0.8, 30, 90, 215]\n",
    "srfit = [2.235, 1.088, 0.716, 0.25] \n",
    "T2 = 500\n",
    "\n",
    "def deGlee (x):\n",
    "    T = x[0]; c = x[1]\n",
    "    u = rfit/np.sqrt(T*c)\n",
    "    Q = wQ.value\n",
    "    s = Q*besselk(0,u)/2/np.pi/T\n",
    "    res = (s-srfit)\n",
    "    return sum(res*res)\n",
    "\n",
    "def on_wdg_clicked(self):\n",
    "    global T2\n",
    "    c = 500\n",
    "    n = len(rfit); lr = np.log(rfit)  \n",
    "    T = (n*np.sum(lr*srfit)-np.sum(lr)*np.sum(srfit))/(n*np.sum(lr*lr)-np.sum(lr)**2)\n",
    "    Q = wQ.value\n",
    "    T = -Q/2/np.pi/T                       # transmissivity initial guess [L^2/T]\n",
    "    [Tfit,cfit] = fmin(deGlee, [T,c]) \n",
    "\n",
    "    sfit = Q*besselk(0,rfit/np.sqrt(Tfit*cfit))/2/np.pi/Tfit\n",
    "    norms = np.linalg.norm(srfit-sfit)\n",
    "    stdev = np.sqrt(np.mean((srfit-sfit)**2))\n",
    "    rmax = max(rfit); smax = max(srfit)\n",
    "    r = np.arange(.9*min(rfit), rmax, step = rmax/50)\n",
    "    s = Q/2/np.pi/T*besselk(0,r/np.sqrt(Tfit*cfit))\n",
    "    fig = plt.figure(facecolor='w'); ax = fig.add_subplot()\n",
    "    if wcb.value: \n",
    "        ax.set_xscale('log'); xtext = 1\n",
    "    else:\n",
    "        xtext = 130\n",
    "    plt.plot (rfit,srfit, 'o', label = 'observation' )\n",
    "    plt.plot (r,s, '.-', label = 'modelled' )\n",
    "    plt.xlabel('distance [m]',fontsize=12)\n",
    "    plt.ylabel('drawdown [m]',fontsize=12)\n",
    "    ax.grid(b=True, c='w', lw=2, ls='-')\n",
    "    plt.legend(loc = 'upper right',fontsize=12)\n",
    "    ax.text (xtext,.7*smax,'$T = %.1f m^2/d$' % (Tfit, ),fontsize=12)\n",
    "    ax.text (xtext,.6*smax,'$c =%.0f d$' % (cfit, ),fontsize=12)\n",
    "    ax.text (xtext,.5*smax,'2-norm = $%.3e $' % (norms, ),fontsize=12)\n",
    "    ax.text (xtext,.4*smax,'stdev = $%.3e $' % (stdev, ),fontsize=12)\n",
    "    plt.title('Pump test: Oude Korendijk, Curve Fitting: de Glee', fontsize = 14)\n",
    "    T2 = Tfit\n",
    "\n",
    "wdg = widgets.Button(description='Leaky aquifer fit')        \n",
    "wdg.on_click(on_wdg_clicked)   \n",
    "wcb = widgets.Checkbox(value=False, description='log', disabled=False, indent=False)\n",
    "widgets.HBox([wdg,wcb]) "
   ]
  },
  {
   "cell_type": "markdown",
   "metadata": {
    "hideCode": false,
    "hidePrompt": false,
    "hide_input": false
   },
   "source": [
    "Again we can obtain the hydraulic conductivity $K$ if the aquifer thickness is known:  "
   ]
  },
  {
   "cell_type": "code",
   "execution_count": 12,
   "metadata": {
    "hideCode": false,
    "hidePrompt": false,
    "hide_input": false,
    "scrolled": true
   },
   "outputs": [
    {
     "data": {
      "application/vnd.jupyter.widget-view+json": {
       "model_id": "f250339d6fe7421685be7c23066721db",
       "version_major": 2,
       "version_minor": 0
      },
      "text/plain": [
       "BoundedFloatText(value=10.0, description='Thickness:', max=15.0, min=1.0, step=1.5)"
      ]
     },
     "metadata": {},
     "output_type": "display_data"
    }
   ],
   "source": [
    "wD2 = widgets.BoundedFloatText(value=10, min=1, max=15.0, step=1.5, description='Thickness:', disabled=False)\n",
    "wD2"
   ]
  },
  {
   "cell_type": "markdown",
   "metadata": {
    "hideCode": false,
    "hidePrompt": false
   },
   "source": [
    " Obtain the result by clicking the button. "
   ]
  },
  {
   "cell_type": "code",
   "execution_count": 13,
   "metadata": {
    "hideCode": false,
    "hidePrompt": false,
    "hide_input": true,
    "scrolled": true
   },
   "outputs": [
    {
     "data": {
      "application/vnd.jupyter.widget-view+json": {
       "model_id": "d9e9f785ed814130a3e038815c45bc17",
       "version_major": 2,
       "version_minor": 0
      },
      "text/plain": [
       "Button(description='Compute K', style=ButtonStyle())"
      ]
     },
     "metadata": {},
     "output_type": "display_data"
    }
   ],
   "source": [
    "btn = widgets.Button(description='Compute K')\n",
    "display(btn)\n",
    "\n",
    "def btn_eventhandler(obj): \n",
    "    display ('K = %.1f for T = %.1f and D = %.1f'% (T2/wD2.value,T2,wD2.value))\n",
    "\n",
    "btn.on_click(btn_eventhandler) "
   ]
  },
  {
   "cell_type": "markdown",
   "metadata": {
    "hideCode": false,
    "hidePrompt": false
   },
   "source": [
    "## Unsteady Data Input and Visualization"
   ]
  },
  {
   "cell_type": "markdown",
   "metadata": {
    "hideCode": false,
    "hidePrompt": false
   },
   "source": [
    "Our focus will be on the two observation points at intermediate distances, i.e 30 and 90 m away from the pumping well. The one in direct vicinity may be influenced by local conditions around the well, which may be disturbed due to the drilling and installation of the well and the so called skin effect. The most distant observation point may be influenced by a constant head boundary in not too far distance. The polders in the Netherlands are surrounded by surface water bodies, the Rhine river and trenches filled by drainage water.  "
   ]
  },
  {
   "cell_type": "markdown",
   "metadata": {
    "hideCode": false,
    "hidePrompt": false,
    "hide_input": false
   },
   "source": [
    "The following figures show the drawdown measurements at the two intermediate observation points: observation H30 for the one in 30 m distance, observation H90 for the one in 90 m distance. The data for the pumping test are read into this notebook.  "
   ]
  },
  {
   "cell_type": "code",
   "execution_count": 14,
   "metadata": {
    "hideCode": false,
    "hidePrompt": false,
    "hide_input": false,
    "jupyter": {
     "outputs_hidden": false
    },
    "scrolled": false
   },
   "outputs": [
    {
     "name": "stdout",
     "output_type": "stream",
     "text": [
      "Data ready\n"
     ]
    }
   ],
   "source": [
    "df = pd.DataFrame(columns=['t1','s1','t2','s2'])\n",
    "\n",
    "#def on_wini_clicked(self):\n",
    "#      y = pd.read_excel('ok.xlsx',header=None)               \n",
    "#      df['t1'] = y[0].dropna()/60; df['s1'] = y[1].dropna() \n",
    "#      df['t2'] = y[2].dropna()/60; df['s2'] = y[3].dropna()\n",
    "df['t1'] =[6,15,30,42,60,84,114,139.8,168,201.6,240,321,408,498,522,600,786, \n",
    "           1080,1620,1980,2460,2880,3540,4800,5700,8340,10860,14700,18000,21600,\n",
    "           28800,36000,43680,49800,50000]                # time in seconds!\n",
    "df['s1'] =[0.04,0.08,0.13,0.18,0.23,0.28,0.33,0.36,0.39,0.42,0.45,0.5,0.54,0.57,\n",
    "           0.58,0.6,0.64,0.68,0.742,0.753,0.779,0.793,0.819,0.855,0.873,0.915,\n",
    "           0.935,0.966,0.99,1.007,1.05,1.053,1.072,1.088,1.088]\n",
    "df['t2'] =[90,120,129.6,159.6,180,210,240,259.8,330,360,450,540,780,900,1080,\n",
    "           1500,1800,2400,3180,3600,4500,5400,6300,7200,9000,10800,14880,18060,\n",
    "           21780,25320,32520,36120,40800,47100,50700]\n",
    "df['s2'] =[0.015,0.021,0.023,0.044,0.054,.075,.09,.104,.133,.153,.178,.206,.25,\n",
    "           .275,.305,.348,.364,.404,.429,.444,.467,.494,.507,.528,.55,.569,.593,\n",
    "           .614,.636,.657,.679,.688,.701,.718,.716]\n",
    "df['t1'] = df['t1']/60\n",
    "df['t2'] = df['t2']/60\n",
    "print ('Data ready')\n",
    "global kD, Sc\n",
    "    \n",
    "#wini = widgets.Button(description='Input data')        \n",
    "#wini.on_click(on_wini_clicked) \n",
    "#wini   "
   ]
  },
  {
   "cell_type": "markdown",
   "metadata": {
    "hideCode": false,
    "hidePrompt": false,
    "hide_input": false
   },
   "source": [
    "Let's see how the data look like. "
   ]
  },
  {
   "cell_type": "code",
   "execution_count": 15,
   "metadata": {
    "hideCode": false,
    "hidePrompt": false,
    "hide_input": true,
    "jupyter": {
     "outputs_hidden": false
    },
    "scrolled": false
   },
   "outputs": [
    {
     "data": {
      "application/vnd.jupyter.widget-view+json": {
       "model_id": "5c1782da5eed444f9d2984004c8b9a14",
       "version_major": 2,
       "version_minor": 0
      },
      "text/plain": [
       "VBox(children=(Button(description='Plot data', style=ButtonStyle()),))"
      ]
     },
     "metadata": {},
     "output_type": "display_data"
    }
   ],
   "source": [
    "def on_wp0_clicked(self):\n",
    "    plt.rcParams[\"figure.figsize\"] = (10,5) \n",
    "    fig = plt.figure(facecolor='w'); ax = fig.add_subplot()\n",
    "    plt.plot (df['t1'],df['s1'], '.-', label = 'observation H30' )\n",
    "    plt.plot (df['t2'],df['s2'], '.-', label = 'observation H90' )\n",
    "    plt.title('Oude Korendijk pumping test measured drawdowns',fontsize=14)\n",
    "    plt.xlabel('time [min]',fontsize=12)\n",
    "    plt.ylabel('drawdown [m]',fontsize=12)\n",
    "    plt.grid()\n",
    "    plt.legend(loc = 'lower right',fontsize=12);\n",
    "    \n",
    "wp0 = widgets.Button(description='Plot data')        \n",
    "wp0.on_click(on_wp0_clicked)   \n",
    "widgets.VBox([wp0])    "
   ]
  },
  {
   "cell_type": "markdown",
   "metadata": {
    "hideCode": false,
    "hidePrompt": false
   },
   "source": [
    "Obviously a steady state has not been reached at the end of the pump test. The visual inspection of the plot indicates that there is a constant difference between the drawdowns in the two observation wells. This would justify the application of the Thiem evaluation, as there only the difference counts. We call this situation either quasi steady-state or steady slope. Lets check the difference in a graph. "
   ]
  },
  {
   "cell_type": "code",
   "execution_count": 16,
   "metadata": {
    "hideCode": false,
    "hidePrompt": false,
    "hide_input": false,
    "jupyter": {
     "outputs_hidden": false
    },
    "scrolled": false
   },
   "outputs": [
    {
     "data": {
      "application/vnd.jupyter.widget-view+json": {
       "model_id": "8248559b864c44bca9b33ff6981fa4ad",
       "version_major": 2,
       "version_minor": 0
      },
      "text/plain": [
       "VBox(children=(Button(description='Drawdown difference', style=ButtonStyle()),))"
      ]
     },
     "metadata": {},
     "output_type": "display_data"
    }
   ],
   "source": [
    "from scipy.interpolate import interp1d\n",
    "\n",
    "def on_wp1_clicked(self):\n",
    "    plt.rcParams[\"figure.figsize\"] = (10,5) \n",
    "    fig = plt.figure(facecolor='w'); ax = fig.add_subplot()\n",
    "    f30 = interp1d(df['t1'],df['s1']); f90 = interp1d(df['t2'],df['s2'])\n",
    "    t = np.arange(6,780.0,step=1)\n",
    "    plt.plot (t, f30(t)-f90(t), 'g', label = 'H30-H90' )\n",
    "    plt.title('Drawdown difference',fontsize=14)\n",
    "    plt.xlabel('time [min]',fontsize=12)\n",
    "    plt.ylabel('drawdown difference [m]',fontsize=12)\n",
    "    plt.ylim ([0., 0.6])\n",
    "    plt.grid()\n",
    "    plt.legend(loc = 'lower right',fontsize=12);\n",
    "    \n",
    "wp1 = widgets.Button(description='Drawdown difference')        \n",
    "wp1.on_click(on_wp1_clicked)   \n",
    "widgets.VBox([wp1])    "
   ]
  },
  {
   "cell_type": "markdown",
   "metadata": {
    "hideCode": false,
    "hidePrompt": false,
    "hide_input": true
   },
   "source": [
    "One can visualize the same data using log scale for time: "
   ]
  },
  {
   "cell_type": "code",
   "execution_count": 17,
   "metadata": {
    "hideCode": false,
    "hidePrompt": false,
    "hide_input": false,
    "scrolled": false
   },
   "outputs": [
    {
     "data": {
      "application/vnd.jupyter.widget-view+json": {
       "model_id": "437410da943c4264b11b9f838c9f745c",
       "version_major": 2,
       "version_minor": 0
      },
      "text/plain": [
       "VBox(children=(Button(description='Plot log scale', style=ButtonStyle()),))"
      ]
     },
     "metadata": {},
     "output_type": "display_data"
    }
   ],
   "source": [
    "def on_wp2_clicked(self):\n",
    "    plt.rcParams[\"figure.figsize\"] = (10,5) \n",
    "    fig = plt.figure(facecolor='w'); ax = fig.add_subplot()\n",
    "    ax.set_xscale('log')\n",
    "    plt.plot (df['t1'],df['s1'], '.-', label = 'observation H30' )\n",
    "    plt.plot (df['t2'],df['s2'], '.-', label = 'observation H90' )\n",
    "    plt.title('Oude Korendijk pumping test measured drawdowns',fontsize=14)\n",
    "    plt.xlabel('time [min]',fontsize=12)\n",
    "    plt.ylabel('drawdown [m]',fontsize=12)\n",
    "    plt.grid()\n",
    "    plt.legend(loc = 'lower right',fontsize=12);\n",
    "\n",
    "wp2 = widgets.Button(description='Plot log scale')        \n",
    "wp2.on_click(on_wp2_clicked)   \n",
    "widgets.VBox([wp2]) "
   ]
  },
  {
   "cell_type": "markdown",
   "metadata": {
    "hideCode": false,
    "hidePrompt": false,
    "hide_input": true
   },
   "source": [
    "The same in the loglog system, with logarithmic scale on both axes:"
   ]
  },
  {
   "cell_type": "code",
   "execution_count": 18,
   "metadata": {
    "hideCode": false,
    "hidePrompt": false,
    "hide_input": true,
    "scrolled": false
   },
   "outputs": [
    {
     "data": {
      "application/vnd.jupyter.widget-view+json": {
       "model_id": "34ea6b7232754d02a4fb55a1d3e40578",
       "version_major": 2,
       "version_minor": 0
      },
      "text/plain": [
       "VBox(children=(Button(description='Plot loglog scale', style=ButtonStyle()),))"
      ]
     },
     "metadata": {},
     "output_type": "display_data"
    }
   ],
   "source": [
    "def on_wp3_clicked(self):\n",
    "    plt.rcParams[\"figure.figsize\"] = (10,5) \n",
    "    fig = plt.figure(facecolor='w'); ax = fig.add_subplot()\n",
    "    ax.set_xscale('log'); ax.set_yscale('log')\n",
    "    plt.plot (df['t1'],df['s1'], '.-', label = 'observation H30' )\n",
    "    plt.plot (df['t2'],df['s2'], '.-', label = 'observation H90' )\n",
    "    plt.title('Oude Korendijk pumping test measured drawdowns',fontsize=14)\n",
    "    plt.xlabel('time [min]',fontsize=12)\n",
    "    plt.ylabel('drawdown [m]',fontsize=12)\n",
    "    plt.grid()\n",
    "    plt.legend(loc = 'lower right',fontsize=12);\n",
    "    \n",
    "wp3 = widgets.Button(description='Plot loglog scale')        \n",
    "wp3.on_click(on_wp3_clicked)   \n",
    "widgets.VBox([wp3])     "
   ]
  },
  {
   "cell_type": "markdown",
   "metadata": {
    "hideCode": false,
    "hidePrompt": false
   },
   "source": [
    "For a comparison of the two curves it is convenient to visualize in double log scale using $t/r^2$ on $x$-axis. "
   ]
  },
  {
   "cell_type": "code",
   "execution_count": 19,
   "metadata": {
    "hideCode": false,
    "hidePrompt": false,
    "hide_input": true,
    "scrolled": false
   },
   "outputs": [
    {
     "data": {
      "application/vnd.jupyter.widget-view+json": {
       "model_id": "906a8e3642604aeaa1455e78488ffdb2",
       "version_major": 2,
       "version_minor": 0
      },
      "text/plain": [
       "VBox(children=(Button(description='Plot t/r/r scale', style=ButtonStyle()),))"
      ]
     },
     "metadata": {},
     "output_type": "display_data"
    }
   ],
   "source": [
    "def on_wp4_clicked(self):\n",
    "    plt.rcParams[\"figure.figsize\"] = (10,5) \n",
    "    fig = plt.figure(facecolor='w'); ax = fig.add_subplot()\n",
    "    ax.set_xscale('log')\n",
    "    plt.plot (df['t1']/30/30,df['s1'], '.-', label = 'observation H30' )\n",
    "    plt.plot (df['t2']/90/90,df['s2'], '.-', label = 'observation H90' )\n",
    "    plt.title('Oude Korendijk pumping test measured drawdowns',fontsize=14)\n",
    "    plt.xlabel('$t/r^2$ [min/m$^2$]',fontsize=12)\n",
    "    plt.ylabel('drawdown [m]',fontsize=12)\n",
    "    plt.grid()\n",
    "    plt.legend(loc = 'lower right',fontsize=12);\n",
    "\n",
    "wp4 = widgets.Button(description='Plot t/r/r scale')        \n",
    "wp4.on_click(on_wp4_clicked)   \n",
    "widgets.VBox([wp4]) "
   ]
  },
  {
   "cell_type": "markdown",
   "metadata": {
    "hideCode": false,
    "hidePrompt": false
   },
   "source": [
    "## Interpretation based on the Theis Solution (Cooper-Jacob)"
   ]
  },
  {
   "cell_type": "markdown",
   "metadata": {
    "hideCode": false,
    "hidePrompt": false
   },
   "source": [
    "The solution for the unsteady drawdown due to a single well with fully penetrating screen in a uniform aquifer of infinite extent was first published by Theis (1935), using a mathematical derivation by Lubin, transfered in private communication. The solution revolutioned the science of hydrology (White & Clebsch 1994). The solution for drawdown $s$ as function of distance from the pumping well $r$ and time $t$ is given by:"
   ]
  },
  {
   "cell_type": "markdown",
   "metadata": {
    "hideCode": false,
    "hidePrompt": false
   },
   "source": [
    "$$ s(r, t) = \\frac Q {4 \\pi T} W(u),\\,\\,\\,\\, u = \\frac {r^2 S} {4 T t}$$"
   ]
  },
  {
   "cell_type": "markdown",
   "metadata": {
    "hideCode": false,
    "hidePrompt": false
   },
   "source": [
    "where $T$ denotes the transmissivity, $S$ the storage coefficient, and $Q$ the pumping rate. $W$ is the well function, in mathematical literature known as exponential integral. For evaluations before computers became generally available, is was handy to utilize simpler approximations for the well function. Cooper & Jacob (1946) proposed:    "
   ]
  },
  {
   "cell_type": "markdown",
   "metadata": {
    "hideCode": false,
    "hidePrompt": false
   },
   "source": [
    "$$ W(u) \\approx -0.2557 - \\ln(u) $$"
   ]
  },
  {
   "cell_type": "markdown",
   "metadata": {
    "hideCode": false,
    "hidePrompt": false
   },
   "source": [
    "which is a good approximation for $u \\le 0.01$ that is valid for long enough times and/or small enough distances from the well:"
   ]
  },
  {
   "cell_type": "markdown",
   "metadata": {
    "hideCode": false,
    "hidePrompt": false
   },
   "source": [
    "$$ s(r, t) \\approx \\frac {Q} {4 \\pi T} \\ln \\left( \\frac {2.25 T t} {r^2 S} \\right) $$ "
   ]
  },
  {
   "cell_type": "markdown",
   "metadata": {
    "hideCode": false,
    "hidePrompt": false
   },
   "source": [
    "$\\ln$ denotes the natural logarithm. The formula can be modified for the decadic logarithm: "
   ]
  },
  {
   "cell_type": "markdown",
   "metadata": {
    "hideCode": false,
    "hidePrompt": false
   },
   "source": [
    "$$ s(r,t) = \\frac {2.3 Q} {4 \\pi T} \\log \\left( \\frac {2.25 T t} {r^2 S} \\right) $$"
   ]
  },
  {
   "cell_type": "markdown",
   "metadata": {
    "hideCode": false,
    "hidePrompt": false
   },
   "source": [
    "For the observation point H30 determine the drawdown per log cycle from the double-log graph with $t/r^2$ axis $\\approx (1.1 - 0.2) / 3 \\approx 0.30 $"
   ]
  },
  {
   "cell_type": "markdown",
   "metadata": {
    "hideCode": false,
    "hidePrompt": false
   },
   "source": [
    "$$ \\Delta s = s_{10t} - s_t = \\frac {2.3 Q} {4 \\pi T} $$"
   ]
  },
  {
   "cell_type": "markdown",
   "metadata": {
    "hideCode": false,
    "hidePrompt": false
   },
   "source": [
    "or, resolved for $T$:"
   ]
  },
  {
   "cell_type": "markdown",
   "metadata": {
    "hideCode": false,
    "hidePrompt": false
   },
   "source": [
    "$$ T = \\frac {2.3 Q} {4 \\pi \\Delta s} $$"
   ]
  },
  {
   "cell_type": "markdown",
   "metadata": {
    "hideCode": false,
    "hidePrompt": false
   },
   "source": [
    "Notice that it doesn't matter in what dimension time is, at it drops out of the drawdown at $10t$ is compared with that at $t$."
   ]
  },
  {
   "cell_type": "markdown",
   "metadata": {
    "hideCode": false,
    "hidePrompt": false
   },
   "source": [
    "For the storage coefficient determine the intersection with the straight line with the line of zero drawdown. This is $(t/r^2)_0 = 2 \\times 10 ^{-4}$ min. \n",
    "Setting the argument of the solution equal to 1 so that the computed drawdown is 0 and using the already obtained transmissivity yields the storage coefficient.\n",
    "We have to convert to days to get the answer consistent with the transmissivity."
   ]
  },
  {
   "cell_type": "markdown",
   "metadata": {
    "hideCode": false,
    "hidePrompt": false
   },
   "source": [
    "Clearly, the result depends somewhat on the exact straigt line drawn through the bundel of curves for the observation wells. In the ideal situation, these curves fall onto each other. In this real-world case this is not true, which is a result of the non-uniformity of the aquifer and inaccuracies in the measurements. The real world is less homogeneous than the analytic solution presumes.\n",
    "\n",
    "**Task**: Perform the Cooper-Jacob method of evaluation for the observations in borehole H90. Enter the values obtained from the plot and use the button for the evaluation."
   ]
  },
  {
   "cell_type": "code",
   "execution_count": 20,
   "metadata": {
    "hideCode": false,
    "hidePrompt": false,
    "hide_input": true,
    "scrolled": false
   },
   "outputs": [
    {
     "data": {
      "application/vnd.jupyter.widget-view+json": {
       "model_id": "7bbea0958c924abb989eecac8388803c",
       "version_major": 2,
       "version_minor": 0
      },
      "text/plain": [
       "HBox(children=(BoundedFloatText(value=0.3, description='$\\\\Delta S$:', max=10.0), BoundedFloatText(value=0.000…"
      ]
     },
     "metadata": {},
     "output_type": "display_data"
    }
   ],
   "source": [
    "wds = widgets.BoundedFloatText(value=0.3, min=0.0, max=10.0, description='$\\Delta S$:', disabled=False)\n",
    "w0 = widgets.BoundedFloatText(value=2e-4, min=0.0, max=1.e-1, description='$(t/r^2)_0$:', disabled=False)\n",
    "widgets.HBox([wds,w0]) "
   ]
  },
  {
   "cell_type": "code",
   "execution_count": 21,
   "metadata": {
    "hideCode": false,
    "hidePrompt": false,
    "hide_input": true
   },
   "outputs": [
    {
     "data": {
      "application/vnd.jupyter.widget-view+json": {
       "model_id": "03ac3e78731d44938649ec75f0075732",
       "version_major": 2,
       "version_minor": 0
      },
      "text/plain": [
       "Button(description='Compute T,S', style=ButtonStyle())"
      ]
     },
     "metadata": {},
     "output_type": "display_data"
    }
   ],
   "source": [
    "btn = widgets.Button(description='Compute T,S')\n",
    "display(btn)\n",
    "\n",
    "def btn_eventhandler(obj):\n",
    "    global kD,Sc\n",
    "    Q = wQ.value\n",
    "    kD = 2.3 * Q / (4 * np.pi * wds.value)\n",
    "    print('T = {:.0f}'.format(kD) + ' m' + chr(0x00b2) + '/d')\n",
    "    Sc = 2.25 * kD * w0.value/(24*60)\n",
    "    print('S = {:.2e}'.format(Sc))\n",
    "    \n",
    "btn.on_click(btn_eventhandler)    "
   ]
  },
  {
   "cell_type": "markdown",
   "metadata": {
    "hideCode": false,
    "hidePrompt": false,
    "hide_input": true
   },
   "source": [
    "## Classical Interpretation using the Match on Double Log Scales\n",
    "\n",
    "The classical interpretation plots the measured drawdowns (drawdown $s$ versus $t/r^2$ ) and compares them with the Theis type curve $W(u)$ versus $1/u$ also drawn on double log paper. Because $1/u = (4 T t) / (r^2 S)$ it follows that on logarithmic scales $1/u$ and $t/r^2$ differ only by a constant factor, which represents a horizontal shift on the log scale. The drawdown $s$ only differs the constant $Q/(4 \\pi T)$ from the well function $W(u)$, and so this implies a vertical shift on logarithmic scale. Hence the measured drawdown versus $t/r^2$ on double log scale looks exactly the same as the Theis type curve, but it is only shifted by a given distance along the horizontal axis and by a given distance along the vertical axis. These two shifts yield the sought transmissivity and storativity.\n",
    "\n",
    "### Manual Fitting\n",
    "\n",
    "The plot below depicts the Theis type curve and the drawdown $s$ multiplied by a factor $A$ plotted with $t/r^2$ multiplied by a factor $B$. $A$ and $B$ were changed until the measured and the type curve match best. In this worked out example, the values of $A$ and $B$ were obtained manually. The classical method was originally performed by shifting of the measurements drawn on double log paper over the Theis type curve also drawn on double log paper.  "
   ]
  },
  {
   "cell_type": "code",
   "execution_count": 22,
   "metadata": {
    "hideCode": false,
    "hidePrompt": false,
    "hide_input": false,
    "scrolled": false
   },
   "outputs": [
    {
     "data": {
      "application/vnd.jupyter.widget-view+json": {
       "model_id": "806499e212e1406683b0911529c4d708",
       "version_major": 2,
       "version_minor": 0
      },
      "text/plain": [
       "Button(description='Show', style=ButtonStyle())"
      ]
     },
     "metadata": {},
     "output_type": "display_data"
    }
   ],
   "source": [
    "%matplotlib inline\n",
    "plt.rcParams[\"figure.figsize\"] = (10,5) \n",
    "\n",
    "btn = widgets.Button(description='Show')\n",
    "display(btn)\n",
    "\n",
    "def btn_eventhandler(obj):\n",
    "    plt.rcParams[\"figure.figsize\"] = (10,5)           \n",
    "    A = 7.0; B = 1.0e7\n",
    "    u = np.logspace(-4, 0.25, 41)\n",
    "    fig = plt.figure(facecolor='w'); ax = fig.add_subplot()\n",
    "\n",
    "    # the Theis type curve\n",
    "    plt.plot(1/u, exp1(u), label='Theis')\n",
    "\n",
    "    # The measurements\n",
    "    plt.plot (B*df['t1']/24/60/30/30,A*df['s1'], '.', label = 'observation H30' )\n",
    "    plt.plot (B*df['t2']/24/60/90/90,A*df['s2'], '.', label = 'observation H90' ) \n",
    "    ax.set_xscale('log'); ax.set_yscale('log')\n",
    "    plt.title('Type curve and $A \\cdot s$ vs $B \\cdot t/r^2$, with $A$={}, $B$={}'.format(A, B),fontsize=14)\n",
    "    plt.xlabel('$1/u$ and $B \\, t/r^2$',fontsize=12); plt.ylabel('W(u) and $A \\, s$',fontsize=12)\n",
    "    plt.xscale('log'); plt.yscale('log')\n",
    "    plt.grid()\n",
    "    plt.legend(loc='lower right',fontsize=12);\n",
    "    \n",
    "btn.on_click(btn_eventhandler)     "
   ]
  },
  {
   "cell_type": "markdown",
   "metadata": {
    "hideCode": false,
    "hidePrompt": false,
    "hide_input": false
   },
   "source": [
    "So $A \\cdot s = W(u)$ and $s = \\frac Q {2 \\pi T} W(u)$ and, therefore $A = \\frac {4 \\pi T} {Q}$ and $ T = \\frac {A Q} {4 \\pi}$. The result is calculated in the next cell."
   ]
  },
  {
   "cell_type": "code",
   "execution_count": 23,
   "metadata": {
    "hideCode": false,
    "hidePrompt": false,
    "hide_input": true,
    "scrolled": true
   },
   "outputs": [
    {
     "name": "stdout",
     "output_type": "stream",
     "text": [
      "T = 439 [m^2/d]\n"
     ]
    }
   ],
   "source": [
    "A = 7.0\n",
    "Q = wQ.value\n",
    "kD = A * Q /4 /np.pi\n",
    "print('T = {:.0f} [m^2/d]'.format(kD))"
   ]
  },
  {
   "cell_type": "markdown",
   "metadata": {
    "hideCode": false,
    "hidePrompt": false
   },
   "source": [
    "The storage coefficient then follows from $\\frac 1 u = B \\frac t {r^2}$, that is, $\\frac {4 T t} {r^2 S} = B \\frac t {r^2}$ so that $S = \\frac {4 T} B$. The result is computed in the next cell."
   ]
  },
  {
   "cell_type": "code",
   "execution_count": 24,
   "metadata": {
    "hideCode": false,
    "hidePrompt": false,
    "hide_input": true,
    "scrolled": false
   },
   "outputs": [
    {
     "name": "stdout",
     "output_type": "stream",
     "text": [
      "S = 1.76e-04 [-]\n"
     ]
    }
   ],
   "source": [
    "B = 1.0e7\n",
    "Sc = 4 * kD / B\n",
    "print('S = {:.2e} [-]'.format(Sc))"
   ]
  },
  {
   "cell_type": "markdown",
   "metadata": {
    "hideCode": false,
    "hidePrompt": false
   },
   "source": [
    "As one sees, the results obtained this way are consistent with those obtained by the previous method."
   ]
  },
  {
   "cell_type": "markdown",
   "metadata": {
    "hideCode": false,
    "hidePrompt": false,
    "hide_input": true
   },
   "source": [
    "The previous method was inspired by the shifting of the measurements drawn on double log paper over the Theis type curve also drawn on double log paper. However, we could just as well directly optimize $T$ and $S$ (instead of $A$ and $B$) by trial and error to find the best match between type curve and measurements. It may then be more convenient to let the type curve as it is and plot $ \\frac s {Q/(4 \\pi T)}$ vs $\\frac {4 T t} {r^2 S}$. This has been done and for the obtained values of $S$ and $T$ the result is shown by clicking the next button.   "
   ]
  },
  {
   "cell_type": "code",
   "execution_count": 25,
   "metadata": {
    "hideCode": false,
    "hidePrompt": false,
    "hide_input": true,
    "scrolled": false
   },
   "outputs": [
    {
     "data": {
      "application/vnd.jupyter.widget-view+json": {
       "model_id": "2bc9b7159e4343c986c9cd5fb0c05908",
       "version_major": 2,
       "version_minor": 0
      },
      "text/plain": [
       "Button(description='Show', style=ButtonStyle())"
      ]
     },
     "metadata": {},
     "output_type": "display_data"
    }
   ],
   "source": [
    "%matplotlib inline\n",
    "\n",
    "btn = widgets.Button(description='Show')\n",
    "display(btn)\n",
    "\n",
    "def btn_eventhandler(obj):\n",
    "    global kD,Sc\n",
    "    kD = 450\n",
    "    Sc = 0.0002\n",
    "    u = np.logspace(-4, 0.25, 41)\n",
    "    fig = plt.figure(facecolor='w', figsize=(10,5)); ax = fig.add_subplot()\n",
    "\n",
    "    # the Theis type curve\n",
    "    plt.plot(1/u, exp1(u), label='Theis')\n",
    "\n",
    "    # The measurements\n",
    "    r = 30\n",
    "    plt.plot (4*kD*df['t1']/24/60/(Sc*r**2),df['s1']/(Q/(4*np.pi*kD)), '.', label = 'observation H30' )\n",
    "    r = 90\n",
    "    plt.plot (4*kD*df['t2']/24/60/(Sc*r**2),df['s2']/(Q/(4*np.pi*kD)), '.', label = 'observation H90' )\n",
    "    plt.title('Direct comparison between computed and measured drawdown, $T$={:.0f} m$^2$/d, $S$={:.3e} [-]'.format(kD,Sc),fontsize=12)\n",
    "    plt.xlabel('$1/u$',fontsize=12); plt.ylabel('$W[u]$',fontsize=12)\n",
    "    plt.xscale('log'); plt.yscale('log')\n",
    "    plt.grid()\n",
    "    plt.legend(loc='lower right',fontsize=12);\n",
    "    \n",
    "btn.on_click(btn_eventhandler)    "
   ]
  },
  {
   "cell_type": "markdown",
   "metadata": {
    "hideCode": false,
    "hidePrompt": false,
    "hide_input": true
   },
   "source": [
    "### Using the Interface\n",
    "\n",
    "As we now have a computer, we could just as well directly optimize $T$ and $S$ by trial and error to find the best match between type curve and measurements. For the following evaluations set the distance from the pumping well at which the data were measured:"
   ]
  },
  {
   "cell_type": "code",
   "execution_count": 26,
   "metadata": {
    "hideCode": false,
    "hidePrompt": false,
    "hide_input": true,
    "scrolled": false
   },
   "outputs": [
    {
     "data": {
      "application/vnd.jupyter.widget-view+json": {
       "model_id": "188c5bd017fe498f8b4ae5adfddb8204",
       "version_major": 2,
       "version_minor": 0
      },
      "text/plain": [
       "BoundedFloatText(value=30.0, description='Distance:', max=90.0, min=30.0, step=60.0)"
      ]
     },
     "metadata": {},
     "output_type": "display_data"
    }
   ],
   "source": [
    "wr = widgets.BoundedFloatText(value=30.0, min=30.0, max=90.0, step = 60.0, description='Distance:', disabled=False)\n",
    "wr"
   ]
  },
  {
   "cell_type": "markdown",
   "metadata": {
    "hideCode": false,
    "hidePrompt": false,
    "hide_input": false
   },
   "source": [
    "#### Multi-Graph\n",
    "Use the sliders to select values for $A$ and log10($B$)"
   ]
  },
  {
   "cell_type": "code",
   "execution_count": 27,
   "metadata": {
    "hideCode": false,
    "hidePrompt": false,
    "hide_input": true,
    "scrolled": false
   },
   "outputs": [
    {
     "data": {
      "application/vnd.jupyter.widget-view+json": {
       "model_id": "01e893646a194bb6a6dd33a367207898",
       "version_major": 2,
       "version_minor": 0
      },
      "text/plain": [
       "HBox(children=(FloatSlider(value=1.0, description='$A$', max=10.0, min=0.1), FloatSlider(value=1.0, descriptio…"
      ]
     },
     "metadata": {},
     "output_type": "display_data"
    }
   ],
   "source": [
    "slider1 = widgets.FloatSlider(1, description = '$A$', min=0.1, max=10, step=0.1)\n",
    "slider2 = widgets.FloatSlider(1, description = 'log10($B$)', min=0.1, max=10, step=0.1)\n",
    "widgets.HBox([slider1,slider2])"
   ]
  },
  {
   "cell_type": "markdown",
   "metadata": {
    "hideCode": false,
    "hidePrompt": false,
    "hide_input": true
   },
   "source": [
    "Run the next cell and press the check button, whenever you have changed the slider values. Make sure that you enable toggle scrolling (see: Cell-Current outputs). In order to restart checking re-run the cell."
   ]
  },
  {
   "cell_type": "code",
   "execution_count": 28,
   "metadata": {
    "hideCode": false,
    "hidePrompt": false,
    "hide_input": false,
    "scrolled": false
   },
   "outputs": [
    {
     "data": {
      "application/vnd.jupyter.widget-view+json": {
       "model_id": "518667fa9a1b433fbc6b4580458e92f0",
       "version_major": 2,
       "version_minor": 0
      },
      "text/plain": [
       "Button(description='Check', style=ButtonStyle())"
      ]
     },
     "metadata": {},
     "output_type": "display_data"
    }
   ],
   "source": [
    "%matplotlib notebook\n",
    "%matplotlib notebook\n",
    "plt.rcParams[\"figure.figsize\"] = (10,5) \n",
    "\n",
    "btn = widgets.Button(description='Check')\n",
    "display(btn)\n",
    "\n",
    "def btn_eventhandler(obj):\n",
    "    global kD,Sc,count\n",
    "    A = slider1.value\n",
    "    B = 10**(slider2.value)\n",
    "\n",
    "    u = np.logspace(-4, 0.25, 41)\n",
    "    fig = plt.figure(facecolor='w'); ax = fig.add_subplot()\n",
    "\n",
    "    # the Theis type curve\n",
    "    plt.plot(1/u, exp1(u), label='Theis')\n",
    "\n",
    "    # the measurements\n",
    "    r = wr.value; Q = wQ.value\n",
    "    if r <= 50:\n",
    "        plt.plot (B*df['t1']/24/60/r/r,A*df['s1'], '.', label = 'observation' )\n",
    "    else:\n",
    "        plt.plot (B*df['t2']/24/60/r/r,A*df['s2'], '.', label = 'observation' ) \n",
    "        \n",
    "    ax.set_xscale('log'); ax.set_yscale('log');\n",
    "    plt.xlabel('$1/u$ and $B \\, t/r^2$',fontsize=16); plt.ylabel('W(u) and $A \\cdot s$',fontsize=16)\n",
    "    plt.xscale('log'); plt.yscale('log');\n",
    "    plt.grid();\n",
    "    plt.legend(loc='upper left',fontsize=12);\n",
    "    T = A * Q /4 /np.pi   # print('T = {:.0f} m2/d'.format(kD))\n",
    "    S = 4 * T / B         #print('S = {:.2e} [-]'.format(S))\n",
    "    ax.text (380,0.23,'$T =%.1f m^2/d$' % (T, ),fontsize=12)\n",
    "    ax.text (380,0.15,'$S =%.2e $' % (S, ),fontsize=12)\n",
    "    ax.set_title('Pump test: Oude Korendijk, Curve Matching: Theis ', size=14); count = count+1\n",
    "    Sc = S; kD = T\n",
    "\n",
    "count = 1    \n",
    "btn.on_click(btn_eventhandler)"
   ]
  },
  {
   "cell_type": "markdown",
   "metadata": {
    "hideCode": false,
    "hidePrompt": false,
    "hide_input": true
   },
   "source": [
    "#### Single Graph\n",
    "In the following cell see the effect of the sliders updated in a single figure."
   ]
  },
  {
   "cell_type": "code",
   "execution_count": 29,
   "metadata": {
    "hideCode": false,
    "hidePrompt": false,
    "hide_input": false,
    "scrolled": false
   },
   "outputs": [
    {
     "data": {
      "application/vnd.jupyter.widget-view+json": {
       "model_id": "93c25628c8e74c24a64f2a523401b31a",
       "version_major": 2,
       "version_minor": 0
      },
      "text/plain": [
       "Button(description='Sliders', style=ButtonStyle())"
      ]
     },
     "metadata": {},
     "output_type": "display_data"
    }
   ],
   "source": [
    "from IPython.display import display\n",
    "%matplotlib notebook\n",
    "%matplotlib notebook \n",
    "global shiftx_slider, shifty_slider, shiftx_label, shifty_label\n",
    "\n",
    "def update_plot(shifty = 10, shiftx = 10):\n",
    "    plt.figure('S')\n",
    "    r = wr.value\n",
    "    if r <= 50:\n",
    "        plt.plot (10**(shiftx/10)*df['t1']/24/60/r/r,shifty/10*df['s1'],'.C1')\n",
    "    else:\n",
    "        plt.plot (10**(shiftx/10)*df['t2']/24/60/r/r,shifty/10*df['s2'],'.C1')\n",
    "        \n",
    "    plt.grid()\n",
    "    #fig.canvas.draw_idle('S')\n",
    "\n",
    "# handle shifty update\n",
    "def update_shifty(value):\n",
    "    global shiftx_slider, shifty_slider, shiftx_label, shifty_label\n",
    "    plt.figure('S')\n",
    "    r = wr.value\n",
    "    plt.plot (10**(shiftx_slider.value/10)*df['t1']/24/60/r/r,value['old']/10*df['s1'], '.', color='0.7')\n",
    "    update_plot(shifty = value['new'],shiftx = shiftx_slider.value)\n",
    "    shifty_label.value = 'A value is: ' + str(value.new/10)\n",
    "\n",
    "# handle shiftx update\n",
    "def update_shiftx(value):\n",
    "    global shiftx_slider, shifty_slider, shiftx_label, shifty_label\n",
    "    plt.figure('S')\n",
    "    r = wr.value\n",
    "    plt.plot (10**(value['old']/10)*df['t1']/24/60/r/r,shifty_slider.value/10*df['s1'], '.', color='0.7')\n",
    "    update_plot(shifty = shifty_slider.value,shiftx = value['new'])\n",
    "    shiftx_label.value = 'log10(B) value is: ' + str(value.new/10)\n",
    "\n",
    "def btn_eventhandler(obj): \n",
    "    global shiftx_slider, shifty_slider, shiftx_label, shifty_label\n",
    "    u = np.logspace(-4, 0.25, 41)\n",
    "    if plt.fignum_exists('S'):\n",
    "        #plt.figure('S')\n",
    "        plt.subplots(num='S')\n",
    "    else:\n",
    "        fig = plt.figure(num='S',figsize=(10,5)) \n",
    "        \n",
    "    ax = fig.add_subplot()\n",
    "    plt.plot(1/u, exp1(u), label='Theis')\n",
    "    ax.set_xscale('log'); ax.set_yscale('log')\n",
    "    plt.show();\n",
    "\n",
    "    # prepare widgets\n",
    "    shifty_slider = widgets.IntSlider(10, min = 1, max = 100)\n",
    "    shifty_label = widgets.Label(value = 'A value is: ' + str(shifty_slider.value/10))\n",
    "    display(shifty_slider, shifty_label)\n",
    "    shiftx_slider = widgets.IntSlider(10, min = 1, max = 100)\n",
    "    shiftx_label = widgets.Label(value = 'log10(B) value is: ' + str(shiftx_slider.value/10))\n",
    "    display(shiftx_slider, shiftx_label)    \n",
    "\n",
    "    shiftx_slider.observe(update_shiftx, names = 'value')\n",
    "    shifty_slider.observe(update_shifty, names = 'value') \n",
    "    fig.canvas.draw_idle()\n",
    "    \n",
    "btn = widgets.Button(description='Sliders')\n",
    "display(btn)   \n",
    "btn.on_click(btn_eventhandler)"
   ]
  },
  {
   "cell_type": "markdown",
   "metadata": {
    "hideCode": false,
    "hidePrompt": false
   },
   "source": [
    "Check the result for transmissivity and storativity! Run the cell to erase former results."
   ]
  },
  {
   "cell_type": "code",
   "execution_count": 30,
   "metadata": {
    "hideCode": false,
    "hidePrompt": false,
    "hide_input": true,
    "scrolled": false
   },
   "outputs": [
    {
     "data": {
      "application/vnd.jupyter.widget-view+json": {
       "model_id": "e6734746bcdf45d6894a9c8d15d98581",
       "version_major": 2,
       "version_minor": 0
      },
      "text/plain": [
       "Button(description='Check', style=ButtonStyle())"
      ]
     },
     "metadata": {},
     "output_type": "display_data"
    }
   ],
   "source": [
    "#%matplotlib inline\n",
    "%matplotlib notebook\n",
    "%matplotlib notebook\n",
    "plt.rcParams[\"figure.figsize\"] = (10,5) \n",
    "\n",
    "btn = widgets.Button(description='Check')\n",
    "display(btn)\n",
    "\n",
    "def btn_eventhandler(obj):\n",
    "    global kD,Sc,count\n",
    "    r = wr.value; Q = wQ.value\n",
    "    u = np.logspace(-4, 0.25, 41)\n",
    "    fig = plt.figure(facecolor='w'); ax = fig.add_subplot(1,1,1)\n",
    "    plt.title('Pump test: Oude Korendijk, Curve Matching: Theis ', fontsize = 14)\n",
    "    plt.plot(1/u, exp1(u), label='Theis')\n",
    "    shifty = shifty_slider.value; shiftx = shiftx_slider.value\n",
    "    if r <= 50:\n",
    "        plt.plot(10**(shiftx/10)*df['t1']/24/60/r/r,shifty/10*df['s1'],'.C1')\n",
    "    else:\n",
    "        plt.plot(10**(shiftx/10)*df['t2']/24/60/r/r,shifty/10*df['s2'],'.C1')\n",
    "        \n",
    "    plt.grid()\n",
    "    ax.set_xscale('log'); ax.set_yscale('log'); \n",
    "    plt.xlabel('$1/u$ and $B \\, t/r^2$', fontsize=12)\n",
    "    plt.ylabel('W(u) and $A \\cdot s$',fontsize=12)\n",
    "    kD = shifty_slider.value/10 * Q /4 /np.pi   # print('T = {:.0f} m2/d'.format(kD))\n",
    "    Sc = 4 * kD / 10**(shiftx_slider.value/10)         #print('S = {:.2e} [-]'.format(S))\n",
    "    ax.text (380,0.23,'$T =%.1f m^2/d$' % (kD, ),fontsize=12)\n",
    "    ax.text (380,0.15,'$S =%.2e $' % (Sc, ),fontsize=12)\n",
    "    plt.show(block=True)\n",
    "        \n",
    "btn.on_click(btn_eventhandler)    "
   ]
  },
  {
   "cell_type": "markdown",
   "metadata": {
    "hideCode": false,
    "hidePrompt": false
   },
   "source": [
    "*Note: If you re-run this cell, you have to re-run the previous one also.*"
   ]
  },
  {
   "cell_type": "markdown",
   "metadata": {
    "hideCode": false,
    "hidePrompt": false,
    "hide_input": false
   },
   "source": [
    "#### Fit Measures\n",
    "The residual is a quantitative measure for the goodness of the fit. It is defined by: "
   ]
  },
  {
   "cell_type": "markdown",
   "metadata": {
    "hideCode": false,
    "hidePrompt": false,
    "hide_input": false
   },
   "source": [
    "$$ 2-norm = \\sqrt{\\sum{(s_{obs}-s_{calc})^2}} $$"
   ]
  },
  {
   "cell_type": "markdown",
   "metadata": {
    "hideCode": false,
    "hidePrompt": false
   },
   "source": [
    "where the sum adds up the quadratic deviations over all values of the time series. $s_{obs}$ is the observed drawdown, while $s_{calc}$ denotes the drawdown calculated by the Theis formula for the optimized $T$ and $S$ values. The rssidual is thus a good measure to compare results for the same drawdown series. However, if depends on the number of observations and thus is not feasable for comparison of results from different obtained from different observation points or different pumping tests. Alternatively one may take the standard deviation, which is defined as the squareroot of the mean quadratic deviation:"
   ]
  },
  {
   "cell_type": "markdown",
   "metadata": {
    "hideCode": false,
    "hidePrompt": false,
    "hide_input": true
   },
   "source": [
    "$$ stdev = \\sqrt{mean((s_{obs}-s_{calc})^2)} $$"
   ]
  },
  {
   "cell_type": "markdown",
   "metadata": {
    "hideCode": false,
    "hidePrompt": false
   },
   "source": [
    "The standard deviation makes results from different observation points and pumping tests, at the same or different boreholes, comparable. Click the following buttons to get the measures of the fit. "
   ]
  },
  {
   "cell_type": "code",
   "execution_count": 31,
   "metadata": {
    "hideCode": false,
    "hidePrompt": false,
    "hide_input": true,
    "scrolled": false
   },
   "outputs": [
    {
     "data": {
      "application/vnd.jupyter.widget-view+json": {
       "model_id": "6dd807f3f56d4f2eb1fee4c1aa04d7ff",
       "version_major": 2,
       "version_minor": 0
      },
      "text/plain": [
       "HBox(children=(Button(description='2-norm', style=ButtonStyle()), Button(description='Standard deviation', sty…"
      ]
     },
     "metadata": {},
     "output_type": "display_data"
    }
   ],
   "source": [
    "def rescalc():\n",
    "    global kD,Sc\n",
    "    D = kD/Sc; r = wr.value; Q = wQ.value\n",
    "    if r <= 50: \n",
    "        tfit = df['t1']/24/60; sfit = df['s1']\n",
    "        tfit = tfit[:-1]; sfit = sfit[:-1]  # one entry less in time series                  \n",
    "    else:\n",
    "        tfit = df['t2']/24/60; sfit = df['s2']\n",
    "\n",
    "    u = (((r*r)/4)/D)/pd.to_numeric(tfit)\n",
    "    s = Q*exp1(u)/4/np.pi/kD\n",
    "    dev = pd.to_numeric(sfit)-s; dev2 = dev*dev\n",
    "    norms = np.sqrt(sum(dev2)) \n",
    "    stde = np.sqrt(dev2.mean())\n",
    "    return [norms,stde]\n",
    "\n",
    "def on_wres_clicked(self):   \n",
    "    [norms,stde] = rescalc()\n",
    "    display ('2-norm = %.3e for r = %.0f, T = %.1f and S = %.2e' % (norms,r,kD,Sc))\n",
    "    \n",
    "def on_wstd_clicked(self): \n",
    "    [norms,stde] = rescalc()\n",
    "    display ('stdev = %.3e for r = %.0f, T = %.1f and S = %.2e'% (stde,r,kD,Sc));\n",
    "\n",
    "wres = widgets.Button(description='2-norm')        \n",
    "wres.on_click(on_wres_clicked) \n",
    "wstd = widgets.Button(description='Standard deviation')        \n",
    "wstd.on_click(on_wstd_clicked)\n",
    "widgets.HBox([wres,wstd])   "
   ]
  },
  {
   "cell_type": "markdown",
   "metadata": {
    "hideCode": false,
    "hidePrompt": false
   },
   "source": [
    "Note that the data from the 'Distance' input field above are used for the computation.\n",
    "\n",
    "**Task**: Perform graphical evaluation using either the multi- or single graph interfaces! Check the outcome using the fit measures! Do this for both drawdown curves! "
   ]
  },
  {
   "cell_type": "markdown",
   "metadata": {
    "hideCode": false,
    "hidePrompt": false
   },
   "source": [
    "## Parameter Estimation\n",
    "\n",
    "Parameter estimation on the computer is performed using optimization algorithms. The objective is to minimize the error, i.e. the 2-norm. Such optimization is usually referred to by the term 'least squares'. In the implementation here the Nelder-Mead method is used. This is an iteration, in which it is attempted to improve the current set of parameters. Thus, in order to start the method requires an initial guess for each parameter. \n",
    "\n",
    "Optimization algorithms like Nelder-Mead (1955) do not produce resaonable values in all cases: they may not converge. Then the user should make another attempt with a different set of initial values. Moreover, these algorithms converge to local minima only. I.e., if there are several local minima, the aimed global minimum may not be found. However, in pumping test evaluations this is mostly not a problem. \n",
    "\n",
    "The mathematical methods that are demonstrated here deliver a unique solution for a given aquifer type. For the confined aquifer the method is based on the analytical Theis solution given above. For the leaky aquifer the parameter estimation is implemented on the analytical solution of Hantush. 2-norm and standard deviation provide means to compare the fits and to make the decision if leakage is an important feature for the aquifer.     "
   ]
  },
  {
   "cell_type": "markdown",
   "metadata": {
    "hideCode": false,
    "hidePrompt": false
   },
   "source": [
    "### Confined Aquifer\n",
    "\n",
    "The following implementation is a mathematical procedure of obtaining the best match with the Theis solution that was shown before. Above the two parameters $A$ and $B$ were obtained by manual fitting. While the classical evaluation required printouts on double-logarithmical paper, in the notebook that is performed by moving the sliders. However finding the best parameter combination by trial and error is not unique, as people interpret the matching differently. This subjective component is eliminated if one lets the computer find the optimal combination of parameters that minimizes the difference between the type curve and the measurements."
   ]
  },
  {
   "cell_type": "code",
   "execution_count": 32,
   "metadata": {
    "hideCode": false,
    "hidePrompt": false,
    "hide_input": true,
    "scrolled": false
   },
   "outputs": [
    {
     "data": {
      "application/vnd.jupyter.widget-view+json": {
       "model_id": "4ca3b8cc348747c9b44d13538438bce2",
       "version_major": 2,
       "version_minor": 0
      },
      "text/plain": [
       "BoundedFloatText(value=30.0, description='Distance:', max=90.0, min=30.0, step=60.0)"
      ]
     },
     "metadata": {},
     "output_type": "display_data"
    }
   ],
   "source": [
    "w2r = widgets.BoundedFloatText(value=30, min=30, max=90.0, step = 60.0, description='Distance:', disabled=False)\n",
    "w2r"
   ]
  },
  {
   "cell_type": "markdown",
   "metadata": {
    "hideCode": false,
    "hidePrompt": false,
    "hide_input": false
   },
   "source": [
    "Enter initial guesses for $T$ and $S$! The unit of transmissivity is derived from the length and time settings above. "
   ]
  },
  {
   "cell_type": "code",
   "execution_count": 33,
   "metadata": {
    "hideCode": false,
    "hidePrompt": false,
    "hide_input": true,
    "scrolled": false
   },
   "outputs": [
    {
     "data": {
      "application/vnd.jupyter.widget-view+json": {
       "model_id": "173e15f840a248bea28b00ce4644e280",
       "version_major": 2,
       "version_minor": 0
      },
      "text/plain": [
       "HBox(children=(FloatText(value=500.0, description='T:'), FloatText(value=0.0001, description='S:')))"
      ]
     },
     "metadata": {},
     "output_type": "display_data"
    }
   ],
   "source": [
    "wT = widgets.FloatText(value=500, description='T:', min=1, disabled=False)\n",
    "wS = widgets.FloatText(value=1e-4, description='S:', min=1.e-10, disabled=False)\n",
    "widgets.HBox([wT, wS])"
   ]
  },
  {
   "cell_type": "markdown",
   "metadata": {
    "hideCode": false,
    "hidePrompt": false
   },
   "source": [
    "Do the parameter estimation by running the next cell."
   ]
  },
  {
   "cell_type": "code",
   "execution_count": 34,
   "metadata": {
    "hideCode": false,
    "hidePrompt": false,
    "hide_input": true
   },
   "outputs": [
    {
     "data": {
      "application/vnd.jupyter.widget-view+json": {
       "model_id": "e47443e20b0343cc8c23d372b5d0be13",
       "version_major": 2,
       "version_minor": 0
      },
      "text/plain": [
       "VBox(children=(Button(description='Evaluate Theis', style=ButtonStyle()),))"
      ]
     },
     "metadata": {},
     "output_type": "display_data"
    }
   ],
   "source": [
    "from scipy.optimize import fmin\n",
    "Q = wQ.value; r = 30\n",
    "tfit = df['t1'].dropna()/60/24; sfit = df['s1'].dropna()\n",
    "\n",
    "def teval (t,r,T,S,Q):\n",
    "    D = T/S                             # calculate Theis solution\n",
    "    u = (((r*r)/4)/D)/t\n",
    "    s = Q*exp1(u)/4/np.pi/T\n",
    "    return s                            # drawdown \n",
    "    \n",
    "def toptim (x):  \n",
    "    global r,tfit,sfit\n",
    "    T = x[0]; S = x[1] \n",
    "    s = teval (tfit,r,T,S,Q)\n",
    "    res = (s-sfit)\n",
    "    return sum(res*res)                 # function to be minimized\n",
    "\n",
    "def on_weval1_clicked(self):            # convert input data\n",
    "    global r,df,tfit,sfit\n",
    "    print ('Oude Korendijk pumping test') \n",
    "    r = w2r.value; print ('Distance to pumping well: '+str(r))\n",
    "    T = wT.value; print ('Initial transmissivity: '+str(T)) \n",
    "    S = wS.value; print ('Initial storativity: '+str(S))\n",
    "    if r <= 50:   \n",
    "        tfit = df['t1'].dropna()/60/24; sfit = df['s1'].dropna()\n",
    "    else:\n",
    "        tfit = df['t2'].dropna()/60/24; sfit = df['s2'].dropna()                             \n",
    "\n",
    "    # parameter estimation---------------------------------------------------------\n",
    "    [Tfit,Sfit] = fmin (toptim, [T,S])\n",
    "\n",
    "    # post-processing\n",
    "    D = T/S;               #print ('D='+str(D))\n",
    "    s = teval (tfit,r,Tfit,Sfit,Q)\n",
    "    dev = sfit-s                  \n",
    "    dev2 = dev*dev; norms = np.sqrt(sum(dev2)) \n",
    "    stde = np.sqrt(dev2.mean())\n",
    "    sr=2*dev.std()                            # to compare with hytool !\n",
    "    t = np.logspace(np.log10(tfit.min()),np.log10(tfit.max()),100)\n",
    "    fig = plt.figure(facecolor='w',figsize=(10,5)); ax = fig.add_subplot()\n",
    "    ax.set_xscale('log')\n",
    "    plt.plot(tfit,sfit,'o',label = 'measured') \n",
    "    plt.plot(t,teval(t,r,Tfit,Sfit,Q),'-', label = 'calculated', lw = 2)\n",
    "    plt.xlabel('time [d]',fontsize=12); plt.ylabel('drawdown [m]',fontsize=12)\n",
    "    plt.title ('Pump test: Oude Korendijk, Parameter estimation: Theis',fontsize=14)\n",
    "    plt.grid ()\n",
    "    plt.legend (loc='upper left',fontsize=12)\n",
    "    ax.text (0.04,0.5*sfit.max(),'$T =%.1f m^2/d $' % (Tfit, ),fontsize=12)\n",
    "    ax.text (0.04,0.4*sfit.max(),'$S =%.2e $' % (Sfit, ),fontsize=12)\n",
    "    ax.text (0.04,0.3*sfit.max(),'2-norm = $%.2e $' % (norms, ),fontsize=12)\n",
    "    ax.text (0.04,0.2*sfit.max(),'$stdev = %.2e $' % (stde, ),fontsize=12)\n",
    "    ax.text (0.04,0.1*sfit.max(),'$2stdev =%.2e $' % (sr, ),fontsize=12);\n",
    "\n",
    "weval1 = widgets.Button(description='Evaluate Theis')        \n",
    "weval1.on_click(on_weval1_clicked)   \n",
    "widgets.VBox([weval1]) "
   ]
  },
  {
   "cell_type": "markdown",
   "metadata": {
    "hideCode": false,
    "hidePrompt": false
   },
   "source": [
    "Explore the sensitivity of the results when changing initial values. Check the residual and number of iterations for comparison. Do this for both observation data-sets."
   ]
  },
  {
   "cell_type": "markdown",
   "metadata": {
    "hideCode": false,
    "hidePrompt": false
   },
   "source": [
    "### Leaky Aquifer"
   ]
  },
  {
   "cell_type": "markdown",
   "metadata": {
    "hideCode": false,
    "hidePrompt": false
   },
   "source": [
    "For leaky aquifers the drawdown is given by the Hantush well function $W$, which has two arguments:"
   ]
  },
  {
   "cell_type": "markdown",
   "metadata": {
    "hideCode": false,
    "hidePrompt": false
   },
   "source": [
    "$$ s(r, t) = \\frac Q {4 \\pi T} W(u,r/\\lambda),\\,\\,\\,\\, u = \\frac {r^2 S} {4 T t}$$"
   ]
  },
  {
   "cell_type": "markdown",
   "metadata": {
    "hideCode": false,
    "hidePrompt": false
   },
   "source": [
    "with $\\lambda=\\sqrt{T\\cdot c}$, where $c$ denotes the resistance of the over-lying semipermeable layer. The physcial unit of resistance is time. The equation was derived assuming a constant source along the radial axis (Hantush & Jacob 1955). Using the more realistic boundary condition at the top of a 2D cross-section Hantush (1967) showed that the formula is a valid approximation if $D/\\lambda \\leq 0.1$.  "
   ]
  },
  {
   "cell_type": "code",
   "execution_count": 35,
   "metadata": {
    "hideCode": false,
    "hidePrompt": false,
    "hide_input": true,
    "scrolled": false
   },
   "outputs": [
    {
     "data": {
      "application/vnd.jupyter.widget-view+json": {
       "model_id": "f01bb30795034babbe7e19c401b091ba",
       "version_major": 2,
       "version_minor": 0
      },
      "text/plain": [
       "BoundedFloatText(value=30.0, description='Distance:', max=90.0, min=30.0, step=60.0)"
      ]
     },
     "metadata": {},
     "output_type": "display_data"
    }
   ],
   "source": [
    "w3r = widgets.BoundedFloatText(value=30, min=30, max=90.0, step = 60.0, description='Distance:', disabled=False)\n",
    "w3r"
   ]
  },
  {
   "cell_type": "markdown",
   "metadata": {
    "hideCode": false,
    "hidePrompt": false,
    "hide_input": true
   },
   "source": [
    "Enter initial guesses for $T$, $S$ and $c$! The physical units of transmissivity and resistance derived from the length and time settings above. "
   ]
  },
  {
   "cell_type": "code",
   "execution_count": 36,
   "metadata": {
    "hideCode": false,
    "hidePrompt": false,
    "hide_input": true,
    "scrolled": false
   },
   "outputs": [
    {
     "data": {
      "application/vnd.jupyter.widget-view+json": {
       "model_id": "66d2d31134144e1889dc6915132841de",
       "version_major": 2,
       "version_minor": 0
      },
      "text/plain": [
       "HBox(children=(FloatText(value=500.0, description='T:'), FloatText(value=0.0001, description='S:'), FloatText(…"
      ]
     },
     "metadata": {},
     "output_type": "display_data"
    }
   ],
   "source": [
    "w2T = widgets.FloatText(value=500, description='T:', min=1.e-10, disabled=False)\n",
    "w2S = widgets.FloatText(value=1e-4, description='S:', min=1.e-10, disabled=False)\n",
    "wc = widgets.FloatText(value=1e4, description='c:', min=1.e-10, disabled=False)\n",
    "widgets.HBox([w2T, w2S, wc])"
   ]
  },
  {
   "cell_type": "code",
   "execution_count": 37,
   "metadata": {
    "hideCode": false,
    "hidePrompt": false,
    "hide_input": false,
    "scrolled": false
   },
   "outputs": [
    {
     "data": {
      "application/vnd.jupyter.widget-view+json": {
       "model_id": "d91e291935cf40a99b03281900f1463b",
       "version_major": 2,
       "version_minor": 0
      },
      "text/plain": [
       "VBox(children=(Button(description='Evaluate Hantush', style=ButtonStyle()),))"
      ]
     },
     "metadata": {},
     "output_type": "display_data"
    }
   ],
   "source": [
    "from scipy.special import exp1\n",
    "from scipy.optimize import fmin\n",
    "from scipy.special import kn as BesselK\n",
    "\n",
    "Q = wQ.value; r = 30\n",
    "tfit = df['t1'].dropna()/60/24; sfit = df['s1'].dropna()\n",
    "\n",
    "def heval (t,r,T,S,c,Q):                 # calculate Hantush solution\n",
    "    T0  = np.where(T>1.e-10,T,1.e-10) \n",
    "    S0  = np.where(S>1.e-10,S,1.e-10)\n",
    "    c0  = np.where(c>1.e-10,c,1.e-10)\n",
    "    lamda = np.sqrt(T0*c0)                \n",
    "    rho = r/lamda\n",
    "    tau = np.log(2*lamda/r*t/(c0*S0))\n",
    "    s = Q/(4*np.pi*T0)*func_F(rho,tau)\n",
    "    return s                             # drawdown \n",
    "\n",
    "def ExpInt(n,u):\n",
    "    # Fast approximation for Wu according to equation 7a and 7b from Srivastava(1998)\n",
    "    gamma = 0.5772 # Euler-Macheroni constant\n",
    "    u0  = np.where(u<1.0,u,1) \n",
    "    Wu0 = np.log(np.exp(-gamma)/u0) + 0.9653*u - 0.1690*u0**2\n",
    "    u1 = np.where(u>=1.0,u,1) \n",
    "    Wu1 = 1/(u1*np.exp(u1))*(u1+0.3575)/(u1+1.280)\n",
    "    Wu = np.where(u<1.0,Wu0,Wu1)\n",
    "    return Wu\n",
    "\n",
    "def func_F(rho,tau):\n",
    "    e = exp1(rho)\n",
    "    e0 = np.where(e>0,e,1.e-10)\n",
    "    w = (e0-BesselK(0,rho))/(e0-exp1(rho/2))\n",
    "    F0 = w*exp1(rho/2*np.exp(-tau))-(w-1)*exp1(rho*np.cosh(tau))  \n",
    "    F1 = 2*BesselK(0,rho) - w*exp1(rho/2*np.exp(tau)) + (w-1)*exp1(rho*np.cosh(tau)) \n",
    "    #w = (ExpInt(1,rho)-BesselK(0,rho))/(ExpInt(1,rho)-ExpInt(1,rho/2))\n",
    "    #F0 = w*ExpInt(1,rho/2*np.exp(-tau))-(w-1)*ExpInt(1,rho*np.cosh(tau))\n",
    "    #F1 = 2*BesselK(0,rho) - w*ExpInt(1,rho/2*np.exp(tau)) + (w-1)*ExpInt(1,rho*np.cosh(tau))    \n",
    "    return (tau<=0)*F0+(tau>0)*F1   \n",
    "\n",
    "def hoptim (x):     \n",
    "    global r,tfit,sfit\n",
    "    T = x[0]; S = x[1]; c = x[2] \n",
    "    s = heval (tfit,r,T,S,c,Q)\n",
    "    res = (s-sfit)\n",
    "    return sum(res*res)                 # function to be minimized\n",
    "\n",
    "def on_weval2_clicked(self):   \n",
    "    global r,df,tfit,sfit    \n",
    "    print ('Oude Korendijk pumping test') \n",
    "    r = w3r.value; print ('Distance to pumping well: '+str(r))\n",
    "    T = w2T.value; print ('Initial transmissivity: '+str(T)) \n",
    "    S = w2S.value; print ('Initial storativity: '+str(S))\n",
    "    c = wc.value; print ('Initial resistance: '+str(c))\n",
    "\n",
    "    if r <= 50:   \n",
    "        tfit = df['t1'].dropna()/60/24; sfit = df['s1'].dropna()\n",
    "    else:\n",
    "        tfit = df['t2'].dropna()/60/24; sfit =df['s2'].dropna()  \n",
    "        \n",
    "    # parameter estimation---------------------------------------------------------\n",
    "    [Tfit,Sfit,cfit] = fmin(hoptim, [T,S,c])\n",
    "\n",
    "    # post-processing--------------------------------------------------------------   \n",
    "    D = T/S;  #print ('D='+str(D))\n",
    "    s = heval (tfit,r,Tfit,Sfit,cfit,Q)\n",
    "    dev = sfit-s \n",
    "    dev2 = dev*dev; norms = np.sqrt(sum(dev2))  \n",
    "    stde = np.sqrt(dev2.mean())\n",
    "    sr=2*dev.std()                            # to compare with hytool !\n",
    "    t = np.logspace(np.log10(tfit.min()),np.log10(tfit.max()),100)\n",
    "    fig = plt.figure(facecolor='w',figsize=(10,5)); ax = fig.add_subplot()\n",
    "    ax.set_xscale('log')\n",
    "    plt.plot(tfit,sfit,'o',label = 'measured') \n",
    "    plt.plot(t,heval(t,r,Tfit,Sfit,cfit,Q),'-', label = 'calculated', lw = 2)\n",
    "    plt.xlabel('time [d]'); plt.ylabel('drawdown [m]')\n",
    "    plt.title ('Pump test: Oude Korendijk, Parameter estimation: Hantush',fontsize=14)\n",
    "    plt.grid ()\n",
    "    plt.legend (loc='upper left',fontsize=12)\n",
    "    ax.text (0.04,0.5*sfit.max(),'$T =%.1f m^2/d $' % (Tfit, ),fontsize=12)\n",
    "    ax.text (0.04,0.4*sfit.max(),'$S =%.2e $' % (Sfit, ),fontsize=12)\n",
    "    ax.text (0.04,0.3*sfit.max(),'$c =%.0f d$' % (cfit, ),fontsize=12)\n",
    "    ax.text (0.04,0.2*sfit.max(),'$2-norm = %.2e $' % (norms, ),fontsize=12)\n",
    "    ax.text (0.04,0.1*sfit.max(),'$stdev = %.2e $' % (stde, ),fontsize=12)\n",
    "    ax.text (0.04,0,'$2stdev =%.2e $' % (sr, ),fontsize=12);\n",
    "\n",
    "weval2 = widgets.Button(description='Evaluate Hantush')        \n",
    "weval2.on_click(on_weval2_clicked)   \n",
    "widgets.VBox([weval2])"
   ]
  },
  {
   "cell_type": "markdown",
   "metadata": {
    "hideCode": false,
    "hidePrompt": false,
    "hide_input": true
   },
   "source": [
    "The test can be interpreted from the Theis or the Hantush point of view, i.e. without or with leakage from a layer with fixed head. Effects other than leakage may be relevant in a pumping test, like partial penetration of the screen in the aquifer, storage inside the well and delayed yield and, notably, any effects caused by non-linearity, such as non-constant aquifer thickness under the influence of the drawdown in water table aquifers. All such effects may play their role under various circumstances, but may initially be ignored, to be included only when the data show that it is necessary.\n",
    "\n",
    "**Task**: Perform parameter estimation based on Theis and Hantush methods! For both drawdown curves evaluate the outcomes using the fit measures and compare wiyth the results, obtained by the previously introduced methods! Is the aquifer confined or leaky? What values of $T$ and $S$, and $c$, if the aquifer is leaky, would you recommend in a report?\n",
    "\n",
    "**Task**: Based on your best estimates and depending on the aquifer thicknes, compute the hydraulic conductivity! Compare the outcome with the results from the Thiem evaluation for the unconfined aquifer!  "
   ]
  },
  {
   "cell_type": "markdown",
   "metadata": {
    "hideCode": false,
    "hidePrompt": false
   },
   "source": [
    "## Conclusion\n",
    "  \n",
    "For this notebook the pumping test performed at Oude Korendijk in the Netherlands was selected to demonstrate different basic evaluation methods. Some methods require few measured and observed data, others more. The evaluation methods based on the steady state or steady shape drawdown require few data only. More information from the aquifer is utilized, if the transient drawdown is taken into account. The introduced graphical methods include a subjective component, as people may interpret curve matchimg differently. Parameter estimation methods deliver a unique solution, which is locally optimal. Results from graphical methods can be used as initial guesses for the optimization. In that way the combination of graphical and mathematical methods ensures that the found solution delivers the best result for the characterization of the aquifer.         \n",
    "\n",
    "The input time series data are hard-wired in this notebook. In order to use the methods as implemented here in Jupyter for other pumping tests programmers may modify the data input. Python programmers may take exerpts from the notebook and use them in a programming environment. A notebook in which in user is enabled to enter data from other pumping tests can be found on the site https://github.com/eholzbe/PumpTest-evaluation.         "
   ]
  },
  {
   "cell_type": "markdown",
   "metadata": {
    "hideCode": false,
    "hidePrompt": false
   },
   "source": [
    "## Bibliography\n",
    "\n",
    "* Cooper H.H., Jacob C.E., A generalized graphical method for evaluating formation constants and summarizing well‐field history, Vol. 27(4), 526-534, 1946\n",
    "* de Glee G.J., Over grondwaterstromingen bij wateronttrekking door middel van putten, J. Waltman, Delft,  1930 (in Dutch)\n",
    "* Hantush M.S., Analysis of data from pumping tests in leaky aquifers, EOS, Vol. 37(6), 702-714, 1956\n",
    "* Hantush M.S., Flow of groundwater in relatively thick leaky aquifers, Water Res. Res., Vol. 3(2), 583-590, 1967\n",
    "* Hantush M.S., Jacob C.E., Non-steady radial flow in an infinite leaky aquifer, Trans. Am. Geophys. Union, Vol. 36, 95-100, 1955 \n",
    "* Kooper J., Beweging van het water in den bodem bij onttrekking door bronnen, De Ingenieur, Vol. 29(38), 697–706 and 29(39), 710–716, 1914 (in Dutch)\n",
    "* Krusemann G.P., de Ridder N.A., Untersuchung und Anwendung von Pumpversuchen, Verlagsges. R. Müller, Köln, 1973 (in German)\n",
    "* Kruseman G.P., de Ridder N.A., Interpretation et Discussion des Pompages d’Essai (translation from 2. ed. of 1973), Wageningen, 1974 (in French)\n",
    "* Krusemann G.P., de Ridder N.A., Analysis and evaluation of pumping test data, 2.Edition, Intern. Inst. for Land Reclamation and Improvement (ILRI), Publication 47, Wageningen, 1994, https://www.hydrology.nl/images/docs/dutch/key/Kruseman_and_De_Ridder_2000.pdf\n",
    "* Nelder, J.A., Mead R., A simplex method for function minimization, Computer Journal, Vol. 7(4), 308–313, 1965\n",
    "* Olsthoorn T., The Korendijk pumping test, https://notebook.community/Olsthoorn/TransientGroundwaterFlow/excercises_notebooks/Korendijk-ptest-theis, 2019\n",
    "* Thiem G., Hydrologische Methoden, J.M.Gebhardt, Leipzig, 1906 (in German)\n",
    "* Theis C.V., The relation between the lowering of the piezometric surface and the rate and duration of discharge of a well using ground-water storage, Transactions of the AGU, Vol. 16(2), 519-524, 1935\n",
    "* White R.W., Clebsch A., C.V. Theis - and a review of his life and work, in: Selected Contributions to Ground-Water Hydrology, US Geol. Survey Water-Supply Paper 2415, 1994, http://ponce.sdsu.edu/theis_biography.html \n",
    "* Wit K.E., De hydrologische bodemconstanten in de polder 'De Oude Korendijk' berekend uit pompproeven en laboratoriummetingen in ongeroerde monsters (The hydraulic characteristics of the Oude Korendijk polder, calculated from pumping test data and laboratory measurements of core samples), ICW Notas 190, 24p, 1963 (in Dutch)"
   ]
  },
  {
   "cell_type": "code",
   "execution_count": null,
   "metadata": {
    "hideCode": false,
    "hidePrompt": false
   },
   "outputs": [],
   "source": []
  }
 ],
 "metadata": {
  "hide_code_all_hidden": false,
  "hide_input": false,
  "kernelspec": {
   "display_name": "Python 3",
   "language": "python",
   "name": "python3"
  },
  "language_info": {
   "codemirror_mode": {
    "name": "ipython",
    "version": 3
   },
   "file_extension": ".py",
   "mimetype": "text/x-python",
   "name": "python",
   "nbconvert_exporter": "python",
   "pygments_lexer": "ipython3",
   "version": "3.7.6"
  },
  "latex_envs": {
   "LaTeX_envs_menu_present": true,
   "autoclose": false,
   "autocomplete": true,
   "bibliofile": "biblio.bib",
   "cite_by": "apalike",
   "current_citInitial": 1,
   "eqLabelWithNumbers": true,
   "eqNumInitial": 1,
   "hotkeys": {
    "equation": "Ctrl-E",
    "itemize": "Ctrl-I"
   },
   "labels_anchors": false,
   "latex_user_defs": false,
   "report_style_numbering": false,
   "user_envs_cfg": false
  },
  "toc": {
   "base_numbering": 1,
   "nav_menu": {},
   "number_sections": true,
   "sideBar": true,
   "skip_h1_title": true,
   "title_cell": "Table of Contents",
   "title_sidebar": "Contents",
   "toc_cell": true,
   "toc_position": {},
   "toc_section_display": true,
   "toc_window_display": true
  },
  "varInspector": {
   "cols": {
    "lenName": 16,
    "lenType": 16,
    "lenVar": 40
   },
   "kernels_config": {
    "python": {
     "delete_cmd_postfix": "",
     "delete_cmd_prefix": "del ",
     "library": "var_list.py",
     "varRefreshCmd": "print(var_dic_list())"
    },
    "r": {
     "delete_cmd_postfix": ") ",
     "delete_cmd_prefix": "rm(",
     "library": "var_list.r",
     "varRefreshCmd": "cat(var_dic_list()) "
    }
   },
   "position": {
    "height": "768.85px",
    "left": "838px",
    "right": "20px",
    "top": "154px",
    "width": "469px"
   },
   "types_to_exclude": [
    "module",
    "function",
    "builtin_function_or_method",
    "instance",
    "_Feature"
   ],
   "window_display": false
  }
 },
 "nbformat": 4,
 "nbformat_minor": 4
}
